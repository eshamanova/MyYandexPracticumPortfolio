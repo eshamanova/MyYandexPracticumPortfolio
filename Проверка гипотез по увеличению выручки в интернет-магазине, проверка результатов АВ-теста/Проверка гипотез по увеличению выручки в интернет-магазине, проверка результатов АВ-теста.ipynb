{
 "cells": [
  {
   "cell_type": "markdown",
   "metadata": {},
   "source": [
    "### Описание проекта\n",
    "\n",
    "Проект состоит из двух частей: <br>\n",
    "<b>Часть 1.</b> Приоритизация гипотез<br>\n",
    "<b>Часть 2.</b> Запуск A/B-теста и анализ его результатов<br><br>\n",
    "\n",
    "<b>Описание данных</b><br><br>\n",
    "<b>Данные для первой части</b><br>\n",
    "Файл /datasets/hypothesis.csv.<br>\n",
    "Hypothesis — краткое описание гипотезы;<br>\n",
    "Reach — охват пользователей по 10-балльной шкале;<br>\n",
    "Impact — влияние на пользователей по 10-балльной шкале;<br>\n",
    "Confidence — уверенность в гипотезе по 10-балльной шкале;<br>\n",
    "Efforts — затраты ресурсов на проверку гипотезы по 10-балльной шкале. Чем больше значение Efforts, тем дороже проверка гипотезы.<br><br>\n",
    "<b>Данные для второй части</b><br>\n",
    "Файл /datasets/orders.csv.<br>\n",
    "transactionId — идентификатор заказа;<br>\n",
    "visitorId — идентификатор пользователя, совершившего заказ;<br>\n",
    "date — дата, когда был совершён заказ;<br>\n",
    "revenue — выручка заказа;<br>\n",
    "group — группа A/B-теста, в которую попал заказ.<br><br>\n",
    "Файл /datasets/visitors.csv.<br>\n",
    "date — дата;<br>\n",
    "group — группа A/B-теста;<br>\n",
    "visitors — количество пользователей в указанную дату в указанной группе A/B-теста\n",
    "    "
   ]
  },
  {
   "cell_type": "markdown",
   "metadata": {},
   "source": [
    "### Часть 1. Приоритизация гипотез"
   ]
  },
  {
   "cell_type": "code",
   "execution_count": 1,
   "metadata": {},
   "outputs": [],
   "source": [
    "import pandas as pd\n",
    "import scipy.stats as stats\n",
    "import datetime as dt\n",
    "import numpy as np\n",
    "import matplotlib.pyplot as plt\n",
    "from pandas.plotting import register_matplotlib_converters\n",
    "import warnings\n",
    "register_matplotlib_converters()"
   ]
  },
  {
   "cell_type": "code",
   "execution_count": 2,
   "metadata": {},
   "outputs": [
    {
     "data": {
      "text/html": [
       "<div>\n",
       "<style scoped>\n",
       "    .dataframe tbody tr th:only-of-type {\n",
       "        vertical-align: middle;\n",
       "    }\n",
       "\n",
       "    .dataframe tbody tr th {\n",
       "        vertical-align: top;\n",
       "    }\n",
       "\n",
       "    .dataframe thead th {\n",
       "        text-align: right;\n",
       "    }\n",
       "</style>\n",
       "<table border=\"1\" class=\"dataframe\">\n",
       "  <thead>\n",
       "    <tr style=\"text-align: right;\">\n",
       "      <th></th>\n",
       "      <th>hypothesis</th>\n",
       "      <th>reach</th>\n",
       "      <th>impact</th>\n",
       "      <th>confidence</th>\n",
       "      <th>efforts</th>\n",
       "    </tr>\n",
       "  </thead>\n",
       "  <tbody>\n",
       "    <tr>\n",
       "      <th>0</th>\n",
       "      <td>Добавить два новых канала привлечения трафика,...</td>\n",
       "      <td>3</td>\n",
       "      <td>10</td>\n",
       "      <td>8</td>\n",
       "      <td>6</td>\n",
       "    </tr>\n",
       "    <tr>\n",
       "      <th>1</th>\n",
       "      <td>Запустить собственную службу доставки, что сок...</td>\n",
       "      <td>2</td>\n",
       "      <td>5</td>\n",
       "      <td>4</td>\n",
       "      <td>10</td>\n",
       "    </tr>\n",
       "    <tr>\n",
       "      <th>2</th>\n",
       "      <td>Добавить блоки рекомендаций товаров на сайт ин...</td>\n",
       "      <td>8</td>\n",
       "      <td>3</td>\n",
       "      <td>7</td>\n",
       "      <td>3</td>\n",
       "    </tr>\n",
       "    <tr>\n",
       "      <th>3</th>\n",
       "      <td>Изменить структура категорий, что увеличит кон...</td>\n",
       "      <td>8</td>\n",
       "      <td>3</td>\n",
       "      <td>3</td>\n",
       "      <td>8</td>\n",
       "    </tr>\n",
       "    <tr>\n",
       "      <th>4</th>\n",
       "      <td>Изменить цвет фона главной страницы, чтобы уве...</td>\n",
       "      <td>3</td>\n",
       "      <td>1</td>\n",
       "      <td>1</td>\n",
       "      <td>1</td>\n",
       "    </tr>\n",
       "  </tbody>\n",
       "</table>\n",
       "</div>"
      ],
      "text/plain": [
       "                                          hypothesis  reach  impact  \\\n",
       "0  Добавить два новых канала привлечения трафика,...      3      10   \n",
       "1  Запустить собственную службу доставки, что сок...      2       5   \n",
       "2  Добавить блоки рекомендаций товаров на сайт ин...      8       3   \n",
       "3  Изменить структура категорий, что увеличит кон...      8       3   \n",
       "4  Изменить цвет фона главной страницы, чтобы уве...      3       1   \n",
       "\n",
       "   confidence  efforts  \n",
       "0           8        6  \n",
       "1           4       10  \n",
       "2           7        3  \n",
       "3           3        8  \n",
       "4           1        1  "
      ]
     },
     "execution_count": 2,
     "metadata": {},
     "output_type": "execute_result"
    }
   ],
   "source": [
    "data = pd.read_csv('/datasets/hypothesis.csv', sep=',')\n",
    "data.columns = data.columns.str.lower()\n",
    "data.head(5)"
   ]
  },
  {
   "cell_type": "code",
   "execution_count": 3,
   "metadata": {},
   "outputs": [
    {
     "data": {
      "text/html": [
       "<div>\n",
       "<style scoped>\n",
       "    .dataframe tbody tr th:only-of-type {\n",
       "        vertical-align: middle;\n",
       "    }\n",
       "\n",
       "    .dataframe tbody tr th {\n",
       "        vertical-align: top;\n",
       "    }\n",
       "\n",
       "    .dataframe thead th {\n",
       "        text-align: right;\n",
       "    }\n",
       "</style>\n",
       "<table border=\"1\" class=\"dataframe\">\n",
       "  <thead>\n",
       "    <tr style=\"text-align: right;\">\n",
       "      <th></th>\n",
       "      <th>hypothesis</th>\n",
       "      <th>ICE</th>\n",
       "    </tr>\n",
       "  </thead>\n",
       "  <tbody>\n",
       "    <tr>\n",
       "      <th>8</th>\n",
       "      <td>Запустить акцию, дающую скидку на товар в день рождения</td>\n",
       "      <td>16.200000</td>\n",
       "    </tr>\n",
       "    <tr>\n",
       "      <th>0</th>\n",
       "      <td>Добавить два новых канала привлечения трафика, что позволит привлекать на 30% больше пользователей</td>\n",
       "      <td>13.333333</td>\n",
       "    </tr>\n",
       "    <tr>\n",
       "      <th>7</th>\n",
       "      <td>Добавить форму подписки на все основные страницы, чтобы собрать базу клиентов для email-рассылок</td>\n",
       "      <td>11.200000</td>\n",
       "    </tr>\n",
       "    <tr>\n",
       "      <th>6</th>\n",
       "      <td>Показать на главной странице баннеры с актуальными акциями и распродажами, чтобы увеличить конверсию</td>\n",
       "      <td>8.000000</td>\n",
       "    </tr>\n",
       "    <tr>\n",
       "      <th>2</th>\n",
       "      <td>Добавить блоки рекомендаций товаров на сайт интернет магазина, чтобы повысить конверсию и средний чек заказа</td>\n",
       "      <td>7.000000</td>\n",
       "    </tr>\n",
       "    <tr>\n",
       "      <th>1</th>\n",
       "      <td>Запустить собственную службу доставки, что сократит срок доставки заказов</td>\n",
       "      <td>2.000000</td>\n",
       "    </tr>\n",
       "    <tr>\n",
       "      <th>5</th>\n",
       "      <td>Добавить страницу отзывов клиентов о магазине, что позволит увеличить количество заказов</td>\n",
       "      <td>1.333333</td>\n",
       "    </tr>\n",
       "    <tr>\n",
       "      <th>3</th>\n",
       "      <td>Изменить структура категорий, что увеличит конверсию, т.к. пользователи быстрее найдут нужный товар</td>\n",
       "      <td>1.125000</td>\n",
       "    </tr>\n",
       "    <tr>\n",
       "      <th>4</th>\n",
       "      <td>Изменить цвет фона главной страницы, чтобы увеличить вовлеченность пользователей</td>\n",
       "      <td>1.000000</td>\n",
       "    </tr>\n",
       "  </tbody>\n",
       "</table>\n",
       "</div>"
      ],
      "text/plain": [
       "                                                                                                     hypothesis  \\\n",
       "8                                                       Запустить акцию, дающую скидку на товар в день рождения   \n",
       "0            Добавить два новых канала привлечения трафика, что позволит привлекать на 30% больше пользователей   \n",
       "7              Добавить форму подписки на все основные страницы, чтобы собрать базу клиентов для email-рассылок   \n",
       "6          Показать на главной странице баннеры с актуальными акциями и распродажами, чтобы увеличить конверсию   \n",
       "2  Добавить блоки рекомендаций товаров на сайт интернет магазина, чтобы повысить конверсию и средний чек заказа   \n",
       "1                                     Запустить собственную службу доставки, что сократит срок доставки заказов   \n",
       "5                      Добавить страницу отзывов клиентов о магазине, что позволит увеличить количество заказов   \n",
       "3           Изменить структура категорий, что увеличит конверсию, т.к. пользователи быстрее найдут нужный товар   \n",
       "4                              Изменить цвет фона главной страницы, чтобы увеличить вовлеченность пользователей   \n",
       "\n",
       "         ICE  \n",
       "8  16.200000  \n",
       "0  13.333333  \n",
       "7  11.200000  \n",
       "6   8.000000  \n",
       "2   7.000000  \n",
       "1   2.000000  \n",
       "5   1.333333  \n",
       "3   1.125000  \n",
       "4   1.000000  "
      ]
     },
     "metadata": {},
     "output_type": "display_data"
    }
   ],
   "source": [
    "#Примените фреймворк ICE для приоритизации гипотез. Отсортируйте их по убыванию приоритета.\n",
    "\n",
    "data['ICE'] = data['impact'] * data['confidence'] / data['efforts']\n",
    "pd.options.display.max_colwidth = None\n",
    "display(data[['hypothesis', 'ICE']].sort_values(by='ICE', ascending=False))\n"
   ]
  },
  {
   "cell_type": "code",
   "execution_count": 4,
   "metadata": {},
   "outputs": [
    {
     "data": {
      "text/html": [
       "<div>\n",
       "<style scoped>\n",
       "    .dataframe tbody tr th:only-of-type {\n",
       "        vertical-align: middle;\n",
       "    }\n",
       "\n",
       "    .dataframe tbody tr th {\n",
       "        vertical-align: top;\n",
       "    }\n",
       "\n",
       "    .dataframe thead th {\n",
       "        text-align: right;\n",
       "    }\n",
       "</style>\n",
       "<table border=\"1\" class=\"dataframe\">\n",
       "  <thead>\n",
       "    <tr style=\"text-align: right;\">\n",
       "      <th></th>\n",
       "      <th>hypothesis</th>\n",
       "      <th>RICE</th>\n",
       "    </tr>\n",
       "  </thead>\n",
       "  <tbody>\n",
       "    <tr>\n",
       "      <th>7</th>\n",
       "      <td>Добавить форму подписки на все основные страницы, чтобы собрать базу клиентов для email-рассылок</td>\n",
       "      <td>112.0</td>\n",
       "    </tr>\n",
       "    <tr>\n",
       "      <th>2</th>\n",
       "      <td>Добавить блоки рекомендаций товаров на сайт интернет магазина, чтобы повысить конверсию и средний чек заказа</td>\n",
       "      <td>56.0</td>\n",
       "    </tr>\n",
       "    <tr>\n",
       "      <th>0</th>\n",
       "      <td>Добавить два новых канала привлечения трафика, что позволит привлекать на 30% больше пользователей</td>\n",
       "      <td>40.0</td>\n",
       "    </tr>\n",
       "    <tr>\n",
       "      <th>6</th>\n",
       "      <td>Показать на главной странице баннеры с актуальными акциями и распродажами, чтобы увеличить конверсию</td>\n",
       "      <td>40.0</td>\n",
       "    </tr>\n",
       "    <tr>\n",
       "      <th>8</th>\n",
       "      <td>Запустить акцию, дающую скидку на товар в день рождения</td>\n",
       "      <td>16.2</td>\n",
       "    </tr>\n",
       "    <tr>\n",
       "      <th>3</th>\n",
       "      <td>Изменить структура категорий, что увеличит конверсию, т.к. пользователи быстрее найдут нужный товар</td>\n",
       "      <td>9.0</td>\n",
       "    </tr>\n",
       "    <tr>\n",
       "      <th>1</th>\n",
       "      <td>Запустить собственную службу доставки, что сократит срок доставки заказов</td>\n",
       "      <td>4.0</td>\n",
       "    </tr>\n",
       "    <tr>\n",
       "      <th>5</th>\n",
       "      <td>Добавить страницу отзывов клиентов о магазине, что позволит увеличить количество заказов</td>\n",
       "      <td>4.0</td>\n",
       "    </tr>\n",
       "    <tr>\n",
       "      <th>4</th>\n",
       "      <td>Изменить цвет фона главной страницы, чтобы увеличить вовлеченность пользователей</td>\n",
       "      <td>3.0</td>\n",
       "    </tr>\n",
       "  </tbody>\n",
       "</table>\n",
       "</div>"
      ],
      "text/plain": [
       "                                                                                                     hypothesis  \\\n",
       "7              Добавить форму подписки на все основные страницы, чтобы собрать базу клиентов для email-рассылок   \n",
       "2  Добавить блоки рекомендаций товаров на сайт интернет магазина, чтобы повысить конверсию и средний чек заказа   \n",
       "0            Добавить два новых канала привлечения трафика, что позволит привлекать на 30% больше пользователей   \n",
       "6          Показать на главной странице баннеры с актуальными акциями и распродажами, чтобы увеличить конверсию   \n",
       "8                                                       Запустить акцию, дающую скидку на товар в день рождения   \n",
       "3           Изменить структура категорий, что увеличит конверсию, т.к. пользователи быстрее найдут нужный товар   \n",
       "1                                     Запустить собственную службу доставки, что сократит срок доставки заказов   \n",
       "5                      Добавить страницу отзывов клиентов о магазине, что позволит увеличить количество заказов   \n",
       "4                              Изменить цвет фона главной страницы, чтобы увеличить вовлеченность пользователей   \n",
       "\n",
       "    RICE  \n",
       "7  112.0  \n",
       "2   56.0  \n",
       "0   40.0  \n",
       "6   40.0  \n",
       "8   16.2  \n",
       "3    9.0  \n",
       "1    4.0  \n",
       "5    4.0  \n",
       "4    3.0  "
      ]
     },
     "metadata": {},
     "output_type": "display_data"
    }
   ],
   "source": [
    "#Примените фреймворк RICE для приоритизации гипотез. Отсортируйте их по убыванию приоритета.\n",
    "\n",
    "data['RICE'] = data['reach'] * data['impact'] * data['confidence'] / data['efforts']\n",
    "\n",
    "display(data[['hypothesis', 'RICE']].sort_values(by='RICE', ascending=False))"
   ]
  },
  {
   "cell_type": "markdown",
   "metadata": {},
   "source": [
    "<div class=\"alert alert-info\">При применение RICE вместо ICE приоритизация гипотез изменилась: гипотеза \"Запустить акцию, дающую скидку на товар в день рождения\", стоявшая на первом месте после применения ICE опустилась на 4 место, а \"Добавить блоки рекомендаций товаров на сайт интернет магазина, чтобы повысить конверсию и средний чек заказа\" поднялась с 5 на 2 место по приоритетности<br><br>\n",
    "    \n",
    "Это связано с тем, что при расчёте RICE используется параметр Reach — охват пользователей по 10-балльной шкале. Чем больше значение Reach, тем выше приоритет гипотезы. \n",
    "</div>"
   ]
  },
  {
   "cell_type": "code",
   "execution_count": 5,
   "metadata": {},
   "outputs": [
    {
     "data": {
      "image/png": "[encoded data removed]",
      "text/plain": [
       "<Figure size 720x720 with 1 Axes>"
      ]
     },
     "metadata": {
      "needs_background": "light"
     },
     "output_type": "display_data"
    }
   ],
   "source": [
    "y = data['ICE'] \n",
    "z = data['RICE'] \n",
    "n = data.index \n",
    "\n",
    "fig, ax = plt.subplots()\n",
    "ax.scatter(z, y)\n",
    "\n",
    "for i, txt in enumerate(n):\n",
    "    ax.annotate(txt, (z[i], y[i]), size=30)\n",
    "\n",
    "plt.title(\"ICE and RICE гипотезы\") \n",
    "plt.xlabel(\"RICE\") \n",
    "plt.ylabel(\"ICE\")\n",
    "\n",
    "fig.set_figheight(10)\n",
    "fig.set_figwidth(10) \n",
    "plt.show()"
   ]
  },
  {
   "cell_type": "markdown",
   "metadata": {},
   "source": [
    "### Часть 2. Анализ A/B-теста\n"
   ]
  },
  {
   "cell_type": "code",
   "execution_count": 6,
   "metadata": {},
   "outputs": [
    {
     "data": {
      "text/html": [
       "<div>\n",
       "<style scoped>\n",
       "    .dataframe tbody tr th:only-of-type {\n",
       "        vertical-align: middle;\n",
       "    }\n",
       "\n",
       "    .dataframe tbody tr th {\n",
       "        vertical-align: top;\n",
       "    }\n",
       "\n",
       "    .dataframe thead th {\n",
       "        text-align: right;\n",
       "    }\n",
       "</style>\n",
       "<table border=\"1\" class=\"dataframe\">\n",
       "  <thead>\n",
       "    <tr style=\"text-align: right;\">\n",
       "      <th></th>\n",
       "      <th>transactionId</th>\n",
       "      <th>visitorId</th>\n",
       "      <th>date</th>\n",
       "      <th>revenue</th>\n",
       "      <th>group</th>\n",
       "    </tr>\n",
       "  </thead>\n",
       "  <tbody>\n",
       "    <tr>\n",
       "      <th>0</th>\n",
       "      <td>3667963787</td>\n",
       "      <td>3312258926</td>\n",
       "      <td>2019-08-15</td>\n",
       "      <td>1650</td>\n",
       "      <td>B</td>\n",
       "    </tr>\n",
       "    <tr>\n",
       "      <th>1</th>\n",
       "      <td>2804400009</td>\n",
       "      <td>3642806036</td>\n",
       "      <td>2019-08-15</td>\n",
       "      <td>730</td>\n",
       "      <td>B</td>\n",
       "    </tr>\n",
       "    <tr>\n",
       "      <th>2</th>\n",
       "      <td>2961555356</td>\n",
       "      <td>4069496402</td>\n",
       "      <td>2019-08-15</td>\n",
       "      <td>400</td>\n",
       "      <td>A</td>\n",
       "    </tr>\n",
       "    <tr>\n",
       "      <th>3</th>\n",
       "      <td>3797467345</td>\n",
       "      <td>1196621759</td>\n",
       "      <td>2019-08-15</td>\n",
       "      <td>9759</td>\n",
       "      <td>B</td>\n",
       "    </tr>\n",
       "    <tr>\n",
       "      <th>4</th>\n",
       "      <td>2282983706</td>\n",
       "      <td>2322279887</td>\n",
       "      <td>2019-08-15</td>\n",
       "      <td>2308</td>\n",
       "      <td>B</td>\n",
       "    </tr>\n",
       "    <tr>\n",
       "      <th>5</th>\n",
       "      <td>182168103</td>\n",
       "      <td>935554773</td>\n",
       "      <td>2019-08-15</td>\n",
       "      <td>2210</td>\n",
       "      <td>B</td>\n",
       "    </tr>\n",
       "    <tr>\n",
       "      <th>6</th>\n",
       "      <td>398296753</td>\n",
       "      <td>2900797465</td>\n",
       "      <td>2019-08-15</td>\n",
       "      <td>1860</td>\n",
       "      <td>B</td>\n",
       "    </tr>\n",
       "    <tr>\n",
       "      <th>7</th>\n",
       "      <td>2626614568</td>\n",
       "      <td>78758296</td>\n",
       "      <td>2019-08-15</td>\n",
       "      <td>1044</td>\n",
       "      <td>A</td>\n",
       "    </tr>\n",
       "    <tr>\n",
       "      <th>8</th>\n",
       "      <td>1576988021</td>\n",
       "      <td>295230930</td>\n",
       "      <td>2019-08-15</td>\n",
       "      <td>13710</td>\n",
       "      <td>A</td>\n",
       "    </tr>\n",
       "    <tr>\n",
       "      <th>9</th>\n",
       "      <td>1506739906</td>\n",
       "      <td>1882260405</td>\n",
       "      <td>2019-08-15</td>\n",
       "      <td>1855</td>\n",
       "      <td>B</td>\n",
       "    </tr>\n",
       "  </tbody>\n",
       "</table>\n",
       "</div>"
      ],
      "text/plain": [
       "   transactionId   visitorId        date  revenue group\n",
       "0     3667963787  3312258926  2019-08-15     1650     B\n",
       "1     2804400009  3642806036  2019-08-15      730     B\n",
       "2     2961555356  4069496402  2019-08-15      400     A\n",
       "3     3797467345  1196621759  2019-08-15     9759     B\n",
       "4     2282983706  2322279887  2019-08-15     2308     B\n",
       "5      182168103   935554773  2019-08-15     2210     B\n",
       "6      398296753  2900797465  2019-08-15     1860     B\n",
       "7     2626614568    78758296  2019-08-15     1044     A\n",
       "8     1576988021   295230930  2019-08-15    13710     A\n",
       "9     1506739906  1882260405  2019-08-15     1855     B"
      ]
     },
     "metadata": {},
     "output_type": "display_data"
    },
    {
     "data": {
      "text/html": [
       "<div>\n",
       "<style scoped>\n",
       "    .dataframe tbody tr th:only-of-type {\n",
       "        vertical-align: middle;\n",
       "    }\n",
       "\n",
       "    .dataframe tbody tr th {\n",
       "        vertical-align: top;\n",
       "    }\n",
       "\n",
       "    .dataframe thead th {\n",
       "        text-align: right;\n",
       "    }\n",
       "</style>\n",
       "<table border=\"1\" class=\"dataframe\">\n",
       "  <thead>\n",
       "    <tr style=\"text-align: right;\">\n",
       "      <th></th>\n",
       "      <th>date</th>\n",
       "      <th>group</th>\n",
       "      <th>visitors</th>\n",
       "    </tr>\n",
       "  </thead>\n",
       "  <tbody>\n",
       "    <tr>\n",
       "      <th>0</th>\n",
       "      <td>2019-08-01</td>\n",
       "      <td>A</td>\n",
       "      <td>719</td>\n",
       "    </tr>\n",
       "    <tr>\n",
       "      <th>1</th>\n",
       "      <td>2019-08-02</td>\n",
       "      <td>A</td>\n",
       "      <td>619</td>\n",
       "    </tr>\n",
       "    <tr>\n",
       "      <th>2</th>\n",
       "      <td>2019-08-03</td>\n",
       "      <td>A</td>\n",
       "      <td>507</td>\n",
       "    </tr>\n",
       "    <tr>\n",
       "      <th>3</th>\n",
       "      <td>2019-08-04</td>\n",
       "      <td>A</td>\n",
       "      <td>717</td>\n",
       "    </tr>\n",
       "    <tr>\n",
       "      <th>4</th>\n",
       "      <td>2019-08-05</td>\n",
       "      <td>A</td>\n",
       "      <td>756</td>\n",
       "    </tr>\n",
       "    <tr>\n",
       "      <th>5</th>\n",
       "      <td>2019-08-06</td>\n",
       "      <td>A</td>\n",
       "      <td>667</td>\n",
       "    </tr>\n",
       "    <tr>\n",
       "      <th>6</th>\n",
       "      <td>2019-08-07</td>\n",
       "      <td>A</td>\n",
       "      <td>644</td>\n",
       "    </tr>\n",
       "    <tr>\n",
       "      <th>7</th>\n",
       "      <td>2019-08-08</td>\n",
       "      <td>A</td>\n",
       "      <td>610</td>\n",
       "    </tr>\n",
       "    <tr>\n",
       "      <th>8</th>\n",
       "      <td>2019-08-09</td>\n",
       "      <td>A</td>\n",
       "      <td>617</td>\n",
       "    </tr>\n",
       "    <tr>\n",
       "      <th>9</th>\n",
       "      <td>2019-08-10</td>\n",
       "      <td>A</td>\n",
       "      <td>406</td>\n",
       "    </tr>\n",
       "  </tbody>\n",
       "</table>\n",
       "</div>"
      ],
      "text/plain": [
       "         date group  visitors\n",
       "0  2019-08-01     A       719\n",
       "1  2019-08-02     A       619\n",
       "2  2019-08-03     A       507\n",
       "3  2019-08-04     A       717\n",
       "4  2019-08-05     A       756\n",
       "5  2019-08-06     A       667\n",
       "6  2019-08-07     A       644\n",
       "7  2019-08-08     A       610\n",
       "8  2019-08-09     A       617\n",
       "9  2019-08-10     A       406"
      ]
     },
     "metadata": {},
     "output_type": "display_data"
    },
    {
     "name": "stdout",
     "output_type": "stream",
     "text": [
      "Количество дубликатов в таблице orders:  0\n",
      "Количество дубликатов в таблице visitors:  0\n"
     ]
    }
   ],
   "source": [
    "orders = pd.read_csv('/datasets/orders.csv', sep=',')\n",
    "visitors = pd.read_csv('/datasets/visitors.csv', sep=',')\n",
    "display(orders.head(10))\n",
    "display(visitors.head(10))\n",
    "print('Количество дубликатов в таблице orders: ', orders.duplicated().sum())\n",
    "print('Количество дубликатов в таблице visitors: ', visitors.duplicated().sum())"
   ]
  },
  {
   "cell_type": "code",
   "execution_count": 7,
   "metadata": {},
   "outputs": [
    {
     "data": {
      "text/plain": [
       "58"
      ]
     },
     "metadata": {},
     "output_type": "display_data"
    }
   ],
   "source": [
    "orders_a = orders.query('group == \"A\"')\n",
    "orders_b = orders.query('group == \"B\"')\n",
    "\n",
    "orders_id = orders_a.merge(orders_b, on='visitorId', how='inner') \n",
    "\n",
    "id_list = orders_id['visitorId'].unique()\n",
    "\n",
    "#display(id_list)\n",
    "display(len(id_list))\n",
    "\n",
    "\n",
    "orders = orders[~orders['visitorId'].isin(id_list)]"
   ]
  },
  {
   "cell_type": "markdown",
   "metadata": {},
   "source": [
    "#### Строим график кумулятивной выручки по группам"
   ]
  },
  {
   "cell_type": "code",
   "execution_count": 8,
   "metadata": {},
   "outputs": [
    {
     "data": {
      "image/png": "[encoded data removed]",
      "text/plain": [
       "<Figure size 864x504 with 1 Axes>"
      ]
     },
     "metadata": {
      "needs_background": "light"
     },
     "output_type": "display_data"
    }
   ],
   "source": [
    "orders['date'] = orders['date'].map(\n",
    "    lambda x: dt.datetime.strptime(x, '%Y-%m-%d')\n",
    ")\n",
    "\n",
    "visitors['date'] = visitors['date'].map(\n",
    "    lambda x: dt.datetime.strptime(x, '%Y-%m-%d')\n",
    ")\n",
    "\n",
    "datesGroups = orders[['date', 'group']].drop_duplicates()\n",
    "\n",
    "ordersAggregated = datesGroups.apply(\n",
    "    lambda x: orders[\n",
    "        np.logical_and(\n",
    "            orders['date'] <= x['date'], orders['group'] == x['group']\n",
    "        )\n",
    "    ].agg(\n",
    "        {\n",
    "            'date': 'max',\n",
    "            'group': 'max',\n",
    "            'transactionId': 'nunique',\n",
    "            'visitorId': 'nunique',\n",
    "            'revenue': 'sum',\n",
    "        }\n",
    "    ),\n",
    "    axis=1,\n",
    ").sort_values(by=['date', 'group'])\n",
    "\n",
    "visitorsAggregated = datesGroups.apply(\n",
    "    lambda x: visitors[\n",
    "        np.logical_and(\n",
    "            visitors['date'] <= x['date'], visitors['group'] == x['group']\n",
    "        )\n",
    "    ].agg({'date': 'max', 'group': 'max', 'visitors': 'sum'}),\n",
    "    axis=1,\n",
    ").sort_values(by=['date', 'group'])\n",
    "\n",
    "cumulativeData = ordersAggregated.merge(\n",
    "    visitorsAggregated, left_on=['date', 'group'], right_on=['date', 'group']\n",
    ")\n",
    "cumulativeData.columns = [\n",
    "    'date',\n",
    "    'group',\n",
    "    'orders',\n",
    "    'buyers',\n",
    "    'revenue',\n",
    "    'visitors',\n",
    "]\n",
    "\n",
    "\n",
    "# датафрейм с кумулятивным количеством заказов и кумулятивной выручкой по дням в группе А\n",
    "cumulativeRevenueA = cumulativeData[cumulativeData['group']=='A'][['date','revenue', 'orders']]\n",
    "\n",
    "# датафрейм с кумулятивным количеством заказов и кумулятивной выручкой по дням в группе B\n",
    "cumulativeRevenueB = cumulativeData[cumulativeData['group']=='B'][['date','revenue', 'orders']]\n",
    "\n",
    "# Строим график выручки группы А\n",
    "plt.figure(figsize=(12,7))\n",
    "plt.plot(cumulativeRevenueA['date'], cumulativeRevenueA['revenue'], label='A')\n",
    "\n",
    "# Строим график выручки группы B\n",
    "plt.plot(cumulativeRevenueB['date'], cumulativeRevenueB['revenue'], label='B')\n",
    "\n",
    "\n",
    "plt.legend()\n",
    "plt.title('График кумулятивной выручки по группам')\n",
    "plt.xlabel('Дата')\n",
    "plt.ylabel('Кумулятивная выручка')\n",
    "plt.show()"
   ]
  },
  {
   "cell_type": "markdown",
   "metadata": {},
   "source": [
    "<div class=\"alert alert-info\"> \n",
    "Выручка почти равномерно увеличивается в течение всего теста.<br>\n",
    "Однако графики выручки обеих групп в нескольких точках резко растут. Это может сигнализировать о всплесках числа заказов, либо о появлении очень дорогих заказов в выборке. Такие выбросы проанализируем далее.    \n",
    " \n",
    "</div>"
   ]
  },
  {
   "cell_type": "markdown",
   "metadata": {},
   "source": [
    "#### Строим график кумулятивного среднего чека по группам"
   ]
  },
  {
   "cell_type": "code",
   "execution_count": 9,
   "metadata": {
    "scrolled": true
   },
   "outputs": [
    {
     "data": {
      "image/png": "[encoded data removed]",
      "text/plain": [
       "<Figure size 864x504 with 1 Axes>"
      ]
     },
     "metadata": {
      "needs_background": "light"
     },
     "output_type": "display_data"
    }
   ],
   "source": [
    "plt.figure(figsize=(12,7))\n",
    "plt.plot(cumulativeRevenueA['date'], cumulativeRevenueA['revenue']/cumulativeRevenueA['orders'], label='A')\n",
    "plt.plot(cumulativeRevenueB['date'], cumulativeRevenueB['revenue']/cumulativeRevenueB['orders'], label='B')\n",
    "plt.legend()\n",
    "plt.title('График кумулятивного среднего чека по группам')\n",
    "plt.xlabel('Дата')\n",
    "plt.ylabel('Кумулятивный средний чек')\n",
    "plt.show()"
   ]
  },
  {
   "cell_type": "markdown",
   "metadata": {},
   "source": [
    "<div class=\"alert alert-info\"> \n",
    "Средний чек тоже становится равномерным ближе к концу теста: установился для группы A и продолжает падать для группы B. Возможно, в группу B в середине теста попали крупные заказы (резкий всплеск на графике). Тогда ей нужно больше данных, чтобы прийти к реальному среднему чеку и установиться на его уровне.    \n",
    " \n",
    "</div>"
   ]
  },
  {
   "cell_type": "markdown",
   "metadata": {},
   "source": [
    "#### Строим график относительного изменения кумулятивного среднего чека группы B к группе A"
   ]
  },
  {
   "cell_type": "code",
   "execution_count": 10,
   "metadata": {},
   "outputs": [
    {
     "data": {
      "image/png": "[encoded data removed]",
      "text/plain": [
       "<Figure size 864x504 with 1 Axes>"
      ]
     },
     "metadata": {
      "needs_background": "light"
     },
     "output_type": "display_data"
    }
   ],
   "source": [
    "# собираем данные в одном датафрейме\n",
    "mergedCumulativeRevenue = cumulativeRevenueA.merge(cumulativeRevenueB, left_on='date', right_on='date', how='left', suffixes=['A', 'B'])\n",
    "\n",
    "# cтроим отношение средних чеков\n",
    "plt.figure(figsize=(12,7))\n",
    "plt.plot(mergedCumulativeRevenue['date'], (mergedCumulativeRevenue['revenueB']/mergedCumulativeRevenue['ordersB'])/(mergedCumulativeRevenue['revenueA']/mergedCumulativeRevenue['ordersA'])-1)\n",
    "\n",
    "# добавляем ось X\n",
    "plt.axhline(y=0, color='black', linestyle='--')\n",
    "\n",
    "plt.title('График относительного изменения кумулятивного среднего чека группы B к группе A')\n",
    "plt.xlabel('Дата')\n",
    "plt.ylabel('Отношение кумулятивного среднего чека группы А к группе В')\n",
    "\n",
    "plt.show()"
   ]
  },
  {
   "cell_type": "markdown",
   "metadata": {},
   "source": [
    "<div class=\"alert alert-info\"> В нескольких точках график различия между сегментами резко «скачет». Где-то точно есть выбросы, проверим их в дальнейшем.\n",
    "    \n",
    " \n",
    "</div>"
   ]
  },
  {
   "cell_type": "markdown",
   "metadata": {},
   "source": [
    "#### Cтроим график кумулятивной конверсии по группам"
   ]
  },
  {
   "cell_type": "code",
   "execution_count": 11,
   "metadata": {},
   "outputs": [
    {
     "data": {
      "image/png": "[encoded data removed]",
      "text/plain": [
       "<Figure size 864x504 with 1 Axes>"
      ]
     },
     "metadata": {
      "needs_background": "light"
     },
     "output_type": "display_data"
    }
   ],
   "source": [
    "# считаем кумулятивную конверсию\n",
    "cumulativeData['conversion'] = cumulativeData['orders']/cumulativeData['visitors']\n",
    "\n",
    "# отделяем данные по группе A\n",
    "cumulativeDataA = cumulativeData[cumulativeData['group']=='A']\n",
    "\n",
    "# отделяем данные по группе B\n",
    "cumulativeDataB = cumulativeData[cumulativeData['group']=='B']\n",
    "\n",
    "# строим графики\n",
    "plt.figure(figsize=(12,7))\n",
    "plt.plot(cumulativeDataA['date'], cumulativeDataA['conversion'], label='A')\n",
    "plt.plot(cumulativeDataB['date'], cumulativeDataB['conversion'], label='B')\n",
    "plt.legend()\n",
    "\n",
    "# задаем масштаб осей\n",
    "plt.axis([\"2019-08-01\", '2019-09-01', 0.02, 0.04])\n",
    "plt.title('График кумулятивной конверсии по группам')\n",
    "plt.xlabel('Дата')\n",
    "plt.ylabel('Кумулятивная конверсия')\n",
    "\n",
    "plt.show()"
   ]
  },
  {
   "cell_type": "markdown",
   "metadata": {},
   "source": [
    "<div class=\"alert alert-info\">\n",
    "График выглядит симметричным. Конверсии обеих групп колебались в начале, но затем выровнялись и запараллелились. Конверсия группы B стабильно выше.\n",
    " \n",
    "</div>"
   ]
  },
  {
   "cell_type": "markdown",
   "metadata": {},
   "source": [
    "#### Строим график относительного изменения кумулятивной конверсии группы B к группе A"
   ]
  },
  {
   "cell_type": "code",
   "execution_count": 12,
   "metadata": {},
   "outputs": [
    {
     "data": {
      "image/png": "[encoded data removed]",
      "text/plain": [
       "<Figure size 864x504 with 1 Axes>"
      ]
     },
     "metadata": {
      "needs_background": "light"
     },
     "output_type": "display_data"
    }
   ],
   "source": [
    "mergedCumulativeConversions = cumulativeDataA[['date','conversion']].merge(cumulativeDataB[['date','conversion']], left_on='date', right_on='date', how='left', suffixes=['A', 'B'])\n",
    "\n",
    "plt.figure(figsize=(12,7))\n",
    "plt.plot(mergedCumulativeConversions['date'], mergedCumulativeConversions['conversionB']/mergedCumulativeConversions['conversionA']-1, label=\"Относительный прирост конверсии группы B относительно группы A\")\n",
    "plt.legend()\n",
    "\n",
    "plt.axhline(y=0, color='black', linestyle='--')\n",
    "plt.axhline(y=0.1, color='grey', linestyle='--')\n",
    "plt.axis([\"2019-08-01\", '2019-09-01', -0.2, 0.4])\n",
    "plt.title('График относительного изменения кумулятивной конверсии группы B к группе A')\n",
    "plt.xlabel('Дата')\n",
    "plt.ylabel('Относительная кумулятивная конверсия группы B к группе A')\n",
    "plt.show()"
   ]
  },
  {
   "cell_type": "markdown",
   "metadata": {},
   "source": [
    "<div class=\"alert alert-info\"> В начале теста группа В вырвалась вперёд, затем было резкое снижение и снова стремительный рост конверсии по отношению к группе А. Позже показатель, колеблясь, несколько снизился, а затем снова пошёл на рост.\n",
    "    \n",
    " \n",
    "</div>"
   ]
  },
  {
   "cell_type": "markdown",
   "metadata": {},
   "source": [
    "#### Строим точечный график количества заказов по пользователям"
   ]
  },
  {
   "cell_type": "code",
   "execution_count": 13,
   "metadata": {},
   "outputs": [
    {
     "data": {
      "image/png": "[encoded data removed]",
      "text/plain": [
       "<Figure size 432x288 with 1 Axes>"
      ]
     },
     "metadata": {
      "needs_background": "light"
     },
     "output_type": "display_data"
    }
   ],
   "source": [
    "ordersByUsers = (\n",
    "    orders.groupby('visitorId', as_index=False)\n",
    "    .agg({'transactionId': 'nunique'})\n",
    ")\n",
    "\n",
    "ordersByUsers.columns = ['visitorId', 'orders']\n",
    "\n",
    "x_values = pd.Series(range(0,len(ordersByUsers)))\n",
    "\n",
    "plt.scatter(x_values, ordersByUsers['orders'])\n",
    "\n",
    "plt.title('График количества заказов по пользователям')\n",
    "plt.xlabel('Количество пользователей')\n",
    "plt.ylabel('Количество заказов')\n",
    "plt.show()"
   ]
  },
  {
   "cell_type": "markdown",
   "metadata": {},
   "source": [
    "<div class=\"alert alert-info\"> Большинство пользователей сделали по одному заказу. Но много и тех, кто оформил 2-3 заказа. \n",
    "    \n",
    " \n",
    "</div>"
   ]
  },
  {
   "cell_type": "markdown",
   "metadata": {},
   "source": [
    "#### Cчитаем 95-й и 99-й перцентили количества заказов на пользователя"
   ]
  },
  {
   "cell_type": "code",
   "execution_count": 14,
   "metadata": {},
   "outputs": [
    {
     "data": {
      "text/plain": [
       "array([1., 2.])"
      ]
     },
     "metadata": {},
     "output_type": "display_data"
    }
   ],
   "source": [
    "display(np.percentile(ordersByUsers['orders'], [95, 99])) \n",
    "\n"
   ]
  },
  {
   "cell_type": "markdown",
   "metadata": {},
   "source": [
    "<div class=\"alert alert-info\">\n",
    "Не более 5% пользователей оформляли больше чем 1 заказа. И 1% пользователей заказывал более двух раз.\n",
    "Возьмём 95ый перцентиль за верхнюю границу числа заказов и отсеем аномальных пользователей по не далее.\n",
    " \n",
    "</div>"
   ]
  },
  {
   "cell_type": "markdown",
   "metadata": {},
   "source": [
    "#### Строим точечный график стоимостей заказов"
   ]
  },
  {
   "cell_type": "code",
   "execution_count": 15,
   "metadata": {},
   "outputs": [
    {
     "data": {
      "image/png": "[encoded data removed]",
      "text/plain": [
       "<Figure size 720x720 with 1 Axes>"
      ]
     },
     "metadata": {
      "needs_background": "light"
     },
     "output_type": "display_data"
    }
   ],
   "source": [
    "x_values = pd.Series(range(0,len(orders['revenue'])))\n",
    "\n",
    "plt.figure(figsize=(10,10))\n",
    "\n",
    "plt.ticklabel_format(style='plain')\n",
    "plt.scatter(x_values, orders['revenue']) \n",
    "\n",
    "plt.title('График стоимостей заказов')\n",
    "plt.xlabel('Количество пользователей')\n",
    "plt.ylabel('Стоимость заказов')\n",
    "plt.show()\n"
   ]
  },
  {
   "cell_type": "markdown",
   "metadata": {},
   "source": [
    "<div class=\"alert alert-info\"> На графике видим один очень дорогой заказ, который мешает визуально оценить границу аномальных значений. Найдём её, посчитав перцентили.\n",
    "    \n",
    " \n",
    "</div>"
   ]
  },
  {
   "cell_type": "markdown",
   "metadata": {},
   "source": [
    "#### Считаем 95-й и 99-й перцентили стоимости заказов"
   ]
  },
  {
   "cell_type": "code",
   "execution_count": 16,
   "metadata": {},
   "outputs": [
    {
     "data": {
      "text/plain": [
       "array([26785., 53904.])"
      ]
     },
     "metadata": {},
     "output_type": "display_data"
    }
   ],
   "source": [
    "display(np.percentile(orders['revenue'], [95, 99]))\n"
   ]
  },
  {
   "cell_type": "markdown",
   "metadata": {},
   "source": [
    "<div class=\"alert alert-info\"> Не более 5% заказов дороже 28 000 рублей и не более 1% дороже 58 233 рублей. В качестве границы аномальных значений возьмём 95ый перцентиль.\n",
    "    \n",
    " \n",
    "</div>"
   ]
  },
  {
   "cell_type": "markdown",
   "metadata": {},
   "source": [
    "#### Считаем статистическую значимость различий в конверсии между группами по «сырым» данным"
   ]
  },
  {
   "cell_type": "markdown",
   "metadata": {},
   "source": [
    "<div class=\"alert alert-info\"> \n",
    "Сформулируем гипотезы. Нулевая: различий в среднем количестве заказов между группами нет. Альтернативная: различия в среднем между группами есть.    \n",
    " \n",
    "</div>"
   ]
  },
  {
   "cell_type": "code",
   "execution_count": 17,
   "metadata": {},
   "outputs": [
    {
     "name": "stdout",
     "output_type": "stream",
     "text": [
      "        date  ordersPerDateA  revenuePerDateA  ordersPerDateB  \\\n",
      "0 2019-08-01              23           142779              17   \n",
      "1 2019-08-02              19            91602              23   \n",
      "2 2019-08-03              24           112473              14   \n",
      "3 2019-08-04              11            41176              14   \n",
      "4 2019-08-05              22            86383              21   \n",
      "\n",
      "   revenuePerDateB  ordersCummulativeA  revenueCummulativeA  \\\n",
      "0            59758                  23               142779   \n",
      "1           162043                  42               234381   \n",
      "2            67049                  66               346854   \n",
      "3            96890                  77               388030   \n",
      "4            89908                  99               474413   \n",
      "\n",
      "   ordersCummulativeB  revenueCummulativeB  visitorsPerDateA  \\\n",
      "0                  17                59758               719   \n",
      "1                  40               221801               619   \n",
      "2                  54               288850               507   \n",
      "3                  68               385740               717   \n",
      "4                  89               475648               756   \n",
      "\n",
      "   visitorsPerDateB  visitorsCummulativeA  visitorsCummulativeB  \n",
      "0               713                   719                   713  \n",
      "1               581                  1338                  1294  \n",
      "2               509                  1845                  1803  \n",
      "3               770                  2562                  2573  \n",
      "4               707                  3318                  3280  \n",
      "P-value: 0.01102\n",
      "Конверсия 0.160\n"
     ]
    }
   ],
   "source": [
    "visitorsADaily = visitors[visitors['group'] == 'A'][['date', 'visitors']]\n",
    "visitorsADaily.columns = ['date', 'visitorsPerDateA']\n",
    "\n",
    "visitorsACummulative = visitorsADaily.apply(\n",
    "    lambda x: visitorsADaily[visitorsADaily['date'] <= x['date']].agg(\n",
    "        {'date': 'max', 'visitorsPerDateA': 'sum'}\n",
    "    ),\n",
    "    axis=1,\n",
    ")\n",
    "visitorsACummulative.columns = ['date', 'visitorsCummulativeA']\n",
    "\n",
    "visitorsBDaily = visitors[visitors['group'] == 'B'][['date', 'visitors']]\n",
    "visitorsBDaily.columns = ['date', 'visitorsPerDateB']\n",
    "\n",
    "visitorsBCummulative = visitorsBDaily.apply(\n",
    "    lambda x: visitorsBDaily[visitorsBDaily['date'] <= x['date']].agg(\n",
    "        {'date': 'max', 'visitorsPerDateB': 'sum'}\n",
    "    ),\n",
    "    axis=1,\n",
    ")\n",
    "visitorsBCummulative.columns = ['date', 'visitorsCummulativeB']\n",
    "\n",
    "ordersADaily = (\n",
    "    orders[orders['group'] == 'A'][['date', 'transactionId', 'visitorId', 'revenue']]\n",
    "    .groupby('date', as_index=False)\n",
    "    .agg({'transactionId': pd.Series.nunique, 'revenue': 'sum'})\n",
    ")\n",
    "ordersADaily.columns = ['date', 'ordersPerDateA', 'revenuePerDateA']\n",
    "\n",
    "ordersACummulative = ordersADaily.apply(\n",
    "    lambda x: ordersADaily[ordersADaily['date'] <= x['date']].agg(\n",
    "        {'date': 'max', 'ordersPerDateA': 'sum', 'revenuePerDateA': 'sum'}\n",
    "    ),\n",
    "    axis=1,\n",
    ").sort_values(by=['date'])\n",
    "ordersACummulative.columns = [\n",
    "    'date',\n",
    "    'ordersCummulativeA',\n",
    "    'revenueCummulativeA',\n",
    "]\n",
    "\n",
    "ordersBDaily = (\n",
    "    orders[orders['group'] == 'B'][['date', 'transactionId', 'visitorId', 'revenue']]\n",
    "    .groupby('date', as_index=False)\n",
    "    .agg({'transactionId': pd.Series.nunique, 'revenue': 'sum'})\n",
    ")\n",
    "ordersBDaily.columns = ['date', 'ordersPerDateB', 'revenuePerDateB']\n",
    "\n",
    "ordersBCummulative = ordersBDaily.apply(\n",
    "    lambda x: ordersBDaily[ordersBDaily['date'] <= x['date']].agg(\n",
    "        {'date': 'max', 'ordersPerDateB': 'sum', 'revenuePerDateB': 'sum'}\n",
    "    ),\n",
    "    axis=1,\n",
    ").sort_values(by=['date'])\n",
    "ordersBCummulative.columns = [\n",
    "    'date',\n",
    "    'ordersCummulativeB',\n",
    "    'revenueCummulativeB',\n",
    "]\n",
    "\n",
    "data = (\n",
    "    ordersADaily.merge(\n",
    "        ordersBDaily, left_on='date', right_on='date', how='left'\n",
    "    )\n",
    "    .merge(ordersACummulative, left_on='date', right_on='date', how='left')\n",
    "    .merge(ordersBCummulative, left_on='date', right_on='date', how='left')\n",
    "    .merge(visitorsADaily, left_on='date', right_on='date', how='left')\n",
    "    .merge(visitorsBDaily, left_on='date', right_on='date', how='left')\n",
    "    .merge(visitorsACummulative, left_on='date', right_on='date', how='left')\n",
    "    .merge(visitorsBCummulative, left_on='date', right_on='date', how='left')\n",
    ")\n",
    "print(data.head(5))\n",
    "ordersByUsersA = (\n",
    "    orders[orders['group'] == 'A']\n",
    "    .groupby('visitorId', as_index=False)\n",
    "    .agg({'transactionId': pd.Series.nunique})\n",
    ")\n",
    "ordersByUsersA.columns = ['visitorId', 'orders']\n",
    "\n",
    "ordersByUsersB = (\n",
    "    orders[orders['group'] == 'B']\n",
    "    .groupby('visitorId', as_index=False)\n",
    "    .agg({'transactionId': pd.Series.nunique})\n",
    ")\n",
    "ordersByUsersB.columns = ['visitorId', 'orders']\n",
    "\n",
    "sampleA = pd.concat([ordersByUsersA['orders'],pd.Series(0, index=np.arange(data['visitorsPerDateA'].sum() - len(ordersByUsersA['orders'])), name='orders')],axis=0)\n",
    "\n",
    "sampleB = pd.concat([ordersByUsersB['orders'],pd.Series(0, index=np.arange(data['visitorsPerDateB'].sum() - len(ordersByUsersB['orders'])), name='orders')],axis=0)\n",
    "\n",
    "ordersByUsersA = (\n",
    "    orders[orders['group'] == 'A']\n",
    "    .groupby('visitorId', as_index=False)\n",
    "    .agg({'transactionId': pd.Series.nunique})\n",
    ")\n",
    "ordersByUsersA.columns = ['visitorId', 'orders']\n",
    "\n",
    "ordersByUsersB = (\n",
    "    orders[orders['group'] == 'B']\n",
    "    .groupby('visitorId', as_index=False)\n",
    "    .agg({'transactionId': pd.Series.nunique})\n",
    ")\n",
    "ordersByUsersB.columns = ['visitorId', 'orders']\n",
    "\n",
    "sampleA = pd.concat(\n",
    "    [\n",
    "        ordersByUsersA['orders'],\n",
    "        pd.Series(\n",
    "            0,\n",
    "            index=np.arange(\n",
    "                data['visitorsPerDateA'].sum() - len(ordersByUsersA['orders'])\n",
    "            ),\n",
    "            name='orders',\n",
    "        ),\n",
    "    ],\n",
    "    axis=0,\n",
    ")\n",
    "\n",
    "sampleB = pd.concat(\n",
    "    [\n",
    "        ordersByUsersB['orders'],\n",
    "        pd.Series(\n",
    "            0,\n",
    "            index=np.arange(\n",
    "                data['visitorsPerDateB'].sum() - len(ordersByUsersB['orders'])\n",
    "            ),\n",
    "            name='orders',\n",
    "        ),\n",
    "    ],\n",
    "    axis=0,\n",
    ")\n",
    "\n",
    "print('P-value:', \"{0:.5f}\".format(stats.mannwhitneyu(sampleA, sampleB)[1]))\n",
    "\n",
    "print('Конверсия', \"{0:.3f}\".format(sampleB.mean() / sampleA.mean() - 1))\n",
    "\n"
   ]
  },
  {
   "cell_type": "markdown",
   "metadata": {},
   "source": [
    "<div class=\"alert alert-info\"> \n",
    "Вывод: По «сырым» данным различия в среднем числе заказов групп A и B есть.\n",
    "p-value = 0.01102, что меньше 0.05. Значит, нулевую гипотезу о том, что статистически значимых различий в среднем числе заказов между группами нет, отвергаем. Относительный проигрыш группы B равен 16%.    \n",
    " \n",
    "</div>"
   ]
  },
  {
   "cell_type": "markdown",
   "metadata": {},
   "source": [
    "#### Считаем статистическую значимость различий в среднем чеке заказа между группами по «сырым» данным"
   ]
  },
  {
   "cell_type": "markdown",
   "metadata": {},
   "source": [
    "<div class=\"alert alert-info\"> \n",
    "Теперь проверим статистическую значимость различий в среднем чеке между сегментами. Нулевая гипотеза: различий в среднем чеке между группами нет. Альтернативная гипотеза: различия в среднем чеке между группами есть.    \n",
    " \n",
    "</div>"
   ]
  },
  {
   "cell_type": "code",
   "execution_count": 18,
   "metadata": {},
   "outputs": [
    {
     "name": "stdout",
     "output_type": "stream",
     "text": [
      "P-value: 0.829\n",
      "Конверсия: 0.287\n"
     ]
    }
   ],
   "source": [
    "print('P-value:', '{0:.3f}'.format(stats.mannwhitneyu(orders[orders['group']=='A']['revenue'], orders[orders['group']=='B']['revenue'])[1]))\n",
    "print('Конверсия:', '{0:.3f}'.format(orders[orders['group']=='B']['revenue'].mean()/orders[orders['group']=='A']['revenue'].mean()-1))"
   ]
  },
  {
   "cell_type": "markdown",
   "metadata": {},
   "source": [
    "<div class=\"alert alert-info\">\n",
    "P-value значительно больше 0.05. Значит, причин отвергать нулевую гипотезу и считать, что в среднем чеке есть различия, нет. Впрочем, средний чек группы B значительно выше среднего чека группы A. Однако разница в 29% не является статистически значимой.   \n",
    " \n",
    "</div>"
   ]
  },
  {
   "cell_type": "markdown",
   "metadata": {},
   "source": [
    "#### Узнаем, сколько всего аномальных пользователей"
   ]
  },
  {
   "cell_type": "markdown",
   "metadata": {},
   "source": [
    "<div class=\"alert alert-info\"> Ранее решили считать границами аномальных значений 95ый перцентиль для количества заказов и 95ый перцентиль для стоимости.<br>\n",
    "Применим эти показатели для расчёта.\n",
    "    \n",
    " \n",
    "</div>"
   ]
  },
  {
   "cell_type": "code",
   "execution_count": 19,
   "metadata": {},
   "outputs": [
    {
     "name": "stdout",
     "output_type": "stream",
     "text": [
      "568     113298937\n",
      "1099    148427295\n",
      "928     204675465\n",
      "33      249864742\n",
      "684     358944393\n",
      "Name: visitorId, dtype: int64\n",
      "86\n"
     ]
    }
   ],
   "source": [
    "usersWithManyOrders = pd.concat(\n",
    "    [\n",
    "        ordersByUsersA[ordersByUsersA['orders'] > np.percentile(ordersByUsers['orders'], [95, 99])[0]]['visitorId'],\n",
    "        ordersByUsersB[ordersByUsersB['orders'] > np.percentile(ordersByUsers['orders'], [95, 99])[0]]['visitorId'],\n",
    "    ],\n",
    "    axis=0,\n",
    ")\n",
    "usersWithExpensiveOrders = orders[orders['revenue'] > np.percentile(orders['revenue'], [95, 99])[0]]['visitorId']\n",
    "abnormalUsers = (\n",
    "    pd.concat([usersWithManyOrders, usersWithExpensiveOrders], axis=0)\n",
    "    .drop_duplicates()\n",
    "    .sort_values()\n",
    ")\n",
    "print(abnormalUsers.head(5))\n",
    "print(abnormalUsers.shape[0])\n",
    "\n"
   ]
  },
  {
   "cell_type": "markdown",
   "metadata": {},
   "source": [
    "<div class=\"alert alert-info\"> Всего 86 аномальных пользователей.\n",
    "    \n",
    " \n",
    "</div>"
   ]
  },
  {
   "cell_type": "markdown",
   "metadata": {},
   "source": [
    "#### Считаем статистическую значимость различий в конверсии между группами по «очищенным» данным"
   ]
  },
  {
   "cell_type": "code",
   "execution_count": 20,
   "metadata": {},
   "outputs": [
    {
     "name": "stdout",
     "output_type": "stream",
     "text": [
      "P-value: 0.01593\n",
      "Конверсия: 0.174\n"
     ]
    }
   ],
   "source": [
    "sampleAFiltered = pd.concat(\n",
    "    [\n",
    "        ordersByUsersA[\n",
    "            np.logical_not(ordersByUsersA['visitorId'].isin(abnormalUsers))\n",
    "        ]['orders'],\n",
    "        pd.Series(\n",
    "            0,\n",
    "            index=np.arange(\n",
    "                data['visitorsPerDateA'].sum() - len(ordersByUsersA['orders'])\n",
    "            ),\n",
    "            name='orders',\n",
    "        ),\n",
    "    ],\n",
    "    axis=0,\n",
    ")\n",
    "\n",
    "sampleBFiltered = pd.concat(\n",
    "    [\n",
    "        ordersByUsersB[\n",
    "            np.logical_not(ordersByUsersB['visitorId'].isin(abnormalUsers))\n",
    "        ]['orders'],\n",
    "        pd.Series(\n",
    "            0,\n",
    "            index=np.arange(\n",
    "                data['visitorsPerDateB'].sum() - len(ordersByUsersB['orders'])\n",
    "            ),\n",
    "            name='orders',\n",
    "        ),\n",
    "    ],\n",
    "    axis=0,\n",
    ")\n",
    "\n",
    "print('P-value:', '{0:.5f}'.format(stats.mannwhitneyu(sampleAFiltered, sampleBFiltered)[1]))\n",
    "print('Конверсия:', '{0:.3f}'.format(sampleBFiltered.mean()/sampleAFiltered.mean()-1))"
   ]
  },
  {
   "cell_type": "markdown",
   "metadata": {},
   "source": [
    "<div class=\"alert alert-info\">\n",
    "    \n",
    "После \"очистки\" данных результаты по количеству заказов практически не изменились. P-value увеличился с 0.01102 до 0.01593. Относительный проигрыш группы B изменился с 16% до 17%. По-прежнему отвергаем нулевую гипотезу о том, что статистически значимых различий в среднем числе заказов между группами нет.\n",
    "   \n",
    "    \n",
    "    \n",
    " \n",
    "</div>"
   ]
  },
  {
   "cell_type": "markdown",
   "metadata": {},
   "source": [
    "#### Считаем статистическую значимость различий в среднем чеке заказа между группами по «очищенным» данным"
   ]
  },
  {
   "cell_type": "code",
   "execution_count": 21,
   "metadata": {},
   "outputs": [
    {
     "name": "stdout",
     "output_type": "stream",
     "text": [
      "P-value: 0.727\n",
      "Конверсия: -0.034\n"
     ]
    }
   ],
   "source": [
    "print('P-value:', \n",
    "    '{0:.3f}'.format(\n",
    "        stats.mannwhitneyu(\n",
    "            orders[\n",
    "                np.logical_and(\n",
    "                    orders['group'] == 'A',\n",
    "                    np.logical_not(orders['visitorId'].isin(abnormalUsers)),\n",
    "                )\n",
    "            ]['revenue'],\n",
    "            orders[\n",
    "                np.logical_and(\n",
    "                    orders['group'] == 'B',\n",
    "                    np.logical_not(orders['visitorId'].isin(abnormalUsers)),\n",
    "                )\n",
    "            ]['revenue'],\n",
    "        )[1]\n",
    "    )\n",
    ")\n",
    "\n",
    "print('Конверсия:', \n",
    "    \"{0:.3f}\".format(\n",
    "        orders[\n",
    "            np.logical_and(\n",
    "                orders['group'] == 'B',\n",
    "                np.logical_not(orders['visitorId'].isin(abnormalUsers)),\n",
    "            )\n",
    "        ]['revenue'].mean()\n",
    "        / orders[\n",
    "            np.logical_and(\n",
    "                orders['group'] == 'A',\n",
    "                np.logical_not(orders['visitorId'].isin(abnormalUsers)),\n",
    "            )\n",
    "        ]['revenue'].mean()\n",
    "        - 1\n",
    "    )\n",
    ")"
   ]
  },
  {
   "cell_type": "markdown",
   "metadata": {},
   "source": [
    "<div class=\"alert alert-info\"> \n",
    "P-value уменьшился с 0.829 до 0.727. А вот разница между сегментами изменилась в противоположную сторону: средний чек группы В теперь стал ниже, чем средний чек группы А.Нетпричин отвергать нулевую гипотезу и считать, что в среднем чеке есть различия. Разница в 3% не является статистически значимой.\n",
    " \n",
    "</div>"
   ]
  },
  {
   "cell_type": "markdown",
   "metadata": {},
   "source": [
    "#### Вывод"
   ]
  },
  {
   "cell_type": "markdown",
   "metadata": {},
   "source": [
    "<div class=\"alert alert-info\"> Полученные факты:<br>\n",
    "1. Есть статистически значимое различие по среднему количеству заказов между группами и по «сырым», и по данным после фильтрации аномалий<br>\n",
    "2. Нет статистически значимого различия по среднему чеку между группами ни по «сырым», ни по данным после фильтрации аномалий<br>\n",
    "3. График различия конверсии между группами сообщает, что результаты группы B лучше группы A<br>\n",
    "4. График различия среднего чека говорит о том, что результаты группы B значительно лучше, но различие постепенно уменьшается<br><br>\n",
    "    Тест необходимо остановить, поскольку есть статистически значимое различие по количеству заказов. <br>\n",
    "</div>"
   ]
  }
 ],
 "metadata": {
  "ExecuteTimeLog": [
   {
    "duration": 410,
    "start_time": "2022-08-19T15:34:52.790Z"
   },
   {
    "duration": 85,
    "start_time": "2022-08-19T15:35:42.536Z"
   },
   {
    "duration": 97,
    "start_time": "2022-08-19T15:36:58.734Z"
   },
   {
    "duration": 37,
    "start_time": "2022-08-19T15:39:34.122Z"
   },
   {
    "duration": 16,
    "start_time": "2022-08-19T15:40:58.884Z"
   },
   {
    "duration": 13,
    "start_time": "2022-08-19T15:41:41.830Z"
   },
   {
    "duration": 11,
    "start_time": "2022-08-19T15:41:52.259Z"
   },
   {
    "duration": 96,
    "start_time": "2022-08-19T15:46:04.733Z"
   },
   {
    "duration": 32,
    "start_time": "2022-08-19T15:46:07.142Z"
   },
   {
    "duration": 199,
    "start_time": "2022-08-19T15:46:49.749Z"
   },
   {
    "duration": 441,
    "start_time": "2022-08-19T15:49:12.797Z"
   },
   {
    "duration": 30,
    "start_time": "2022-08-19T15:54:33.482Z"
   },
   {
    "duration": 14,
    "start_time": "2022-08-19T15:54:54.465Z"
   },
   {
    "duration": 11,
    "start_time": "2022-08-19T15:55:01.383Z"
   },
   {
    "duration": 10,
    "start_time": "2022-08-19T15:55:10.096Z"
   },
   {
    "duration": 10,
    "start_time": "2022-08-19T15:55:12.495Z"
   },
   {
    "duration": 845,
    "start_time": "2022-08-21T15:47:17.023Z"
   },
   {
    "duration": 91,
    "start_time": "2022-08-21T15:47:17.871Z"
   },
   {
    "duration": 15,
    "start_time": "2022-08-21T15:47:17.968Z"
   },
   {
    "duration": 14,
    "start_time": "2022-08-21T15:47:17.985Z"
   },
   {
    "duration": 187,
    "start_time": "2022-08-21T15:47:18.001Z"
   },
   {
    "duration": 437,
    "start_time": "2022-08-21T15:47:18.190Z"
   },
   {
    "duration": 0,
    "start_time": "2022-08-21T15:47:18.629Z"
   },
   {
    "duration": 0,
    "start_time": "2022-08-21T15:47:18.630Z"
   },
   {
    "duration": 0,
    "start_time": "2022-08-21T15:47:18.631Z"
   },
   {
    "duration": 74,
    "start_time": "2022-08-21T15:48:15.415Z"
   },
   {
    "duration": 328,
    "start_time": "2022-08-21T15:48:33.240Z"
   },
   {
    "duration": 382,
    "start_time": "2022-08-21T15:49:43.448Z"
   },
   {
    "duration": 65,
    "start_time": "2022-08-21T15:50:22.735Z"
   },
   {
    "duration": 75,
    "start_time": "2022-08-21T15:50:52.734Z"
   },
   {
    "duration": 468,
    "start_time": "2022-08-21T16:02:15.112Z"
   },
   {
    "duration": 898,
    "start_time": "2022-08-21T16:02:20.264Z"
   },
   {
    "duration": 382,
    "start_time": "2022-08-21T16:03:35.515Z"
   },
   {
    "duration": 1198,
    "start_time": "2022-08-21T16:03:41.979Z"
   },
   {
    "duration": 38,
    "start_time": "2022-08-21T16:03:43.180Z"
   },
   {
    "duration": 13,
    "start_time": "2022-08-21T16:03:43.220Z"
   },
   {
    "duration": 12,
    "start_time": "2022-08-21T16:03:43.235Z"
   },
   {
    "duration": 64,
    "start_time": "2022-08-21T16:03:43.249Z"
   },
   {
    "duration": 417,
    "start_time": "2022-08-21T16:03:43.314Z"
   },
   {
    "duration": 0,
    "start_time": "2022-08-21T16:03:43.733Z"
   },
   {
    "duration": 0,
    "start_time": "2022-08-21T16:03:43.735Z"
   },
   {
    "duration": 0,
    "start_time": "2022-08-21T16:03:43.736Z"
   },
   {
    "duration": 11,
    "start_time": "2022-08-21T16:11:16.566Z"
   },
   {
    "duration": 355,
    "start_time": "2022-08-21T16:22:12.111Z"
   },
   {
    "duration": 321,
    "start_time": "2022-08-21T16:23:35.969Z"
   },
   {
    "duration": 363,
    "start_time": "2022-08-21T16:25:39.054Z"
   },
   {
    "duration": 1012,
    "start_time": "2022-08-21T16:35:48.545Z"
   },
   {
    "duration": 374,
    "start_time": "2022-08-21T16:37:32.173Z"
   },
   {
    "duration": 1292,
    "start_time": "2022-08-21T16:38:38.677Z"
   },
   {
    "duration": 40,
    "start_time": "2022-08-21T16:38:39.972Z"
   },
   {
    "duration": 16,
    "start_time": "2022-08-21T16:38:40.015Z"
   },
   {
    "duration": 16,
    "start_time": "2022-08-21T16:38:40.034Z"
   },
   {
    "duration": 67,
    "start_time": "2022-08-21T16:38:40.053Z"
   },
   {
    "duration": 653,
    "start_time": "2022-08-21T16:38:40.122Z"
   },
   {
    "duration": 210,
    "start_time": "2022-08-21T16:38:40.777Z"
   },
   {
    "duration": 306,
    "start_time": "2022-08-21T16:38:40.989Z"
   },
   {
    "duration": 215,
    "start_time": "2022-08-21T16:38:41.297Z"
   },
   {
    "duration": 100,
    "start_time": "2022-08-21T16:41:43.257Z"
   },
   {
    "duration": 257,
    "start_time": "2022-08-21T16:41:50.655Z"
   },
   {
    "duration": 301,
    "start_time": "2022-08-21T16:42:11.511Z"
   },
   {
    "duration": 276,
    "start_time": "2022-08-21T16:42:58.139Z"
   },
   {
    "duration": 205,
    "start_time": "2022-08-21T16:43:07.623Z"
   },
   {
    "duration": 198,
    "start_time": "2022-08-21T16:43:35.266Z"
   },
   {
    "duration": 477,
    "start_time": "2022-08-21T16:44:56.331Z"
   },
   {
    "duration": 426,
    "start_time": "2022-08-21T16:45:04.415Z"
   },
   {
    "duration": 1244,
    "start_time": "2022-08-21T16:45:15.618Z"
   },
   {
    "duration": 43,
    "start_time": "2022-08-21T16:45:16.864Z"
   },
   {
    "duration": 14,
    "start_time": "2022-08-21T16:45:16.909Z"
   },
   {
    "duration": 12,
    "start_time": "2022-08-21T16:45:16.926Z"
   },
   {
    "duration": 68,
    "start_time": "2022-08-21T16:45:16.940Z"
   },
   {
    "duration": 594,
    "start_time": "2022-08-21T16:45:17.010Z"
   },
   {
    "duration": 206,
    "start_time": "2022-08-21T16:45:17.605Z"
   },
   {
    "duration": 310,
    "start_time": "2022-08-21T16:45:17.814Z"
   },
   {
    "duration": 0,
    "start_time": "2022-08-21T16:45:18.126Z"
   },
   {
    "duration": 190,
    "start_time": "2022-08-21T16:45:52.176Z"
   },
   {
    "duration": 257,
    "start_time": "2022-08-21T16:46:04.828Z"
   },
   {
    "duration": 360,
    "start_time": "2022-08-21T16:46:15.129Z"
   },
   {
    "duration": 1150,
    "start_time": "2022-08-21T16:46:26.993Z"
   },
   {
    "duration": 36,
    "start_time": "2022-08-21T16:46:28.145Z"
   },
   {
    "duration": 13,
    "start_time": "2022-08-21T16:46:28.182Z"
   },
   {
    "duration": 12,
    "start_time": "2022-08-21T16:46:28.197Z"
   },
   {
    "duration": 65,
    "start_time": "2022-08-21T16:46:28.211Z"
   },
   {
    "duration": 579,
    "start_time": "2022-08-21T16:46:28.278Z"
   },
   {
    "duration": 198,
    "start_time": "2022-08-21T16:46:28.859Z"
   },
   {
    "duration": 322,
    "start_time": "2022-08-21T16:46:29.059Z"
   },
   {
    "duration": 184,
    "start_time": "2022-08-21T16:46:29.391Z"
   },
   {
    "duration": 227,
    "start_time": "2022-08-21T16:47:20.213Z"
   },
   {
    "duration": 202,
    "start_time": "2022-08-21T16:47:27.784Z"
   },
   {
    "duration": 297,
    "start_time": "2022-08-21T16:47:38.947Z"
   },
   {
    "duration": 223,
    "start_time": "2022-08-21T16:47:48.855Z"
   },
   {
    "duration": 1218,
    "start_time": "2022-08-21T16:48:14.415Z"
   },
   {
    "duration": 38,
    "start_time": "2022-08-21T16:48:15.635Z"
   },
   {
    "duration": 14,
    "start_time": "2022-08-21T16:48:15.674Z"
   },
   {
    "duration": 12,
    "start_time": "2022-08-21T16:48:15.690Z"
   },
   {
    "duration": 62,
    "start_time": "2022-08-21T16:48:15.705Z"
   },
   {
    "duration": 603,
    "start_time": "2022-08-21T16:48:15.769Z"
   },
   {
    "duration": 221,
    "start_time": "2022-08-21T16:48:16.374Z"
   },
   {
    "duration": 337,
    "start_time": "2022-08-21T16:48:16.596Z"
   },
   {
    "duration": 210,
    "start_time": "2022-08-21T16:48:16.935Z"
   },
   {
    "duration": 233,
    "start_time": "2022-08-21T16:48:56.790Z"
   },
   {
    "duration": 244,
    "start_time": "2022-08-21T16:50:03.254Z"
   },
   {
    "duration": 1114,
    "start_time": "2022-08-21T16:50:23.234Z"
   },
   {
    "duration": 36,
    "start_time": "2022-08-21T16:50:24.349Z"
   },
   {
    "duration": 12,
    "start_time": "2022-08-21T16:50:24.387Z"
   },
   {
    "duration": 15,
    "start_time": "2022-08-21T16:50:24.401Z"
   },
   {
    "duration": 62,
    "start_time": "2022-08-21T16:50:24.417Z"
   },
   {
    "duration": 603,
    "start_time": "2022-08-21T16:50:24.481Z"
   },
   {
    "duration": 234,
    "start_time": "2022-08-21T16:50:25.085Z"
   },
   {
    "duration": 319,
    "start_time": "2022-08-21T16:50:25.321Z"
   },
   {
    "duration": 229,
    "start_time": "2022-08-21T16:50:25.642Z"
   },
   {
    "duration": 1273,
    "start_time": "2022-08-21T16:53:40.766Z"
   },
   {
    "duration": 50,
    "start_time": "2022-08-21T16:53:42.042Z"
   },
   {
    "duration": 21,
    "start_time": "2022-08-21T16:53:42.094Z"
   },
   {
    "duration": 36,
    "start_time": "2022-08-21T16:53:42.117Z"
   },
   {
    "duration": 77,
    "start_time": "2022-08-21T16:53:42.155Z"
   },
   {
    "duration": 609,
    "start_time": "2022-08-21T16:53:42.234Z"
   },
   {
    "duration": 226,
    "start_time": "2022-08-21T16:53:42.844Z"
   },
   {
    "duration": 342,
    "start_time": "2022-08-21T16:53:43.072Z"
   },
   {
    "duration": 231,
    "start_time": "2022-08-21T16:53:43.416Z"
   },
   {
    "duration": 221,
    "start_time": "2022-08-21T16:53:59.970Z"
   },
   {
    "duration": 212,
    "start_time": "2022-08-21T16:54:09.424Z"
   },
   {
    "duration": 221,
    "start_time": "2022-08-21T16:54:19.960Z"
   },
   {
    "duration": 1120,
    "start_time": "2022-08-21T16:55:08.333Z"
   },
   {
    "duration": 41,
    "start_time": "2022-08-21T16:55:09.456Z"
   },
   {
    "duration": 13,
    "start_time": "2022-08-21T16:55:09.499Z"
   },
   {
    "duration": 12,
    "start_time": "2022-08-21T16:55:09.514Z"
   },
   {
    "duration": 68,
    "start_time": "2022-08-21T16:55:09.528Z"
   },
   {
    "duration": 602,
    "start_time": "2022-08-21T16:55:09.598Z"
   },
   {
    "duration": 242,
    "start_time": "2022-08-21T16:55:10.202Z"
   },
   {
    "duration": 307,
    "start_time": "2022-08-21T16:55:10.446Z"
   },
   {
    "duration": 227,
    "start_time": "2022-08-21T16:55:10.754Z"
   },
   {
    "duration": 250,
    "start_time": "2022-08-21T17:00:19.771Z"
   },
   {
    "duration": 326,
    "start_time": "2022-08-21T17:00:31.799Z"
   },
   {
    "duration": 232,
    "start_time": "2022-08-21T17:00:42.488Z"
   },
   {
    "duration": 139,
    "start_time": "2022-08-21T17:00:46.888Z"
   },
   {
    "duration": 6,
    "start_time": "2022-08-21T17:00:50.799Z"
   },
   {
    "duration": 217,
    "start_time": "2022-08-21T17:00:55.430Z"
   },
   {
    "duration": 242,
    "start_time": "2022-08-21T17:01:06.559Z"
   },
   {
    "duration": 306,
    "start_time": "2022-08-21T17:01:24.844Z"
   },
   {
    "duration": 257,
    "start_time": "2022-08-21T17:01:34.954Z"
   },
   {
    "duration": 225,
    "start_time": "2022-08-21T17:01:43.635Z"
   },
   {
    "duration": 243,
    "start_time": "2022-08-21T17:01:53.513Z"
   },
   {
    "duration": 361,
    "start_time": "2022-08-21T17:03:29.707Z"
   },
   {
    "duration": 379,
    "start_time": "2022-08-21T17:04:01.802Z"
   },
   {
    "duration": 1471,
    "start_time": "2022-08-21T17:05:18.035Z"
   },
   {
    "duration": 1312,
    "start_time": "2022-08-21T17:07:56.185Z"
   },
   {
    "duration": 1652,
    "start_time": "2022-08-21T17:10:14.572Z"
   },
   {
    "duration": 22,
    "start_time": "2022-08-21T17:12:27.691Z"
   },
   {
    "duration": 19,
    "start_time": "2022-08-21T17:12:34.174Z"
   },
   {
    "duration": 90,
    "start_time": "2022-08-21T17:13:05.254Z"
   },
   {
    "duration": 16,
    "start_time": "2022-08-21T17:13:13.171Z"
   },
   {
    "duration": 13,
    "start_time": "2022-08-21T17:13:46.844Z"
   },
   {
    "duration": 21,
    "start_time": "2022-08-21T17:14:26.073Z"
   },
   {
    "duration": 166,
    "start_time": "2022-08-21T17:15:27.198Z"
   },
   {
    "duration": 148,
    "start_time": "2022-08-21T17:15:40.916Z"
   },
   {
    "duration": 141,
    "start_time": "2022-08-21T17:17:48.814Z"
   },
   {
    "duration": 169,
    "start_time": "2022-08-21T17:18:09.166Z"
   },
   {
    "duration": 138,
    "start_time": "2022-08-21T17:19:07.744Z"
   },
   {
    "duration": 5,
    "start_time": "2022-08-21T17:25:18.764Z"
   },
   {
    "duration": 6,
    "start_time": "2022-08-21T17:25:25.967Z"
   },
   {
    "duration": 225,
    "start_time": "2022-08-21T17:46:56.185Z"
   },
   {
    "duration": 142,
    "start_time": "2022-08-21T17:47:17.146Z"
   },
   {
    "duration": 14,
    "start_time": "2022-08-21T17:48:28.190Z"
   },
   {
    "duration": 151,
    "start_time": "2022-08-21T17:48:33.557Z"
   },
   {
    "duration": 1198,
    "start_time": "2022-08-21T17:50:38.757Z"
   },
   {
    "duration": 1158,
    "start_time": "2022-08-21T17:51:17.732Z"
   },
   {
    "duration": 138,
    "start_time": "2022-08-21T17:51:43.753Z"
   },
   {
    "duration": 167,
    "start_time": "2022-08-21T17:52:03.463Z"
   },
   {
    "duration": 6,
    "start_time": "2022-08-21T17:55:46.932Z"
   },
   {
    "duration": 156,
    "start_time": "2022-08-21T17:56:13.006Z"
   },
   {
    "duration": 1316,
    "start_time": "2022-08-22T14:46:38.187Z"
   },
   {
    "duration": 76,
    "start_time": "2022-08-22T14:46:39.506Z"
   },
   {
    "duration": 12,
    "start_time": "2022-08-22T14:46:39.584Z"
   },
   {
    "duration": 11,
    "start_time": "2022-08-22T14:46:39.598Z"
   },
   {
    "duration": 162,
    "start_time": "2022-08-22T14:46:39.611Z"
   },
   {
    "duration": 782,
    "start_time": "2022-08-22T14:46:39.775Z"
   },
   {
    "duration": 240,
    "start_time": "2022-08-22T14:46:40.559Z"
   },
   {
    "duration": 344,
    "start_time": "2022-08-22T14:46:40.801Z"
   },
   {
    "duration": 205,
    "start_time": "2022-08-22T14:46:41.147Z"
   },
   {
    "duration": 357,
    "start_time": "2022-08-22T14:46:41.355Z"
   },
   {
    "duration": 136,
    "start_time": "2022-08-22T14:46:41.714Z"
   },
   {
    "duration": 4,
    "start_time": "2022-08-22T14:46:41.852Z"
   },
   {
    "duration": 183,
    "start_time": "2022-08-22T14:46:41.857Z"
   },
   {
    "duration": 5,
    "start_time": "2022-08-22T14:46:42.042Z"
   },
   {
    "duration": 234,
    "start_time": "2022-08-22T14:46:42.049Z"
   },
   {
    "duration": 113,
    "start_time": "2022-08-22T14:53:42.910Z"
   },
   {
    "duration": 110,
    "start_time": "2022-08-22T14:54:11.114Z"
   },
   {
    "duration": 579,
    "start_time": "2022-08-22T14:54:38.972Z"
   },
   {
    "duration": 14,
    "start_time": "2022-08-22T14:57:06.617Z"
   },
   {
    "duration": 984,
    "start_time": "2022-08-22T14:59:00.147Z"
   },
   {
    "duration": 15,
    "start_time": "2022-08-22T14:59:11.708Z"
   },
   {
    "duration": 8,
    "start_time": "2022-08-22T15:05:14.646Z"
   },
   {
    "duration": 25,
    "start_time": "2022-08-22T15:06:36.384Z"
   },
   {
    "duration": 14,
    "start_time": "2022-08-22T15:22:39.488Z"
   },
   {
    "duration": 4,
    "start_time": "2022-08-22T15:23:19.893Z"
   },
   {
    "duration": 51,
    "start_time": "2022-08-22T18:55:04.625Z"
   },
   {
    "duration": 1216,
    "start_time": "2022-08-22T18:55:14.756Z"
   },
   {
    "duration": 89,
    "start_time": "2022-08-22T18:55:15.974Z"
   },
   {
    "duration": 13,
    "start_time": "2022-08-22T18:55:16.064Z"
   },
   {
    "duration": 15,
    "start_time": "2022-08-22T18:55:16.079Z"
   },
   {
    "duration": 179,
    "start_time": "2022-08-22T18:55:16.098Z"
   },
   {
    "duration": 579,
    "start_time": "2022-08-22T18:55:16.279Z"
   },
   {
    "duration": 198,
    "start_time": "2022-08-22T18:55:16.859Z"
   },
   {
    "duration": 370,
    "start_time": "2022-08-22T18:55:17.059Z"
   },
   {
    "duration": 208,
    "start_time": "2022-08-22T18:55:17.430Z"
   },
   {
    "duration": 313,
    "start_time": "2022-08-22T18:55:17.640Z"
   },
   {
    "duration": 150,
    "start_time": "2022-08-22T18:55:17.955Z"
   },
   {
    "duration": 10,
    "start_time": "2022-08-22T18:55:18.108Z"
   },
   {
    "duration": 159,
    "start_time": "2022-08-22T18:55:18.121Z"
   },
   {
    "duration": 8,
    "start_time": "2022-08-22T18:55:18.282Z"
   },
   {
    "duration": 549,
    "start_time": "2022-08-22T18:55:18.291Z"
   },
   {
    "duration": 12,
    "start_time": "2022-08-22T18:55:18.841Z"
   },
   {
    "duration": 34,
    "start_time": "2022-08-22T18:55:18.854Z"
   },
   {
    "duration": 36,
    "start_time": "2022-08-22T18:55:18.889Z"
   },
   {
    "duration": 12,
    "start_time": "2022-08-22T18:55:18.926Z"
   },
   {
    "duration": 2,
    "start_time": "2022-08-22T18:56:09.408Z"
   },
   {
    "duration": 380,
    "start_time": "2022-08-22T18:56:41.380Z"
   },
   {
    "duration": 202,
    "start_time": "2022-08-22T19:07:46.699Z"
   },
   {
    "duration": 373,
    "start_time": "2022-08-22T19:11:25.080Z"
   },
   {
    "duration": 122,
    "start_time": "2022-08-22T19:14:52.435Z"
   },
   {
    "duration": 5,
    "start_time": "2022-08-22T19:17:57.432Z"
   },
   {
    "duration": 207,
    "start_time": "2022-08-22T19:24:02.753Z"
   },
   {
    "duration": 923,
    "start_time": "2022-08-22T19:24:13.833Z"
   },
   {
    "duration": 152,
    "start_time": "2022-08-22T19:24:38.765Z"
   },
   {
    "duration": 127,
    "start_time": "2022-08-22T19:33:36.120Z"
   },
   {
    "duration": 1179,
    "start_time": "2022-08-22T19:34:35.576Z"
   },
   {
    "duration": 39,
    "start_time": "2022-08-22T19:34:36.756Z"
   },
   {
    "duration": 13,
    "start_time": "2022-08-22T19:34:36.801Z"
   },
   {
    "duration": 9,
    "start_time": "2022-08-22T19:34:36.816Z"
   },
   {
    "duration": 66,
    "start_time": "2022-08-22T19:34:36.827Z"
   },
   {
    "duration": 577,
    "start_time": "2022-08-22T19:34:36.898Z"
   },
   {
    "duration": 203,
    "start_time": "2022-08-22T19:34:37.476Z"
   },
   {
    "duration": 308,
    "start_time": "2022-08-22T19:34:37.680Z"
   },
   {
    "duration": 214,
    "start_time": "2022-08-22T19:34:37.995Z"
   },
   {
    "duration": 310,
    "start_time": "2022-08-22T19:34:38.211Z"
   },
   {
    "duration": 129,
    "start_time": "2022-08-22T19:34:38.522Z"
   },
   {
    "duration": 4,
    "start_time": "2022-08-22T19:34:38.652Z"
   },
   {
    "duration": 4,
    "start_time": "2022-08-22T19:34:38.658Z"
   },
   {
    "duration": 151,
    "start_time": "2022-08-22T19:34:38.663Z"
   },
   {
    "duration": 4,
    "start_time": "2022-08-22T19:34:38.815Z"
   },
   {
    "duration": 533,
    "start_time": "2022-08-22T19:34:38.821Z"
   },
   {
    "duration": 12,
    "start_time": "2022-08-22T19:34:39.356Z"
   },
   {
    "duration": 35,
    "start_time": "2022-08-22T19:34:39.369Z"
   },
   {
    "duration": 34,
    "start_time": "2022-08-22T19:34:39.408Z"
   },
   {
    "duration": 14,
    "start_time": "2022-08-22T19:34:39.443Z"
   },
   {
    "duration": 147,
    "start_time": "2022-08-22T19:35:48.864Z"
   },
   {
    "duration": 231,
    "start_time": "2022-08-22T19:38:48.129Z"
   },
   {
    "duration": 250,
    "start_time": "2022-08-22T19:41:47.411Z"
   },
   {
    "duration": 199,
    "start_time": "2022-08-22T19:43:55.960Z"
   },
   {
    "duration": 11,
    "start_time": "2022-08-22T20:00:15.133Z"
   },
   {
    "duration": 76,
    "start_time": "2022-08-22T20:06:42.635Z"
   },
   {
    "duration": 3,
    "start_time": "2022-08-22T20:07:40.705Z"
   },
   {
    "duration": 1141,
    "start_time": "2022-08-22T20:29:47.209Z"
   },
   {
    "duration": 46,
    "start_time": "2022-08-22T20:29:48.351Z"
   },
   {
    "duration": 13,
    "start_time": "2022-08-22T20:29:48.411Z"
   },
   {
    "duration": 11,
    "start_time": "2022-08-22T20:29:48.426Z"
   },
   {
    "duration": 82,
    "start_time": "2022-08-22T20:29:48.440Z"
   },
   {
    "duration": 552,
    "start_time": "2022-08-22T20:29:48.524Z"
   },
   {
    "duration": 223,
    "start_time": "2022-08-22T20:29:49.078Z"
   },
   {
    "duration": 305,
    "start_time": "2022-08-22T20:29:49.309Z"
   },
   {
    "duration": 229,
    "start_time": "2022-08-22T20:29:49.615Z"
   },
   {
    "duration": 379,
    "start_time": "2022-08-22T20:29:49.846Z"
   },
   {
    "duration": 171,
    "start_time": "2022-08-22T20:29:50.227Z"
   },
   {
    "duration": 9,
    "start_time": "2022-08-22T20:29:50.406Z"
   },
   {
    "duration": 170,
    "start_time": "2022-08-22T20:29:50.417Z"
   },
   {
    "duration": 5,
    "start_time": "2022-08-22T20:29:50.591Z"
   },
   {
    "duration": 514,
    "start_time": "2022-08-22T20:29:50.602Z"
   },
   {
    "duration": 11,
    "start_time": "2022-08-22T20:29:51.117Z"
   },
   {
    "duration": 9,
    "start_time": "2022-08-22T20:29:51.129Z"
   },
   {
    "duration": 26,
    "start_time": "2022-08-22T20:29:51.139Z"
   },
   {
    "duration": 31,
    "start_time": "2022-08-22T20:29:51.167Z"
   },
   {
    "duration": 1327,
    "start_time": "2022-08-23T06:12:03.707Z"
   },
   {
    "duration": 88,
    "start_time": "2022-08-23T06:12:05.036Z"
   },
   {
    "duration": 16,
    "start_time": "2022-08-23T06:12:05.125Z"
   },
   {
    "duration": 14,
    "start_time": "2022-08-23T06:12:05.144Z"
   },
   {
    "duration": 155,
    "start_time": "2022-08-23T06:12:05.159Z"
   },
   {
    "duration": 586,
    "start_time": "2022-08-23T06:12:05.316Z"
   },
   {
    "duration": 221,
    "start_time": "2022-08-23T06:12:05.904Z"
   },
   {
    "duration": 337,
    "start_time": "2022-08-23T06:12:06.127Z"
   },
   {
    "duration": 236,
    "start_time": "2022-08-23T06:12:06.465Z"
   },
   {
    "duration": 332,
    "start_time": "2022-08-23T06:12:06.703Z"
   },
   {
    "duration": 146,
    "start_time": "2022-08-23T06:12:07.036Z"
   },
   {
    "duration": 11,
    "start_time": "2022-08-23T06:12:07.184Z"
   },
   {
    "duration": 197,
    "start_time": "2022-08-23T06:12:07.197Z"
   },
   {
    "duration": 5,
    "start_time": "2022-08-23T06:12:07.396Z"
   },
   {
    "duration": 537,
    "start_time": "2022-08-23T06:12:07.403Z"
   },
   {
    "duration": 13,
    "start_time": "2022-08-23T06:12:07.942Z"
   },
   {
    "duration": 15,
    "start_time": "2022-08-23T06:12:07.957Z"
   },
   {
    "duration": 32,
    "start_time": "2022-08-23T06:12:07.992Z"
   },
   {
    "duration": 15,
    "start_time": "2022-08-23T06:12:08.025Z"
   },
   {
    "duration": 55,
    "start_time": "2022-08-23T20:15:05.712Z"
   },
   {
    "duration": 8,
    "start_time": "2022-08-23T20:15:55.757Z"
   },
   {
    "duration": 1243,
    "start_time": "2022-08-23T20:16:02.728Z"
   },
   {
    "duration": 71,
    "start_time": "2022-08-23T20:16:03.973Z"
   },
   {
    "duration": 14,
    "start_time": "2022-08-23T20:16:05.061Z"
   },
   {
    "duration": 12,
    "start_time": "2022-08-23T20:16:07.824Z"
   },
   {
    "duration": 198,
    "start_time": "2022-08-23T20:16:13.650Z"
   },
   {
    "duration": 165,
    "start_time": "2022-08-23T20:28:50.061Z"
   },
   {
    "duration": 76,
    "start_time": "2022-08-23T20:29:05.594Z"
   },
   {
    "duration": 77,
    "start_time": "2022-08-23T20:29:24.669Z"
   },
   {
    "duration": 25,
    "start_time": "2022-08-23T20:55:38.092Z"
   },
   {
    "duration": 15,
    "start_time": "2022-08-23T20:58:49.432Z"
   },
   {
    "duration": 14,
    "start_time": "2022-08-23T20:59:01.358Z"
   },
   {
    "duration": 1060,
    "start_time": "2022-08-23T20:59:15.243Z"
   },
   {
    "duration": 37,
    "start_time": "2022-08-23T20:59:16.305Z"
   },
   {
    "duration": 13,
    "start_time": "2022-08-23T20:59:16.344Z"
   },
   {
    "duration": 12,
    "start_time": "2022-08-23T20:59:16.359Z"
   },
   {
    "duration": 223,
    "start_time": "2022-08-23T20:59:16.373Z"
   },
   {
    "duration": 67,
    "start_time": "2022-08-23T20:59:16.602Z"
   },
   {
    "duration": 15,
    "start_time": "2022-08-23T20:59:16.670Z"
   },
   {
    "duration": 579,
    "start_time": "2022-08-23T20:59:16.687Z"
   },
   {
    "duration": 220,
    "start_time": "2022-08-23T20:59:17.268Z"
   },
   {
    "duration": 324,
    "start_time": "2022-08-23T20:59:17.490Z"
   },
   {
    "duration": 221,
    "start_time": "2022-08-23T20:59:17.816Z"
   },
   {
    "duration": 304,
    "start_time": "2022-08-23T20:59:18.039Z"
   },
   {
    "duration": 181,
    "start_time": "2022-08-23T20:59:18.346Z"
   },
   {
    "duration": 5,
    "start_time": "2022-08-23T20:59:18.530Z"
   },
   {
    "duration": 192,
    "start_time": "2022-08-23T20:59:18.537Z"
   },
   {
    "duration": 7,
    "start_time": "2022-08-23T20:59:18.731Z"
   },
   {
    "duration": 615,
    "start_time": "2022-08-23T20:59:18.739Z"
   },
   {
    "duration": 12,
    "start_time": "2022-08-23T20:59:19.356Z"
   },
   {
    "duration": 9,
    "start_time": "2022-08-23T20:59:19.370Z"
   },
   {
    "duration": 30,
    "start_time": "2022-08-23T20:59:19.404Z"
   },
   {
    "duration": 13,
    "start_time": "2022-08-23T20:59:19.436Z"
   },
   {
    "duration": 378,
    "start_time": "2022-08-23T21:04:10.816Z"
   },
   {
    "duration": 1086,
    "start_time": "2022-08-23T21:04:22.505Z"
   },
   {
    "duration": 37,
    "start_time": "2022-08-23T21:04:23.593Z"
   },
   {
    "duration": 12,
    "start_time": "2022-08-23T21:04:23.632Z"
   },
   {
    "duration": 11,
    "start_time": "2022-08-23T21:04:23.646Z"
   },
   {
    "duration": 208,
    "start_time": "2022-08-23T21:04:23.658Z"
   },
   {
    "duration": 66,
    "start_time": "2022-08-23T21:04:23.868Z"
   },
   {
    "duration": 14,
    "start_time": "2022-08-23T21:04:23.936Z"
   },
   {
    "duration": 600,
    "start_time": "2022-08-23T21:04:23.952Z"
   },
   {
    "duration": 217,
    "start_time": "2022-08-23T21:04:24.553Z"
   },
   {
    "duration": 312,
    "start_time": "2022-08-23T21:04:24.773Z"
   },
   {
    "duration": 219,
    "start_time": "2022-08-23T21:04:25.086Z"
   },
   {
    "duration": 317,
    "start_time": "2022-08-23T21:04:25.307Z"
   },
   {
    "duration": 158,
    "start_time": "2022-08-23T21:04:25.626Z"
   },
   {
    "duration": 5,
    "start_time": "2022-08-23T21:04:25.785Z"
   },
   {
    "duration": 181,
    "start_time": "2022-08-23T21:04:25.791Z"
   },
   {
    "duration": 5,
    "start_time": "2022-08-23T21:04:25.973Z"
   },
   {
    "duration": 508,
    "start_time": "2022-08-23T21:04:25.980Z"
   },
   {
    "duration": 22,
    "start_time": "2022-08-23T21:04:26.490Z"
   },
   {
    "duration": 18,
    "start_time": "2022-08-23T21:04:26.514Z"
   },
   {
    "duration": 32,
    "start_time": "2022-08-23T21:04:26.534Z"
   },
   {
    "duration": 14,
    "start_time": "2022-08-23T21:04:26.568Z"
   },
   {
    "duration": 317,
    "start_time": "2022-08-23T21:07:21.273Z"
   },
   {
    "duration": 325,
    "start_time": "2022-08-23T21:10:02.694Z"
   },
   {
    "duration": 1116,
    "start_time": "2022-08-23T21:11:51.411Z"
   },
   {
    "duration": 37,
    "start_time": "2022-08-23T21:11:52.529Z"
   },
   {
    "duration": 13,
    "start_time": "2022-08-23T21:11:52.568Z"
   },
   {
    "duration": 11,
    "start_time": "2022-08-23T21:11:52.583Z"
   },
   {
    "duration": 207,
    "start_time": "2022-08-23T21:11:52.596Z"
   },
   {
    "duration": 66,
    "start_time": "2022-08-23T21:11:52.805Z"
   },
   {
    "duration": 15,
    "start_time": "2022-08-23T21:11:52.872Z"
   },
   {
    "duration": 599,
    "start_time": "2022-08-23T21:11:52.888Z"
   },
   {
    "duration": 228,
    "start_time": "2022-08-23T21:11:53.489Z"
   },
   {
    "duration": 328,
    "start_time": "2022-08-23T21:11:53.720Z"
   },
   {
    "duration": 258,
    "start_time": "2022-08-23T21:11:54.050Z"
   },
   {
    "duration": 354,
    "start_time": "2022-08-23T21:11:54.310Z"
   },
   {
    "duration": 166,
    "start_time": "2022-08-23T21:11:54.666Z"
   },
   {
    "duration": 6,
    "start_time": "2022-08-23T21:11:54.834Z"
   },
   {
    "duration": 182,
    "start_time": "2022-08-23T21:11:54.841Z"
   },
   {
    "duration": 5,
    "start_time": "2022-08-23T21:11:55.025Z"
   },
   {
    "duration": 511,
    "start_time": "2022-08-23T21:11:55.032Z"
   },
   {
    "duration": 11,
    "start_time": "2022-08-23T21:11:55.545Z"
   },
   {
    "duration": 20,
    "start_time": "2022-08-23T21:11:55.558Z"
   },
   {
    "duration": 46,
    "start_time": "2022-08-23T21:11:55.580Z"
   },
   {
    "duration": 13,
    "start_time": "2022-08-23T21:11:55.628Z"
   },
   {
    "duration": 8,
    "start_time": "2022-08-23T21:14:39.490Z"
   },
   {
    "duration": 1006,
    "start_time": "2022-08-23T21:19:00.177Z"
   },
   {
    "duration": 1048,
    "start_time": "2022-08-23T21:19:15.150Z"
   },
   {
    "duration": 39,
    "start_time": "2022-08-23T21:19:16.200Z"
   },
   {
    "duration": 13,
    "start_time": "2022-08-23T21:19:16.241Z"
   },
   {
    "duration": 32,
    "start_time": "2022-08-23T21:19:16.256Z"
   },
   {
    "duration": 226,
    "start_time": "2022-08-23T21:19:16.290Z"
   },
   {
    "duration": 67,
    "start_time": "2022-08-23T21:19:16.518Z"
   },
   {
    "duration": 15,
    "start_time": "2022-08-23T21:19:16.586Z"
   },
   {
    "duration": 576,
    "start_time": "2022-08-23T21:19:16.602Z"
   },
   {
    "duration": 246,
    "start_time": "2022-08-23T21:19:17.179Z"
   },
   {
    "duration": 318,
    "start_time": "2022-08-23T21:19:17.430Z"
   },
   {
    "duration": 238,
    "start_time": "2022-08-23T21:19:17.750Z"
   },
   {
    "duration": 359,
    "start_time": "2022-08-23T21:19:17.989Z"
   },
   {
    "duration": 169,
    "start_time": "2022-08-23T21:19:18.349Z"
   },
   {
    "duration": 5,
    "start_time": "2022-08-23T21:19:18.520Z"
   },
   {
    "duration": 180,
    "start_time": "2022-08-23T21:19:18.527Z"
   },
   {
    "duration": 6,
    "start_time": "2022-08-23T21:19:18.709Z"
   },
   {
    "duration": 562,
    "start_time": "2022-08-23T21:19:18.717Z"
   },
   {
    "duration": 24,
    "start_time": "2022-08-23T21:19:19.280Z"
   },
   {
    "duration": 841,
    "start_time": "2022-08-23T21:19:19.305Z"
   },
   {
    "duration": 0,
    "start_time": "2022-08-23T21:19:20.147Z"
   },
   {
    "duration": 0,
    "start_time": "2022-08-23T21:19:20.148Z"
   },
   {
    "duration": 575,
    "start_time": "2022-08-23T21:20:59.095Z"
   },
   {
    "duration": 492,
    "start_time": "2022-08-23T21:21:13.632Z"
   },
   {
    "duration": 11,
    "start_time": "2022-08-23T21:24:55.183Z"
   },
   {
    "duration": 1063,
    "start_time": "2022-08-23T21:28:06.138Z"
   },
   {
    "duration": 38,
    "start_time": "2022-08-23T21:28:07.203Z"
   },
   {
    "duration": 19,
    "start_time": "2022-08-23T21:28:07.243Z"
   },
   {
    "duration": 13,
    "start_time": "2022-08-23T21:28:07.265Z"
   },
   {
    "duration": 215,
    "start_time": "2022-08-23T21:28:07.280Z"
   },
   {
    "duration": 70,
    "start_time": "2022-08-23T21:28:07.498Z"
   },
   {
    "duration": 16,
    "start_time": "2022-08-23T21:28:07.570Z"
   },
   {
    "duration": 601,
    "start_time": "2022-08-23T21:28:07.588Z"
   },
   {
    "duration": 255,
    "start_time": "2022-08-23T21:28:08.191Z"
   },
   {
    "duration": 325,
    "start_time": "2022-08-23T21:28:08.449Z"
   },
   {
    "duration": 301,
    "start_time": "2022-08-23T21:28:08.776Z"
   },
   {
    "duration": 380,
    "start_time": "2022-08-23T21:28:09.079Z"
   },
   {
    "duration": 162,
    "start_time": "2022-08-23T21:28:09.461Z"
   },
   {
    "duration": 5,
    "start_time": "2022-08-23T21:28:09.625Z"
   },
   {
    "duration": 197,
    "start_time": "2022-08-23T21:28:09.631Z"
   },
   {
    "duration": 5,
    "start_time": "2022-08-23T21:28:09.830Z"
   },
   {
    "duration": 534,
    "start_time": "2022-08-23T21:28:09.837Z"
   },
   {
    "duration": 12,
    "start_time": "2022-08-23T21:28:10.373Z"
   },
   {
    "duration": 16,
    "start_time": "2022-08-23T21:28:10.404Z"
   },
   {
    "duration": 69,
    "start_time": "2022-08-23T21:28:10.424Z"
   },
   {
    "duration": 24,
    "start_time": "2022-08-23T21:28:10.496Z"
   },
   {
    "duration": 12,
    "start_time": "2022-08-23T21:31:35.238Z"
   },
   {
    "duration": 29,
    "start_time": "2022-08-23T21:32:12.694Z"
   },
   {
    "duration": 15,
    "start_time": "2022-08-23T21:34:26.357Z"
   },
   {
    "duration": 1069,
    "start_time": "2022-08-23T21:38:19.814Z"
   },
   {
    "duration": 37,
    "start_time": "2022-08-23T21:38:20.886Z"
   },
   {
    "duration": 13,
    "start_time": "2022-08-23T21:38:20.925Z"
   },
   {
    "duration": 12,
    "start_time": "2022-08-23T21:38:20.940Z"
   },
   {
    "duration": 226,
    "start_time": "2022-08-23T21:38:20.955Z"
   },
   {
    "duration": 70,
    "start_time": "2022-08-23T21:38:21.183Z"
   },
   {
    "duration": 16,
    "start_time": "2022-08-23T21:38:21.256Z"
   },
   {
    "duration": 597,
    "start_time": "2022-08-23T21:38:21.273Z"
   },
   {
    "duration": 233,
    "start_time": "2022-08-23T21:38:21.872Z"
   },
   {
    "duration": 337,
    "start_time": "2022-08-23T21:38:22.106Z"
   },
   {
    "duration": 239,
    "start_time": "2022-08-23T21:38:22.444Z"
   },
   {
    "duration": 357,
    "start_time": "2022-08-23T21:38:22.685Z"
   },
   {
    "duration": 162,
    "start_time": "2022-08-23T21:38:23.044Z"
   },
   {
    "duration": 5,
    "start_time": "2022-08-23T21:38:23.208Z"
   },
   {
    "duration": 177,
    "start_time": "2022-08-23T21:38:23.214Z"
   },
   {
    "duration": 12,
    "start_time": "2022-08-23T21:38:23.393Z"
   },
   {
    "duration": 486,
    "start_time": "2022-08-23T21:38:23.407Z"
   },
   {
    "duration": 16,
    "start_time": "2022-08-23T21:38:23.895Z"
   },
   {
    "duration": 10,
    "start_time": "2022-08-23T21:38:23.913Z"
   },
   {
    "duration": 26,
    "start_time": "2022-08-23T21:38:23.924Z"
   },
   {
    "duration": 13,
    "start_time": "2022-08-23T21:38:23.952Z"
   }
  ],
  "kernelspec": {
   "display_name": "Python 3 (ipykernel)",
   "language": "python",
   "name": "python3"
  },
  "language_info": {
   "codemirror_mode": {
    "name": "ipython",
    "version": 3
   },
   "file_extension": ".py",
   "mimetype": "text/x-python",
   "name": "python",
   "nbconvert_exporter": "python",
   "pygments_lexer": "ipython3",
   "version": "3.9.7"
  },
  "toc": {
   "base_numbering": 1,
   "nav_menu": {},
   "number_sections": false,
   "sideBar": true,
   "skip_h1_title": true,
   "title_cell": "Table of Contents",
   "title_sidebar": "Contents",
   "toc_cell": false,
   "toc_position": {
    "height": "calc(100% - 180px)",
    "left": "10px",
    "top": "150px",
    "width": "385.556px"
   },
   "toc_section_display": true,
   "toc_window_display": true
  }
 },
 "nbformat": 4,
 "nbformat_minor": 2
}
