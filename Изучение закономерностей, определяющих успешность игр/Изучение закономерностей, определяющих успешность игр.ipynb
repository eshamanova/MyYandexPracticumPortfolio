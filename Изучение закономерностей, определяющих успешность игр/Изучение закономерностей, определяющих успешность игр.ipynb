{
 "cells": [
  {
   "cell_type": "markdown",
   "metadata": {},
   "source": [
    "### Описание проекта\n",
    "Цель проекта - анализ данных о продажах компьютерных игр интернет-магазина «Стримчик». На основе доступной из открытых источников информации о продажах игр, оценках пользователей и экспертов, жанрах и платформах (например, Xbox или PlayStation) необходимо выявить определяющие успешность игры закономерности. Это позволит сделать ставку на потенциально популярный продукт и спланировать рекламные кампании.<br>\n",
    "Имеются данные до 2016 года. Исследование проводится в декабре 2016 г. для планирования кампании на 2017-й. <br>\n",
    "В наборе данных попадается аббревиатура ESRB (Entertainment Software Rating Board) — это ассоциация, определяющая возрастной рейтинг компьютерных игр. ESRB оценивает игровой контент и присваивает ему подходящую возрастную категорию, например, «Для взрослых», «Для детей младшего возраста» или «Для подростков».\n"
   ]
  },
  {
   "cell_type": "markdown",
   "metadata": {},
   "source": [
    "## Предобработка данных"
   ]
  },
  {
   "cell_type": "markdown",
   "metadata": {},
   "source": [
    "<div class=\"alert alert-info\"> Импортируем все библиотеки, которые понадобядтся в ходе работы. Загружаем исходные данные"
   ]
  },
  {
   "cell_type": "code",
   "execution_count": 1,
   "metadata": {},
   "outputs": [
    {
     "data": {
      "text/html": [
       "<div>\n",
       "<style scoped>\n",
       "    .dataframe tbody tr th:only-of-type {\n",
       "        vertical-align: middle;\n",
       "    }\n",
       "\n",
       "    .dataframe tbody tr th {\n",
       "        vertical-align: top;\n",
       "    }\n",
       "\n",
       "    .dataframe thead th {\n",
       "        text-align: right;\n",
       "    }\n",
       "</style>\n",
       "<table border=\"1\" class=\"dataframe\">\n",
       "  <thead>\n",
       "    <tr style=\"text-align: right;\">\n",
       "      <th></th>\n",
       "      <th>Name</th>\n",
       "      <th>Platform</th>\n",
       "      <th>Year_of_Release</th>\n",
       "      <th>Genre</th>\n",
       "      <th>NA_sales</th>\n",
       "      <th>EU_sales</th>\n",
       "      <th>JP_sales</th>\n",
       "      <th>Other_sales</th>\n",
       "      <th>Critic_Score</th>\n",
       "      <th>User_Score</th>\n",
       "      <th>Rating</th>\n",
       "    </tr>\n",
       "  </thead>\n",
       "  <tbody>\n",
       "    <tr>\n",
       "      <td>0</td>\n",
       "      <td>Wii Sports</td>\n",
       "      <td>Wii</td>\n",
       "      <td>2006.0</td>\n",
       "      <td>Sports</td>\n",
       "      <td>41.36</td>\n",
       "      <td>28.96</td>\n",
       "      <td>3.77</td>\n",
       "      <td>8.45</td>\n",
       "      <td>76.0</td>\n",
       "      <td>8</td>\n",
       "      <td>E</td>\n",
       "    </tr>\n",
       "    <tr>\n",
       "      <td>1</td>\n",
       "      <td>Super Mario Bros.</td>\n",
       "      <td>NES</td>\n",
       "      <td>1985.0</td>\n",
       "      <td>Platform</td>\n",
       "      <td>29.08</td>\n",
       "      <td>3.58</td>\n",
       "      <td>6.81</td>\n",
       "      <td>0.77</td>\n",
       "      <td>NaN</td>\n",
       "      <td>NaN</td>\n",
       "      <td>NaN</td>\n",
       "    </tr>\n",
       "    <tr>\n",
       "      <td>2</td>\n",
       "      <td>Mario Kart Wii</td>\n",
       "      <td>Wii</td>\n",
       "      <td>2008.0</td>\n",
       "      <td>Racing</td>\n",
       "      <td>15.68</td>\n",
       "      <td>12.76</td>\n",
       "      <td>3.79</td>\n",
       "      <td>3.29</td>\n",
       "      <td>82.0</td>\n",
       "      <td>8.3</td>\n",
       "      <td>E</td>\n",
       "    </tr>\n",
       "    <tr>\n",
       "      <td>3</td>\n",
       "      <td>Wii Sports Resort</td>\n",
       "      <td>Wii</td>\n",
       "      <td>2009.0</td>\n",
       "      <td>Sports</td>\n",
       "      <td>15.61</td>\n",
       "      <td>10.93</td>\n",
       "      <td>3.28</td>\n",
       "      <td>2.95</td>\n",
       "      <td>80.0</td>\n",
       "      <td>8</td>\n",
       "      <td>E</td>\n",
       "    </tr>\n",
       "    <tr>\n",
       "      <td>4</td>\n",
       "      <td>Pokemon Red/Pokemon Blue</td>\n",
       "      <td>GB</td>\n",
       "      <td>1996.0</td>\n",
       "      <td>Role-Playing</td>\n",
       "      <td>11.27</td>\n",
       "      <td>8.89</td>\n",
       "      <td>10.22</td>\n",
       "      <td>1.00</td>\n",
       "      <td>NaN</td>\n",
       "      <td>NaN</td>\n",
       "      <td>NaN</td>\n",
       "    </tr>\n",
       "  </tbody>\n",
       "</table>\n",
       "</div>"
      ],
      "text/plain": [
       "                       Name Platform  Year_of_Release         Genre  NA_sales  \\\n",
       "0                Wii Sports      Wii           2006.0        Sports     41.36   \n",
       "1         Super Mario Bros.      NES           1985.0      Platform     29.08   \n",
       "2            Mario Kart Wii      Wii           2008.0        Racing     15.68   \n",
       "3         Wii Sports Resort      Wii           2009.0        Sports     15.61   \n",
       "4  Pokemon Red/Pokemon Blue       GB           1996.0  Role-Playing     11.27   \n",
       "\n",
       "   EU_sales  JP_sales  Other_sales  Critic_Score User_Score Rating  \n",
       "0     28.96      3.77         8.45          76.0          8      E  \n",
       "1      3.58      6.81         0.77           NaN        NaN    NaN  \n",
       "2     12.76      3.79         3.29          82.0        8.3      E  \n",
       "3     10.93      3.28         2.95          80.0          8      E  \n",
       "4      8.89     10.22         1.00           NaN        NaN    NaN  "
      ]
     },
     "execution_count": 1,
     "metadata": {},
     "output_type": "execute_result"
    }
   ],
   "source": [
    "import pandas as pd\n",
    "import numpy as np\n",
    "import matplotlib.pyplot as plt\n",
    "from scipy import stats as st\n",
    "\n",
    "data = pd.read_csv('/datasets/games.csv')\n",
    "data.head()"
   ]
  },
  {
   "cell_type": "markdown",
   "metadata": {},
   "source": [
    "<div class=\"alert alert-info\"> Приводим названия колонок к нижнему регистру"
   ]
  },
  {
   "cell_type": "code",
   "execution_count": 2,
   "metadata": {},
   "outputs": [],
   "source": [
    "data.columns = data.columns.str.lower()"
   ]
  },
  {
   "cell_type": "code",
   "execution_count": 3,
   "metadata": {},
   "outputs": [
    {
     "data": {
      "text/html": [
       "<div>\n",
       "<style scoped>\n",
       "    .dataframe tbody tr th:only-of-type {\n",
       "        vertical-align: middle;\n",
       "    }\n",
       "\n",
       "    .dataframe tbody tr th {\n",
       "        vertical-align: top;\n",
       "    }\n",
       "\n",
       "    .dataframe thead th {\n",
       "        text-align: right;\n",
       "    }\n",
       "</style>\n",
       "<table border=\"1\" class=\"dataframe\">\n",
       "  <thead>\n",
       "    <tr style=\"text-align: right;\">\n",
       "      <th></th>\n",
       "      <th>name</th>\n",
       "      <th>platform</th>\n",
       "      <th>year_of_release</th>\n",
       "      <th>genre</th>\n",
       "      <th>na_sales</th>\n",
       "      <th>eu_sales</th>\n",
       "      <th>jp_sales</th>\n",
       "      <th>other_sales</th>\n",
       "      <th>critic_score</th>\n",
       "      <th>user_score</th>\n",
       "      <th>rating</th>\n",
       "    </tr>\n",
       "  </thead>\n",
       "  <tbody>\n",
       "    <tr>\n",
       "      <td>0</td>\n",
       "      <td>Wii Sports</td>\n",
       "      <td>Wii</td>\n",
       "      <td>2006.0</td>\n",
       "      <td>Sports</td>\n",
       "      <td>41.36</td>\n",
       "      <td>28.96</td>\n",
       "      <td>3.77</td>\n",
       "      <td>8.45</td>\n",
       "      <td>76.0</td>\n",
       "      <td>8</td>\n",
       "      <td>E</td>\n",
       "    </tr>\n",
       "    <tr>\n",
       "      <td>1</td>\n",
       "      <td>Super Mario Bros.</td>\n",
       "      <td>NES</td>\n",
       "      <td>1985.0</td>\n",
       "      <td>Platform</td>\n",
       "      <td>29.08</td>\n",
       "      <td>3.58</td>\n",
       "      <td>6.81</td>\n",
       "      <td>0.77</td>\n",
       "      <td>NaN</td>\n",
       "      <td>NaN</td>\n",
       "      <td>NaN</td>\n",
       "    </tr>\n",
       "    <tr>\n",
       "      <td>2</td>\n",
       "      <td>Mario Kart Wii</td>\n",
       "      <td>Wii</td>\n",
       "      <td>2008.0</td>\n",
       "      <td>Racing</td>\n",
       "      <td>15.68</td>\n",
       "      <td>12.76</td>\n",
       "      <td>3.79</td>\n",
       "      <td>3.29</td>\n",
       "      <td>82.0</td>\n",
       "      <td>8.3</td>\n",
       "      <td>E</td>\n",
       "    </tr>\n",
       "    <tr>\n",
       "      <td>3</td>\n",
       "      <td>Wii Sports Resort</td>\n",
       "      <td>Wii</td>\n",
       "      <td>2009.0</td>\n",
       "      <td>Sports</td>\n",
       "      <td>15.61</td>\n",
       "      <td>10.93</td>\n",
       "      <td>3.28</td>\n",
       "      <td>2.95</td>\n",
       "      <td>80.0</td>\n",
       "      <td>8</td>\n",
       "      <td>E</td>\n",
       "    </tr>\n",
       "    <tr>\n",
       "      <td>4</td>\n",
       "      <td>Pokemon Red/Pokemon Blue</td>\n",
       "      <td>GB</td>\n",
       "      <td>1996.0</td>\n",
       "      <td>Role-Playing</td>\n",
       "      <td>11.27</td>\n",
       "      <td>8.89</td>\n",
       "      <td>10.22</td>\n",
       "      <td>1.00</td>\n",
       "      <td>NaN</td>\n",
       "      <td>NaN</td>\n",
       "      <td>NaN</td>\n",
       "    </tr>\n",
       "  </tbody>\n",
       "</table>\n",
       "</div>"
      ],
      "text/plain": [
       "                       name platform  year_of_release         genre  na_sales  \\\n",
       "0                Wii Sports      Wii           2006.0        Sports     41.36   \n",
       "1         Super Mario Bros.      NES           1985.0      Platform     29.08   \n",
       "2            Mario Kart Wii      Wii           2008.0        Racing     15.68   \n",
       "3         Wii Sports Resort      Wii           2009.0        Sports     15.61   \n",
       "4  Pokemon Red/Pokemon Blue       GB           1996.0  Role-Playing     11.27   \n",
       "\n",
       "   eu_sales  jp_sales  other_sales  critic_score user_score rating  \n",
       "0     28.96      3.77         8.45          76.0          8      E  \n",
       "1      3.58      6.81         0.77           NaN        NaN    NaN  \n",
       "2     12.76      3.79         3.29          82.0        8.3      E  \n",
       "3     10.93      3.28         2.95          80.0          8      E  \n",
       "4      8.89     10.22         1.00           NaN        NaN    NaN  "
      ]
     },
     "execution_count": 3,
     "metadata": {},
     "output_type": "execute_result"
    }
   ],
   "source": [
    "data.head()"
   ]
  },
  {
   "cell_type": "markdown",
   "metadata": {},
   "source": [
    "<div class=\"alert alert-info\"> Изучаем общую информацию о таблице с исходными данными"
   ]
  },
  {
   "cell_type": "code",
   "execution_count": 4,
   "metadata": {},
   "outputs": [
    {
     "name": "stdout",
     "output_type": "stream",
     "text": [
      "<class 'pandas.core.frame.DataFrame'>\n",
      "RangeIndex: 16715 entries, 0 to 16714\n",
      "Data columns (total 11 columns):\n",
      "name               16713 non-null object\n",
      "platform           16715 non-null object\n",
      "year_of_release    16446 non-null float64\n",
      "genre              16713 non-null object\n",
      "na_sales           16715 non-null float64\n",
      "eu_sales           16715 non-null float64\n",
      "jp_sales           16715 non-null float64\n",
      "other_sales        16715 non-null float64\n",
      "critic_score       8137 non-null float64\n",
      "user_score         10014 non-null object\n",
      "rating             9949 non-null object\n",
      "dtypes: float64(6), object(5)\n",
      "memory usage: 1.4+ MB\n"
     ]
    },
    {
     "data": {
      "text/plain": [
       "None"
      ]
     },
     "metadata": {},
     "output_type": "display_data"
    },
    {
     "name": "stdout",
     "output_type": "stream",
     "text": [
      "Количество дубликатов:  0\n"
     ]
    }
   ],
   "source": [
    "display(data.info())\n",
    "print('Количество дубликатов: ', data.duplicated().sum())"
   ]
  },
  {
   "cell_type": "code",
   "execution_count": 5,
   "metadata": {},
   "outputs": [
    {
     "data": {
      "text/plain": [
       "array(['8', nan, '8.3', '8.5', '6.6', '8.4', '8.6', '7.7', '6.3', '7.4',\n",
       "       '8.2', '9', '7.9', '8.1', '8.7', '7.1', '3.4', '5.3', '4.8', '3.2',\n",
       "       '8.9', '6.4', '7.8', '7.5', '2.6', '7.2', '9.2', '7', '7.3', '4.3',\n",
       "       '7.6', '5.7', '5', '9.1', '6.5', 'tbd', '8.8', '6.9', '9.4', '6.8',\n",
       "       '6.1', '6.7', '5.4', '4', '4.9', '4.5', '9.3', '6.2', '4.2', '6',\n",
       "       '3.7', '4.1', '5.8', '5.6', '5.5', '4.4', '4.6', '5.9', '3.9',\n",
       "       '3.1', '2.9', '5.2', '3.3', '4.7', '5.1', '3.5', '2.5', '1.9', '3',\n",
       "       '2.7', '2.2', '2', '9.5', '2.1', '3.6', '2.8', '1.8', '3.8', '0',\n",
       "       '1.6', '9.6', '2.4', '1.7', '1.1', '0.3', '1.5', '0.7', '1.2',\n",
       "       '2.3', '0.5', '1.3', '0.2', '0.6', '1.4', '0.9', '1', '9.7'],\n",
       "      dtype=object)"
      ]
     },
     "execution_count": 5,
     "metadata": {},
     "output_type": "execute_result"
    }
   ],
   "source": [
    "data['user_score'].unique()"
   ]
  },
  {
   "cell_type": "code",
   "execution_count": 6,
   "metadata": {},
   "outputs": [
    {
     "name": "stdout",
     "output_type": "stream",
     "text": [
      "Need for Speed: Most Wanted                                12\n",
      "Ratatouille                                                 9\n",
      "Madden NFL 07                                               9\n",
      "LEGO Marvel Super Heroes                                    9\n",
      "FIFA 14                                                     9\n",
      "                                                           ..\n",
      "Final Fantasy X-2                                           1\n",
      "Soccer Tsuku 2002: J-League Pro Soccer Club o Tsukurou!     1\n",
      "Namco Museum Battle Collection (JP sales)                   1\n",
      "Higurashi no Nakukoru ni Kizuna: Dai-Ni-Kan - Sou           1\n",
      "Shin Megami Tensei: Strange Journey                         1\n",
      "Name: name, Length: 11560, dtype: int64\n",
      "PS2     2161\n",
      "DS      2151\n",
      "PS3     1331\n",
      "Wii     1320\n",
      "X360    1262\n",
      "PSP     1209\n",
      "PS      1197\n",
      "PC       974\n",
      "XB       824\n",
      "GBA      822\n",
      "GC       556\n",
      "3DS      520\n",
      "PSV      430\n",
      "PS4      392\n",
      "N64      319\n",
      "XOne     247\n",
      "SNES     239\n",
      "SAT      173\n",
      "WiiU     147\n",
      "2600     133\n",
      "GB        98\n",
      "NES       98\n",
      "DC        52\n",
      "GEN       29\n",
      "NG        12\n",
      "SCD        6\n",
      "WS         6\n",
      "3DO        3\n",
      "TG16       2\n",
      "GG         1\n",
      "PCFX       1\n",
      "Name: platform, dtype: int64\n",
      "2008.0    1427\n",
      "2009.0    1426\n",
      "2010.0    1255\n",
      "2007.0    1197\n",
      "2011.0    1136\n",
      "2006.0    1006\n",
      "2005.0     939\n",
      "2002.0     829\n",
      "2003.0     775\n",
      "2004.0     762\n",
      "2012.0     653\n",
      "2015.0     606\n",
      "2014.0     581\n",
      "2013.0     544\n",
      "2016.0     502\n",
      "2001.0     482\n",
      "1998.0     379\n",
      "2000.0     350\n",
      "1999.0     338\n",
      "1997.0     289\n",
      "NaN        269\n",
      "1996.0     263\n",
      "1995.0     219\n",
      "1994.0     121\n",
      "1993.0      62\n",
      "1981.0      46\n",
      "1992.0      43\n",
      "1991.0      41\n",
      "1982.0      36\n",
      "1986.0      21\n",
      "1989.0      17\n",
      "1983.0      17\n",
      "1987.0      16\n",
      "1990.0      16\n",
      "1988.0      15\n",
      "1985.0      14\n",
      "1984.0      14\n",
      "1980.0       9\n",
      "Name: year_of_release, dtype: int64\n",
      "Action          3369\n",
      "Sports          2348\n",
      "Misc            1750\n",
      "Role-Playing    1498\n",
      "Shooter         1323\n",
      "Adventure       1303\n",
      "Racing          1249\n",
      "Platform         888\n",
      "Simulation       873\n",
      "Fighting         849\n",
      "Strategy         683\n",
      "Puzzle           580\n",
      "NaN                2\n",
      "Name: genre, dtype: int64\n",
      "0.00    4508\n",
      "0.02     576\n",
      "0.03     561\n",
      "0.04     549\n",
      "0.01     545\n",
      "        ... \n",
      "4.98       1\n",
      "4.21       1\n",
      "6.82       1\n",
      "5.05       1\n",
      "9.00       1\n",
      "Name: na_sales, Length: 402, dtype: int64\n",
      "0.00    5870\n",
      "0.01    1494\n",
      "0.02    1308\n",
      "0.03     926\n",
      "0.04     709\n",
      "        ... \n",
      "3.59       1\n",
      "4.02       1\n",
      "2.24       1\n",
      "2.27       1\n",
      "3.75       1\n",
      "Name: eu_sales, Length: 307, dtype: int64\n",
      "0.00    10514\n",
      "0.02      741\n",
      "0.01      706\n",
      "0.03      546\n",
      "0.04      397\n",
      "        ...  \n",
      "1.16        1\n",
      "2.12        1\n",
      "7.20        1\n",
      "2.17        1\n",
      "6.50        1\n",
      "Name: jp_sales, Length: 244, dtype: int64\n",
      "0.00    6601\n",
      "0.01    3464\n",
      "0.02    1618\n",
      "0.03     926\n",
      "0.04     654\n",
      "        ... \n",
      "0.96       1\n",
      "1.93       1\n",
      "0.97       1\n",
      "1.37       1\n",
      "1.06       1\n",
      "Name: other_sales, Length: 155, dtype: int64\n",
      "NaN     8578\n",
      "70.0     256\n",
      "71.0     254\n",
      "75.0     245\n",
      "78.0     240\n",
      "        ... \n",
      "20.0       3\n",
      "13.0       1\n",
      "17.0       1\n",
      "22.0       1\n",
      "21.0       1\n",
      "Name: critic_score, Length: 83, dtype: int64\n",
      "NaN    6701\n",
      "tbd    2424\n",
      "7.8     324\n",
      "8       290\n",
      "8.2     282\n",
      "       ... \n",
      "0.7       2\n",
      "0.9       2\n",
      "1         2\n",
      "9.7       1\n",
      "0         1\n",
      "Name: user_score, Length: 97, dtype: int64\n",
      "NaN     6766\n",
      "E       3990\n",
      "T       2961\n",
      "M       1563\n",
      "E10+    1420\n",
      "EC         8\n",
      "K-A        3\n",
      "RP         3\n",
      "AO         1\n",
      "Name: rating, dtype: int64\n"
     ]
    }
   ],
   "source": [
    "for c in data.columns:\n",
    "    print(data[c].value_counts(dropna=False))"
   ]
  },
  {
   "cell_type": "markdown",
   "metadata": {},
   "source": [
    "<div class=\"alert alert-info\"> Обрабатываем исходные данные: <br>\n",
    "1. приводим данные в колонке \"год выпуска\" в формат даты<br>\n",
    "2. в таблице с рейтингом пользователей присутствует значения tbd - это аббревиатура от английского To Be Determined (будет определено) или To Be Decided (будет решено). Используется, если какая-то информация еще не определена или решение по вопросу не принято. Исходя из этого, заменяем такие значения на NaN и меняем тип данных в этой колонке на числовой для удобства дальнейших расчётов<br>\n",
    "3. в таблице присутсвуют пропуски. Для сохранения объективности имеющихся данных не будем заменять их, оставим как есть. Заменим пропуски только в столбце rating, поскольку рейтинг ESRB не является обязательным для всех стран, некоторые игрф в таблице его не имеют. Чтобы не потерять эти игры при дальнейшем анализе, заменим NaN на no_rating"
   ]
  },
  {
   "cell_type": "code",
   "execution_count": 7,
   "metadata": {},
   "outputs": [
    {
     "name": "stdout",
     "output_type": "stream",
     "text": [
      "<class 'pandas.core.frame.DataFrame'>\n",
      "RangeIndex: 16715 entries, 0 to 16714\n",
      "Data columns (total 11 columns):\n",
      "name               16713 non-null object\n",
      "platform           16715 non-null object\n",
      "year_of_release    16446 non-null period[A-DEC]\n",
      "genre              16713 non-null object\n",
      "na_sales           16715 non-null float64\n",
      "eu_sales           16715 non-null float64\n",
      "jp_sales           16715 non-null float64\n",
      "other_sales        16715 non-null float64\n",
      "critic_score       8137 non-null float64\n",
      "user_score         7590 non-null float64\n",
      "rating             16715 non-null object\n",
      "dtypes: float64(6), object(4), period[A-DEC](1)\n",
      "memory usage: 1.4+ MB\n"
     ]
    }
   ],
   "source": [
    "data['year_of_release'] = pd.to_datetime(data['year_of_release'], format= '%Y').dt.to_period('Y')\n",
    "data['user_score'] = data['user_score'].replace('tbd', np.nan)\n",
    "data['user_score'] = data['user_score'].astype('float64')\n",
    "data['rating'] = data['rating'].fillna('no_rating')\n",
    "data.info()"
   ]
  },
  {
   "cell_type": "code",
   "execution_count": 8,
   "metadata": {},
   "outputs": [],
   "source": [
    "data['total_sales'] = data['na_sales'] + data['eu_sales'] + data['jp_sales'] + data['other_sales']"
   ]
  },
  {
   "cell_type": "markdown",
   "metadata": {},
   "source": [
    "<div class=\"alert alert-info\"> Посчитаем суммарные продажи во всех регионах и запишем их в отдельный столбец"
   ]
  },
  {
   "cell_type": "code",
   "execution_count": 9,
   "metadata": {},
   "outputs": [
    {
     "data": {
      "text/html": [
       "<div>\n",
       "<style scoped>\n",
       "    .dataframe tbody tr th:only-of-type {\n",
       "        vertical-align: middle;\n",
       "    }\n",
       "\n",
       "    .dataframe tbody tr th {\n",
       "        vertical-align: top;\n",
       "    }\n",
       "\n",
       "    .dataframe thead th {\n",
       "        text-align: right;\n",
       "    }\n",
       "</style>\n",
       "<table border=\"1\" class=\"dataframe\">\n",
       "  <thead>\n",
       "    <tr style=\"text-align: right;\">\n",
       "      <th></th>\n",
       "      <th>name</th>\n",
       "      <th>platform</th>\n",
       "      <th>year_of_release</th>\n",
       "      <th>genre</th>\n",
       "      <th>na_sales</th>\n",
       "      <th>eu_sales</th>\n",
       "      <th>jp_sales</th>\n",
       "      <th>other_sales</th>\n",
       "      <th>critic_score</th>\n",
       "      <th>user_score</th>\n",
       "      <th>rating</th>\n",
       "      <th>total_sales</th>\n",
       "    </tr>\n",
       "  </thead>\n",
       "  <tbody>\n",
       "    <tr>\n",
       "      <td>0</td>\n",
       "      <td>Wii Sports</td>\n",
       "      <td>Wii</td>\n",
       "      <td>2006</td>\n",
       "      <td>Sports</td>\n",
       "      <td>41.36</td>\n",
       "      <td>28.96</td>\n",
       "      <td>3.77</td>\n",
       "      <td>8.45</td>\n",
       "      <td>76.0</td>\n",
       "      <td>8.0</td>\n",
       "      <td>E</td>\n",
       "      <td>82.54</td>\n",
       "    </tr>\n",
       "    <tr>\n",
       "      <td>1</td>\n",
       "      <td>Super Mario Bros.</td>\n",
       "      <td>NES</td>\n",
       "      <td>1985</td>\n",
       "      <td>Platform</td>\n",
       "      <td>29.08</td>\n",
       "      <td>3.58</td>\n",
       "      <td>6.81</td>\n",
       "      <td>0.77</td>\n",
       "      <td>NaN</td>\n",
       "      <td>NaN</td>\n",
       "      <td>no_rating</td>\n",
       "      <td>40.24</td>\n",
       "    </tr>\n",
       "    <tr>\n",
       "      <td>2</td>\n",
       "      <td>Mario Kart Wii</td>\n",
       "      <td>Wii</td>\n",
       "      <td>2008</td>\n",
       "      <td>Racing</td>\n",
       "      <td>15.68</td>\n",
       "      <td>12.76</td>\n",
       "      <td>3.79</td>\n",
       "      <td>3.29</td>\n",
       "      <td>82.0</td>\n",
       "      <td>8.3</td>\n",
       "      <td>E</td>\n",
       "      <td>35.52</td>\n",
       "    </tr>\n",
       "    <tr>\n",
       "      <td>3</td>\n",
       "      <td>Wii Sports Resort</td>\n",
       "      <td>Wii</td>\n",
       "      <td>2009</td>\n",
       "      <td>Sports</td>\n",
       "      <td>15.61</td>\n",
       "      <td>10.93</td>\n",
       "      <td>3.28</td>\n",
       "      <td>2.95</td>\n",
       "      <td>80.0</td>\n",
       "      <td>8.0</td>\n",
       "      <td>E</td>\n",
       "      <td>32.77</td>\n",
       "    </tr>\n",
       "    <tr>\n",
       "      <td>4</td>\n",
       "      <td>Pokemon Red/Pokemon Blue</td>\n",
       "      <td>GB</td>\n",
       "      <td>1996</td>\n",
       "      <td>Role-Playing</td>\n",
       "      <td>11.27</td>\n",
       "      <td>8.89</td>\n",
       "      <td>10.22</td>\n",
       "      <td>1.00</td>\n",
       "      <td>NaN</td>\n",
       "      <td>NaN</td>\n",
       "      <td>no_rating</td>\n",
       "      <td>31.38</td>\n",
       "    </tr>\n",
       "  </tbody>\n",
       "</table>\n",
       "</div>"
      ],
      "text/plain": [
       "                       name platform year_of_release         genre  na_sales  \\\n",
       "0                Wii Sports      Wii            2006        Sports     41.36   \n",
       "1         Super Mario Bros.      NES            1985      Platform     29.08   \n",
       "2            Mario Kart Wii      Wii            2008        Racing     15.68   \n",
       "3         Wii Sports Resort      Wii            2009        Sports     15.61   \n",
       "4  Pokemon Red/Pokemon Blue       GB            1996  Role-Playing     11.27   \n",
       "\n",
       "   eu_sales  jp_sales  other_sales  critic_score  user_score     rating  \\\n",
       "0     28.96      3.77         8.45          76.0         8.0          E   \n",
       "1      3.58      6.81         0.77           NaN         NaN  no_rating   \n",
       "2     12.76      3.79         3.29          82.0         8.3          E   \n",
       "3     10.93      3.28         2.95          80.0         8.0          E   \n",
       "4      8.89     10.22         1.00           NaN         NaN  no_rating   \n",
       "\n",
       "   total_sales  \n",
       "0        82.54  \n",
       "1        40.24  \n",
       "2        35.52  \n",
       "3        32.77  \n",
       "4        31.38  "
      ]
     },
     "execution_count": 9,
     "metadata": {},
     "output_type": "execute_result"
    }
   ],
   "source": [
    "data.head()"
   ]
  },
  {
   "cell_type": "markdown",
   "metadata": {},
   "source": [
    "## Исследовательский анализ данных"
   ]
  },
  {
   "cell_type": "markdown",
   "metadata": {},
   "source": [
    "<div class=\"alert alert-info\">  Посмотрим, сколько игр выпускалось в разные годы"
   ]
  },
  {
   "cell_type": "code",
   "execution_count": 10,
   "metadata": {},
   "outputs": [
    {
     "data": {
      "text/html": [
       "<div>\n",
       "<style scoped>\n",
       "    .dataframe tbody tr th:only-of-type {\n",
       "        vertical-align: middle;\n",
       "    }\n",
       "\n",
       "    .dataframe tbody tr th {\n",
       "        vertical-align: top;\n",
       "    }\n",
       "\n",
       "    .dataframe thead th {\n",
       "        text-align: right;\n",
       "    }\n",
       "</style>\n",
       "<table border=\"1\" class=\"dataframe\">\n",
       "  <thead>\n",
       "    <tr style=\"text-align: right;\">\n",
       "      <th></th>\n",
       "      <th>name</th>\n",
       "    </tr>\n",
       "    <tr>\n",
       "      <th>year_of_release</th>\n",
       "      <th></th>\n",
       "    </tr>\n",
       "  </thead>\n",
       "  <tbody>\n",
       "    <tr>\n",
       "      <td>1980</td>\n",
       "      <td>9</td>\n",
       "    </tr>\n",
       "    <tr>\n",
       "      <td>1981</td>\n",
       "      <td>46</td>\n",
       "    </tr>\n",
       "    <tr>\n",
       "      <td>1982</td>\n",
       "      <td>36</td>\n",
       "    </tr>\n",
       "    <tr>\n",
       "      <td>1983</td>\n",
       "      <td>17</td>\n",
       "    </tr>\n",
       "    <tr>\n",
       "      <td>1984</td>\n",
       "      <td>14</td>\n",
       "    </tr>\n",
       "    <tr>\n",
       "      <td>1985</td>\n",
       "      <td>14</td>\n",
       "    </tr>\n",
       "    <tr>\n",
       "      <td>1986</td>\n",
       "      <td>21</td>\n",
       "    </tr>\n",
       "    <tr>\n",
       "      <td>1987</td>\n",
       "      <td>16</td>\n",
       "    </tr>\n",
       "    <tr>\n",
       "      <td>1988</td>\n",
       "      <td>15</td>\n",
       "    </tr>\n",
       "    <tr>\n",
       "      <td>1989</td>\n",
       "      <td>17</td>\n",
       "    </tr>\n",
       "    <tr>\n",
       "      <td>1990</td>\n",
       "      <td>16</td>\n",
       "    </tr>\n",
       "    <tr>\n",
       "      <td>1991</td>\n",
       "      <td>41</td>\n",
       "    </tr>\n",
       "    <tr>\n",
       "      <td>1992</td>\n",
       "      <td>43</td>\n",
       "    </tr>\n",
       "    <tr>\n",
       "      <td>1993</td>\n",
       "      <td>60</td>\n",
       "    </tr>\n",
       "    <tr>\n",
       "      <td>1994</td>\n",
       "      <td>121</td>\n",
       "    </tr>\n",
       "    <tr>\n",
       "      <td>1995</td>\n",
       "      <td>219</td>\n",
       "    </tr>\n",
       "    <tr>\n",
       "      <td>1996</td>\n",
       "      <td>263</td>\n",
       "    </tr>\n",
       "    <tr>\n",
       "      <td>1997</td>\n",
       "      <td>289</td>\n",
       "    </tr>\n",
       "    <tr>\n",
       "      <td>1998</td>\n",
       "      <td>379</td>\n",
       "    </tr>\n",
       "    <tr>\n",
       "      <td>1999</td>\n",
       "      <td>338</td>\n",
       "    </tr>\n",
       "    <tr>\n",
       "      <td>2000</td>\n",
       "      <td>350</td>\n",
       "    </tr>\n",
       "    <tr>\n",
       "      <td>2001</td>\n",
       "      <td>482</td>\n",
       "    </tr>\n",
       "    <tr>\n",
       "      <td>2002</td>\n",
       "      <td>829</td>\n",
       "    </tr>\n",
       "    <tr>\n",
       "      <td>2003</td>\n",
       "      <td>775</td>\n",
       "    </tr>\n",
       "    <tr>\n",
       "      <td>2004</td>\n",
       "      <td>762</td>\n",
       "    </tr>\n",
       "    <tr>\n",
       "      <td>2005</td>\n",
       "      <td>939</td>\n",
       "    </tr>\n",
       "    <tr>\n",
       "      <td>2006</td>\n",
       "      <td>1006</td>\n",
       "    </tr>\n",
       "    <tr>\n",
       "      <td>2007</td>\n",
       "      <td>1197</td>\n",
       "    </tr>\n",
       "    <tr>\n",
       "      <td>2008</td>\n",
       "      <td>1427</td>\n",
       "    </tr>\n",
       "    <tr>\n",
       "      <td>2009</td>\n",
       "      <td>1426</td>\n",
       "    </tr>\n",
       "    <tr>\n",
       "      <td>2010</td>\n",
       "      <td>1255</td>\n",
       "    </tr>\n",
       "    <tr>\n",
       "      <td>2011</td>\n",
       "      <td>1136</td>\n",
       "    </tr>\n",
       "    <tr>\n",
       "      <td>2012</td>\n",
       "      <td>653</td>\n",
       "    </tr>\n",
       "    <tr>\n",
       "      <td>2013</td>\n",
       "      <td>544</td>\n",
       "    </tr>\n",
       "    <tr>\n",
       "      <td>2014</td>\n",
       "      <td>581</td>\n",
       "    </tr>\n",
       "    <tr>\n",
       "      <td>2015</td>\n",
       "      <td>606</td>\n",
       "    </tr>\n",
       "    <tr>\n",
       "      <td>2016</td>\n",
       "      <td>502</td>\n",
       "    </tr>\n",
       "  </tbody>\n",
       "</table>\n",
       "</div>"
      ],
      "text/plain": [
       "                 name\n",
       "year_of_release      \n",
       "1980                9\n",
       "1981               46\n",
       "1982               36\n",
       "1983               17\n",
       "1984               14\n",
       "1985               14\n",
       "1986               21\n",
       "1987               16\n",
       "1988               15\n",
       "1989               17\n",
       "1990               16\n",
       "1991               41\n",
       "1992               43\n",
       "1993               60\n",
       "1994              121\n",
       "1995              219\n",
       "1996              263\n",
       "1997              289\n",
       "1998              379\n",
       "1999              338\n",
       "2000              350\n",
       "2001              482\n",
       "2002              829\n",
       "2003              775\n",
       "2004              762\n",
       "2005              939\n",
       "2006             1006\n",
       "2007             1197\n",
       "2008             1427\n",
       "2009             1426\n",
       "2010             1255\n",
       "2011             1136\n",
       "2012              653\n",
       "2013              544\n",
       "2014              581\n",
       "2015              606\n",
       "2016              502"
      ]
     },
     "metadata": {},
     "output_type": "display_data"
    }
   ],
   "source": [
    "data_year_of_release = data.pivot_table(index='year_of_release', values='name', aggfunc='count')\n",
    "display(data_year_of_release)"
   ]
  },
  {
   "cell_type": "markdown",
   "metadata": {},
   "source": [
    "<div class=\"alert alert-info\">   Количество выпускаемых игр росло до 2008 года, после чего начиная с 2012 показатель сократился почти в 2 раза и остаётся примерно на одном уровне <br>"
   ]
  },
  {
   "cell_type": "markdown",
   "metadata": {},
   "source": [
    "<div class=\"alert alert-info\">   Посмотрим, как менялись продажи по платформам по годам. Для этого сначала выберем платформы с максимальными суммарными продажами"
   ]
  },
  {
   "cell_type": "code",
   "execution_count": 11,
   "metadata": {},
   "outputs": [
    {
     "data": {
      "text/html": [
       "<div>\n",
       "<style scoped>\n",
       "    .dataframe tbody tr th:only-of-type {\n",
       "        vertical-align: middle;\n",
       "    }\n",
       "\n",
       "    .dataframe tbody tr th {\n",
       "        vertical-align: top;\n",
       "    }\n",
       "\n",
       "    .dataframe thead th {\n",
       "        text-align: right;\n",
       "    }\n",
       "</style>\n",
       "<table border=\"1\" class=\"dataframe\">\n",
       "  <thead>\n",
       "    <tr style=\"text-align: right;\">\n",
       "      <th></th>\n",
       "      <th>total_sales</th>\n",
       "    </tr>\n",
       "    <tr>\n",
       "      <th>platform</th>\n",
       "      <th></th>\n",
       "    </tr>\n",
       "  </thead>\n",
       "  <tbody>\n",
       "    <tr>\n",
       "      <td>PCFX</td>\n",
       "      <td>0.03</td>\n",
       "    </tr>\n",
       "    <tr>\n",
       "      <td>GG</td>\n",
       "      <td>0.04</td>\n",
       "    </tr>\n",
       "    <tr>\n",
       "      <td>3DO</td>\n",
       "      <td>0.10</td>\n",
       "    </tr>\n",
       "    <tr>\n",
       "      <td>TG16</td>\n",
       "      <td>0.16</td>\n",
       "    </tr>\n",
       "    <tr>\n",
       "      <td>WS</td>\n",
       "      <td>1.42</td>\n",
       "    </tr>\n",
       "    <tr>\n",
       "      <td>NG</td>\n",
       "      <td>1.44</td>\n",
       "    </tr>\n",
       "    <tr>\n",
       "      <td>SCD</td>\n",
       "      <td>1.86</td>\n",
       "    </tr>\n",
       "    <tr>\n",
       "      <td>DC</td>\n",
       "      <td>15.95</td>\n",
       "    </tr>\n",
       "    <tr>\n",
       "      <td>GEN</td>\n",
       "      <td>30.77</td>\n",
       "    </tr>\n",
       "    <tr>\n",
       "      <td>SAT</td>\n",
       "      <td>33.59</td>\n",
       "    </tr>\n",
       "    <tr>\n",
       "      <td>PSV</td>\n",
       "      <td>54.07</td>\n",
       "    </tr>\n",
       "    <tr>\n",
       "      <td>WiiU</td>\n",
       "      <td>82.19</td>\n",
       "    </tr>\n",
       "    <tr>\n",
       "      <td>2600</td>\n",
       "      <td>96.98</td>\n",
       "    </tr>\n",
       "    <tr>\n",
       "      <td>XOne</td>\n",
       "      <td>159.32</td>\n",
       "    </tr>\n",
       "    <tr>\n",
       "      <td>GC</td>\n",
       "      <td>198.93</td>\n",
       "    </tr>\n",
       "    <tr>\n",
       "      <td>SNES</td>\n",
       "      <td>200.04</td>\n",
       "    </tr>\n",
       "    <tr>\n",
       "      <td>N64</td>\n",
       "      <td>218.68</td>\n",
       "    </tr>\n",
       "    <tr>\n",
       "      <td>NES</td>\n",
       "      <td>251.05</td>\n",
       "    </tr>\n",
       "    <tr>\n",
       "      <td>GB</td>\n",
       "      <td>255.46</td>\n",
       "    </tr>\n",
       "    <tr>\n",
       "      <td>XB</td>\n",
       "      <td>257.74</td>\n",
       "    </tr>\n",
       "    <tr>\n",
       "      <td>3DS</td>\n",
       "      <td>259.00</td>\n",
       "    </tr>\n",
       "    <tr>\n",
       "      <td>PC</td>\n",
       "      <td>259.52</td>\n",
       "    </tr>\n",
       "    <tr>\n",
       "      <td>PSP</td>\n",
       "      <td>294.05</td>\n",
       "    </tr>\n",
       "    <tr>\n",
       "      <td>PS4</td>\n",
       "      <td>314.14</td>\n",
       "    </tr>\n",
       "    <tr>\n",
       "      <td>GBA</td>\n",
       "      <td>317.85</td>\n",
       "    </tr>\n",
       "    <tr>\n",
       "      <td>PS</td>\n",
       "      <td>730.86</td>\n",
       "    </tr>\n",
       "    <tr>\n",
       "      <td>DS</td>\n",
       "      <td>806.12</td>\n",
       "    </tr>\n",
       "    <tr>\n",
       "      <td>Wii</td>\n",
       "      <td>907.51</td>\n",
       "    </tr>\n",
       "    <tr>\n",
       "      <td>PS3</td>\n",
       "      <td>939.65</td>\n",
       "    </tr>\n",
       "    <tr>\n",
       "      <td>X360</td>\n",
       "      <td>971.42</td>\n",
       "    </tr>\n",
       "    <tr>\n",
       "      <td>PS2</td>\n",
       "      <td>1255.77</td>\n",
       "    </tr>\n",
       "  </tbody>\n",
       "</table>\n",
       "</div>"
      ],
      "text/plain": [
       "          total_sales\n",
       "platform             \n",
       "PCFX             0.03\n",
       "GG               0.04\n",
       "3DO              0.10\n",
       "TG16             0.16\n",
       "WS               1.42\n",
       "NG               1.44\n",
       "SCD              1.86\n",
       "DC              15.95\n",
       "GEN             30.77\n",
       "SAT             33.59\n",
       "PSV             54.07\n",
       "WiiU            82.19\n",
       "2600            96.98\n",
       "XOne           159.32\n",
       "GC             198.93\n",
       "SNES           200.04\n",
       "N64            218.68\n",
       "NES            251.05\n",
       "GB             255.46\n",
       "XB             257.74\n",
       "3DS            259.00\n",
       "PC             259.52\n",
       "PSP            294.05\n",
       "PS4            314.14\n",
       "GBA            317.85\n",
       "PS             730.86\n",
       "DS             806.12\n",
       "Wii            907.51\n",
       "PS3            939.65\n",
       "X360           971.42\n",
       "PS2           1255.77"
      ]
     },
     "metadata": {},
     "output_type": "display_data"
    }
   ],
   "source": [
    "data_sales_by_platforms = data.pivot_table(index='platform', values='total_sales', aggfunc='sum')\n",
    "display(data_sales_by_platforms.sort_values('total_sales'))"
   ]
  },
  {
   "cell_type": "markdown",
   "metadata": {},
   "source": [
    "<div class=\"alert alert-info\">  Возьмём 6 платформ с максимальными суммарными продажами и для каждой изучим объёмы продаж по годам "
   ]
  },
  {
   "cell_type": "code",
   "execution_count": 12,
   "metadata": {},
   "outputs": [
    {
     "data": {
      "text/plain": [
       "<matplotlib.axes._subplots.AxesSubplot at 0x7f23f1d30910>"
      ]
     },
     "execution_count": 12,
     "metadata": {},
     "output_type": "execute_result"
    },
    {
     "data": {
      "image/png": "[encoded data removed]",
      "text/plain": [
       "<Figure size 864x360 with 1 Axes>"
      ]
     },
     "metadata": {
      "needs_background": "light"
     },
     "output_type": "display_data"
    }
   ],
   "source": [
    "(data\n",
    "    .query('platform == \"PS\"')\n",
    "    .pivot_table(index='year_of_release', values='total_sales', aggfunc='sum')\n",
    "    .plot(kind='bar', grid=True, figsize=(12,5))\n",
    ")"
   ]
  },
  {
   "cell_type": "code",
   "execution_count": 13,
   "metadata": {},
   "outputs": [
    {
     "data": {
      "text/plain": [
       "<matplotlib.axes._subplots.AxesSubplot at 0x7f23f1d30e10>"
      ]
     },
     "execution_count": 13,
     "metadata": {},
     "output_type": "execute_result"
    },
    {
     "data": {
      "image/png": "[encoded data removed]",
      "text/plain": [
       "<Figure size 864x360 with 1 Axes>"
      ]
     },
     "metadata": {
      "needs_background": "light"
     },
     "output_type": "display_data"
    }
   ],
   "source": [
    "(data\n",
    "    .query('platform == \"DS\"')\n",
    "    .pivot_table(index='year_of_release', values='total_sales', aggfunc='sum')\n",
    "    .plot(kind='bar', grid=True, figsize=(12,5))\n",
    ")"
   ]
  },
  {
   "cell_type": "code",
   "execution_count": 14,
   "metadata": {},
   "outputs": [
    {
     "data": {
      "text/plain": [
       "<matplotlib.axes._subplots.AxesSubplot at 0x7f23e9513ad0>"
      ]
     },
     "execution_count": 14,
     "metadata": {},
     "output_type": "execute_result"
    },
    {
     "data": {
      "image/png": "[encoded data removed]",
      "text/plain": [
       "<Figure size 864x360 with 1 Axes>"
      ]
     },
     "metadata": {
      "needs_background": "light"
     },
     "output_type": "display_data"
    }
   ],
   "source": [
    "(data\n",
    "    .query('platform == \"Wii\"')\n",
    "    .pivot_table(index='year_of_release', values='total_sales', aggfunc='sum')\n",
    "    .plot(kind='bar', grid=True, figsize=(12,5))\n",
    ")"
   ]
  },
  {
   "cell_type": "code",
   "execution_count": 15,
   "metadata": {},
   "outputs": [
    {
     "data": {
      "text/plain": [
       "<matplotlib.axes._subplots.AxesSubplot at 0x7f23e95778d0>"
      ]
     },
     "execution_count": 15,
     "metadata": {},
     "output_type": "execute_result"
    },
    {
     "data": {
      "image/png": "[encoded data removed]",
      "text/plain": [
       "<Figure size 864x360 with 1 Axes>"
      ]
     },
     "metadata": {
      "needs_background": "light"
     },
     "output_type": "display_data"
    }
   ],
   "source": [
    "(data\n",
    "    .query('platform == \"PS3\"')\n",
    "    .pivot_table(index='year_of_release', values='total_sales', aggfunc='sum')\n",
    "    .plot(kind='bar', grid=True, figsize=(12,5))\n",
    ")"
   ]
  },
  {
   "cell_type": "code",
   "execution_count": 16,
   "metadata": {},
   "outputs": [
    {
     "data": {
      "text/plain": [
       "<matplotlib.axes._subplots.AxesSubplot at 0x7f23e93f08d0>"
      ]
     },
     "execution_count": 16,
     "metadata": {},
     "output_type": "execute_result"
    },
    {
     "data": {
      "image/png": "[encoded data removed]",
      "text/plain": [
       "<Figure size 864x360 with 1 Axes>"
      ]
     },
     "metadata": {
      "needs_background": "light"
     },
     "output_type": "display_data"
    }
   ],
   "source": [
    "(data\n",
    "    .query('platform == \"X360\"')\n",
    "    .pivot_table(index='year_of_release', values='total_sales', aggfunc='sum')\n",
    "    .plot(kind='bar', grid=True, figsize=(12,5))\n",
    ")"
   ]
  },
  {
   "cell_type": "code",
   "execution_count": 17,
   "metadata": {},
   "outputs": [
    {
     "data": {
      "text/plain": [
       "<matplotlib.axes._subplots.AxesSubplot at 0x7f23e93d7e90>"
      ]
     },
     "execution_count": 17,
     "metadata": {},
     "output_type": "execute_result"
    },
    {
     "data": {
      "image/png": "[encoded data removed]",
      "text/plain": [
       "<Figure size 864x360 with 1 Axes>"
      ]
     },
     "metadata": {
      "needs_background": "light"
     },
     "output_type": "display_data"
    }
   ],
   "source": [
    "(data\n",
    "    .query('platform == \"PS2\"')\n",
    "    .pivot_table(index='year_of_release', values='total_sales', aggfunc='sum')\n",
    "    .plot(kind='bar', grid=True, figsize=(12,5))\n",
    ")"
   ]
  },
  {
   "cell_type": "markdown",
   "metadata": {},
   "source": [
    "<div class=\"alert alert-info\">  За какой характерный срок появляются новые и исчезают старые платформы? 9-10 лет <br>\n",
    "Актуальный период, который будем использовать для прогнозирования - с 2014 года, данные за предыдущие годы в дальнейшем исследовании учитываться не будут"
   ]
  },
  {
   "cell_type": "markdown",
   "metadata": {},
   "source": [
    "<div class=\"alert alert-info\">  Далее посмотрим как распределялись продажи на разных платформах за актуальный период"
   ]
  },
  {
   "cell_type": "code",
   "execution_count": 18,
   "metadata": {},
   "outputs": [
    {
     "data": {
      "text/plain": [
       "<matplotlib.axes._subplots.AxesSubplot at 0x7f23e9246350>"
      ]
     },
     "execution_count": 18,
     "metadata": {},
     "output_type": "execute_result"
    },
    {
     "data": {
      "image/png": "[encoded data removed]",
      "text/plain": [
       "<Figure size 504x504 with 1 Axes>"
      ]
     },
     "metadata": {
      "needs_background": "light"
     },
     "output_type": "display_data"
    }
   ],
   "source": [
    "(data\n",
    "    .query('year_of_release >= 2014')\n",
    "    .pivot_table(index='year_of_release', columns='platform', values='total_sales', aggfunc='sum')\n",
    "    .plot(grid=True, figsize=(7,7), style='o-')\n",
    ")"
   ]
  },
  {
   "cell_type": "markdown",
   "metadata": {},
   "source": [
    "<div class=\"alert alert-info\">  Явными лидерами по продажам за актуальный период являются PS4, Xone, 3DS. Продажи всех платформ снижаются"
   ]
  },
  {
   "cell_type": "code",
   "execution_count": 19,
   "metadata": {},
   "outputs": [
    {
     "data": {
      "text/html": [
       "<div>\n",
       "<style scoped>\n",
       "    .dataframe tbody tr th:only-of-type {\n",
       "        vertical-align: middle;\n",
       "    }\n",
       "\n",
       "    .dataframe tbody tr th {\n",
       "        vertical-align: top;\n",
       "    }\n",
       "\n",
       "    .dataframe thead th {\n",
       "        text-align: right;\n",
       "    }\n",
       "</style>\n",
       "<table border=\"1\" class=\"dataframe\">\n",
       "  <thead>\n",
       "    <tr style=\"text-align: right;\">\n",
       "      <th></th>\n",
       "      <th>name</th>\n",
       "      <th>platform</th>\n",
       "      <th>year_of_release</th>\n",
       "      <th>genre</th>\n",
       "      <th>na_sales</th>\n",
       "      <th>eu_sales</th>\n",
       "      <th>jp_sales</th>\n",
       "      <th>other_sales</th>\n",
       "      <th>critic_score</th>\n",
       "      <th>user_score</th>\n",
       "      <th>rating</th>\n",
       "      <th>total_sales</th>\n",
       "    </tr>\n",
       "  </thead>\n",
       "  <tbody>\n",
       "    <tr>\n",
       "      <td>31</td>\n",
       "      <td>Call of Duty: Black Ops 3</td>\n",
       "      <td>PS4</td>\n",
       "      <td>2015</td>\n",
       "      <td>Shooter</td>\n",
       "      <td>6.03</td>\n",
       "      <td>5.86</td>\n",
       "      <td>0.36</td>\n",
       "      <td>2.38</td>\n",
       "      <td>NaN</td>\n",
       "      <td>NaN</td>\n",
       "      <td>no_rating</td>\n",
       "      <td>14.63</td>\n",
       "    </tr>\n",
       "    <tr>\n",
       "      <td>42</td>\n",
       "      <td>Grand Theft Auto V</td>\n",
       "      <td>PS4</td>\n",
       "      <td>2014</td>\n",
       "      <td>Action</td>\n",
       "      <td>3.96</td>\n",
       "      <td>6.31</td>\n",
       "      <td>0.38</td>\n",
       "      <td>1.97</td>\n",
       "      <td>97.0</td>\n",
       "      <td>8.3</td>\n",
       "      <td>M</td>\n",
       "      <td>12.62</td>\n",
       "    </tr>\n",
       "    <tr>\n",
       "      <td>47</td>\n",
       "      <td>Pokemon Omega Ruby/Pokemon Alpha Sapphire</td>\n",
       "      <td>3DS</td>\n",
       "      <td>2014</td>\n",
       "      <td>Role-Playing</td>\n",
       "      <td>4.35</td>\n",
       "      <td>3.49</td>\n",
       "      <td>3.10</td>\n",
       "      <td>0.74</td>\n",
       "      <td>NaN</td>\n",
       "      <td>NaN</td>\n",
       "      <td>no_rating</td>\n",
       "      <td>11.68</td>\n",
       "    </tr>\n",
       "    <tr>\n",
       "      <td>77</td>\n",
       "      <td>FIFA 16</td>\n",
       "      <td>PS4</td>\n",
       "      <td>2015</td>\n",
       "      <td>Sports</td>\n",
       "      <td>1.12</td>\n",
       "      <td>6.12</td>\n",
       "      <td>0.06</td>\n",
       "      <td>1.28</td>\n",
       "      <td>82.0</td>\n",
       "      <td>4.3</td>\n",
       "      <td>E</td>\n",
       "      <td>8.58</td>\n",
       "    </tr>\n",
       "    <tr>\n",
       "      <td>87</td>\n",
       "      <td>Star Wars Battlefront (2015)</td>\n",
       "      <td>PS4</td>\n",
       "      <td>2015</td>\n",
       "      <td>Shooter</td>\n",
       "      <td>2.99</td>\n",
       "      <td>3.49</td>\n",
       "      <td>0.22</td>\n",
       "      <td>1.28</td>\n",
       "      <td>NaN</td>\n",
       "      <td>NaN</td>\n",
       "      <td>no_rating</td>\n",
       "      <td>7.98</td>\n",
       "    </tr>\n",
       "    <tr>\n",
       "      <td>...</td>\n",
       "      <td>...</td>\n",
       "      <td>...</td>\n",
       "      <td>...</td>\n",
       "      <td>...</td>\n",
       "      <td>...</td>\n",
       "      <td>...</td>\n",
       "      <td>...</td>\n",
       "      <td>...</td>\n",
       "      <td>...</td>\n",
       "      <td>...</td>\n",
       "      <td>...</td>\n",
       "      <td>...</td>\n",
       "    </tr>\n",
       "    <tr>\n",
       "      <td>16645</td>\n",
       "      <td>ZombiU</td>\n",
       "      <td>XOne</td>\n",
       "      <td>2016</td>\n",
       "      <td>Action</td>\n",
       "      <td>0.00</td>\n",
       "      <td>0.01</td>\n",
       "      <td>0.00</td>\n",
       "      <td>0.00</td>\n",
       "      <td>NaN</td>\n",
       "      <td>NaN</td>\n",
       "      <td>no_rating</td>\n",
       "      <td>0.01</td>\n",
       "    </tr>\n",
       "    <tr>\n",
       "      <td>16660</td>\n",
       "      <td>Prison Architect</td>\n",
       "      <td>XOne</td>\n",
       "      <td>2016</td>\n",
       "      <td>Action</td>\n",
       "      <td>0.01</td>\n",
       "      <td>0.00</td>\n",
       "      <td>0.00</td>\n",
       "      <td>0.00</td>\n",
       "      <td>74.0</td>\n",
       "      <td>6.7</td>\n",
       "      <td>no_rating</td>\n",
       "      <td>0.01</td>\n",
       "    </tr>\n",
       "    <tr>\n",
       "      <td>16668</td>\n",
       "      <td>Fujiko F. Fujio Characters: Great Assembly! Sl...</td>\n",
       "      <td>3DS</td>\n",
       "      <td>2014</td>\n",
       "      <td>Action</td>\n",
       "      <td>0.00</td>\n",
       "      <td>0.00</td>\n",
       "      <td>0.01</td>\n",
       "      <td>0.00</td>\n",
       "      <td>NaN</td>\n",
       "      <td>NaN</td>\n",
       "      <td>no_rating</td>\n",
       "      <td>0.01</td>\n",
       "    </tr>\n",
       "    <tr>\n",
       "      <td>16672</td>\n",
       "      <td>Metal Gear Solid V: The Definitive Experience</td>\n",
       "      <td>XOne</td>\n",
       "      <td>2016</td>\n",
       "      <td>Action</td>\n",
       "      <td>0.01</td>\n",
       "      <td>0.00</td>\n",
       "      <td>0.00</td>\n",
       "      <td>0.00</td>\n",
       "      <td>NaN</td>\n",
       "      <td>NaN</td>\n",
       "      <td>M</td>\n",
       "      <td>0.01</td>\n",
       "    </tr>\n",
       "    <tr>\n",
       "      <td>16677</td>\n",
       "      <td>Aikatsu Stars! My Special Appeal</td>\n",
       "      <td>3DS</td>\n",
       "      <td>2016</td>\n",
       "      <td>Action</td>\n",
       "      <td>0.00</td>\n",
       "      <td>0.00</td>\n",
       "      <td>0.01</td>\n",
       "      <td>0.00</td>\n",
       "      <td>NaN</td>\n",
       "      <td>NaN</td>\n",
       "      <td>no_rating</td>\n",
       "      <td>0.01</td>\n",
       "    </tr>\n",
       "  </tbody>\n",
       "</table>\n",
       "<p>816 rows × 12 columns</p>\n",
       "</div>"
      ],
      "text/plain": [
       "                                                    name platform  \\\n",
       "31                             Call of Duty: Black Ops 3      PS4   \n",
       "42                                    Grand Theft Auto V      PS4   \n",
       "47             Pokemon Omega Ruby/Pokemon Alpha Sapphire      3DS   \n",
       "77                                               FIFA 16      PS4   \n",
       "87                          Star Wars Battlefront (2015)      PS4   \n",
       "...                                                  ...      ...   \n",
       "16645                                             ZombiU     XOne   \n",
       "16660                                   Prison Architect     XOne   \n",
       "16668  Fujiko F. Fujio Characters: Great Assembly! Sl...      3DS   \n",
       "16672      Metal Gear Solid V: The Definitive Experience     XOne   \n",
       "16677                   Aikatsu Stars! My Special Appeal      3DS   \n",
       "\n",
       "      year_of_release         genre  na_sales  eu_sales  jp_sales  \\\n",
       "31               2015       Shooter      6.03      5.86      0.36   \n",
       "42               2014        Action      3.96      6.31      0.38   \n",
       "47               2014  Role-Playing      4.35      3.49      3.10   \n",
       "77               2015        Sports      1.12      6.12      0.06   \n",
       "87               2015       Shooter      2.99      3.49      0.22   \n",
       "...               ...           ...       ...       ...       ...   \n",
       "16645            2016        Action      0.00      0.01      0.00   \n",
       "16660            2016        Action      0.01      0.00      0.00   \n",
       "16668            2014        Action      0.00      0.00      0.01   \n",
       "16672            2016        Action      0.01      0.00      0.00   \n",
       "16677            2016        Action      0.00      0.00      0.01   \n",
       "\n",
       "       other_sales  critic_score  user_score     rating  total_sales  \n",
       "31            2.38           NaN         NaN  no_rating        14.63  \n",
       "42            1.97          97.0         8.3          M        12.62  \n",
       "47            0.74           NaN         NaN  no_rating        11.68  \n",
       "77            1.28          82.0         4.3          E         8.58  \n",
       "87            1.28           NaN         NaN  no_rating         7.98  \n",
       "...            ...           ...         ...        ...          ...  \n",
       "16645         0.00           NaN         NaN  no_rating         0.01  \n",
       "16660         0.00          74.0         6.7  no_rating         0.01  \n",
       "16668         0.00           NaN         NaN  no_rating         0.01  \n",
       "16672         0.00           NaN         NaN          M         0.01  \n",
       "16677         0.00           NaN         NaN  no_rating         0.01  \n",
       "\n",
       "[816 rows x 12 columns]"
      ]
     },
     "execution_count": 19,
     "metadata": {},
     "output_type": "execute_result"
    }
   ],
   "source": [
    "top_platforms = ['PS4', 'XOne', '3DS']\n",
    "period = ['2014', '2015', '2016']\n",
    "\n",
    "data_actual_period = data.query('year_of_release >= 2014')\n",
    "data_actual = data.query('year_of_release >= 2014 and platform in @top_platforms')\n",
    "data_actual_total_sales = data_actual.drop(data_actual.columns[[0, 3, 4, 5, 6, 7, 8, 9, 10]], axis=1)\n",
    "data_actual\n"
   ]
  },
  {
   "cell_type": "markdown",
   "metadata": {},
   "source": [
    "<div class=\"alert alert-info\">  Построим график «ящик с усами» по глобальным продажам игр в разбивке по 3ём наиболее популярным платформам"
   ]
  },
  {
   "cell_type": "code",
   "execution_count": 20,
   "metadata": {
    "scrolled": true
   },
   "outputs": [
    {
     "name": "stderr",
     "output_type": "stream",
     "text": [
      "/opt/conda/lib/python3.7/site-packages/numpy/core/_asarray.py:83: VisibleDeprecationWarning: Creating an ndarray from ragged nested sequences (which is a list-or-tuple of lists-or-tuples-or ndarrays with different lengths or shapes) is deprecated. If you meant to do this, you must specify 'dtype=object' when creating the ndarray\n",
      "  return array(a, dtype, copy=False, order=order)\n"
     ]
    },
    {
     "data": {
      "image/png": "[encoded data removed]",
      "text/plain": [
       "<Figure size 864x360 with 1 Axes>"
      ]
     },
     "metadata": {
      "needs_background": "light"
     },
     "output_type": "display_data"
    }
   ],
   "source": [
    "data_actual_total_sales.boxplot(by='platform', figsize=(12,5))\n",
    "plt.title('Распределение общих продаж по платформам') \n",
    "plt.ylabel('Общие продажи')\n",
    "plt.xlabel('Платформы')\n",
    "plt.show()"
   ]
  },
  {
   "cell_type": "markdown",
   "metadata": {},
   "source": [
    "<div class=\"alert alert-info\">  Отсечём выбросы по оси y чтобы лучше видеть сами «ящики». Также создадим сводную таблицу с опсианием распределения значений для каждой платформы"
   ]
  },
  {
   "cell_type": "code",
   "execution_count": 21,
   "metadata": {
    "scrolled": true
   },
   "outputs": [
    {
     "name": "stderr",
     "output_type": "stream",
     "text": [
      "/opt/conda/lib/python3.7/site-packages/numpy/core/_asarray.py:83: VisibleDeprecationWarning: Creating an ndarray from ragged nested sequences (which is a list-or-tuple of lists-or-tuples-or ndarrays with different lengths or shapes) is deprecated. If you meant to do this, you must specify 'dtype=object' when creating the ndarray\n",
      "  return array(a, dtype, copy=False, order=order)\n"
     ]
    },
    {
     "data": {
      "image/png": "[encoded data removed]",
      "text/plain": [
       "<Figure size 864x360 with 1 Axes>"
      ]
     },
     "metadata": {
      "needs_background": "light"
     },
     "output_type": "display_data"
    }
   ],
   "source": [
    "data_actual_total_sales.boxplot(by='platform', figsize=(12,5))\n",
    "plt.title('Распределение общих продаж по платформам') \n",
    "plt.ylim(0, 2)\n",
    "plt.ylabel('Общие продажи')\n",
    "plt.xlabel('Платформы')\n",
    "plt.show()"
   ]
  },
  {
   "cell_type": "code",
   "execution_count": 22,
   "metadata": {},
   "outputs": [
    {
     "data": {
      "text/html": [
       "<div>\n",
       "<style scoped>\n",
       "    .dataframe tbody tr th:only-of-type {\n",
       "        vertical-align: middle;\n",
       "    }\n",
       "\n",
       "    .dataframe tbody tr th {\n",
       "        vertical-align: top;\n",
       "    }\n",
       "\n",
       "    .dataframe thead th {\n",
       "        text-align: right;\n",
       "    }\n",
       "</style>\n",
       "<table border=\"1\" class=\"dataframe\">\n",
       "  <thead>\n",
       "    <tr style=\"text-align: right;\">\n",
       "      <th></th>\n",
       "      <th>25%</th>\n",
       "      <th>50%</th>\n",
       "      <th>75%</th>\n",
       "      <th>count</th>\n",
       "      <th>max</th>\n",
       "      <th>mean</th>\n",
       "      <th>min</th>\n",
       "      <th>std</th>\n",
       "    </tr>\n",
       "    <tr>\n",
       "      <th>platform</th>\n",
       "      <th></th>\n",
       "      <th></th>\n",
       "      <th></th>\n",
       "      <th></th>\n",
       "      <th></th>\n",
       "      <th></th>\n",
       "      <th></th>\n",
       "      <th></th>\n",
       "    </tr>\n",
       "  </thead>\n",
       "  <tbody>\n",
       "    <tr>\n",
       "      <td>3DS</td>\n",
       "      <td>0.0300</td>\n",
       "      <td>0.090</td>\n",
       "      <td>0.2500</td>\n",
       "      <td>212.0</td>\n",
       "      <td>11.68</td>\n",
       "      <td>0.408868</td>\n",
       "      <td>0.01</td>\n",
       "      <td>1.188368</td>\n",
       "    </tr>\n",
       "    <tr>\n",
       "      <td>PS4</td>\n",
       "      <td>0.0575</td>\n",
       "      <td>0.185</td>\n",
       "      <td>0.6900</td>\n",
       "      <td>376.0</td>\n",
       "      <td>14.63</td>\n",
       "      <td>0.766356</td>\n",
       "      <td>0.01</td>\n",
       "      <td>1.614969</td>\n",
       "    </tr>\n",
       "    <tr>\n",
       "      <td>XOne</td>\n",
       "      <td>0.0500</td>\n",
       "      <td>0.205</td>\n",
       "      <td>0.6325</td>\n",
       "      <td>228.0</td>\n",
       "      <td>7.39</td>\n",
       "      <td>0.615614</td>\n",
       "      <td>0.01</td>\n",
       "      <td>1.046513</td>\n",
       "    </tr>\n",
       "  </tbody>\n",
       "</table>\n",
       "</div>"
      ],
      "text/plain": [
       "             25%    50%     75%  count    max      mean   min       std\n",
       "platform                                                               \n",
       "3DS       0.0300  0.090  0.2500  212.0  11.68  0.408868  0.01  1.188368\n",
       "PS4       0.0575  0.185  0.6900  376.0  14.63  0.766356  0.01  1.614969\n",
       "XOne      0.0500  0.205  0.6325  228.0   7.39  0.615614  0.01  1.046513"
      ]
     },
     "execution_count": 22,
     "metadata": {},
     "output_type": "execute_result"
    }
   ],
   "source": [
    "data_actual_total_sales.pivot_table(index='platform', values='total_sales', aggfunc='describe')"
   ]
  },
  {
   "cell_type": "markdown",
   "metadata": {},
   "source": [
    "<div class=\"alert alert-info\">  Наибольшее медианное значение и стандартное отклонение продаж - на платформе PS4."
   ]
  },
  {
   "cell_type": "markdown",
   "metadata": {},
   "source": [
    "<div class=\"alert alert-info\">  Для каждой из 3ёх популярноых платформ посмотрим, как влияют на продажи отзывы пользователей и критиков"
   ]
  },
  {
   "cell_type": "code",
   "execution_count": 23,
   "metadata": {},
   "outputs": [
    {
     "data": {
      "text/html": [
       "<div>\n",
       "<style scoped>\n",
       "    .dataframe tbody tr th:only-of-type {\n",
       "        vertical-align: middle;\n",
       "    }\n",
       "\n",
       "    .dataframe tbody tr th {\n",
       "        vertical-align: top;\n",
       "    }\n",
       "\n",
       "    .dataframe thead th {\n",
       "        text-align: right;\n",
       "    }\n",
       "</style>\n",
       "<table border=\"1\" class=\"dataframe\">\n",
       "  <thead>\n",
       "    <tr style=\"text-align: right;\">\n",
       "      <th></th>\n",
       "      <th>user_score</th>\n",
       "      <th>critic_score</th>\n",
       "      <th>total_sales</th>\n",
       "    </tr>\n",
       "  </thead>\n",
       "  <tbody>\n",
       "    <tr>\n",
       "      <td>user_score</td>\n",
       "      <td>1.000000</td>\n",
       "      <td>0.862485</td>\n",
       "      <td>0.215193</td>\n",
       "    </tr>\n",
       "    <tr>\n",
       "      <td>critic_score</td>\n",
       "      <td>0.862485</td>\n",
       "      <td>1.000000</td>\n",
       "      <td>0.314117</td>\n",
       "    </tr>\n",
       "    <tr>\n",
       "      <td>total_sales</td>\n",
       "      <td>0.215193</td>\n",
       "      <td>0.314117</td>\n",
       "      <td>1.000000</td>\n",
       "    </tr>\n",
       "  </tbody>\n",
       "</table>\n",
       "</div>"
      ],
      "text/plain": [
       "              user_score  critic_score  total_sales\n",
       "user_score      1.000000      0.862485     0.215193\n",
       "critic_score    0.862485      1.000000     0.314117\n",
       "total_sales     0.215193      0.314117     1.000000"
      ]
     },
     "execution_count": 23,
     "metadata": {},
     "output_type": "execute_result"
    },
    {
     "data": {
      "image/png": "[encoded data removed]",
      "text/plain": [
       "<Figure size 864x864 with 9 Axes>"
      ]
     },
     "metadata": {
      "needs_background": "light"
     },
     "output_type": "display_data"
    }
   ],
   "source": [
    "pd.plotting.scatter_matrix(data_actual.query('platform == \"3DS\"')[['user_score', 'total_sales', 'critic_score']], figsize=(12, 12))\n",
    "data_actual.query('platform == \"3DS\"')[['user_score', 'critic_score', 'total_sales']].corr()"
   ]
  },
  {
   "cell_type": "code",
   "execution_count": 24,
   "metadata": {},
   "outputs": [
    {
     "data": {
      "text/html": [
       "<div>\n",
       "<style scoped>\n",
       "    .dataframe tbody tr th:only-of-type {\n",
       "        vertical-align: middle;\n",
       "    }\n",
       "\n",
       "    .dataframe tbody tr th {\n",
       "        vertical-align: top;\n",
       "    }\n",
       "\n",
       "    .dataframe thead th {\n",
       "        text-align: right;\n",
       "    }\n",
       "</style>\n",
       "<table border=\"1\" class=\"dataframe\">\n",
       "  <thead>\n",
       "    <tr style=\"text-align: right;\">\n",
       "      <th></th>\n",
       "      <th>user_score</th>\n",
       "      <th>critic_score</th>\n",
       "      <th>total_sales</th>\n",
       "    </tr>\n",
       "  </thead>\n",
       "  <tbody>\n",
       "    <tr>\n",
       "      <td>user_score</td>\n",
       "      <td>1.000000</td>\n",
       "      <td>0.546434</td>\n",
       "      <td>-0.040132</td>\n",
       "    </tr>\n",
       "    <tr>\n",
       "      <td>critic_score</td>\n",
       "      <td>0.546434</td>\n",
       "      <td>1.000000</td>\n",
       "      <td>0.402661</td>\n",
       "    </tr>\n",
       "    <tr>\n",
       "      <td>total_sales</td>\n",
       "      <td>-0.040132</td>\n",
       "      <td>0.402661</td>\n",
       "      <td>1.000000</td>\n",
       "    </tr>\n",
       "  </tbody>\n",
       "</table>\n",
       "</div>"
      ],
      "text/plain": [
       "              user_score  critic_score  total_sales\n",
       "user_score      1.000000      0.546434    -0.040132\n",
       "critic_score    0.546434      1.000000     0.402661\n",
       "total_sales    -0.040132      0.402661     1.000000"
      ]
     },
     "execution_count": 24,
     "metadata": {},
     "output_type": "execute_result"
    },
    {
     "data": {
      "image/png": "[encoded data removed]",
      "text/plain": [
       "<Figure size 864x864 with 9 Axes>"
      ]
     },
     "metadata": {
      "needs_background": "light"
     },
     "output_type": "display_data"
    }
   ],
   "source": [
    "pd.plotting.scatter_matrix(data_actual.query('platform == \"PS4\"')[['user_score', 'total_sales', 'critic_score']], figsize=(12, 12))\n",
    "data_actual.query('platform == \"PS4\"')[['user_score', 'critic_score', 'total_sales']].corr()"
   ]
  },
  {
   "cell_type": "code",
   "execution_count": 25,
   "metadata": {},
   "outputs": [
    {
     "data": {
      "text/html": [
       "<div>\n",
       "<style scoped>\n",
       "    .dataframe tbody tr th:only-of-type {\n",
       "        vertical-align: middle;\n",
       "    }\n",
       "\n",
       "    .dataframe tbody tr th {\n",
       "        vertical-align: top;\n",
       "    }\n",
       "\n",
       "    .dataframe thead th {\n",
       "        text-align: right;\n",
       "    }\n",
       "</style>\n",
       "<table border=\"1\" class=\"dataframe\">\n",
       "  <thead>\n",
       "    <tr style=\"text-align: right;\">\n",
       "      <th></th>\n",
       "      <th>user_score</th>\n",
       "      <th>critic_score</th>\n",
       "      <th>total_sales</th>\n",
       "    </tr>\n",
       "  </thead>\n",
       "  <tbody>\n",
       "    <tr>\n",
       "      <td>user_score</td>\n",
       "      <td>1.000000</td>\n",
       "      <td>0.440977</td>\n",
       "      <td>-0.070384</td>\n",
       "    </tr>\n",
       "    <tr>\n",
       "      <td>critic_score</td>\n",
       "      <td>0.440977</td>\n",
       "      <td>1.000000</td>\n",
       "      <td>0.428677</td>\n",
       "    </tr>\n",
       "    <tr>\n",
       "      <td>total_sales</td>\n",
       "      <td>-0.070384</td>\n",
       "      <td>0.428677</td>\n",
       "      <td>1.000000</td>\n",
       "    </tr>\n",
       "  </tbody>\n",
       "</table>\n",
       "</div>"
      ],
      "text/plain": [
       "              user_score  critic_score  total_sales\n",
       "user_score      1.000000      0.440977    -0.070384\n",
       "critic_score    0.440977      1.000000     0.428677\n",
       "total_sales    -0.070384      0.428677     1.000000"
      ]
     },
     "execution_count": 25,
     "metadata": {},
     "output_type": "execute_result"
    },
    {
     "data": {
      "image/png": "[encoded data removed]",
      "text/plain": [
       "<Figure size 864x864 with 9 Axes>"
      ]
     },
     "metadata": {
      "needs_background": "light"
     },
     "output_type": "display_data"
    }
   ],
   "source": [
    "pd.plotting.scatter_matrix(data_actual.query('platform == \"XOne\"')[['user_score', 'total_sales', 'critic_score']], figsize=(12, 12))\n",
    "data_actual.query('platform == \"XOne\"')[['user_score', 'critic_score', 'total_sales']].corr()"
   ]
  },
  {
   "cell_type": "markdown",
   "metadata": {},
   "source": [
    "<div class=\"alert alert-info\">  На продажи игр на популярных платформах отзывы критиков и пользователей влияют по-разному: <br>\n",
    "    1. для 3DS продажи зависят от отзывов, при этом отзывы критиков влияют сильнее, чем отзывы пользователей<br>\n",
    "    2. для PS4 отзывы пользователей не влияют на продажи, тогда как отзывы критиков влияют, но связь не очень сильна<br>\n",
    "    3. для XOne картина такая же, как для PS4<br>\n",
    "    В целом коэффициент корреляции отзывов критиков и общих продаж для всех платформ примерно одинаков (0.3-0.4), т.е. чем выше отзывы, тем выше продажи, хотя эта связь выражена не явно. При этом на продажи на платформе 3DS также влияют отзывы пользователей, хоть и чуть меньше, чем отзывы критиков. Для двух других платформ отзывы пользователей не влияют на продажи."
   ]
  },
  {
   "cell_type": "markdown",
   "metadata": {},
   "source": [
    "<div class=\"alert alert-info\">  Посмотрим на общее распределение игр по жанрам. Чтобы выбросы не влияли на общуюу картину, возьмём медианные значения продаж для каждого жанра"
   ]
  },
  {
   "cell_type": "code",
   "execution_count": 26,
   "metadata": {},
   "outputs": [
    {
     "data": {
      "text/html": [
       "<div>\n",
       "<style scoped>\n",
       "    .dataframe tbody tr th:only-of-type {\n",
       "        vertical-align: middle;\n",
       "    }\n",
       "\n",
       "    .dataframe tbody tr th {\n",
       "        vertical-align: top;\n",
       "    }\n",
       "\n",
       "    .dataframe thead th {\n",
       "        text-align: right;\n",
       "    }\n",
       "</style>\n",
       "<table border=\"1\" class=\"dataframe\">\n",
       "  <thead>\n",
       "    <tr style=\"text-align: right;\">\n",
       "      <th></th>\n",
       "      <th>total_sales</th>\n",
       "    </tr>\n",
       "    <tr>\n",
       "      <th>genre</th>\n",
       "      <th></th>\n",
       "    </tr>\n",
       "  </thead>\n",
       "  <tbody>\n",
       "    <tr>\n",
       "      <td>Shooter</td>\n",
       "      <td>1.3</td>\n",
       "    </tr>\n",
       "    <tr>\n",
       "      <td>Sports</td>\n",
       "      <td>0.7</td>\n",
       "    </tr>\n",
       "    <tr>\n",
       "      <td>Fighting</td>\n",
       "      <td>0.5</td>\n",
       "    </tr>\n",
       "    <tr>\n",
       "      <td>Platform</td>\n",
       "      <td>0.5</td>\n",
       "    </tr>\n",
       "    <tr>\n",
       "      <td>Role-Playing</td>\n",
       "      <td>0.5</td>\n",
       "    </tr>\n",
       "    <tr>\n",
       "      <td>Racing</td>\n",
       "      <td>0.4</td>\n",
       "    </tr>\n",
       "    <tr>\n",
       "      <td>Action</td>\n",
       "      <td>0.3</td>\n",
       "    </tr>\n",
       "    <tr>\n",
       "      <td>Misc</td>\n",
       "      <td>0.3</td>\n",
       "    </tr>\n",
       "    <tr>\n",
       "      <td>Simulation</td>\n",
       "      <td>0.3</td>\n",
       "    </tr>\n",
       "    <tr>\n",
       "      <td>Puzzle</td>\n",
       "      <td>0.2</td>\n",
       "    </tr>\n",
       "    <tr>\n",
       "      <td>Adventure</td>\n",
       "      <td>0.1</td>\n",
       "    </tr>\n",
       "    <tr>\n",
       "      <td>Strategy</td>\n",
       "      <td>0.1</td>\n",
       "    </tr>\n",
       "  </tbody>\n",
       "</table>\n",
       "</div>"
      ],
      "text/plain": [
       "              total_sales\n",
       "genre                    \n",
       "Shooter               1.3\n",
       "Sports                0.7\n",
       "Fighting              0.5\n",
       "Platform              0.5\n",
       "Role-Playing          0.5\n",
       "Racing                0.4\n",
       "Action                0.3\n",
       "Misc                  0.3\n",
       "Simulation            0.3\n",
       "Puzzle                0.2\n",
       "Adventure             0.1\n",
       "Strategy              0.1"
      ]
     },
     "metadata": {},
     "output_type": "display_data"
    }
   ],
   "source": [
    "data_sales_by_genre = data_actual_period.pivot_table(index='genre', values='total_sales', aggfunc='mean').round(1)\n",
    "display(data_sales_by_genre.sort_values('total_sales', ascending=False))"
   ]
  },
  {
   "cell_type": "markdown",
   "metadata": {},
   "source": [
    "<div class=\"alert alert-info\"> Наиболее прибыльными за актуальный период можно считать игры жанров Shooter и Sports. Наименее прибыльными - Adventure и Strategy."
   ]
  },
  {
   "cell_type": "markdown",
   "metadata": {},
   "source": [
    "### Вывод \n",
    "По предоставленным данным за период с  1980 по 2016 годы количество выпускаемых игр росло до 2008 года, достигнув максимума в 1,4 млрд копий, после чего начиная с 2012 показатель сократился почти в 2 раза и остаётся примерно на одном уровне (около 600 млн). <br>\n",
    "Характерный срок \"жизни\" платформ -  9-10 лет <br>\n",
    "Актуальный период, который будем использовать для прогнозирования - с 2014 года, данные за предыдущие годы в дальнейшем исследовании учитываться не будут<br>\n",
    "Явными лидерами по продажам за актуальный период являются PS4, Xone, 3DS. Продажи всех платформ снижаются<br>\n",
    "Наибольшее медианное значение и стандартное отклонение продаж - на платформе PS4.<br>\n",
    "На продажи игр на популярных платформах отзывы критиков и пользователей влияют по-разному: <br>\n",
    "    1. для 3DS продажи зависят от отзывов, при этом отзывы критиков влияют сильнее, чем отзывы пользователей<br>\n",
    "    2. для PS4 отзывы пользователей не влияют на продажи, тогда как отзывы критиков влияют, но связь не очень сильна<br>\n",
    "    3. для XOne картина такая же, как для PS4<br>\n",
    "    В целом коэффициент корреляции отзывов критиков и общих продаж для всех платформ примерно одинаков (0.3-0.4), т.е. чем выше отзывы, тем выше продажи, хотя эта связь выражена не явно. При этом на продажи на платформе 3DS также влияют отзывы пользователей, хоть и чуть меньше, чем отзывы критиков. Для двух других платформ отзывы пользователей не влияют на продажи.<br>\n",
    "Наиболее прибыльными за актуальный период можно считать игры жанров Shooter и Sports. Наименее прибыльными - Adventure и Strategy."
   ]
  },
  {
   "cell_type": "markdown",
   "metadata": {},
   "source": [
    "## Портрет пользователя каждого региона"
   ]
  },
  {
   "cell_type": "markdown",
   "metadata": {},
   "source": [
    "<div class=\"alert alert-info\"> Определяем самые популярные платформы (топ-5) для каждого региона\n",
    "</div>"
   ]
  },
  {
   "cell_type": "code",
   "execution_count": 27,
   "metadata": {},
   "outputs": [
    {
     "data": {
      "text/html": [
       "<div>\n",
       "<style scoped>\n",
       "    .dataframe tbody tr th:only-of-type {\n",
       "        vertical-align: middle;\n",
       "    }\n",
       "\n",
       "    .dataframe tbody tr th {\n",
       "        vertical-align: top;\n",
       "    }\n",
       "\n",
       "    .dataframe thead th {\n",
       "        text-align: right;\n",
       "    }\n",
       "</style>\n",
       "<table border=\"1\" class=\"dataframe\">\n",
       "  <thead>\n",
       "    <tr style=\"text-align: right;\">\n",
       "      <th></th>\n",
       "      <th>Продажи в Северной Америке, млн копий</th>\n",
       "      <th>доля, %</th>\n",
       "    </tr>\n",
       "    <tr>\n",
       "      <th>platform</th>\n",
       "      <th></th>\n",
       "      <th></th>\n",
       "    </tr>\n",
       "  </thead>\n",
       "  <tbody>\n",
       "    <tr>\n",
       "      <td>PS4</td>\n",
       "      <td>98.61</td>\n",
       "      <td>34.7</td>\n",
       "    </tr>\n",
       "    <tr>\n",
       "      <td>XOne</td>\n",
       "      <td>81.27</td>\n",
       "      <td>28.6</td>\n",
       "    </tr>\n",
       "    <tr>\n",
       "      <td>X360</td>\n",
       "      <td>28.30</td>\n",
       "      <td>10.0</td>\n",
       "    </tr>\n",
       "    <tr>\n",
       "      <td>3DS</td>\n",
       "      <td>22.64</td>\n",
       "      <td>8.0</td>\n",
       "    </tr>\n",
       "    <tr>\n",
       "      <td>PS3</td>\n",
       "      <td>22.05</td>\n",
       "      <td>7.8</td>\n",
       "    </tr>\n",
       "  </tbody>\n",
       "</table>\n",
       "</div>"
      ],
      "text/plain": [
       "          Продажи в Северной Америке, млн копий  доля, %\n",
       "platform                                                \n",
       "PS4                                       98.61     34.7\n",
       "XOne                                      81.27     28.6\n",
       "X360                                      28.30     10.0\n",
       "3DS                                       22.64      8.0\n",
       "PS3                                       22.05      7.8"
      ]
     },
     "metadata": {},
     "output_type": "display_data"
    }
   ],
   "source": [
    "data_sales_na_platforms = data_actual_period.pivot_table(index='platform', values='na_sales', aggfunc='sum')\n",
    "data_sales_na_platforms.columns = ['Продажи в Северной Америке, млн копий']\n",
    "data_sales_na_platforms['доля, %'] = ((data_sales_na_platforms['Продажи в Северной Америке, млн копий']/data_sales_na_platforms['Продажи в Северной Америке, млн копий'].sum())*100).round(1)\n",
    "display(data_sales_na_platforms.sort_values('Продажи в Северной Америке, млн копий', ascending=False).head())"
   ]
  },
  {
   "cell_type": "code",
   "execution_count": 28,
   "metadata": {},
   "outputs": [
    {
     "data": {
      "text/html": [
       "<div>\n",
       "<style scoped>\n",
       "    .dataframe tbody tr th:only-of-type {\n",
       "        vertical-align: middle;\n",
       "    }\n",
       "\n",
       "    .dataframe tbody tr th {\n",
       "        vertical-align: top;\n",
       "    }\n",
       "\n",
       "    .dataframe thead th {\n",
       "        text-align: right;\n",
       "    }\n",
       "</style>\n",
       "<table border=\"1\" class=\"dataframe\">\n",
       "  <thead>\n",
       "    <tr style=\"text-align: right;\">\n",
       "      <th></th>\n",
       "      <th>Продажи в Японии, млн копий</th>\n",
       "      <th>доля, %</th>\n",
       "    </tr>\n",
       "    <tr>\n",
       "      <th>platform</th>\n",
       "      <th></th>\n",
       "      <th></th>\n",
       "    </tr>\n",
       "  </thead>\n",
       "  <tbody>\n",
       "    <tr>\n",
       "      <td>3DS</td>\n",
       "      <td>44.24</td>\n",
       "      <td>47.5</td>\n",
       "    </tr>\n",
       "    <tr>\n",
       "      <td>PS4</td>\n",
       "      <td>15.02</td>\n",
       "      <td>16.1</td>\n",
       "    </tr>\n",
       "    <tr>\n",
       "      <td>PSV</td>\n",
       "      <td>14.54</td>\n",
       "      <td>15.6</td>\n",
       "    </tr>\n",
       "    <tr>\n",
       "      <td>PS3</td>\n",
       "      <td>11.22</td>\n",
       "      <td>12.1</td>\n",
       "    </tr>\n",
       "    <tr>\n",
       "      <td>WiiU</td>\n",
       "      <td>7.31</td>\n",
       "      <td>7.9</td>\n",
       "    </tr>\n",
       "  </tbody>\n",
       "</table>\n",
       "</div>"
      ],
      "text/plain": [
       "          Продажи в Японии, млн копий  доля, %\n",
       "platform                                      \n",
       "3DS                             44.24     47.5\n",
       "PS4                             15.02     16.1\n",
       "PSV                             14.54     15.6\n",
       "PS3                             11.22     12.1\n",
       "WiiU                             7.31      7.9"
      ]
     },
     "metadata": {},
     "output_type": "display_data"
    }
   ],
   "source": [
    "data_sales_jp_platforms = data_actual_period.pivot_table(index='platform', values='jp_sales', aggfunc='sum')\n",
    "data_sales_jp_platforms.columns = ['Продажи в Японии, млн копий']\n",
    "data_sales_jp_platforms['доля, %'] = ((data_sales_jp_platforms['Продажи в Японии, млн копий']/data_sales_jp_platforms['Продажи в Японии, млн копий'].sum())*100).round(1)\n",
    "display(data_sales_jp_platforms.sort_values('Продажи в Японии, млн копий', ascending=False).head())"
   ]
  },
  {
   "cell_type": "code",
   "execution_count": 29,
   "metadata": {},
   "outputs": [
    {
     "data": {
      "text/html": [
       "<div>\n",
       "<style scoped>\n",
       "    .dataframe tbody tr th:only-of-type {\n",
       "        vertical-align: middle;\n",
       "    }\n",
       "\n",
       "    .dataframe tbody tr th {\n",
       "        vertical-align: top;\n",
       "    }\n",
       "\n",
       "    .dataframe thead th {\n",
       "        text-align: right;\n",
       "    }\n",
       "</style>\n",
       "<table border=\"1\" class=\"dataframe\">\n",
       "  <thead>\n",
       "    <tr style=\"text-align: right;\">\n",
       "      <th></th>\n",
       "      <th>Продажи в Европе, млн копий</th>\n",
       "      <th>доля, %</th>\n",
       "    </tr>\n",
       "    <tr>\n",
       "      <th>platform</th>\n",
       "      <th></th>\n",
       "      <th></th>\n",
       "    </tr>\n",
       "  </thead>\n",
       "  <tbody>\n",
       "    <tr>\n",
       "      <td>PS4</td>\n",
       "      <td>130.04</td>\n",
       "      <td>48.0</td>\n",
       "    </tr>\n",
       "    <tr>\n",
       "      <td>XOne</td>\n",
       "      <td>46.25</td>\n",
       "      <td>17.1</td>\n",
       "    </tr>\n",
       "    <tr>\n",
       "      <td>PS3</td>\n",
       "      <td>25.54</td>\n",
       "      <td>9.4</td>\n",
       "    </tr>\n",
       "    <tr>\n",
       "      <td>PC</td>\n",
       "      <td>17.97</td>\n",
       "      <td>6.6</td>\n",
       "    </tr>\n",
       "    <tr>\n",
       "      <td>3DS</td>\n",
       "      <td>16.12</td>\n",
       "      <td>6.0</td>\n",
       "    </tr>\n",
       "  </tbody>\n",
       "</table>\n",
       "</div>"
      ],
      "text/plain": [
       "          Продажи в Европе, млн копий  доля, %\n",
       "platform                                      \n",
       "PS4                            130.04     48.0\n",
       "XOne                            46.25     17.1\n",
       "PS3                             25.54      9.4\n",
       "PC                              17.97      6.6\n",
       "3DS                             16.12      6.0"
      ]
     },
     "metadata": {},
     "output_type": "display_data"
    }
   ],
   "source": [
    "data_sales_eu_platforms = data_actual_period.pivot_table(index='platform', values='eu_sales', aggfunc='sum')\n",
    "data_sales_eu_platforms.columns = ['Продажи в Европе, млн копий']\n",
    "data_sales_eu_platforms['доля, %'] = ((data_sales_eu_platforms['Продажи в Европе, млн копий']/data_sales_eu_platforms['Продажи в Европе, млн копий'].sum())*100).round(1)\n",
    "display(data_sales_eu_platforms.sort_values('Продажи в Европе, млн копий', ascending=False).head())"
   ]
  },
  {
   "cell_type": "markdown",
   "metadata": {},
   "source": [
    "<div class=\"alert alert-info\"> топ-5 популярных платформ по регионам и их доля от общих продаж:<br><br>\n",
    "    Северная Америка:<br>\n",
    "    PS4 - 34.7% <br>\n",
    "    XOne - 28.6%<br>\n",
    "    X360 - 10.0%<br>\n",
    "    3DS - 8.0%<br>\n",
    "    PS3 - 7.8%<br><br>\n",
    "    Япония:<br>\n",
    "    3DS - 47.5%<br>\n",
    "    PS4 - 16.1%<br>\n",
    "    PSV - 15.6%<br>\n",
    "    PS3 - 12.1%<br>\n",
    "    WiiU - 7.9%<br><br>\n",
    "    Европа:<br>\n",
    "    PS4 - 48.0%<br>\n",
    "    XOne - 17.1%<br>\n",
    "    PS3 - 9.4%<br>\n",
    "    PC - 6.6%<br>\n",
    "    3DS - 6.9%<br>\n",
    "</div>"
   ]
  },
  {
   "cell_type": "markdown",
   "metadata": {},
   "source": [
    "<div class=\"alert alert-info\"> Определяем самые популярные жанры (топ-5)  для каждого региона. Чтобы выбросы не влияли на общуюу картину, возьмём медианные значения продаж для каждого жанра\n",
    "</div>"
   ]
  },
  {
   "cell_type": "code",
   "execution_count": 30,
   "metadata": {},
   "outputs": [
    {
     "data": {
      "text/html": [
       "<div>\n",
       "<style scoped>\n",
       "    .dataframe tbody tr th:only-of-type {\n",
       "        vertical-align: middle;\n",
       "    }\n",
       "\n",
       "    .dataframe tbody tr th {\n",
       "        vertical-align: top;\n",
       "    }\n",
       "\n",
       "    .dataframe thead th {\n",
       "        text-align: right;\n",
       "    }\n",
       "</style>\n",
       "<table border=\"1\" class=\"dataframe\">\n",
       "  <thead>\n",
       "    <tr style=\"text-align: right;\">\n",
       "      <th></th>\n",
       "      <th>Медиана продаж в Северной Америке, млн копий</th>\n",
       "    </tr>\n",
       "    <tr>\n",
       "      <th>genre</th>\n",
       "      <th></th>\n",
       "    </tr>\n",
       "  </thead>\n",
       "  <tbody>\n",
       "    <tr>\n",
       "      <td>Shooter</td>\n",
       "      <td>0.62</td>\n",
       "    </tr>\n",
       "    <tr>\n",
       "      <td>Sports</td>\n",
       "      <td>0.29</td>\n",
       "    </tr>\n",
       "    <tr>\n",
       "      <td>Fighting</td>\n",
       "      <td>0.21</td>\n",
       "    </tr>\n",
       "    <tr>\n",
       "      <td>Platform</td>\n",
       "      <td>0.18</td>\n",
       "    </tr>\n",
       "    <tr>\n",
       "      <td>Role-Playing</td>\n",
       "      <td>0.15</td>\n",
       "    </tr>\n",
       "  </tbody>\n",
       "</table>\n",
       "</div>"
      ],
      "text/plain": [
       "              Медиана продаж в Северной Америке, млн копий\n",
       "genre                                                     \n",
       "Shooter                                               0.62\n",
       "Sports                                                0.29\n",
       "Fighting                                              0.21\n",
       "Platform                                              0.18\n",
       "Role-Playing                                          0.15"
      ]
     },
     "metadata": {},
     "output_type": "display_data"
    }
   ],
   "source": [
    "data_genre_na = data_actual_period.pivot_table(index='genre', values='na_sales', aggfunc='mean').round(2)\n",
    "data_genre_na.columns = ['Медиана продаж в Северной Америке, млн копий']\n",
    "display(data_genre_na.sort_values('Медиана продаж в Северной Америке, млн копий', ascending=False).head())"
   ]
  },
  {
   "cell_type": "code",
   "execution_count": 31,
   "metadata": {},
   "outputs": [
    {
     "data": {
      "text/html": [
       "<div>\n",
       "<style scoped>\n",
       "    .dataframe tbody tr th:only-of-type {\n",
       "        vertical-align: middle;\n",
       "    }\n",
       "\n",
       "    .dataframe tbody tr th {\n",
       "        vertical-align: top;\n",
       "    }\n",
       "\n",
       "    .dataframe thead th {\n",
       "        text-align: right;\n",
       "    }\n",
       "</style>\n",
       "<table border=\"1\" class=\"dataframe\">\n",
       "  <thead>\n",
       "    <tr style=\"text-align: right;\">\n",
       "      <th></th>\n",
       "      <th>Медиана продаж в Японии, млн копий</th>\n",
       "    </tr>\n",
       "    <tr>\n",
       "      <th>genre</th>\n",
       "      <th></th>\n",
       "    </tr>\n",
       "  </thead>\n",
       "  <tbody>\n",
       "    <tr>\n",
       "      <td>Role-Playing</td>\n",
       "      <td>0.14</td>\n",
       "    </tr>\n",
       "    <tr>\n",
       "      <td>Fighting</td>\n",
       "      <td>0.11</td>\n",
       "    </tr>\n",
       "    <tr>\n",
       "      <td>Platform</td>\n",
       "      <td>0.07</td>\n",
       "    </tr>\n",
       "    <tr>\n",
       "      <td>Puzzle</td>\n",
       "      <td>0.07</td>\n",
       "    </tr>\n",
       "    <tr>\n",
       "      <td>Action</td>\n",
       "      <td>0.05</td>\n",
       "    </tr>\n",
       "  </tbody>\n",
       "</table>\n",
       "</div>"
      ],
      "text/plain": [
       "              Медиана продаж в Японии, млн копий\n",
       "genre                                           \n",
       "Role-Playing                                0.14\n",
       "Fighting                                    0.11\n",
       "Platform                                    0.07\n",
       "Puzzle                                      0.07\n",
       "Action                                      0.05"
      ]
     },
     "metadata": {},
     "output_type": "display_data"
    }
   ],
   "source": [
    "data_genre_jp = data_actual_period.pivot_table(index='genre', values='jp_sales', aggfunc='mean').round(2)\n",
    "data_genre_jp.columns = ['Медиана продаж в Японии, млн копий']\n",
    "display(data_genre_jp.sort_values('Медиана продаж в Японии, млн копий', ascending=False).head())"
   ]
  },
  {
   "cell_type": "code",
   "execution_count": 32,
   "metadata": {},
   "outputs": [
    {
     "data": {
      "text/html": [
       "<div>\n",
       "<style scoped>\n",
       "    .dataframe tbody tr th:only-of-type {\n",
       "        vertical-align: middle;\n",
       "    }\n",
       "\n",
       "    .dataframe tbody tr th {\n",
       "        vertical-align: top;\n",
       "    }\n",
       "\n",
       "    .dataframe thead th {\n",
       "        text-align: right;\n",
       "    }\n",
       "</style>\n",
       "<table border=\"1\" class=\"dataframe\">\n",
       "  <thead>\n",
       "    <tr style=\"text-align: right;\">\n",
       "      <th></th>\n",
       "      <th>Медиана продаж в Европе, млн копий</th>\n",
       "    </tr>\n",
       "    <tr>\n",
       "      <th>genre</th>\n",
       "      <th></th>\n",
       "    </tr>\n",
       "  </thead>\n",
       "  <tbody>\n",
       "    <tr>\n",
       "      <td>Shooter</td>\n",
       "      <td>0.51</td>\n",
       "    </tr>\n",
       "    <tr>\n",
       "      <td>Sports</td>\n",
       "      <td>0.28</td>\n",
       "    </tr>\n",
       "    <tr>\n",
       "      <td>Racing</td>\n",
       "      <td>0.20</td>\n",
       "    </tr>\n",
       "    <tr>\n",
       "      <td>Platform</td>\n",
       "      <td>0.18</td>\n",
       "    </tr>\n",
       "    <tr>\n",
       "      <td>Simulation</td>\n",
       "      <td>0.17</td>\n",
       "    </tr>\n",
       "  </tbody>\n",
       "</table>\n",
       "</div>"
      ],
      "text/plain": [
       "            Медиана продаж в Европе, млн копий\n",
       "genre                                         \n",
       "Shooter                                   0.51\n",
       "Sports                                    0.28\n",
       "Racing                                    0.20\n",
       "Platform                                  0.18\n",
       "Simulation                                0.17"
      ]
     },
     "metadata": {},
     "output_type": "display_data"
    }
   ],
   "source": [
    "data_genre_eu = data_actual_period.pivot_table(index='genre', values='eu_sales', aggfunc='mean').round(2)\n",
    "data_genre_eu.columns = ['Медиана продаж в Европе, млн копий']\n",
    "display(data_genre_eu.sort_values('Медиана продаж в Европе, млн копий', ascending=False).head())"
   ]
  },
  {
   "cell_type": "markdown",
   "metadata": {},
   "source": [
    "<div class=\"alert alert-info\"> Наиболее популярный жанр игр (с ощутимым отрывом от других) в Северной Америке и Европе  - Shooter. На втором месте в обоих регионах жанр Sports. При этом в Японии оба этих жанра не входят в топ-5, там наиболее популярны Role-Playing, Fighting, Platform, Puzzle и Action.<br>\n",
    "В Северной Америке в топ-5 по поулярности входят также Fighting, Platform и Role-Playing.<br>\n",
    "В Европе: Racing, Platform и Simulation.\n",
    "</div>"
   ]
  },
  {
   "cell_type": "markdown",
   "metadata": {},
   "source": [
    "<div class=\"alert alert-info\"> Влияет ли рейтинг ESRB на продажи в отдельном регионе?<br><br>\n",
    "    \n",
    "Рейтинг ESRB: <br>\n",
    "«E» («Everyone») — «Для всех»<br>\n",
    "«E10+» («Everyone 10 and older») — «Для всех старше 10 лет»<br>\n",
    "«T» («Teen») — «Подросткам»: Игра подходит для лиц от 13 лет и старше<br>\n",
    "«M» («Mature») — «От 17 лет»<br>\n",
    "</div>"
   ]
  },
  {
   "cell_type": "code",
   "execution_count": 33,
   "metadata": {},
   "outputs": [
    {
     "data": {
      "text/html": [
       "<div>\n",
       "<style scoped>\n",
       "    .dataframe tbody tr th:only-of-type {\n",
       "        vertical-align: middle;\n",
       "    }\n",
       "\n",
       "    .dataframe tbody tr th {\n",
       "        vertical-align: top;\n",
       "    }\n",
       "\n",
       "    .dataframe thead th {\n",
       "        text-align: right;\n",
       "    }\n",
       "</style>\n",
       "<table border=\"1\" class=\"dataframe\">\n",
       "  <thead>\n",
       "    <tr style=\"text-align: right;\">\n",
       "      <th></th>\n",
       "      <th>Продажи в Европе, млн копий</th>\n",
       "      <th>Продажи в Северной Америке, млн копий</th>\n",
       "      <th>Продажи в Японии, млн копий</th>\n",
       "    </tr>\n",
       "    <tr>\n",
       "      <th>rating</th>\n",
       "      <th></th>\n",
       "      <th></th>\n",
       "      <th></th>\n",
       "    </tr>\n",
       "  </thead>\n",
       "  <tbody>\n",
       "    <tr>\n",
       "      <td>E</td>\n",
       "      <td>58.06</td>\n",
       "      <td>8.94</td>\n",
       "      <td>50.74</td>\n",
       "    </tr>\n",
       "    <tr>\n",
       "      <td>E10+</td>\n",
       "      <td>26.16</td>\n",
       "      <td>4.46</td>\n",
       "      <td>33.23</td>\n",
       "    </tr>\n",
       "    <tr>\n",
       "      <td>M</td>\n",
       "      <td>93.44</td>\n",
       "      <td>8.01</td>\n",
       "      <td>96.42</td>\n",
       "    </tr>\n",
       "    <tr>\n",
       "      <td>T</td>\n",
       "      <td>34.07</td>\n",
       "      <td>14.78</td>\n",
       "      <td>38.95</td>\n",
       "    </tr>\n",
       "    <tr>\n",
       "      <td>no_rating</td>\n",
       "      <td>58.95</td>\n",
       "      <td>56.90</td>\n",
       "      <td>64.72</td>\n",
       "    </tr>\n",
       "  </tbody>\n",
       "</table>\n",
       "</div>"
      ],
      "text/plain": [
       "           Продажи в Европе, млн копий  Продажи в Северной Америке, млн копий  \\\n",
       "rating                                                                          \n",
       "E                                58.06                                   8.94   \n",
       "E10+                             26.16                                   4.46   \n",
       "M                                93.44                                   8.01   \n",
       "T                                34.07                                  14.78   \n",
       "no_rating                        58.95                                  56.90   \n",
       "\n",
       "           Продажи в Японии, млн копий  \n",
       "rating                                  \n",
       "E                                50.74  \n",
       "E10+                             33.23  \n",
       "M                                96.42  \n",
       "T                                38.95  \n",
       "no_rating                        64.72  "
      ]
     },
     "metadata": {},
     "output_type": "display_data"
    }
   ],
   "source": [
    "data_rating = data_actual_period.pivot_table(index='rating', values=['eu_sales', 'na_sales', 'jp_sales'], aggfunc='sum')\n",
    "data_rating.columns = ['Продажи в Европе, млн копий', 'Продажи в Северной Америке, млн копий', 'Продажи в Японии, млн копий']\n",
    "display(data_rating)"
   ]
  },
  {
   "cell_type": "markdown",
   "metadata": {},
   "source": [
    "<div class=\"alert alert-info\">  Влияние рейтинга ESRB на продажи в регионах:<br>\n",
    "В Европе наиболее продаваемыми являются игры для взрослых.<br>\n",
    "В Северной Америке - игры без рейтинга и игры для подростков.<br>\n",
    "В Европе наиболее продаваемыми являются игры для взрослых.<br>\n",
    "</div>"
   ]
  },
  {
   "cell_type": "markdown",
   "metadata": {},
   "source": [
    "### Вывод\n",
    "Составим портрет пользователя для 3ёх регионов: Северная Америка, Япония и Европа.<br>\n",
    "топ-5 популярных платформ по регионам и их доля от общих продаж:<br><br>\n",
    "    Северная Америка:<br>\n",
    "    PS4 - 34.7% <br>\n",
    "    XOne - 28.6%<br>\n",
    "    X360 - 10.0%<br>\n",
    "    3DS - 8.0%<br>\n",
    "    PS3 - 7.8%<br><br>\n",
    "    Япония:<br>\n",
    "    3DS - 47.5%<br>\n",
    "    PS4 - 16.1%<br>\n",
    "    PSV - 15.6%<br>\n",
    "    PS3 - 12.1%<br>\n",
    "    WiiU - 7.9%<br><br>\n",
    "    Европа:<br>\n",
    "    PS4 - 48.0%<br>\n",
    "    XOne - 17.1%<br>\n",
    "    PS3 - 9.4%<br>\n",
    "    PC - 6.6%<br>\n",
    "    3DS - 6.9%<br><br>\n",
    "Наиболее популярный жанр игр (с ощутимым отрывом от других) в Северной Америке и Европе  - Shooter. На втором месте в обоих регионах жанр Sports. При этом в Японии оба этих жанра не входят в топ-5, там наиболее популярны Role-Playing, Fighting, Platform, Puzzle и Action.<br>\n",
    "В Северной Америке в топ-5 по поулярности входят также Fighting, Platform и Role-Playing.<br>\n",
    "В Европе: Racing, Platform и Simulation.<br><br>\n",
    "Влияние рейтинга ESRB на продажи в регионах:<br>\n",
    "В Европе наиболее продаваемыми являются игры для взрослых.<br>\n",
    "В Северной Америке - игры без рейтинга и игры для подростков.<br>\n",
    "В Европе наиболее продаваемыми являются игры для взрослых.<br>"
   ]
  },
  {
   "cell_type": "markdown",
   "metadata": {},
   "source": [
    "## Проверка гипотез"
   ]
  },
  {
   "cell_type": "markdown",
   "metadata": {},
   "source": [
    "<div class=\"alert alert-info\"> Далее проверяем 2 гипотезы. Первая нулевая гипотеза звучит так: средние пользовательские рейтинги платформ Xbox One и PC равны. Альтерантивная гипотеза: средние пользовательские рейтинги платформ Xbox One и PC не равны"
   ]
  },
  {
   "cell_type": "code",
   "execution_count": 34,
   "metadata": {},
   "outputs": [
    {
     "name": "stdout",
     "output_type": "stream",
     "text": [
      "Дисперсия средних пользовательских рейтингов платформы Xbox One:  user_score    1.879546\n",
      "dtype: float64\n",
      "Дисперсия средних пользовательских рейтингов платформы PC:  user_score    2.877374\n",
      "dtype: float64\n"
     ]
    }
   ],
   "source": [
    "print('Дисперсия средних пользовательских рейтингов платформы Xbox One: ', np.var(data_actual_period.query('platform == \"XOne\" and user_score != \"NaN\"')[['user_score']]))\n",
    "print('Дисперсия средних пользовательских рейтингов платформы PC: ', np.var(data_actual_period.query('platform == \"PC\" and user_score != \"NaN\"')[['user_score']]))"
   ]
  },
  {
   "cell_type": "markdown",
   "metadata": {},
   "source": [
    "<div class=\"alert alert-info\"> Дисперсии не равны, поэтому при расчёте будем использовать equal_var = False. Далее проверяем гипотезу о равенстве средних двух независимых совокупностей:\n",
    "</div>"
   ]
  },
  {
   "cell_type": "code",
   "execution_count": 35,
   "metadata": {},
   "outputs": [
    {
     "name": "stdout",
     "output_type": "stream",
     "text": [
      "p-значение: [0.11601398]\n",
      "Не получилось отвергнуть нулевую гипотезу\n"
     ]
    }
   ],
   "source": [
    "alpha = .05\n",
    "\n",
    "results = st.ttest_ind(\n",
    "    data_actual_period.query('platform == \"XOne\" and user_score != \"NaN\"')[['user_score']], \n",
    "    data_actual_period.query('platform == \"PC\"  and user_score != \"NaN\"')[['user_score']],\n",
    "    equal_var = False)\n",
    "\n",
    "print('p-значение:', results.pvalue)\n",
    "\n",
    "if results.pvalue < alpha:\n",
    "    print(\"Отвергаем нулевую гипотезу\")\n",
    "else:\n",
    "    print(\"Не получилось отвергнуть нулевую гипотезу\")"
   ]
  },
  {
   "cell_type": "markdown",
   "metadata": {},
   "source": [
    "<div class=\"alert alert-info\">\n",
    "Вторая нулевая гипотеза, которую будем проверять: средние пользовательские рейтинги жанров Action (англ. «действие», экшен-игры) и Sports (англ. «спортивные соревнования») равны. Альтернативная гипотеза: средние пользовательские рейтинги жанров Action (англ. «действие», экшен-игры) и Sports (англ. «спортивные соревнования») не равны"
   ]
  },
  {
   "cell_type": "code",
   "execution_count": 36,
   "metadata": {},
   "outputs": [
    {
     "name": "stdout",
     "output_type": "stream",
     "text": [
      "Дисперсия средних пользовательских рейтингов платформы Xbox One:  user_score    1.892084\n",
      "dtype: float64\n",
      "Дисперсия средних пользовательских рейтингов платформы PC:  user_score    3.419838\n",
      "dtype: float64\n"
     ]
    }
   ],
   "source": [
    "print('Дисперсия средних пользовательских рейтингов платформы Xbox One: ', np.var(data_actual_period.query('genre == \"Action\" and user_score != \"NaN\"')[['user_score']]))\n",
    "print('Дисперсия средних пользовательских рейтингов платформы PC: ', np.var(data_actual_period.query('genre == \"Sports\" and user_score != \"NaN\"')[['user_score']]))"
   ]
  },
  {
   "cell_type": "markdown",
   "metadata": {},
   "source": [
    "<div class=\"alert alert-info\"> Дисперсии не равны, поэтому при расчёте будем использовать equal_var = False. Далее проверяем гипотезу о равенстве средних двух независимых совокупностей:\n",
    "</div>"
   ]
  },
  {
   "cell_type": "code",
   "execution_count": 37,
   "metadata": {},
   "outputs": [
    {
     "name": "stdout",
     "output_type": "stream",
     "text": [
      "p-значение: [1.18255504e-14]\n",
      "Отвергаем нулевую гипотезу\n"
     ]
    }
   ],
   "source": [
    "alpha = .05\n",
    "\n",
    "results = st.ttest_ind(\n",
    "    data_actual_period.query('genre == \"Action\" and user_score != \"NaN\"')[['user_score']], \n",
    "    data_actual_period.query('genre == \"Sports\" and user_score != \"NaN\"')[['user_score']],\n",
    "    equal_var = False)\n",
    "\n",
    "print('p-значение:', results.pvalue)\n",
    "\n",
    "if results.pvalue < alpha:\n",
    "    print(\"Отвергаем нулевую гипотезу\")\n",
    "else:\n",
    "    print(\"Не получилось отвергнуть нулевую гипотезу\")"
   ]
  },
  {
   "cell_type": "markdown",
   "metadata": {},
   "source": [
    "### Вывод\n",
    "Результаты проверки гипотез:<br>\n",
    "1 гипотеза: средние пользовательские рейтинги платформ Xbox One и PC равны - не была отвергнута.<br>\n",
    "2 гипотеза: средние пользовательские рейтинги жанров Action (англ. «действие», экшен-игры) и Sports (англ. «спортивные соревнования») равны - отвергнута."
   ]
  },
  {
   "cell_type": "markdown",
   "metadata": {},
   "source": [
    "# Общий вывод\n",
    "По предоставленным данным за период с  1980 по 2016 годы количество выпускаемых игр росло до 2008 года, достигнув максимума в 1,4 млрд копий, после чего начиная с 2012 показатель сократился почти в 2 раза и остаётся примерно на одном уровне (около 600 млн). <br>\n",
    "Характерный срок \"жизни\" платформ -  9-10 лет <br>\n",
    "Актуальный период, который будем использовать для прогнозирования - с 2014 года, данные за предыдущие годы в дальнейшем исследовании учитываться не будут<br>\n",
    "Явными лидерами по продажам за актуальный период являются PS4, Xone, 3DS. Продажи всех платформ снижаются<br>\n",
    "Наибольшее медианное значение и стандартное отклонение продаж - на платформе PS4.<br>\n",
    "На продажи игр на популярных платформах отзывы критиков и пользователей влияют по-разному: <br>\n",
    "    1. для 3DS продажи зависят от отзывов, при этом отзывы критиков влияют сильнее, чем отзывы пользователей<br>\n",
    "    2. для PS4 отзывы пользователей не влияют на продажи, тогда как отзывы критиков влияют, но связь не очень сильна<br>\n",
    "    3. для XOne картина такая же, как для PS4<br>\n",
    "    В целом коэффициент корреляции отзывов критиков и общих продаж для всех платформ примерно одинаков (0.3-0.4), т.е. чем выше отзывы, тем выше продажи, хотя эта связь выражена не явно. При этом на продажи на платформе 3DS также влияют отзывы пользователей, хоть и чуть меньше, чем отзывы критиков. Для двух других платформ отзывы пользователей не влияют на продажи.<br>\n",
    "Наиболее прибыльными за актуальный период можно считать игры жанров Shooter и Sports. Наименее прибыльными - Adventure и Strategy.<br><br>\n",
    "Портрет пользователя трёх регионов (Северная Америка, Япония и Европа) за актуальный период выглядит следующим образом<br>\n",
    "топ-5 популярных платформ по регионам и их доля от общих продаж:<br><br>\n",
    "    Северная Америка:<br>\n",
    "    PS4 - 34.7% <br>\n",
    "    XOne - 28.6%<br>\n",
    "    X360 - 10.0%<br>\n",
    "    3DS - 8.0%<br>\n",
    "    PS3 - 7.8%<br><br>\n",
    "    Япония:<br>\n",
    "    3DS - 47.5%<br>\n",
    "    PS4 - 16.1%<br>\n",
    "    PSV - 15.6%<br>\n",
    "    PS3 - 12.1%<br>\n",
    "    WiiU - 7.9%<br><br>\n",
    "    Европа:<br>\n",
    "    PS4 - 48.0%<br>\n",
    "    XOne - 17.1%<br>\n",
    "    PS3 - 9.4%<br>\n",
    "    PC - 6.6%<br>\n",
    "    3DS - 6.9%<br><br>\n",
    "Наиболее популярный жанр игр (с ощутимым отрывом от других) в Северной Америке и Европе  - Shooter. На втором месте в обоих регионах жанр Sports. При этом в Японии оба этих жанра не входят в топ-5, там наиболее популярны Role-Playing, Fighting, Platform, Puzzle и Action.<br>\n",
    "В Северной Америке в топ-5 по поулярности входят также Fighting, Platform и Role-Playing.<br>\n",
    "В Европе: Racing, Platform и Simulation.<br><br>\n",
    "Влияние рейтинга ESRB на продажи в регионах:<br>\n",
    "В Европе наиболее продаваемыми являются игры для взрослых.<br>\n",
    "В Северной Америке - игры без рейтинга и игры для подростков.<br>\n",
    "В Европе наиболее продаваемыми являются игры для взрослых.<br><br>\n",
    "В ходе исследования была проведена проверка двух гипотез:\n",
    "<br>\n",
    "1 гипотеза: средние пользовательские рейтинги платформ Xbox One и PC равны - не была отвергнута.<br>\n",
    "2 гипотеза: средние пользовательские рейтинги жанров Action (англ. «действие», экшен-игры) и Sports (англ. «спортивные соревнования») равны - отвергнута."
   ]
  }
 ],
 "metadata": {
  "ExecuteTimeLog": [
   {
    "duration": 2424,
    "start_time": "2022-03-08T18:17:11.341Z"
   },
   {
    "duration": -352,
    "start_time": "2022-03-08T18:17:14.119Z"
   },
   {
    "duration": -354,
    "start_time": "2022-03-08T18:17:14.122Z"
   },
   {
    "duration": -355,
    "start_time": "2022-03-08T18:17:14.124Z"
   },
   {
    "duration": -356,
    "start_time": "2022-03-08T18:17:14.126Z"
   },
   {
    "duration": -358,
    "start_time": "2022-03-08T18:17:14.128Z"
   },
   {
    "duration": -359,
    "start_time": "2022-03-08T18:17:14.130Z"
   },
   {
    "duration": -360,
    "start_time": "2022-03-08T18:17:14.132Z"
   },
   {
    "duration": -362,
    "start_time": "2022-03-08T18:17:14.134Z"
   },
   {
    "duration": -369,
    "start_time": "2022-03-08T18:17:14.142Z"
   },
   {
    "duration": -369,
    "start_time": "2022-03-08T18:17:14.143Z"
   },
   {
    "duration": -371,
    "start_time": "2022-03-08T18:17:14.145Z"
   },
   {
    "duration": 586,
    "start_time": "2022-03-08T18:17:44.426Z"
   },
   {
    "duration": 3,
    "start_time": "2022-03-08T18:17:45.014Z"
   },
   {
    "duration": 13,
    "start_time": "2022-03-08T18:17:45.019Z"
   },
   {
    "duration": 9,
    "start_time": "2022-03-08T18:17:45.034Z"
   },
   {
    "duration": 5,
    "start_time": "2022-03-08T18:17:45.045Z"
   },
   {
    "duration": 59,
    "start_time": "2022-03-08T18:17:45.051Z"
   },
   {
    "duration": 4,
    "start_time": "2022-03-08T18:17:45.112Z"
   },
   {
    "duration": 11,
    "start_time": "2022-03-08T18:17:45.117Z"
   },
   {
    "duration": 16,
    "start_time": "2022-03-08T18:17:45.130Z"
   },
   {
    "duration": 18,
    "start_time": "2022-03-08T18:17:45.148Z"
   },
   {
    "duration": 11,
    "start_time": "2022-03-08T18:17:45.167Z"
   },
   {
    "duration": 294,
    "start_time": "2022-03-08T18:17:45.179Z"
   },
   {
    "duration": 213,
    "start_time": "2022-03-08T18:19:42.746Z"
   },
   {
    "duration": 210,
    "start_time": "2022-03-08T18:21:48.366Z"
   },
   {
    "duration": 257,
    "start_time": "2022-03-08T18:22:07.592Z"
   },
   {
    "duration": 231,
    "start_time": "2022-03-08T18:22:23.904Z"
   },
   {
    "duration": 224,
    "start_time": "2022-03-08T18:22:50.715Z"
   },
   {
    "duration": 230,
    "start_time": "2022-03-08T18:23:16.703Z"
   },
   {
    "duration": 85,
    "start_time": "2022-03-08T19:46:53.171Z"
   },
   {
    "duration": 329,
    "start_time": "2022-03-08T19:47:01.275Z"
   },
   {
    "duration": 266,
    "start_time": "2022-03-08T19:47:28.487Z"
   },
   {
    "duration": 461,
    "start_time": "2022-03-08T19:50:37.784Z"
   },
   {
    "duration": 238,
    "start_time": "2022-03-08T19:55:02.671Z"
   },
   {
    "duration": 434,
    "start_time": "2022-03-08T19:55:29.387Z"
   },
   {
    "duration": 238,
    "start_time": "2022-03-08T19:55:43.191Z"
   },
   {
    "duration": 259,
    "start_time": "2022-03-08T19:58:50.015Z"
   },
   {
    "duration": 276,
    "start_time": "2022-03-08T20:02:20.885Z"
   },
   {
    "duration": 326,
    "start_time": "2022-03-08T20:03:17.205Z"
   },
   {
    "duration": 271,
    "start_time": "2022-03-08T20:05:15.671Z"
   },
   {
    "duration": 370,
    "start_time": "2022-03-08T20:05:26.568Z"
   },
   {
    "duration": 10,
    "start_time": "2022-03-08T20:14:21.919Z"
   },
   {
    "duration": 641,
    "start_time": "2022-03-08T20:14:30.425Z"
   },
   {
    "duration": 3,
    "start_time": "2022-03-08T20:14:31.068Z"
   },
   {
    "duration": 12,
    "start_time": "2022-03-08T20:14:31.073Z"
   },
   {
    "duration": 13,
    "start_time": "2022-03-08T20:14:31.087Z"
   },
   {
    "duration": 10,
    "start_time": "2022-03-08T20:14:31.102Z"
   },
   {
    "duration": 33,
    "start_time": "2022-03-08T20:14:31.113Z"
   },
   {
    "duration": 4,
    "start_time": "2022-03-08T20:14:31.148Z"
   },
   {
    "duration": 7,
    "start_time": "2022-03-08T20:14:31.153Z"
   },
   {
    "duration": 12,
    "start_time": "2022-03-08T20:14:31.162Z"
   },
   {
    "duration": 41,
    "start_time": "2022-03-08T20:14:31.175Z"
   },
   {
    "duration": 13,
    "start_time": "2022-03-08T20:14:31.217Z"
   },
   {
    "duration": 413,
    "start_time": "2022-03-08T20:14:31.231Z"
   },
   {
    "duration": 249,
    "start_time": "2022-03-08T20:14:31.646Z"
   },
   {
    "duration": 244,
    "start_time": "2022-03-08T20:14:31.897Z"
   },
   {
    "duration": 294,
    "start_time": "2022-03-08T20:14:32.143Z"
   },
   {
    "duration": 259,
    "start_time": "2022-03-08T20:14:32.439Z"
   },
   {
    "duration": 250,
    "start_time": "2022-03-08T20:14:32.701Z"
   },
   {
    "duration": 231,
    "start_time": "2022-03-08T20:14:32.953Z"
   },
   {
    "duration": 315,
    "start_time": "2022-03-08T20:15:35.179Z"
   },
   {
    "duration": 8,
    "start_time": "2022-03-08T20:15:52.600Z"
   },
   {
    "duration": 628,
    "start_time": "2022-03-08T20:16:06.991Z"
   },
   {
    "duration": 3,
    "start_time": "2022-03-08T20:16:07.621Z"
   },
   {
    "duration": 12,
    "start_time": "2022-03-08T20:16:07.626Z"
   },
   {
    "duration": 11,
    "start_time": "2022-03-08T20:16:07.640Z"
   },
   {
    "duration": 9,
    "start_time": "2022-03-08T20:16:07.652Z"
   },
   {
    "duration": 62,
    "start_time": "2022-03-08T20:16:07.663Z"
   },
   {
    "duration": 5,
    "start_time": "2022-03-08T20:16:07.727Z"
   },
   {
    "duration": 6,
    "start_time": "2022-03-08T20:16:07.734Z"
   },
   {
    "duration": 12,
    "start_time": "2022-03-08T20:16:07.743Z"
   },
   {
    "duration": 16,
    "start_time": "2022-03-08T20:16:07.757Z"
   },
   {
    "duration": 14,
    "start_time": "2022-03-08T20:16:07.801Z"
   },
   {
    "duration": 308,
    "start_time": "2022-03-08T20:16:07.817Z"
   },
   {
    "duration": 247,
    "start_time": "2022-03-08T20:16:08.127Z"
   },
   {
    "duration": 252,
    "start_time": "2022-03-08T20:16:08.376Z"
   },
   {
    "duration": 283,
    "start_time": "2022-03-08T20:16:08.630Z"
   },
   {
    "duration": 260,
    "start_time": "2022-03-08T20:16:08.915Z"
   },
   {
    "duration": 254,
    "start_time": "2022-03-08T20:16:09.177Z"
   },
   {
    "duration": 233,
    "start_time": "2022-03-08T20:16:09.433Z"
   },
   {
    "duration": 8,
    "start_time": "2022-03-08T20:18:25.419Z"
   },
   {
    "duration": 12,
    "start_time": "2022-03-08T20:18:39.956Z"
   },
   {
    "duration": 613,
    "start_time": "2022-03-08T20:18:48.889Z"
   },
   {
    "duration": 3,
    "start_time": "2022-03-08T20:18:49.504Z"
   },
   {
    "duration": 12,
    "start_time": "2022-03-08T20:18:49.509Z"
   },
   {
    "duration": 9,
    "start_time": "2022-03-08T20:18:49.523Z"
   },
   {
    "duration": 10,
    "start_time": "2022-03-08T20:18:49.533Z"
   },
   {
    "duration": 31,
    "start_time": "2022-03-08T20:18:49.544Z"
   },
   {
    "duration": 26,
    "start_time": "2022-03-08T20:18:49.576Z"
   },
   {
    "duration": 7,
    "start_time": "2022-03-08T20:18:49.605Z"
   },
   {
    "duration": 11,
    "start_time": "2022-03-08T20:18:49.613Z"
   },
   {
    "duration": 16,
    "start_time": "2022-03-08T20:18:49.626Z"
   },
   {
    "duration": 12,
    "start_time": "2022-03-08T20:18:49.644Z"
   },
   {
    "duration": 298,
    "start_time": "2022-03-08T20:18:49.658Z"
   },
   {
    "duration": 226,
    "start_time": "2022-03-08T20:18:49.958Z"
   },
   {
    "duration": 230,
    "start_time": "2022-03-08T20:18:50.186Z"
   },
   {
    "duration": 264,
    "start_time": "2022-03-08T20:18:50.418Z"
   },
   {
    "duration": 234,
    "start_time": "2022-03-08T20:18:50.683Z"
   },
   {
    "duration": 239,
    "start_time": "2022-03-08T20:18:50.919Z"
   },
   {
    "duration": 260,
    "start_time": "2022-03-08T20:18:51.159Z"
   },
   {
    "duration": 595,
    "start_time": "2022-03-08T20:19:13.764Z"
   },
   {
    "duration": 2,
    "start_time": "2022-03-08T20:19:14.361Z"
   },
   {
    "duration": 15,
    "start_time": "2022-03-08T20:19:14.367Z"
   },
   {
    "duration": 11,
    "start_time": "2022-03-08T20:19:14.383Z"
   },
   {
    "duration": 8,
    "start_time": "2022-03-08T20:19:14.396Z"
   },
   {
    "duration": 33,
    "start_time": "2022-03-08T20:19:14.406Z"
   },
   {
    "duration": 5,
    "start_time": "2022-03-08T20:19:14.441Z"
   },
   {
    "duration": 7,
    "start_time": "2022-03-08T20:19:14.448Z"
   },
   {
    "duration": 12,
    "start_time": "2022-03-08T20:19:14.457Z"
   },
   {
    "duration": 45,
    "start_time": "2022-03-08T20:19:14.470Z"
   },
   {
    "duration": 17,
    "start_time": "2022-03-08T20:19:14.517Z"
   },
   {
    "duration": 314,
    "start_time": "2022-03-08T20:19:14.536Z"
   },
   {
    "duration": 224,
    "start_time": "2022-03-08T20:19:14.852Z"
   },
   {
    "duration": 224,
    "start_time": "2022-03-08T20:19:15.077Z"
   },
   {
    "duration": 261,
    "start_time": "2022-03-08T20:19:15.302Z"
   },
   {
    "duration": 251,
    "start_time": "2022-03-08T20:19:15.564Z"
   },
   {
    "duration": 234,
    "start_time": "2022-03-08T20:19:15.817Z"
   },
   {
    "duration": 280,
    "start_time": "2022-03-08T20:19:16.053Z"
   },
   {
    "duration": 9,
    "start_time": "2022-03-08T20:19:40.350Z"
   },
   {
    "duration": 633,
    "start_time": "2022-03-08T20:19:57.901Z"
   },
   {
    "duration": 2,
    "start_time": "2022-03-08T20:19:58.536Z"
   },
   {
    "duration": 13,
    "start_time": "2022-03-08T20:19:58.540Z"
   },
   {
    "duration": 10,
    "start_time": "2022-03-08T20:19:58.554Z"
   },
   {
    "duration": 12,
    "start_time": "2022-03-08T20:19:58.565Z"
   },
   {
    "duration": 44,
    "start_time": "2022-03-08T20:19:58.578Z"
   },
   {
    "duration": 4,
    "start_time": "2022-03-08T20:19:58.623Z"
   },
   {
    "duration": 7,
    "start_time": "2022-03-08T20:19:58.630Z"
   },
   {
    "duration": 12,
    "start_time": "2022-03-08T20:19:58.638Z"
   },
   {
    "duration": 19,
    "start_time": "2022-03-08T20:19:58.651Z"
   },
   {
    "duration": 32,
    "start_time": "2022-03-08T20:19:58.672Z"
   },
   {
    "duration": 288,
    "start_time": "2022-03-08T20:19:58.706Z"
   },
   {
    "duration": 235,
    "start_time": "2022-03-08T20:19:58.996Z"
   },
   {
    "duration": 234,
    "start_time": "2022-03-08T20:19:59.232Z"
   },
   {
    "duration": 307,
    "start_time": "2022-03-08T20:19:59.467Z"
   },
   {
    "duration": 288,
    "start_time": "2022-03-08T20:19:59.775Z"
   },
   {
    "duration": 248,
    "start_time": "2022-03-08T20:20:00.065Z"
   },
   {
    "duration": 291,
    "start_time": "2022-03-08T20:20:00.315Z"
   },
   {
    "duration": 9,
    "start_time": "2022-03-08T20:21:07.940Z"
   },
   {
    "duration": 9,
    "start_time": "2022-03-08T20:21:14.119Z"
   },
   {
    "duration": 577,
    "start_time": "2022-03-08T20:21:21.562Z"
   },
   {
    "duration": 3,
    "start_time": "2022-03-08T20:21:22.141Z"
   },
   {
    "duration": 12,
    "start_time": "2022-03-08T20:21:22.146Z"
   },
   {
    "duration": 9,
    "start_time": "2022-03-08T20:21:22.159Z"
   },
   {
    "duration": 10,
    "start_time": "2022-03-08T20:21:22.170Z"
   },
   {
    "duration": 47,
    "start_time": "2022-03-08T20:21:22.181Z"
   },
   {
    "duration": 4,
    "start_time": "2022-03-08T20:21:22.229Z"
   },
   {
    "duration": 6,
    "start_time": "2022-03-08T20:21:22.235Z"
   },
   {
    "duration": 12,
    "start_time": "2022-03-08T20:21:22.243Z"
   },
   {
    "duration": 16,
    "start_time": "2022-03-08T20:21:22.256Z"
   },
   {
    "duration": 33,
    "start_time": "2022-03-08T20:21:22.273Z"
   },
   {
    "duration": 283,
    "start_time": "2022-03-08T20:21:22.307Z"
   },
   {
    "duration": 229,
    "start_time": "2022-03-08T20:21:22.592Z"
   },
   {
    "duration": 233,
    "start_time": "2022-03-08T20:21:22.822Z"
   },
   {
    "duration": 257,
    "start_time": "2022-03-08T20:21:23.056Z"
   },
   {
    "duration": 232,
    "start_time": "2022-03-08T20:21:23.315Z"
   },
   {
    "duration": 235,
    "start_time": "2022-03-08T20:21:23.549Z"
   },
   {
    "duration": 275,
    "start_time": "2022-03-08T20:21:23.785Z"
   },
   {
    "duration": 9,
    "start_time": "2022-03-08T20:22:07.364Z"
   },
   {
    "duration": 9,
    "start_time": "2022-03-08T20:22:27.864Z"
   },
   {
    "duration": 10,
    "start_time": "2022-03-08T20:22:35.886Z"
   },
   {
    "duration": 9,
    "start_time": "2022-03-08T20:25:05.709Z"
   },
   {
    "duration": 9,
    "start_time": "2022-03-08T20:26:24.652Z"
   },
   {
    "duration": 324,
    "start_time": "2022-03-08T20:26:40.850Z"
   },
   {
    "duration": 13,
    "start_time": "2022-03-08T20:26:47.643Z"
   },
   {
    "duration": 8,
    "start_time": "2022-03-08T20:26:55.027Z"
   },
   {
    "duration": 9,
    "start_time": "2022-03-08T20:27:13.311Z"
   },
   {
    "duration": 7,
    "start_time": "2022-03-08T20:27:21.965Z"
   },
   {
    "duration": 8,
    "start_time": "2022-03-08T20:29:10.449Z"
   },
   {
    "duration": 254,
    "start_time": "2022-03-08T20:30:26.726Z"
   },
   {
    "duration": 45,
    "start_time": "2022-03-08T20:30:32.243Z"
   },
   {
    "duration": 3,
    "start_time": "2022-03-08T20:30:33.214Z"
   },
   {
    "duration": 11,
    "start_time": "2022-03-08T20:30:33.836Z"
   },
   {
    "duration": 9,
    "start_time": "2022-03-08T20:30:34.699Z"
   },
   {
    "duration": 241,
    "start_time": "2022-03-08T20:30:39.018Z"
   },
   {
    "duration": 7,
    "start_time": "2022-03-08T20:31:07.600Z"
   },
   {
    "duration": 42,
    "start_time": "2022-03-08T20:31:33.734Z"
   },
   {
    "duration": 3,
    "start_time": "2022-03-08T20:31:34.009Z"
   },
   {
    "duration": 11,
    "start_time": "2022-03-08T20:31:34.287Z"
   },
   {
    "duration": 9,
    "start_time": "2022-03-08T20:31:34.641Z"
   },
   {
    "duration": 235,
    "start_time": "2022-03-08T20:31:35.120Z"
   },
   {
    "duration": 11,
    "start_time": "2022-03-08T20:31:42.639Z"
   },
   {
    "duration": 658,
    "start_time": "2022-03-08T20:31:56.167Z"
   },
   {
    "duration": 3,
    "start_time": "2022-03-08T20:31:56.826Z"
   },
   {
    "duration": 13,
    "start_time": "2022-03-08T20:31:56.831Z"
   },
   {
    "duration": 10,
    "start_time": "2022-03-08T20:31:56.846Z"
   },
   {
    "duration": 12,
    "start_time": "2022-03-08T20:31:56.858Z"
   },
   {
    "duration": 51,
    "start_time": "2022-03-08T20:31:56.872Z"
   },
   {
    "duration": 4,
    "start_time": "2022-03-08T20:31:56.925Z"
   },
   {
    "duration": 6,
    "start_time": "2022-03-08T20:31:56.931Z"
   },
   {
    "duration": 11,
    "start_time": "2022-03-08T20:31:56.939Z"
   },
   {
    "duration": 14,
    "start_time": "2022-03-08T20:31:56.952Z"
   },
   {
    "duration": 46,
    "start_time": "2022-03-08T20:31:56.968Z"
   },
   {
    "duration": 289,
    "start_time": "2022-03-08T20:31:57.016Z"
   },
   {
    "duration": 232,
    "start_time": "2022-03-08T20:31:57.307Z"
   },
   {
    "duration": 244,
    "start_time": "2022-03-08T20:31:57.541Z"
   },
   {
    "duration": 268,
    "start_time": "2022-03-08T20:31:57.787Z"
   },
   {
    "duration": 244,
    "start_time": "2022-03-08T20:31:58.057Z"
   },
   {
    "duration": 250,
    "start_time": "2022-03-08T20:31:58.303Z"
   },
   {
    "duration": 382,
    "start_time": "2022-03-08T20:31:58.555Z"
   },
   {
    "duration": 352,
    "start_time": "2022-03-08T20:32:18.769Z"
   },
   {
    "duration": 788,
    "start_time": "2022-03-10T14:32:50.153Z"
   },
   {
    "duration": 4,
    "start_time": "2022-03-10T14:32:50.944Z"
   },
   {
    "duration": 20,
    "start_time": "2022-03-10T14:32:50.950Z"
   },
   {
    "duration": 21,
    "start_time": "2022-03-10T14:32:50.972Z"
   },
   {
    "duration": 26,
    "start_time": "2022-03-10T14:32:50.995Z"
   },
   {
    "duration": 42,
    "start_time": "2022-03-10T14:32:51.023Z"
   },
   {
    "duration": 5,
    "start_time": "2022-03-10T14:32:51.066Z"
   },
   {
    "duration": 20,
    "start_time": "2022-03-10T14:32:51.073Z"
   },
   {
    "duration": 15,
    "start_time": "2022-03-10T14:32:51.103Z"
   },
   {
    "duration": 20,
    "start_time": "2022-03-10T14:32:51.120Z"
   },
   {
    "duration": 17,
    "start_time": "2022-03-10T14:32:51.141Z"
   },
   {
    "duration": 376,
    "start_time": "2022-03-10T14:32:51.160Z"
   },
   {
    "duration": 272,
    "start_time": "2022-03-10T14:32:51.538Z"
   },
   {
    "duration": 278,
    "start_time": "2022-03-10T14:32:51.812Z"
   },
   {
    "duration": 332,
    "start_time": "2022-03-10T14:32:52.092Z"
   },
   {
    "duration": 290,
    "start_time": "2022-03-10T14:32:52.426Z"
   },
   {
    "duration": 383,
    "start_time": "2022-03-10T14:32:52.718Z"
   },
   {
    "duration": 628,
    "start_time": "2022-03-10T14:32:53.103Z"
   },
   {
    "duration": 504,
    "start_time": "2022-03-10T14:32:53.734Z"
   },
   {
    "duration": 680,
    "start_time": "2022-03-10T14:33:26.934Z"
   },
   {
    "duration": 765,
    "start_time": "2022-03-10T14:34:23.942Z"
   },
   {
    "duration": 739,
    "start_time": "2022-03-10T14:34:54.675Z"
   },
   {
    "duration": 696,
    "start_time": "2022-03-10T14:35:03.156Z"
   },
   {
    "duration": 77,
    "start_time": "2022-03-10T15:25:14.508Z"
   },
   {
    "duration": 200,
    "start_time": "2022-03-10T15:25:58.333Z"
   },
   {
    "duration": 277,
    "start_time": "2022-03-10T15:26:07.530Z"
   },
   {
    "duration": 730,
    "start_time": "2022-03-10T15:26:30.159Z"
   },
   {
    "duration": 4,
    "start_time": "2022-03-10T15:26:30.892Z"
   },
   {
    "duration": 16,
    "start_time": "2022-03-10T15:26:30.902Z"
   },
   {
    "duration": 17,
    "start_time": "2022-03-10T15:26:30.921Z"
   },
   {
    "duration": 17,
    "start_time": "2022-03-10T15:26:30.940Z"
   },
   {
    "duration": 66,
    "start_time": "2022-03-10T15:26:30.959Z"
   },
   {
    "duration": 6,
    "start_time": "2022-03-10T15:26:31.028Z"
   },
   {
    "duration": 28,
    "start_time": "2022-03-10T15:26:31.037Z"
   },
   {
    "duration": 33,
    "start_time": "2022-03-10T15:26:31.067Z"
   },
   {
    "duration": 31,
    "start_time": "2022-03-10T15:26:31.102Z"
   },
   {
    "duration": 17,
    "start_time": "2022-03-10T15:26:31.136Z"
   },
   {
    "duration": 375,
    "start_time": "2022-03-10T15:26:31.155Z"
   },
   {
    "duration": 313,
    "start_time": "2022-03-10T15:26:31.533Z"
   },
   {
    "duration": 369,
    "start_time": "2022-03-10T15:26:31.848Z"
   },
   {
    "duration": 432,
    "start_time": "2022-03-10T15:26:32.220Z"
   },
   {
    "duration": 383,
    "start_time": "2022-03-10T15:26:32.654Z"
   },
   {
    "duration": 306,
    "start_time": "2022-03-10T15:26:33.039Z"
   },
   {
    "duration": 491,
    "start_time": "2022-03-10T15:26:33.347Z"
   },
   {
    "duration": 136,
    "start_time": "2022-03-10T15:26:33.841Z"
   },
   {
    "duration": 362,
    "start_time": "2022-03-10T15:26:33.979Z"
   },
   {
    "duration": 301,
    "start_time": "2022-03-10T15:26:55.529Z"
   },
   {
    "duration": 215,
    "start_time": "2022-03-10T15:27:33.550Z"
   },
   {
    "duration": 175,
    "start_time": "2022-03-10T15:27:40.028Z"
   },
   {
    "duration": 133,
    "start_time": "2022-03-10T15:27:55.726Z"
   },
   {
    "duration": 161,
    "start_time": "2022-03-10T15:27:56.731Z"
   },
   {
    "duration": 210,
    "start_time": "2022-03-10T15:29:14.292Z"
   },
   {
    "duration": 156,
    "start_time": "2022-03-10T15:29:18.393Z"
   },
   {
    "duration": 494,
    "start_time": "2022-03-10T15:46:53.572Z"
   },
   {
    "duration": 425,
    "start_time": "2022-03-10T15:48:18.150Z"
   },
   {
    "duration": 98,
    "start_time": "2022-03-10T15:57:20.679Z"
   },
   {
    "duration": 363,
    "start_time": "2022-03-10T15:57:29.530Z"
   },
   {
    "duration": 56,
    "start_time": "2022-03-10T16:00:17.909Z"
   },
   {
    "duration": 196,
    "start_time": "2022-03-10T16:01:49.140Z"
   },
   {
    "duration": 191,
    "start_time": "2022-03-10T16:02:09.793Z"
   },
   {
    "duration": 186,
    "start_time": "2022-03-10T16:02:34.246Z"
   },
   {
    "duration": 80,
    "start_time": "2022-03-10T16:02:48.566Z"
   },
   {
    "duration": 353,
    "start_time": "2022-03-10T16:02:55.625Z"
   },
   {
    "duration": 299,
    "start_time": "2022-03-10T16:03:03.745Z"
   },
   {
    "duration": 177,
    "start_time": "2022-03-10T16:03:15.221Z"
   },
   {
    "duration": 178,
    "start_time": "2022-03-10T16:03:35.561Z"
   },
   {
    "duration": 178,
    "start_time": "2022-03-10T16:03:49.086Z"
   },
   {
    "duration": 849,
    "start_time": "2022-03-10T16:04:22.368Z"
   },
   {
    "duration": 3,
    "start_time": "2022-03-10T16:04:23.220Z"
   },
   {
    "duration": 19,
    "start_time": "2022-03-10T16:04:23.229Z"
   },
   {
    "duration": 22,
    "start_time": "2022-03-10T16:04:23.250Z"
   },
   {
    "duration": 35,
    "start_time": "2022-03-10T16:04:23.274Z"
   },
   {
    "duration": 47,
    "start_time": "2022-03-10T16:04:23.312Z"
   },
   {
    "duration": 5,
    "start_time": "2022-03-10T16:04:23.362Z"
   },
   {
    "duration": 40,
    "start_time": "2022-03-10T16:04:23.370Z"
   },
   {
    "duration": 15,
    "start_time": "2022-03-10T16:04:23.413Z"
   },
   {
    "duration": 29,
    "start_time": "2022-03-10T16:04:23.430Z"
   },
   {
    "duration": 40,
    "start_time": "2022-03-10T16:04:23.461Z"
   },
   {
    "duration": 371,
    "start_time": "2022-03-10T16:04:23.504Z"
   },
   {
    "duration": 305,
    "start_time": "2022-03-10T16:04:23.878Z"
   },
   {
    "duration": 296,
    "start_time": "2022-03-10T16:04:24.185Z"
   },
   {
    "duration": 350,
    "start_time": "2022-03-10T16:04:24.483Z"
   },
   {
    "duration": 320,
    "start_time": "2022-03-10T16:04:24.835Z"
   },
   {
    "duration": 323,
    "start_time": "2022-03-10T16:04:25.157Z"
   },
   {
    "duration": 514,
    "start_time": "2022-03-10T16:04:25.482Z"
   },
   {
    "duration": 201,
    "start_time": "2022-03-10T16:04:26.002Z"
   },
   {
    "duration": 317,
    "start_time": "2022-03-10T16:04:26.205Z"
   },
   {
    "duration": 153,
    "start_time": "2022-03-10T16:04:53.683Z"
   },
   {
    "duration": 157,
    "start_time": "2022-03-10T16:05:05.135Z"
   },
   {
    "duration": 151,
    "start_time": "2022-03-10T16:05:46.515Z"
   },
   {
    "duration": 156,
    "start_time": "2022-03-10T16:06:36.426Z"
   },
   {
    "duration": 434,
    "start_time": "2022-03-10T16:09:12.862Z"
   },
   {
    "duration": 343,
    "start_time": "2022-03-10T16:10:58.455Z"
   },
   {
    "duration": 152,
    "start_time": "2022-03-10T16:11:05.662Z"
   },
   {
    "duration": 401,
    "start_time": "2022-03-10T16:12:49.942Z"
   },
   {
    "duration": 192,
    "start_time": "2022-03-10T16:12:55.587Z"
   },
   {
    "duration": 161,
    "start_time": "2022-03-10T16:13:02.050Z"
   },
   {
    "duration": 198,
    "start_time": "2022-03-10T16:13:18.592Z"
   },
   {
    "duration": 768,
    "start_time": "2022-03-10T16:14:12.892Z"
   },
   {
    "duration": 419,
    "start_time": "2022-03-10T16:14:21.887Z"
   },
   {
    "duration": 439,
    "start_time": "2022-03-10T16:14:47.835Z"
   },
   {
    "duration": 400,
    "start_time": "2022-03-10T16:16:03.832Z"
   },
   {
    "duration": 401,
    "start_time": "2022-03-10T16:18:29.064Z"
   },
   {
    "duration": 450,
    "start_time": "2022-03-10T16:18:45.455Z"
   },
   {
    "duration": 442,
    "start_time": "2022-03-10T16:18:53.291Z"
   },
   {
    "duration": 202,
    "start_time": "2022-03-10T16:19:14.656Z"
   },
   {
    "duration": 453,
    "start_time": "2022-03-10T16:20:07.458Z"
   },
   {
    "duration": 776,
    "start_time": "2022-03-10T16:20:18.801Z"
   },
   {
    "duration": 3,
    "start_time": "2022-03-10T16:20:19.579Z"
   },
   {
    "duration": 35,
    "start_time": "2022-03-10T16:20:19.585Z"
   },
   {
    "duration": 28,
    "start_time": "2022-03-10T16:20:19.622Z"
   },
   {
    "duration": 30,
    "start_time": "2022-03-10T16:20:19.652Z"
   },
   {
    "duration": 60,
    "start_time": "2022-03-10T16:20:19.683Z"
   },
   {
    "duration": 4,
    "start_time": "2022-03-10T16:20:19.745Z"
   },
   {
    "duration": 22,
    "start_time": "2022-03-10T16:20:19.752Z"
   },
   {
    "duration": 23,
    "start_time": "2022-03-10T16:20:19.776Z"
   },
   {
    "duration": 46,
    "start_time": "2022-03-10T16:20:19.801Z"
   },
   {
    "duration": 19,
    "start_time": "2022-03-10T16:20:19.849Z"
   },
   {
    "duration": 343,
    "start_time": "2022-03-10T16:20:19.870Z"
   },
   {
    "duration": 281,
    "start_time": "2022-03-10T16:20:20.215Z"
   },
   {
    "duration": 296,
    "start_time": "2022-03-10T16:20:20.497Z"
   },
   {
    "duration": 334,
    "start_time": "2022-03-10T16:20:20.801Z"
   },
   {
    "duration": 304,
    "start_time": "2022-03-10T16:20:21.137Z"
   },
   {
    "duration": 291,
    "start_time": "2022-03-10T16:20:21.443Z"
   },
   {
    "duration": 528,
    "start_time": "2022-03-10T16:20:21.736Z"
   },
   {
    "duration": 204,
    "start_time": "2022-03-10T16:20:22.267Z"
   },
   {
    "duration": 160,
    "start_time": "2022-03-10T16:20:22.472Z"
   },
   {
    "duration": 854,
    "start_time": "2022-03-10T16:20:22.633Z"
   },
   {
    "duration": 159,
    "start_time": "2022-03-10T16:21:52.235Z"
   },
   {
    "duration": 225,
    "start_time": "2022-03-10T16:22:24.612Z"
   },
   {
    "duration": 166,
    "start_time": "2022-03-10T16:23:05.704Z"
   },
   {
    "duration": 357,
    "start_time": "2022-03-10T16:23:31.673Z"
   },
   {
    "duration": 151,
    "start_time": "2022-03-10T16:27:20.220Z"
   },
   {
    "duration": 156,
    "start_time": "2022-03-10T16:27:45.616Z"
   },
   {
    "duration": 256,
    "start_time": "2022-03-10T16:28:04.289Z"
   },
   {
    "duration": 233,
    "start_time": "2022-03-10T16:28:40.234Z"
   },
   {
    "duration": 156,
    "start_time": "2022-03-10T16:28:43.914Z"
   },
   {
    "duration": 159,
    "start_time": "2022-03-10T16:29:27.586Z"
   },
   {
    "duration": 161,
    "start_time": "2022-03-10T16:29:45.302Z"
   },
   {
    "duration": 159,
    "start_time": "2022-03-10T16:29:52.321Z"
   },
   {
    "duration": 159,
    "start_time": "2022-03-10T16:32:51.928Z"
   },
   {
    "duration": 1574,
    "start_time": "2022-03-10T16:57:51.279Z"
   },
   {
    "duration": 255,
    "start_time": "2022-03-10T16:58:49.962Z"
   },
   {
    "duration": 198,
    "start_time": "2022-03-10T16:59:19.987Z"
   },
   {
    "duration": 5378,
    "start_time": "2022-03-10T17:05:50.732Z"
   },
   {
    "duration": 5411,
    "start_time": "2022-03-10T17:05:57.654Z"
   },
   {
    "duration": 5376,
    "start_time": "2022-03-10T17:06:31.168Z"
   },
   {
    "duration": 71,
    "start_time": "2022-03-10T17:11:14.555Z"
   },
   {
    "duration": 3,
    "start_time": "2022-03-10T17:21:17.299Z"
   },
   {
    "duration": 68,
    "start_time": "2022-03-10T17:28:59.890Z"
   },
   {
    "duration": 212,
    "start_time": "2022-03-10T17:29:16.142Z"
   },
   {
    "duration": 207,
    "start_time": "2022-03-10T17:29:51.097Z"
   },
   {
    "duration": 208,
    "start_time": "2022-03-10T17:29:59.636Z"
   },
   {
    "duration": 285,
    "start_time": "2022-03-10T17:31:55.991Z"
   },
   {
    "duration": 309,
    "start_time": "2022-03-10T17:32:03.112Z"
   },
   {
    "duration": 325,
    "start_time": "2022-03-10T17:32:50.743Z"
   },
   {
    "duration": 316,
    "start_time": "2022-03-10T17:33:52.100Z"
   },
   {
    "duration": 251,
    "start_time": "2022-03-10T17:34:01.400Z"
   },
   {
    "duration": 772,
    "start_time": "2022-03-10T18:12:31.709Z"
   },
   {
    "duration": 4,
    "start_time": "2022-03-10T18:12:32.483Z"
   },
   {
    "duration": 30,
    "start_time": "2022-03-10T18:12:32.489Z"
   },
   {
    "duration": 43,
    "start_time": "2022-03-10T18:12:32.522Z"
   },
   {
    "duration": 17,
    "start_time": "2022-03-10T18:12:32.567Z"
   },
   {
    "duration": 55,
    "start_time": "2022-03-10T18:12:32.586Z"
   },
   {
    "duration": 6,
    "start_time": "2022-03-10T18:12:32.643Z"
   },
   {
    "duration": 67,
    "start_time": "2022-03-10T18:12:32.652Z"
   },
   {
    "duration": 21,
    "start_time": "2022-03-10T18:12:32.722Z"
   },
   {
    "duration": 21,
    "start_time": "2022-03-10T18:12:32.745Z"
   },
   {
    "duration": 28,
    "start_time": "2022-03-10T18:12:32.767Z"
   },
   {
    "duration": 317,
    "start_time": "2022-03-10T18:12:32.797Z"
   },
   {
    "duration": 287,
    "start_time": "2022-03-10T18:12:33.116Z"
   },
   {
    "duration": 288,
    "start_time": "2022-03-10T18:12:33.405Z"
   },
   {
    "duration": 340,
    "start_time": "2022-03-10T18:12:33.695Z"
   },
   {
    "duration": 292,
    "start_time": "2022-03-10T18:12:34.037Z"
   },
   {
    "duration": 293,
    "start_time": "2022-03-10T18:12:34.331Z"
   },
   {
    "duration": 463,
    "start_time": "2022-03-10T18:12:34.626Z"
   },
   {
    "duration": 200,
    "start_time": "2022-03-10T18:12:35.091Z"
   },
   {
    "duration": 267,
    "start_time": "2022-03-10T18:12:35.292Z"
   },
   {
    "duration": 266,
    "start_time": "2022-03-10T18:12:35.562Z"
   },
   {
    "duration": 158,
    "start_time": "2022-03-10T18:12:35.831Z"
   },
   {
    "duration": 9,
    "start_time": "2022-03-10T18:12:35.992Z"
   },
   {
    "duration": 256,
    "start_time": "2022-03-10T18:14:46.256Z"
   },
   {
    "duration": 250,
    "start_time": "2022-03-10T18:15:05.138Z"
   },
   {
    "duration": 240,
    "start_time": "2022-03-10T18:26:43.035Z"
   },
   {
    "duration": 262,
    "start_time": "2022-03-10T18:26:44.885Z"
   },
   {
    "duration": 881,
    "start_time": "2022-03-10T18:37:10.485Z"
   },
   {
    "duration": 4,
    "start_time": "2022-03-10T18:37:11.368Z"
   },
   {
    "duration": 27,
    "start_time": "2022-03-10T18:37:11.374Z"
   },
   {
    "duration": 12,
    "start_time": "2022-03-10T18:37:11.403Z"
   },
   {
    "duration": 16,
    "start_time": "2022-03-10T18:37:11.417Z"
   },
   {
    "duration": 69,
    "start_time": "2022-03-10T18:37:11.435Z"
   },
   {
    "duration": 5,
    "start_time": "2022-03-10T18:37:11.506Z"
   },
   {
    "duration": 16,
    "start_time": "2022-03-10T18:37:11.514Z"
   },
   {
    "duration": 17,
    "start_time": "2022-03-10T18:37:11.533Z"
   },
   {
    "duration": 28,
    "start_time": "2022-03-10T18:37:11.553Z"
   },
   {
    "duration": 16,
    "start_time": "2022-03-10T18:37:11.602Z"
   },
   {
    "duration": 341,
    "start_time": "2022-03-10T18:37:11.620Z"
   },
   {
    "duration": 301,
    "start_time": "2022-03-10T18:37:11.963Z"
   },
   {
    "duration": 346,
    "start_time": "2022-03-10T18:37:12.266Z"
   },
   {
    "duration": 359,
    "start_time": "2022-03-10T18:37:12.614Z"
   },
   {
    "duration": 320,
    "start_time": "2022-03-10T18:37:12.975Z"
   },
   {
    "duration": 392,
    "start_time": "2022-03-10T18:37:13.302Z"
   },
   {
    "duration": 492,
    "start_time": "2022-03-10T18:37:13.701Z"
   },
   {
    "duration": 187,
    "start_time": "2022-03-10T18:37:14.195Z"
   },
   {
    "duration": 262,
    "start_time": "2022-03-10T18:37:14.384Z"
   },
   {
    "duration": 280,
    "start_time": "2022-03-10T18:37:14.649Z"
   },
   {
    "duration": 2,
    "start_time": "2022-03-10T18:37:14.931Z"
   },
   {
    "duration": 5,
    "start_time": "2022-03-10T18:37:14.936Z"
   },
   {
    "duration": 573,
    "start_time": "2022-03-10T18:41:26.874Z"
   },
   {
    "duration": 341,
    "start_time": "2022-03-10T18:42:05.393Z"
   },
   {
    "duration": 702,
    "start_time": "2022-03-10T18:42:19.542Z"
   },
   {
    "duration": 4,
    "start_time": "2022-03-10T18:42:20.246Z"
   },
   {
    "duration": 21,
    "start_time": "2022-03-10T18:42:20.255Z"
   },
   {
    "duration": 24,
    "start_time": "2022-03-10T18:42:20.278Z"
   },
   {
    "duration": 14,
    "start_time": "2022-03-10T18:42:20.305Z"
   },
   {
    "duration": 38,
    "start_time": "2022-03-10T18:42:20.321Z"
   },
   {
    "duration": 5,
    "start_time": "2022-03-10T18:42:20.361Z"
   },
   {
    "duration": 36,
    "start_time": "2022-03-10T18:42:20.369Z"
   },
   {
    "duration": 23,
    "start_time": "2022-03-10T18:42:20.408Z"
   },
   {
    "duration": 19,
    "start_time": "2022-03-10T18:42:20.432Z"
   },
   {
    "duration": 17,
    "start_time": "2022-03-10T18:42:20.452Z"
   },
   {
    "duration": 292,
    "start_time": "2022-03-10T18:42:20.471Z"
   },
   {
    "duration": 286,
    "start_time": "2022-03-10T18:42:20.765Z"
   },
   {
    "duration": 283,
    "start_time": "2022-03-10T18:42:21.053Z"
   },
   {
    "duration": 325,
    "start_time": "2022-03-10T18:42:21.338Z"
   },
   {
    "duration": 284,
    "start_time": "2022-03-10T18:42:21.665Z"
   },
   {
    "duration": 290,
    "start_time": "2022-03-10T18:42:21.951Z"
   },
   {
    "duration": 478,
    "start_time": "2022-03-10T18:42:22.243Z"
   },
   {
    "duration": 184,
    "start_time": "2022-03-10T18:42:22.723Z"
   },
   {
    "duration": 257,
    "start_time": "2022-03-10T18:42:22.909Z"
   },
   {
    "duration": 271,
    "start_time": "2022-03-10T18:42:23.168Z"
   },
   {
    "duration": 3,
    "start_time": "2022-03-10T18:42:23.441Z"
   },
   {
    "duration": 377,
    "start_time": "2022-03-10T18:42:23.446Z"
   },
   {
    "duration": 199,
    "start_time": "2022-03-10T18:42:48.547Z"
   },
   {
    "duration": 62,
    "start_time": "2022-03-10T20:36:38.630Z"
   },
   {
    "duration": 10,
    "start_time": "2022-03-10T20:37:32.909Z"
   },
   {
    "duration": 4520,
    "start_time": "2022-03-10T20:38:52.955Z"
   },
   {
    "duration": 175,
    "start_time": "2022-03-10T20:39:20.681Z"
   },
   {
    "duration": 75,
    "start_time": "2022-03-10T20:39:38.403Z"
   },
   {
    "duration": 10,
    "start_time": "2022-03-10T20:39:42.602Z"
   },
   {
    "duration": 679,
    "start_time": "2022-03-12T15:38:05.248Z"
   },
   {
    "duration": 5,
    "start_time": "2022-03-12T15:38:05.929Z"
   },
   {
    "duration": 29,
    "start_time": "2022-03-12T15:38:05.936Z"
   },
   {
    "duration": 16,
    "start_time": "2022-03-12T15:38:05.967Z"
   },
   {
    "duration": 13,
    "start_time": "2022-03-12T15:38:05.985Z"
   },
   {
    "duration": 47,
    "start_time": "2022-03-12T15:38:06.000Z"
   },
   {
    "duration": 7,
    "start_time": "2022-03-12T15:38:06.050Z"
   },
   {
    "duration": 13,
    "start_time": "2022-03-12T15:38:06.060Z"
   },
   {
    "duration": 15,
    "start_time": "2022-03-12T15:38:06.077Z"
   },
   {
    "duration": 39,
    "start_time": "2022-03-12T15:38:06.094Z"
   },
   {
    "duration": 23,
    "start_time": "2022-03-12T15:38:06.136Z"
   },
   {
    "duration": 260,
    "start_time": "2022-03-12T15:38:06.161Z"
   },
   {
    "duration": 247,
    "start_time": "2022-03-12T15:38:06.423Z"
   },
   {
    "duration": 284,
    "start_time": "2022-03-12T15:38:06.672Z"
   },
   {
    "duration": 318,
    "start_time": "2022-03-12T15:38:06.959Z"
   },
   {
    "duration": 280,
    "start_time": "2022-03-12T15:38:07.278Z"
   },
   {
    "duration": 260,
    "start_time": "2022-03-12T15:38:07.560Z"
   },
   {
    "duration": 450,
    "start_time": "2022-03-12T15:38:07.822Z"
   },
   {
    "duration": 176,
    "start_time": "2022-03-12T15:38:08.274Z"
   },
   {
    "duration": 247,
    "start_time": "2022-03-12T15:38:08.452Z"
   },
   {
    "duration": 244,
    "start_time": "2022-03-12T15:38:08.701Z"
   },
   {
    "duration": 3,
    "start_time": "2022-03-12T15:38:08.947Z"
   },
   {
    "duration": 11,
    "start_time": "2022-03-12T15:38:08.952Z"
   },
   {
    "duration": 3011,
    "start_time": "2022-03-12T15:38:28.875Z"
   },
   {
    "duration": 23,
    "start_time": "2022-03-12T15:41:00.303Z"
   },
   {
    "duration": 309,
    "start_time": "2022-03-12T15:47:37.659Z"
   },
   {
    "duration": 151,
    "start_time": "2022-03-12T15:48:02.568Z"
   },
   {
    "duration": 133,
    "start_time": "2022-03-12T15:49:03.044Z"
   },
   {
    "duration": 168,
    "start_time": "2022-03-12T15:51:06.592Z"
   },
   {
    "duration": 129,
    "start_time": "2022-03-12T15:54:05.406Z"
   },
   {
    "duration": 627,
    "start_time": "2022-03-12T15:54:48.781Z"
   },
   {
    "duration": 4,
    "start_time": "2022-03-12T15:54:49.410Z"
   },
   {
    "duration": 14,
    "start_time": "2022-03-12T15:54:49.416Z"
   },
   {
    "duration": 10,
    "start_time": "2022-03-12T15:54:49.433Z"
   },
   {
    "duration": 282,
    "start_time": "2022-03-12T15:54:49.445Z"
   },
   {
    "duration": -422,
    "start_time": "2022-03-12T15:54:50.152Z"
   },
   {
    "duration": -423,
    "start_time": "2022-03-12T15:54:50.155Z"
   },
   {
    "duration": -426,
    "start_time": "2022-03-12T15:54:50.159Z"
   },
   {
    "duration": -429,
    "start_time": "2022-03-12T15:54:50.163Z"
   },
   {
    "duration": -431,
    "start_time": "2022-03-12T15:54:50.167Z"
   },
   {
    "duration": -436,
    "start_time": "2022-03-12T15:54:50.173Z"
   },
   {
    "duration": -438,
    "start_time": "2022-03-12T15:54:50.177Z"
   },
   {
    "duration": -441,
    "start_time": "2022-03-12T15:54:50.181Z"
   },
   {
    "duration": -443,
    "start_time": "2022-03-12T15:54:50.184Z"
   },
   {
    "duration": -445,
    "start_time": "2022-03-12T15:54:50.188Z"
   },
   {
    "duration": -447,
    "start_time": "2022-03-12T15:54:50.191Z"
   },
   {
    "duration": -449,
    "start_time": "2022-03-12T15:54:50.195Z"
   },
   {
    "duration": -452,
    "start_time": "2022-03-12T15:54:50.199Z"
   },
   {
    "duration": -458,
    "start_time": "2022-03-12T15:54:50.206Z"
   },
   {
    "duration": -470,
    "start_time": "2022-03-12T15:54:50.220Z"
   },
   {
    "duration": -473,
    "start_time": "2022-03-12T15:54:50.224Z"
   },
   {
    "duration": -472,
    "start_time": "2022-03-12T15:54:50.225Z"
   },
   {
    "duration": -473,
    "start_time": "2022-03-12T15:54:50.227Z"
   },
   {
    "duration": 598,
    "start_time": "2022-03-12T16:00:31.116Z"
   },
   {
    "duration": 257,
    "start_time": "2022-03-12T16:01:23.242Z"
   },
   {
    "duration": 236,
    "start_time": "2022-03-12T16:01:41.273Z"
   },
   {
    "duration": 237,
    "start_time": "2022-03-12T16:03:18.823Z"
   },
   {
    "duration": 7,
    "start_time": "2022-03-12T16:05:12.712Z"
   },
   {
    "duration": 15,
    "start_time": "2022-03-12T16:06:28.637Z"
   },
   {
    "duration": 10,
    "start_time": "2022-03-12T16:06:56.680Z"
   },
   {
    "duration": 8,
    "start_time": "2022-03-12T16:07:47.956Z"
   },
   {
    "duration": 5,
    "start_time": "2022-03-12T16:08:38.971Z"
   },
   {
    "duration": 671,
    "start_time": "2022-03-12T16:11:36.121Z"
   },
   {
    "duration": 2,
    "start_time": "2022-03-12T16:11:36.794Z"
   },
   {
    "duration": 15,
    "start_time": "2022-03-12T16:11:36.798Z"
   },
   {
    "duration": 13,
    "start_time": "2022-03-12T16:11:36.815Z"
   },
   {
    "duration": 7,
    "start_time": "2022-03-12T16:11:36.829Z"
   },
   {
    "duration": 16,
    "start_time": "2022-03-12T16:11:36.837Z"
   },
   {
    "duration": 14,
    "start_time": "2022-03-12T16:11:36.855Z"
   },
   {
    "duration": 33,
    "start_time": "2022-03-12T16:11:36.870Z"
   },
   {
    "duration": 28,
    "start_time": "2022-03-12T16:11:36.906Z"
   },
   {
    "duration": 8,
    "start_time": "2022-03-12T16:11:36.936Z"
   },
   {
    "duration": 13,
    "start_time": "2022-03-12T16:11:36.945Z"
   },
   {
    "duration": 16,
    "start_time": "2022-03-12T16:11:36.959Z"
   },
   {
    "duration": 13,
    "start_time": "2022-03-12T16:11:36.977Z"
   },
   {
    "duration": 257,
    "start_time": "2022-03-12T16:11:36.991Z"
   },
   {
    "duration": 234,
    "start_time": "2022-03-12T16:11:37.249Z"
   },
   {
    "duration": 242,
    "start_time": "2022-03-12T16:11:37.484Z"
   },
   {
    "duration": 275,
    "start_time": "2022-03-12T16:11:37.728Z"
   },
   {
    "duration": 247,
    "start_time": "2022-03-12T16:11:38.004Z"
   },
   {
    "duration": 239,
    "start_time": "2022-03-12T16:11:38.253Z"
   },
   {
    "duration": 390,
    "start_time": "2022-03-12T16:11:38.494Z"
   },
   {
    "duration": 178,
    "start_time": "2022-03-12T16:11:38.885Z"
   },
   {
    "duration": 229,
    "start_time": "2022-03-12T16:11:39.065Z"
   },
   {
    "duration": 222,
    "start_time": "2022-03-12T16:11:39.295Z"
   },
   {
    "duration": 2,
    "start_time": "2022-03-12T16:11:39.519Z"
   },
   {
    "duration": 205,
    "start_time": "2022-03-12T16:11:39.522Z"
   },
   {
    "duration": 303,
    "start_time": "2022-03-12T16:12:04.231Z"
   },
   {
    "duration": 657,
    "start_time": "2022-03-12T16:13:08.813Z"
   },
   {
    "duration": 3947,
    "start_time": "2022-03-12T16:13:30.965Z"
   },
   {
    "duration": 42,
    "start_time": "2022-03-12T16:13:49.607Z"
   },
   {
    "duration": 698,
    "start_time": "2022-03-12T16:13:54.106Z"
   },
   {
    "duration": 144,
    "start_time": "2022-03-12T16:24:32.667Z"
   },
   {
    "duration": 13,
    "start_time": "2022-03-12T16:24:41.646Z"
   },
   {
    "duration": 597,
    "start_time": "2022-03-12T16:24:55.295Z"
   },
   {
    "duration": 3,
    "start_time": "2022-03-12T16:24:55.893Z"
   },
   {
    "duration": 15,
    "start_time": "2022-03-12T16:24:55.898Z"
   },
   {
    "duration": 19,
    "start_time": "2022-03-12T16:24:55.915Z"
   },
   {
    "duration": 5,
    "start_time": "2022-03-12T16:24:55.936Z"
   },
   {
    "duration": 15,
    "start_time": "2022-03-12T16:24:55.943Z"
   },
   {
    "duration": 9,
    "start_time": "2022-03-12T16:24:55.960Z"
   },
   {
    "duration": 33,
    "start_time": "2022-03-12T16:24:55.972Z"
   },
   {
    "duration": 13,
    "start_time": "2022-03-12T16:24:56.034Z"
   },
   {
    "duration": 4,
    "start_time": "2022-03-12T16:24:56.048Z"
   },
   {
    "duration": 12,
    "start_time": "2022-03-12T16:24:56.054Z"
   },
   {
    "duration": 16,
    "start_time": "2022-03-12T16:24:56.068Z"
   },
   {
    "duration": 48,
    "start_time": "2022-03-12T16:24:56.086Z"
   },
   {
    "duration": 245,
    "start_time": "2022-03-12T16:24:56.135Z"
   },
   {
    "duration": 233,
    "start_time": "2022-03-12T16:24:56.382Z"
   },
   {
    "duration": 253,
    "start_time": "2022-03-12T16:24:56.616Z"
   },
   {
    "duration": 289,
    "start_time": "2022-03-12T16:24:56.870Z"
   },
   {
    "duration": 250,
    "start_time": "2022-03-12T16:24:57.161Z"
   },
   {
    "duration": 252,
    "start_time": "2022-03-12T16:24:57.412Z"
   },
   {
    "duration": 416,
    "start_time": "2022-03-12T16:24:57.666Z"
   },
   {
    "duration": 177,
    "start_time": "2022-03-12T16:24:58.084Z"
   },
   {
    "duration": 215,
    "start_time": "2022-03-12T16:24:58.263Z"
   },
   {
    "duration": 229,
    "start_time": "2022-03-12T16:24:58.481Z"
   },
   {
    "duration": 3,
    "start_time": "2022-03-12T16:24:58.711Z"
   },
   {
    "duration": 940,
    "start_time": "2022-03-12T16:24:58.715Z"
   },
   {
    "duration": 1024,
    "start_time": "2022-03-12T16:26:56.065Z"
   },
   {
    "duration": 915,
    "start_time": "2022-03-12T16:27:08.820Z"
   },
   {
    "duration": 644,
    "start_time": "2022-03-12T16:27:27.773Z"
   },
   {
    "duration": 2,
    "start_time": "2022-03-12T16:27:28.419Z"
   },
   {
    "duration": 19,
    "start_time": "2022-03-12T16:27:28.423Z"
   },
   {
    "duration": 11,
    "start_time": "2022-03-12T16:27:28.445Z"
   },
   {
    "duration": 10,
    "start_time": "2022-03-12T16:27:28.458Z"
   },
   {
    "duration": 17,
    "start_time": "2022-03-12T16:27:28.471Z"
   },
   {
    "duration": 9,
    "start_time": "2022-03-12T16:27:28.489Z"
   },
   {
    "duration": 40,
    "start_time": "2022-03-12T16:27:28.534Z"
   },
   {
    "duration": 12,
    "start_time": "2022-03-12T16:27:28.576Z"
   },
   {
    "duration": 5,
    "start_time": "2022-03-12T16:27:28.589Z"
   },
   {
    "duration": 39,
    "start_time": "2022-03-12T16:27:28.595Z"
   },
   {
    "duration": 17,
    "start_time": "2022-03-12T16:27:28.636Z"
   },
   {
    "duration": 22,
    "start_time": "2022-03-12T16:27:28.654Z"
   },
   {
    "duration": 289,
    "start_time": "2022-03-12T16:27:28.678Z"
   },
   {
    "duration": 261,
    "start_time": "2022-03-12T16:27:28.969Z"
   },
   {
    "duration": 266,
    "start_time": "2022-03-12T16:27:29.233Z"
   },
   {
    "duration": 309,
    "start_time": "2022-03-12T16:27:29.501Z"
   },
   {
    "duration": 275,
    "start_time": "2022-03-12T16:27:29.812Z"
   },
   {
    "duration": 284,
    "start_time": "2022-03-12T16:27:30.089Z"
   },
   {
    "duration": 416,
    "start_time": "2022-03-12T16:27:30.374Z"
   },
   {
    "duration": 194,
    "start_time": "2022-03-12T16:27:30.793Z"
   },
   {
    "duration": 239,
    "start_time": "2022-03-12T16:27:30.989Z"
   },
   {
    "duration": 244,
    "start_time": "2022-03-12T16:27:31.235Z"
   },
   {
    "duration": 2,
    "start_time": "2022-03-12T16:27:31.481Z"
   },
   {
    "duration": 940,
    "start_time": "2022-03-12T16:27:31.485Z"
   },
   {
    "duration": 1133,
    "start_time": "2022-03-12T16:28:03.996Z"
   },
   {
    "duration": 1030,
    "start_time": "2022-03-12T16:28:34.607Z"
   },
   {
    "duration": 944,
    "start_time": "2022-03-12T16:29:24.004Z"
   },
   {
    "duration": 14,
    "start_time": "2022-03-12T16:32:28.396Z"
   },
   {
    "duration": 206,
    "start_time": "2022-03-12T16:32:51.369Z"
   },
   {
    "duration": 139,
    "start_time": "2022-03-12T16:34:50.775Z"
   },
   {
    "duration": 13,
    "start_time": "2022-03-12T16:34:58.973Z"
   },
   {
    "duration": 13,
    "start_time": "2022-03-12T16:35:05.917Z"
   },
   {
    "duration": 82,
    "start_time": "2022-03-12T17:15:28.203Z"
   },
   {
    "duration": 667,
    "start_time": "2022-03-12T17:30:51.217Z"
   },
   {
    "duration": 3,
    "start_time": "2022-03-12T17:30:51.886Z"
   },
   {
    "duration": 13,
    "start_time": "2022-03-12T17:30:51.891Z"
   },
   {
    "duration": 11,
    "start_time": "2022-03-12T17:30:51.905Z"
   },
   {
    "duration": 16,
    "start_time": "2022-03-12T17:30:51.917Z"
   },
   {
    "duration": 14,
    "start_time": "2022-03-12T17:30:51.934Z"
   },
   {
    "duration": 9,
    "start_time": "2022-03-12T17:30:51.950Z"
   },
   {
    "duration": 34,
    "start_time": "2022-03-12T17:30:51.962Z"
   },
   {
    "duration": 41,
    "start_time": "2022-03-12T17:30:51.998Z"
   },
   {
    "duration": 4,
    "start_time": "2022-03-12T17:30:52.041Z"
   },
   {
    "duration": 13,
    "start_time": "2022-03-12T17:30:52.047Z"
   },
   {
    "duration": 26,
    "start_time": "2022-03-12T17:30:52.061Z"
   },
   {
    "duration": 14,
    "start_time": "2022-03-12T17:30:52.089Z"
   },
   {
    "duration": 257,
    "start_time": "2022-03-12T17:30:52.105Z"
   },
   {
    "duration": 237,
    "start_time": "2022-03-12T17:30:52.363Z"
   },
   {
    "duration": 249,
    "start_time": "2022-03-12T17:30:52.601Z"
   },
   {
    "duration": 291,
    "start_time": "2022-03-12T17:30:52.852Z"
   },
   {
    "duration": 244,
    "start_time": "2022-03-12T17:30:53.144Z"
   },
   {
    "duration": 247,
    "start_time": "2022-03-12T17:30:53.390Z"
   },
   {
    "duration": 396,
    "start_time": "2022-03-12T17:30:53.639Z"
   },
   {
    "duration": 39,
    "start_time": "2022-03-12T17:30:54.037Z"
   },
   {
    "duration": -350,
    "start_time": "2022-03-12T17:30:54.428Z"
   },
   {
    "duration": -352,
    "start_time": "2022-03-12T17:30:54.430Z"
   },
   {
    "duration": -353,
    "start_time": "2022-03-12T17:30:54.432Z"
   },
   {
    "duration": -354,
    "start_time": "2022-03-12T17:30:54.434Z"
   },
   {
    "duration": -356,
    "start_time": "2022-03-12T17:30:54.437Z"
   },
   {
    "duration": -369,
    "start_time": "2022-03-12T17:30:54.450Z"
   },
   {
    "duration": -371,
    "start_time": "2022-03-12T17:30:54.453Z"
   },
   {
    "duration": -373,
    "start_time": "2022-03-12T17:30:54.456Z"
   },
   {
    "duration": 306,
    "start_time": "2022-03-12T17:31:21.027Z"
   },
   {
    "duration": 663,
    "start_time": "2022-03-12T17:31:37.409Z"
   },
   {
    "duration": 3,
    "start_time": "2022-03-12T17:31:38.074Z"
   },
   {
    "duration": 15,
    "start_time": "2022-03-12T17:31:38.080Z"
   },
   {
    "duration": 9,
    "start_time": "2022-03-12T17:31:38.098Z"
   },
   {
    "duration": 5,
    "start_time": "2022-03-12T17:31:38.109Z"
   },
   {
    "duration": 15,
    "start_time": "2022-03-12T17:31:38.133Z"
   },
   {
    "duration": 9,
    "start_time": "2022-03-12T17:31:38.149Z"
   },
   {
    "duration": 36,
    "start_time": "2022-03-12T17:31:38.159Z"
   },
   {
    "duration": 42,
    "start_time": "2022-03-12T17:31:38.198Z"
   },
   {
    "duration": 5,
    "start_time": "2022-03-12T17:31:38.241Z"
   },
   {
    "duration": 14,
    "start_time": "2022-03-12T17:31:38.247Z"
   },
   {
    "duration": 18,
    "start_time": "2022-03-12T17:31:38.263Z"
   },
   {
    "duration": 13,
    "start_time": "2022-03-12T17:31:38.282Z"
   },
   {
    "duration": 256,
    "start_time": "2022-03-12T17:31:38.297Z"
   },
   {
    "duration": 241,
    "start_time": "2022-03-12T17:31:38.554Z"
   },
   {
    "duration": 242,
    "start_time": "2022-03-12T17:31:38.796Z"
   },
   {
    "duration": 290,
    "start_time": "2022-03-12T17:31:39.039Z"
   },
   {
    "duration": 246,
    "start_time": "2022-03-12T17:31:39.332Z"
   },
   {
    "duration": 245,
    "start_time": "2022-03-12T17:31:39.580Z"
   },
   {
    "duration": 406,
    "start_time": "2022-03-12T17:31:39.828Z"
   },
   {
    "duration": 310,
    "start_time": "2022-03-12T17:31:40.236Z"
   },
   {
    "duration": 224,
    "start_time": "2022-03-12T17:31:40.548Z"
   },
   {
    "duration": 226,
    "start_time": "2022-03-12T17:31:40.773Z"
   },
   {
    "duration": 2,
    "start_time": "2022-03-12T17:31:41.001Z"
   },
   {
    "duration": 918,
    "start_time": "2022-03-12T17:31:41.005Z"
   },
   {
    "duration": 1028,
    "start_time": "2022-03-12T17:31:41.932Z"
   },
   {
    "duration": 968,
    "start_time": "2022-03-12T17:31:42.964Z"
   },
   {
    "duration": 14,
    "start_time": "2022-03-12T17:31:43.934Z"
   },
   {
    "duration": 91,
    "start_time": "2022-03-12T17:31:43.950Z"
   },
   {
    "duration": 84,
    "start_time": "2022-03-12T17:31:52.043Z"
   },
   {
    "duration": 79,
    "start_time": "2022-03-12T17:32:34.602Z"
   },
   {
    "duration": 81,
    "start_time": "2022-03-12T17:32:56.764Z"
   },
   {
    "duration": 212,
    "start_time": "2022-03-12T18:39:25.978Z"
   },
   {
    "duration": 16,
    "start_time": "2022-03-12T18:39:34.821Z"
   },
   {
    "duration": 13,
    "start_time": "2022-03-12T18:40:07.558Z"
   },
   {
    "duration": 15,
    "start_time": "2022-03-12T18:40:40.087Z"
   },
   {
    "duration": 16,
    "start_time": "2022-03-12T18:40:50.142Z"
   },
   {
    "duration": 14,
    "start_time": "2022-03-12T18:41:37.259Z"
   },
   {
    "duration": 13,
    "start_time": "2022-03-12T18:41:51.218Z"
   },
   {
    "duration": 13,
    "start_time": "2022-03-12T18:42:22.212Z"
   },
   {
    "duration": 15,
    "start_time": "2022-03-12T18:49:53.317Z"
   },
   {
    "duration": 134,
    "start_time": "2022-03-12T18:50:11.134Z"
   },
   {
    "duration": 141,
    "start_time": "2022-03-12T18:50:32.241Z"
   },
   {
    "duration": 15,
    "start_time": "2022-03-12T18:50:37.385Z"
   },
   {
    "duration": 16,
    "start_time": "2022-03-12T18:51:31.221Z"
   },
   {
    "duration": 17,
    "start_time": "2022-03-12T18:52:16.723Z"
   },
   {
    "duration": 139,
    "start_time": "2022-03-12T18:52:43.333Z"
   },
   {
    "duration": 15,
    "start_time": "2022-03-12T18:52:48.096Z"
   },
   {
    "duration": 39,
    "start_time": "2022-03-12T18:53:51.839Z"
   },
   {
    "duration": 18,
    "start_time": "2022-03-12T18:53:59.806Z"
   },
   {
    "duration": 16,
    "start_time": "2022-03-12T18:54:04.101Z"
   },
   {
    "duration": 15,
    "start_time": "2022-03-12T18:54:07.195Z"
   },
   {
    "duration": 15,
    "start_time": "2022-03-12T19:00:32.596Z"
   },
   {
    "duration": 17,
    "start_time": "2022-03-12T19:00:42.078Z"
   },
   {
    "duration": 131,
    "start_time": "2022-03-12T19:03:55.586Z"
   },
   {
    "duration": 61,
    "start_time": "2022-03-12T19:04:06.686Z"
   },
   {
    "duration": 3055,
    "start_time": "2022-03-12T19:19:53.750Z"
   },
   {
    "duration": 16,
    "start_time": "2022-03-12T19:20:13.921Z"
   },
   {
    "duration": 3029,
    "start_time": "2022-03-12T19:20:34.254Z"
   },
   {
    "duration": 21,
    "start_time": "2022-03-12T19:20:51.700Z"
   },
   {
    "duration": 16,
    "start_time": "2022-03-12T19:21:52.759Z"
   },
   {
    "duration": 23,
    "start_time": "2022-03-12T19:31:32.650Z"
   },
   {
    "duration": 24,
    "start_time": "2022-03-12T19:32:51.766Z"
   },
   {
    "duration": 3374,
    "start_time": "2022-03-12T19:37:43.725Z"
   },
   {
    "duration": 699,
    "start_time": "2022-03-12T19:38:42.146Z"
   },
   {
    "duration": 3,
    "start_time": "2022-03-12T19:38:42.848Z"
   },
   {
    "duration": 32,
    "start_time": "2022-03-12T19:38:42.853Z"
   },
   {
    "duration": 26,
    "start_time": "2022-03-12T19:38:42.887Z"
   },
   {
    "duration": 5,
    "start_time": "2022-03-12T19:38:42.915Z"
   },
   {
    "duration": 18,
    "start_time": "2022-03-12T19:38:42.934Z"
   },
   {
    "duration": 11,
    "start_time": "2022-03-12T19:38:42.954Z"
   },
   {
    "duration": 76,
    "start_time": "2022-03-12T19:38:42.968Z"
   },
   {
    "duration": 16,
    "start_time": "2022-03-12T19:38:43.047Z"
   },
   {
    "duration": 6,
    "start_time": "2022-03-12T19:38:43.065Z"
   },
   {
    "duration": 17,
    "start_time": "2022-03-12T19:38:43.072Z"
   },
   {
    "duration": 49,
    "start_time": "2022-03-12T19:38:43.091Z"
   },
   {
    "duration": 23,
    "start_time": "2022-03-12T19:38:43.143Z"
   },
   {
    "duration": 252,
    "start_time": "2022-03-12T19:38:43.168Z"
   },
   {
    "duration": 243,
    "start_time": "2022-03-12T19:38:43.422Z"
   },
   {
    "duration": 266,
    "start_time": "2022-03-12T19:38:43.667Z"
   },
   {
    "duration": 306,
    "start_time": "2022-03-12T19:38:43.935Z"
   },
   {
    "duration": 271,
    "start_time": "2022-03-12T19:38:44.244Z"
   },
   {
    "duration": 256,
    "start_time": "2022-03-12T19:38:44.517Z"
   },
   {
    "duration": 701,
    "start_time": "2022-03-12T19:38:44.775Z"
   },
   {
    "duration": 380,
    "start_time": "2022-03-12T19:38:45.479Z"
   },
   {
    "duration": 251,
    "start_time": "2022-03-12T19:38:45.861Z"
   },
   {
    "duration": 238,
    "start_time": "2022-03-12T19:38:46.115Z"
   },
   {
    "duration": 3,
    "start_time": "2022-03-12T19:38:46.355Z"
   },
   {
    "duration": 1030,
    "start_time": "2022-03-12T19:38:46.359Z"
   },
   {
    "duration": 1037,
    "start_time": "2022-03-12T19:38:47.391Z"
   },
   {
    "duration": 1130,
    "start_time": "2022-03-12T19:38:48.431Z"
   },
   {
    "duration": 14,
    "start_time": "2022-03-12T19:38:49.562Z"
   },
   {
    "duration": 17,
    "start_time": "2022-03-12T19:38:49.578Z"
   },
   {
    "duration": 3230,
    "start_time": "2022-03-12T19:38:49.597Z"
   },
   {
    "duration": -523,
    "start_time": "2022-03-12T19:38:53.352Z"
   },
   {
    "duration": 16,
    "start_time": "2022-03-12T19:39:48.561Z"
   },
   {
    "duration": 17,
    "start_time": "2022-03-12T19:40:15.608Z"
   },
   {
    "duration": 19,
    "start_time": "2022-03-12T19:45:01.103Z"
   },
   {
    "duration": 21,
    "start_time": "2022-03-12T19:45:57.477Z"
   },
   {
    "duration": 17,
    "start_time": "2022-03-12T19:47:00.525Z"
   },
   {
    "duration": 6,
    "start_time": "2022-03-12T21:03:37.887Z"
   },
   {
    "duration": 6,
    "start_time": "2022-03-12T21:04:22.087Z"
   },
   {
    "duration": 55,
    "start_time": "2022-03-12T21:10:58.918Z"
   },
   {
    "duration": 78,
    "start_time": "2022-03-12T21:11:06.608Z"
   },
   {
    "duration": 15,
    "start_time": "2022-03-12T21:11:16.671Z"
   },
   {
    "duration": 6,
    "start_time": "2022-03-12T21:12:01.854Z"
   },
   {
    "duration": 15,
    "start_time": "2022-03-12T21:12:03.664Z"
   },
   {
    "duration": 645,
    "start_time": "2022-03-12T21:12:23.313Z"
   },
   {
    "duration": 3,
    "start_time": "2022-03-12T21:12:23.961Z"
   },
   {
    "duration": 16,
    "start_time": "2022-03-12T21:12:23.966Z"
   },
   {
    "duration": 26,
    "start_time": "2022-03-12T21:12:23.983Z"
   },
   {
    "duration": 5,
    "start_time": "2022-03-12T21:12:24.011Z"
   },
   {
    "duration": 15,
    "start_time": "2022-03-12T21:12:24.045Z"
   },
   {
    "duration": 9,
    "start_time": "2022-03-12T21:12:24.061Z"
   },
   {
    "duration": 34,
    "start_time": "2022-03-12T21:12:24.072Z"
   },
   {
    "duration": 28,
    "start_time": "2022-03-12T21:12:24.109Z"
   },
   {
    "duration": 6,
    "start_time": "2022-03-12T21:12:24.139Z"
   },
   {
    "duration": 19,
    "start_time": "2022-03-12T21:12:24.146Z"
   },
   {
    "duration": 16,
    "start_time": "2022-03-12T21:12:24.166Z"
   },
   {
    "duration": 13,
    "start_time": "2022-03-12T21:12:24.183Z"
   },
   {
    "duration": 260,
    "start_time": "2022-03-12T21:12:24.197Z"
   },
   {
    "duration": 243,
    "start_time": "2022-03-12T21:12:24.459Z"
   },
   {
    "duration": 248,
    "start_time": "2022-03-12T21:12:24.703Z"
   },
   {
    "duration": 295,
    "start_time": "2022-03-12T21:12:24.953Z"
   },
   {
    "duration": 252,
    "start_time": "2022-03-12T21:12:25.250Z"
   },
   {
    "duration": 256,
    "start_time": "2022-03-12T21:12:25.504Z"
   },
   {
    "duration": 424,
    "start_time": "2022-03-12T21:12:25.762Z"
   },
   {
    "duration": 328,
    "start_time": "2022-03-12T21:12:26.188Z"
   },
   {
    "duration": 228,
    "start_time": "2022-03-12T21:12:26.518Z"
   },
   {
    "duration": 238,
    "start_time": "2022-03-12T21:12:26.747Z"
   },
   {
    "duration": 8,
    "start_time": "2022-03-12T21:12:26.987Z"
   },
   {
    "duration": 965,
    "start_time": "2022-03-12T21:12:26.997Z"
   },
   {
    "duration": 1020,
    "start_time": "2022-03-12T21:12:27.964Z"
   },
   {
    "duration": 1092,
    "start_time": "2022-03-12T21:12:28.987Z"
   },
   {
    "duration": 14,
    "start_time": "2022-03-12T21:12:30.080Z"
   },
   {
    "duration": 20,
    "start_time": "2022-03-12T21:12:30.096Z"
   },
   {
    "duration": 29,
    "start_time": "2022-03-12T21:12:30.118Z"
   },
   {
    "duration": 18,
    "start_time": "2022-03-12T21:12:30.148Z"
   },
   {
    "duration": 15,
    "start_time": "2022-03-12T21:12:30.168Z"
   },
   {
    "duration": 28,
    "start_time": "2022-03-12T21:12:30.185Z"
   },
   {
    "duration": 41,
    "start_time": "2022-03-12T21:12:30.215Z"
   },
   {
    "duration": 7,
    "start_time": "2022-03-12T21:12:30.258Z"
   },
   {
    "duration": 14,
    "start_time": "2022-03-12T21:12:30.266Z"
   },
   {
    "duration": 205,
    "start_time": "2022-03-12T21:13:59.555Z"
   },
   {
    "duration": 174,
    "start_time": "2022-03-12T21:14:07.745Z"
   },
   {
    "duration": 6,
    "start_time": "2022-03-12T21:14:18.688Z"
   },
   {
    "duration": 7,
    "start_time": "2022-03-12T21:14:36.446Z"
   },
   {
    "duration": 16,
    "start_time": "2022-03-12T21:14:44.645Z"
   },
   {
    "duration": 12,
    "start_time": "2022-03-12T21:24:16.000Z"
   },
   {
    "duration": 141,
    "start_time": "2022-03-12T21:25:16.093Z"
   },
   {
    "duration": 13,
    "start_time": "2022-03-12T21:36:24.464Z"
   },
   {
    "duration": 14,
    "start_time": "2022-03-12T21:36:41.527Z"
   },
   {
    "duration": 12,
    "start_time": "2022-03-12T21:36:57.467Z"
   },
   {
    "duration": 14,
    "start_time": "2022-03-12T21:37:00.551Z"
   },
   {
    "duration": 14,
    "start_time": "2022-03-12T21:37:39.199Z"
   },
   {
    "duration": 14,
    "start_time": "2022-03-12T21:37:57.682Z"
   },
   {
    "duration": 16,
    "start_time": "2022-03-12T21:42:06.186Z"
   },
   {
    "duration": 18,
    "start_time": "2022-03-12T21:42:15.066Z"
   },
   {
    "duration": 17,
    "start_time": "2022-03-12T21:42:20.652Z"
   },
   {
    "duration": 3035,
    "start_time": "2022-03-12T21:42:41.816Z"
   },
   {
    "duration": 13,
    "start_time": "2022-03-12T21:43:02.446Z"
   },
   {
    "duration": 15,
    "start_time": "2022-03-12T21:55:16.057Z"
   },
   {
    "duration": 14,
    "start_time": "2022-03-12T21:55:59.231Z"
   },
   {
    "duration": 143,
    "start_time": "2022-03-12T21:57:26.655Z"
   },
   {
    "duration": 148,
    "start_time": "2022-03-12T21:57:37.942Z"
   },
   {
    "duration": 13,
    "start_time": "2022-03-12T21:57:55.269Z"
   },
   {
    "duration": 13,
    "start_time": "2022-03-12T21:58:51.023Z"
   },
   {
    "duration": 598,
    "start_time": "2022-03-12T21:59:42.090Z"
   },
   {
    "duration": 3,
    "start_time": "2022-03-12T21:59:42.690Z"
   },
   {
    "duration": 11,
    "start_time": "2022-03-12T21:59:42.697Z"
   },
   {
    "duration": 32,
    "start_time": "2022-03-12T21:59:42.709Z"
   },
   {
    "duration": 5,
    "start_time": "2022-03-12T21:59:42.743Z"
   },
   {
    "duration": 15,
    "start_time": "2022-03-12T21:59:42.749Z"
   },
   {
    "duration": 10,
    "start_time": "2022-03-12T21:59:42.766Z"
   },
   {
    "duration": 64,
    "start_time": "2022-03-12T21:59:42.778Z"
   },
   {
    "duration": 14,
    "start_time": "2022-03-12T21:59:42.844Z"
   },
   {
    "duration": 5,
    "start_time": "2022-03-12T21:59:42.860Z"
   },
   {
    "duration": 14,
    "start_time": "2022-03-12T21:59:42.866Z"
   },
   {
    "duration": 18,
    "start_time": "2022-03-12T21:59:42.882Z"
   },
   {
    "duration": 40,
    "start_time": "2022-03-12T21:59:42.902Z"
   },
   {
    "duration": 237,
    "start_time": "2022-03-12T21:59:42.944Z"
   },
   {
    "duration": 238,
    "start_time": "2022-03-12T21:59:43.183Z"
   },
   {
    "duration": 244,
    "start_time": "2022-03-12T21:59:43.422Z"
   },
   {
    "duration": 280,
    "start_time": "2022-03-12T21:59:43.668Z"
   },
   {
    "duration": 241,
    "start_time": "2022-03-12T21:59:43.949Z"
   },
   {
    "duration": 245,
    "start_time": "2022-03-12T21:59:44.191Z"
   },
   {
    "duration": 416,
    "start_time": "2022-03-12T21:59:44.437Z"
   },
   {
    "duration": 380,
    "start_time": "2022-03-12T21:59:44.854Z"
   },
   {
    "duration": 277,
    "start_time": "2022-03-12T21:59:45.237Z"
   },
   {
    "duration": 306,
    "start_time": "2022-03-12T21:59:45.516Z"
   },
   {
    "duration": 11,
    "start_time": "2022-03-12T21:59:45.823Z"
   },
   {
    "duration": 1027,
    "start_time": "2022-03-12T21:59:45.836Z"
   },
   {
    "duration": 1268,
    "start_time": "2022-03-12T21:59:46.864Z"
   },
   {
    "duration": 1072,
    "start_time": "2022-03-12T21:59:48.134Z"
   },
   {
    "duration": 14,
    "start_time": "2022-03-12T21:59:49.207Z"
   },
   {
    "duration": 16,
    "start_time": "2022-03-12T21:59:49.233Z"
   },
   {
    "duration": 18,
    "start_time": "2022-03-12T21:59:49.251Z"
   },
   {
    "duration": 27,
    "start_time": "2022-03-12T21:59:49.271Z"
   },
   {
    "duration": 42,
    "start_time": "2022-03-12T21:59:49.300Z"
   },
   {
    "duration": 17,
    "start_time": "2022-03-12T21:59:49.344Z"
   },
   {
    "duration": 33,
    "start_time": "2022-03-12T21:59:49.363Z"
   },
   {
    "duration": 12,
    "start_time": "2022-03-12T21:59:49.398Z"
   },
   {
    "duration": 27,
    "start_time": "2022-03-12T21:59:49.412Z"
   },
   {
    "duration": 11,
    "start_time": "2022-03-12T21:59:49.441Z"
   },
   {
    "duration": 276,
    "start_time": "2022-03-12T22:07:22.351Z"
   },
   {
    "duration": 635,
    "start_time": "2022-03-12T22:08:30.042Z"
   },
   {
    "duration": 5,
    "start_time": "2022-03-12T22:08:30.679Z"
   },
   {
    "duration": 19,
    "start_time": "2022-03-12T22:08:30.686Z"
   },
   {
    "duration": 33,
    "start_time": "2022-03-12T22:08:30.707Z"
   },
   {
    "duration": 5,
    "start_time": "2022-03-12T22:08:30.742Z"
   },
   {
    "duration": 227,
    "start_time": "2022-03-12T22:08:30.748Z"
   },
   {
    "duration": -489,
    "start_time": "2022-03-12T22:08:31.467Z"
   },
   {
    "duration": -489,
    "start_time": "2022-03-12T22:08:31.468Z"
   },
   {
    "duration": -490,
    "start_time": "2022-03-12T22:08:31.470Z"
   },
   {
    "duration": -490,
    "start_time": "2022-03-12T22:08:31.471Z"
   },
   {
    "duration": -490,
    "start_time": "2022-03-12T22:08:31.472Z"
   },
   {
    "duration": -491,
    "start_time": "2022-03-12T22:08:31.474Z"
   },
   {
    "duration": -491,
    "start_time": "2022-03-12T22:08:31.475Z"
   },
   {
    "duration": -490,
    "start_time": "2022-03-12T22:08:31.476Z"
   },
   {
    "duration": -491,
    "start_time": "2022-03-12T22:08:31.478Z"
   },
   {
    "duration": -491,
    "start_time": "2022-03-12T22:08:31.479Z"
   },
   {
    "duration": -491,
    "start_time": "2022-03-12T22:08:31.480Z"
   },
   {
    "duration": -492,
    "start_time": "2022-03-12T22:08:31.482Z"
   },
   {
    "duration": -492,
    "start_time": "2022-03-12T22:08:31.483Z"
   },
   {
    "duration": -496,
    "start_time": "2022-03-12T22:08:31.488Z"
   },
   {
    "duration": -497,
    "start_time": "2022-03-12T22:08:31.490Z"
   },
   {
    "duration": -497,
    "start_time": "2022-03-12T22:08:31.491Z"
   },
   {
    "duration": -498,
    "start_time": "2022-03-12T22:08:31.493Z"
   },
   {
    "duration": -498,
    "start_time": "2022-03-12T22:08:31.494Z"
   },
   {
    "duration": -498,
    "start_time": "2022-03-12T22:08:31.495Z"
   },
   {
    "duration": -499,
    "start_time": "2022-03-12T22:08:31.497Z"
   },
   {
    "duration": -499,
    "start_time": "2022-03-12T22:08:31.498Z"
   },
   {
    "duration": -499,
    "start_time": "2022-03-12T22:08:31.499Z"
   },
   {
    "duration": -500,
    "start_time": "2022-03-12T22:08:31.501Z"
   },
   {
    "duration": -503,
    "start_time": "2022-03-12T22:08:31.505Z"
   },
   {
    "duration": -504,
    "start_time": "2022-03-12T22:08:31.507Z"
   },
   {
    "duration": -505,
    "start_time": "2022-03-12T22:08:31.509Z"
   },
   {
    "duration": -505,
    "start_time": "2022-03-12T22:08:31.510Z"
   },
   {
    "duration": -506,
    "start_time": "2022-03-12T22:08:31.512Z"
   },
   {
    "duration": -506,
    "start_time": "2022-03-12T22:08:31.513Z"
   },
   {
    "duration": -507,
    "start_time": "2022-03-12T22:08:31.515Z"
   },
   {
    "duration": -507,
    "start_time": "2022-03-12T22:08:31.516Z"
   },
   {
    "duration": 11,
    "start_time": "2022-03-12T22:09:21.701Z"
   },
   {
    "duration": 9,
    "start_time": "2022-03-12T22:09:22.844Z"
   },
   {
    "duration": 33,
    "start_time": "2022-03-12T22:09:25.178Z"
   },
   {
    "duration": 14,
    "start_time": "2022-03-12T22:09:26.524Z"
   },
   {
    "duration": 663,
    "start_time": "2022-03-12T22:09:53.108Z"
   },
   {
    "duration": 2,
    "start_time": "2022-03-12T22:09:53.773Z"
   },
   {
    "duration": 13,
    "start_time": "2022-03-12T22:09:53.777Z"
   },
   {
    "duration": 23,
    "start_time": "2022-03-12T22:09:53.791Z"
   },
   {
    "duration": 20,
    "start_time": "2022-03-12T22:09:53.815Z"
   },
   {
    "duration": 23,
    "start_time": "2022-03-12T22:09:53.836Z"
   },
   {
    "duration": 8,
    "start_time": "2022-03-12T22:09:53.861Z"
   },
   {
    "duration": 33,
    "start_time": "2022-03-12T22:09:53.871Z"
   },
   {
    "duration": 27,
    "start_time": "2022-03-12T22:09:53.906Z"
   },
   {
    "duration": 13,
    "start_time": "2022-03-12T22:09:53.935Z"
   },
   {
    "duration": 21,
    "start_time": "2022-03-12T22:09:53.949Z"
   },
   {
    "duration": 13,
    "start_time": "2022-03-12T22:09:53.972Z"
   },
   {
    "duration": 252,
    "start_time": "2022-03-12T22:09:53.987Z"
   },
   {
    "duration": 237,
    "start_time": "2022-03-12T22:09:54.241Z"
   },
   {
    "duration": 232,
    "start_time": "2022-03-12T22:09:54.480Z"
   },
   {
    "duration": 281,
    "start_time": "2022-03-12T22:09:54.714Z"
   },
   {
    "duration": 251,
    "start_time": "2022-03-12T22:09:54.996Z"
   },
   {
    "duration": 240,
    "start_time": "2022-03-12T22:09:55.249Z"
   },
   {
    "duration": 390,
    "start_time": "2022-03-12T22:09:55.491Z"
   },
   {
    "duration": 320,
    "start_time": "2022-03-12T22:09:55.883Z"
   },
   {
    "duration": 217,
    "start_time": "2022-03-12T22:09:56.205Z"
   },
   {
    "duration": 217,
    "start_time": "2022-03-12T22:09:56.432Z"
   },
   {
    "duration": 2,
    "start_time": "2022-03-12T22:09:56.652Z"
   },
   {
    "duration": 934,
    "start_time": "2022-03-12T22:09:56.657Z"
   },
   {
    "duration": 933,
    "start_time": "2022-03-12T22:09:57.593Z"
   },
   {
    "duration": 977,
    "start_time": "2022-03-12T22:09:58.528Z"
   },
   {
    "duration": 28,
    "start_time": "2022-03-12T22:09:59.507Z"
   },
   {
    "duration": 15,
    "start_time": "2022-03-12T22:09:59.537Z"
   },
   {
    "duration": 15,
    "start_time": "2022-03-12T22:09:59.554Z"
   },
   {
    "duration": 15,
    "start_time": "2022-03-12T22:09:59.571Z"
   },
   {
    "duration": 13,
    "start_time": "2022-03-12T22:09:59.588Z"
   },
   {
    "duration": 15,
    "start_time": "2022-03-12T22:09:59.633Z"
   },
   {
    "duration": 14,
    "start_time": "2022-03-12T22:09:59.649Z"
   },
   {
    "duration": 7,
    "start_time": "2022-03-12T22:09:59.665Z"
   },
   {
    "duration": 13,
    "start_time": "2022-03-12T22:09:59.673Z"
   },
   {
    "duration": 46,
    "start_time": "2022-03-12T22:09:59.687Z"
   },
   {
    "duration": 218,
    "start_time": "2022-03-12T22:11:22.343Z"
   },
   {
    "duration": 4,
    "start_time": "2022-03-12T22:11:37.248Z"
   },
   {
    "duration": 4,
    "start_time": "2022-03-12T22:11:46.780Z"
   },
   {
    "duration": 11,
    "start_time": "2022-03-12T22:11:48.194Z"
   },
   {
    "duration": 6,
    "start_time": "2022-03-12T22:12:13.321Z"
   },
   {
    "duration": 629,
    "start_time": "2022-03-12T22:12:29.470Z"
   },
   {
    "duration": 3,
    "start_time": "2022-03-12T22:12:30.101Z"
   },
   {
    "duration": 15,
    "start_time": "2022-03-12T22:12:30.107Z"
   },
   {
    "duration": 30,
    "start_time": "2022-03-12T22:12:30.124Z"
   },
   {
    "duration": 5,
    "start_time": "2022-03-12T22:12:30.155Z"
   },
   {
    "duration": 22,
    "start_time": "2022-03-12T22:12:30.161Z"
   },
   {
    "duration": 8,
    "start_time": "2022-03-12T22:12:30.185Z"
   },
   {
    "duration": 59,
    "start_time": "2022-03-12T22:12:30.195Z"
   },
   {
    "duration": 4,
    "start_time": "2022-03-12T22:12:30.256Z"
   },
   {
    "duration": 20,
    "start_time": "2022-03-12T22:12:30.262Z"
   },
   {
    "duration": 25,
    "start_time": "2022-03-12T22:12:30.283Z"
   },
   {
    "duration": 27,
    "start_time": "2022-03-12T22:12:30.309Z"
   },
   {
    "duration": 241,
    "start_time": "2022-03-12T22:12:30.337Z"
   },
   {
    "duration": 238,
    "start_time": "2022-03-12T22:12:30.580Z"
   },
   {
    "duration": 251,
    "start_time": "2022-03-12T22:12:30.820Z"
   },
   {
    "duration": 283,
    "start_time": "2022-03-12T22:12:31.073Z"
   },
   {
    "duration": 249,
    "start_time": "2022-03-12T22:12:31.358Z"
   },
   {
    "duration": 241,
    "start_time": "2022-03-12T22:12:31.608Z"
   },
   {
    "duration": 392,
    "start_time": "2022-03-12T22:12:31.850Z"
   },
   {
    "duration": 313,
    "start_time": "2022-03-12T22:12:32.244Z"
   },
   {
    "duration": 233,
    "start_time": "2022-03-12T22:12:32.559Z"
   },
   {
    "duration": 224,
    "start_time": "2022-03-12T22:12:32.794Z"
   },
   {
    "duration": 12,
    "start_time": "2022-03-12T22:12:33.021Z"
   },
   {
    "duration": 889,
    "start_time": "2022-03-12T22:12:33.035Z"
   },
   {
    "duration": 910,
    "start_time": "2022-03-12T22:12:33.926Z"
   },
   {
    "duration": 964,
    "start_time": "2022-03-12T22:12:34.838Z"
   },
   {
    "duration": 14,
    "start_time": "2022-03-12T22:12:35.803Z"
   },
   {
    "duration": 27,
    "start_time": "2022-03-12T22:12:35.818Z"
   },
   {
    "duration": 13,
    "start_time": "2022-03-12T22:12:35.847Z"
   },
   {
    "duration": 14,
    "start_time": "2022-03-12T22:12:35.861Z"
   },
   {
    "duration": 12,
    "start_time": "2022-03-12T22:12:35.876Z"
   },
   {
    "duration": 44,
    "start_time": "2022-03-12T22:12:35.890Z"
   },
   {
    "duration": 14,
    "start_time": "2022-03-12T22:12:35.936Z"
   },
   {
    "duration": 10,
    "start_time": "2022-03-12T22:12:35.952Z"
   },
   {
    "duration": 14,
    "start_time": "2022-03-12T22:12:35.964Z"
   },
   {
    "duration": 5,
    "start_time": "2022-03-12T22:12:35.980Z"
   },
   {
    "duration": 10,
    "start_time": "2022-03-12T22:12:35.986Z"
   },
   {
    "duration": 42,
    "start_time": "2022-03-12T22:12:35.998Z"
   },
   {
    "duration": 11,
    "start_time": "2022-03-12T22:12:55.832Z"
   },
   {
    "duration": 401,
    "start_time": "2022-03-12T22:14:38.452Z"
   },
   {
    "duration": 982,
    "start_time": "2022-03-12T22:14:44.572Z"
   },
   {
    "duration": 3,
    "start_time": "2022-03-12T22:14:45.557Z"
   },
   {
    "duration": 14,
    "start_time": "2022-03-12T22:14:45.562Z"
   },
   {
    "duration": 25,
    "start_time": "2022-03-12T22:14:45.578Z"
   },
   {
    "duration": 5,
    "start_time": "2022-03-12T22:14:45.605Z"
   },
   {
    "duration": 38,
    "start_time": "2022-03-12T22:14:45.611Z"
   },
   {
    "duration": 8,
    "start_time": "2022-03-12T22:14:45.651Z"
   },
   {
    "duration": 32,
    "start_time": "2022-03-12T22:14:45.660Z"
   },
   {
    "duration": 5,
    "start_time": "2022-03-12T22:14:45.694Z"
   },
   {
    "duration": 44,
    "start_time": "2022-03-12T22:14:45.701Z"
   },
   {
    "duration": 19,
    "start_time": "2022-03-12T22:14:45.746Z"
   },
   {
    "duration": 13,
    "start_time": "2022-03-12T22:14:45.767Z"
   },
   {
    "duration": 253,
    "start_time": "2022-03-12T22:14:45.782Z"
   },
   {
    "duration": 242,
    "start_time": "2022-03-12T22:14:46.036Z"
   },
   {
    "duration": 237,
    "start_time": "2022-03-12T22:14:46.279Z"
   },
   {
    "duration": 229,
    "start_time": "2022-03-12T22:14:46.517Z"
   },
   {
    "duration": 239,
    "start_time": "2022-03-12T22:14:46.748Z"
   },
   {
    "duration": 244,
    "start_time": "2022-03-12T22:14:46.988Z"
   },
   {
    "duration": 405,
    "start_time": "2022-03-12T22:14:47.234Z"
   },
   {
    "duration": 336,
    "start_time": "2022-03-12T22:14:47.641Z"
   },
   {
    "duration": 220,
    "start_time": "2022-03-12T22:14:47.978Z"
   },
   {
    "duration": 220,
    "start_time": "2022-03-12T22:14:48.200Z"
   },
   {
    "duration": 2,
    "start_time": "2022-03-12T22:14:48.422Z"
   },
   {
    "duration": 903,
    "start_time": "2022-03-12T22:14:48.433Z"
   },
   {
    "duration": 988,
    "start_time": "2022-03-12T22:14:49.338Z"
   },
   {
    "duration": 988,
    "start_time": "2022-03-12T22:14:50.332Z"
   },
   {
    "duration": 20,
    "start_time": "2022-03-12T22:14:51.323Z"
   },
   {
    "duration": 18,
    "start_time": "2022-03-12T22:14:51.345Z"
   },
   {
    "duration": 19,
    "start_time": "2022-03-12T22:14:51.365Z"
   },
   {
    "duration": 14,
    "start_time": "2022-03-12T22:14:51.386Z"
   },
   {
    "duration": 33,
    "start_time": "2022-03-12T22:14:51.401Z"
   },
   {
    "duration": 14,
    "start_time": "2022-03-12T22:14:51.435Z"
   },
   {
    "duration": 21,
    "start_time": "2022-03-12T22:14:51.450Z"
   },
   {
    "duration": 7,
    "start_time": "2022-03-12T22:14:51.472Z"
   },
   {
    "duration": 14,
    "start_time": "2022-03-12T22:14:51.481Z"
   },
   {
    "duration": 3,
    "start_time": "2022-03-12T22:14:51.496Z"
   },
   {
    "duration": 35,
    "start_time": "2022-03-12T22:14:51.501Z"
   },
   {
    "duration": 18,
    "start_time": "2022-03-12T22:14:51.537Z"
   },
   {
    "duration": 12,
    "start_time": "2022-03-12T22:18:11.584Z"
   },
   {
    "duration": 11,
    "start_time": "2022-03-12T22:18:55.613Z"
   },
   {
    "duration": 995,
    "start_time": "2022-03-12T22:20:00.768Z"
   },
   {
    "duration": 4,
    "start_time": "2022-03-12T22:20:01.765Z"
   },
   {
    "duration": 34,
    "start_time": "2022-03-12T22:20:01.770Z"
   },
   {
    "duration": 28,
    "start_time": "2022-03-12T22:20:01.806Z"
   },
   {
    "duration": 7,
    "start_time": "2022-03-12T22:20:01.835Z"
   },
   {
    "duration": 38,
    "start_time": "2022-03-12T22:20:01.843Z"
   },
   {
    "duration": 8,
    "start_time": "2022-03-12T22:20:01.882Z"
   },
   {
    "duration": 32,
    "start_time": "2022-03-12T22:20:01.892Z"
   },
   {
    "duration": 8,
    "start_time": "2022-03-12T22:20:01.927Z"
   },
   {
    "duration": 19,
    "start_time": "2022-03-12T22:20:01.937Z"
   },
   {
    "duration": 18,
    "start_time": "2022-03-12T22:20:01.957Z"
   },
   {
    "duration": 14,
    "start_time": "2022-03-12T22:20:01.976Z"
   },
   {
    "duration": 259,
    "start_time": "2022-03-12T22:20:01.991Z"
   },
   {
    "duration": 242,
    "start_time": "2022-03-12T22:20:02.252Z"
   },
   {
    "duration": 248,
    "start_time": "2022-03-12T22:20:02.495Z"
   },
   {
    "duration": 245,
    "start_time": "2022-03-12T22:20:02.745Z"
   },
   {
    "duration": 265,
    "start_time": "2022-03-12T22:20:02.991Z"
   },
   {
    "duration": 248,
    "start_time": "2022-03-12T22:20:03.257Z"
   },
   {
    "duration": 411,
    "start_time": "2022-03-12T22:20:03.507Z"
   },
   {
    "duration": 338,
    "start_time": "2022-03-12T22:20:03.920Z"
   },
   {
    "duration": 226,
    "start_time": "2022-03-12T22:20:04.259Z"
   },
   {
    "duration": 225,
    "start_time": "2022-03-12T22:20:04.486Z"
   },
   {
    "duration": 2,
    "start_time": "2022-03-12T22:20:04.713Z"
   },
   {
    "duration": 1033,
    "start_time": "2022-03-12T22:20:04.716Z"
   },
   {
    "duration": 1101,
    "start_time": "2022-03-12T22:20:05.750Z"
   },
   {
    "duration": 974,
    "start_time": "2022-03-12T22:20:06.853Z"
   },
   {
    "duration": 14,
    "start_time": "2022-03-12T22:20:07.830Z"
   },
   {
    "duration": 23,
    "start_time": "2022-03-12T22:20:07.846Z"
   },
   {
    "duration": 16,
    "start_time": "2022-03-12T22:20:07.871Z"
   },
   {
    "duration": 15,
    "start_time": "2022-03-12T22:20:07.888Z"
   },
   {
    "duration": 15,
    "start_time": "2022-03-12T22:20:07.933Z"
   },
   {
    "duration": 16,
    "start_time": "2022-03-12T22:20:07.949Z"
   },
   {
    "duration": 14,
    "start_time": "2022-03-12T22:20:07.967Z"
   },
   {
    "duration": 10,
    "start_time": "2022-03-12T22:20:07.983Z"
   },
   {
    "duration": 42,
    "start_time": "2022-03-12T22:20:07.995Z"
   },
   {
    "duration": 13,
    "start_time": "2022-03-12T22:20:08.039Z"
   },
   {
    "duration": 211,
    "start_time": "2022-03-12T22:22:48.052Z"
   },
   {
    "duration": 11,
    "start_time": "2022-03-12T22:22:58.410Z"
   },
   {
    "duration": 14,
    "start_time": "2022-03-12T22:26:44.232Z"
   },
   {
    "duration": 12,
    "start_time": "2022-03-12T22:27:03.676Z"
   },
   {
    "duration": 14,
    "start_time": "2022-03-12T22:31:37.087Z"
   },
   {
    "duration": 13,
    "start_time": "2022-03-12T22:32:41.831Z"
   },
   {
    "duration": 78,
    "start_time": "2022-03-13T17:47:02.467Z"
   },
   {
    "duration": 83,
    "start_time": "2022-03-13T17:50:51.433Z"
   },
   {
    "duration": 287,
    "start_time": "2022-03-13T17:54:28.256Z"
   },
   {
    "duration": 1132,
    "start_time": "2022-03-13T18:05:08.091Z"
   },
   {
    "duration": 3,
    "start_time": "2022-03-13T18:05:09.225Z"
   },
   {
    "duration": 13,
    "start_time": "2022-03-13T18:05:09.230Z"
   },
   {
    "duration": 25,
    "start_time": "2022-03-13T18:05:09.245Z"
   },
   {
    "duration": 5,
    "start_time": "2022-03-13T18:05:09.271Z"
   },
   {
    "duration": 63,
    "start_time": "2022-03-13T18:05:09.277Z"
   },
   {
    "duration": 19,
    "start_time": "2022-03-13T18:05:09.341Z"
   },
   {
    "duration": 6,
    "start_time": "2022-03-13T18:05:09.363Z"
   },
   {
    "duration": 36,
    "start_time": "2022-03-13T18:05:09.371Z"
   },
   {
    "duration": 15,
    "start_time": "2022-03-13T18:05:09.408Z"
   },
   {
    "duration": 14,
    "start_time": "2022-03-13T18:05:09.425Z"
   },
   {
    "duration": 252,
    "start_time": "2022-03-13T18:05:09.440Z"
   },
   {
    "duration": 239,
    "start_time": "2022-03-13T18:05:09.693Z"
   },
   {
    "duration": 240,
    "start_time": "2022-03-13T18:05:09.933Z"
   },
   {
    "duration": 250,
    "start_time": "2022-03-13T18:05:10.174Z"
   },
   {
    "duration": 247,
    "start_time": "2022-03-13T18:05:10.426Z"
   },
   {
    "duration": 245,
    "start_time": "2022-03-13T18:05:10.675Z"
   },
   {
    "duration": 414,
    "start_time": "2022-03-13T18:05:10.922Z"
   },
   {
    "duration": 343,
    "start_time": "2022-03-13T18:05:11.338Z"
   },
   {
    "duration": 238,
    "start_time": "2022-03-13T18:05:11.682Z"
   },
   {
    "duration": 246,
    "start_time": "2022-03-13T18:05:11.922Z"
   },
   {
    "duration": 2,
    "start_time": "2022-03-13T18:05:12.169Z"
   },
   {
    "duration": 1066,
    "start_time": "2022-03-13T18:05:12.174Z"
   },
   {
    "duration": 1084,
    "start_time": "2022-03-13T18:05:13.242Z"
   },
   {
    "duration": 1068,
    "start_time": "2022-03-13T18:05:14.327Z"
   },
   {
    "duration": 13,
    "start_time": "2022-03-13T18:05:15.405Z"
   },
   {
    "duration": 15,
    "start_time": "2022-03-13T18:05:15.420Z"
   },
   {
    "duration": 17,
    "start_time": "2022-03-13T18:05:15.436Z"
   },
   {
    "duration": 24,
    "start_time": "2022-03-13T18:05:15.455Z"
   },
   {
    "duration": 36,
    "start_time": "2022-03-13T18:05:15.480Z"
   },
   {
    "duration": 13,
    "start_time": "2022-03-13T18:05:15.517Z"
   },
   {
    "duration": 22,
    "start_time": "2022-03-13T18:05:15.531Z"
   },
   {
    "duration": 28,
    "start_time": "2022-03-13T18:05:15.554Z"
   },
   {
    "duration": 21,
    "start_time": "2022-03-13T18:05:15.584Z"
   },
   {
    "duration": 11,
    "start_time": "2022-03-13T18:05:15.607Z"
   },
   {
    "duration": 13,
    "start_time": "2022-03-13T18:05:15.620Z"
   },
   {
    "duration": 22,
    "start_time": "2022-03-13T18:05:15.635Z"
   },
   {
    "duration": 351,
    "start_time": "2022-03-13T18:07:31.426Z"
   },
   {
    "duration": 32,
    "start_time": "2022-03-13T18:10:08.444Z"
   },
   {
    "duration": 92,
    "start_time": "2022-03-13T18:53:49.774Z"
   },
   {
    "duration": 1102,
    "start_time": "2022-03-13T20:08:10.374Z"
   },
   {
    "duration": 2,
    "start_time": "2022-03-13T20:08:11.478Z"
   },
   {
    "duration": 14,
    "start_time": "2022-03-13T20:08:11.482Z"
   },
   {
    "duration": 34,
    "start_time": "2022-03-13T20:08:11.497Z"
   },
   {
    "duration": 8,
    "start_time": "2022-03-13T20:08:11.533Z"
   },
   {
    "duration": 41,
    "start_time": "2022-03-13T20:08:11.543Z"
   },
   {
    "duration": 26,
    "start_time": "2022-03-13T20:08:11.586Z"
   },
   {
    "duration": 10,
    "start_time": "2022-03-13T20:08:11.615Z"
   },
   {
    "duration": 22,
    "start_time": "2022-03-13T20:08:11.628Z"
   },
   {
    "duration": 16,
    "start_time": "2022-03-13T20:08:11.652Z"
   },
   {
    "duration": 18,
    "start_time": "2022-03-13T20:08:11.670Z"
   },
   {
    "duration": 276,
    "start_time": "2022-03-13T20:08:11.689Z"
   },
   {
    "duration": 270,
    "start_time": "2022-03-13T20:08:11.967Z"
   },
   {
    "duration": 272,
    "start_time": "2022-03-13T20:08:12.239Z"
   },
   {
    "duration": 260,
    "start_time": "2022-03-13T20:08:12.513Z"
   },
   {
    "duration": 301,
    "start_time": "2022-03-13T20:08:12.775Z"
   },
   {
    "duration": 297,
    "start_time": "2022-03-13T20:08:13.077Z"
   },
   {
    "duration": 423,
    "start_time": "2022-03-13T20:08:13.375Z"
   },
   {
    "duration": 381,
    "start_time": "2022-03-13T20:08:13.800Z"
   },
   {
    "duration": 246,
    "start_time": "2022-03-13T20:08:14.183Z"
   },
   {
    "duration": 248,
    "start_time": "2022-03-13T20:08:14.430Z"
   },
   {
    "duration": 48,
    "start_time": "2022-03-13T20:08:14.679Z"
   },
   {
    "duration": 1003,
    "start_time": "2022-03-13T20:08:14.736Z"
   },
   {
    "duration": 1115,
    "start_time": "2022-03-13T20:08:15.740Z"
   },
   {
    "duration": 1006,
    "start_time": "2022-03-13T20:08:16.857Z"
   },
   {
    "duration": 13,
    "start_time": "2022-03-13T20:08:17.865Z"
   },
   {
    "duration": 25,
    "start_time": "2022-03-13T20:08:17.880Z"
   },
   {
    "duration": 21,
    "start_time": "2022-03-13T20:08:17.907Z"
   },
   {
    "duration": 26,
    "start_time": "2022-03-13T20:08:17.930Z"
   },
   {
    "duration": 14,
    "start_time": "2022-03-13T20:08:17.958Z"
   },
   {
    "duration": 33,
    "start_time": "2022-03-13T20:08:17.973Z"
   },
   {
    "duration": 20,
    "start_time": "2022-03-13T20:08:18.008Z"
   },
   {
    "duration": 19,
    "start_time": "2022-03-13T20:08:18.031Z"
   },
   {
    "duration": 13,
    "start_time": "2022-03-13T20:08:18.052Z"
   },
   {
    "duration": 12,
    "start_time": "2022-03-13T20:08:18.067Z"
   },
   {
    "duration": 52,
    "start_time": "2022-03-13T20:08:18.081Z"
   },
   {
    "duration": 12,
    "start_time": "2022-03-13T20:08:18.135Z"
   },
   {
    "duration": 1159,
    "start_time": "2022-03-13T20:14:09.903Z"
   },
   {
    "duration": 3,
    "start_time": "2022-03-13T20:14:11.064Z"
   },
   {
    "duration": 14,
    "start_time": "2022-03-13T20:14:11.069Z"
   },
   {
    "duration": 29,
    "start_time": "2022-03-13T20:14:11.085Z"
   },
   {
    "duration": 13,
    "start_time": "2022-03-13T20:14:11.116Z"
   },
   {
    "duration": 37,
    "start_time": "2022-03-13T20:14:11.132Z"
   },
   {
    "duration": 21,
    "start_time": "2022-03-13T20:14:11.170Z"
   },
   {
    "duration": 17,
    "start_time": "2022-03-13T20:14:11.194Z"
   },
   {
    "duration": 35,
    "start_time": "2022-03-13T20:14:11.213Z"
   },
   {
    "duration": 15,
    "start_time": "2022-03-13T20:14:11.250Z"
   },
   {
    "duration": 13,
    "start_time": "2022-03-13T20:14:11.266Z"
   },
   {
    "duration": 251,
    "start_time": "2022-03-13T20:14:11.280Z"
   },
   {
    "duration": 260,
    "start_time": "2022-03-13T20:14:11.533Z"
   },
   {
    "duration": 269,
    "start_time": "2022-03-13T20:14:11.794Z"
   },
   {
    "duration": 295,
    "start_time": "2022-03-13T20:14:12.065Z"
   },
   {
    "duration": 268,
    "start_time": "2022-03-13T20:14:12.362Z"
   },
   {
    "duration": 268,
    "start_time": "2022-03-13T20:14:12.632Z"
   },
   {
    "duration": 490,
    "start_time": "2022-03-13T20:14:12.905Z"
   },
   {
    "duration": 376,
    "start_time": "2022-03-13T20:14:13.397Z"
   },
   {
    "duration": 240,
    "start_time": "2022-03-13T20:14:13.774Z"
   },
   {
    "duration": 251,
    "start_time": "2022-03-13T20:14:14.016Z"
   },
   {
    "duration": 29,
    "start_time": "2022-03-13T20:14:14.268Z"
   },
   {
    "duration": 954,
    "start_time": "2022-03-13T20:14:14.310Z"
   },
   {
    "duration": 1079,
    "start_time": "2022-03-13T20:14:15.266Z"
   },
   {
    "duration": 985,
    "start_time": "2022-03-13T20:14:16.347Z"
   },
   {
    "duration": 13,
    "start_time": "2022-03-13T20:14:17.335Z"
   },
   {
    "duration": 14,
    "start_time": "2022-03-13T20:14:17.349Z"
   },
   {
    "duration": 17,
    "start_time": "2022-03-13T20:14:17.364Z"
   },
   {
    "duration": 41,
    "start_time": "2022-03-13T20:14:17.382Z"
   },
   {
    "duration": 21,
    "start_time": "2022-03-13T20:14:17.425Z"
   },
   {
    "duration": 14,
    "start_time": "2022-03-13T20:14:17.448Z"
   },
   {
    "duration": 13,
    "start_time": "2022-03-13T20:14:17.464Z"
   },
   {
    "duration": 43,
    "start_time": "2022-03-13T20:14:17.479Z"
   },
   {
    "duration": 18,
    "start_time": "2022-03-13T20:14:17.524Z"
   },
   {
    "duration": 11,
    "start_time": "2022-03-13T20:14:17.544Z"
   },
   {
    "duration": 12,
    "start_time": "2022-03-13T20:14:17.556Z"
   },
   {
    "duration": 10,
    "start_time": "2022-03-13T20:14:17.570Z"
   },
   {
    "duration": 1207,
    "start_time": "2022-03-13T20:14:52.734Z"
   },
   {
    "duration": 2,
    "start_time": "2022-03-13T20:14:53.943Z"
   },
   {
    "duration": 19,
    "start_time": "2022-03-13T20:14:53.947Z"
   },
   {
    "duration": 39,
    "start_time": "2022-03-13T20:14:53.969Z"
   },
   {
    "duration": 6,
    "start_time": "2022-03-13T20:14:54.010Z"
   },
   {
    "duration": 51,
    "start_time": "2022-03-13T20:14:54.018Z"
   },
   {
    "duration": 19,
    "start_time": "2022-03-13T20:14:54.071Z"
   },
   {
    "duration": 7,
    "start_time": "2022-03-13T20:14:54.092Z"
   },
   {
    "duration": 26,
    "start_time": "2022-03-13T20:14:54.109Z"
   },
   {
    "duration": 17,
    "start_time": "2022-03-13T20:14:54.136Z"
   },
   {
    "duration": 12,
    "start_time": "2022-03-13T20:14:54.155Z"
   },
   {
    "duration": 302,
    "start_time": "2022-03-13T20:14:54.169Z"
   },
   {
    "duration": 263,
    "start_time": "2022-03-13T20:14:54.472Z"
   },
   {
    "duration": 258,
    "start_time": "2022-03-13T20:14:54.737Z"
   },
   {
    "duration": 265,
    "start_time": "2022-03-13T20:14:54.997Z"
   },
   {
    "duration": 270,
    "start_time": "2022-03-13T20:14:55.264Z"
   },
   {
    "duration": 260,
    "start_time": "2022-03-13T20:14:55.536Z"
   },
   {
    "duration": 437,
    "start_time": "2022-03-13T20:14:55.798Z"
   },
   {
    "duration": 390,
    "start_time": "2022-03-13T20:14:56.237Z"
   },
   {
    "duration": 265,
    "start_time": "2022-03-13T20:14:56.630Z"
   },
   {
    "duration": 249,
    "start_time": "2022-03-13T20:14:56.897Z"
   },
   {
    "duration": 31,
    "start_time": "2022-03-13T20:14:57.147Z"
   },
   {
    "duration": 1009,
    "start_time": "2022-03-13T20:14:57.181Z"
   },
   {
    "duration": 1096,
    "start_time": "2022-03-13T20:14:58.191Z"
   },
   {
    "duration": 971,
    "start_time": "2022-03-13T20:14:59.289Z"
   },
   {
    "duration": 12,
    "start_time": "2022-03-13T20:15:00.262Z"
   },
   {
    "duration": 17,
    "start_time": "2022-03-13T20:15:00.275Z"
   },
   {
    "duration": 20,
    "start_time": "2022-03-13T20:15:00.309Z"
   },
   {
    "duration": 23,
    "start_time": "2022-03-13T20:15:00.330Z"
   },
   {
    "duration": 12,
    "start_time": "2022-03-13T20:15:00.355Z"
   },
   {
    "duration": 17,
    "start_time": "2022-03-13T20:15:00.369Z"
   },
   {
    "duration": 36,
    "start_time": "2022-03-13T20:15:00.388Z"
   },
   {
    "duration": 22,
    "start_time": "2022-03-13T20:15:00.426Z"
   },
   {
    "duration": 20,
    "start_time": "2022-03-13T20:15:00.449Z"
   },
   {
    "duration": 19,
    "start_time": "2022-03-13T20:15:00.471Z"
   },
   {
    "duration": 52,
    "start_time": "2022-03-13T20:15:00.492Z"
   },
   {
    "duration": 12,
    "start_time": "2022-03-13T20:15:00.545Z"
   }
  ],
  "kernelspec": {
   "display_name": "Python 3 (ipykernel)",
   "language": "python",
   "name": "python3"
  },
  "language_info": {
   "codemirror_mode": {
    "name": "ipython",
    "version": 3
   },
   "file_extension": ".py",
   "mimetype": "text/x-python",
   "name": "python",
   "nbconvert_exporter": "python",
   "pygments_lexer": "ipython3",
   "version": "3.9.7"
  },
  "toc": {
   "base_numbering": 1,
   "nav_menu": {},
   "number_sections": true,
   "sideBar": true,
   "skip_h1_title": true,
   "title_cell": "Содержание",
   "title_sidebar": "Содержание",
   "toc_cell": true,
   "toc_position": {},
   "toc_section_display": true,
   "toc_window_display": true
  }
 },
 "nbformat": 4,
 "nbformat_minor": 2
}
