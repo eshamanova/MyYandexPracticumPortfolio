{
 "cells": [
  {
   "cell_type": "markdown",
   "metadata": {
    "toc": true
   },
   "source": [
    "<h1>Содержание<span class=\"tocSkip\"></span></h1>\n",
    "<div class=\"toc\"><ul class=\"toc-item\"><li><span><a href=\"#Изучение-данных-из-файла\" data-toc-modified-id=\"Изучение-данных-из-файла-1\"><span class=\"toc-item-num\">1&nbsp;&nbsp;</span>Изучение данных из файла</a></span><ul class=\"toc-item\"><li><span><a href=\"#Вывод\" data-toc-modified-id=\"Вывод-1.1\"><span class=\"toc-item-num\">1.1&nbsp;&nbsp;</span>Вывод</a></span></li></ul></li><li><span><a href=\"#Предобработка-данных\" data-toc-modified-id=\"Предобработка-данных-2\"><span class=\"toc-item-num\">2&nbsp;&nbsp;</span>Предобработка данных</a></span></li><li><span><a href=\"#Анализ-данных\" data-toc-modified-id=\"Анализ-данных-3\"><span class=\"toc-item-num\">3&nbsp;&nbsp;</span>Анализ данных</a></span><ul class=\"toc-item\"><li><span><a href=\"#Вывод\" data-toc-modified-id=\"Вывод-3.1\"><span class=\"toc-item-num\">3.1&nbsp;&nbsp;</span>Вывод</a></span></li></ul></li><li><span><a href=\"#Проверка-гипотез\" data-toc-modified-id=\"Проверка-гипотез-4\"><span class=\"toc-item-num\">4&nbsp;&nbsp;</span>Проверка гипотез</a></span><ul class=\"toc-item\"><li><span><a href=\"#Вывод\" data-toc-modified-id=\"Вывод-4.1\"><span class=\"toc-item-num\">4.1&nbsp;&nbsp;</span>Вывод</a></span></li></ul></li><li><span><a href=\"#Общий-вывод\" data-toc-modified-id=\"Общий-вывод-5\"><span class=\"toc-item-num\">5&nbsp;&nbsp;</span>Общий вывод</a></span></li></ul></div>"
   ]
  },
  {
   "cell_type": "markdown",
   "metadata": {},
   "source": [
    "## Изучение данных из файла"
   ]
  },
  {
   "cell_type": "markdown",
   "metadata": {},
   "source": [
    "<div class=\"alert alert-info\"> Сначала импортируем все таблицы, проверяем информацию по каждой.\n",
    "В каждой таблице, содержащей данные о датах, с помощью метода to_datetime приводим даты звонков/отправки смс/выхода в интернет в нужный формат для удобства дальнейшей работы.<br /><br /> «Мегалайн» всегда округляет секунды до минут, каждый звонок округляется отдельно: даже если он длился всего 1 секунду, будет засчитан как 1 минута, поэтому на этом этапе сразу же производим округление для каждого звонка.</div>"
   ]
  },
  {
   "cell_type": "code",
   "execution_count": 1,
   "metadata": {},
   "outputs": [],
   "source": [
    "import pandas as pd\n",
    "pd.set_option('display.float_format', '{:,.2f}'.format)\n",
    "import math\n",
    "from scipy import stats as st\n",
    "import numpy as np\n",
    "\n",
    "calls = pd.read_csv('/datasets/calls.csv')\n",
    "internet = pd.read_csv('/datasets/internet.csv')\n",
    "messages = pd.read_csv('/datasets/messages.csv')\n",
    "tariffs = pd.read_csv('/datasets/tariffs.csv')\n",
    "users= pd.read_csv('/datasets/users.csv')"
   ]
  },
  {
   "cell_type": "code",
   "execution_count": 2,
   "metadata": {},
   "outputs": [
    {
     "name": "stdout",
     "output_type": "stream",
     "text": [
      "<class 'pandas.core.frame.DataFrame'>\n",
      "RangeIndex: 202607 entries, 0 to 202606\n",
      "Data columns (total 4 columns):\n",
      "id           202607 non-null object\n",
      "call_date    202607 non-null object\n",
      "duration     202607 non-null float64\n",
      "user_id      202607 non-null int64\n",
      "dtypes: float64(1), int64(1), object(2)\n",
      "memory usage: 6.2+ MB\n",
      "Количество дубликатов:  0\n"
     ]
    },
    {
     "data": {
      "text/html": [
       "<div>\n",
       "<style scoped>\n",
       "    .dataframe tbody tr th:only-of-type {\n",
       "        vertical-align: middle;\n",
       "    }\n",
       "\n",
       "    .dataframe tbody tr th {\n",
       "        vertical-align: top;\n",
       "    }\n",
       "\n",
       "    .dataframe thead th {\n",
       "        text-align: right;\n",
       "    }\n",
       "</style>\n",
       "<table border=\"1\" class=\"dataframe\">\n",
       "  <thead>\n",
       "    <tr style=\"text-align: right;\">\n",
       "      <th></th>\n",
       "      <th>id</th>\n",
       "      <th>call_date</th>\n",
       "      <th>duration</th>\n",
       "      <th>user_id</th>\n",
       "    </tr>\n",
       "  </thead>\n",
       "  <tbody>\n",
       "    <tr>\n",
       "      <td>0</td>\n",
       "      <td>1000_0</td>\n",
       "      <td>2018-07-25</td>\n",
       "      <td>0</td>\n",
       "      <td>1000</td>\n",
       "    </tr>\n",
       "    <tr>\n",
       "      <td>1</td>\n",
       "      <td>1000_1</td>\n",
       "      <td>2018-08-17</td>\n",
       "      <td>0</td>\n",
       "      <td>1000</td>\n",
       "    </tr>\n",
       "    <tr>\n",
       "      <td>2</td>\n",
       "      <td>1000_2</td>\n",
       "      <td>2018-06-11</td>\n",
       "      <td>3</td>\n",
       "      <td>1000</td>\n",
       "    </tr>\n",
       "    <tr>\n",
       "      <td>3</td>\n",
       "      <td>1000_3</td>\n",
       "      <td>2018-09-21</td>\n",
       "      <td>14</td>\n",
       "      <td>1000</td>\n",
       "    </tr>\n",
       "    <tr>\n",
       "      <td>4</td>\n",
       "      <td>1000_4</td>\n",
       "      <td>2018-12-15</td>\n",
       "      <td>6</td>\n",
       "      <td>1000</td>\n",
       "    </tr>\n",
       "    <tr>\n",
       "      <td>5</td>\n",
       "      <td>1000_5</td>\n",
       "      <td>2018-11-02</td>\n",
       "      <td>0</td>\n",
       "      <td>1000</td>\n",
       "    </tr>\n",
       "    <tr>\n",
       "      <td>6</td>\n",
       "      <td>1000_6</td>\n",
       "      <td>2018-10-18</td>\n",
       "      <td>0</td>\n",
       "      <td>1000</td>\n",
       "    </tr>\n",
       "    <tr>\n",
       "      <td>7</td>\n",
       "      <td>1000_7</td>\n",
       "      <td>2018-08-22</td>\n",
       "      <td>19</td>\n",
       "      <td>1000</td>\n",
       "    </tr>\n",
       "    <tr>\n",
       "      <td>8</td>\n",
       "      <td>1000_8</td>\n",
       "      <td>2018-09-15</td>\n",
       "      <td>19</td>\n",
       "      <td>1000</td>\n",
       "    </tr>\n",
       "    <tr>\n",
       "      <td>9</td>\n",
       "      <td>1000_9</td>\n",
       "      <td>2018-08-15</td>\n",
       "      <td>0</td>\n",
       "      <td>1000</td>\n",
       "    </tr>\n",
       "  </tbody>\n",
       "</table>\n",
       "</div>"
      ],
      "text/plain": [
       "       id  call_date  duration  user_id\n",
       "0  1000_0 2018-07-25         0     1000\n",
       "1  1000_1 2018-08-17         0     1000\n",
       "2  1000_2 2018-06-11         3     1000\n",
       "3  1000_3 2018-09-21        14     1000\n",
       "4  1000_4 2018-12-15         6     1000\n",
       "5  1000_5 2018-11-02         0     1000\n",
       "6  1000_6 2018-10-18         0     1000\n",
       "7  1000_7 2018-08-22        19     1000\n",
       "8  1000_8 2018-09-15        19     1000\n",
       "9  1000_9 2018-08-15         0     1000"
      ]
     },
     "metadata": {},
     "output_type": "display_data"
    },
    {
     "name": "stdout",
     "output_type": "stream",
     "text": [
      "1304_73     1\n",
      "1454_193    1\n",
      "1185_931    1\n",
      "1340_534    1\n",
      "1070_125    1\n",
      "           ..\n",
      "1389_142    1\n",
      "1148_97     1\n",
      "1101_457    1\n",
      "1378_729    1\n",
      "1054_587    1\n",
      "Name: id, Length: 202607, dtype: int64\n",
      "2018-12-31    1435\n",
      "2018-12-29    1202\n",
      "2018-12-30    1192\n",
      "2018-12-22    1158\n",
      "2018-12-26    1149\n",
      "              ... \n",
      "2018-01-05      20\n",
      "2018-01-07      18\n",
      "2018-01-02       9\n",
      "2018-01-03       7\n",
      "2018-01-01       5\n",
      "Name: call_date, Length: 365, dtype: int64\n",
      "0     39613\n",
      "7     11510\n",
      "6     11457\n",
      "5     11411\n",
      "8     11272\n",
      "9     10973\n",
      "4     10918\n",
      "3     10362\n",
      "10    10186\n",
      "11     9385\n",
      "2      9194\n",
      "12     8448\n",
      "1      8402\n",
      "13     7486\n",
      "14     6554\n",
      "15     5505\n",
      "16     4551\n",
      "17     3671\n",
      "18     2984\n",
      "19     2411\n",
      "20     1806\n",
      "21     1304\n",
      "22      975\n",
      "23      720\n",
      "24      468\n",
      "25      363\n",
      "26      257\n",
      "27      151\n",
      "28      104\n",
      "29       56\n",
      "30       39\n",
      "31       30\n",
      "32       17\n",
      "33       10\n",
      "35        5\n",
      "34        3\n",
      "36        2\n",
      "37        2\n",
      "38        2\n",
      "Name: duration, dtype: int64\n",
      "1377    1760\n",
      "1168    1692\n",
      "1375    1560\n",
      "1453    1440\n",
      "1196    1240\n",
      "        ... \n",
      "1397      33\n",
      "1442      28\n",
      "1373      24\n",
      "1016      20\n",
      "1257      14\n",
      "Name: user_id, Length: 492, dtype: int64\n"
     ]
    }
   ],
   "source": [
    "calls.info()\n",
    "print('Количество дубликатов: ', calls.duplicated().sum())\n",
    "calls['call_date'] = pd.to_datetime(calls['call_date'], format= '%Y-%m-%d')\n",
    "\n",
    "def minutes_round(duration):\n",
    "    return int(math.ceil(duration))\n",
    "calls['duration'] = calls['duration'].apply(minutes_round)\n",
    "display(calls.head(10))\n",
    "\n",
    "for c in calls.columns:\n",
    "    print(calls[c].value_counts(dropna=False))"
   ]
  },
  {
   "cell_type": "code",
   "execution_count": 3,
   "metadata": {},
   "outputs": [
    {
     "name": "stdout",
     "output_type": "stream",
     "text": [
      "<class 'pandas.core.frame.DataFrame'>\n",
      "RangeIndex: 149396 entries, 0 to 149395\n",
      "Data columns (total 5 columns):\n",
      "Unnamed: 0      149396 non-null int64\n",
      "id              149396 non-null object\n",
      "mb_used         149396 non-null float64\n",
      "session_date    149396 non-null object\n",
      "user_id         149396 non-null int64\n",
      "dtypes: float64(1), int64(2), object(2)\n",
      "memory usage: 5.7+ MB\n",
      "Количество дубликатов:  0\n"
     ]
    },
    {
     "data": {
      "text/html": [
       "<div>\n",
       "<style scoped>\n",
       "    .dataframe tbody tr th:only-of-type {\n",
       "        vertical-align: middle;\n",
       "    }\n",
       "\n",
       "    .dataframe tbody tr th {\n",
       "        vertical-align: top;\n",
       "    }\n",
       "\n",
       "    .dataframe thead th {\n",
       "        text-align: right;\n",
       "    }\n",
       "</style>\n",
       "<table border=\"1\" class=\"dataframe\">\n",
       "  <thead>\n",
       "    <tr style=\"text-align: right;\">\n",
       "      <th></th>\n",
       "      <th>Unnamed: 0</th>\n",
       "      <th>id</th>\n",
       "      <th>mb_used</th>\n",
       "      <th>session_date</th>\n",
       "      <th>user_id</th>\n",
       "    </tr>\n",
       "  </thead>\n",
       "  <tbody>\n",
       "    <tr>\n",
       "      <td>0</td>\n",
       "      <td>0</td>\n",
       "      <td>1000_0</td>\n",
       "      <td>112.95</td>\n",
       "      <td>2018-11-25</td>\n",
       "      <td>1000</td>\n",
       "    </tr>\n",
       "    <tr>\n",
       "      <td>1</td>\n",
       "      <td>1</td>\n",
       "      <td>1000_1</td>\n",
       "      <td>1,052.81</td>\n",
       "      <td>2018-09-07</td>\n",
       "      <td>1000</td>\n",
       "    </tr>\n",
       "    <tr>\n",
       "      <td>2</td>\n",
       "      <td>2</td>\n",
       "      <td>1000_2</td>\n",
       "      <td>1,197.26</td>\n",
       "      <td>2018-06-25</td>\n",
       "      <td>1000</td>\n",
       "    </tr>\n",
       "    <tr>\n",
       "      <td>3</td>\n",
       "      <td>3</td>\n",
       "      <td>1000_3</td>\n",
       "      <td>550.27</td>\n",
       "      <td>2018-08-22</td>\n",
       "      <td>1000</td>\n",
       "    </tr>\n",
       "    <tr>\n",
       "      <td>4</td>\n",
       "      <td>4</td>\n",
       "      <td>1000_4</td>\n",
       "      <td>302.56</td>\n",
       "      <td>2018-09-24</td>\n",
       "      <td>1000</td>\n",
       "    </tr>\n",
       "    <tr>\n",
       "      <td>5</td>\n",
       "      <td>5</td>\n",
       "      <td>1000_5</td>\n",
       "      <td>399.97</td>\n",
       "      <td>2018-10-02</td>\n",
       "      <td>1000</td>\n",
       "    </tr>\n",
       "    <tr>\n",
       "      <td>6</td>\n",
       "      <td>6</td>\n",
       "      <td>1000_6</td>\n",
       "      <td>540.08</td>\n",
       "      <td>2018-09-07</td>\n",
       "      <td>1000</td>\n",
       "    </tr>\n",
       "    <tr>\n",
       "      <td>7</td>\n",
       "      <td>7</td>\n",
       "      <td>1000_7</td>\n",
       "      <td>415.70</td>\n",
       "      <td>2018-07-11</td>\n",
       "      <td>1000</td>\n",
       "    </tr>\n",
       "    <tr>\n",
       "      <td>8</td>\n",
       "      <td>8</td>\n",
       "      <td>1000_8</td>\n",
       "      <td>505.40</td>\n",
       "      <td>2018-10-08</td>\n",
       "      <td>1000</td>\n",
       "    </tr>\n",
       "    <tr>\n",
       "      <td>9</td>\n",
       "      <td>9</td>\n",
       "      <td>1000_9</td>\n",
       "      <td>345.54</td>\n",
       "      <td>2018-09-03</td>\n",
       "      <td>1000</td>\n",
       "    </tr>\n",
       "  </tbody>\n",
       "</table>\n",
       "</div>"
      ],
      "text/plain": [
       "   Unnamed: 0      id  mb_used session_date  user_id\n",
       "0           0  1000_0   112.95   2018-11-25     1000\n",
       "1           1  1000_1 1,052.81   2018-09-07     1000\n",
       "2           2  1000_2 1,197.26   2018-06-25     1000\n",
       "3           3  1000_3   550.27   2018-08-22     1000\n",
       "4           4  1000_4   302.56   2018-09-24     1000\n",
       "5           5  1000_5   399.97   2018-10-02     1000\n",
       "6           6  1000_6   540.08   2018-09-07     1000\n",
       "7           7  1000_7   415.70   2018-07-11     1000\n",
       "8           8  1000_8   505.40   2018-10-08     1000\n",
       "9           9  1000_9   345.54   2018-09-03     1000"
      ]
     },
     "metadata": {},
     "output_type": "display_data"
    },
    {
     "name": "stdout",
     "output_type": "stream",
     "text": [
      "2047     1\n",
      "95620    1\n",
      "40249    1\n",
      "38200    1\n",
      "60727    1\n",
      "        ..\n",
      "51916    1\n",
      "62155    1\n",
      "64202    1\n",
      "58057    1\n",
      "0        1\n",
      "Name: Unnamed: 0, Length: 149396, dtype: int64\n",
      "1304_73     1\n",
      "1230_163    1\n",
      "1478_287    1\n",
      "1102_180    1\n",
      "1498_156    1\n",
      "           ..\n",
      "1180_409    1\n",
      "1342_107    1\n",
      "1298_14     1\n",
      "1350_177    1\n",
      "1040_285    1\n",
      "Name: id, Length: 149396, dtype: int64\n",
      "0.00      19598\n",
      "197.56        9\n",
      "447.30        9\n",
      "335.91        9\n",
      "108.95        8\n",
      "          ...  \n",
      "72.49         1\n",
      "846.22        1\n",
      "429.17        1\n",
      "899.03        1\n",
      "483.87        1\n",
      "Name: mb_used, Length: 70003, dtype: int64\n",
      "2018-12-31    1057\n",
      "2018-12-30     903\n",
      "2018-12-25     859\n",
      "2018-12-26     844\n",
      "2018-12-22     834\n",
      "              ... \n",
      "2018-01-05      14\n",
      "2018-01-04       9\n",
      "2018-01-03       6\n",
      "2018-01-01       3\n",
      "2018-01-02       3\n",
      "Name: session_date, Length: 365, dtype: int64\n",
      "1496    834\n",
      "1227    812\n",
      "1204    789\n",
      "1240    764\n",
      "1251    759\n",
      "       ... \n",
      "1151     35\n",
      "1467     27\n",
      "1343     26\n",
      "1192     22\n",
      "1399      8\n",
      "Name: user_id, Length: 497, dtype: int64\n"
     ]
    }
   ],
   "source": [
    "internet.info()\n",
    "print('Количество дубликатов: ', internet.duplicated().sum())\n",
    "internet['session_date'] = pd.to_datetime(internet['session_date'], format= '%Y-%m-%d')\n",
    "display(internet.head(10))\n",
    "\n",
    "for c in internet.columns:\n",
    "    print(internet[c].value_counts(dropna=False))"
   ]
  },
  {
   "cell_type": "code",
   "execution_count": 4,
   "metadata": {},
   "outputs": [
    {
     "name": "stdout",
     "output_type": "stream",
     "text": [
      "<class 'pandas.core.frame.DataFrame'>\n",
      "RangeIndex: 123036 entries, 0 to 123035\n",
      "Data columns (total 3 columns):\n",
      "id              123036 non-null object\n",
      "message_date    123036 non-null object\n",
      "user_id         123036 non-null int64\n",
      "dtypes: int64(1), object(2)\n",
      "memory usage: 2.8+ MB\n",
      "Количество дубликатов:  0\n"
     ]
    },
    {
     "data": {
      "text/html": [
       "<div>\n",
       "<style scoped>\n",
       "    .dataframe tbody tr th:only-of-type {\n",
       "        vertical-align: middle;\n",
       "    }\n",
       "\n",
       "    .dataframe tbody tr th {\n",
       "        vertical-align: top;\n",
       "    }\n",
       "\n",
       "    .dataframe thead th {\n",
       "        text-align: right;\n",
       "    }\n",
       "</style>\n",
       "<table border=\"1\" class=\"dataframe\">\n",
       "  <thead>\n",
       "    <tr style=\"text-align: right;\">\n",
       "      <th></th>\n",
       "      <th>id</th>\n",
       "      <th>message_date</th>\n",
       "      <th>user_id</th>\n",
       "    </tr>\n",
       "  </thead>\n",
       "  <tbody>\n",
       "    <tr>\n",
       "      <td>0</td>\n",
       "      <td>1000_0</td>\n",
       "      <td>2018-06-27</td>\n",
       "      <td>1000</td>\n",
       "    </tr>\n",
       "    <tr>\n",
       "      <td>1</td>\n",
       "      <td>1000_1</td>\n",
       "      <td>2018-10-08</td>\n",
       "      <td>1000</td>\n",
       "    </tr>\n",
       "    <tr>\n",
       "      <td>2</td>\n",
       "      <td>1000_2</td>\n",
       "      <td>2018-08-04</td>\n",
       "      <td>1000</td>\n",
       "    </tr>\n",
       "    <tr>\n",
       "      <td>3</td>\n",
       "      <td>1000_3</td>\n",
       "      <td>2018-06-16</td>\n",
       "      <td>1000</td>\n",
       "    </tr>\n",
       "    <tr>\n",
       "      <td>4</td>\n",
       "      <td>1000_4</td>\n",
       "      <td>2018-12-05</td>\n",
       "      <td>1000</td>\n",
       "    </tr>\n",
       "    <tr>\n",
       "      <td>5</td>\n",
       "      <td>1000_5</td>\n",
       "      <td>2018-06-20</td>\n",
       "      <td>1000</td>\n",
       "    </tr>\n",
       "    <tr>\n",
       "      <td>6</td>\n",
       "      <td>1000_6</td>\n",
       "      <td>2018-11-19</td>\n",
       "      <td>1000</td>\n",
       "    </tr>\n",
       "    <tr>\n",
       "      <td>7</td>\n",
       "      <td>1000_7</td>\n",
       "      <td>2018-10-29</td>\n",
       "      <td>1000</td>\n",
       "    </tr>\n",
       "    <tr>\n",
       "      <td>8</td>\n",
       "      <td>1000_8</td>\n",
       "      <td>2018-06-25</td>\n",
       "      <td>1000</td>\n",
       "    </tr>\n",
       "    <tr>\n",
       "      <td>9</td>\n",
       "      <td>1000_9</td>\n",
       "      <td>2018-12-18</td>\n",
       "      <td>1000</td>\n",
       "    </tr>\n",
       "  </tbody>\n",
       "</table>\n",
       "</div>"
      ],
      "text/plain": [
       "       id message_date  user_id\n",
       "0  1000_0   2018-06-27     1000\n",
       "1  1000_1   2018-10-08     1000\n",
       "2  1000_2   2018-08-04     1000\n",
       "3  1000_3   2018-06-16     1000\n",
       "4  1000_4   2018-12-05     1000\n",
       "5  1000_5   2018-06-20     1000\n",
       "6  1000_6   2018-11-19     1000\n",
       "7  1000_7   2018-10-29     1000\n",
       "8  1000_8   2018-06-25     1000\n",
       "9  1000_9   2018-12-18     1000"
      ]
     },
     "metadata": {},
     "output_type": "display_data"
    },
    {
     "name": "stdout",
     "output_type": "stream",
     "text": [
      "1304_73     1\n",
      "1427_49     1\n",
      "1452_286    1\n",
      "1424_589    1\n",
      "1478_296    1\n",
      "           ..\n",
      "1196_121    1\n",
      "1440_212    1\n",
      "1440_216    1\n",
      "1277_273    1\n",
      "1054_587    1\n",
      "Name: id, Length: 123036, dtype: int64\n",
      "2018-12-31    859\n",
      "2018-12-30    765\n",
      "2018-12-21    712\n",
      "2018-12-29    702\n",
      "2018-12-28    699\n",
      "             ... \n",
      "2018-01-07     12\n",
      "2018-01-02     10\n",
      "2018-01-04     10\n",
      "2018-01-05     10\n",
      "2018-01-03      4\n",
      "Name: message_date, Length: 364, dtype: int64\n",
      "1277    1463\n",
      "1089    1408\n",
      "1231    1384\n",
      "1385    1380\n",
      "1356    1224\n",
      "        ... \n",
      "1389       6\n",
      "1279       5\n",
      "1074       3\n",
      "1159       2\n",
      "1141       1\n",
      "Name: user_id, Length: 426, dtype: int64\n"
     ]
    }
   ],
   "source": [
    "messages.info()\n",
    "print('Количество дубликатов: ', messages.duplicated().sum())\n",
    "messages['message_date'] = pd.to_datetime(messages['message_date'], format= '%Y-%m-%d')\n",
    "display(messages.head(10))\n",
    "\n",
    "for c in messages.columns:\n",
    "    print(messages[c].value_counts(dropna=False))"
   ]
  },
  {
   "cell_type": "code",
   "execution_count": 5,
   "metadata": {},
   "outputs": [
    {
     "data": {
      "text/html": [
       "<div>\n",
       "<style scoped>\n",
       "    .dataframe tbody tr th:only-of-type {\n",
       "        vertical-align: middle;\n",
       "    }\n",
       "\n",
       "    .dataframe tbody tr th {\n",
       "        vertical-align: top;\n",
       "    }\n",
       "\n",
       "    .dataframe thead th {\n",
       "        text-align: right;\n",
       "    }\n",
       "</style>\n",
       "<table border=\"1\" class=\"dataframe\">\n",
       "  <thead>\n",
       "    <tr style=\"text-align: right;\">\n",
       "      <th></th>\n",
       "      <th>messages_included</th>\n",
       "      <th>mb_per_month_included</th>\n",
       "      <th>minutes_included</th>\n",
       "      <th>rub_monthly_fee</th>\n",
       "      <th>rub_per_gb</th>\n",
       "      <th>rub_per_message</th>\n",
       "      <th>rub_per_minute</th>\n",
       "      <th>tariff_name</th>\n",
       "    </tr>\n",
       "  </thead>\n",
       "  <tbody>\n",
       "    <tr>\n",
       "      <td>0</td>\n",
       "      <td>50</td>\n",
       "      <td>15360</td>\n",
       "      <td>500</td>\n",
       "      <td>550</td>\n",
       "      <td>200</td>\n",
       "      <td>3</td>\n",
       "      <td>3</td>\n",
       "      <td>smart</td>\n",
       "    </tr>\n",
       "    <tr>\n",
       "      <td>1</td>\n",
       "      <td>1000</td>\n",
       "      <td>30720</td>\n",
       "      <td>3000</td>\n",
       "      <td>1950</td>\n",
       "      <td>150</td>\n",
       "      <td>1</td>\n",
       "      <td>1</td>\n",
       "      <td>ultra</td>\n",
       "    </tr>\n",
       "  </tbody>\n",
       "</table>\n",
       "</div>"
      ],
      "text/plain": [
       "   messages_included  mb_per_month_included  minutes_included  \\\n",
       "0                 50                  15360               500   \n",
       "1               1000                  30720              3000   \n",
       "\n",
       "   rub_monthly_fee  rub_per_gb  rub_per_message  rub_per_minute tariff_name  \n",
       "0              550         200                3               3       smart  \n",
       "1             1950         150                1               1       ultra  "
      ]
     },
     "execution_count": 5,
     "metadata": {},
     "output_type": "execute_result"
    }
   ],
   "source": [
    "tariffs.head(10)"
   ]
  },
  {
   "cell_type": "code",
   "execution_count": 6,
   "metadata": {},
   "outputs": [
    {
     "name": "stdout",
     "output_type": "stream",
     "text": [
      "<class 'pandas.core.frame.DataFrame'>\n",
      "RangeIndex: 500 entries, 0 to 499\n",
      "Data columns (total 8 columns):\n",
      "user_id       500 non-null int64\n",
      "age           500 non-null int64\n",
      "churn_date    38 non-null object\n",
      "city          500 non-null object\n",
      "first_name    500 non-null object\n",
      "last_name     500 non-null object\n",
      "reg_date      500 non-null object\n",
      "tariff        500 non-null object\n",
      "dtypes: int64(2), object(6)\n",
      "memory usage: 31.4+ KB\n",
      "Количество дубликатов:  0\n"
     ]
    },
    {
     "data": {
      "text/html": [
       "<div>\n",
       "<style scoped>\n",
       "    .dataframe tbody tr th:only-of-type {\n",
       "        vertical-align: middle;\n",
       "    }\n",
       "\n",
       "    .dataframe tbody tr th {\n",
       "        vertical-align: top;\n",
       "    }\n",
       "\n",
       "    .dataframe thead th {\n",
       "        text-align: right;\n",
       "    }\n",
       "</style>\n",
       "<table border=\"1\" class=\"dataframe\">\n",
       "  <thead>\n",
       "    <tr style=\"text-align: right;\">\n",
       "      <th></th>\n",
       "      <th>user_id</th>\n",
       "      <th>age</th>\n",
       "      <th>churn_date</th>\n",
       "      <th>city</th>\n",
       "      <th>first_name</th>\n",
       "      <th>last_name</th>\n",
       "      <th>reg_date</th>\n",
       "      <th>tariff</th>\n",
       "    </tr>\n",
       "  </thead>\n",
       "  <tbody>\n",
       "    <tr>\n",
       "      <td>0</td>\n",
       "      <td>1000</td>\n",
       "      <td>52</td>\n",
       "      <td>NaN</td>\n",
       "      <td>Краснодар</td>\n",
       "      <td>Рафаил</td>\n",
       "      <td>Верещагин</td>\n",
       "      <td>2018-05-25</td>\n",
       "      <td>ultra</td>\n",
       "    </tr>\n",
       "    <tr>\n",
       "      <td>1</td>\n",
       "      <td>1001</td>\n",
       "      <td>41</td>\n",
       "      <td>NaN</td>\n",
       "      <td>Москва</td>\n",
       "      <td>Иван</td>\n",
       "      <td>Ежов</td>\n",
       "      <td>2018-11-01</td>\n",
       "      <td>smart</td>\n",
       "    </tr>\n",
       "    <tr>\n",
       "      <td>2</td>\n",
       "      <td>1002</td>\n",
       "      <td>59</td>\n",
       "      <td>NaN</td>\n",
       "      <td>Стерлитамак</td>\n",
       "      <td>Евгений</td>\n",
       "      <td>Абрамович</td>\n",
       "      <td>2018-06-17</td>\n",
       "      <td>smart</td>\n",
       "    </tr>\n",
       "    <tr>\n",
       "      <td>3</td>\n",
       "      <td>1003</td>\n",
       "      <td>23</td>\n",
       "      <td>NaN</td>\n",
       "      <td>Москва</td>\n",
       "      <td>Белла</td>\n",
       "      <td>Белякова</td>\n",
       "      <td>2018-08-17</td>\n",
       "      <td>ultra</td>\n",
       "    </tr>\n",
       "    <tr>\n",
       "      <td>4</td>\n",
       "      <td>1004</td>\n",
       "      <td>68</td>\n",
       "      <td>NaN</td>\n",
       "      <td>Новокузнецк</td>\n",
       "      <td>Татьяна</td>\n",
       "      <td>Авдеенко</td>\n",
       "      <td>2018-05-14</td>\n",
       "      <td>ultra</td>\n",
       "    </tr>\n",
       "    <tr>\n",
       "      <td>5</td>\n",
       "      <td>1005</td>\n",
       "      <td>67</td>\n",
       "      <td>NaN</td>\n",
       "      <td>Набережные Челны</td>\n",
       "      <td>Афанасий</td>\n",
       "      <td>Горлов</td>\n",
       "      <td>2018-01-25</td>\n",
       "      <td>smart</td>\n",
       "    </tr>\n",
       "    <tr>\n",
       "      <td>6</td>\n",
       "      <td>1006</td>\n",
       "      <td>21</td>\n",
       "      <td>NaN</td>\n",
       "      <td>Ульяновск</td>\n",
       "      <td>Леонид</td>\n",
       "      <td>Ермолаев</td>\n",
       "      <td>2018-02-26</td>\n",
       "      <td>smart</td>\n",
       "    </tr>\n",
       "    <tr>\n",
       "      <td>7</td>\n",
       "      <td>1007</td>\n",
       "      <td>65</td>\n",
       "      <td>NaN</td>\n",
       "      <td>Москва</td>\n",
       "      <td>Юна</td>\n",
       "      <td>Березина</td>\n",
       "      <td>2018-04-19</td>\n",
       "      <td>smart</td>\n",
       "    </tr>\n",
       "    <tr>\n",
       "      <td>8</td>\n",
       "      <td>1008</td>\n",
       "      <td>63</td>\n",
       "      <td>NaN</td>\n",
       "      <td>Челябинск</td>\n",
       "      <td>Рустэм</td>\n",
       "      <td>Пономарёв</td>\n",
       "      <td>2018-12-19</td>\n",
       "      <td>smart</td>\n",
       "    </tr>\n",
       "    <tr>\n",
       "      <td>9</td>\n",
       "      <td>1009</td>\n",
       "      <td>24</td>\n",
       "      <td>NaN</td>\n",
       "      <td>Пермь</td>\n",
       "      <td>Василиса</td>\n",
       "      <td>Блинова</td>\n",
       "      <td>2018-03-22</td>\n",
       "      <td>smart</td>\n",
       "    </tr>\n",
       "  </tbody>\n",
       "</table>\n",
       "</div>"
      ],
      "text/plain": [
       "   user_id  age churn_date              city first_name  last_name   reg_date  \\\n",
       "0     1000   52        NaN         Краснодар     Рафаил  Верещагин 2018-05-25   \n",
       "1     1001   41        NaN            Москва       Иван       Ежов 2018-11-01   \n",
       "2     1002   59        NaN       Стерлитамак    Евгений  Абрамович 2018-06-17   \n",
       "3     1003   23        NaN            Москва      Белла   Белякова 2018-08-17   \n",
       "4     1004   68        NaN       Новокузнецк    Татьяна   Авдеенко 2018-05-14   \n",
       "5     1005   67        NaN  Набережные Челны   Афанасий     Горлов 2018-01-25   \n",
       "6     1006   21        NaN         Ульяновск     Леонид   Ермолаев 2018-02-26   \n",
       "7     1007   65        NaN            Москва        Юна   Березина 2018-04-19   \n",
       "8     1008   63        NaN         Челябинск     Рустэм  Пономарёв 2018-12-19   \n",
       "9     1009   24        NaN             Пермь   Василиса    Блинова 2018-03-22   \n",
       "\n",
       "  tariff  \n",
       "0  ultra  \n",
       "1  smart  \n",
       "2  smart  \n",
       "3  ultra  \n",
       "4  ultra  \n",
       "5  smart  \n",
       "6  smart  \n",
       "7  smart  \n",
       "8  smart  \n",
       "9  smart  "
      ]
     },
     "metadata": {},
     "output_type": "display_data"
    },
    {
     "name": "stdout",
     "output_type": "stream",
     "text": [
      "1023    1\n",
      "1194    1\n",
      "1181    1\n",
      "1182    1\n",
      "1183    1\n",
      "       ..\n",
      "1362    1\n",
      "1363    1\n",
      "1364    1\n",
      "1365    1\n",
      "1024    1\n",
      "Name: user_id, Length: 500, dtype: int64\n",
      "53    14\n",
      "42    14\n",
      "63    13\n",
      "71    13\n",
      "64    13\n",
      "73    12\n",
      "21    12\n",
      "40    12\n",
      "39    11\n",
      "47    11\n",
      "29    11\n",
      "26    11\n",
      "37    11\n",
      "41    10\n",
      "36    10\n",
      "58    10\n",
      "45    10\n",
      "70    10\n",
      "52    10\n",
      "51     9\n",
      "27     9\n",
      "48     9\n",
      "50     9\n",
      "28     9\n",
      "30     9\n",
      "24     9\n",
      "20     9\n",
      "19     9\n",
      "56     9\n",
      "23     9\n",
      "68     9\n",
      "66     9\n",
      "65     9\n",
      "69     8\n",
      "62     8\n",
      "60     8\n",
      "44     8\n",
      "55     8\n",
      "25     7\n",
      "43     7\n",
      "67     7\n",
      "35     7\n",
      "74     7\n",
      "32     7\n",
      "31     7\n",
      "46     7\n",
      "75     6\n",
      "54     6\n",
      "59     6\n",
      "18     6\n",
      "33     5\n",
      "34     5\n",
      "38     5\n",
      "22     5\n",
      "72     5\n",
      "49     4\n",
      "57     4\n",
      "61     3\n",
      "Name: age, dtype: int64\n",
      "NaN           462\n",
      "2018-12-09      2\n",
      "2018-12-21      2\n",
      "2018-10-03      2\n",
      "2018-10-14      2\n",
      "2018-12-03      2\n",
      "2018-11-21      1\n",
      "2018-11-07      1\n",
      "2018-09-02      1\n",
      "2018-12-26      1\n",
      "2018-12-30      1\n",
      "2018-12-14      1\n",
      "2018-10-05      1\n",
      "2018-12-11      1\n",
      "2018-11-13      1\n",
      "2018-09-26      1\n",
      "2018-10-27      1\n",
      "2018-11-30      1\n",
      "2018-12-24      1\n",
      "2018-10-25      1\n",
      "2018-10-28      1\n",
      "2018-11-16      1\n",
      "2018-08-31      1\n",
      "2018-09-27      1\n",
      "2018-11-27      1\n",
      "2018-11-26      1\n",
      "2018-12-16      1\n",
      "2018-12-25      1\n",
      "2018-12-20      1\n",
      "2018-10-04      1\n",
      "2018-11-22      1\n",
      "2018-08-17      1\n",
      "2018-12-23      1\n",
      "2018-12-18      1\n",
      "Name: churn_date, dtype: int64\n",
      "Москва             99\n",
      "Санкт-Петербург    39\n",
      "Новосибирск        16\n",
      "Казань             14\n",
      "Омск               14\n",
      "                   ..\n",
      "Химки               1\n",
      "Подольск            1\n",
      "Архангельск         1\n",
      "Нижневартовск       1\n",
      "Иваново             1\n",
      "Name: city, Length: 76, dtype: int64\n",
      "Радим       6\n",
      "Пётр        5\n",
      "Леонид      5\n",
      "Артём       4\n",
      "Руслан      4\n",
      "           ..\n",
      "Инга        1\n",
      "Варлам      1\n",
      "Галина      1\n",
      "Светлана    1\n",
      "Анфиса      1\n",
      "Name: first_name, Length: 246, dtype: int64\n",
      "Андреенко    5\n",
      "Соловьев     3\n",
      "Абашкина     3\n",
      "Березина     3\n",
      "Аничкина     3\n",
      "            ..\n",
      "Уваров       1\n",
      "Беляев       1\n",
      "Алексеева    1\n",
      "Субботина    1\n",
      "Соколов      1\n",
      "Name: last_name, Length: 419, dtype: int64\n",
      "2018-05-28    8\n",
      "2018-10-05    5\n",
      "2018-01-04    5\n",
      "2018-11-16    5\n",
      "2018-04-03    5\n",
      "             ..\n",
      "2018-10-13    1\n",
      "2018-11-13    1\n",
      "2018-02-24    1\n",
      "2018-10-30    1\n",
      "2018-12-21    1\n",
      "Name: reg_date, Length: 270, dtype: int64\n",
      "smart    351\n",
      "ultra    149\n",
      "Name: tariff, dtype: int64\n"
     ]
    }
   ],
   "source": [
    "users.info()\n",
    "print('Количество дубликатов: ', users.duplicated().sum())\n",
    "users['reg_date'] = pd.to_datetime(users['reg_date'], format= '%Y-%m-%d')\n",
    "display(users.head(10))\n",
    "\n",
    "for c in users.columns:\n",
    "    print(users[c].value_counts(dropna=False))"
   ]
  },
  {
   "cell_type": "markdown",
   "metadata": {},
   "source": [
    "### Вывод\n",
    "Исходные данные успешно импортированы и изучены. Таблицы не содержат дублирующихся строк, имеющиеся пропуски не требуют замены."
   ]
  },
  {
   "cell_type": "markdown",
   "metadata": {},
   "source": [
    "## Предобработка данных"
   ]
  },
  {
   "cell_type": "markdown",
   "metadata": {},
   "source": [
    "<div class=\"alert alert-info\"> С помощью сводных таблиц выполняем следующие подсчёты для каждого пользователя:<br />\n",
    "<br /> \n",
    "1. количество сделанных звонков и израсходованных минут разговора по месяцам;<br />\n",
    "2. количество отправленных сообщений по месяцам;<br />\n",
    "3. объем израсходованного интернет-трафика по месяцам.<br /><br />\n",
    "Даты приводим к формату datetime64[M], чтобы сохранить только месяц и год.\n",
    "</div>"
   ]
  },
  {
   "cell_type": "code",
   "execution_count": 7,
   "metadata": {},
   "outputs": [
    {
     "data": {
      "text/html": [
       "<div>\n",
       "<style scoped>\n",
       "    .dataframe tbody tr th:only-of-type {\n",
       "        vertical-align: middle;\n",
       "    }\n",
       "\n",
       "    .dataframe tbody tr th {\n",
       "        vertical-align: top;\n",
       "    }\n",
       "\n",
       "    .dataframe thead th {\n",
       "        text-align: right;\n",
       "    }\n",
       "</style>\n",
       "<table border=\"1\" class=\"dataframe\">\n",
       "  <thead>\n",
       "    <tr style=\"text-align: right;\">\n",
       "      <th></th>\n",
       "      <th></th>\n",
       "      <th>calls</th>\n",
       "      <th>calls_minutes_sum</th>\n",
       "    </tr>\n",
       "    <tr>\n",
       "      <th>user_id</th>\n",
       "      <th>month</th>\n",
       "      <th></th>\n",
       "      <th></th>\n",
       "    </tr>\n",
       "  </thead>\n",
       "  <tbody>\n",
       "    <tr>\n",
       "      <td rowspan=\"5\" valign=\"top\">1000</td>\n",
       "      <td>2018-05-01</td>\n",
       "      <td>22</td>\n",
       "      <td>159</td>\n",
       "    </tr>\n",
       "    <tr>\n",
       "      <td>2018-06-01</td>\n",
       "      <td>43</td>\n",
       "      <td>172</td>\n",
       "    </tr>\n",
       "    <tr>\n",
       "      <td>2018-07-01</td>\n",
       "      <td>47</td>\n",
       "      <td>340</td>\n",
       "    </tr>\n",
       "    <tr>\n",
       "      <td>2018-08-01</td>\n",
       "      <td>52</td>\n",
       "      <td>408</td>\n",
       "    </tr>\n",
       "    <tr>\n",
       "      <td>2018-09-01</td>\n",
       "      <td>58</td>\n",
       "      <td>466</td>\n",
       "    </tr>\n",
       "    <tr>\n",
       "      <td>...</td>\n",
       "      <td>...</td>\n",
       "      <td>...</td>\n",
       "      <td>...</td>\n",
       "    </tr>\n",
       "    <tr>\n",
       "      <td>1498</td>\n",
       "      <td>2018-10-01</td>\n",
       "      <td>41</td>\n",
       "      <td>247</td>\n",
       "    </tr>\n",
       "    <tr>\n",
       "      <td rowspan=\"4\" valign=\"top\">1499</td>\n",
       "      <td>2018-09-01</td>\n",
       "      <td>9</td>\n",
       "      <td>70</td>\n",
       "    </tr>\n",
       "    <tr>\n",
       "      <td>2018-10-01</td>\n",
       "      <td>68</td>\n",
       "      <td>449</td>\n",
       "    </tr>\n",
       "    <tr>\n",
       "      <td>2018-11-01</td>\n",
       "      <td>74</td>\n",
       "      <td>612</td>\n",
       "    </tr>\n",
       "    <tr>\n",
       "      <td>2018-12-01</td>\n",
       "      <td>69</td>\n",
       "      <td>492</td>\n",
       "    </tr>\n",
       "  </tbody>\n",
       "</table>\n",
       "<p>3174 rows × 2 columns</p>\n",
       "</div>"
      ],
      "text/plain": [
       "                    calls  calls_minutes_sum\n",
       "user_id month                               \n",
       "1000    2018-05-01     22                159\n",
       "        2018-06-01     43                172\n",
       "        2018-07-01     47                340\n",
       "        2018-08-01     52                408\n",
       "        2018-09-01     58                466\n",
       "...                   ...                ...\n",
       "1498    2018-10-01     41                247\n",
       "1499    2018-09-01      9                 70\n",
       "        2018-10-01     68                449\n",
       "        2018-11-01     74                612\n",
       "        2018-12-01     69                492\n",
       "\n",
       "[3174 rows x 2 columns]"
      ]
     },
     "execution_count": 7,
     "metadata": {},
     "output_type": "execute_result"
    }
   ],
   "source": [
    "calls['month'] = calls['call_date'].astype('datetime64[M]')\n",
    "calls_pivot = calls.pivot_table(index =['user_id', 'month'], values= 'duration', aggfunc = ['count', 'sum'])\n",
    "calls_pivot.columns=['calls','calls_minutes_sum']\n",
    "calls_pivot"
   ]
  },
  {
   "cell_type": "code",
   "execution_count": 8,
   "metadata": {},
   "outputs": [
    {
     "data": {
      "text/html": [
       "<div>\n",
       "<style scoped>\n",
       "    .dataframe tbody tr th:only-of-type {\n",
       "        vertical-align: middle;\n",
       "    }\n",
       "\n",
       "    .dataframe tbody tr th {\n",
       "        vertical-align: top;\n",
       "    }\n",
       "\n",
       "    .dataframe thead th {\n",
       "        text-align: right;\n",
       "    }\n",
       "</style>\n",
       "<table border=\"1\" class=\"dataframe\">\n",
       "  <thead>\n",
       "    <tr style=\"text-align: right;\">\n",
       "      <th></th>\n",
       "      <th></th>\n",
       "      <th>sms</th>\n",
       "    </tr>\n",
       "    <tr>\n",
       "      <th>user_id</th>\n",
       "      <th>month</th>\n",
       "      <th></th>\n",
       "    </tr>\n",
       "  </thead>\n",
       "  <tbody>\n",
       "    <tr>\n",
       "      <td rowspan=\"5\" valign=\"top\">1000</td>\n",
       "      <td>2018-05-01</td>\n",
       "      <td>22</td>\n",
       "    </tr>\n",
       "    <tr>\n",
       "      <td>2018-06-01</td>\n",
       "      <td>60</td>\n",
       "    </tr>\n",
       "    <tr>\n",
       "      <td>2018-07-01</td>\n",
       "      <td>75</td>\n",
       "    </tr>\n",
       "    <tr>\n",
       "      <td>2018-08-01</td>\n",
       "      <td>81</td>\n",
       "    </tr>\n",
       "    <tr>\n",
       "      <td>2018-09-01</td>\n",
       "      <td>57</td>\n",
       "    </tr>\n",
       "    <tr>\n",
       "      <td>...</td>\n",
       "      <td>...</td>\n",
       "      <td>...</td>\n",
       "    </tr>\n",
       "    <tr>\n",
       "      <td>1498</td>\n",
       "      <td>2018-10-01</td>\n",
       "      <td>42</td>\n",
       "    </tr>\n",
       "    <tr>\n",
       "      <td rowspan=\"4\" valign=\"top\">1499</td>\n",
       "      <td>2018-09-01</td>\n",
       "      <td>11</td>\n",
       "    </tr>\n",
       "    <tr>\n",
       "      <td>2018-10-01</td>\n",
       "      <td>48</td>\n",
       "    </tr>\n",
       "    <tr>\n",
       "      <td>2018-11-01</td>\n",
       "      <td>59</td>\n",
       "    </tr>\n",
       "    <tr>\n",
       "      <td>2018-12-01</td>\n",
       "      <td>66</td>\n",
       "    </tr>\n",
       "  </tbody>\n",
       "</table>\n",
       "<p>2717 rows × 1 columns</p>\n",
       "</div>"
      ],
      "text/plain": [
       "                    sms\n",
       "user_id month          \n",
       "1000    2018-05-01   22\n",
       "        2018-06-01   60\n",
       "        2018-07-01   75\n",
       "        2018-08-01   81\n",
       "        2018-09-01   57\n",
       "...                 ...\n",
       "1498    2018-10-01   42\n",
       "1499    2018-09-01   11\n",
       "        2018-10-01   48\n",
       "        2018-11-01   59\n",
       "        2018-12-01   66\n",
       "\n",
       "[2717 rows x 1 columns]"
      ]
     },
     "execution_count": 8,
     "metadata": {},
     "output_type": "execute_result"
    }
   ],
   "source": [
    "messages['month'] = messages['message_date'].astype('datetime64[M]')\n",
    "messages_pivot = messages.pivot_table(index =['user_id', 'month'], values='id', aggfunc = 'count')\n",
    "messages_pivot.columns = ['sms']\n",
    "messages_pivot"
   ]
  },
  {
   "cell_type": "markdown",
   "metadata": {},
   "source": [
    "<div class=\"alert alert-info\"> «Мегалайн» всегда округляет мегабайты — до гигабайт. Для веб-трафика отдельные сессии не считаются. Вместо этого общая сумма за месяц округляется в бо́льшую сторону. Если абонент использует 1025 мегабайт в этом месяце, с него возьмут плату за 2 гигабайта. <br /> Исходя из этого с помощью функции округляем месячное количество трафика до целых Гб, записываем результат в новую колонку.\n",
    "</div>"
   ]
  },
  {
   "cell_type": "code",
   "execution_count": 9,
   "metadata": {},
   "outputs": [
    {
     "data": {
      "text/html": [
       "<div>\n",
       "<style scoped>\n",
       "    .dataframe tbody tr th:only-of-type {\n",
       "        vertical-align: middle;\n",
       "    }\n",
       "\n",
       "    .dataframe tbody tr th {\n",
       "        vertical-align: top;\n",
       "    }\n",
       "\n",
       "    .dataframe thead th {\n",
       "        text-align: right;\n",
       "    }\n",
       "</style>\n",
       "<table border=\"1\" class=\"dataframe\">\n",
       "  <thead>\n",
       "    <tr style=\"text-align: right;\">\n",
       "      <th></th>\n",
       "      <th></th>\n",
       "      <th>mb_used</th>\n",
       "      <th>gb_used</th>\n",
       "    </tr>\n",
       "    <tr>\n",
       "      <th>user_id</th>\n",
       "      <th>month</th>\n",
       "      <th></th>\n",
       "      <th></th>\n",
       "    </tr>\n",
       "  </thead>\n",
       "  <tbody>\n",
       "    <tr>\n",
       "      <td rowspan=\"5\" valign=\"top\">1000</td>\n",
       "      <td>2018-05-01</td>\n",
       "      <td>2,253.49</td>\n",
       "      <td>3</td>\n",
       "    </tr>\n",
       "    <tr>\n",
       "      <td>2018-06-01</td>\n",
       "      <td>23,233.77</td>\n",
       "      <td>23</td>\n",
       "    </tr>\n",
       "    <tr>\n",
       "      <td>2018-07-01</td>\n",
       "      <td>14,003.64</td>\n",
       "      <td>14</td>\n",
       "    </tr>\n",
       "    <tr>\n",
       "      <td>2018-08-01</td>\n",
       "      <td>14,055.93</td>\n",
       "      <td>14</td>\n",
       "    </tr>\n",
       "    <tr>\n",
       "      <td>2018-09-01</td>\n",
       "      <td>14,568.91</td>\n",
       "      <td>15</td>\n",
       "    </tr>\n",
       "    <tr>\n",
       "      <td>...</td>\n",
       "      <td>...</td>\n",
       "      <td>...</td>\n",
       "      <td>...</td>\n",
       "    </tr>\n",
       "    <tr>\n",
       "      <td>1498</td>\n",
       "      <td>2018-10-01</td>\n",
       "      <td>20,579.36</td>\n",
       "      <td>21</td>\n",
       "    </tr>\n",
       "    <tr>\n",
       "      <td rowspan=\"4\" valign=\"top\">1499</td>\n",
       "      <td>2018-09-01</td>\n",
       "      <td>1,845.75</td>\n",
       "      <td>2</td>\n",
       "    </tr>\n",
       "    <tr>\n",
       "      <td>2018-10-01</td>\n",
       "      <td>17,788.51</td>\n",
       "      <td>18</td>\n",
       "    </tr>\n",
       "    <tr>\n",
       "      <td>2018-11-01</td>\n",
       "      <td>17,963.31</td>\n",
       "      <td>18</td>\n",
       "    </tr>\n",
       "    <tr>\n",
       "      <td>2018-12-01</td>\n",
       "      <td>13,055.58</td>\n",
       "      <td>13</td>\n",
       "    </tr>\n",
       "  </tbody>\n",
       "</table>\n",
       "<p>3203 rows × 2 columns</p>\n",
       "</div>"
      ],
      "text/plain": [
       "                     mb_used  gb_used\n",
       "user_id month                        \n",
       "1000    2018-05-01  2,253.49        3\n",
       "        2018-06-01 23,233.77       23\n",
       "        2018-07-01 14,003.64       14\n",
       "        2018-08-01 14,055.93       14\n",
       "        2018-09-01 14,568.91       15\n",
       "...                      ...      ...\n",
       "1498    2018-10-01 20,579.36       21\n",
       "1499    2018-09-01  1,845.75        2\n",
       "        2018-10-01 17,788.51       18\n",
       "        2018-11-01 17,963.31       18\n",
       "        2018-12-01 13,055.58       13\n",
       "\n",
       "[3203 rows x 2 columns]"
      ]
     },
     "execution_count": 9,
     "metadata": {},
     "output_type": "execute_result"
    }
   ],
   "source": [
    "internet['month'] = internet['session_date'].astype('datetime64[M]')\n",
    "internet_pivot = internet.pivot_table(index =['user_id', 'month'], values='mb_used', aggfunc = 'sum')\n",
    "\n",
    "def gb_round(mb_used):\n",
    "    return int(math.ceil(mb_used / 1024))\n",
    "internet_pivot['gb_used']  = internet_pivot['mb_used'].apply(gb_round)  \n",
    "internet_pivot"
   ]
  },
  {
   "cell_type": "markdown",
   "metadata": {},
   "source": [
    "<div class=\"alert alert-info\"> Затем поочерёдно объединяем сводные таблицы по колонкам user_id и month.\n",
    "</div>"
   ]
  },
  {
   "cell_type": "code",
   "execution_count": 10,
   "metadata": {},
   "outputs": [],
   "source": [
    "calls_pivot.reset_index(inplace=True)\n",
    "messages_pivot.reset_index(inplace=True)\n",
    "internet_pivot.reset_index(inplace=True)\n"
   ]
  },
  {
   "cell_type": "code",
   "execution_count": 11,
   "metadata": {},
   "outputs": [
    {
     "data": {
      "text/html": [
       "<div>\n",
       "<style scoped>\n",
       "    .dataframe tbody tr th:only-of-type {\n",
       "        vertical-align: middle;\n",
       "    }\n",
       "\n",
       "    .dataframe tbody tr th {\n",
       "        vertical-align: top;\n",
       "    }\n",
       "\n",
       "    .dataframe thead th {\n",
       "        text-align: right;\n",
       "    }\n",
       "</style>\n",
       "<table border=\"1\" class=\"dataframe\">\n",
       "  <thead>\n",
       "    <tr style=\"text-align: right;\">\n",
       "      <th></th>\n",
       "      <th>user_id</th>\n",
       "      <th>month</th>\n",
       "      <th>calls</th>\n",
       "      <th>calls_minutes_sum</th>\n",
       "      <th>sms</th>\n",
       "    </tr>\n",
       "  </thead>\n",
       "  <tbody>\n",
       "    <tr>\n",
       "      <td>0</td>\n",
       "      <td>1000</td>\n",
       "      <td>2018-05-01</td>\n",
       "      <td>22.00</td>\n",
       "      <td>159.00</td>\n",
       "      <td>22.00</td>\n",
       "    </tr>\n",
       "    <tr>\n",
       "      <td>1</td>\n",
       "      <td>1000</td>\n",
       "      <td>2018-06-01</td>\n",
       "      <td>43.00</td>\n",
       "      <td>172.00</td>\n",
       "      <td>60.00</td>\n",
       "    </tr>\n",
       "    <tr>\n",
       "      <td>2</td>\n",
       "      <td>1000</td>\n",
       "      <td>2018-07-01</td>\n",
       "      <td>47.00</td>\n",
       "      <td>340.00</td>\n",
       "      <td>75.00</td>\n",
       "    </tr>\n",
       "    <tr>\n",
       "      <td>3</td>\n",
       "      <td>1000</td>\n",
       "      <td>2018-08-01</td>\n",
       "      <td>52.00</td>\n",
       "      <td>408.00</td>\n",
       "      <td>81.00</td>\n",
       "    </tr>\n",
       "    <tr>\n",
       "      <td>4</td>\n",
       "      <td>1000</td>\n",
       "      <td>2018-09-01</td>\n",
       "      <td>58.00</td>\n",
       "      <td>466.00</td>\n",
       "      <td>57.00</td>\n",
       "    </tr>\n",
       "    <tr>\n",
       "      <td>...</td>\n",
       "      <td>...</td>\n",
       "      <td>...</td>\n",
       "      <td>...</td>\n",
       "      <td>...</td>\n",
       "      <td>...</td>\n",
       "    </tr>\n",
       "    <tr>\n",
       "      <td>3208</td>\n",
       "      <td>1489</td>\n",
       "      <td>2018-08-01</td>\n",
       "      <td>nan</td>\n",
       "      <td>nan</td>\n",
       "      <td>17.00</td>\n",
       "    </tr>\n",
       "    <tr>\n",
       "      <td>3209</td>\n",
       "      <td>1489</td>\n",
       "      <td>2018-09-01</td>\n",
       "      <td>nan</td>\n",
       "      <td>nan</td>\n",
       "      <td>32.00</td>\n",
       "    </tr>\n",
       "    <tr>\n",
       "      <td>3210</td>\n",
       "      <td>1489</td>\n",
       "      <td>2018-10-01</td>\n",
       "      <td>nan</td>\n",
       "      <td>nan</td>\n",
       "      <td>21.00</td>\n",
       "    </tr>\n",
       "    <tr>\n",
       "      <td>3211</td>\n",
       "      <td>1489</td>\n",
       "      <td>2018-11-01</td>\n",
       "      <td>nan</td>\n",
       "      <td>nan</td>\n",
       "      <td>20.00</td>\n",
       "    </tr>\n",
       "    <tr>\n",
       "      <td>3212</td>\n",
       "      <td>1489</td>\n",
       "      <td>2018-12-01</td>\n",
       "      <td>nan</td>\n",
       "      <td>nan</td>\n",
       "      <td>35.00</td>\n",
       "    </tr>\n",
       "  </tbody>\n",
       "</table>\n",
       "<p>3213 rows × 5 columns</p>\n",
       "</div>"
      ],
      "text/plain": [
       "      user_id      month  calls  calls_minutes_sum   sms\n",
       "0        1000 2018-05-01  22.00             159.00 22.00\n",
       "1        1000 2018-06-01  43.00             172.00 60.00\n",
       "2        1000 2018-07-01  47.00             340.00 75.00\n",
       "3        1000 2018-08-01  52.00             408.00 81.00\n",
       "4        1000 2018-09-01  58.00             466.00 57.00\n",
       "...       ...        ...    ...                ...   ...\n",
       "3208     1489 2018-08-01    nan                nan 17.00\n",
       "3209     1489 2018-09-01    nan                nan 32.00\n",
       "3210     1489 2018-10-01    nan                nan 21.00\n",
       "3211     1489 2018-11-01    nan                nan 20.00\n",
       "3212     1489 2018-12-01    nan                nan 35.00\n",
       "\n",
       "[3213 rows x 5 columns]"
      ]
     },
     "execution_count": 11,
     "metadata": {},
     "output_type": "execute_result"
    }
   ],
   "source": [
    "data_merged = calls_pivot.merge(messages_pivot, on=['user_id', 'month'], how='outer')\n",
    "data_merged"
   ]
  },
  {
   "cell_type": "code",
   "execution_count": 12,
   "metadata": {},
   "outputs": [
    {
     "data": {
      "text/html": [
       "<div>\n",
       "<style scoped>\n",
       "    .dataframe tbody tr th:only-of-type {\n",
       "        vertical-align: middle;\n",
       "    }\n",
       "\n",
       "    .dataframe tbody tr th {\n",
       "        vertical-align: top;\n",
       "    }\n",
       "\n",
       "    .dataframe thead th {\n",
       "        text-align: right;\n",
       "    }\n",
       "</style>\n",
       "<table border=\"1\" class=\"dataframe\">\n",
       "  <thead>\n",
       "    <tr style=\"text-align: right;\">\n",
       "      <th></th>\n",
       "      <th>user_id</th>\n",
       "      <th>month</th>\n",
       "      <th>calls</th>\n",
       "      <th>calls_minutes_sum</th>\n",
       "      <th>sms</th>\n",
       "      <th>mb_used</th>\n",
       "      <th>gb_used</th>\n",
       "    </tr>\n",
       "  </thead>\n",
       "  <tbody>\n",
       "    <tr>\n",
       "      <td>0</td>\n",
       "      <td>1000</td>\n",
       "      <td>2018-05-01</td>\n",
       "      <td>22.00</td>\n",
       "      <td>159.00</td>\n",
       "      <td>22.00</td>\n",
       "      <td>2,253.49</td>\n",
       "      <td>3.00</td>\n",
       "    </tr>\n",
       "    <tr>\n",
       "      <td>1</td>\n",
       "      <td>1000</td>\n",
       "      <td>2018-06-01</td>\n",
       "      <td>43.00</td>\n",
       "      <td>172.00</td>\n",
       "      <td>60.00</td>\n",
       "      <td>23,233.77</td>\n",
       "      <td>23.00</td>\n",
       "    </tr>\n",
       "    <tr>\n",
       "      <td>2</td>\n",
       "      <td>1000</td>\n",
       "      <td>2018-07-01</td>\n",
       "      <td>47.00</td>\n",
       "      <td>340.00</td>\n",
       "      <td>75.00</td>\n",
       "      <td>14,003.64</td>\n",
       "      <td>14.00</td>\n",
       "    </tr>\n",
       "    <tr>\n",
       "      <td>3</td>\n",
       "      <td>1000</td>\n",
       "      <td>2018-08-01</td>\n",
       "      <td>52.00</td>\n",
       "      <td>408.00</td>\n",
       "      <td>81.00</td>\n",
       "      <td>14,055.93</td>\n",
       "      <td>14.00</td>\n",
       "    </tr>\n",
       "    <tr>\n",
       "      <td>4</td>\n",
       "      <td>1000</td>\n",
       "      <td>2018-09-01</td>\n",
       "      <td>58.00</td>\n",
       "      <td>466.00</td>\n",
       "      <td>57.00</td>\n",
       "      <td>14,568.91</td>\n",
       "      <td>15.00</td>\n",
       "    </tr>\n",
       "    <tr>\n",
       "      <td>...</td>\n",
       "      <td>...</td>\n",
       "      <td>...</td>\n",
       "      <td>...</td>\n",
       "      <td>...</td>\n",
       "      <td>...</td>\n",
       "      <td>...</td>\n",
       "      <td>...</td>\n",
       "    </tr>\n",
       "    <tr>\n",
       "      <td>3209</td>\n",
       "      <td>1489</td>\n",
       "      <td>2018-09-01</td>\n",
       "      <td>nan</td>\n",
       "      <td>nan</td>\n",
       "      <td>32.00</td>\n",
       "      <td>17,206.30</td>\n",
       "      <td>17.00</td>\n",
       "    </tr>\n",
       "    <tr>\n",
       "      <td>3210</td>\n",
       "      <td>1489</td>\n",
       "      <td>2018-10-01</td>\n",
       "      <td>nan</td>\n",
       "      <td>nan</td>\n",
       "      <td>21.00</td>\n",
       "      <td>19,559.44</td>\n",
       "      <td>20.00</td>\n",
       "    </tr>\n",
       "    <tr>\n",
       "      <td>3211</td>\n",
       "      <td>1489</td>\n",
       "      <td>2018-11-01</td>\n",
       "      <td>nan</td>\n",
       "      <td>nan</td>\n",
       "      <td>20.00</td>\n",
       "      <td>17,491.56</td>\n",
       "      <td>18.00</td>\n",
       "    </tr>\n",
       "    <tr>\n",
       "      <td>3212</td>\n",
       "      <td>1489</td>\n",
       "      <td>2018-12-01</td>\n",
       "      <td>nan</td>\n",
       "      <td>nan</td>\n",
       "      <td>35.00</td>\n",
       "      <td>17,322.51</td>\n",
       "      <td>17.00</td>\n",
       "    </tr>\n",
       "    <tr>\n",
       "      <td>3213</td>\n",
       "      <td>1476</td>\n",
       "      <td>2018-04-01</td>\n",
       "      <td>nan</td>\n",
       "      <td>nan</td>\n",
       "      <td>nan</td>\n",
       "      <td>530.78</td>\n",
       "      <td>1.00</td>\n",
       "    </tr>\n",
       "  </tbody>\n",
       "</table>\n",
       "<p>3214 rows × 7 columns</p>\n",
       "</div>"
      ],
      "text/plain": [
       "      user_id      month  calls  calls_minutes_sum   sms   mb_used  gb_used\n",
       "0        1000 2018-05-01  22.00             159.00 22.00  2,253.49     3.00\n",
       "1        1000 2018-06-01  43.00             172.00 60.00 23,233.77    23.00\n",
       "2        1000 2018-07-01  47.00             340.00 75.00 14,003.64    14.00\n",
       "3        1000 2018-08-01  52.00             408.00 81.00 14,055.93    14.00\n",
       "4        1000 2018-09-01  58.00             466.00 57.00 14,568.91    15.00\n",
       "...       ...        ...    ...                ...   ...       ...      ...\n",
       "3209     1489 2018-09-01    nan                nan 32.00 17,206.30    17.00\n",
       "3210     1489 2018-10-01    nan                nan 21.00 19,559.44    20.00\n",
       "3211     1489 2018-11-01    nan                nan 20.00 17,491.56    18.00\n",
       "3212     1489 2018-12-01    nan                nan 35.00 17,322.51    17.00\n",
       "3213     1476 2018-04-01    nan                nan   nan    530.78     1.00\n",
       "\n",
       "[3214 rows x 7 columns]"
      ]
     },
     "execution_count": 12,
     "metadata": {},
     "output_type": "execute_result"
    }
   ],
   "source": [
    "data_merged = data_merged.merge(internet_pivot, on=['user_id', 'month'], how='outer')\n",
    "data_merged"
   ]
  },
  {
   "cell_type": "code",
   "execution_count": 13,
   "metadata": {},
   "outputs": [
    {
     "data": {
      "text/html": [
       "<div>\n",
       "<style scoped>\n",
       "    .dataframe tbody tr th:only-of-type {\n",
       "        vertical-align: middle;\n",
       "    }\n",
       "\n",
       "    .dataframe tbody tr th {\n",
       "        vertical-align: top;\n",
       "    }\n",
       "\n",
       "    .dataframe thead th {\n",
       "        text-align: right;\n",
       "    }\n",
       "</style>\n",
       "<table border=\"1\" class=\"dataframe\">\n",
       "  <thead>\n",
       "    <tr style=\"text-align: right;\">\n",
       "      <th></th>\n",
       "      <th>user_id</th>\n",
       "      <th>age</th>\n",
       "      <th>churn_date</th>\n",
       "      <th>city</th>\n",
       "      <th>first_name</th>\n",
       "      <th>last_name</th>\n",
       "      <th>reg_date</th>\n",
       "      <th>tariff</th>\n",
       "      <th>month</th>\n",
       "      <th>calls</th>\n",
       "      <th>calls_minutes_sum</th>\n",
       "      <th>sms</th>\n",
       "      <th>mb_used</th>\n",
       "      <th>gb_used</th>\n",
       "    </tr>\n",
       "  </thead>\n",
       "  <tbody>\n",
       "    <tr>\n",
       "      <td>0</td>\n",
       "      <td>1000</td>\n",
       "      <td>52</td>\n",
       "      <td>NaN</td>\n",
       "      <td>Краснодар</td>\n",
       "      <td>Рафаил</td>\n",
       "      <td>Верещагин</td>\n",
       "      <td>2018-05-25</td>\n",
       "      <td>ultra</td>\n",
       "      <td>2018-05-01</td>\n",
       "      <td>22.00</td>\n",
       "      <td>159.00</td>\n",
       "      <td>22.00</td>\n",
       "      <td>2,253.49</td>\n",
       "      <td>3.00</td>\n",
       "    </tr>\n",
       "    <tr>\n",
       "      <td>1</td>\n",
       "      <td>1000</td>\n",
       "      <td>52</td>\n",
       "      <td>NaN</td>\n",
       "      <td>Краснодар</td>\n",
       "      <td>Рафаил</td>\n",
       "      <td>Верещагин</td>\n",
       "      <td>2018-05-25</td>\n",
       "      <td>ultra</td>\n",
       "      <td>2018-06-01</td>\n",
       "      <td>43.00</td>\n",
       "      <td>172.00</td>\n",
       "      <td>60.00</td>\n",
       "      <td>23,233.77</td>\n",
       "      <td>23.00</td>\n",
       "    </tr>\n",
       "    <tr>\n",
       "      <td>2</td>\n",
       "      <td>1000</td>\n",
       "      <td>52</td>\n",
       "      <td>NaN</td>\n",
       "      <td>Краснодар</td>\n",
       "      <td>Рафаил</td>\n",
       "      <td>Верещагин</td>\n",
       "      <td>2018-05-25</td>\n",
       "      <td>ultra</td>\n",
       "      <td>2018-07-01</td>\n",
       "      <td>47.00</td>\n",
       "      <td>340.00</td>\n",
       "      <td>75.00</td>\n",
       "      <td>14,003.64</td>\n",
       "      <td>14.00</td>\n",
       "    </tr>\n",
       "    <tr>\n",
       "      <td>3</td>\n",
       "      <td>1000</td>\n",
       "      <td>52</td>\n",
       "      <td>NaN</td>\n",
       "      <td>Краснодар</td>\n",
       "      <td>Рафаил</td>\n",
       "      <td>Верещагин</td>\n",
       "      <td>2018-05-25</td>\n",
       "      <td>ultra</td>\n",
       "      <td>2018-08-01</td>\n",
       "      <td>52.00</td>\n",
       "      <td>408.00</td>\n",
       "      <td>81.00</td>\n",
       "      <td>14,055.93</td>\n",
       "      <td>14.00</td>\n",
       "    </tr>\n",
       "    <tr>\n",
       "      <td>4</td>\n",
       "      <td>1000</td>\n",
       "      <td>52</td>\n",
       "      <td>NaN</td>\n",
       "      <td>Краснодар</td>\n",
       "      <td>Рафаил</td>\n",
       "      <td>Верещагин</td>\n",
       "      <td>2018-05-25</td>\n",
       "      <td>ultra</td>\n",
       "      <td>2018-09-01</td>\n",
       "      <td>58.00</td>\n",
       "      <td>466.00</td>\n",
       "      <td>57.00</td>\n",
       "      <td>14,568.91</td>\n",
       "      <td>15.00</td>\n",
       "    </tr>\n",
       "    <tr>\n",
       "      <td>...</td>\n",
       "      <td>...</td>\n",
       "      <td>...</td>\n",
       "      <td>...</td>\n",
       "      <td>...</td>\n",
       "      <td>...</td>\n",
       "      <td>...</td>\n",
       "      <td>...</td>\n",
       "      <td>...</td>\n",
       "      <td>...</td>\n",
       "      <td>...</td>\n",
       "      <td>...</td>\n",
       "      <td>...</td>\n",
       "      <td>...</td>\n",
       "      <td>...</td>\n",
       "    </tr>\n",
       "    <tr>\n",
       "      <td>3211</td>\n",
       "      <td>1498</td>\n",
       "      <td>68</td>\n",
       "      <td>2018-10-25</td>\n",
       "      <td>Владикавказ</td>\n",
       "      <td>Всеволод</td>\n",
       "      <td>Акимчин</td>\n",
       "      <td>2018-07-19</td>\n",
       "      <td>smart</td>\n",
       "      <td>2018-10-01</td>\n",
       "      <td>41.00</td>\n",
       "      <td>247.00</td>\n",
       "      <td>42.00</td>\n",
       "      <td>20,579.36</td>\n",
       "      <td>21.00</td>\n",
       "    </tr>\n",
       "    <tr>\n",
       "      <td>3212</td>\n",
       "      <td>1499</td>\n",
       "      <td>35</td>\n",
       "      <td>NaN</td>\n",
       "      <td>Пермь</td>\n",
       "      <td>Гектор</td>\n",
       "      <td>Корнилов</td>\n",
       "      <td>2018-09-27</td>\n",
       "      <td>smart</td>\n",
       "      <td>2018-09-01</td>\n",
       "      <td>9.00</td>\n",
       "      <td>70.00</td>\n",
       "      <td>11.00</td>\n",
       "      <td>1,845.75</td>\n",
       "      <td>2.00</td>\n",
       "    </tr>\n",
       "    <tr>\n",
       "      <td>3213</td>\n",
       "      <td>1499</td>\n",
       "      <td>35</td>\n",
       "      <td>NaN</td>\n",
       "      <td>Пермь</td>\n",
       "      <td>Гектор</td>\n",
       "      <td>Корнилов</td>\n",
       "      <td>2018-09-27</td>\n",
       "      <td>smart</td>\n",
       "      <td>2018-10-01</td>\n",
       "      <td>68.00</td>\n",
       "      <td>449.00</td>\n",
       "      <td>48.00</td>\n",
       "      <td>17,788.51</td>\n",
       "      <td>18.00</td>\n",
       "    </tr>\n",
       "    <tr>\n",
       "      <td>3214</td>\n",
       "      <td>1499</td>\n",
       "      <td>35</td>\n",
       "      <td>NaN</td>\n",
       "      <td>Пермь</td>\n",
       "      <td>Гектор</td>\n",
       "      <td>Корнилов</td>\n",
       "      <td>2018-09-27</td>\n",
       "      <td>smart</td>\n",
       "      <td>2018-11-01</td>\n",
       "      <td>74.00</td>\n",
       "      <td>612.00</td>\n",
       "      <td>59.00</td>\n",
       "      <td>17,963.31</td>\n",
       "      <td>18.00</td>\n",
       "    </tr>\n",
       "    <tr>\n",
       "      <td>3215</td>\n",
       "      <td>1499</td>\n",
       "      <td>35</td>\n",
       "      <td>NaN</td>\n",
       "      <td>Пермь</td>\n",
       "      <td>Гектор</td>\n",
       "      <td>Корнилов</td>\n",
       "      <td>2018-09-27</td>\n",
       "      <td>smart</td>\n",
       "      <td>2018-12-01</td>\n",
       "      <td>69.00</td>\n",
       "      <td>492.00</td>\n",
       "      <td>66.00</td>\n",
       "      <td>13,055.58</td>\n",
       "      <td>13.00</td>\n",
       "    </tr>\n",
       "  </tbody>\n",
       "</table>\n",
       "<p>3216 rows × 14 columns</p>\n",
       "</div>"
      ],
      "text/plain": [
       "      user_id  age  churn_date         city first_name  last_name   reg_date  \\\n",
       "0        1000   52         NaN    Краснодар     Рафаил  Верещагин 2018-05-25   \n",
       "1        1000   52         NaN    Краснодар     Рафаил  Верещагин 2018-05-25   \n",
       "2        1000   52         NaN    Краснодар     Рафаил  Верещагин 2018-05-25   \n",
       "3        1000   52         NaN    Краснодар     Рафаил  Верещагин 2018-05-25   \n",
       "4        1000   52         NaN    Краснодар     Рафаил  Верещагин 2018-05-25   \n",
       "...       ...  ...         ...          ...        ...        ...        ...   \n",
       "3211     1498   68  2018-10-25  Владикавказ   Всеволод    Акимчин 2018-07-19   \n",
       "3212     1499   35         NaN        Пермь     Гектор   Корнилов 2018-09-27   \n",
       "3213     1499   35         NaN        Пермь     Гектор   Корнилов 2018-09-27   \n",
       "3214     1499   35         NaN        Пермь     Гектор   Корнилов 2018-09-27   \n",
       "3215     1499   35         NaN        Пермь     Гектор   Корнилов 2018-09-27   \n",
       "\n",
       "     tariff      month  calls  calls_minutes_sum   sms   mb_used  gb_used  \n",
       "0     ultra 2018-05-01  22.00             159.00 22.00  2,253.49     3.00  \n",
       "1     ultra 2018-06-01  43.00             172.00 60.00 23,233.77    23.00  \n",
       "2     ultra 2018-07-01  47.00             340.00 75.00 14,003.64    14.00  \n",
       "3     ultra 2018-08-01  52.00             408.00 81.00 14,055.93    14.00  \n",
       "4     ultra 2018-09-01  58.00             466.00 57.00 14,568.91    15.00  \n",
       "...     ...        ...    ...                ...   ...       ...      ...  \n",
       "3211  smart 2018-10-01  41.00             247.00 42.00 20,579.36    21.00  \n",
       "3212  smart 2018-09-01   9.00              70.00 11.00  1,845.75     2.00  \n",
       "3213  smart 2018-10-01  68.00             449.00 48.00 17,788.51    18.00  \n",
       "3214  smart 2018-11-01  74.00             612.00 59.00 17,963.31    18.00  \n",
       "3215  smart 2018-12-01  69.00             492.00 66.00 13,055.58    13.00  \n",
       "\n",
       "[3216 rows x 14 columns]"
      ]
     },
     "execution_count": 13,
     "metadata": {},
     "output_type": "execute_result"
    }
   ],
   "source": [
    "data_merged = users.merge(data_merged, on='user_id', how='outer')\n",
    "data_merged"
   ]
  },
  {
   "cell_type": "markdown",
   "metadata": {},
   "source": [
    "<div class=\"alert alert-info\"> Создаём функцию для расчета помесячной выручки с каждого пользователя (вычитаем бесплатный лимит из суммарного количества звонков, сообщений и интернет-трафика; остаток умножаем на значение из тарифного плана; прибавляем абонентскую плату, соответствующую тарифному плану). Полученные значения записываем в колонку revenue_month объединённой таблицы.\n",
    "</div>"
   ]
  },
  {
   "cell_type": "code",
   "execution_count": 14,
   "metadata": {},
   "outputs": [
    {
     "data": {
      "text/html": [
       "<div>\n",
       "<style scoped>\n",
       "    .dataframe tbody tr th:only-of-type {\n",
       "        vertical-align: middle;\n",
       "    }\n",
       "\n",
       "    .dataframe tbody tr th {\n",
       "        vertical-align: top;\n",
       "    }\n",
       "\n",
       "    .dataframe thead th {\n",
       "        text-align: right;\n",
       "    }\n",
       "</style>\n",
       "<table border=\"1\" class=\"dataframe\">\n",
       "  <thead>\n",
       "    <tr style=\"text-align: right;\">\n",
       "      <th></th>\n",
       "      <th>user_id</th>\n",
       "      <th>age</th>\n",
       "      <th>churn_date</th>\n",
       "      <th>city</th>\n",
       "      <th>first_name</th>\n",
       "      <th>last_name</th>\n",
       "      <th>reg_date</th>\n",
       "      <th>tariff</th>\n",
       "      <th>month</th>\n",
       "      <th>calls</th>\n",
       "      <th>calls_minutes_sum</th>\n",
       "      <th>sms</th>\n",
       "      <th>mb_used</th>\n",
       "      <th>gb_used</th>\n",
       "      <th>revenue_month</th>\n",
       "    </tr>\n",
       "  </thead>\n",
       "  <tbody>\n",
       "    <tr>\n",
       "      <td>0</td>\n",
       "      <td>1000</td>\n",
       "      <td>52</td>\n",
       "      <td>NaN</td>\n",
       "      <td>Краснодар</td>\n",
       "      <td>Рафаил</td>\n",
       "      <td>Верещагин</td>\n",
       "      <td>2018-05-25</td>\n",
       "      <td>ultra</td>\n",
       "      <td>2018-05-01</td>\n",
       "      <td>22.00</td>\n",
       "      <td>159.00</td>\n",
       "      <td>22.00</td>\n",
       "      <td>2,253.49</td>\n",
       "      <td>3.00</td>\n",
       "      <td>1,950.00</td>\n",
       "    </tr>\n",
       "    <tr>\n",
       "      <td>1</td>\n",
       "      <td>1000</td>\n",
       "      <td>52</td>\n",
       "      <td>NaN</td>\n",
       "      <td>Краснодар</td>\n",
       "      <td>Рафаил</td>\n",
       "      <td>Верещагин</td>\n",
       "      <td>2018-05-25</td>\n",
       "      <td>ultra</td>\n",
       "      <td>2018-06-01</td>\n",
       "      <td>43.00</td>\n",
       "      <td>172.00</td>\n",
       "      <td>60.00</td>\n",
       "      <td>23,233.77</td>\n",
       "      <td>23.00</td>\n",
       "      <td>1,950.00</td>\n",
       "    </tr>\n",
       "    <tr>\n",
       "      <td>2</td>\n",
       "      <td>1000</td>\n",
       "      <td>52</td>\n",
       "      <td>NaN</td>\n",
       "      <td>Краснодар</td>\n",
       "      <td>Рафаил</td>\n",
       "      <td>Верещагин</td>\n",
       "      <td>2018-05-25</td>\n",
       "      <td>ultra</td>\n",
       "      <td>2018-07-01</td>\n",
       "      <td>47.00</td>\n",
       "      <td>340.00</td>\n",
       "      <td>75.00</td>\n",
       "      <td>14,003.64</td>\n",
       "      <td>14.00</td>\n",
       "      <td>1,950.00</td>\n",
       "    </tr>\n",
       "    <tr>\n",
       "      <td>3</td>\n",
       "      <td>1000</td>\n",
       "      <td>52</td>\n",
       "      <td>NaN</td>\n",
       "      <td>Краснодар</td>\n",
       "      <td>Рафаил</td>\n",
       "      <td>Верещагин</td>\n",
       "      <td>2018-05-25</td>\n",
       "      <td>ultra</td>\n",
       "      <td>2018-08-01</td>\n",
       "      <td>52.00</td>\n",
       "      <td>408.00</td>\n",
       "      <td>81.00</td>\n",
       "      <td>14,055.93</td>\n",
       "      <td>14.00</td>\n",
       "      <td>1,950.00</td>\n",
       "    </tr>\n",
       "    <tr>\n",
       "      <td>4</td>\n",
       "      <td>1000</td>\n",
       "      <td>52</td>\n",
       "      <td>NaN</td>\n",
       "      <td>Краснодар</td>\n",
       "      <td>Рафаил</td>\n",
       "      <td>Верещагин</td>\n",
       "      <td>2018-05-25</td>\n",
       "      <td>ultra</td>\n",
       "      <td>2018-09-01</td>\n",
       "      <td>58.00</td>\n",
       "      <td>466.00</td>\n",
       "      <td>57.00</td>\n",
       "      <td>14,568.91</td>\n",
       "      <td>15.00</td>\n",
       "      <td>1,950.00</td>\n",
       "    </tr>\n",
       "    <tr>\n",
       "      <td>...</td>\n",
       "      <td>...</td>\n",
       "      <td>...</td>\n",
       "      <td>...</td>\n",
       "      <td>...</td>\n",
       "      <td>...</td>\n",
       "      <td>...</td>\n",
       "      <td>...</td>\n",
       "      <td>...</td>\n",
       "      <td>...</td>\n",
       "      <td>...</td>\n",
       "      <td>...</td>\n",
       "      <td>...</td>\n",
       "      <td>...</td>\n",
       "      <td>...</td>\n",
       "      <td>...</td>\n",
       "    </tr>\n",
       "    <tr>\n",
       "      <td>3211</td>\n",
       "      <td>1498</td>\n",
       "      <td>68</td>\n",
       "      <td>2018-10-25</td>\n",
       "      <td>Владикавказ</td>\n",
       "      <td>Всеволод</td>\n",
       "      <td>Акимчин</td>\n",
       "      <td>2018-07-19</td>\n",
       "      <td>smart</td>\n",
       "      <td>2018-10-01</td>\n",
       "      <td>41.00</td>\n",
       "      <td>247.00</td>\n",
       "      <td>42.00</td>\n",
       "      <td>20,579.36</td>\n",
       "      <td>21.00</td>\n",
       "      <td>1,750.00</td>\n",
       "    </tr>\n",
       "    <tr>\n",
       "      <td>3212</td>\n",
       "      <td>1499</td>\n",
       "      <td>35</td>\n",
       "      <td>NaN</td>\n",
       "      <td>Пермь</td>\n",
       "      <td>Гектор</td>\n",
       "      <td>Корнилов</td>\n",
       "      <td>2018-09-27</td>\n",
       "      <td>smart</td>\n",
       "      <td>2018-09-01</td>\n",
       "      <td>9.00</td>\n",
       "      <td>70.00</td>\n",
       "      <td>11.00</td>\n",
       "      <td>1,845.75</td>\n",
       "      <td>2.00</td>\n",
       "      <td>550.00</td>\n",
       "    </tr>\n",
       "    <tr>\n",
       "      <td>3213</td>\n",
       "      <td>1499</td>\n",
       "      <td>35</td>\n",
       "      <td>NaN</td>\n",
       "      <td>Пермь</td>\n",
       "      <td>Гектор</td>\n",
       "      <td>Корнилов</td>\n",
       "      <td>2018-09-27</td>\n",
       "      <td>smart</td>\n",
       "      <td>2018-10-01</td>\n",
       "      <td>68.00</td>\n",
       "      <td>449.00</td>\n",
       "      <td>48.00</td>\n",
       "      <td>17,788.51</td>\n",
       "      <td>18.00</td>\n",
       "      <td>1,150.00</td>\n",
       "    </tr>\n",
       "    <tr>\n",
       "      <td>3214</td>\n",
       "      <td>1499</td>\n",
       "      <td>35</td>\n",
       "      <td>NaN</td>\n",
       "      <td>Пермь</td>\n",
       "      <td>Гектор</td>\n",
       "      <td>Корнилов</td>\n",
       "      <td>2018-09-27</td>\n",
       "      <td>smart</td>\n",
       "      <td>2018-11-01</td>\n",
       "      <td>74.00</td>\n",
       "      <td>612.00</td>\n",
       "      <td>59.00</td>\n",
       "      <td>17,963.31</td>\n",
       "      <td>18.00</td>\n",
       "      <td>1,513.00</td>\n",
       "    </tr>\n",
       "    <tr>\n",
       "      <td>3215</td>\n",
       "      <td>1499</td>\n",
       "      <td>35</td>\n",
       "      <td>NaN</td>\n",
       "      <td>Пермь</td>\n",
       "      <td>Гектор</td>\n",
       "      <td>Корнилов</td>\n",
       "      <td>2018-09-27</td>\n",
       "      <td>smart</td>\n",
       "      <td>2018-12-01</td>\n",
       "      <td>69.00</td>\n",
       "      <td>492.00</td>\n",
       "      <td>66.00</td>\n",
       "      <td>13,055.58</td>\n",
       "      <td>13.00</td>\n",
       "      <td>598.00</td>\n",
       "    </tr>\n",
       "  </tbody>\n",
       "</table>\n",
       "<p>3216 rows × 15 columns</p>\n",
       "</div>"
      ],
      "text/plain": [
       "      user_id  age  churn_date         city first_name  last_name   reg_date  \\\n",
       "0        1000   52         NaN    Краснодар     Рафаил  Верещагин 2018-05-25   \n",
       "1        1000   52         NaN    Краснодар     Рафаил  Верещагин 2018-05-25   \n",
       "2        1000   52         NaN    Краснодар     Рафаил  Верещагин 2018-05-25   \n",
       "3        1000   52         NaN    Краснодар     Рафаил  Верещагин 2018-05-25   \n",
       "4        1000   52         NaN    Краснодар     Рафаил  Верещагин 2018-05-25   \n",
       "...       ...  ...         ...          ...        ...        ...        ...   \n",
       "3211     1498   68  2018-10-25  Владикавказ   Всеволод    Акимчин 2018-07-19   \n",
       "3212     1499   35         NaN        Пермь     Гектор   Корнилов 2018-09-27   \n",
       "3213     1499   35         NaN        Пермь     Гектор   Корнилов 2018-09-27   \n",
       "3214     1499   35         NaN        Пермь     Гектор   Корнилов 2018-09-27   \n",
       "3215     1499   35         NaN        Пермь     Гектор   Корнилов 2018-09-27   \n",
       "\n",
       "     tariff      month  calls  calls_minutes_sum   sms   mb_used  gb_used  \\\n",
       "0     ultra 2018-05-01  22.00             159.00 22.00  2,253.49     3.00   \n",
       "1     ultra 2018-06-01  43.00             172.00 60.00 23,233.77    23.00   \n",
       "2     ultra 2018-07-01  47.00             340.00 75.00 14,003.64    14.00   \n",
       "3     ultra 2018-08-01  52.00             408.00 81.00 14,055.93    14.00   \n",
       "4     ultra 2018-09-01  58.00             466.00 57.00 14,568.91    15.00   \n",
       "...     ...        ...    ...                ...   ...       ...      ...   \n",
       "3211  smart 2018-10-01  41.00             247.00 42.00 20,579.36    21.00   \n",
       "3212  smart 2018-09-01   9.00              70.00 11.00  1,845.75     2.00   \n",
       "3213  smart 2018-10-01  68.00             449.00 48.00 17,788.51    18.00   \n",
       "3214  smart 2018-11-01  74.00             612.00 59.00 17,963.31    18.00   \n",
       "3215  smart 2018-12-01  69.00             492.00 66.00 13,055.58    13.00   \n",
       "\n",
       "      revenue_month  \n",
       "0          1,950.00  \n",
       "1          1,950.00  \n",
       "2          1,950.00  \n",
       "3          1,950.00  \n",
       "4          1,950.00  \n",
       "...             ...  \n",
       "3211       1,750.00  \n",
       "3212         550.00  \n",
       "3213       1,150.00  \n",
       "3214       1,513.00  \n",
       "3215         598.00  \n",
       "\n",
       "[3216 rows x 15 columns]"
      ]
     },
     "execution_count": 14,
     "metadata": {},
     "output_type": "execute_result"
    }
   ],
   "source": [
    "a_ultra = tariffs.query('tariff_name == \"ultra\"')[['minutes_included']]['minutes_included'][1]\n",
    "b_ultra = tariffs.query('tariff_name == \"ultra\"')[['messages_included']]['messages_included'][1]\n",
    "c_ultra = tariffs.query('tariff_name == \"ultra\"')[['mb_per_month_included']]['mb_per_month_included'][1] / 1024\n",
    "d_ultra = tariffs.query('tariff_name == \"ultra\"')[['rub_monthly_fee']]['rub_monthly_fee'][1]\n",
    "e_ultra = tariffs.query('tariff_name == \"ultra\"')[['rub_per_gb']]['rub_per_gb'][1]\n",
    "\n",
    "a_smart = tariffs.query('tariff_name == \"smart\"')[['minutes_included']]['minutes_included'][0]\n",
    "b_smart = tariffs.query('tariff_name == \"smart\"')[['messages_included']]['messages_included'][0]\n",
    "c_smart = tariffs.query('tariff_name == \"smart\"')[['mb_per_month_included']]['mb_per_month_included'][0] / 1024\n",
    "d_smart = tariffs.query('tariff_name == \"smart\"')[['rub_monthly_fee']]['rub_monthly_fee'][0]\n",
    "e_smart = tariffs.query('tariff_name == \"smart\"')[['rub_per_gb']]['rub_per_gb'][0]\n",
    "a_ultra\n",
    "def revenue_month(data):\n",
    "    minutes_over = 0\n",
    "    gb_over = 0\n",
    "    sms_over = 0\n",
    "    if data['tariff'] == 'ultra':\n",
    "        if data['calls_minutes_sum'] > a_ultra:\n",
    "            minutes_over = data['calls_minutes_sum'] - a_ultra\n",
    "        if data['sms'] > b_ultra:\n",
    "            sms_over = data['sms'] - b_ultra\n",
    "        if data['gb_used'] > c_ultra:\n",
    "            gb_over = data['gb_used'] - c_ultra\n",
    "        return d_ultra + minutes_over + sms_over + gb_over*e_ultra\n",
    "    elif data['tariff'] == 'smart':\n",
    "        if data['calls_minutes_sum'] > a_smart:\n",
    "            minutes_over = data['calls_minutes_sum'] - a_smart\n",
    "        if data['sms'] > b_smart:\n",
    "            sms_over = data['sms'] - b_smart\n",
    "        if data['gb_used'] > c_smart:\n",
    "            gb_over = data['gb_used'] - c_smart\n",
    "        return d_smart + minutes_over*3 + sms_over*3 + gb_over*e_smart\n",
    "    \n",
    "\n",
    "\n",
    "data_merged['revenue_month'] = data_merged.apply(revenue_month, axis=1)\n",
    "\n",
    "data_merged"
   ]
  },
  {
   "cell_type": "markdown",
   "metadata": {},
   "source": [
    "## Анализ данных"
   ]
  },
  {
   "cell_type": "markdown",
   "metadata": {},
   "source": [
    "<div class=\"alert alert-info\"> Далее изучаем поведение клиентов на основе полученных на предыдущем этапе данных.\n",
    "</div>"
   ]
  },
  {
   "cell_type": "code",
   "execution_count": 15,
   "metadata": {},
   "outputs": [
    {
     "data": {
      "text/html": [
       "<div>\n",
       "<style scoped>\n",
       "    .dataframe tbody tr th:only-of-type {\n",
       "        vertical-align: middle;\n",
       "    }\n",
       "\n",
       "    .dataframe tbody tr th {\n",
       "        vertical-align: top;\n",
       "    }\n",
       "\n",
       "    .dataframe thead th {\n",
       "        text-align: right;\n",
       "    }\n",
       "</style>\n",
       "<table border=\"1\" class=\"dataframe\">\n",
       "  <thead>\n",
       "    <tr style=\"text-align: right;\">\n",
       "      <th></th>\n",
       "      <th>calls_minutes_sum</th>\n",
       "    </tr>\n",
       "  </thead>\n",
       "  <tbody>\n",
       "    <tr>\n",
       "      <td>count</td>\n",
       "      <td>2,223.00</td>\n",
       "    </tr>\n",
       "    <tr>\n",
       "      <td>mean</td>\n",
       "      <td>419.06</td>\n",
       "    </tr>\n",
       "    <tr>\n",
       "      <td>std</td>\n",
       "      <td>189.33</td>\n",
       "    </tr>\n",
       "    <tr>\n",
       "      <td>min</td>\n",
       "      <td>0.00</td>\n",
       "    </tr>\n",
       "    <tr>\n",
       "      <td>25%</td>\n",
       "      <td>285.00</td>\n",
       "    </tr>\n",
       "    <tr>\n",
       "      <td>50%</td>\n",
       "      <td>423.00</td>\n",
       "    </tr>\n",
       "    <tr>\n",
       "      <td>75%</td>\n",
       "      <td>545.50</td>\n",
       "    </tr>\n",
       "    <tr>\n",
       "      <td>max</td>\n",
       "      <td>1,435.00</td>\n",
       "    </tr>\n",
       "  </tbody>\n",
       "</table>\n",
       "</div>"
      ],
      "text/plain": [
       "       calls_minutes_sum\n",
       "count           2,223.00\n",
       "mean              419.06\n",
       "std               189.33\n",
       "min                 0.00\n",
       "25%               285.00\n",
       "50%               423.00\n",
       "75%               545.50\n",
       "max             1,435.00"
      ]
     },
     "metadata": {},
     "output_type": "display_data"
    },
    {
     "name": "stdout",
     "output_type": "stream",
     "text": [
      "Дисперсия равна:  calls_minutes_sum   35,828.07\n",
      "dtype: float64\n"
     ]
    }
   ],
   "source": [
    "display(data_merged.query('tariff == \"smart\"')[['calls_minutes_sum']].describe())\n",
    "print('Дисперсия равна: ', np.var(data_merged.query('tariff == \"smart\"')[['calls_minutes_sum']]))"
   ]
  },
  {
   "cell_type": "code",
   "execution_count": 16,
   "metadata": {},
   "outputs": [
    {
     "data": {
      "text/html": [
       "<div>\n",
       "<style scoped>\n",
       "    .dataframe tbody tr th:only-of-type {\n",
       "        vertical-align: middle;\n",
       "    }\n",
       "\n",
       "    .dataframe tbody tr th {\n",
       "        vertical-align: top;\n",
       "    }\n",
       "\n",
       "    .dataframe thead th {\n",
       "        text-align: right;\n",
       "    }\n",
       "</style>\n",
       "<table border=\"1\" class=\"dataframe\">\n",
       "  <thead>\n",
       "    <tr style=\"text-align: right;\">\n",
       "      <th></th>\n",
       "      <th>sms</th>\n",
       "    </tr>\n",
       "  </thead>\n",
       "  <tbody>\n",
       "    <tr>\n",
       "      <td>count</td>\n",
       "      <td>1,922.00</td>\n",
       "    </tr>\n",
       "    <tr>\n",
       "      <td>mean</td>\n",
       "      <td>38.72</td>\n",
       "    </tr>\n",
       "    <tr>\n",
       "      <td>std</td>\n",
       "      <td>26.79</td>\n",
       "    </tr>\n",
       "    <tr>\n",
       "      <td>min</td>\n",
       "      <td>1.00</td>\n",
       "    </tr>\n",
       "    <tr>\n",
       "      <td>25%</td>\n",
       "      <td>17.00</td>\n",
       "    </tr>\n",
       "    <tr>\n",
       "      <td>50%</td>\n",
       "      <td>34.00</td>\n",
       "    </tr>\n",
       "    <tr>\n",
       "      <td>75%</td>\n",
       "      <td>55.00</td>\n",
       "    </tr>\n",
       "    <tr>\n",
       "      <td>max</td>\n",
       "      <td>143.00</td>\n",
       "    </tr>\n",
       "  </tbody>\n",
       "</table>\n",
       "</div>"
      ],
      "text/plain": [
       "           sms\n",
       "count 1,922.00\n",
       "mean     38.72\n",
       "std      26.79\n",
       "min       1.00\n",
       "25%      17.00\n",
       "50%      34.00\n",
       "75%      55.00\n",
       "max     143.00"
      ]
     },
     "metadata": {},
     "output_type": "display_data"
    },
    {
     "name": "stdout",
     "output_type": "stream",
     "text": [
      "Дисперсия равна:  sms   717.22\n",
      "dtype: float64\n"
     ]
    }
   ],
   "source": [
    "display(data_merged.query('tariff == \"smart\"')[['sms']].describe())\n",
    "print('Дисперсия равна: ', np.var(data_merged.query('tariff == \"smart\"')[['sms']]))"
   ]
  },
  {
   "cell_type": "code",
   "execution_count": 17,
   "metadata": {},
   "outputs": [
    {
     "data": {
      "text/html": [
       "<div>\n",
       "<style scoped>\n",
       "    .dataframe tbody tr th:only-of-type {\n",
       "        vertical-align: middle;\n",
       "    }\n",
       "\n",
       "    .dataframe tbody tr th {\n",
       "        vertical-align: top;\n",
       "    }\n",
       "\n",
       "    .dataframe thead th {\n",
       "        text-align: right;\n",
       "    }\n",
       "</style>\n",
       "<table border=\"1\" class=\"dataframe\">\n",
       "  <thead>\n",
       "    <tr style=\"text-align: right;\">\n",
       "      <th></th>\n",
       "      <th>gb_used</th>\n",
       "    </tr>\n",
       "  </thead>\n",
       "  <tbody>\n",
       "    <tr>\n",
       "      <td>count</td>\n",
       "      <td>2,228.00</td>\n",
       "    </tr>\n",
       "    <tr>\n",
       "      <td>mean</td>\n",
       "      <td>16.34</td>\n",
       "    </tr>\n",
       "    <tr>\n",
       "      <td>std</td>\n",
       "      <td>5.74</td>\n",
       "    </tr>\n",
       "    <tr>\n",
       "      <td>min</td>\n",
       "      <td>0.00</td>\n",
       "    </tr>\n",
       "    <tr>\n",
       "      <td>25%</td>\n",
       "      <td>13.00</td>\n",
       "    </tr>\n",
       "    <tr>\n",
       "      <td>50%</td>\n",
       "      <td>17.00</td>\n",
       "    </tr>\n",
       "    <tr>\n",
       "      <td>75%</td>\n",
       "      <td>20.00</td>\n",
       "    </tr>\n",
       "    <tr>\n",
       "      <td>max</td>\n",
       "      <td>38.00</td>\n",
       "    </tr>\n",
       "  </tbody>\n",
       "</table>\n",
       "</div>"
      ],
      "text/plain": [
       "       gb_used\n",
       "count 2,228.00\n",
       "mean     16.34\n",
       "std       5.74\n",
       "min       0.00\n",
       "25%      13.00\n",
       "50%      17.00\n",
       "75%      20.00\n",
       "max      38.00"
      ]
     },
     "metadata": {},
     "output_type": "display_data"
    },
    {
     "name": "stdout",
     "output_type": "stream",
     "text": [
      "Дисперсия равна:  gb_used   32.91\n",
      "dtype: float64\n"
     ]
    }
   ],
   "source": [
    "display(data_merged.query('tariff == \"smart\"')[['gb_used']].describe())\n",
    "print('Дисперсия равна: ', np.var(data_merged.query('tariff == \"smart\"')[['gb_used']]))"
   ]
  },
  {
   "cell_type": "code",
   "execution_count": 18,
   "metadata": {},
   "outputs": [
    {
     "data": {
      "text/html": [
       "<div>\n",
       "<style scoped>\n",
       "    .dataframe tbody tr th:only-of-type {\n",
       "        vertical-align: middle;\n",
       "    }\n",
       "\n",
       "    .dataframe tbody tr th {\n",
       "        vertical-align: top;\n",
       "    }\n",
       "\n",
       "    .dataframe thead th {\n",
       "        text-align: right;\n",
       "    }\n",
       "</style>\n",
       "<table border=\"1\" class=\"dataframe\">\n",
       "  <thead>\n",
       "    <tr style=\"text-align: right;\">\n",
       "      <th></th>\n",
       "      <th>calls_minutes_sum</th>\n",
       "    </tr>\n",
       "  </thead>\n",
       "  <tbody>\n",
       "    <tr>\n",
       "      <td>count</td>\n",
       "      <td>951.00</td>\n",
       "    </tr>\n",
       "    <tr>\n",
       "      <td>mean</td>\n",
       "      <td>545.45</td>\n",
       "    </tr>\n",
       "    <tr>\n",
       "      <td>std</td>\n",
       "      <td>306.93</td>\n",
       "    </tr>\n",
       "    <tr>\n",
       "      <td>min</td>\n",
       "      <td>0.00</td>\n",
       "    </tr>\n",
       "    <tr>\n",
       "      <td>25%</td>\n",
       "      <td>310.00</td>\n",
       "    </tr>\n",
       "    <tr>\n",
       "      <td>50%</td>\n",
       "      <td>528.00</td>\n",
       "    </tr>\n",
       "    <tr>\n",
       "      <td>75%</td>\n",
       "      <td>756.50</td>\n",
       "    </tr>\n",
       "    <tr>\n",
       "      <td>max</td>\n",
       "      <td>1,673.00</td>\n",
       "    </tr>\n",
       "  </tbody>\n",
       "</table>\n",
       "</div>"
      ],
      "text/plain": [
       "       calls_minutes_sum\n",
       "count             951.00\n",
       "mean              545.45\n",
       "std               306.93\n",
       "min                 0.00\n",
       "25%               310.00\n",
       "50%               528.00\n",
       "75%               756.50\n",
       "max             1,673.00"
      ]
     },
     "metadata": {},
     "output_type": "display_data"
    },
    {
     "name": "stdout",
     "output_type": "stream",
     "text": [
      "Дисперсия равна:  calls_minutes_sum   94,104.36\n",
      "dtype: float64\n"
     ]
    }
   ],
   "source": [
    "display(data_merged.query('tariff == \"ultra\"')[['calls_minutes_sum']].describe())\n",
    "print('Дисперсия равна: ', np.var(data_merged.query('tariff == \"ultra\"')[['calls_minutes_sum']]))"
   ]
  },
  {
   "cell_type": "code",
   "execution_count": 19,
   "metadata": {},
   "outputs": [
    {
     "data": {
      "text/html": [
       "<div>\n",
       "<style scoped>\n",
       "    .dataframe tbody tr th:only-of-type {\n",
       "        vertical-align: middle;\n",
       "    }\n",
       "\n",
       "    .dataframe tbody tr th {\n",
       "        vertical-align: top;\n",
       "    }\n",
       "\n",
       "    .dataframe thead th {\n",
       "        text-align: right;\n",
       "    }\n",
       "</style>\n",
       "<table border=\"1\" class=\"dataframe\">\n",
       "  <thead>\n",
       "    <tr style=\"text-align: right;\">\n",
       "      <th></th>\n",
       "      <th>sms</th>\n",
       "    </tr>\n",
       "  </thead>\n",
       "  <tbody>\n",
       "    <tr>\n",
       "      <td>count</td>\n",
       "      <td>795.00</td>\n",
       "    </tr>\n",
       "    <tr>\n",
       "      <td>mean</td>\n",
       "      <td>61.16</td>\n",
       "    </tr>\n",
       "    <tr>\n",
       "      <td>std</td>\n",
       "      <td>45.93</td>\n",
       "    </tr>\n",
       "    <tr>\n",
       "      <td>min</td>\n",
       "      <td>1.00</td>\n",
       "    </tr>\n",
       "    <tr>\n",
       "      <td>25%</td>\n",
       "      <td>24.00</td>\n",
       "    </tr>\n",
       "    <tr>\n",
       "      <td>50%</td>\n",
       "      <td>51.00</td>\n",
       "    </tr>\n",
       "    <tr>\n",
       "      <td>75%</td>\n",
       "      <td>87.50</td>\n",
       "    </tr>\n",
       "    <tr>\n",
       "      <td>max</td>\n",
       "      <td>224.00</td>\n",
       "    </tr>\n",
       "  </tbody>\n",
       "</table>\n",
       "</div>"
      ],
      "text/plain": [
       "         sms\n",
       "count 795.00\n",
       "mean   61.16\n",
       "std    45.93\n",
       "min     1.00\n",
       "25%    24.00\n",
       "50%    51.00\n",
       "75%    87.50\n",
       "max   224.00"
      ]
     },
     "metadata": {},
     "output_type": "display_data"
    },
    {
     "name": "stdout",
     "output_type": "stream",
     "text": [
      "Дисперсия равна:  sms   2,107.01\n",
      "dtype: float64\n"
     ]
    }
   ],
   "source": [
    "display(data_merged.query('tariff == \"ultra\"')[['sms']].describe())\n",
    "print('Дисперсия равна: ', np.var(data_merged.query('tariff == \"ultra\"')[['sms']]))"
   ]
  },
  {
   "cell_type": "code",
   "execution_count": 20,
   "metadata": {},
   "outputs": [
    {
     "data": {
      "text/html": [
       "<div>\n",
       "<style scoped>\n",
       "    .dataframe tbody tr th:only-of-type {\n",
       "        vertical-align: middle;\n",
       "    }\n",
       "\n",
       "    .dataframe tbody tr th {\n",
       "        vertical-align: top;\n",
       "    }\n",
       "\n",
       "    .dataframe thead th {\n",
       "        text-align: right;\n",
       "    }\n",
       "</style>\n",
       "<table border=\"1\" class=\"dataframe\">\n",
       "  <thead>\n",
       "    <tr style=\"text-align: right;\">\n",
       "      <th></th>\n",
       "      <th>gb_used</th>\n",
       "    </tr>\n",
       "  </thead>\n",
       "  <tbody>\n",
       "    <tr>\n",
       "      <td>count</td>\n",
       "      <td>975.00</td>\n",
       "    </tr>\n",
       "    <tr>\n",
       "      <td>mean</td>\n",
       "      <td>19.69</td>\n",
       "    </tr>\n",
       "    <tr>\n",
       "      <td>std</td>\n",
       "      <td>9.70</td>\n",
       "    </tr>\n",
       "    <tr>\n",
       "      <td>min</td>\n",
       "      <td>0.00</td>\n",
       "    </tr>\n",
       "    <tr>\n",
       "      <td>25%</td>\n",
       "      <td>12.00</td>\n",
       "    </tr>\n",
       "    <tr>\n",
       "      <td>50%</td>\n",
       "      <td>19.00</td>\n",
       "    </tr>\n",
       "    <tr>\n",
       "      <td>75%</td>\n",
       "      <td>27.00</td>\n",
       "    </tr>\n",
       "    <tr>\n",
       "      <td>max</td>\n",
       "      <td>49.00</td>\n",
       "    </tr>\n",
       "  </tbody>\n",
       "</table>\n",
       "</div>"
      ],
      "text/plain": [
       "       gb_used\n",
       "count   975.00\n",
       "mean     19.69\n",
       "std       9.70\n",
       "min       0.00\n",
       "25%      12.00\n",
       "50%      19.00\n",
       "75%      27.00\n",
       "max      49.00"
      ]
     },
     "metadata": {},
     "output_type": "display_data"
    },
    {
     "name": "stdout",
     "output_type": "stream",
     "text": [
      "Дисперсия равна:  gb_used   94.05\n",
      "dtype: float64\n"
     ]
    }
   ],
   "source": [
    "display(data_merged.query('tariff == \"ultra\"')[['gb_used']].describe())\n",
    "print('Дисперсия равна: ', np.var(data_merged.query('tariff == \"ultra\"')[['gb_used']]))"
   ]
  },
  {
   "cell_type": "code",
   "execution_count": 21,
   "metadata": {},
   "outputs": [
    {
     "data": {
      "text/html": [
       "<div>\n",
       "<style scoped>\n",
       "    .dataframe tbody tr th:only-of-type {\n",
       "        vertical-align: middle;\n",
       "    }\n",
       "\n",
       "    .dataframe tbody tr th {\n",
       "        vertical-align: top;\n",
       "    }\n",
       "\n",
       "    .dataframe thead th {\n",
       "        text-align: right;\n",
       "    }\n",
       "</style>\n",
       "<table border=\"1\" class=\"dataframe\">\n",
       "  <thead>\n",
       "    <tr style=\"text-align: right;\">\n",
       "      <th></th>\n",
       "      <th>revenue_month</th>\n",
       "    </tr>\n",
       "  </thead>\n",
       "  <tbody>\n",
       "    <tr>\n",
       "      <td>count</td>\n",
       "      <td>2,230.00</td>\n",
       "    </tr>\n",
       "    <tr>\n",
       "      <td>mean</td>\n",
       "      <td>1,289.64</td>\n",
       "    </tr>\n",
       "    <tr>\n",
       "      <td>std</td>\n",
       "      <td>818.37</td>\n",
       "    </tr>\n",
       "    <tr>\n",
       "      <td>min</td>\n",
       "      <td>550.00</td>\n",
       "    </tr>\n",
       "    <tr>\n",
       "      <td>25%</td>\n",
       "      <td>550.00</td>\n",
       "    </tr>\n",
       "    <tr>\n",
       "      <td>50%</td>\n",
       "      <td>1,021.00</td>\n",
       "    </tr>\n",
       "    <tr>\n",
       "      <td>75%</td>\n",
       "      <td>1,750.00</td>\n",
       "    </tr>\n",
       "    <tr>\n",
       "      <td>max</td>\n",
       "      <td>6,770.00</td>\n",
       "    </tr>\n",
       "  </tbody>\n",
       "</table>\n",
       "</div>"
      ],
      "text/plain": [
       "       revenue_month\n",
       "count       2,230.00\n",
       "mean        1,289.64\n",
       "std           818.37\n",
       "min           550.00\n",
       "25%           550.00\n",
       "50%         1,021.00\n",
       "75%         1,750.00\n",
       "max         6,770.00"
      ]
     },
     "metadata": {},
     "output_type": "display_data"
    },
    {
     "data": {
      "text/html": [
       "<div>\n",
       "<style scoped>\n",
       "    .dataframe tbody tr th:only-of-type {\n",
       "        vertical-align: middle;\n",
       "    }\n",
       "\n",
       "    .dataframe tbody tr th {\n",
       "        vertical-align: top;\n",
       "    }\n",
       "\n",
       "    .dataframe thead th {\n",
       "        text-align: right;\n",
       "    }\n",
       "</style>\n",
       "<table border=\"1\" class=\"dataframe\">\n",
       "  <thead>\n",
       "    <tr style=\"text-align: right;\">\n",
       "      <th></th>\n",
       "      <th>revenue_month</th>\n",
       "    </tr>\n",
       "  </thead>\n",
       "  <tbody>\n",
       "    <tr>\n",
       "      <td>count</td>\n",
       "      <td>986.00</td>\n",
       "    </tr>\n",
       "    <tr>\n",
       "      <td>mean</td>\n",
       "      <td>2,070.03</td>\n",
       "    </tr>\n",
       "    <tr>\n",
       "      <td>std</td>\n",
       "      <td>376.02</td>\n",
       "    </tr>\n",
       "    <tr>\n",
       "      <td>min</td>\n",
       "      <td>1,950.00</td>\n",
       "    </tr>\n",
       "    <tr>\n",
       "      <td>25%</td>\n",
       "      <td>1,950.00</td>\n",
       "    </tr>\n",
       "    <tr>\n",
       "      <td>50%</td>\n",
       "      <td>1,950.00</td>\n",
       "    </tr>\n",
       "    <tr>\n",
       "      <td>75%</td>\n",
       "      <td>1,950.00</td>\n",
       "    </tr>\n",
       "    <tr>\n",
       "      <td>max</td>\n",
       "      <td>4,800.00</td>\n",
       "    </tr>\n",
       "  </tbody>\n",
       "</table>\n",
       "</div>"
      ],
      "text/plain": [
       "       revenue_month\n",
       "count         986.00\n",
       "mean        2,070.03\n",
       "std           376.02\n",
       "min         1,950.00\n",
       "25%         1,950.00\n",
       "50%         1,950.00\n",
       "75%         1,950.00\n",
       "max         4,800.00"
      ]
     },
     "metadata": {},
     "output_type": "display_data"
    }
   ],
   "source": [
    "display(data_merged.query('tariff == \"smart\"')[['revenue_month']].describe())\n",
    "display(data_merged.query('tariff == \"ultra\"')[['revenue_month']].describe())"
   ]
  },
  {
   "cell_type": "code",
   "execution_count": 22,
   "metadata": {},
   "outputs": [
    {
     "data": {
      "text/plain": [
       "array([[<matplotlib.axes._subplots.AxesSubplot object at 0x7f62154a7f50>,\n",
       "        <matplotlib.axes._subplots.AxesSubplot object at 0x7f621509c6d0>],\n",
       "       [<matplotlib.axes._subplots.AxesSubplot object at 0x7f6215055cd0>,\n",
       "        <matplotlib.axes._subplots.AxesSubplot object at 0x7f6215014510>]],\n",
       "      dtype=object)"
      ]
     },
     "execution_count": 22,
     "metadata": {},
     "output_type": "execute_result"
    },
    {
     "data": {
      "image/png": "[encoded data removed]",
      "text/plain": [
       "<Figure size 864x864 with 4 Axes>"
      ]
     },
     "metadata": {
      "needs_background": "light"
     },
     "output_type": "display_data"
    }
   ],
   "source": [
    "data_merged.query('tariff == \"smart\"')[['calls_minutes_sum', 'gb_used', 'sms']].hist(figsize=(12, 12))"
   ]
  },
  {
   "cell_type": "code",
   "execution_count": 23,
   "metadata": {},
   "outputs": [
    {
     "data": {
      "text/plain": [
       "array([[<matplotlib.axes._subplots.AxesSubplot object at 0x7f62146bd3d0>,\n",
       "        <matplotlib.axes._subplots.AxesSubplot object at 0x7f6214012d50>],\n",
       "       [<matplotlib.axes._subplots.AxesSubplot object at 0x7f6213f67a90>,\n",
       "        <matplotlib.axes._subplots.AxesSubplot object at 0x7f6213f9ed90>]],\n",
       "      dtype=object)"
      ]
     },
     "execution_count": 23,
     "metadata": {},
     "output_type": "execute_result"
    },
    {
     "data": {
      "image/png": "[encoded data removed]",
      "text/plain": [
       "<Figure size 864x864 with 4 Axes>"
      ]
     },
     "metadata": {
      "needs_background": "light"
     },
     "output_type": "display_data"
    }
   ],
   "source": [
    "data_merged.query('tariff == \"ultra\"')[['calls_minutes_sum', 'gb_used', 'sms']].hist(figsize=(12, 12))"
   ]
  },
  {
   "cell_type": "code",
   "execution_count": 24,
   "metadata": {},
   "outputs": [
    {
     "data": {
      "text/plain": [
       "<matplotlib.axes._subplots.AxesSubplot at 0x7f6213e9ce90>"
      ]
     },
     "execution_count": 24,
     "metadata": {},
     "output_type": "execute_result"
    },
    {
     "data": {
      "image/png": "[encoded data removed]",
      "text/plain": [
       "<Figure size 864x360 with 1 Axes>"
      ]
     },
     "metadata": {
      "needs_background": "light"
     },
     "output_type": "display_data"
    }
   ],
   "source": [
    "(data_merged\n",
    "     .pivot_table(index ='month', values= 'calls_minutes_sum',columns='tariff', aggfunc = 'mean')\n",
    "     .plot(kind='bar', grid=True, figsize=(12, 5))\n",
    ")"
   ]
  },
  {
   "cell_type": "code",
   "execution_count": 25,
   "metadata": {},
   "outputs": [
    {
     "data": {
      "text/plain": [
       "<matplotlib.axes._subplots.AxesSubplot at 0x7f6213d40850>"
      ]
     },
     "execution_count": 25,
     "metadata": {},
     "output_type": "execute_result"
    },
    {
     "data": {
      "image/png": "[encoded data removed]",
      "text/plain": [
       "<Figure size 864x360 with 1 Axes>"
      ]
     },
     "metadata": {
      "needs_background": "light"
     },
     "output_type": "display_data"
    }
   ],
   "source": [
    "(data_merged\n",
    "     .pivot_table(index ='month', values= 'sms', columns='tariff', aggfunc = 'mean')\n",
    "     .plot(kind='bar', grid=True, figsize=(12, 5))\n",
    ")"
   ]
  },
  {
   "cell_type": "code",
   "execution_count": 26,
   "metadata": {},
   "outputs": [
    {
     "data": {
      "text/plain": [
       "<matplotlib.axes._subplots.AxesSubplot at 0x7f6213c2c1d0>"
      ]
     },
     "execution_count": 26,
     "metadata": {},
     "output_type": "execute_result"
    },
    {
     "data": {
      "image/png": "[encoded data removed]",
      "text/plain": [
       "<Figure size 864x360 with 1 Axes>"
      ]
     },
     "metadata": {
      "needs_background": "light"
     },
     "output_type": "display_data"
    }
   ],
   "source": [
    "(data_merged\n",
    "     .pivot_table(index ='month', values= 'gb_used', columns='tariff', aggfunc = 'mean')\n",
    "     .plot(kind='bar', grid=True, figsize=(12, 5))\n",
    ")"
   ]
  },
  {
   "cell_type": "markdown",
   "metadata": {},
   "source": [
    "### Вывод\n",
    "\n",
    "Так выглядит поведение пользователей тарифа smart за 2018 год по месяцам:<br /> \n",
    "минуты разговоров: среднее - 419.06, стандартное отклонение - 189.33, дисперсия - 35828.06,<br /> \n",
    "смс: среднее - 38.72, стандартное отклонение - 26.79, дисперсия - 717.22,<br /> \n",
    "интернет-траффик (Гб): среднее - 16.34, стандартное отклонение - 5.74, дисперсия - 32.91.<br /> \n",
    "<br /> \n",
    "Аналогичные показатели для пользователей тарифа Ultra:<br /> \n",
    "минуты разговоров: среднее - 545.45, стандартное отклонение - 306.92, дисперсия - 94104.36,<br /> \n",
    "смс: среднее - 61.16, стандартное отклонение - 49.93, дисперсия - 2107,<br /> \n",
    "интернет-траффик (Гб): среднее - 19.69, стандартное отклонение - 9.7, дисперсия - 94.05.<br /> \n",
    "<br /> \n",
    "Распределение показателей по месяцам для пользователей тарифа Smart выглядит следующим образом:<br /> \n",
    "Средняя продолжительность звонков увеличивалсь в течение года и в декабре превысила январские показатели более чем в 2 раза.<br /> \n",
    "Среднее количество смс увеличивалось с января по май, увеличилось вдвое и далее оставалось практически неизменным весь оставшийся год. <br /> \n",
    "Объём интернет-траффика увеличился вдвое с января по март, затем незначительно снизился в апреле и далее оставался примерно на одном уровне до конца года.<br /> \n",
    "<br /> \n",
    "Что касается пользователей тарифа Ultra:<br /> \n",
    "Средняя продолжительность звонков была минимальной в феврале, затем в течение года колебалась от месяца к месяцу,но постепенно достигла максимума в декабре.<br /> \n",
    "Среднее количество смс также было минимальным в феврале и постепенно росло, достигнув максимума к концу года. <br /> \n",
    "Объём интернет-траффика увеличивался с января по май, затем оставался примерно на одном уровне и достиг пика в декабре.<br /> <br /> \n",
    "В целом объёмы использования услуг по обоим тарифам постепенно росли в течение года.<br /> <br /> \n",
    "На гистограммах видно, что пользователи тарифа smart гораздо чаще используют дополнительные минуты, смс и гигабайты, чем пользователи тарифа Ultra. Вторые перерасходуют только интернет-траффик, и никто из пользователей этого тарифа не использует полностью заложенные в пакет минуты и смс.\n"
   ]
  },
  {
   "cell_type": "markdown",
   "metadata": {},
   "source": [
    "## Проверка гипотез"
   ]
  },
  {
   "cell_type": "markdown",
   "metadata": {},
   "source": [
    "<div class=\"alert alert-info\"> Проверим первую гипотезу, которая звучит так: выручка пользователей тарифа Ultra равна выручке пользователей тарифа Smart.<br /> \n",
    "Сначала проверим дисперсии обоих показателей:\n",
    "</div>"
   ]
  },
  {
   "cell_type": "code",
   "execution_count": 27,
   "metadata": {},
   "outputs": [
    {
     "name": "stdout",
     "output_type": "stream",
     "text": [
      "Дисперсия выручки для тарифа Smart равна:  revenue_month   669,430.44\n",
      "dtype: float64\n",
      "Дисперсия выручки для тарифа Ultra равна:  revenue_month   141,244.32\n",
      "dtype: float64\n"
     ]
    }
   ],
   "source": [
    "print('Дисперсия выручки для тарифа Smart равна: ', np.var(data_merged.query('tariff == \"smart\"')[['revenue_month']]))\n",
    "print('Дисперсия выручки для тарифа Ultra равна: ', np.var(data_merged.query('tariff == \"ultra\"')[['revenue_month']]))"
   ]
  },
  {
   "cell_type": "markdown",
   "metadata": {},
   "source": [
    "<div class=\"alert alert-info\"> Дисперсии не равны, поэтому при расчёте будем использовать equal_var = False. Далее проверяем гипотезу о равенстве средних двух независимых совокупностей:\n",
    "</div>"
   ]
  },
  {
   "cell_type": "code",
   "execution_count": 28,
   "metadata": {},
   "outputs": [
    {
     "name": "stdout",
     "output_type": "stream",
     "text": [
      "p-значение: [1.92701139e-250]\n",
      "Отвергаем нулевую гипотезу\n"
     ]
    }
   ],
   "source": [
    "alpha = .01\n",
    "\n",
    "results = st.ttest_ind(\n",
    "    data_merged.query('tariff == \"smart\"')[['revenue_month']], \n",
    "    data_merged.query('tariff == \"ultra\"')[['revenue_month']],\n",
    "    equal_var = False)\n",
    "\n",
    "print('p-значение:', results.pvalue)\n",
    "\n",
    "if results.pvalue < alpha:\n",
    "    print(\"Отвергаем нулевую гипотезу\")\n",
    "else:\n",
    "    print(\"Не получилось отвергнуть нулевую гипотезу\")"
   ]
  },
  {
   "cell_type": "markdown",
   "metadata": {},
   "source": [
    "<div class=\"alert alert-info\"> Проверим вторую гипотезу, которая звучит так: средняя выручка пользователей из Москвы равна выручке пользователей из других регионов.<br /> \n",
    "Сначала проверим дисперсии обоих показателей:\n",
    "</div>"
   ]
  },
  {
   "cell_type": "code",
   "execution_count": 29,
   "metadata": {},
   "outputs": [
    {
     "name": "stdout",
     "output_type": "stream",
     "text": [
      "Дисперсия выручки для пользователей из Москвы:  revenue_month   564,710.71\n",
      "dtype: float64\n",
      "Дисперсия выручки для пользователей из других регионов:  revenue_month   653,818.49\n",
      "dtype: float64\n"
     ]
    }
   ],
   "source": [
    "print('Дисперсия выручки для пользователей из Москвы: ', np.var(data_merged.query('city == \"Москва\"')[['revenue_month']]))\n",
    "print('Дисперсия выручки для пользователей из других регионов: ', np.var(data_merged.query('city != \"Москва\"')[['revenue_month']]))"
   ]
  },
  {
   "cell_type": "markdown",
   "metadata": {},
   "source": [
    "<div class=\"alert alert-info\"> Дисперсии не равны, поэтому при расчёте будем использовать equal_var = False. Далее проверяем гипотезу о равенстве средних двух независимых совокупностей:\n",
    "</div>"
   ]
  },
  {
   "cell_type": "code",
   "execution_count": 30,
   "metadata": {},
   "outputs": [
    {
     "name": "stdout",
     "output_type": "stream",
     "text": [
      "p-значение: [0.52169521]\n",
      "Не получилось отвергнуть нулевую гипотезу\n"
     ]
    }
   ],
   "source": [
    "alpha = .01\n",
    "\n",
    "results = st.ttest_ind(\n",
    "    data_merged.query('city == \"Москва\"')[['revenue_month']], \n",
    "    data_merged.query('city != \"Москва\"')[['revenue_month']],\n",
    "    equal_var = False)\n",
    "\n",
    "print('p-значение:', results.pvalue)\n",
    "\n",
    "if results.pvalue < alpha:\n",
    "    print(\"Отвергаем нулевую гипотезу\")\n",
    "else:\n",
    "    print(\"Не получилось отвергнуть нулевую гипотезу\")"
   ]
  },
  {
   "cell_type": "markdown",
   "metadata": {},
   "source": [
    "### Вывод\n",
    "Проверив две гипотезы, делаем следующий вывод: <br /> \n",
    "1. средняя выручка пользователей тарифов «Ультра» и «Смарт» различаются;<br /> \n",
    "2. средняя выручка пользователей из Москвы не отличается от выручки пользователей из других регионов."
   ]
  },
  {
   "cell_type": "markdown",
   "metadata": {},
   "source": [
    "## Общий вывод\n",
    "В данном исследовании был проведён анализ данных об использовании двух разных тарифов оператора сотовой связи «Мегалайн» за 2018 год. В ходе исследования были сделаны следующие выводы:<br /><br /> \n",
    "Поведение пользователей тарифа smart за 2018 год по месяцам:<br /> \n",
    "минуты разговоров: среднее - 419.06, стандартное отклонение - 189.33, дисперсия - 35828.06,<br /> \n",
    "смс: среднее - 38.72, стандартное отклонение - 26.79, дисперсия - 717.22,<br /> \n",
    "интернет-траффик (Гб): среднее - 16.34, стандартное отклонение - 5.74, дисперсия - 32.91.<br /> \n",
    "<br /> \n",
    "Аналогичные показатели для пользователей тарифа Ultra:<br /> \n",
    "минуты разговоров: среднее - 545.45, стандартное отклонение - 306.92, дисперсия - 94104.36,<br /> \n",
    "смс: среднее - 61.16, стандартное отклонение - 49.93, дисперсия - 2107,<br /> \n",
    "интернет-траффик (Гб): среднее - 19.69, стандартное отклонение - 9.7, дисперсия - 94.05.<br /> \n",
    "<br /> \n",
    "Распределение показателей по месяцам для пользователей тарифа Smart выглядит следующим образом:<br /> \n",
    "Средняя продолжительность звонков увеличивалсь в течение года и в декабре превысила январские показатели более чем в 2 раза.<br /> \n",
    "Среднее количество смс увеличивалось с января по май, увеличилось вдвое и далее оставалось практически неизменным весь оставшийся год. <br /> \n",
    "Объём интернет-траффика увеличился вдвое с января по март, затем незначительно снизился в апреле и далее оставался примерно на одном уровне до конца года.<br /> \n",
    "<br /> \n",
    "Что касается пользователей тарифа Ultra:<br /> \n",
    "Средняя продолжительность звонков была минимальной в феврале, затем в течение года колебалась от месяца к месяцу,но постепенно достигла максимума в декабре.<br /> \n",
    "Среднее количество смс также было минимальным в феврале и постепенно росло, достигнув максимума к концу года. <br /> \n",
    "Объём интернет-траффика увеличивался с января по май, затем оставался примерно на одном уровне и достиг пика в декабре.<br /> <br /> \n",
    "В целом объёмы использования услуг по обоим тарифам постепенно росли в течение года.<br /> <br /> \n",
    "Пользователи тарифа smart гораздо чаще используют дополнительные минуты, смс и гигабайты, чем пользователи тарифа Ultra. Вторые перерасходуют только интернет-траффик, и никто из пользователей этого тарифа не использует полностью заложенные в пакет минуты и смс.\n",
    "\n",
    "Также было установлено, что средняя выручка пользователей тарифов Ultra и Smart различаются, она выше у пользователей тарифа Ultra;\n",
    "средняя выручка пользователей из Москвы не отличается от выручки пользователей из других регионов. "
   ]
  },
  {
   "cell_type": "code",
   "execution_count": null,
   "metadata": {},
   "outputs": [],
   "source": []
  }
 ],
 "metadata": {
  "ExecuteTimeLog": [
   {
    "duration": 1289,
    "start_time": "2022-02-20T18:12:20.042Z"
   },
   {
    "duration": 25,
    "start_time": "2022-02-20T18:12:48.849Z"
   },
   {
    "duration": 14,
    "start_time": "2022-02-20T18:13:04.547Z"
   },
   {
    "duration": 17,
    "start_time": "2022-02-20T18:13:17.202Z"
   },
   {
    "duration": 11,
    "start_time": "2022-02-20T18:13:31.581Z"
   },
   {
    "duration": 11,
    "start_time": "2022-02-20T18:13:38.960Z"
   },
   {
    "duration": 12,
    "start_time": "2022-02-20T18:13:50.219Z"
   },
   {
    "duration": 13,
    "start_time": "2022-02-20T18:13:55.574Z"
   },
   {
    "duration": 16,
    "start_time": "2022-02-20T18:14:17.718Z"
   },
   {
    "duration": 43,
    "start_time": "2022-02-20T18:27:32.131Z"
   },
   {
    "duration": 182,
    "start_time": "2022-02-20T18:28:06.794Z"
   },
   {
    "duration": 143,
    "start_time": "2022-02-20T18:28:26.405Z"
   },
   {
    "duration": 81,
    "start_time": "2022-02-20T18:28:58.286Z"
   },
   {
    "duration": 33,
    "start_time": "2022-02-20T18:29:36.013Z"
   },
   {
    "duration": 2031,
    "start_time": "2022-02-20T19:38:01.054Z"
   },
   {
    "duration": 1889,
    "start_time": "2022-02-20T19:38:30.388Z"
   },
   {
    "duration": 1637,
    "start_time": "2022-02-20T19:39:16.844Z"
   },
   {
    "duration": 91,
    "start_time": "2022-02-20T19:39:41.749Z"
   },
   {
    "duration": 107,
    "start_time": "2022-02-20T19:39:57.873Z"
   },
   {
    "duration": 520,
    "start_time": "2022-02-20T19:42:10.632Z"
   },
   {
    "duration": 107,
    "start_time": "2022-02-20T19:42:20.114Z"
   },
   {
    "duration": 124,
    "start_time": "2022-02-20T19:42:35.351Z"
   },
   {
    "duration": 107,
    "start_time": "2022-02-20T19:43:22.956Z"
   },
   {
    "duration": 124,
    "start_time": "2022-02-20T19:44:41.693Z"
   },
   {
    "duration": 116,
    "start_time": "2022-02-20T19:45:48.872Z"
   },
   {
    "duration": 128,
    "start_time": "2022-02-20T19:46:07.007Z"
   },
   {
    "duration": 115,
    "start_time": "2022-02-20T19:46:32.346Z"
   },
   {
    "duration": 75,
    "start_time": "2022-02-20T19:48:51.852Z"
   },
   {
    "duration": 177,
    "start_time": "2022-02-20T19:49:24.178Z"
   },
   {
    "duration": 78,
    "start_time": "2022-02-20T19:49:37.599Z"
   },
   {
    "duration": 335,
    "start_time": "2022-02-20T19:51:21.046Z"
   },
   {
    "duration": 326,
    "start_time": "2022-02-20T19:51:56.669Z"
   },
   {
    "duration": 97,
    "start_time": "2022-02-20T19:52:12.014Z"
   },
   {
    "duration": 485,
    "start_time": "2022-02-20T19:52:43.074Z"
   },
   {
    "duration": 342,
    "start_time": "2022-02-20T19:52:56.471Z"
   },
   {
    "duration": 110,
    "start_time": "2022-02-20T19:53:17.234Z"
   },
   {
    "duration": 364,
    "start_time": "2022-02-20T19:54:06.237Z"
   },
   {
    "duration": 108,
    "start_time": "2022-02-20T19:54:17.787Z"
   },
   {
    "duration": 78,
    "start_time": "2022-02-20T19:54:55.819Z"
   },
   {
    "duration": 80,
    "start_time": "2022-02-20T19:55:14.044Z"
   },
   {
    "duration": 80,
    "start_time": "2022-02-20T19:55:22.091Z"
   },
   {
    "duration": 102,
    "start_time": "2022-02-20T19:55:32.572Z"
   },
   {
    "duration": 106,
    "start_time": "2022-02-20T19:55:53.093Z"
   },
   {
    "duration": 95,
    "start_time": "2022-02-20T19:56:10.021Z"
   },
   {
    "duration": 86,
    "start_time": "2022-02-20T19:56:42.081Z"
   },
   {
    "duration": 94,
    "start_time": "2022-02-20T19:57:48.808Z"
   },
   {
    "duration": 86,
    "start_time": "2022-02-20T20:01:47.112Z"
   },
   {
    "duration": 91,
    "start_time": "2022-02-20T20:01:51.703Z"
   },
   {
    "duration": 89,
    "start_time": "2022-02-20T20:02:28.525Z"
   },
   {
    "duration": 351,
    "start_time": "2022-02-20T20:03:05.914Z"
   },
   {
    "duration": 92,
    "start_time": "2022-02-20T20:03:17.168Z"
   },
   {
    "duration": 356,
    "start_time": "2022-02-20T20:04:39.290Z"
   },
   {
    "duration": 319,
    "start_time": "2022-02-20T20:04:47.918Z"
   },
   {
    "duration": 314,
    "start_time": "2022-02-20T20:05:17.848Z"
   },
   {
    "duration": 335,
    "start_time": "2022-02-20T20:05:43.869Z"
   },
   {
    "duration": 95,
    "start_time": "2022-02-20T20:06:04.714Z"
   },
   {
    "duration": 323,
    "start_time": "2022-02-20T20:06:40.418Z"
   },
   {
    "duration": 352,
    "start_time": "2022-02-20T20:06:53.484Z"
   },
   {
    "duration": 424,
    "start_time": "2022-02-20T20:07:25.706Z"
   },
   {
    "duration": 189,
    "start_time": "2022-02-20T20:07:39.459Z"
   },
   {
    "duration": 182,
    "start_time": "2022-02-20T20:07:57.611Z"
   },
   {
    "duration": 907,
    "start_time": "2022-02-20T20:08:46.097Z"
   },
   {
    "duration": 338,
    "start_time": "2022-02-20T20:09:01.852Z"
   },
   {
    "duration": 124,
    "start_time": "2022-02-20T20:09:14.770Z"
   },
   {
    "duration": 305,
    "start_time": "2022-02-20T20:10:13.882Z"
   },
   {
    "duration": 130,
    "start_time": "2022-02-20T20:10:26.842Z"
   },
   {
    "duration": 160,
    "start_time": "2022-02-20T20:11:25.213Z"
   },
   {
    "duration": 171,
    "start_time": "2022-02-20T20:12:10.329Z"
   },
   {
    "duration": 399,
    "start_time": "2022-02-20T20:12:58.809Z"
   },
   {
    "duration": 6036,
    "start_time": "2022-02-20T20:13:06.665Z"
   },
   {
    "duration": 153,
    "start_time": "2022-02-20T20:13:19.520Z"
   },
   {
    "duration": 169,
    "start_time": "2022-02-20T20:13:25.278Z"
   },
   {
    "duration": 329,
    "start_time": "2022-02-20T20:14:01.951Z"
   },
   {
    "duration": 328,
    "start_time": "2022-02-20T20:14:11.811Z"
   },
   {
    "duration": 1849,
    "start_time": "2022-02-20T20:15:20.154Z"
   },
   {
    "duration": 189,
    "start_time": "2022-02-20T20:15:22.007Z"
   },
   {
    "duration": 207,
    "start_time": "2022-02-20T20:15:22.201Z"
   },
   {
    "duration": 217,
    "start_time": "2022-02-20T20:15:22.411Z"
   },
   {
    "duration": 21,
    "start_time": "2022-02-20T20:15:22.631Z"
   },
   {
    "duration": 35,
    "start_time": "2022-02-20T20:15:22.654Z"
   },
   {
    "duration": 129,
    "start_time": "2022-02-20T20:16:37.340Z"
   },
   {
    "duration": 118,
    "start_time": "2022-02-20T20:16:42.401Z"
   },
   {
    "duration": 125,
    "start_time": "2022-02-20T20:17:53.894Z"
   },
   {
    "duration": 136,
    "start_time": "2022-02-20T20:18:48.434Z"
   },
   {
    "duration": 355,
    "start_time": "2022-02-21T20:02:55.596Z"
   },
   {
    "duration": 1326,
    "start_time": "2022-02-21T20:03:17.661Z"
   },
   {
    "duration": 192,
    "start_time": "2022-02-21T20:03:18.990Z"
   },
   {
    "duration": 197,
    "start_time": "2022-02-21T20:03:19.189Z"
   },
   {
    "duration": 147,
    "start_time": "2022-02-21T20:03:19.390Z"
   },
   {
    "duration": 24,
    "start_time": "2022-02-21T20:03:19.540Z"
   },
   {
    "duration": 33,
    "start_time": "2022-02-21T20:03:19.567Z"
   },
   {
    "duration": 98,
    "start_time": "2022-02-21T20:03:19.602Z"
   },
   {
    "duration": 446,
    "start_time": "2022-02-21T20:04:56.167Z"
   },
   {
    "duration": 195,
    "start_time": "2022-02-21T20:06:02.410Z"
   },
   {
    "duration": 160,
    "start_time": "2022-02-21T20:06:39.581Z"
   },
   {
    "duration": 1289,
    "start_time": "2022-02-21T20:07:33.761Z"
   },
   {
    "duration": 221,
    "start_time": "2022-02-21T20:07:35.053Z"
   },
   {
    "duration": 175,
    "start_time": "2022-02-21T20:07:35.277Z"
   },
   {
    "duration": 126,
    "start_time": "2022-02-21T20:07:35.462Z"
   },
   {
    "duration": 13,
    "start_time": "2022-02-21T20:07:35.591Z"
   },
   {
    "duration": 58,
    "start_time": "2022-02-21T20:07:35.607Z"
   },
   {
    "duration": 496,
    "start_time": "2022-02-21T20:07:35.668Z"
   },
   {
    "duration": 38,
    "start_time": "2022-02-21T20:07:36.128Z"
   },
   {
    "duration": 95,
    "start_time": "2022-02-21T20:12:44.131Z"
   },
   {
    "duration": 63,
    "start_time": "2022-02-21T20:12:59.302Z"
   },
   {
    "duration": 8404,
    "start_time": "2022-02-21T20:13:32.396Z"
   },
   {
    "duration": 79,
    "start_time": "2022-02-21T20:14:05.309Z"
   },
   {
    "duration": 93,
    "start_time": "2022-02-21T20:14:18.077Z"
   },
   {
    "duration": 946,
    "start_time": "2022-02-21T20:18:13.461Z"
   },
   {
    "duration": 939,
    "start_time": "2022-02-21T20:18:58.464Z"
   },
   {
    "duration": 147,
    "start_time": "2022-02-21T20:19:16.608Z"
   },
   {
    "duration": 132,
    "start_time": "2022-02-21T20:19:41.234Z"
   },
   {
    "duration": 319,
    "start_time": "2022-02-21T20:25:24.352Z"
   },
   {
    "duration": 67,
    "start_time": "2022-02-21T20:25:48.467Z"
   },
   {
    "duration": 10,
    "start_time": "2022-02-21T20:33:26.627Z"
   },
   {
    "duration": 10,
    "start_time": "2022-02-21T20:34:20.073Z"
   },
   {
    "duration": 15,
    "start_time": "2022-02-21T20:42:59.543Z"
   },
   {
    "duration": 38,
    "start_time": "2022-02-21T20:43:15.171Z"
   },
   {
    "duration": 356,
    "start_time": "2022-02-21T20:57:14.554Z"
   },
   {
    "duration": 120,
    "start_time": "2022-02-21T20:58:19.218Z"
   },
   {
    "duration": 114,
    "start_time": "2022-02-21T20:58:30.385Z"
   },
   {
    "duration": 114,
    "start_time": "2022-02-21T20:58:43.947Z"
   },
   {
    "duration": 351,
    "start_time": "2022-02-21T20:58:50.311Z"
   },
   {
    "duration": 502,
    "start_time": "2022-02-21T20:59:30.514Z"
   },
   {
    "duration": 302,
    "start_time": "2022-02-21T20:59:39.466Z"
   },
   {
    "duration": 318,
    "start_time": "2022-02-21T20:59:48.331Z"
   },
   {
    "duration": 331,
    "start_time": "2022-02-21T21:02:24.975Z"
   },
   {
    "duration": 106,
    "start_time": "2022-02-21T21:02:38.530Z"
   },
   {
    "duration": 60,
    "start_time": "2022-02-21T21:02:42.055Z"
   },
   {
    "duration": 76,
    "start_time": "2022-02-21T21:02:48.507Z"
   },
   {
    "duration": 155,
    "start_time": "2022-02-21T21:03:41.802Z"
   },
   {
    "duration": 92,
    "start_time": "2022-02-21T21:05:31.934Z"
   },
   {
    "duration": 97,
    "start_time": "2022-02-21T21:06:58.600Z"
   },
   {
    "duration": 12,
    "start_time": "2022-02-21T21:07:10.596Z"
   },
   {
    "duration": 38,
    "start_time": "2022-02-21T21:07:11.730Z"
   },
   {
    "duration": 797,
    "start_time": "2022-02-21T21:07:23.559Z"
   },
   {
    "duration": 40,
    "start_time": "2022-02-21T21:07:37.919Z"
   },
   {
    "duration": 979,
    "start_time": "2022-02-23T16:03:06.308Z"
   },
   {
    "duration": 151,
    "start_time": "2022-02-23T16:03:07.289Z"
   },
   {
    "duration": 121,
    "start_time": "2022-02-23T16:03:07.441Z"
   },
   {
    "duration": 124,
    "start_time": "2022-02-23T16:03:07.564Z"
   },
   {
    "duration": 11,
    "start_time": "2022-02-23T16:03:07.690Z"
   },
   {
    "duration": 39,
    "start_time": "2022-02-23T16:03:07.702Z"
   },
   {
    "duration": 98,
    "start_time": "2022-02-23T16:03:07.743Z"
   },
   {
    "duration": 47,
    "start_time": "2022-02-23T16:03:07.843Z"
   },
   {
    "duration": 980,
    "start_time": "2022-02-23T16:03:06.912Z"
   },
   {
    "duration": 979,
    "start_time": "2022-02-23T16:03:06.915Z"
   },
   {
    "duration": 972,
    "start_time": "2022-02-23T16:03:06.923Z"
   },
   {
    "duration": 59,
    "start_time": "2022-02-23T16:08:23.701Z"
   },
   {
    "duration": 72,
    "start_time": "2022-02-23T16:17:40.470Z"
   },
   {
    "duration": 78,
    "start_time": "2022-02-23T16:17:42.956Z"
   },
   {
    "duration": 11,
    "start_time": "2022-02-23T16:17:44.595Z"
   },
   {
    "duration": 31,
    "start_time": "2022-02-23T16:17:50.163Z"
   },
   {
    "duration": 26,
    "start_time": "2022-02-23T16:47:30.818Z"
   },
   {
    "duration": 24,
    "start_time": "2022-02-23T16:50:11.683Z"
   },
   {
    "duration": 26,
    "start_time": "2022-02-23T16:50:25.856Z"
   },
   {
    "duration": 35,
    "start_time": "2022-02-23T16:56:20.219Z"
   },
   {
    "duration": 280,
    "start_time": "2022-02-23T16:56:30.011Z"
   },
   {
    "duration": 34,
    "start_time": "2022-02-23T16:56:38.950Z"
   },
   {
    "duration": 25,
    "start_time": "2022-02-23T16:57:40.663Z"
   },
   {
    "duration": 25,
    "start_time": "2022-02-23T16:57:54.801Z"
   },
   {
    "duration": 25,
    "start_time": "2022-02-23T16:58:05.640Z"
   },
   {
    "duration": 6,
    "start_time": "2022-02-23T17:19:18.403Z"
   },
   {
    "duration": 28,
    "start_time": "2022-02-23T17:19:19.840Z"
   },
   {
    "duration": 7,
    "start_time": "2022-02-23T17:21:07.170Z"
   },
   {
    "duration": 134,
    "start_time": "2022-02-23T17:21:07.764Z"
   },
   {
    "duration": 945,
    "start_time": "2022-02-23T17:21:24.520Z"
   },
   {
    "duration": 237,
    "start_time": "2022-02-23T17:21:25.467Z"
   },
   {
    "duration": 113,
    "start_time": "2022-02-23T17:21:25.707Z"
   },
   {
    "duration": 84,
    "start_time": "2022-02-23T17:21:25.822Z"
   },
   {
    "duration": 27,
    "start_time": "2022-02-23T17:21:25.908Z"
   },
   {
    "duration": 24,
    "start_time": "2022-02-23T17:21:25.937Z"
   },
   {
    "duration": 148,
    "start_time": "2022-02-23T17:21:25.963Z"
   },
   {
    "duration": 81,
    "start_time": "2022-02-23T17:21:26.114Z"
   },
   {
    "duration": 83,
    "start_time": "2022-02-23T17:21:26.197Z"
   },
   {
    "duration": 9,
    "start_time": "2022-02-23T17:21:26.282Z"
   },
   {
    "duration": 231,
    "start_time": "2022-02-23T17:21:26.293Z"
   },
   {
    "duration": 185,
    "start_time": "2022-02-23T17:22:05.897Z"
   },
   {
    "duration": 174,
    "start_time": "2022-02-23T17:22:08.333Z"
   },
   {
    "duration": 921,
    "start_time": "2022-02-23T17:24:12.835Z"
   },
   {
    "duration": 157,
    "start_time": "2022-02-23T17:24:13.758Z"
   },
   {
    "duration": 97,
    "start_time": "2022-02-23T17:24:13.917Z"
   },
   {
    "duration": 88,
    "start_time": "2022-02-23T17:24:14.016Z"
   },
   {
    "duration": 7,
    "start_time": "2022-02-23T17:24:14.106Z"
   },
   {
    "duration": 20,
    "start_time": "2022-02-23T17:24:14.131Z"
   },
   {
    "duration": 111,
    "start_time": "2022-02-23T17:24:14.152Z"
   },
   {
    "duration": 52,
    "start_time": "2022-02-23T17:24:14.265Z"
   },
   {
    "duration": 63,
    "start_time": "2022-02-23T17:24:14.319Z"
   },
   {
    "duration": 8,
    "start_time": "2022-02-23T17:24:14.384Z"
   },
   {
    "duration": 45,
    "start_time": "2022-02-23T17:24:14.394Z"
   },
   {
    "duration": 937,
    "start_time": "2022-02-23T17:25:34.061Z"
   },
   {
    "duration": 166,
    "start_time": "2022-02-23T17:25:35.000Z"
   },
   {
    "duration": 115,
    "start_time": "2022-02-23T17:25:35.168Z"
   },
   {
    "duration": 86,
    "start_time": "2022-02-23T17:25:35.285Z"
   },
   {
    "duration": 7,
    "start_time": "2022-02-23T17:25:35.373Z"
   },
   {
    "duration": 22,
    "start_time": "2022-02-23T17:25:35.382Z"
   },
   {
    "duration": 109,
    "start_time": "2022-02-23T17:25:35.405Z"
   },
   {
    "duration": 60,
    "start_time": "2022-02-23T17:25:35.516Z"
   },
   {
    "duration": 64,
    "start_time": "2022-02-23T17:25:35.578Z"
   },
   {
    "duration": 6,
    "start_time": "2022-02-23T17:25:35.644Z"
   },
   {
    "duration": 193,
    "start_time": "2022-02-23T17:25:35.652Z"
   },
   {
    "duration": 135,
    "start_time": "2022-02-23T17:25:54.706Z"
   },
   {
    "duration": 133,
    "start_time": "2022-02-23T17:26:09.516Z"
   },
   {
    "duration": 883,
    "start_time": "2022-02-23T17:26:21.198Z"
   },
   {
    "duration": 148,
    "start_time": "2022-02-23T17:26:22.084Z"
   },
   {
    "duration": 119,
    "start_time": "2022-02-23T17:26:22.236Z"
   },
   {
    "duration": 82,
    "start_time": "2022-02-23T17:26:22.356Z"
   },
   {
    "duration": 7,
    "start_time": "2022-02-23T17:26:22.440Z"
   },
   {
    "duration": 17,
    "start_time": "2022-02-23T17:26:22.449Z"
   },
   {
    "duration": 115,
    "start_time": "2022-02-23T17:26:22.469Z"
   },
   {
    "duration": 57,
    "start_time": "2022-02-23T17:26:22.586Z"
   },
   {
    "duration": 54,
    "start_time": "2022-02-23T17:26:22.645Z"
   },
   {
    "duration": 33,
    "start_time": "2022-02-23T17:26:22.701Z"
   },
   {
    "duration": 183,
    "start_time": "2022-02-23T17:26:22.736Z"
   },
   {
    "duration": 151,
    "start_time": "2022-02-23T17:28:05.049Z"
   },
   {
    "duration": 181,
    "start_time": "2022-02-23T17:28:17.938Z"
   },
   {
    "duration": 128,
    "start_time": "2022-02-23T17:28:23.144Z"
   },
   {
    "duration": 934,
    "start_time": "2022-02-23T17:28:37.461Z"
   },
   {
    "duration": 162,
    "start_time": "2022-02-23T17:28:38.397Z"
   },
   {
    "duration": 111,
    "start_time": "2022-02-23T17:28:38.561Z"
   },
   {
    "duration": 97,
    "start_time": "2022-02-23T17:28:38.674Z"
   },
   {
    "duration": 8,
    "start_time": "2022-02-23T17:28:38.773Z"
   },
   {
    "duration": 25,
    "start_time": "2022-02-23T17:28:38.783Z"
   },
   {
    "duration": 122,
    "start_time": "2022-02-23T17:28:38.810Z"
   },
   {
    "duration": 71,
    "start_time": "2022-02-23T17:28:38.935Z"
   },
   {
    "duration": 88,
    "start_time": "2022-02-23T17:28:39.008Z"
   },
   {
    "duration": 9,
    "start_time": "2022-02-23T17:28:39.098Z"
   },
   {
    "duration": 587,
    "start_time": "2022-02-23T17:28:39.110Z"
   },
   {
    "duration": 877,
    "start_time": "2022-02-23T17:29:15.578Z"
   },
   {
    "duration": 215,
    "start_time": "2022-02-23T17:29:16.458Z"
   },
   {
    "duration": 156,
    "start_time": "2022-02-23T17:29:16.675Z"
   },
   {
    "duration": 126,
    "start_time": "2022-02-23T17:29:16.833Z"
   },
   {
    "duration": 7,
    "start_time": "2022-02-23T17:29:16.961Z"
   },
   {
    "duration": 23,
    "start_time": "2022-02-23T17:29:16.970Z"
   },
   {
    "duration": 108,
    "start_time": "2022-02-23T17:29:16.995Z"
   },
   {
    "duration": 61,
    "start_time": "2022-02-23T17:29:17.106Z"
   },
   {
    "duration": 47,
    "start_time": "2022-02-23T17:29:17.168Z"
   },
   {
    "duration": 21,
    "start_time": "2022-02-23T17:29:17.217Z"
   },
   {
    "duration": 183,
    "start_time": "2022-02-23T17:29:17.239Z"
   },
   {
    "duration": 1208,
    "start_time": "2022-02-23T17:32:23.163Z"
   },
   {
    "duration": 223,
    "start_time": "2022-02-23T17:32:24.373Z"
   },
   {
    "duration": 113,
    "start_time": "2022-02-23T17:32:24.600Z"
   },
   {
    "duration": 84,
    "start_time": "2022-02-23T17:32:24.715Z"
   },
   {
    "duration": 7,
    "start_time": "2022-02-23T17:32:24.801Z"
   },
   {
    "duration": 36,
    "start_time": "2022-02-23T17:32:24.810Z"
   },
   {
    "duration": 106,
    "start_time": "2022-02-23T17:32:24.849Z"
   },
   {
    "duration": 49,
    "start_time": "2022-02-23T17:32:24.958Z"
   },
   {
    "duration": 61,
    "start_time": "2022-02-23T17:32:25.010Z"
   },
   {
    "duration": 12,
    "start_time": "2022-02-23T17:32:25.073Z"
   },
   {
    "duration": 189,
    "start_time": "2022-02-23T17:32:25.087Z"
   },
   {
    "duration": 16,
    "start_time": "2022-02-23T17:33:03.518Z"
   },
   {
    "duration": 3,
    "start_time": "2022-02-23T17:33:38.552Z"
   },
   {
    "duration": 10,
    "start_time": "2022-02-23T17:33:45.574Z"
   },
   {
    "duration": 2,
    "start_time": "2022-02-23T17:33:52.641Z"
   },
   {
    "duration": 119,
    "start_time": "2022-02-23T17:33:58.359Z"
   },
   {
    "duration": 2,
    "start_time": "2022-02-23T17:34:05.475Z"
   },
   {
    "duration": 942,
    "start_time": "2022-02-23T17:34:17.002Z"
   },
   {
    "duration": 154,
    "start_time": "2022-02-23T17:34:17.946Z"
   },
   {
    "duration": 120,
    "start_time": "2022-02-23T17:34:18.102Z"
   },
   {
    "duration": 76,
    "start_time": "2022-02-23T17:34:18.224Z"
   },
   {
    "duration": 8,
    "start_time": "2022-02-23T17:34:18.302Z"
   },
   {
    "duration": 26,
    "start_time": "2022-02-23T17:34:18.331Z"
   },
   {
    "duration": 105,
    "start_time": "2022-02-23T17:34:18.358Z"
   },
   {
    "duration": 49,
    "start_time": "2022-02-23T17:34:18.465Z"
   },
   {
    "duration": 60,
    "start_time": "2022-02-23T17:34:18.515Z"
   },
   {
    "duration": 3,
    "start_time": "2022-02-23T17:34:18.577Z"
   },
   {
    "duration": 8,
    "start_time": "2022-02-23T17:34:18.581Z"
   },
   {
    "duration": 186,
    "start_time": "2022-02-23T17:34:18.591Z"
   },
   {
    "duration": 11,
    "start_time": "2022-02-23T17:35:57.720Z"
   },
   {
    "duration": 9,
    "start_time": "2022-02-23T17:36:07.265Z"
   },
   {
    "duration": 10,
    "start_time": "2022-02-23T17:36:30.687Z"
   },
   {
    "duration": 12,
    "start_time": "2022-02-23T17:36:48.300Z"
   },
   {
    "duration": 10,
    "start_time": "2022-02-23T17:36:56.463Z"
   },
   {
    "duration": 14,
    "start_time": "2022-02-23T17:37:43.625Z"
   },
   {
    "duration": 19,
    "start_time": "2022-02-23T17:37:50.552Z"
   },
   {
    "duration": 12,
    "start_time": "2022-02-23T17:38:15.436Z"
   },
   {
    "duration": 19,
    "start_time": "2022-02-23T17:38:32.961Z"
   },
   {
    "duration": 1026,
    "start_time": "2022-02-23T17:39:49.710Z"
   },
   {
    "duration": 150,
    "start_time": "2022-02-23T17:39:50.738Z"
   },
   {
    "duration": 115,
    "start_time": "2022-02-23T17:39:50.890Z"
   },
   {
    "duration": 91,
    "start_time": "2022-02-23T17:39:51.008Z"
   },
   {
    "duration": 7,
    "start_time": "2022-02-23T17:39:51.101Z"
   },
   {
    "duration": 35,
    "start_time": "2022-02-23T17:39:51.110Z"
   },
   {
    "duration": 106,
    "start_time": "2022-02-23T17:39:51.147Z"
   },
   {
    "duration": 50,
    "start_time": "2022-02-23T17:39:51.255Z"
   },
   {
    "duration": 64,
    "start_time": "2022-02-23T17:39:51.307Z"
   },
   {
    "duration": 8,
    "start_time": "2022-02-23T17:39:51.373Z"
   },
   {
    "duration": 191,
    "start_time": "2022-02-23T17:39:51.383Z"
   },
   {
    "duration": 907,
    "start_time": "2022-02-23T17:39:50.669Z"
   },
   {
    "duration": 14,
    "start_time": "2022-02-23T17:39:56.729Z"
   },
   {
    "duration": 144,
    "start_time": "2022-02-23T17:40:02.785Z"
   },
   {
    "duration": 38,
    "start_time": "2022-02-23T17:40:13.406Z"
   },
   {
    "duration": 11,
    "start_time": "2022-02-23T17:41:05.052Z"
   },
   {
    "duration": 12,
    "start_time": "2022-02-23T17:41:30.051Z"
   },
   {
    "duration": 15,
    "start_time": "2022-02-23T17:41:44.284Z"
   },
   {
    "duration": 14,
    "start_time": "2022-02-23T17:41:52.090Z"
   },
   {
    "duration": 27,
    "start_time": "2022-02-23T17:44:18.425Z"
   },
   {
    "duration": 38,
    "start_time": "2022-02-23T17:44:33.345Z"
   },
   {
    "duration": 33,
    "start_time": "2022-02-23T17:48:36.398Z"
   },
   {
    "duration": 25,
    "start_time": "2022-02-23T17:49:00.612Z"
   },
   {
    "duration": 245,
    "start_time": "2022-02-23T20:04:55.801Z"
   },
   {
    "duration": 981,
    "start_time": "2022-02-23T20:06:18.817Z"
   },
   {
    "duration": 158,
    "start_time": "2022-02-23T20:06:19.801Z"
   },
   {
    "duration": 127,
    "start_time": "2022-02-23T20:06:19.961Z"
   },
   {
    "duration": 100,
    "start_time": "2022-02-23T20:06:20.090Z"
   },
   {
    "duration": 8,
    "start_time": "2022-02-23T20:06:20.192Z"
   },
   {
    "duration": 42,
    "start_time": "2022-02-23T20:06:20.202Z"
   },
   {
    "duration": 109,
    "start_time": "2022-02-23T20:06:20.246Z"
   },
   {
    "duration": 63,
    "start_time": "2022-02-23T20:06:20.357Z"
   },
   {
    "duration": 57,
    "start_time": "2022-02-23T20:06:20.423Z"
   },
   {
    "duration": 7,
    "start_time": "2022-02-23T20:06:20.483Z"
   },
   {
    "duration": 54,
    "start_time": "2022-02-23T20:06:20.492Z"
   },
   {
    "duration": 391,
    "start_time": "2022-02-23T20:06:20.548Z"
   },
   {
    "duration": 891,
    "start_time": "2022-02-23T20:06:20.050Z"
   },
   {
    "duration": 891,
    "start_time": "2022-02-23T20:06:20.051Z"
   },
   {
    "duration": 252,
    "start_time": "2022-02-23T20:07:23.317Z"
   },
   {
    "duration": 997,
    "start_time": "2022-02-23T20:08:38.994Z"
   },
   {
    "duration": 213,
    "start_time": "2022-02-23T20:08:39.993Z"
   },
   {
    "duration": 159,
    "start_time": "2022-02-23T20:08:40.219Z"
   },
   {
    "duration": 101,
    "start_time": "2022-02-23T20:08:40.380Z"
   },
   {
    "duration": 9,
    "start_time": "2022-02-23T20:08:40.483Z"
   },
   {
    "duration": 42,
    "start_time": "2022-02-23T20:08:40.495Z"
   },
   {
    "duration": 133,
    "start_time": "2022-02-23T20:08:40.540Z"
   },
   {
    "duration": 63,
    "start_time": "2022-02-23T20:08:40.676Z"
   },
   {
    "duration": 61,
    "start_time": "2022-02-23T20:08:40.741Z"
   },
   {
    "duration": 21,
    "start_time": "2022-02-23T20:08:40.804Z"
   },
   {
    "duration": 272,
    "start_time": "2022-02-23T20:08:40.827Z"
   },
   {
    "duration": 911,
    "start_time": "2022-02-23T20:08:40.190Z"
   },
   {
    "duration": 911,
    "start_time": "2022-02-23T20:08:40.191Z"
   },
   {
    "duration": 909,
    "start_time": "2022-02-23T20:08:40.194Z"
   },
   {
    "duration": 27,
    "start_time": "2022-02-23T20:21:35.327Z"
   },
   {
    "duration": 30,
    "start_time": "2022-02-23T20:22:05.239Z"
   },
   {
    "duration": 975,
    "start_time": "2022-02-23T20:24:15.097Z"
   },
   {
    "duration": 156,
    "start_time": "2022-02-23T20:24:16.074Z"
   },
   {
    "duration": 108,
    "start_time": "2022-02-23T20:24:16.232Z"
   },
   {
    "duration": 94,
    "start_time": "2022-02-23T20:24:16.342Z"
   },
   {
    "duration": 8,
    "start_time": "2022-02-23T20:24:16.438Z"
   },
   {
    "duration": 26,
    "start_time": "2022-02-23T20:24:16.448Z"
   },
   {
    "duration": 123,
    "start_time": "2022-02-23T20:24:16.476Z"
   },
   {
    "duration": 62,
    "start_time": "2022-02-23T20:24:16.603Z"
   },
   {
    "duration": 65,
    "start_time": "2022-02-23T20:24:16.667Z"
   },
   {
    "duration": 8,
    "start_time": "2022-02-23T20:24:16.734Z"
   },
   {
    "duration": 32,
    "start_time": "2022-02-23T20:24:16.744Z"
   },
   {
    "duration": 49,
    "start_time": "2022-02-23T20:24:16.778Z"
   },
   {
    "duration": 377,
    "start_time": "2022-02-23T20:24:16.829Z"
   },
   {
    "duration": 210,
    "start_time": "2022-02-23T20:27:02.478Z"
   },
   {
    "duration": 1028,
    "start_time": "2022-02-23T20:27:22.094Z"
   },
   {
    "duration": 184,
    "start_time": "2022-02-23T20:27:23.124Z"
   },
   {
    "duration": 173,
    "start_time": "2022-02-23T20:27:23.311Z"
   },
   {
    "duration": 102,
    "start_time": "2022-02-23T20:27:23.486Z"
   },
   {
    "duration": 7,
    "start_time": "2022-02-23T20:27:23.590Z"
   },
   {
    "duration": 34,
    "start_time": "2022-02-23T20:27:23.599Z"
   },
   {
    "duration": 108,
    "start_time": "2022-02-23T20:27:23.635Z"
   },
   {
    "duration": 55,
    "start_time": "2022-02-23T20:27:23.745Z"
   },
   {
    "duration": 67,
    "start_time": "2022-02-23T20:27:23.802Z"
   },
   {
    "duration": 8,
    "start_time": "2022-02-23T20:27:23.871Z"
   },
   {
    "duration": 47,
    "start_time": "2022-02-23T20:27:23.880Z"
   },
   {
    "duration": 27,
    "start_time": "2022-02-23T20:27:23.928Z"
   },
   {
    "duration": 269,
    "start_time": "2022-02-23T20:27:23.957Z"
   },
   {
    "duration": 35,
    "start_time": "2022-02-23T20:27:45.006Z"
   },
   {
    "duration": 42,
    "start_time": "2022-02-23T20:28:16.700Z"
   },
   {
    "duration": 923,
    "start_time": "2022-02-23T20:28:34.661Z"
   },
   {
    "duration": 165,
    "start_time": "2022-02-23T20:28:35.587Z"
   },
   {
    "duration": 164,
    "start_time": "2022-02-23T20:28:35.755Z"
   },
   {
    "duration": 129,
    "start_time": "2022-02-23T20:28:35.921Z"
   },
   {
    "duration": 8,
    "start_time": "2022-02-23T20:28:36.053Z"
   },
   {
    "duration": 27,
    "start_time": "2022-02-23T20:28:36.062Z"
   },
   {
    "duration": 111,
    "start_time": "2022-02-23T20:28:36.090Z"
   },
   {
    "duration": 61,
    "start_time": "2022-02-23T20:28:36.203Z"
   },
   {
    "duration": 63,
    "start_time": "2022-02-23T20:28:36.265Z"
   },
   {
    "duration": 7,
    "start_time": "2022-02-23T20:28:36.330Z"
   },
   {
    "duration": 26,
    "start_time": "2022-02-23T20:28:36.339Z"
   },
   {
    "duration": 22,
    "start_time": "2022-02-23T20:28:36.367Z"
   },
   {
    "duration": 30,
    "start_time": "2022-02-23T20:28:36.419Z"
   },
   {
    "duration": 5709,
    "start_time": "2022-02-23T20:30:07.143Z"
   },
   {
    "duration": 6,
    "start_time": "2022-02-23T20:30:29.087Z"
   },
   {
    "duration": 989,
    "start_time": "2022-02-23T20:33:48.322Z"
   },
   {
    "duration": 170,
    "start_time": "2022-02-23T20:33:49.313Z"
   },
   {
    "duration": 117,
    "start_time": "2022-02-23T20:33:49.485Z"
   },
   {
    "duration": 90,
    "start_time": "2022-02-23T20:33:49.605Z"
   },
   {
    "duration": 8,
    "start_time": "2022-02-23T20:33:49.697Z"
   },
   {
    "duration": 33,
    "start_time": "2022-02-23T20:33:49.719Z"
   },
   {
    "duration": 114,
    "start_time": "2022-02-23T20:33:49.754Z"
   },
   {
    "duration": 52,
    "start_time": "2022-02-23T20:33:49.869Z"
   },
   {
    "duration": 57,
    "start_time": "2022-02-23T20:33:49.925Z"
   },
   {
    "duration": 8,
    "start_time": "2022-02-23T20:33:49.985Z"
   },
   {
    "duration": 50,
    "start_time": "2022-02-23T20:33:49.995Z"
   },
   {
    "duration": 29,
    "start_time": "2022-02-23T20:33:50.047Z"
   },
   {
    "duration": 57,
    "start_time": "2022-02-23T20:33:50.078Z"
   },
   {
    "duration": 5,
    "start_time": "2022-02-23T20:33:50.137Z"
   },
   {
    "duration": 1126,
    "start_time": "2022-02-23T20:37:09.385Z"
   },
   {
    "duration": 167,
    "start_time": "2022-02-23T20:37:10.513Z"
   },
   {
    "duration": 136,
    "start_time": "2022-02-23T20:37:10.682Z"
   },
   {
    "duration": 83,
    "start_time": "2022-02-23T20:37:10.820Z"
   },
   {
    "duration": 21,
    "start_time": "2022-02-23T20:37:10.904Z"
   },
   {
    "duration": 23,
    "start_time": "2022-02-23T20:37:10.927Z"
   },
   {
    "duration": 130,
    "start_time": "2022-02-23T20:37:10.952Z"
   },
   {
    "duration": 133,
    "start_time": "2022-02-23T20:37:11.084Z"
   },
   {
    "duration": 91,
    "start_time": "2022-02-23T20:37:11.235Z"
   },
   {
    "duration": 31,
    "start_time": "2022-02-23T20:37:11.335Z"
   },
   {
    "duration": 131,
    "start_time": "2022-02-23T20:37:11.379Z"
   },
   {
    "duration": 62,
    "start_time": "2022-02-23T20:37:11.512Z"
   },
   {
    "duration": 138,
    "start_time": "2022-02-23T20:37:11.576Z"
   },
   {
    "duration": 51,
    "start_time": "2022-02-23T20:37:11.716Z"
   },
   {
    "duration": 952,
    "start_time": "2022-02-23T20:37:43.666Z"
   },
   {
    "duration": 192,
    "start_time": "2022-02-23T20:37:44.620Z"
   },
   {
    "duration": 120,
    "start_time": "2022-02-23T20:37:44.815Z"
   },
   {
    "duration": 104,
    "start_time": "2022-02-23T20:37:44.938Z"
   },
   {
    "duration": 9,
    "start_time": "2022-02-23T20:37:45.044Z"
   },
   {
    "duration": 39,
    "start_time": "2022-02-23T20:37:45.055Z"
   },
   {
    "duration": 115,
    "start_time": "2022-02-23T20:37:45.096Z"
   },
   {
    "duration": 56,
    "start_time": "2022-02-23T20:37:45.213Z"
   },
   {
    "duration": 73,
    "start_time": "2022-02-23T20:37:45.272Z"
   },
   {
    "duration": 8,
    "start_time": "2022-02-23T20:37:45.347Z"
   },
   {
    "duration": 33,
    "start_time": "2022-02-23T20:37:45.356Z"
   },
   {
    "duration": 45,
    "start_time": "2022-02-23T20:37:45.391Z"
   },
   {
    "duration": 29,
    "start_time": "2022-02-23T20:37:45.438Z"
   },
   {
    "duration": 5,
    "start_time": "2022-02-23T20:37:45.469Z"
   },
   {
    "duration": 968,
    "start_time": "2022-02-23T20:38:38.322Z"
   },
   {
    "duration": 170,
    "start_time": "2022-02-23T20:38:39.292Z"
   },
   {
    "duration": 119,
    "start_time": "2022-02-23T20:38:39.464Z"
   },
   {
    "duration": 98,
    "start_time": "2022-02-23T20:38:39.585Z"
   },
   {
    "duration": 8,
    "start_time": "2022-02-23T20:38:39.684Z"
   },
   {
    "duration": 34,
    "start_time": "2022-02-23T20:38:39.694Z"
   },
   {
    "duration": 100,
    "start_time": "2022-02-23T20:38:39.730Z"
   },
   {
    "duration": 55,
    "start_time": "2022-02-23T20:38:39.831Z"
   },
   {
    "duration": 74,
    "start_time": "2022-02-23T20:38:39.888Z"
   },
   {
    "duration": 8,
    "start_time": "2022-02-23T20:38:39.964Z"
   },
   {
    "duration": 46,
    "start_time": "2022-02-23T20:38:39.974Z"
   },
   {
    "duration": 29,
    "start_time": "2022-02-23T20:38:40.022Z"
   },
   {
    "duration": 31,
    "start_time": "2022-02-23T20:38:40.053Z"
   },
   {
    "duration": 5,
    "start_time": "2022-02-23T20:38:40.086Z"
   },
   {
    "duration": 26,
    "start_time": "2022-02-23T20:40:11.371Z"
   },
   {
    "duration": 26,
    "start_time": "2022-02-23T20:40:15.028Z"
   },
   {
    "duration": 31,
    "start_time": "2022-02-23T20:40:15.443Z"
   },
   {
    "duration": 5,
    "start_time": "2022-02-23T20:40:15.812Z"
   },
   {
    "duration": 9,
    "start_time": "2022-02-23T20:48:42.714Z"
   },
   {
    "duration": 5164,
    "start_time": "2022-02-23T20:49:26.046Z"
   },
   {
    "duration": 71,
    "start_time": "2022-02-23T20:49:49.092Z"
   },
   {
    "duration": 5255,
    "start_time": "2022-02-23T20:49:54.966Z"
   },
   {
    "duration": 5266,
    "start_time": "2022-02-23T20:50:35.931Z"
   },
   {
    "duration": 5662,
    "start_time": "2022-02-23T20:51:04.869Z"
   },
   {
    "duration": 7870,
    "start_time": "2022-02-23T20:51:16.252Z"
   },
   {
    "duration": 98,
    "start_time": "2022-02-23T21:00:19.283Z"
   },
   {
    "duration": 1007,
    "start_time": "2022-02-23T21:00:39.076Z"
   },
   {
    "duration": 177,
    "start_time": "2022-02-23T21:00:40.085Z"
   },
   {
    "duration": 138,
    "start_time": "2022-02-23T21:00:40.265Z"
   },
   {
    "duration": 113,
    "start_time": "2022-02-23T21:00:40.406Z"
   },
   {
    "duration": 9,
    "start_time": "2022-02-23T21:00:40.522Z"
   },
   {
    "duration": 42,
    "start_time": "2022-02-23T21:00:40.533Z"
   },
   {
    "duration": 112,
    "start_time": "2022-02-23T21:00:40.578Z"
   },
   {
    "duration": 65,
    "start_time": "2022-02-23T21:00:40.692Z"
   },
   {
    "duration": 66,
    "start_time": "2022-02-23T21:00:40.760Z"
   },
   {
    "duration": 7,
    "start_time": "2022-02-23T21:00:40.829Z"
   },
   {
    "duration": 29,
    "start_time": "2022-02-23T21:00:40.838Z"
   },
   {
    "duration": 19,
    "start_time": "2022-02-23T21:00:40.869Z"
   },
   {
    "duration": 47,
    "start_time": "2022-02-23T21:00:40.889Z"
   },
   {
    "duration": 8,
    "start_time": "2022-02-23T21:00:40.938Z"
   },
   {
    "duration": 5657,
    "start_time": "2022-02-23T21:00:40.947Z"
   },
   {
    "duration": 6,
    "start_time": "2022-02-23T21:01:14.692Z"
   },
   {
    "duration": 1037,
    "start_time": "2022-02-23T21:01:42.179Z"
   },
   {
    "duration": 175,
    "start_time": "2022-02-23T21:01:43.218Z"
   },
   {
    "duration": 126,
    "start_time": "2022-02-23T21:01:43.395Z"
   },
   {
    "duration": 96,
    "start_time": "2022-02-23T21:01:43.523Z"
   },
   {
    "duration": 8,
    "start_time": "2022-02-23T21:01:43.621Z"
   },
   {
    "duration": 33,
    "start_time": "2022-02-23T21:01:43.631Z"
   },
   {
    "duration": 116,
    "start_time": "2022-02-23T21:01:43.666Z"
   },
   {
    "duration": 66,
    "start_time": "2022-02-23T21:01:43.784Z"
   },
   {
    "duration": 67,
    "start_time": "2022-02-23T21:01:43.852Z"
   },
   {
    "duration": 7,
    "start_time": "2022-02-23T21:01:43.921Z"
   },
   {
    "duration": 24,
    "start_time": "2022-02-23T21:01:43.929Z"
   },
   {
    "duration": 18,
    "start_time": "2022-02-23T21:01:43.955Z"
   },
   {
    "duration": 45,
    "start_time": "2022-02-23T21:01:43.975Z"
   },
   {
    "duration": 9,
    "start_time": "2022-02-23T21:01:44.022Z"
   },
   {
    "duration": 7,
    "start_time": "2022-02-23T21:01:44.033Z"
   },
   {
    "duration": 55,
    "start_time": "2022-02-26T17:04:02.466Z"
   },
   {
    "duration": 15,
    "start_time": "2022-02-26T18:04:23.877Z"
   },
   {
    "duration": 1129,
    "start_time": "2022-02-26T18:54:54.809Z"
   },
   {
    "duration": 193,
    "start_time": "2022-02-26T18:54:55.941Z"
   },
   {
    "duration": 163,
    "start_time": "2022-02-26T18:54:56.137Z"
   },
   {
    "duration": 115,
    "start_time": "2022-02-26T18:54:56.304Z"
   },
   {
    "duration": 12,
    "start_time": "2022-02-26T18:54:56.422Z"
   },
   {
    "duration": 52,
    "start_time": "2022-02-26T18:54:56.437Z"
   },
   {
    "duration": 139,
    "start_time": "2022-02-26T18:54:56.491Z"
   },
   {
    "duration": 77,
    "start_time": "2022-02-26T18:54:56.633Z"
   },
   {
    "duration": 87,
    "start_time": "2022-02-26T18:54:56.713Z"
   },
   {
    "duration": 10,
    "start_time": "2022-02-26T18:54:56.802Z"
   },
   {
    "duration": 24,
    "start_time": "2022-02-26T18:54:56.814Z"
   },
   {
    "duration": 51,
    "start_time": "2022-02-26T18:54:56.841Z"
   },
   {
    "duration": 313,
    "start_time": "2022-02-26T18:54:56.895Z"
   },
   {
    "duration": 76,
    "start_time": "2022-02-26T18:54:57.136Z"
   },
   {
    "duration": 181,
    "start_time": "2022-02-26T18:55:34.148Z"
   },
   {
    "duration": 182,
    "start_time": "2022-02-26T18:55:48.707Z"
   },
   {
    "duration": 72,
    "start_time": "2022-02-26T18:56:13.566Z"
   },
   {
    "duration": 1294,
    "start_time": "2022-02-26T18:56:50.316Z"
   },
   {
    "duration": 272,
    "start_time": "2022-02-26T18:56:51.613Z"
   },
   {
    "duration": 161,
    "start_time": "2022-02-26T18:56:51.889Z"
   },
   {
    "duration": 113,
    "start_time": "2022-02-26T18:56:52.053Z"
   },
   {
    "duration": 20,
    "start_time": "2022-02-26T18:56:52.168Z"
   },
   {
    "duration": 36,
    "start_time": "2022-02-26T18:56:52.190Z"
   },
   {
    "duration": 151,
    "start_time": "2022-02-26T18:56:52.229Z"
   },
   {
    "duration": 70,
    "start_time": "2022-02-26T18:56:52.383Z"
   },
   {
    "duration": 89,
    "start_time": "2022-02-26T18:56:52.457Z"
   },
   {
    "duration": 9,
    "start_time": "2022-02-26T18:56:52.549Z"
   },
   {
    "duration": 45,
    "start_time": "2022-02-26T18:56:52.561Z"
   },
   {
    "duration": 28,
    "start_time": "2022-02-26T18:56:52.609Z"
   },
   {
    "duration": 67,
    "start_time": "2022-02-26T18:56:52.640Z"
   },
   {
    "duration": 256,
    "start_time": "2022-02-26T18:56:52.710Z"
   },
   {
    "duration": 55,
    "start_time": "2022-02-26T18:57:27.164Z"
   },
   {
    "duration": 93,
    "start_time": "2022-02-26T19:00:01.665Z"
   },
   {
    "duration": 1397,
    "start_time": "2022-02-26T19:02:09.798Z"
   },
   {
    "duration": 308,
    "start_time": "2022-02-26T19:02:11.199Z"
   },
   {
    "duration": 175,
    "start_time": "2022-02-26T19:02:11.512Z"
   },
   {
    "duration": 160,
    "start_time": "2022-02-26T19:02:11.690Z"
   },
   {
    "duration": 13,
    "start_time": "2022-02-26T19:02:11.852Z"
   },
   {
    "duration": 39,
    "start_time": "2022-02-26T19:02:11.867Z"
   },
   {
    "duration": 147,
    "start_time": "2022-02-26T19:02:11.909Z"
   },
   {
    "duration": 85,
    "start_time": "2022-02-26T19:02:12.060Z"
   },
   {
    "duration": 93,
    "start_time": "2022-02-26T19:02:12.147Z"
   },
   {
    "duration": 11,
    "start_time": "2022-02-26T19:02:12.242Z"
   },
   {
    "duration": 49,
    "start_time": "2022-02-26T19:02:12.255Z"
   },
   {
    "duration": 29,
    "start_time": "2022-02-26T19:02:12.307Z"
   },
   {
    "duration": 68,
    "start_time": "2022-02-26T19:02:12.339Z"
   },
   {
    "duration": 89,
    "start_time": "2022-02-26T19:02:12.321Z"
   },
   {
    "duration": 40,
    "start_time": "2022-02-26T19:02:46.309Z"
   },
   {
    "duration": 54,
    "start_time": "2022-02-26T19:06:29.863Z"
   },
   {
    "duration": 1203,
    "start_time": "2022-02-26T19:08:17.942Z"
   },
   {
    "duration": 203,
    "start_time": "2022-02-26T19:08:19.148Z"
   },
   {
    "duration": 156,
    "start_time": "2022-02-26T19:08:19.355Z"
   },
   {
    "duration": 147,
    "start_time": "2022-02-26T19:08:19.513Z"
   },
   {
    "duration": 28,
    "start_time": "2022-02-26T19:08:19.663Z"
   },
   {
    "duration": 39,
    "start_time": "2022-02-26T19:08:19.694Z"
   },
   {
    "duration": 201,
    "start_time": "2022-02-26T19:08:19.736Z"
   },
   {
    "duration": 108,
    "start_time": "2022-02-26T19:08:19.942Z"
   },
   {
    "duration": 85,
    "start_time": "2022-02-26T19:08:20.053Z"
   },
   {
    "duration": 11,
    "start_time": "2022-02-26T19:08:20.142Z"
   },
   {
    "duration": 54,
    "start_time": "2022-02-26T19:08:20.155Z"
   },
   {
    "duration": 36,
    "start_time": "2022-02-26T19:08:20.212Z"
   },
   {
    "duration": 70,
    "start_time": "2022-02-26T19:08:20.252Z"
   },
   {
    "duration": 387,
    "start_time": "2022-02-26T19:08:20.326Z"
   },
   {
    "duration": 118,
    "start_time": "2022-02-26T19:11:41.498Z"
   },
   {
    "duration": 51,
    "start_time": "2022-02-26T19:11:45.854Z"
   },
   {
    "duration": 89,
    "start_time": "2022-02-26T19:11:54.818Z"
   },
   {
    "duration": 88,
    "start_time": "2022-02-26T19:11:58.456Z"
   },
   {
    "duration": 1259,
    "start_time": "2022-02-26T19:12:09.257Z"
   },
   {
    "duration": 264,
    "start_time": "2022-02-26T19:12:10.520Z"
   },
   {
    "duration": 166,
    "start_time": "2022-02-26T19:12:10.788Z"
   },
   {
    "duration": 161,
    "start_time": "2022-02-26T19:12:10.957Z"
   },
   {
    "duration": 16,
    "start_time": "2022-02-26T19:12:11.121Z"
   },
   {
    "duration": 57,
    "start_time": "2022-02-26T19:12:11.140Z"
   },
   {
    "duration": 190,
    "start_time": "2022-02-26T19:12:11.200Z"
   },
   {
    "duration": 112,
    "start_time": "2022-02-26T19:12:11.393Z"
   },
   {
    "duration": 112,
    "start_time": "2022-02-26T19:12:11.509Z"
   },
   {
    "duration": 13,
    "start_time": "2022-02-26T19:12:11.624Z"
   },
   {
    "duration": 56,
    "start_time": "2022-02-26T19:12:11.639Z"
   },
   {
    "duration": 39,
    "start_time": "2022-02-26T19:12:11.698Z"
   },
   {
    "duration": 72,
    "start_time": "2022-02-26T19:12:11.740Z"
   },
   {
    "duration": 333,
    "start_time": "2022-02-26T19:12:11.815Z"
   },
   {
    "duration": 303,
    "start_time": "2022-02-26T19:16:18.857Z"
   },
   {
    "duration": 151,
    "start_time": "2022-02-26T19:16:39.501Z"
   },
   {
    "duration": 1195,
    "start_time": "2022-02-26T19:16:49.936Z"
   },
   {
    "duration": 215,
    "start_time": "2022-02-26T19:16:51.134Z"
   },
   {
    "duration": 231,
    "start_time": "2022-02-26T19:16:51.353Z"
   },
   {
    "duration": 129,
    "start_time": "2022-02-26T19:16:51.587Z"
   },
   {
    "duration": 13,
    "start_time": "2022-02-26T19:16:51.719Z"
   },
   {
    "duration": 56,
    "start_time": "2022-02-26T19:16:51.735Z"
   },
   {
    "duration": 143,
    "start_time": "2022-02-26T19:16:51.794Z"
   },
   {
    "duration": 97,
    "start_time": "2022-02-26T19:16:51.942Z"
   },
   {
    "duration": 92,
    "start_time": "2022-02-26T19:16:52.042Z"
   },
   {
    "duration": 12,
    "start_time": "2022-02-26T19:16:52.137Z"
   },
   {
    "duration": 49,
    "start_time": "2022-02-26T19:16:52.151Z"
   },
   {
    "duration": 29,
    "start_time": "2022-02-26T19:16:52.203Z"
   },
   {
    "duration": 74,
    "start_time": "2022-02-26T19:16:52.235Z"
   },
   {
    "duration": 280,
    "start_time": "2022-02-26T19:16:52.313Z"
   },
   {
    "duration": 325,
    "start_time": "2022-02-26T19:17:07.422Z"
   },
   {
    "duration": 103,
    "start_time": "2022-02-26T19:21:57.883Z"
   },
   {
    "duration": 1381,
    "start_time": "2022-02-26T19:24:15.667Z"
   },
   {
    "duration": 363,
    "start_time": "2022-02-26T19:24:17.052Z"
   },
   {
    "duration": 167,
    "start_time": "2022-02-26T19:24:17.421Z"
   },
   {
    "duration": 124,
    "start_time": "2022-02-26T19:24:17.591Z"
   },
   {
    "duration": 11,
    "start_time": "2022-02-26T19:24:17.718Z"
   },
   {
    "duration": 58,
    "start_time": "2022-02-26T19:24:17.732Z"
   },
   {
    "duration": 134,
    "start_time": "2022-02-26T19:24:17.793Z"
   },
   {
    "duration": 78,
    "start_time": "2022-02-26T19:24:17.930Z"
   },
   {
    "duration": 91,
    "start_time": "2022-02-26T19:24:18.011Z"
   },
   {
    "duration": 9,
    "start_time": "2022-02-26T19:24:18.105Z"
   },
   {
    "duration": 26,
    "start_time": "2022-02-26T19:24:18.117Z"
   },
   {
    "duration": 60,
    "start_time": "2022-02-26T19:24:18.146Z"
   },
   {
    "duration": 38,
    "start_time": "2022-02-26T19:24:18.208Z"
   },
   {
    "duration": 2588,
    "start_time": "2022-02-26T19:24:18.249Z"
   },
   {
    "duration": 2652,
    "start_time": "2022-02-26T19:24:41.748Z"
   },
   {
    "duration": 229,
    "start_time": "2022-02-26T19:26:00.885Z"
   },
   {
    "duration": 272,
    "start_time": "2022-02-26T19:26:10.722Z"
   },
   {
    "duration": 20,
    "start_time": "2022-02-26T20:09:51.341Z"
   },
   {
    "duration": 22,
    "start_time": "2022-02-26T20:12:19.899Z"
   },
   {
    "duration": 21,
    "start_time": "2022-02-26T20:12:56.137Z"
   },
   {
    "duration": 22,
    "start_time": "2022-02-26T20:15:04.261Z"
   },
   {
    "duration": 22,
    "start_time": "2022-02-26T20:15:30.084Z"
   },
   {
    "duration": 20,
    "start_time": "2022-02-26T20:15:56.822Z"
   },
   {
    "duration": 30,
    "start_time": "2022-02-26T20:16:18.424Z"
   },
   {
    "duration": 20,
    "start_time": "2022-02-26T20:16:29.058Z"
   },
   {
    "duration": 22,
    "start_time": "2022-02-26T20:16:39.468Z"
   },
   {
    "duration": 28,
    "start_time": "2022-02-26T20:17:02.286Z"
   },
   {
    "duration": 30,
    "start_time": "2022-02-26T20:32:15.667Z"
   },
   {
    "duration": 13,
    "start_time": "2022-02-26T20:35:59.809Z"
   },
   {
    "duration": 12,
    "start_time": "2022-02-26T20:37:08.343Z"
   },
   {
    "duration": 20,
    "start_time": "2022-02-26T20:39:36.356Z"
   },
   {
    "duration": 33,
    "start_time": "2022-02-26T20:40:45.798Z"
   },
   {
    "duration": 21,
    "start_time": "2022-02-26T20:41:05.924Z"
   },
   {
    "duration": 22,
    "start_time": "2022-02-26T20:41:14.180Z"
   },
   {
    "duration": 28,
    "start_time": "2022-02-26T20:42:07.670Z"
   },
   {
    "duration": 27,
    "start_time": "2022-02-26T20:45:53.102Z"
   },
   {
    "duration": 28,
    "start_time": "2022-02-26T20:47:49.991Z"
   },
   {
    "duration": 28,
    "start_time": "2022-02-26T20:48:21.330Z"
   },
   {
    "duration": 29,
    "start_time": "2022-02-26T20:48:48.635Z"
   },
   {
    "duration": 29,
    "start_time": "2022-02-26T20:50:08.886Z"
   },
   {
    "duration": 31,
    "start_time": "2022-02-26T20:50:26.758Z"
   },
   {
    "duration": 1186,
    "start_time": "2022-02-26T20:51:28.119Z"
   },
   {
    "duration": 364,
    "start_time": "2022-02-26T20:51:29.309Z"
   },
   {
    "duration": 159,
    "start_time": "2022-02-26T20:51:29.682Z"
   },
   {
    "duration": 118,
    "start_time": "2022-02-26T20:51:29.845Z"
   },
   {
    "duration": 25,
    "start_time": "2022-02-26T20:51:29.965Z"
   },
   {
    "duration": 33,
    "start_time": "2022-02-26T20:51:29.993Z"
   },
   {
    "duration": 145,
    "start_time": "2022-02-26T20:51:30.028Z"
   },
   {
    "duration": 73,
    "start_time": "2022-02-26T20:51:30.176Z"
   },
   {
    "duration": 92,
    "start_time": "2022-02-26T20:51:30.252Z"
   },
   {
    "duration": 9,
    "start_time": "2022-02-26T20:51:30.347Z"
   },
   {
    "duration": 47,
    "start_time": "2022-02-26T20:51:30.358Z"
   },
   {
    "duration": 29,
    "start_time": "2022-02-26T20:51:30.407Z"
   },
   {
    "duration": 59,
    "start_time": "2022-02-26T20:51:30.439Z"
   },
   {
    "duration": 283,
    "start_time": "2022-02-26T20:51:30.501Z"
   },
   {
    "duration": 32,
    "start_time": "2022-02-26T20:51:30.786Z"
   },
   {
    "duration": 62,
    "start_time": "2022-02-26T20:51:30.821Z"
   },
   {
    "duration": 30,
    "start_time": "2022-02-26T20:51:30.886Z"
   },
   {
    "duration": 31,
    "start_time": "2022-02-26T20:51:30.919Z"
   },
   {
    "duration": 32,
    "start_time": "2022-02-26T20:51:30.983Z"
   },
   {
    "duration": 66,
    "start_time": "2022-02-26T20:51:31.018Z"
   },
   {
    "duration": 421,
    "start_time": "2022-02-26T20:54:18.301Z"
   },
   {
    "duration": 467,
    "start_time": "2022-02-26T20:57:22.647Z"
   },
   {
    "duration": 340,
    "start_time": "2022-02-26T20:57:31.792Z"
   },
   {
    "duration": 776,
    "start_time": "2022-02-26T20:57:43.052Z"
   },
   {
    "duration": 738,
    "start_time": "2022-02-26T20:59:51.977Z"
   },
   {
    "duration": 708,
    "start_time": "2022-02-26T21:00:45.185Z"
   },
   {
    "duration": 696,
    "start_time": "2022-02-26T21:01:42.166Z"
   },
   {
    "duration": 1045,
    "start_time": "2022-02-26T21:05:20.879Z"
   },
   {
    "duration": 1306,
    "start_time": "2022-02-26T21:05:28.514Z"
   },
   {
    "duration": 81,
    "start_time": "2022-02-26T21:26:09.108Z"
   },
   {
    "duration": 53,
    "start_time": "2022-02-26T21:30:26.090Z"
   },
   {
    "duration": 56,
    "start_time": "2022-02-26T21:31:32.401Z"
   },
   {
    "duration": 64,
    "start_time": "2022-02-26T21:31:41.790Z"
   },
   {
    "duration": 6955,
    "start_time": "2022-02-26T21:31:51.654Z"
   },
   {
    "duration": 77507,
    "start_time": "2022-02-26T21:33:35.927Z"
   },
   {
    "duration": 55,
    "start_time": "2022-02-26T21:35:37.754Z"
   },
   {
    "duration": 58,
    "start_time": "2022-02-26T21:35:41.739Z"
   },
   {
    "duration": 11,
    "start_time": "2022-02-26T21:40:48.221Z"
   },
   {
    "duration": 31,
    "start_time": "2022-02-26T21:40:59.954Z"
   },
   {
    "duration": 18,
    "start_time": "2022-02-26T21:41:11.128Z"
   },
   {
    "duration": 28,
    "start_time": "2022-02-26T21:47:23.951Z"
   },
   {
    "duration": 396,
    "start_time": "2022-02-26T21:54:16.759Z"
   },
   {
    "duration": 281,
    "start_time": "2022-02-26T21:54:37.751Z"
   },
   {
    "duration": 634,
    "start_time": "2022-02-26T21:55:04.105Z"
   },
   {
    "duration": 607,
    "start_time": "2022-02-26T21:55:49.219Z"
   },
   {
    "duration": 211,
    "start_time": "2022-02-26T21:56:54.367Z"
   },
   {
    "duration": 182,
    "start_time": "2022-02-26T21:57:15.786Z"
   },
   {
    "duration": 631,
    "start_time": "2022-02-26T21:57:30.858Z"
   },
   {
    "duration": 437,
    "start_time": "2022-02-26T21:57:39.648Z"
   },
   {
    "duration": 64,
    "start_time": "2022-02-26T21:57:49.777Z"
   },
   {
    "duration": 435,
    "start_time": "2022-02-26T21:58:16.039Z"
   },
   {
    "duration": 430,
    "start_time": "2022-02-26T21:58:50.514Z"
   },
   {
    "duration": 438,
    "start_time": "2022-02-26T21:59:18.692Z"
   },
   {
    "duration": 434,
    "start_time": "2022-02-26T21:59:31.531Z"
   },
   {
    "duration": 435,
    "start_time": "2022-02-26T22:00:34.050Z"
   },
   {
    "duration": 405,
    "start_time": "2022-02-26T22:00:54.153Z"
   },
   {
    "duration": 190,
    "start_time": "2022-02-26T22:05:01.435Z"
   },
   {
    "duration": 480,
    "start_time": "2022-02-26T22:05:11.470Z"
   },
   {
    "duration": 303,
    "start_time": "2022-02-27T14:55:07.007Z"
   },
   {
    "duration": 1231,
    "start_time": "2022-02-27T14:55:26.455Z"
   },
   {
    "duration": 354,
    "start_time": "2022-02-27T14:55:27.689Z"
   },
   {
    "duration": 167,
    "start_time": "2022-02-27T14:55:28.046Z"
   },
   {
    "duration": 121,
    "start_time": "2022-02-27T14:55:28.216Z"
   },
   {
    "duration": 11,
    "start_time": "2022-02-27T14:55:28.340Z"
   },
   {
    "duration": 29,
    "start_time": "2022-02-27T14:55:28.354Z"
   },
   {
    "duration": 154,
    "start_time": "2022-02-27T14:55:28.386Z"
   },
   {
    "duration": 69,
    "start_time": "2022-02-27T14:55:28.544Z"
   },
   {
    "duration": 89,
    "start_time": "2022-02-27T14:55:28.616Z"
   },
   {
    "duration": 29,
    "start_time": "2022-02-27T14:55:28.707Z"
   },
   {
    "duration": 28,
    "start_time": "2022-02-27T14:55:28.738Z"
   },
   {
    "duration": 29,
    "start_time": "2022-02-27T14:55:28.768Z"
   },
   {
    "duration": 67,
    "start_time": "2022-02-27T14:55:28.800Z"
   },
   {
    "duration": 290,
    "start_time": "2022-02-27T14:55:28.869Z"
   },
   {
    "duration": 32,
    "start_time": "2022-02-27T14:55:29.161Z"
   },
   {
    "duration": 52,
    "start_time": "2022-02-27T14:55:29.195Z"
   },
   {
    "duration": 28,
    "start_time": "2022-02-27T14:55:29.250Z"
   },
   {
    "duration": 56,
    "start_time": "2022-02-27T14:55:29.281Z"
   },
   {
    "duration": 27,
    "start_time": "2022-02-27T14:55:29.340Z"
   },
   {
    "duration": 29,
    "start_time": "2022-02-27T14:55:29.369Z"
   },
   {
    "duration": 1224,
    "start_time": "2022-02-27T14:55:29.433Z"
   },
   {
    "duration": 999,
    "start_time": "2022-02-27T14:55:30.660Z"
   },
   {
    "duration": 623,
    "start_time": "2022-02-27T14:55:31.663Z"
   },
   {
    "duration": 452,
    "start_time": "2022-02-27T14:55:32.289Z"
   },
   {
    "duration": 576,
    "start_time": "2022-02-27T14:55:32.743Z"
   },
   {
    "duration": 463,
    "start_time": "2022-02-27T14:55:33.321Z"
   },
   {
    "duration": 456,
    "start_time": "2022-02-27T14:55:33.786Z"
   },
   {
    "duration": 453,
    "start_time": "2022-02-27T14:55:34.245Z"
   },
   {
    "duration": 80,
    "start_time": "2022-02-27T14:55:34.701Z"
   },
   {
    "duration": 657,
    "start_time": "2022-02-27T14:58:12.879Z"
   },
   {
    "duration": 476,
    "start_time": "2022-02-27T14:58:45.990Z"
   },
   {
    "duration": 741,
    "start_time": "2022-02-27T14:58:53.548Z"
   },
   {
    "duration": 463,
    "start_time": "2022-02-27T14:59:04.672Z"
   },
   {
    "duration": 703,
    "start_time": "2022-02-27T15:00:01.559Z"
   },
   {
    "duration": 436,
    "start_time": "2022-02-27T15:00:18.296Z"
   },
   {
    "duration": 474,
    "start_time": "2022-02-27T15:00:41.804Z"
   },
   {
    "duration": 14,
    "start_time": "2022-02-27T15:05:43.120Z"
   },
   {
    "duration": 17,
    "start_time": "2022-02-27T15:06:05.602Z"
   },
   {
    "duration": 951,
    "start_time": "2022-02-27T15:27:08.998Z"
   },
   {
    "duration": 16,
    "start_time": "2022-02-27T15:29:21.909Z"
   },
   {
    "duration": 18,
    "start_time": "2022-02-27T15:29:31.046Z"
   },
   {
    "duration": 16,
    "start_time": "2022-02-27T15:29:33.846Z"
   },
   {
    "duration": 17,
    "start_time": "2022-02-27T15:30:44.351Z"
   },
   {
    "duration": 17,
    "start_time": "2022-02-27T15:33:28.994Z"
   },
   {
    "duration": 25,
    "start_time": "2022-02-27T15:43:17.139Z"
   },
   {
    "duration": 25,
    "start_time": "2022-02-27T15:43:27.593Z"
   },
   {
    "duration": 1723,
    "start_time": "2022-02-27T16:08:00.656Z"
   },
   {
    "duration": 1441,
    "start_time": "2022-02-27T16:08:02.381Z"
   },
   {
    "duration": 587,
    "start_time": "2022-02-27T16:08:03.239Z"
   },
   {
    "duration": 586,
    "start_time": "2022-02-27T16:08:03.242Z"
   },
   {
    "duration": 584,
    "start_time": "2022-02-27T16:08:03.245Z"
   },
   {
    "duration": 584,
    "start_time": "2022-02-27T16:08:03.247Z"
   },
   {
    "duration": 583,
    "start_time": "2022-02-27T16:08:03.250Z"
   },
   {
    "duration": 582,
    "start_time": "2022-02-27T16:08:03.252Z"
   },
   {
    "duration": 580,
    "start_time": "2022-02-27T16:08:03.255Z"
   },
   {
    "duration": 580,
    "start_time": "2022-02-27T16:08:03.257Z"
   },
   {
    "duration": 579,
    "start_time": "2022-02-27T16:08:03.260Z"
   },
   {
    "duration": 577,
    "start_time": "2022-02-27T16:08:03.263Z"
   },
   {
    "duration": 575,
    "start_time": "2022-02-27T16:08:03.266Z"
   },
   {
    "duration": 572,
    "start_time": "2022-02-27T16:08:03.271Z"
   },
   {
    "duration": 570,
    "start_time": "2022-02-27T16:08:03.274Z"
   },
   {
    "duration": 570,
    "start_time": "2022-02-27T16:08:03.276Z"
   },
   {
    "duration": 567,
    "start_time": "2022-02-27T16:08:03.280Z"
   },
   {
    "duration": 566,
    "start_time": "2022-02-27T16:08:03.283Z"
   },
   {
    "duration": 562,
    "start_time": "2022-02-27T16:08:03.288Z"
   },
   {
    "duration": 560,
    "start_time": "2022-02-27T16:08:03.291Z"
   },
   {
    "duration": 558,
    "start_time": "2022-02-27T16:08:03.295Z"
   },
   {
    "duration": 556,
    "start_time": "2022-02-27T16:08:03.298Z"
   },
   {
    "duration": 553,
    "start_time": "2022-02-27T16:08:03.302Z"
   },
   {
    "duration": 539,
    "start_time": "2022-02-27T16:08:03.318Z"
   },
   {
    "duration": 538,
    "start_time": "2022-02-27T16:08:03.321Z"
   },
   {
    "duration": 538,
    "start_time": "2022-02-27T16:08:03.323Z"
   },
   {
    "duration": 538,
    "start_time": "2022-02-27T16:08:03.325Z"
   },
   {
    "duration": 539,
    "start_time": "2022-02-27T16:08:03.326Z"
   },
   {
    "duration": 538,
    "start_time": "2022-02-27T16:08:03.329Z"
   },
   {
    "duration": 512,
    "start_time": "2022-02-27T16:09:03.478Z"
   },
   {
    "duration": 335,
    "start_time": "2022-02-27T16:09:05.438Z"
   },
   {
    "duration": 1679,
    "start_time": "2022-02-27T16:09:15.812Z"
   },
   {
    "duration": 376,
    "start_time": "2022-02-27T16:09:17.494Z"
   },
   {
    "duration": 162,
    "start_time": "2022-02-27T16:09:17.872Z"
   },
   {
    "duration": 119,
    "start_time": "2022-02-27T16:09:18.037Z"
   },
   {
    "duration": 11,
    "start_time": "2022-02-27T16:09:18.159Z"
   },
   {
    "duration": 29,
    "start_time": "2022-02-27T16:09:18.172Z"
   },
   {
    "duration": 135,
    "start_time": "2022-02-27T16:09:18.231Z"
   },
   {
    "duration": 78,
    "start_time": "2022-02-27T16:09:18.369Z"
   },
   {
    "duration": 82,
    "start_time": "2022-02-27T16:09:18.450Z"
   },
   {
    "duration": 9,
    "start_time": "2022-02-27T16:09:18.535Z"
   },
   {
    "duration": 27,
    "start_time": "2022-02-27T16:09:18.546Z"
   },
   {
    "duration": 57,
    "start_time": "2022-02-27T16:09:18.575Z"
   },
   {
    "duration": 39,
    "start_time": "2022-02-27T16:09:18.635Z"
   },
   {
    "duration": 285,
    "start_time": "2022-02-27T16:09:18.678Z"
   },
   {
    "duration": 31,
    "start_time": "2022-02-27T16:09:18.965Z"
   },
   {
    "duration": 51,
    "start_time": "2022-02-27T16:09:18.998Z"
   },
   {
    "duration": 27,
    "start_time": "2022-02-27T16:09:19.052Z"
   },
   {
    "duration": 60,
    "start_time": "2022-02-27T16:09:19.081Z"
   },
   {
    "duration": 30,
    "start_time": "2022-02-27T16:09:19.144Z"
   },
   {
    "duration": 62,
    "start_time": "2022-02-27T16:09:19.176Z"
   },
   {
    "duration": 1154,
    "start_time": "2022-02-27T16:09:19.240Z"
   },
   {
    "duration": 995,
    "start_time": "2022-02-27T16:09:20.397Z"
   },
   {
    "duration": 496,
    "start_time": "2022-02-27T16:09:21.398Z"
   },
   {
    "duration": 505,
    "start_time": "2022-02-27T16:09:21.897Z"
   },
   {
    "duration": 491,
    "start_time": "2022-02-27T16:09:22.405Z"
   },
   {
    "duration": 34,
    "start_time": "2022-02-27T16:09:22.898Z"
   },
   {
    "duration": 17,
    "start_time": "2022-02-27T16:09:22.934Z"
   },
   {
    "duration": 16,
    "start_time": "2022-02-27T16:09:22.953Z"
   },
   {
    "duration": 15,
    "start_time": "2022-02-27T16:09:22.972Z"
   },
   {
    "duration": 484,
    "start_time": "2022-02-27T16:15:18.304Z"
   },
   {
    "duration": 270,
    "start_time": "2022-02-27T16:16:25.548Z"
   },
   {
    "duration": 333,
    "start_time": "2022-02-27T16:16:44.974Z"
   },
   {
    "duration": 541,
    "start_time": "2022-02-27T16:17:28.473Z"
   },
   {
    "duration": 502,
    "start_time": "2022-02-27T16:17:51.084Z"
   },
   {
    "duration": 1710,
    "start_time": "2022-02-27T16:18:03.871Z"
   },
   {
    "duration": 578,
    "start_time": "2022-02-27T16:18:05.583Z"
   },
   {
    "duration": 312,
    "start_time": "2022-02-27T16:18:06.164Z"
   },
   {
    "duration": 112,
    "start_time": "2022-02-27T16:18:06.479Z"
   },
   {
    "duration": 12,
    "start_time": "2022-02-27T16:18:06.593Z"
   },
   {
    "duration": 49,
    "start_time": "2022-02-27T16:18:06.607Z"
   },
   {
    "duration": 139,
    "start_time": "2022-02-27T16:18:06.658Z"
   },
   {
    "duration": 74,
    "start_time": "2022-02-27T16:18:06.801Z"
   },
   {
    "duration": 82,
    "start_time": "2022-02-27T16:18:06.878Z"
   },
   {
    "duration": 9,
    "start_time": "2022-02-27T16:18:06.962Z"
   },
   {
    "duration": 26,
    "start_time": "2022-02-27T16:18:06.973Z"
   },
   {
    "duration": 59,
    "start_time": "2022-02-27T16:18:07.001Z"
   },
   {
    "duration": 39,
    "start_time": "2022-02-27T16:18:07.063Z"
   },
   {
    "duration": 293,
    "start_time": "2022-02-27T16:18:07.105Z"
   },
   {
    "duration": 42,
    "start_time": "2022-02-27T16:18:07.400Z"
   },
   {
    "duration": 28,
    "start_time": "2022-02-27T16:18:07.445Z"
   },
   {
    "duration": 59,
    "start_time": "2022-02-27T16:18:07.476Z"
   },
   {
    "duration": 30,
    "start_time": "2022-02-27T16:18:07.537Z"
   },
   {
    "duration": 26,
    "start_time": "2022-02-27T16:18:07.570Z"
   },
   {
    "duration": 59,
    "start_time": "2022-02-27T16:18:07.598Z"
   },
   {
    "duration": 1156,
    "start_time": "2022-02-27T16:18:07.660Z"
   },
   {
    "duration": 996,
    "start_time": "2022-02-27T16:18:08.818Z"
   },
   {
    "duration": 502,
    "start_time": "2022-02-27T16:18:09.819Z"
   },
   {
    "duration": 504,
    "start_time": "2022-02-27T16:18:10.323Z"
   },
   {
    "duration": 475,
    "start_time": "2022-02-27T16:18:10.832Z"
   },
   {
    "duration": 31,
    "start_time": "2022-02-27T16:18:11.309Z"
   },
   {
    "duration": 17,
    "start_time": "2022-02-27T16:18:11.342Z"
   },
   {
    "duration": 17,
    "start_time": "2022-02-27T16:18:11.361Z"
   },
   {
    "duration": 52,
    "start_time": "2022-02-27T16:18:11.381Z"
   },
   {
    "duration": 51,
    "start_time": "2022-02-27T16:20:28.411Z"
   },
   {
    "duration": 183,
    "start_time": "2022-02-27T16:26:52.533Z"
   },
   {
    "duration": 36,
    "start_time": "2022-02-27T16:44:05.953Z"
   },
   {
    "duration": 492,
    "start_time": "2022-02-27T16:46:50.148Z"
   },
   {
    "duration": 296,
    "start_time": "2022-02-27T16:46:57.299Z"
   },
   {
    "duration": 285,
    "start_time": "2022-02-27T16:47:19.348Z"
   },
   {
    "duration": 2181,
    "start_time": "2022-02-27T16:47:39.618Z"
   },
   {
    "duration": 712,
    "start_time": "2022-02-27T16:47:41.803Z"
   },
   {
    "duration": 317,
    "start_time": "2022-02-27T16:47:42.518Z"
   },
   {
    "duration": 256,
    "start_time": "2022-02-27T16:47:42.837Z"
   },
   {
    "duration": 11,
    "start_time": "2022-02-27T16:47:43.095Z"
   },
   {
    "duration": 65,
    "start_time": "2022-02-27T16:47:43.108Z"
   },
   {
    "duration": 194,
    "start_time": "2022-02-27T16:47:43.175Z"
   },
   {
    "duration": 79,
    "start_time": "2022-02-27T16:47:43.372Z"
   },
   {
    "duration": 80,
    "start_time": "2022-02-27T16:47:43.454Z"
   },
   {
    "duration": 10,
    "start_time": "2022-02-27T16:47:43.536Z"
   },
   {
    "duration": 28,
    "start_time": "2022-02-27T16:47:43.549Z"
   },
   {
    "duration": 69,
    "start_time": "2022-02-27T16:47:43.580Z"
   },
   {
    "duration": 44,
    "start_time": "2022-02-27T16:47:43.652Z"
   },
   {
    "duration": 291,
    "start_time": "2022-02-27T16:47:43.699Z"
   },
   {
    "duration": 57,
    "start_time": "2022-02-27T16:47:43.993Z"
   },
   {
    "duration": 470,
    "start_time": "2022-02-27T16:47:44.053Z"
   },
   {
    "duration": 300,
    "start_time": "2022-02-27T16:47:44.525Z"
   },
   {
    "duration": 31,
    "start_time": "2022-02-27T16:47:44.832Z"
   },
   {
    "duration": 27,
    "start_time": "2022-02-27T16:47:44.866Z"
   },
   {
    "duration": 60,
    "start_time": "2022-02-27T16:47:44.895Z"
   },
   {
    "duration": 27,
    "start_time": "2022-02-27T16:47:44.957Z"
   },
   {
    "duration": 64,
    "start_time": "2022-02-27T16:47:44.986Z"
   },
   {
    "duration": 28,
    "start_time": "2022-02-27T16:47:45.055Z"
   },
   {
    "duration": 1026,
    "start_time": "2022-02-27T16:47:45.085Z"
   },
   {
    "duration": 988,
    "start_time": "2022-02-27T16:47:46.114Z"
   },
   {
    "duration": 499,
    "start_time": "2022-02-27T16:47:47.104Z"
   },
   {
    "duration": 594,
    "start_time": "2022-02-27T16:47:47.605Z"
   },
   {
    "duration": 476,
    "start_time": "2022-02-27T16:47:48.202Z"
   },
   {
    "duration": 17,
    "start_time": "2022-02-27T16:47:48.681Z"
   },
   {
    "duration": 36,
    "start_time": "2022-02-27T16:47:48.700Z"
   },
   {
    "duration": 18,
    "start_time": "2022-02-27T16:47:48.738Z"
   },
   {
    "duration": 15,
    "start_time": "2022-02-27T16:47:48.758Z"
   },
   {
    "duration": 257,
    "start_time": "2022-02-27T16:49:47.387Z"
   },
   {
    "duration": 218,
    "start_time": "2022-02-27T16:49:57.353Z"
   },
   {
    "duration": 837,
    "start_time": "2022-02-27T16:50:36.438Z"
   },
   {
    "duration": 291,
    "start_time": "2022-02-27T16:51:22.406Z"
   },
   {
    "duration": 17,
    "start_time": "2022-02-27T18:04:09.556Z"
   },
   {
    "duration": 37,
    "start_time": "2022-02-27T18:14:59.603Z"
   },
   {
    "duration": 1692,
    "start_time": "2022-02-27T18:16:29.603Z"
   },
   {
    "duration": 593,
    "start_time": "2022-02-27T18:16:31.298Z"
   },
   {
    "duration": 316,
    "start_time": "2022-02-27T18:16:31.895Z"
   },
   {
    "duration": 207,
    "start_time": "2022-02-27T18:16:32.213Z"
   },
   {
    "duration": 21,
    "start_time": "2022-02-27T18:16:32.423Z"
   },
   {
    "duration": 52,
    "start_time": "2022-02-27T18:16:32.447Z"
   },
   {
    "duration": 156,
    "start_time": "2022-02-27T18:16:32.501Z"
   },
   {
    "duration": 80,
    "start_time": "2022-02-27T18:16:32.662Z"
   },
   {
    "duration": 70,
    "start_time": "2022-02-27T18:16:32.744Z"
   },
   {
    "duration": 22,
    "start_time": "2022-02-27T18:16:32.817Z"
   },
   {
    "duration": 26,
    "start_time": "2022-02-27T18:16:32.841Z"
   },
   {
    "duration": 30,
    "start_time": "2022-02-27T18:16:32.869Z"
   },
   {
    "duration": 63,
    "start_time": "2022-02-27T18:16:32.901Z"
   },
   {
    "duration": 289,
    "start_time": "2022-02-27T18:16:32.967Z"
   },
   {
    "duration": 31,
    "start_time": "2022-02-27T18:16:33.258Z"
   },
   {
    "duration": 50,
    "start_time": "2022-02-27T18:16:33.291Z"
   },
   {
    "duration": 28,
    "start_time": "2022-02-27T18:16:33.343Z"
   },
   {
    "duration": 62,
    "start_time": "2022-02-27T18:16:33.373Z"
   },
   {
    "duration": 25,
    "start_time": "2022-02-27T18:16:33.438Z"
   },
   {
    "duration": 27,
    "start_time": "2022-02-27T18:16:33.465Z"
   },
   {
    "duration": 70,
    "start_time": "2022-02-27T18:16:33.494Z"
   },
   {
    "duration": 1149,
    "start_time": "2022-02-27T18:16:33.567Z"
   },
   {
    "duration": 982,
    "start_time": "2022-02-27T18:16:34.732Z"
   },
   {
    "duration": 494,
    "start_time": "2022-02-27T18:16:35.716Z"
   },
   {
    "duration": 504,
    "start_time": "2022-02-27T18:16:36.213Z"
   },
   {
    "duration": 484,
    "start_time": "2022-02-27T18:16:36.720Z"
   },
   {
    "duration": 29,
    "start_time": "2022-02-27T18:16:37.207Z"
   },
   {
    "duration": 16,
    "start_time": "2022-02-27T18:16:37.239Z"
   },
   {
    "duration": 18,
    "start_time": "2022-02-27T18:16:37.257Z"
   },
   {
    "duration": 16,
    "start_time": "2022-02-27T18:16:37.277Z"
   },
   {
    "duration": 1415,
    "start_time": "2022-03-07T16:43:26.343Z"
   },
   {
    "duration": 445,
    "start_time": "2022-03-07T16:43:27.760Z"
   },
   {
    "duration": 234,
    "start_time": "2022-03-07T16:43:28.207Z"
   },
   {
    "duration": 183,
    "start_time": "2022-03-07T16:43:28.443Z"
   },
   {
    "duration": 9,
    "start_time": "2022-03-07T16:43:28.629Z"
   },
   {
    "duration": 54,
    "start_time": "2022-03-07T16:43:28.639Z"
   },
   {
    "duration": 106,
    "start_time": "2022-03-07T16:43:28.695Z"
   },
   {
    "duration": 57,
    "start_time": "2022-03-07T16:43:28.804Z"
   },
   {
    "duration": 53,
    "start_time": "2022-03-07T16:43:28.863Z"
   },
   {
    "duration": 6,
    "start_time": "2022-03-07T16:43:28.918Z"
   },
   {
    "duration": 42,
    "start_time": "2022-03-07T16:43:28.926Z"
   },
   {
    "duration": 20,
    "start_time": "2022-03-07T16:43:28.970Z"
   },
   {
    "duration": 23,
    "start_time": "2022-03-07T16:43:28.991Z"
   },
   {
    "duration": 188,
    "start_time": "2022-03-07T16:43:29.016Z"
   },
   {
    "duration": 20,
    "start_time": "2022-03-07T16:43:29.206Z"
   },
   {
    "duration": 37,
    "start_time": "2022-03-07T16:43:29.228Z"
   },
   {
    "duration": 18,
    "start_time": "2022-03-07T16:43:29.267Z"
   },
   {
    "duration": 19,
    "start_time": "2022-03-07T16:43:29.287Z"
   },
   {
    "duration": 51,
    "start_time": "2022-03-07T16:43:29.308Z"
   },
   {
    "duration": 19,
    "start_time": "2022-03-07T16:43:29.361Z"
   },
   {
    "duration": 25,
    "start_time": "2022-03-07T16:43:29.382Z"
   },
   {
    "duration": 825,
    "start_time": "2022-03-07T16:43:29.408Z"
   },
   {
    "duration": 687,
    "start_time": "2022-03-07T16:43:30.236Z"
   },
   {
    "duration": 339,
    "start_time": "2022-03-07T16:43:30.925Z"
   },
   {
    "duration": 346,
    "start_time": "2022-03-07T16:43:31.265Z"
   },
   {
    "duration": 330,
    "start_time": "2022-03-07T16:43:31.613Z"
   },
   {
    "duration": 21,
    "start_time": "2022-03-07T16:43:31.945Z"
   },
   {
    "duration": 12,
    "start_time": "2022-03-07T16:43:31.968Z"
   },
   {
    "duration": 13,
    "start_time": "2022-03-07T16:43:31.982Z"
   },
   {
    "duration": 11,
    "start_time": "2022-03-07T16:43:31.997Z"
   },
   {
    "duration": 71,
    "start_time": "2022-03-08T07:23:57.844Z"
   },
   {
    "duration": 294,
    "start_time": "2022-03-08T07:24:03.471Z"
   },
   {
    "duration": 1270,
    "start_time": "2022-03-08T07:24:18.519Z"
   },
   {
    "duration": 445,
    "start_time": "2022-03-08T07:24:19.792Z"
   },
   {
    "duration": 237,
    "start_time": "2022-03-08T07:24:20.240Z"
   },
   {
    "duration": 182,
    "start_time": "2022-03-08T07:24:20.480Z"
   },
   {
    "duration": 8,
    "start_time": "2022-03-08T07:24:20.663Z"
   },
   {
    "duration": 303,
    "start_time": "2022-03-08T07:24:20.673Z"
   },
   {
    "duration": -421,
    "start_time": "2022-03-08T07:24:21.399Z"
   },
   {
    "duration": -423,
    "start_time": "2022-03-08T07:24:21.402Z"
   },
   {
    "duration": -424,
    "start_time": "2022-03-08T07:24:21.405Z"
   },
   {
    "duration": -426,
    "start_time": "2022-03-08T07:24:21.408Z"
   },
   {
    "duration": -428,
    "start_time": "2022-03-08T07:24:21.411Z"
   },
   {
    "duration": -430,
    "start_time": "2022-03-08T07:24:21.414Z"
   },
   {
    "duration": -438,
    "start_time": "2022-03-08T07:24:21.423Z"
   },
   {
    "duration": -441,
    "start_time": "2022-03-08T07:24:21.427Z"
   },
   {
    "duration": -443,
    "start_time": "2022-03-08T07:24:21.430Z"
   },
   {
    "duration": -444,
    "start_time": "2022-03-08T07:24:21.433Z"
   },
   {
    "duration": -447,
    "start_time": "2022-03-08T07:24:21.437Z"
   },
   {
    "duration": -449,
    "start_time": "2022-03-08T07:24:21.440Z"
   },
   {
    "duration": -453,
    "start_time": "2022-03-08T07:24:21.445Z"
   },
   {
    "duration": -458,
    "start_time": "2022-03-08T07:24:21.451Z"
   },
   {
    "duration": -461,
    "start_time": "2022-03-08T07:24:21.455Z"
   },
   {
    "duration": -469,
    "start_time": "2022-03-08T07:24:21.464Z"
   },
   {
    "duration": -471,
    "start_time": "2022-03-08T07:24:21.467Z"
   },
   {
    "duration": -473,
    "start_time": "2022-03-08T07:24:21.470Z"
   },
   {
    "duration": -475,
    "start_time": "2022-03-08T07:24:21.473Z"
   },
   {
    "duration": -477,
    "start_time": "2022-03-08T07:24:21.476Z"
   },
   {
    "duration": -479,
    "start_time": "2022-03-08T07:24:21.479Z"
   },
   {
    "duration": -481,
    "start_time": "2022-03-08T07:24:21.482Z"
   },
   {
    "duration": -483,
    "start_time": "2022-03-08T07:24:21.485Z"
   },
   {
    "duration": -485,
    "start_time": "2022-03-08T07:24:21.488Z"
   },
   {
    "duration": -487,
    "start_time": "2022-03-08T07:24:21.491Z"
   },
   {
    "duration": 230,
    "start_time": "2022-03-08T07:28:43.946Z"
   },
   {
    "duration": 243,
    "start_time": "2022-03-08T07:28:52.722Z"
   },
   {
    "duration": 10,
    "start_time": "2022-03-08T07:28:59.317Z"
   },
   {
    "duration": 75,
    "start_time": "2022-03-08T07:42:27.525Z"
   },
   {
    "duration": 77,
    "start_time": "2022-03-08T07:42:39.444Z"
   },
   {
    "duration": 234,
    "start_time": "2022-03-08T07:42:54.689Z"
   },
   {
    "duration": 11,
    "start_time": "2022-03-08T07:44:17.379Z"
   },
   {
    "duration": 84,
    "start_time": "2022-03-08T07:44:39.363Z"
   },
   {
    "duration": 9,
    "start_time": "2022-03-08T07:45:25.798Z"
   },
   {
    "duration": 1295,
    "start_time": "2022-03-08T07:45:45.588Z"
   },
   {
    "duration": 432,
    "start_time": "2022-03-08T07:45:46.885Z"
   },
   {
    "duration": 215,
    "start_time": "2022-03-08T07:45:47.319Z"
   },
   {
    "duration": 159,
    "start_time": "2022-03-08T07:45:47.536Z"
   },
   {
    "duration": 8,
    "start_time": "2022-03-08T07:45:47.697Z"
   },
   {
    "duration": 9,
    "start_time": "2022-03-08T07:45:47.707Z"
   },
   {
    "duration": 56,
    "start_time": "2022-03-08T07:45:47.717Z"
   },
   {
    "duration": 98,
    "start_time": "2022-03-08T07:45:47.774Z"
   },
   {
    "duration": 48,
    "start_time": "2022-03-08T07:45:47.874Z"
   },
   {
    "duration": 67,
    "start_time": "2022-03-08T07:45:47.924Z"
   },
   {
    "duration": 6,
    "start_time": "2022-03-08T07:45:47.992Z"
   },
   {
    "duration": 17,
    "start_time": "2022-03-08T07:45:48.000Z"
   },
   {
    "duration": 18,
    "start_time": "2022-03-08T07:45:48.018Z"
   },
   {
    "duration": 44,
    "start_time": "2022-03-08T07:45:48.037Z"
   },
   {
    "duration": 176,
    "start_time": "2022-03-08T07:45:48.083Z"
   },
   {
    "duration": 21,
    "start_time": "2022-03-08T07:45:48.260Z"
   },
   {
    "duration": 19,
    "start_time": "2022-03-08T07:45:48.283Z"
   },
   {
    "duration": 18,
    "start_time": "2022-03-08T07:45:48.303Z"
   },
   {
    "duration": 51,
    "start_time": "2022-03-08T07:45:48.323Z"
   },
   {
    "duration": 16,
    "start_time": "2022-03-08T07:45:48.375Z"
   },
   {
    "duration": 18,
    "start_time": "2022-03-08T07:45:48.393Z"
   },
   {
    "duration": 59,
    "start_time": "2022-03-08T07:45:48.412Z"
   },
   {
    "duration": 774,
    "start_time": "2022-03-08T07:45:48.473Z"
   },
   {
    "duration": 644,
    "start_time": "2022-03-08T07:45:49.249Z"
   },
   {
    "duration": 339,
    "start_time": "2022-03-08T07:45:49.895Z"
   },
   {
    "duration": 323,
    "start_time": "2022-03-08T07:45:50.236Z"
   },
   {
    "duration": 314,
    "start_time": "2022-03-08T07:45:50.562Z"
   },
   {
    "duration": 12,
    "start_time": "2022-03-08T07:45:50.878Z"
   },
   {
    "duration": 29,
    "start_time": "2022-03-08T07:45:50.892Z"
   },
   {
    "duration": 30,
    "start_time": "2022-03-08T07:45:50.923Z"
   },
   {
    "duration": 28,
    "start_time": "2022-03-08T07:45:50.955Z"
   },
   {
    "duration": 656,
    "start_time": "2022-03-08T07:48:10.814Z"
   },
   {
    "duration": 9,
    "start_time": "2022-03-08T07:59:20.013Z"
   },
   {
    "duration": 9,
    "start_time": "2022-03-08T08:02:43.035Z"
   },
   {
    "duration": 1324,
    "start_time": "2022-03-08T08:16:09.652Z"
   },
   {
    "duration": 422,
    "start_time": "2022-03-08T08:16:10.978Z"
   },
   {
    "duration": 219,
    "start_time": "2022-03-08T08:16:11.402Z"
   },
   {
    "duration": 176,
    "start_time": "2022-03-08T08:16:11.623Z"
   },
   {
    "duration": 8,
    "start_time": "2022-03-08T08:16:11.800Z"
   },
   {
    "duration": 54,
    "start_time": "2022-03-08T08:16:11.809Z"
   },
   {
    "duration": 97,
    "start_time": "2022-03-08T08:16:11.865Z"
   },
   {
    "duration": 47,
    "start_time": "2022-03-08T08:16:11.965Z"
   },
   {
    "duration": 68,
    "start_time": "2022-03-08T08:16:12.014Z"
   },
   {
    "duration": 6,
    "start_time": "2022-03-08T08:16:12.084Z"
   },
   {
    "duration": 15,
    "start_time": "2022-03-08T08:16:12.091Z"
   },
   {
    "duration": 17,
    "start_time": "2022-03-08T08:16:12.108Z"
   },
   {
    "duration": 43,
    "start_time": "2022-03-08T08:16:12.126Z"
   },
   {
    "duration": 495,
    "start_time": "2022-03-08T08:16:12.171Z"
   },
   {
    "duration": -509,
    "start_time": "2022-03-08T08:16:13.177Z"
   },
   {
    "duration": -511,
    "start_time": "2022-03-08T08:16:13.180Z"
   },
   {
    "duration": -513,
    "start_time": "2022-03-08T08:16:13.183Z"
   },
   {
    "duration": -515,
    "start_time": "2022-03-08T08:16:13.186Z"
   },
   {
    "duration": -517,
    "start_time": "2022-03-08T08:16:13.189Z"
   },
   {
    "duration": -519,
    "start_time": "2022-03-08T08:16:13.192Z"
   },
   {
    "duration": -521,
    "start_time": "2022-03-08T08:16:13.195Z"
   },
   {
    "duration": -524,
    "start_time": "2022-03-08T08:16:13.199Z"
   },
   {
    "duration": -525,
    "start_time": "2022-03-08T08:16:13.201Z"
   },
   {
    "duration": -527,
    "start_time": "2022-03-08T08:16:13.204Z"
   },
   {
    "duration": -529,
    "start_time": "2022-03-08T08:16:13.207Z"
   },
   {
    "duration": -531,
    "start_time": "2022-03-08T08:16:13.210Z"
   },
   {
    "duration": -533,
    "start_time": "2022-03-08T08:16:13.213Z"
   },
   {
    "duration": -535,
    "start_time": "2022-03-08T08:16:13.216Z"
   },
   {
    "duration": -537,
    "start_time": "2022-03-08T08:16:13.219Z"
   },
   {
    "duration": -547,
    "start_time": "2022-03-08T08:16:13.230Z"
   },
   {
    "duration": 492,
    "start_time": "2022-03-08T08:18:07.951Z"
   },
   {
    "duration": 7,
    "start_time": "2022-03-08T08:18:27.613Z"
   },
   {
    "duration": 5,
    "start_time": "2022-03-08T08:18:43.138Z"
   },
   {
    "duration": 3590,
    "start_time": "2022-03-08T08:19:03.490Z"
   },
   {
    "duration": 4,
    "start_time": "2022-03-08T08:19:09.272Z"
   },
   {
    "duration": 3,
    "start_time": "2022-03-08T08:19:22.306Z"
   },
   {
    "duration": 247,
    "start_time": "2022-03-08T08:19:27.529Z"
   },
   {
    "duration": 4,
    "start_time": "2022-03-08T08:19:36.382Z"
   },
   {
    "duration": 5507,
    "start_time": "2022-03-08T08:21:27.531Z"
   },
   {
    "duration": 8,
    "start_time": "2022-03-08T08:21:40.094Z"
   },
   {
    "duration": 3567,
    "start_time": "2022-03-08T08:23:17.712Z"
   },
   {
    "duration": 9,
    "start_time": "2022-03-08T08:23:37.069Z"
   },
   {
    "duration": 9,
    "start_time": "2022-03-08T08:23:57.974Z"
   },
   {
    "duration": 235,
    "start_time": "2022-03-08T08:24:20.453Z"
   },
   {
    "duration": 20,
    "start_time": "2022-03-08T08:25:40.426Z"
   },
   {
    "duration": 1263,
    "start_time": "2022-03-08T08:25:52.904Z"
   },
   {
    "duration": 425,
    "start_time": "2022-03-08T08:25:54.169Z"
   },
   {
    "duration": 212,
    "start_time": "2022-03-08T08:25:54.596Z"
   },
   {
    "duration": 157,
    "start_time": "2022-03-08T08:25:54.810Z"
   },
   {
    "duration": 7,
    "start_time": "2022-03-08T08:25:54.969Z"
   },
   {
    "duration": 34,
    "start_time": "2022-03-08T08:25:54.978Z"
   },
   {
    "duration": 104,
    "start_time": "2022-03-08T08:25:55.014Z"
   },
   {
    "duration": 56,
    "start_time": "2022-03-08T08:25:55.121Z"
   },
   {
    "duration": 52,
    "start_time": "2022-03-08T08:25:55.179Z"
   },
   {
    "duration": 26,
    "start_time": "2022-03-08T08:25:55.233Z"
   },
   {
    "duration": 17,
    "start_time": "2022-03-08T08:25:55.260Z"
   },
   {
    "duration": 18,
    "start_time": "2022-03-08T08:25:55.279Z"
   },
   {
    "duration": 24,
    "start_time": "2022-03-08T08:25:55.298Z"
   },
   {
    "duration": 250,
    "start_time": "2022-03-08T08:25:55.323Z"
   },
   {
    "duration": 19,
    "start_time": "2022-03-08T08:25:55.575Z"
   },
   {
    "duration": 19,
    "start_time": "2022-03-08T08:25:55.596Z"
   },
   {
    "duration": 48,
    "start_time": "2022-03-08T08:25:55.617Z"
   },
   {
    "duration": 19,
    "start_time": "2022-03-08T08:25:55.667Z"
   },
   {
    "duration": 19,
    "start_time": "2022-03-08T08:25:55.688Z"
   },
   {
    "duration": 50,
    "start_time": "2022-03-08T08:25:55.709Z"
   },
   {
    "duration": 70,
    "start_time": "2022-03-08T08:25:55.761Z"
   },
   {
    "duration": 767,
    "start_time": "2022-03-08T08:25:55.833Z"
   },
   {
    "duration": 677,
    "start_time": "2022-03-08T08:25:56.603Z"
   },
   {
    "duration": 337,
    "start_time": "2022-03-08T08:25:57.282Z"
   },
   {
    "duration": 346,
    "start_time": "2022-03-08T08:25:57.621Z"
   },
   {
    "duration": 323,
    "start_time": "2022-03-08T08:25:57.969Z"
   },
   {
    "duration": 12,
    "start_time": "2022-03-08T08:25:58.293Z"
   },
   {
    "duration": 10,
    "start_time": "2022-03-08T08:25:58.307Z"
   },
   {
    "duration": 11,
    "start_time": "2022-03-08T08:25:58.318Z"
   },
   {
    "duration": 36,
    "start_time": "2022-03-08T08:25:58.330Z"
   },
   {
    "duration": 21,
    "start_time": "2022-03-08T08:31:56.620Z"
   },
   {
    "duration": 1329,
    "start_time": "2022-03-08T08:32:45.878Z"
   },
   {
    "duration": 470,
    "start_time": "2022-03-08T08:32:47.208Z"
   },
   {
    "duration": 246,
    "start_time": "2022-03-08T08:32:47.681Z"
   },
   {
    "duration": 174,
    "start_time": "2022-03-08T08:32:47.929Z"
   },
   {
    "duration": 8,
    "start_time": "2022-03-08T08:32:48.105Z"
   },
   {
    "duration": 57,
    "start_time": "2022-03-08T08:32:48.115Z"
   },
   {
    "duration": 107,
    "start_time": "2022-03-08T08:32:48.173Z"
   },
   {
    "duration": 51,
    "start_time": "2022-03-08T08:32:48.282Z"
   },
   {
    "duration": 64,
    "start_time": "2022-03-08T08:32:48.335Z"
   },
   {
    "duration": 7,
    "start_time": "2022-03-08T08:32:48.401Z"
   },
   {
    "duration": 16,
    "start_time": "2022-03-08T08:32:48.410Z"
   },
   {
    "duration": 42,
    "start_time": "2022-03-08T08:32:48.428Z"
   },
   {
    "duration": 22,
    "start_time": "2022-03-08T08:32:48.471Z"
   },
   {
    "duration": 244,
    "start_time": "2022-03-08T08:32:48.495Z"
   },
   {
    "duration": 30,
    "start_time": "2022-03-08T08:32:48.743Z"
   },
   {
    "duration": 18,
    "start_time": "2022-03-08T08:32:48.775Z"
   },
   {
    "duration": 17,
    "start_time": "2022-03-08T08:32:48.795Z"
   },
   {
    "duration": 47,
    "start_time": "2022-03-08T08:32:48.814Z"
   },
   {
    "duration": 19,
    "start_time": "2022-03-08T08:32:48.863Z"
   },
   {
    "duration": 18,
    "start_time": "2022-03-08T08:32:48.883Z"
   },
   {
    "duration": 98,
    "start_time": "2022-03-08T08:32:48.902Z"
   },
   {
    "duration": 757,
    "start_time": "2022-03-08T08:32:49.002Z"
   },
   {
    "duration": 673,
    "start_time": "2022-03-08T08:32:49.763Z"
   },
   {
    "duration": 338,
    "start_time": "2022-03-08T08:32:50.439Z"
   },
   {
    "duration": 342,
    "start_time": "2022-03-08T08:32:50.779Z"
   },
   {
    "duration": 355,
    "start_time": "2022-03-08T08:32:51.123Z"
   },
   {
    "duration": 13,
    "start_time": "2022-03-08T08:32:51.480Z"
   },
   {
    "duration": 12,
    "start_time": "2022-03-08T08:32:51.495Z"
   },
   {
    "duration": 13,
    "start_time": "2022-03-08T08:32:51.509Z"
   },
   {
    "duration": 12,
    "start_time": "2022-03-08T08:32:51.523Z"
   }
  ],
  "kernelspec": {
   "display_name": "Python 3 (ipykernel)",
   "language": "python",
   "name": "python3"
  },
  "language_info": {
   "codemirror_mode": {
    "name": "ipython",
    "version": 3
   },
   "file_extension": ".py",
   "mimetype": "text/x-python",
   "name": "python",
   "nbconvert_exporter": "python",
   "pygments_lexer": "ipython3",
   "version": "3.9.7"
  },
  "toc": {
   "base_numbering": 1,
   "nav_menu": {},
   "number_sections": true,
   "sideBar": true,
   "skip_h1_title": true,
   "title_cell": "Содержание",
   "title_sidebar": "Содержание",
   "toc_cell": true,
   "toc_position": {
    "height": "calc(100% - 180px)",
    "left": "10px",
    "top": "150px",
    "width": "165px"
   },
   "toc_section_display": true,
   "toc_window_display": false
  }
 },
 "nbformat": 4,
 "nbformat_minor": 2
}
