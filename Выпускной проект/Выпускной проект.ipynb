{
 "cells": [
  {
   "cell_type": "markdown",
   "metadata": {},
   "source": [
    "### Описание проекта\n",
    "\n",
    "Цель проекта - сегментировать покупателей интернет-магазина товаров для дома и быта «Пока все ещё тут» по профилю потребления для разработки более персонализированных предложений для покупателей.\n",
    "\n",
    "Заказчик - продакт-менеджер компании.\n",
    "\n",
    "Задачи:\n",
    "\n",
    "* Провести исследовательский анализ данных\n",
    "* Сегментировать покупателей на основе истории их покупок\n",
    "* Сформулировать и проверить статистические гипотезы"
   ]
  },
  {
   "cell_type": "markdown",
   "metadata": {},
   "source": [
    "### Описание данных\n",
    "\n",
    "Датасет описывает транзакции интернет-магазина товаров для дома и быта «Пока все ещё тут».\n",
    "\n",
    "Колонки в  *ecommerce_dataset.csv* :\n",
    "\n",
    "- `date` — дата заказа;\n",
    "- `customer_id` — идентификатор покупателя;\n",
    "- `order_id` — идентификатор заказа;\n",
    "- `product` — наименование товара;\n",
    "- `quantity` — количество товара в заказе;\n",
    "- `price` — цена товара."
   ]
  },
  {
   "cell_type": "markdown",
   "metadata": {},
   "source": [
    "### Шаг 1. Загрузка данных"
   ]
  },
  {
   "cell_type": "markdown",
   "metadata": {},
   "source": [
    "#### 1. Импорт библиотек"
   ]
  },
  {
   "cell_type": "code",
   "execution_count": 1,
   "metadata": {},
   "outputs": [],
   "source": [
    "import pandas as pd\n",
    "import seaborn as sns\n",
    "import matplotlib.pyplot as plt\n",
    "from sklearn.model_selection import train_test_split\n",
    "pd.set_option('display.max_columns', None)\n",
    "pd.options.display.float_format = '{:,.2f}'.format\n",
    "from scipy.cluster.hierarchy import dendrogram, linkage \n",
    "from sklearn.preprocessing import StandardScaler\n",
    "from sklearn.cluster import KMeans\n",
    "import warnings\n",
    "import scipy.stats as stats\n",
    "import numpy as np\n",
    "from scipy import stats as st\n",
    "\n",
    "warnings.filterwarnings('ignore')"
   ]
  },
  {
   "cell_type": "markdown",
   "metadata": {},
   "source": [
    "#### 2. Импорт данных"
   ]
  },
  {
   "cell_type": "code",
   "execution_count": 2,
   "metadata": {},
   "outputs": [
    {
     "data": {
      "text/html": [
       "<div>\n",
       "<style scoped>\n",
       "    .dataframe tbody tr th:only-of-type {\n",
       "        vertical-align: middle;\n",
       "    }\n",
       "\n",
       "    .dataframe tbody tr th {\n",
       "        vertical-align: top;\n",
       "    }\n",
       "\n",
       "    .dataframe thead th {\n",
       "        text-align: right;\n",
       "    }\n",
       "</style>\n",
       "<table border=\"1\" class=\"dataframe\">\n",
       "  <thead>\n",
       "    <tr style=\"text-align: right;\">\n",
       "      <th></th>\n",
       "      <th>date</th>\n",
       "      <th>customer_id</th>\n",
       "      <th>order_id</th>\n",
       "      <th>product</th>\n",
       "      <th>quantity</th>\n",
       "      <th>price</th>\n",
       "    </tr>\n",
       "  </thead>\n",
       "  <tbody>\n",
       "    <tr>\n",
       "      <th>0</th>\n",
       "      <td>2018100100</td>\n",
       "      <td>ee47d746-6d2f-4d3c-9622-c31412542920</td>\n",
       "      <td>68477</td>\n",
       "      <td>Комнатное растение в горшке Алое Вера, d12, h30</td>\n",
       "      <td>1</td>\n",
       "      <td>142.00</td>\n",
       "    </tr>\n",
       "    <tr>\n",
       "      <th>1</th>\n",
       "      <td>2018100100</td>\n",
       "      <td>ee47d746-6d2f-4d3c-9622-c31412542920</td>\n",
       "      <td>68477</td>\n",
       "      <td>Комнатное растение в горшке Кофе Арабика, d12,...</td>\n",
       "      <td>1</td>\n",
       "      <td>194.00</td>\n",
       "    </tr>\n",
       "    <tr>\n",
       "      <th>2</th>\n",
       "      <td>2018100100</td>\n",
       "      <td>ee47d746-6d2f-4d3c-9622-c31412542920</td>\n",
       "      <td>68477</td>\n",
       "      <td>Радермахера d-12 см h-20 см</td>\n",
       "      <td>1</td>\n",
       "      <td>112.00</td>\n",
       "    </tr>\n",
       "    <tr>\n",
       "      <th>3</th>\n",
       "      <td>2018100100</td>\n",
       "      <td>ee47d746-6d2f-4d3c-9622-c31412542920</td>\n",
       "      <td>68477</td>\n",
       "      <td>Хризолидокарпус Лутесценс d-9 см</td>\n",
       "      <td>1</td>\n",
       "      <td>179.00</td>\n",
       "    </tr>\n",
       "    <tr>\n",
       "      <th>4</th>\n",
       "      <td>2018100100</td>\n",
       "      <td>ee47d746-6d2f-4d3c-9622-c31412542920</td>\n",
       "      <td>68477</td>\n",
       "      <td>Циперус Зумула d-12 см h-25 см</td>\n",
       "      <td>1</td>\n",
       "      <td>112.00</td>\n",
       "    </tr>\n",
       "  </tbody>\n",
       "</table>\n",
       "</div>"
      ],
      "text/plain": [
       "         date                           customer_id  order_id  \\\n",
       "0  2018100100  ee47d746-6d2f-4d3c-9622-c31412542920     68477   \n",
       "1  2018100100  ee47d746-6d2f-4d3c-9622-c31412542920     68477   \n",
       "2  2018100100  ee47d746-6d2f-4d3c-9622-c31412542920     68477   \n",
       "3  2018100100  ee47d746-6d2f-4d3c-9622-c31412542920     68477   \n",
       "4  2018100100  ee47d746-6d2f-4d3c-9622-c31412542920     68477   \n",
       "\n",
       "                                             product  quantity  price  \n",
       "0    Комнатное растение в горшке Алое Вера, d12, h30         1 142.00  \n",
       "1  Комнатное растение в горшке Кофе Арабика, d12,...         1 194.00  \n",
       "2                        Радермахера d-12 см h-20 см         1 112.00  \n",
       "3                   Хризолидокарпус Лутесценс d-9 см         1 179.00  \n",
       "4                     Циперус Зумула d-12 см h-25 см         1 112.00  "
      ]
     },
     "execution_count": 2,
     "metadata": {},
     "output_type": "execute_result"
    }
   ],
   "source": [
    "data = pd.read_csv('https://code.s3.yandex.net/datasets/ecommerce_dataset.csv')\n",
    "data.head()"
   ]
  },
  {
   "cell_type": "markdown",
   "metadata": {},
   "source": [
    "### Шаг 2. Исследовательский анализ данных"
   ]
  },
  {
   "cell_type": "markdown",
   "metadata": {},
   "source": [
    "#### 1. Изучить информацию о таблице"
   ]
  },
  {
   "cell_type": "code",
   "execution_count": 3,
   "metadata": {},
   "outputs": [
    {
     "name": "stdout",
     "output_type": "stream",
     "text": [
      "<class 'pandas.core.frame.DataFrame'>\n",
      "RangeIndex: 6737 entries, 0 to 6736\n",
      "Data columns (total 6 columns):\n",
      " #   Column       Non-Null Count  Dtype  \n",
      "---  ------       --------------  -----  \n",
      " 0   date         6737 non-null   int64  \n",
      " 1   customer_id  6737 non-null   object \n",
      " 2   order_id     6737 non-null   int64  \n",
      " 3   product      6737 non-null   object \n",
      " 4   quantity     6737 non-null   int64  \n",
      " 5   price        6737 non-null   float64\n",
      "dtypes: float64(1), int64(3), object(2)\n",
      "memory usage: 315.9+ KB\n"
     ]
    }
   ],
   "source": [
    "data.info()"
   ]
  },
  {
   "cell_type": "markdown",
   "metadata": {},
   "source": [
    "Таблица содержит 6737 записей. Проверим чистоту данных и поработаем со столбцом date, приведя его к нужному формату."
   ]
  },
  {
   "cell_type": "markdown",
   "metadata": {},
   "source": [
    "#### 2. Проверить чистоту данных (дубли, пропуски, типы данных, наименования колонок)"
   ]
  },
  {
   "cell_type": "code",
   "execution_count": 4,
   "metadata": {},
   "outputs": [
    {
     "name": "stdout",
     "output_type": "stream",
     "text": [
      "Количество дубликатов в таблице data:  0\n",
      "Количество пропусков в таблице data:  0\n"
     ]
    }
   ],
   "source": [
    "print('Количество дубликатов в таблице data: ', data.duplicated().sum())\n",
    "print('Количество пропусков в таблице data: ', data.isnull().sum().sum())"
   ]
  },
  {
   "cell_type": "markdown",
   "metadata": {},
   "source": [
    "Пропусков в таблице не обнаружено, полных дубликатов тоже. Проверим данные на наличие неявных дубликатов.\n",
    "\n",
    "Для начала посмотрим, есть ли в таблице заказы с одним номером, но разными покупателями."
   ]
  },
  {
   "cell_type": "code",
   "execution_count": 5,
   "metadata": {},
   "outputs": [
    {
     "data": {
      "text/plain": [
       "nunique\n",
       "1          2755\n",
       "2            26\n",
       "3             2\n",
       "4             1\n",
       "dtype: int64"
      ]
     },
     "execution_count": 5,
     "metadata": {},
     "output_type": "execute_result"
    }
   ],
   "source": [
    "data.groupby(['order_id']).agg({'customer_id': ['nunique']})['customer_id'].value_counts()"
   ]
  },
  {
   "cell_type": "markdown",
   "metadata": {},
   "source": [
    "Видим, что у нас есть: \n",
    " * 1 заказ с 4 разными покупателями\n",
    " * 2 заказа с 3 разными покупателями\n",
    " * 26 заказов с 2 разными покупателями\n",
    " \n",
    "Рассмотрим эти случаи детальнее."
   ]
  },
  {
   "cell_type": "code",
   "execution_count": 6,
   "metadata": {},
   "outputs": [
    {
     "data": {
      "text/html": [
       "<div>\n",
       "<style scoped>\n",
       "    .dataframe tbody tr th:only-of-type {\n",
       "        vertical-align: middle;\n",
       "    }\n",
       "\n",
       "    .dataframe tbody tr th {\n",
       "        vertical-align: top;\n",
       "    }\n",
       "\n",
       "    .dataframe thead th {\n",
       "        text-align: right;\n",
       "    }\n",
       "</style>\n",
       "<table border=\"1\" class=\"dataframe\">\n",
       "  <thead>\n",
       "    <tr style=\"text-align: right;\">\n",
       "      <th></th>\n",
       "      <th>nunique</th>\n",
       "    </tr>\n",
       "    <tr>\n",
       "      <th>order_id</th>\n",
       "      <th></th>\n",
       "    </tr>\n",
       "  </thead>\n",
       "  <tbody>\n",
       "    <tr>\n",
       "      <th>69310</th>\n",
       "      <td>2</td>\n",
       "    </tr>\n",
       "    <tr>\n",
       "      <th>71461</th>\n",
       "      <td>2</td>\n",
       "    </tr>\n",
       "    <tr>\n",
       "      <th>69485</th>\n",
       "      <td>3</td>\n",
       "    </tr>\n",
       "    <tr>\n",
       "      <th>71480</th>\n",
       "      <td>3</td>\n",
       "    </tr>\n",
       "    <tr>\n",
       "      <th>72845</th>\n",
       "      <td>4</td>\n",
       "    </tr>\n",
       "  </tbody>\n",
       "</table>\n",
       "</div>"
      ],
      "text/plain": [
       "          nunique\n",
       "order_id         \n",
       "69310           2\n",
       "71461           2\n",
       "69485           3\n",
       "71480           3\n",
       "72845           4"
      ]
     },
     "execution_count": 6,
     "metadata": {},
     "output_type": "execute_result"
    }
   ],
   "source": [
    "(data.groupby(['order_id']).agg({'customer_id': ['nunique']})['customer_id']).sort_values(by='nunique').tail()"
   ]
  },
  {
   "cell_type": "code",
   "execution_count": 7,
   "metadata": {},
   "outputs": [
    {
     "data": {
      "text/html": [
       "<div>\n",
       "<style scoped>\n",
       "    .dataframe tbody tr th:only-of-type {\n",
       "        vertical-align: middle;\n",
       "    }\n",
       "\n",
       "    .dataframe tbody tr th {\n",
       "        vertical-align: top;\n",
       "    }\n",
       "\n",
       "    .dataframe thead th {\n",
       "        text-align: right;\n",
       "    }\n",
       "</style>\n",
       "<table border=\"1\" class=\"dataframe\">\n",
       "  <thead>\n",
       "    <tr style=\"text-align: right;\">\n",
       "      <th></th>\n",
       "      <th>date</th>\n",
       "      <th>customer_id</th>\n",
       "      <th>order_id</th>\n",
       "      <th>product</th>\n",
       "      <th>quantity</th>\n",
       "      <th>price</th>\n",
       "    </tr>\n",
       "  </thead>\n",
       "  <tbody>\n",
       "    <tr>\n",
       "      <th>6504</th>\n",
       "      <td>2019100314</td>\n",
       "      <td>d8465f63-35db-4809-aff3-a8f7ebfc257f</td>\n",
       "      <td>72845</td>\n",
       "      <td>Муляж Яблоко зеленый 9 см полиуретан</td>\n",
       "      <td>40</td>\n",
       "      <td>59.00</td>\n",
       "    </tr>\n",
       "    <tr>\n",
       "      <th>6505</th>\n",
       "      <td>2019100315</td>\n",
       "      <td>0309d37c-ab5f-4793-ba72-5484c019b840</td>\n",
       "      <td>72845</td>\n",
       "      <td>Муляж Яблоко зеленый 9 см полиуретан</td>\n",
       "      <td>40</td>\n",
       "      <td>59.00</td>\n",
       "    </tr>\n",
       "    <tr>\n",
       "      <th>6508</th>\n",
       "      <td>2019100408</td>\n",
       "      <td>25a8cd52-3efa-48ee-a6bd-d413d7e2b42f</td>\n",
       "      <td>72845</td>\n",
       "      <td>Муляж Яблоко зеленый 9 см полиуретан</td>\n",
       "      <td>40</td>\n",
       "      <td>59.00</td>\n",
       "    </tr>\n",
       "    <tr>\n",
       "      <th>6538</th>\n",
       "      <td>2019100720</td>\n",
       "      <td>2ac05362-3ca7-4d19-899c-7ba266902611</td>\n",
       "      <td>72845</td>\n",
       "      <td>Муляж Яблоко зеленый 9 см полиуретан</td>\n",
       "      <td>40</td>\n",
       "      <td>59.00</td>\n",
       "    </tr>\n",
       "  </tbody>\n",
       "</table>\n",
       "</div>"
      ],
      "text/plain": [
       "            date                           customer_id  order_id  \\\n",
       "6504  2019100314  d8465f63-35db-4809-aff3-a8f7ebfc257f     72845   \n",
       "6505  2019100315  0309d37c-ab5f-4793-ba72-5484c019b840     72845   \n",
       "6508  2019100408  25a8cd52-3efa-48ee-a6bd-d413d7e2b42f     72845   \n",
       "6538  2019100720  2ac05362-3ca7-4d19-899c-7ba266902611     72845   \n",
       "\n",
       "                                   product  quantity  price  \n",
       "6504  Муляж Яблоко зеленый 9 см полиуретан        40  59.00  \n",
       "6505  Муляж Яблоко зеленый 9 см полиуретан        40  59.00  \n",
       "6508  Муляж Яблоко зеленый 9 см полиуретан        40  59.00  \n",
       "6538  Муляж Яблоко зеленый 9 см полиуретан        40  59.00  "
      ]
     },
     "execution_count": 7,
     "metadata": {},
     "output_type": "execute_result"
    }
   ],
   "source": [
    "data[data['order_id'] == 72845]"
   ]
  },
  {
   "cell_type": "markdown",
   "metadata": {},
   "source": [
    "Заказ 72845 абсолютно идентичен по составу, но оформлен покупателями с разным ID в разное время. Скорее всего, это связано с тем, что один и тот же заказ по тем или иным причинам переоформлялся несколько раз на разные даты (возможно, менялись условия доставки, способ оплаты или что-то ещё). Исходя из этого примем решение оставить только последнюю, самую новую, запись о заказе, считая её актуальной."
   ]
  },
  {
   "cell_type": "code",
   "execution_count": 8,
   "metadata": {},
   "outputs": [
    {
     "data": {
      "text/html": [
       "<div>\n",
       "<style scoped>\n",
       "    .dataframe tbody tr th:only-of-type {\n",
       "        vertical-align: middle;\n",
       "    }\n",
       "\n",
       "    .dataframe tbody tr th {\n",
       "        vertical-align: top;\n",
       "    }\n",
       "\n",
       "    .dataframe thead th {\n",
       "        text-align: right;\n",
       "    }\n",
       "</style>\n",
       "<table border=\"1\" class=\"dataframe\">\n",
       "  <thead>\n",
       "    <tr style=\"text-align: right;\">\n",
       "      <th></th>\n",
       "      <th>date</th>\n",
       "      <th>customer_id</th>\n",
       "      <th>order_id</th>\n",
       "      <th>product</th>\n",
       "      <th>quantity</th>\n",
       "      <th>price</th>\n",
       "    </tr>\n",
       "  </thead>\n",
       "  <tbody>\n",
       "    <tr>\n",
       "      <th>3963</th>\n",
       "      <td>2019052102</td>\n",
       "      <td>4bd9c1e8-b2cc-4ec5-97eb-28d8f3c22d8d</td>\n",
       "      <td>71480</td>\n",
       "      <td>Мята перечная Шоколадная Chocolate d-7 см h-10...</td>\n",
       "      <td>1</td>\n",
       "      <td>74.00</td>\n",
       "    </tr>\n",
       "    <tr>\n",
       "      <th>4025</th>\n",
       "      <td>2019052422</td>\n",
       "      <td>d8080f8f-3685-433b-b416-beb0a8f06606</td>\n",
       "      <td>71480</td>\n",
       "      <td>Мята перечная Шоколадная Chocolate d-7 см h-10...</td>\n",
       "      <td>1</td>\n",
       "      <td>74.00</td>\n",
       "    </tr>\n",
       "    <tr>\n",
       "      <th>4026</th>\n",
       "      <td>2019052502</td>\n",
       "      <td>51f04abe-a71a-4694-87b7-ad9ef4930e51</td>\n",
       "      <td>71480</td>\n",
       "      <td>Мята перечная Шоколадная Chocolate d-7 см h-10...</td>\n",
       "      <td>1</td>\n",
       "      <td>74.00</td>\n",
       "    </tr>\n",
       "  </tbody>\n",
       "</table>\n",
       "</div>"
      ],
      "text/plain": [
       "            date                           customer_id  order_id  \\\n",
       "3963  2019052102  4bd9c1e8-b2cc-4ec5-97eb-28d8f3c22d8d     71480   \n",
       "4025  2019052422  d8080f8f-3685-433b-b416-beb0a8f06606     71480   \n",
       "4026  2019052502  51f04abe-a71a-4694-87b7-ad9ef4930e51     71480   \n",
       "\n",
       "                                                product  quantity  price  \n",
       "3963  Мята перечная Шоколадная Chocolate d-7 см h-10...         1  74.00  \n",
       "4025  Мята перечная Шоколадная Chocolate d-7 см h-10...         1  74.00  \n",
       "4026  Мята перечная Шоколадная Chocolate d-7 см h-10...         1  74.00  "
      ]
     },
     "execution_count": 8,
     "metadata": {},
     "output_type": "execute_result"
    }
   ],
   "source": [
    "data[data['order_id'] == 71480]"
   ]
  },
  {
   "cell_type": "raw",
   "metadata": {},
   "source": [
    "С заказом 71480 ситуация аналогичная. \n",
    "\n",
    "Теперь проверим количество уникальных дат на каждый заказ."
   ]
  },
  {
   "cell_type": "code",
   "execution_count": 9,
   "metadata": {},
   "outputs": [
    {
     "data": {
      "text/plain": [
       "nunique\n",
       "1          2500\n",
       "2           189\n",
       "3            53\n",
       "4            17\n",
       "5             8\n",
       "6             4\n",
       "7             4\n",
       "9             2\n",
       "8             1\n",
       "10            1\n",
       "12            1\n",
       "16            1\n",
       "23            1\n",
       "60            1\n",
       "74            1\n",
       "dtype: int64"
      ]
     },
     "execution_count": 9,
     "metadata": {},
     "output_type": "execute_result"
    }
   ],
   "source": [
    "data.groupby(['order_id']).agg({'date': ['nunique']})['date'].value_counts()"
   ]
  },
  {
   "cell_type": "markdown",
   "metadata": {},
   "source": [
    "Видим много заказов с разными данными. Рассмотрим детальнее."
   ]
  },
  {
   "cell_type": "code",
   "execution_count": 10,
   "metadata": {},
   "outputs": [
    {
     "data": {
      "text/html": [
       "<div>\n",
       "<style scoped>\n",
       "    .dataframe tbody tr th:only-of-type {\n",
       "        vertical-align: middle;\n",
       "    }\n",
       "\n",
       "    .dataframe tbody tr th {\n",
       "        vertical-align: top;\n",
       "    }\n",
       "\n",
       "    .dataframe thead th {\n",
       "        text-align: right;\n",
       "    }\n",
       "</style>\n",
       "<table border=\"1\" class=\"dataframe\">\n",
       "  <thead>\n",
       "    <tr style=\"text-align: right;\">\n",
       "      <th></th>\n",
       "      <th>nunique</th>\n",
       "    </tr>\n",
       "    <tr>\n",
       "      <th>order_id</th>\n",
       "      <th></th>\n",
       "    </tr>\n",
       "  </thead>\n",
       "  <tbody>\n",
       "    <tr>\n",
       "      <th>69531</th>\n",
       "      <td>12</td>\n",
       "    </tr>\n",
       "    <tr>\n",
       "      <th>71148</th>\n",
       "      <td>16</td>\n",
       "    </tr>\n",
       "    <tr>\n",
       "      <th>69162</th>\n",
       "      <td>23</td>\n",
       "    </tr>\n",
       "    <tr>\n",
       "      <th>70960</th>\n",
       "      <td>60</td>\n",
       "    </tr>\n",
       "    <tr>\n",
       "      <th>14833</th>\n",
       "      <td>74</td>\n",
       "    </tr>\n",
       "  </tbody>\n",
       "</table>\n",
       "</div>"
      ],
      "text/plain": [
       "          nunique\n",
       "order_id         \n",
       "69531          12\n",
       "71148          16\n",
       "69162          23\n",
       "70960          60\n",
       "14833          74"
      ]
     },
     "execution_count": 10,
     "metadata": {},
     "output_type": "execute_result"
    }
   ],
   "source": [
    "(data.groupby(['order_id']).agg({'date': ['nunique']})['date']).sort_values(by='nunique').tail()"
   ]
  },
  {
   "cell_type": "code",
   "execution_count": 11,
   "metadata": {
    "scrolled": false
   },
   "outputs": [
    {
     "data": {
      "text/html": [
       "<div>\n",
       "<style scoped>\n",
       "    .dataframe tbody tr th:only-of-type {\n",
       "        vertical-align: middle;\n",
       "    }\n",
       "\n",
       "    .dataframe tbody tr th {\n",
       "        vertical-align: top;\n",
       "    }\n",
       "\n",
       "    .dataframe thead th {\n",
       "        text-align: right;\n",
       "    }\n",
       "</style>\n",
       "<table border=\"1\" class=\"dataframe\">\n",
       "  <thead>\n",
       "    <tr style=\"text-align: right;\">\n",
       "      <th></th>\n",
       "      <th>date</th>\n",
       "      <th>customer_id</th>\n",
       "      <th>order_id</th>\n",
       "      <th>product</th>\n",
       "      <th>quantity</th>\n",
       "      <th>price</th>\n",
       "    </tr>\n",
       "  </thead>\n",
       "  <tbody>\n",
       "    <tr>\n",
       "      <th>4157</th>\n",
       "      <td>2019053112</td>\n",
       "      <td>1d6c8c1f-a799-4418-9af2-1ded47d7a85c</td>\n",
       "      <td>14833</td>\n",
       "      <td>Рассада Кабачка сорт Аэронавт, кассета по 6шт</td>\n",
       "      <td>1</td>\n",
       "      <td>120.00</td>\n",
       "    </tr>\n",
       "    <tr>\n",
       "      <th>4158</th>\n",
       "      <td>2019053112</td>\n",
       "      <td>1d6c8c1f-a799-4418-9af2-1ded47d7a85c</td>\n",
       "      <td>14833</td>\n",
       "      <td>Рассада Кабачка сорт Белогор кассета 6 шт E6</td>\n",
       "      <td>1</td>\n",
       "      <td>120.00</td>\n",
       "    </tr>\n",
       "    <tr>\n",
       "      <th>4159</th>\n",
       "      <td>2019053112</td>\n",
       "      <td>1d6c8c1f-a799-4418-9af2-1ded47d7a85c</td>\n",
       "      <td>14833</td>\n",
       "      <td>Рассада Кабачка сорт Горный, кассета по 6шт</td>\n",
       "      <td>1</td>\n",
       "      <td>120.00</td>\n",
       "    </tr>\n",
       "    <tr>\n",
       "      <th>4160</th>\n",
       "      <td>2019053112</td>\n",
       "      <td>1d6c8c1f-a799-4418-9af2-1ded47d7a85c</td>\n",
       "      <td>14833</td>\n",
       "      <td>Рассада Кабачка сорт Зебра кассета 6 шт E6</td>\n",
       "      <td>1</td>\n",
       "      <td>120.00</td>\n",
       "    </tr>\n",
       "    <tr>\n",
       "      <th>4161</th>\n",
       "      <td>2019053112</td>\n",
       "      <td>1d6c8c1f-a799-4418-9af2-1ded47d7a85c</td>\n",
       "      <td>14833</td>\n",
       "      <td>Рассада Кабачка сорт Золотинка кассета 6 шт E6</td>\n",
       "      <td>1</td>\n",
       "      <td>120.00</td>\n",
       "    </tr>\n",
       "  </tbody>\n",
       "</table>\n",
       "</div>"
      ],
      "text/plain": [
       "            date                           customer_id  order_id  \\\n",
       "4157  2019053112  1d6c8c1f-a799-4418-9af2-1ded47d7a85c     14833   \n",
       "4158  2019053112  1d6c8c1f-a799-4418-9af2-1ded47d7a85c     14833   \n",
       "4159  2019053112  1d6c8c1f-a799-4418-9af2-1ded47d7a85c     14833   \n",
       "4160  2019053112  1d6c8c1f-a799-4418-9af2-1ded47d7a85c     14833   \n",
       "4161  2019053112  1d6c8c1f-a799-4418-9af2-1ded47d7a85c     14833   \n",
       "\n",
       "                                             product  quantity  price  \n",
       "4157   Рассада Кабачка сорт Аэронавт, кассета по 6шт         1 120.00  \n",
       "4158    Рассада Кабачка сорт Белогор кассета 6 шт E6         1 120.00  \n",
       "4159     Рассада Кабачка сорт Горный, кассета по 6шт         1 120.00  \n",
       "4160      Рассада Кабачка сорт Зебра кассета 6 шт E6         1 120.00  \n",
       "4161  Рассада Кабачка сорт Золотинка кассета 6 шт E6         1 120.00  "
      ]
     },
     "execution_count": 11,
     "metadata": {},
     "output_type": "execute_result"
    }
   ],
   "source": [
    "data[data['order_id'] == 14833].head()"
   ]
  },
  {
   "cell_type": "code",
   "execution_count": 12,
   "metadata": {},
   "outputs": [
    {
     "data": {
      "text/html": [
       "<div>\n",
       "<style scoped>\n",
       "    .dataframe tbody tr th:only-of-type {\n",
       "        vertical-align: middle;\n",
       "    }\n",
       "\n",
       "    .dataframe tbody tr th {\n",
       "        vertical-align: top;\n",
       "    }\n",
       "\n",
       "    .dataframe thead th {\n",
       "        text-align: right;\n",
       "    }\n",
       "</style>\n",
       "<table border=\"1\" class=\"dataframe\">\n",
       "  <thead>\n",
       "    <tr style=\"text-align: right;\">\n",
       "      <th></th>\n",
       "      <th>date</th>\n",
       "      <th>customer_id</th>\n",
       "      <th>order_id</th>\n",
       "      <th>product</th>\n",
       "      <th>quantity</th>\n",
       "      <th>price</th>\n",
       "    </tr>\n",
       "  </thead>\n",
       "  <tbody>\n",
       "    <tr>\n",
       "      <th>1323</th>\n",
       "      <td>2018122314</td>\n",
       "      <td>e382d4c4-a4c9-44d3-97a0-a8868e122563</td>\n",
       "      <td>69531</td>\n",
       "      <td>Сумка-тележка хозяйственная Rolser BAB010 rojo...</td>\n",
       "      <td>1</td>\n",
       "      <td>4,139.00</td>\n",
       "    </tr>\n",
       "    <tr>\n",
       "      <th>1338</th>\n",
       "      <td>2018122408</td>\n",
       "      <td>e382d4c4-a4c9-44d3-97a0-a8868e122563</td>\n",
       "      <td>69531</td>\n",
       "      <td>Сумка-тележка хозяйственная Rolser BAB010 rojo...</td>\n",
       "      <td>1</td>\n",
       "      <td>4,139.00</td>\n",
       "    </tr>\n",
       "    <tr>\n",
       "      <th>1417</th>\n",
       "      <td>2018122823</td>\n",
       "      <td>e382d4c4-a4c9-44d3-97a0-a8868e122563</td>\n",
       "      <td>69531</td>\n",
       "      <td>Сумка-тележка хозяйственная Rolser BAB010 rojo...</td>\n",
       "      <td>1</td>\n",
       "      <td>4,139.00</td>\n",
       "    </tr>\n",
       "    <tr>\n",
       "      <th>1422</th>\n",
       "      <td>2019010110</td>\n",
       "      <td>e382d4c4-a4c9-44d3-97a0-a8868e122563</td>\n",
       "      <td>69531</td>\n",
       "      <td>Сумка-тележка хозяйственная Rolser BAB010 rojo...</td>\n",
       "      <td>1</td>\n",
       "      <td>4,139.00</td>\n",
       "    </tr>\n",
       "    <tr>\n",
       "      <th>1429</th>\n",
       "      <td>2019010308</td>\n",
       "      <td>e382d4c4-a4c9-44d3-97a0-a8868e122563</td>\n",
       "      <td>69531</td>\n",
       "      <td>Сумка-тележка хозяйственная Rolser BAB010 rojo...</td>\n",
       "      <td>1</td>\n",
       "      <td>4,139.00</td>\n",
       "    </tr>\n",
       "  </tbody>\n",
       "</table>\n",
       "</div>"
      ],
      "text/plain": [
       "            date                           customer_id  order_id  \\\n",
       "1323  2018122314  e382d4c4-a4c9-44d3-97a0-a8868e122563     69531   \n",
       "1338  2018122408  e382d4c4-a4c9-44d3-97a0-a8868e122563     69531   \n",
       "1417  2018122823  e382d4c4-a4c9-44d3-97a0-a8868e122563     69531   \n",
       "1422  2019010110  e382d4c4-a4c9-44d3-97a0-a8868e122563     69531   \n",
       "1429  2019010308  e382d4c4-a4c9-44d3-97a0-a8868e122563     69531   \n",
       "\n",
       "                                                product  quantity    price  \n",
       "1323  Сумка-тележка хозяйственная Rolser BAB010 rojo...         1 4,139.00  \n",
       "1338  Сумка-тележка хозяйственная Rolser BAB010 rojo...         1 4,139.00  \n",
       "1417  Сумка-тележка хозяйственная Rolser BAB010 rojo...         1 4,139.00  \n",
       "1422  Сумка-тележка хозяйственная Rolser BAB010 rojo...         1 4,139.00  \n",
       "1429  Сумка-тележка хозяйственная Rolser BAB010 rojo...         1 4,139.00  "
      ]
     },
     "execution_count": 12,
     "metadata": {},
     "output_type": "execute_result"
    }
   ],
   "source": [
    "data[data['order_id'] == 69531].head()"
   ]
  },
  {
   "cell_type": "markdown",
   "metadata": {},
   "source": [
    "На примере двух рассмотренных заказов видим, что каждый из них был оформлен одним покупателем. В первом случае (заказ 14833) менялись товары в заказе, во втором (заказ 69531) менялась только дата. Можно сделать вывод о том, что покупатели по каким-то причинам несколько раз обновляли состав заказа или иные сведения о нём. \n",
    "\n",
    "Проанализировав разные виды скрытых дубликатов, примем решение для всех заказов, имеющих разные даты или разных покупателей, оставить в таблице только те, что были оформлены последними."
   ]
  },
  {
   "cell_type": "code",
   "execution_count": 13,
   "metadata": {},
   "outputs": [],
   "source": [
    "data = data.drop_duplicates(subset=['order_id', 'product'], keep='last')"
   ]
  },
  {
   "cell_type": "markdown",
   "metadata": {},
   "source": [
    "Приведём столбец data к нужному формату и в отдельный столбец выделим время."
   ]
  },
  {
   "cell_type": "code",
   "execution_count": 14,
   "metadata": {},
   "outputs": [
    {
     "data": {
      "text/html": [
       "<div>\n",
       "<style scoped>\n",
       "    .dataframe tbody tr th:only-of-type {\n",
       "        vertical-align: middle;\n",
       "    }\n",
       "\n",
       "    .dataframe tbody tr th {\n",
       "        vertical-align: top;\n",
       "    }\n",
       "\n",
       "    .dataframe thead th {\n",
       "        text-align: right;\n",
       "    }\n",
       "</style>\n",
       "<table border=\"1\" class=\"dataframe\">\n",
       "  <thead>\n",
       "    <tr style=\"text-align: right;\">\n",
       "      <th></th>\n",
       "      <th>date</th>\n",
       "      <th>customer_id</th>\n",
       "      <th>order_id</th>\n",
       "      <th>product</th>\n",
       "      <th>quantity</th>\n",
       "      <th>price</th>\n",
       "      <th>hour</th>\n",
       "      <th>day</th>\n",
       "      <th>month</th>\n",
       "      <th>year</th>\n",
       "    </tr>\n",
       "  </thead>\n",
       "  <tbody>\n",
       "    <tr>\n",
       "      <th>0</th>\n",
       "      <td>2018-10-01</td>\n",
       "      <td>ee47d746-6d2f-4d3c-9622-c31412542920</td>\n",
       "      <td>68477</td>\n",
       "      <td>Комнатное растение в горшке Алое Вера, d12, h30</td>\n",
       "      <td>1</td>\n",
       "      <td>142.00</td>\n",
       "      <td>00:00</td>\n",
       "      <td>Monday</td>\n",
       "      <td>October</td>\n",
       "      <td>2018</td>\n",
       "    </tr>\n",
       "    <tr>\n",
       "      <th>1</th>\n",
       "      <td>2018-10-01</td>\n",
       "      <td>ee47d746-6d2f-4d3c-9622-c31412542920</td>\n",
       "      <td>68477</td>\n",
       "      <td>Комнатное растение в горшке Кофе Арабика, d12,...</td>\n",
       "      <td>1</td>\n",
       "      <td>194.00</td>\n",
       "      <td>00:00</td>\n",
       "      <td>Monday</td>\n",
       "      <td>October</td>\n",
       "      <td>2018</td>\n",
       "    </tr>\n",
       "    <tr>\n",
       "      <th>2</th>\n",
       "      <td>2018-10-01</td>\n",
       "      <td>ee47d746-6d2f-4d3c-9622-c31412542920</td>\n",
       "      <td>68477</td>\n",
       "      <td>Радермахера d-12 см h-20 см</td>\n",
       "      <td>1</td>\n",
       "      <td>112.00</td>\n",
       "      <td>00:00</td>\n",
       "      <td>Monday</td>\n",
       "      <td>October</td>\n",
       "      <td>2018</td>\n",
       "    </tr>\n",
       "    <tr>\n",
       "      <th>3</th>\n",
       "      <td>2018-10-01</td>\n",
       "      <td>ee47d746-6d2f-4d3c-9622-c31412542920</td>\n",
       "      <td>68477</td>\n",
       "      <td>Хризолидокарпус Лутесценс d-9 см</td>\n",
       "      <td>1</td>\n",
       "      <td>179.00</td>\n",
       "      <td>00:00</td>\n",
       "      <td>Monday</td>\n",
       "      <td>October</td>\n",
       "      <td>2018</td>\n",
       "    </tr>\n",
       "    <tr>\n",
       "      <th>4</th>\n",
       "      <td>2018-10-01</td>\n",
       "      <td>ee47d746-6d2f-4d3c-9622-c31412542920</td>\n",
       "      <td>68477</td>\n",
       "      <td>Циперус Зумула d-12 см h-25 см</td>\n",
       "      <td>1</td>\n",
       "      <td>112.00</td>\n",
       "      <td>00:00</td>\n",
       "      <td>Monday</td>\n",
       "      <td>October</td>\n",
       "      <td>2018</td>\n",
       "    </tr>\n",
       "  </tbody>\n",
       "</table>\n",
       "</div>"
      ],
      "text/plain": [
       "        date                           customer_id  order_id  \\\n",
       "0 2018-10-01  ee47d746-6d2f-4d3c-9622-c31412542920     68477   \n",
       "1 2018-10-01  ee47d746-6d2f-4d3c-9622-c31412542920     68477   \n",
       "2 2018-10-01  ee47d746-6d2f-4d3c-9622-c31412542920     68477   \n",
       "3 2018-10-01  ee47d746-6d2f-4d3c-9622-c31412542920     68477   \n",
       "4 2018-10-01  ee47d746-6d2f-4d3c-9622-c31412542920     68477   \n",
       "\n",
       "                                             product  quantity  price   hour  \\\n",
       "0    Комнатное растение в горшке Алое Вера, d12, h30         1 142.00  00:00   \n",
       "1  Комнатное растение в горшке Кофе Арабика, d12,...         1 194.00  00:00   \n",
       "2                        Радермахера d-12 см h-20 см         1 112.00  00:00   \n",
       "3                   Хризолидокарпус Лутесценс d-9 см         1 179.00  00:00   \n",
       "4                     Циперус Зумула d-12 см h-25 см         1 112.00  00:00   \n",
       "\n",
       "      day    month  year  \n",
       "0  Monday  October  2018  \n",
       "1  Monday  October  2018  \n",
       "2  Monday  October  2018  \n",
       "3  Monday  October  2018  \n",
       "4  Monday  October  2018  "
      ]
     },
     "execution_count": 14,
     "metadata": {},
     "output_type": "execute_result"
    }
   ],
   "source": [
    "data['hour'] = data['date'].apply(lambda x: f'{str(x)[8:]}:00')\n",
    "data['date'] = data['date'].apply(lambda x: str(x)[:8])\n",
    "data['date'] = pd.to_datetime(data['date'], format = '%Y%m%d')\n",
    "data['day'] = data['date'].dt.day_name()\n",
    "data['month'] = data['date'].dt.month_name()\n",
    "data['year'] = data['date'].dt.year\n",
    "data.head()"
   ]
  },
  {
   "cell_type": "markdown",
   "metadata": {},
   "source": [
    "#### 3. Выделить основные показатели интернет-магазина и изучить их динамику:\n",
    "* выручка\n",
    "* средний чек\n",
    "* средняя выручка с покупателя\n",
    "* другие показатели    "
   ]
  },
  {
   "cell_type": "code",
   "execution_count": 15,
   "metadata": {},
   "outputs": [
    {
     "data": {
      "text/plain": [
       "Timestamp('2018-10-01 00:00:00')"
      ]
     },
     "execution_count": 15,
     "metadata": {},
     "output_type": "execute_result"
    }
   ],
   "source": [
    "data['date'].min()"
   ]
  },
  {
   "cell_type": "code",
   "execution_count": 16,
   "metadata": {},
   "outputs": [
    {
     "data": {
      "text/plain": [
       "Timestamp('2019-10-31 00:00:00')"
      ]
     },
     "execution_count": 16,
     "metadata": {},
     "output_type": "execute_result"
    }
   ],
   "source": [
    "data['date'].max()"
   ]
  },
  {
   "cell_type": "markdown",
   "metadata": {},
   "source": [
    "Данные содержат информацию о покупках с 10 октября 2018 года по 31 октября 2019 года."
   ]
  },
  {
   "cell_type": "code",
   "execution_count": 17,
   "metadata": {},
   "outputs": [
    {
     "data": {
      "text/plain": [
       "2422"
      ]
     },
     "execution_count": 17,
     "metadata": {},
     "output_type": "execute_result"
    }
   ],
   "source": [
    "len(data['customer_id'].unique())"
   ]
  },
  {
   "cell_type": "code",
   "execution_count": 18,
   "metadata": {},
   "outputs": [
    {
     "data": {
      "text/plain": [
       "2784"
      ]
     },
     "execution_count": 18,
     "metadata": {},
     "output_type": "execute_result"
    }
   ],
   "source": [
    "len(data['order_id'].unique())"
   ]
  },
  {
   "cell_type": "markdown",
   "metadata": {},
   "source": [
    "Данные содержат информацию о 2451 покупателе и 2784 заказах."
   ]
  },
  {
   "cell_type": "markdown",
   "metadata": {},
   "source": [
    "#### Динамика выручки"
   ]
  },
  {
   "cell_type": "markdown",
   "metadata": {},
   "source": [
    "Месяцы и часы в исходных данных идут не попорядку, поэтому подготовимся к построению графиков, чтобы всё было в нужном порядке."
   ]
  },
  {
   "cell_type": "code",
   "execution_count": 19,
   "metadata": {},
   "outputs": [],
   "source": [
    "month = ['January',\n",
    " 'February',\n",
    " 'March',\n",
    " 'April',\n",
    " 'May',\n",
    " 'June',\n",
    " 'July',\n",
    " 'August',\n",
    " 'September',\n",
    " 'October',\n",
    " 'November',\n",
    " 'December'\n",
    " ]\n",
    "\n",
    "hours = ['00:00',\n",
    " '01:00',\n",
    " '02:00',\n",
    " '03:00',\n",
    " '04:00',\n",
    " '05:00',\n",
    " '06:00',\n",
    " '07:00',\n",
    " '08:00',\n",
    " '09:00',\n",
    " '10:00',\n",
    " '11:00',\n",
    " '12:00',\n",
    " '13:00',\n",
    " '14:00',\n",
    " '15:00',\n",
    " '16:00',\n",
    " '17:00',\n",
    " '18:00',\n",
    " '19:00',\n",
    " '20:00',\n",
    " '21:00',\n",
    " '22:00',\n",
    " '23:00'\n",
    " ]\n",
    "\n",
    "days_of_week = ['Monday',\n",
    " 'Tuesday',\n",
    " 'Wednesday',\n",
    " 'Thursday',\n",
    " 'Friday',\n",
    " 'Saturday',\n",
    " 'Sunday'\n",
    " ]\n",
    "\n",
    "seasons = ['зима',\n",
    " 'весна',\n",
    " 'лето',\n",
    " 'осень'\n",
    " ]"
   ]
  },
  {
   "cell_type": "code",
   "execution_count": 20,
   "metadata": {},
   "outputs": [
    {
     "data": {
      "text/html": [
       "<div>\n",
       "<style scoped>\n",
       "    .dataframe tbody tr th:only-of-type {\n",
       "        vertical-align: middle;\n",
       "    }\n",
       "\n",
       "    .dataframe tbody tr th {\n",
       "        vertical-align: top;\n",
       "    }\n",
       "\n",
       "    .dataframe thead th {\n",
       "        text-align: right;\n",
       "    }\n",
       "</style>\n",
       "<table border=\"1\" class=\"dataframe\">\n",
       "  <thead>\n",
       "    <tr style=\"text-align: right;\">\n",
       "      <th></th>\n",
       "      <th>month</th>\n",
       "      <th>year</th>\n",
       "      <th>cost</th>\n",
       "    </tr>\n",
       "  </thead>\n",
       "  <tbody>\n",
       "    <tr>\n",
       "      <th>0</th>\n",
       "      <td>April</td>\n",
       "      <td>2019</td>\n",
       "      <td>316,691.00</td>\n",
       "    </tr>\n",
       "    <tr>\n",
       "      <th>1</th>\n",
       "      <td>August</td>\n",
       "      <td>2019</td>\n",
       "      <td>181,231.00</td>\n",
       "    </tr>\n",
       "    <tr>\n",
       "      <th>2</th>\n",
       "      <td>December</td>\n",
       "      <td>2018</td>\n",
       "      <td>345,475.00</td>\n",
       "    </tr>\n",
       "    <tr>\n",
       "      <th>3</th>\n",
       "      <td>February</td>\n",
       "      <td>2019</td>\n",
       "      <td>306,059.00</td>\n",
       "    </tr>\n",
       "    <tr>\n",
       "      <th>4</th>\n",
       "      <td>January</td>\n",
       "      <td>2019</td>\n",
       "      <td>234,715.00</td>\n",
       "    </tr>\n",
       "    <tr>\n",
       "      <th>5</th>\n",
       "      <td>July</td>\n",
       "      <td>2019</td>\n",
       "      <td>226,361.00</td>\n",
       "    </tr>\n",
       "    <tr>\n",
       "      <th>6</th>\n",
       "      <td>June</td>\n",
       "      <td>2019</td>\n",
       "      <td>910,319.00</td>\n",
       "    </tr>\n",
       "    <tr>\n",
       "      <th>7</th>\n",
       "      <td>March</td>\n",
       "      <td>2019</td>\n",
       "      <td>255,704.00</td>\n",
       "    </tr>\n",
       "    <tr>\n",
       "      <th>8</th>\n",
       "      <td>May</td>\n",
       "      <td>2019</td>\n",
       "      <td>230,806.00</td>\n",
       "    </tr>\n",
       "    <tr>\n",
       "      <th>9</th>\n",
       "      <td>November</td>\n",
       "      <td>2018</td>\n",
       "      <td>359,772.00</td>\n",
       "    </tr>\n",
       "    <tr>\n",
       "      <th>10</th>\n",
       "      <td>October</td>\n",
       "      <td>2018</td>\n",
       "      <td>350,748.00</td>\n",
       "    </tr>\n",
       "    <tr>\n",
       "      <th>11</th>\n",
       "      <td>October</td>\n",
       "      <td>2019</td>\n",
       "      <td>211,089.00</td>\n",
       "    </tr>\n",
       "    <tr>\n",
       "      <th>12</th>\n",
       "      <td>September</td>\n",
       "      <td>2019</td>\n",
       "      <td>179,480.00</td>\n",
       "    </tr>\n",
       "  </tbody>\n",
       "</table>\n",
       "</div>"
      ],
      "text/plain": [
       "        month  year       cost\n",
       "0       April  2019 316,691.00\n",
       "1      August  2019 181,231.00\n",
       "2    December  2018 345,475.00\n",
       "3    February  2019 306,059.00\n",
       "4     January  2019 234,715.00\n",
       "5        July  2019 226,361.00\n",
       "6        June  2019 910,319.00\n",
       "7       March  2019 255,704.00\n",
       "8         May  2019 230,806.00\n",
       "9    November  2018 359,772.00\n",
       "10    October  2018 350,748.00\n",
       "11    October  2019 211,089.00\n",
       "12  September  2019 179,480.00"
      ]
     },
     "execution_count": 20,
     "metadata": {},
     "output_type": "execute_result"
    }
   ],
   "source": [
    "data['cost'] = data['price'] * data['quantity']\n",
    "data_by_month = data.groupby(['month', 'year'])['cost'].sum().reset_index()\n",
    "data_by_month"
   ]
  },
  {
   "cell_type": "code",
   "execution_count": 21,
   "metadata": {},
   "outputs": [
    {
     "data": {
      "text/html": [
       "<div>\n",
       "<style scoped>\n",
       "    .dataframe tbody tr th:only-of-type {\n",
       "        vertical-align: middle;\n",
       "    }\n",
       "\n",
       "    .dataframe tbody tr th {\n",
       "        vertical-align: top;\n",
       "    }\n",
       "\n",
       "    .dataframe thead th {\n",
       "        text-align: right;\n",
       "    }\n",
       "</style>\n",
       "<table border=\"1\" class=\"dataframe\">\n",
       "  <thead>\n",
       "    <tr style=\"text-align: right;\">\n",
       "      <th></th>\n",
       "      <th>cost</th>\n",
       "    </tr>\n",
       "    <tr>\n",
       "      <th>product</th>\n",
       "      <th></th>\n",
       "    </tr>\n",
       "  </thead>\n",
       "  <tbody>\n",
       "    <tr>\n",
       "      <th>Вантуз с деревянной ручкой d14 см красный, Burstenmann, 0522/0000</th>\n",
       "      <td>675,000.00</td>\n",
       "    </tr>\n",
       "    <tr>\n",
       "      <th>Простынь вафельная 200х180 см WELLNESS RW180-01 100% хлопок</th>\n",
       "      <td>53,232.00</td>\n",
       "    </tr>\n",
       "    <tr>\n",
       "      <th>Сумка-тележка 2-х колесная Gimi Argo синяя</th>\n",
       "      <td>50,405.00</td>\n",
       "    </tr>\n",
       "    <tr>\n",
       "      <th>Вешалки мягкие для деликатных вещей 3 шт шоколад</th>\n",
       "      <td>49,596.00</td>\n",
       "    </tr>\n",
       "    <tr>\n",
       "      <th>Тележка багажная DELTA ТБР-22 синий грузоподъемность 20 кг сумка и 50 кг каркас РОССИЯ</th>\n",
       "      <td>33,992.00</td>\n",
       "    </tr>\n",
       "    <tr>\n",
       "      <th>Муляж ЯБЛОКО 9 см красное</th>\n",
       "      <td>32,702.00</td>\n",
       "    </tr>\n",
       "    <tr>\n",
       "      <th>Набор ножей Attribute CHEF 5 предметов AKF522</th>\n",
       "      <td>29,248.00</td>\n",
       "    </tr>\n",
       "    <tr>\n",
       "      <th>Сумка-тележка хозяйственная Andersen Scala Shopper Plus, Lini, синяя 133-108-90</th>\n",
       "      <td>28,045.00</td>\n",
       "    </tr>\n",
       "    <tr>\n",
       "      <th>Урна уличная \"Гео\", Hobbyka/Хоббика, 59*37,5см, сталь</th>\n",
       "      <td>24,370.00</td>\n",
       "    </tr>\n",
       "    <tr>\n",
       "      <th>Веник сорго с деревянной ручкой с 4-мя швами, Rozenbal, R206204</th>\n",
       "      <td>20,010.00</td>\n",
       "    </tr>\n",
       "  </tbody>\n",
       "</table>\n",
       "</div>"
      ],
      "text/plain": [
       "                                                         cost\n",
       "product                                                      \n",
       "Вантуз с деревянной ручкой d14 см красный, Burs... 675,000.00\n",
       "Простынь вафельная 200х180 см WELLNESS RW180-01...  53,232.00\n",
       "Сумка-тележка 2-х колесная Gimi Argo синяя          50,405.00\n",
       "Вешалки мягкие для деликатных вещей 3 шт шоколад    49,596.00\n",
       "Тележка багажная DELTA ТБР-22 синий грузоподъем...  33,992.00\n",
       "Муляж ЯБЛОКО 9 см красное                           32,702.00\n",
       "Набор ножей Attribute CHEF 5 предметов AKF522       29,248.00\n",
       "Сумка-тележка хозяйственная Andersen Scala Shop...  28,045.00\n",
       "Урна уличная \"Гео\", Hobbyka/Хоббика, 59*37,5см,...  24,370.00\n",
       "Веник сорго с деревянной ручкой с 4-мя швами, R...  20,010.00"
      ]
     },
     "execution_count": 21,
     "metadata": {},
     "output_type": "execute_result"
    }
   ],
   "source": [
    "data[['product', 'cost']].groupby('product').sum().sort_values('cost', ascending=False).head(10)"
   ]
  },
  {
   "cell_type": "markdown",
   "metadata": {},
   "source": [
    "В таблице выше видим топ-10 товаров, продажа которых принесла магазину наибольшую прибыль за период наблюдений. На первом месте с явным опережением видим вантуз с деревянной ручкой. "
   ]
  },
  {
   "cell_type": "code",
   "execution_count": 22,
   "metadata": {},
   "outputs": [
    {
     "data": {
      "text/html": [
       "<div>\n",
       "<style scoped>\n",
       "    .dataframe tbody tr th:only-of-type {\n",
       "        vertical-align: middle;\n",
       "    }\n",
       "\n",
       "    .dataframe tbody tr th {\n",
       "        vertical-align: top;\n",
       "    }\n",
       "\n",
       "    .dataframe thead th {\n",
       "        text-align: right;\n",
       "    }\n",
       "</style>\n",
       "<table border=\"1\" class=\"dataframe\">\n",
       "  <thead>\n",
       "    <tr style=\"text-align: right;\">\n",
       "      <th></th>\n",
       "      <th>date</th>\n",
       "      <th>customer_id</th>\n",
       "      <th>order_id</th>\n",
       "      <th>product</th>\n",
       "      <th>quantity</th>\n",
       "      <th>price</th>\n",
       "      <th>hour</th>\n",
       "      <th>day</th>\n",
       "      <th>month</th>\n",
       "      <th>year</th>\n",
       "      <th>cost</th>\n",
       "    </tr>\n",
       "  </thead>\n",
       "  <tbody>\n",
       "    <tr>\n",
       "      <th>5456</th>\n",
       "      <td>2019-06-18</td>\n",
       "      <td>312e9a3e-5fca-43ff-a6a1-892d2b2d5ba6</td>\n",
       "      <td>71743</td>\n",
       "      <td>Вантуз с деревянной ручкой d14 см красный, Bur...</td>\n",
       "      <td>1000</td>\n",
       "      <td>675.00</td>\n",
       "      <td>15:00</td>\n",
       "      <td>Tuesday</td>\n",
       "      <td>June</td>\n",
       "      <td>2019</td>\n",
       "      <td>675,000.00</td>\n",
       "    </tr>\n",
       "  </tbody>\n",
       "</table>\n",
       "</div>"
      ],
      "text/plain": [
       "           date                           customer_id  order_id  \\\n",
       "5456 2019-06-18  312e9a3e-5fca-43ff-a6a1-892d2b2d5ba6     71743   \n",
       "\n",
       "                                                product  quantity  price  \\\n",
       "5456  Вантуз с деревянной ручкой d14 см красный, Bur...      1000 675.00   \n",
       "\n",
       "       hour      day month  year       cost  \n",
       "5456  15:00  Tuesday  June  2019 675,000.00  "
      ]
     },
     "execution_count": 22,
     "metadata": {},
     "output_type": "execute_result"
    }
   ],
   "source": [
    "data.query('cost == 675000')"
   ]
  },
  {
   "cell_type": "markdown",
   "metadata": {},
   "source": [
    "Видим, что все эти вантузы были куплены в одном заказе. Этот заказ являлся тестовым, поэтому можем удалить его из таблицы."
   ]
  },
  {
   "cell_type": "code",
   "execution_count": 23,
   "metadata": {},
   "outputs": [],
   "source": [
    "data = data.query('cost != 675000')"
   ]
  },
  {
   "cell_type": "markdown",
   "metadata": {},
   "source": [
    "Обновим информацию о количестве исследуемых заказов:"
   ]
  },
  {
   "cell_type": "code",
   "execution_count": 24,
   "metadata": {},
   "outputs": [
    {
     "data": {
      "text/plain": [
       "2783"
      ]
     },
     "execution_count": 24,
     "metadata": {},
     "output_type": "execute_result"
    }
   ],
   "source": [
    "len(data['order_id'].unique())"
   ]
  },
  {
   "cell_type": "code",
   "execution_count": 25,
   "metadata": {},
   "outputs": [
    {
     "data": {
      "image/png": "[encoded data removed]",
      "text/plain": [
       "<Figure size 864x504 with 1 Axes>"
      ]
     },
     "metadata": {
      "needs_background": "light"
     },
     "output_type": "display_data"
    }
   ],
   "source": [
    "plt.figure(figsize=(12, 7))\n",
    "sns.barplot(x = 'month', y = 'cost', hue = 'year', order =  month, data = data_by_month).set(title='Динамика общей выручки магазина по месяцам')\n",
    "plt.xlabel('Месяц')\n",
    "plt.ylabel('Выручка')\n",
    "plt.show()"
   ]
  },
  {
   "cell_type": "markdown",
   "metadata": {},
   "source": [
    "На графике динамики общей выручки магазина по месяцам видим резкий подъём в июне 2019, спады в августе и сентябре. Таже видим, что в октябре 2019 выручка оказалась меньше, чем в октябре 2018. В целом, если не брать в расчёт аномальный июнь, есть ощущение что в 2018 выручка была несколько выше, чем в 2019."
   ]
  },
  {
   "cell_type": "code",
   "execution_count": 26,
   "metadata": {},
   "outputs": [
    {
     "data": {
      "image/png": "[encoded data removed]",
      "text/plain": [
       "<Figure size 864x504 with 1 Axes>"
      ]
     },
     "metadata": {
      "needs_background": "light"
     },
     "output_type": "display_data"
    }
   ],
   "source": [
    "plt.figure(figsize=(12, 7))\n",
    "ax = sns.boxplot(x='day', y='cost', data=data)\n",
    "ax.set_ylim(-100, 5000)\n",
    "plt.xlabel('День недели')\n",
    "plt.ylabel('Выручка')\n",
    "plt.title('Распределение выручки по дням недели')\n",
    "plt.show()"
   ]
  },
  {
   "cell_type": "markdown",
   "metadata": {},
   "source": [
    "На графике распределения выручки по дням недели можем наблюдать заметный спад показателей в субботу."
   ]
  },
  {
   "cell_type": "code",
   "execution_count": 27,
   "metadata": {},
   "outputs": [
    {
     "data": {
      "image/png": "[encoded data removed]",
      "text/plain": [
       "<Figure size 1224x504 with 1 Axes>"
      ]
     },
     "metadata": {
      "needs_background": "light"
     },
     "output_type": "display_data"
    }
   ],
   "source": [
    "plt.figure(figsize=(17, 7))\n",
    "sns.barplot(x = 'hour', y = 'cost', order =  hours, data = data.groupby(['hour'])['cost'].sum().reset_index()).set(title='Динамика общей выручки магазина в течение суток')\n",
    "plt.xlabel('Время')\n",
    "plt.ylabel('Выручка')\n",
    "plt.show()"
   ]
  },
  {
   "cell_type": "markdown",
   "metadata": {},
   "source": [
    "На графике суточной динамики выручки наблюдаем закономерный минимум в ночные часы (с 23 до 7 утра). Самое прибыльное время - с 9.00 до 18:00 с максимумом в 13 часов."
   ]
  },
  {
   "cell_type": "code",
   "execution_count": 28,
   "metadata": {},
   "outputs": [
    {
     "data": {
      "image/png": "[encoded data removed]",
      "text/plain": [
       "<Figure size 1080x504 with 1 Axes>"
      ]
     },
     "metadata": {
      "needs_background": "light"
     },
     "output_type": "display_data"
    }
   ],
   "source": [
    "plt.figure(figsize=(15, 7))\n",
    "ax = sns.boxplot(x='hour', y='cost', order =  hours, data=data)\n",
    "ax.set_ylim(-100, 5000)\n",
    "plt.xlabel('Время')\n",
    "plt.ylabel('Выручка')\n",
    "plt.title('Распределение выручки в течение суток')\n",
    "plt.show()"
   ]
  },
  {
   "cell_type": "markdown",
   "metadata": {},
   "source": [
    "По графику распределения выручки по времени видим пики значений медианной выручки в 3 и 7 часов. Вероятно, причина заключается в том, что в эти часы заказов было мало и они имели относительно высокую стоимость. В другие часы незначительные пики можно выделить в 15 и 18 часов."
   ]
  },
  {
   "cell_type": "code",
   "execution_count": 29,
   "metadata": {},
   "outputs": [],
   "source": [
    "def season(column):\n",
    "    if column['month'] in {'December', 'January', 'February'}:\n",
    "        return 'зима'\n",
    "    if column['month'] in {'March', 'April', 'May'}:\n",
    "        return 'весна'\n",
    "    if column['month'] in {'June', 'July', 'August'}:\n",
    "        return 'лето'    \n",
    "    return 'осень'\n",
    "\n",
    "data['season'] = data.apply(season, axis=1)"
   ]
  },
  {
   "cell_type": "code",
   "execution_count": 30,
   "metadata": {},
   "outputs": [
    {
     "data": {
      "image/png": "[encoded data removed]",
      "text/plain": [
       "<Figure size 864x504 with 1 Axes>"
      ]
     },
     "metadata": {
      "needs_background": "light"
     },
     "output_type": "display_data"
    }
   ],
   "source": [
    "plt.figure(figsize=(12, 7))\n",
    "ax = sns.boxplot(x='season', y='cost', data=data)\n",
    "ax.set_ylim(-100, 3000)\n",
    "plt.xlabel('Сезон')\n",
    "plt.ylabel('Выручка')\n",
    "plt.title('Распределение выручки по сезонам')\n",
    "plt.show()"
   ]
  },
  {
   "cell_type": "markdown",
   "metadata": {},
   "source": [
    "Что касается выручки по сезонам, наибольшую среднюю выручку принесли заказы, сделанные зимой. Затем по убыванию идут осень, лето и весна."
   ]
  },
  {
   "cell_type": "code",
   "execution_count": 31,
   "metadata": {},
   "outputs": [
    {
     "data": {
      "text/html": [
       "<div>\n",
       "<style scoped>\n",
       "    .dataframe tbody tr th:only-of-type {\n",
       "        vertical-align: middle;\n",
       "    }\n",
       "\n",
       "    .dataframe tbody tr th {\n",
       "        vertical-align: top;\n",
       "    }\n",
       "\n",
       "    .dataframe thead th {\n",
       "        text-align: right;\n",
       "    }\n",
       "</style>\n",
       "<table border=\"1\" class=\"dataframe\">\n",
       "  <thead>\n",
       "    <tr style=\"text-align: right;\">\n",
       "      <th></th>\n",
       "      <th>month</th>\n",
       "      <th>year</th>\n",
       "      <th>customer_id</th>\n",
       "      <th>cost</th>\n",
       "    </tr>\n",
       "  </thead>\n",
       "  <tbody>\n",
       "    <tr>\n",
       "      <th>0</th>\n",
       "      <td>April</td>\n",
       "      <td>2019</td>\n",
       "      <td>0184f535-b60a-4914-a982-231e3f615206</td>\n",
       "      <td>3,103.00</td>\n",
       "    </tr>\n",
       "    <tr>\n",
       "      <th>1</th>\n",
       "      <td>April</td>\n",
       "      <td>2019</td>\n",
       "      <td>01f95d43-4a8d-45e5-9c23-cccd211e6d30</td>\n",
       "      <td>44.00</td>\n",
       "    </tr>\n",
       "    <tr>\n",
       "      <th>2</th>\n",
       "      <td>April</td>\n",
       "      <td>2019</td>\n",
       "      <td>02adb72a-3067-45e9-a3b5-f93d79d7496a</td>\n",
       "      <td>10,723.00</td>\n",
       "    </tr>\n",
       "    <tr>\n",
       "      <th>3</th>\n",
       "      <td>April</td>\n",
       "      <td>2019</td>\n",
       "      <td>03134fa3-9ce0-4973-849d-32c21e26d64e</td>\n",
       "      <td>1,177.00</td>\n",
       "    </tr>\n",
       "    <tr>\n",
       "      <th>4</th>\n",
       "      <td>April</td>\n",
       "      <td>2019</td>\n",
       "      <td>059d1900-8450-47b0-b914-e5744cea5017</td>\n",
       "      <td>1,222.00</td>\n",
       "    </tr>\n",
       "    <tr>\n",
       "      <th>...</th>\n",
       "      <td>...</td>\n",
       "      <td>...</td>\n",
       "      <td>...</td>\n",
       "      <td>...</td>\n",
       "    </tr>\n",
       "    <tr>\n",
       "      <th>2465</th>\n",
       "      <td>September</td>\n",
       "      <td>2019</td>\n",
       "      <td>faca2263-add0-430d-b0ba-fce720fa9cf3</td>\n",
       "      <td>74.00</td>\n",
       "    </tr>\n",
       "    <tr>\n",
       "      <th>2466</th>\n",
       "      <td>September</td>\n",
       "      <td>2019</td>\n",
       "      <td>fc4b5242-d331-4643-951d-90d2d4fe0382</td>\n",
       "      <td>134.00</td>\n",
       "    </tr>\n",
       "    <tr>\n",
       "      <th>2467</th>\n",
       "      <td>September</td>\n",
       "      <td>2019</td>\n",
       "      <td>fc4fa65e-98e3-41b9-a1eb-988c6754b3be</td>\n",
       "      <td>74.00</td>\n",
       "    </tr>\n",
       "    <tr>\n",
       "      <th>2468</th>\n",
       "      <td>September</td>\n",
       "      <td>2019</td>\n",
       "      <td>fd4bc7b8-6ad6-4077-8e63-3593ab5e1cfd</td>\n",
       "      <td>1,087.00</td>\n",
       "    </tr>\n",
       "    <tr>\n",
       "      <th>2469</th>\n",
       "      <td>September</td>\n",
       "      <td>2019</td>\n",
       "      <td>ffb80538-3fda-4351-8ea9-9d2bec58bb07</td>\n",
       "      <td>974.00</td>\n",
       "    </tr>\n",
       "  </tbody>\n",
       "</table>\n",
       "<p>2470 rows × 4 columns</p>\n",
       "</div>"
      ],
      "text/plain": [
       "          month  year                           customer_id      cost\n",
       "0         April  2019  0184f535-b60a-4914-a982-231e3f615206  3,103.00\n",
       "1         April  2019  01f95d43-4a8d-45e5-9c23-cccd211e6d30     44.00\n",
       "2         April  2019  02adb72a-3067-45e9-a3b5-f93d79d7496a 10,723.00\n",
       "3         April  2019  03134fa3-9ce0-4973-849d-32c21e26d64e  1,177.00\n",
       "4         April  2019  059d1900-8450-47b0-b914-e5744cea5017  1,222.00\n",
       "...         ...   ...                                   ...       ...\n",
       "2465  September  2019  faca2263-add0-430d-b0ba-fce720fa9cf3     74.00\n",
       "2466  September  2019  fc4b5242-d331-4643-951d-90d2d4fe0382    134.00\n",
       "2467  September  2019  fc4fa65e-98e3-41b9-a1eb-988c6754b3be     74.00\n",
       "2468  September  2019  fd4bc7b8-6ad6-4077-8e63-3593ab5e1cfd  1,087.00\n",
       "2469  September  2019  ffb80538-3fda-4351-8ea9-9d2bec58bb07    974.00\n",
       "\n",
       "[2470 rows x 4 columns]"
      ]
     },
     "execution_count": 31,
     "metadata": {},
     "output_type": "execute_result"
    }
   ],
   "source": [
    "cost_by_customer = data.groupby(['month', 'year', 'customer_id'])['cost'].sum().reset_index()\n",
    "cost_by_customer"
   ]
  },
  {
   "cell_type": "code",
   "execution_count": 32,
   "metadata": {},
   "outputs": [
    {
     "data": {
      "image/png": "[encoded data removed]",
      "text/plain": [
       "<Figure size 1440x720 with 1 Axes>"
      ]
     },
     "metadata": {
      "needs_background": "light"
     },
     "output_type": "display_data"
    }
   ],
   "source": [
    "ax = cost_by_customer[['customer_id', 'cost']].plot(x='customer_id', y='cost', kind='scatter', alpha=0.5, figsize=(20,10))\n",
    "ax.set_ylim(0, 10000)\n",
    "plt.xlabel('Покупатели')\n",
    "plt.ylabel('Выручка')\n",
    "plt.title('Выручка с каждого покупателя')\n",
    "plt.tick_params(axis='x', which='both', bottom=False, top=False, labelbottom=False)"
   ]
  },
  {
   "cell_type": "markdown",
   "metadata": {},
   "source": [
    "Большинство пользователей приносят магазину выручку до 2000 у.е."
   ]
  },
  {
   "cell_type": "markdown",
   "metadata": {},
   "source": [
    "#### Динамика количества заказов"
   ]
  },
  {
   "cell_type": "code",
   "execution_count": 33,
   "metadata": {},
   "outputs": [
    {
     "data": {
      "image/png": "[encoded data removed]",
      "text/plain": [
       "<Figure size 864x504 with 1 Axes>"
      ]
     },
     "metadata": {
      "needs_background": "light"
     },
     "output_type": "display_data"
    }
   ],
   "source": [
    "plt.figure(figsize=(12, 7))\n",
    "sns.barplot(x = 'month', y = 'order_id', hue = 'year', order =  month, data = data.groupby(['month', 'year'])['order_id'].nunique().reset_index()).set(title='Динамика количества заказов по месяцам')\n",
    "plt.xlabel('Месяц')\n",
    "plt.ylabel('Количество заказов')\n",
    "plt.show()"
   ]
  },
  {
   "cell_type": "markdown",
   "metadata": {},
   "source": [
    "Больше всего заказов было сделано в феврале 2019 и декабре 2018. Ярко выраженные спады видим в январе, мае, июне, августе и сентябре 2019. Единственный месяц, по которому можем сравнить с предыдущим годом - октябрь, и в октябре 2018 количество заказов было  выше чем в аналогичном месяце следующего года."
   ]
  },
  {
   "cell_type": "code",
   "execution_count": 34,
   "metadata": {},
   "outputs": [
    {
     "data": {
      "image/png": "[encoded data removed]",
      "text/plain": [
       "<Figure size 864x504 with 1 Axes>"
      ]
     },
     "metadata": {
      "needs_background": "light"
     },
     "output_type": "display_data"
    }
   ],
   "source": [
    "plt.figure(figsize=(12, 7))\n",
    "sns.barplot(x = 'season', y = 'order_id', order = seasons, data = data.groupby(['season'])['order_id'].nunique().reset_index()).set(title='Динамика количества заказов по сезонам')\n",
    "plt.xlabel('Сезон')\n",
    "plt.ylabel('Количество заказов')\n",
    "plt.show()"
   ]
  },
  {
   "cell_type": "markdown",
   "metadata": {},
   "source": [
    "Больше всего заказов сделали осенью. Минимум - летом."
   ]
  },
  {
   "cell_type": "code",
   "execution_count": 35,
   "metadata": {},
   "outputs": [
    {
     "data": {
      "image/png": "[encoded data removed]",
      "text/plain": [
       "<Figure size 864x504 with 1 Axes>"
      ]
     },
     "metadata": {
      "needs_background": "light"
     },
     "output_type": "display_data"
    }
   ],
   "source": [
    "plt.figure(figsize=(12, 7))\n",
    "sns.barplot(x = 'day', y = 'order_id', order =  days_of_week, data = data.groupby(['day'])['order_id'].nunique().reset_index()).set(title='Динамика количества заказов по дням недели')\n",
    "plt.xlabel('День недели')\n",
    "plt.ylabel('Количество заказов')\n",
    "plt.show()"
   ]
  },
  {
   "cell_type": "markdown",
   "metadata": {},
   "source": [
    "Активность покупателей максимальна в понедельник и постепенно снижается к выходным, достигая заметного минимума в субботу."
   ]
  },
  {
   "cell_type": "code",
   "execution_count": 36,
   "metadata": {},
   "outputs": [
    {
     "data": {
      "image/png": "[encoded data removed]",
      "text/plain": [
       "<Figure size 1224x504 with 1 Axes>"
      ]
     },
     "metadata": {
      "needs_background": "light"
     },
     "output_type": "display_data"
    }
   ],
   "source": [
    "plt.figure(figsize=(17, 7))\n",
    "sns.barplot(x = 'hour', y = 'order_id', order =  hours, data = data.groupby(['hour'])['order_id'].nunique().reset_index()).set(title='Динамика количества заказов в течение суток')\n",
    "plt.xlabel('Время')\n",
    "plt.ylabel('Количество заказов')\n",
    "plt.show()"
   ]
  },
  {
   "cell_type": "markdown",
   "metadata": {},
   "source": [
    "Наиболее активно пользователи совершают заказы в первой половине дня (с 9 до 15) с пиком в 11 часов."
   ]
  },
  {
   "cell_type": "markdown",
   "metadata": {},
   "source": [
    "#### Другие показатели интернет-магазина"
   ]
  },
  {
   "cell_type": "markdown",
   "metadata": {},
   "source": []
  },
  {
   "cell_type": "code",
   "execution_count": 37,
   "metadata": {},
   "outputs": [
    {
     "data": {
      "image/png": "[encoded data removed]",
      "text/plain": [
       "<Figure size 720x360 with 1 Axes>"
      ]
     },
     "metadata": {
      "needs_background": "light"
     },
     "output_type": "display_data"
    }
   ],
   "source": [
    "data['price'].hist(figsize=(10, 5), bins = 15)\n",
    "plt.xlabel('Цена')\n",
    "plt.ylabel('Количество товаров')\n",
    "plt.title('Цена товаров интернет магазина')\n",
    "plt.show()"
   ]
  },
  {
   "cell_type": "markdown",
   "metadata": {},
   "source": [
    "Стоимость большинства товаров магазина не превышает 1000 у.е."
   ]
  },
  {
   "cell_type": "code",
   "execution_count": 38,
   "metadata": {},
   "outputs": [
    {
     "data": {
      "text/html": [
       "<div>\n",
       "<style scoped>\n",
       "    .dataframe tbody tr th:only-of-type {\n",
       "        vertical-align: middle;\n",
       "    }\n",
       "\n",
       "    .dataframe tbody tr th {\n",
       "        vertical-align: top;\n",
       "    }\n",
       "\n",
       "    .dataframe thead th {\n",
       "        text-align: right;\n",
       "    }\n",
       "</style>\n",
       "<table border=\"1\" class=\"dataframe\">\n",
       "  <thead>\n",
       "    <tr style=\"text-align: right;\">\n",
       "      <th></th>\n",
       "      <th>cost</th>\n",
       "    </tr>\n",
       "    <tr>\n",
       "      <th>product</th>\n",
       "      <th></th>\n",
       "    </tr>\n",
       "  </thead>\n",
       "  <tbody>\n",
       "    <tr>\n",
       "      <th>Простынь вафельная 200х180 см WELLNESS RW180-01 100% хлопок</th>\n",
       "      <td>53,232.00</td>\n",
       "    </tr>\n",
       "    <tr>\n",
       "      <th>Сумка-тележка 2-х колесная Gimi Argo синяя</th>\n",
       "      <td>50,405.00</td>\n",
       "    </tr>\n",
       "    <tr>\n",
       "      <th>Вешалки мягкие для деликатных вещей 3 шт шоколад</th>\n",
       "      <td>49,596.00</td>\n",
       "    </tr>\n",
       "    <tr>\n",
       "      <th>Тележка багажная DELTA ТБР-22 синий грузоподъемность 20 кг сумка и 50 кг каркас РОССИЯ</th>\n",
       "      <td>33,992.00</td>\n",
       "    </tr>\n",
       "    <tr>\n",
       "      <th>Муляж ЯБЛОКО 9 см красное</th>\n",
       "      <td>32,702.00</td>\n",
       "    </tr>\n",
       "    <tr>\n",
       "      <th>Набор ножей Attribute CHEF 5 предметов AKF522</th>\n",
       "      <td>29,248.00</td>\n",
       "    </tr>\n",
       "    <tr>\n",
       "      <th>Сумка-тележка хозяйственная Andersen Scala Shopper Plus, Lini, синяя 133-108-90</th>\n",
       "      <td>28,045.00</td>\n",
       "    </tr>\n",
       "    <tr>\n",
       "      <th>Урна уличная \"Гео\", Hobbyka/Хоббика, 59*37,5см, сталь</th>\n",
       "      <td>24,370.00</td>\n",
       "    </tr>\n",
       "    <tr>\n",
       "      <th>Веник сорго с деревянной ручкой с 4-мя швами, Rozenbal, R206204</th>\n",
       "      <td>20,010.00</td>\n",
       "    </tr>\n",
       "    <tr>\n",
       "      <th>Сумка-тележка 3-х колесная Gimi Tris Floral синяя</th>\n",
       "      <td>18,893.00</td>\n",
       "    </tr>\n",
       "  </tbody>\n",
       "</table>\n",
       "</div>"
      ],
      "text/plain": [
       "                                                        cost\n",
       "product                                                     \n",
       "Простынь вафельная 200х180 см WELLNESS RW180-01... 53,232.00\n",
       "Сумка-тележка 2-х колесная Gimi Argo синяя         50,405.00\n",
       "Вешалки мягкие для деликатных вещей 3 шт шоколад   49,596.00\n",
       "Тележка багажная DELTA ТБР-22 синий грузоподъем... 33,992.00\n",
       "Муляж ЯБЛОКО 9 см красное                          32,702.00\n",
       "Набор ножей Attribute CHEF 5 предметов AKF522      29,248.00\n",
       "Сумка-тележка хозяйственная Andersen Scala Shop... 28,045.00\n",
       "Урна уличная \"Гео\", Hobbyka/Хоббика, 59*37,5см,... 24,370.00\n",
       "Веник сорго с деревянной ручкой с 4-мя швами, R... 20,010.00\n",
       "Сумка-тележка 3-х колесная Gimi Tris Floral синяя  18,893.00"
      ]
     },
     "execution_count": 38,
     "metadata": {},
     "output_type": "execute_result"
    }
   ],
   "source": [
    "data[['product', 'cost']].groupby('product').sum().sort_values('cost', ascending=False).head(10)"
   ]
  },
  {
   "cell_type": "code",
   "execution_count": 39,
   "metadata": {},
   "outputs": [
    {
     "data": {
      "text/html": [
       "<div>\n",
       "<style scoped>\n",
       "    .dataframe tbody tr th:only-of-type {\n",
       "        vertical-align: middle;\n",
       "    }\n",
       "\n",
       "    .dataframe tbody tr th {\n",
       "        vertical-align: top;\n",
       "    }\n",
       "\n",
       "    .dataframe thead th {\n",
       "        text-align: right;\n",
       "    }\n",
       "</style>\n",
       "<table border=\"1\" class=\"dataframe\">\n",
       "  <thead>\n",
       "    <tr style=\"text-align: right;\">\n",
       "      <th></th>\n",
       "      <th>cost</th>\n",
       "    </tr>\n",
       "    <tr>\n",
       "      <th>product</th>\n",
       "      <th></th>\n",
       "    </tr>\n",
       "  </thead>\n",
       "  <tbody>\n",
       "    <tr>\n",
       "      <th>Простынь вафельная 200х180 см WELLNESS RW180-01 100% хлопок</th>\n",
       "      <td>53,232.00</td>\n",
       "    </tr>\n",
       "    <tr>\n",
       "      <th>Сумка-тележка 2-х колесная Gimi Argo синяя</th>\n",
       "      <td>50,405.00</td>\n",
       "    </tr>\n",
       "    <tr>\n",
       "      <th>Вешалки мягкие для деликатных вещей 3 шт шоколад</th>\n",
       "      <td>49,596.00</td>\n",
       "    </tr>\n",
       "    <tr>\n",
       "      <th>Тележка багажная DELTA ТБР-22 синий грузоподъемность 20 кг сумка и 50 кг каркас РОССИЯ</th>\n",
       "      <td>33,992.00</td>\n",
       "    </tr>\n",
       "    <tr>\n",
       "      <th>Муляж ЯБЛОКО 9 см красное</th>\n",
       "      <td>32,702.00</td>\n",
       "    </tr>\n",
       "    <tr>\n",
       "      <th>Набор ножей Attribute CHEF 5 предметов AKF522</th>\n",
       "      <td>29,248.00</td>\n",
       "    </tr>\n",
       "    <tr>\n",
       "      <th>Сумка-тележка хозяйственная Andersen Scala Shopper Plus, Lini, синяя 133-108-90</th>\n",
       "      <td>28,045.00</td>\n",
       "    </tr>\n",
       "    <tr>\n",
       "      <th>Урна уличная \"Гео\", Hobbyka/Хоббика, 59*37,5см, сталь</th>\n",
       "      <td>24,370.00</td>\n",
       "    </tr>\n",
       "    <tr>\n",
       "      <th>Веник сорго с деревянной ручкой с 4-мя швами, Rozenbal, R206204</th>\n",
       "      <td>20,010.00</td>\n",
       "    </tr>\n",
       "    <tr>\n",
       "      <th>Сумка-тележка 3-х колесная Gimi Tris Floral синяя</th>\n",
       "      <td>18,893.00</td>\n",
       "    </tr>\n",
       "  </tbody>\n",
       "</table>\n",
       "</div>"
      ],
      "text/plain": [
       "                                                        cost\n",
       "product                                                     \n",
       "Простынь вафельная 200х180 см WELLNESS RW180-01... 53,232.00\n",
       "Сумка-тележка 2-х колесная Gimi Argo синяя         50,405.00\n",
       "Вешалки мягкие для деликатных вещей 3 шт шоколад   49,596.00\n",
       "Тележка багажная DELTA ТБР-22 синий грузоподъем... 33,992.00\n",
       "Муляж ЯБЛОКО 9 см красное                          32,702.00\n",
       "Набор ножей Attribute CHEF 5 предметов AKF522      29,248.00\n",
       "Сумка-тележка хозяйственная Andersen Scala Shop... 28,045.00\n",
       "Урна уличная \"Гео\", Hobbyka/Хоббика, 59*37,5см,... 24,370.00\n",
       "Веник сорго с деревянной ручкой с 4-мя швами, R... 20,010.00\n",
       "Сумка-тележка 3-х колесная Gimi Tris Floral синяя  18,893.00"
      ]
     },
     "execution_count": 39,
     "metadata": {},
     "output_type": "execute_result"
    }
   ],
   "source": [
    "data[['product', 'cost']].groupby('product').sum().sort_values('cost', ascending=False).head(10)"
   ]
  },
  {
   "cell_type": "code",
   "execution_count": 40,
   "metadata": {},
   "outputs": [
    {
     "data": {
      "text/html": [
       "<div>\n",
       "<style scoped>\n",
       "    .dataframe tbody tr th:only-of-type {\n",
       "        vertical-align: middle;\n",
       "    }\n",
       "\n",
       "    .dataframe tbody tr th {\n",
       "        vertical-align: top;\n",
       "    }\n",
       "\n",
       "    .dataframe thead th {\n",
       "        text-align: right;\n",
       "    }\n",
       "</style>\n",
       "<table border=\"1\" class=\"dataframe\">\n",
       "  <thead>\n",
       "    <tr style=\"text-align: right;\">\n",
       "      <th></th>\n",
       "      <th>quantity</th>\n",
       "    </tr>\n",
       "    <tr>\n",
       "      <th>product</th>\n",
       "      <th></th>\n",
       "    </tr>\n",
       "  </thead>\n",
       "  <tbody>\n",
       "    <tr>\n",
       "      <th>Муляж ЯБЛОКО 9 см красное</th>\n",
       "      <td>618</td>\n",
       "    </tr>\n",
       "    <tr>\n",
       "      <th>Вешалки мягкие для деликатных вещей 3 шт шоколад</th>\n",
       "      <td>335</td>\n",
       "    </tr>\n",
       "    <tr>\n",
       "      <th>Ручка-скоба РС-100 белая *Трибатрон*, 1108035</th>\n",
       "      <td>200</td>\n",
       "    </tr>\n",
       "    <tr>\n",
       "      <th>Муляж Яблоко зеленый 9 см полиуретан</th>\n",
       "      <td>188</td>\n",
       "    </tr>\n",
       "    <tr>\n",
       "      <th>Крепеж для пружины дверной, 1107055</th>\n",
       "      <td>170</td>\n",
       "    </tr>\n",
       "    <tr>\n",
       "      <th>Плечики пластмассовые Размер 52 - 54 Тула 1205158</th>\n",
       "      <td>160</td>\n",
       "    </tr>\n",
       "    <tr>\n",
       "      <th>Пружина дверная 240 мм оцинкованная (Д-19 мм) без крепления, 1107014</th>\n",
       "      <td>150</td>\n",
       "    </tr>\n",
       "    <tr>\n",
       "      <th>Муляж Банан желтый 21 см полиуретан</th>\n",
       "      <td>109</td>\n",
       "    </tr>\n",
       "    <tr>\n",
       "      <th>Щетка-сметка 4-х рядная деревянная 300 мм (фигурная ручка) ворс 5,5 см 1801096</th>\n",
       "      <td>105</td>\n",
       "    </tr>\n",
       "    <tr>\n",
       "      <th>Ёрш унитазный с деревянной ручкой , Ваир 1712012</th>\n",
       "      <td>103</td>\n",
       "    </tr>\n",
       "  </tbody>\n",
       "</table>\n",
       "</div>"
      ],
      "text/plain": [
       "                                                    quantity\n",
       "product                                                     \n",
       "Муляж ЯБЛОКО 9 см красное                                618\n",
       "Вешалки мягкие для деликатных вещей 3 шт шоколад         335\n",
       "Ручка-скоба РС-100 белая *Трибатрон*, 1108035            200\n",
       "Муляж Яблоко зеленый 9 см полиуретан                     188\n",
       "Крепеж для пружины дверной, 1107055                      170\n",
       "Плечики пластмассовые Размер 52 - 54 Тула 1205158        160\n",
       "Пружина дверная 240 мм оцинкованная (Д-19 мм) б...       150\n",
       "Муляж Банан желтый 21 см полиуретан                      109\n",
       "Щетка-сметка 4-х рядная деревянная 300 мм (фигу...       105\n",
       "Ёрш унитазный с деревянной ручкой , Ваир 1712012         103"
      ]
     },
     "execution_count": 40,
     "metadata": {},
     "output_type": "execute_result"
    }
   ],
   "source": [
    "data[['product', 'quantity']].groupby('product').sum().sort_values('quantity', ascending=False).head(10)"
   ]
  },
  {
   "cell_type": "markdown",
   "metadata": {},
   "source": [
    "В таблице выше видим топ-10 товаров по количеству проданных единиц за исследуемый период."
   ]
  },
  {
   "cell_type": "markdown",
   "metadata": {},
   "source": [
    "Посмотрим на топ-5 клиентов, принесших максимальную выручку магазину:"
   ]
  },
  {
   "cell_type": "code",
   "execution_count": 41,
   "metadata": {},
   "outputs": [
    {
     "data": {
      "text/html": [
       "<div>\n",
       "<style scoped>\n",
       "    .dataframe tbody tr th:only-of-type {\n",
       "        vertical-align: middle;\n",
       "    }\n",
       "\n",
       "    .dataframe tbody tr th {\n",
       "        vertical-align: top;\n",
       "    }\n",
       "\n",
       "    .dataframe thead th {\n",
       "        text-align: right;\n",
       "    }\n",
       "</style>\n",
       "<table border=\"1\" class=\"dataframe\">\n",
       "  <thead>\n",
       "    <tr style=\"text-align: right;\">\n",
       "      <th></th>\n",
       "      <th>cost</th>\n",
       "    </tr>\n",
       "    <tr>\n",
       "      <th>customer_id</th>\n",
       "      <th></th>\n",
       "    </tr>\n",
       "  </thead>\n",
       "  <tbody>\n",
       "    <tr>\n",
       "      <th>c971fb21-d54c-4134-938f-16b62ee86d3b</th>\n",
       "      <td>159,508.00</td>\n",
       "    </tr>\n",
       "    <tr>\n",
       "      <th>4d93d3f6-8b24-403b-a74b-f5173e40d7db</th>\n",
       "      <td>57,278.00</td>\n",
       "    </tr>\n",
       "    <tr>\n",
       "      <th>58a4c3cc-504f-43ea-a74a-bae19e665552</th>\n",
       "      <td>53,232.00</td>\n",
       "    </tr>\n",
       "    <tr>\n",
       "      <th>146cd9bf-a95c-4afb-915b-5f6684b17444</th>\n",
       "      <td>49,432.00</td>\n",
       "    </tr>\n",
       "    <tr>\n",
       "      <th>498f12a4-6a62-4725-8516-cf5dc9ab8a3a</th>\n",
       "      <td>41,900.00</td>\n",
       "    </tr>\n",
       "  </tbody>\n",
       "</table>\n",
       "</div>"
      ],
      "text/plain": [
       "                                           cost\n",
       "customer_id                                    \n",
       "c971fb21-d54c-4134-938f-16b62ee86d3b 159,508.00\n",
       "4d93d3f6-8b24-403b-a74b-f5173e40d7db  57,278.00\n",
       "58a4c3cc-504f-43ea-a74a-bae19e665552  53,232.00\n",
       "146cd9bf-a95c-4afb-915b-5f6684b17444  49,432.00\n",
       "498f12a4-6a62-4725-8516-cf5dc9ab8a3a  41,900.00"
      ]
     },
     "execution_count": 41,
     "metadata": {},
     "output_type": "execute_result"
    }
   ],
   "source": [
    "data[['customer_id', 'cost']].groupby('customer_id').sum().sort_values('cost', ascending=False).head()"
   ]
  },
  {
   "cell_type": "markdown",
   "metadata": {},
   "source": [
    "5 клиентов, принесших минимальную выручку:"
   ]
  },
  {
   "cell_type": "code",
   "execution_count": 42,
   "metadata": {},
   "outputs": [
    {
     "data": {
      "text/html": [
       "<div>\n",
       "<style scoped>\n",
       "    .dataframe tbody tr th:only-of-type {\n",
       "        vertical-align: middle;\n",
       "    }\n",
       "\n",
       "    .dataframe tbody tr th {\n",
       "        vertical-align: top;\n",
       "    }\n",
       "\n",
       "    .dataframe thead th {\n",
       "        text-align: right;\n",
       "    }\n",
       "</style>\n",
       "<table border=\"1\" class=\"dataframe\">\n",
       "  <thead>\n",
       "    <tr style=\"text-align: right;\">\n",
       "      <th></th>\n",
       "      <th>cost</th>\n",
       "    </tr>\n",
       "    <tr>\n",
       "      <th>customer_id</th>\n",
       "      <th></th>\n",
       "    </tr>\n",
       "  </thead>\n",
       "  <tbody>\n",
       "    <tr>\n",
       "      <th>2b6439c9-1ae1-4785-9509-ca4348b3d39a</th>\n",
       "      <td>22.00</td>\n",
       "    </tr>\n",
       "    <tr>\n",
       "      <th>55b8d928-77f8-40fc-a2e9-08424d13b0e4</th>\n",
       "      <td>22.00</td>\n",
       "    </tr>\n",
       "    <tr>\n",
       "      <th>f32b5708-af61-42e7-baba-9f3759d87841</th>\n",
       "      <td>15.00</td>\n",
       "    </tr>\n",
       "    <tr>\n",
       "      <th>2330d859-e9cb-4c8f-abd0-55f9e27e6745</th>\n",
       "      <td>15.00</td>\n",
       "    </tr>\n",
       "    <tr>\n",
       "      <th>cab090a5-b8dd-442d-a206-0ef3bf5fc1d8</th>\n",
       "      <td>14.00</td>\n",
       "    </tr>\n",
       "  </tbody>\n",
       "</table>\n",
       "</div>"
      ],
      "text/plain": [
       "                                      cost\n",
       "customer_id                               \n",
       "2b6439c9-1ae1-4785-9509-ca4348b3d39a 22.00\n",
       "55b8d928-77f8-40fc-a2e9-08424d13b0e4 22.00\n",
       "f32b5708-af61-42e7-baba-9f3759d87841 15.00\n",
       "2330d859-e9cb-4c8f-abd0-55f9e27e6745 15.00\n",
       "cab090a5-b8dd-442d-a206-0ef3bf5fc1d8 14.00"
      ]
     },
     "execution_count": 42,
     "metadata": {},
     "output_type": "execute_result"
    }
   ],
   "source": [
    "data[['customer_id', 'cost']].groupby('customer_id').sum().sort_values('cost', ascending=False).tail()"
   ]
  },
  {
   "cell_type": "code",
   "execution_count": 43,
   "metadata": {},
   "outputs": [
    {
     "data": {
      "text/html": [
       "<div>\n",
       "<style scoped>\n",
       "    .dataframe tbody tr th:only-of-type {\n",
       "        vertical-align: middle;\n",
       "    }\n",
       "\n",
       "    .dataframe tbody tr th {\n",
       "        vertical-align: top;\n",
       "    }\n",
       "\n",
       "    .dataframe thead th {\n",
       "        text-align: right;\n",
       "    }\n",
       "</style>\n",
       "<table border=\"1\" class=\"dataframe\">\n",
       "  <thead>\n",
       "    <tr style=\"text-align: right;\">\n",
       "      <th></th>\n",
       "      <th>month</th>\n",
       "      <th>year</th>\n",
       "      <th>order_id</th>\n",
       "      <th>cost</th>\n",
       "    </tr>\n",
       "  </thead>\n",
       "  <tbody>\n",
       "    <tr>\n",
       "      <th>0</th>\n",
       "      <td>April</td>\n",
       "      <td>2019</td>\n",
       "      <td>14606</td>\n",
       "      <td>1,215.00</td>\n",
       "    </tr>\n",
       "    <tr>\n",
       "      <th>1</th>\n",
       "      <td>April</td>\n",
       "      <td>2019</td>\n",
       "      <td>14608</td>\n",
       "      <td>1,276.00</td>\n",
       "    </tr>\n",
       "    <tr>\n",
       "      <th>2</th>\n",
       "      <td>April</td>\n",
       "      <td>2019</td>\n",
       "      <td>14611</td>\n",
       "      <td>1,140.00</td>\n",
       "    </tr>\n",
       "    <tr>\n",
       "      <th>3</th>\n",
       "      <td>April</td>\n",
       "      <td>2019</td>\n",
       "      <td>14612</td>\n",
       "      <td>2,723.00</td>\n",
       "    </tr>\n",
       "    <tr>\n",
       "      <th>4</th>\n",
       "      <td>April</td>\n",
       "      <td>2019</td>\n",
       "      <td>14614</td>\n",
       "      <td>1,759.00</td>\n",
       "    </tr>\n",
       "    <tr>\n",
       "      <th>...</th>\n",
       "      <td>...</td>\n",
       "      <td>...</td>\n",
       "      <td>...</td>\n",
       "      <td>...</td>\n",
       "    </tr>\n",
       "    <tr>\n",
       "      <th>2782</th>\n",
       "      <td>September</td>\n",
       "      <td>2019</td>\n",
       "      <td>72805</td>\n",
       "      <td>1,124.00</td>\n",
       "    </tr>\n",
       "    <tr>\n",
       "      <th>2783</th>\n",
       "      <td>September</td>\n",
       "      <td>2019</td>\n",
       "      <td>72806</td>\n",
       "      <td>74.00</td>\n",
       "    </tr>\n",
       "    <tr>\n",
       "      <th>2784</th>\n",
       "      <td>September</td>\n",
       "      <td>2019</td>\n",
       "      <td>72810</td>\n",
       "      <td>157.00</td>\n",
       "    </tr>\n",
       "    <tr>\n",
       "      <th>2785</th>\n",
       "      <td>September</td>\n",
       "      <td>2019</td>\n",
       "      <td>72811</td>\n",
       "      <td>4,560.00</td>\n",
       "    </tr>\n",
       "    <tr>\n",
       "      <th>2786</th>\n",
       "      <td>September</td>\n",
       "      <td>2019</td>\n",
       "      <td>72814</td>\n",
       "      <td>599.00</td>\n",
       "    </tr>\n",
       "  </tbody>\n",
       "</table>\n",
       "<p>2787 rows × 4 columns</p>\n",
       "</div>"
      ],
      "text/plain": [
       "          month  year  order_id     cost\n",
       "0         April  2019     14606 1,215.00\n",
       "1         April  2019     14608 1,276.00\n",
       "2         April  2019     14611 1,140.00\n",
       "3         April  2019     14612 2,723.00\n",
       "4         April  2019     14614 1,759.00\n",
       "...         ...   ...       ...      ...\n",
       "2782  September  2019     72805 1,124.00\n",
       "2783  September  2019     72806    74.00\n",
       "2784  September  2019     72810   157.00\n",
       "2785  September  2019     72811 4,560.00\n",
       "2786  September  2019     72814   599.00\n",
       "\n",
       "[2787 rows x 4 columns]"
      ]
     },
     "execution_count": 43,
     "metadata": {},
     "output_type": "execute_result"
    }
   ],
   "source": [
    "data_bill = data.groupby(['month', 'year', 'order_id'])['cost'].sum().reset_index()\n",
    "data_bill"
   ]
  },
  {
   "cell_type": "code",
   "execution_count": 44,
   "metadata": {},
   "outputs": [
    {
     "data": {
      "image/png": "[encoded data removed]",
      "text/plain": [
       "<Figure size 864x504 with 1 Axes>"
      ]
     },
     "metadata": {
      "needs_background": "light"
     },
     "output_type": "display_data"
    }
   ],
   "source": [
    "plt.figure(figsize=(12, 7))\n",
    "sns.barplot(x = 'month', y = 'cost', hue = 'year', order =  month, data = data_bill).set(title='Динамика чека')\n",
    "plt.xlabel('Месяц')\n",
    "plt.ylabel('Чек')\n",
    "plt.show()"
   ]
  },
  {
   "cell_type": "markdown",
   "metadata": {},
   "source": [
    "На графике видим динамику среднего чека по месяцам. Максимальное значение - в ноябре 2018. Также высокие значения в январе и июне 2019 и в октябре 2018. Минимальные значения - в августе и сентябре."
   ]
  },
  {
   "cell_type": "markdown",
   "metadata": {},
   "source": [
    "#### 4. Сделать выводы о текущей ситуации: какие есть проблемы и сильные стороны в состоянии дел магазина?"
   ]
  },
  {
   "cell_type": "markdown",
   "metadata": {},
   "source": [
    "Исследуемые данные содержат информацию о 2451 покупателе и 2783 заказах в период с 10 октября 2018 года по 31 октября 2019 года.<br>\n",
    "Стоимость большинства товаров магазина не превышает 1000 у.е.<br>Большинство пользователей приносят магазину выручку до 2000 у.е.<br>\n",
    "\n",
    "Больше всего заказов было сделано в феврале 2019 и декабре 2018. Ярко выраженные спады видим в январе, мае, июне, августе и сентябре 2019. Единственный месяц, по которому можем сравнить с предыдущим годом - октябрь, и в октябре 2018 количество заказов было выше чем в аналогичном месяце следующего года.<br>\n",
    "Наиболее активно пользователи совершают заказы в первой половине дня (с 9 до 15) с пиком в 11 часов.<br>\n",
    "Активность покупателей максимальна в понедельник и постепенно снижается к выходным, достигая заметного минимума в субботу.<br>\n",
    "Больше всего заказов сделали осенью. Минимум - летом. \n",
    "\n",
    "\n",
    "В динамике общей выручки магазина по месяцам видим резкий подъём в июне 2019, спады в августе и сентябре. Таже видим, что в октябрe 2019 выручка оказалась меньше, чем в октябре 2018. В целом, если не брать в расчёт аномальный июнь, есть ощущение что в 2018 выручка была несколько выше, чем в 2019.<br>\n",
    "Из всех дней недели наименее прибыльным стала суббота.\n",
    "Что касается выручки по сезонам, наибольшую среднюю выручку имели заказы, сделанные зимой. Затем по убыванию идут осень, лето и весна.<br>\n",
    "\n",
    "\n",
    "Максимальное значение среднего чека - в ноябре 2018. Также высокие значения в январе и июне 2019 и в октябре 2018. Минимальные значения - в августе и сентябре 2019.<br>\n",
    "\n",
    "Говоря о проблемах, можно выделить неравномерность потока клиентов и выручки в течение года. Самым прибыльным месяцем стал июнь 2019. Ярко выраженный спад наблюдаем в августе и сентябре. Также можно сделать вывод о том, что большинство покупателей совершают небольшие заказы: большинство товаров в магазине стоят до 1000 у.е., а средний чек редко превышал 1500 у.е. Исключение - июнь 2019. Также неравномерен поток клиентов в течение недели: от максимума в понедельник до минимума в выходные.\n",
    "\n",
    "Данных для сравнения динамики по годам не достаточно, но глядя на единственный месяц, по которому есть данные за оба года - октябрь - видим, что по сравнению с 2018 в октябре 2019 количество заказов и выручка заметно сократились.\n"
   ]
  },
  {
   "cell_type": "markdown",
   "metadata": {},
   "source": [
    "### Шаг 3. Сегментация покупателей на основе истории их покупок"
   ]
  },
  {
   "cell_type": "markdown",
   "metadata": {},
   "source": [
    "#### 1. Определить критерии сегментации таким образом, чтобы сегментация помогла в разработке более персонализированных предложений для покупателей, и описать получившиеся сегменты, например:\n",
    "* кто покупает разные товары\n",
    "* кто часто оформляет заказы\n",
    "* кто делает крупные покупки\n",
    "\n",
    "Описать структуру потребления клиентов в сегментах."
   ]
  },
  {
   "cell_type": "markdown",
   "metadata": {},
   "source": [
    "Подготовим нашу таблицу к сегментации."
   ]
  },
  {
   "cell_type": "code",
   "execution_count": 45,
   "metadata": {},
   "outputs": [],
   "source": [
    "data['month'] = data['date'].dt.month\n",
    "data['day'] = data['date'].dt.dayofweek"
   ]
  },
  {
   "cell_type": "code",
   "execution_count": 46,
   "metadata": {},
   "outputs": [],
   "source": [
    "data['hour'] = data['hour'].apply(lambda x: int(x[:2]))"
   ]
  },
  {
   "cell_type": "code",
   "execution_count": 47,
   "metadata": {},
   "outputs": [],
   "source": [
    "data['week'] = data['date'].dt.week"
   ]
  },
  {
   "cell_type": "markdown",
   "metadata": {},
   "source": [
    "Определим дневное время с 7 до 21 (включительно), ночное - с 22 до 6 (включительно)."
   ]
  },
  {
   "cell_type": "code",
   "execution_count": 48,
   "metadata": {},
   "outputs": [],
   "source": [
    "def day_time_morning(time):\n",
    "    if 22 <= time <= 23 or 0 <= time <= 6:\n",
    "        return 0 \n",
    "    return 1\n",
    "def day_time_night(time):\n",
    "    if 22 <= time <= 23 or 0 <= time <= 6:\n",
    "        return 1 \n",
    "    return 0\n",
    "def weekend(day_of_week):\n",
    "    if day_of_week in [5, 6]:\n",
    "        return 1\n",
    "    else:\n",
    "        return 0\n",
    "def weekdays(day_of_week):\n",
    "    if day_of_week not in [5, 6]:\n",
    "        return 1\n",
    "    else:\n",
    "        return 0 "
   ]
  },
  {
   "cell_type": "code",
   "execution_count": 49,
   "metadata": {},
   "outputs": [],
   "source": [
    "data['weekend'] = data['day'].apply(weekend)\n",
    "data['weekdays'] = data['day'].apply(weekdays)\n",
    "data['night'] = data['hour'].apply(day_time_night)\n",
    "data['day_time'] = data['hour'].apply(day_time_morning)"
   ]
  },
  {
   "cell_type": "code",
   "execution_count": 50,
   "metadata": {
    "scrolled": true
   },
   "outputs": [
    {
     "data": {
      "text/html": [
       "<div>\n",
       "<style scoped>\n",
       "    .dataframe tbody tr th:only-of-type {\n",
       "        vertical-align: middle;\n",
       "    }\n",
       "\n",
       "    .dataframe tbody tr th {\n",
       "        vertical-align: top;\n",
       "    }\n",
       "\n",
       "    .dataframe thead th {\n",
       "        text-align: right;\n",
       "    }\n",
       "</style>\n",
       "<table border=\"1\" class=\"dataframe\">\n",
       "  <thead>\n",
       "    <tr style=\"text-align: right;\">\n",
       "      <th></th>\n",
       "      <th>cost</th>\n",
       "      <th>customer_id</th>\n",
       "      <th>day_time</th>\n",
       "      <th>hour</th>\n",
       "      <th>night</th>\n",
       "      <th>order_id</th>\n",
       "      <th>price</th>\n",
       "      <th>quantity</th>\n",
       "      <th>weekdays</th>\n",
       "      <th>weekend</th>\n",
       "      <th>average_bill</th>\n",
       "    </tr>\n",
       "    <tr>\n",
       "      <th>week</th>\n",
       "      <th></th>\n",
       "      <th></th>\n",
       "      <th></th>\n",
       "      <th></th>\n",
       "      <th></th>\n",
       "      <th></th>\n",
       "      <th></th>\n",
       "      <th></th>\n",
       "      <th></th>\n",
       "      <th></th>\n",
       "      <th></th>\n",
       "    </tr>\n",
       "  </thead>\n",
       "  <tbody>\n",
       "    <tr>\n",
       "      <th>1</th>\n",
       "      <td>16,838.00</td>\n",
       "      <td>17</td>\n",
       "      <td>13</td>\n",
       "      <td>15.65</td>\n",
       "      <td>4</td>\n",
       "      <td>17</td>\n",
       "      <td>14,653.00</td>\n",
       "      <td>54</td>\n",
       "      <td>9</td>\n",
       "      <td>8</td>\n",
       "      <td>990.47</td>\n",
       "    </tr>\n",
       "    <tr>\n",
       "      <th>2</th>\n",
       "      <td>49,230.00</td>\n",
       "      <td>33</td>\n",
       "      <td>39</td>\n",
       "      <td>15.93</td>\n",
       "      <td>5</td>\n",
       "      <td>35</td>\n",
       "      <td>34,900.00</td>\n",
       "      <td>148</td>\n",
       "      <td>27</td>\n",
       "      <td>17</td>\n",
       "      <td>1,406.57</td>\n",
       "    </tr>\n",
       "    <tr>\n",
       "      <th>3</th>\n",
       "      <td>72,016.00</td>\n",
       "      <td>33</td>\n",
       "      <td>34</td>\n",
       "      <td>15.11</td>\n",
       "      <td>4</td>\n",
       "      <td>35</td>\n",
       "      <td>19,656.00</td>\n",
       "      <td>108</td>\n",
       "      <td>34</td>\n",
       "      <td>4</td>\n",
       "      <td>2,057.60</td>\n",
       "    </tr>\n",
       "    <tr>\n",
       "      <th>4</th>\n",
       "      <td>57,320.00</td>\n",
       "      <td>48</td>\n",
       "      <td>48</td>\n",
       "      <td>14.30</td>\n",
       "      <td>6</td>\n",
       "      <td>51</td>\n",
       "      <td>29,792.00</td>\n",
       "      <td>278</td>\n",
       "      <td>39</td>\n",
       "      <td>15</td>\n",
       "      <td>1,123.92</td>\n",
       "    </tr>\n",
       "    <tr>\n",
       "      <th>5</th>\n",
       "      <td>53,552.00</td>\n",
       "      <td>39</td>\n",
       "      <td>47</td>\n",
       "      <td>15.10</td>\n",
       "      <td>5</td>\n",
       "      <td>45</td>\n",
       "      <td>43,429.00</td>\n",
       "      <td>87</td>\n",
       "      <td>37</td>\n",
       "      <td>15</td>\n",
       "      <td>1,190.04</td>\n",
       "    </tr>\n",
       "    <tr>\n",
       "      <th>6</th>\n",
       "      <td>98,894.00</td>\n",
       "      <td>63</td>\n",
       "      <td>88</td>\n",
       "      <td>14.33</td>\n",
       "      <td>5</td>\n",
       "      <td>70</td>\n",
       "      <td>61,685.00</td>\n",
       "      <td>236</td>\n",
       "      <td>71</td>\n",
       "      <td>22</td>\n",
       "      <td>1,412.77</td>\n",
       "    </tr>\n",
       "    <tr>\n",
       "      <th>7</th>\n",
       "      <td>57,917.00</td>\n",
       "      <td>63</td>\n",
       "      <td>69</td>\n",
       "      <td>14.03</td>\n",
       "      <td>6</td>\n",
       "      <td>71</td>\n",
       "      <td>52,938.00</td>\n",
       "      <td>122</td>\n",
       "      <td>56</td>\n",
       "      <td>19</td>\n",
       "      <td>815.73</td>\n",
       "    </tr>\n",
       "    <tr>\n",
       "      <th>8</th>\n",
       "      <td>90,256.00</td>\n",
       "      <td>76</td>\n",
       "      <td>104</td>\n",
       "      <td>13.21</td>\n",
       "      <td>4</td>\n",
       "      <td>84</td>\n",
       "      <td>75,080.00</td>\n",
       "      <td>276</td>\n",
       "      <td>79</td>\n",
       "      <td>29</td>\n",
       "      <td>1,074.48</td>\n",
       "    </tr>\n",
       "    <tr>\n",
       "      <th>9</th>\n",
       "      <td>76,747.00</td>\n",
       "      <td>72</td>\n",
       "      <td>131</td>\n",
       "      <td>13.58</td>\n",
       "      <td>5</td>\n",
       "      <td>84</td>\n",
       "      <td>48,591.00</td>\n",
       "      <td>419</td>\n",
       "      <td>110</td>\n",
       "      <td>26</td>\n",
       "      <td>913.65</td>\n",
       "    </tr>\n",
       "    <tr>\n",
       "      <th>10</th>\n",
       "      <td>76,244.00</td>\n",
       "      <td>66</td>\n",
       "      <td>99</td>\n",
       "      <td>13.14</td>\n",
       "      <td>10</td>\n",
       "      <td>71</td>\n",
       "      <td>69,090.00</td>\n",
       "      <td>187</td>\n",
       "      <td>86</td>\n",
       "      <td>23</td>\n",
       "      <td>1,073.86</td>\n",
       "    </tr>\n",
       "  </tbody>\n",
       "</table>\n",
       "</div>"
      ],
      "text/plain": [
       "          cost  customer_id  day_time  hour  night  order_id     price  \\\n",
       "week                                                                     \n",
       "1    16,838.00           17        13 15.65      4        17 14,653.00   \n",
       "2    49,230.00           33        39 15.93      5        35 34,900.00   \n",
       "3    72,016.00           33        34 15.11      4        35 19,656.00   \n",
       "4    57,320.00           48        48 14.30      6        51 29,792.00   \n",
       "5    53,552.00           39        47 15.10      5        45 43,429.00   \n",
       "6    98,894.00           63        88 14.33      5        70 61,685.00   \n",
       "7    57,917.00           63        69 14.03      6        71 52,938.00   \n",
       "8    90,256.00           76       104 13.21      4        84 75,080.00   \n",
       "9    76,747.00           72       131 13.58      5        84 48,591.00   \n",
       "10   76,244.00           66        99 13.14     10        71 69,090.00   \n",
       "\n",
       "      quantity  weekdays  weekend  average_bill  \n",
       "week                                             \n",
       "1           54         9        8        990.47  \n",
       "2          148        27       17      1,406.57  \n",
       "3          108        34        4      2,057.60  \n",
       "4          278        39       15      1,123.92  \n",
       "5           87        37       15      1,190.04  \n",
       "6          236        71       22      1,412.77  \n",
       "7          122        56       19        815.73  \n",
       "8          276        79       29      1,074.48  \n",
       "9          419       110       26        913.65  \n",
       "10         187        86       23      1,073.86  "
      ]
     },
     "execution_count": 50,
     "metadata": {},
     "output_type": "execute_result"
    }
   ],
   "source": [
    "clusters_of_week = data.pivot_table(index = 'week', aggfunc = {'customer_id': 'nunique', 'quantity': 'sum', 'hour': \n",
    "                                                     'mean', 'price': 'sum', 'cost': 'sum', 'order_id': 'nunique',\n",
    "                                                     'day_time':'sum', 'night':'sum', 'weekend': 'sum', 'weekdays':'sum'})\n",
    "clusters_of_week['average_bill'] = clusters_of_week['cost'] / clusters_of_week['order_id']\n",
    "clusters_of_week.head(10)"
   ]
  },
  {
   "cell_type": "markdown",
   "metadata": {},
   "source": [
    "Данные готовы, переходим к сегментации клиентов."
   ]
  },
  {
   "cell_type": "markdown",
   "metadata": {},
   "source": [
    "Проведём сегментацию клиентов магазина на основе их покупательской активности для дальнейшего описания структуры их потребления. Определять принадлежнотсь клиента к тому или иному сегменту будем по трём признакам:\n",
    "1. Количество заказов:\n",
    "* 1 заказ\n",
    "* больше 1 заказа\n",
    "2. Стоимость заказа:\n",
    "* заказы стоимостью до 1500 у.е.\n",
    "* заказы стоимостью больше 1500 у.е.\n",
    "3. Количество наименований товаров в заказе:\n",
    "* 1 товар\n",
    "* больше одного товара"
   ]
  },
  {
   "cell_type": "markdown",
   "metadata": {},
   "source": [
    "#### 2. Сегментация клиентов по профиляи потребления"
   ]
  },
  {
   "cell_type": "code",
   "execution_count": 51,
   "metadata": {},
   "outputs": [],
   "source": [
    "def count_orders(customer):\n",
    "    \"\"\"Функция подсчёта заказов, сделанных клиентом.\n",
    "    \n",
    "    Функция определяет, оформляли ли клиент повторные заказы. \n",
    "    0 - клиент сделал только 1 заказ, 1 - клиент сделал несколько заказов.\n",
    "    \"\"\"    \n",
    "    count = data.loc[data['customer_id'] == customer]['order_id'].nunique()\n",
    "    if count == 1:\n",
    "        return 0\n",
    "    return 1\n",
    "\n",
    "def big_orders(customer):\n",
    "    \"\"\"Функция подсчёта стоимости заказов, сделанных клиентом.\n",
    "    \n",
    "    Функция определяет, оформляли ли клиент заказы стоимость более 1500 у.е. \n",
    "    0 - клиент не оформлял заказов со средним чеком выше 1500 у.е., 1 - оформлял заказы со средним чеком выше 1500 у.е.\n",
    "    \"\"\"      \n",
    "    count = data.loc[data['customer_id'] == customer]['cost'].nunique()\n",
    "    sum_order = data.loc[data['customer_id'] == customer].groupby(['order_id']).sum()['cost'].sum()\n",
    "    \n",
    "    if sum_order / count / 1500 <= 1:\n",
    "        return 0\n",
    "    return 1\n",
    "\n",
    "def many_products(product):\n",
    "    \"\"\"Функция подсчёта количества товаров в заказе.\n",
    "    \n",
    "    Функция определяет, насколько разнообразными были заказы. \n",
    "    0 - в заказе содержится только 1 наименование товара, 1 - заказ содержит различные товары.\n",
    "    \"\"\" \n",
    "    if data.loc[data['order_id'] == product]['product'].count() == 1:\n",
    "        return 0\n",
    "    return 1"
   ]
  },
  {
   "cell_type": "code",
   "execution_count": 52,
   "metadata": {},
   "outputs": [],
   "source": [
    "data['count_orders'] = data['customer_id'].apply(count_orders)\n",
    "data['big_orders'] = data['customer_id'].apply(big_orders)\n",
    "data['many_products'] = data['order_id'].apply(many_products)"
   ]
  },
  {
   "cell_type": "markdown",
   "metadata": {},
   "source": [
    "Применив функции и добавив дополнительные поля в таблицу, начинаем формировать профили потребления наших клиентов."
   ]
  },
  {
   "cell_type": "code",
   "execution_count": 53,
   "metadata": {},
   "outputs": [
    {
     "data": {
      "text/html": [
       "<div>\n",
       "<style scoped>\n",
       "    .dataframe tbody tr th:only-of-type {\n",
       "        vertical-align: middle;\n",
       "    }\n",
       "\n",
       "    .dataframe tbody tr th {\n",
       "        vertical-align: top;\n",
       "    }\n",
       "\n",
       "    .dataframe thead th {\n",
       "        text-align: right;\n",
       "    }\n",
       "</style>\n",
       "<table border=\"1\" class=\"dataframe\">\n",
       "  <thead>\n",
       "    <tr style=\"text-align: right;\">\n",
       "      <th></th>\n",
       "      <th>customer_id</th>\n",
       "    </tr>\n",
       "    <tr>\n",
       "      <th>many_products</th>\n",
       "      <th></th>\n",
       "    </tr>\n",
       "  </thead>\n",
       "  <tbody>\n",
       "    <tr>\n",
       "      <th>0</th>\n",
       "      <td>2080</td>\n",
       "    </tr>\n",
       "    <tr>\n",
       "      <th>1</th>\n",
       "      <td>354</td>\n",
       "    </tr>\n",
       "  </tbody>\n",
       "</table>\n",
       "</div>"
      ],
      "text/plain": [
       "               customer_id\n",
       "many_products             \n",
       "0                     2080\n",
       "1                      354"
      ]
     },
     "execution_count": 53,
     "metadata": {},
     "output_type": "execute_result"
    }
   ],
   "source": [
    "final_data = data\n",
    "final_data.groupby('many_products').agg({'customer_id' : 'nunique'})"
   ]
  },
  {
   "cell_type": "code",
   "execution_count": 54,
   "metadata": {},
   "outputs": [
    {
     "data": {
      "text/html": [
       "<div>\n",
       "<style scoped>\n",
       "    .dataframe tbody tr th:only-of-type {\n",
       "        vertical-align: middle;\n",
       "    }\n",
       "\n",
       "    .dataframe tbody tr th {\n",
       "        vertical-align: top;\n",
       "    }\n",
       "\n",
       "    .dataframe thead th {\n",
       "        text-align: right;\n",
       "    }\n",
       "</style>\n",
       "<table border=\"1\" class=\"dataframe\">\n",
       "  <thead>\n",
       "    <tr style=\"text-align: right;\">\n",
       "      <th></th>\n",
       "      <th>customer_id</th>\n",
       "    </tr>\n",
       "    <tr>\n",
       "      <th>big_orders</th>\n",
       "      <th></th>\n",
       "    </tr>\n",
       "  </thead>\n",
       "  <tbody>\n",
       "    <tr>\n",
       "      <th>0</th>\n",
       "      <td>1916</td>\n",
       "    </tr>\n",
       "    <tr>\n",
       "      <th>1</th>\n",
       "      <td>505</td>\n",
       "    </tr>\n",
       "  </tbody>\n",
       "</table>\n",
       "</div>"
      ],
      "text/plain": [
       "            customer_id\n",
       "big_orders             \n",
       "0                  1916\n",
       "1                   505"
      ]
     },
     "execution_count": 54,
     "metadata": {},
     "output_type": "execute_result"
    }
   ],
   "source": [
    "final_data.groupby('big_orders').agg({'customer_id' : 'nunique'})"
   ]
  },
  {
   "cell_type": "code",
   "execution_count": 55,
   "metadata": {},
   "outputs": [
    {
     "data": {
      "text/html": [
       "<div>\n",
       "<style scoped>\n",
       "    .dataframe tbody tr th:only-of-type {\n",
       "        vertical-align: middle;\n",
       "    }\n",
       "\n",
       "    .dataframe tbody tr th {\n",
       "        vertical-align: top;\n",
       "    }\n",
       "\n",
       "    .dataframe thead th {\n",
       "        text-align: right;\n",
       "    }\n",
       "</style>\n",
       "<table border=\"1\" class=\"dataframe\">\n",
       "  <thead>\n",
       "    <tr style=\"text-align: right;\">\n",
       "      <th></th>\n",
       "      <th>customer_id</th>\n",
       "    </tr>\n",
       "    <tr>\n",
       "      <th>count_orders</th>\n",
       "      <th></th>\n",
       "    </tr>\n",
       "  </thead>\n",
       "  <tbody>\n",
       "    <tr>\n",
       "      <th>0</th>\n",
       "      <td>2264</td>\n",
       "    </tr>\n",
       "    <tr>\n",
       "      <th>1</th>\n",
       "      <td>157</td>\n",
       "    </tr>\n",
       "  </tbody>\n",
       "</table>\n",
       "</div>"
      ],
      "text/plain": [
       "              customer_id\n",
       "count_orders             \n",
       "0                    2264\n",
       "1                     157"
      ]
     },
     "execution_count": 55,
     "metadata": {},
     "output_type": "execute_result"
    }
   ],
   "source": [
    "final_data.groupby('count_orders').agg({'customer_id' : 'nunique'})"
   ]
  },
  {
   "cell_type": "code",
   "execution_count": 56,
   "metadata": {},
   "outputs": [],
   "source": [
    "def class_names(columns):\n",
    "    count_orders = str(columns['count_orders'])\n",
    "    big_orders = str(columns['big_orders'])\n",
    "    many_products = str(columns['many_products'])\n",
    "    data = {'000': '1', '001': '2','011': '3', '111': '4','010': '5', '100': '6',\n",
    "           '101': '7', '110': '8'}\n",
    "    return data[f'{many_products}{big_orders}{count_orders}']"
   ]
  },
  {
   "cell_type": "code",
   "execution_count": 57,
   "metadata": {},
   "outputs": [],
   "source": [
    "final_data['total'] = data.apply(class_names ,axis=1)"
   ]
  },
  {
   "cell_type": "code",
   "execution_count": 58,
   "metadata": {},
   "outputs": [],
   "source": [
    "final_data = final_data.drop(['many_products', 'big_orders', 'count_orders', 'year', 'month', 'week'], axis=1)"
   ]
  },
  {
   "cell_type": "code",
   "execution_count": 78,
   "metadata": {},
   "outputs": [
    {
     "name": "stdout",
     "output_type": "stream",
     "text": [
      "1 516.0\n",
      "2 614.1829268292682\n",
      "3 2168.6417112299464\n",
      "4 1375.857142857143\n",
      "5 3334.1706783369805\n",
      "6 1260.3333333333333\n",
      "7 1034.65\n",
      "8 7110.375\n"
     ]
    }
   ],
   "source": [
    "for cluster in sorted(final_data.total.unique()):\n",
    "    print(cluster, final_data.loc[final_data.total == cluster, 'cost'].sum() / final_data.loc[final_data.total == cluster, 'order_id'].nunique())"
   ]
  },
  {
   "cell_type": "code",
   "execution_count": 60,
   "metadata": {},
   "outputs": [],
   "source": [
    "customer = final_data.groupby('total').agg({'customer_id' : 'nunique'})"
   ]
  },
  {
   "cell_type": "code",
   "execution_count": 93,
   "metadata": {},
   "outputs": [
    {
     "data": {
      "text/html": [
       "<div>\n",
       "<style scoped>\n",
       "    .dataframe tbody tr th:only-of-type {\n",
       "        vertical-align: middle;\n",
       "    }\n",
       "\n",
       "    .dataframe tbody tr th {\n",
       "        vertical-align: top;\n",
       "    }\n",
       "\n",
       "    .dataframe thead th {\n",
       "        text-align: right;\n",
       "    }\n",
       "</style>\n",
       "<table border=\"1\" class=\"dataframe\">\n",
       "  <thead>\n",
       "    <tr style=\"text-align: right;\">\n",
       "      <th>total</th>\n",
       "      <th>1</th>\n",
       "      <th>2</th>\n",
       "      <th>3</th>\n",
       "      <th>4</th>\n",
       "      <th>5</th>\n",
       "      <th>6</th>\n",
       "      <th>7</th>\n",
       "      <th>8</th>\n",
       "    </tr>\n",
       "  </thead>\n",
       "  <tbody>\n",
       "    <tr>\n",
       "      <th>quantity</th>\n",
       "      <td>2.20</td>\n",
       "      <td>2.70</td>\n",
       "      <td>3.45</td>\n",
       "      <td>6.29</td>\n",
       "      <td>8.47</td>\n",
       "      <td>8.73</td>\n",
       "      <td>10.21</td>\n",
       "      <td>38.75</td>\n",
       "    </tr>\n",
       "    <tr>\n",
       "      <th>cost</th>\n",
       "      <td>516.00</td>\n",
       "      <td>614.18</td>\n",
       "      <td>2,168.64</td>\n",
       "      <td>1,375.86</td>\n",
       "      <td>3,334.17</td>\n",
       "      <td>1,260.33</td>\n",
       "      <td>1,034.65</td>\n",
       "      <td>7,110.38</td>\n",
       "    </tr>\n",
       "  </tbody>\n",
       "</table>\n",
       "</div>"
      ],
      "text/plain": [
       "total         1      2        3        4        5        6        7        8\n",
       "quantity   2.20   2.70     3.45     6.29     8.47     8.73    10.21    38.75\n",
       "cost     516.00 614.18 2,168.64 1,375.86 3,334.17 1,260.33 1,034.65 7,110.38"
      ]
     },
     "execution_count": 93,
     "metadata": {},
     "output_type": "execute_result"
    }
   ],
   "source": [
    "final_data.groupby(['total', 'order_id']).sum().groupby('total').mean().T.drop(['price', 'hour', 'day', \n",
    "                                                                               'weekend', 'weekdays', 'night', 'day_time'])"
   ]
  },
  {
   "cell_type": "code",
   "execution_count": 102,
   "metadata": {},
   "outputs": [
    {
     "data": {
      "text/html": [
       "<div>\n",
       "<style scoped>\n",
       "    .dataframe tbody tr th:only-of-type {\n",
       "        vertical-align: middle;\n",
       "    }\n",
       "\n",
       "    .dataframe tbody tr th {\n",
       "        vertical-align: top;\n",
       "    }\n",
       "\n",
       "    .dataframe thead th {\n",
       "        text-align: right;\n",
       "    }\n",
       "</style>\n",
       "<table border=\"1\" class=\"dataframe\">\n",
       "  <thead>\n",
       "    <tr style=\"text-align: right;\">\n",
       "      <th>total</th>\n",
       "      <th>1</th>\n",
       "      <th>2</th>\n",
       "      <th>3</th>\n",
       "      <th>4</th>\n",
       "      <th>5</th>\n",
       "      <th>6</th>\n",
       "      <th>7</th>\n",
       "      <th>8</th>\n",
       "    </tr>\n",
       "  </thead>\n",
       "  <tbody>\n",
       "    <tr>\n",
       "      <th>hour</th>\n",
       "      <td>13.97</td>\n",
       "      <td>13.54</td>\n",
       "      <td>11.58</td>\n",
       "      <td>11.71</td>\n",
       "      <td>13.57</td>\n",
       "      <td>13.75</td>\n",
       "      <td>13.75</td>\n",
       "      <td>14.50</td>\n",
       "    </tr>\n",
       "    <tr>\n",
       "      <th>weekend</th>\n",
       "      <td>0.24</td>\n",
       "      <td>0.16</td>\n",
       "      <td>0.07</td>\n",
       "      <td>0.00</td>\n",
       "      <td>0.21</td>\n",
       "      <td>0.23</td>\n",
       "      <td>0.19</td>\n",
       "      <td>0.12</td>\n",
       "    </tr>\n",
       "    <tr>\n",
       "      <th>weekdays</th>\n",
       "      <td>0.76</td>\n",
       "      <td>0.84</td>\n",
       "      <td>0.93</td>\n",
       "      <td>1.00</td>\n",
       "      <td>0.79</td>\n",
       "      <td>0.77</td>\n",
       "      <td>0.81</td>\n",
       "      <td>0.88</td>\n",
       "    </tr>\n",
       "    <tr>\n",
       "      <th>night</th>\n",
       "      <td>0.11</td>\n",
       "      <td>0.11</td>\n",
       "      <td>0.04</td>\n",
       "      <td>0.00</td>\n",
       "      <td>0.10</td>\n",
       "      <td>0.12</td>\n",
       "      <td>0.09</td>\n",
       "      <td>0.09</td>\n",
       "    </tr>\n",
       "    <tr>\n",
       "      <th>day_time</th>\n",
       "      <td>0.89</td>\n",
       "      <td>0.89</td>\n",
       "      <td>0.96</td>\n",
       "      <td>1.00</td>\n",
       "      <td>0.90</td>\n",
       "      <td>0.88</td>\n",
       "      <td>0.91</td>\n",
       "      <td>0.91</td>\n",
       "    </tr>\n",
       "  </tbody>\n",
       "</table>\n",
       "</div>"
      ],
      "text/plain": [
       "total        1     2     3     4     5     6     7     8\n",
       "hour     13.97 13.54 11.58 11.71 13.57 13.75 13.75 14.50\n",
       "weekend   0.24  0.16  0.07  0.00  0.21  0.23  0.19  0.12\n",
       "weekdays  0.76  0.84  0.93  1.00  0.79  0.77  0.81  0.88\n",
       "night     0.11  0.11  0.04  0.00  0.10  0.12  0.09  0.09\n",
       "day_time  0.89  0.89  0.96  1.00  0.90  0.88  0.91  0.91"
      ]
     },
     "execution_count": 102,
     "metadata": {},
     "output_type": "execute_result"
    }
   ],
   "source": [
    "final_data.groupby(['total', 'order_id']).mean().groupby('total').mean().T.drop(['quantity', 'cost', 'price', 'day'])"
   ]
  },
  {
   "cell_type": "code",
   "execution_count": 98,
   "metadata": {},
   "outputs": [
    {
     "name": "stdout",
     "output_type": "stream",
     "text": [
      "1 234.6170277693012\n",
      "2 227.54367469879517\n",
      "3 628.737984496124\n",
      "4 218.88636363636363\n",
      "5 393.62335313872387\n",
      "6 144.36807941962581\n",
      "7 101.31211750305998\n",
      "8 183.49354838709678\n"
     ]
    }
   ],
   "source": [
    "for cluster in sorted(final_data.total.unique()):\n",
    "    print(cluster, final_data.loc[final_data.total == cluster, 'cost'].sum() / final_data.loc[final_data.total == cluster, 'quantity'].sum())"
   ]
  },
  {
   "cell_type": "markdown",
   "metadata": {},
   "source": [
    "Количество пользователей в каждом сегменте и доля от общего числа:"
   ]
  },
  {
   "cell_type": "code",
   "execution_count": 62,
   "metadata": {},
   "outputs": [
    {
     "data": {
      "text/html": [
       "<div>\n",
       "<style scoped>\n",
       "    .dataframe tbody tr th:only-of-type {\n",
       "        vertical-align: middle;\n",
       "    }\n",
       "\n",
       "    .dataframe tbody tr th {\n",
       "        vertical-align: top;\n",
       "    }\n",
       "\n",
       "    .dataframe thead th {\n",
       "        text-align: right;\n",
       "    }\n",
       "</style>\n",
       "<table border=\"1\" class=\"dataframe\">\n",
       "  <thead>\n",
       "    <tr style=\"text-align: right;\">\n",
       "      <th></th>\n",
       "      <th>customer_id</th>\n",
       "      <th>percent</th>\n",
       "    </tr>\n",
       "    <tr>\n",
       "      <th>total</th>\n",
       "      <th></th>\n",
       "      <th></th>\n",
       "    </tr>\n",
       "  </thead>\n",
       "  <tbody>\n",
       "    <tr>\n",
       "      <th>1</th>\n",
       "      <td>1490</td>\n",
       "      <td>61.22</td>\n",
       "    </tr>\n",
       "    <tr>\n",
       "      <th>2</th>\n",
       "      <td>101</td>\n",
       "      <td>4.15</td>\n",
       "    </tr>\n",
       "    <tr>\n",
       "      <th>3</th>\n",
       "      <td>32</td>\n",
       "      <td>1.31</td>\n",
       "    </tr>\n",
       "    <tr>\n",
       "      <th>4</th>\n",
       "      <td>2</td>\n",
       "      <td>0.08</td>\n",
       "    </tr>\n",
       "    <tr>\n",
       "      <th>5</th>\n",
       "      <td>457</td>\n",
       "      <td>18.78</td>\n",
       "    </tr>\n",
       "    <tr>\n",
       "      <th>6</th>\n",
       "      <td>301</td>\n",
       "      <td>12.37</td>\n",
       "    </tr>\n",
       "    <tr>\n",
       "      <th>7</th>\n",
       "      <td>35</td>\n",
       "      <td>1.44</td>\n",
       "    </tr>\n",
       "    <tr>\n",
       "      <th>8</th>\n",
       "      <td>16</td>\n",
       "      <td>0.66</td>\n",
       "    </tr>\n",
       "  </tbody>\n",
       "</table>\n",
       "</div>"
      ],
      "text/plain": [
       "       customer_id  percent\n",
       "total                      \n",
       "1             1490    61.22\n",
       "2              101     4.15\n",
       "3               32     1.31\n",
       "4                2     0.08\n",
       "5              457    18.78\n",
       "6              301    12.37\n",
       "7               35     1.44\n",
       "8               16     0.66"
      ]
     },
     "execution_count": 62,
     "metadata": {},
     "output_type": "execute_result"
    }
   ],
   "source": [
    "customer['percent'] = customer['customer_id'] / customer['customer_id'].sum() * 100\n",
    "customer"
   ]
  },
  {
   "cell_type": "markdown",
   "metadata": {},
   "source": [
    "#### 3. Результат сегментации"
   ]
  },
  {
   "cell_type": "markdown",
   "metadata": {},
   "source": [
    "В результате у нас получилось 8 категорий пользователей. Рассмотрим каждый сегмент и выделим характерные черты поведения клиентов в каждом:<br><br>\n",
    "<b>Сегмент 1 </b> <br>\n",
    "Пользователи, которые совершили только 1 заказ с одним товаром стоимостью до 1500 у.е.<br>\n",
    "* самая многочисленная категория клиентов, сюда вошли около 1490 человек (более 61%).<br>\n",
    "* самый низкий средний чек - 516 у.е.\n",
    "\n",
    "<b>Сегмент 2</b><br>\n",
    "1 заказ с разными товарами со средним размером чека до 1500 у.е.<br>\n",
    "* 101 клиент (4%)<br>\n",
    "* низкий средний чек - 614 у.е.\n",
    "\n",
    "<b>Сегмент 3</b><br>\n",
    "1 заказ с разными товарами общей стоимостью выше 1500 у.е.<br>\n",
    "* 32 клиента (1%)<br>\n",
    "* высокий средний чек - 2168 у.е.\n",
    "\n",
    "<b>Сегмент 4</b><br>\n",
    "Клиенты, сделавшие более 1 заказа среди которых были заказы с разными товарами и заказы стоимостью выше 1500 у.е.<br>\n",
    "\n",
    "* таких клиентов всего 2<br>\n",
    "* cредний чек составил 1375 у.е.\n",
    "\n",
    "<b>Сегмент 5</b><br>\n",
    "1 заказ с одним видом товара стоимостью выше 1500 у.е.<br>\n",
    "* 457 клиентов (19%)<br>\n",
    "* высокий средний чек - 3334 у.е.\n",
    "\n",
    "<b>Сегмент 6</b><br>\n",
    "Более одного заказа, но все они содержали только 1 наименование товара и стоили менее 1500 у.е.<br>\n",
    "* 301 клиент (12%)<br>\n",
    "* средний чек - 1260 у.е.\n",
    "\n",
    "<b>Сегмент 7</b><br>\n",
    "Несколько заказов с разными товарами, но каждый чек не превышал 1500 у.е.<br>\n",
    "* 35 клиентов (1%)<br>\n",
    "* средний чек - 1034 у.е.\n",
    "\n",
    "\n",
    "<b>Сегмент 8</b><br>\n",
    "Несколько заказов, были чеки выше 1500 у.е., в каждом заказе только одно наименование товара.<br>\n",
    "* 16 клиентов (<1%)<br>\n",
    "* самый высокий средний чек - 7110 у.е.\n",
    "\n",
    "Клиенты всех сегментов наиболее активны в дневное время и в будни."
   ]
  },
  {
   "cell_type": "markdown",
   "metadata": {},
   "source": [
    "### Шаг 4. Формулировка и проверка статистических гипотез"
   ]
  },
  {
   "cell_type": "markdown",
   "metadata": {},
   "source": [
    "#### Выделить не менее двух наборов гипотез и проверить их с помощью статистического теста"
   ]
  },
  {
   "cell_type": "markdown",
   "metadata": {},
   "source": [
    "#### 1. Первый набор гипотез\n",
    "Нулевая гипотеза: выручка в выходные и будни одинакова. Альтернативная гипотеза: выручка в выходные и будни не одинакова."
   ]
  },
  {
   "cell_type": "code",
   "execution_count": 63,
   "metadata": {},
   "outputs": [
    {
     "name": "stdout",
     "output_type": "stream",
     "text": [
      "Дисперсия выручки в выходные:  76708065.74162517\n",
      "Дисперсия выручки в будни:  15358014.116548982\n"
     ]
    }
   ],
   "source": [
    "weekend = data[data['weekdays'] != 0].groupby(['date'])['cost'].sum()\n",
    "weekdays = data[data['weekdays'] == 0].groupby(['date'])['cost'].sum()\n",
    "print('Дисперсия выручки в выходные: ', np.var(weekend))\n",
    "print('Дисперсия выручки в будни: ', np.var(weekdays))"
   ]
  },
  {
   "cell_type": "markdown",
   "metadata": {},
   "source": [
    "Дисперсия различается, поэтому при проверке гипотезы используем equal_var = False."
   ]
  },
  {
   "cell_type": "code",
   "execution_count": 64,
   "metadata": {},
   "outputs": [
    {
     "name": "stdout",
     "output_type": "stream",
     "text": [
      "p-значение: 4.069842488063053e-12\n",
      "Отвергаем нулевую гипотезу. Выручка в выходные и будни не одинакова\n"
     ]
    }
   ],
   "source": [
    "alpha = .05\n",
    "\n",
    "results = st.ttest_ind(weekend,\n",
    "    weekdays, \n",
    "    equal_var = False)\n",
    "\n",
    "print('p-значение:', results.pvalue)\n",
    "\n",
    "if results.pvalue < alpha:\n",
    "    print(\"Отвергаем нулевую гипотезу. Выручка в выходные и будни не одинакова\")\n",
    "else:\n",
    "    print(\"Не получилось отвергнуть нулевую гипотезу. Выручка в выходные и бдуни одинакова\")"
   ]
  },
  {
   "cell_type": "markdown",
   "metadata": {},
   "source": [
    "#### 2. Второй набор гипотез\n",
    "Нулевая гипотеза: выручка ночью и днём одинакова. Альтернативная гипотеза: выручка ночью и днём не одинакова."
   ]
  },
  {
   "cell_type": "code",
   "execution_count": 65,
   "metadata": {},
   "outputs": [
    {
     "name": "stdout",
     "output_type": "stream",
     "text": [
      "Дисперсия выручки ночью:  5036533.125792964\n",
      "Дисперсия выручки днем:  59198157.82606548\n"
     ]
    }
   ],
   "source": [
    "night = data[data['night'] == 1].groupby(['date'])['cost'].sum().reset_index()['cost']\n",
    "day = data[data['night'] == 0].groupby(['date'])['cost'].sum().reset_index()['cost']\n",
    "print('Дисперсия выручки ночью: ', np.var(night))\n",
    "print('Дисперсия выручки днем: ', np.var(day))"
   ]
  },
  {
   "cell_type": "markdown",
   "metadata": {},
   "source": [
    "Дисперсия различается, поэтому при проверке гипотезы используем equal_var = False."
   ]
  },
  {
   "cell_type": "code",
   "execution_count": 66,
   "metadata": {},
   "outputs": [
    {
     "name": "stdout",
     "output_type": "stream",
     "text": [
      "p-значение: 7.199209955026505e-43\n",
      "Отвергаем нулевую гипотезу. Выручка ночью и днём не одинакова\n"
     ]
    }
   ],
   "source": [
    "alpha = .05\n",
    "\n",
    "results = st.ttest_ind(night,\n",
    "    day, \n",
    "    equal_var = False)\n",
    "\n",
    "print('p-значение:', results.pvalue)\n",
    "\n",
    "if results.pvalue < alpha:\n",
    "    print(\"Отвергаем нулевую гипотезу. Выручка ночью и днём не одинакова\")\n",
    "else:\n",
    "    print(\"Не получилось отвергнуть нулевую гипотезу. Выручка ночью и днём одинакова\")"
   ]
  },
  {
   "cell_type": "markdown",
   "metadata": {},
   "source": [
    "#### Вывод\n",
    "Проведя проверку двух статических гипотез, подтвердили высказанные ранее подозрения о том, что выручка от заказов, сделанных в выходные и будни, не одинакова и выручка от заказов, сделанных днём и ночью, неодинакова."
   ]
  },
  {
   "cell_type": "markdown",
   "metadata": {},
   "source": [
    "### Шаг 5. Выводы и рекомендации"
   ]
  },
  {
   "cell_type": "markdown",
   "metadata": {},
   "source": [
    "#### 1. Общий вывод по результатам исследования"
   ]
  },
  {
   "cell_type": "markdown",
   "metadata": {},
   "source": [
    "Исследуемые данные содержат информацию о 2451 покупателе и 2784 заказах в период с 10 октября 2018 года по 31 октября 2019 года.<br>\n",
    "Стоимость большинства товаров магазина не превышает 1000 у.е.<br>Большинство пользователей приносят магазину выручку до 2000 у.е.<br>\n",
    "\n",
    "Проблемные зоны, над которыми стоит поработать:\n",
    "* неравномерность распределения количества заказов в течение года: больше всего заказов сделали осенью, минимум - летом.\n",
    "* неравномерность распределения количества заказов в течение в течение недели: активность покупателей максимальна в понедельник и постепенно снижается к выходным, достигая минимума в субботу\n",
    "* в первой половине дня (с 9 до 16:00) делают больше заказов, чем во второй\n",
    "* есть основания полагать, что в предыдущем году дела магазина обстояли лучше\n",
    "* большинство покупателей совершают небольшие заказы: большинство товаров в магазине стоят до 1000 у.е., а средний чек редко превышал 1500 у.е.\n"
   ]
  },
  {
   "cell_type": "markdown",
   "metadata": {},
   "source": [
    "#### 2. Рекомендации по разработке персонализированных предложений на основе полученных данных"
   ]
  },
  {
   "cell_type": "markdown",
   "metadata": {},
   "source": [
    "В ходе исследования было выявлено 8 групп клиентов, различающихся по профилю потребления:<br>\n",
    "1 - единоразовый заказ с одним товаром и низкой стоимостью (60% всех наших клиентов!)<br>\n",
    "2 - 1 заказ, разные товары, низкий средний чек (4% клиентов)<br>\n",
    "3 - 1 заказ, разные товары, высокий средний чек (1% клиентов)<br>\n",
    "4 - несколько заказов, разные товары, большой чек (всего 2 человека)<br>\n",
    "5 - 1 заказ, самый высокий средний чек, большое количество одинаковых товары (всего 19% клиентов) - оптовики<br>\n",
    "6 - несколько заказов, по 1 товару в чеке, очень низкий средний чек (12% всех клиентов)<br>\n",
    "7 - несколько заказов, разные товары, низкий средний чек (1%, самый низкий средний чек)<br>\n",
    "8 - несколько заказов, очень высокий средний чек, большое количество одинаковых товаров (<1%) - оптовики<br>\n",
    "\n",
    "Более половины наших клиентов - это люди, которые совершают один маленький заказ и больше никогда к нам не возвращаются (1 группа). Что можно предложить для удержания этих клиентов:\n",
    "* скидочный купон на следующую покупку\n",
    "* участие в программе лояльности уже после первой покупки (накопительная бонусная карта, специальные предложения, рассылка с сезонными товарами и хитами продаж, промокоды, закрытые распродажи)\n",
    "* акция 2+1 или скидка за каждый второй товар в чеке (необходимо мотивировать клиентов покупать больше)\n",
    "\n",
    "\n",
    "Группы 5 и 8 - наши оптовики с самыми высокими средними чеками. В сумме они составили около 20 процентов всех клиентов. Проблема с ними в том, что они совершают 1 заказ и не возвращаются. Что можно сделать:\n",
    "* предоставлять особые условия на следующую покупку\n",
    "* предлагать им специальные оптовые цены\n",
    "* вероятно они -представители компаний. Нужно разработать специальные условия для сотрудничества с компаниями на оптовых условиях и предложить их клиентам из этих групп\n",
    "\n",
    "Группы 2 и 3 - 5%, те, кто не совершали повторные покупки. Таких клиентов необходимо мотивировать возвращаться:\n",
    "* рассылка о наших товарах, которые они уже покупали и о похожих\n",
    "* закрытые распродажи\n",
    "* персональный промокод со скидкой на следующую покупку\n",
    "\n",
    "Группы 6 и 7 - постоянные клиенты с низким средним чеком. Нужно повышать средний чек:\n",
    "* акция со скидкой при покупке от 1500 у.е.: скидка на следующий заказ, скидка на текущий, при покупке от 1500 сезонный товар на выбор в подарок\n",
    "* акция 2+1 или скидка за каждый второй товар в чеке\n",
    "\n",
    "Общие рекомендации для всех групп:\n",
    "\n",
    "* мотивировать клиентов совершать покупки в выходные: промоакции, специальные предложения\n",
    "* мотивировать клиентов совершать покупки в вечернее время (после 16:00): промоакции, специальные предложения\n",
    "* повышать количество заказов в ночное время: ночь распродаж, подарки за заказы в ночное время, промокод на следующую покупку в подарок за заказ, оформленный ночью\n",
    "* меньше всего заказов летом. Нужно привлекать клиентов сезонными товарами (дача, растения, товары для ремонта) и специальными предложениями\n",
    "* мотивировать клиентов покупать больше и чаще: скидка на покупку нескольких товаров, купоны на скидку на следующую покупку, бонусная программа, спец предложения для постоянных клиентов, персональные рассылки\n",
    "* если есть возможность запросить полные данные за прошлый год, необходимо проверить гипотезу о том, что в 2018 году дела у магазина шли лучше, чем в 2019. Если эта теория подтвердиться, нужно проанализировать, какие меры принимались для привлечения клиентов годом ранее, что изменилось\n",
    "\n",
    "\n",
    "\n"
   ]
  },
  {
   "cell_type": "markdown",
   "metadata": {},
   "source": [
    "### Шаг 6. Подготовка презентации"
   ]
  },
  {
   "cell_type": "markdown",
   "metadata": {},
   "source": [
    "Подготовить презентацию (в формате pdf), в которую войдут основные выводы и рекомендации по итогам исследования. Подкрепить их графиками и конеретными показателями. "
   ]
  },
  {
   "cell_type": "markdown",
   "metadata": {},
   "source": [
    "Презентация: https://drive.google.com/file/d/18QdBU6_cDdQmuH41R1XNC9C6h6WNsmPS/view?usp=sharing"
   ]
  },
  {
   "cell_type": "markdown",
   "metadata": {},
   "source": [
    "Дашборд: https://public.tableau.com/app/profile/ekaterina6207/viz/Book2_16705359606260/_?publish=yes"
   ]
  },
  {
   "cell_type": "code",
   "execution_count": null,
   "metadata": {},
   "outputs": [],
   "source": []
  }
 ],
 "metadata": {
  "ExecuteTimeLog": [
   {
    "duration": 407,
    "start_time": "2022-10-31T22:02:15.896Z"
   },
   {
    "duration": 386,
    "start_time": "2022-10-31T22:10:19.316Z"
   },
   {
    "duration": 1355,
    "start_time": "2022-10-31T22:10:21.844Z"
   },
   {
    "duration": 174,
    "start_time": "2022-10-31T22:12:42.116Z"
   },
   {
    "duration": 61,
    "start_time": "2022-10-31T22:12:54.896Z"
   },
   {
    "duration": 41,
    "start_time": "2022-10-31T22:14:53.629Z"
   },
   {
    "duration": 12,
    "start_time": "2022-10-31T22:15:01.776Z"
   },
   {
    "duration": 25,
    "start_time": "2022-10-31T22:15:22.724Z"
   },
   {
    "duration": 23,
    "start_time": "2022-10-31T22:15:56.816Z"
   },
   {
    "duration": 19,
    "start_time": "2022-10-31T22:16:06.448Z"
   },
   {
    "duration": 12,
    "start_time": "2022-10-31T22:16:44.036Z"
   },
   {
    "duration": 51,
    "start_time": "2022-10-31T22:17:37.598Z"
   },
   {
    "duration": 5,
    "start_time": "2022-10-31T22:25:36.236Z"
   },
   {
    "duration": 21,
    "start_time": "2022-10-31T22:25:42.862Z"
   },
   {
    "duration": 368,
    "start_time": "2022-10-31T22:33:49.740Z"
   },
   {
    "duration": 112,
    "start_time": "2022-10-31T22:33:50.110Z"
   },
   {
    "duration": 21,
    "start_time": "2022-10-31T22:33:50.223Z"
   },
   {
    "duration": 11,
    "start_time": "2022-10-31T22:33:50.246Z"
   },
   {
    "duration": 12,
    "start_time": "2022-10-31T22:33:50.258Z"
   },
   {
    "duration": 33,
    "start_time": "2022-10-31T22:33:50.271Z"
   },
   {
    "duration": 26,
    "start_time": "2022-10-31T22:33:50.305Z"
   },
   {
    "duration": 394,
    "start_time": "2022-10-31T22:40:38.119Z"
   },
   {
    "duration": 357,
    "start_time": "2022-10-31T22:40:38.515Z"
   },
   {
    "duration": 22,
    "start_time": "2022-10-31T22:40:38.874Z"
   },
   {
    "duration": 14,
    "start_time": "2022-10-31T22:40:38.898Z"
   },
   {
    "duration": 29,
    "start_time": "2022-10-31T22:40:38.914Z"
   },
   {
    "duration": 490,
    "start_time": "2022-10-31T22:40:38.945Z"
   },
   {
    "duration": 0,
    "start_time": "2022-10-31T22:40:39.436Z"
   },
   {
    "duration": 357,
    "start_time": "2022-10-31T22:40:53.966Z"
   },
   {
    "duration": 17,
    "start_time": "2022-10-31T22:41:07.476Z"
   },
   {
    "duration": 343,
    "start_time": "2022-11-02T21:00:43.967Z"
   },
   {
    "duration": 182,
    "start_time": "2022-11-02T21:00:45.279Z"
   },
   {
    "duration": 337,
    "start_time": "2022-11-02T21:02:39.259Z"
   },
   {
    "duration": 6,
    "start_time": "2022-11-02T21:03:04.358Z"
   },
   {
    "duration": 9,
    "start_time": "2022-11-02T21:03:18.751Z"
   },
   {
    "duration": 6,
    "start_time": "2022-11-02T21:03:38.951Z"
   },
   {
    "duration": 11,
    "start_time": "2022-11-02T21:03:39.538Z"
   },
   {
    "duration": 6,
    "start_time": "2022-11-02T21:04:35.199Z"
   },
   {
    "duration": 9,
    "start_time": "2022-11-02T21:04:35.652Z"
   },
   {
    "duration": 6,
    "start_time": "2022-11-02T21:04:43.339Z"
   },
   {
    "duration": 9,
    "start_time": "2022-11-02T21:04:43.611Z"
   },
   {
    "duration": 10,
    "start_time": "2022-11-02T21:06:16.927Z"
   },
   {
    "duration": 11,
    "start_time": "2022-11-02T21:06:17.371Z"
   },
   {
    "duration": 94,
    "start_time": "2022-11-02T21:06:33.419Z"
   },
   {
    "duration": 9,
    "start_time": "2022-11-02T21:06:34.331Z"
   },
   {
    "duration": 9,
    "start_time": "2022-11-02T21:06:35.035Z"
   },
   {
    "duration": 18,
    "start_time": "2022-11-02T21:06:46.579Z"
   },
   {
    "duration": 18,
    "start_time": "2022-11-02T21:08:41.519Z"
   },
   {
    "duration": 6,
    "start_time": "2022-11-02T21:09:15.459Z"
   },
   {
    "duration": 2,
    "start_time": "2022-11-02T21:10:58.864Z"
   },
   {
    "duration": 84,
    "start_time": "2022-11-02T21:10:59.539Z"
   },
   {
    "duration": 10,
    "start_time": "2022-11-02T21:11:00.219Z"
   },
   {
    "duration": 9,
    "start_time": "2022-11-02T21:11:00.799Z"
   },
   {
    "duration": 15,
    "start_time": "2022-11-02T21:11:03.111Z"
   },
   {
    "duration": 12,
    "start_time": "2022-11-02T21:11:04.885Z"
   },
   {
    "duration": 15,
    "start_time": "2022-11-02T21:11:06.139Z"
   },
   {
    "duration": 16,
    "start_time": "2022-11-02T21:11:07.167Z"
   },
   {
    "duration": 8,
    "start_time": "2022-11-02T21:11:14.073Z"
   },
   {
    "duration": 1767,
    "start_time": "2022-11-02T21:38:19.796Z"
   },
   {
    "duration": 367,
    "start_time": "2022-11-02T21:38:49.532Z"
   },
   {
    "duration": 99,
    "start_time": "2022-11-02T21:38:49.902Z"
   },
   {
    "duration": 19,
    "start_time": "2022-11-02T21:38:50.002Z"
   },
   {
    "duration": 11,
    "start_time": "2022-11-02T21:38:50.023Z"
   },
   {
    "duration": 10,
    "start_time": "2022-11-02T21:38:50.036Z"
   },
   {
    "duration": 19,
    "start_time": "2022-11-02T21:38:50.048Z"
   },
   {
    "duration": 7,
    "start_time": "2022-11-02T21:38:50.069Z"
   },
   {
    "duration": 68,
    "start_time": "2022-11-02T22:14:58.939Z"
   },
   {
    "duration": 5,
    "start_time": "2022-11-02T22:15:03.947Z"
   },
   {
    "duration": 5,
    "start_time": "2022-11-02T22:15:35.357Z"
   },
   {
    "duration": 14,
    "start_time": "2022-11-02T22:17:17.576Z"
   },
   {
    "duration": 388,
    "start_time": "2022-11-02T22:17:29.913Z"
   },
   {
    "duration": 194,
    "start_time": "2022-11-02T22:17:30.302Z"
   },
   {
    "duration": 18,
    "start_time": "2022-11-02T22:17:30.497Z"
   },
   {
    "duration": 19,
    "start_time": "2022-11-02T22:17:30.517Z"
   },
   {
    "duration": 39,
    "start_time": "2022-11-02T22:17:30.538Z"
   },
   {
    "duration": 39,
    "start_time": "2022-11-02T22:17:30.579Z"
   },
   {
    "duration": 13,
    "start_time": "2022-11-02T22:17:30.620Z"
   },
   {
    "duration": 21,
    "start_time": "2022-11-02T22:17:30.635Z"
   },
   {
    "duration": 33,
    "start_time": "2022-11-02T22:17:30.658Z"
   },
   {
    "duration": 80,
    "start_time": "2022-11-02T22:20:39.449Z"
   },
   {
    "duration": 349,
    "start_time": "2022-11-02T22:20:52.743Z"
   },
   {
    "duration": 104,
    "start_time": "2022-11-02T22:20:53.094Z"
   },
   {
    "duration": 18,
    "start_time": "2022-11-02T22:20:53.199Z"
   },
   {
    "duration": 10,
    "start_time": "2022-11-02T22:20:53.219Z"
   },
   {
    "duration": 10,
    "start_time": "2022-11-02T22:20:53.230Z"
   },
   {
    "duration": 21,
    "start_time": "2022-11-02T22:20:53.242Z"
   },
   {
    "duration": 6,
    "start_time": "2022-11-02T22:20:53.265Z"
   },
   {
    "duration": 6,
    "start_time": "2022-11-02T22:20:53.273Z"
   },
   {
    "duration": 9,
    "start_time": "2022-11-02T22:20:53.280Z"
   },
   {
    "duration": 4,
    "start_time": "2022-11-02T22:25:56.219Z"
   },
   {
    "duration": 4,
    "start_time": "2022-11-02T22:26:14.145Z"
   },
   {
    "duration": 5,
    "start_time": "2022-11-02T22:35:46.579Z"
   },
   {
    "duration": 478,
    "start_time": "2022-11-02T22:35:58.309Z"
   },
   {
    "duration": 116,
    "start_time": "2022-11-02T22:36:41.298Z"
   },
   {
    "duration": 4,
    "start_time": "2022-11-02T22:36:47.349Z"
   },
   {
    "duration": 127,
    "start_time": "2022-11-02T22:36:51.367Z"
   },
   {
    "duration": 51,
    "start_time": "2022-11-04T16:08:26.413Z"
   },
   {
    "duration": 850,
    "start_time": "2022-11-04T16:08:35.932Z"
   },
   {
    "duration": 273,
    "start_time": "2022-11-04T16:08:36.786Z"
   },
   {
    "duration": 27,
    "start_time": "2022-11-04T16:08:37.062Z"
   },
   {
    "duration": 12,
    "start_time": "2022-11-04T16:08:37.092Z"
   },
   {
    "duration": 34,
    "start_time": "2022-11-04T16:08:37.106Z"
   },
   {
    "duration": 54,
    "start_time": "2022-11-04T16:08:37.142Z"
   },
   {
    "duration": 6,
    "start_time": "2022-11-04T16:08:37.198Z"
   },
   {
    "duration": 33,
    "start_time": "2022-11-04T16:08:37.206Z"
   },
   {
    "duration": 7,
    "start_time": "2022-11-04T16:08:37.241Z"
   },
   {
    "duration": 6,
    "start_time": "2022-11-04T16:08:37.251Z"
   },
   {
    "duration": 209,
    "start_time": "2022-11-04T16:08:37.259Z"
   },
   {
    "duration": 11,
    "start_time": "2022-11-04T16:08:37.470Z"
   },
   {
    "duration": 729,
    "start_time": "2022-11-04T16:09:20.604Z"
   },
   {
    "duration": 750,
    "start_time": "2022-11-04T16:09:29.705Z"
   },
   {
    "duration": 109,
    "start_time": "2022-11-04T16:09:30.457Z"
   },
   {
    "duration": 25,
    "start_time": "2022-11-04T16:09:30.568Z"
   },
   {
    "duration": 15,
    "start_time": "2022-11-04T16:09:30.595Z"
   },
   {
    "duration": 25,
    "start_time": "2022-11-04T16:09:30.633Z"
   },
   {
    "duration": 713,
    "start_time": "2022-11-04T16:09:30.659Z"
   },
   {
    "duration": 0,
    "start_time": "2022-11-04T16:09:31.375Z"
   },
   {
    "duration": 0,
    "start_time": "2022-11-04T16:09:31.376Z"
   },
   {
    "duration": 0,
    "start_time": "2022-11-04T16:09:31.382Z"
   },
   {
    "duration": 0,
    "start_time": "2022-11-04T16:09:31.383Z"
   },
   {
    "duration": 0,
    "start_time": "2022-11-04T16:09:31.385Z"
   },
   {
    "duration": 0,
    "start_time": "2022-11-04T16:09:31.387Z"
   },
   {
    "duration": 663,
    "start_time": "2022-11-04T16:10:03.885Z"
   },
   {
    "duration": 101,
    "start_time": "2022-11-04T16:10:04.551Z"
   },
   {
    "duration": 23,
    "start_time": "2022-11-04T16:10:04.654Z"
   },
   {
    "duration": 12,
    "start_time": "2022-11-04T16:10:04.680Z"
   },
   {
    "duration": 12,
    "start_time": "2022-11-04T16:10:04.695Z"
   },
   {
    "duration": 696,
    "start_time": "2022-11-04T16:10:04.732Z"
   },
   {
    "duration": 0,
    "start_time": "2022-11-04T16:10:05.431Z"
   },
   {
    "duration": 0,
    "start_time": "2022-11-04T16:10:05.433Z"
   },
   {
    "duration": 0,
    "start_time": "2022-11-04T16:10:05.434Z"
   },
   {
    "duration": 0,
    "start_time": "2022-11-04T16:10:05.436Z"
   },
   {
    "duration": 0,
    "start_time": "2022-11-04T16:10:05.437Z"
   },
   {
    "duration": 0,
    "start_time": "2022-11-04T16:10:05.438Z"
   },
   {
    "duration": 615,
    "start_time": "2022-11-04T16:11:03.443Z"
   },
   {
    "duration": 756,
    "start_time": "2022-11-04T16:11:25.743Z"
   },
   {
    "duration": 110,
    "start_time": "2022-11-04T16:11:26.501Z"
   },
   {
    "duration": 27,
    "start_time": "2022-11-04T16:11:26.612Z"
   },
   {
    "duration": 13,
    "start_time": "2022-11-04T16:11:26.643Z"
   },
   {
    "duration": 16,
    "start_time": "2022-11-04T16:11:26.658Z"
   },
   {
    "duration": 726,
    "start_time": "2022-11-04T16:11:26.676Z"
   },
   {
    "duration": 0,
    "start_time": "2022-11-04T16:11:27.404Z"
   },
   {
    "duration": 0,
    "start_time": "2022-11-04T16:11:27.405Z"
   },
   {
    "duration": 0,
    "start_time": "2022-11-04T16:11:27.406Z"
   },
   {
    "duration": 0,
    "start_time": "2022-11-04T16:11:27.408Z"
   },
   {
    "duration": 1,
    "start_time": "2022-11-04T16:11:27.412Z"
   },
   {
    "duration": 0,
    "start_time": "2022-11-04T16:11:27.414Z"
   },
   {
    "duration": 698,
    "start_time": "2022-11-04T16:11:49.280Z"
   },
   {
    "duration": 108,
    "start_time": "2022-11-04T16:11:49.980Z"
   },
   {
    "duration": 33,
    "start_time": "2022-11-04T16:11:50.090Z"
   },
   {
    "duration": 17,
    "start_time": "2022-11-04T16:11:50.126Z"
   },
   {
    "duration": 16,
    "start_time": "2022-11-04T16:11:50.154Z"
   },
   {
    "duration": 33,
    "start_time": "2022-11-04T16:11:50.172Z"
   },
   {
    "duration": 6,
    "start_time": "2022-11-04T16:11:50.207Z"
   },
   {
    "duration": 17,
    "start_time": "2022-11-04T16:11:50.232Z"
   },
   {
    "duration": 15,
    "start_time": "2022-11-04T16:11:50.251Z"
   },
   {
    "duration": 5,
    "start_time": "2022-11-04T16:11:50.268Z"
   },
   {
    "duration": 192,
    "start_time": "2022-11-04T16:11:50.275Z"
   },
   {
    "duration": 15,
    "start_time": "2022-11-04T16:11:50.468Z"
   },
   {
    "duration": 23,
    "start_time": "2022-11-04T16:45:41.000Z"
   },
   {
    "duration": 14,
    "start_time": "2022-11-04T16:47:04.154Z"
   },
   {
    "duration": 1273,
    "start_time": "2022-11-04T18:13:39.647Z"
   },
   {
    "duration": 188,
    "start_time": "2022-11-04T18:13:40.922Z"
   },
   {
    "duration": 39,
    "start_time": "2022-11-04T18:13:41.113Z"
   },
   {
    "duration": 15,
    "start_time": "2022-11-04T18:13:41.155Z"
   },
   {
    "duration": 13,
    "start_time": "2022-11-04T18:13:41.172Z"
   },
   {
    "duration": 67,
    "start_time": "2022-11-04T18:13:41.187Z"
   },
   {
    "duration": 6,
    "start_time": "2022-11-04T18:13:41.257Z"
   },
   {
    "duration": 6,
    "start_time": "2022-11-04T18:13:41.265Z"
   },
   {
    "duration": 7,
    "start_time": "2022-11-04T18:13:41.273Z"
   },
   {
    "duration": 6,
    "start_time": "2022-11-04T18:13:41.283Z"
   },
   {
    "duration": 11,
    "start_time": "2022-11-04T18:13:41.290Z"
   },
   {
    "duration": 32,
    "start_time": "2022-11-04T18:13:41.303Z"
   },
   {
    "duration": 401,
    "start_time": "2022-11-04T18:13:41.337Z"
   },
   {
    "duration": 165,
    "start_time": "2022-11-04T18:13:41.743Z"
   },
   {
    "duration": 33,
    "start_time": "2022-11-04T18:13:41.910Z"
   },
   {
    "duration": 318,
    "start_time": "2022-11-04T18:14:14.145Z"
   },
   {
    "duration": 459,
    "start_time": "2022-11-04T18:14:52.513Z"
   },
   {
    "duration": 352,
    "start_time": "2022-11-04T18:15:05.397Z"
   },
   {
    "duration": 359,
    "start_time": "2022-11-04T18:15:13.943Z"
   },
   {
    "duration": 481,
    "start_time": "2022-11-04T18:15:23.582Z"
   },
   {
    "duration": 360,
    "start_time": "2022-11-04T18:15:29.899Z"
   },
   {
    "duration": 3,
    "start_time": "2022-11-04T18:17:41.802Z"
   },
   {
    "duration": 1183,
    "start_time": "2022-11-04T18:17:51.311Z"
   },
   {
    "duration": 102,
    "start_time": "2022-11-04T18:17:52.496Z"
   },
   {
    "duration": 24,
    "start_time": "2022-11-04T18:17:52.600Z"
   },
   {
    "duration": 13,
    "start_time": "2022-11-04T18:17:52.627Z"
   },
   {
    "duration": 12,
    "start_time": "2022-11-04T18:17:52.642Z"
   },
   {
    "duration": 51,
    "start_time": "2022-11-04T18:17:52.656Z"
   },
   {
    "duration": 6,
    "start_time": "2022-11-04T18:17:52.731Z"
   },
   {
    "duration": 7,
    "start_time": "2022-11-04T18:17:52.738Z"
   },
   {
    "duration": 6,
    "start_time": "2022-11-04T18:17:52.747Z"
   },
   {
    "duration": 9,
    "start_time": "2022-11-04T18:17:52.755Z"
   },
   {
    "duration": 28,
    "start_time": "2022-11-04T18:17:52.767Z"
   },
   {
    "duration": 5,
    "start_time": "2022-11-04T18:17:52.797Z"
   },
   {
    "duration": 377,
    "start_time": "2022-11-04T18:17:52.804Z"
   },
   {
    "duration": 158,
    "start_time": "2022-11-04T18:17:53.184Z"
   },
   {
    "duration": 11,
    "start_time": "2022-11-04T18:17:53.344Z"
   },
   {
    "duration": 368,
    "start_time": "2022-11-04T18:20:00.532Z"
   },
   {
    "duration": 365,
    "start_time": "2022-11-04T18:20:15.128Z"
   },
   {
    "duration": 1145,
    "start_time": "2022-11-04T18:27:51.448Z"
   },
   {
    "duration": 1106,
    "start_time": "2022-11-04T18:27:52.594Z"
   },
   {
    "duration": 20,
    "start_time": "2022-11-04T18:27:53.701Z"
   },
   {
    "duration": 16,
    "start_time": "2022-11-04T18:27:53.723Z"
   },
   {
    "duration": 21,
    "start_time": "2022-11-04T18:27:53.741Z"
   },
   {
    "duration": 47,
    "start_time": "2022-11-04T18:27:53.764Z"
   },
   {
    "duration": 8,
    "start_time": "2022-11-04T18:27:53.813Z"
   },
   {
    "duration": 14,
    "start_time": "2022-11-04T18:27:53.823Z"
   },
   {
    "duration": 22,
    "start_time": "2022-11-04T18:27:53.838Z"
   },
   {
    "duration": 15,
    "start_time": "2022-11-04T18:27:53.862Z"
   },
   {
    "duration": 22,
    "start_time": "2022-11-04T18:27:53.878Z"
   },
   {
    "duration": 15,
    "start_time": "2022-11-04T18:27:53.902Z"
   },
   {
    "duration": 373,
    "start_time": "2022-11-04T18:27:53.919Z"
   },
   {
    "duration": 164,
    "start_time": "2022-11-04T18:27:54.294Z"
   },
   {
    "duration": 12,
    "start_time": "2022-11-04T18:27:54.460Z"
   },
   {
    "duration": 223,
    "start_time": "2022-11-04T18:41:12.581Z"
   },
   {
    "duration": 257,
    "start_time": "2022-11-04T18:41:43.201Z"
   },
   {
    "duration": 242,
    "start_time": "2022-11-04T18:42:00.282Z"
   },
   {
    "duration": 257,
    "start_time": "2022-11-04T18:42:08.001Z"
   },
   {
    "duration": 237,
    "start_time": "2022-11-04T18:42:20.641Z"
   },
   {
    "duration": 209,
    "start_time": "2022-11-04T18:42:29.003Z"
   },
   {
    "duration": 1180,
    "start_time": "2022-11-04T18:50:31.349Z"
   },
   {
    "duration": 135,
    "start_time": "2022-11-04T18:50:32.533Z"
   },
   {
    "duration": 22,
    "start_time": "2022-11-04T18:50:32.670Z"
   },
   {
    "duration": 12,
    "start_time": "2022-11-04T18:50:32.695Z"
   },
   {
    "duration": 31,
    "start_time": "2022-11-04T18:50:32.709Z"
   },
   {
    "duration": 34,
    "start_time": "2022-11-04T18:50:32.741Z"
   },
   {
    "duration": 5,
    "start_time": "2022-11-04T18:50:32.777Z"
   },
   {
    "duration": 9,
    "start_time": "2022-11-04T18:50:32.783Z"
   },
   {
    "duration": 13,
    "start_time": "2022-11-04T18:50:32.793Z"
   },
   {
    "duration": 26,
    "start_time": "2022-11-04T18:50:32.809Z"
   },
   {
    "duration": 16,
    "start_time": "2022-11-04T18:50:32.836Z"
   },
   {
    "duration": 3,
    "start_time": "2022-11-04T18:50:32.854Z"
   },
   {
    "duration": 382,
    "start_time": "2022-11-04T18:50:32.859Z"
   },
   {
    "duration": 222,
    "start_time": "2022-11-04T18:50:33.243Z"
   },
   {
    "duration": 1244,
    "start_time": "2022-11-04T18:50:33.467Z"
   },
   {
    "duration": 0,
    "start_time": "2022-11-04T18:50:34.713Z"
   },
   {
    "duration": 0,
    "start_time": "2022-11-04T18:50:34.714Z"
   },
   {
    "duration": 105,
    "start_time": "2022-11-04T18:51:56.490Z"
   },
   {
    "duration": 110,
    "start_time": "2022-11-04T18:52:53.842Z"
   },
   {
    "duration": 144,
    "start_time": "2022-11-04T18:53:33.835Z"
   },
   {
    "duration": 121,
    "start_time": "2022-11-04T18:54:30.521Z"
   },
   {
    "duration": 19,
    "start_time": "2022-11-04T18:54:40.682Z"
   },
   {
    "duration": 128,
    "start_time": "2022-11-04T18:55:09.602Z"
   },
   {
    "duration": 1196,
    "start_time": "2022-11-04T18:56:37.591Z"
   },
   {
    "duration": 103,
    "start_time": "2022-11-04T18:56:38.789Z"
   },
   {
    "duration": 21,
    "start_time": "2022-11-04T18:56:38.894Z"
   },
   {
    "duration": 15,
    "start_time": "2022-11-04T18:56:38.917Z"
   },
   {
    "duration": 11,
    "start_time": "2022-11-04T18:56:38.934Z"
   },
   {
    "duration": 30,
    "start_time": "2022-11-04T18:56:38.947Z"
   },
   {
    "duration": 4,
    "start_time": "2022-11-04T18:56:38.979Z"
   },
   {
    "duration": 11,
    "start_time": "2022-11-04T18:56:38.984Z"
   },
   {
    "duration": 37,
    "start_time": "2022-11-04T18:56:38.996Z"
   },
   {
    "duration": 5,
    "start_time": "2022-11-04T18:56:39.035Z"
   },
   {
    "duration": 21,
    "start_time": "2022-11-04T18:56:39.042Z"
   },
   {
    "duration": 3,
    "start_time": "2022-11-04T18:56:39.064Z"
   },
   {
    "duration": 374,
    "start_time": "2022-11-04T18:56:39.069Z"
   },
   {
    "duration": 220,
    "start_time": "2022-11-04T18:56:39.445Z"
   },
   {
    "duration": 128,
    "start_time": "2022-11-04T18:56:39.667Z"
   },
   {
    "duration": 176,
    "start_time": "2022-11-04T18:56:39.797Z"
   },
   {
    "duration": 167,
    "start_time": "2022-11-04T18:56:39.975Z"
   },
   {
    "duration": 10,
    "start_time": "2022-11-04T18:56:40.143Z"
   },
   {
    "duration": 110,
    "start_time": "2022-11-04T18:56:59.070Z"
   },
   {
    "duration": 173,
    "start_time": "2022-11-04T18:57:08.743Z"
   },
   {
    "duration": 1185,
    "start_time": "2022-11-04T19:03:03.129Z"
   },
   {
    "duration": 105,
    "start_time": "2022-11-04T19:03:04.316Z"
   },
   {
    "duration": 21,
    "start_time": "2022-11-04T19:03:04.423Z"
   },
   {
    "duration": 12,
    "start_time": "2022-11-04T19:03:04.445Z"
   },
   {
    "duration": 11,
    "start_time": "2022-11-04T19:03:04.459Z"
   },
   {
    "duration": 29,
    "start_time": "2022-11-04T19:03:04.472Z"
   },
   {
    "duration": 30,
    "start_time": "2022-11-04T19:03:04.503Z"
   },
   {
    "duration": 5,
    "start_time": "2022-11-04T19:03:04.535Z"
   },
   {
    "duration": 7,
    "start_time": "2022-11-04T19:03:04.542Z"
   },
   {
    "duration": 5,
    "start_time": "2022-11-04T19:03:04.550Z"
   },
   {
    "duration": 17,
    "start_time": "2022-11-04T19:03:04.557Z"
   },
   {
    "duration": 3,
    "start_time": "2022-11-04T19:03:04.575Z"
   },
   {
    "duration": 411,
    "start_time": "2022-11-04T19:03:04.580Z"
   },
   {
    "duration": 235,
    "start_time": "2022-11-04T19:03:04.994Z"
   },
   {
    "duration": 113,
    "start_time": "2022-11-04T19:03:05.232Z"
   },
   {
    "duration": 193,
    "start_time": "2022-11-04T19:03:05.347Z"
   },
   {
    "duration": 180,
    "start_time": "2022-11-04T19:03:05.542Z"
   },
   {
    "duration": 11,
    "start_time": "2022-11-04T19:03:05.724Z"
   },
   {
    "duration": 1207,
    "start_time": "2022-11-04T19:03:28.691Z"
   },
   {
    "duration": 98,
    "start_time": "2022-11-04T19:03:29.900Z"
   },
   {
    "duration": 23,
    "start_time": "2022-11-04T19:03:30.000Z"
   },
   {
    "duration": 32,
    "start_time": "2022-11-04T19:03:30.025Z"
   },
   {
    "duration": 23,
    "start_time": "2022-11-04T19:03:30.058Z"
   },
   {
    "duration": 35,
    "start_time": "2022-11-04T19:03:30.083Z"
   },
   {
    "duration": 4,
    "start_time": "2022-11-04T19:03:30.120Z"
   },
   {
    "duration": 18,
    "start_time": "2022-11-04T19:03:30.126Z"
   },
   {
    "duration": 6,
    "start_time": "2022-11-04T19:03:30.147Z"
   },
   {
    "duration": 7,
    "start_time": "2022-11-04T19:03:30.156Z"
   },
   {
    "duration": 22,
    "start_time": "2022-11-04T19:03:30.165Z"
   },
   {
    "duration": 5,
    "start_time": "2022-11-04T19:03:30.189Z"
   },
   {
    "duration": 398,
    "start_time": "2022-11-04T19:03:30.195Z"
   },
   {
    "duration": 248,
    "start_time": "2022-11-04T19:03:30.595Z"
   },
   {
    "duration": 120,
    "start_time": "2022-11-04T19:03:30.844Z"
   },
   {
    "duration": 205,
    "start_time": "2022-11-04T19:03:30.966Z"
   },
   {
    "duration": 179,
    "start_time": "2022-11-04T19:03:31.173Z"
   },
   {
    "duration": 10,
    "start_time": "2022-11-04T19:03:31.355Z"
   },
   {
    "duration": 46,
    "start_time": "2022-11-04T22:43:38.185Z"
   },
   {
    "duration": 6,
    "start_time": "2022-11-04T22:44:12.139Z"
   },
   {
    "duration": 1216,
    "start_time": "2022-11-04T22:44:20.849Z"
   },
   {
    "duration": 147,
    "start_time": "2022-11-04T22:44:22.067Z"
   },
   {
    "duration": 17,
    "start_time": "2022-11-04T22:44:22.216Z"
   },
   {
    "duration": 10,
    "start_time": "2022-11-04T22:44:22.235Z"
   },
   {
    "duration": 13,
    "start_time": "2022-11-04T22:44:22.246Z"
   },
   {
    "duration": 28,
    "start_time": "2022-11-04T22:44:22.260Z"
   },
   {
    "duration": 4,
    "start_time": "2022-11-04T22:44:22.289Z"
   },
   {
    "duration": 6,
    "start_time": "2022-11-04T22:44:22.294Z"
   },
   {
    "duration": 22,
    "start_time": "2022-11-04T22:44:22.301Z"
   },
   {
    "duration": 4,
    "start_time": "2022-11-04T22:44:22.325Z"
   },
   {
    "duration": 13,
    "start_time": "2022-11-04T22:44:22.331Z"
   },
   {
    "duration": 4,
    "start_time": "2022-11-04T22:44:22.345Z"
   },
   {
    "duration": 310,
    "start_time": "2022-11-04T22:44:22.351Z"
   },
   {
    "duration": 189,
    "start_time": "2022-11-04T22:44:22.662Z"
   },
   {
    "duration": 380,
    "start_time": "2022-11-04T22:44:22.852Z"
   },
   {
    "duration": 98,
    "start_time": "2022-11-04T22:44:23.233Z"
   },
   {
    "duration": 150,
    "start_time": "2022-11-04T22:44:23.333Z"
   },
   {
    "duration": 126,
    "start_time": "2022-11-04T22:44:23.485Z"
   },
   {
    "duration": 15,
    "start_time": "2022-11-04T22:44:23.613Z"
   },
   {
    "duration": 230,
    "start_time": "2022-11-04T22:44:47.385Z"
   },
   {
    "duration": 76,
    "start_time": "2022-11-04T22:45:02.899Z"
   },
   {
    "duration": 379,
    "start_time": "2022-11-04T22:47:51.244Z"
   },
   {
    "duration": 12,
    "start_time": "2022-11-04T22:50:58.275Z"
   },
   {
    "duration": 43,
    "start_time": "2022-11-04T22:51:18.597Z"
   },
   {
    "duration": 48,
    "start_time": "2022-11-04T22:51:24.624Z"
   },
   {
    "duration": 837,
    "start_time": "2022-11-04T22:51:29.680Z"
   },
   {
    "duration": 11,
    "start_time": "2022-11-04T22:51:46.385Z"
   },
   {
    "duration": 12,
    "start_time": "2022-11-04T22:52:00.178Z"
   },
   {
    "duration": 3,
    "start_time": "2022-11-04T22:55:15.848Z"
   },
   {
    "duration": 281,
    "start_time": "2022-11-04T22:55:16.676Z"
   },
   {
    "duration": 3,
    "start_time": "2022-11-04T22:55:38.284Z"
   },
   {
    "duration": 10,
    "start_time": "2022-11-04T22:55:39.536Z"
   },
   {
    "duration": 384,
    "start_time": "2022-11-04T22:55:46.617Z"
   },
   {
    "duration": 4,
    "start_time": "2022-11-04T22:55:58.977Z"
   },
   {
    "duration": 459,
    "start_time": "2022-11-04T22:55:59.529Z"
   },
   {
    "duration": 14,
    "start_time": "2022-11-04T22:58:55.553Z"
   },
   {
    "duration": 12,
    "start_time": "2022-11-04T23:01:24.674Z"
   },
   {
    "duration": 14,
    "start_time": "2022-11-04T23:01:32.522Z"
   },
   {
    "duration": 491,
    "start_time": "2022-11-04T23:01:33.821Z"
   },
   {
    "duration": 16,
    "start_time": "2022-11-04T23:04:09.332Z"
   },
   {
    "duration": 16,
    "start_time": "2022-11-04T23:04:16.161Z"
   },
   {
    "duration": 493,
    "start_time": "2022-11-04T23:04:38.273Z"
   },
   {
    "duration": 14,
    "start_time": "2022-11-04T23:06:57.954Z"
   },
   {
    "duration": 19,
    "start_time": "2022-11-04T23:07:08.440Z"
   },
   {
    "duration": 19,
    "start_time": "2022-11-04T23:08:15.834Z"
   },
   {
    "duration": 58390,
    "start_time": "2022-11-04T23:09:34.267Z"
   },
   {
    "duration": 47,
    "start_time": "2022-11-04T23:21:33.786Z"
   },
   {
    "duration": 17,
    "start_time": "2022-11-04T23:21:47.059Z"
   },
   {
    "duration": 42,
    "start_time": "2022-11-04T23:21:57.919Z"
   },
   {
    "duration": 1114,
    "start_time": "2022-11-04T23:24:36.219Z"
   },
   {
    "duration": 65,
    "start_time": "2022-11-04T23:24:37.335Z"
   },
   {
    "duration": 19,
    "start_time": "2022-11-04T23:24:37.401Z"
   },
   {
    "duration": 11,
    "start_time": "2022-11-04T23:24:37.421Z"
   },
   {
    "duration": 9,
    "start_time": "2022-11-04T23:24:37.434Z"
   },
   {
    "duration": 33,
    "start_time": "2022-11-04T23:24:37.445Z"
   },
   {
    "duration": 4,
    "start_time": "2022-11-04T23:24:37.480Z"
   },
   {
    "duration": 8,
    "start_time": "2022-11-04T23:24:37.486Z"
   },
   {
    "duration": 33,
    "start_time": "2022-11-04T23:24:37.496Z"
   },
   {
    "duration": 10,
    "start_time": "2022-11-04T23:24:37.531Z"
   },
   {
    "duration": 20,
    "start_time": "2022-11-04T23:24:37.543Z"
   },
   {
    "duration": 3,
    "start_time": "2022-11-04T23:24:37.564Z"
   },
   {
    "duration": 311,
    "start_time": "2022-11-04T23:24:37.568Z"
   },
   {
    "duration": 190,
    "start_time": "2022-11-04T23:24:37.881Z"
   },
   {
    "duration": 3,
    "start_time": "2022-11-04T23:24:38.073Z"
   },
   {
    "duration": 409,
    "start_time": "2022-11-04T23:24:38.078Z"
   },
   {
    "duration": 86,
    "start_time": "2022-11-04T23:24:38.489Z"
   },
   {
    "duration": 152,
    "start_time": "2022-11-04T23:24:38.577Z"
   },
   {
    "duration": 151,
    "start_time": "2022-11-04T23:24:38.731Z"
   },
   {
    "duration": 17,
    "start_time": "2022-11-04T23:24:38.884Z"
   },
   {
    "duration": 28,
    "start_time": "2022-11-04T23:24:38.902Z"
   },
   {
    "duration": 19,
    "start_time": "2022-11-04T23:24:38.932Z"
   },
   {
    "duration": 632,
    "start_time": "2022-11-04T23:24:38.953Z"
   },
   {
    "duration": 16,
    "start_time": "2022-11-04T23:24:39.587Z"
   },
   {
    "duration": 1187,
    "start_time": "2022-11-04T23:32:30.706Z"
   },
   {
    "duration": 72,
    "start_time": "2022-11-04T23:32:31.895Z"
   },
   {
    "duration": 17,
    "start_time": "2022-11-04T23:32:31.969Z"
   },
   {
    "duration": 10,
    "start_time": "2022-11-04T23:32:31.988Z"
   },
   {
    "duration": 10,
    "start_time": "2022-11-04T23:32:32.000Z"
   },
   {
    "duration": 39,
    "start_time": "2022-11-04T23:32:32.011Z"
   },
   {
    "duration": 5,
    "start_time": "2022-11-04T23:32:32.052Z"
   },
   {
    "duration": 16,
    "start_time": "2022-11-04T23:32:32.059Z"
   },
   {
    "duration": 12,
    "start_time": "2022-11-04T23:32:32.077Z"
   },
   {
    "duration": 7,
    "start_time": "2022-11-04T23:32:32.091Z"
   },
   {
    "duration": 22,
    "start_time": "2022-11-04T23:32:32.100Z"
   },
   {
    "duration": 4,
    "start_time": "2022-11-04T23:32:32.123Z"
   },
   {
    "duration": 320,
    "start_time": "2022-11-04T23:32:32.129Z"
   },
   {
    "duration": 212,
    "start_time": "2022-11-04T23:32:32.452Z"
   },
   {
    "duration": 4,
    "start_time": "2022-11-04T23:32:32.665Z"
   },
   {
    "duration": 438,
    "start_time": "2022-11-04T23:32:32.670Z"
   },
   {
    "duration": 84,
    "start_time": "2022-11-04T23:32:33.110Z"
   },
   {
    "duration": 166,
    "start_time": "2022-11-04T23:32:33.196Z"
   },
   {
    "duration": 142,
    "start_time": "2022-11-04T23:32:33.363Z"
   },
   {
    "duration": 20,
    "start_time": "2022-11-04T23:32:33.506Z"
   },
   {
    "duration": 12,
    "start_time": "2022-11-04T23:32:33.528Z"
   },
   {
    "duration": 12,
    "start_time": "2022-11-04T23:32:33.542Z"
   },
   {
    "duration": 12,
    "start_time": "2022-11-04T23:32:33.555Z"
   },
   {
    "duration": 15,
    "start_time": "2022-11-04T23:32:33.569Z"
   },
   {
    "duration": 607,
    "start_time": "2022-11-04T23:32:33.622Z"
   },
   {
    "duration": 18,
    "start_time": "2022-11-04T23:32:34.231Z"
   },
   {
    "duration": 40010,
    "start_time": "2022-11-04T23:32:34.251Z"
   },
   {
    "duration": 0,
    "start_time": "2022-11-04T23:33:14.263Z"
   },
   {
    "duration": 0,
    "start_time": "2022-11-04T23:33:14.265Z"
   },
   {
    "duration": 14,
    "start_time": "2022-11-04T23:33:16.798Z"
   },
   {
    "duration": 14,
    "start_time": "2022-11-04T23:33:21.203Z"
   },
   {
    "duration": 282380,
    "start_time": "2022-11-04T23:33:57.067Z"
   },
   {
    "duration": 53622,
    "start_time": "2022-11-04T23:39:01.738Z"
   },
   {
    "duration": 49308,
    "start_time": "2022-11-04T23:41:25.938Z"
   },
   {
    "duration": 3899,
    "start_time": "2022-11-04T23:43:30.093Z"
   },
   {
    "duration": 1277,
    "start_time": "2022-11-05T21:38:48.781Z"
   },
   {
    "duration": 150,
    "start_time": "2022-11-05T21:38:50.061Z"
   },
   {
    "duration": 18,
    "start_time": "2022-11-05T21:38:50.213Z"
   },
   {
    "duration": 12,
    "start_time": "2022-11-05T21:38:50.232Z"
   },
   {
    "duration": 15,
    "start_time": "2022-11-05T21:38:50.245Z"
   },
   {
    "duration": 34,
    "start_time": "2022-11-05T21:38:50.262Z"
   },
   {
    "duration": 4,
    "start_time": "2022-11-05T21:38:50.297Z"
   },
   {
    "duration": 5,
    "start_time": "2022-11-05T21:38:50.302Z"
   },
   {
    "duration": 7,
    "start_time": "2022-11-05T21:38:50.308Z"
   },
   {
    "duration": 4,
    "start_time": "2022-11-05T21:38:50.317Z"
   },
   {
    "duration": 13,
    "start_time": "2022-11-05T21:38:50.323Z"
   },
   {
    "duration": 3,
    "start_time": "2022-11-05T21:38:50.337Z"
   },
   {
    "duration": 340,
    "start_time": "2022-11-05T21:38:50.341Z"
   },
   {
    "duration": 201,
    "start_time": "2022-11-05T21:38:50.683Z"
   },
   {
    "duration": 3,
    "start_time": "2022-11-05T21:38:50.886Z"
   },
   {
    "duration": 408,
    "start_time": "2022-11-05T21:38:50.890Z"
   },
   {
    "duration": 89,
    "start_time": "2022-11-05T21:38:51.300Z"
   },
   {
    "duration": 158,
    "start_time": "2022-11-05T21:38:51.391Z"
   },
   {
    "duration": 159,
    "start_time": "2022-11-05T21:38:51.551Z"
   },
   {
    "duration": 13,
    "start_time": "2022-11-05T21:38:51.712Z"
   },
   {
    "duration": 11,
    "start_time": "2022-11-05T21:38:51.726Z"
   },
   {
    "duration": 12,
    "start_time": "2022-11-05T21:38:51.739Z"
   },
   {
    "duration": 28,
    "start_time": "2022-11-05T21:38:51.752Z"
   },
   {
    "duration": 14,
    "start_time": "2022-11-05T21:38:51.782Z"
   },
   {
    "duration": 635,
    "start_time": "2022-11-05T21:38:51.798Z"
   },
   {
    "duration": 20,
    "start_time": "2022-11-05T21:38:52.436Z"
   },
   {
    "duration": 157634,
    "start_time": "2022-11-05T21:38:52.458Z"
   },
   {
    "duration": 0,
    "start_time": "2022-11-05T21:41:30.094Z"
   },
   {
    "duration": 0,
    "start_time": "2022-11-05T21:41:30.095Z"
   },
   {
    "duration": 4318,
    "start_time": "2022-11-05T21:41:44.370Z"
   },
   {
    "duration": 9,
    "start_time": "2022-11-05T21:42:28.321Z"
   },
   {
    "duration": 3,
    "start_time": "2022-11-05T21:49:08.903Z"
   },
   {
    "duration": 4,
    "start_time": "2022-11-05T21:54:14.000Z"
   },
   {
    "duration": 8,
    "start_time": "2022-11-05T21:55:03.408Z"
   },
   {
    "duration": 231,
    "start_time": "2022-11-05T21:55:34.729Z"
   },
   {
    "duration": 16,
    "start_time": "2022-11-05T21:55:42.161Z"
   },
   {
    "duration": 5,
    "start_time": "2022-11-05T21:55:46.529Z"
   },
   {
    "duration": 9,
    "start_time": "2022-11-05T21:55:47.592Z"
   },
   {
    "duration": 8,
    "start_time": "2022-11-05T21:56:24.338Z"
   },
   {
    "duration": 4,
    "start_time": "2022-11-05T21:56:45.610Z"
   },
   {
    "duration": 45,
    "start_time": "2022-11-05T21:56:53.455Z"
   },
   {
    "duration": 14,
    "start_time": "2022-11-05T21:58:07.742Z"
   },
   {
    "duration": 26,
    "start_time": "2022-11-05T21:59:24.196Z"
   },
   {
    "duration": 6,
    "start_time": "2022-11-05T21:59:25.991Z"
   },
   {
    "duration": 7,
    "start_time": "2022-11-05T21:59:28.439Z"
   },
   {
    "duration": 17,
    "start_time": "2022-11-05T21:59:29.562Z"
   },
   {
    "duration": 5,
    "start_time": "2022-11-05T22:00:21.394Z"
   },
   {
    "duration": 12,
    "start_time": "2022-11-05T22:00:35.042Z"
   },
   {
    "duration": 6,
    "start_time": "2022-11-05T22:00:41.882Z"
   },
   {
    "duration": 7,
    "start_time": "2022-11-05T22:00:42.821Z"
   },
   {
    "duration": 17,
    "start_time": "2022-11-05T22:00:43.355Z"
   },
   {
    "duration": 12,
    "start_time": "2022-11-05T22:00:58.808Z"
   },
   {
    "duration": 5,
    "start_time": "2022-11-05T22:01:11.553Z"
   },
   {
    "duration": 8,
    "start_time": "2022-11-05T22:01:13.178Z"
   },
   {
    "duration": 18,
    "start_time": "2022-11-05T22:01:13.762Z"
   },
   {
    "duration": 14,
    "start_time": "2022-11-05T22:01:29.330Z"
   },
   {
    "duration": 1380,
    "start_time": "2022-11-05T22:01:58.462Z"
   },
   {
    "duration": 113,
    "start_time": "2022-11-05T22:01:59.844Z"
   },
   {
    "duration": 21,
    "start_time": "2022-11-05T22:01:59.958Z"
   },
   {
    "duration": 14,
    "start_time": "2022-11-05T22:01:59.981Z"
   },
   {
    "duration": 11,
    "start_time": "2022-11-05T22:01:59.997Z"
   },
   {
    "duration": 31,
    "start_time": "2022-11-05T22:02:00.009Z"
   },
   {
    "duration": 4,
    "start_time": "2022-11-05T22:02:00.041Z"
   },
   {
    "duration": 36,
    "start_time": "2022-11-05T22:02:00.047Z"
   },
   {
    "duration": 10,
    "start_time": "2022-11-05T22:02:00.085Z"
   },
   {
    "duration": 15,
    "start_time": "2022-11-05T22:02:00.096Z"
   },
   {
    "duration": 20,
    "start_time": "2022-11-05T22:02:00.112Z"
   },
   {
    "duration": 4,
    "start_time": "2022-11-05T22:02:00.133Z"
   },
   {
    "duration": 356,
    "start_time": "2022-11-05T22:02:00.138Z"
   },
   {
    "duration": 228,
    "start_time": "2022-11-05T22:02:00.497Z"
   },
   {
    "duration": 3,
    "start_time": "2022-11-05T22:02:00.727Z"
   },
   {
    "duration": 449,
    "start_time": "2022-11-05T22:02:00.732Z"
   },
   {
    "duration": 175,
    "start_time": "2022-11-05T22:02:01.183Z"
   },
   {
    "duration": 168,
    "start_time": "2022-11-05T22:02:01.360Z"
   },
   {
    "duration": 159,
    "start_time": "2022-11-05T22:02:01.529Z"
   },
   {
    "duration": 15,
    "start_time": "2022-11-05T22:02:01.690Z"
   },
   {
    "duration": 14,
    "start_time": "2022-11-05T22:02:01.707Z"
   },
   {
    "duration": 12,
    "start_time": "2022-11-05T22:02:01.723Z"
   },
   {
    "duration": 20,
    "start_time": "2022-11-05T22:02:01.736Z"
   },
   {
    "duration": 18,
    "start_time": "2022-11-05T22:02:01.781Z"
   },
   {
    "duration": 567,
    "start_time": "2022-11-05T22:02:01.801Z"
   },
   {
    "duration": 25,
    "start_time": "2022-11-05T22:02:02.369Z"
   },
   {
    "duration": 4276,
    "start_time": "2022-11-05T22:02:02.396Z"
   },
   {
    "duration": 9,
    "start_time": "2022-11-05T22:02:06.674Z"
   },
   {
    "duration": 8,
    "start_time": "2022-11-05T22:02:06.685Z"
   },
   {
    "duration": 17,
    "start_time": "2022-11-05T22:02:06.695Z"
   },
   {
    "duration": 6,
    "start_time": "2022-11-05T22:02:06.713Z"
   },
   {
    "duration": 9,
    "start_time": "2022-11-05T22:02:06.720Z"
   },
   {
    "duration": 135,
    "start_time": "2022-11-05T22:02:06.730Z"
   },
   {
    "duration": 4,
    "start_time": "2022-11-05T22:02:18.804Z"
   },
   {
    "duration": 12,
    "start_time": "2022-11-05T22:02:19.235Z"
   },
   {
    "duration": 5,
    "start_time": "2022-11-05T22:02:21.063Z"
   },
   {
    "duration": 7,
    "start_time": "2022-11-05T22:02:21.480Z"
   },
   {
    "duration": 20,
    "start_time": "2022-11-05T22:02:21.963Z"
   },
   {
    "duration": 3,
    "start_time": "2022-11-05T22:08:51.733Z"
   },
   {
    "duration": 7,
    "start_time": "2022-11-05T22:13:21.362Z"
   },
   {
    "duration": 7,
    "start_time": "2022-11-05T22:15:03.322Z"
   },
   {
    "duration": 739,
    "start_time": "2022-11-05T22:15:58.243Z"
   },
   {
    "duration": 11,
    "start_time": "2022-11-05T22:16:12.639Z"
   },
   {
    "duration": 85,
    "start_time": "2022-11-05T22:16:24.241Z"
   },
   {
    "duration": 22,
    "start_time": "2022-11-05T22:16:24.773Z"
   },
   {
    "duration": 13,
    "start_time": "2022-11-05T22:16:25.122Z"
   },
   {
    "duration": 13,
    "start_time": "2022-11-05T22:16:25.309Z"
   },
   {
    "duration": 34,
    "start_time": "2022-11-05T22:16:25.671Z"
   },
   {
    "duration": 5,
    "start_time": "2022-11-05T22:16:26.075Z"
   },
   {
    "duration": 4,
    "start_time": "2022-11-05T22:16:26.575Z"
   },
   {
    "duration": 6,
    "start_time": "2022-11-05T22:16:27.314Z"
   },
   {
    "duration": 5,
    "start_time": "2022-11-05T22:16:33.434Z"
   },
   {
    "duration": 13,
    "start_time": "2022-11-05T22:16:33.783Z"
   },
   {
    "duration": 3,
    "start_time": "2022-11-05T22:16:37.611Z"
   },
   {
    "duration": 305,
    "start_time": "2022-11-05T22:16:37.630Z"
   },
   {
    "duration": 196,
    "start_time": "2022-11-05T22:16:37.937Z"
   },
   {
    "duration": 3,
    "start_time": "2022-11-05T22:16:38.135Z"
   },
   {
    "duration": 9,
    "start_time": "2022-11-05T22:16:58.010Z"
   },
   {
    "duration": 5,
    "start_time": "2022-11-05T22:17:11.363Z"
   },
   {
    "duration": 4,
    "start_time": "2022-11-05T22:17:25.603Z"
   },
   {
    "duration": 12,
    "start_time": "2022-11-05T22:17:28.752Z"
   },
   {
    "duration": 6,
    "start_time": "2022-11-05T22:17:50.591Z"
   },
   {
    "duration": 5,
    "start_time": "2022-11-05T22:18:16.162Z"
   },
   {
    "duration": 11,
    "start_time": "2022-11-05T22:18:18.353Z"
   },
   {
    "duration": 5,
    "start_time": "2022-11-05T22:19:12.182Z"
   },
   {
    "duration": 6,
    "start_time": "2022-11-05T22:23:16.009Z"
   },
   {
    "duration": 11,
    "start_time": "2022-11-05T22:23:21.114Z"
   },
   {
    "duration": 5,
    "start_time": "2022-11-05T22:23:22.159Z"
   },
   {
    "duration": 4,
    "start_time": "2022-11-05T22:24:35.401Z"
   },
   {
    "duration": 58,
    "start_time": "2022-11-05T22:24:36.002Z"
   },
   {
    "duration": 19,
    "start_time": "2022-11-05T22:24:37.214Z"
   },
   {
    "duration": 10,
    "start_time": "2022-11-05T22:24:38.462Z"
   },
   {
    "duration": 11,
    "start_time": "2022-11-05T22:24:38.794Z"
   },
   {
    "duration": 187,
    "start_time": "2022-11-05T22:24:40.490Z"
   },
   {
    "duration": 26,
    "start_time": "2022-11-05T22:24:56.242Z"
   },
   {
    "duration": 576,
    "start_time": "2022-11-05T22:25:13.450Z"
   },
   {
    "duration": 371,
    "start_time": "2022-11-05T22:25:22.822Z"
   },
   {
    "duration": 352,
    "start_time": "2022-11-05T22:25:30.723Z"
   },
   {
    "duration": 341,
    "start_time": "2022-11-05T22:25:39.490Z"
   },
   {
    "duration": 63,
    "start_time": "2022-11-05T22:25:43.530Z"
   },
   {
    "duration": 18,
    "start_time": "2022-11-05T22:25:45.114Z"
   },
   {
    "duration": 11,
    "start_time": "2022-11-05T22:25:48.458Z"
   },
   {
    "duration": 12,
    "start_time": "2022-11-05T22:25:49.542Z"
   },
   {
    "duration": 30,
    "start_time": "2022-11-05T22:25:56.322Z"
   },
   {
    "duration": 77,
    "start_time": "2022-11-05T22:26:22.307Z"
   },
   {
    "duration": 19,
    "start_time": "2022-11-05T22:26:23.435Z"
   },
   {
    "duration": 11,
    "start_time": "2022-11-05T22:26:24.485Z"
   },
   {
    "duration": 10,
    "start_time": "2022-11-05T22:26:24.955Z"
   },
   {
    "duration": 35,
    "start_time": "2022-11-05T22:26:25.702Z"
   },
   {
    "duration": 4,
    "start_time": "2022-11-05T22:26:41.802Z"
   },
   {
    "duration": 75,
    "start_time": "2022-11-05T22:26:45.303Z"
   },
   {
    "duration": 23,
    "start_time": "2022-11-05T22:26:46.554Z"
   },
   {
    "duration": 11,
    "start_time": "2022-11-05T22:26:47.530Z"
   },
   {
    "duration": 13,
    "start_time": "2022-11-05T22:26:47.914Z"
   },
   {
    "duration": 38,
    "start_time": "2022-11-05T22:26:48.682Z"
   },
   {
    "duration": 4,
    "start_time": "2022-11-05T22:27:44.473Z"
   },
   {
    "duration": 17,
    "start_time": "2022-11-05T22:27:45.270Z"
   },
   {
    "duration": 416,
    "start_time": "2022-11-05T22:28:16.843Z"
   },
   {
    "duration": 4,
    "start_time": "2022-11-05T22:28:21.181Z"
   },
   {
    "duration": 72,
    "start_time": "2022-11-05T22:28:21.615Z"
   },
   {
    "duration": 23,
    "start_time": "2022-11-05T22:28:22.274Z"
   },
   {
    "duration": 15,
    "start_time": "2022-11-05T22:28:22.990Z"
   },
   {
    "duration": 14,
    "start_time": "2022-11-05T22:28:23.454Z"
   },
   {
    "duration": 39,
    "start_time": "2022-11-05T22:28:23.842Z"
   },
   {
    "duration": 5,
    "start_time": "2022-11-05T22:28:25.090Z"
   },
   {
    "duration": 4,
    "start_time": "2022-11-05T22:28:26.015Z"
   },
   {
    "duration": 5,
    "start_time": "2022-11-05T22:28:26.254Z"
   },
   {
    "duration": 5,
    "start_time": "2022-11-05T22:28:26.439Z"
   },
   {
    "duration": 12,
    "start_time": "2022-11-05T22:28:27.303Z"
   },
   {
    "duration": 3,
    "start_time": "2022-11-05T22:28:27.694Z"
   },
   {
    "duration": 315,
    "start_time": "2022-11-05T22:28:28.175Z"
   },
   {
    "duration": 201,
    "start_time": "2022-11-05T22:28:28.492Z"
   },
   {
    "duration": 3,
    "start_time": "2022-11-05T22:28:28.695Z"
   },
   {
    "duration": 441,
    "start_time": "2022-11-05T22:28:28.701Z"
   },
   {
    "duration": 103,
    "start_time": "2022-11-05T22:28:29.144Z"
   },
   {
    "duration": 149,
    "start_time": "2022-11-05T22:28:30.082Z"
   },
   {
    "duration": 126,
    "start_time": "2022-11-05T22:28:30.954Z"
   },
   {
    "duration": 14,
    "start_time": "2022-11-05T22:28:33.482Z"
   },
   {
    "duration": 13,
    "start_time": "2022-11-05T22:28:36.694Z"
   },
   {
    "duration": 12,
    "start_time": "2022-11-05T22:28:39.514Z"
   },
   {
    "duration": 12,
    "start_time": "2022-11-05T22:28:41.067Z"
   },
   {
    "duration": 19,
    "start_time": "2022-11-05T22:28:42.922Z"
   },
   {
    "duration": 680,
    "start_time": "2022-11-05T22:28:43.223Z"
   },
   {
    "duration": 18,
    "start_time": "2022-11-05T22:28:44.761Z"
   },
   {
    "duration": 4174,
    "start_time": "2022-11-05T22:28:45.762Z"
   },
   {
    "duration": 10,
    "start_time": "2022-11-05T22:28:49.938Z"
   },
   {
    "duration": 3,
    "start_time": "2022-11-05T22:28:59.241Z"
   },
   {
    "duration": 16,
    "start_time": "2022-11-05T22:29:01.594Z"
   },
   {
    "duration": 7,
    "start_time": "2022-11-05T22:29:10.822Z"
   },
   {
    "duration": 15,
    "start_time": "2022-11-05T22:29:12.322Z"
   },
   {
    "duration": 6,
    "start_time": "2022-11-05T22:29:32.322Z"
   },
   {
    "duration": 5,
    "start_time": "2022-11-05T22:30:22.082Z"
   },
   {
    "duration": 12,
    "start_time": "2022-11-05T22:30:22.640Z"
   },
   {
    "duration": 46,
    "start_time": "2022-11-05T22:32:10.401Z"
   },
   {
    "duration": 8,
    "start_time": "2022-11-05T22:32:15.833Z"
   },
   {
    "duration": 11,
    "start_time": "2022-11-05T22:32:16.822Z"
   },
   {
    "duration": 5,
    "start_time": "2022-11-05T22:32:24.455Z"
   },
   {
    "duration": 10,
    "start_time": "2022-11-05T22:40:54.562Z"
   },
   {
    "duration": 14,
    "start_time": "2022-11-05T22:41:47.962Z"
   },
   {
    "duration": 6,
    "start_time": "2022-11-05T22:42:25.442Z"
   },
   {
    "duration": 12,
    "start_time": "2022-11-05T22:42:26.174Z"
   },
   {
    "duration": 16,
    "start_time": "2022-11-05T22:42:34.403Z"
   },
   {
    "duration": 14,
    "start_time": "2022-11-05T22:42:48.142Z"
   },
   {
    "duration": 19,
    "start_time": "2022-11-05T22:42:58.444Z"
   },
   {
    "duration": 21,
    "start_time": "2022-11-05T22:43:46.141Z"
   },
   {
    "duration": 17,
    "start_time": "2022-11-05T22:44:50.402Z"
   },
   {
    "duration": 15,
    "start_time": "2022-11-05T22:45:11.021Z"
   },
   {
    "duration": 23,
    "start_time": "2022-11-05T22:45:36.943Z"
   },
   {
    "duration": 20,
    "start_time": "2022-11-05T22:45:45.214Z"
   },
   {
    "duration": 17,
    "start_time": "2022-11-05T22:46:24.801Z"
   },
   {
    "duration": 17,
    "start_time": "2022-11-05T22:47:16.542Z"
   },
   {
    "duration": 21,
    "start_time": "2022-11-05T22:47:39.902Z"
   },
   {
    "duration": 19,
    "start_time": "2022-11-05T22:48:12.642Z"
   },
   {
    "duration": 24,
    "start_time": "2022-11-05T22:48:24.801Z"
   },
   {
    "duration": 21,
    "start_time": "2022-11-05T22:48:50.781Z"
   },
   {
    "duration": 17,
    "start_time": "2022-11-05T22:49:12.952Z"
   },
   {
    "duration": 5,
    "start_time": "2022-11-05T22:50:04.190Z"
   },
   {
    "duration": 17,
    "start_time": "2022-11-05T22:50:08.154Z"
   },
   {
    "duration": 5,
    "start_time": "2022-11-05T22:50:30.244Z"
   },
   {
    "duration": 4,
    "start_time": "2022-11-05T22:50:37.603Z"
   },
   {
    "duration": 6,
    "start_time": "2022-11-05T22:50:38.314Z"
   },
   {
    "duration": 231,
    "start_time": "2022-11-05T22:50:55.522Z"
   },
   {
    "duration": 8,
    "start_time": "2022-11-05T22:51:36.994Z"
   },
   {
    "duration": 285,
    "start_time": "2022-11-05T22:51:37.561Z"
   },
   {
    "duration": 17,
    "start_time": "2022-11-05T22:59:18.241Z"
   },
   {
    "duration": 52,
    "start_time": "2022-11-05T22:59:26.961Z"
   },
   {
    "duration": 30,
    "start_time": "2022-11-05T22:59:50.561Z"
   },
   {
    "duration": 50,
    "start_time": "2022-11-05T23:01:55.173Z"
   },
   {
    "duration": 202,
    "start_time": "2022-11-05T23:02:02.401Z"
   },
   {
    "duration": 13,
    "start_time": "2022-11-05T23:02:35.962Z"
   },
   {
    "duration": 1445,
    "start_time": "2022-11-05T23:05:56.323Z"
   },
   {
    "duration": 27,
    "start_time": "2022-11-05T23:09:28.161Z"
   },
   {
    "duration": 14,
    "start_time": "2022-11-05T23:09:37.130Z"
   },
   {
    "duration": 15,
    "start_time": "2022-11-05T23:09:47.762Z"
   },
   {
    "duration": 14,
    "start_time": "2022-11-05T23:10:06.794Z"
   },
   {
    "duration": 30,
    "start_time": "2022-11-05T23:10:35.121Z"
   },
   {
    "duration": 5,
    "start_time": "2022-11-05T23:10:55.201Z"
   },
   {
    "duration": 23,
    "start_time": "2022-11-05T23:10:59.074Z"
   },
   {
    "duration": 15,
    "start_time": "2022-11-05T23:11:32.902Z"
   },
   {
    "duration": 22,
    "start_time": "2022-11-05T23:11:48.743Z"
   },
   {
    "duration": 5,
    "start_time": "2022-11-05T23:11:53.527Z"
   },
   {
    "duration": 19,
    "start_time": "2022-11-05T23:11:57.902Z"
   },
   {
    "duration": 8,
    "start_time": "2022-11-05T23:13:10.802Z"
   },
   {
    "duration": 5,
    "start_time": "2022-11-05T23:13:38.581Z"
   },
   {
    "duration": 704,
    "start_time": "2022-11-05T23:13:56.961Z"
   },
   {
    "duration": 6,
    "start_time": "2022-11-05T23:14:07.802Z"
   },
   {
    "duration": 16,
    "start_time": "2022-11-05T23:15:41.281Z"
   },
   {
    "duration": 25,
    "start_time": "2022-11-05T23:16:05.282Z"
   },
   {
    "duration": 27,
    "start_time": "2022-11-05T23:16:17.522Z"
   },
   {
    "duration": 10,
    "start_time": "2022-11-05T23:19:33.901Z"
   },
   {
    "duration": 25,
    "start_time": "2022-11-05T23:19:49.222Z"
   },
   {
    "duration": 26,
    "start_time": "2022-11-05T23:22:32.783Z"
   },
   {
    "duration": 12,
    "start_time": "2022-11-05T23:23:01.404Z"
   },
   {
    "duration": 184931,
    "start_time": "2022-11-05T23:23:04.042Z"
   },
   {
    "duration": 17,
    "start_time": "2022-11-05T23:26:36.591Z"
   },
   {
    "duration": 19,
    "start_time": "2022-11-05T23:26:53.542Z"
   },
   {
    "duration": 13,
    "start_time": "2022-11-05T23:27:53.901Z"
   },
   {
    "duration": 15,
    "start_time": "2022-11-05T23:28:56.482Z"
   },
   {
    "duration": 37,
    "start_time": "2022-11-05T23:35:09.014Z"
   },
   {
    "duration": 38,
    "start_time": "2022-11-05T23:35:24.316Z"
   },
   {
    "duration": 27,
    "start_time": "2022-11-05T23:35:37.802Z"
   },
   {
    "duration": 39,
    "start_time": "2022-11-05T23:35:55.183Z"
   },
   {
    "duration": 34,
    "start_time": "2022-11-05T23:36:14.262Z"
   },
   {
    "duration": 25,
    "start_time": "2022-11-05T23:36:24.504Z"
   },
   {
    "duration": 29,
    "start_time": "2022-11-05T23:37:08.734Z"
   },
   {
    "duration": 23,
    "start_time": "2022-11-05T23:37:28.473Z"
   },
   {
    "duration": 28,
    "start_time": "2022-11-05T23:37:35.542Z"
   },
   {
    "duration": 25,
    "start_time": "2022-11-05T23:37:51.742Z"
   },
   {
    "duration": 27,
    "start_time": "2022-11-05T23:38:04.074Z"
   },
   {
    "duration": 29,
    "start_time": "2022-11-05T23:38:31.210Z"
   },
   {
    "duration": 25,
    "start_time": "2022-11-05T23:40:17.442Z"
   },
   {
    "duration": 28,
    "start_time": "2022-11-05T23:41:11.496Z"
   },
   {
    "duration": 27,
    "start_time": "2022-11-05T23:41:51.343Z"
   },
   {
    "duration": 7,
    "start_time": "2022-11-05T23:42:29.281Z"
   },
   {
    "duration": 1558,
    "start_time": "2022-11-05T23:42:29.981Z"
   },
   {
    "duration": 26,
    "start_time": "2022-11-05T23:45:42.366Z"
   },
   {
    "duration": 9,
    "start_time": "2022-11-05T23:49:11.649Z"
   },
   {
    "duration": 144,
    "start_time": "2022-11-05T23:49:28.473Z"
   },
   {
    "duration": 19,
    "start_time": "2022-11-05T23:49:34.563Z"
   },
   {
    "duration": 4,
    "start_time": "2022-11-05T23:50:31.194Z"
   },
   {
    "duration": 10,
    "start_time": "2022-11-05T23:50:48.794Z"
   },
   {
    "duration": 691,
    "start_time": "2022-11-05T23:52:13.855Z"
   },
   {
    "duration": 582,
    "start_time": "2022-11-05T23:52:22.443Z"
   },
   {
    "duration": 24,
    "start_time": "2022-11-05T23:52:53.602Z"
   },
   {
    "duration": 6,
    "start_time": "2022-11-05T23:52:54.034Z"
   },
   {
    "duration": 1512,
    "start_time": "2022-11-05T23:52:54.481Z"
   },
   {
    "duration": 15,
    "start_time": "2022-11-05T23:52:55.994Z"
   },
   {
    "duration": 3,
    "start_time": "2022-11-05T23:52:56.348Z"
   },
   {
    "duration": 10,
    "start_time": "2022-11-05T23:52:57.734Z"
   },
   {
    "duration": 8,
    "start_time": "2022-11-05T23:52:59.653Z"
   },
   {
    "duration": 4,
    "start_time": "2022-11-05T23:53:39.734Z"
   },
   {
    "duration": 10,
    "start_time": "2022-11-05T23:53:45.134Z"
   },
   {
    "duration": 1593,
    "start_time": "2022-11-05T23:54:36.642Z"
   },
   {
    "duration": 15,
    "start_time": "2022-11-05T23:54:38.237Z"
   },
   {
    "duration": 8,
    "start_time": "2022-11-05T23:54:41.113Z"
   },
   {
    "duration": 25,
    "start_time": "2022-11-05T23:54:51.802Z"
   },
   {
    "duration": 8,
    "start_time": "2022-11-05T23:54:52.412Z"
   },
   {
    "duration": 1502,
    "start_time": "2022-11-05T23:54:53.422Z"
   },
   {
    "duration": 15,
    "start_time": "2022-11-05T23:54:54.926Z"
   },
   {
    "duration": 4,
    "start_time": "2022-11-05T23:54:59.821Z"
   },
   {
    "duration": 5,
    "start_time": "2022-11-05T23:55:17.283Z"
   },
   {
    "duration": 10,
    "start_time": "2022-11-05T23:55:27.843Z"
   },
   {
    "duration": 10,
    "start_time": "2022-11-06T00:04:56.482Z"
   },
   {
    "duration": 55,
    "start_time": "2022-11-06T00:05:04.022Z"
   },
   {
    "duration": 72,
    "start_time": "2022-11-06T00:05:25.922Z"
   },
   {
    "duration": 3,
    "start_time": "2022-11-06T00:05:32.350Z"
   },
   {
    "duration": 170,
    "start_time": "2022-11-06T00:05:34.235Z"
   },
   {
    "duration": 246,
    "start_time": "2022-11-06T00:06:31.622Z"
   },
   {
    "duration": 7,
    "start_time": "2022-11-06T00:07:20.795Z"
   },
   {
    "duration": 15,
    "start_time": "2022-11-06T00:07:48.641Z"
   },
   {
    "duration": 9,
    "start_time": "2022-11-06T00:07:52.970Z"
   },
   {
    "duration": 3,
    "start_time": "2022-11-06T00:08:11.582Z"
   },
   {
    "duration": 11,
    "start_time": "2022-11-06T00:08:12.473Z"
   },
   {
    "duration": 14,
    "start_time": "2022-11-06T00:08:23.423Z"
   },
   {
    "duration": 194,
    "start_time": "2022-11-06T00:09:18.882Z"
   },
   {
    "duration": 3,
    "start_time": "2022-11-06T00:09:23.422Z"
   },
   {
    "duration": 7,
    "start_time": "2022-11-06T00:09:23.815Z"
   },
   {
    "duration": 8,
    "start_time": "2022-11-06T00:10:02.184Z"
   },
   {
    "duration": 3,
    "start_time": "2022-11-06T00:10:51.749Z"
   },
   {
    "duration": 8,
    "start_time": "2022-11-06T00:11:01.293Z"
   },
   {
    "duration": 8,
    "start_time": "2022-11-06T00:11:24.949Z"
   },
   {
    "duration": 8,
    "start_time": "2022-11-06T00:11:48.920Z"
   },
   {
    "duration": 6,
    "start_time": "2022-11-06T00:13:03.428Z"
   },
   {
    "duration": 8,
    "start_time": "2022-11-06T00:14:09.622Z"
   },
   {
    "duration": 7,
    "start_time": "2022-11-06T00:14:13.890Z"
   },
   {
    "duration": 6,
    "start_time": "2022-11-06T00:14:28.280Z"
   },
   {
    "duration": 5,
    "start_time": "2022-11-06T00:14:34.688Z"
   },
   {
    "duration": 6,
    "start_time": "2022-11-06T00:15:23.008Z"
   },
   {
    "duration": 10,
    "start_time": "2022-11-06T00:16:19.000Z"
   },
   {
    "duration": 28,
    "start_time": "2022-11-06T00:17:42.261Z"
   },
   {
    "duration": 31,
    "start_time": "2022-11-06T00:18:53.560Z"
   },
   {
    "duration": 7,
    "start_time": "2022-11-06T00:18:56.112Z"
   },
   {
    "duration": 1586,
    "start_time": "2022-11-06T00:18:56.620Z"
   },
   {
    "duration": 23,
    "start_time": "2022-11-06T00:19:06.181Z"
   },
   {
    "duration": 3,
    "start_time": "2022-11-06T00:19:07.053Z"
   },
   {
    "duration": 6,
    "start_time": "2022-11-06T00:19:07.773Z"
   },
   {
    "duration": 11,
    "start_time": "2022-11-06T00:19:10.768Z"
   },
   {
    "duration": 16,
    "start_time": "2022-11-06T00:19:36.448Z"
   },
   {
    "duration": 9,
    "start_time": "2022-11-06T00:19:36.727Z"
   },
   {
    "duration": 28,
    "start_time": "2022-11-06T00:19:53.121Z"
   },
   {
    "duration": 6,
    "start_time": "2022-11-06T00:19:53.692Z"
   },
   {
    "duration": 1551,
    "start_time": "2022-11-06T00:19:54.220Z"
   },
   {
    "duration": 16,
    "start_time": "2022-11-06T00:19:55.960Z"
   },
   {
    "duration": 4,
    "start_time": "2022-11-06T00:19:56.716Z"
   },
   {
    "duration": 6,
    "start_time": "2022-11-06T00:19:58.397Z"
   },
   {
    "duration": 10,
    "start_time": "2022-11-06T00:20:12.928Z"
   },
   {
    "duration": 29,
    "start_time": "2022-11-06T00:21:37.256Z"
   },
   {
    "duration": 6,
    "start_time": "2022-11-06T00:21:50.970Z"
   },
   {
    "duration": 1463,
    "start_time": "2022-11-06T00:21:51.454Z"
   },
   {
    "duration": 23,
    "start_time": "2022-11-06T00:22:04.608Z"
   },
   {
    "duration": 4,
    "start_time": "2022-11-06T00:22:05.352Z"
   },
   {
    "duration": 7,
    "start_time": "2022-11-06T00:22:06.060Z"
   },
   {
    "duration": 11,
    "start_time": "2022-11-06T00:22:08.438Z"
   },
   {
    "duration": 36,
    "start_time": "2022-11-06T00:26:05.000Z"
   },
   {
    "duration": 34,
    "start_time": "2022-11-06T00:26:19.328Z"
   },
   {
    "duration": 1716,
    "start_time": "2022-11-06T11:19:33.655Z"
   },
   {
    "duration": 257,
    "start_time": "2022-11-06T11:19:37.702Z"
   },
   {
    "duration": 20,
    "start_time": "2022-11-06T11:19:38.418Z"
   },
   {
    "duration": 13,
    "start_time": "2022-11-06T11:19:38.952Z"
   },
   {
    "duration": 13,
    "start_time": "2022-11-06T11:19:39.248Z"
   },
   {
    "duration": 28,
    "start_time": "2022-11-06T11:19:39.522Z"
   },
   {
    "duration": 5,
    "start_time": "2022-11-06T11:19:39.851Z"
   },
   {
    "duration": 5,
    "start_time": "2022-11-06T11:19:40.378Z"
   },
   {
    "duration": 5,
    "start_time": "2022-11-06T11:19:40.665Z"
   },
   {
    "duration": 5,
    "start_time": "2022-11-06T11:19:41.073Z"
   },
   {
    "duration": 16,
    "start_time": "2022-11-06T11:19:42.047Z"
   },
   {
    "duration": 3,
    "start_time": "2022-11-06T11:19:42.681Z"
   },
   {
    "duration": 340,
    "start_time": "2022-11-06T11:19:43.382Z"
   },
   {
    "duration": 213,
    "start_time": "2022-11-06T11:19:44.085Z"
   },
   {
    "duration": 4,
    "start_time": "2022-11-06T11:19:45.350Z"
   },
   {
    "duration": 510,
    "start_time": "2022-11-06T11:19:46.454Z"
   },
   {
    "duration": 100,
    "start_time": "2022-11-06T11:19:47.192Z"
   },
   {
    "duration": 159,
    "start_time": "2022-11-06T11:19:48.398Z"
   },
   {
    "duration": 133,
    "start_time": "2022-11-06T11:19:50.797Z"
   },
   {
    "duration": 17,
    "start_time": "2022-11-06T11:20:02.648Z"
   },
   {
    "duration": 15,
    "start_time": "2022-11-06T11:20:04.498Z"
   },
   {
    "duration": 13,
    "start_time": "2022-11-06T11:20:09.438Z"
   },
   {
    "duration": 20,
    "start_time": "2022-11-06T11:20:11.918Z"
   },
   {
    "duration": 19,
    "start_time": "2022-11-06T11:20:14.746Z"
   },
   {
    "duration": 544,
    "start_time": "2022-11-06T11:20:18.894Z"
   },
   {
    "duration": 19,
    "start_time": "2022-11-06T11:20:20.478Z"
   },
   {
    "duration": 4740,
    "start_time": "2022-11-06T11:20:22.552Z"
   },
   {
    "duration": 10,
    "start_time": "2022-11-06T11:20:27.294Z"
   },
   {
    "duration": 3,
    "start_time": "2022-11-06T11:20:32.793Z"
   },
   {
    "duration": 8,
    "start_time": "2022-11-06T11:20:34.877Z"
   },
   {
    "duration": 8,
    "start_time": "2022-11-06T11:20:35.277Z"
   },
   {
    "duration": 8,
    "start_time": "2022-11-06T11:20:35.757Z"
   },
   {
    "duration": 7,
    "start_time": "2022-11-06T11:20:36.566Z"
   },
   {
    "duration": 6,
    "start_time": "2022-11-06T11:20:37.306Z"
   },
   {
    "duration": 10,
    "start_time": "2022-11-06T11:20:39.565Z"
   },
   {
    "duration": 9,
    "start_time": "2022-11-06T11:20:41.566Z"
   },
   {
    "duration": 5,
    "start_time": "2022-11-06T11:22:45.348Z"
   },
   {
    "duration": 9,
    "start_time": "2022-11-06T11:22:45.786Z"
   },
   {
    "duration": 33,
    "start_time": "2022-11-06T11:22:46.410Z"
   },
   {
    "duration": 7,
    "start_time": "2022-11-06T11:22:53.670Z"
   },
   {
    "duration": 1656,
    "start_time": "2022-11-06T11:22:54.549Z"
   },
   {
    "duration": 48,
    "start_time": "2022-11-06T11:28:17.948Z"
   },
   {
    "duration": 36,
    "start_time": "2022-11-06T11:28:27.308Z"
   },
   {
    "duration": 8,
    "start_time": "2022-11-06T11:30:45.565Z"
   },
   {
    "duration": 1537,
    "start_time": "2022-11-06T11:30:46.673Z"
   },
   {
    "duration": 28,
    "start_time": "2022-11-06T11:30:51.684Z"
   },
   {
    "duration": 4,
    "start_time": "2022-11-06T11:30:52.464Z"
   },
   {
    "duration": 3,
    "start_time": "2022-11-06T11:31:10.845Z"
   },
   {
    "duration": 6,
    "start_time": "2022-11-06T11:31:10.969Z"
   },
   {
    "duration": 14,
    "start_time": "2022-11-06T11:31:12.942Z"
   },
   {
    "duration": 12,
    "start_time": "2022-11-06T11:31:39.973Z"
   },
   {
    "duration": 19,
    "start_time": "2022-11-06T11:32:14.214Z"
   },
   {
    "duration": 4,
    "start_time": "2022-11-06T11:32:14.846Z"
   },
   {
    "duration": 7,
    "start_time": "2022-11-06T11:32:15.413Z"
   },
   {
    "duration": 12,
    "start_time": "2022-11-06T11:32:16.377Z"
   },
   {
    "duration": 120,
    "start_time": "2022-11-06T11:32:57.148Z"
   },
   {
    "duration": 5,
    "start_time": "2022-11-06T11:33:04.775Z"
   },
   {
    "duration": 12,
    "start_time": "2022-11-06T11:33:13.748Z"
   },
   {
    "duration": 13,
    "start_time": "2022-11-06T11:33:23.432Z"
   },
   {
    "duration": 31,
    "start_time": "2022-11-06T11:35:07.244Z"
   },
   {
    "duration": 35,
    "start_time": "2022-11-06T11:35:23.186Z"
   },
   {
    "duration": 7,
    "start_time": "2022-11-06T11:35:29.400Z"
   },
   {
    "duration": 1680,
    "start_time": "2022-11-06T11:35:30.268Z"
   },
   {
    "duration": 23,
    "start_time": "2022-11-06T11:35:39.969Z"
   },
   {
    "duration": 3,
    "start_time": "2022-11-06T11:35:40.896Z"
   },
   {
    "duration": 9,
    "start_time": "2022-11-06T11:35:41.577Z"
   },
   {
    "duration": 14,
    "start_time": "2022-11-06T11:35:43.398Z"
   },
   {
    "duration": 21,
    "start_time": "2022-11-06T11:36:53.515Z"
   },
   {
    "duration": 4,
    "start_time": "2022-11-06T11:36:53.989Z"
   },
   {
    "duration": 7,
    "start_time": "2022-11-06T11:36:54.445Z"
   },
   {
    "duration": 13,
    "start_time": "2022-11-06T11:36:55.054Z"
   },
   {
    "duration": 11,
    "start_time": "2022-11-06T11:41:18.536Z"
   },
   {
    "duration": 14,
    "start_time": "2022-11-06T11:45:08.305Z"
   },
   {
    "duration": 22,
    "start_time": "2022-11-06T11:45:24.744Z"
   },
   {
    "duration": 1024,
    "start_time": "2022-11-06T11:45:37.077Z"
   },
   {
    "duration": 18,
    "start_time": "2022-11-06T11:46:14.177Z"
   },
   {
    "duration": 184,
    "start_time": "2022-11-06T11:46:22.458Z"
   },
   {
    "duration": 223,
    "start_time": "2022-11-06T11:47:19.856Z"
   },
   {
    "duration": 20,
    "start_time": "2022-11-06T11:47:38.376Z"
   },
   {
    "duration": 202,
    "start_time": "2022-11-06T11:47:44.349Z"
   },
   {
    "duration": 224,
    "start_time": "2022-11-06T11:48:30.872Z"
   },
   {
    "duration": 174,
    "start_time": "2022-11-06T11:49:56.649Z"
   },
   {
    "duration": 189,
    "start_time": "2022-11-06T11:52:04.957Z"
   },
   {
    "duration": 207,
    "start_time": "2022-11-06T11:52:49.147Z"
   },
   {
    "duration": 209,
    "start_time": "2022-11-06T11:53:25.600Z"
   },
   {
    "duration": 206,
    "start_time": "2022-11-06T11:54:03.016Z"
   },
   {
    "duration": 19,
    "start_time": "2022-11-06T11:54:16.116Z"
   },
   {
    "duration": 208,
    "start_time": "2022-11-06T11:54:31.807Z"
   },
   {
    "duration": 168,
    "start_time": "2022-11-06T11:55:04.476Z"
   },
   {
    "duration": 175,
    "start_time": "2022-11-06T11:55:16.676Z"
   },
   {
    "duration": 184,
    "start_time": "2022-11-06T11:55:35.483Z"
   },
   {
    "duration": 28,
    "start_time": "2022-11-06T11:56:32.817Z"
   },
   {
    "duration": 214,
    "start_time": "2022-11-06T11:56:36.285Z"
   },
   {
    "duration": 709,
    "start_time": "2022-11-06T12:07:55.375Z"
   },
   {
    "duration": 10,
    "start_time": "2022-11-06T12:08:15.544Z"
   },
   {
    "duration": 752,
    "start_time": "2022-11-06T12:08:34.784Z"
   },
   {
    "duration": 7,
    "start_time": "2022-11-06T12:08:46.872Z"
   },
   {
    "duration": 175,
    "start_time": "2022-11-06T12:09:00.945Z"
   },
   {
    "duration": 176,
    "start_time": "2022-11-06T12:09:43.184Z"
   },
   {
    "duration": 776,
    "start_time": "2022-11-06T12:10:46.638Z"
   },
   {
    "duration": 191,
    "start_time": "2022-11-06T12:11:01.664Z"
   },
   {
    "duration": 135,
    "start_time": "2022-11-06T12:11:18.564Z"
   },
   {
    "duration": 13,
    "start_time": "2022-11-06T12:16:04.652Z"
   },
   {
    "duration": 4,
    "start_time": "2022-11-06T12:16:46.848Z"
   },
   {
    "duration": 17,
    "start_time": "2022-11-06T12:16:52.404Z"
   },
   {
    "duration": 12,
    "start_time": "2022-11-06T12:17:19.164Z"
   },
   {
    "duration": 1411,
    "start_time": "2022-11-06T14:00:17.148Z"
   },
   {
    "duration": 127,
    "start_time": "2022-11-06T14:00:18.561Z"
   },
   {
    "duration": 16,
    "start_time": "2022-11-06T14:00:18.690Z"
   },
   {
    "duration": 10,
    "start_time": "2022-11-06T14:00:18.708Z"
   },
   {
    "duration": 9,
    "start_time": "2022-11-06T14:00:18.720Z"
   },
   {
    "duration": 32,
    "start_time": "2022-11-06T14:00:18.730Z"
   },
   {
    "duration": 4,
    "start_time": "2022-11-06T14:00:18.764Z"
   },
   {
    "duration": 11,
    "start_time": "2022-11-06T14:00:18.769Z"
   },
   {
    "duration": 19,
    "start_time": "2022-11-06T14:00:18.782Z"
   },
   {
    "duration": 4,
    "start_time": "2022-11-06T14:00:18.803Z"
   },
   {
    "duration": 15,
    "start_time": "2022-11-06T14:00:18.808Z"
   },
   {
    "duration": 4,
    "start_time": "2022-11-06T14:00:18.825Z"
   },
   {
    "duration": 311,
    "start_time": "2022-11-06T14:00:18.830Z"
   },
   {
    "duration": 191,
    "start_time": "2022-11-06T14:00:19.142Z"
   },
   {
    "duration": 3,
    "start_time": "2022-11-06T14:00:19.334Z"
   },
   {
    "duration": 438,
    "start_time": "2022-11-06T14:00:19.338Z"
   },
   {
    "duration": 81,
    "start_time": "2022-11-06T14:00:19.778Z"
   },
   {
    "duration": 151,
    "start_time": "2022-11-06T14:00:19.860Z"
   },
   {
    "duration": 132,
    "start_time": "2022-11-06T14:00:20.012Z"
   },
   {
    "duration": 13,
    "start_time": "2022-11-06T14:00:20.145Z"
   },
   {
    "duration": 12,
    "start_time": "2022-11-06T14:00:20.160Z"
   },
   {
    "duration": 29,
    "start_time": "2022-11-06T14:00:20.173Z"
   },
   {
    "duration": 13,
    "start_time": "2022-11-06T14:00:20.204Z"
   },
   {
    "duration": 15,
    "start_time": "2022-11-06T14:00:20.218Z"
   },
   {
    "duration": 516,
    "start_time": "2022-11-06T14:00:20.234Z"
   },
   {
    "duration": 16,
    "start_time": "2022-11-06T14:00:20.752Z"
   },
   {
    "duration": 4215,
    "start_time": "2022-11-06T14:00:20.769Z"
   },
   {
    "duration": 11,
    "start_time": "2022-11-06T14:00:24.989Z"
   },
   {
    "duration": 23,
    "start_time": "2022-11-06T14:00:25.003Z"
   },
   {
    "duration": 14,
    "start_time": "2022-11-06T14:00:25.028Z"
   },
   {
    "duration": 27,
    "start_time": "2022-11-06T14:00:25.044Z"
   },
   {
    "duration": 10,
    "start_time": "2022-11-06T14:00:25.073Z"
   },
   {
    "duration": 13,
    "start_time": "2022-11-06T14:00:25.084Z"
   },
   {
    "duration": 29,
    "start_time": "2022-11-06T14:00:25.099Z"
   },
   {
    "duration": 30,
    "start_time": "2022-11-06T14:00:25.130Z"
   },
   {
    "duration": 124,
    "start_time": "2022-11-06T14:00:25.162Z"
   },
   {
    "duration": 0,
    "start_time": "2022-11-06T14:00:25.287Z"
   },
   {
    "duration": 0,
    "start_time": "2022-11-06T14:00:25.289Z"
   },
   {
    "duration": 0,
    "start_time": "2022-11-06T14:00:25.290Z"
   },
   {
    "duration": 0,
    "start_time": "2022-11-06T14:00:25.291Z"
   },
   {
    "duration": 0,
    "start_time": "2022-11-06T14:00:25.292Z"
   },
   {
    "duration": 0,
    "start_time": "2022-11-06T14:00:25.292Z"
   },
   {
    "duration": 0,
    "start_time": "2022-11-06T14:00:25.306Z"
   },
   {
    "duration": 0,
    "start_time": "2022-11-06T14:00:25.307Z"
   },
   {
    "duration": 0,
    "start_time": "2022-11-06T14:00:25.308Z"
   },
   {
    "duration": 0,
    "start_time": "2022-11-06T14:00:25.309Z"
   },
   {
    "duration": 0,
    "start_time": "2022-11-06T14:00:25.310Z"
   },
   {
    "duration": 0,
    "start_time": "2022-11-06T14:00:25.311Z"
   },
   {
    "duration": 0,
    "start_time": "2022-11-06T14:00:25.312Z"
   },
   {
    "duration": 0,
    "start_time": "2022-11-06T14:00:25.313Z"
   },
   {
    "duration": 15,
    "start_time": "2022-11-06T14:01:15.489Z"
   },
   {
    "duration": 15,
    "start_time": "2022-11-06T14:01:26.903Z"
   },
   {
    "duration": 13,
    "start_time": "2022-11-06T14:02:10.982Z"
   },
   {
    "duration": 25,
    "start_time": "2022-11-06T14:02:12.105Z"
   },
   {
    "duration": 10,
    "start_time": "2022-11-06T14:02:14.439Z"
   },
   {
    "duration": 6,
    "start_time": "2022-11-06T14:02:23.018Z"
   },
   {
    "duration": 1573,
    "start_time": "2022-11-06T14:02:24.018Z"
   },
   {
    "duration": 18,
    "start_time": "2022-11-06T14:02:35.705Z"
   },
   {
    "duration": 4,
    "start_time": "2022-11-06T14:02:36.437Z"
   },
   {
    "duration": 5,
    "start_time": "2022-11-06T14:02:37.032Z"
   },
   {
    "duration": 9,
    "start_time": "2022-11-06T14:02:40.178Z"
   },
   {
    "duration": 32,
    "start_time": "2022-11-06T14:03:09.716Z"
   },
   {
    "duration": 10,
    "start_time": "2022-11-06T14:03:20.148Z"
   },
   {
    "duration": 9,
    "start_time": "2022-11-06T14:03:36.885Z"
   },
   {
    "duration": 169,
    "start_time": "2022-11-06T14:03:37.785Z"
   },
   {
    "duration": 202,
    "start_time": "2022-11-06T14:03:38.706Z"
   },
   {
    "duration": 177,
    "start_time": "2022-11-06T14:03:39.733Z"
   },
   {
    "duration": 145,
    "start_time": "2022-11-06T14:03:40.492Z"
   },
   {
    "duration": 10,
    "start_time": "2022-11-06T14:03:45.457Z"
   },
   {
    "duration": 4,
    "start_time": "2022-11-06T14:04:06.585Z"
   },
   {
    "duration": 11,
    "start_time": "2022-11-06T14:04:15.240Z"
   },
   {
    "duration": 9,
    "start_time": "2022-11-06T14:05:12.501Z"
   },
   {
    "duration": 4,
    "start_time": "2022-11-06T14:05:36.442Z"
   },
   {
    "duration": 10,
    "start_time": "2022-11-06T14:05:43.511Z"
   },
   {
    "duration": 10,
    "start_time": "2022-11-06T14:05:51.932Z"
   },
   {
    "duration": 10,
    "start_time": "2022-11-06T14:08:06.691Z"
   },
   {
    "duration": 9,
    "start_time": "2022-11-06T14:10:12.639Z"
   },
   {
    "duration": 9,
    "start_time": "2022-11-06T14:10:34.859Z"
   },
   {
    "duration": 9,
    "start_time": "2022-11-06T14:10:44.186Z"
   },
   {
    "duration": 10,
    "start_time": "2022-11-06T14:10:49.431Z"
   },
   {
    "duration": 7,
    "start_time": "2022-11-06T14:11:32.420Z"
   },
   {
    "duration": 8,
    "start_time": "2022-11-06T14:11:35.111Z"
   },
   {
    "duration": 1293,
    "start_time": "2022-11-06T14:16:41.319Z"
   },
   {
    "duration": 64,
    "start_time": "2022-11-06T14:16:42.613Z"
   },
   {
    "duration": 18,
    "start_time": "2022-11-06T14:16:42.679Z"
   },
   {
    "duration": 9,
    "start_time": "2022-11-06T14:16:42.699Z"
   },
   {
    "duration": 11,
    "start_time": "2022-11-06T14:16:42.711Z"
   },
   {
    "duration": 26,
    "start_time": "2022-11-06T14:16:42.723Z"
   },
   {
    "duration": 4,
    "start_time": "2022-11-06T14:16:42.751Z"
   },
   {
    "duration": 4,
    "start_time": "2022-11-06T14:16:42.757Z"
   },
   {
    "duration": 38,
    "start_time": "2022-11-06T14:16:42.763Z"
   },
   {
    "duration": 4,
    "start_time": "2022-11-06T14:16:42.803Z"
   },
   {
    "duration": 12,
    "start_time": "2022-11-06T14:16:42.809Z"
   },
   {
    "duration": 3,
    "start_time": "2022-11-06T14:16:42.823Z"
   },
   {
    "duration": 309,
    "start_time": "2022-11-06T14:16:42.827Z"
   },
   {
    "duration": 191,
    "start_time": "2022-11-06T14:16:43.140Z"
   },
   {
    "duration": 3,
    "start_time": "2022-11-06T14:16:43.332Z"
   },
   {
    "duration": 459,
    "start_time": "2022-11-06T14:16:43.337Z"
   },
   {
    "duration": 75,
    "start_time": "2022-11-06T14:16:43.799Z"
   },
   {
    "duration": 148,
    "start_time": "2022-11-06T14:16:43.876Z"
   },
   {
    "duration": 145,
    "start_time": "2022-11-06T14:16:44.025Z"
   },
   {
    "duration": 15,
    "start_time": "2022-11-06T14:16:44.171Z"
   },
   {
    "duration": 14,
    "start_time": "2022-11-06T14:16:44.199Z"
   },
   {
    "duration": 11,
    "start_time": "2022-11-06T14:16:44.214Z"
   },
   {
    "duration": 10,
    "start_time": "2022-11-06T14:16:44.226Z"
   },
   {
    "duration": 13,
    "start_time": "2022-11-06T14:16:44.238Z"
   },
   {
    "duration": 563,
    "start_time": "2022-11-06T14:16:44.252Z"
   },
   {
    "duration": 19,
    "start_time": "2022-11-06T14:16:44.817Z"
   },
   {
    "duration": 3917,
    "start_time": "2022-11-06T14:16:44.838Z"
   },
   {
    "duration": 10,
    "start_time": "2022-11-06T14:16:48.757Z"
   },
   {
    "duration": 2,
    "start_time": "2022-11-06T14:16:48.769Z"
   },
   {
    "duration": 10,
    "start_time": "2022-11-06T14:16:48.773Z"
   },
   {
    "duration": 10,
    "start_time": "2022-11-06T14:16:48.784Z"
   },
   {
    "duration": 7,
    "start_time": "2022-11-06T14:16:48.795Z"
   },
   {
    "duration": 9,
    "start_time": "2022-11-06T14:16:48.804Z"
   },
   {
    "duration": 9,
    "start_time": "2022-11-06T14:16:48.814Z"
   },
   {
    "duration": 19,
    "start_time": "2022-11-06T14:16:48.824Z"
   },
   {
    "duration": 25,
    "start_time": "2022-11-06T14:16:48.844Z"
   },
   {
    "duration": 6,
    "start_time": "2022-11-06T14:16:48.871Z"
   },
   {
    "duration": 1513,
    "start_time": "2022-11-06T14:16:48.879Z"
   },
   {
    "duration": 15,
    "start_time": "2022-11-06T14:16:50.400Z"
   },
   {
    "duration": 3,
    "start_time": "2022-11-06T14:16:50.416Z"
   },
   {
    "duration": 7,
    "start_time": "2022-11-06T14:16:50.423Z"
   },
   {
    "duration": 14,
    "start_time": "2022-11-06T14:16:50.431Z"
   },
   {
    "duration": 10,
    "start_time": "2022-11-06T14:16:50.447Z"
   },
   {
    "duration": 194,
    "start_time": "2022-11-06T14:16:50.459Z"
   },
   {
    "duration": 201,
    "start_time": "2022-11-06T14:16:50.654Z"
   },
   {
    "duration": 218,
    "start_time": "2022-11-06T14:16:50.856Z"
   },
   {
    "duration": 150,
    "start_time": "2022-11-06T14:16:51.075Z"
   },
   {
    "duration": 11,
    "start_time": "2022-11-06T14:16:51.227Z"
   },
   {
    "duration": 12,
    "start_time": "2022-11-06T14:16:51.240Z"
   },
   {
    "duration": 17,
    "start_time": "2022-11-06T14:16:51.253Z"
   },
   {
    "duration": 8,
    "start_time": "2022-11-06T14:17:05.608Z"
   },
   {
    "duration": 7,
    "start_time": "2022-11-06T14:17:18.368Z"
   },
   {
    "duration": 10,
    "start_time": "2022-11-06T14:17:37.748Z"
   },
   {
    "duration": 9,
    "start_time": "2022-11-06T14:17:41.004Z"
   },
   {
    "duration": 409,
    "start_time": "2022-11-06T14:19:13.055Z"
   },
   {
    "duration": 169,
    "start_time": "2022-11-06T14:19:25.712Z"
   },
   {
    "duration": 8,
    "start_time": "2022-11-06T14:21:03.375Z"
   },
   {
    "duration": 8,
    "start_time": "2022-11-06T14:21:13.962Z"
   },
   {
    "duration": 9,
    "start_time": "2022-11-06T14:21:38.714Z"
   },
   {
    "duration": 9,
    "start_time": "2022-11-06T14:21:42.454Z"
   },
   {
    "duration": 14,
    "start_time": "2022-11-06T14:28:52.285Z"
   },
   {
    "duration": 6,
    "start_time": "2022-11-06T14:28:53.477Z"
   },
   {
    "duration": 13,
    "start_time": "2022-11-06T14:28:54.251Z"
   },
   {
    "duration": 13,
    "start_time": "2022-11-06T14:28:58.564Z"
   },
   {
    "duration": 11,
    "start_time": "2022-11-06T14:28:58.717Z"
   },
   {
    "duration": 11,
    "start_time": "2022-11-06T14:28:58.897Z"
   },
   {
    "duration": 14,
    "start_time": "2022-11-06T14:28:59.073Z"
   },
   {
    "duration": 249,
    "start_time": "2022-11-06T14:28:59.242Z"
   },
   {
    "duration": 21,
    "start_time": "2022-11-06T14:28:59.493Z"
   },
   {
    "duration": 4006,
    "start_time": "2022-11-06T14:28:59.656Z"
   },
   {
    "duration": 16,
    "start_time": "2022-11-06T14:29:03.664Z"
   },
   {
    "duration": 3,
    "start_time": "2022-11-06T14:29:03.681Z"
   },
   {
    "duration": 4,
    "start_time": "2022-11-06T14:29:03.700Z"
   },
   {
    "duration": 5,
    "start_time": "2022-11-06T14:29:03.706Z"
   },
   {
    "duration": 277,
    "start_time": "2022-11-06T14:29:03.796Z"
   },
   {
    "duration": 5,
    "start_time": "2022-11-06T14:29:04.109Z"
   },
   {
    "duration": 231,
    "start_time": "2022-11-06T14:29:11.316Z"
   },
   {
    "duration": 1321,
    "start_time": "2022-11-06T14:29:26.211Z"
   },
   {
    "duration": 67,
    "start_time": "2022-11-06T14:29:27.533Z"
   },
   {
    "duration": 18,
    "start_time": "2022-11-06T14:29:27.602Z"
   },
   {
    "duration": 10,
    "start_time": "2022-11-06T14:29:27.622Z"
   },
   {
    "duration": 11,
    "start_time": "2022-11-06T14:29:27.634Z"
   },
   {
    "duration": 27,
    "start_time": "2022-11-06T14:29:27.646Z"
   },
   {
    "duration": 4,
    "start_time": "2022-11-06T14:29:27.700Z"
   },
   {
    "duration": 11,
    "start_time": "2022-11-06T14:29:27.706Z"
   },
   {
    "duration": 7,
    "start_time": "2022-11-06T14:29:27.718Z"
   },
   {
    "duration": 5,
    "start_time": "2022-11-06T14:29:27.727Z"
   },
   {
    "duration": 16,
    "start_time": "2022-11-06T14:29:27.734Z"
   },
   {
    "duration": 2,
    "start_time": "2022-11-06T14:29:27.752Z"
   },
   {
    "duration": 316,
    "start_time": "2022-11-06T14:29:27.756Z"
   },
   {
    "duration": 185,
    "start_time": "2022-11-06T14:29:28.074Z"
   },
   {
    "duration": 2,
    "start_time": "2022-11-06T14:29:28.261Z"
   },
   {
    "duration": 458,
    "start_time": "2022-11-06T14:29:28.265Z"
   },
   {
    "duration": 92,
    "start_time": "2022-11-06T14:29:28.724Z"
   },
   {
    "duration": 143,
    "start_time": "2022-11-06T14:29:28.818Z"
   },
   {
    "duration": 130,
    "start_time": "2022-11-06T14:29:28.963Z"
   },
   {
    "duration": 14,
    "start_time": "2022-11-06T14:29:29.100Z"
   },
   {
    "duration": 5,
    "start_time": "2022-11-06T14:29:29.116Z"
   },
   {
    "duration": 15,
    "start_time": "2022-11-06T14:29:29.123Z"
   },
   {
    "duration": 12,
    "start_time": "2022-11-06T14:29:29.139Z"
   },
   {
    "duration": 11,
    "start_time": "2022-11-06T14:29:29.152Z"
   },
   {
    "duration": 42,
    "start_time": "2022-11-06T14:29:29.164Z"
   },
   {
    "duration": 15,
    "start_time": "2022-11-06T14:29:29.208Z"
   },
   {
    "duration": 540,
    "start_time": "2022-11-06T14:29:29.224Z"
   },
   {
    "duration": 18,
    "start_time": "2022-11-06T14:29:29.768Z"
   },
   {
    "duration": 3903,
    "start_time": "2022-11-06T14:29:29.800Z"
   },
   {
    "duration": 10,
    "start_time": "2022-11-06T14:29:33.705Z"
   },
   {
    "duration": 3,
    "start_time": "2022-11-06T14:29:33.716Z"
   },
   {
    "duration": 12,
    "start_time": "2022-11-06T14:29:33.720Z"
   },
   {
    "duration": 5,
    "start_time": "2022-11-06T14:29:33.733Z"
   },
   {
    "duration": 10,
    "start_time": "2022-11-06T14:29:33.740Z"
   },
   {
    "duration": 7,
    "start_time": "2022-11-06T14:29:33.751Z"
   },
   {
    "duration": 5,
    "start_time": "2022-11-06T14:29:33.760Z"
   },
   {
    "duration": 39,
    "start_time": "2022-11-06T14:29:33.766Z"
   },
   {
    "duration": 23,
    "start_time": "2022-11-06T14:29:33.807Z"
   },
   {
    "duration": 6,
    "start_time": "2022-11-06T14:29:33.832Z"
   },
   {
    "duration": 1512,
    "start_time": "2022-11-06T14:29:33.839Z"
   },
   {
    "duration": 17,
    "start_time": "2022-11-06T14:29:35.353Z"
   },
   {
    "duration": 4,
    "start_time": "2022-11-06T14:29:35.371Z"
   },
   {
    "duration": 8,
    "start_time": "2022-11-06T14:29:35.376Z"
   },
   {
    "duration": 11,
    "start_time": "2022-11-06T14:29:35.400Z"
   },
   {
    "duration": 19,
    "start_time": "2022-11-06T14:29:35.412Z"
   },
   {
    "duration": 171,
    "start_time": "2022-11-06T14:29:35.433Z"
   },
   {
    "duration": 214,
    "start_time": "2022-11-06T14:29:35.606Z"
   },
   {
    "duration": 185,
    "start_time": "2022-11-06T14:29:35.821Z"
   },
   {
    "duration": 151,
    "start_time": "2022-11-06T14:29:36.007Z"
   },
   {
    "duration": 11,
    "start_time": "2022-11-06T14:29:36.159Z"
   },
   {
    "duration": 30,
    "start_time": "2022-11-06T14:29:36.171Z"
   },
   {
    "duration": 40,
    "start_time": "2022-11-06T14:29:36.203Z"
   },
   {
    "duration": 28,
    "start_time": "2022-11-06T14:29:36.244Z"
   },
   {
    "duration": 10,
    "start_time": "2022-11-06T14:30:14.250Z"
   },
   {
    "duration": 13,
    "start_time": "2022-11-06T14:31:29.535Z"
   },
   {
    "duration": 24,
    "start_time": "2022-11-06T14:31:30.423Z"
   },
   {
    "duration": 7,
    "start_time": "2022-11-06T14:31:32.256Z"
   },
   {
    "duration": 1478,
    "start_time": "2022-11-06T14:31:33.028Z"
   },
   {
    "duration": 15,
    "start_time": "2022-11-06T14:31:37.453Z"
   },
   {
    "duration": 3,
    "start_time": "2022-11-06T14:31:37.960Z"
   },
   {
    "duration": 6,
    "start_time": "2022-11-06T14:31:38.507Z"
   },
   {
    "duration": 10,
    "start_time": "2022-11-06T14:31:40.007Z"
   },
   {
    "duration": 9,
    "start_time": "2022-11-06T14:31:44.828Z"
   },
   {
    "duration": 297,
    "start_time": "2022-11-06T14:31:46.428Z"
   },
   {
    "duration": 197,
    "start_time": "2022-11-06T14:31:47.103Z"
   },
   {
    "duration": 180,
    "start_time": "2022-11-06T14:31:48.040Z"
   },
   {
    "duration": 160,
    "start_time": "2022-11-06T14:31:48.580Z"
   },
   {
    "duration": 11,
    "start_time": "2022-11-06T14:31:49.359Z"
   },
   {
    "duration": 8,
    "start_time": "2022-11-06T14:31:50.488Z"
   },
   {
    "duration": 15,
    "start_time": "2022-11-06T14:35:21.285Z"
   },
   {
    "duration": 13,
    "start_time": "2022-11-06T14:35:33.985Z"
   },
   {
    "duration": 18,
    "start_time": "2022-11-06T14:36:30.620Z"
   },
   {
    "duration": 14,
    "start_time": "2022-11-06T14:36:51.433Z"
   },
   {
    "duration": 14,
    "start_time": "2022-11-06T14:36:56.339Z"
   },
   {
    "duration": 14,
    "start_time": "2022-11-06T14:37:25.166Z"
   },
   {
    "duration": 14,
    "start_time": "2022-11-06T14:37:30.091Z"
   },
   {
    "duration": 4,
    "start_time": "2022-11-06T14:38:18.286Z"
   },
   {
    "duration": 15,
    "start_time": "2022-11-06T14:38:19.030Z"
   },
   {
    "duration": 12,
    "start_time": "2022-11-06T14:38:19.671Z"
   },
   {
    "duration": 30,
    "start_time": "2022-11-06T14:38:29.406Z"
   },
   {
    "duration": 4,
    "start_time": "2022-11-06T14:39:05.619Z"
   },
   {
    "duration": 14,
    "start_time": "2022-11-06T14:39:07.578Z"
   },
   {
    "duration": 23,
    "start_time": "2022-11-06T14:39:07.950Z"
   },
   {
    "duration": 4,
    "start_time": "2022-11-06T14:40:32.045Z"
   },
   {
    "duration": 322,
    "start_time": "2022-11-06T14:40:32.526Z"
   },
   {
    "duration": 22,
    "start_time": "2022-11-06T14:40:33.048Z"
   },
   {
    "duration": 4,
    "start_time": "2022-11-06T14:40:47.618Z"
   },
   {
    "duration": 15,
    "start_time": "2022-11-06T14:40:47.998Z"
   },
   {
    "duration": 23,
    "start_time": "2022-11-06T14:40:49.357Z"
   },
   {
    "duration": 3,
    "start_time": "2022-11-06T14:42:22.278Z"
   },
   {
    "duration": 2,
    "start_time": "2022-11-06T14:42:32.726Z"
   },
   {
    "duration": 4,
    "start_time": "2022-11-06T14:42:42.934Z"
   },
   {
    "duration": 3,
    "start_time": "2022-11-06T14:42:58.486Z"
   },
   {
    "duration": 14,
    "start_time": "2022-11-06T14:42:58.881Z"
   },
   {
    "duration": 4,
    "start_time": "2022-11-06T14:42:59.297Z"
   },
   {
    "duration": 22,
    "start_time": "2022-11-06T14:43:00.746Z"
   },
   {
    "duration": 15,
    "start_time": "2022-11-06T14:43:26.973Z"
   },
   {
    "duration": 22,
    "start_time": "2022-11-06T14:43:27.245Z"
   },
   {
    "duration": 17,
    "start_time": "2022-11-06T14:44:26.869Z"
   },
   {
    "duration": 23,
    "start_time": "2022-11-06T14:44:50.425Z"
   },
   {
    "duration": 21,
    "start_time": "2022-11-06T14:45:26.255Z"
   },
   {
    "duration": 23,
    "start_time": "2022-11-06T14:46:20.023Z"
   },
   {
    "duration": 1340,
    "start_time": "2022-11-06T14:49:26.177Z"
   },
   {
    "duration": 86,
    "start_time": "2022-11-06T14:49:27.519Z"
   },
   {
    "duration": 17,
    "start_time": "2022-11-06T14:49:27.606Z"
   },
   {
    "duration": 10,
    "start_time": "2022-11-06T14:49:27.625Z"
   },
   {
    "duration": 11,
    "start_time": "2022-11-06T14:49:27.637Z"
   },
   {
    "duration": 24,
    "start_time": "2022-11-06T14:49:27.650Z"
   },
   {
    "duration": 3,
    "start_time": "2022-11-06T14:49:27.675Z"
   },
   {
    "duration": 3,
    "start_time": "2022-11-06T14:49:27.700Z"
   },
   {
    "duration": 9,
    "start_time": "2022-11-06T14:49:27.705Z"
   },
   {
    "duration": 7,
    "start_time": "2022-11-06T14:49:27.715Z"
   },
   {
    "duration": 16,
    "start_time": "2022-11-06T14:49:27.723Z"
   },
   {
    "duration": 2,
    "start_time": "2022-11-06T14:49:27.741Z"
   },
   {
    "duration": 315,
    "start_time": "2022-11-06T14:49:27.745Z"
   },
   {
    "duration": 194,
    "start_time": "2022-11-06T14:49:28.063Z"
   },
   {
    "duration": 4,
    "start_time": "2022-11-06T14:49:28.258Z"
   },
   {
    "duration": 463,
    "start_time": "2022-11-06T14:49:28.263Z"
   },
   {
    "duration": 82,
    "start_time": "2022-11-06T14:49:28.727Z"
   },
   {
    "duration": 143,
    "start_time": "2022-11-06T14:49:28.810Z"
   },
   {
    "duration": 130,
    "start_time": "2022-11-06T14:49:28.955Z"
   },
   {
    "duration": 20,
    "start_time": "2022-11-06T14:49:29.087Z"
   },
   {
    "duration": 7,
    "start_time": "2022-11-06T14:49:29.108Z"
   },
   {
    "duration": 13,
    "start_time": "2022-11-06T14:49:29.116Z"
   },
   {
    "duration": 12,
    "start_time": "2022-11-06T14:49:29.131Z"
   },
   {
    "duration": 11,
    "start_time": "2022-11-06T14:49:29.145Z"
   },
   {
    "duration": 51,
    "start_time": "2022-11-06T14:49:29.158Z"
   },
   {
    "duration": 15,
    "start_time": "2022-11-06T14:49:29.210Z"
   },
   {
    "duration": 615,
    "start_time": "2022-11-06T14:49:29.226Z"
   },
   {
    "duration": 19,
    "start_time": "2022-11-06T14:49:29.843Z"
   },
   {
    "duration": 4032,
    "start_time": "2022-11-06T14:49:29.863Z"
   },
   {
    "duration": 10,
    "start_time": "2022-11-06T14:49:33.896Z"
   },
   {
    "duration": 2,
    "start_time": "2022-11-06T14:49:33.907Z"
   },
   {
    "duration": 12,
    "start_time": "2022-11-06T14:49:33.910Z"
   },
   {
    "duration": 5,
    "start_time": "2022-11-06T14:49:33.923Z"
   },
   {
    "duration": 9,
    "start_time": "2022-11-06T14:49:33.929Z"
   },
   {
    "duration": 9,
    "start_time": "2022-11-06T14:49:33.939Z"
   },
   {
    "duration": 4,
    "start_time": "2022-11-06T14:49:33.949Z"
   },
   {
    "duration": 16,
    "start_time": "2022-11-06T14:49:33.954Z"
   },
   {
    "duration": 33,
    "start_time": "2022-11-06T14:49:33.972Z"
   },
   {
    "duration": 23,
    "start_time": "2022-11-06T14:49:34.006Z"
   },
   {
    "duration": 6,
    "start_time": "2022-11-06T14:49:34.030Z"
   },
   {
    "duration": 1537,
    "start_time": "2022-11-06T14:49:34.039Z"
   },
   {
    "duration": 24,
    "start_time": "2022-11-06T14:49:35.578Z"
   },
   {
    "duration": 3,
    "start_time": "2022-11-06T14:49:35.604Z"
   },
   {
    "duration": 11,
    "start_time": "2022-11-06T14:49:35.608Z"
   },
   {
    "duration": 12,
    "start_time": "2022-11-06T14:49:35.620Z"
   },
   {
    "duration": 12,
    "start_time": "2022-11-06T14:49:35.634Z"
   },
   {
    "duration": 168,
    "start_time": "2022-11-06T14:49:35.647Z"
   },
   {
    "duration": 202,
    "start_time": "2022-11-06T14:49:35.817Z"
   },
   {
    "duration": 192,
    "start_time": "2022-11-06T14:49:36.021Z"
   },
   {
    "duration": 169,
    "start_time": "2022-11-06T14:49:36.215Z"
   },
   {
    "duration": 18,
    "start_time": "2022-11-06T14:49:36.386Z"
   },
   {
    "duration": 11,
    "start_time": "2022-11-06T14:49:36.405Z"
   },
   {
    "duration": 18,
    "start_time": "2022-11-06T14:49:36.417Z"
   },
   {
    "duration": 10,
    "start_time": "2022-11-06T14:49:36.437Z"
   },
   {
    "duration": 25,
    "start_time": "2022-11-06T14:50:11.897Z"
   },
   {
    "duration": 26,
    "start_time": "2022-11-06T14:50:26.984Z"
   },
   {
    "duration": 129,
    "start_time": "2022-11-06T14:51:09.824Z"
   },
   {
    "duration": 28,
    "start_time": "2022-11-06T14:51:20.317Z"
   },
   {
    "duration": 8,
    "start_time": "2022-11-06T14:51:45.851Z"
   },
   {
    "duration": 30,
    "start_time": "2022-11-06T14:52:00.853Z"
   },
   {
    "duration": 20,
    "start_time": "2022-11-06T14:52:14.128Z"
   },
   {
    "duration": 22,
    "start_time": "2022-11-06T14:52:18.117Z"
   },
   {
    "duration": 23,
    "start_time": "2022-11-06T14:52:18.278Z"
   },
   {
    "duration": 7,
    "start_time": "2022-11-06T14:52:18.453Z"
   },
   {
    "duration": 1441,
    "start_time": "2022-11-06T14:52:18.606Z"
   },
   {
    "duration": 18,
    "start_time": "2022-11-06T14:52:20.049Z"
   },
   {
    "duration": 4,
    "start_time": "2022-11-06T14:52:20.068Z"
   },
   {
    "duration": 15,
    "start_time": "2022-11-06T14:52:20.074Z"
   },
   {
    "duration": 10,
    "start_time": "2022-11-06T14:52:20.211Z"
   },
   {
    "duration": 9,
    "start_time": "2022-11-06T14:52:22.717Z"
   },
   {
    "duration": 302,
    "start_time": "2022-11-06T14:52:22.895Z"
   },
   {
    "duration": 197,
    "start_time": "2022-11-06T14:52:23.198Z"
   },
   {
    "duration": 206,
    "start_time": "2022-11-06T14:52:23.845Z"
   },
   {
    "duration": 169,
    "start_time": "2022-11-06T14:52:24.256Z"
   },
   {
    "duration": 14,
    "start_time": "2022-11-06T14:52:24.705Z"
   },
   {
    "duration": 8,
    "start_time": "2022-11-06T14:52:26.253Z"
   },
   {
    "duration": 22,
    "start_time": "2022-11-06T14:52:34.785Z"
   },
   {
    "duration": 8,
    "start_time": "2022-11-06T14:52:36.817Z"
   },
   {
    "duration": 41,
    "start_time": "2022-11-06T14:53:04.306Z"
   },
   {
    "duration": 11,
    "start_time": "2022-11-06T14:53:14.672Z"
   },
   {
    "duration": 10,
    "start_time": "2022-11-06T14:53:45.711Z"
   },
   {
    "duration": 12,
    "start_time": "2022-11-06T14:53:58.562Z"
   },
   {
    "duration": 1469,
    "start_time": "2022-11-06T21:05:41.874Z"
   },
   {
    "duration": 77,
    "start_time": "2022-11-06T21:05:43.345Z"
   },
   {
    "duration": 18,
    "start_time": "2022-11-06T21:05:43.424Z"
   },
   {
    "duration": 10,
    "start_time": "2022-11-06T21:05:43.444Z"
   },
   {
    "duration": 15,
    "start_time": "2022-11-06T21:05:43.456Z"
   },
   {
    "duration": 44,
    "start_time": "2022-11-06T21:05:43.472Z"
   },
   {
    "duration": 10,
    "start_time": "2022-11-06T21:05:43.521Z"
   },
   {
    "duration": 22,
    "start_time": "2022-11-06T21:05:43.532Z"
   },
   {
    "duration": 25,
    "start_time": "2022-11-06T21:05:43.556Z"
   },
   {
    "duration": 14,
    "start_time": "2022-11-06T21:05:43.583Z"
   },
   {
    "duration": 32,
    "start_time": "2022-11-06T21:05:43.599Z"
   },
   {
    "duration": 4,
    "start_time": "2022-11-06T21:05:43.633Z"
   },
   {
    "duration": 318,
    "start_time": "2022-11-06T21:05:43.638Z"
   },
   {
    "duration": 193,
    "start_time": "2022-11-06T21:05:43.959Z"
   },
   {
    "duration": 3,
    "start_time": "2022-11-06T21:05:44.153Z"
   },
   {
    "duration": 477,
    "start_time": "2022-11-06T21:05:44.158Z"
   },
   {
    "duration": 86,
    "start_time": "2022-11-06T21:05:44.637Z"
   },
   {
    "duration": 146,
    "start_time": "2022-11-06T21:05:44.724Z"
   },
   {
    "duration": 128,
    "start_time": "2022-11-06T21:05:44.872Z"
   },
   {
    "duration": 25,
    "start_time": "2022-11-06T21:05:45.001Z"
   },
   {
    "duration": 6,
    "start_time": "2022-11-06T21:05:45.028Z"
   },
   {
    "duration": 20,
    "start_time": "2022-11-06T21:05:45.036Z"
   },
   {
    "duration": 14,
    "start_time": "2022-11-06T21:05:45.058Z"
   },
   {
    "duration": 13,
    "start_time": "2022-11-06T21:05:45.074Z"
   },
   {
    "duration": 41,
    "start_time": "2022-11-06T21:05:45.089Z"
   },
   {
    "duration": 20,
    "start_time": "2022-11-06T21:05:45.132Z"
   },
   {
    "duration": 517,
    "start_time": "2022-11-06T21:05:45.153Z"
   },
   {
    "duration": 22,
    "start_time": "2022-11-06T21:05:45.672Z"
   },
   {
    "duration": 4083,
    "start_time": "2022-11-06T21:05:45.697Z"
   },
   {
    "duration": 9,
    "start_time": "2022-11-06T21:05:49.782Z"
   },
   {
    "duration": 2,
    "start_time": "2022-11-06T21:05:49.792Z"
   },
   {
    "duration": 8,
    "start_time": "2022-11-06T21:05:49.796Z"
   },
   {
    "duration": 5,
    "start_time": "2022-11-06T21:05:49.806Z"
   },
   {
    "duration": 6,
    "start_time": "2022-11-06T21:05:49.821Z"
   },
   {
    "duration": 8,
    "start_time": "2022-11-06T21:05:49.828Z"
   },
   {
    "duration": 5,
    "start_time": "2022-11-06T21:05:49.837Z"
   },
   {
    "duration": 18,
    "start_time": "2022-11-06T21:05:49.843Z"
   },
   {
    "duration": 23,
    "start_time": "2022-11-06T21:05:49.862Z"
   },
   {
    "duration": 42,
    "start_time": "2022-11-06T21:05:49.887Z"
   },
   {
    "duration": 6,
    "start_time": "2022-11-06T21:05:49.931Z"
   },
   {
    "duration": 1551,
    "start_time": "2022-11-06T21:05:49.941Z"
   },
   {
    "duration": 18,
    "start_time": "2022-11-06T21:05:51.494Z"
   },
   {
    "duration": 4,
    "start_time": "2022-11-06T21:05:51.521Z"
   },
   {
    "duration": 9,
    "start_time": "2022-11-06T21:05:51.526Z"
   },
   {
    "duration": 9,
    "start_time": "2022-11-06T21:05:51.536Z"
   },
   {
    "duration": 11,
    "start_time": "2022-11-06T21:05:51.547Z"
   },
   {
    "duration": 181,
    "start_time": "2022-11-06T21:05:51.559Z"
   },
   {
    "duration": 202,
    "start_time": "2022-11-06T21:05:51.742Z"
   },
   {
    "duration": 203,
    "start_time": "2022-11-06T21:05:51.945Z"
   },
   {
    "duration": 161,
    "start_time": "2022-11-06T21:05:52.149Z"
   },
   {
    "duration": 17,
    "start_time": "2022-11-06T21:05:52.311Z"
   },
   {
    "duration": 11,
    "start_time": "2022-11-06T21:05:52.330Z"
   },
   {
    "duration": 27,
    "start_time": "2022-11-06T21:05:52.343Z"
   },
   {
    "duration": 9,
    "start_time": "2022-11-06T21:05:52.371Z"
   },
   {
    "duration": 16,
    "start_time": "2022-11-06T21:05:52.381Z"
   },
   {
    "duration": 124,
    "start_time": "2022-11-06T21:06:28.642Z"
   },
   {
    "duration": 10,
    "start_time": "2022-11-06T21:06:37.949Z"
   },
   {
    "duration": 11,
    "start_time": "2022-11-06T21:07:18.153Z"
   },
   {
    "duration": 9,
    "start_time": "2022-11-06T21:08:14.461Z"
   },
   {
    "duration": 15,
    "start_time": "2022-11-06T21:13:15.300Z"
   },
   {
    "duration": 30,
    "start_time": "2022-11-06T21:13:15.670Z"
   },
   {
    "duration": 31,
    "start_time": "2022-11-06T21:13:16.318Z"
   },
   {
    "duration": 8,
    "start_time": "2022-11-06T21:13:16.840Z"
   },
   {
    "duration": 1599,
    "start_time": "2022-11-06T21:13:17.317Z"
   },
   {
    "duration": 25,
    "start_time": "2022-11-06T21:13:18.921Z"
   },
   {
    "duration": 7,
    "start_time": "2022-11-06T21:13:18.948Z"
   },
   {
    "duration": 6,
    "start_time": "2022-11-06T21:13:19.278Z"
   },
   {
    "duration": 11,
    "start_time": "2022-11-06T21:13:19.825Z"
   },
   {
    "duration": 10,
    "start_time": "2022-11-06T21:13:20.609Z"
   },
   {
    "duration": 285,
    "start_time": "2022-11-06T21:13:21.177Z"
   },
   {
    "duration": 202,
    "start_time": "2022-11-06T21:13:23.450Z"
   },
   {
    "duration": 205,
    "start_time": "2022-11-06T21:13:26.170Z"
   },
   {
    "duration": 169,
    "start_time": "2022-11-06T21:13:29.693Z"
   },
   {
    "duration": 12,
    "start_time": "2022-11-06T21:13:32.595Z"
   },
   {
    "duration": 14,
    "start_time": "2022-11-06T21:13:32.970Z"
   },
   {
    "duration": 911,
    "start_time": "2022-11-06T21:14:32.098Z"
   },
   {
    "duration": 6,
    "start_time": "2022-11-06T21:14:49.370Z"
   },
   {
    "duration": 5,
    "start_time": "2022-11-06T21:14:57.700Z"
   },
   {
    "duration": 12,
    "start_time": "2022-11-06T21:15:03.349Z"
   },
   {
    "duration": 5,
    "start_time": "2022-11-06T21:15:35.779Z"
   },
   {
    "duration": 5,
    "start_time": "2022-11-06T21:16:02.978Z"
   },
   {
    "duration": 10,
    "start_time": "2022-11-06T21:17:14.818Z"
   },
   {
    "duration": 5,
    "start_time": "2022-11-06T21:17:18.810Z"
   },
   {
    "duration": 5,
    "start_time": "2022-11-06T21:17:24.572Z"
   },
   {
    "duration": 4,
    "start_time": "2022-11-06T21:17:34.489Z"
   },
   {
    "duration": 4,
    "start_time": "2022-11-06T21:17:46.438Z"
   },
   {
    "duration": 4,
    "start_time": "2022-11-06T21:17:56.890Z"
   },
   {
    "duration": 5,
    "start_time": "2022-11-06T21:18:15.450Z"
   },
   {
    "duration": 5,
    "start_time": "2022-11-06T21:18:39.452Z"
   },
   {
    "duration": 5,
    "start_time": "2022-11-06T21:18:41.380Z"
   },
   {
    "duration": 5,
    "start_time": "2022-11-06T21:18:42.988Z"
   },
   {
    "duration": 48,
    "start_time": "2022-11-06T21:19:16.885Z"
   },
   {
    "duration": 5,
    "start_time": "2022-11-06T21:19:21.388Z"
   },
   {
    "duration": 6,
    "start_time": "2022-11-06T21:19:27.672Z"
   },
   {
    "duration": 4,
    "start_time": "2022-11-06T21:19:32.764Z"
   },
   {
    "duration": 867,
    "start_time": "2022-11-06T21:20:23.952Z"
   },
   {
    "duration": 7,
    "start_time": "2022-11-06T21:20:29.001Z"
   },
   {
    "duration": 7,
    "start_time": "2022-11-06T21:20:33.668Z"
   },
   {
    "duration": 5,
    "start_time": "2022-11-06T21:20:34.473Z"
   },
   {
    "duration": 5,
    "start_time": "2022-11-06T21:21:57.573Z"
   },
   {
    "duration": 4,
    "start_time": "2022-11-06T21:23:51.060Z"
   },
   {
    "duration": 5,
    "start_time": "2022-11-06T21:23:58.883Z"
   },
   {
    "duration": 4,
    "start_time": "2022-11-06T21:24:08.340Z"
   },
   {
    "duration": 4,
    "start_time": "2022-11-06T21:24:16.820Z"
   },
   {
    "duration": 5,
    "start_time": "2022-11-06T21:24:21.072Z"
   },
   {
    "duration": 4,
    "start_time": "2022-11-06T21:24:23.972Z"
   },
   {
    "duration": 4,
    "start_time": "2022-11-06T21:24:27.094Z"
   },
   {
    "duration": 5,
    "start_time": "2022-11-06T21:25:09.327Z"
   },
   {
    "duration": 5,
    "start_time": "2022-11-06T21:25:24.687Z"
   },
   {
    "duration": 6,
    "start_time": "2022-11-06T21:25:47.019Z"
   },
   {
    "duration": 4,
    "start_time": "2022-11-06T21:26:04.651Z"
   },
   {
    "duration": 5,
    "start_time": "2022-11-06T21:26:16.779Z"
   },
   {
    "duration": 5,
    "start_time": "2022-11-06T21:26:22.227Z"
   },
   {
    "duration": 6,
    "start_time": "2022-11-06T21:26:35.495Z"
   },
   {
    "duration": 5,
    "start_time": "2022-11-06T21:26:39.828Z"
   },
   {
    "duration": 4,
    "start_time": "2022-11-06T21:26:48.147Z"
   },
   {
    "duration": 5,
    "start_time": "2022-11-06T21:26:54.619Z"
   },
   {
    "duration": 9,
    "start_time": "2022-11-06T21:28:22.270Z"
   },
   {
    "duration": 8,
    "start_time": "2022-11-06T21:28:30.304Z"
   },
   {
    "duration": 9,
    "start_time": "2022-11-06T21:28:52.914Z"
   },
   {
    "duration": 6,
    "start_time": "2022-11-06T21:29:15.334Z"
   },
   {
    "duration": 28494,
    "start_time": "2022-11-06T21:32:41.155Z"
   },
   {
    "duration": 18,
    "start_time": "2022-11-06T21:33:12.449Z"
   },
   {
    "duration": 197,
    "start_time": "2022-11-06T21:33:47.961Z"
   },
   {
    "duration": 4,
    "start_time": "2022-11-06T21:34:14.792Z"
   },
   {
    "duration": 5,
    "start_time": "2022-11-06T21:34:27.653Z"
   },
   {
    "duration": 4,
    "start_time": "2022-11-06T21:34:47.121Z"
   },
   {
    "duration": 4,
    "start_time": "2022-11-06T21:34:58.149Z"
   },
   {
    "duration": 4,
    "start_time": "2022-11-06T21:35:14.361Z"
   },
   {
    "duration": 4,
    "start_time": "2022-11-06T21:35:26.479Z"
   },
   {
    "duration": 5,
    "start_time": "2022-11-06T21:35:37.096Z"
   },
   {
    "duration": 5,
    "start_time": "2022-11-06T21:35:40.968Z"
   },
   {
    "duration": 16,
    "start_time": "2022-11-06T21:37:16.137Z"
   },
   {
    "duration": 21,
    "start_time": "2022-11-06T21:38:22.857Z"
   },
   {
    "duration": 176,
    "start_time": "2022-11-06T21:38:34.696Z"
   },
   {
    "duration": 611,
    "start_time": "2022-11-06T21:40:34.022Z"
   },
   {
    "duration": 60,
    "start_time": "2022-11-06T21:40:54.921Z"
   },
   {
    "duration": 115,
    "start_time": "2022-11-06T21:40:59.310Z"
   },
   {
    "duration": 4,
    "start_time": "2022-11-06T21:42:03.313Z"
   },
   {
    "duration": 5,
    "start_time": "2022-11-06T21:42:15.047Z"
   },
   {
    "duration": 7,
    "start_time": "2022-11-06T21:45:47.662Z"
   },
   {
    "duration": 4,
    "start_time": "2022-11-06T21:45:51.102Z"
   },
   {
    "duration": 6,
    "start_time": "2022-11-06T21:45:53.441Z"
   },
   {
    "duration": 10,
    "start_time": "2022-11-06T21:46:02.382Z"
   },
   {
    "duration": 5,
    "start_time": "2022-11-06T21:46:03.250Z"
   },
   {
    "duration": 5,
    "start_time": "2022-11-06T21:46:04.134Z"
   },
   {
    "duration": 8,
    "start_time": "2022-11-06T21:47:23.800Z"
   },
   {
    "duration": 4,
    "start_time": "2022-11-06T21:47:24.913Z"
   },
   {
    "duration": 5,
    "start_time": "2022-11-06T21:47:26.542Z"
   },
   {
    "duration": 9,
    "start_time": "2022-11-06T21:48:15.822Z"
   },
   {
    "duration": 5,
    "start_time": "2022-11-06T21:51:00.455Z"
   },
   {
    "duration": 6,
    "start_time": "2022-11-06T21:51:11.147Z"
   },
   {
    "duration": 5,
    "start_time": "2022-11-06T21:55:43.758Z"
   },
   {
    "duration": 8,
    "start_time": "2022-11-06T21:55:46.618Z"
   },
   {
    "duration": 5,
    "start_time": "2022-11-06T21:55:47.566Z"
   },
   {
    "duration": 13,
    "start_time": "2022-11-06T21:58:31.186Z"
   },
   {
    "duration": 151,
    "start_time": "2022-11-06T22:00:20.625Z"
   },
   {
    "duration": 187,
    "start_time": "2022-11-06T22:20:57.226Z"
   },
   {
    "duration": 1300,
    "start_time": "2022-11-06T22:21:20.365Z"
   },
   {
    "duration": 73,
    "start_time": "2022-11-06T22:21:21.667Z"
   },
   {
    "duration": 17,
    "start_time": "2022-11-06T22:21:21.741Z"
   },
   {
    "duration": 9,
    "start_time": "2022-11-06T22:21:21.760Z"
   },
   {
    "duration": 10,
    "start_time": "2022-11-06T22:21:21.770Z"
   },
   {
    "duration": 45,
    "start_time": "2022-11-06T22:21:21.781Z"
   },
   {
    "duration": 4,
    "start_time": "2022-11-06T22:21:21.827Z"
   },
   {
    "duration": 5,
    "start_time": "2022-11-06T22:21:21.833Z"
   },
   {
    "duration": 6,
    "start_time": "2022-11-06T22:21:21.839Z"
   },
   {
    "duration": 4,
    "start_time": "2022-11-06T22:21:21.848Z"
   },
   {
    "duration": 13,
    "start_time": "2022-11-06T22:21:21.853Z"
   },
   {
    "duration": 3,
    "start_time": "2022-11-06T22:21:21.867Z"
   },
   {
    "duration": 324,
    "start_time": "2022-11-06T22:21:21.872Z"
   },
   {
    "duration": 197,
    "start_time": "2022-11-06T22:21:22.198Z"
   },
   {
    "duration": 3,
    "start_time": "2022-11-06T22:21:22.397Z"
   },
   {
    "duration": 463,
    "start_time": "2022-11-06T22:21:22.402Z"
   },
   {
    "duration": 84,
    "start_time": "2022-11-06T22:21:22.866Z"
   },
   {
    "duration": 158,
    "start_time": "2022-11-06T22:21:22.952Z"
   },
   {
    "duration": 136,
    "start_time": "2022-11-06T22:21:23.112Z"
   },
   {
    "duration": 13,
    "start_time": "2022-11-06T22:21:23.250Z"
   },
   {
    "duration": 5,
    "start_time": "2022-11-06T22:21:23.265Z"
   },
   {
    "duration": 21,
    "start_time": "2022-11-06T22:21:23.272Z"
   },
   {
    "duration": 11,
    "start_time": "2022-11-06T22:21:23.295Z"
   },
   {
    "duration": 10,
    "start_time": "2022-11-06T22:21:23.323Z"
   },
   {
    "duration": 10,
    "start_time": "2022-11-06T22:21:23.334Z"
   },
   {
    "duration": 13,
    "start_time": "2022-11-06T22:21:23.345Z"
   },
   {
    "duration": 520,
    "start_time": "2022-11-06T22:21:23.359Z"
   },
   {
    "duration": 17,
    "start_time": "2022-11-06T22:21:23.883Z"
   },
   {
    "duration": 4003,
    "start_time": "2022-11-06T22:21:23.902Z"
   },
   {
    "duration": 9,
    "start_time": "2022-11-06T22:21:27.906Z"
   },
   {
    "duration": 2,
    "start_time": "2022-11-06T22:21:27.916Z"
   },
   {
    "duration": 8,
    "start_time": "2022-11-06T22:21:27.919Z"
   },
   {
    "duration": 5,
    "start_time": "2022-11-06T22:21:27.928Z"
   },
   {
    "duration": 7,
    "start_time": "2022-11-06T22:21:27.935Z"
   },
   {
    "duration": 7,
    "start_time": "2022-11-06T22:21:27.944Z"
   },
   {
    "duration": 4,
    "start_time": "2022-11-06T22:21:27.952Z"
   },
   {
    "duration": 17,
    "start_time": "2022-11-06T22:21:27.957Z"
   },
   {
    "duration": 25,
    "start_time": "2022-11-06T22:21:27.975Z"
   },
   {
    "duration": 42,
    "start_time": "2022-11-06T22:21:28.001Z"
   },
   {
    "duration": 6,
    "start_time": "2022-11-06T22:21:28.044Z"
   },
   {
    "duration": 1580,
    "start_time": "2022-11-06T22:21:28.051Z"
   },
   {
    "duration": 18,
    "start_time": "2022-11-06T22:21:29.633Z"
   },
   {
    "duration": 3,
    "start_time": "2022-11-06T22:21:29.652Z"
   },
   {
    "duration": 10,
    "start_time": "2022-11-06T22:21:29.657Z"
   },
   {
    "duration": 14,
    "start_time": "2022-11-06T22:21:29.668Z"
   },
   {
    "duration": 15,
    "start_time": "2022-11-06T22:21:29.683Z"
   },
   {
    "duration": 175,
    "start_time": "2022-11-06T22:21:29.700Z"
   },
   {
    "duration": 214,
    "start_time": "2022-11-06T22:21:29.877Z"
   },
   {
    "duration": 194,
    "start_time": "2022-11-06T22:21:30.092Z"
   },
   {
    "duration": 162,
    "start_time": "2022-11-06T22:21:30.288Z"
   },
   {
    "duration": 11,
    "start_time": "2022-11-06T22:21:30.453Z"
   },
   {
    "duration": 16,
    "start_time": "2022-11-06T22:21:30.466Z"
   },
   {
    "duration": 10,
    "start_time": "2022-11-06T22:21:30.484Z"
   },
   {
    "duration": 5,
    "start_time": "2022-11-06T22:21:30.496Z"
   },
   {
    "duration": 24,
    "start_time": "2022-11-06T22:21:30.502Z"
   },
   {
    "duration": 5,
    "start_time": "2022-11-06T22:21:30.527Z"
   },
   {
    "duration": 183,
    "start_time": "2022-11-06T22:27:23.184Z"
   },
   {
    "duration": 1352,
    "start_time": "2022-11-06T22:27:32.308Z"
   },
   {
    "duration": 75,
    "start_time": "2022-11-06T22:27:33.662Z"
   },
   {
    "duration": 18,
    "start_time": "2022-11-06T22:27:33.738Z"
   },
   {
    "duration": 9,
    "start_time": "2022-11-06T22:27:33.758Z"
   },
   {
    "duration": 8,
    "start_time": "2022-11-06T22:27:33.769Z"
   },
   {
    "duration": 44,
    "start_time": "2022-11-06T22:27:33.779Z"
   },
   {
    "duration": 4,
    "start_time": "2022-11-06T22:27:33.825Z"
   },
   {
    "duration": 6,
    "start_time": "2022-11-06T22:27:33.830Z"
   },
   {
    "duration": 7,
    "start_time": "2022-11-06T22:27:33.837Z"
   },
   {
    "duration": 4,
    "start_time": "2022-11-06T22:27:33.846Z"
   },
   {
    "duration": 13,
    "start_time": "2022-11-06T22:27:33.851Z"
   },
   {
    "duration": 2,
    "start_time": "2022-11-06T22:27:33.866Z"
   },
   {
    "duration": 327,
    "start_time": "2022-11-06T22:27:33.869Z"
   },
   {
    "duration": 191,
    "start_time": "2022-11-06T22:27:34.197Z"
   },
   {
    "duration": 3,
    "start_time": "2022-11-06T22:27:34.389Z"
   },
   {
    "duration": 472,
    "start_time": "2022-11-06T22:27:34.394Z"
   },
   {
    "duration": 85,
    "start_time": "2022-11-06T22:27:34.867Z"
   },
   {
    "duration": 164,
    "start_time": "2022-11-06T22:27:34.954Z"
   },
   {
    "duration": 138,
    "start_time": "2022-11-06T22:27:35.122Z"
   },
   {
    "duration": 14,
    "start_time": "2022-11-06T22:27:35.261Z"
   },
   {
    "duration": 7,
    "start_time": "2022-11-06T22:27:35.276Z"
   },
   {
    "duration": 17,
    "start_time": "2022-11-06T22:27:35.284Z"
   },
   {
    "duration": 31,
    "start_time": "2022-11-06T22:27:35.302Z"
   },
   {
    "duration": 12,
    "start_time": "2022-11-06T22:27:35.335Z"
   },
   {
    "duration": 11,
    "start_time": "2022-11-06T22:27:35.348Z"
   },
   {
    "duration": 15,
    "start_time": "2022-11-06T22:27:35.360Z"
   },
   {
    "duration": 536,
    "start_time": "2022-11-06T22:27:35.377Z"
   },
   {
    "duration": 18,
    "start_time": "2022-11-06T22:27:35.921Z"
   },
   {
    "duration": 4044,
    "start_time": "2022-11-06T22:27:35.940Z"
   },
   {
    "duration": 8,
    "start_time": "2022-11-06T22:27:39.986Z"
   },
   {
    "duration": 3,
    "start_time": "2022-11-06T22:27:39.996Z"
   },
   {
    "duration": 30,
    "start_time": "2022-11-06T22:27:40.000Z"
   },
   {
    "duration": 21,
    "start_time": "2022-11-06T22:27:40.032Z"
   },
   {
    "duration": 14,
    "start_time": "2022-11-06T22:27:40.054Z"
   },
   {
    "duration": 9,
    "start_time": "2022-11-06T22:27:40.069Z"
   },
   {
    "duration": 7,
    "start_time": "2022-11-06T22:27:40.079Z"
   },
   {
    "duration": 15,
    "start_time": "2022-11-06T22:27:40.087Z"
   },
   {
    "duration": 28,
    "start_time": "2022-11-06T22:27:40.103Z"
   },
   {
    "duration": 24,
    "start_time": "2022-11-06T22:27:40.133Z"
   },
   {
    "duration": 6,
    "start_time": "2022-11-06T22:27:40.158Z"
   },
   {
    "duration": 1517,
    "start_time": "2022-11-06T22:27:40.165Z"
   },
   {
    "duration": 18,
    "start_time": "2022-11-06T22:27:41.684Z"
   },
   {
    "duration": 3,
    "start_time": "2022-11-06T22:27:41.704Z"
   },
   {
    "duration": 17,
    "start_time": "2022-11-06T22:27:41.708Z"
   },
   {
    "duration": 23,
    "start_time": "2022-11-06T22:27:41.726Z"
   },
   {
    "duration": 14,
    "start_time": "2022-11-06T22:27:41.751Z"
   },
   {
    "duration": 159,
    "start_time": "2022-11-06T22:27:41.767Z"
   },
   {
    "duration": 209,
    "start_time": "2022-11-06T22:27:41.928Z"
   },
   {
    "duration": 202,
    "start_time": "2022-11-06T22:27:42.139Z"
   },
   {
    "duration": 165,
    "start_time": "2022-11-06T22:27:42.343Z"
   },
   {
    "duration": 15,
    "start_time": "2022-11-06T22:27:42.510Z"
   },
   {
    "duration": 17,
    "start_time": "2022-11-06T22:27:42.526Z"
   },
   {
    "duration": 12,
    "start_time": "2022-11-06T22:27:42.544Z"
   },
   {
    "duration": 17,
    "start_time": "2022-11-06T22:27:42.558Z"
   },
   {
    "duration": 17,
    "start_time": "2022-11-06T22:27:42.576Z"
   },
   {
    "duration": 12,
    "start_time": "2022-11-06T22:27:42.595Z"
   },
   {
    "duration": 146,
    "start_time": "2022-11-06T22:33:13.891Z"
   },
   {
    "duration": 283,
    "start_time": "2022-11-06T22:33:29.395Z"
   },
   {
    "duration": 7,
    "start_time": "2022-11-06T22:35:10.891Z"
   },
   {
    "duration": 1325,
    "start_time": "2022-11-06T22:35:22.221Z"
   },
   {
    "duration": 74,
    "start_time": "2022-11-06T22:35:23.548Z"
   },
   {
    "duration": 17,
    "start_time": "2022-11-06T22:35:23.624Z"
   },
   {
    "duration": 10,
    "start_time": "2022-11-06T22:35:23.643Z"
   },
   {
    "duration": 27,
    "start_time": "2022-11-06T22:35:23.654Z"
   },
   {
    "duration": 33,
    "start_time": "2022-11-06T22:35:23.683Z"
   },
   {
    "duration": 5,
    "start_time": "2022-11-06T22:35:23.717Z"
   },
   {
    "duration": 7,
    "start_time": "2022-11-06T22:35:23.724Z"
   },
   {
    "duration": 7,
    "start_time": "2022-11-06T22:35:23.732Z"
   },
   {
    "duration": 4,
    "start_time": "2022-11-06T22:35:23.741Z"
   },
   {
    "duration": 138,
    "start_time": "2022-11-06T22:35:23.747Z"
   },
   {
    "duration": 0,
    "start_time": "2022-11-06T22:35:23.889Z"
   },
   {
    "duration": 0,
    "start_time": "2022-11-06T22:35:23.891Z"
   },
   {
    "duration": 0,
    "start_time": "2022-11-06T22:35:23.892Z"
   },
   {
    "duration": 0,
    "start_time": "2022-11-06T22:35:23.893Z"
   },
   {
    "duration": 0,
    "start_time": "2022-11-06T22:35:23.894Z"
   },
   {
    "duration": 0,
    "start_time": "2022-11-06T22:35:23.895Z"
   },
   {
    "duration": 0,
    "start_time": "2022-11-06T22:35:23.896Z"
   },
   {
    "duration": 0,
    "start_time": "2022-11-06T22:35:23.897Z"
   },
   {
    "duration": 0,
    "start_time": "2022-11-06T22:35:23.898Z"
   },
   {
    "duration": 0,
    "start_time": "2022-11-06T22:35:23.899Z"
   },
   {
    "duration": 0,
    "start_time": "2022-11-06T22:35:23.900Z"
   },
   {
    "duration": 0,
    "start_time": "2022-11-06T22:35:23.901Z"
   },
   {
    "duration": 0,
    "start_time": "2022-11-06T22:35:23.902Z"
   },
   {
    "duration": 0,
    "start_time": "2022-11-06T22:35:23.922Z"
   },
   {
    "duration": 0,
    "start_time": "2022-11-06T22:35:23.923Z"
   },
   {
    "duration": 0,
    "start_time": "2022-11-06T22:35:23.924Z"
   },
   {
    "duration": 0,
    "start_time": "2022-11-06T22:35:23.925Z"
   },
   {
    "duration": 0,
    "start_time": "2022-11-06T22:35:23.926Z"
   },
   {
    "duration": 0,
    "start_time": "2022-11-06T22:35:23.927Z"
   },
   {
    "duration": 0,
    "start_time": "2022-11-06T22:35:23.928Z"
   },
   {
    "duration": 0,
    "start_time": "2022-11-06T22:35:23.929Z"
   },
   {
    "duration": 0,
    "start_time": "2022-11-06T22:35:23.930Z"
   },
   {
    "duration": 0,
    "start_time": "2022-11-06T22:35:23.931Z"
   },
   {
    "duration": 0,
    "start_time": "2022-11-06T22:35:23.932Z"
   },
   {
    "duration": 0,
    "start_time": "2022-11-06T22:35:23.933Z"
   },
   {
    "duration": 0,
    "start_time": "2022-11-06T22:35:23.934Z"
   },
   {
    "duration": 0,
    "start_time": "2022-11-06T22:35:23.935Z"
   },
   {
    "duration": 0,
    "start_time": "2022-11-06T22:35:23.936Z"
   },
   {
    "duration": 0,
    "start_time": "2022-11-06T22:35:23.937Z"
   },
   {
    "duration": 0,
    "start_time": "2022-11-06T22:35:23.938Z"
   },
   {
    "duration": 0,
    "start_time": "2022-11-06T22:35:23.939Z"
   },
   {
    "duration": 0,
    "start_time": "2022-11-06T22:35:23.940Z"
   },
   {
    "duration": 0,
    "start_time": "2022-11-06T22:35:23.941Z"
   },
   {
    "duration": 0,
    "start_time": "2022-11-06T22:35:23.942Z"
   },
   {
    "duration": 0,
    "start_time": "2022-11-06T22:35:23.943Z"
   },
   {
    "duration": 0,
    "start_time": "2022-11-06T22:35:23.944Z"
   },
   {
    "duration": 0,
    "start_time": "2022-11-06T22:35:23.944Z"
   },
   {
    "duration": 0,
    "start_time": "2022-11-06T22:35:23.946Z"
   },
   {
    "duration": 0,
    "start_time": "2022-11-06T22:35:23.947Z"
   },
   {
    "duration": 0,
    "start_time": "2022-11-06T22:35:23.948Z"
   },
   {
    "duration": 0,
    "start_time": "2022-11-06T22:35:23.948Z"
   },
   {
    "duration": 0,
    "start_time": "2022-11-06T22:35:23.949Z"
   },
   {
    "duration": 0,
    "start_time": "2022-11-06T22:35:23.950Z"
   },
   {
    "duration": 0,
    "start_time": "2022-11-06T22:35:23.951Z"
   },
   {
    "duration": 0,
    "start_time": "2022-11-06T22:35:23.952Z"
   },
   {
    "duration": 1331,
    "start_time": "2022-11-06T22:35:46.416Z"
   },
   {
    "duration": 69,
    "start_time": "2022-11-06T22:35:47.749Z"
   },
   {
    "duration": 17,
    "start_time": "2022-11-06T22:35:47.819Z"
   },
   {
    "duration": 9,
    "start_time": "2022-11-06T22:35:47.838Z"
   },
   {
    "duration": 10,
    "start_time": "2022-11-06T22:35:47.849Z"
   },
   {
    "duration": 25,
    "start_time": "2022-11-06T22:35:47.861Z"
   },
   {
    "duration": 4,
    "start_time": "2022-11-06T22:35:47.887Z"
   },
   {
    "duration": 4,
    "start_time": "2022-11-06T22:35:47.922Z"
   },
   {
    "duration": 7,
    "start_time": "2022-11-06T22:35:47.927Z"
   },
   {
    "duration": 7,
    "start_time": "2022-11-06T22:35:47.935Z"
   },
   {
    "duration": 13,
    "start_time": "2022-11-06T22:35:47.943Z"
   },
   {
    "duration": 6,
    "start_time": "2022-11-06T22:35:47.958Z"
   },
   {
    "duration": 5,
    "start_time": "2022-11-06T22:35:47.965Z"
   },
   {
    "duration": 314,
    "start_time": "2022-11-06T22:35:47.972Z"
   },
   {
    "duration": 198,
    "start_time": "2022-11-06T22:35:48.287Z"
   },
   {
    "duration": 3,
    "start_time": "2022-11-06T22:35:48.487Z"
   },
   {
    "duration": 519,
    "start_time": "2022-11-06T22:35:48.491Z"
   },
   {
    "duration": 91,
    "start_time": "2022-11-06T22:35:49.012Z"
   },
   {
    "duration": 156,
    "start_time": "2022-11-06T22:35:49.105Z"
   },
   {
    "duration": 136,
    "start_time": "2022-11-06T22:35:49.262Z"
   },
   {
    "duration": 25,
    "start_time": "2022-11-06T22:35:49.399Z"
   },
   {
    "duration": 11,
    "start_time": "2022-11-06T22:35:49.426Z"
   },
   {
    "duration": 13,
    "start_time": "2022-11-06T22:35:49.438Z"
   },
   {
    "duration": 11,
    "start_time": "2022-11-06T22:35:49.452Z"
   },
   {
    "duration": 10,
    "start_time": "2022-11-06T22:35:49.465Z"
   },
   {
    "duration": 14,
    "start_time": "2022-11-06T22:35:49.477Z"
   },
   {
    "duration": 492,
    "start_time": "2022-11-06T22:35:49.522Z"
   },
   {
    "duration": 20,
    "start_time": "2022-11-06T22:35:50.016Z"
   },
   {
    "duration": 4014,
    "start_time": "2022-11-06T22:35:50.038Z"
   },
   {
    "duration": 9,
    "start_time": "2022-11-06T22:35:54.054Z"
   },
   {
    "duration": 3,
    "start_time": "2022-11-06T22:35:54.064Z"
   },
   {
    "duration": 7,
    "start_time": "2022-11-06T22:35:54.068Z"
   },
   {
    "duration": 5,
    "start_time": "2022-11-06T22:35:54.077Z"
   },
   {
    "duration": 10,
    "start_time": "2022-11-06T22:35:54.083Z"
   },
   {
    "duration": 8,
    "start_time": "2022-11-06T22:35:54.094Z"
   },
   {
    "duration": 4,
    "start_time": "2022-11-06T22:35:54.103Z"
   },
   {
    "duration": 25,
    "start_time": "2022-11-06T22:35:54.109Z"
   },
   {
    "duration": 22,
    "start_time": "2022-11-06T22:35:54.135Z"
   },
   {
    "duration": 24,
    "start_time": "2022-11-06T22:35:54.159Z"
   },
   {
    "duration": 6,
    "start_time": "2022-11-06T22:35:54.185Z"
   },
   {
    "duration": 1473,
    "start_time": "2022-11-06T22:35:54.196Z"
   },
   {
    "duration": 18,
    "start_time": "2022-11-06T22:35:55.670Z"
   },
   {
    "duration": 3,
    "start_time": "2022-11-06T22:35:55.690Z"
   },
   {
    "duration": 9,
    "start_time": "2022-11-06T22:35:55.694Z"
   },
   {
    "duration": 25,
    "start_time": "2022-11-06T22:35:55.705Z"
   },
   {
    "duration": 17,
    "start_time": "2022-11-06T22:35:55.732Z"
   },
   {
    "duration": 161,
    "start_time": "2022-11-06T22:35:55.751Z"
   },
   {
    "duration": 197,
    "start_time": "2022-11-06T22:35:55.914Z"
   },
   {
    "duration": 196,
    "start_time": "2022-11-06T22:35:56.113Z"
   },
   {
    "duration": 166,
    "start_time": "2022-11-06T22:35:56.310Z"
   },
   {
    "duration": 11,
    "start_time": "2022-11-06T22:35:56.478Z"
   },
   {
    "duration": 10,
    "start_time": "2022-11-06T22:35:56.490Z"
   },
   {
    "duration": 22,
    "start_time": "2022-11-06T22:35:56.502Z"
   },
   {
    "duration": 12,
    "start_time": "2022-11-06T22:35:56.525Z"
   },
   {
    "duration": 21,
    "start_time": "2022-11-06T22:35:56.538Z"
   },
   {
    "duration": 8,
    "start_time": "2022-11-06T22:35:56.561Z"
   },
   {
    "duration": 162,
    "start_time": "2022-11-06T22:44:18.799Z"
   },
   {
    "duration": 296,
    "start_time": "2022-11-06T22:44:24.799Z"
   },
   {
    "duration": 131,
    "start_time": "2022-11-06T22:44:42.859Z"
   },
   {
    "duration": 130,
    "start_time": "2022-11-06T22:44:48.347Z"
   },
   {
    "duration": 135,
    "start_time": "2022-11-06T22:44:53.442Z"
   },
   {
    "duration": 1301,
    "start_time": "2022-11-06T22:45:46.074Z"
   },
   {
    "duration": 77,
    "start_time": "2022-11-06T22:45:47.377Z"
   },
   {
    "duration": 20,
    "start_time": "2022-11-06T22:45:47.456Z"
   },
   {
    "duration": 15,
    "start_time": "2022-11-06T22:45:47.479Z"
   },
   {
    "duration": 11,
    "start_time": "2022-11-06T22:45:47.495Z"
   },
   {
    "duration": 25,
    "start_time": "2022-11-06T22:45:47.522Z"
   },
   {
    "duration": 4,
    "start_time": "2022-11-06T22:45:47.548Z"
   },
   {
    "duration": 7,
    "start_time": "2022-11-06T22:45:47.554Z"
   },
   {
    "duration": 10,
    "start_time": "2022-11-06T22:45:47.562Z"
   },
   {
    "duration": 4,
    "start_time": "2022-11-06T22:45:47.575Z"
   },
   {
    "duration": 44,
    "start_time": "2022-11-06T22:45:47.581Z"
   },
   {
    "duration": 2,
    "start_time": "2022-11-06T22:45:47.627Z"
   },
   {
    "duration": 310,
    "start_time": "2022-11-06T22:45:47.631Z"
   },
   {
    "duration": 189,
    "start_time": "2022-11-06T22:45:47.943Z"
   },
   {
    "duration": 4,
    "start_time": "2022-11-06T22:45:48.133Z"
   },
   {
    "duration": 468,
    "start_time": "2022-11-06T22:45:48.139Z"
   },
   {
    "duration": 84,
    "start_time": "2022-11-06T22:45:48.609Z"
   },
   {
    "duration": 163,
    "start_time": "2022-11-06T22:45:48.695Z"
   },
   {
    "duration": 196,
    "start_time": "2022-11-06T22:45:48.860Z"
   },
   {
    "duration": 19,
    "start_time": "2022-11-06T22:45:49.057Z"
   },
   {
    "duration": 6,
    "start_time": "2022-11-06T22:45:49.077Z"
   },
   {
    "duration": 17,
    "start_time": "2022-11-06T22:45:49.085Z"
   },
   {
    "duration": 27,
    "start_time": "2022-11-06T22:45:49.104Z"
   },
   {
    "duration": 12,
    "start_time": "2022-11-06T22:45:49.132Z"
   },
   {
    "duration": 14,
    "start_time": "2022-11-06T22:45:49.146Z"
   },
   {
    "duration": 14,
    "start_time": "2022-11-06T22:45:49.161Z"
   },
   {
    "duration": 512,
    "start_time": "2022-11-06T22:45:49.177Z"
   },
   {
    "duration": 17,
    "start_time": "2022-11-06T22:45:49.692Z"
   },
   {
    "duration": 3958,
    "start_time": "2022-11-06T22:45:49.711Z"
   },
   {
    "duration": 9,
    "start_time": "2022-11-06T22:45:53.670Z"
   },
   {
    "duration": 29,
    "start_time": "2022-11-06T22:45:53.680Z"
   },
   {
    "duration": 35,
    "start_time": "2022-11-06T22:45:53.710Z"
   },
   {
    "duration": 17,
    "start_time": "2022-11-06T22:45:53.747Z"
   },
   {
    "duration": 29,
    "start_time": "2022-11-06T22:45:53.765Z"
   },
   {
    "duration": 12,
    "start_time": "2022-11-06T22:45:53.796Z"
   },
   {
    "duration": 17,
    "start_time": "2022-11-06T22:45:53.809Z"
   },
   {
    "duration": 38,
    "start_time": "2022-11-06T22:45:53.827Z"
   },
   {
    "duration": 39,
    "start_time": "2022-11-06T22:45:53.866Z"
   },
   {
    "duration": 45,
    "start_time": "2022-11-06T22:45:53.907Z"
   },
   {
    "duration": 10,
    "start_time": "2022-11-06T22:45:53.954Z"
   },
   {
    "duration": 1491,
    "start_time": "2022-11-06T22:45:53.966Z"
   },
   {
    "duration": 17,
    "start_time": "2022-11-06T22:45:55.458Z"
   },
   {
    "duration": 3,
    "start_time": "2022-11-06T22:45:55.477Z"
   },
   {
    "duration": 17,
    "start_time": "2022-11-06T22:45:55.481Z"
   },
   {
    "duration": 28,
    "start_time": "2022-11-06T22:45:55.500Z"
   },
   {
    "duration": 31,
    "start_time": "2022-11-06T22:45:55.529Z"
   },
   {
    "duration": 173,
    "start_time": "2022-11-06T22:45:55.561Z"
   },
   {
    "duration": 197,
    "start_time": "2022-11-06T22:45:55.736Z"
   },
   {
    "duration": 195,
    "start_time": "2022-11-06T22:45:55.935Z"
   },
   {
    "duration": 162,
    "start_time": "2022-11-06T22:45:56.132Z"
   },
   {
    "duration": 11,
    "start_time": "2022-11-06T22:45:56.296Z"
   },
   {
    "duration": 19,
    "start_time": "2022-11-06T22:45:56.308Z"
   },
   {
    "duration": 19,
    "start_time": "2022-11-06T22:45:56.329Z"
   },
   {
    "duration": 6,
    "start_time": "2022-11-06T22:45:56.349Z"
   },
   {
    "duration": 10,
    "start_time": "2022-11-06T22:45:56.357Z"
   },
   {
    "duration": 6,
    "start_time": "2022-11-06T22:45:56.369Z"
   },
   {
    "duration": 4047,
    "start_time": "2022-11-06T23:07:42.835Z"
   },
   {
    "duration": 3944,
    "start_time": "2022-11-06T23:08:19.024Z"
   },
   {
    "duration": 4110,
    "start_time": "2022-11-06T23:09:52.405Z"
   },
   {
    "duration": 790,
    "start_time": "2022-11-06T23:28:48.756Z"
   },
   {
    "duration": 158,
    "start_time": "2022-11-06T23:29:08.922Z"
   },
   {
    "duration": 18,
    "start_time": "2022-11-06T23:31:31.562Z"
   },
   {
    "duration": 243,
    "start_time": "2022-11-06T23:31:59.772Z"
   },
   {
    "duration": 1323,
    "start_time": "2022-11-06T23:32:12.338Z"
   },
   {
    "duration": 151,
    "start_time": "2022-11-06T23:32:13.663Z"
   },
   {
    "duration": 17,
    "start_time": "2022-11-06T23:32:13.815Z"
   },
   {
    "duration": 10,
    "start_time": "2022-11-06T23:32:13.834Z"
   },
   {
    "duration": 23,
    "start_time": "2022-11-06T23:32:13.846Z"
   },
   {
    "duration": 28,
    "start_time": "2022-11-06T23:32:13.870Z"
   },
   {
    "duration": 3,
    "start_time": "2022-11-06T23:32:13.900Z"
   },
   {
    "duration": 19,
    "start_time": "2022-11-06T23:32:13.905Z"
   },
   {
    "duration": 6,
    "start_time": "2022-11-06T23:32:13.925Z"
   },
   {
    "duration": 5,
    "start_time": "2022-11-06T23:32:13.932Z"
   },
   {
    "duration": 115,
    "start_time": "2022-11-06T23:32:13.938Z"
   },
   {
    "duration": 0,
    "start_time": "2022-11-06T23:32:14.055Z"
   },
   {
    "duration": 0,
    "start_time": "2022-11-06T23:32:14.056Z"
   },
   {
    "duration": 0,
    "start_time": "2022-11-06T23:32:14.057Z"
   },
   {
    "duration": 0,
    "start_time": "2022-11-06T23:32:14.059Z"
   },
   {
    "duration": 0,
    "start_time": "2022-11-06T23:32:14.060Z"
   },
   {
    "duration": 0,
    "start_time": "2022-11-06T23:32:14.061Z"
   },
   {
    "duration": 0,
    "start_time": "2022-11-06T23:32:14.062Z"
   },
   {
    "duration": 0,
    "start_time": "2022-11-06T23:32:14.063Z"
   },
   {
    "duration": 0,
    "start_time": "2022-11-06T23:32:14.065Z"
   },
   {
    "duration": 0,
    "start_time": "2022-11-06T23:32:14.066Z"
   },
   {
    "duration": 0,
    "start_time": "2022-11-06T23:32:14.067Z"
   },
   {
    "duration": 0,
    "start_time": "2022-11-06T23:32:14.068Z"
   },
   {
    "duration": 0,
    "start_time": "2022-11-06T23:32:14.069Z"
   },
   {
    "duration": 0,
    "start_time": "2022-11-06T23:32:14.071Z"
   },
   {
    "duration": 0,
    "start_time": "2022-11-06T23:32:14.072Z"
   },
   {
    "duration": 0,
    "start_time": "2022-11-06T23:32:14.074Z"
   },
   {
    "duration": 0,
    "start_time": "2022-11-06T23:32:14.075Z"
   },
   {
    "duration": 0,
    "start_time": "2022-11-06T23:32:14.077Z"
   },
   {
    "duration": 0,
    "start_time": "2022-11-06T23:32:14.078Z"
   },
   {
    "duration": 0,
    "start_time": "2022-11-06T23:32:14.080Z"
   },
   {
    "duration": 0,
    "start_time": "2022-11-06T23:32:14.081Z"
   },
   {
    "duration": 0,
    "start_time": "2022-11-06T23:32:14.123Z"
   },
   {
    "duration": 0,
    "start_time": "2022-11-06T23:32:14.125Z"
   },
   {
    "duration": 0,
    "start_time": "2022-11-06T23:32:14.126Z"
   },
   {
    "duration": 0,
    "start_time": "2022-11-06T23:32:14.127Z"
   },
   {
    "duration": 0,
    "start_time": "2022-11-06T23:32:14.128Z"
   },
   {
    "duration": 0,
    "start_time": "2022-11-06T23:32:14.129Z"
   },
   {
    "duration": 0,
    "start_time": "2022-11-06T23:32:14.131Z"
   },
   {
    "duration": 0,
    "start_time": "2022-11-06T23:32:14.132Z"
   },
   {
    "duration": 0,
    "start_time": "2022-11-06T23:32:14.134Z"
   },
   {
    "duration": 0,
    "start_time": "2022-11-06T23:32:14.135Z"
   },
   {
    "duration": 0,
    "start_time": "2022-11-06T23:32:14.137Z"
   },
   {
    "duration": 0,
    "start_time": "2022-11-06T23:32:14.138Z"
   },
   {
    "duration": 0,
    "start_time": "2022-11-06T23:32:14.139Z"
   },
   {
    "duration": 0,
    "start_time": "2022-11-06T23:32:14.141Z"
   },
   {
    "duration": 0,
    "start_time": "2022-11-06T23:32:14.142Z"
   },
   {
    "duration": 0,
    "start_time": "2022-11-06T23:32:14.144Z"
   },
   {
    "duration": 0,
    "start_time": "2022-11-06T23:32:14.145Z"
   },
   {
    "duration": 0,
    "start_time": "2022-11-06T23:32:14.146Z"
   },
   {
    "duration": 0,
    "start_time": "2022-11-06T23:32:14.148Z"
   },
   {
    "duration": 0,
    "start_time": "2022-11-06T23:32:14.149Z"
   },
   {
    "duration": 0,
    "start_time": "2022-11-06T23:32:14.150Z"
   },
   {
    "duration": 0,
    "start_time": "2022-11-06T23:32:14.151Z"
   },
   {
    "duration": 0,
    "start_time": "2022-11-06T23:32:14.153Z"
   },
   {
    "duration": 0,
    "start_time": "2022-11-06T23:32:14.154Z"
   },
   {
    "duration": 0,
    "start_time": "2022-11-06T23:32:14.156Z"
   },
   {
    "duration": 3,
    "start_time": "2022-11-06T23:32:37.852Z"
   },
   {
    "duration": 339,
    "start_time": "2022-11-06T23:32:38.683Z"
   },
   {
    "duration": 292,
    "start_time": "2022-11-06T23:33:07.611Z"
   },
   {
    "duration": 1298,
    "start_time": "2022-11-06T23:33:29.247Z"
   },
   {
    "duration": 70,
    "start_time": "2022-11-06T23:33:30.547Z"
   },
   {
    "duration": 17,
    "start_time": "2022-11-06T23:33:30.619Z"
   },
   {
    "duration": 11,
    "start_time": "2022-11-06T23:33:30.637Z"
   },
   {
    "duration": 13,
    "start_time": "2022-11-06T23:33:30.650Z"
   },
   {
    "duration": 26,
    "start_time": "2022-11-06T23:33:30.664Z"
   },
   {
    "duration": 3,
    "start_time": "2022-11-06T23:33:30.691Z"
   },
   {
    "duration": 26,
    "start_time": "2022-11-06T23:33:30.696Z"
   },
   {
    "duration": 10,
    "start_time": "2022-11-06T23:33:30.723Z"
   },
   {
    "duration": 12,
    "start_time": "2022-11-06T23:33:30.734Z"
   },
   {
    "duration": 20,
    "start_time": "2022-11-06T23:33:30.748Z"
   },
   {
    "duration": 305,
    "start_time": "2022-11-06T23:33:30.769Z"
   },
   {
    "duration": 12,
    "start_time": "2022-11-06T23:33:31.075Z"
   },
   {
    "duration": 307,
    "start_time": "2022-11-06T23:33:31.090Z"
   },
   {
    "duration": 188,
    "start_time": "2022-11-06T23:33:31.398Z"
   },
   {
    "duration": 2,
    "start_time": "2022-11-06T23:33:31.588Z"
   },
   {
    "duration": 446,
    "start_time": "2022-11-06T23:33:31.592Z"
   },
   {
    "duration": 92,
    "start_time": "2022-11-06T23:33:32.040Z"
   },
   {
    "duration": 152,
    "start_time": "2022-11-06T23:33:32.133Z"
   },
   {
    "duration": 147,
    "start_time": "2022-11-06T23:33:32.287Z"
   },
   {
    "duration": 14,
    "start_time": "2022-11-06T23:33:32.436Z"
   },
   {
    "duration": 5,
    "start_time": "2022-11-06T23:33:32.451Z"
   },
   {
    "duration": 12,
    "start_time": "2022-11-06T23:33:32.458Z"
   },
   {
    "duration": 12,
    "start_time": "2022-11-06T23:33:32.472Z"
   },
   {
    "duration": 41,
    "start_time": "2022-11-06T23:33:32.485Z"
   },
   {
    "duration": 10,
    "start_time": "2022-11-06T23:33:32.528Z"
   },
   {
    "duration": 13,
    "start_time": "2022-11-06T23:33:32.540Z"
   },
   {
    "duration": 497,
    "start_time": "2022-11-06T23:33:32.554Z"
   },
   {
    "duration": 17,
    "start_time": "2022-11-06T23:33:33.053Z"
   },
   {
    "duration": 3909,
    "start_time": "2022-11-06T23:33:33.072Z"
   },
   {
    "duration": 9,
    "start_time": "2022-11-06T23:33:36.982Z"
   },
   {
    "duration": 11,
    "start_time": "2022-11-06T23:33:36.992Z"
   },
   {
    "duration": 17,
    "start_time": "2022-11-06T23:33:37.004Z"
   },
   {
    "duration": 18,
    "start_time": "2022-11-06T23:33:37.023Z"
   },
   {
    "duration": 10,
    "start_time": "2022-11-06T23:33:37.042Z"
   },
   {
    "duration": 19,
    "start_time": "2022-11-06T23:33:37.053Z"
   },
   {
    "duration": 23,
    "start_time": "2022-11-06T23:33:37.074Z"
   },
   {
    "duration": 24,
    "start_time": "2022-11-06T23:33:37.098Z"
   },
   {
    "duration": 21,
    "start_time": "2022-11-06T23:33:37.124Z"
   },
   {
    "duration": 37,
    "start_time": "2022-11-06T23:33:37.146Z"
   },
   {
    "duration": 7,
    "start_time": "2022-11-06T23:33:37.186Z"
   },
   {
    "duration": 1431,
    "start_time": "2022-11-06T23:33:37.194Z"
   },
   {
    "duration": 17,
    "start_time": "2022-11-06T23:33:38.626Z"
   },
   {
    "duration": 3,
    "start_time": "2022-11-06T23:33:38.645Z"
   },
   {
    "duration": 16,
    "start_time": "2022-11-06T23:33:38.649Z"
   },
   {
    "duration": 12,
    "start_time": "2022-11-06T23:33:38.666Z"
   },
   {
    "duration": 11,
    "start_time": "2022-11-06T23:33:38.680Z"
   },
   {
    "duration": 169,
    "start_time": "2022-11-06T23:33:38.693Z"
   },
   {
    "duration": 362,
    "start_time": "2022-11-06T23:33:38.864Z"
   },
   {
    "duration": 194,
    "start_time": "2022-11-06T23:33:39.228Z"
   },
   {
    "duration": 156,
    "start_time": "2022-11-06T23:33:39.423Z"
   },
   {
    "duration": 11,
    "start_time": "2022-11-06T23:33:39.581Z"
   },
   {
    "duration": 12,
    "start_time": "2022-11-06T23:33:39.593Z"
   },
   {
    "duration": 19,
    "start_time": "2022-11-06T23:33:39.607Z"
   },
   {
    "duration": 5,
    "start_time": "2022-11-06T23:33:39.627Z"
   },
   {
    "duration": 9,
    "start_time": "2022-11-06T23:33:39.633Z"
   },
   {
    "duration": 4,
    "start_time": "2022-11-06T23:33:39.644Z"
   },
   {
    "duration": 1443,
    "start_time": "2022-11-06T23:57:55.359Z"
   },
   {
    "duration": 140,
    "start_time": "2022-11-07T00:00:37.874Z"
   },
   {
    "duration": 192,
    "start_time": "2022-11-07T00:01:28.798Z"
   },
   {
    "duration": 149,
    "start_time": "2022-11-07T00:02:36.075Z"
   },
   {
    "duration": 179,
    "start_time": "2022-11-07T00:02:50.251Z"
   },
   {
    "duration": 186,
    "start_time": "2022-11-07T00:02:58.337Z"
   },
   {
    "duration": 198,
    "start_time": "2022-11-07T00:03:29.187Z"
   },
   {
    "duration": 184,
    "start_time": "2022-11-07T00:03:46.091Z"
   },
   {
    "duration": 151,
    "start_time": "2022-11-07T00:03:53.407Z"
   },
   {
    "duration": 1281,
    "start_time": "2022-11-07T00:07:55.887Z"
   },
   {
    "duration": 88,
    "start_time": "2022-11-07T00:07:57.169Z"
   },
   {
    "duration": 18,
    "start_time": "2022-11-07T00:07:57.259Z"
   },
   {
    "duration": 10,
    "start_time": "2022-11-07T00:07:57.279Z"
   },
   {
    "duration": 10,
    "start_time": "2022-11-07T00:07:57.291Z"
   },
   {
    "duration": 39,
    "start_time": "2022-11-07T00:07:57.322Z"
   },
   {
    "duration": 4,
    "start_time": "2022-11-07T00:07:57.362Z"
   },
   {
    "duration": 8,
    "start_time": "2022-11-07T00:07:57.367Z"
   },
   {
    "duration": 6,
    "start_time": "2022-11-07T00:07:57.376Z"
   },
   {
    "duration": 8,
    "start_time": "2022-11-07T00:07:57.383Z"
   },
   {
    "duration": 5,
    "start_time": "2022-11-07T00:07:57.392Z"
   },
   {
    "duration": 364,
    "start_time": "2022-11-07T00:07:57.398Z"
   },
   {
    "duration": 11,
    "start_time": "2022-11-07T00:07:57.764Z"
   },
   {
    "duration": 289,
    "start_time": "2022-11-07T00:07:57.778Z"
   },
   {
    "duration": 200,
    "start_time": "2022-11-07T00:07:58.068Z"
   },
   {
    "duration": 3,
    "start_time": "2022-11-07T00:07:58.270Z"
   },
   {
    "duration": 538,
    "start_time": "2022-11-07T00:07:58.274Z"
   },
   {
    "duration": 112,
    "start_time": "2022-11-07T00:07:58.813Z"
   },
   {
    "duration": 194,
    "start_time": "2022-11-07T00:07:58.928Z"
   },
   {
    "duration": 176,
    "start_time": "2022-11-07T00:07:59.124Z"
   },
   {
    "duration": 27,
    "start_time": "2022-11-07T00:07:59.302Z"
   },
   {
    "duration": 11,
    "start_time": "2022-11-07T00:07:59.331Z"
   },
   {
    "duration": 18,
    "start_time": "2022-11-07T00:07:59.345Z"
   },
   {
    "duration": 12,
    "start_time": "2022-11-07T00:07:59.364Z"
   },
   {
    "duration": 12,
    "start_time": "2022-11-07T00:07:59.377Z"
   },
   {
    "duration": 53,
    "start_time": "2022-11-07T00:07:59.390Z"
   },
   {
    "duration": 15,
    "start_time": "2022-11-07T00:07:59.445Z"
   },
   {
    "duration": 557,
    "start_time": "2022-11-07T00:07:59.461Z"
   },
   {
    "duration": 20,
    "start_time": "2022-11-07T00:08:00.022Z"
   },
   {
    "duration": 3977,
    "start_time": "2022-11-07T00:08:00.044Z"
   },
   {
    "duration": 15,
    "start_time": "2022-11-07T00:08:04.023Z"
   },
   {
    "duration": 9,
    "start_time": "2022-11-07T00:08:04.040Z"
   },
   {
    "duration": 6,
    "start_time": "2022-11-07T00:08:04.051Z"
   },
   {
    "duration": 8,
    "start_time": "2022-11-07T00:08:04.058Z"
   },
   {
    "duration": 9,
    "start_time": "2022-11-07T00:08:04.067Z"
   },
   {
    "duration": 11,
    "start_time": "2022-11-07T00:08:04.077Z"
   },
   {
    "duration": 36,
    "start_time": "2022-11-07T00:08:04.089Z"
   },
   {
    "duration": 24,
    "start_time": "2022-11-07T00:08:04.126Z"
   },
   {
    "duration": 33,
    "start_time": "2022-11-07T00:08:04.152Z"
   },
   {
    "duration": 6,
    "start_time": "2022-11-07T00:08:04.187Z"
   },
   {
    "duration": 1528,
    "start_time": "2022-11-07T00:08:04.196Z"
   },
   {
    "duration": 19,
    "start_time": "2022-11-07T00:08:05.726Z"
   },
   {
    "duration": 6,
    "start_time": "2022-11-07T00:08:05.747Z"
   },
   {
    "duration": 9,
    "start_time": "2022-11-07T00:08:05.754Z"
   },
   {
    "duration": 10,
    "start_time": "2022-11-07T00:08:05.764Z"
   },
   {
    "duration": 11,
    "start_time": "2022-11-07T00:08:05.775Z"
   },
   {
    "duration": 199,
    "start_time": "2022-11-07T00:08:05.788Z"
   },
   {
    "duration": 325,
    "start_time": "2022-11-07T00:08:05.989Z"
   },
   {
    "duration": 201,
    "start_time": "2022-11-07T00:08:06.315Z"
   },
   {
    "duration": 206,
    "start_time": "2022-11-07T00:08:06.518Z"
   },
   {
    "duration": 12,
    "start_time": "2022-11-07T00:08:06.726Z"
   },
   {
    "duration": 17,
    "start_time": "2022-11-07T00:08:06.739Z"
   },
   {
    "duration": 13,
    "start_time": "2022-11-07T00:08:06.757Z"
   },
   {
    "duration": 4,
    "start_time": "2022-11-07T00:08:06.771Z"
   },
   {
    "duration": 18,
    "start_time": "2022-11-07T00:08:06.777Z"
   },
   {
    "duration": 6,
    "start_time": "2022-11-07T00:08:06.797Z"
   },
   {
    "duration": 45,
    "start_time": "2022-11-07T00:13:59.184Z"
   },
   {
    "duration": 11,
    "start_time": "2022-11-07T00:27:22.680Z"
   },
   {
    "duration": 10,
    "start_time": "2022-11-07T00:31:39.040Z"
   },
   {
    "duration": 9,
    "start_time": "2022-11-07T00:31:51.434Z"
   },
   {
    "duration": 8,
    "start_time": "2022-11-07T00:35:32.737Z"
   },
   {
    "duration": 8,
    "start_time": "2022-11-07T00:35:40.880Z"
   },
   {
    "duration": 6,
    "start_time": "2022-11-07T00:36:30.652Z"
   },
   {
    "duration": 12,
    "start_time": "2022-11-07T00:38:10.974Z"
   },
   {
    "duration": 7,
    "start_time": "2022-11-07T00:38:43.153Z"
   },
   {
    "duration": 7,
    "start_time": "2022-11-07T00:38:55.871Z"
   },
   {
    "duration": 5,
    "start_time": "2022-11-07T00:39:32.793Z"
   },
   {
    "duration": 1335,
    "start_time": "2022-11-07T00:44:31.825Z"
   },
   {
    "duration": 181,
    "start_time": "2022-11-07T00:44:33.162Z"
   },
   {
    "duration": 17,
    "start_time": "2022-11-07T00:44:33.344Z"
   },
   {
    "duration": 10,
    "start_time": "2022-11-07T00:44:33.363Z"
   },
   {
    "duration": 10,
    "start_time": "2022-11-07T00:44:33.374Z"
   },
   {
    "duration": 48,
    "start_time": "2022-11-07T00:44:33.386Z"
   },
   {
    "duration": 4,
    "start_time": "2022-11-07T00:44:33.436Z"
   },
   {
    "duration": 5,
    "start_time": "2022-11-07T00:44:33.441Z"
   },
   {
    "duration": 13,
    "start_time": "2022-11-07T00:44:33.447Z"
   },
   {
    "duration": 13,
    "start_time": "2022-11-07T00:44:33.462Z"
   },
   {
    "duration": 7,
    "start_time": "2022-11-07T00:44:33.477Z"
   },
   {
    "duration": 304,
    "start_time": "2022-11-07T00:44:33.485Z"
   },
   {
    "duration": 13,
    "start_time": "2022-11-07T00:44:33.791Z"
   },
   {
    "duration": 297,
    "start_time": "2022-11-07T00:44:33.805Z"
   },
   {
    "duration": 186,
    "start_time": "2022-11-07T00:44:34.104Z"
   },
   {
    "duration": 3,
    "start_time": "2022-11-07T00:44:34.291Z"
   },
   {
    "duration": 462,
    "start_time": "2022-11-07T00:44:34.296Z"
   },
   {
    "duration": 89,
    "start_time": "2022-11-07T00:44:34.760Z"
   },
   {
    "duration": 154,
    "start_time": "2022-11-07T00:44:34.851Z"
   },
   {
    "duration": 151,
    "start_time": "2022-11-07T00:44:35.006Z"
   },
   {
    "duration": 14,
    "start_time": "2022-11-07T00:44:35.159Z"
   },
   {
    "duration": 9,
    "start_time": "2022-11-07T00:44:35.175Z"
   },
   {
    "duration": 16,
    "start_time": "2022-11-07T00:44:35.185Z"
   },
   {
    "duration": 31,
    "start_time": "2022-11-07T00:44:35.202Z"
   },
   {
    "duration": 11,
    "start_time": "2022-11-07T00:44:35.235Z"
   },
   {
    "duration": 11,
    "start_time": "2022-11-07T00:44:35.248Z"
   },
   {
    "duration": 15,
    "start_time": "2022-11-07T00:44:35.260Z"
   },
   {
    "duration": 548,
    "start_time": "2022-11-07T00:44:35.279Z"
   },
   {
    "duration": 18,
    "start_time": "2022-11-07T00:44:35.829Z"
   },
   {
    "duration": 3912,
    "start_time": "2022-11-07T00:44:35.849Z"
   },
   {
    "duration": 9,
    "start_time": "2022-11-07T00:44:39.762Z"
   },
   {
    "duration": 20,
    "start_time": "2022-11-07T00:44:39.772Z"
   },
   {
    "duration": 5,
    "start_time": "2022-11-07T00:44:39.793Z"
   },
   {
    "duration": 15,
    "start_time": "2022-11-07T00:44:39.800Z"
   },
   {
    "duration": 7,
    "start_time": "2022-11-07T00:44:39.816Z"
   },
   {
    "duration": 4,
    "start_time": "2022-11-07T00:44:39.825Z"
   },
   {
    "duration": 14,
    "start_time": "2022-11-07T00:44:39.830Z"
   },
   {
    "duration": 27,
    "start_time": "2022-11-07T00:44:39.845Z"
   },
   {
    "duration": 7,
    "start_time": "2022-11-07T00:44:39.874Z"
   },
   {
    "duration": 1496,
    "start_time": "2022-11-07T00:44:39.883Z"
   },
   {
    "duration": 18,
    "start_time": "2022-11-07T00:44:41.380Z"
   },
   {
    "duration": 3,
    "start_time": "2022-11-07T00:44:41.400Z"
   },
   {
    "duration": 21,
    "start_time": "2022-11-07T00:44:41.405Z"
   },
   {
    "duration": 17,
    "start_time": "2022-11-07T00:44:41.428Z"
   },
   {
    "duration": 22,
    "start_time": "2022-11-07T00:44:41.446Z"
   },
   {
    "duration": 185,
    "start_time": "2022-11-07T00:44:41.469Z"
   },
   {
    "duration": 298,
    "start_time": "2022-11-07T00:44:41.656Z"
   },
   {
    "duration": 202,
    "start_time": "2022-11-07T00:44:41.955Z"
   },
   {
    "duration": 227,
    "start_time": "2022-11-07T00:44:42.158Z"
   },
   {
    "duration": 11,
    "start_time": "2022-11-07T00:44:42.386Z"
   },
   {
    "duration": 11,
    "start_time": "2022-11-07T00:44:42.398Z"
   },
   {
    "duration": 19,
    "start_time": "2022-11-07T00:44:42.423Z"
   },
   {
    "duration": 4,
    "start_time": "2022-11-07T00:44:42.444Z"
   },
   {
    "duration": 8,
    "start_time": "2022-11-07T00:44:42.449Z"
   },
   {
    "duration": 4,
    "start_time": "2022-11-07T00:44:42.458Z"
   },
   {
    "duration": 4,
    "start_time": "2022-11-07T00:51:11.832Z"
   },
   {
    "duration": 5,
    "start_time": "2022-11-07T00:51:30.399Z"
   },
   {
    "duration": 5,
    "start_time": "2022-11-07T00:52:35.004Z"
   },
   {
    "duration": 236,
    "start_time": "2022-11-07T00:56:12.915Z"
   },
   {
    "duration": 1301,
    "start_time": "2022-11-07T00:56:21.288Z"
   },
   {
    "duration": 65,
    "start_time": "2022-11-07T00:56:22.591Z"
   },
   {
    "duration": 17,
    "start_time": "2022-11-07T00:56:22.658Z"
   },
   {
    "duration": 10,
    "start_time": "2022-11-07T00:56:22.677Z"
   },
   {
    "duration": 11,
    "start_time": "2022-11-07T00:56:22.688Z"
   },
   {
    "duration": 41,
    "start_time": "2022-11-07T00:56:22.700Z"
   },
   {
    "duration": 3,
    "start_time": "2022-11-07T00:56:22.743Z"
   },
   {
    "duration": 8,
    "start_time": "2022-11-07T00:56:22.748Z"
   },
   {
    "duration": 8,
    "start_time": "2022-11-07T00:56:22.757Z"
   },
   {
    "duration": 4,
    "start_time": "2022-11-07T00:56:22.767Z"
   },
   {
    "duration": 4,
    "start_time": "2022-11-07T00:56:22.772Z"
   },
   {
    "duration": 331,
    "start_time": "2022-11-07T00:56:22.777Z"
   },
   {
    "duration": 18,
    "start_time": "2022-11-07T00:56:23.110Z"
   },
   {
    "duration": 291,
    "start_time": "2022-11-07T00:56:23.129Z"
   },
   {
    "duration": 193,
    "start_time": "2022-11-07T00:56:23.422Z"
   },
   {
    "duration": 5,
    "start_time": "2022-11-07T00:56:23.617Z"
   },
   {
    "duration": 465,
    "start_time": "2022-11-07T00:56:23.623Z"
   },
   {
    "duration": 666,
    "start_time": "2022-11-07T00:56:24.090Z"
   },
   {
    "duration": 86,
    "start_time": "2022-11-07T00:56:24.757Z"
   },
   {
    "duration": 152,
    "start_time": "2022-11-07T00:56:24.845Z"
   },
   {
    "duration": 159,
    "start_time": "2022-11-07T00:56:24.998Z"
   },
   {
    "duration": 14,
    "start_time": "2022-11-07T00:56:25.158Z"
   },
   {
    "duration": 5,
    "start_time": "2022-11-07T00:56:25.174Z"
   },
   {
    "duration": 14,
    "start_time": "2022-11-07T00:56:25.181Z"
   },
   {
    "duration": 30,
    "start_time": "2022-11-07T00:56:25.197Z"
   },
   {
    "duration": 11,
    "start_time": "2022-11-07T00:56:25.228Z"
   },
   {
    "duration": 11,
    "start_time": "2022-11-07T00:56:25.240Z"
   },
   {
    "duration": 14,
    "start_time": "2022-11-07T00:56:25.254Z"
   },
   {
    "duration": 535,
    "start_time": "2022-11-07T00:56:25.269Z"
   },
   {
    "duration": 23,
    "start_time": "2022-11-07T00:56:25.806Z"
   },
   {
    "duration": 4097,
    "start_time": "2022-11-07T00:56:25.831Z"
   },
   {
    "duration": 11,
    "start_time": "2022-11-07T00:56:29.930Z"
   },
   {
    "duration": 7,
    "start_time": "2022-11-07T00:56:29.943Z"
   },
   {
    "duration": 10,
    "start_time": "2022-11-07T00:56:29.951Z"
   },
   {
    "duration": 8,
    "start_time": "2022-11-07T00:56:29.962Z"
   },
   {
    "duration": 8,
    "start_time": "2022-11-07T00:56:29.971Z"
   },
   {
    "duration": 5,
    "start_time": "2022-11-07T00:56:29.980Z"
   },
   {
    "duration": 14,
    "start_time": "2022-11-07T00:56:29.986Z"
   },
   {
    "duration": 43,
    "start_time": "2022-11-07T00:56:30.002Z"
   },
   {
    "duration": 7,
    "start_time": "2022-11-07T00:56:30.047Z"
   },
   {
    "duration": 1507,
    "start_time": "2022-11-07T00:56:30.056Z"
   },
   {
    "duration": 18,
    "start_time": "2022-11-07T00:56:31.565Z"
   },
   {
    "duration": 4,
    "start_time": "2022-11-07T00:56:31.584Z"
   },
   {
    "duration": 30,
    "start_time": "2022-11-07T00:56:31.589Z"
   },
   {
    "duration": 16,
    "start_time": "2022-11-07T00:56:31.620Z"
   },
   {
    "duration": 36,
    "start_time": "2022-11-07T00:56:31.638Z"
   },
   {
    "duration": 182,
    "start_time": "2022-11-07T00:56:31.676Z"
   },
   {
    "duration": 145,
    "start_time": "2022-11-07T00:56:31.860Z"
   },
   {
    "duration": 208,
    "start_time": "2022-11-07T00:56:32.007Z"
   },
   {
    "duration": 196,
    "start_time": "2022-11-07T00:56:32.217Z"
   },
   {
    "duration": 18,
    "start_time": "2022-11-07T00:56:32.414Z"
   },
   {
    "duration": 29,
    "start_time": "2022-11-07T00:56:32.433Z"
   },
   {
    "duration": 14,
    "start_time": "2022-11-07T00:56:32.464Z"
   },
   {
    "duration": 5,
    "start_time": "2022-11-07T00:56:32.480Z"
   },
   {
    "duration": 241,
    "start_time": "2022-11-07T00:57:22.713Z"
   },
   {
    "duration": 1275,
    "start_time": "2022-11-07T00:57:33.986Z"
   },
   {
    "duration": 67,
    "start_time": "2022-11-07T00:57:35.263Z"
   },
   {
    "duration": 18,
    "start_time": "2022-11-07T00:57:35.331Z"
   },
   {
    "duration": 15,
    "start_time": "2022-11-07T00:57:35.351Z"
   },
   {
    "duration": 49,
    "start_time": "2022-11-07T00:57:35.368Z"
   },
   {
    "duration": 47,
    "start_time": "2022-11-07T00:57:35.419Z"
   },
   {
    "duration": 8,
    "start_time": "2022-11-07T00:57:35.468Z"
   },
   {
    "duration": 23,
    "start_time": "2022-11-07T00:57:35.477Z"
   },
   {
    "duration": 13,
    "start_time": "2022-11-07T00:57:35.502Z"
   },
   {
    "duration": 18,
    "start_time": "2022-11-07T00:57:35.518Z"
   },
   {
    "duration": 24,
    "start_time": "2022-11-07T00:57:35.537Z"
   },
   {
    "duration": 341,
    "start_time": "2022-11-07T00:57:35.562Z"
   },
   {
    "duration": 18,
    "start_time": "2022-11-07T00:57:35.905Z"
   },
   {
    "duration": 284,
    "start_time": "2022-11-07T00:57:35.924Z"
   },
   {
    "duration": 189,
    "start_time": "2022-11-07T00:57:36.209Z"
   },
   {
    "duration": 3,
    "start_time": "2022-11-07T00:57:36.400Z"
   },
   {
    "duration": 480,
    "start_time": "2022-11-07T00:57:36.404Z"
   },
   {
    "duration": 671,
    "start_time": "2022-11-07T00:57:36.886Z"
   },
   {
    "duration": 85,
    "start_time": "2022-11-07T00:57:37.559Z"
   },
   {
    "duration": 150,
    "start_time": "2022-11-07T00:57:37.646Z"
   },
   {
    "duration": 143,
    "start_time": "2022-11-07T00:57:37.798Z"
   },
   {
    "duration": 14,
    "start_time": "2022-11-07T00:57:37.943Z"
   },
   {
    "duration": 20,
    "start_time": "2022-11-07T00:57:37.958Z"
   },
   {
    "duration": 25,
    "start_time": "2022-11-07T00:57:37.979Z"
   },
   {
    "duration": 32,
    "start_time": "2022-11-07T00:57:38.006Z"
   },
   {
    "duration": 22,
    "start_time": "2022-11-07T00:57:38.040Z"
   },
   {
    "duration": 41,
    "start_time": "2022-11-07T00:57:38.063Z"
   },
   {
    "duration": 18,
    "start_time": "2022-11-07T00:57:38.108Z"
   },
   {
    "duration": 483,
    "start_time": "2022-11-07T00:57:38.127Z"
   },
   {
    "duration": 18,
    "start_time": "2022-11-07T00:57:38.612Z"
   },
   {
    "duration": 4020,
    "start_time": "2022-11-07T00:57:38.632Z"
   },
   {
    "duration": 10,
    "start_time": "2022-11-07T00:57:42.654Z"
   },
   {
    "duration": 5,
    "start_time": "2022-11-07T00:57:42.665Z"
   },
   {
    "duration": 5,
    "start_time": "2022-11-07T00:57:42.671Z"
   },
   {
    "duration": 6,
    "start_time": "2022-11-07T00:57:42.677Z"
   },
   {
    "duration": 7,
    "start_time": "2022-11-07T00:57:42.684Z"
   },
   {
    "duration": 4,
    "start_time": "2022-11-07T00:57:42.692Z"
   },
   {
    "duration": 24,
    "start_time": "2022-11-07T00:57:42.698Z"
   },
   {
    "duration": 22,
    "start_time": "2022-11-07T00:57:42.723Z"
   },
   {
    "duration": 6,
    "start_time": "2022-11-07T00:57:42.746Z"
   },
   {
    "duration": 1517,
    "start_time": "2022-11-07T00:57:42.754Z"
   },
   {
    "duration": 17,
    "start_time": "2022-11-07T00:57:44.273Z"
   },
   {
    "duration": 10,
    "start_time": "2022-11-07T00:57:44.291Z"
   },
   {
    "duration": 19,
    "start_time": "2022-11-07T00:57:44.302Z"
   },
   {
    "duration": 25,
    "start_time": "2022-11-07T00:57:44.322Z"
   },
   {
    "duration": 8,
    "start_time": "2022-11-07T00:57:44.349Z"
   },
   {
    "duration": 158,
    "start_time": "2022-11-07T00:57:44.359Z"
   },
   {
    "duration": 152,
    "start_time": "2022-11-07T00:57:44.519Z"
   },
   {
    "duration": 202,
    "start_time": "2022-11-07T00:57:44.672Z"
   },
   {
    "duration": 198,
    "start_time": "2022-11-07T00:57:44.875Z"
   },
   {
    "duration": 11,
    "start_time": "2022-11-07T00:57:45.075Z"
   },
   {
    "duration": 16,
    "start_time": "2022-11-07T00:57:45.087Z"
   },
   {
    "duration": 19,
    "start_time": "2022-11-07T00:57:45.105Z"
   },
   {
    "duration": 4,
    "start_time": "2022-11-07T00:57:45.126Z"
   },
   {
    "duration": 1368,
    "start_time": "2022-11-07T01:00:03.592Z"
   },
   {
    "duration": 74,
    "start_time": "2022-11-07T01:00:04.962Z"
   },
   {
    "duration": 18,
    "start_time": "2022-11-07T01:00:05.037Z"
   },
   {
    "duration": 15,
    "start_time": "2022-11-07T01:00:05.056Z"
   },
   {
    "duration": 12,
    "start_time": "2022-11-07T01:00:05.074Z"
   },
   {
    "duration": 50,
    "start_time": "2022-11-07T01:00:05.087Z"
   },
   {
    "duration": 3,
    "start_time": "2022-11-07T01:00:05.139Z"
   },
   {
    "duration": 7,
    "start_time": "2022-11-07T01:00:05.144Z"
   },
   {
    "duration": 16,
    "start_time": "2022-11-07T01:00:05.152Z"
   },
   {
    "duration": 25,
    "start_time": "2022-11-07T01:00:05.170Z"
   },
   {
    "duration": 7,
    "start_time": "2022-11-07T01:00:05.197Z"
   },
   {
    "duration": 320,
    "start_time": "2022-11-07T01:00:05.206Z"
   },
   {
    "duration": 11,
    "start_time": "2022-11-07T01:00:05.527Z"
   },
   {
    "duration": 315,
    "start_time": "2022-11-07T01:00:05.541Z"
   },
   {
    "duration": 189,
    "start_time": "2022-11-07T01:00:05.857Z"
   },
   {
    "duration": 3,
    "start_time": "2022-11-07T01:00:06.048Z"
   },
   {
    "duration": 462,
    "start_time": "2022-11-07T01:00:06.052Z"
   },
   {
    "duration": 646,
    "start_time": "2022-11-07T01:00:06.515Z"
   },
   {
    "duration": 673,
    "start_time": "2022-11-07T01:00:07.162Z"
   },
   {
    "duration": 86,
    "start_time": "2022-11-07T01:00:07.836Z"
   },
   {
    "duration": 150,
    "start_time": "2022-11-07T01:00:07.923Z"
   },
   {
    "duration": 147,
    "start_time": "2022-11-07T01:00:08.075Z"
   },
   {
    "duration": 16,
    "start_time": "2022-11-07T01:00:08.223Z"
   },
   {
    "duration": 46,
    "start_time": "2022-11-07T01:00:08.243Z"
   },
   {
    "duration": 24,
    "start_time": "2022-11-07T01:00:08.290Z"
   },
   {
    "duration": 11,
    "start_time": "2022-11-07T01:00:08.316Z"
   },
   {
    "duration": 10,
    "start_time": "2022-11-07T01:00:08.329Z"
   },
   {
    "duration": 9,
    "start_time": "2022-11-07T01:00:08.341Z"
   },
   {
    "duration": 13,
    "start_time": "2022-11-07T01:00:08.352Z"
   },
   {
    "duration": 630,
    "start_time": "2022-11-07T01:00:08.366Z"
   },
   {
    "duration": 17,
    "start_time": "2022-11-07T01:00:08.997Z"
   },
   {
    "duration": 3891,
    "start_time": "2022-11-07T01:00:09.022Z"
   },
   {
    "duration": 9,
    "start_time": "2022-11-07T01:00:12.914Z"
   },
   {
    "duration": 6,
    "start_time": "2022-11-07T01:00:12.924Z"
   },
   {
    "duration": 4,
    "start_time": "2022-11-07T01:00:12.931Z"
   },
   {
    "duration": 11,
    "start_time": "2022-11-07T01:00:12.937Z"
   },
   {
    "duration": 11,
    "start_time": "2022-11-07T01:00:12.949Z"
   },
   {
    "duration": 4,
    "start_time": "2022-11-07T01:00:12.961Z"
   },
   {
    "duration": 15,
    "start_time": "2022-11-07T01:00:12.967Z"
   },
   {
    "duration": 43,
    "start_time": "2022-11-07T01:00:12.983Z"
   },
   {
    "duration": 6,
    "start_time": "2022-11-07T01:00:13.029Z"
   },
   {
    "duration": 1423,
    "start_time": "2022-11-07T01:00:13.037Z"
   },
   {
    "duration": 18,
    "start_time": "2022-11-07T01:00:14.462Z"
   },
   {
    "duration": 3,
    "start_time": "2022-11-07T01:00:14.481Z"
   },
   {
    "duration": 9,
    "start_time": "2022-11-07T01:00:14.486Z"
   },
   {
    "duration": 27,
    "start_time": "2022-11-07T01:00:14.496Z"
   },
   {
    "duration": 8,
    "start_time": "2022-11-07T01:00:14.525Z"
   },
   {
    "duration": 164,
    "start_time": "2022-11-07T01:00:14.534Z"
   },
   {
    "duration": 156,
    "start_time": "2022-11-07T01:00:14.699Z"
   },
   {
    "duration": 201,
    "start_time": "2022-11-07T01:00:14.857Z"
   },
   {
    "duration": 200,
    "start_time": "2022-11-07T01:00:15.059Z"
   },
   {
    "duration": 10,
    "start_time": "2022-11-07T01:00:15.261Z"
   },
   {
    "duration": 13,
    "start_time": "2022-11-07T01:00:15.272Z"
   },
   {
    "duration": 14,
    "start_time": "2022-11-07T01:00:15.286Z"
   },
   {
    "duration": 4,
    "start_time": "2022-11-07T01:00:15.302Z"
   },
   {
    "duration": 1348,
    "start_time": "2022-11-07T01:02:30.013Z"
   },
   {
    "duration": 71,
    "start_time": "2022-11-07T01:02:31.363Z"
   },
   {
    "duration": 16,
    "start_time": "2022-11-07T01:02:31.436Z"
   },
   {
    "duration": 10,
    "start_time": "2022-11-07T01:02:31.454Z"
   },
   {
    "duration": 14,
    "start_time": "2022-11-07T01:02:31.465Z"
   },
   {
    "duration": 42,
    "start_time": "2022-11-07T01:02:31.481Z"
   },
   {
    "duration": 5,
    "start_time": "2022-11-07T01:02:31.524Z"
   },
   {
    "duration": 5,
    "start_time": "2022-11-07T01:02:31.530Z"
   },
   {
    "duration": 7,
    "start_time": "2022-11-07T01:02:31.537Z"
   },
   {
    "duration": 7,
    "start_time": "2022-11-07T01:02:31.546Z"
   },
   {
    "duration": 6,
    "start_time": "2022-11-07T01:02:31.555Z"
   },
   {
    "duration": 311,
    "start_time": "2022-11-07T01:02:31.563Z"
   },
   {
    "duration": 12,
    "start_time": "2022-11-07T01:02:31.875Z"
   },
   {
    "duration": 298,
    "start_time": "2022-11-07T01:02:31.888Z"
   },
   {
    "duration": 191,
    "start_time": "2022-11-07T01:02:32.188Z"
   },
   {
    "duration": 3,
    "start_time": "2022-11-07T01:02:32.381Z"
   },
   {
    "duration": 468,
    "start_time": "2022-11-07T01:02:32.385Z"
   },
   {
    "duration": 109,
    "start_time": "2022-11-07T01:02:32.855Z"
   },
   {
    "duration": 0,
    "start_time": "2022-11-07T01:02:32.966Z"
   },
   {
    "duration": 0,
    "start_time": "2022-11-07T01:02:32.967Z"
   },
   {
    "duration": 0,
    "start_time": "2022-11-07T01:02:32.968Z"
   },
   {
    "duration": 0,
    "start_time": "2022-11-07T01:02:32.969Z"
   },
   {
    "duration": 0,
    "start_time": "2022-11-07T01:02:32.970Z"
   },
   {
    "duration": 0,
    "start_time": "2022-11-07T01:02:32.972Z"
   },
   {
    "duration": 0,
    "start_time": "2022-11-07T01:02:32.973Z"
   },
   {
    "duration": 0,
    "start_time": "2022-11-07T01:02:32.974Z"
   },
   {
    "duration": 0,
    "start_time": "2022-11-07T01:02:32.974Z"
   },
   {
    "duration": 0,
    "start_time": "2022-11-07T01:02:32.975Z"
   },
   {
    "duration": 0,
    "start_time": "2022-11-07T01:02:32.976Z"
   },
   {
    "duration": 0,
    "start_time": "2022-11-07T01:02:32.977Z"
   },
   {
    "duration": 0,
    "start_time": "2022-11-07T01:02:32.978Z"
   },
   {
    "duration": 0,
    "start_time": "2022-11-07T01:02:32.979Z"
   },
   {
    "duration": 0,
    "start_time": "2022-11-07T01:02:32.980Z"
   },
   {
    "duration": 0,
    "start_time": "2022-11-07T01:02:32.981Z"
   },
   {
    "duration": 0,
    "start_time": "2022-11-07T01:02:32.981Z"
   },
   {
    "duration": 0,
    "start_time": "2022-11-07T01:02:32.982Z"
   },
   {
    "duration": 0,
    "start_time": "2022-11-07T01:02:32.983Z"
   },
   {
    "duration": 0,
    "start_time": "2022-11-07T01:02:32.984Z"
   },
   {
    "duration": 0,
    "start_time": "2022-11-07T01:02:32.985Z"
   },
   {
    "duration": 0,
    "start_time": "2022-11-07T01:02:32.986Z"
   },
   {
    "duration": 1,
    "start_time": "2022-11-07T01:02:32.986Z"
   },
   {
    "duration": 0,
    "start_time": "2022-11-07T01:02:32.987Z"
   },
   {
    "duration": 0,
    "start_time": "2022-11-07T01:02:32.988Z"
   },
   {
    "duration": 0,
    "start_time": "2022-11-07T01:02:33.022Z"
   },
   {
    "duration": 0,
    "start_time": "2022-11-07T01:02:33.023Z"
   },
   {
    "duration": 0,
    "start_time": "2022-11-07T01:02:33.024Z"
   },
   {
    "duration": 0,
    "start_time": "2022-11-07T01:02:33.025Z"
   },
   {
    "duration": 0,
    "start_time": "2022-11-07T01:02:33.026Z"
   },
   {
    "duration": 0,
    "start_time": "2022-11-07T01:02:33.027Z"
   },
   {
    "duration": 0,
    "start_time": "2022-11-07T01:02:33.028Z"
   },
   {
    "duration": 0,
    "start_time": "2022-11-07T01:02:33.029Z"
   },
   {
    "duration": 0,
    "start_time": "2022-11-07T01:02:33.030Z"
   },
   {
    "duration": 0,
    "start_time": "2022-11-07T01:02:33.030Z"
   },
   {
    "duration": 0,
    "start_time": "2022-11-07T01:02:33.031Z"
   },
   {
    "duration": 0,
    "start_time": "2022-11-07T01:02:33.032Z"
   },
   {
    "duration": 18,
    "start_time": "2022-11-07T01:02:54.846Z"
   },
   {
    "duration": 633,
    "start_time": "2022-11-07T01:03:32.258Z"
   },
   {
    "duration": 20,
    "start_time": "2022-11-07T01:04:41.478Z"
   },
   {
    "duration": 251,
    "start_time": "2022-11-07T01:04:50.986Z"
   },
   {
    "duration": 347,
    "start_time": "2022-11-07T01:05:38.658Z"
   },
   {
    "duration": 10,
    "start_time": "2022-11-07T01:05:58.498Z"
   },
   {
    "duration": 648,
    "start_time": "2022-11-07T01:07:55.317Z"
   },
   {
    "duration": 78,
    "start_time": "2022-11-07T01:08:33.417Z"
   },
   {
    "duration": 152,
    "start_time": "2022-11-07T01:08:33.497Z"
   },
   {
    "duration": 146,
    "start_time": "2022-11-07T01:08:33.819Z"
   },
   {
    "duration": 15,
    "start_time": "2022-11-07T01:08:34.181Z"
   },
   {
    "duration": 7,
    "start_time": "2022-11-07T01:08:34.521Z"
   },
   {
    "duration": 13,
    "start_time": "2022-11-07T01:08:34.912Z"
   },
   {
    "duration": 12,
    "start_time": "2022-11-07T01:08:35.095Z"
   },
   {
    "duration": 13,
    "start_time": "2022-11-07T01:08:35.677Z"
   },
   {
    "duration": 13,
    "start_time": "2022-11-07T01:08:36.240Z"
   },
   {
    "duration": 15,
    "start_time": "2022-11-07T01:08:36.621Z"
   },
   {
    "duration": 505,
    "start_time": "2022-11-07T01:08:36.809Z"
   },
   {
    "duration": 18,
    "start_time": "2022-11-07T01:08:37.381Z"
   },
   {
    "duration": 3984,
    "start_time": "2022-11-07T01:08:38.089Z"
   },
   {
    "duration": 10,
    "start_time": "2022-11-07T01:08:42.075Z"
   },
   {
    "duration": 10,
    "start_time": "2022-11-07T01:08:42.087Z"
   },
   {
    "duration": 9,
    "start_time": "2022-11-07T01:08:42.099Z"
   },
   {
    "duration": 20,
    "start_time": "2022-11-07T01:08:42.110Z"
   },
   {
    "duration": 13,
    "start_time": "2022-11-07T01:08:42.131Z"
   },
   {
    "duration": 4,
    "start_time": "2022-11-07T01:08:42.444Z"
   },
   {
    "duration": 14,
    "start_time": "2022-11-07T01:08:42.668Z"
   },
   {
    "duration": 27,
    "start_time": "2022-11-07T01:08:43.097Z"
   },
   {
    "duration": 7,
    "start_time": "2022-11-07T01:08:43.954Z"
   },
   {
    "duration": 1438,
    "start_time": "2022-11-07T01:08:44.136Z"
   },
   {
    "duration": 17,
    "start_time": "2022-11-07T01:08:45.576Z"
   },
   {
    "duration": 3,
    "start_time": "2022-11-07T01:08:45.594Z"
   },
   {
    "duration": 5,
    "start_time": "2022-11-07T01:08:45.789Z"
   },
   {
    "duration": 12,
    "start_time": "2022-11-07T01:08:47.505Z"
   },
   {
    "duration": 24,
    "start_time": "2022-11-07T01:08:47.519Z"
   },
   {
    "duration": 156,
    "start_time": "2022-11-07T01:08:47.659Z"
   },
   {
    "duration": 147,
    "start_time": "2022-11-07T01:08:49.117Z"
   },
   {
    "duration": 191,
    "start_time": "2022-11-07T01:08:50.159Z"
   },
   {
    "duration": 195,
    "start_time": "2022-11-07T01:08:51.805Z"
   },
   {
    "duration": 12,
    "start_time": "2022-11-07T01:08:55.169Z"
   },
   {
    "duration": 9,
    "start_time": "2022-11-07T01:08:56.255Z"
   },
   {
    "duration": 7,
    "start_time": "2022-11-07T01:08:58.713Z"
   },
   {
    "duration": 10,
    "start_time": "2022-11-07T01:08:59.457Z"
   },
   {
    "duration": 49,
    "start_time": "2022-11-07T01:09:18.864Z"
   },
   {
    "duration": 13,
    "start_time": "2022-11-07T01:09:22.702Z"
   },
   {
    "duration": 11,
    "start_time": "2022-11-07T01:09:30.594Z"
   },
   {
    "duration": 11,
    "start_time": "2022-11-07T01:10:14.742Z"
   },
   {
    "duration": 18,
    "start_time": "2022-11-07T01:10:25.046Z"
   },
   {
    "duration": 11,
    "start_time": "2022-11-07T01:10:37.854Z"
   },
   {
    "duration": 11,
    "start_time": "2022-11-07T01:10:48.570Z"
   },
   {
    "duration": 6,
    "start_time": "2022-11-07T01:11:09.562Z"
   },
   {
    "duration": 12,
    "start_time": "2022-11-07T01:13:15.318Z"
   },
   {
    "duration": 4,
    "start_time": "2022-11-07T01:13:28.147Z"
   },
   {
    "duration": 1458,
    "start_time": "2022-11-08T20:39:04.672Z"
   },
   {
    "duration": 168,
    "start_time": "2022-11-08T20:39:06.132Z"
   },
   {
    "duration": 19,
    "start_time": "2022-11-08T20:39:06.301Z"
   },
   {
    "duration": 18,
    "start_time": "2022-11-08T20:39:06.322Z"
   },
   {
    "duration": 11,
    "start_time": "2022-11-08T20:39:06.342Z"
   },
   {
    "duration": 31,
    "start_time": "2022-11-08T20:39:06.355Z"
   },
   {
    "duration": 5,
    "start_time": "2022-11-08T20:39:06.388Z"
   },
   {
    "duration": 23,
    "start_time": "2022-11-08T20:39:06.394Z"
   },
   {
    "duration": 10,
    "start_time": "2022-11-08T20:39:06.419Z"
   },
   {
    "duration": 16,
    "start_time": "2022-11-08T20:39:06.432Z"
   },
   {
    "duration": 38,
    "start_time": "2022-11-08T20:39:06.449Z"
   },
   {
    "duration": 23,
    "start_time": "2022-11-08T20:39:06.489Z"
   },
   {
    "duration": 270,
    "start_time": "2022-11-08T20:39:06.513Z"
   },
   {
    "duration": 290,
    "start_time": "2022-11-08T20:39:06.785Z"
   },
   {
    "duration": 0,
    "start_time": "2022-11-08T20:39:07.077Z"
   },
   {
    "duration": 0,
    "start_time": "2022-11-08T20:39:07.078Z"
   },
   {
    "duration": 0,
    "start_time": "2022-11-08T20:39:07.079Z"
   },
   {
    "duration": 0,
    "start_time": "2022-11-08T20:39:07.079Z"
   },
   {
    "duration": 0,
    "start_time": "2022-11-08T20:39:07.081Z"
   },
   {
    "duration": 0,
    "start_time": "2022-11-08T20:39:07.081Z"
   },
   {
    "duration": 0,
    "start_time": "2022-11-08T20:39:07.082Z"
   },
   {
    "duration": 0,
    "start_time": "2022-11-08T20:39:07.083Z"
   },
   {
    "duration": 0,
    "start_time": "2022-11-08T20:39:07.084Z"
   },
   {
    "duration": 0,
    "start_time": "2022-11-08T20:39:07.085Z"
   },
   {
    "duration": 0,
    "start_time": "2022-11-08T20:39:07.086Z"
   },
   {
    "duration": 0,
    "start_time": "2022-11-08T20:39:07.087Z"
   },
   {
    "duration": 0,
    "start_time": "2022-11-08T20:39:07.088Z"
   },
   {
    "duration": 0,
    "start_time": "2022-11-08T20:39:07.089Z"
   },
   {
    "duration": 0,
    "start_time": "2022-11-08T20:39:07.090Z"
   },
   {
    "duration": 0,
    "start_time": "2022-11-08T20:39:07.091Z"
   },
   {
    "duration": 0,
    "start_time": "2022-11-08T20:39:07.092Z"
   },
   {
    "duration": 0,
    "start_time": "2022-11-08T20:39:07.093Z"
   },
   {
    "duration": 0,
    "start_time": "2022-11-08T20:39:07.093Z"
   },
   {
    "duration": 0,
    "start_time": "2022-11-08T20:39:07.094Z"
   },
   {
    "duration": 0,
    "start_time": "2022-11-08T20:39:07.095Z"
   },
   {
    "duration": 0,
    "start_time": "2022-11-08T20:39:07.097Z"
   },
   {
    "duration": 0,
    "start_time": "2022-11-08T20:39:07.098Z"
   },
   {
    "duration": 0,
    "start_time": "2022-11-08T20:39:07.099Z"
   },
   {
    "duration": 0,
    "start_time": "2022-11-08T20:39:07.100Z"
   },
   {
    "duration": 0,
    "start_time": "2022-11-08T20:39:07.100Z"
   },
   {
    "duration": 0,
    "start_time": "2022-11-08T20:39:07.101Z"
   },
   {
    "duration": 0,
    "start_time": "2022-11-08T20:39:07.102Z"
   },
   {
    "duration": 0,
    "start_time": "2022-11-08T20:39:07.104Z"
   },
   {
    "duration": 0,
    "start_time": "2022-11-08T20:39:07.105Z"
   },
   {
    "duration": 0,
    "start_time": "2022-11-08T20:39:07.155Z"
   },
   {
    "duration": 0,
    "start_time": "2022-11-08T20:39:07.156Z"
   },
   {
    "duration": 0,
    "start_time": "2022-11-08T20:39:07.157Z"
   },
   {
    "duration": 0,
    "start_time": "2022-11-08T20:39:07.158Z"
   },
   {
    "duration": 0,
    "start_time": "2022-11-08T20:39:07.159Z"
   },
   {
    "duration": 0,
    "start_time": "2022-11-08T20:39:07.160Z"
   },
   {
    "duration": 0,
    "start_time": "2022-11-08T20:39:07.161Z"
   },
   {
    "duration": 0,
    "start_time": "2022-11-08T20:39:07.162Z"
   },
   {
    "duration": 0,
    "start_time": "2022-11-08T20:39:07.163Z"
   },
   {
    "duration": 0,
    "start_time": "2022-11-08T20:39:07.163Z"
   },
   {
    "duration": 0,
    "start_time": "2022-11-08T20:39:07.165Z"
   },
   {
    "duration": 0,
    "start_time": "2022-11-08T20:39:07.165Z"
   },
   {
    "duration": 0,
    "start_time": "2022-11-08T20:39:07.166Z"
   },
   {
    "duration": 186,
    "start_time": "2022-11-08T20:39:37.551Z"
   },
   {
    "duration": 252,
    "start_time": "2022-11-08T20:40:00.788Z"
   },
   {
    "duration": 1349,
    "start_time": "2022-11-08T20:40:29.949Z"
   },
   {
    "duration": 88,
    "start_time": "2022-11-08T20:40:31.299Z"
   },
   {
    "duration": 17,
    "start_time": "2022-11-08T20:40:31.389Z"
   },
   {
    "duration": 9,
    "start_time": "2022-11-08T20:40:31.408Z"
   },
   {
    "duration": 10,
    "start_time": "2022-11-08T20:40:31.419Z"
   },
   {
    "duration": 43,
    "start_time": "2022-11-08T20:40:31.430Z"
   },
   {
    "duration": 4,
    "start_time": "2022-11-08T20:40:31.475Z"
   },
   {
    "duration": 18,
    "start_time": "2022-11-08T20:40:31.480Z"
   },
   {
    "duration": 9,
    "start_time": "2022-11-08T20:40:31.499Z"
   },
   {
    "duration": 13,
    "start_time": "2022-11-08T20:40:31.510Z"
   },
   {
    "duration": 7,
    "start_time": "2022-11-08T20:40:31.524Z"
   },
   {
    "duration": 37,
    "start_time": "2022-11-08T20:40:31.532Z"
   },
   {
    "duration": 274,
    "start_time": "2022-11-08T20:40:31.570Z"
   },
   {
    "duration": 187,
    "start_time": "2022-11-08T20:40:31.846Z"
   },
   {
    "duration": 316,
    "start_time": "2022-11-08T20:40:32.034Z"
   },
   {
    "duration": 5,
    "start_time": "2022-11-08T20:40:32.355Z"
   },
   {
    "duration": 470,
    "start_time": "2022-11-08T20:40:32.362Z"
   },
   {
    "duration": 416,
    "start_time": "2022-11-08T20:40:32.834Z"
   },
   {
    "duration": 271,
    "start_time": "2022-11-08T20:40:33.252Z"
   },
   {
    "duration": 91,
    "start_time": "2022-11-08T20:40:33.524Z"
   },
   {
    "duration": 169,
    "start_time": "2022-11-08T20:40:33.618Z"
   },
   {
    "duration": 169,
    "start_time": "2022-11-08T20:40:33.789Z"
   },
   {
    "duration": 15,
    "start_time": "2022-11-08T20:40:33.961Z"
   },
   {
    "duration": 13,
    "start_time": "2022-11-08T20:40:33.978Z"
   },
   {
    "duration": 27,
    "start_time": "2022-11-08T20:40:33.993Z"
   },
   {
    "duration": 17,
    "start_time": "2022-11-08T20:40:34.023Z"
   },
   {
    "duration": 15,
    "start_time": "2022-11-08T20:40:34.056Z"
   },
   {
    "duration": 16,
    "start_time": "2022-11-08T20:40:34.076Z"
   },
   {
    "duration": 24,
    "start_time": "2022-11-08T20:40:34.094Z"
   },
   {
    "duration": 943,
    "start_time": "2022-11-08T20:40:34.120Z"
   },
   {
    "duration": 24,
    "start_time": "2022-11-08T20:40:35.065Z"
   },
   {
    "duration": 3954,
    "start_time": "2022-11-08T20:40:35.091Z"
   },
   {
    "duration": 9,
    "start_time": "2022-11-08T20:40:39.047Z"
   },
   {
    "duration": 6,
    "start_time": "2022-11-08T20:40:39.057Z"
   },
   {
    "duration": 6,
    "start_time": "2022-11-08T20:40:39.065Z"
   },
   {
    "duration": 8,
    "start_time": "2022-11-08T20:40:39.073Z"
   },
   {
    "duration": 16,
    "start_time": "2022-11-08T20:40:39.083Z"
   },
   {
    "duration": 4,
    "start_time": "2022-11-08T20:40:39.100Z"
   },
   {
    "duration": 15,
    "start_time": "2022-11-08T20:40:39.105Z"
   },
   {
    "duration": 35,
    "start_time": "2022-11-08T20:40:39.121Z"
   },
   {
    "duration": 7,
    "start_time": "2022-11-08T20:40:39.157Z"
   },
   {
    "duration": 1362,
    "start_time": "2022-11-08T20:40:39.165Z"
   },
   {
    "duration": 16,
    "start_time": "2022-11-08T20:40:40.528Z"
   },
   {
    "duration": 10,
    "start_time": "2022-11-08T20:40:40.546Z"
   },
   {
    "duration": 15,
    "start_time": "2022-11-08T20:40:40.557Z"
   },
   {
    "duration": 10,
    "start_time": "2022-11-08T20:40:40.573Z"
   },
   {
    "duration": 9,
    "start_time": "2022-11-08T20:40:40.584Z"
   },
   {
    "duration": 171,
    "start_time": "2022-11-08T20:40:40.594Z"
   },
   {
    "duration": 141,
    "start_time": "2022-11-08T20:40:40.766Z"
   },
   {
    "duration": 190,
    "start_time": "2022-11-08T20:40:40.908Z"
   },
   {
    "duration": 183,
    "start_time": "2022-11-08T20:40:41.100Z"
   },
   {
    "duration": 11,
    "start_time": "2022-11-08T20:40:41.285Z"
   },
   {
    "duration": 13,
    "start_time": "2022-11-08T20:40:41.297Z"
   },
   {
    "duration": 21,
    "start_time": "2022-11-08T20:40:41.312Z"
   },
   {
    "duration": 11,
    "start_time": "2022-11-08T20:40:41.334Z"
   },
   {
    "duration": 15,
    "start_time": "2022-11-08T20:40:41.347Z"
   },
   {
    "duration": 4,
    "start_time": "2022-11-08T20:40:41.364Z"
   },
   {
    "duration": 1337,
    "start_time": "2022-11-08T20:54:54.632Z"
   },
   {
    "duration": 86,
    "start_time": "2022-11-08T20:54:55.971Z"
   },
   {
    "duration": 17,
    "start_time": "2022-11-08T20:54:56.058Z"
   },
   {
    "duration": 38,
    "start_time": "2022-11-08T20:54:56.077Z"
   },
   {
    "duration": 12,
    "start_time": "2022-11-08T20:54:56.118Z"
   },
   {
    "duration": 36,
    "start_time": "2022-11-08T20:54:56.132Z"
   },
   {
    "duration": 4,
    "start_time": "2022-11-08T20:54:56.170Z"
   },
   {
    "duration": 11,
    "start_time": "2022-11-08T20:54:56.176Z"
   },
   {
    "duration": 12,
    "start_time": "2022-11-08T20:54:56.188Z"
   },
   {
    "duration": 10,
    "start_time": "2022-11-08T20:54:56.203Z"
   },
   {
    "duration": 4,
    "start_time": "2022-11-08T20:54:56.214Z"
   },
   {
    "duration": 6,
    "start_time": "2022-11-08T20:54:56.219Z"
   },
   {
    "duration": 21,
    "start_time": "2022-11-08T20:54:56.226Z"
   },
   {
    "duration": 306,
    "start_time": "2022-11-08T20:54:56.255Z"
   },
   {
    "duration": 260,
    "start_time": "2022-11-08T20:54:56.562Z"
   },
   {
    "duration": 248,
    "start_time": "2022-11-08T20:54:56.824Z"
   },
   {
    "duration": 459,
    "start_time": "2022-11-08T20:54:57.073Z"
   },
   {
    "duration": 86,
    "start_time": "2022-11-08T20:54:57.534Z"
   },
   {
    "duration": 196,
    "start_time": "2022-11-08T20:54:57.622Z"
   },
   {
    "duration": 287,
    "start_time": "2022-11-08T20:54:57.819Z"
   },
   {
    "duration": 132,
    "start_time": "2022-11-08T20:54:58.108Z"
   },
   {
    "duration": 155,
    "start_time": "2022-11-08T20:54:58.242Z"
   },
   {
    "duration": 245,
    "start_time": "2022-11-08T20:54:58.399Z"
   },
   {
    "duration": 223,
    "start_time": "2022-11-08T20:54:58.646Z"
   },
   {
    "duration": 13,
    "start_time": "2022-11-08T20:54:58.871Z"
   },
   {
    "duration": 6,
    "start_time": "2022-11-08T20:54:58.885Z"
   },
   {
    "duration": 16,
    "start_time": "2022-11-08T20:54:58.892Z"
   },
   {
    "duration": 15,
    "start_time": "2022-11-08T20:54:58.911Z"
   },
   {
    "duration": 34,
    "start_time": "2022-11-08T20:54:58.928Z"
   },
   {
    "duration": 15,
    "start_time": "2022-11-08T20:54:58.964Z"
   },
   {
    "duration": 13,
    "start_time": "2022-11-08T20:54:58.981Z"
   },
   {
    "duration": 475,
    "start_time": "2022-11-08T20:54:58.995Z"
   },
   {
    "duration": 18,
    "start_time": "2022-11-08T20:54:59.471Z"
   },
   {
    "duration": 3983,
    "start_time": "2022-11-08T20:54:59.490Z"
   },
   {
    "duration": 9,
    "start_time": "2022-11-08T20:55:03.475Z"
   },
   {
    "duration": 14,
    "start_time": "2022-11-08T20:55:03.485Z"
   },
   {
    "duration": 14,
    "start_time": "2022-11-08T20:55:03.501Z"
   },
   {
    "duration": 13,
    "start_time": "2022-11-08T20:55:03.516Z"
   },
   {
    "duration": 19,
    "start_time": "2022-11-08T20:55:03.530Z"
   },
   {
    "duration": 4,
    "start_time": "2022-11-08T20:55:03.551Z"
   },
   {
    "duration": 24,
    "start_time": "2022-11-08T20:55:03.557Z"
   },
   {
    "duration": 33,
    "start_time": "2022-11-08T20:55:03.582Z"
   },
   {
    "duration": 7,
    "start_time": "2022-11-08T20:55:03.617Z"
   },
   {
    "duration": 1380,
    "start_time": "2022-11-08T20:55:03.625Z"
   },
   {
    "duration": 17,
    "start_time": "2022-11-08T20:55:05.007Z"
   },
   {
    "duration": 3,
    "start_time": "2022-11-08T20:55:05.026Z"
   },
   {
    "duration": 24,
    "start_time": "2022-11-08T20:55:05.031Z"
   },
   {
    "duration": 11,
    "start_time": "2022-11-08T20:55:05.056Z"
   },
   {
    "duration": 17,
    "start_time": "2022-11-08T20:55:05.068Z"
   },
   {
    "duration": 166,
    "start_time": "2022-11-08T20:55:05.087Z"
   },
   {
    "duration": 148,
    "start_time": "2022-11-08T20:55:05.255Z"
   },
   {
    "duration": 215,
    "start_time": "2022-11-08T20:55:05.405Z"
   },
   {
    "duration": 210,
    "start_time": "2022-11-08T20:55:05.621Z"
   },
   {
    "duration": 15,
    "start_time": "2022-11-08T20:55:05.833Z"
   },
   {
    "duration": 12,
    "start_time": "2022-11-08T20:55:05.855Z"
   },
   {
    "duration": 48,
    "start_time": "2022-11-08T20:55:05.868Z"
   },
   {
    "duration": 9,
    "start_time": "2022-11-08T20:55:05.918Z"
   },
   {
    "duration": 27,
    "start_time": "2022-11-08T20:55:05.929Z"
   },
   {
    "duration": 5,
    "start_time": "2022-11-08T20:55:05.957Z"
   },
   {
    "duration": 1398,
    "start_time": "2022-11-08T20:59:31.558Z"
   },
   {
    "duration": 73,
    "start_time": "2022-11-08T20:59:32.958Z"
   },
   {
    "duration": 16,
    "start_time": "2022-11-08T20:59:33.032Z"
   },
   {
    "duration": 10,
    "start_time": "2022-11-08T20:59:33.050Z"
   },
   {
    "duration": 10,
    "start_time": "2022-11-08T20:59:33.061Z"
   },
   {
    "duration": 26,
    "start_time": "2022-11-08T20:59:33.072Z"
   },
   {
    "duration": 3,
    "start_time": "2022-11-08T20:59:33.100Z"
   },
   {
    "duration": 5,
    "start_time": "2022-11-08T20:59:33.105Z"
   },
   {
    "duration": 12,
    "start_time": "2022-11-08T20:59:33.112Z"
   },
   {
    "duration": 3,
    "start_time": "2022-11-08T20:59:33.127Z"
   },
   {
    "duration": 11,
    "start_time": "2022-11-08T20:59:33.154Z"
   },
   {
    "duration": 15,
    "start_time": "2022-11-08T20:59:33.166Z"
   },
   {
    "duration": 291,
    "start_time": "2022-11-08T20:59:33.183Z"
   },
   {
    "duration": 200,
    "start_time": "2022-11-08T20:59:33.476Z"
   },
   {
    "duration": 261,
    "start_time": "2022-11-08T20:59:33.678Z"
   },
   {
    "duration": 458,
    "start_time": "2022-11-08T20:59:33.941Z"
   },
   {
    "duration": 93,
    "start_time": "2022-11-08T20:59:34.400Z"
   },
   {
    "duration": 150,
    "start_time": "2022-11-08T20:59:34.495Z"
   },
   {
    "duration": 276,
    "start_time": "2022-11-08T20:59:34.646Z"
   },
   {
    "duration": 146,
    "start_time": "2022-11-08T20:59:34.924Z"
   },
   {
    "duration": 145,
    "start_time": "2022-11-08T20:59:35.072Z"
   },
   {
    "duration": 253,
    "start_time": "2022-11-08T20:59:35.218Z"
   },
   {
    "duration": 236,
    "start_time": "2022-11-08T20:59:35.473Z"
   },
   {
    "duration": 14,
    "start_time": "2022-11-08T20:59:35.710Z"
   },
   {
    "duration": 6,
    "start_time": "2022-11-08T20:59:35.725Z"
   },
   {
    "duration": 25,
    "start_time": "2022-11-08T20:59:35.732Z"
   },
   {
    "duration": 10,
    "start_time": "2022-11-08T20:59:35.758Z"
   },
   {
    "duration": 10,
    "start_time": "2022-11-08T20:59:35.771Z"
   },
   {
    "duration": 10,
    "start_time": "2022-11-08T20:59:35.782Z"
   },
   {
    "duration": 20,
    "start_time": "2022-11-08T20:59:35.793Z"
   },
   {
    "duration": 501,
    "start_time": "2022-11-08T20:59:35.815Z"
   },
   {
    "duration": 17,
    "start_time": "2022-11-08T20:59:36.317Z"
   },
   {
    "duration": 3831,
    "start_time": "2022-11-08T20:59:36.335Z"
   },
   {
    "duration": 9,
    "start_time": "2022-11-08T20:59:40.167Z"
   },
   {
    "duration": 5,
    "start_time": "2022-11-08T20:59:40.177Z"
   },
   {
    "duration": 15,
    "start_time": "2022-11-08T20:59:40.183Z"
   },
   {
    "duration": 13,
    "start_time": "2022-11-08T20:59:40.199Z"
   },
   {
    "duration": 8,
    "start_time": "2022-11-08T20:59:40.213Z"
   },
   {
    "duration": 5,
    "start_time": "2022-11-08T20:59:40.222Z"
   },
   {
    "duration": 14,
    "start_time": "2022-11-08T20:59:40.229Z"
   },
   {
    "duration": 27,
    "start_time": "2022-11-08T20:59:40.244Z"
   },
   {
    "duration": 5,
    "start_time": "2022-11-08T20:59:40.273Z"
   },
   {
    "duration": 1410,
    "start_time": "2022-11-08T20:59:40.280Z"
   },
   {
    "duration": 16,
    "start_time": "2022-11-08T20:59:41.692Z"
   },
   {
    "duration": 3,
    "start_time": "2022-11-08T20:59:41.709Z"
   },
   {
    "duration": 28,
    "start_time": "2022-11-08T20:59:41.713Z"
   },
   {
    "duration": 13,
    "start_time": "2022-11-08T20:59:41.742Z"
   },
   {
    "duration": 7,
    "start_time": "2022-11-08T20:59:41.757Z"
   },
   {
    "duration": 155,
    "start_time": "2022-11-08T20:59:41.766Z"
   },
   {
    "duration": 141,
    "start_time": "2022-11-08T20:59:41.922Z"
   },
   {
    "duration": 191,
    "start_time": "2022-11-08T20:59:42.064Z"
   },
   {
    "duration": 216,
    "start_time": "2022-11-08T20:59:42.256Z"
   },
   {
    "duration": 12,
    "start_time": "2022-11-08T20:59:42.474Z"
   },
   {
    "duration": 18,
    "start_time": "2022-11-08T20:59:42.488Z"
   },
   {
    "duration": 20,
    "start_time": "2022-11-08T20:59:42.508Z"
   },
   {
    "duration": 9,
    "start_time": "2022-11-08T20:59:42.530Z"
   },
   {
    "duration": 24,
    "start_time": "2022-11-08T20:59:42.541Z"
   },
   {
    "duration": 17,
    "start_time": "2022-11-08T20:59:42.566Z"
   },
   {
    "duration": 1407,
    "start_time": "2022-11-08T22:20:05.912Z"
   },
   {
    "duration": 179,
    "start_time": "2022-11-08T22:20:07.321Z"
   },
   {
    "duration": 16,
    "start_time": "2022-11-08T22:20:07.502Z"
   },
   {
    "duration": 9,
    "start_time": "2022-11-08T22:20:07.520Z"
   },
   {
    "duration": 10,
    "start_time": "2022-11-08T22:20:07.530Z"
   },
   {
    "duration": 36,
    "start_time": "2022-11-08T22:20:07.541Z"
   },
   {
    "duration": 3,
    "start_time": "2022-11-08T22:20:07.579Z"
   },
   {
    "duration": 5,
    "start_time": "2022-11-08T22:20:07.584Z"
   },
   {
    "duration": 8,
    "start_time": "2022-11-08T22:20:07.590Z"
   },
   {
    "duration": 4,
    "start_time": "2022-11-08T22:20:07.600Z"
   },
   {
    "duration": 3,
    "start_time": "2022-11-08T22:20:07.606Z"
   },
   {
    "duration": 15,
    "start_time": "2022-11-08T22:20:07.611Z"
   },
   {
    "duration": 315,
    "start_time": "2022-11-08T22:20:07.627Z"
   },
   {
    "duration": 203,
    "start_time": "2022-11-08T22:20:07.943Z"
   },
   {
    "duration": 269,
    "start_time": "2022-11-08T22:20:08.148Z"
   },
   {
    "duration": 476,
    "start_time": "2022-11-08T22:20:08.418Z"
   },
   {
    "duration": 91,
    "start_time": "2022-11-08T22:20:08.896Z"
   },
   {
    "duration": 155,
    "start_time": "2022-11-08T22:20:08.989Z"
   },
   {
    "duration": 104,
    "start_time": "2022-11-08T22:20:09.145Z"
   },
   {
    "duration": 0,
    "start_time": "2022-11-08T22:20:09.252Z"
   },
   {
    "duration": 0,
    "start_time": "2022-11-08T22:20:09.253Z"
   },
   {
    "duration": 0,
    "start_time": "2022-11-08T22:20:09.265Z"
   },
   {
    "duration": 0,
    "start_time": "2022-11-08T22:20:09.266Z"
   },
   {
    "duration": 0,
    "start_time": "2022-11-08T22:20:09.267Z"
   },
   {
    "duration": 0,
    "start_time": "2022-11-08T22:20:09.268Z"
   },
   {
    "duration": 0,
    "start_time": "2022-11-08T22:20:09.269Z"
   },
   {
    "duration": 0,
    "start_time": "2022-11-08T22:20:09.270Z"
   },
   {
    "duration": 0,
    "start_time": "2022-11-08T22:20:09.271Z"
   },
   {
    "duration": 0,
    "start_time": "2022-11-08T22:20:09.272Z"
   },
   {
    "duration": 0,
    "start_time": "2022-11-08T22:20:09.273Z"
   },
   {
    "duration": 0,
    "start_time": "2022-11-08T22:20:09.274Z"
   },
   {
    "duration": 0,
    "start_time": "2022-11-08T22:20:09.275Z"
   },
   {
    "duration": 0,
    "start_time": "2022-11-08T22:20:09.276Z"
   },
   {
    "duration": 0,
    "start_time": "2022-11-08T22:20:09.277Z"
   },
   {
    "duration": 0,
    "start_time": "2022-11-08T22:20:09.278Z"
   },
   {
    "duration": 0,
    "start_time": "2022-11-08T22:20:09.279Z"
   },
   {
    "duration": 0,
    "start_time": "2022-11-08T22:20:09.280Z"
   },
   {
    "duration": 0,
    "start_time": "2022-11-08T22:20:09.280Z"
   },
   {
    "duration": 0,
    "start_time": "2022-11-08T22:20:09.281Z"
   },
   {
    "duration": 0,
    "start_time": "2022-11-08T22:20:09.282Z"
   },
   {
    "duration": 0,
    "start_time": "2022-11-08T22:20:09.283Z"
   },
   {
    "duration": 0,
    "start_time": "2022-11-08T22:20:09.284Z"
   },
   {
    "duration": 0,
    "start_time": "2022-11-08T22:20:09.285Z"
   },
   {
    "duration": 0,
    "start_time": "2022-11-08T22:20:09.285Z"
   },
   {
    "duration": 0,
    "start_time": "2022-11-08T22:20:09.286Z"
   },
   {
    "duration": 0,
    "start_time": "2022-11-08T22:20:09.287Z"
   },
   {
    "duration": 0,
    "start_time": "2022-11-08T22:20:09.288Z"
   },
   {
    "duration": 0,
    "start_time": "2022-11-08T22:20:09.289Z"
   },
   {
    "duration": 0,
    "start_time": "2022-11-08T22:20:09.290Z"
   },
   {
    "duration": 0,
    "start_time": "2022-11-08T22:20:09.291Z"
   },
   {
    "duration": 0,
    "start_time": "2022-11-08T22:20:09.291Z"
   },
   {
    "duration": 0,
    "start_time": "2022-11-08T22:20:09.292Z"
   },
   {
    "duration": 0,
    "start_time": "2022-11-08T22:20:09.293Z"
   },
   {
    "duration": 0,
    "start_time": "2022-11-08T22:20:09.294Z"
   },
   {
    "duration": 0,
    "start_time": "2022-11-08T22:20:09.295Z"
   },
   {
    "duration": 0,
    "start_time": "2022-11-08T22:20:09.296Z"
   },
   {
    "duration": 0,
    "start_time": "2022-11-08T22:20:09.297Z"
   },
   {
    "duration": 0,
    "start_time": "2022-11-08T22:20:09.298Z"
   },
   {
    "duration": 1351,
    "start_time": "2022-11-08T22:21:23.867Z"
   },
   {
    "duration": 92,
    "start_time": "2022-11-08T22:21:25.220Z"
   },
   {
    "duration": 17,
    "start_time": "2022-11-08T22:21:25.314Z"
   },
   {
    "duration": 11,
    "start_time": "2022-11-08T22:21:25.332Z"
   },
   {
    "duration": 20,
    "start_time": "2022-11-08T22:21:25.345Z"
   },
   {
    "duration": 28,
    "start_time": "2022-11-08T22:21:25.368Z"
   },
   {
    "duration": 4,
    "start_time": "2022-11-08T22:21:25.397Z"
   },
   {
    "duration": 8,
    "start_time": "2022-11-08T22:21:25.402Z"
   },
   {
    "duration": 10,
    "start_time": "2022-11-08T22:21:25.412Z"
   },
   {
    "duration": 7,
    "start_time": "2022-11-08T22:21:25.423Z"
   },
   {
    "duration": 4,
    "start_time": "2022-11-08T22:21:25.431Z"
   },
   {
    "duration": 13,
    "start_time": "2022-11-08T22:21:25.436Z"
   },
   {
    "duration": 305,
    "start_time": "2022-11-08T22:21:25.467Z"
   },
   {
    "duration": 197,
    "start_time": "2022-11-08T22:21:25.775Z"
   },
   {
    "duration": 264,
    "start_time": "2022-11-08T22:21:25.973Z"
   },
   {
    "duration": 486,
    "start_time": "2022-11-08T22:21:26.239Z"
   },
   {
    "duration": 87,
    "start_time": "2022-11-08T22:21:26.727Z"
   },
   {
    "duration": 164,
    "start_time": "2022-11-08T22:21:26.816Z"
   },
   {
    "duration": 18,
    "start_time": "2022-11-08T22:21:26.982Z"
   },
   {
    "duration": 4265,
    "start_time": "2022-11-08T22:21:27.001Z"
   },
   {
    "duration": 303,
    "start_time": "2022-11-08T22:21:31.268Z"
   },
   {
    "duration": 127,
    "start_time": "2022-11-08T22:21:31.572Z"
   },
   {
    "duration": 148,
    "start_time": "2022-11-08T22:21:31.700Z"
   },
   {
    "duration": 271,
    "start_time": "2022-11-08T22:21:31.849Z"
   },
   {
    "duration": 139,
    "start_time": "2022-11-08T22:21:32.121Z"
   },
   {
    "duration": 14,
    "start_time": "2022-11-08T22:21:32.266Z"
   },
   {
    "duration": 6,
    "start_time": "2022-11-08T22:21:32.281Z"
   },
   {
    "duration": 19,
    "start_time": "2022-11-08T22:21:32.288Z"
   },
   {
    "duration": 11,
    "start_time": "2022-11-08T22:21:32.308Z"
   },
   {
    "duration": 159,
    "start_time": "2022-11-08T22:21:32.320Z"
   },
   {
    "duration": 25,
    "start_time": "2022-11-08T22:21:32.481Z"
   },
   {
    "duration": 17,
    "start_time": "2022-11-08T22:21:32.508Z"
   },
   {
    "duration": 546,
    "start_time": "2022-11-08T22:21:32.526Z"
   },
   {
    "duration": 9,
    "start_time": "2022-11-08T22:21:33.073Z"
   },
   {
    "duration": 6,
    "start_time": "2022-11-08T22:21:33.083Z"
   },
   {
    "duration": 8,
    "start_time": "2022-11-08T22:21:33.091Z"
   },
   {
    "duration": 18,
    "start_time": "2022-11-08T22:21:33.100Z"
   },
   {
    "duration": 10,
    "start_time": "2022-11-08T22:21:33.120Z"
   },
   {
    "duration": 7,
    "start_time": "2022-11-08T22:21:33.132Z"
   },
   {
    "duration": 28,
    "start_time": "2022-11-08T22:21:33.140Z"
   },
   {
    "duration": 24,
    "start_time": "2022-11-08T22:21:33.172Z"
   },
   {
    "duration": 6,
    "start_time": "2022-11-08T22:21:33.198Z"
   },
   {
    "duration": 1500,
    "start_time": "2022-11-08T22:21:33.206Z"
   },
   {
    "duration": 15,
    "start_time": "2022-11-08T22:21:34.708Z"
   },
   {
    "duration": 3,
    "start_time": "2022-11-08T22:21:34.725Z"
   },
   {
    "duration": 8,
    "start_time": "2022-11-08T22:21:34.729Z"
   },
   {
    "duration": 25,
    "start_time": "2022-11-08T22:21:34.739Z"
   },
   {
    "duration": 9,
    "start_time": "2022-11-08T22:21:34.766Z"
   },
   {
    "duration": 155,
    "start_time": "2022-11-08T22:21:34.777Z"
   },
   {
    "duration": 157,
    "start_time": "2022-11-08T22:21:34.933Z"
   },
   {
    "duration": 201,
    "start_time": "2022-11-08T22:21:35.092Z"
   },
   {
    "duration": 187,
    "start_time": "2022-11-08T22:21:35.294Z"
   },
   {
    "duration": 11,
    "start_time": "2022-11-08T22:21:35.482Z"
   },
   {
    "duration": 19,
    "start_time": "2022-11-08T22:21:35.494Z"
   },
   {
    "duration": 17,
    "start_time": "2022-11-08T22:21:35.514Z"
   },
   {
    "duration": 5,
    "start_time": "2022-11-08T22:21:35.532Z"
   },
   {
    "duration": 10,
    "start_time": "2022-11-08T22:21:35.539Z"
   },
   {
    "duration": 7,
    "start_time": "2022-11-08T22:21:35.560Z"
   },
   {
    "duration": 76,
    "start_time": "2022-11-08T22:22:07.542Z"
   },
   {
    "duration": 115,
    "start_time": "2022-11-08T22:25:15.928Z"
   },
   {
    "duration": 4026,
    "start_time": "2022-11-08T22:26:20.084Z"
   },
   {
    "duration": 1265,
    "start_time": "2022-11-08T22:26:38.716Z"
   },
   {
    "duration": 83,
    "start_time": "2022-11-08T22:26:39.983Z"
   },
   {
    "duration": 18,
    "start_time": "2022-11-08T22:26:40.069Z"
   },
   {
    "duration": 9,
    "start_time": "2022-11-08T22:26:40.089Z"
   },
   {
    "duration": 10,
    "start_time": "2022-11-08T22:26:40.100Z"
   },
   {
    "duration": 24,
    "start_time": "2022-11-08T22:26:40.112Z"
   },
   {
    "duration": 18,
    "start_time": "2022-11-08T22:26:40.138Z"
   },
   {
    "duration": 13,
    "start_time": "2022-11-08T22:26:40.157Z"
   },
   {
    "duration": 7,
    "start_time": "2022-11-08T22:26:40.171Z"
   },
   {
    "duration": 4,
    "start_time": "2022-11-08T22:26:40.181Z"
   },
   {
    "duration": 6,
    "start_time": "2022-11-08T22:26:40.187Z"
   },
   {
    "duration": 14,
    "start_time": "2022-11-08T22:26:40.194Z"
   },
   {
    "duration": 294,
    "start_time": "2022-11-08T22:26:40.210Z"
   },
   {
    "duration": 193,
    "start_time": "2022-11-08T22:26:40.505Z"
   },
   {
    "duration": 240,
    "start_time": "2022-11-08T22:26:40.699Z"
   },
   {
    "duration": 448,
    "start_time": "2022-11-08T22:26:40.940Z"
   },
   {
    "duration": 85,
    "start_time": "2022-11-08T22:26:41.390Z"
   },
   {
    "duration": 149,
    "start_time": "2022-11-08T22:26:41.477Z"
   },
   {
    "duration": 19,
    "start_time": "2022-11-08T22:26:41.628Z"
   },
   {
    "duration": 3868,
    "start_time": "2022-11-08T22:26:41.657Z"
   },
   {
    "duration": 283,
    "start_time": "2022-11-08T22:26:45.526Z"
   },
   {
    "duration": 127,
    "start_time": "2022-11-08T22:26:45.810Z"
   },
   {
    "duration": 147,
    "start_time": "2022-11-08T22:26:45.938Z"
   },
   {
    "duration": 247,
    "start_time": "2022-11-08T22:26:46.087Z"
   },
   {
    "duration": 148,
    "start_time": "2022-11-08T22:26:46.336Z"
   },
   {
    "duration": 13,
    "start_time": "2022-11-08T22:26:46.485Z"
   },
   {
    "duration": 6,
    "start_time": "2022-11-08T22:26:46.499Z"
   },
   {
    "duration": 11,
    "start_time": "2022-11-08T22:26:46.508Z"
   },
   {
    "duration": 10,
    "start_time": "2022-11-08T22:26:46.520Z"
   },
   {
    "duration": 147,
    "start_time": "2022-11-08T22:26:46.531Z"
   },
   {
    "duration": 10,
    "start_time": "2022-11-08T22:26:46.680Z"
   },
   {
    "duration": 13,
    "start_time": "2022-11-08T22:26:46.692Z"
   },
   {
    "duration": 480,
    "start_time": "2022-11-08T22:26:46.706Z"
   },
   {
    "duration": 8,
    "start_time": "2022-11-08T22:26:47.188Z"
   },
   {
    "duration": 9,
    "start_time": "2022-11-08T22:26:47.197Z"
   },
   {
    "duration": 13,
    "start_time": "2022-11-08T22:26:47.207Z"
   },
   {
    "duration": 8,
    "start_time": "2022-11-08T22:26:47.221Z"
   },
   {
    "duration": 8,
    "start_time": "2022-11-08T22:26:47.230Z"
   },
   {
    "duration": 4,
    "start_time": "2022-11-08T22:26:47.239Z"
   },
   {
    "duration": 25,
    "start_time": "2022-11-08T22:26:47.244Z"
   },
   {
    "duration": 21,
    "start_time": "2022-11-08T22:26:47.271Z"
   },
   {
    "duration": 6,
    "start_time": "2022-11-08T22:26:47.293Z"
   },
   {
    "duration": 1547,
    "start_time": "2022-11-08T22:26:47.300Z"
   },
   {
    "duration": 21,
    "start_time": "2022-11-08T22:26:48.848Z"
   },
   {
    "duration": 7,
    "start_time": "2022-11-08T22:26:48.870Z"
   },
   {
    "duration": 9,
    "start_time": "2022-11-08T22:26:48.878Z"
   },
   {
    "duration": 16,
    "start_time": "2022-11-08T22:26:48.888Z"
   },
   {
    "duration": 10,
    "start_time": "2022-11-08T22:26:48.905Z"
   },
   {
    "duration": 168,
    "start_time": "2022-11-08T22:26:48.916Z"
   },
   {
    "duration": 155,
    "start_time": "2022-11-08T22:26:49.086Z"
   },
   {
    "duration": 222,
    "start_time": "2022-11-08T22:26:49.242Z"
   },
   {
    "duration": 207,
    "start_time": "2022-11-08T22:26:49.465Z"
   },
   {
    "duration": 11,
    "start_time": "2022-11-08T22:26:49.673Z"
   },
   {
    "duration": 17,
    "start_time": "2022-11-08T22:26:49.686Z"
   },
   {
    "duration": 20,
    "start_time": "2022-11-08T22:26:49.705Z"
   },
   {
    "duration": 10,
    "start_time": "2022-11-08T22:26:49.726Z"
   },
   {
    "duration": 11,
    "start_time": "2022-11-08T22:26:49.738Z"
   },
   {
    "duration": 5,
    "start_time": "2022-11-08T22:26:49.750Z"
   },
   {
    "duration": 1366,
    "start_time": "2022-11-08T22:27:18.391Z"
   },
   {
    "duration": 73,
    "start_time": "2022-11-08T22:27:19.761Z"
   },
   {
    "duration": 28,
    "start_time": "2022-11-08T22:27:19.836Z"
   },
   {
    "duration": 10,
    "start_time": "2022-11-08T22:27:19.869Z"
   },
   {
    "duration": 11,
    "start_time": "2022-11-08T22:27:19.880Z"
   },
   {
    "duration": 27,
    "start_time": "2022-11-08T22:27:19.892Z"
   },
   {
    "duration": 5,
    "start_time": "2022-11-08T22:27:19.920Z"
   },
   {
    "duration": 11,
    "start_time": "2022-11-08T22:27:19.926Z"
   },
   {
    "duration": 26,
    "start_time": "2022-11-08T22:27:19.938Z"
   },
   {
    "duration": 9,
    "start_time": "2022-11-08T22:27:19.967Z"
   },
   {
    "duration": 8,
    "start_time": "2022-11-08T22:27:19.977Z"
   },
   {
    "duration": 21,
    "start_time": "2022-11-08T22:27:19.987Z"
   },
   {
    "duration": 289,
    "start_time": "2022-11-08T22:27:20.010Z"
   },
   {
    "duration": 193,
    "start_time": "2022-11-08T22:27:20.301Z"
   },
   {
    "duration": 250,
    "start_time": "2022-11-08T22:27:20.496Z"
   },
   {
    "duration": 461,
    "start_time": "2022-11-08T22:27:20.748Z"
   },
   {
    "duration": 90,
    "start_time": "2022-11-08T22:27:21.211Z"
   },
   {
    "duration": 146,
    "start_time": "2022-11-08T22:27:21.302Z"
   },
   {
    "duration": 23,
    "start_time": "2022-11-08T22:27:21.449Z"
   },
   {
    "duration": 3964,
    "start_time": "2022-11-08T22:27:21.473Z"
   },
   {
    "duration": 288,
    "start_time": "2022-11-08T22:27:25.439Z"
   },
   {
    "duration": 141,
    "start_time": "2022-11-08T22:27:25.728Z"
   },
   {
    "duration": 146,
    "start_time": "2022-11-08T22:27:25.871Z"
   },
   {
    "duration": 252,
    "start_time": "2022-11-08T22:27:26.018Z"
   },
   {
    "duration": 142,
    "start_time": "2022-11-08T22:27:26.271Z"
   },
   {
    "duration": 13,
    "start_time": "2022-11-08T22:27:26.415Z"
   },
   {
    "duration": 7,
    "start_time": "2022-11-08T22:27:26.429Z"
   },
   {
    "duration": 24,
    "start_time": "2022-11-08T22:27:26.439Z"
   },
   {
    "duration": 13,
    "start_time": "2022-11-08T22:27:26.464Z"
   },
   {
    "duration": 130,
    "start_time": "2022-11-08T22:27:26.479Z"
   },
   {
    "duration": 10,
    "start_time": "2022-11-08T22:27:26.610Z"
   },
   {
    "duration": 13,
    "start_time": "2022-11-08T22:27:26.621Z"
   },
   {
    "duration": 500,
    "start_time": "2022-11-08T22:27:26.635Z"
   },
   {
    "duration": 8,
    "start_time": "2022-11-08T22:27:27.137Z"
   },
   {
    "duration": 15,
    "start_time": "2022-11-08T22:27:27.147Z"
   },
   {
    "duration": 5,
    "start_time": "2022-11-08T22:27:27.163Z"
   },
   {
    "duration": 14,
    "start_time": "2022-11-08T22:27:27.170Z"
   },
   {
    "duration": 20,
    "start_time": "2022-11-08T22:27:27.185Z"
   },
   {
    "duration": 5,
    "start_time": "2022-11-08T22:27:27.207Z"
   },
   {
    "duration": 20,
    "start_time": "2022-11-08T22:27:27.213Z"
   },
   {
    "duration": 26,
    "start_time": "2022-11-08T22:27:27.234Z"
   },
   {
    "duration": 10,
    "start_time": "2022-11-08T22:27:27.261Z"
   },
   {
    "duration": 1408,
    "start_time": "2022-11-08T22:27:27.272Z"
   },
   {
    "duration": 18,
    "start_time": "2022-11-08T22:27:28.681Z"
   },
   {
    "duration": 3,
    "start_time": "2022-11-08T22:27:28.700Z"
   },
   {
    "duration": 9,
    "start_time": "2022-11-08T22:27:28.704Z"
   },
   {
    "duration": 12,
    "start_time": "2022-11-08T22:27:28.714Z"
   },
   {
    "duration": 13,
    "start_time": "2022-11-08T22:27:28.728Z"
   },
   {
    "duration": 158,
    "start_time": "2022-11-08T22:27:28.755Z"
   },
   {
    "duration": 154,
    "start_time": "2022-11-08T22:27:28.914Z"
   },
   {
    "duration": 199,
    "start_time": "2022-11-08T22:27:29.070Z"
   },
   {
    "duration": 186,
    "start_time": "2022-11-08T22:27:29.270Z"
   },
   {
    "duration": 14,
    "start_time": "2022-11-08T22:27:29.458Z"
   },
   {
    "duration": 11,
    "start_time": "2022-11-08T22:27:29.474Z"
   },
   {
    "duration": 9,
    "start_time": "2022-11-08T22:27:29.487Z"
   },
   {
    "duration": 5,
    "start_time": "2022-11-08T22:27:29.497Z"
   },
   {
    "duration": 12,
    "start_time": "2022-11-08T22:27:29.503Z"
   },
   {
    "duration": 7,
    "start_time": "2022-11-08T22:27:29.516Z"
   },
   {
    "duration": 1334,
    "start_time": "2022-11-08T22:31:03.434Z"
   },
   {
    "duration": 75,
    "start_time": "2022-11-08T22:31:04.770Z"
   },
   {
    "duration": 17,
    "start_time": "2022-11-08T22:31:04.846Z"
   },
   {
    "duration": 10,
    "start_time": "2022-11-08T22:31:04.864Z"
   },
   {
    "duration": 10,
    "start_time": "2022-11-08T22:31:04.875Z"
   },
   {
    "duration": 25,
    "start_time": "2022-11-08T22:31:04.886Z"
   },
   {
    "duration": 4,
    "start_time": "2022-11-08T22:31:04.913Z"
   },
   {
    "duration": 5,
    "start_time": "2022-11-08T22:31:04.919Z"
   },
   {
    "duration": 30,
    "start_time": "2022-11-08T22:31:04.926Z"
   },
   {
    "duration": 5,
    "start_time": "2022-11-08T22:31:04.958Z"
   },
   {
    "duration": 6,
    "start_time": "2022-11-08T22:31:04.964Z"
   },
   {
    "duration": 20,
    "start_time": "2022-11-08T22:31:04.971Z"
   },
   {
    "duration": 294,
    "start_time": "2022-11-08T22:31:04.993Z"
   },
   {
    "duration": 187,
    "start_time": "2022-11-08T22:31:05.289Z"
   },
   {
    "duration": 245,
    "start_time": "2022-11-08T22:31:05.477Z"
   },
   {
    "duration": 443,
    "start_time": "2022-11-08T22:31:05.724Z"
   },
   {
    "duration": 86,
    "start_time": "2022-11-08T22:31:06.169Z"
   },
   {
    "duration": 149,
    "start_time": "2022-11-08T22:31:06.257Z"
   },
   {
    "duration": 16,
    "start_time": "2022-11-08T22:31:06.408Z"
   },
   {
    "duration": 3760,
    "start_time": "2022-11-08T22:31:06.426Z"
   },
   {
    "duration": 276,
    "start_time": "2022-11-08T22:31:10.187Z"
   },
   {
    "duration": 133,
    "start_time": "2022-11-08T22:31:10.464Z"
   },
   {
    "duration": 150,
    "start_time": "2022-11-08T22:31:10.598Z"
   },
   {
    "duration": 243,
    "start_time": "2022-11-08T22:31:10.750Z"
   },
   {
    "duration": 143,
    "start_time": "2022-11-08T22:31:10.995Z"
   },
   {
    "duration": 21,
    "start_time": "2022-11-08T22:31:11.139Z"
   },
   {
    "duration": 8,
    "start_time": "2022-11-08T22:31:11.162Z"
   },
   {
    "duration": 20,
    "start_time": "2022-11-08T22:31:11.171Z"
   },
   {
    "duration": 20,
    "start_time": "2022-11-08T22:31:11.192Z"
   },
   {
    "duration": 133,
    "start_time": "2022-11-08T22:31:11.213Z"
   },
   {
    "duration": 17,
    "start_time": "2022-11-08T22:31:11.348Z"
   },
   {
    "duration": 15,
    "start_time": "2022-11-08T22:31:11.367Z"
   },
   {
    "duration": 500,
    "start_time": "2022-11-08T22:31:11.383Z"
   },
   {
    "duration": 8,
    "start_time": "2022-11-08T22:31:11.884Z"
   },
   {
    "duration": 9,
    "start_time": "2022-11-08T22:31:11.893Z"
   },
   {
    "duration": 5,
    "start_time": "2022-11-08T22:31:11.903Z"
   },
   {
    "duration": 7,
    "start_time": "2022-11-08T22:31:11.909Z"
   },
   {
    "duration": 14,
    "start_time": "2022-11-08T22:31:11.917Z"
   },
   {
    "duration": 4,
    "start_time": "2022-11-08T22:31:11.932Z"
   },
   {
    "duration": 28,
    "start_time": "2022-11-08T22:31:11.937Z"
   },
   {
    "duration": 30,
    "start_time": "2022-11-08T22:31:11.968Z"
   },
   {
    "duration": 6,
    "start_time": "2022-11-08T22:31:11.999Z"
   },
   {
    "duration": 1437,
    "start_time": "2022-11-08T22:31:12.006Z"
   },
   {
    "duration": 22,
    "start_time": "2022-11-08T22:31:13.444Z"
   },
   {
    "duration": 3,
    "start_time": "2022-11-08T22:31:13.468Z"
   },
   {
    "duration": 12,
    "start_time": "2022-11-08T22:31:13.472Z"
   },
   {
    "duration": 12,
    "start_time": "2022-11-08T22:31:13.486Z"
   },
   {
    "duration": 13,
    "start_time": "2022-11-08T22:31:13.499Z"
   },
   {
    "duration": 161,
    "start_time": "2022-11-08T22:31:13.514Z"
   },
   {
    "duration": 145,
    "start_time": "2022-11-08T22:31:13.677Z"
   },
   {
    "duration": 195,
    "start_time": "2022-11-08T22:31:13.824Z"
   },
   {
    "duration": 196,
    "start_time": "2022-11-08T22:31:14.020Z"
   },
   {
    "duration": 10,
    "start_time": "2022-11-08T22:31:14.218Z"
   },
   {
    "duration": 12,
    "start_time": "2022-11-08T22:31:14.229Z"
   },
   {
    "duration": 14,
    "start_time": "2022-11-08T22:31:14.242Z"
   },
   {
    "duration": 7,
    "start_time": "2022-11-08T22:31:14.257Z"
   },
   {
    "duration": 10,
    "start_time": "2022-11-08T22:31:14.265Z"
   },
   {
    "duration": 4,
    "start_time": "2022-11-08T22:31:14.277Z"
   },
   {
    "duration": 150,
    "start_time": "2022-11-08T23:39:09.051Z"
   },
   {
    "duration": 1352,
    "start_time": "2022-11-08T23:39:16.543Z"
   },
   {
    "duration": 232,
    "start_time": "2022-11-08T23:39:17.897Z"
   },
   {
    "duration": 20,
    "start_time": "2022-11-08T23:39:18.130Z"
   },
   {
    "duration": 12,
    "start_time": "2022-11-08T23:39:18.153Z"
   },
   {
    "duration": 11,
    "start_time": "2022-11-08T23:39:18.167Z"
   },
   {
    "duration": 30,
    "start_time": "2022-11-08T23:39:18.180Z"
   },
   {
    "duration": 5,
    "start_time": "2022-11-08T23:39:18.211Z"
   },
   {
    "duration": 8,
    "start_time": "2022-11-08T23:39:18.217Z"
   },
   {
    "duration": 5,
    "start_time": "2022-11-08T23:39:18.255Z"
   },
   {
    "duration": 17,
    "start_time": "2022-11-08T23:39:18.263Z"
   },
   {
    "duration": 8,
    "start_time": "2022-11-08T23:39:18.281Z"
   },
   {
    "duration": 17,
    "start_time": "2022-11-08T23:39:18.291Z"
   },
   {
    "duration": 293,
    "start_time": "2022-11-08T23:39:18.310Z"
   },
   {
    "duration": 196,
    "start_time": "2022-11-08T23:39:18.604Z"
   },
   {
    "duration": 295,
    "start_time": "2022-11-08T23:39:18.801Z"
   },
   {
    "duration": 536,
    "start_time": "2022-11-08T23:39:19.097Z"
   },
   {
    "duration": 98,
    "start_time": "2022-11-08T23:39:19.635Z"
   },
   {
    "duration": 180,
    "start_time": "2022-11-08T23:39:19.734Z"
   },
   {
    "duration": 17,
    "start_time": "2022-11-08T23:39:19.915Z"
   },
   {
    "duration": 4000,
    "start_time": "2022-11-08T23:39:19.934Z"
   },
   {
    "duration": 273,
    "start_time": "2022-11-08T23:39:23.935Z"
   },
   {
    "duration": 142,
    "start_time": "2022-11-08T23:39:24.209Z"
   },
   {
    "duration": 146,
    "start_time": "2022-11-08T23:39:24.354Z"
   },
   {
    "duration": 246,
    "start_time": "2022-11-08T23:39:24.501Z"
   },
   {
    "duration": 132,
    "start_time": "2022-11-08T23:39:24.748Z"
   },
   {
    "duration": 14,
    "start_time": "2022-11-08T23:39:24.882Z"
   },
   {
    "duration": 6,
    "start_time": "2022-11-08T23:39:24.898Z"
   },
   {
    "duration": 13,
    "start_time": "2022-11-08T23:39:24.908Z"
   },
   {
    "duration": 38,
    "start_time": "2022-11-08T23:39:24.922Z"
   },
   {
    "duration": 122,
    "start_time": "2022-11-08T23:39:24.961Z"
   },
   {
    "duration": 12,
    "start_time": "2022-11-08T23:39:25.085Z"
   },
   {
    "duration": 20,
    "start_time": "2022-11-08T23:39:25.098Z"
   },
   {
    "duration": 470,
    "start_time": "2022-11-08T23:39:25.119Z"
   },
   {
    "duration": 7,
    "start_time": "2022-11-08T23:39:25.591Z"
   },
   {
    "duration": 5,
    "start_time": "2022-11-08T23:39:25.600Z"
   },
   {
    "duration": 7,
    "start_time": "2022-11-08T23:39:25.607Z"
   },
   {
    "duration": 8,
    "start_time": "2022-11-08T23:39:25.615Z"
   },
   {
    "duration": 9,
    "start_time": "2022-11-08T23:39:25.624Z"
   },
   {
    "duration": 21,
    "start_time": "2022-11-08T23:39:25.634Z"
   },
   {
    "duration": 13,
    "start_time": "2022-11-08T23:39:25.656Z"
   },
   {
    "duration": 22,
    "start_time": "2022-11-08T23:39:25.671Z"
   },
   {
    "duration": 6,
    "start_time": "2022-11-08T23:39:25.694Z"
   },
   {
    "duration": 1373,
    "start_time": "2022-11-08T23:39:25.702Z"
   },
   {
    "duration": 16,
    "start_time": "2022-11-08T23:39:27.076Z"
   },
   {
    "duration": 3,
    "start_time": "2022-11-08T23:39:27.093Z"
   },
   {
    "duration": 8,
    "start_time": "2022-11-08T23:39:27.098Z"
   },
   {
    "duration": 11,
    "start_time": "2022-11-08T23:39:27.108Z"
   },
   {
    "duration": 12,
    "start_time": "2022-11-08T23:39:27.120Z"
   },
   {
    "duration": 166,
    "start_time": "2022-11-08T23:39:27.134Z"
   },
   {
    "duration": 153,
    "start_time": "2022-11-08T23:39:27.302Z"
   },
   {
    "duration": 186,
    "start_time": "2022-11-08T23:39:27.456Z"
   },
   {
    "duration": 187,
    "start_time": "2022-11-08T23:39:27.644Z"
   },
   {
    "duration": 11,
    "start_time": "2022-11-08T23:39:27.832Z"
   },
   {
    "duration": 9,
    "start_time": "2022-11-08T23:39:27.854Z"
   },
   {
    "duration": 13,
    "start_time": "2022-11-08T23:39:27.864Z"
   },
   {
    "duration": 8,
    "start_time": "2022-11-08T23:39:27.878Z"
   },
   {
    "duration": 13,
    "start_time": "2022-11-08T23:39:27.887Z"
   },
   {
    "duration": 4,
    "start_time": "2022-11-08T23:39:27.901Z"
   },
   {
    "duration": 128,
    "start_time": "2022-11-08T23:48:08.395Z"
   },
   {
    "duration": 136,
    "start_time": "2022-11-08T23:49:02.682Z"
   },
   {
    "duration": 1518,
    "start_time": "2022-11-09T00:00:02.124Z"
   },
   {
    "duration": 91,
    "start_time": "2022-11-09T00:00:03.645Z"
   },
   {
    "duration": 17,
    "start_time": "2022-11-09T00:00:03.738Z"
   },
   {
    "duration": 17,
    "start_time": "2022-11-09T00:00:03.757Z"
   },
   {
    "duration": 14,
    "start_time": "2022-11-09T00:00:03.776Z"
   },
   {
    "duration": 52,
    "start_time": "2022-11-09T00:00:03.792Z"
   },
   {
    "duration": 37,
    "start_time": "2022-11-09T00:00:03.846Z"
   },
   {
    "duration": 35,
    "start_time": "2022-11-09T00:00:03.884Z"
   },
   {
    "duration": 30,
    "start_time": "2022-11-09T00:00:03.920Z"
   },
   {
    "duration": 32,
    "start_time": "2022-11-09T00:00:03.954Z"
   },
   {
    "duration": 16,
    "start_time": "2022-11-09T00:00:03.987Z"
   },
   {
    "duration": 40,
    "start_time": "2022-11-09T00:00:04.004Z"
   },
   {
    "duration": 326,
    "start_time": "2022-11-09T00:00:04.046Z"
   },
   {
    "duration": 195,
    "start_time": "2022-11-09T00:00:04.373Z"
   },
   {
    "duration": 253,
    "start_time": "2022-11-09T00:00:04.569Z"
   },
   {
    "duration": 453,
    "start_time": "2022-11-09T00:00:04.823Z"
   },
   {
    "duration": 86,
    "start_time": "2022-11-09T00:00:05.277Z"
   },
   {
    "duration": 153,
    "start_time": "2022-11-09T00:00:05.364Z"
   },
   {
    "duration": 17,
    "start_time": "2022-11-09T00:00:05.519Z"
   },
   {
    "duration": 3800,
    "start_time": "2022-11-09T00:00:05.537Z"
   },
   {
    "duration": 278,
    "start_time": "2022-11-09T00:00:09.339Z"
   },
   {
    "duration": 140,
    "start_time": "2022-11-09T00:00:09.618Z"
   },
   {
    "duration": 145,
    "start_time": "2022-11-09T00:00:09.760Z"
   },
   {
    "duration": 252,
    "start_time": "2022-11-09T00:00:09.907Z"
   },
   {
    "duration": 139,
    "start_time": "2022-11-09T00:00:10.160Z"
   },
   {
    "duration": 13,
    "start_time": "2022-11-09T00:00:10.301Z"
   },
   {
    "duration": 12,
    "start_time": "2022-11-09T00:00:10.315Z"
   },
   {
    "duration": 21,
    "start_time": "2022-11-09T00:00:10.330Z"
   },
   {
    "duration": 11,
    "start_time": "2022-11-09T00:00:10.353Z"
   },
   {
    "duration": 136,
    "start_time": "2022-11-09T00:00:10.366Z"
   },
   {
    "duration": 11,
    "start_time": "2022-11-09T00:00:10.504Z"
   },
   {
    "duration": 14,
    "start_time": "2022-11-09T00:00:10.516Z"
   },
   {
    "duration": 516,
    "start_time": "2022-11-09T00:00:10.531Z"
   },
   {
    "duration": 12,
    "start_time": "2022-11-09T00:00:11.049Z"
   },
   {
    "duration": 5,
    "start_time": "2022-11-09T00:00:11.062Z"
   },
   {
    "duration": 5,
    "start_time": "2022-11-09T00:00:11.068Z"
   },
   {
    "duration": 6,
    "start_time": "2022-11-09T00:00:11.075Z"
   },
   {
    "duration": 12,
    "start_time": "2022-11-09T00:00:11.082Z"
   },
   {
    "duration": 5,
    "start_time": "2022-11-09T00:00:11.095Z"
   },
   {
    "duration": 20,
    "start_time": "2022-11-09T00:00:11.101Z"
   },
   {
    "duration": 25,
    "start_time": "2022-11-09T00:00:11.122Z"
   },
   {
    "duration": 5,
    "start_time": "2022-11-09T00:00:11.149Z"
   },
   {
    "duration": 1522,
    "start_time": "2022-11-09T00:00:11.155Z"
   },
   {
    "duration": 23,
    "start_time": "2022-11-09T00:00:12.679Z"
   },
   {
    "duration": 3,
    "start_time": "2022-11-09T00:00:12.704Z"
   },
   {
    "duration": 8,
    "start_time": "2022-11-09T00:00:12.709Z"
   },
   {
    "duration": 11,
    "start_time": "2022-11-09T00:00:12.718Z"
   },
   {
    "duration": 28,
    "start_time": "2022-11-09T00:00:12.730Z"
   },
   {
    "duration": 151,
    "start_time": "2022-11-09T00:00:12.760Z"
   },
   {
    "duration": 165,
    "start_time": "2022-11-09T00:00:12.913Z"
   },
   {
    "duration": 207,
    "start_time": "2022-11-09T00:00:13.080Z"
   },
   {
    "duration": 194,
    "start_time": "2022-11-09T00:00:13.288Z"
   },
   {
    "duration": 10,
    "start_time": "2022-11-09T00:00:13.484Z"
   },
   {
    "duration": 10,
    "start_time": "2022-11-09T00:00:13.496Z"
   },
   {
    "duration": 10,
    "start_time": "2022-11-09T00:00:13.508Z"
   },
   {
    "duration": 5,
    "start_time": "2022-11-09T00:00:13.520Z"
   },
   {
    "duration": 33,
    "start_time": "2022-11-09T00:00:13.527Z"
   },
   {
    "duration": 5,
    "start_time": "2022-11-09T00:00:13.561Z"
   },
   {
    "duration": 1533,
    "start_time": "2022-11-09T20:37:52.769Z"
   },
   {
    "duration": 169,
    "start_time": "2022-11-09T20:37:54.304Z"
   },
   {
    "duration": 20,
    "start_time": "2022-11-09T20:37:54.474Z"
   },
   {
    "duration": 11,
    "start_time": "2022-11-09T20:37:54.496Z"
   },
   {
    "duration": 26,
    "start_time": "2022-11-09T20:37:54.509Z"
   },
   {
    "duration": 29,
    "start_time": "2022-11-09T20:37:54.536Z"
   },
   {
    "duration": 4,
    "start_time": "2022-11-09T20:37:54.567Z"
   },
   {
    "duration": 5,
    "start_time": "2022-11-09T20:37:54.573Z"
   },
   {
    "duration": 6,
    "start_time": "2022-11-09T20:37:54.580Z"
   },
   {
    "duration": 5,
    "start_time": "2022-11-09T20:37:54.588Z"
   },
   {
    "duration": 39,
    "start_time": "2022-11-09T20:37:54.595Z"
   },
   {
    "duration": 17,
    "start_time": "2022-11-09T20:37:54.636Z"
   },
   {
    "duration": 349,
    "start_time": "2022-11-09T20:37:54.655Z"
   },
   {
    "duration": 220,
    "start_time": "2022-11-09T20:37:55.005Z"
   },
   {
    "duration": 306,
    "start_time": "2022-11-09T20:37:55.227Z"
   },
   {
    "duration": 525,
    "start_time": "2022-11-09T20:37:55.535Z"
   },
   {
    "duration": 95,
    "start_time": "2022-11-09T20:37:56.061Z"
   },
   {
    "duration": 171,
    "start_time": "2022-11-09T20:37:56.157Z"
   },
   {
    "duration": 21,
    "start_time": "2022-11-09T20:37:56.332Z"
   },
   {
    "duration": 4607,
    "start_time": "2022-11-09T20:37:56.354Z"
   },
   {
    "duration": 388,
    "start_time": "2022-11-09T20:38:00.963Z"
   },
   {
    "duration": 162,
    "start_time": "2022-11-09T20:38:01.354Z"
   },
   {
    "duration": 257,
    "start_time": "2022-11-09T20:38:01.518Z"
   },
   {
    "duration": 318,
    "start_time": "2022-11-09T20:38:01.777Z"
   },
   {
    "duration": 208,
    "start_time": "2022-11-09T20:38:02.097Z"
   },
   {
    "duration": 27,
    "start_time": "2022-11-09T20:38:02.307Z"
   },
   {
    "duration": 9,
    "start_time": "2022-11-09T20:38:02.335Z"
   },
   {
    "duration": 14,
    "start_time": "2022-11-09T20:38:02.348Z"
   },
   {
    "duration": 16,
    "start_time": "2022-11-09T20:38:02.364Z"
   },
   {
    "duration": 162,
    "start_time": "2022-11-09T20:38:02.382Z"
   },
   {
    "duration": 23,
    "start_time": "2022-11-09T20:38:02.546Z"
   },
   {
    "duration": 17,
    "start_time": "2022-11-09T20:38:02.571Z"
   },
   {
    "duration": 589,
    "start_time": "2022-11-09T20:38:02.590Z"
   },
   {
    "duration": 12,
    "start_time": "2022-11-09T20:38:03.181Z"
   },
   {
    "duration": 7,
    "start_time": "2022-11-09T20:38:03.194Z"
   },
   {
    "duration": 16,
    "start_time": "2022-11-09T20:38:03.203Z"
   },
   {
    "duration": 14,
    "start_time": "2022-11-09T20:38:03.233Z"
   },
   {
    "duration": 15,
    "start_time": "2022-11-09T20:38:03.248Z"
   },
   {
    "duration": 9,
    "start_time": "2022-11-09T20:38:03.265Z"
   },
   {
    "duration": 37,
    "start_time": "2022-11-09T20:38:03.276Z"
   },
   {
    "duration": 32,
    "start_time": "2022-11-09T20:38:03.314Z"
   },
   {
    "duration": 7,
    "start_time": "2022-11-09T20:38:03.348Z"
   },
   {
    "duration": 1707,
    "start_time": "2022-11-09T20:38:03.357Z"
   },
   {
    "duration": 24,
    "start_time": "2022-11-09T20:38:05.066Z"
   },
   {
    "duration": 5,
    "start_time": "2022-11-09T20:38:05.092Z"
   },
   {
    "duration": 13,
    "start_time": "2022-11-09T20:38:05.099Z"
   },
   {
    "duration": 30,
    "start_time": "2022-11-09T20:38:05.114Z"
   },
   {
    "duration": 14,
    "start_time": "2022-11-09T20:38:05.146Z"
   },
   {
    "duration": 191,
    "start_time": "2022-11-09T20:38:05.161Z"
   },
   {
    "duration": 178,
    "start_time": "2022-11-09T20:38:05.354Z"
   },
   {
    "duration": 278,
    "start_time": "2022-11-09T20:38:05.534Z"
   },
   {
    "duration": 243,
    "start_time": "2022-11-09T20:38:05.814Z"
   },
   {
    "duration": 17,
    "start_time": "2022-11-09T20:38:06.059Z"
   },
   {
    "duration": 30,
    "start_time": "2022-11-09T20:38:06.079Z"
   },
   {
    "duration": 25,
    "start_time": "2022-11-09T20:38:06.112Z"
   },
   {
    "duration": 16,
    "start_time": "2022-11-09T20:38:06.139Z"
   },
   {
    "duration": 27,
    "start_time": "2022-11-09T20:38:06.158Z"
   },
   {
    "duration": 6,
    "start_time": "2022-11-09T20:38:06.188Z"
   },
   {
    "duration": 22,
    "start_time": "2022-11-09T20:40:23.693Z"
   },
   {
    "duration": 1946,
    "start_time": "2022-11-10T19:05:48.683Z"
   },
   {
    "duration": 119,
    "start_time": "2022-11-10T19:05:50.631Z"
   },
   {
    "duration": 26,
    "start_time": "2022-11-10T19:05:50.756Z"
   },
   {
    "duration": 17,
    "start_time": "2022-11-10T19:05:50.785Z"
   },
   {
    "duration": 40,
    "start_time": "2022-11-10T19:05:50.804Z"
   },
   {
    "duration": 41,
    "start_time": "2022-11-10T19:05:50.846Z"
   },
   {
    "duration": 5,
    "start_time": "2022-11-10T19:05:50.889Z"
   },
   {
    "duration": 7,
    "start_time": "2022-11-10T19:05:50.896Z"
   },
   {
    "duration": 11,
    "start_time": "2022-11-10T19:05:50.905Z"
   },
   {
    "duration": 37,
    "start_time": "2022-11-10T19:05:50.920Z"
   },
   {
    "duration": 5,
    "start_time": "2022-11-10T19:05:50.959Z"
   },
   {
    "duration": 18,
    "start_time": "2022-11-10T19:05:50.966Z"
   },
   {
    "duration": 399,
    "start_time": "2022-11-10T19:05:50.986Z"
   },
   {
    "duration": 271,
    "start_time": "2022-11-10T19:05:51.387Z"
   },
   {
    "duration": 340,
    "start_time": "2022-11-10T19:05:51.660Z"
   },
   {
    "duration": 649,
    "start_time": "2022-11-10T19:05:52.002Z"
   },
   {
    "duration": 113,
    "start_time": "2022-11-10T19:05:52.653Z"
   },
   {
    "duration": 222,
    "start_time": "2022-11-10T19:05:52.768Z"
   },
   {
    "duration": 25,
    "start_time": "2022-11-10T19:05:52.992Z"
   },
   {
    "duration": 5407,
    "start_time": "2022-11-10T19:05:53.019Z"
   },
   {
    "duration": 417,
    "start_time": "2022-11-10T19:05:58.428Z"
   },
   {
    "duration": 232,
    "start_time": "2022-11-10T19:05:58.847Z"
   },
   {
    "duration": 246,
    "start_time": "2022-11-10T19:05:59.082Z"
   },
   {
    "duration": 375,
    "start_time": "2022-11-10T19:05:59.330Z"
   },
   {
    "duration": 219,
    "start_time": "2022-11-10T19:05:59.708Z"
   },
   {
    "duration": 19,
    "start_time": "2022-11-10T19:05:59.929Z"
   },
   {
    "duration": 9,
    "start_time": "2022-11-10T19:05:59.953Z"
   },
   {
    "duration": 15,
    "start_time": "2022-11-10T19:05:59.967Z"
   },
   {
    "duration": 15,
    "start_time": "2022-11-10T19:05:59.983Z"
   },
   {
    "duration": 189,
    "start_time": "2022-11-10T19:06:00.000Z"
   },
   {
    "duration": 30,
    "start_time": "2022-11-10T19:06:00.191Z"
   },
   {
    "duration": 35,
    "start_time": "2022-11-10T19:06:00.223Z"
   },
   {
    "duration": 673,
    "start_time": "2022-11-10T19:06:00.260Z"
   },
   {
    "duration": 18,
    "start_time": "2022-11-10T19:06:00.934Z"
   },
   {
    "duration": 25,
    "start_time": "2022-11-10T19:06:00.955Z"
   },
   {
    "duration": 7,
    "start_time": "2022-11-10T19:06:00.982Z"
   },
   {
    "duration": 12,
    "start_time": "2022-11-10T19:06:00.990Z"
   },
   {
    "duration": 14,
    "start_time": "2022-11-10T19:06:01.004Z"
   },
   {
    "duration": 5,
    "start_time": "2022-11-10T19:06:01.020Z"
   },
   {
    "duration": 35,
    "start_time": "2022-11-10T19:06:01.027Z"
   },
   {
    "duration": 37,
    "start_time": "2022-11-10T19:06:01.064Z"
   },
   {
    "duration": 13,
    "start_time": "2022-11-10T19:06:01.103Z"
   },
   {
    "duration": 1946,
    "start_time": "2022-11-10T19:06:01.119Z"
   },
   {
    "duration": 22,
    "start_time": "2022-11-10T19:06:03.067Z"
   },
   {
    "duration": 4,
    "start_time": "2022-11-10T19:06:03.091Z"
   },
   {
    "duration": 12,
    "start_time": "2022-11-10T19:06:03.098Z"
   },
   {
    "duration": 43,
    "start_time": "2022-11-10T19:06:03.112Z"
   },
   {
    "duration": 24,
    "start_time": "2022-11-10T19:06:03.157Z"
   },
   {
    "duration": 221,
    "start_time": "2022-11-10T19:06:03.183Z"
   },
   {
    "duration": 198,
    "start_time": "2022-11-10T19:06:03.406Z"
   },
   {
    "duration": 338,
    "start_time": "2022-11-10T19:06:03.606Z"
   },
   {
    "duration": 262,
    "start_time": "2022-11-10T19:06:03.946Z"
   },
   {
    "duration": 17,
    "start_time": "2022-11-10T19:06:04.210Z"
   },
   {
    "duration": 24,
    "start_time": "2022-11-10T19:06:04.228Z"
   },
   {
    "duration": 30,
    "start_time": "2022-11-10T19:06:04.255Z"
   },
   {
    "duration": 6,
    "start_time": "2022-11-10T19:06:04.287Z"
   },
   {
    "duration": 17,
    "start_time": "2022-11-10T19:06:04.295Z"
   },
   {
    "duration": 5,
    "start_time": "2022-11-10T19:06:04.314Z"
   },
   {
    "duration": 87,
    "start_time": "2022-11-10T20:28:34.602Z"
   },
   {
    "duration": 24,
    "start_time": "2022-11-10T20:28:39.534Z"
   },
   {
    "duration": 8,
    "start_time": "2022-11-10T20:30:19.859Z"
   },
   {
    "duration": 14,
    "start_time": "2022-11-10T20:30:33.835Z"
   },
   {
    "duration": 86,
    "start_time": "2022-11-10T20:30:46.900Z"
   },
   {
    "duration": 10,
    "start_time": "2022-11-10T20:30:51.037Z"
   },
   {
    "duration": 12,
    "start_time": "2022-11-10T20:31:15.303Z"
   },
   {
    "duration": 80,
    "start_time": "2022-11-10T20:34:21.683Z"
   },
   {
    "duration": 37,
    "start_time": "2022-11-10T20:34:28.115Z"
   },
   {
    "duration": 39,
    "start_time": "2022-11-10T20:35:02.223Z"
   },
   {
    "duration": 9,
    "start_time": "2022-11-10T20:35:07.303Z"
   },
   {
    "duration": 1930,
    "start_time": "2022-11-10T20:35:07.723Z"
   },
   {
    "duration": 23,
    "start_time": "2022-11-10T20:35:12.104Z"
   },
   {
    "duration": 5,
    "start_time": "2022-11-10T20:35:12.808Z"
   },
   {
    "duration": 6,
    "start_time": "2022-11-10T20:35:13.305Z"
   },
   {
    "duration": 13,
    "start_time": "2022-11-10T20:35:15.186Z"
   },
   {
    "duration": 14,
    "start_time": "2022-11-10T20:35:28.921Z"
   },
   {
    "duration": 225,
    "start_time": "2022-11-10T20:35:34.984Z"
   },
   {
    "duration": 211,
    "start_time": "2022-11-10T20:35:35.877Z"
   },
   {
    "duration": 224,
    "start_time": "2022-11-10T20:35:36.576Z"
   },
   {
    "duration": 235,
    "start_time": "2022-11-10T20:35:37.463Z"
   },
   {
    "duration": 14,
    "start_time": "2022-11-10T20:35:54.022Z"
   },
   {
    "duration": 13,
    "start_time": "2022-11-10T20:35:55.614Z"
   },
   {
    "duration": 12,
    "start_time": "2022-11-10T20:36:01.909Z"
   },
   {
    "duration": 10,
    "start_time": "2022-11-10T20:36:23.977Z"
   },
   {
    "duration": 11,
    "start_time": "2022-11-10T20:40:00.749Z"
   },
   {
    "duration": 15,
    "start_time": "2022-11-10T20:44:50.975Z"
   },
   {
    "duration": 20,
    "start_time": "2022-11-10T20:45:13.233Z"
   },
   {
    "duration": 10,
    "start_time": "2022-11-10T20:45:25.855Z"
   },
   {
    "duration": 10,
    "start_time": "2022-11-10T20:46:03.396Z"
   },
   {
    "duration": 10,
    "start_time": "2022-11-10T20:46:29.865Z"
   },
   {
    "duration": 10,
    "start_time": "2022-11-10T20:46:36.103Z"
   },
   {
    "duration": 12,
    "start_time": "2022-11-10T20:47:24.601Z"
   },
   {
    "duration": 6,
    "start_time": "2022-11-10T20:47:38.025Z"
   },
   {
    "duration": 17,
    "start_time": "2022-11-10T20:47:57.784Z"
   },
   {
    "duration": 14,
    "start_time": "2022-11-10T20:48:23.725Z"
   },
   {
    "duration": 6,
    "start_time": "2022-11-10T20:48:25.705Z"
   },
   {
    "duration": 15,
    "start_time": "2022-11-10T20:59:14.659Z"
   },
   {
    "duration": 190,
    "start_time": "2022-11-10T20:59:44.334Z"
   },
   {
    "duration": 7,
    "start_time": "2022-11-10T20:59:58.867Z"
   },
   {
    "duration": 6,
    "start_time": "2022-11-10T21:00:11.037Z"
   },
   {
    "duration": 8,
    "start_time": "2022-11-10T21:00:39.337Z"
   },
   {
    "duration": 7,
    "start_time": "2022-11-10T21:00:59.299Z"
   },
   {
    "duration": 8,
    "start_time": "2022-11-10T21:01:14.659Z"
   },
   {
    "duration": 10,
    "start_time": "2022-11-10T21:05:08.260Z"
   },
   {
    "duration": 11,
    "start_time": "2022-11-10T21:05:57.335Z"
   },
   {
    "duration": 19,
    "start_time": "2022-11-10T21:07:19.474Z"
   },
   {
    "duration": 12,
    "start_time": "2022-11-10T21:07:29.742Z"
   },
   {
    "duration": 155,
    "start_time": "2022-11-10T21:08:57.211Z"
   },
   {
    "duration": 21,
    "start_time": "2022-11-10T21:09:07.437Z"
   },
   {
    "duration": 23,
    "start_time": "2022-11-10T21:09:22.935Z"
   },
   {
    "duration": 6,
    "start_time": "2022-11-10T21:09:34.651Z"
   },
   {
    "duration": 27,
    "start_time": "2022-11-10T21:09:59.875Z"
   },
   {
    "duration": 4,
    "start_time": "2022-11-10T21:10:55.177Z"
   },
   {
    "duration": 37,
    "start_time": "2022-11-10T21:11:02.817Z"
   },
   {
    "duration": 5,
    "start_time": "2022-11-10T21:11:58.158Z"
   },
   {
    "duration": 259,
    "start_time": "2022-11-10T21:14:36.096Z"
   },
   {
    "duration": 5,
    "start_time": "2022-11-10T21:15:35.555Z"
   },
   {
    "duration": 22,
    "start_time": "2022-11-10T21:16:59.734Z"
   },
   {
    "duration": 13,
    "start_time": "2022-11-10T21:17:11.459Z"
   },
   {
    "duration": 13,
    "start_time": "2022-11-10T21:17:28.675Z"
   },
   {
    "duration": 10,
    "start_time": "2022-11-10T21:18:03.935Z"
   },
   {
    "duration": 15,
    "start_time": "2022-11-10T21:18:31.850Z"
   },
   {
    "duration": 11,
    "start_time": "2022-11-10T21:19:17.314Z"
   },
   {
    "duration": 22,
    "start_time": "2022-11-10T21:19:23.934Z"
   },
   {
    "duration": 7,
    "start_time": "2022-11-10T21:19:38.674Z"
   },
   {
    "duration": 16,
    "start_time": "2022-11-10T21:21:35.516Z"
   },
   {
    "duration": 11,
    "start_time": "2022-11-10T21:21:43.860Z"
   },
   {
    "duration": 22,
    "start_time": "2022-11-10T21:25:17.223Z"
   },
   {
    "duration": 13,
    "start_time": "2022-11-10T21:25:25.680Z"
   },
   {
    "duration": 14,
    "start_time": "2022-11-10T21:25:35.910Z"
   },
   {
    "duration": 9,
    "start_time": "2022-11-10T21:25:57.896Z"
   },
   {
    "duration": 22,
    "start_time": "2022-11-10T21:26:11.774Z"
   },
   {
    "duration": 16,
    "start_time": "2022-11-10T21:28:33.498Z"
   },
   {
    "duration": 11,
    "start_time": "2022-11-10T21:28:37.273Z"
   },
   {
    "duration": 40,
    "start_time": "2022-11-10T21:31:11.897Z"
   },
   {
    "duration": 22,
    "start_time": "2022-11-10T21:31:23.634Z"
   },
   {
    "duration": 9,
    "start_time": "2022-11-10T21:31:47.955Z"
   },
   {
    "duration": 10,
    "start_time": "2022-11-10T21:32:04.596Z"
   },
   {
    "duration": 10,
    "start_time": "2022-11-10T21:32:15.036Z"
   },
   {
    "duration": 12,
    "start_time": "2022-11-10T21:33:12.753Z"
   },
   {
    "duration": 39,
    "start_time": "2022-11-10T21:34:23.141Z"
   },
   {
    "duration": 40,
    "start_time": "2022-11-10T21:34:27.114Z"
   },
   {
    "duration": 37,
    "start_time": "2022-11-10T21:34:36.660Z"
   },
   {
    "duration": 87,
    "start_time": "2022-11-10T21:36:07.296Z"
   },
   {
    "duration": 29,
    "start_time": "2022-11-10T21:36:11.296Z"
   },
   {
    "duration": 7,
    "start_time": "2022-11-10T21:36:52.724Z"
   },
   {
    "duration": 13,
    "start_time": "2022-11-10T21:39:23.147Z"
   },
   {
    "duration": 4,
    "start_time": "2022-11-10T21:39:37.695Z"
   },
   {
    "duration": 53,
    "start_time": "2022-11-10T21:39:39.931Z"
   },
   {
    "duration": 17,
    "start_time": "2022-11-10T21:39:45.754Z"
   },
   {
    "duration": 54,
    "start_time": "2022-11-10T21:41:52.254Z"
   },
   {
    "duration": 56,
    "start_time": "2022-11-10T21:42:04.121Z"
   },
   {
    "duration": 7609,
    "start_time": "2022-11-10T21:42:27.654Z"
   },
   {
    "duration": 14,
    "start_time": "2022-11-10T21:42:39.221Z"
   },
   {
    "duration": 25,
    "start_time": "2022-11-10T21:43:00.275Z"
   },
   {
    "duration": 16,
    "start_time": "2022-11-10T21:43:16.554Z"
   },
   {
    "duration": 109,
    "start_time": "2022-11-10T21:49:14.040Z"
   },
   {
    "duration": 8,
    "start_time": "2022-11-10T21:49:19.912Z"
   },
   {
    "duration": 13,
    "start_time": "2022-11-10T21:51:34.554Z"
   },
   {
    "duration": 8,
    "start_time": "2022-11-10T21:53:31.934Z"
   },
   {
    "duration": 7,
    "start_time": "2022-11-10T21:53:38.065Z"
   },
   {
    "duration": 7,
    "start_time": "2022-11-10T21:53:49.606Z"
   },
   {
    "duration": 14,
    "start_time": "2022-11-10T21:54:28.046Z"
   },
   {
    "duration": 8,
    "start_time": "2022-11-10T21:54:37.506Z"
   },
   {
    "duration": 14,
    "start_time": "2022-11-10T21:54:53.853Z"
   },
   {
    "duration": 10,
    "start_time": "2022-11-10T21:55:08.602Z"
   },
   {
    "duration": 10,
    "start_time": "2022-11-10T21:55:41.114Z"
   },
   {
    "duration": 8,
    "start_time": "2022-11-10T21:55:53.697Z"
   },
   {
    "duration": 31,
    "start_time": "2022-11-10T21:56:10.454Z"
   },
   {
    "duration": 8,
    "start_time": "2022-11-10T21:56:31.199Z"
   },
   {
    "duration": 1090,
    "start_time": "2022-11-10T21:57:01.062Z"
   },
   {
    "duration": 8,
    "start_time": "2022-11-10T21:57:09.974Z"
   },
   {
    "duration": 8,
    "start_time": "2022-11-10T21:57:15.476Z"
   },
   {
    "duration": 27,
    "start_time": "2022-11-10T21:57:20.374Z"
   },
   {
    "duration": 7,
    "start_time": "2022-11-10T22:00:46.164Z"
   },
   {
    "duration": 8,
    "start_time": "2022-11-10T22:00:57.173Z"
   },
   {
    "duration": 21,
    "start_time": "2022-11-10T22:01:07.614Z"
   },
   {
    "duration": 12,
    "start_time": "2022-11-10T22:01:31.374Z"
   },
   {
    "duration": 9,
    "start_time": "2022-11-10T22:02:16.614Z"
   },
   {
    "duration": 21,
    "start_time": "2022-11-10T22:02:21.527Z"
   },
   {
    "duration": 36,
    "start_time": "2022-11-10T22:03:42.315Z"
   },
   {
    "duration": 17,
    "start_time": "2022-11-10T22:04:02.013Z"
   },
   {
    "duration": 14,
    "start_time": "2022-11-10T22:04:47.134Z"
   },
   {
    "duration": 13,
    "start_time": "2022-11-10T22:06:21.174Z"
   },
   {
    "duration": 14,
    "start_time": "2022-11-10T22:06:52.514Z"
   },
   {
    "duration": 16,
    "start_time": "2022-11-10T22:07:15.954Z"
   },
   {
    "duration": 10,
    "start_time": "2022-11-10T22:07:46.414Z"
   },
   {
    "duration": 9,
    "start_time": "2022-11-10T22:08:02.897Z"
   },
   {
    "duration": 5,
    "start_time": "2022-11-10T22:10:06.107Z"
   },
   {
    "duration": 5,
    "start_time": "2022-11-10T22:10:31.915Z"
   },
   {
    "duration": 303,
    "start_time": "2022-11-10T22:10:34.682Z"
   },
   {
    "duration": 4,
    "start_time": "2022-11-10T22:10:44.574Z"
   },
   {
    "duration": 29917,
    "start_time": "2022-11-10T22:10:47.314Z"
   },
   {
    "duration": 15,
    "start_time": "2022-11-10T22:11:25.214Z"
   },
   {
    "duration": 15,
    "start_time": "2022-11-10T22:11:31.203Z"
   },
   {
    "duration": 15,
    "start_time": "2022-11-10T22:11:45.701Z"
   },
   {
    "duration": 8,
    "start_time": "2022-11-10T22:13:09.534Z"
   },
   {
    "duration": 9,
    "start_time": "2022-11-10T22:13:26.536Z"
   },
   {
    "duration": 7,
    "start_time": "2022-11-10T22:13:36.035Z"
   },
   {
    "duration": 8,
    "start_time": "2022-11-10T22:13:46.375Z"
   },
   {
    "duration": 25,
    "start_time": "2022-11-10T22:13:55.621Z"
   },
   {
    "duration": 14,
    "start_time": "2022-11-10T22:16:19.301Z"
   },
   {
    "duration": 1114,
    "start_time": "2022-11-10T22:16:47.455Z"
   },
   {
    "duration": 13,
    "start_time": "2022-11-10T22:16:52.616Z"
   },
   {
    "duration": 27,
    "start_time": "2022-11-10T22:17:00.665Z"
   },
   {
    "duration": 14,
    "start_time": "2022-11-10T22:19:57.474Z"
   },
   {
    "duration": 13,
    "start_time": "2022-11-10T22:20:41.904Z"
   },
   {
    "duration": 13,
    "start_time": "2022-11-10T22:22:12.900Z"
   },
   {
    "duration": 48,
    "start_time": "2022-11-10T22:24:53.415Z"
   },
   {
    "duration": 25,
    "start_time": "2022-11-10T22:25:29.063Z"
   },
   {
    "duration": 34,
    "start_time": "2022-11-10T22:27:18.915Z"
   },
   {
    "duration": 6,
    "start_time": "2022-11-10T22:27:36.534Z"
   },
   {
    "duration": 10,
    "start_time": "2022-11-10T22:29:25.214Z"
   },
   {
    "duration": 5,
    "start_time": "2022-11-10T22:29:31.882Z"
   },
   {
    "duration": 3591,
    "start_time": "2022-11-10T22:29:34.753Z"
   },
   {
    "duration": 14,
    "start_time": "2022-11-10T22:30:05.555Z"
   },
   {
    "duration": 8,
    "start_time": "2022-11-10T22:30:38.181Z"
   },
   {
    "duration": 20,
    "start_time": "2022-11-10T22:30:45.853Z"
   },
   {
    "duration": 7,
    "start_time": "2022-11-10T22:31:54.336Z"
   },
   {
    "duration": 23,
    "start_time": "2022-11-10T22:32:23.482Z"
   },
   {
    "duration": 284,
    "start_time": "2022-11-10T22:34:08.116Z"
   },
   {
    "duration": 6,
    "start_time": "2022-11-10T22:35:33.315Z"
   },
   {
    "duration": 3725,
    "start_time": "2022-11-10T22:36:14.414Z"
   },
   {
    "duration": 20,
    "start_time": "2022-11-10T22:36:28.903Z"
   },
   {
    "duration": 5,
    "start_time": "2022-11-10T22:36:39.422Z"
   },
   {
    "duration": 3600,
    "start_time": "2022-11-10T22:36:42.502Z"
   },
   {
    "duration": 14,
    "start_time": "2022-11-10T22:36:49.313Z"
   },
   {
    "duration": 5,
    "start_time": "2022-11-10T22:37:54.783Z"
   },
   {
    "duration": 4215,
    "start_time": "2022-11-10T22:38:10.254Z"
   },
   {
    "duration": 15,
    "start_time": "2022-11-10T22:38:16.103Z"
   },
   {
    "duration": 31,
    "start_time": "2022-11-10T22:38:29.222Z"
   },
   {
    "duration": 5,
    "start_time": "2022-11-10T22:46:34.075Z"
   },
   {
    "duration": 5,
    "start_time": "2022-11-10T22:47:03.117Z"
   },
   {
    "duration": 1203,
    "start_time": "2022-11-10T22:48:09.054Z"
   },
   {
    "duration": 4,
    "start_time": "2022-11-10T22:48:17.737Z"
   },
   {
    "duration": 12,
    "start_time": "2022-11-10T22:48:27.933Z"
   },
   {
    "duration": 14,
    "start_time": "2022-11-10T22:48:45.854Z"
   },
   {
    "duration": 8,
    "start_time": "2022-11-10T22:50:43.654Z"
   },
   {
    "duration": 7,
    "start_time": "2022-11-10T22:50:53.034Z"
   },
   {
    "duration": 19,
    "start_time": "2022-11-10T22:51:20.734Z"
   },
   {
    "duration": 20,
    "start_time": "2022-11-10T22:51:46.534Z"
   },
   {
    "duration": 19,
    "start_time": "2022-11-10T22:51:52.716Z"
   },
   {
    "duration": 15,
    "start_time": "2022-11-10T22:51:59.134Z"
   },
   {
    "duration": 15,
    "start_time": "2022-11-10T22:52:08.986Z"
   },
   {
    "duration": 15,
    "start_time": "2022-11-10T22:52:41.431Z"
   },
   {
    "duration": 16,
    "start_time": "2022-11-10T22:52:49.698Z"
   },
   {
    "duration": 15,
    "start_time": "2022-11-10T22:52:56.801Z"
   },
   {
    "duration": 9,
    "start_time": "2022-11-10T22:53:16.914Z"
   },
   {
    "duration": 7,
    "start_time": "2022-11-10T22:53:31.919Z"
   },
   {
    "duration": 9,
    "start_time": "2022-11-10T22:56:29.853Z"
   },
   {
    "duration": 15,
    "start_time": "2022-11-10T22:56:52.452Z"
   },
   {
    "duration": 17,
    "start_time": "2022-11-10T22:57:11.835Z"
   },
   {
    "duration": 20,
    "start_time": "2022-11-10T22:57:27.853Z"
   },
   {
    "duration": 20,
    "start_time": "2022-11-10T22:57:33.532Z"
   },
   {
    "duration": 15,
    "start_time": "2022-11-10T22:58:51.001Z"
   },
   {
    "duration": 13,
    "start_time": "2022-11-10T23:00:38.716Z"
   },
   {
    "duration": 14,
    "start_time": "2022-11-10T23:00:52.097Z"
   },
   {
    "duration": 16,
    "start_time": "2022-11-10T23:01:55.774Z"
   },
   {
    "duration": 12,
    "start_time": "2022-11-10T23:02:01.754Z"
   },
   {
    "duration": 928,
    "start_time": "2022-11-10T23:04:30.822Z"
   },
   {
    "duration": 12,
    "start_time": "2022-11-10T23:04:39.453Z"
   },
   {
    "duration": 16,
    "start_time": "2022-11-10T23:05:01.515Z"
   },
   {
    "duration": 6,
    "start_time": "2022-11-10T23:05:10.175Z"
   },
   {
    "duration": 6,
    "start_time": "2022-11-10T23:05:51.406Z"
   },
   {
    "duration": 4,
    "start_time": "2022-11-10T23:06:30.531Z"
   },
   {
    "duration": 13,
    "start_time": "2022-11-10T23:06:33.575Z"
   },
   {
    "duration": 6,
    "start_time": "2022-11-10T23:06:45.753Z"
   },
   {
    "duration": 10,
    "start_time": "2022-11-10T23:07:09.853Z"
   },
   {
    "duration": 10,
    "start_time": "2022-11-10T23:08:11.622Z"
   },
   {
    "duration": 13,
    "start_time": "2022-11-10T23:08:17.852Z"
   },
   {
    "duration": 5,
    "start_time": "2022-11-10T23:08:26.182Z"
   },
   {
    "duration": 4,
    "start_time": "2022-11-10T23:08:34.678Z"
   },
   {
    "duration": 11,
    "start_time": "2022-11-10T23:09:03.115Z"
   },
   {
    "duration": 10,
    "start_time": "2022-11-10T23:09:30.702Z"
   },
   {
    "duration": 11,
    "start_time": "2022-11-10T23:09:34.495Z"
   },
   {
    "duration": 12,
    "start_time": "2022-11-10T23:09:38.102Z"
   },
   {
    "duration": 11,
    "start_time": "2022-11-10T23:10:52.873Z"
   },
   {
    "duration": 1144,
    "start_time": "2022-11-10T23:10:59.934Z"
   },
   {
    "duration": 10,
    "start_time": "2022-11-10T23:11:06.109Z"
   },
   {
    "duration": 13,
    "start_time": "2022-11-10T23:12:21.196Z"
   },
   {
    "duration": 16,
    "start_time": "2022-11-10T23:12:55.075Z"
   },
   {
    "duration": 17,
    "start_time": "2022-11-10T23:13:05.696Z"
   },
   {
    "duration": 15,
    "start_time": "2022-11-10T23:26:33.063Z"
   },
   {
    "duration": 12,
    "start_time": "2022-11-10T23:26:34.554Z"
   },
   {
    "duration": 10,
    "start_time": "2022-11-10T23:26:35.166Z"
   },
   {
    "duration": 338,
    "start_time": "2022-11-10T23:27:11.211Z"
   },
   {
    "duration": 15,
    "start_time": "2022-11-10T23:27:25.541Z"
   },
   {
    "duration": 5,
    "start_time": "2022-11-10T23:27:43.270Z"
   },
   {
    "duration": 7176,
    "start_time": "2022-11-10T23:27:43.695Z"
   },
   {
    "duration": 28171,
    "start_time": "2022-11-10T23:27:50.874Z"
   },
   {
    "duration": 4153,
    "start_time": "2022-11-10T23:28:19.047Z"
   },
   {
    "duration": 11,
    "start_time": "2022-11-10T23:28:23.202Z"
   },
   {
    "duration": 13,
    "start_time": "2022-11-10T23:28:26.733Z"
   },
   {
    "duration": 12,
    "start_time": "2022-11-10T23:28:27.205Z"
   },
   {
    "duration": 299,
    "start_time": "2022-11-10T23:28:28.437Z"
   },
   {
    "duration": 1036,
    "start_time": "2022-11-10T23:29:17.282Z"
   },
   {
    "duration": 12,
    "start_time": "2022-11-10T23:29:24.313Z"
   },
   {
    "duration": 71,
    "start_time": "2022-11-10T23:29:38.701Z"
   },
   {
    "duration": 20,
    "start_time": "2022-11-10T23:29:52.101Z"
   },
   {
    "duration": 10,
    "start_time": "2022-11-10T23:30:01.496Z"
   },
   {
    "duration": 8,
    "start_time": "2022-11-10T23:30:45.554Z"
   },
   {
    "duration": 10,
    "start_time": "2022-11-10T23:30:59.334Z"
   },
   {
    "duration": 13,
    "start_time": "2022-11-10T23:32:03.374Z"
   },
   {
    "duration": 6,
    "start_time": "2022-11-10T23:32:22.953Z"
   },
   {
    "duration": 12,
    "start_time": "2022-11-10T23:32:31.143Z"
   },
   {
    "duration": 16,
    "start_time": "2022-11-10T23:32:37.333Z"
   },
   {
    "duration": 21,
    "start_time": "2022-11-10T23:34:18.805Z"
   },
   {
    "duration": 16,
    "start_time": "2022-11-10T23:34:19.513Z"
   },
   {
    "duration": 28,
    "start_time": "2022-11-10T23:35:46.477Z"
   },
   {
    "duration": 20,
    "start_time": "2022-11-10T23:35:46.997Z"
   },
   {
    "duration": 24,
    "start_time": "2022-11-10T23:36:20.904Z"
   },
   {
    "duration": 15,
    "start_time": "2022-11-10T23:36:21.974Z"
   },
   {
    "duration": 27,
    "start_time": "2022-11-10T23:36:48.621Z"
   },
   {
    "duration": 21,
    "start_time": "2022-11-10T23:36:50.113Z"
   },
   {
    "duration": 20,
    "start_time": "2022-11-10T23:38:09.513Z"
   },
   {
    "duration": 14,
    "start_time": "2022-11-10T23:38:10.099Z"
   },
   {
    "duration": 1568,
    "start_time": "2022-11-10T23:39:52.455Z"
   },
   {
    "duration": 22,
    "start_time": "2022-11-10T23:40:02.181Z"
   },
   {
    "duration": 16,
    "start_time": "2022-11-10T23:40:03.273Z"
   },
   {
    "duration": 17,
    "start_time": "2022-11-10T23:40:10.333Z"
   },
   {
    "duration": 11,
    "start_time": "2022-11-10T23:40:17.241Z"
   },
   {
    "duration": 10,
    "start_time": "2022-11-10T23:40:17.595Z"
   },
   {
    "duration": 10,
    "start_time": "2022-11-10T23:40:18.046Z"
   },
   {
    "duration": 1547,
    "start_time": "2022-11-10T23:40:18.782Z"
   },
   {
    "duration": 25,
    "start_time": "2022-11-10T23:40:20.331Z"
   },
   {
    "duration": 16,
    "start_time": "2022-11-10T23:40:20.603Z"
   },
   {
    "duration": 11,
    "start_time": "2022-11-10T23:40:32.099Z"
   },
   {
    "duration": 10,
    "start_time": "2022-11-10T23:40:34.274Z"
   },
   {
    "duration": 10,
    "start_time": "2022-11-10T23:40:36.214Z"
   },
   {
    "duration": 1592,
    "start_time": "2022-11-10T23:41:05.913Z"
   },
   {
    "duration": 22,
    "start_time": "2022-11-10T23:41:09.041Z"
   },
   {
    "duration": 16,
    "start_time": "2022-11-10T23:41:09.741Z"
   },
   {
    "duration": 18,
    "start_time": "2022-11-10T23:41:18.835Z"
   },
   {
    "duration": 1518,
    "start_time": "2022-11-10T23:41:52.393Z"
   },
   {
    "duration": 198,
    "start_time": "2022-11-10T23:41:53.913Z"
   },
   {
    "duration": 22,
    "start_time": "2022-11-10T23:41:54.113Z"
   },
   {
    "duration": 14,
    "start_time": "2022-11-10T23:41:54.138Z"
   },
   {
    "duration": 15,
    "start_time": "2022-11-10T23:41:54.154Z"
   },
   {
    "duration": 34,
    "start_time": "2022-11-10T23:41:54.171Z"
   },
   {
    "duration": 31,
    "start_time": "2022-11-10T23:41:54.207Z"
   },
   {
    "duration": 5,
    "start_time": "2022-11-10T23:41:54.240Z"
   },
   {
    "duration": 7,
    "start_time": "2022-11-10T23:41:54.247Z"
   },
   {
    "duration": 5,
    "start_time": "2022-11-10T23:41:54.257Z"
   },
   {
    "duration": 5,
    "start_time": "2022-11-10T23:41:54.264Z"
   },
   {
    "duration": 17,
    "start_time": "2022-11-10T23:41:54.271Z"
   },
   {
    "duration": 392,
    "start_time": "2022-11-10T23:41:54.290Z"
   },
   {
    "duration": 234,
    "start_time": "2022-11-10T23:41:54.684Z"
   },
   {
    "duration": 309,
    "start_time": "2022-11-10T23:41:54.920Z"
   },
   {
    "duration": 533,
    "start_time": "2022-11-10T23:41:55.237Z"
   },
   {
    "duration": 116,
    "start_time": "2022-11-10T23:41:55.772Z"
   },
   {
    "duration": 195,
    "start_time": "2022-11-10T23:41:55.890Z"
   },
   {
    "duration": 22,
    "start_time": "2022-11-10T23:41:56.087Z"
   },
   {
    "duration": 4644,
    "start_time": "2022-11-10T23:41:56.110Z"
   },
   {
    "duration": 351,
    "start_time": "2022-11-10T23:42:00.756Z"
   },
   {
    "duration": 170,
    "start_time": "2022-11-10T23:42:01.109Z"
   },
   {
    "duration": 183,
    "start_time": "2022-11-10T23:42:01.280Z"
   },
   {
    "duration": 313,
    "start_time": "2022-11-10T23:42:01.465Z"
   },
   {
    "duration": 193,
    "start_time": "2022-11-10T23:42:01.779Z"
   },
   {
    "duration": 17,
    "start_time": "2022-11-10T23:42:01.974Z"
   },
   {
    "duration": 7,
    "start_time": "2022-11-10T23:42:01.993Z"
   },
   {
    "duration": 173,
    "start_time": "2022-11-10T23:42:02.005Z"
   },
   {
    "duration": 16,
    "start_time": "2022-11-10T23:42:02.180Z"
   },
   {
    "duration": 14,
    "start_time": "2022-11-10T23:42:02.198Z"
   },
   {
    "duration": 14,
    "start_time": "2022-11-10T23:42:02.238Z"
   },
   {
    "duration": 16,
    "start_time": "2022-11-10T23:42:02.254Z"
   },
   {
    "duration": 612,
    "start_time": "2022-11-10T23:42:02.272Z"
   },
   {
    "duration": 9,
    "start_time": "2022-11-10T23:42:02.886Z"
   },
   {
    "duration": 7,
    "start_time": "2022-11-10T23:42:02.897Z"
   },
   {
    "duration": 11,
    "start_time": "2022-11-10T23:42:02.905Z"
   },
   {
    "duration": 25,
    "start_time": "2022-11-10T23:42:02.918Z"
   },
   {
    "duration": 11,
    "start_time": "2022-11-10T23:42:02.946Z"
   },
   {
    "duration": 4,
    "start_time": "2022-11-10T23:42:02.960Z"
   },
   {
    "duration": 24,
    "start_time": "2022-11-10T23:42:02.966Z"
   },
   {
    "duration": 46,
    "start_time": "2022-11-10T23:42:02.992Z"
   },
   {
    "duration": 8,
    "start_time": "2022-11-10T23:42:03.041Z"
   },
   {
    "duration": 1772,
    "start_time": "2022-11-10T23:42:03.051Z"
   },
   {
    "duration": 23,
    "start_time": "2022-11-10T23:42:04.824Z"
   },
   {
    "duration": 4,
    "start_time": "2022-11-10T23:42:04.849Z"
   },
   {
    "duration": 11,
    "start_time": "2022-11-10T23:42:04.854Z"
   },
   {
    "duration": 22,
    "start_time": "2022-11-10T23:42:04.867Z"
   },
   {
    "duration": 16,
    "start_time": "2022-11-10T23:42:04.891Z"
   },
   {
    "duration": 208,
    "start_time": "2022-11-10T23:42:04.909Z"
   },
   {
    "duration": 198,
    "start_time": "2022-11-10T23:42:05.119Z"
   },
   {
    "duration": 235,
    "start_time": "2022-11-10T23:42:05.318Z"
   },
   {
    "duration": 244,
    "start_time": "2022-11-10T23:42:05.555Z"
   },
   {
    "duration": 17,
    "start_time": "2022-11-10T23:42:05.801Z"
   },
   {
    "duration": 20,
    "start_time": "2022-11-10T23:42:05.821Z"
   },
   {
    "duration": 6950,
    "start_time": "2022-11-10T23:42:05.843Z"
   },
   {
    "duration": 28402,
    "start_time": "2022-11-10T23:42:12.795Z"
   },
   {
    "duration": 4157,
    "start_time": "2022-11-10T23:42:41.199Z"
   },
   {
    "duration": 9,
    "start_time": "2022-11-10T23:42:45.358Z"
   },
   {
    "duration": 11,
    "start_time": "2022-11-10T23:42:45.369Z"
   },
   {
    "duration": 10,
    "start_time": "2022-11-10T23:42:45.382Z"
   },
   {
    "duration": 786,
    "start_time": "2022-11-10T23:42:45.393Z"
   },
   {
    "duration": 21,
    "start_time": "2022-11-10T23:42:46.181Z"
   },
   {
    "duration": 15,
    "start_time": "2022-11-10T23:42:46.203Z"
   },
   {
    "duration": 14,
    "start_time": "2022-11-10T23:42:46.236Z"
   },
   {
    "duration": 12,
    "start_time": "2022-11-10T23:42:46.251Z"
   },
   {
    "duration": 11,
    "start_time": "2022-11-10T23:42:46.265Z"
   },
   {
    "duration": 12,
    "start_time": "2022-11-10T23:42:46.278Z"
   },
   {
    "duration": 5,
    "start_time": "2022-11-10T23:42:46.292Z"
   },
   {
    "duration": 49,
    "start_time": "2022-11-10T23:42:46.298Z"
   },
   {
    "duration": 5,
    "start_time": "2022-11-10T23:42:46.349Z"
   },
   {
    "duration": 73,
    "start_time": "2022-11-10T23:54:39.670Z"
   },
   {
    "duration": 4,
    "start_time": "2022-11-10T23:54:49.738Z"
   },
   {
    "duration": 109,
    "start_time": "2022-11-10T23:55:21.974Z"
   },
   {
    "duration": 22,
    "start_time": "2022-11-10T23:55:29.202Z"
   },
   {
    "duration": 16,
    "start_time": "2022-11-10T23:55:30.086Z"
   },
   {
    "duration": 1526,
    "start_time": "2022-11-10T23:56:04.372Z"
   },
   {
    "duration": 88,
    "start_time": "2022-11-10T23:56:05.900Z"
   },
   {
    "duration": 21,
    "start_time": "2022-11-10T23:56:05.989Z"
   },
   {
    "duration": 13,
    "start_time": "2022-11-10T23:56:06.012Z"
   },
   {
    "duration": 20,
    "start_time": "2022-11-10T23:56:06.028Z"
   },
   {
    "duration": 35,
    "start_time": "2022-11-10T23:56:06.050Z"
   },
   {
    "duration": 4,
    "start_time": "2022-11-10T23:56:06.087Z"
   },
   {
    "duration": 7,
    "start_time": "2022-11-10T23:56:06.093Z"
   },
   {
    "duration": 8,
    "start_time": "2022-11-10T23:56:06.102Z"
   },
   {
    "duration": 28,
    "start_time": "2022-11-10T23:56:06.112Z"
   },
   {
    "duration": 9,
    "start_time": "2022-11-10T23:56:06.142Z"
   },
   {
    "duration": 22,
    "start_time": "2022-11-10T23:56:06.152Z"
   },
   {
    "duration": 356,
    "start_time": "2022-11-10T23:56:06.175Z"
   },
   {
    "duration": 237,
    "start_time": "2022-11-10T23:56:06.535Z"
   },
   {
    "duration": 311,
    "start_time": "2022-11-10T23:56:06.774Z"
   },
   {
    "duration": 554,
    "start_time": "2022-11-10T23:56:07.087Z"
   },
   {
    "duration": 98,
    "start_time": "2022-11-10T23:56:07.642Z"
   },
   {
    "duration": 193,
    "start_time": "2022-11-10T23:56:07.742Z"
   },
   {
    "duration": 21,
    "start_time": "2022-11-10T23:56:07.938Z"
   },
   {
    "duration": 4649,
    "start_time": "2022-11-10T23:56:07.961Z"
   },
   {
    "duration": 346,
    "start_time": "2022-11-10T23:56:12.613Z"
   },
   {
    "duration": 183,
    "start_time": "2022-11-10T23:56:12.961Z"
   },
   {
    "duration": 194,
    "start_time": "2022-11-10T23:56:13.146Z"
   },
   {
    "duration": 307,
    "start_time": "2022-11-10T23:56:13.341Z"
   },
   {
    "duration": 191,
    "start_time": "2022-11-10T23:56:13.649Z"
   },
   {
    "duration": 18,
    "start_time": "2022-11-10T23:56:13.842Z"
   },
   {
    "duration": 7,
    "start_time": "2022-11-10T23:56:13.862Z"
   },
   {
    "duration": 17,
    "start_time": "2022-11-10T23:56:13.871Z"
   },
   {
    "duration": 14,
    "start_time": "2022-11-10T23:56:13.890Z"
   },
   {
    "duration": 151,
    "start_time": "2022-11-10T23:56:13.937Z"
   },
   {
    "duration": 13,
    "start_time": "2022-11-10T23:56:14.090Z"
   },
   {
    "duration": 39,
    "start_time": "2022-11-10T23:56:14.105Z"
   },
   {
    "duration": 605,
    "start_time": "2022-11-10T23:56:14.146Z"
   },
   {
    "duration": 10,
    "start_time": "2022-11-10T23:56:14.753Z"
   },
   {
    "duration": 6,
    "start_time": "2022-11-10T23:56:14.764Z"
   },
   {
    "duration": 5,
    "start_time": "2022-11-10T23:56:14.772Z"
   },
   {
    "duration": 8,
    "start_time": "2022-11-10T23:56:14.778Z"
   },
   {
    "duration": 8,
    "start_time": "2022-11-10T23:56:14.787Z"
   },
   {
    "duration": 41,
    "start_time": "2022-11-10T23:56:14.797Z"
   },
   {
    "duration": 17,
    "start_time": "2022-11-10T23:56:14.840Z"
   },
   {
    "duration": 28,
    "start_time": "2022-11-10T23:56:14.863Z"
   },
   {
    "duration": 8,
    "start_time": "2022-11-10T23:56:14.892Z"
   },
   {
    "duration": 1703,
    "start_time": "2022-11-10T23:56:14.901Z"
   },
   {
    "duration": 31,
    "start_time": "2022-11-10T23:56:16.606Z"
   },
   {
    "duration": 4,
    "start_time": "2022-11-10T23:56:16.640Z"
   },
   {
    "duration": 9,
    "start_time": "2022-11-10T23:56:16.646Z"
   },
   {
    "duration": 12,
    "start_time": "2022-11-10T23:56:16.657Z"
   },
   {
    "duration": 11,
    "start_time": "2022-11-10T23:56:16.671Z"
   },
   {
    "duration": 209,
    "start_time": "2022-11-10T23:56:16.683Z"
   },
   {
    "duration": 192,
    "start_time": "2022-11-10T23:56:16.894Z"
   },
   {
    "duration": 233,
    "start_time": "2022-11-10T23:56:17.088Z"
   },
   {
    "duration": 232,
    "start_time": "2022-11-10T23:56:17.323Z"
   },
   {
    "duration": 14,
    "start_time": "2022-11-10T23:56:17.557Z"
   },
   {
    "duration": 6,
    "start_time": "2022-11-10T23:56:17.572Z"
   },
   {
    "duration": 7161,
    "start_time": "2022-11-10T23:56:17.580Z"
   },
   {
    "duration": 28168,
    "start_time": "2022-11-10T23:56:24.743Z"
   },
   {
    "duration": 4240,
    "start_time": "2022-11-10T23:56:52.913Z"
   },
   {
    "duration": 12,
    "start_time": "2022-11-10T23:56:57.155Z"
   },
   {
    "duration": 21,
    "start_time": "2022-11-10T23:56:57.169Z"
   },
   {
    "duration": 23,
    "start_time": "2022-11-10T23:56:57.192Z"
   },
   {
    "duration": 9,
    "start_time": "2022-11-10T23:56:57.217Z"
   },
   {
    "duration": 142,
    "start_time": "2022-11-10T23:56:57.228Z"
   },
   {
    "duration": 21,
    "start_time": "2022-11-10T23:56:57.372Z"
   },
   {
    "duration": 16,
    "start_time": "2022-11-10T23:56:57.394Z"
   },
   {
    "duration": 34,
    "start_time": "2022-11-10T23:56:57.411Z"
   },
   {
    "duration": 29,
    "start_time": "2022-11-10T23:56:57.447Z"
   },
   {
    "duration": 22,
    "start_time": "2022-11-10T23:56:57.477Z"
   },
   {
    "duration": 34,
    "start_time": "2022-11-10T23:56:57.501Z"
   },
   {
    "duration": 11,
    "start_time": "2022-11-10T23:56:57.537Z"
   },
   {
    "duration": 28,
    "start_time": "2022-11-10T23:56:57.550Z"
   },
   {
    "duration": 21,
    "start_time": "2022-11-10T23:56:57.580Z"
   },
   {
    "duration": 1710,
    "start_time": "2022-11-11T08:13:58.928Z"
   },
   {
    "duration": 196,
    "start_time": "2022-11-11T08:14:00.640Z"
   },
   {
    "duration": 23,
    "start_time": "2022-11-11T08:14:00.837Z"
   },
   {
    "duration": 12,
    "start_time": "2022-11-11T08:14:00.862Z"
   },
   {
    "duration": 54,
    "start_time": "2022-11-11T08:14:00.876Z"
   },
   {
    "duration": 0,
    "start_time": "2022-11-11T08:14:00.933Z"
   },
   {
    "duration": 0,
    "start_time": "2022-11-11T08:14:00.934Z"
   },
   {
    "duration": 0,
    "start_time": "2022-11-11T08:14:00.935Z"
   },
   {
    "duration": 0,
    "start_time": "2022-11-11T08:14:00.936Z"
   },
   {
    "duration": 0,
    "start_time": "2022-11-11T08:14:00.938Z"
   },
   {
    "duration": 0,
    "start_time": "2022-11-11T08:14:00.938Z"
   },
   {
    "duration": 0,
    "start_time": "2022-11-11T08:14:00.940Z"
   },
   {
    "duration": 0,
    "start_time": "2022-11-11T08:14:00.941Z"
   },
   {
    "duration": 0,
    "start_time": "2022-11-11T08:14:00.942Z"
   },
   {
    "duration": 0,
    "start_time": "2022-11-11T08:14:00.943Z"
   },
   {
    "duration": 0,
    "start_time": "2022-11-11T08:14:00.944Z"
   },
   {
    "duration": 0,
    "start_time": "2022-11-11T08:14:00.945Z"
   },
   {
    "duration": 0,
    "start_time": "2022-11-11T08:14:00.946Z"
   },
   {
    "duration": 0,
    "start_time": "2022-11-11T08:14:00.947Z"
   },
   {
    "duration": 0,
    "start_time": "2022-11-11T08:14:00.948Z"
   },
   {
    "duration": 0,
    "start_time": "2022-11-11T08:14:00.949Z"
   },
   {
    "duration": 0,
    "start_time": "2022-11-11T08:14:00.950Z"
   },
   {
    "duration": 0,
    "start_time": "2022-11-11T08:14:00.951Z"
   },
   {
    "duration": 0,
    "start_time": "2022-11-11T08:14:00.952Z"
   },
   {
    "duration": 0,
    "start_time": "2022-11-11T08:14:00.953Z"
   },
   {
    "duration": 0,
    "start_time": "2022-11-11T08:14:00.954Z"
   },
   {
    "duration": 0,
    "start_time": "2022-11-11T08:14:00.955Z"
   },
   {
    "duration": 0,
    "start_time": "2022-11-11T08:14:00.956Z"
   },
   {
    "duration": 0,
    "start_time": "2022-11-11T08:14:00.957Z"
   },
   {
    "duration": 0,
    "start_time": "2022-11-11T08:14:00.958Z"
   },
   {
    "duration": 0,
    "start_time": "2022-11-11T08:14:00.959Z"
   },
   {
    "duration": 0,
    "start_time": "2022-11-11T08:14:00.960Z"
   },
   {
    "duration": 0,
    "start_time": "2022-11-11T08:14:00.961Z"
   },
   {
    "duration": 0,
    "start_time": "2022-11-11T08:14:00.962Z"
   },
   {
    "duration": 0,
    "start_time": "2022-11-11T08:14:00.963Z"
   },
   {
    "duration": 0,
    "start_time": "2022-11-11T08:14:00.964Z"
   },
   {
    "duration": 0,
    "start_time": "2022-11-11T08:14:00.965Z"
   },
   {
    "duration": 0,
    "start_time": "2022-11-11T08:14:00.966Z"
   },
   {
    "duration": 0,
    "start_time": "2022-11-11T08:14:00.967Z"
   },
   {
    "duration": 0,
    "start_time": "2022-11-11T08:14:00.968Z"
   },
   {
    "duration": 0,
    "start_time": "2022-11-11T08:14:00.969Z"
   },
   {
    "duration": 0,
    "start_time": "2022-11-11T08:14:01.019Z"
   },
   {
    "duration": 0,
    "start_time": "2022-11-11T08:14:01.021Z"
   },
   {
    "duration": 0,
    "start_time": "2022-11-11T08:14:01.022Z"
   },
   {
    "duration": 0,
    "start_time": "2022-11-11T08:14:01.023Z"
   },
   {
    "duration": 0,
    "start_time": "2022-11-11T08:14:01.025Z"
   },
   {
    "duration": 0,
    "start_time": "2022-11-11T08:14:01.026Z"
   },
   {
    "duration": 0,
    "start_time": "2022-11-11T08:14:01.027Z"
   },
   {
    "duration": 0,
    "start_time": "2022-11-11T08:14:01.028Z"
   },
   {
    "duration": 0,
    "start_time": "2022-11-11T08:14:01.030Z"
   },
   {
    "duration": 0,
    "start_time": "2022-11-11T08:14:01.031Z"
   },
   {
    "duration": 0,
    "start_time": "2022-11-11T08:14:01.032Z"
   },
   {
    "duration": 0,
    "start_time": "2022-11-11T08:14:01.034Z"
   },
   {
    "duration": 0,
    "start_time": "2022-11-11T08:14:01.035Z"
   },
   {
    "duration": 0,
    "start_time": "2022-11-11T08:14:01.036Z"
   },
   {
    "duration": 0,
    "start_time": "2022-11-11T08:14:01.038Z"
   },
   {
    "duration": 0,
    "start_time": "2022-11-11T08:14:01.039Z"
   },
   {
    "duration": 0,
    "start_time": "2022-11-11T08:14:01.040Z"
   },
   {
    "duration": 0,
    "start_time": "2022-11-11T08:14:01.041Z"
   },
   {
    "duration": 0,
    "start_time": "2022-11-11T08:14:01.042Z"
   },
   {
    "duration": 0,
    "start_time": "2022-11-11T08:14:01.043Z"
   },
   {
    "duration": 0,
    "start_time": "2022-11-11T08:14:01.044Z"
   },
   {
    "duration": 0,
    "start_time": "2022-11-11T08:14:01.045Z"
   },
   {
    "duration": 0,
    "start_time": "2022-11-11T08:14:01.046Z"
   },
   {
    "duration": 0,
    "start_time": "2022-11-11T08:14:01.047Z"
   },
   {
    "duration": 0,
    "start_time": "2022-11-11T08:14:01.048Z"
   },
   {
    "duration": 0,
    "start_time": "2022-11-11T08:14:01.049Z"
   },
   {
    "duration": 0,
    "start_time": "2022-11-11T08:14:01.051Z"
   },
   {
    "duration": 0,
    "start_time": "2022-11-11T08:14:01.052Z"
   },
   {
    "duration": 0,
    "start_time": "2022-11-11T08:14:01.053Z"
   },
   {
    "duration": 0,
    "start_time": "2022-11-11T08:14:01.119Z"
   },
   {
    "duration": 0,
    "start_time": "2022-11-11T08:14:01.120Z"
   },
   {
    "duration": 0,
    "start_time": "2022-11-11T08:14:01.122Z"
   },
   {
    "duration": 12,
    "start_time": "2022-11-11T08:14:26.356Z"
   },
   {
    "duration": 12,
    "start_time": "2022-11-11T08:14:47.310Z"
   },
   {
    "duration": 14,
    "start_time": "2022-11-11T08:14:58.759Z"
   },
   {
    "duration": 13,
    "start_time": "2022-11-11T08:15:50.584Z"
   },
   {
    "duration": 13,
    "start_time": "2022-11-11T08:16:20.098Z"
   },
   {
    "duration": 16,
    "start_time": "2022-11-11T08:19:13.465Z"
   },
   {
    "duration": 12,
    "start_time": "2022-11-11T08:19:44.465Z"
   },
   {
    "duration": 12,
    "start_time": "2022-11-11T08:19:53.499Z"
   },
   {
    "duration": 13,
    "start_time": "2022-11-11T08:20:29.416Z"
   },
   {
    "duration": 43,
    "start_time": "2022-11-11T08:22:05.206Z"
   },
   {
    "duration": 1391,
    "start_time": "2022-11-11T08:30:48.621Z"
   },
   {
    "duration": 85,
    "start_time": "2022-11-11T08:30:50.015Z"
   },
   {
    "duration": 12,
    "start_time": "2022-11-11T08:30:50.101Z"
   },
   {
    "duration": 15,
    "start_time": "2022-11-11T08:30:50.115Z"
   },
   {
    "duration": 11,
    "start_time": "2022-11-11T08:30:50.131Z"
   },
   {
    "duration": 20,
    "start_time": "2022-11-11T08:30:50.144Z"
   },
   {
    "duration": 13,
    "start_time": "2022-11-11T08:30:50.166Z"
   },
   {
    "duration": 14,
    "start_time": "2022-11-11T08:30:50.181Z"
   },
   {
    "duration": 29,
    "start_time": "2022-11-11T08:30:50.197Z"
   },
   {
    "duration": 28,
    "start_time": "2022-11-11T08:30:50.230Z"
   },
   {
    "duration": 4,
    "start_time": "2022-11-11T08:30:50.260Z"
   },
   {
    "duration": 7,
    "start_time": "2022-11-11T08:30:50.266Z"
   },
   {
    "duration": 10,
    "start_time": "2022-11-11T08:30:50.275Z"
   },
   {
    "duration": 35,
    "start_time": "2022-11-11T08:30:50.287Z"
   },
   {
    "duration": 7,
    "start_time": "2022-11-11T08:30:50.324Z"
   },
   {
    "duration": 22,
    "start_time": "2022-11-11T08:30:50.333Z"
   },
   {
    "duration": 382,
    "start_time": "2022-11-11T08:30:50.357Z"
   },
   {
    "duration": 280,
    "start_time": "2022-11-11T08:30:50.742Z"
   },
   {
    "duration": 306,
    "start_time": "2022-11-11T08:30:51.023Z"
   },
   {
    "duration": 540,
    "start_time": "2022-11-11T08:30:51.331Z"
   },
   {
    "duration": 93,
    "start_time": "2022-11-11T08:30:51.873Z"
   },
   {
    "duration": 187,
    "start_time": "2022-11-11T08:30:51.968Z"
   },
   {
    "duration": 25,
    "start_time": "2022-11-11T08:30:52.157Z"
   },
   {
    "duration": 4719,
    "start_time": "2022-11-11T08:30:52.184Z"
   },
   {
    "duration": 351,
    "start_time": "2022-11-11T08:30:56.905Z"
   },
   {
    "duration": 163,
    "start_time": "2022-11-11T08:30:57.258Z"
   },
   {
    "duration": 179,
    "start_time": "2022-11-11T08:30:57.422Z"
   },
   {
    "duration": 311,
    "start_time": "2022-11-11T08:30:57.605Z"
   },
   {
    "duration": 190,
    "start_time": "2022-11-11T08:30:57.919Z"
   },
   {
    "duration": 22,
    "start_time": "2022-11-11T08:30:58.111Z"
   },
   {
    "duration": 8,
    "start_time": "2022-11-11T08:30:58.136Z"
   },
   {
    "duration": 16,
    "start_time": "2022-11-11T08:30:58.146Z"
   },
   {
    "duration": 14,
    "start_time": "2022-11-11T08:30:58.165Z"
   },
   {
    "duration": 39,
    "start_time": "2022-11-11T08:30:58.181Z"
   },
   {
    "duration": 141,
    "start_time": "2022-11-11T08:30:58.222Z"
   },
   {
    "duration": 23,
    "start_time": "2022-11-11T08:30:58.365Z"
   },
   {
    "duration": 633,
    "start_time": "2022-11-11T08:30:58.390Z"
   },
   {
    "duration": 10,
    "start_time": "2022-11-11T08:30:59.025Z"
   },
   {
    "duration": 12,
    "start_time": "2022-11-11T08:30:59.037Z"
   },
   {
    "duration": 6,
    "start_time": "2022-11-11T08:30:59.051Z"
   },
   {
    "duration": 15,
    "start_time": "2022-11-11T08:30:59.059Z"
   },
   {
    "duration": 16,
    "start_time": "2022-11-11T08:30:59.075Z"
   },
   {
    "duration": 4,
    "start_time": "2022-11-11T08:30:59.093Z"
   },
   {
    "duration": 31,
    "start_time": "2022-11-11T08:30:59.098Z"
   },
   {
    "duration": 28,
    "start_time": "2022-11-11T08:30:59.130Z"
   },
   {
    "duration": 8,
    "start_time": "2022-11-11T08:30:59.160Z"
   },
   {
    "duration": 1717,
    "start_time": "2022-11-11T08:30:59.170Z"
   },
   {
    "duration": 20,
    "start_time": "2022-11-11T08:31:00.888Z"
   },
   {
    "duration": 63,
    "start_time": "2022-11-11T08:31:00.910Z"
   },
   {
    "duration": 60,
    "start_time": "2022-11-11T08:31:00.975Z"
   },
   {
    "duration": 28,
    "start_time": "2022-11-11T08:31:01.037Z"
   },
   {
    "duration": 107,
    "start_time": "2022-11-11T08:31:01.067Z"
   },
   {
    "duration": 227,
    "start_time": "2022-11-11T08:31:01.175Z"
   },
   {
    "duration": 199,
    "start_time": "2022-11-11T08:31:01.404Z"
   },
   {
    "duration": 245,
    "start_time": "2022-11-11T08:31:01.604Z"
   },
   {
    "duration": 258,
    "start_time": "2022-11-11T08:31:01.851Z"
   },
   {
    "duration": 20,
    "start_time": "2022-11-11T08:31:02.111Z"
   },
   {
    "duration": 101,
    "start_time": "2022-11-11T08:31:02.133Z"
   },
   {
    "duration": 7051,
    "start_time": "2022-11-11T08:31:02.236Z"
   },
   {
    "duration": 27634,
    "start_time": "2022-11-11T08:31:09.289Z"
   },
   {
    "duration": 4321,
    "start_time": "2022-11-11T08:31:36.925Z"
   },
   {
    "duration": 12,
    "start_time": "2022-11-11T08:31:41.247Z"
   },
   {
    "duration": 25,
    "start_time": "2022-11-11T08:31:41.261Z"
   },
   {
    "duration": 18,
    "start_time": "2022-11-11T08:31:41.288Z"
   },
   {
    "duration": 5,
    "start_time": "2022-11-11T08:31:41.308Z"
   },
   {
    "duration": 123,
    "start_time": "2022-11-11T08:31:41.319Z"
   },
   {
    "duration": 20,
    "start_time": "2022-11-11T08:31:41.444Z"
   },
   {
    "duration": 17,
    "start_time": "2022-11-11T08:31:41.466Z"
   },
   {
    "duration": 30,
    "start_time": "2022-11-11T08:31:41.485Z"
   },
   {
    "duration": 32,
    "start_time": "2022-11-11T08:31:41.517Z"
   },
   {
    "duration": 25,
    "start_time": "2022-11-11T08:31:41.551Z"
   },
   {
    "duration": 21,
    "start_time": "2022-11-11T08:31:41.579Z"
   },
   {
    "duration": 6,
    "start_time": "2022-11-11T08:31:41.602Z"
   },
   {
    "duration": 23,
    "start_time": "2022-11-11T08:31:41.610Z"
   },
   {
    "duration": 25,
    "start_time": "2022-11-11T08:31:41.635Z"
   },
   {
    "duration": 6,
    "start_time": "2022-11-11T08:53:48.975Z"
   },
   {
    "duration": 12,
    "start_time": "2022-11-11T08:53:50.023Z"
   },
   {
    "duration": 11,
    "start_time": "2022-11-11T09:00:55.587Z"
   },
   {
    "duration": 1592,
    "start_time": "2022-11-11T09:01:53.016Z"
   },
   {
    "duration": 86,
    "start_time": "2022-11-11T09:01:54.611Z"
   },
   {
    "duration": 14,
    "start_time": "2022-11-11T09:01:54.700Z"
   },
   {
    "duration": 13,
    "start_time": "2022-11-11T09:01:54.716Z"
   },
   {
    "duration": 13,
    "start_time": "2022-11-11T09:01:54.730Z"
   },
   {
    "duration": 14,
    "start_time": "2022-11-11T09:01:54.745Z"
   },
   {
    "duration": 11,
    "start_time": "2022-11-11T09:01:54.762Z"
   },
   {
    "duration": 17,
    "start_time": "2022-11-11T09:01:54.774Z"
   },
   {
    "duration": 33,
    "start_time": "2022-11-11T09:01:54.793Z"
   },
   {
    "duration": 7,
    "start_time": "2022-11-11T09:01:54.830Z"
   },
   {
    "duration": 19,
    "start_time": "2022-11-11T09:01:54.838Z"
   },
   {
    "duration": 29,
    "start_time": "2022-11-11T09:01:54.858Z"
   },
   {
    "duration": 6,
    "start_time": "2022-11-11T09:01:54.889Z"
   },
   {
    "duration": 26,
    "start_time": "2022-11-11T09:01:54.897Z"
   },
   {
    "duration": 15,
    "start_time": "2022-11-11T09:01:54.925Z"
   },
   {
    "duration": 5,
    "start_time": "2022-11-11T09:01:54.942Z"
   },
   {
    "duration": 8,
    "start_time": "2022-11-11T09:01:54.949Z"
   },
   {
    "duration": 16,
    "start_time": "2022-11-11T09:01:54.958Z"
   },
   {
    "duration": 363,
    "start_time": "2022-11-11T09:01:54.976Z"
   },
   {
    "duration": 257,
    "start_time": "2022-11-11T09:01:55.341Z"
   },
   {
    "duration": 304,
    "start_time": "2022-11-11T09:01:55.600Z"
   },
   {
    "duration": 635,
    "start_time": "2022-11-11T09:01:55.906Z"
   },
   {
    "duration": 58,
    "start_time": "2022-11-11T09:01:56.543Z"
   },
   {
    "duration": 195,
    "start_time": "2022-11-11T09:01:56.604Z"
   },
   {
    "duration": 24,
    "start_time": "2022-11-11T09:01:56.802Z"
   },
   {
    "duration": 4688,
    "start_time": "2022-11-11T09:01:56.827Z"
   },
   {
    "duration": 353,
    "start_time": "2022-11-11T09:02:01.517Z"
   },
   {
    "duration": 171,
    "start_time": "2022-11-11T09:02:01.874Z"
   },
   {
    "duration": 181,
    "start_time": "2022-11-11T09:02:02.047Z"
   },
   {
    "duration": 339,
    "start_time": "2022-11-11T09:02:02.230Z"
   },
   {
    "duration": 202,
    "start_time": "2022-11-11T09:02:02.571Z"
   },
   {
    "duration": 19,
    "start_time": "2022-11-11T09:02:02.774Z"
   },
   {
    "duration": 24,
    "start_time": "2022-11-11T09:02:02.795Z"
   },
   {
    "duration": 13,
    "start_time": "2022-11-11T09:02:02.821Z"
   },
   {
    "duration": 29,
    "start_time": "2022-11-11T09:02:02.836Z"
   },
   {
    "duration": 13,
    "start_time": "2022-11-11T09:02:02.867Z"
   },
   {
    "duration": 153,
    "start_time": "2022-11-11T09:02:02.882Z"
   },
   {
    "duration": 32,
    "start_time": "2022-11-11T09:02:03.037Z"
   },
   {
    "duration": 638,
    "start_time": "2022-11-11T09:02:03.071Z"
   },
   {
    "duration": 12,
    "start_time": "2022-11-11T09:02:03.710Z"
   },
   {
    "duration": 21,
    "start_time": "2022-11-11T09:02:03.724Z"
   },
   {
    "duration": 15,
    "start_time": "2022-11-11T09:02:03.747Z"
   },
   {
    "duration": 23,
    "start_time": "2022-11-11T09:02:03.764Z"
   },
   {
    "duration": 26,
    "start_time": "2022-11-11T09:02:03.789Z"
   },
   {
    "duration": 8,
    "start_time": "2022-11-11T09:02:03.817Z"
   },
   {
    "duration": 31,
    "start_time": "2022-11-11T09:02:03.827Z"
   },
   {
    "duration": 44,
    "start_time": "2022-11-11T09:02:03.860Z"
   },
   {
    "duration": 19,
    "start_time": "2022-11-11T09:02:03.906Z"
   },
   {
    "duration": 1703,
    "start_time": "2022-11-11T09:02:03.927Z"
   },
   {
    "duration": 22,
    "start_time": "2022-11-11T09:02:05.631Z"
   },
   {
    "duration": 5,
    "start_time": "2022-11-11T09:02:05.655Z"
   },
   {
    "duration": 10,
    "start_time": "2022-11-11T09:02:05.662Z"
   },
   {
    "duration": 19,
    "start_time": "2022-11-11T09:02:05.674Z"
   },
   {
    "duration": 31,
    "start_time": "2022-11-11T09:02:05.695Z"
   },
   {
    "duration": 199,
    "start_time": "2022-11-11T09:02:05.728Z"
   },
   {
    "duration": 195,
    "start_time": "2022-11-11T09:02:05.929Z"
   },
   {
    "duration": 244,
    "start_time": "2022-11-11T09:02:06.126Z"
   },
   {
    "duration": 303,
    "start_time": "2022-11-11T09:02:06.372Z"
   },
   {
    "duration": 15,
    "start_time": "2022-11-11T09:02:06.676Z"
   },
   {
    "duration": 12,
    "start_time": "2022-11-11T09:02:06.692Z"
   },
   {
    "duration": 2331,
    "start_time": "2022-11-11T09:02:06.706Z"
   },
   {
    "duration": 10205,
    "start_time": "2022-11-11T09:02:09.039Z"
   },
   {
    "duration": 1700,
    "start_time": "2022-11-11T09:02:19.246Z"
   },
   {
    "duration": 9,
    "start_time": "2022-11-11T09:02:20.948Z"
   },
   {
    "duration": 35,
    "start_time": "2022-11-11T09:02:20.959Z"
   },
   {
    "duration": 21,
    "start_time": "2022-11-11T09:02:20.995Z"
   },
   {
    "duration": 6,
    "start_time": "2022-11-11T09:02:21.018Z"
   },
   {
    "duration": 59,
    "start_time": "2022-11-11T09:02:21.026Z"
   },
   {
    "duration": 20,
    "start_time": "2022-11-11T09:02:21.087Z"
   },
   {
    "duration": 20,
    "start_time": "2022-11-11T09:02:21.108Z"
   },
   {
    "duration": 28,
    "start_time": "2022-11-11T09:02:21.130Z"
   },
   {
    "duration": 56,
    "start_time": "2022-11-11T09:02:21.159Z"
   },
   {
    "duration": 35,
    "start_time": "2022-11-11T09:02:21.217Z"
   },
   {
    "duration": 25,
    "start_time": "2022-11-11T09:02:21.254Z"
   },
   {
    "duration": 7,
    "start_time": "2022-11-11T09:02:21.281Z"
   },
   {
    "duration": 41,
    "start_time": "2022-11-11T09:02:21.289Z"
   },
   {
    "duration": 27,
    "start_time": "2022-11-11T09:02:21.332Z"
   },
   {
    "duration": 1551,
    "start_time": "2022-11-11T09:04:30.343Z"
   },
   {
    "duration": 81,
    "start_time": "2022-11-11T09:04:31.896Z"
   },
   {
    "duration": 13,
    "start_time": "2022-11-11T09:04:31.979Z"
   },
   {
    "duration": 26,
    "start_time": "2022-11-11T09:04:31.994Z"
   },
   {
    "duration": 26,
    "start_time": "2022-11-11T09:04:32.023Z"
   },
   {
    "duration": 25,
    "start_time": "2022-11-11T09:04:32.050Z"
   },
   {
    "duration": 22,
    "start_time": "2022-11-11T09:04:32.077Z"
   },
   {
    "duration": 17,
    "start_time": "2022-11-11T09:04:32.101Z"
   },
   {
    "duration": 31,
    "start_time": "2022-11-11T09:04:32.120Z"
   },
   {
    "duration": 9,
    "start_time": "2022-11-11T09:04:32.153Z"
   },
   {
    "duration": 13,
    "start_time": "2022-11-11T09:04:32.163Z"
   },
   {
    "duration": 33,
    "start_time": "2022-11-11T09:04:32.178Z"
   },
   {
    "duration": 5,
    "start_time": "2022-11-11T09:04:32.212Z"
   },
   {
    "duration": 6,
    "start_time": "2022-11-11T09:04:32.221Z"
   },
   {
    "duration": 20,
    "start_time": "2022-11-11T09:04:32.228Z"
   },
   {
    "duration": 17,
    "start_time": "2022-11-11T09:04:32.250Z"
   },
   {
    "duration": 20,
    "start_time": "2022-11-11T09:04:32.268Z"
   },
   {
    "duration": 18,
    "start_time": "2022-11-11T09:04:32.289Z"
   },
   {
    "duration": 341,
    "start_time": "2022-11-11T09:04:32.309Z"
   },
   {
    "duration": 238,
    "start_time": "2022-11-11T09:04:32.651Z"
   },
   {
    "duration": 313,
    "start_time": "2022-11-11T09:04:32.891Z"
   },
   {
    "duration": 561,
    "start_time": "2022-11-11T09:04:33.205Z"
   },
   {
    "duration": 104,
    "start_time": "2022-11-11T09:04:33.769Z"
   },
   {
    "duration": 188,
    "start_time": "2022-11-11T09:04:33.875Z"
   },
   {
    "duration": 20,
    "start_time": "2022-11-11T09:04:34.064Z"
   },
   {
    "duration": 4731,
    "start_time": "2022-11-11T09:04:34.085Z"
   },
   {
    "duration": 343,
    "start_time": "2022-11-11T09:04:38.817Z"
   },
   {
    "duration": 178,
    "start_time": "2022-11-11T09:04:39.161Z"
   },
   {
    "duration": 182,
    "start_time": "2022-11-11T09:04:39.341Z"
   },
   {
    "duration": 309,
    "start_time": "2022-11-11T09:04:39.525Z"
   },
   {
    "duration": 215,
    "start_time": "2022-11-11T09:04:39.836Z"
   },
   {
    "duration": 17,
    "start_time": "2022-11-11T09:04:40.053Z"
   },
   {
    "duration": 8,
    "start_time": "2022-11-11T09:04:40.072Z"
   },
   {
    "duration": 37,
    "start_time": "2022-11-11T09:04:40.082Z"
   },
   {
    "duration": 24,
    "start_time": "2022-11-11T09:04:40.121Z"
   },
   {
    "duration": 144,
    "start_time": "2022-11-11T09:04:40.147Z"
   },
   {
    "duration": 18,
    "start_time": "2022-11-11T09:04:40.293Z"
   },
   {
    "duration": 17,
    "start_time": "2022-11-11T09:04:40.319Z"
   },
   {
    "duration": 599,
    "start_time": "2022-11-11T09:04:40.338Z"
   },
   {
    "duration": 11,
    "start_time": "2022-11-11T09:04:40.938Z"
   },
   {
    "duration": 6,
    "start_time": "2022-11-11T09:04:40.953Z"
   },
   {
    "duration": 5,
    "start_time": "2022-11-11T09:04:40.961Z"
   },
   {
    "duration": 7,
    "start_time": "2022-11-11T09:04:40.968Z"
   },
   {
    "duration": 9,
    "start_time": "2022-11-11T09:04:40.977Z"
   },
   {
    "duration": 37,
    "start_time": "2022-11-11T09:04:40.987Z"
   },
   {
    "duration": 22,
    "start_time": "2022-11-11T09:04:41.025Z"
   },
   {
    "duration": 31,
    "start_time": "2022-11-11T09:04:41.049Z"
   },
   {
    "duration": 7,
    "start_time": "2022-11-11T09:04:41.082Z"
   },
   {
    "duration": 1662,
    "start_time": "2022-11-11T09:04:41.090Z"
   },
   {
    "duration": 18,
    "start_time": "2022-11-11T09:04:42.754Z"
   },
   {
    "duration": 4,
    "start_time": "2022-11-11T09:04:42.774Z"
   },
   {
    "duration": 10,
    "start_time": "2022-11-11T09:04:42.779Z"
   },
   {
    "duration": 40,
    "start_time": "2022-11-11T09:04:42.791Z"
   },
   {
    "duration": 14,
    "start_time": "2022-11-11T09:04:42.832Z"
   },
   {
    "duration": 195,
    "start_time": "2022-11-11T09:04:42.848Z"
   },
   {
    "duration": 205,
    "start_time": "2022-11-11T09:04:43.045Z"
   },
   {
    "duration": 246,
    "start_time": "2022-11-11T09:04:43.252Z"
   },
   {
    "duration": 236,
    "start_time": "2022-11-11T09:04:43.500Z"
   },
   {
    "duration": 14,
    "start_time": "2022-11-11T09:04:43.738Z"
   },
   {
    "duration": 14,
    "start_time": "2022-11-11T09:04:43.754Z"
   },
   {
    "duration": 6859,
    "start_time": "2022-11-11T09:04:43.769Z"
   },
   {
    "duration": 27221,
    "start_time": "2022-11-11T09:04:50.630Z"
   },
   {
    "duration": 4423,
    "start_time": "2022-11-11T09:05:17.853Z"
   },
   {
    "duration": 9,
    "start_time": "2022-11-11T09:05:22.278Z"
   },
   {
    "duration": 9,
    "start_time": "2022-11-11T09:05:22.289Z"
   },
   {
    "duration": 26,
    "start_time": "2022-11-11T09:05:22.300Z"
   },
   {
    "duration": 3,
    "start_time": "2022-11-11T09:05:22.328Z"
   },
   {
    "duration": 132,
    "start_time": "2022-11-11T09:05:22.333Z"
   },
   {
    "duration": 20,
    "start_time": "2022-11-11T09:05:22.467Z"
   },
   {
    "duration": 15,
    "start_time": "2022-11-11T09:05:22.489Z"
   },
   {
    "duration": 30,
    "start_time": "2022-11-11T09:05:22.506Z"
   },
   {
    "duration": 25,
    "start_time": "2022-11-11T09:05:22.538Z"
   },
   {
    "duration": 13,
    "start_time": "2022-11-11T09:05:22.565Z"
   },
   {
    "duration": 11,
    "start_time": "2022-11-11T09:05:22.580Z"
   },
   {
    "duration": 6,
    "start_time": "2022-11-11T09:05:22.593Z"
   },
   {
    "duration": 30,
    "start_time": "2022-11-11T09:05:22.601Z"
   },
   {
    "duration": 5,
    "start_time": "2022-11-11T09:05:22.633Z"
   },
   {
    "duration": 103,
    "start_time": "2022-11-11T09:06:22.539Z"
   },
   {
    "duration": 13,
    "start_time": "2022-11-11T09:07:07.092Z"
   },
   {
    "duration": 13,
    "start_time": "2022-11-11T09:07:15.980Z"
   },
   {
    "duration": 19,
    "start_time": "2022-11-11T09:07:24.315Z"
   },
   {
    "duration": 16,
    "start_time": "2022-11-11T09:07:50.106Z"
   },
   {
    "duration": 11,
    "start_time": "2022-11-11T09:09:05.910Z"
   },
   {
    "duration": 34,
    "start_time": "2022-11-11T09:09:28.926Z"
   },
   {
    "duration": 1385,
    "start_time": "2022-11-11T09:10:14.434Z"
   },
   {
    "duration": 84,
    "start_time": "2022-11-11T09:10:15.820Z"
   },
   {
    "duration": 11,
    "start_time": "2022-11-11T09:10:15.906Z"
   },
   {
    "duration": 15,
    "start_time": "2022-11-11T09:10:15.918Z"
   },
   {
    "duration": 11,
    "start_time": "2022-11-11T09:10:15.935Z"
   },
   {
    "duration": 10,
    "start_time": "2022-11-11T09:10:15.948Z"
   },
   {
    "duration": 10,
    "start_time": "2022-11-11T09:10:15.960Z"
   },
   {
    "duration": 12,
    "start_time": "2022-11-11T09:10:15.972Z"
   },
   {
    "duration": 4,
    "start_time": "2022-11-11T09:10:15.986Z"
   },
   {
    "duration": 7,
    "start_time": "2022-11-11T09:10:15.992Z"
   },
   {
    "duration": 11,
    "start_time": "2022-11-11T09:10:16.019Z"
   },
   {
    "duration": 14,
    "start_time": "2022-11-11T09:10:16.032Z"
   },
   {
    "duration": 9,
    "start_time": "2022-11-11T09:10:16.047Z"
   },
   {
    "duration": 34,
    "start_time": "2022-11-11T09:10:16.059Z"
   },
   {
    "duration": 25,
    "start_time": "2022-11-11T09:10:16.095Z"
   },
   {
    "duration": 10,
    "start_time": "2022-11-11T09:10:16.122Z"
   },
   {
    "duration": 8,
    "start_time": "2022-11-11T09:10:16.134Z"
   },
   {
    "duration": 7,
    "start_time": "2022-11-11T09:10:16.143Z"
   },
   {
    "duration": 5,
    "start_time": "2022-11-11T09:10:16.152Z"
   },
   {
    "duration": 15,
    "start_time": "2022-11-11T09:10:16.158Z"
   },
   {
    "duration": 365,
    "start_time": "2022-11-11T09:10:16.175Z"
   },
   {
    "duration": 280,
    "start_time": "2022-11-11T09:10:16.542Z"
   },
   {
    "duration": 285,
    "start_time": "2022-11-11T09:10:16.823Z"
   },
   {
    "duration": 537,
    "start_time": "2022-11-11T09:10:17.119Z"
   },
   {
    "duration": 97,
    "start_time": "2022-11-11T09:10:17.659Z"
   },
   {
    "duration": 186,
    "start_time": "2022-11-11T09:10:17.757Z"
   },
   {
    "duration": 21,
    "start_time": "2022-11-11T09:10:17.945Z"
   },
   {
    "duration": 4683,
    "start_time": "2022-11-11T09:10:17.968Z"
   },
   {
    "duration": 353,
    "start_time": "2022-11-11T09:10:22.653Z"
   },
   {
    "duration": 160,
    "start_time": "2022-11-11T09:10:23.008Z"
   },
   {
    "duration": 178,
    "start_time": "2022-11-11T09:10:23.169Z"
   },
   {
    "duration": 339,
    "start_time": "2022-11-11T09:10:23.348Z"
   },
   {
    "duration": 180,
    "start_time": "2022-11-11T09:10:23.689Z"
   },
   {
    "duration": 15,
    "start_time": "2022-11-11T09:10:23.871Z"
   },
   {
    "duration": 12,
    "start_time": "2022-11-11T09:10:23.887Z"
   },
   {
    "duration": 25,
    "start_time": "2022-11-11T09:10:23.900Z"
   },
   {
    "duration": 14,
    "start_time": "2022-11-11T09:10:23.926Z"
   },
   {
    "duration": 15,
    "start_time": "2022-11-11T09:10:23.941Z"
   },
   {
    "duration": 154,
    "start_time": "2022-11-11T09:10:23.958Z"
   },
   {
    "duration": 15,
    "start_time": "2022-11-11T09:10:24.119Z"
   },
   {
    "duration": 560,
    "start_time": "2022-11-11T09:10:24.138Z"
   },
   {
    "duration": 8,
    "start_time": "2022-11-11T09:10:24.700Z"
   },
   {
    "duration": 23,
    "start_time": "2022-11-11T09:10:24.710Z"
   },
   {
    "duration": 9,
    "start_time": "2022-11-11T09:10:24.735Z"
   },
   {
    "duration": 15,
    "start_time": "2022-11-11T09:10:24.746Z"
   },
   {
    "duration": 27,
    "start_time": "2022-11-11T09:10:24.762Z"
   },
   {
    "duration": 28,
    "start_time": "2022-11-11T09:10:24.791Z"
   },
   {
    "duration": 34,
    "start_time": "2022-11-11T09:10:24.821Z"
   },
   {
    "duration": 36,
    "start_time": "2022-11-11T09:10:24.857Z"
   },
   {
    "duration": 6,
    "start_time": "2022-11-11T09:10:24.895Z"
   },
   {
    "duration": 1620,
    "start_time": "2022-11-11T09:10:24.903Z"
   },
   {
    "duration": 24,
    "start_time": "2022-11-11T09:10:26.525Z"
   },
   {
    "duration": 4,
    "start_time": "2022-11-11T09:10:26.551Z"
   },
   {
    "duration": 31,
    "start_time": "2022-11-11T09:10:26.557Z"
   },
   {
    "duration": 32,
    "start_time": "2022-11-11T09:10:26.591Z"
   },
   {
    "duration": 28,
    "start_time": "2022-11-11T09:10:26.624Z"
   },
   {
    "duration": 169,
    "start_time": "2022-11-11T09:10:26.654Z"
   },
   {
    "duration": 172,
    "start_time": "2022-11-11T09:10:26.825Z"
   },
   {
    "duration": 212,
    "start_time": "2022-11-11T09:10:26.999Z"
   },
   {
    "duration": 218,
    "start_time": "2022-11-11T09:10:27.213Z"
   },
   {
    "duration": 13,
    "start_time": "2022-11-11T09:10:27.433Z"
   },
   {
    "duration": 11,
    "start_time": "2022-11-11T09:10:27.448Z"
   },
   {
    "duration": 6680,
    "start_time": "2022-11-11T09:10:27.460Z"
   },
   {
    "duration": 1514,
    "start_time": "2022-11-11T09:10:54.411Z"
   },
   {
    "duration": 89,
    "start_time": "2022-11-11T09:10:55.927Z"
   },
   {
    "duration": 12,
    "start_time": "2022-11-11T09:10:56.018Z"
   },
   {
    "duration": 11,
    "start_time": "2022-11-11T09:10:56.032Z"
   },
   {
    "duration": 12,
    "start_time": "2022-11-11T09:10:56.045Z"
   },
   {
    "duration": 12,
    "start_time": "2022-11-11T09:10:56.059Z"
   },
   {
    "duration": 10,
    "start_time": "2022-11-11T09:10:56.072Z"
   },
   {
    "duration": 43,
    "start_time": "2022-11-11T09:10:56.084Z"
   },
   {
    "duration": 11,
    "start_time": "2022-11-11T09:10:56.129Z"
   },
   {
    "duration": 6,
    "start_time": "2022-11-11T09:10:56.142Z"
   },
   {
    "duration": 15,
    "start_time": "2022-11-11T09:10:56.150Z"
   },
   {
    "duration": 11,
    "start_time": "2022-11-11T09:10:56.167Z"
   },
   {
    "duration": 11,
    "start_time": "2022-11-11T09:10:56.179Z"
   },
   {
    "duration": 52,
    "start_time": "2022-11-11T09:10:56.192Z"
   },
   {
    "duration": 5,
    "start_time": "2022-11-11T09:10:56.245Z"
   },
   {
    "duration": 5,
    "start_time": "2022-11-11T09:10:56.252Z"
   },
   {
    "duration": 9,
    "start_time": "2022-11-11T09:10:56.259Z"
   },
   {
    "duration": 20,
    "start_time": "2022-11-11T09:10:56.270Z"
   },
   {
    "duration": 35,
    "start_time": "2022-11-11T09:10:56.292Z"
   },
   {
    "duration": 36,
    "start_time": "2022-11-11T09:10:56.330Z"
   },
   {
    "duration": 398,
    "start_time": "2022-11-11T09:10:56.368Z"
   },
   {
    "duration": 238,
    "start_time": "2022-11-11T09:10:56.768Z"
   },
   {
    "duration": 293,
    "start_time": "2022-11-11T09:10:57.007Z"
   },
   {
    "duration": 552,
    "start_time": "2022-11-11T09:10:57.303Z"
   },
   {
    "duration": 113,
    "start_time": "2022-11-11T09:10:57.858Z"
   },
   {
    "duration": 191,
    "start_time": "2022-11-11T09:10:57.973Z"
   },
   {
    "duration": 20,
    "start_time": "2022-11-11T09:10:58.166Z"
   },
   {
    "duration": 4628,
    "start_time": "2022-11-11T09:10:58.191Z"
   },
   {
    "duration": 343,
    "start_time": "2022-11-11T09:11:02.821Z"
   },
   {
    "duration": 158,
    "start_time": "2022-11-11T09:11:03.166Z"
   },
   {
    "duration": 186,
    "start_time": "2022-11-11T09:11:03.327Z"
   },
   {
    "duration": 318,
    "start_time": "2022-11-11T09:11:03.515Z"
   },
   {
    "duration": 173,
    "start_time": "2022-11-11T09:11:03.835Z"
   },
   {
    "duration": 21,
    "start_time": "2022-11-11T09:11:04.010Z"
   },
   {
    "duration": 47,
    "start_time": "2022-11-11T09:11:04.033Z"
   },
   {
    "duration": 35,
    "start_time": "2022-11-11T09:11:04.081Z"
   },
   {
    "duration": 14,
    "start_time": "2022-11-11T09:11:04.118Z"
   },
   {
    "duration": 16,
    "start_time": "2022-11-11T09:11:04.134Z"
   },
   {
    "duration": 167,
    "start_time": "2022-11-11T09:11:04.152Z"
   },
   {
    "duration": 19,
    "start_time": "2022-11-11T09:11:04.321Z"
   },
   {
    "duration": 625,
    "start_time": "2022-11-11T09:11:04.343Z"
   },
   {
    "duration": 10,
    "start_time": "2022-11-11T09:11:04.970Z"
   },
   {
    "duration": 7,
    "start_time": "2022-11-11T09:11:04.982Z"
   },
   {
    "duration": 7,
    "start_time": "2022-11-11T09:11:04.991Z"
   },
   {
    "duration": 24,
    "start_time": "2022-11-11T09:11:04.999Z"
   },
   {
    "duration": 13,
    "start_time": "2022-11-11T09:11:05.027Z"
   },
   {
    "duration": 6,
    "start_time": "2022-11-11T09:11:05.041Z"
   },
   {
    "duration": 17,
    "start_time": "2022-11-11T09:11:05.048Z"
   },
   {
    "duration": 34,
    "start_time": "2022-11-11T09:11:05.067Z"
   },
   {
    "duration": 21,
    "start_time": "2022-11-11T09:11:05.103Z"
   },
   {
    "duration": 1747,
    "start_time": "2022-11-11T09:11:05.126Z"
   },
   {
    "duration": 19,
    "start_time": "2022-11-11T09:11:06.875Z"
   },
   {
    "duration": 6,
    "start_time": "2022-11-11T09:11:06.896Z"
   },
   {
    "duration": 18,
    "start_time": "2022-11-11T09:11:06.904Z"
   },
   {
    "duration": 27,
    "start_time": "2022-11-11T09:11:06.923Z"
   },
   {
    "duration": 17,
    "start_time": "2022-11-11T09:11:06.951Z"
   },
   {
    "duration": 193,
    "start_time": "2022-11-11T09:11:06.970Z"
   },
   {
    "duration": 189,
    "start_time": "2022-11-11T09:11:07.165Z"
   },
   {
    "duration": 228,
    "start_time": "2022-11-11T09:11:07.356Z"
   },
   {
    "duration": 216,
    "start_time": "2022-11-11T09:11:07.586Z"
   },
   {
    "duration": 18,
    "start_time": "2022-11-11T09:11:07.804Z"
   },
   {
    "duration": 16,
    "start_time": "2022-11-11T09:11:07.824Z"
   },
   {
    "duration": 6936,
    "start_time": "2022-11-11T09:11:07.842Z"
   },
   {
    "duration": 27622,
    "start_time": "2022-11-11T09:11:14.780Z"
   },
   {
    "duration": 4179,
    "start_time": "2022-11-11T09:11:42.404Z"
   },
   {
    "duration": 12,
    "start_time": "2022-11-11T09:11:46.586Z"
   },
   {
    "duration": 41,
    "start_time": "2022-11-11T09:11:46.600Z"
   },
   {
    "duration": 47,
    "start_time": "2022-11-11T09:11:46.643Z"
   },
   {
    "duration": 28,
    "start_time": "2022-11-11T09:11:46.692Z"
   },
   {
    "duration": 128,
    "start_time": "2022-11-11T09:11:46.722Z"
   },
   {
    "duration": 28,
    "start_time": "2022-11-11T09:11:46.852Z"
   },
   {
    "duration": 14,
    "start_time": "2022-11-11T09:11:46.881Z"
   },
   {
    "duration": 32,
    "start_time": "2022-11-11T09:11:46.897Z"
   },
   {
    "duration": 26,
    "start_time": "2022-11-11T09:11:46.930Z"
   },
   {
    "duration": 19,
    "start_time": "2022-11-11T09:11:46.958Z"
   },
   {
    "duration": 13,
    "start_time": "2022-11-11T09:11:46.979Z"
   },
   {
    "duration": 7,
    "start_time": "2022-11-11T09:11:46.993Z"
   },
   {
    "duration": 18,
    "start_time": "2022-11-11T09:11:47.002Z"
   },
   {
    "duration": 25,
    "start_time": "2022-11-11T09:11:47.022Z"
   },
   {
    "duration": 16,
    "start_time": "2022-11-11T09:12:32.103Z"
   },
   {
    "duration": 1401,
    "start_time": "2022-11-11T09:12:44.633Z"
   },
   {
    "duration": 82,
    "start_time": "2022-11-11T09:12:46.036Z"
   },
   {
    "duration": 12,
    "start_time": "2022-11-11T09:12:46.120Z"
   },
   {
    "duration": 31,
    "start_time": "2022-11-11T09:12:46.135Z"
   },
   {
    "duration": 12,
    "start_time": "2022-11-11T09:12:46.168Z"
   },
   {
    "duration": 12,
    "start_time": "2022-11-11T09:12:46.182Z"
   },
   {
    "duration": 25,
    "start_time": "2022-11-11T09:12:46.196Z"
   },
   {
    "duration": 8,
    "start_time": "2022-11-11T09:12:46.223Z"
   },
   {
    "duration": 11,
    "start_time": "2022-11-11T09:12:46.233Z"
   },
   {
    "duration": 5,
    "start_time": "2022-11-11T09:12:46.247Z"
   },
   {
    "duration": 15,
    "start_time": "2022-11-11T09:12:46.254Z"
   },
   {
    "duration": 12,
    "start_time": "2022-11-11T09:12:46.270Z"
   },
   {
    "duration": 11,
    "start_time": "2022-11-11T09:12:46.284Z"
   },
   {
    "duration": 30,
    "start_time": "2022-11-11T09:12:46.297Z"
   },
   {
    "duration": 35,
    "start_time": "2022-11-11T09:12:46.329Z"
   },
   {
    "duration": 5,
    "start_time": "2022-11-11T09:12:46.366Z"
   },
   {
    "duration": 13,
    "start_time": "2022-11-11T09:12:46.372Z"
   },
   {
    "duration": 140,
    "start_time": "2022-11-11T09:12:46.387Z"
   },
   {
    "duration": 19,
    "start_time": "2022-11-11T09:12:46.530Z"
   },
   {
    "duration": 10,
    "start_time": "2022-11-11T09:12:46.551Z"
   },
   {
    "duration": 32,
    "start_time": "2022-11-11T09:12:46.563Z"
   },
   {
    "duration": 362,
    "start_time": "2022-11-11T09:12:46.597Z"
   },
   {
    "duration": 235,
    "start_time": "2022-11-11T09:12:46.961Z"
   },
   {
    "duration": 303,
    "start_time": "2022-11-11T09:12:47.197Z"
   },
   {
    "duration": 546,
    "start_time": "2022-11-11T09:12:47.502Z"
   },
   {
    "duration": 92,
    "start_time": "2022-11-11T09:12:48.050Z"
   },
   {
    "duration": 181,
    "start_time": "2022-11-11T09:12:48.144Z"
   },
   {
    "duration": 28,
    "start_time": "2022-11-11T09:12:48.329Z"
   },
   {
    "duration": 4359,
    "start_time": "2022-11-11T09:12:48.359Z"
   },
   {
    "duration": 335,
    "start_time": "2022-11-11T09:12:52.720Z"
   },
   {
    "duration": 165,
    "start_time": "2022-11-11T09:12:53.057Z"
   },
   {
    "duration": 176,
    "start_time": "2022-11-11T09:12:53.224Z"
   },
   {
    "duration": 326,
    "start_time": "2022-11-11T09:12:53.402Z"
   },
   {
    "duration": 182,
    "start_time": "2022-11-11T09:12:53.730Z"
   },
   {
    "duration": 17,
    "start_time": "2022-11-11T09:12:53.914Z"
   },
   {
    "duration": 8,
    "start_time": "2022-11-11T09:12:53.933Z"
   },
   {
    "duration": 20,
    "start_time": "2022-11-11T09:12:53.943Z"
   },
   {
    "duration": 13,
    "start_time": "2022-11-11T09:12:53.965Z"
   },
   {
    "duration": 14,
    "start_time": "2022-11-11T09:12:53.980Z"
   },
   {
    "duration": 151,
    "start_time": "2022-11-11T09:12:54.020Z"
   },
   {
    "duration": 17,
    "start_time": "2022-11-11T09:12:54.173Z"
   },
   {
    "duration": 574,
    "start_time": "2022-11-11T09:12:54.192Z"
   },
   {
    "duration": 10,
    "start_time": "2022-11-11T09:12:54.768Z"
   },
   {
    "duration": 13,
    "start_time": "2022-11-11T09:12:54.779Z"
   },
   {
    "duration": 7,
    "start_time": "2022-11-11T09:12:54.795Z"
   },
   {
    "duration": 24,
    "start_time": "2022-11-11T09:12:54.804Z"
   },
   {
    "duration": 9,
    "start_time": "2022-11-11T09:12:54.829Z"
   },
   {
    "duration": 5,
    "start_time": "2022-11-11T09:12:54.839Z"
   },
   {
    "duration": 22,
    "start_time": "2022-11-11T09:12:54.845Z"
   },
   {
    "duration": 41,
    "start_time": "2022-11-11T09:12:54.869Z"
   },
   {
    "duration": 11,
    "start_time": "2022-11-11T09:12:54.912Z"
   },
   {
    "duration": 1730,
    "start_time": "2022-11-11T09:12:54.924Z"
   },
   {
    "duration": 20,
    "start_time": "2022-11-11T09:12:56.656Z"
   },
   {
    "duration": 4,
    "start_time": "2022-11-11T09:12:56.677Z"
   },
   {
    "duration": 10,
    "start_time": "2022-11-11T09:12:56.682Z"
   },
   {
    "duration": 34,
    "start_time": "2022-11-11T09:12:56.694Z"
   },
   {
    "duration": 9,
    "start_time": "2022-11-11T09:12:56.730Z"
   },
   {
    "duration": 186,
    "start_time": "2022-11-11T09:12:56.741Z"
   },
   {
    "duration": 185,
    "start_time": "2022-11-11T09:12:56.929Z"
   },
   {
    "duration": 213,
    "start_time": "2022-11-11T09:12:57.118Z"
   },
   {
    "duration": 230,
    "start_time": "2022-11-11T09:12:57.333Z"
   },
   {
    "duration": 15,
    "start_time": "2022-11-11T09:12:57.564Z"
   },
   {
    "duration": 12,
    "start_time": "2022-11-11T09:12:57.580Z"
   },
   {
    "duration": 6591,
    "start_time": "2022-11-11T09:12:57.594Z"
   },
   {
    "duration": 27467,
    "start_time": "2022-11-11T09:13:04.187Z"
   },
   {
    "duration": 4286,
    "start_time": "2022-11-11T09:13:31.656Z"
   },
   {
    "duration": 9,
    "start_time": "2022-11-11T09:13:35.944Z"
   },
   {
    "duration": 10,
    "start_time": "2022-11-11T09:13:35.955Z"
   },
   {
    "duration": 11,
    "start_time": "2022-11-11T09:13:35.967Z"
   },
   {
    "duration": 7,
    "start_time": "2022-11-11T09:13:35.980Z"
   },
   {
    "duration": 146,
    "start_time": "2022-11-11T09:13:35.989Z"
   },
   {
    "duration": 20,
    "start_time": "2022-11-11T09:13:36.137Z"
   },
   {
    "duration": 14,
    "start_time": "2022-11-11T09:13:36.159Z"
   },
   {
    "duration": 12,
    "start_time": "2022-11-11T09:13:36.175Z"
   },
   {
    "duration": 33,
    "start_time": "2022-11-11T09:13:36.188Z"
   },
   {
    "duration": 22,
    "start_time": "2022-11-11T09:13:36.223Z"
   },
   {
    "duration": 14,
    "start_time": "2022-11-11T09:13:36.247Z"
   },
   {
    "duration": 11,
    "start_time": "2022-11-11T09:13:36.262Z"
   },
   {
    "duration": 32,
    "start_time": "2022-11-11T09:13:36.275Z"
   },
   {
    "duration": 13,
    "start_time": "2022-11-11T09:13:36.309Z"
   },
   {
    "duration": 1444,
    "start_time": "2022-11-11T09:21:54.915Z"
   },
   {
    "duration": 145,
    "start_time": "2022-11-11T09:21:56.362Z"
   },
   {
    "duration": 17,
    "start_time": "2022-11-11T09:21:56.509Z"
   },
   {
    "duration": 14,
    "start_time": "2022-11-11T09:21:56.530Z"
   },
   {
    "duration": 25,
    "start_time": "2022-11-11T09:21:56.546Z"
   },
   {
    "duration": 12,
    "start_time": "2022-11-11T09:21:56.573Z"
   },
   {
    "duration": 13,
    "start_time": "2022-11-11T09:21:56.587Z"
   },
   {
    "duration": 15,
    "start_time": "2022-11-11T09:21:56.607Z"
   },
   {
    "duration": 5,
    "start_time": "2022-11-11T09:21:56.624Z"
   },
   {
    "duration": 7,
    "start_time": "2022-11-11T09:21:56.632Z"
   },
   {
    "duration": 21,
    "start_time": "2022-11-11T09:21:56.640Z"
   },
   {
    "duration": 13,
    "start_time": "2022-11-11T09:21:56.662Z"
   },
   {
    "duration": 11,
    "start_time": "2022-11-11T09:21:56.676Z"
   },
   {
    "duration": 31,
    "start_time": "2022-11-11T09:21:56.689Z"
   },
   {
    "duration": 13,
    "start_time": "2022-11-11T09:21:56.722Z"
   },
   {
    "duration": 33,
    "start_time": "2022-11-11T09:21:56.736Z"
   },
   {
    "duration": 4,
    "start_time": "2022-11-11T09:21:56.771Z"
   },
   {
    "duration": 10,
    "start_time": "2022-11-11T09:21:56.776Z"
   },
   {
    "duration": 28,
    "start_time": "2022-11-11T09:21:56.788Z"
   },
   {
    "duration": 9,
    "start_time": "2022-11-11T09:21:56.818Z"
   },
   {
    "duration": 7,
    "start_time": "2022-11-11T09:21:56.828Z"
   },
   {
    "duration": 25,
    "start_time": "2022-11-11T09:21:56.836Z"
   },
   {
    "duration": 335,
    "start_time": "2022-11-11T09:21:56.863Z"
   },
   {
    "duration": 230,
    "start_time": "2022-11-11T09:21:57.200Z"
   },
   {
    "duration": 305,
    "start_time": "2022-11-11T09:21:57.432Z"
   },
   {
    "duration": 558,
    "start_time": "2022-11-11T09:21:57.739Z"
   },
   {
    "duration": 73,
    "start_time": "2022-11-11T09:21:58.299Z"
   },
   {
    "duration": 194,
    "start_time": "2022-11-11T09:21:58.377Z"
   },
   {
    "duration": 21,
    "start_time": "2022-11-11T09:21:58.573Z"
   },
   {
    "duration": 4655,
    "start_time": "2022-11-11T09:21:58.596Z"
   },
   {
    "duration": 360,
    "start_time": "2022-11-11T09:22:03.253Z"
   },
   {
    "duration": 160,
    "start_time": "2022-11-11T09:22:03.615Z"
   },
   {
    "duration": 174,
    "start_time": "2022-11-11T09:22:03.777Z"
   },
   {
    "duration": 321,
    "start_time": "2022-11-11T09:22:03.953Z"
   },
   {
    "duration": 195,
    "start_time": "2022-11-11T09:22:04.277Z"
   },
   {
    "duration": 16,
    "start_time": "2022-11-11T09:22:04.474Z"
   },
   {
    "duration": 7,
    "start_time": "2022-11-11T09:22:04.492Z"
   },
   {
    "duration": 33,
    "start_time": "2022-11-11T09:22:04.500Z"
   },
   {
    "duration": 15,
    "start_time": "2022-11-11T09:22:04.535Z"
   },
   {
    "duration": 13,
    "start_time": "2022-11-11T09:22:04.551Z"
   },
   {
    "duration": 13,
    "start_time": "2022-11-11T09:22:04.566Z"
   },
   {
    "duration": 53,
    "start_time": "2022-11-11T09:22:04.581Z"
   },
   {
    "duration": 707,
    "start_time": "2022-11-11T09:22:04.636Z"
   },
   {
    "duration": 10,
    "start_time": "2022-11-11T09:22:05.345Z"
   },
   {
    "duration": 7,
    "start_time": "2022-11-11T09:22:05.357Z"
   },
   {
    "duration": 13,
    "start_time": "2022-11-11T09:22:05.365Z"
   },
   {
    "duration": 11,
    "start_time": "2022-11-11T09:22:05.380Z"
   },
   {
    "duration": 14,
    "start_time": "2022-11-11T09:22:05.393Z"
   },
   {
    "duration": 5,
    "start_time": "2022-11-11T09:22:05.420Z"
   },
   {
    "duration": 34,
    "start_time": "2022-11-11T09:22:05.427Z"
   },
   {
    "duration": 30,
    "start_time": "2022-11-11T09:22:05.463Z"
   },
   {
    "duration": 7,
    "start_time": "2022-11-11T09:22:05.494Z"
   },
   {
    "duration": 1620,
    "start_time": "2022-11-11T09:22:05.502Z"
   },
   {
    "duration": 18,
    "start_time": "2022-11-11T09:22:07.123Z"
   },
   {
    "duration": 3,
    "start_time": "2022-11-11T09:22:07.143Z"
   },
   {
    "duration": 9,
    "start_time": "2022-11-11T09:22:07.147Z"
   },
   {
    "duration": 12,
    "start_time": "2022-11-11T09:22:07.158Z"
   },
   {
    "duration": 16,
    "start_time": "2022-11-11T09:22:07.171Z"
   },
   {
    "duration": 179,
    "start_time": "2022-11-11T09:22:07.188Z"
   },
   {
    "duration": 186,
    "start_time": "2022-11-11T09:22:07.369Z"
   },
   {
    "duration": 236,
    "start_time": "2022-11-11T09:22:07.557Z"
   },
   {
    "duration": 237,
    "start_time": "2022-11-11T09:22:07.795Z"
   },
   {
    "duration": 14,
    "start_time": "2022-11-11T09:22:08.034Z"
   },
   {
    "duration": 30,
    "start_time": "2022-11-11T09:22:08.049Z"
   },
   {
    "duration": 4102,
    "start_time": "2022-11-11T09:22:08.081Z"
   },
   {
    "duration": 18219,
    "start_time": "2022-11-11T09:22:12.185Z"
   },
   {
    "duration": 2744,
    "start_time": "2022-11-11T09:22:30.405Z"
   },
   {
    "duration": 9,
    "start_time": "2022-11-11T09:22:33.151Z"
   },
   {
    "duration": 17,
    "start_time": "2022-11-11T09:22:33.161Z"
   },
   {
    "duration": 12,
    "start_time": "2022-11-11T09:22:33.179Z"
   },
   {
    "duration": 27,
    "start_time": "2022-11-11T09:22:33.193Z"
   },
   {
    "duration": 86,
    "start_time": "2022-11-11T09:22:33.222Z"
   },
   {
    "duration": 22,
    "start_time": "2022-11-11T09:22:33.310Z"
   },
   {
    "duration": 15,
    "start_time": "2022-11-11T09:22:33.333Z"
   },
   {
    "duration": 15,
    "start_time": "2022-11-11T09:22:33.350Z"
   },
   {
    "duration": 28,
    "start_time": "2022-11-11T09:22:33.367Z"
   },
   {
    "duration": 30,
    "start_time": "2022-11-11T09:22:33.397Z"
   },
   {
    "duration": 39,
    "start_time": "2022-11-11T09:22:33.429Z"
   },
   {
    "duration": 26,
    "start_time": "2022-11-11T09:22:33.470Z"
   },
   {
    "duration": 27,
    "start_time": "2022-11-11T09:22:33.498Z"
   },
   {
    "duration": 18,
    "start_time": "2022-11-11T09:22:33.527Z"
   },
   {
    "duration": 1491,
    "start_time": "2022-11-11T09:27:34.467Z"
   },
   {
    "duration": 89,
    "start_time": "2022-11-11T09:27:35.960Z"
   },
   {
    "duration": 13,
    "start_time": "2022-11-11T09:27:36.051Z"
   },
   {
    "duration": 26,
    "start_time": "2022-11-11T09:27:36.066Z"
   },
   {
    "duration": 35,
    "start_time": "2022-11-11T09:27:36.093Z"
   },
   {
    "duration": 23,
    "start_time": "2022-11-11T09:27:36.129Z"
   },
   {
    "duration": 11,
    "start_time": "2022-11-11T09:27:36.154Z"
   },
   {
    "duration": 20,
    "start_time": "2022-11-11T09:27:36.167Z"
   },
   {
    "duration": 15,
    "start_time": "2022-11-11T09:27:36.188Z"
   },
   {
    "duration": 7,
    "start_time": "2022-11-11T09:27:36.206Z"
   },
   {
    "duration": 33,
    "start_time": "2022-11-11T09:27:36.215Z"
   },
   {
    "duration": 13,
    "start_time": "2022-11-11T09:27:36.250Z"
   },
   {
    "duration": 13,
    "start_time": "2022-11-11T09:27:36.265Z"
   },
   {
    "duration": 22,
    "start_time": "2022-11-11T09:27:36.280Z"
   },
   {
    "duration": 19,
    "start_time": "2022-11-11T09:27:36.305Z"
   },
   {
    "duration": 41,
    "start_time": "2022-11-11T09:27:36.327Z"
   },
   {
    "duration": 6,
    "start_time": "2022-11-11T09:27:36.372Z"
   },
   {
    "duration": 9,
    "start_time": "2022-11-11T09:27:36.380Z"
   },
   {
    "duration": 20,
    "start_time": "2022-11-11T09:27:36.391Z"
   },
   {
    "duration": 15,
    "start_time": "2022-11-11T09:27:36.420Z"
   },
   {
    "duration": 13,
    "start_time": "2022-11-11T09:27:36.437Z"
   },
   {
    "duration": 34,
    "start_time": "2022-11-11T09:27:36.452Z"
   },
   {
    "duration": 356,
    "start_time": "2022-11-11T09:27:36.488Z"
   },
   {
    "duration": 232,
    "start_time": "2022-11-11T09:27:36.846Z"
   },
   {
    "duration": 317,
    "start_time": "2022-11-11T09:27:37.080Z"
   },
   {
    "duration": 571,
    "start_time": "2022-11-11T09:27:37.399Z"
   },
   {
    "duration": 79,
    "start_time": "2022-11-11T09:27:37.972Z"
   },
   {
    "duration": 188,
    "start_time": "2022-11-11T09:27:38.055Z"
   },
   {
    "duration": 20,
    "start_time": "2022-11-11T09:27:38.245Z"
   },
   {
    "duration": 4716,
    "start_time": "2022-11-11T09:27:38.267Z"
   },
   {
    "duration": 354,
    "start_time": "2022-11-11T09:27:42.985Z"
   },
   {
    "duration": 172,
    "start_time": "2022-11-11T09:27:43.340Z"
   },
   {
    "duration": 189,
    "start_time": "2022-11-11T09:27:43.514Z"
   },
   {
    "duration": 323,
    "start_time": "2022-11-11T09:27:43.705Z"
   },
   {
    "duration": 191,
    "start_time": "2022-11-11T09:27:44.030Z"
   },
   {
    "duration": 15,
    "start_time": "2022-11-11T09:27:44.223Z"
   },
   {
    "duration": 7,
    "start_time": "2022-11-11T09:27:44.240Z"
   },
   {
    "duration": 16,
    "start_time": "2022-11-11T09:27:44.249Z"
   },
   {
    "duration": 14,
    "start_time": "2022-11-11T09:27:44.266Z"
   },
   {
    "duration": 46,
    "start_time": "2022-11-11T09:27:44.281Z"
   },
   {
    "duration": 13,
    "start_time": "2022-11-11T09:27:44.329Z"
   },
   {
    "duration": 30,
    "start_time": "2022-11-11T09:27:44.343Z"
   },
   {
    "duration": 736,
    "start_time": "2022-11-11T09:27:44.375Z"
   },
   {
    "duration": 14,
    "start_time": "2022-11-11T09:27:45.113Z"
   },
   {
    "duration": 6,
    "start_time": "2022-11-11T09:27:45.128Z"
   },
   {
    "duration": 4,
    "start_time": "2022-11-11T09:27:45.136Z"
   },
   {
    "duration": 9,
    "start_time": "2022-11-11T09:27:45.142Z"
   },
   {
    "duration": 11,
    "start_time": "2022-11-11T09:27:45.152Z"
   },
   {
    "duration": 10,
    "start_time": "2022-11-11T09:27:45.165Z"
   },
   {
    "duration": 15,
    "start_time": "2022-11-11T09:27:45.177Z"
   },
   {
    "duration": 48,
    "start_time": "2022-11-11T09:27:45.195Z"
   },
   {
    "duration": 7,
    "start_time": "2022-11-11T09:27:45.245Z"
   },
   {
    "duration": 1722,
    "start_time": "2022-11-11T09:27:45.253Z"
   },
   {
    "duration": 18,
    "start_time": "2022-11-11T09:27:46.977Z"
   },
   {
    "duration": 4,
    "start_time": "2022-11-11T09:27:46.997Z"
   },
   {
    "duration": 22,
    "start_time": "2022-11-11T09:27:47.002Z"
   },
   {
    "duration": 23,
    "start_time": "2022-11-11T09:27:47.026Z"
   },
   {
    "duration": 30,
    "start_time": "2022-11-11T09:27:47.051Z"
   },
   {
    "duration": 198,
    "start_time": "2022-11-11T09:27:47.083Z"
   },
   {
    "duration": 204,
    "start_time": "2022-11-11T09:27:47.283Z"
   },
   {
    "duration": 241,
    "start_time": "2022-11-11T09:27:47.488Z"
   },
   {
    "duration": 257,
    "start_time": "2022-11-11T09:27:47.731Z"
   },
   {
    "duration": 14,
    "start_time": "2022-11-11T09:27:47.990Z"
   },
   {
    "duration": 13,
    "start_time": "2022-11-11T09:27:48.006Z"
   },
   {
    "duration": 4318,
    "start_time": "2022-11-11T09:27:48.021Z"
   },
   {
    "duration": 18561,
    "start_time": "2022-11-11T09:27:52.341Z"
   },
   {
    "duration": 3000,
    "start_time": "2022-11-11T09:28:10.903Z"
   },
   {
    "duration": 15,
    "start_time": "2022-11-11T09:28:13.905Z"
   },
   {
    "duration": 10,
    "start_time": "2022-11-11T09:28:13.922Z"
   },
   {
    "duration": 9,
    "start_time": "2022-11-11T09:28:13.934Z"
   },
   {
    "duration": 6,
    "start_time": "2022-11-11T09:28:13.945Z"
   },
   {
    "duration": 99,
    "start_time": "2022-11-11T09:28:13.953Z"
   },
   {
    "duration": 20,
    "start_time": "2022-11-11T09:28:14.053Z"
   },
   {
    "duration": 14,
    "start_time": "2022-11-11T09:28:14.074Z"
   },
   {
    "duration": 31,
    "start_time": "2022-11-11T09:28:14.089Z"
   },
   {
    "duration": 23,
    "start_time": "2022-11-11T09:28:14.121Z"
   },
   {
    "duration": 18,
    "start_time": "2022-11-11T09:28:14.146Z"
   },
   {
    "duration": 19,
    "start_time": "2022-11-11T09:28:14.166Z"
   },
   {
    "duration": 6,
    "start_time": "2022-11-11T09:28:14.187Z"
   },
   {
    "duration": 24,
    "start_time": "2022-11-11T09:28:14.195Z"
   },
   {
    "duration": 7,
    "start_time": "2022-11-11T09:28:14.221Z"
   },
   {
    "duration": 1418,
    "start_time": "2022-11-11T09:32:09.109Z"
   },
   {
    "duration": 80,
    "start_time": "2022-11-11T09:32:10.529Z"
   },
   {
    "duration": 12,
    "start_time": "2022-11-11T09:32:10.611Z"
   },
   {
    "duration": 13,
    "start_time": "2022-11-11T09:32:10.625Z"
   },
   {
    "duration": 11,
    "start_time": "2022-11-11T09:32:10.642Z"
   },
   {
    "duration": 14,
    "start_time": "2022-11-11T09:32:10.655Z"
   },
   {
    "duration": 11,
    "start_time": "2022-11-11T09:32:10.671Z"
   },
   {
    "duration": 36,
    "start_time": "2022-11-11T09:32:10.684Z"
   },
   {
    "duration": 10,
    "start_time": "2022-11-11T09:32:10.722Z"
   },
   {
    "duration": 14,
    "start_time": "2022-11-11T09:32:10.733Z"
   },
   {
    "duration": 11,
    "start_time": "2022-11-11T09:32:10.748Z"
   },
   {
    "duration": 11,
    "start_time": "2022-11-11T09:32:10.761Z"
   },
   {
    "duration": 9,
    "start_time": "2022-11-11T09:32:10.774Z"
   },
   {
    "duration": 58,
    "start_time": "2022-11-11T09:32:10.786Z"
   },
   {
    "duration": 4,
    "start_time": "2022-11-11T09:32:10.846Z"
   },
   {
    "duration": 11,
    "start_time": "2022-11-11T09:32:10.851Z"
   },
   {
    "duration": 12,
    "start_time": "2022-11-11T09:32:10.863Z"
   },
   {
    "duration": 18,
    "start_time": "2022-11-11T09:32:10.876Z"
   },
   {
    "duration": 8,
    "start_time": "2022-11-11T09:32:10.896Z"
   },
   {
    "duration": 15,
    "start_time": "2022-11-11T09:32:10.926Z"
   },
   {
    "duration": 360,
    "start_time": "2022-11-11T09:32:10.943Z"
   },
   {
    "duration": 224,
    "start_time": "2022-11-11T09:32:11.304Z"
   },
   {
    "duration": 294,
    "start_time": "2022-11-11T09:32:11.530Z"
   },
   {
    "duration": 518,
    "start_time": "2022-11-11T09:32:11.826Z"
   },
   {
    "duration": 75,
    "start_time": "2022-11-11T09:32:12.346Z"
   },
   {
    "duration": 181,
    "start_time": "2022-11-11T09:32:12.423Z"
   },
   {
    "duration": 24,
    "start_time": "2022-11-11T09:32:12.606Z"
   },
   {
    "duration": 4726,
    "start_time": "2022-11-11T09:32:12.632Z"
   },
   {
    "duration": 347,
    "start_time": "2022-11-11T09:32:17.360Z"
   },
   {
    "duration": 168,
    "start_time": "2022-11-11T09:32:17.709Z"
   },
   {
    "duration": 193,
    "start_time": "2022-11-11T09:32:17.880Z"
   },
   {
    "duration": 324,
    "start_time": "2022-11-11T09:32:18.075Z"
   },
   {
    "duration": 210,
    "start_time": "2022-11-11T09:32:18.401Z"
   },
   {
    "duration": 17,
    "start_time": "2022-11-11T09:32:18.613Z"
   },
   {
    "duration": 16,
    "start_time": "2022-11-11T09:32:18.632Z"
   },
   {
    "duration": 22,
    "start_time": "2022-11-11T09:32:18.650Z"
   },
   {
    "duration": 14,
    "start_time": "2022-11-11T09:32:18.674Z"
   },
   {
    "duration": 32,
    "start_time": "2022-11-11T09:32:18.689Z"
   },
   {
    "duration": 15,
    "start_time": "2022-11-11T09:32:18.723Z"
   },
   {
    "duration": 17,
    "start_time": "2022-11-11T09:32:18.740Z"
   },
   {
    "duration": 769,
    "start_time": "2022-11-11T09:32:18.762Z"
   },
   {
    "duration": 10,
    "start_time": "2022-11-11T09:32:19.532Z"
   },
   {
    "duration": 15,
    "start_time": "2022-11-11T09:32:19.544Z"
   },
   {
    "duration": 19,
    "start_time": "2022-11-11T09:32:19.561Z"
   },
   {
    "duration": 22,
    "start_time": "2022-11-11T09:32:19.582Z"
   },
   {
    "duration": 17,
    "start_time": "2022-11-11T09:32:19.606Z"
   },
   {
    "duration": 6,
    "start_time": "2022-11-11T09:32:19.625Z"
   },
   {
    "duration": 16,
    "start_time": "2022-11-11T09:32:19.633Z"
   },
   {
    "duration": 36,
    "start_time": "2022-11-11T09:32:19.651Z"
   },
   {
    "duration": 13,
    "start_time": "2022-11-11T09:32:19.689Z"
   },
   {
    "duration": 1703,
    "start_time": "2022-11-11T09:32:19.704Z"
   },
   {
    "duration": 29,
    "start_time": "2022-11-11T09:32:21.409Z"
   },
   {
    "duration": 3,
    "start_time": "2022-11-11T09:32:21.441Z"
   },
   {
    "duration": 10,
    "start_time": "2022-11-11T09:32:21.446Z"
   },
   {
    "duration": 30,
    "start_time": "2022-11-11T09:32:21.458Z"
   },
   {
    "duration": 18,
    "start_time": "2022-11-11T09:32:21.490Z"
   },
   {
    "duration": 184,
    "start_time": "2022-11-11T09:32:21.520Z"
   },
   {
    "duration": 188,
    "start_time": "2022-11-11T09:32:21.706Z"
   },
   {
    "duration": 248,
    "start_time": "2022-11-11T09:32:21.896Z"
   },
   {
    "duration": 262,
    "start_time": "2022-11-11T09:32:22.147Z"
   },
   {
    "duration": 15,
    "start_time": "2022-11-11T09:32:22.410Z"
   },
   {
    "duration": 19,
    "start_time": "2022-11-11T09:32:22.427Z"
   },
   {
    "duration": 4544,
    "start_time": "2022-11-11T09:32:22.448Z"
   },
   {
    "duration": 18469,
    "start_time": "2022-11-11T09:32:26.994Z"
   },
   {
    "duration": 3027,
    "start_time": "2022-11-11T09:32:45.464Z"
   },
   {
    "duration": 9,
    "start_time": "2022-11-11T09:32:48.493Z"
   },
   {
    "duration": 20,
    "start_time": "2022-11-11T09:32:48.504Z"
   },
   {
    "duration": 16,
    "start_time": "2022-11-11T09:32:48.527Z"
   },
   {
    "duration": 4,
    "start_time": "2022-11-11T09:32:48.544Z"
   },
   {
    "duration": 98,
    "start_time": "2022-11-11T09:32:48.550Z"
   },
   {
    "duration": 19,
    "start_time": "2022-11-11T09:32:48.650Z"
   },
   {
    "duration": 15,
    "start_time": "2022-11-11T09:32:48.671Z"
   },
   {
    "duration": 33,
    "start_time": "2022-11-11T09:32:48.688Z"
   },
   {
    "duration": 8,
    "start_time": "2022-11-11T09:32:48.722Z"
   },
   {
    "duration": 20,
    "start_time": "2022-11-11T09:32:48.732Z"
   },
   {
    "duration": 17,
    "start_time": "2022-11-11T09:32:48.754Z"
   },
   {
    "duration": 34,
    "start_time": "2022-11-11T09:32:48.774Z"
   },
   {
    "duration": 36,
    "start_time": "2022-11-11T09:32:48.811Z"
   },
   {
    "duration": 5,
    "start_time": "2022-11-11T09:32:48.848Z"
   },
   {
    "duration": 1438,
    "start_time": "2022-11-11T09:42:26.383Z"
   },
   {
    "duration": 102,
    "start_time": "2022-11-11T09:42:27.824Z"
   },
   {
    "duration": 14,
    "start_time": "2022-11-11T09:42:27.928Z"
   },
   {
    "duration": 42,
    "start_time": "2022-11-11T09:42:27.945Z"
   },
   {
    "duration": 22,
    "start_time": "2022-11-11T09:42:27.988Z"
   },
   {
    "duration": 33,
    "start_time": "2022-11-11T09:42:28.011Z"
   },
   {
    "duration": 27,
    "start_time": "2022-11-11T09:42:28.046Z"
   },
   {
    "duration": 35,
    "start_time": "2022-11-11T09:42:28.074Z"
   },
   {
    "duration": 42,
    "start_time": "2022-11-11T09:42:28.111Z"
   },
   {
    "duration": 30,
    "start_time": "2022-11-11T09:42:28.156Z"
   },
   {
    "duration": 36,
    "start_time": "2022-11-11T09:42:28.188Z"
   },
   {
    "duration": 31,
    "start_time": "2022-11-11T09:42:28.226Z"
   },
   {
    "duration": 37,
    "start_time": "2022-11-11T09:42:28.258Z"
   },
   {
    "duration": 54,
    "start_time": "2022-11-11T09:42:28.297Z"
   },
   {
    "duration": 20,
    "start_time": "2022-11-11T09:42:28.353Z"
   },
   {
    "duration": 34,
    "start_time": "2022-11-11T09:42:28.375Z"
   },
   {
    "duration": 28,
    "start_time": "2022-11-11T09:42:28.410Z"
   },
   {
    "duration": 13,
    "start_time": "2022-11-11T09:42:28.440Z"
   },
   {
    "duration": 27,
    "start_time": "2022-11-11T09:42:28.454Z"
   },
   {
    "duration": 46,
    "start_time": "2022-11-11T09:42:28.483Z"
   },
   {
    "duration": 363,
    "start_time": "2022-11-11T09:42:28.531Z"
   },
   {
    "duration": 241,
    "start_time": "2022-11-11T09:42:28.895Z"
   },
   {
    "duration": 313,
    "start_time": "2022-11-11T09:42:29.137Z"
   },
   {
    "duration": 549,
    "start_time": "2022-11-11T09:42:29.451Z"
   },
   {
    "duration": 78,
    "start_time": "2022-11-11T09:42:30.002Z"
   },
   {
    "duration": 186,
    "start_time": "2022-11-11T09:42:30.082Z"
   },
   {
    "duration": 22,
    "start_time": "2022-11-11T09:42:30.270Z"
   },
   {
    "duration": 4507,
    "start_time": "2022-11-11T09:42:30.296Z"
   },
   {
    "duration": 357,
    "start_time": "2022-11-11T09:42:34.805Z"
   },
   {
    "duration": 170,
    "start_time": "2022-11-11T09:42:35.164Z"
   },
   {
    "duration": 186,
    "start_time": "2022-11-11T09:42:35.335Z"
   },
   {
    "duration": 309,
    "start_time": "2022-11-11T09:42:35.523Z"
   },
   {
    "duration": 188,
    "start_time": "2022-11-11T09:42:35.834Z"
   },
   {
    "duration": 15,
    "start_time": "2022-11-11T09:42:36.024Z"
   },
   {
    "duration": 14,
    "start_time": "2022-11-11T09:42:36.041Z"
   },
   {
    "duration": 72,
    "start_time": "2022-11-11T09:42:36.057Z"
   },
   {
    "duration": 64,
    "start_time": "2022-11-11T09:42:36.131Z"
   },
   {
    "duration": 32,
    "start_time": "2022-11-11T09:42:36.197Z"
   },
   {
    "duration": 38,
    "start_time": "2022-11-11T09:42:36.231Z"
   },
   {
    "duration": 42,
    "start_time": "2022-11-11T09:42:36.271Z"
   },
   {
    "duration": 41,
    "start_time": "2022-11-11T09:42:36.315Z"
   },
   {
    "duration": 771,
    "start_time": "2022-11-11T09:42:36.358Z"
   },
   {
    "duration": 11,
    "start_time": "2022-11-11T09:42:37.131Z"
   },
   {
    "duration": 26,
    "start_time": "2022-11-11T09:42:37.143Z"
   },
   {
    "duration": 25,
    "start_time": "2022-11-11T09:42:37.171Z"
   },
   {
    "duration": 29,
    "start_time": "2022-11-11T09:42:37.197Z"
   },
   {
    "duration": 34,
    "start_time": "2022-11-11T09:42:37.228Z"
   },
   {
    "duration": 13,
    "start_time": "2022-11-11T09:42:37.264Z"
   },
   {
    "duration": 21,
    "start_time": "2022-11-11T09:42:37.279Z"
   },
   {
    "duration": 46,
    "start_time": "2022-11-11T09:42:37.301Z"
   },
   {
    "duration": 6,
    "start_time": "2022-11-11T09:42:37.349Z"
   },
   {
    "duration": 1643,
    "start_time": "2022-11-11T09:42:37.357Z"
   },
   {
    "duration": 25,
    "start_time": "2022-11-11T09:42:39.001Z"
   },
   {
    "duration": 5,
    "start_time": "2022-11-11T09:42:39.027Z"
   },
   {
    "duration": 29,
    "start_time": "2022-11-11T09:42:39.034Z"
   },
   {
    "duration": 29,
    "start_time": "2022-11-11T09:42:39.066Z"
   },
   {
    "duration": 25,
    "start_time": "2022-11-11T09:42:39.097Z"
   },
   {
    "duration": 179,
    "start_time": "2022-11-11T09:42:39.124Z"
   },
   {
    "duration": 189,
    "start_time": "2022-11-11T09:42:39.305Z"
   },
   {
    "duration": 235,
    "start_time": "2022-11-11T09:42:39.496Z"
   },
   {
    "duration": 246,
    "start_time": "2022-11-11T09:42:39.733Z"
   },
   {
    "duration": 14,
    "start_time": "2022-11-11T09:42:39.981Z"
   },
   {
    "duration": 5,
    "start_time": "2022-11-11T09:42:39.997Z"
   },
   {
    "duration": 4381,
    "start_time": "2022-11-11T09:42:40.004Z"
   },
   {
    "duration": 18792,
    "start_time": "2022-11-11T09:42:44.387Z"
   },
   {
    "duration": 2729,
    "start_time": "2022-11-11T09:43:03.181Z"
   },
   {
    "duration": 10,
    "start_time": "2022-11-11T09:43:05.912Z"
   },
   {
    "duration": 26,
    "start_time": "2022-11-11T09:43:05.923Z"
   },
   {
    "duration": 35,
    "start_time": "2022-11-11T09:43:05.951Z"
   },
   {
    "duration": 27,
    "start_time": "2022-11-11T09:43:05.987Z"
   },
   {
    "duration": 84,
    "start_time": "2022-11-11T09:43:06.015Z"
   },
   {
    "duration": 20,
    "start_time": "2022-11-11T09:43:06.101Z"
   },
   {
    "duration": 27,
    "start_time": "2022-11-11T09:43:06.122Z"
   },
   {
    "duration": 43,
    "start_time": "2022-11-11T09:43:06.151Z"
   },
   {
    "duration": 51,
    "start_time": "2022-11-11T09:43:06.195Z"
   },
   {
    "duration": 23,
    "start_time": "2022-11-11T09:43:06.248Z"
   },
   {
    "duration": 29,
    "start_time": "2022-11-11T09:43:06.273Z"
   },
   {
    "duration": 13,
    "start_time": "2022-11-11T09:43:06.304Z"
   },
   {
    "duration": 34,
    "start_time": "2022-11-11T09:43:06.318Z"
   },
   {
    "duration": 54,
    "start_time": "2022-11-11T09:43:06.353Z"
   },
   {
    "duration": 61,
    "start_time": "2022-11-11T09:44:12.101Z"
   },
   {
    "duration": 1515,
    "start_time": "2022-11-11T09:50:34.503Z"
   },
   {
    "duration": 93,
    "start_time": "2022-11-11T09:50:36.020Z"
   },
   {
    "duration": 13,
    "start_time": "2022-11-11T09:50:36.115Z"
   },
   {
    "duration": 19,
    "start_time": "2022-11-11T09:50:36.129Z"
   },
   {
    "duration": 11,
    "start_time": "2022-11-11T09:50:36.150Z"
   },
   {
    "duration": 12,
    "start_time": "2022-11-11T09:50:36.163Z"
   },
   {
    "duration": 10,
    "start_time": "2022-11-11T09:50:36.176Z"
   },
   {
    "duration": 35,
    "start_time": "2022-11-11T09:50:36.187Z"
   },
   {
    "duration": 12,
    "start_time": "2022-11-11T09:50:36.224Z"
   },
   {
    "duration": 14,
    "start_time": "2022-11-11T09:50:36.237Z"
   },
   {
    "duration": 13,
    "start_time": "2022-11-11T09:50:36.253Z"
   },
   {
    "duration": 14,
    "start_time": "2022-11-11T09:50:36.268Z"
   },
   {
    "duration": 43,
    "start_time": "2022-11-11T09:50:36.285Z"
   },
   {
    "duration": 45,
    "start_time": "2022-11-11T09:50:36.332Z"
   },
   {
    "duration": 5,
    "start_time": "2022-11-11T09:50:36.379Z"
   },
   {
    "duration": 29,
    "start_time": "2022-11-11T09:50:36.386Z"
   },
   {
    "duration": 10,
    "start_time": "2022-11-11T09:50:36.418Z"
   },
   {
    "duration": 18,
    "start_time": "2022-11-11T09:50:36.430Z"
   },
   {
    "duration": 11,
    "start_time": "2022-11-11T09:50:36.450Z"
   },
   {
    "duration": 31,
    "start_time": "2022-11-11T09:50:36.463Z"
   },
   {
    "duration": 23,
    "start_time": "2022-11-11T09:50:36.496Z"
   },
   {
    "duration": 22,
    "start_time": "2022-11-11T09:50:36.521Z"
   },
   {
    "duration": 24,
    "start_time": "2022-11-11T09:50:36.546Z"
   },
   {
    "duration": 379,
    "start_time": "2022-11-11T09:50:36.573Z"
   },
   {
    "duration": 256,
    "start_time": "2022-11-11T09:50:36.954Z"
   },
   {
    "duration": 329,
    "start_time": "2022-11-11T09:50:37.211Z"
   },
   {
    "duration": 599,
    "start_time": "2022-11-11T09:50:37.542Z"
   },
   {
    "duration": 76,
    "start_time": "2022-11-11T09:50:38.143Z"
   },
   {
    "duration": 190,
    "start_time": "2022-11-11T09:50:38.221Z"
   },
   {
    "duration": 31,
    "start_time": "2022-11-11T09:50:38.413Z"
   },
   {
    "duration": 4577,
    "start_time": "2022-11-11T09:50:38.446Z"
   },
   {
    "duration": 356,
    "start_time": "2022-11-11T09:50:43.024Z"
   },
   {
    "duration": 215,
    "start_time": "2022-11-11T09:50:43.381Z"
   },
   {
    "duration": 177,
    "start_time": "2022-11-11T09:50:43.598Z"
   },
   {
    "duration": 304,
    "start_time": "2022-11-11T09:50:43.776Z"
   },
   {
    "duration": 198,
    "start_time": "2022-11-11T09:50:44.082Z"
   },
   {
    "duration": 14,
    "start_time": "2022-11-11T09:50:44.282Z"
   },
   {
    "duration": 25,
    "start_time": "2022-11-11T09:50:44.298Z"
   },
   {
    "duration": 13,
    "start_time": "2022-11-11T09:50:44.325Z"
   },
   {
    "duration": 11,
    "start_time": "2022-11-11T09:50:44.339Z"
   },
   {
    "duration": 11,
    "start_time": "2022-11-11T09:50:44.354Z"
   },
   {
    "duration": 19,
    "start_time": "2022-11-11T09:50:44.366Z"
   },
   {
    "duration": 745,
    "start_time": "2022-11-11T09:50:44.386Z"
   },
   {
    "duration": 9,
    "start_time": "2022-11-11T09:50:45.133Z"
   },
   {
    "duration": 6,
    "start_time": "2022-11-11T09:50:45.144Z"
   },
   {
    "duration": 9,
    "start_time": "2022-11-11T09:50:45.151Z"
   },
   {
    "duration": 37,
    "start_time": "2022-11-11T09:50:45.161Z"
   },
   {
    "duration": 21,
    "start_time": "2022-11-11T09:50:45.200Z"
   },
   {
    "duration": 10,
    "start_time": "2022-11-11T09:50:45.223Z"
   },
   {
    "duration": 22,
    "start_time": "2022-11-11T09:50:45.234Z"
   },
   {
    "duration": 41,
    "start_time": "2022-11-11T09:50:45.257Z"
   },
   {
    "duration": 8,
    "start_time": "2022-11-11T09:50:45.300Z"
   },
   {
    "duration": 1704,
    "start_time": "2022-11-11T09:50:45.310Z"
   },
   {
    "duration": 20,
    "start_time": "2022-11-11T09:50:47.019Z"
   },
   {
    "duration": 5,
    "start_time": "2022-11-11T09:50:47.041Z"
   },
   {
    "duration": 13,
    "start_time": "2022-11-11T09:50:47.048Z"
   },
   {
    "duration": 20,
    "start_time": "2022-11-11T09:50:47.063Z"
   },
   {
    "duration": 36,
    "start_time": "2022-11-11T09:50:47.085Z"
   },
   {
    "duration": 213,
    "start_time": "2022-11-11T09:50:47.123Z"
   },
   {
    "duration": 207,
    "start_time": "2022-11-11T09:50:47.339Z"
   },
   {
    "duration": 241,
    "start_time": "2022-11-11T09:50:47.549Z"
   },
   {
    "duration": 239,
    "start_time": "2022-11-11T09:50:47.792Z"
   },
   {
    "duration": 13,
    "start_time": "2022-11-11T09:50:48.033Z"
   },
   {
    "duration": 7,
    "start_time": "2022-11-11T09:50:48.047Z"
   },
   {
    "duration": 4675,
    "start_time": "2022-11-11T09:50:48.056Z"
   },
   {
    "duration": 18887,
    "start_time": "2022-11-11T09:50:52.733Z"
   },
   {
    "duration": 2976,
    "start_time": "2022-11-11T09:51:11.622Z"
   },
   {
    "duration": 19,
    "start_time": "2022-11-11T09:51:14.600Z"
   },
   {
    "duration": 13,
    "start_time": "2022-11-11T09:51:14.621Z"
   },
   {
    "duration": 23,
    "start_time": "2022-11-11T09:51:14.635Z"
   },
   {
    "duration": 5,
    "start_time": "2022-11-11T09:51:14.660Z"
   },
   {
    "duration": 94,
    "start_time": "2022-11-11T09:51:14.667Z"
   },
   {
    "duration": 23,
    "start_time": "2022-11-11T09:51:14.763Z"
   },
   {
    "duration": 31,
    "start_time": "2022-11-11T09:51:14.788Z"
   },
   {
    "duration": 13,
    "start_time": "2022-11-11T09:51:14.821Z"
   },
   {
    "duration": 13,
    "start_time": "2022-11-11T09:51:14.835Z"
   },
   {
    "duration": 12,
    "start_time": "2022-11-11T09:51:14.849Z"
   },
   {
    "duration": 16,
    "start_time": "2022-11-11T09:51:14.862Z"
   },
   {
    "duration": 10,
    "start_time": "2022-11-11T09:51:14.880Z"
   },
   {
    "duration": 50,
    "start_time": "2022-11-11T09:51:14.892Z"
   },
   {
    "duration": 9,
    "start_time": "2022-11-11T09:51:14.943Z"
   },
   {
    "duration": 1619,
    "start_time": "2022-11-11T11:49:57.665Z"
   },
   {
    "duration": 807,
    "start_time": "2022-11-11T11:49:59.286Z"
   },
   {
    "duration": 13,
    "start_time": "2022-11-11T11:50:00.095Z"
   },
   {
    "duration": 65,
    "start_time": "2022-11-11T11:50:00.110Z"
   },
   {
    "duration": 35,
    "start_time": "2022-11-11T11:50:00.176Z"
   },
   {
    "duration": 51,
    "start_time": "2022-11-11T11:50:00.213Z"
   },
   {
    "duration": 88,
    "start_time": "2022-11-11T11:50:00.267Z"
   },
   {
    "duration": 51,
    "start_time": "2022-11-11T11:50:00.356Z"
   },
   {
    "duration": 105,
    "start_time": "2022-11-11T11:50:00.409Z"
   },
   {
    "duration": 43,
    "start_time": "2022-11-11T11:50:00.517Z"
   },
   {
    "duration": 44,
    "start_time": "2022-11-11T11:50:00.563Z"
   },
   {
    "duration": 43,
    "start_time": "2022-11-11T11:50:00.609Z"
   },
   {
    "duration": 16,
    "start_time": "2022-11-11T11:50:00.654Z"
   },
   {
    "duration": 63,
    "start_time": "2022-11-11T11:50:00.672Z"
   },
   {
    "duration": 5,
    "start_time": "2022-11-11T11:50:00.737Z"
   },
   {
    "duration": 24,
    "start_time": "2022-11-11T11:50:00.744Z"
   },
   {
    "duration": 26,
    "start_time": "2022-11-11T11:50:00.771Z"
   },
   {
    "duration": 44,
    "start_time": "2022-11-11T11:50:00.802Z"
   },
   {
    "duration": 14,
    "start_time": "2022-11-11T11:50:00.849Z"
   },
   {
    "duration": 26,
    "start_time": "2022-11-11T11:50:00.865Z"
   },
   {
    "duration": 29,
    "start_time": "2022-11-11T11:50:00.894Z"
   },
   {
    "duration": 25,
    "start_time": "2022-11-11T11:50:00.935Z"
   },
   {
    "duration": 35,
    "start_time": "2022-11-11T11:50:00.961Z"
   },
   {
    "duration": 475,
    "start_time": "2022-11-11T11:50:00.997Z"
   },
   {
    "duration": 292,
    "start_time": "2022-11-11T11:50:01.474Z"
   },
   {
    "duration": 393,
    "start_time": "2022-11-11T11:50:01.769Z"
   },
   {
    "duration": 597,
    "start_time": "2022-11-11T11:50:02.164Z"
   },
   {
    "duration": 91,
    "start_time": "2022-11-11T11:50:02.765Z"
   },
   {
    "duration": 198,
    "start_time": "2022-11-11T11:50:02.858Z"
   },
   {
    "duration": 19,
    "start_time": "2022-11-11T11:50:03.058Z"
   },
   {
    "duration": 5043,
    "start_time": "2022-11-11T11:50:03.079Z"
   },
   {
    "duration": 372,
    "start_time": "2022-11-11T11:50:08.126Z"
   },
   {
    "duration": 178,
    "start_time": "2022-11-11T11:50:08.499Z"
   },
   {
    "duration": 205,
    "start_time": "2022-11-11T11:50:08.678Z"
   },
   {
    "duration": 312,
    "start_time": "2022-11-11T11:50:08.884Z"
   },
   {
    "duration": 196,
    "start_time": "2022-11-11T11:50:09.198Z"
   },
   {
    "duration": 15,
    "start_time": "2022-11-11T11:50:09.396Z"
   },
   {
    "duration": 19,
    "start_time": "2022-11-11T11:50:09.419Z"
   },
   {
    "duration": 35,
    "start_time": "2022-11-11T11:50:09.439Z"
   },
   {
    "duration": 11,
    "start_time": "2022-11-11T11:50:09.476Z"
   },
   {
    "duration": 16,
    "start_time": "2022-11-11T11:50:09.489Z"
   },
   {
    "duration": 101,
    "start_time": "2022-11-11T11:50:09.506Z"
   },
   {
    "duration": 726,
    "start_time": "2022-11-11T11:50:09.610Z"
   },
   {
    "duration": 11,
    "start_time": "2022-11-11T11:50:10.338Z"
   },
   {
    "duration": 7,
    "start_time": "2022-11-11T11:50:10.350Z"
   },
   {
    "duration": 11,
    "start_time": "2022-11-11T11:50:10.358Z"
   },
   {
    "duration": 14,
    "start_time": "2022-11-11T11:50:10.370Z"
   },
   {
    "duration": 10,
    "start_time": "2022-11-11T11:50:10.386Z"
   },
   {
    "duration": 11,
    "start_time": "2022-11-11T11:50:10.397Z"
   },
   {
    "duration": 35,
    "start_time": "2022-11-11T11:50:10.409Z"
   },
   {
    "duration": 39,
    "start_time": "2022-11-11T11:50:10.445Z"
   },
   {
    "duration": 6,
    "start_time": "2022-11-11T11:50:10.485Z"
   },
   {
    "duration": 26106,
    "start_time": "2022-11-11T11:50:10.493Z"
   },
   {
    "duration": 21,
    "start_time": "2022-11-11T11:50:36.601Z"
   },
   {
    "duration": 30,
    "start_time": "2022-11-11T11:50:36.624Z"
   },
   {
    "duration": 21,
    "start_time": "2022-11-11T11:50:36.656Z"
   },
   {
    "duration": 17,
    "start_time": "2022-11-11T11:50:36.680Z"
   },
   {
    "duration": 89,
    "start_time": "2022-11-11T11:50:36.699Z"
   },
   {
    "duration": 23,
    "start_time": "2022-11-11T11:50:36.790Z"
   },
   {
    "duration": 24,
    "start_time": "2022-11-11T11:50:36.819Z"
   },
   {
    "duration": 156,
    "start_time": "2022-11-11T11:50:36.849Z"
   },
   {
    "duration": 0,
    "start_time": "2022-11-11T11:50:37.007Z"
   },
   {
    "duration": 0,
    "start_time": "2022-11-11T11:50:37.008Z"
   },
   {
    "duration": 0,
    "start_time": "2022-11-11T11:50:37.026Z"
   },
   {
    "duration": 0,
    "start_time": "2022-11-11T11:50:37.026Z"
   },
   {
    "duration": 0,
    "start_time": "2022-11-11T11:50:37.033Z"
   },
   {
    "duration": 0,
    "start_time": "2022-11-11T11:50:37.034Z"
   },
   {
    "duration": 11,
    "start_time": "2022-11-11T11:54:02.145Z"
   },
   {
    "duration": 5,
    "start_time": "2022-11-11T11:54:03.586Z"
   },
   {
    "duration": 16,
    "start_time": "2022-11-11T11:54:06.507Z"
   },
   {
    "duration": 6,
    "start_time": "2022-11-11T11:54:08.925Z"
   },
   {
    "duration": 24,
    "start_time": "2022-11-11T12:07:18.306Z"
   },
   {
    "duration": 25,
    "start_time": "2022-11-11T12:07:53.548Z"
   },
   {
    "duration": 15,
    "start_time": "2022-11-11T12:08:10.984Z"
   },
   {
    "duration": 888,
    "start_time": "2022-11-11T12:12:08.204Z"
   },
   {
    "duration": 6,
    "start_time": "2022-11-11T12:12:23.587Z"
   },
   {
    "duration": 5,
    "start_time": "2022-11-11T12:13:14.464Z"
   },
   {
    "duration": 5,
    "start_time": "2022-11-11T12:13:32.747Z"
   },
   {
    "duration": 6,
    "start_time": "2022-11-11T12:13:42.466Z"
   },
   {
    "duration": 6,
    "start_time": "2022-11-11T12:14:05.086Z"
   },
   {
    "duration": 5,
    "start_time": "2022-11-11T12:17:20.136Z"
   },
   {
    "duration": 24,
    "start_time": "2022-11-11T14:46:38.536Z"
   },
   {
    "duration": 28,
    "start_time": "2022-11-11T14:46:40.790Z"
   },
   {
    "duration": 23,
    "start_time": "2022-11-11T14:47:04.231Z"
   },
   {
    "duration": 15,
    "start_time": "2022-11-11T14:47:05.184Z"
   },
   {
    "duration": 20,
    "start_time": "2022-11-11T14:47:35.569Z"
   },
   {
    "duration": 19,
    "start_time": "2022-11-11T14:47:36.590Z"
   },
   {
    "duration": 20,
    "start_time": "2022-11-11T14:47:42.531Z"
   },
   {
    "duration": 16,
    "start_time": "2022-11-11T14:47:43.683Z"
   },
   {
    "duration": 21,
    "start_time": "2022-11-11T15:00:59.411Z"
   },
   {
    "duration": 17,
    "start_time": "2022-11-11T15:01:00.081Z"
   },
   {
    "duration": 20,
    "start_time": "2022-11-11T15:01:06.953Z"
   },
   {
    "duration": 16,
    "start_time": "2022-11-11T15:01:07.526Z"
   },
   {
    "duration": 1460,
    "start_time": "2022-11-11T15:57:43.637Z"
   },
   {
    "duration": 183,
    "start_time": "2022-11-11T15:57:45.099Z"
   },
   {
    "duration": 15,
    "start_time": "2022-11-11T15:57:45.284Z"
   },
   {
    "duration": 17,
    "start_time": "2022-11-11T15:57:45.301Z"
   },
   {
    "duration": 27,
    "start_time": "2022-11-11T15:57:45.320Z"
   },
   {
    "duration": 13,
    "start_time": "2022-11-11T15:57:45.348Z"
   },
   {
    "duration": 11,
    "start_time": "2022-11-11T15:57:45.363Z"
   },
   {
    "duration": 23,
    "start_time": "2022-11-11T15:57:45.375Z"
   },
   {
    "duration": 21,
    "start_time": "2022-11-11T15:57:45.400Z"
   },
   {
    "duration": 13,
    "start_time": "2022-11-11T15:57:45.423Z"
   },
   {
    "duration": 17,
    "start_time": "2022-11-11T15:57:45.438Z"
   },
   {
    "duration": 11,
    "start_time": "2022-11-11T15:57:45.457Z"
   },
   {
    "duration": 17,
    "start_time": "2022-11-11T15:57:45.471Z"
   },
   {
    "duration": 67,
    "start_time": "2022-11-11T15:57:45.493Z"
   },
   {
    "duration": 5,
    "start_time": "2022-11-11T15:57:45.562Z"
   },
   {
    "duration": 6,
    "start_time": "2022-11-11T15:57:45.569Z"
   },
   {
    "duration": 23,
    "start_time": "2022-11-11T15:57:45.577Z"
   },
   {
    "duration": 27,
    "start_time": "2022-11-11T15:57:45.602Z"
   },
   {
    "duration": 8,
    "start_time": "2022-11-11T15:57:45.631Z"
   },
   {
    "duration": 20,
    "start_time": "2022-11-11T15:57:45.640Z"
   },
   {
    "duration": 14,
    "start_time": "2022-11-11T15:57:45.662Z"
   },
   {
    "duration": 5,
    "start_time": "2022-11-11T15:57:45.677Z"
   },
   {
    "duration": 15,
    "start_time": "2022-11-11T15:57:45.683Z"
   },
   {
    "duration": 23,
    "start_time": "2022-11-11T15:57:45.700Z"
   },
   {
    "duration": 345,
    "start_time": "2022-11-11T15:57:45.725Z"
   },
   {
    "duration": 235,
    "start_time": "2022-11-11T15:57:46.071Z"
   },
   {
    "duration": 396,
    "start_time": "2022-11-11T15:57:46.308Z"
   },
   {
    "duration": 582,
    "start_time": "2022-11-11T15:57:46.706Z"
   },
   {
    "duration": 76,
    "start_time": "2022-11-11T15:57:47.290Z"
   },
   {
    "duration": 196,
    "start_time": "2022-11-11T15:57:47.368Z"
   },
   {
    "duration": 21,
    "start_time": "2022-11-11T15:57:47.566Z"
   },
   {
    "duration": 4715,
    "start_time": "2022-11-11T15:57:47.588Z"
   },
   {
    "duration": 350,
    "start_time": "2022-11-11T15:57:52.305Z"
   },
   {
    "duration": 164,
    "start_time": "2022-11-11T15:57:52.657Z"
   },
   {
    "duration": 213,
    "start_time": "2022-11-11T15:57:52.823Z"
   },
   {
    "duration": 294,
    "start_time": "2022-11-11T15:57:53.038Z"
   },
   {
    "duration": 218,
    "start_time": "2022-11-11T15:57:53.334Z"
   },
   {
    "duration": 17,
    "start_time": "2022-11-11T15:57:53.555Z"
   },
   {
    "duration": 15,
    "start_time": "2022-11-11T15:57:53.574Z"
   },
   {
    "duration": 41,
    "start_time": "2022-11-11T15:57:53.591Z"
   },
   {
    "duration": 14,
    "start_time": "2022-11-11T15:57:53.638Z"
   },
   {
    "duration": 13,
    "start_time": "2022-11-11T15:57:53.654Z"
   },
   {
    "duration": 52,
    "start_time": "2022-11-11T15:57:53.669Z"
   },
   {
    "duration": 589,
    "start_time": "2022-11-11T15:57:53.723Z"
   },
   {
    "duration": 10,
    "start_time": "2022-11-11T15:57:54.318Z"
   },
   {
    "duration": 6,
    "start_time": "2022-11-11T15:57:54.330Z"
   },
   {
    "duration": 8,
    "start_time": "2022-11-11T15:57:54.337Z"
   },
   {
    "duration": 12,
    "start_time": "2022-11-11T15:57:54.346Z"
   },
   {
    "duration": 4,
    "start_time": "2022-11-11T15:57:54.360Z"
   },
   {
    "duration": 16,
    "start_time": "2022-11-11T15:57:54.365Z"
   },
   {
    "duration": 196,
    "start_time": "2022-11-11T15:57:54.382Z"
   },
   {
    "duration": 5,
    "start_time": "2022-11-11T15:57:54.580Z"
   },
   {
    "duration": 26667,
    "start_time": "2022-11-11T15:57:54.587Z"
   },
   {
    "duration": 10,
    "start_time": "2022-11-11T15:58:21.257Z"
   },
   {
    "duration": 22,
    "start_time": "2022-11-11T15:58:21.268Z"
   },
   {
    "duration": 22,
    "start_time": "2022-11-11T15:58:21.291Z"
   },
   {
    "duration": 5,
    "start_time": "2022-11-11T15:58:21.315Z"
   },
   {
    "duration": 85,
    "start_time": "2022-11-11T15:58:21.322Z"
   },
   {
    "duration": 27,
    "start_time": "2022-11-11T15:58:21.409Z"
   },
   {
    "duration": 15,
    "start_time": "2022-11-11T15:58:21.438Z"
   },
   {
    "duration": 15,
    "start_time": "2022-11-11T15:58:21.455Z"
   },
   {
    "duration": 5,
    "start_time": "2022-11-11T15:58:21.472Z"
   },
   {
    "duration": 42,
    "start_time": "2022-11-11T15:58:21.478Z"
   },
   {
    "duration": 7,
    "start_time": "2022-11-11T15:58:21.523Z"
   },
   {
    "duration": 5,
    "start_time": "2022-11-11T16:02:51.489Z"
   },
   {
    "duration": 54,
    "start_time": "2022-11-11T16:04:15.105Z"
   },
   {
    "duration": 1505,
    "start_time": "2022-11-11T22:59:53.572Z"
   },
   {
    "duration": 183,
    "start_time": "2022-11-11T22:59:55.079Z"
   },
   {
    "duration": 11,
    "start_time": "2022-11-11T22:59:55.263Z"
   },
   {
    "duration": 9,
    "start_time": "2022-11-11T22:59:55.275Z"
   },
   {
    "duration": 10,
    "start_time": "2022-11-11T22:59:55.287Z"
   },
   {
    "duration": 32,
    "start_time": "2022-11-11T22:59:55.298Z"
   },
   {
    "duration": 8,
    "start_time": "2022-11-11T22:59:55.332Z"
   },
   {
    "duration": 22,
    "start_time": "2022-11-11T22:59:55.341Z"
   },
   {
    "duration": 12,
    "start_time": "2022-11-11T22:59:55.364Z"
   },
   {
    "duration": 8,
    "start_time": "2022-11-11T22:59:55.378Z"
   },
   {
    "duration": 7,
    "start_time": "2022-11-11T22:59:55.388Z"
   },
   {
    "duration": 10,
    "start_time": "2022-11-11T22:59:55.396Z"
   },
   {
    "duration": 23,
    "start_time": "2022-11-11T22:59:55.407Z"
   },
   {
    "duration": 24,
    "start_time": "2022-11-11T22:59:55.432Z"
   },
   {
    "duration": 4,
    "start_time": "2022-11-11T22:59:55.457Z"
   },
   {
    "duration": 12,
    "start_time": "2022-11-11T22:59:55.463Z"
   },
   {
    "duration": 6,
    "start_time": "2022-11-11T22:59:55.476Z"
   },
   {
    "duration": 8,
    "start_time": "2022-11-11T22:59:55.483Z"
   },
   {
    "duration": 4,
    "start_time": "2022-11-11T22:59:55.492Z"
   },
   {
    "duration": 32,
    "start_time": "2022-11-11T22:59:55.498Z"
   },
   {
    "duration": 12,
    "start_time": "2022-11-11T22:59:55.532Z"
   },
   {
    "duration": 11,
    "start_time": "2022-11-11T22:59:55.545Z"
   },
   {
    "duration": 13,
    "start_time": "2022-11-11T22:59:55.557Z"
   },
   {
    "duration": 4,
    "start_time": "2022-11-11T22:59:55.571Z"
   },
   {
    "duration": 301,
    "start_time": "2022-11-11T22:59:55.577Z"
   },
   {
    "duration": 196,
    "start_time": "2022-11-11T22:59:55.879Z"
   },
   {
    "duration": 288,
    "start_time": "2022-11-11T22:59:56.077Z"
   },
   {
    "duration": 475,
    "start_time": "2022-11-11T22:59:56.367Z"
   },
   {
    "duration": 59,
    "start_time": "2022-11-11T22:59:56.844Z"
   },
   {
    "duration": 160,
    "start_time": "2022-11-11T22:59:56.904Z"
   },
   {
    "duration": 18,
    "start_time": "2022-11-11T22:59:57.066Z"
   },
   {
    "duration": 4101,
    "start_time": "2022-11-11T22:59:57.086Z"
   },
   {
    "duration": 313,
    "start_time": "2022-11-11T23:00:01.188Z"
   },
   {
    "duration": 160,
    "start_time": "2022-11-11T23:00:01.503Z"
   },
   {
    "duration": 179,
    "start_time": "2022-11-11T23:00:01.664Z"
   },
   {
    "duration": 278,
    "start_time": "2022-11-11T23:00:01.845Z"
   },
   {
    "duration": 172,
    "start_time": "2022-11-11T23:00:02.129Z"
   },
   {
    "duration": 14,
    "start_time": "2022-11-11T23:00:02.303Z"
   },
   {
    "duration": 53,
    "start_time": "2022-11-11T23:00:02.330Z"
   },
   {
    "duration": 29,
    "start_time": "2022-11-11T23:00:02.384Z"
   },
   {
    "duration": 22,
    "start_time": "2022-11-11T23:00:02.417Z"
   },
   {
    "duration": 16,
    "start_time": "2022-11-11T23:00:02.440Z"
   },
   {
    "duration": 50,
    "start_time": "2022-11-11T23:00:02.458Z"
   },
   {
    "duration": 557,
    "start_time": "2022-11-11T23:00:02.510Z"
   },
   {
    "duration": 5,
    "start_time": "2022-11-11T23:00:03.069Z"
   },
   {
    "duration": 15,
    "start_time": "2022-11-11T23:00:03.076Z"
   },
   {
    "duration": 17,
    "start_time": "2022-11-11T23:00:03.093Z"
   },
   {
    "duration": 13,
    "start_time": "2022-11-11T23:00:03.112Z"
   },
   {
    "duration": 21,
    "start_time": "2022-11-11T23:00:03.127Z"
   },
   {
    "duration": 167,
    "start_time": "2022-11-11T23:00:03.150Z"
   },
   {
    "duration": 11,
    "start_time": "2022-11-11T23:00:03.319Z"
   },
   {
    "duration": 23105,
    "start_time": "2022-11-11T23:00:03.332Z"
   },
   {
    "duration": 9,
    "start_time": "2022-11-11T23:00:26.438Z"
   },
   {
    "duration": 8,
    "start_time": "2022-11-11T23:00:26.448Z"
   },
   {
    "duration": 8,
    "start_time": "2022-11-11T23:00:26.458Z"
   },
   {
    "duration": 5,
    "start_time": "2022-11-11T23:00:26.467Z"
   },
   {
    "duration": 92,
    "start_time": "2022-11-11T23:00:26.473Z"
   },
   {
    "duration": 18,
    "start_time": "2022-11-11T23:00:26.566Z"
   },
   {
    "duration": 12,
    "start_time": "2022-11-11T23:00:26.585Z"
   },
   {
    "duration": 16,
    "start_time": "2022-11-11T23:00:26.598Z"
   },
   {
    "duration": 6,
    "start_time": "2022-11-11T23:00:26.630Z"
   },
   {
    "duration": 21,
    "start_time": "2022-11-11T23:00:26.638Z"
   },
   {
    "duration": 10,
    "start_time": "2022-11-11T23:00:26.661Z"
   },
   {
    "duration": 2649,
    "start_time": "2022-11-12T20:16:21.984Z"
   },
   {
    "duration": 253,
    "start_time": "2022-11-12T20:16:24.636Z"
   },
   {
    "duration": 24,
    "start_time": "2022-11-12T20:16:24.892Z"
   },
   {
    "duration": 32,
    "start_time": "2022-11-12T20:16:24.919Z"
   },
   {
    "duration": 16,
    "start_time": "2022-11-12T20:16:24.953Z"
   },
   {
    "duration": 52,
    "start_time": "2022-11-12T20:16:24.971Z"
   },
   {
    "duration": 12,
    "start_time": "2022-11-12T20:16:25.025Z"
   },
   {
    "duration": 18,
    "start_time": "2022-11-12T20:16:25.039Z"
   },
   {
    "duration": 54,
    "start_time": "2022-11-12T20:16:25.059Z"
   },
   {
    "duration": 13,
    "start_time": "2022-11-12T20:16:25.116Z"
   },
   {
    "duration": 11,
    "start_time": "2022-11-12T20:16:25.132Z"
   },
   {
    "duration": 89,
    "start_time": "2022-11-12T20:16:25.145Z"
   },
   {
    "duration": 10,
    "start_time": "2022-11-12T20:16:25.236Z"
   },
   {
    "duration": 81,
    "start_time": "2022-11-12T20:16:25.250Z"
   },
   {
    "duration": 5,
    "start_time": "2022-11-12T20:16:25.333Z"
   },
   {
    "duration": 73,
    "start_time": "2022-11-12T20:16:25.340Z"
   },
   {
    "duration": 30,
    "start_time": "2022-11-12T20:16:25.415Z"
   },
   {
    "duration": 58,
    "start_time": "2022-11-12T20:16:25.447Z"
   },
   {
    "duration": 24,
    "start_time": "2022-11-12T20:16:25.507Z"
   },
   {
    "duration": 82,
    "start_time": "2022-11-12T20:16:25.534Z"
   },
   {
    "duration": 50,
    "start_time": "2022-11-12T20:16:25.618Z"
   },
   {
    "duration": 57,
    "start_time": "2022-11-12T20:16:25.674Z"
   },
   {
    "duration": 84,
    "start_time": "2022-11-12T20:16:25.733Z"
   },
   {
    "duration": 32,
    "start_time": "2022-11-12T20:16:25.819Z"
   },
   {
    "duration": 554,
    "start_time": "2022-11-12T20:16:25.853Z"
   },
   {
    "duration": 361,
    "start_time": "2022-11-12T20:16:26.410Z"
   },
   {
    "duration": 441,
    "start_time": "2022-11-12T20:16:26.773Z"
   },
   {
    "duration": 785,
    "start_time": "2022-11-12T20:16:27.218Z"
   },
   {
    "duration": 98,
    "start_time": "2022-11-12T20:16:28.006Z"
   },
   {
    "duration": 294,
    "start_time": "2022-11-12T20:16:28.106Z"
   },
   {
    "duration": 23,
    "start_time": "2022-11-12T20:16:28.402Z"
   },
   {
    "duration": 6234,
    "start_time": "2022-11-12T20:16:28.427Z"
   },
   {
    "duration": 465,
    "start_time": "2022-11-12T20:16:34.663Z"
   },
   {
    "duration": 257,
    "start_time": "2022-11-12T20:16:35.130Z"
   },
   {
    "duration": 220,
    "start_time": "2022-11-12T20:16:35.398Z"
   },
   {
    "duration": 406,
    "start_time": "2022-11-12T20:16:35.619Z"
   },
   {
    "duration": 284,
    "start_time": "2022-11-12T20:16:36.028Z"
   },
   {
    "duration": 16,
    "start_time": "2022-11-12T20:16:36.314Z"
   },
   {
    "duration": 44,
    "start_time": "2022-11-12T20:16:36.332Z"
   },
   {
    "duration": 30,
    "start_time": "2022-11-12T20:16:36.384Z"
   },
   {
    "duration": 14,
    "start_time": "2022-11-12T20:16:36.417Z"
   },
   {
    "duration": 31,
    "start_time": "2022-11-12T20:16:36.433Z"
   },
   {
    "duration": 30,
    "start_time": "2022-11-12T20:16:36.466Z"
   },
   {
    "duration": 960,
    "start_time": "2022-11-12T20:16:36.499Z"
   },
   {
    "duration": 12,
    "start_time": "2022-11-12T20:16:37.462Z"
   },
   {
    "duration": 21,
    "start_time": "2022-11-12T20:16:37.481Z"
   },
   {
    "duration": 9,
    "start_time": "2022-11-12T20:16:37.505Z"
   },
   {
    "duration": 7,
    "start_time": "2022-11-12T20:16:37.517Z"
   },
   {
    "duration": 18,
    "start_time": "2022-11-12T20:16:37.525Z"
   },
   {
    "duration": 60,
    "start_time": "2022-11-12T20:16:37.545Z"
   },
   {
    "duration": 6,
    "start_time": "2022-11-12T20:16:37.607Z"
   },
   {
    "duration": 36309,
    "start_time": "2022-11-12T20:16:37.615Z"
   },
   {
    "duration": 11,
    "start_time": "2022-11-12T20:17:13.926Z"
   },
   {
    "duration": 20,
    "start_time": "2022-11-12T20:17:13.939Z"
   },
   {
    "duration": 44,
    "start_time": "2022-11-12T20:17:13.964Z"
   },
   {
    "duration": 5,
    "start_time": "2022-11-12T20:17:14.010Z"
   },
   {
    "duration": 5,
    "start_time": "2022-11-12T20:17:21.768Z"
   },
   {
    "duration": 117,
    "start_time": "2022-11-12T20:17:23.793Z"
   },
   {
    "duration": 30,
    "start_time": "2022-11-12T20:17:34.896Z"
   },
   {
    "duration": 27,
    "start_time": "2022-11-12T20:39:25.622Z"
   },
   {
    "duration": 11,
    "start_time": "2022-11-12T20:39:43.371Z"
   },
   {
    "duration": 1628,
    "start_time": "2022-11-12T23:18:36.626Z"
   },
   {
    "duration": 466,
    "start_time": "2022-11-12T23:18:38.256Z"
   },
   {
    "duration": 13,
    "start_time": "2022-11-12T23:18:38.724Z"
   },
   {
    "duration": 13,
    "start_time": "2022-11-12T23:18:38.740Z"
   },
   {
    "duration": 16,
    "start_time": "2022-11-12T23:18:38.754Z"
   },
   {
    "duration": 12,
    "start_time": "2022-11-12T23:18:38.773Z"
   },
   {
    "duration": 35,
    "start_time": "2022-11-12T23:18:38.786Z"
   },
   {
    "duration": 10,
    "start_time": "2022-11-12T23:18:38.823Z"
   },
   {
    "duration": 16,
    "start_time": "2022-11-12T23:18:38.834Z"
   },
   {
    "duration": 10,
    "start_time": "2022-11-12T23:18:38.852Z"
   },
   {
    "duration": 9,
    "start_time": "2022-11-12T23:18:38.864Z"
   },
   {
    "duration": 18,
    "start_time": "2022-11-12T23:18:38.874Z"
   },
   {
    "duration": 30,
    "start_time": "2022-11-12T23:18:38.893Z"
   },
   {
    "duration": 35,
    "start_time": "2022-11-12T23:18:38.925Z"
   },
   {
    "duration": 4,
    "start_time": "2022-11-12T23:18:38.962Z"
   },
   {
    "duration": 19,
    "start_time": "2022-11-12T23:18:38.968Z"
   },
   {
    "duration": 13,
    "start_time": "2022-11-12T23:18:38.988Z"
   },
   {
    "duration": 8,
    "start_time": "2022-11-12T23:18:39.003Z"
   },
   {
    "duration": 10,
    "start_time": "2022-11-12T23:18:39.013Z"
   },
   {
    "duration": 22,
    "start_time": "2022-11-12T23:18:39.025Z"
   },
   {
    "duration": 16,
    "start_time": "2022-11-12T23:18:39.049Z"
   },
   {
    "duration": 13,
    "start_time": "2022-11-12T23:18:39.067Z"
   },
   {
    "duration": 14,
    "start_time": "2022-11-12T23:18:39.082Z"
   },
   {
    "duration": 17,
    "start_time": "2022-11-12T23:18:39.098Z"
   },
   {
    "duration": 338,
    "start_time": "2022-11-12T23:18:39.116Z"
   },
   {
    "duration": 225,
    "start_time": "2022-11-12T23:18:39.455Z"
   },
   {
    "duration": 302,
    "start_time": "2022-11-12T23:18:39.681Z"
   },
   {
    "duration": 558,
    "start_time": "2022-11-12T23:18:39.987Z"
   },
   {
    "duration": 63,
    "start_time": "2022-11-12T23:18:40.547Z"
   },
   {
    "duration": 185,
    "start_time": "2022-11-12T23:18:40.620Z"
   },
   {
    "duration": 28,
    "start_time": "2022-11-12T23:18:40.808Z"
   },
   {
    "duration": 4473,
    "start_time": "2022-11-12T23:18:40.838Z"
   },
   {
    "duration": 347,
    "start_time": "2022-11-12T23:18:45.313Z"
   },
   {
    "duration": 168,
    "start_time": "2022-11-12T23:18:45.662Z"
   },
   {
    "duration": 178,
    "start_time": "2022-11-12T23:18:45.832Z"
   },
   {
    "duration": 306,
    "start_time": "2022-11-12T23:18:46.013Z"
   },
   {
    "duration": 217,
    "start_time": "2022-11-12T23:18:46.321Z"
   },
   {
    "duration": 15,
    "start_time": "2022-11-12T23:18:46.540Z"
   },
   {
    "duration": 16,
    "start_time": "2022-11-12T23:18:46.556Z"
   },
   {
    "duration": 31,
    "start_time": "2022-11-12T23:18:46.574Z"
   },
   {
    "duration": 20,
    "start_time": "2022-11-12T23:18:46.607Z"
   },
   {
    "duration": 12,
    "start_time": "2022-11-12T23:18:46.628Z"
   },
   {
    "duration": 15,
    "start_time": "2022-11-12T23:18:46.642Z"
   },
   {
    "duration": 734,
    "start_time": "2022-11-12T23:18:46.659Z"
   },
   {
    "duration": 6,
    "start_time": "2022-11-12T23:18:47.395Z"
   },
   {
    "duration": 26,
    "start_time": "2022-11-12T23:18:47.403Z"
   },
   {
    "duration": 11,
    "start_time": "2022-11-12T23:18:47.431Z"
   },
   {
    "duration": 10,
    "start_time": "2022-11-12T23:18:47.444Z"
   },
   {
    "duration": 25,
    "start_time": "2022-11-12T23:18:47.455Z"
   },
   {
    "duration": 33,
    "start_time": "2022-11-12T23:18:47.482Z"
   },
   {
    "duration": 6,
    "start_time": "2022-11-12T23:18:47.516Z"
   },
   {
    "duration": 24956,
    "start_time": "2022-11-12T23:18:47.523Z"
   },
   {
    "duration": 9,
    "start_time": "2022-11-12T23:19:12.481Z"
   },
   {
    "duration": 12,
    "start_time": "2022-11-12T23:19:12.491Z"
   },
   {
    "duration": 24,
    "start_time": "2022-11-12T23:19:12.504Z"
   },
   {
    "duration": 6,
    "start_time": "2022-11-12T23:19:12.530Z"
   },
   {
    "duration": 81,
    "start_time": "2022-11-12T23:19:12.538Z"
   },
   {
    "duration": 19,
    "start_time": "2022-11-12T23:19:12.621Z"
   },
   {
    "duration": 14,
    "start_time": "2022-11-12T23:19:12.642Z"
   },
   {
    "duration": 17,
    "start_time": "2022-11-12T23:19:12.658Z"
   },
   {
    "duration": 5,
    "start_time": "2022-11-12T23:19:12.676Z"
   },
   {
    "duration": 42,
    "start_time": "2022-11-12T23:19:12.683Z"
   },
   {
    "duration": 6,
    "start_time": "2022-11-12T23:19:12.727Z"
   },
   {
    "duration": 15,
    "start_time": "2022-11-12T23:19:35.991Z"
   },
   {
    "duration": 23,
    "start_time": "2022-11-12T23:21:02.141Z"
   },
   {
    "duration": 11,
    "start_time": "2022-11-12T23:21:47.267Z"
   },
   {
    "duration": 11,
    "start_time": "2022-11-12T23:22:07.017Z"
   },
   {
    "duration": 862,
    "start_time": "2022-11-12T23:22:15.959Z"
   },
   {
    "duration": 20,
    "start_time": "2022-11-12T23:22:27.767Z"
   },
   {
    "duration": 80,
    "start_time": "2022-11-12T23:22:40.294Z"
   },
   {
    "duration": 21,
    "start_time": "2022-11-12T23:22:43.051Z"
   },
   {
    "duration": 15,
    "start_time": "2022-11-12T23:23:03.196Z"
   },
   {
    "duration": 23,
    "start_time": "2022-11-12T23:23:07.845Z"
   },
   {
    "duration": 19,
    "start_time": "2022-11-12T23:23:14.433Z"
   },
   {
    "duration": 8,
    "start_time": "2022-11-12T23:23:39.495Z"
   },
   {
    "duration": 80,
    "start_time": "2022-11-12T23:23:41.734Z"
   },
   {
    "duration": 16,
    "start_time": "2022-11-12T23:23:43.697Z"
   },
   {
    "duration": 12,
    "start_time": "2022-11-12T23:24:28.174Z"
   },
   {
    "duration": 14,
    "start_time": "2022-11-12T23:24:30.897Z"
   },
   {
    "duration": 5,
    "start_time": "2022-11-12T23:24:42.997Z"
   },
   {
    "duration": 3,
    "start_time": "2022-11-12T23:24:52.278Z"
   },
   {
    "duration": 1378,
    "start_time": "2022-11-12T23:25:23.722Z"
   },
   {
    "duration": 73,
    "start_time": "2022-11-12T23:25:25.102Z"
   },
   {
    "duration": 12,
    "start_time": "2022-11-12T23:25:25.177Z"
   },
   {
    "duration": 10,
    "start_time": "2022-11-12T23:25:25.191Z"
   },
   {
    "duration": 12,
    "start_time": "2022-11-12T23:25:25.203Z"
   },
   {
    "duration": 15,
    "start_time": "2022-11-12T23:25:25.216Z"
   },
   {
    "duration": 9,
    "start_time": "2022-11-12T23:25:25.233Z"
   },
   {
    "duration": 23,
    "start_time": "2022-11-12T23:25:25.244Z"
   },
   {
    "duration": 13,
    "start_time": "2022-11-12T23:25:25.268Z"
   },
   {
    "duration": 16,
    "start_time": "2022-11-12T23:25:25.284Z"
   },
   {
    "duration": 18,
    "start_time": "2022-11-12T23:25:25.302Z"
   },
   {
    "duration": 19,
    "start_time": "2022-11-12T23:25:25.321Z"
   },
   {
    "duration": 11,
    "start_time": "2022-11-12T23:25:25.341Z"
   },
   {
    "duration": 38,
    "start_time": "2022-11-12T23:25:25.354Z"
   },
   {
    "duration": 5,
    "start_time": "2022-11-12T23:25:25.394Z"
   },
   {
    "duration": 11,
    "start_time": "2022-11-12T23:25:25.400Z"
   },
   {
    "duration": 20,
    "start_time": "2022-11-12T23:25:25.412Z"
   },
   {
    "duration": 16,
    "start_time": "2022-11-12T23:25:25.434Z"
   },
   {
    "duration": 8,
    "start_time": "2022-11-12T23:25:25.452Z"
   },
   {
    "duration": 31,
    "start_time": "2022-11-12T23:25:25.462Z"
   },
   {
    "duration": 32,
    "start_time": "2022-11-12T23:25:25.495Z"
   },
   {
    "duration": 13,
    "start_time": "2022-11-12T23:25:25.528Z"
   },
   {
    "duration": 8,
    "start_time": "2022-11-12T23:25:25.543Z"
   },
   {
    "duration": 8,
    "start_time": "2022-11-12T23:25:25.552Z"
   },
   {
    "duration": 330,
    "start_time": "2022-11-12T23:25:25.562Z"
   },
   {
    "duration": 217,
    "start_time": "2022-11-12T23:25:25.893Z"
   },
   {
    "duration": 339,
    "start_time": "2022-11-12T23:25:26.112Z"
   },
   {
    "duration": 531,
    "start_time": "2022-11-12T23:25:26.454Z"
   },
   {
    "duration": 68,
    "start_time": "2022-11-12T23:25:26.987Z"
   },
   {
    "duration": 174,
    "start_time": "2022-11-12T23:25:27.057Z"
   },
   {
    "duration": 19,
    "start_time": "2022-11-12T23:25:27.233Z"
   },
   {
    "duration": 4253,
    "start_time": "2022-11-12T23:25:27.254Z"
   },
   {
    "duration": 313,
    "start_time": "2022-11-12T23:25:31.508Z"
   },
   {
    "duration": 155,
    "start_time": "2022-11-12T23:25:31.823Z"
   },
   {
    "duration": 160,
    "start_time": "2022-11-12T23:25:31.980Z"
   },
   {
    "duration": 281,
    "start_time": "2022-11-12T23:25:32.142Z"
   },
   {
    "duration": 184,
    "start_time": "2022-11-12T23:25:32.424Z"
   },
   {
    "duration": 20,
    "start_time": "2022-11-12T23:25:32.610Z"
   },
   {
    "duration": 16,
    "start_time": "2022-11-12T23:25:32.632Z"
   },
   {
    "duration": 15,
    "start_time": "2022-11-12T23:25:32.650Z"
   },
   {
    "duration": 75,
    "start_time": "2022-11-12T23:25:32.667Z"
   },
   {
    "duration": 18,
    "start_time": "2022-11-12T23:25:32.744Z"
   },
   {
    "duration": 32,
    "start_time": "2022-11-12T23:25:32.764Z"
   },
   {
    "duration": 665,
    "start_time": "2022-11-12T23:25:32.798Z"
   },
   {
    "duration": 7,
    "start_time": "2022-11-12T23:25:33.465Z"
   },
   {
    "duration": 13,
    "start_time": "2022-11-12T23:25:33.473Z"
   },
   {
    "duration": 15,
    "start_time": "2022-11-12T23:25:33.488Z"
   },
   {
    "duration": 15,
    "start_time": "2022-11-12T23:25:33.504Z"
   },
   {
    "duration": 18,
    "start_time": "2022-11-12T23:25:33.520Z"
   },
   {
    "duration": 31,
    "start_time": "2022-11-12T23:25:33.540Z"
   },
   {
    "duration": 6,
    "start_time": "2022-11-12T23:25:33.573Z"
   },
   {
    "duration": 23873,
    "start_time": "2022-11-12T23:25:33.581Z"
   },
   {
    "duration": 9,
    "start_time": "2022-11-12T23:25:57.455Z"
   },
   {
    "duration": 12,
    "start_time": "2022-11-12T23:25:57.465Z"
   },
   {
    "duration": 12,
    "start_time": "2022-11-12T23:25:57.478Z"
   },
   {
    "duration": 3,
    "start_time": "2022-11-12T23:25:57.492Z"
   },
   {
    "duration": 23,
    "start_time": "2022-11-12T23:25:57.496Z"
   },
   {
    "duration": 77,
    "start_time": "2022-11-12T23:25:57.521Z"
   },
   {
    "duration": 24,
    "start_time": "2022-11-12T23:25:57.600Z"
   },
   {
    "duration": 10,
    "start_time": "2022-11-12T23:25:57.625Z"
   },
   {
    "duration": 13,
    "start_time": "2022-11-12T23:25:57.637Z"
   },
   {
    "duration": 5,
    "start_time": "2022-11-12T23:25:57.651Z"
   },
   {
    "duration": 17,
    "start_time": "2022-11-12T23:25:57.658Z"
   },
   {
    "duration": 24,
    "start_time": "2022-11-12T23:25:57.676Z"
   },
   {
    "duration": 20,
    "start_time": "2022-11-12T23:26:07.524Z"
   },
   {
    "duration": 9,
    "start_time": "2022-11-12T23:26:10.870Z"
   },
   {
    "duration": 5,
    "start_time": "2022-11-12T23:26:11.197Z"
   },
   {
    "duration": 12,
    "start_time": "2022-11-12T23:26:12.059Z"
   },
   {
    "duration": 5,
    "start_time": "2022-11-12T23:26:12.425Z"
   },
   {
    "duration": 15,
    "start_time": "2022-11-12T23:26:35.619Z"
   },
   {
    "duration": 11,
    "start_time": "2022-11-12T23:26:52.293Z"
   },
   {
    "duration": 12,
    "start_time": "2022-11-12T23:26:54.099Z"
   },
   {
    "duration": 76,
    "start_time": "2022-11-12T23:27:04.452Z"
   },
   {
    "duration": 13,
    "start_time": "2022-11-12T23:27:07.849Z"
   },
   {
    "duration": 10,
    "start_time": "2022-11-12T23:27:47.925Z"
   },
   {
    "duration": 14,
    "start_time": "2022-11-12T23:27:49.188Z"
   },
   {
    "duration": 76,
    "start_time": "2022-11-12T23:27:53.164Z"
   },
   {
    "duration": 13,
    "start_time": "2022-11-12T23:27:55.956Z"
   },
   {
    "duration": 16,
    "start_time": "2022-11-12T23:28:01.453Z"
   },
   {
    "duration": 15,
    "start_time": "2022-11-12T23:28:13.236Z"
   },
   {
    "duration": 1367,
    "start_time": "2022-11-12T23:30:04.265Z"
   },
   {
    "duration": 86,
    "start_time": "2022-11-12T23:30:05.634Z"
   },
   {
    "duration": 13,
    "start_time": "2022-11-12T23:30:05.721Z"
   },
   {
    "duration": 19,
    "start_time": "2022-11-12T23:30:05.736Z"
   },
   {
    "duration": 30,
    "start_time": "2022-11-12T23:30:05.758Z"
   },
   {
    "duration": 20,
    "start_time": "2022-11-12T23:30:05.790Z"
   },
   {
    "duration": 30,
    "start_time": "2022-11-12T23:30:05.812Z"
   },
   {
    "duration": 29,
    "start_time": "2022-11-12T23:30:05.843Z"
   },
   {
    "duration": 23,
    "start_time": "2022-11-12T23:30:05.873Z"
   },
   {
    "duration": 19,
    "start_time": "2022-11-12T23:30:05.898Z"
   },
   {
    "duration": 9,
    "start_time": "2022-11-12T23:30:05.919Z"
   },
   {
    "duration": 17,
    "start_time": "2022-11-12T23:30:05.930Z"
   },
   {
    "duration": 16,
    "start_time": "2022-11-12T23:30:05.948Z"
   },
   {
    "duration": 27,
    "start_time": "2022-11-12T23:30:05.967Z"
   },
   {
    "duration": 13,
    "start_time": "2022-11-12T23:30:05.995Z"
   },
   {
    "duration": 12,
    "start_time": "2022-11-12T23:30:06.010Z"
   },
   {
    "duration": 10,
    "start_time": "2022-11-12T23:30:06.024Z"
   },
   {
    "duration": 13,
    "start_time": "2022-11-12T23:30:06.036Z"
   },
   {
    "duration": 12,
    "start_time": "2022-11-12T23:30:06.051Z"
   },
   {
    "duration": 24,
    "start_time": "2022-11-12T23:30:06.064Z"
   },
   {
    "duration": 34,
    "start_time": "2022-11-12T23:30:06.090Z"
   },
   {
    "duration": 20,
    "start_time": "2022-11-12T23:30:06.126Z"
   },
   {
    "duration": 18,
    "start_time": "2022-11-12T23:30:06.148Z"
   },
   {
    "duration": 28,
    "start_time": "2022-11-12T23:30:06.168Z"
   },
   {
    "duration": 367,
    "start_time": "2022-11-12T23:30:06.198Z"
   },
   {
    "duration": 221,
    "start_time": "2022-11-12T23:30:06.566Z"
   },
   {
    "duration": 295,
    "start_time": "2022-11-12T23:30:06.789Z"
   },
   {
    "duration": 507,
    "start_time": "2022-11-12T23:30:07.086Z"
   },
   {
    "duration": 76,
    "start_time": "2022-11-12T23:30:07.595Z"
   },
   {
    "duration": 174,
    "start_time": "2022-11-12T23:30:07.673Z"
   },
   {
    "duration": 19,
    "start_time": "2022-11-12T23:30:07.848Z"
   },
   {
    "duration": 4370,
    "start_time": "2022-11-12T23:30:07.869Z"
   },
   {
    "duration": 314,
    "start_time": "2022-11-12T23:30:12.241Z"
   },
   {
    "duration": 162,
    "start_time": "2022-11-12T23:30:12.557Z"
   },
   {
    "duration": 169,
    "start_time": "2022-11-12T23:30:12.721Z"
   },
   {
    "duration": 288,
    "start_time": "2022-11-12T23:30:12.892Z"
   },
   {
    "duration": 180,
    "start_time": "2022-11-12T23:30:13.182Z"
   },
   {
    "duration": 15,
    "start_time": "2022-11-12T23:30:13.363Z"
   },
   {
    "duration": 16,
    "start_time": "2022-11-12T23:30:13.379Z"
   },
   {
    "duration": 33,
    "start_time": "2022-11-12T23:30:13.397Z"
   },
   {
    "duration": 24,
    "start_time": "2022-11-12T23:30:13.434Z"
   },
   {
    "duration": 40,
    "start_time": "2022-11-12T23:30:13.460Z"
   },
   {
    "duration": 30,
    "start_time": "2022-11-12T23:30:13.502Z"
   },
   {
    "duration": 531,
    "start_time": "2022-11-12T23:30:13.533Z"
   },
   {
    "duration": 5,
    "start_time": "2022-11-12T23:30:14.066Z"
   },
   {
    "duration": 12,
    "start_time": "2022-11-12T23:30:14.072Z"
   },
   {
    "duration": 17,
    "start_time": "2022-11-12T23:30:14.085Z"
   },
   {
    "duration": 10,
    "start_time": "2022-11-12T23:30:14.103Z"
   },
   {
    "duration": 21,
    "start_time": "2022-11-12T23:30:14.115Z"
   },
   {
    "duration": 162,
    "start_time": "2022-11-12T23:30:14.138Z"
   },
   {
    "duration": 5,
    "start_time": "2022-11-12T23:30:14.302Z"
   },
   {
    "duration": 24173,
    "start_time": "2022-11-12T23:30:14.308Z"
   },
   {
    "duration": 9,
    "start_time": "2022-11-12T23:30:38.483Z"
   },
   {
    "duration": 49,
    "start_time": "2022-11-12T23:30:38.494Z"
   },
   {
    "duration": 49,
    "start_time": "2022-11-12T23:30:38.545Z"
   },
   {
    "duration": 17,
    "start_time": "2022-11-12T23:30:38.596Z"
   },
   {
    "duration": 14,
    "start_time": "2022-11-12T23:30:53.638Z"
   },
   {
    "duration": 9,
    "start_time": "2022-11-12T23:31:02.277Z"
   },
   {
    "duration": 13,
    "start_time": "2022-11-12T23:31:05.296Z"
   },
   {
    "duration": 115,
    "start_time": "2022-11-12T23:31:25.533Z"
   },
   {
    "duration": 1359,
    "start_time": "2022-11-12T23:31:37.972Z"
   },
   {
    "duration": 82,
    "start_time": "2022-11-12T23:31:39.332Z"
   },
   {
    "duration": 13,
    "start_time": "2022-11-12T23:31:39.416Z"
   },
   {
    "duration": 15,
    "start_time": "2022-11-12T23:31:39.431Z"
   },
   {
    "duration": 11,
    "start_time": "2022-11-12T23:31:39.448Z"
   },
   {
    "duration": 13,
    "start_time": "2022-11-12T23:31:39.461Z"
   },
   {
    "duration": 11,
    "start_time": "2022-11-12T23:31:39.476Z"
   },
   {
    "duration": 37,
    "start_time": "2022-11-12T23:31:39.489Z"
   },
   {
    "duration": 20,
    "start_time": "2022-11-12T23:31:39.528Z"
   },
   {
    "duration": 11,
    "start_time": "2022-11-12T23:31:39.552Z"
   },
   {
    "duration": 10,
    "start_time": "2022-11-12T23:31:39.565Z"
   },
   {
    "duration": 24,
    "start_time": "2022-11-12T23:31:39.576Z"
   },
   {
    "duration": 19,
    "start_time": "2022-11-12T23:31:39.601Z"
   },
   {
    "duration": 33,
    "start_time": "2022-11-12T23:31:39.622Z"
   },
   {
    "duration": 6,
    "start_time": "2022-11-12T23:31:39.656Z"
   },
   {
    "duration": 13,
    "start_time": "2022-11-12T23:31:39.664Z"
   },
   {
    "duration": 10,
    "start_time": "2022-11-12T23:31:39.679Z"
   },
   {
    "duration": 9,
    "start_time": "2022-11-12T23:31:39.691Z"
   },
   {
    "duration": 6,
    "start_time": "2022-11-12T23:31:39.702Z"
   },
   {
    "duration": 18,
    "start_time": "2022-11-12T23:31:39.710Z"
   },
   {
    "duration": 12,
    "start_time": "2022-11-12T23:31:39.730Z"
   },
   {
    "duration": 13,
    "start_time": "2022-11-12T23:31:39.743Z"
   },
   {
    "duration": 10,
    "start_time": "2022-11-12T23:31:39.757Z"
   },
   {
    "duration": 14,
    "start_time": "2022-11-12T23:31:39.768Z"
   },
   {
    "duration": 342,
    "start_time": "2022-11-12T23:31:39.783Z"
   },
   {
    "duration": 213,
    "start_time": "2022-11-12T23:31:40.126Z"
   },
   {
    "duration": 302,
    "start_time": "2022-11-12T23:31:40.341Z"
   },
   {
    "duration": 520,
    "start_time": "2022-11-12T23:31:40.647Z"
   },
   {
    "duration": 73,
    "start_time": "2022-11-12T23:31:41.169Z"
   },
   {
    "duration": 179,
    "start_time": "2022-11-12T23:31:41.244Z"
   },
   {
    "duration": 20,
    "start_time": "2022-11-12T23:31:41.424Z"
   },
   {
    "duration": 4366,
    "start_time": "2022-11-12T23:31:41.445Z"
   },
   {
    "duration": 319,
    "start_time": "2022-11-12T23:31:45.813Z"
   },
   {
    "duration": 164,
    "start_time": "2022-11-12T23:31:46.133Z"
   },
   {
    "duration": 191,
    "start_time": "2022-11-12T23:31:46.299Z"
   },
   {
    "duration": 281,
    "start_time": "2022-11-12T23:31:46.492Z"
   },
   {
    "duration": 173,
    "start_time": "2022-11-12T23:31:46.775Z"
   },
   {
    "duration": 13,
    "start_time": "2022-11-12T23:31:46.950Z"
   },
   {
    "duration": 46,
    "start_time": "2022-11-12T23:31:46.965Z"
   },
   {
    "duration": 56,
    "start_time": "2022-11-12T23:31:47.012Z"
   },
   {
    "duration": 76,
    "start_time": "2022-11-12T23:31:47.070Z"
   },
   {
    "duration": 73,
    "start_time": "2022-11-12T23:31:47.147Z"
   },
   {
    "duration": 127,
    "start_time": "2022-11-12T23:31:47.222Z"
   },
   {
    "duration": 709,
    "start_time": "2022-11-12T23:31:47.351Z"
   },
   {
    "duration": 6,
    "start_time": "2022-11-12T23:31:48.063Z"
   },
   {
    "duration": 23,
    "start_time": "2022-11-12T23:31:48.071Z"
   },
   {
    "duration": 29,
    "start_time": "2022-11-12T23:31:48.096Z"
   },
   {
    "duration": 11,
    "start_time": "2022-11-12T23:31:48.127Z"
   },
   {
    "duration": 28,
    "start_time": "2022-11-12T23:31:48.140Z"
   },
   {
    "duration": 34,
    "start_time": "2022-11-12T23:31:48.169Z"
   },
   {
    "duration": 6,
    "start_time": "2022-11-12T23:31:48.204Z"
   },
   {
    "duration": 23620,
    "start_time": "2022-11-12T23:31:48.212Z"
   },
   {
    "duration": 8,
    "start_time": "2022-11-12T23:32:11.834Z"
   },
   {
    "duration": 17,
    "start_time": "2022-11-12T23:32:11.844Z"
   },
   {
    "duration": 16,
    "start_time": "2022-11-12T23:32:11.862Z"
   },
   {
    "duration": 4,
    "start_time": "2022-11-12T23:32:11.879Z"
   },
   {
    "duration": 15,
    "start_time": "2022-11-12T23:32:11.885Z"
   },
   {
    "duration": 28,
    "start_time": "2022-11-12T23:32:11.902Z"
   },
   {
    "duration": 78,
    "start_time": "2022-11-12T23:32:11.931Z"
   },
   {
    "duration": 20,
    "start_time": "2022-11-12T23:32:12.010Z"
   },
   {
    "duration": 14,
    "start_time": "2022-11-12T23:32:12.031Z"
   },
   {
    "duration": 13,
    "start_time": "2022-11-12T23:32:12.046Z"
   },
   {
    "duration": 11,
    "start_time": "2022-11-12T23:32:12.061Z"
   },
   {
    "duration": 18,
    "start_time": "2022-11-12T23:32:12.073Z"
   },
   {
    "duration": 30,
    "start_time": "2022-11-12T23:32:12.093Z"
   },
   {
    "duration": 1364,
    "start_time": "2022-11-12T23:33:34.252Z"
   },
   {
    "duration": 87,
    "start_time": "2022-11-12T23:33:35.618Z"
   },
   {
    "duration": 14,
    "start_time": "2022-11-12T23:33:35.706Z"
   },
   {
    "duration": 12,
    "start_time": "2022-11-12T23:33:35.721Z"
   },
   {
    "duration": 16,
    "start_time": "2022-11-12T23:33:35.736Z"
   },
   {
    "duration": 11,
    "start_time": "2022-11-12T23:33:35.754Z"
   },
   {
    "duration": 9,
    "start_time": "2022-11-12T23:33:35.767Z"
   },
   {
    "duration": 8,
    "start_time": "2022-11-12T23:33:35.778Z"
   },
   {
    "duration": 37,
    "start_time": "2022-11-12T23:33:35.788Z"
   },
   {
    "duration": 24,
    "start_time": "2022-11-12T23:33:35.828Z"
   },
   {
    "duration": 14,
    "start_time": "2022-11-12T23:33:35.854Z"
   },
   {
    "duration": 14,
    "start_time": "2022-11-12T23:33:35.870Z"
   },
   {
    "duration": 27,
    "start_time": "2022-11-12T23:33:35.886Z"
   },
   {
    "duration": 43,
    "start_time": "2022-11-12T23:33:35.916Z"
   },
   {
    "duration": 6,
    "start_time": "2022-11-12T23:33:35.961Z"
   },
   {
    "duration": 20,
    "start_time": "2022-11-12T23:33:35.968Z"
   },
   {
    "duration": 17,
    "start_time": "2022-11-12T23:33:35.990Z"
   },
   {
    "duration": 13,
    "start_time": "2022-11-12T23:33:36.010Z"
   },
   {
    "duration": 25,
    "start_time": "2022-11-12T23:33:36.025Z"
   },
   {
    "duration": 22,
    "start_time": "2022-11-12T23:33:36.052Z"
   },
   {
    "duration": 14,
    "start_time": "2022-11-12T23:33:36.076Z"
   },
   {
    "duration": 23,
    "start_time": "2022-11-12T23:33:36.092Z"
   },
   {
    "duration": 10,
    "start_time": "2022-11-12T23:33:36.117Z"
   },
   {
    "duration": 14,
    "start_time": "2022-11-12T23:33:36.129Z"
   },
   {
    "duration": 366,
    "start_time": "2022-11-12T23:33:36.145Z"
   },
   {
    "duration": 221,
    "start_time": "2022-11-12T23:33:36.513Z"
   },
   {
    "duration": 306,
    "start_time": "2022-11-12T23:33:36.736Z"
   },
   {
    "duration": 515,
    "start_time": "2022-11-12T23:33:37.044Z"
   },
   {
    "duration": 67,
    "start_time": "2022-11-12T23:33:37.561Z"
   },
   {
    "duration": 179,
    "start_time": "2022-11-12T23:33:37.630Z"
   },
   {
    "duration": 24,
    "start_time": "2022-11-12T23:33:37.810Z"
   },
   {
    "duration": 4351,
    "start_time": "2022-11-12T23:33:37.836Z"
   },
   {
    "duration": 330,
    "start_time": "2022-11-12T23:33:42.189Z"
   },
   {
    "duration": 160,
    "start_time": "2022-11-12T23:33:42.521Z"
   },
   {
    "duration": 183,
    "start_time": "2022-11-12T23:33:42.683Z"
   },
   {
    "duration": 286,
    "start_time": "2022-11-12T23:33:42.868Z"
   },
   {
    "duration": 186,
    "start_time": "2022-11-12T23:33:43.156Z"
   },
   {
    "duration": 15,
    "start_time": "2022-11-12T23:33:43.343Z"
   },
   {
    "duration": 23,
    "start_time": "2022-11-12T23:33:43.360Z"
   },
   {
    "duration": 13,
    "start_time": "2022-11-12T23:33:43.384Z"
   },
   {
    "duration": 30,
    "start_time": "2022-11-12T23:33:43.401Z"
   },
   {
    "duration": 15,
    "start_time": "2022-11-12T23:33:43.434Z"
   },
   {
    "duration": 29,
    "start_time": "2022-11-12T23:33:43.450Z"
   },
   {
    "duration": 558,
    "start_time": "2022-11-12T23:33:43.481Z"
   },
   {
    "duration": 6,
    "start_time": "2022-11-12T23:33:44.041Z"
   },
   {
    "duration": 29,
    "start_time": "2022-11-12T23:33:44.048Z"
   },
   {
    "duration": 16,
    "start_time": "2022-11-12T23:33:44.078Z"
   },
   {
    "duration": 11,
    "start_time": "2022-11-12T23:33:44.096Z"
   },
   {
    "duration": 26,
    "start_time": "2022-11-12T23:33:44.109Z"
   },
   {
    "duration": 167,
    "start_time": "2022-11-12T23:33:44.137Z"
   },
   {
    "duration": 5,
    "start_time": "2022-11-12T23:33:44.306Z"
   },
   {
    "duration": 24365,
    "start_time": "2022-11-12T23:33:44.312Z"
   },
   {
    "duration": 10,
    "start_time": "2022-11-12T23:34:08.678Z"
   },
   {
    "duration": 9,
    "start_time": "2022-11-12T23:34:08.689Z"
   },
   {
    "duration": 20,
    "start_time": "2022-11-12T23:34:08.700Z"
   },
   {
    "duration": 13,
    "start_time": "2022-11-12T23:34:08.722Z"
   },
   {
    "duration": 23,
    "start_time": "2022-11-12T23:34:08.736Z"
   },
   {
    "duration": 29,
    "start_time": "2022-11-12T23:34:08.760Z"
   },
   {
    "duration": 89,
    "start_time": "2022-11-12T23:34:08.791Z"
   },
   {
    "duration": 14,
    "start_time": "2022-11-12T23:34:08.882Z"
   },
   {
    "duration": 22,
    "start_time": "2022-11-12T23:34:08.897Z"
   },
   {
    "duration": 9,
    "start_time": "2022-11-12T23:34:08.921Z"
   },
   {
    "duration": 6,
    "start_time": "2022-11-12T23:34:08.932Z"
   },
   {
    "duration": 19,
    "start_time": "2022-11-12T23:34:08.939Z"
   },
   {
    "duration": 20,
    "start_time": "2022-11-12T23:34:08.959Z"
   },
   {
    "duration": 5,
    "start_time": "2022-11-12T23:34:53.358Z"
   },
   {
    "duration": 6,
    "start_time": "2022-11-12T23:35:17.545Z"
   },
   {
    "duration": 6,
    "start_time": "2022-11-12T23:36:45.459Z"
   },
   {
    "duration": 13,
    "start_time": "2022-11-12T23:36:57.347Z"
   },
   {
    "duration": 1337,
    "start_time": "2022-11-12T23:37:21.079Z"
   },
   {
    "duration": 114,
    "start_time": "2022-11-12T23:37:22.419Z"
   },
   {
    "duration": 13,
    "start_time": "2022-11-12T23:37:22.535Z"
   },
   {
    "duration": 38,
    "start_time": "2022-11-12T23:37:22.550Z"
   },
   {
    "duration": 34,
    "start_time": "2022-11-12T23:37:22.590Z"
   },
   {
    "duration": 32,
    "start_time": "2022-11-12T23:37:22.626Z"
   },
   {
    "duration": 9,
    "start_time": "2022-11-12T23:37:22.660Z"
   },
   {
    "duration": 26,
    "start_time": "2022-11-12T23:37:22.671Z"
   },
   {
    "duration": 38,
    "start_time": "2022-11-12T23:37:22.698Z"
   },
   {
    "duration": 68,
    "start_time": "2022-11-12T23:37:22.738Z"
   },
   {
    "duration": 26,
    "start_time": "2022-11-12T23:37:22.808Z"
   },
   {
    "duration": 60,
    "start_time": "2022-11-12T23:37:22.835Z"
   },
   {
    "duration": 52,
    "start_time": "2022-11-12T23:37:22.897Z"
   },
   {
    "duration": 50,
    "start_time": "2022-11-12T23:37:22.950Z"
   },
   {
    "duration": 30,
    "start_time": "2022-11-12T23:37:23.002Z"
   },
   {
    "duration": 41,
    "start_time": "2022-11-12T23:37:23.034Z"
   },
   {
    "duration": 58,
    "start_time": "2022-11-12T23:37:23.077Z"
   },
   {
    "duration": 42,
    "start_time": "2022-11-12T23:37:23.137Z"
   },
   {
    "duration": 13,
    "start_time": "2022-11-12T23:37:23.181Z"
   },
   {
    "duration": 23,
    "start_time": "2022-11-12T23:37:23.196Z"
   },
   {
    "duration": 30,
    "start_time": "2022-11-12T23:37:23.220Z"
   },
   {
    "duration": 55,
    "start_time": "2022-11-12T23:37:23.252Z"
   },
   {
    "duration": 20,
    "start_time": "2022-11-12T23:37:23.308Z"
   },
   {
    "duration": 40,
    "start_time": "2022-11-12T23:37:23.330Z"
   },
   {
    "duration": 360,
    "start_time": "2022-11-12T23:37:23.372Z"
   },
   {
    "duration": 226,
    "start_time": "2022-11-12T23:37:23.734Z"
   },
   {
    "duration": 290,
    "start_time": "2022-11-12T23:37:23.962Z"
   },
   {
    "duration": 515,
    "start_time": "2022-11-12T23:37:24.256Z"
   },
   {
    "duration": 77,
    "start_time": "2022-11-12T23:37:24.773Z"
   },
   {
    "duration": 183,
    "start_time": "2022-11-12T23:37:24.852Z"
   },
   {
    "duration": 18,
    "start_time": "2022-11-12T23:37:25.037Z"
   },
   {
    "duration": 4371,
    "start_time": "2022-11-12T23:37:25.056Z"
   },
   {
    "duration": 329,
    "start_time": "2022-11-12T23:37:29.428Z"
   },
   {
    "duration": 155,
    "start_time": "2022-11-12T23:37:29.759Z"
   },
   {
    "duration": 175,
    "start_time": "2022-11-12T23:37:29.920Z"
   },
   {
    "duration": 292,
    "start_time": "2022-11-12T23:37:30.098Z"
   },
   {
    "duration": 186,
    "start_time": "2022-11-12T23:37:30.392Z"
   },
   {
    "duration": 16,
    "start_time": "2022-11-12T23:37:30.581Z"
   },
   {
    "duration": 30,
    "start_time": "2022-11-12T23:37:30.599Z"
   },
   {
    "duration": 15,
    "start_time": "2022-11-12T23:37:30.632Z"
   },
   {
    "duration": 22,
    "start_time": "2022-11-12T23:37:30.649Z"
   },
   {
    "duration": 25,
    "start_time": "2022-11-12T23:37:30.674Z"
   },
   {
    "duration": 49,
    "start_time": "2022-11-12T23:37:30.701Z"
   },
   {
    "duration": 697,
    "start_time": "2022-11-12T23:37:30.752Z"
   },
   {
    "duration": 7,
    "start_time": "2022-11-12T23:37:31.451Z"
   },
   {
    "duration": 29,
    "start_time": "2022-11-12T23:37:31.459Z"
   },
   {
    "duration": 15,
    "start_time": "2022-11-12T23:37:31.490Z"
   },
   {
    "duration": 10,
    "start_time": "2022-11-12T23:37:31.507Z"
   },
   {
    "duration": 24,
    "start_time": "2022-11-12T23:37:31.518Z"
   },
   {
    "duration": 36,
    "start_time": "2022-11-12T23:37:31.544Z"
   },
   {
    "duration": 5,
    "start_time": "2022-11-12T23:37:31.582Z"
   },
   {
    "duration": 24227,
    "start_time": "2022-11-12T23:37:31.588Z"
   },
   {
    "duration": 9,
    "start_time": "2022-11-12T23:37:55.817Z"
   },
   {
    "duration": 22,
    "start_time": "2022-11-12T23:37:55.828Z"
   },
   {
    "duration": 19,
    "start_time": "2022-11-12T23:37:55.852Z"
   },
   {
    "duration": 4,
    "start_time": "2022-11-12T23:37:55.872Z"
   },
   {
    "duration": 18,
    "start_time": "2022-11-12T23:37:55.877Z"
   },
   {
    "duration": 13,
    "start_time": "2022-11-12T23:37:55.896Z"
   },
   {
    "duration": 81,
    "start_time": "2022-11-12T23:37:55.911Z"
   },
   {
    "duration": 15,
    "start_time": "2022-11-12T23:37:55.993Z"
   },
   {
    "duration": 15,
    "start_time": "2022-11-12T23:37:56.020Z"
   },
   {
    "duration": 18,
    "start_time": "2022-11-12T23:37:56.037Z"
   },
   {
    "duration": 4,
    "start_time": "2022-11-12T23:37:56.057Z"
   },
   {
    "duration": 16,
    "start_time": "2022-11-12T23:37:56.063Z"
   },
   {
    "duration": 15,
    "start_time": "2022-11-12T23:37:56.081Z"
   },
   {
    "duration": 1345,
    "start_time": "2022-11-12T23:49:57.051Z"
   },
   {
    "duration": 77,
    "start_time": "2022-11-12T23:49:58.398Z"
   },
   {
    "duration": 13,
    "start_time": "2022-11-12T23:49:58.476Z"
   },
   {
    "duration": 14,
    "start_time": "2022-11-12T23:49:58.490Z"
   },
   {
    "duration": 12,
    "start_time": "2022-11-12T23:49:58.506Z"
   },
   {
    "duration": 13,
    "start_time": "2022-11-12T23:49:58.520Z"
   },
   {
    "duration": 14,
    "start_time": "2022-11-12T23:49:58.534Z"
   },
   {
    "duration": 11,
    "start_time": "2022-11-12T23:49:58.550Z"
   },
   {
    "duration": 15,
    "start_time": "2022-11-12T23:49:58.563Z"
   },
   {
    "duration": 11,
    "start_time": "2022-11-12T23:49:58.580Z"
   },
   {
    "duration": 28,
    "start_time": "2022-11-12T23:49:58.592Z"
   },
   {
    "duration": 9,
    "start_time": "2022-11-12T23:49:58.622Z"
   },
   {
    "duration": 11,
    "start_time": "2022-11-12T23:49:58.633Z"
   },
   {
    "duration": 26,
    "start_time": "2022-11-12T23:49:58.647Z"
   },
   {
    "duration": 4,
    "start_time": "2022-11-12T23:49:58.675Z"
   },
   {
    "duration": 12,
    "start_time": "2022-11-12T23:49:58.681Z"
   },
   {
    "duration": 28,
    "start_time": "2022-11-12T23:49:58.694Z"
   },
   {
    "duration": 5,
    "start_time": "2022-11-12T23:49:58.724Z"
   },
   {
    "duration": 7,
    "start_time": "2022-11-12T23:49:58.731Z"
   },
   {
    "duration": 15,
    "start_time": "2022-11-12T23:49:58.739Z"
   },
   {
    "duration": 13,
    "start_time": "2022-11-12T23:49:58.756Z"
   },
   {
    "duration": 13,
    "start_time": "2022-11-12T23:49:58.771Z"
   },
   {
    "duration": 39,
    "start_time": "2022-11-12T23:49:58.785Z"
   },
   {
    "duration": 6,
    "start_time": "2022-11-12T23:49:58.825Z"
   },
   {
    "duration": 334,
    "start_time": "2022-11-12T23:49:58.833Z"
   },
   {
    "duration": 217,
    "start_time": "2022-11-12T23:49:59.168Z"
   },
   {
    "duration": 296,
    "start_time": "2022-11-12T23:49:59.387Z"
   },
   {
    "duration": 508,
    "start_time": "2022-11-12T23:49:59.684Z"
   },
   {
    "duration": 66,
    "start_time": "2022-11-12T23:50:00.193Z"
   },
   {
    "duration": 177,
    "start_time": "2022-11-12T23:50:00.261Z"
   },
   {
    "duration": 20,
    "start_time": "2022-11-12T23:50:00.440Z"
   },
   {
    "duration": 4253,
    "start_time": "2022-11-12T23:50:00.462Z"
   },
   {
    "duration": 346,
    "start_time": "2022-11-12T23:50:04.717Z"
   },
   {
    "duration": 155,
    "start_time": "2022-11-12T23:50:05.064Z"
   },
   {
    "duration": 167,
    "start_time": "2022-11-12T23:50:05.221Z"
   },
   {
    "duration": 288,
    "start_time": "2022-11-12T23:50:05.389Z"
   },
   {
    "duration": 184,
    "start_time": "2022-11-12T23:50:05.678Z"
   },
   {
    "duration": 14,
    "start_time": "2022-11-12T23:50:05.863Z"
   },
   {
    "duration": 13,
    "start_time": "2022-11-12T23:50:05.879Z"
   },
   {
    "duration": 33,
    "start_time": "2022-11-12T23:50:05.894Z"
   },
   {
    "duration": 12,
    "start_time": "2022-11-12T23:50:05.932Z"
   },
   {
    "duration": 12,
    "start_time": "2022-11-12T23:50:05.946Z"
   },
   {
    "duration": 17,
    "start_time": "2022-11-12T23:50:05.960Z"
   },
   {
    "duration": 587,
    "start_time": "2022-11-12T23:50:05.978Z"
   },
   {
    "duration": 7,
    "start_time": "2022-11-12T23:50:06.566Z"
   },
   {
    "duration": 10,
    "start_time": "2022-11-12T23:50:06.574Z"
   },
   {
    "duration": 10,
    "start_time": "2022-11-12T23:50:06.586Z"
   },
   {
    "duration": 5,
    "start_time": "2022-11-12T23:50:06.597Z"
   },
   {
    "duration": 25,
    "start_time": "2022-11-12T23:50:06.603Z"
   },
   {
    "duration": 164,
    "start_time": "2022-11-12T23:50:06.629Z"
   },
   {
    "duration": 6,
    "start_time": "2022-11-12T23:50:06.794Z"
   },
   {
    "duration": 23966,
    "start_time": "2022-11-12T23:50:06.801Z"
   },
   {
    "duration": 9,
    "start_time": "2022-11-12T23:50:30.769Z"
   },
   {
    "duration": 26,
    "start_time": "2022-11-12T23:50:30.780Z"
   },
   {
    "duration": 35,
    "start_time": "2022-11-12T23:50:30.808Z"
   },
   {
    "duration": 12,
    "start_time": "2022-11-12T23:50:30.845Z"
   },
   {
    "duration": 32,
    "start_time": "2022-11-12T23:50:30.858Z"
   },
   {
    "duration": 17,
    "start_time": "2022-11-12T23:50:30.892Z"
   },
   {
    "duration": 84,
    "start_time": "2022-11-12T23:50:30.910Z"
   },
   {
    "duration": 15,
    "start_time": "2022-11-12T23:50:30.996Z"
   },
   {
    "duration": 51,
    "start_time": "2022-11-12T23:50:31.012Z"
   },
   {
    "duration": 45,
    "start_time": "2022-11-12T23:50:31.065Z"
   },
   {
    "duration": 16,
    "start_time": "2022-11-12T23:50:31.112Z"
   },
   {
    "duration": 29,
    "start_time": "2022-11-12T23:50:31.130Z"
   },
   {
    "duration": 19,
    "start_time": "2022-11-12T23:50:31.160Z"
   },
   {
    "duration": 6,
    "start_time": "2022-11-12T23:51:33.041Z"
   },
   {
    "duration": 5,
    "start_time": "2022-11-12T23:51:46.426Z"
   },
   {
    "duration": 1369,
    "start_time": "2022-11-12T23:55:03.929Z"
   },
   {
    "duration": 87,
    "start_time": "2022-11-12T23:55:05.300Z"
   },
   {
    "duration": 12,
    "start_time": "2022-11-12T23:55:05.388Z"
   },
   {
    "duration": 13,
    "start_time": "2022-11-12T23:55:05.402Z"
   },
   {
    "duration": 12,
    "start_time": "2022-11-12T23:55:05.416Z"
   },
   {
    "duration": 11,
    "start_time": "2022-11-12T23:55:05.429Z"
   },
   {
    "duration": 10,
    "start_time": "2022-11-12T23:55:05.442Z"
   },
   {
    "duration": 9,
    "start_time": "2022-11-12T23:55:05.453Z"
   },
   {
    "duration": 10,
    "start_time": "2022-11-12T23:55:05.464Z"
   },
   {
    "duration": 10,
    "start_time": "2022-11-12T23:55:05.476Z"
   },
   {
    "duration": 10,
    "start_time": "2022-11-12T23:55:05.519Z"
   },
   {
    "duration": 11,
    "start_time": "2022-11-12T23:55:05.530Z"
   },
   {
    "duration": 8,
    "start_time": "2022-11-12T23:55:05.542Z"
   },
   {
    "duration": 25,
    "start_time": "2022-11-12T23:55:05.552Z"
   },
   {
    "duration": 5,
    "start_time": "2022-11-12T23:55:05.578Z"
   },
   {
    "duration": 37,
    "start_time": "2022-11-12T23:55:05.584Z"
   },
   {
    "duration": 7,
    "start_time": "2022-11-12T23:55:05.623Z"
   },
   {
    "duration": 6,
    "start_time": "2022-11-12T23:55:05.632Z"
   },
   {
    "duration": 4,
    "start_time": "2022-11-12T23:55:05.639Z"
   },
   {
    "duration": 15,
    "start_time": "2022-11-12T23:55:05.645Z"
   },
   {
    "duration": 14,
    "start_time": "2022-11-12T23:55:05.662Z"
   },
   {
    "duration": 44,
    "start_time": "2022-11-12T23:55:05.678Z"
   },
   {
    "duration": 6,
    "start_time": "2022-11-12T23:55:05.723Z"
   },
   {
    "duration": 10,
    "start_time": "2022-11-12T23:55:05.731Z"
   },
   {
    "duration": 337,
    "start_time": "2022-11-12T23:55:05.743Z"
   },
   {
    "duration": 232,
    "start_time": "2022-11-12T23:55:06.082Z"
   },
   {
    "duration": 309,
    "start_time": "2022-11-12T23:55:06.316Z"
   },
   {
    "duration": 517,
    "start_time": "2022-11-12T23:55:06.628Z"
   },
   {
    "duration": 60,
    "start_time": "2022-11-12T23:55:07.146Z"
   },
   {
    "duration": 173,
    "start_time": "2022-11-12T23:55:07.208Z"
   },
   {
    "duration": 18,
    "start_time": "2022-11-12T23:55:07.382Z"
   },
   {
    "duration": 4293,
    "start_time": "2022-11-12T23:55:07.402Z"
   },
   {
    "duration": 332,
    "start_time": "2022-11-12T23:55:11.697Z"
   },
   {
    "duration": 162,
    "start_time": "2022-11-12T23:55:12.031Z"
   },
   {
    "duration": 159,
    "start_time": "2022-11-12T23:55:12.195Z"
   },
   {
    "duration": 277,
    "start_time": "2022-11-12T23:55:12.356Z"
   },
   {
    "duration": 182,
    "start_time": "2022-11-12T23:55:12.634Z"
   },
   {
    "duration": 14,
    "start_time": "2022-11-12T23:55:12.819Z"
   },
   {
    "duration": 12,
    "start_time": "2022-11-12T23:55:12.834Z"
   },
   {
    "duration": 11,
    "start_time": "2022-11-12T23:55:12.848Z"
   },
   {
    "duration": 17,
    "start_time": "2022-11-12T23:55:12.860Z"
   },
   {
    "duration": 10,
    "start_time": "2022-11-12T23:55:12.878Z"
   },
   {
    "duration": 42,
    "start_time": "2022-11-12T23:55:12.890Z"
   },
   {
    "duration": 659,
    "start_time": "2022-11-12T23:55:12.933Z"
   },
   {
    "duration": 6,
    "start_time": "2022-11-12T23:55:13.593Z"
   },
   {
    "duration": 10,
    "start_time": "2022-11-12T23:55:13.601Z"
   },
   {
    "duration": 11,
    "start_time": "2022-11-12T23:55:13.612Z"
   },
   {
    "duration": 5,
    "start_time": "2022-11-12T23:55:13.625Z"
   },
   {
    "duration": 13,
    "start_time": "2022-11-12T23:55:13.632Z"
   },
   {
    "duration": 30,
    "start_time": "2022-11-12T23:55:13.646Z"
   },
   {
    "duration": 5,
    "start_time": "2022-11-12T23:55:13.677Z"
   },
   {
    "duration": 23798,
    "start_time": "2022-11-12T23:55:13.684Z"
   },
   {
    "duration": 9,
    "start_time": "2022-11-12T23:55:37.484Z"
   },
   {
    "duration": 12,
    "start_time": "2022-11-12T23:55:37.495Z"
   },
   {
    "duration": 17,
    "start_time": "2022-11-12T23:55:37.509Z"
   },
   {
    "duration": 4,
    "start_time": "2022-11-12T23:55:37.527Z"
   },
   {
    "duration": 7,
    "start_time": "2022-11-12T23:55:37.532Z"
   },
   {
    "duration": 85,
    "start_time": "2022-11-12T23:55:37.540Z"
   },
   {
    "duration": 20,
    "start_time": "2022-11-12T23:55:37.627Z"
   },
   {
    "duration": 14,
    "start_time": "2022-11-12T23:55:37.648Z"
   },
   {
    "duration": 12,
    "start_time": "2022-11-12T23:55:37.664Z"
   },
   {
    "duration": 5,
    "start_time": "2022-11-12T23:55:37.677Z"
   },
   {
    "duration": 38,
    "start_time": "2022-11-12T23:55:37.684Z"
   },
   {
    "duration": 5,
    "start_time": "2022-11-12T23:55:37.724Z"
   },
   {
    "duration": 26,
    "start_time": "2022-11-12T23:56:13.598Z"
   },
   {
    "duration": 21,
    "start_time": "2022-11-12T23:56:22.838Z"
   },
   {
    "duration": 106,
    "start_time": "2022-11-12T23:56:28.846Z"
   },
   {
    "duration": 11,
    "start_time": "2022-11-12T23:56:51.385Z"
   },
   {
    "duration": 21,
    "start_time": "2022-11-12T23:56:57.633Z"
   },
   {
    "duration": 24,
    "start_time": "2022-11-12T23:57:18.534Z"
   },
   {
    "duration": 24,
    "start_time": "2022-11-12T23:57:35.563Z"
   },
   {
    "duration": 24,
    "start_time": "2022-11-12T23:57:40.792Z"
   },
   {
    "duration": 42,
    "start_time": "2022-11-12T23:58:26.370Z"
   },
   {
    "duration": 4,
    "start_time": "2022-11-12T23:58:36.865Z"
   },
   {
    "duration": 11,
    "start_time": "2022-11-12T23:58:59.886Z"
   },
   {
    "duration": 76,
    "start_time": "2022-11-12T23:59:03.445Z"
   },
   {
    "duration": 12,
    "start_time": "2022-11-12T23:59:03.895Z"
   },
   {
    "duration": 21,
    "start_time": "2022-11-12T23:59:10.987Z"
   },
   {
    "duration": 15,
    "start_time": "2022-11-12T23:59:12.404Z"
   },
   {
    "duration": 24,
    "start_time": "2022-11-13T00:00:07.149Z"
   },
   {
    "duration": 24,
    "start_time": "2022-11-13T00:00:15.709Z"
   },
   {
    "duration": 12,
    "start_time": "2022-11-13T00:01:48.436Z"
   },
   {
    "duration": 72,
    "start_time": "2022-11-13T00:01:49.228Z"
   },
   {
    "duration": 15,
    "start_time": "2022-11-13T00:01:50.129Z"
   },
   {
    "duration": 18,
    "start_time": "2022-11-13T00:01:51.282Z"
   },
   {
    "duration": 1392,
    "start_time": "2022-11-13T00:07:34.434Z"
   },
   {
    "duration": 88,
    "start_time": "2022-11-13T00:07:35.828Z"
   },
   {
    "duration": 11,
    "start_time": "2022-11-13T00:07:35.918Z"
   },
   {
    "duration": 13,
    "start_time": "2022-11-13T00:07:35.932Z"
   },
   {
    "duration": 49,
    "start_time": "2022-11-13T00:07:35.947Z"
   },
   {
    "duration": 12,
    "start_time": "2022-11-13T00:07:35.998Z"
   },
   {
    "duration": 26,
    "start_time": "2022-11-13T00:07:36.011Z"
   },
   {
    "duration": 18,
    "start_time": "2022-11-13T00:07:36.039Z"
   },
   {
    "duration": 23,
    "start_time": "2022-11-13T00:07:36.058Z"
   },
   {
    "duration": 10,
    "start_time": "2022-11-13T00:07:36.083Z"
   },
   {
    "duration": 17,
    "start_time": "2022-11-13T00:07:36.094Z"
   },
   {
    "duration": 14,
    "start_time": "2022-11-13T00:07:36.113Z"
   },
   {
    "duration": 10,
    "start_time": "2022-11-13T00:07:36.128Z"
   },
   {
    "duration": 27,
    "start_time": "2022-11-13T00:07:36.139Z"
   },
   {
    "duration": 4,
    "start_time": "2022-11-13T00:07:36.167Z"
   },
   {
    "duration": 12,
    "start_time": "2022-11-13T00:07:36.172Z"
   },
   {
    "duration": 14,
    "start_time": "2022-11-13T00:07:36.185Z"
   },
   {
    "duration": 18,
    "start_time": "2022-11-13T00:07:36.201Z"
   },
   {
    "duration": 4,
    "start_time": "2022-11-13T00:07:36.220Z"
   },
   {
    "duration": 29,
    "start_time": "2022-11-13T00:07:36.226Z"
   },
   {
    "duration": 31,
    "start_time": "2022-11-13T00:07:36.256Z"
   },
   {
    "duration": 21,
    "start_time": "2022-11-13T00:07:36.290Z"
   },
   {
    "duration": 39,
    "start_time": "2022-11-13T00:07:36.313Z"
   },
   {
    "duration": 15,
    "start_time": "2022-11-13T00:07:36.354Z"
   },
   {
    "duration": 353,
    "start_time": "2022-11-13T00:07:36.371Z"
   },
   {
    "duration": 215,
    "start_time": "2022-11-13T00:07:36.725Z"
   },
   {
    "duration": 284,
    "start_time": "2022-11-13T00:07:36.941Z"
   },
   {
    "duration": 509,
    "start_time": "2022-11-13T00:07:37.228Z"
   },
   {
    "duration": 60,
    "start_time": "2022-11-13T00:07:37.738Z"
   },
   {
    "duration": 197,
    "start_time": "2022-11-13T00:07:37.800Z"
   },
   {
    "duration": 29,
    "start_time": "2022-11-13T00:07:37.998Z"
   },
   {
    "duration": 4202,
    "start_time": "2022-11-13T00:07:38.029Z"
   },
   {
    "duration": 310,
    "start_time": "2022-11-13T00:07:42.232Z"
   },
   {
    "duration": 162,
    "start_time": "2022-11-13T00:07:42.544Z"
   },
   {
    "duration": 156,
    "start_time": "2022-11-13T00:07:42.708Z"
   },
   {
    "duration": 281,
    "start_time": "2022-11-13T00:07:42.866Z"
   },
   {
    "duration": 176,
    "start_time": "2022-11-13T00:07:43.149Z"
   },
   {
    "duration": 13,
    "start_time": "2022-11-13T00:07:43.327Z"
   },
   {
    "duration": 12,
    "start_time": "2022-11-13T00:07:43.342Z"
   },
   {
    "duration": 11,
    "start_time": "2022-11-13T00:07:43.355Z"
   },
   {
    "duration": 13,
    "start_time": "2022-11-13T00:07:43.367Z"
   },
   {
    "duration": 39,
    "start_time": "2022-11-13T00:07:43.381Z"
   },
   {
    "duration": 17,
    "start_time": "2022-11-13T00:07:43.421Z"
   },
   {
    "duration": 667,
    "start_time": "2022-11-13T00:07:43.439Z"
   },
   {
    "duration": 12,
    "start_time": "2022-11-13T00:07:44.108Z"
   },
   {
    "duration": 7,
    "start_time": "2022-11-13T00:07:44.121Z"
   },
   {
    "duration": 49,
    "start_time": "2022-11-13T00:07:44.129Z"
   },
   {
    "duration": 69,
    "start_time": "2022-11-13T00:07:44.179Z"
   },
   {
    "duration": 23,
    "start_time": "2022-11-13T00:07:44.250Z"
   },
   {
    "duration": 38,
    "start_time": "2022-11-13T00:07:44.275Z"
   },
   {
    "duration": 10,
    "start_time": "2022-11-13T00:07:44.314Z"
   },
   {
    "duration": 23798,
    "start_time": "2022-11-13T00:07:44.330Z"
   },
   {
    "duration": 10,
    "start_time": "2022-11-13T00:08:08.130Z"
   },
   {
    "duration": 8,
    "start_time": "2022-11-13T00:08:08.141Z"
   },
   {
    "duration": 15,
    "start_time": "2022-11-13T00:08:08.151Z"
   },
   {
    "duration": 6,
    "start_time": "2022-11-13T00:08:08.168Z"
   },
   {
    "duration": 44,
    "start_time": "2022-11-13T00:08:08.176Z"
   },
   {
    "duration": 70,
    "start_time": "2022-11-13T00:08:08.222Z"
   },
   {
    "duration": 32,
    "start_time": "2022-11-13T00:08:08.294Z"
   },
   {
    "duration": 14,
    "start_time": "2022-11-13T00:08:08.328Z"
   },
   {
    "duration": 13,
    "start_time": "2022-11-13T00:08:08.344Z"
   },
   {
    "duration": 5,
    "start_time": "2022-11-13T00:08:08.358Z"
   },
   {
    "duration": 12,
    "start_time": "2022-11-13T00:08:08.365Z"
   },
   {
    "duration": 5,
    "start_time": "2022-11-13T00:08:08.378Z"
   },
   {
    "duration": 26,
    "start_time": "2022-11-13T00:08:54.170Z"
   },
   {
    "duration": 20,
    "start_time": "2022-11-13T00:09:02.480Z"
   },
   {
    "duration": 19,
    "start_time": "2022-11-13T00:09:07.255Z"
   },
   {
    "duration": 12,
    "start_time": "2022-11-13T00:09:39.139Z"
   },
   {
    "duration": 46,
    "start_time": "2022-11-13T00:09:57.538Z"
   },
   {
    "duration": 23,
    "start_time": "2022-11-13T00:10:05.439Z"
   },
   {
    "duration": 14,
    "start_time": "2022-11-13T00:10:26.020Z"
   },
   {
    "duration": 17,
    "start_time": "2022-11-13T00:10:33.457Z"
   },
   {
    "duration": 19,
    "start_time": "2022-11-13T00:11:27.579Z"
   },
   {
    "duration": 10,
    "start_time": "2022-11-13T00:11:30.746Z"
   },
   {
    "duration": 70,
    "start_time": "2022-11-13T00:11:41.414Z"
   },
   {
    "duration": 20,
    "start_time": "2022-11-13T00:11:42.166Z"
   },
   {
    "duration": 11,
    "start_time": "2022-11-13T00:11:43.110Z"
   },
   {
    "duration": 22,
    "start_time": "2022-11-13T00:12:38.861Z"
   },
   {
    "duration": 26,
    "start_time": "2022-11-13T00:13:28.130Z"
   },
   {
    "duration": 18,
    "start_time": "2022-11-13T00:13:39.657Z"
   },
   {
    "duration": 10,
    "start_time": "2022-11-13T00:13:40.249Z"
   },
   {
    "duration": 15,
    "start_time": "2022-11-13T00:13:51.049Z"
   },
   {
    "duration": 1378,
    "start_time": "2022-11-13T00:15:04.060Z"
   },
   {
    "duration": 106,
    "start_time": "2022-11-13T00:15:05.441Z"
   },
   {
    "duration": 14,
    "start_time": "2022-11-13T00:15:05.549Z"
   },
   {
    "duration": 12,
    "start_time": "2022-11-13T00:15:05.565Z"
   },
   {
    "duration": 12,
    "start_time": "2022-11-13T00:15:05.580Z"
   },
   {
    "duration": 35,
    "start_time": "2022-11-13T00:15:05.594Z"
   },
   {
    "duration": 11,
    "start_time": "2022-11-13T00:15:05.632Z"
   },
   {
    "duration": 10,
    "start_time": "2022-11-13T00:15:05.645Z"
   },
   {
    "duration": 18,
    "start_time": "2022-11-13T00:15:05.657Z"
   },
   {
    "duration": 46,
    "start_time": "2022-11-13T00:15:05.677Z"
   },
   {
    "duration": 11,
    "start_time": "2022-11-13T00:15:05.725Z"
   },
   {
    "duration": 21,
    "start_time": "2022-11-13T00:15:05.737Z"
   },
   {
    "duration": 11,
    "start_time": "2022-11-13T00:15:05.760Z"
   },
   {
    "duration": 29,
    "start_time": "2022-11-13T00:15:05.774Z"
   },
   {
    "duration": 5,
    "start_time": "2022-11-13T00:15:05.818Z"
   },
   {
    "duration": 13,
    "start_time": "2022-11-13T00:15:05.824Z"
   },
   {
    "duration": 10,
    "start_time": "2022-11-13T00:15:05.839Z"
   },
   {
    "duration": 12,
    "start_time": "2022-11-13T00:15:05.850Z"
   },
   {
    "duration": 6,
    "start_time": "2022-11-13T00:15:05.864Z"
   },
   {
    "duration": 28,
    "start_time": "2022-11-13T00:15:05.871Z"
   },
   {
    "duration": 14,
    "start_time": "2022-11-13T00:15:05.900Z"
   },
   {
    "duration": 14,
    "start_time": "2022-11-13T00:15:05.919Z"
   },
   {
    "duration": 8,
    "start_time": "2022-11-13T00:15:05.935Z"
   },
   {
    "duration": 8,
    "start_time": "2022-11-13T00:15:05.945Z"
   },
   {
    "duration": 360,
    "start_time": "2022-11-13T00:15:05.955Z"
   },
   {
    "duration": 247,
    "start_time": "2022-11-13T00:15:06.319Z"
   },
   {
    "duration": 314,
    "start_time": "2022-11-13T00:15:06.568Z"
   },
   {
    "duration": 549,
    "start_time": "2022-11-13T00:15:06.884Z"
   },
   {
    "duration": 65,
    "start_time": "2022-11-13T00:15:07.435Z"
   },
   {
    "duration": 189,
    "start_time": "2022-11-13T00:15:07.502Z"
   },
   {
    "duration": 28,
    "start_time": "2022-11-13T00:15:07.692Z"
   },
   {
    "duration": 4518,
    "start_time": "2022-11-13T00:15:07.721Z"
   },
   {
    "duration": 334,
    "start_time": "2022-11-13T00:15:12.240Z"
   },
   {
    "duration": 164,
    "start_time": "2022-11-13T00:15:12.576Z"
   },
   {
    "duration": 179,
    "start_time": "2022-11-13T00:15:12.742Z"
   },
   {
    "duration": 306,
    "start_time": "2022-11-13T00:15:12.923Z"
   },
   {
    "duration": 191,
    "start_time": "2022-11-13T00:15:13.230Z"
   },
   {
    "duration": 17,
    "start_time": "2022-11-13T00:15:13.423Z"
   },
   {
    "duration": 15,
    "start_time": "2022-11-13T00:15:13.442Z"
   },
   {
    "duration": 16,
    "start_time": "2022-11-13T00:15:13.458Z"
   },
   {
    "duration": 43,
    "start_time": "2022-11-13T00:15:13.479Z"
   },
   {
    "duration": 14,
    "start_time": "2022-11-13T00:15:13.523Z"
   },
   {
    "duration": 16,
    "start_time": "2022-11-13T00:15:13.539Z"
   },
   {
    "duration": 599,
    "start_time": "2022-11-13T00:15:13.556Z"
   },
   {
    "duration": 7,
    "start_time": "2022-11-13T00:15:14.156Z"
   },
   {
    "duration": 9,
    "start_time": "2022-11-13T00:15:14.164Z"
   },
   {
    "duration": 9,
    "start_time": "2022-11-13T00:15:14.175Z"
   },
   {
    "duration": 4,
    "start_time": "2022-11-13T00:15:14.186Z"
   },
   {
    "duration": 35,
    "start_time": "2022-11-13T00:15:14.191Z"
   },
   {
    "duration": 167,
    "start_time": "2022-11-13T00:15:14.227Z"
   },
   {
    "duration": 6,
    "start_time": "2022-11-13T00:15:14.396Z"
   },
   {
    "duration": 23806,
    "start_time": "2022-11-13T00:15:14.404Z"
   },
   {
    "duration": 10,
    "start_time": "2022-11-13T00:15:38.212Z"
   },
   {
    "duration": 8,
    "start_time": "2022-11-13T00:15:38.223Z"
   },
   {
    "duration": 12,
    "start_time": "2022-11-13T00:15:38.232Z"
   },
   {
    "duration": 3,
    "start_time": "2022-11-13T00:15:38.246Z"
   },
   {
    "duration": 88,
    "start_time": "2022-11-13T00:15:38.251Z"
   },
   {
    "duration": 2,
    "start_time": "2022-11-13T00:15:38.341Z"
   },
   {
    "duration": 24,
    "start_time": "2022-11-13T00:15:38.345Z"
   },
   {
    "duration": 9,
    "start_time": "2022-11-13T00:15:38.370Z"
   },
   {
    "duration": 13,
    "start_time": "2022-11-13T00:15:38.381Z"
   },
   {
    "duration": 31,
    "start_time": "2022-11-13T00:15:38.395Z"
   },
   {
    "duration": 5,
    "start_time": "2022-11-13T00:15:38.427Z"
   },
   {
    "duration": 21,
    "start_time": "2022-11-13T00:15:38.433Z"
   },
   {
    "duration": 5,
    "start_time": "2022-11-13T00:15:38.456Z"
   },
   {
    "duration": 14,
    "start_time": "2022-11-13T00:16:10.329Z"
   },
   {
    "duration": 14,
    "start_time": "2022-11-13T00:16:13.938Z"
   },
   {
    "duration": 10,
    "start_time": "2022-11-13T00:16:15.016Z"
   },
   {
    "duration": 1374,
    "start_time": "2022-11-13T00:17:07.523Z"
   },
   {
    "duration": 253,
    "start_time": "2022-11-13T00:17:08.899Z"
   },
   {
    "duration": 12,
    "start_time": "2022-11-13T00:17:09.154Z"
   },
   {
    "duration": 16,
    "start_time": "2022-11-13T00:17:09.167Z"
   },
   {
    "duration": 11,
    "start_time": "2022-11-13T00:17:09.185Z"
   },
   {
    "duration": 25,
    "start_time": "2022-11-13T00:17:09.197Z"
   },
   {
    "duration": 17,
    "start_time": "2022-11-13T00:17:09.223Z"
   },
   {
    "duration": 19,
    "start_time": "2022-11-13T00:17:09.242Z"
   },
   {
    "duration": 18,
    "start_time": "2022-11-13T00:17:09.262Z"
   },
   {
    "duration": 10,
    "start_time": "2022-11-13T00:17:09.282Z"
   },
   {
    "duration": 11,
    "start_time": "2022-11-13T00:17:09.294Z"
   },
   {
    "duration": 18,
    "start_time": "2022-11-13T00:17:09.306Z"
   },
   {
    "duration": 32,
    "start_time": "2022-11-13T00:17:09.326Z"
   },
   {
    "duration": 25,
    "start_time": "2022-11-13T00:17:09.360Z"
   },
   {
    "duration": 4,
    "start_time": "2022-11-13T00:17:09.386Z"
   },
   {
    "duration": 11,
    "start_time": "2022-11-13T00:17:09.392Z"
   },
   {
    "duration": 14,
    "start_time": "2022-11-13T00:17:09.405Z"
   },
   {
    "duration": 23,
    "start_time": "2022-11-13T00:17:09.420Z"
   },
   {
    "duration": 6,
    "start_time": "2022-11-13T00:17:09.444Z"
   },
   {
    "duration": 21,
    "start_time": "2022-11-13T00:17:09.451Z"
   },
   {
    "duration": 13,
    "start_time": "2022-11-13T00:17:09.474Z"
   },
   {
    "duration": 16,
    "start_time": "2022-11-13T00:17:09.488Z"
   },
   {
    "duration": 7,
    "start_time": "2022-11-13T00:17:09.506Z"
   },
   {
    "duration": 11,
    "start_time": "2022-11-13T00:17:09.514Z"
   },
   {
    "duration": 310,
    "start_time": "2022-11-13T00:17:09.526Z"
   },
   {
    "duration": 218,
    "start_time": "2022-11-13T00:17:09.837Z"
   },
   {
    "duration": 291,
    "start_time": "2022-11-13T00:17:10.057Z"
   },
   {
    "duration": 512,
    "start_time": "2022-11-13T00:17:10.352Z"
   },
   {
    "duration": 67,
    "start_time": "2022-11-13T00:17:10.865Z"
   },
   {
    "duration": 169,
    "start_time": "2022-11-13T00:17:10.934Z"
   },
   {
    "duration": 23,
    "start_time": "2022-11-13T00:17:11.104Z"
   },
   {
    "duration": 4218,
    "start_time": "2022-11-13T00:17:11.129Z"
   },
   {
    "duration": 317,
    "start_time": "2022-11-13T00:17:15.348Z"
   },
   {
    "duration": 160,
    "start_time": "2022-11-13T00:17:15.667Z"
   },
   {
    "duration": 171,
    "start_time": "2022-11-13T00:17:15.829Z"
   },
   {
    "duration": 290,
    "start_time": "2022-11-13T00:17:16.002Z"
   },
   {
    "duration": 209,
    "start_time": "2022-11-13T00:17:16.294Z"
   },
   {
    "duration": 19,
    "start_time": "2022-11-13T00:17:16.505Z"
   },
   {
    "duration": 11,
    "start_time": "2022-11-13T00:17:16.526Z"
   },
   {
    "duration": 12,
    "start_time": "2022-11-13T00:17:16.539Z"
   },
   {
    "duration": 10,
    "start_time": "2022-11-13T00:17:16.553Z"
   },
   {
    "duration": 11,
    "start_time": "2022-11-13T00:17:16.565Z"
   },
   {
    "duration": 49,
    "start_time": "2022-11-13T00:17:16.577Z"
   },
   {
    "duration": 660,
    "start_time": "2022-11-13T00:17:16.628Z"
   },
   {
    "duration": 6,
    "start_time": "2022-11-13T00:17:17.290Z"
   },
   {
    "duration": 9,
    "start_time": "2022-11-13T00:17:17.297Z"
   },
   {
    "duration": 7,
    "start_time": "2022-11-13T00:17:17.320Z"
   },
   {
    "duration": 13,
    "start_time": "2022-11-13T00:17:17.328Z"
   },
   {
    "duration": 18,
    "start_time": "2022-11-13T00:17:17.343Z"
   },
   {
    "duration": 27,
    "start_time": "2022-11-13T00:17:17.362Z"
   },
   {
    "duration": 6,
    "start_time": "2022-11-13T00:17:17.390Z"
   },
   {
    "duration": 23585,
    "start_time": "2022-11-13T00:17:17.397Z"
   },
   {
    "duration": 9,
    "start_time": "2022-11-13T00:17:40.983Z"
   },
   {
    "duration": 18,
    "start_time": "2022-11-13T00:17:40.994Z"
   },
   {
    "duration": 20,
    "start_time": "2022-11-13T00:17:41.014Z"
   },
   {
    "duration": 8,
    "start_time": "2022-11-13T00:17:41.035Z"
   },
   {
    "duration": 82,
    "start_time": "2022-11-13T00:17:41.044Z"
   },
   {
    "duration": 20,
    "start_time": "2022-11-13T00:17:41.128Z"
   },
   {
    "duration": 10,
    "start_time": "2022-11-13T00:17:41.150Z"
   },
   {
    "duration": 22,
    "start_time": "2022-11-13T00:17:41.162Z"
   },
   {
    "duration": 11,
    "start_time": "2022-11-13T00:17:41.187Z"
   },
   {
    "duration": 21,
    "start_time": "2022-11-13T00:17:41.199Z"
   },
   {
    "duration": 25,
    "start_time": "2022-11-13T00:17:41.222Z"
   },
   {
    "duration": 16,
    "start_time": "2022-11-13T00:17:41.248Z"
   },
   {
    "duration": 9,
    "start_time": "2022-11-13T00:18:14.978Z"
   },
   {
    "duration": 17,
    "start_time": "2022-11-13T00:18:20.617Z"
   },
   {
    "duration": 1361,
    "start_time": "2022-11-13T00:19:25.925Z"
   },
   {
    "duration": 173,
    "start_time": "2022-11-13T00:19:27.288Z"
   },
   {
    "duration": 12,
    "start_time": "2022-11-13T00:19:27.463Z"
   },
   {
    "duration": 14,
    "start_time": "2022-11-13T00:19:27.476Z"
   },
   {
    "duration": 10,
    "start_time": "2022-11-13T00:19:27.492Z"
   },
   {
    "duration": 18,
    "start_time": "2022-11-13T00:19:27.504Z"
   },
   {
    "duration": 10,
    "start_time": "2022-11-13T00:19:27.523Z"
   },
   {
    "duration": 8,
    "start_time": "2022-11-13T00:19:27.534Z"
   },
   {
    "duration": 14,
    "start_time": "2022-11-13T00:19:27.543Z"
   },
   {
    "duration": 15,
    "start_time": "2022-11-13T00:19:27.559Z"
   },
   {
    "duration": 8,
    "start_time": "2022-11-13T00:19:27.576Z"
   },
   {
    "duration": 34,
    "start_time": "2022-11-13T00:19:27.586Z"
   },
   {
    "duration": 6,
    "start_time": "2022-11-13T00:19:27.622Z"
   },
   {
    "duration": 26,
    "start_time": "2022-11-13T00:19:27.630Z"
   },
   {
    "duration": 4,
    "start_time": "2022-11-13T00:19:27.658Z"
   },
   {
    "duration": 7,
    "start_time": "2022-11-13T00:19:27.664Z"
   },
   {
    "duration": 7,
    "start_time": "2022-11-13T00:19:27.673Z"
   },
   {
    "duration": 7,
    "start_time": "2022-11-13T00:19:27.681Z"
   },
   {
    "duration": 4,
    "start_time": "2022-11-13T00:19:27.720Z"
   },
   {
    "duration": 15,
    "start_time": "2022-11-13T00:19:27.726Z"
   },
   {
    "duration": 14,
    "start_time": "2022-11-13T00:19:27.743Z"
   },
   {
    "duration": 12,
    "start_time": "2022-11-13T00:19:27.758Z"
   },
   {
    "duration": 6,
    "start_time": "2022-11-13T00:19:27.772Z"
   },
   {
    "duration": 4,
    "start_time": "2022-11-13T00:19:27.779Z"
   },
   {
    "duration": 342,
    "start_time": "2022-11-13T00:19:27.785Z"
   },
   {
    "duration": 220,
    "start_time": "2022-11-13T00:19:28.129Z"
   },
   {
    "duration": 292,
    "start_time": "2022-11-13T00:19:28.350Z"
   },
   {
    "duration": 521,
    "start_time": "2022-11-13T00:19:28.644Z"
   },
   {
    "duration": 66,
    "start_time": "2022-11-13T00:19:29.167Z"
   },
   {
    "duration": 167,
    "start_time": "2022-11-13T00:19:29.235Z"
   },
   {
    "duration": 27,
    "start_time": "2022-11-13T00:19:29.404Z"
   },
   {
    "duration": 4262,
    "start_time": "2022-11-13T00:19:29.432Z"
   },
   {
    "duration": 313,
    "start_time": "2022-11-13T00:19:33.696Z"
   },
   {
    "duration": 150,
    "start_time": "2022-11-13T00:19:34.011Z"
   },
   {
    "duration": 171,
    "start_time": "2022-11-13T00:19:34.162Z"
   },
   {
    "duration": 292,
    "start_time": "2022-11-13T00:19:34.334Z"
   },
   {
    "duration": 171,
    "start_time": "2022-11-13T00:19:34.627Z"
   },
   {
    "duration": 20,
    "start_time": "2022-11-13T00:19:34.800Z"
   },
   {
    "duration": 12,
    "start_time": "2022-11-13T00:19:34.821Z"
   },
   {
    "duration": 10,
    "start_time": "2022-11-13T00:19:34.835Z"
   },
   {
    "duration": 11,
    "start_time": "2022-11-13T00:19:34.849Z"
   },
   {
    "duration": 11,
    "start_time": "2022-11-13T00:19:34.861Z"
   },
   {
    "duration": 50,
    "start_time": "2022-11-13T00:19:34.873Z"
   },
   {
    "duration": 541,
    "start_time": "2022-11-13T00:19:34.925Z"
   },
   {
    "duration": 6,
    "start_time": "2022-11-13T00:19:35.468Z"
   },
   {
    "duration": 29,
    "start_time": "2022-11-13T00:19:35.475Z"
   },
   {
    "duration": 9,
    "start_time": "2022-11-13T00:19:35.506Z"
   },
   {
    "duration": 4,
    "start_time": "2022-11-13T00:19:35.517Z"
   },
   {
    "duration": 16,
    "start_time": "2022-11-13T00:19:35.522Z"
   },
   {
    "duration": 164,
    "start_time": "2022-11-13T00:19:35.540Z"
   },
   {
    "duration": 5,
    "start_time": "2022-11-13T00:19:35.706Z"
   },
   {
    "duration": 23566,
    "start_time": "2022-11-13T00:19:35.712Z"
   },
   {
    "duration": 9,
    "start_time": "2022-11-13T00:19:59.280Z"
   },
   {
    "duration": 9,
    "start_time": "2022-11-13T00:19:59.291Z"
   },
   {
    "duration": 26,
    "start_time": "2022-11-13T00:19:59.301Z"
   },
   {
    "duration": 4,
    "start_time": "2022-11-13T00:19:59.328Z"
   },
   {
    "duration": 87,
    "start_time": "2022-11-13T00:19:59.333Z"
   },
   {
    "duration": 20,
    "start_time": "2022-11-13T00:19:59.422Z"
   },
   {
    "duration": 19,
    "start_time": "2022-11-13T00:19:59.444Z"
   },
   {
    "duration": 10,
    "start_time": "2022-11-13T00:19:59.464Z"
   },
   {
    "duration": 15,
    "start_time": "2022-11-13T00:19:59.475Z"
   },
   {
    "duration": 36,
    "start_time": "2022-11-13T00:19:59.492Z"
   },
   {
    "duration": 5,
    "start_time": "2022-11-13T00:19:59.530Z"
   },
   {
    "duration": 12,
    "start_time": "2022-11-13T00:19:59.536Z"
   },
   {
    "duration": 4,
    "start_time": "2022-11-13T00:19:59.550Z"
   },
   {
    "duration": 1382,
    "start_time": "2022-11-13T00:27:22.794Z"
   },
   {
    "duration": 81,
    "start_time": "2022-11-13T00:27:24.178Z"
   },
   {
    "duration": 13,
    "start_time": "2022-11-13T00:27:24.260Z"
   },
   {
    "duration": 19,
    "start_time": "2022-11-13T00:27:24.275Z"
   },
   {
    "duration": 19,
    "start_time": "2022-11-13T00:27:24.297Z"
   },
   {
    "duration": 18,
    "start_time": "2022-11-13T00:27:24.317Z"
   },
   {
    "duration": 9,
    "start_time": "2022-11-13T00:27:24.337Z"
   },
   {
    "duration": 11,
    "start_time": "2022-11-13T00:27:24.348Z"
   },
   {
    "duration": 34,
    "start_time": "2022-11-13T00:27:24.360Z"
   },
   {
    "duration": 18,
    "start_time": "2022-11-13T00:27:24.395Z"
   },
   {
    "duration": 40,
    "start_time": "2022-11-13T00:27:24.415Z"
   },
   {
    "duration": 21,
    "start_time": "2022-11-13T00:27:24.457Z"
   },
   {
    "duration": 23,
    "start_time": "2022-11-13T00:27:24.480Z"
   },
   {
    "duration": 44,
    "start_time": "2022-11-13T00:27:24.507Z"
   },
   {
    "duration": 16,
    "start_time": "2022-11-13T00:27:24.553Z"
   },
   {
    "duration": 19,
    "start_time": "2022-11-13T00:27:24.571Z"
   },
   {
    "duration": 19,
    "start_time": "2022-11-13T00:27:24.591Z"
   },
   {
    "duration": 16,
    "start_time": "2022-11-13T00:27:24.611Z"
   },
   {
    "duration": 15,
    "start_time": "2022-11-13T00:27:24.629Z"
   },
   {
    "duration": 39,
    "start_time": "2022-11-13T00:27:24.646Z"
   },
   {
    "duration": 21,
    "start_time": "2022-11-13T00:27:24.687Z"
   },
   {
    "duration": 24,
    "start_time": "2022-11-13T00:27:24.710Z"
   },
   {
    "duration": 20,
    "start_time": "2022-11-13T00:27:24.735Z"
   },
   {
    "duration": 17,
    "start_time": "2022-11-13T00:27:24.756Z"
   },
   {
    "duration": 330,
    "start_time": "2022-11-13T00:27:24.774Z"
   },
   {
    "duration": 215,
    "start_time": "2022-11-13T00:27:25.107Z"
   },
   {
    "duration": 288,
    "start_time": "2022-11-13T00:27:25.324Z"
   },
   {
    "duration": 506,
    "start_time": "2022-11-13T00:27:25.613Z"
   },
   {
    "duration": 60,
    "start_time": "2022-11-13T00:27:26.121Z"
   },
   {
    "duration": 209,
    "start_time": "2022-11-13T00:27:26.183Z"
   },
   {
    "duration": 29,
    "start_time": "2022-11-13T00:27:26.395Z"
   },
   {
    "duration": 4277,
    "start_time": "2022-11-13T00:27:26.426Z"
   },
   {
    "duration": 327,
    "start_time": "2022-11-13T00:27:30.705Z"
   },
   {
    "duration": 164,
    "start_time": "2022-11-13T00:27:31.034Z"
   },
   {
    "duration": 172,
    "start_time": "2022-11-13T00:27:31.200Z"
   },
   {
    "duration": 294,
    "start_time": "2022-11-13T00:27:31.374Z"
   },
   {
    "duration": 180,
    "start_time": "2022-11-13T00:27:31.669Z"
   },
   {
    "duration": 16,
    "start_time": "2022-11-13T00:27:31.850Z"
   },
   {
    "duration": 14,
    "start_time": "2022-11-13T00:27:31.868Z"
   },
   {
    "duration": 35,
    "start_time": "2022-11-13T00:27:31.884Z"
   },
   {
    "duration": 13,
    "start_time": "2022-11-13T00:27:31.923Z"
   },
   {
    "duration": 31,
    "start_time": "2022-11-13T00:27:31.937Z"
   },
   {
    "duration": 58,
    "start_time": "2022-11-13T00:27:31.970Z"
   },
   {
    "duration": 562,
    "start_time": "2022-11-13T00:27:32.030Z"
   },
   {
    "duration": 7,
    "start_time": "2022-11-13T00:27:32.594Z"
   },
   {
    "duration": 23,
    "start_time": "2022-11-13T00:27:32.602Z"
   },
   {
    "duration": 20,
    "start_time": "2022-11-13T00:27:32.626Z"
   },
   {
    "duration": 11,
    "start_time": "2022-11-13T00:27:32.647Z"
   },
   {
    "duration": 32,
    "start_time": "2022-11-13T00:27:32.660Z"
   },
   {
    "duration": 188,
    "start_time": "2022-11-13T00:27:32.694Z"
   },
   {
    "duration": 5,
    "start_time": "2022-11-13T00:27:32.884Z"
   },
   {
    "duration": 23436,
    "start_time": "2022-11-13T00:27:32.891Z"
   },
   {
    "duration": 11,
    "start_time": "2022-11-13T00:27:56.329Z"
   },
   {
    "duration": 11,
    "start_time": "2022-11-13T00:27:56.342Z"
   },
   {
    "duration": 23,
    "start_time": "2022-11-13T00:27:56.354Z"
   },
   {
    "duration": 11,
    "start_time": "2022-11-13T00:27:56.379Z"
   },
   {
    "duration": 87,
    "start_time": "2022-11-13T00:27:56.392Z"
   },
   {
    "duration": 6,
    "start_time": "2022-11-13T00:28:22.893Z"
   },
   {
    "duration": 4,
    "start_time": "2022-11-13T00:28:32.855Z"
   },
   {
    "duration": 20,
    "start_time": "2022-11-13T00:28:44.977Z"
   },
   {
    "duration": 11,
    "start_time": "2022-11-13T00:28:45.734Z"
   },
   {
    "duration": 14,
    "start_time": "2022-11-13T00:28:53.354Z"
   },
   {
    "duration": 5,
    "start_time": "2022-11-13T00:30:49.374Z"
   },
   {
    "duration": 5,
    "start_time": "2022-11-13T00:30:55.507Z"
   },
   {
    "duration": 5,
    "start_time": "2022-11-13T00:31:00.409Z"
   },
   {
    "duration": 4,
    "start_time": "2022-11-13T00:31:07.353Z"
   },
   {
    "duration": 7,
    "start_time": "2022-11-13T00:31:23.110Z"
   },
   {
    "duration": 5,
    "start_time": "2022-11-13T00:32:16.674Z"
   },
   {
    "duration": 1346,
    "start_time": "2022-11-13T00:33:44.851Z"
   },
   {
    "duration": 78,
    "start_time": "2022-11-13T00:33:46.199Z"
   },
   {
    "duration": 12,
    "start_time": "2022-11-13T00:33:46.278Z"
   },
   {
    "duration": 16,
    "start_time": "2022-11-13T00:33:46.292Z"
   },
   {
    "duration": 18,
    "start_time": "2022-11-13T00:33:46.311Z"
   },
   {
    "duration": 15,
    "start_time": "2022-11-13T00:33:46.331Z"
   },
   {
    "duration": 22,
    "start_time": "2022-11-13T00:33:46.348Z"
   },
   {
    "duration": 20,
    "start_time": "2022-11-13T00:33:46.372Z"
   },
   {
    "duration": 32,
    "start_time": "2022-11-13T00:33:46.394Z"
   },
   {
    "duration": 13,
    "start_time": "2022-11-13T00:33:46.428Z"
   },
   {
    "duration": 12,
    "start_time": "2022-11-13T00:33:46.443Z"
   },
   {
    "duration": 17,
    "start_time": "2022-11-13T00:33:46.457Z"
   },
   {
    "duration": 10,
    "start_time": "2022-11-13T00:33:46.475Z"
   },
   {
    "duration": 44,
    "start_time": "2022-11-13T00:33:46.488Z"
   },
   {
    "duration": 4,
    "start_time": "2022-11-13T00:33:46.534Z"
   },
   {
    "duration": 13,
    "start_time": "2022-11-13T00:33:46.539Z"
   },
   {
    "duration": 39,
    "start_time": "2022-11-13T00:33:46.554Z"
   },
   {
    "duration": 7,
    "start_time": "2022-11-13T00:33:46.595Z"
   },
   {
    "duration": 5,
    "start_time": "2022-11-13T00:33:46.604Z"
   },
   {
    "duration": 18,
    "start_time": "2022-11-13T00:33:46.611Z"
   },
   {
    "duration": 15,
    "start_time": "2022-11-13T00:33:46.631Z"
   },
   {
    "duration": 14,
    "start_time": "2022-11-13T00:33:46.648Z"
   },
   {
    "duration": 9,
    "start_time": "2022-11-13T00:33:46.665Z"
   },
   {
    "duration": 6,
    "start_time": "2022-11-13T00:33:46.676Z"
   },
   {
    "duration": 360,
    "start_time": "2022-11-13T00:33:46.684Z"
   },
   {
    "duration": 220,
    "start_time": "2022-11-13T00:33:47.047Z"
   },
   {
    "duration": 292,
    "start_time": "2022-11-13T00:33:47.269Z"
   },
   {
    "duration": 521,
    "start_time": "2022-11-13T00:33:47.563Z"
   },
   {
    "duration": 71,
    "start_time": "2022-11-13T00:33:48.086Z"
   },
   {
    "duration": 174,
    "start_time": "2022-11-13T00:33:48.159Z"
   },
   {
    "duration": 19,
    "start_time": "2022-11-13T00:33:48.335Z"
   },
   {
    "duration": 4167,
    "start_time": "2022-11-13T00:33:48.356Z"
   },
   {
    "duration": 342,
    "start_time": "2022-11-13T00:33:52.524Z"
   },
   {
    "duration": 158,
    "start_time": "2022-11-13T00:33:52.867Z"
   },
   {
    "duration": 170,
    "start_time": "2022-11-13T00:33:53.026Z"
   },
   {
    "duration": 292,
    "start_time": "2022-11-13T00:33:53.198Z"
   },
   {
    "duration": 173,
    "start_time": "2022-11-13T00:33:53.492Z"
   },
   {
    "duration": 14,
    "start_time": "2022-11-13T00:33:53.667Z"
   },
   {
    "duration": 12,
    "start_time": "2022-11-13T00:33:53.682Z"
   },
   {
    "duration": 29,
    "start_time": "2022-11-13T00:33:53.695Z"
   },
   {
    "duration": 11,
    "start_time": "2022-11-13T00:33:53.727Z"
   },
   {
    "duration": 11,
    "start_time": "2022-11-13T00:33:53.739Z"
   },
   {
    "duration": 14,
    "start_time": "2022-11-13T00:33:53.751Z"
   },
   {
    "duration": 542,
    "start_time": "2022-11-13T00:33:53.767Z"
   },
   {
    "duration": 8,
    "start_time": "2022-11-13T00:33:54.311Z"
   },
   {
    "duration": 8,
    "start_time": "2022-11-13T00:33:54.321Z"
   },
   {
    "duration": 13,
    "start_time": "2022-11-13T00:33:54.331Z"
   },
   {
    "duration": 4,
    "start_time": "2022-11-13T00:33:54.346Z"
   },
   {
    "duration": 15,
    "start_time": "2022-11-13T00:33:54.352Z"
   },
   {
    "duration": 166,
    "start_time": "2022-11-13T00:33:54.369Z"
   },
   {
    "duration": 5,
    "start_time": "2022-11-13T00:33:54.537Z"
   },
   {
    "duration": 23606,
    "start_time": "2022-11-13T00:33:54.544Z"
   },
   {
    "duration": 8,
    "start_time": "2022-11-13T00:34:18.152Z"
   },
   {
    "duration": 8,
    "start_time": "2022-11-13T00:34:18.162Z"
   },
   {
    "duration": 10,
    "start_time": "2022-11-13T00:34:18.171Z"
   },
   {
    "duration": 3,
    "start_time": "2022-11-13T00:34:18.183Z"
   },
   {
    "duration": 99,
    "start_time": "2022-11-13T00:34:18.188Z"
   },
   {
    "duration": 4,
    "start_time": "2022-11-13T00:34:18.289Z"
   },
   {
    "duration": 32,
    "start_time": "2022-11-13T00:34:18.294Z"
   },
   {
    "duration": 10,
    "start_time": "2022-11-13T00:34:18.327Z"
   },
   {
    "duration": 17,
    "start_time": "2022-11-13T00:34:18.338Z"
   },
   {
    "duration": 14,
    "start_time": "2022-11-13T00:34:18.357Z"
   },
   {
    "duration": 5,
    "start_time": "2022-11-13T00:34:18.372Z"
   },
   {
    "duration": 14,
    "start_time": "2022-11-13T00:34:18.379Z"
   },
   {
    "duration": 27,
    "start_time": "2022-11-13T00:34:18.394Z"
   },
   {
    "duration": 4,
    "start_time": "2022-11-13T00:34:49.252Z"
   },
   {
    "duration": 22,
    "start_time": "2022-11-13T00:34:50.655Z"
   },
   {
    "duration": 11,
    "start_time": "2022-11-13T00:34:51.613Z"
   },
   {
    "duration": 19,
    "start_time": "2022-11-13T00:34:58.480Z"
   },
   {
    "duration": 10,
    "start_time": "2022-11-13T00:34:59.212Z"
   },
   {
    "duration": 14,
    "start_time": "2022-11-13T00:35:03.223Z"
   },
   {
    "duration": 19,
    "start_time": "2022-11-13T00:35:15.053Z"
   },
   {
    "duration": 11,
    "start_time": "2022-11-13T00:35:15.684Z"
   },
   {
    "duration": 14,
    "start_time": "2022-11-13T00:35:16.592Z"
   },
   {
    "duration": 4,
    "start_time": "2022-11-13T00:35:48.263Z"
   },
   {
    "duration": 21,
    "start_time": "2022-11-13T00:35:49.754Z"
   },
   {
    "duration": 11,
    "start_time": "2022-11-13T00:35:50.329Z"
   },
   {
    "duration": 16,
    "start_time": "2022-11-13T00:35:53.684Z"
   },
   {
    "duration": 1382,
    "start_time": "2022-11-13T00:43:47.427Z"
   },
   {
    "duration": 87,
    "start_time": "2022-11-13T00:43:48.811Z"
   },
   {
    "duration": 12,
    "start_time": "2022-11-13T00:43:48.900Z"
   },
   {
    "duration": 12,
    "start_time": "2022-11-13T00:43:48.914Z"
   },
   {
    "duration": 12,
    "start_time": "2022-11-13T00:43:48.927Z"
   },
   {
    "duration": 11,
    "start_time": "2022-11-13T00:43:48.940Z"
   },
   {
    "duration": 9,
    "start_time": "2022-11-13T00:43:48.953Z"
   },
   {
    "duration": 9,
    "start_time": "2022-11-13T00:43:48.964Z"
   },
   {
    "duration": 15,
    "start_time": "2022-11-13T00:43:48.974Z"
   },
   {
    "duration": 12,
    "start_time": "2022-11-13T00:43:49.021Z"
   },
   {
    "duration": 12,
    "start_time": "2022-11-13T00:43:49.035Z"
   },
   {
    "duration": 13,
    "start_time": "2022-11-13T00:43:49.049Z"
   },
   {
    "duration": 12,
    "start_time": "2022-11-13T00:43:49.064Z"
   },
   {
    "duration": 47,
    "start_time": "2022-11-13T00:43:49.078Z"
   },
   {
    "duration": 4,
    "start_time": "2022-11-13T00:43:49.127Z"
   },
   {
    "duration": 12,
    "start_time": "2022-11-13T00:43:49.133Z"
   },
   {
    "duration": 7,
    "start_time": "2022-11-13T00:43:49.147Z"
   },
   {
    "duration": 17,
    "start_time": "2022-11-13T00:43:49.156Z"
   },
   {
    "duration": 13,
    "start_time": "2022-11-13T00:43:49.175Z"
   },
   {
    "duration": 16,
    "start_time": "2022-11-13T00:43:49.190Z"
   },
   {
    "duration": 14,
    "start_time": "2022-11-13T00:43:49.219Z"
   },
   {
    "duration": 14,
    "start_time": "2022-11-13T00:43:49.235Z"
   },
   {
    "duration": 7,
    "start_time": "2022-11-13T00:43:49.251Z"
   },
   {
    "duration": 5,
    "start_time": "2022-11-13T00:43:49.259Z"
   },
   {
    "duration": 354,
    "start_time": "2022-11-13T00:43:49.266Z"
   },
   {
    "duration": 219,
    "start_time": "2022-11-13T00:43:49.621Z"
   },
   {
    "duration": 294,
    "start_time": "2022-11-13T00:43:49.841Z"
   },
   {
    "duration": 527,
    "start_time": "2022-11-13T00:43:50.139Z"
   },
   {
    "duration": 68,
    "start_time": "2022-11-13T00:43:50.668Z"
   },
   {
    "duration": 171,
    "start_time": "2022-11-13T00:43:50.738Z"
   },
   {
    "duration": 19,
    "start_time": "2022-11-13T00:43:50.918Z"
   },
   {
    "duration": 4240,
    "start_time": "2022-11-13T00:43:50.938Z"
   },
   {
    "duration": 315,
    "start_time": "2022-11-13T00:43:55.180Z"
   },
   {
    "duration": 155,
    "start_time": "2022-11-13T00:43:55.497Z"
   },
   {
    "duration": 168,
    "start_time": "2022-11-13T00:43:55.654Z"
   },
   {
    "duration": 276,
    "start_time": "2022-11-13T00:43:55.824Z"
   },
   {
    "duration": 179,
    "start_time": "2022-11-13T00:43:56.102Z"
   },
   {
    "duration": 19,
    "start_time": "2022-11-13T00:43:56.283Z"
   },
   {
    "duration": 30,
    "start_time": "2022-11-13T00:43:56.304Z"
   },
   {
    "duration": 18,
    "start_time": "2022-11-13T00:43:56.336Z"
   },
   {
    "duration": 19,
    "start_time": "2022-11-13T00:43:56.357Z"
   },
   {
    "duration": 40,
    "start_time": "2022-11-13T00:43:56.379Z"
   },
   {
    "duration": 16,
    "start_time": "2022-11-13T00:43:56.421Z"
   },
   {
    "duration": 682,
    "start_time": "2022-11-13T00:43:56.439Z"
   },
   {
    "duration": 6,
    "start_time": "2022-11-13T00:43:57.123Z"
   },
   {
    "duration": 7,
    "start_time": "2022-11-13T00:43:57.131Z"
   },
   {
    "duration": 11,
    "start_time": "2022-11-13T00:43:57.140Z"
   },
   {
    "duration": 5,
    "start_time": "2022-11-13T00:43:57.153Z"
   },
   {
    "duration": 16,
    "start_time": "2022-11-13T00:43:57.159Z"
   },
   {
    "duration": 45,
    "start_time": "2022-11-13T00:43:57.177Z"
   },
   {
    "duration": 6,
    "start_time": "2022-11-13T00:43:57.224Z"
   },
   {
    "duration": 23502,
    "start_time": "2022-11-13T00:43:57.232Z"
   },
   {
    "duration": 10,
    "start_time": "2022-11-13T00:44:20.736Z"
   },
   {
    "duration": 10,
    "start_time": "2022-11-13T00:44:20.747Z"
   },
   {
    "duration": 9,
    "start_time": "2022-11-13T00:44:20.758Z"
   },
   {
    "duration": 4,
    "start_time": "2022-11-13T00:44:20.769Z"
   },
   {
    "duration": 99,
    "start_time": "2022-11-13T00:44:20.775Z"
   },
   {
    "duration": 20,
    "start_time": "2022-11-13T00:44:20.876Z"
   },
   {
    "duration": 24,
    "start_time": "2022-11-13T00:44:20.898Z"
   },
   {
    "duration": 15,
    "start_time": "2022-11-13T00:44:20.924Z"
   },
   {
    "duration": 14,
    "start_time": "2022-11-13T00:44:20.941Z"
   },
   {
    "duration": 7,
    "start_time": "2022-11-13T00:44:20.957Z"
   },
   {
    "duration": 17,
    "start_time": "2022-11-13T00:44:20.965Z"
   },
   {
    "duration": 10,
    "start_time": "2022-11-13T00:44:20.984Z"
   },
   {
    "duration": 1541,
    "start_time": "2022-11-13T18:23:11.059Z"
   },
   {
    "duration": 189,
    "start_time": "2022-11-13T18:23:12.602Z"
   },
   {
    "duration": 12,
    "start_time": "2022-11-13T18:23:12.792Z"
   },
   {
    "duration": 11,
    "start_time": "2022-11-13T18:23:12.806Z"
   },
   {
    "duration": 10,
    "start_time": "2022-11-13T18:23:12.818Z"
   },
   {
    "duration": 16,
    "start_time": "2022-11-13T18:23:12.829Z"
   },
   {
    "duration": 9,
    "start_time": "2022-11-13T18:23:12.846Z"
   },
   {
    "duration": 8,
    "start_time": "2022-11-13T18:23:12.857Z"
   },
   {
    "duration": 9,
    "start_time": "2022-11-13T18:23:12.867Z"
   },
   {
    "duration": 9,
    "start_time": "2022-11-13T18:23:12.878Z"
   },
   {
    "duration": 9,
    "start_time": "2022-11-13T18:23:12.912Z"
   },
   {
    "duration": 10,
    "start_time": "2022-11-13T18:23:12.923Z"
   },
   {
    "duration": 8,
    "start_time": "2022-11-13T18:23:12.934Z"
   },
   {
    "duration": 28,
    "start_time": "2022-11-13T18:23:12.944Z"
   },
   {
    "duration": 4,
    "start_time": "2022-11-13T18:23:12.974Z"
   },
   {
    "duration": 5,
    "start_time": "2022-11-13T18:23:12.980Z"
   },
   {
    "duration": 5,
    "start_time": "2022-11-13T18:23:13.012Z"
   },
   {
    "duration": 4,
    "start_time": "2022-11-13T18:23:13.019Z"
   },
   {
    "duration": 4,
    "start_time": "2022-11-13T18:23:13.025Z"
   },
   {
    "duration": 15,
    "start_time": "2022-11-13T18:23:13.030Z"
   },
   {
    "duration": 12,
    "start_time": "2022-11-13T18:23:13.046Z"
   },
   {
    "duration": 11,
    "start_time": "2022-11-13T18:23:13.060Z"
   },
   {
    "duration": 7,
    "start_time": "2022-11-13T18:23:13.072Z"
   },
   {
    "duration": 34,
    "start_time": "2022-11-13T18:23:13.080Z"
   },
   {
    "duration": 296,
    "start_time": "2022-11-13T18:23:13.116Z"
   },
   {
    "duration": 202,
    "start_time": "2022-11-13T18:23:13.414Z"
   },
   {
    "duration": 265,
    "start_time": "2022-11-13T18:23:13.618Z"
   },
   {
    "duration": 481,
    "start_time": "2022-11-13T18:23:13.888Z"
   },
   {
    "duration": 64,
    "start_time": "2022-11-13T18:23:14.371Z"
   },
   {
    "duration": 168,
    "start_time": "2022-11-13T18:23:14.437Z"
   },
   {
    "duration": 18,
    "start_time": "2022-11-13T18:23:14.612Z"
   },
   {
    "duration": 4006,
    "start_time": "2022-11-13T18:23:14.631Z"
   },
   {
    "duration": 294,
    "start_time": "2022-11-13T18:23:18.639Z"
   },
   {
    "duration": 155,
    "start_time": "2022-11-13T18:23:18.935Z"
   },
   {
    "duration": 157,
    "start_time": "2022-11-13T18:23:19.092Z"
   },
   {
    "duration": 258,
    "start_time": "2022-11-13T18:23:19.251Z"
   },
   {
    "duration": 165,
    "start_time": "2022-11-13T18:23:19.511Z"
   },
   {
    "duration": 14,
    "start_time": "2022-11-13T18:23:19.678Z"
   },
   {
    "duration": 27,
    "start_time": "2022-11-13T18:23:19.694Z"
   },
   {
    "duration": 12,
    "start_time": "2022-11-13T18:23:19.723Z"
   },
   {
    "duration": 12,
    "start_time": "2022-11-13T18:23:19.737Z"
   },
   {
    "duration": 11,
    "start_time": "2022-11-13T18:23:19.750Z"
   },
   {
    "duration": 13,
    "start_time": "2022-11-13T18:23:19.762Z"
   },
   {
    "duration": 691,
    "start_time": "2022-11-13T18:23:19.776Z"
   },
   {
    "duration": 6,
    "start_time": "2022-11-13T18:23:20.468Z"
   },
   {
    "duration": 6,
    "start_time": "2022-11-13T18:23:20.476Z"
   },
   {
    "duration": 8,
    "start_time": "2022-11-13T18:23:20.483Z"
   },
   {
    "duration": 3,
    "start_time": "2022-11-13T18:23:20.493Z"
   },
   {
    "duration": 12,
    "start_time": "2022-11-13T18:23:20.513Z"
   },
   {
    "duration": 29,
    "start_time": "2022-11-13T18:23:20.526Z"
   },
   {
    "duration": 5,
    "start_time": "2022-11-13T18:23:20.557Z"
   },
   {
    "duration": 22698,
    "start_time": "2022-11-13T18:23:20.564Z"
   },
   {
    "duration": 9,
    "start_time": "2022-11-13T18:23:43.263Z"
   },
   {
    "duration": 9,
    "start_time": "2022-11-13T18:23:43.274Z"
   },
   {
    "duration": 8,
    "start_time": "2022-11-13T18:23:43.285Z"
   },
   {
    "duration": 21,
    "start_time": "2022-11-13T18:23:43.294Z"
   },
   {
    "duration": 74,
    "start_time": "2022-11-13T18:23:43.316Z"
   },
   {
    "duration": 27,
    "start_time": "2022-11-13T18:23:43.392Z"
   },
   {
    "duration": 9,
    "start_time": "2022-11-13T18:23:43.420Z"
   },
   {
    "duration": 22,
    "start_time": "2022-11-13T18:23:55.415Z"
   },
   {
    "duration": 4,
    "start_time": "2022-11-13T18:24:10.586Z"
   },
   {
    "duration": 6,
    "start_time": "2022-11-13T18:24:20.674Z"
   },
   {
    "duration": 23,
    "start_time": "2022-11-13T18:24:24.117Z"
   },
   {
    "duration": 21,
    "start_time": "2022-11-13T18:24:38.014Z"
   },
   {
    "duration": 9,
    "start_time": "2022-11-13T18:24:48.301Z"
   },
   {
    "duration": 21,
    "start_time": "2022-11-13T18:26:55.539Z"
   },
   {
    "duration": 4,
    "start_time": "2022-11-13T18:27:16.418Z"
   },
   {
    "duration": 101,
    "start_time": "2022-11-13T18:27:22.092Z"
   },
   {
    "duration": 4,
    "start_time": "2022-11-13T18:27:39.186Z"
   },
   {
    "duration": 24,
    "start_time": "2022-11-13T18:28:24.314Z"
   },
   {
    "duration": 22,
    "start_time": "2022-11-13T18:28:49.477Z"
   },
   {
    "duration": 18,
    "start_time": "2022-11-13T18:29:03.874Z"
   },
   {
    "duration": 13,
    "start_time": "2022-11-13T18:29:09.406Z"
   },
   {
    "duration": 5,
    "start_time": "2022-11-13T18:30:10.705Z"
   },
   {
    "duration": 10,
    "start_time": "2022-11-13T18:30:32.621Z"
   },
   {
    "duration": 5,
    "start_time": "2022-11-13T18:30:35.742Z"
   },
   {
    "duration": 3,
    "start_time": "2022-11-13T18:30:46.360Z"
   },
   {
    "duration": 18,
    "start_time": "2022-11-13T18:41:13.559Z"
   },
   {
    "duration": 1527,
    "start_time": "2022-11-13T18:49:29.515Z"
   },
   {
    "duration": 125,
    "start_time": "2022-11-13T18:49:31.044Z"
   },
   {
    "duration": 13,
    "start_time": "2022-11-13T18:49:31.170Z"
   },
   {
    "duration": 29,
    "start_time": "2022-11-13T18:49:31.184Z"
   },
   {
    "duration": 21,
    "start_time": "2022-11-13T18:49:31.215Z"
   },
   {
    "duration": 11,
    "start_time": "2022-11-13T18:49:31.237Z"
   },
   {
    "duration": 14,
    "start_time": "2022-11-13T18:49:31.249Z"
   },
   {
    "duration": 24,
    "start_time": "2022-11-13T18:49:31.264Z"
   },
   {
    "duration": 38,
    "start_time": "2022-11-13T18:49:31.290Z"
   },
   {
    "duration": 21,
    "start_time": "2022-11-13T18:49:31.330Z"
   },
   {
    "duration": 24,
    "start_time": "2022-11-13T18:49:31.353Z"
   },
   {
    "duration": 28,
    "start_time": "2022-11-13T18:49:31.379Z"
   },
   {
    "duration": 20,
    "start_time": "2022-11-13T18:49:31.409Z"
   },
   {
    "duration": 32,
    "start_time": "2022-11-13T18:49:31.431Z"
   },
   {
    "duration": 7,
    "start_time": "2022-11-13T18:49:31.464Z"
   },
   {
    "duration": 29,
    "start_time": "2022-11-13T18:49:31.472Z"
   },
   {
    "duration": 16,
    "start_time": "2022-11-13T18:49:31.503Z"
   },
   {
    "duration": 7,
    "start_time": "2022-11-13T18:49:31.521Z"
   },
   {
    "duration": 11,
    "start_time": "2022-11-13T18:49:31.530Z"
   },
   {
    "duration": 18,
    "start_time": "2022-11-13T18:49:31.542Z"
   },
   {
    "duration": 46,
    "start_time": "2022-11-13T18:49:31.562Z"
   },
   {
    "duration": 12,
    "start_time": "2022-11-13T18:49:31.609Z"
   },
   {
    "duration": 14,
    "start_time": "2022-11-13T18:49:31.623Z"
   },
   {
    "duration": 9,
    "start_time": "2022-11-13T18:49:31.638Z"
   },
   {
    "duration": 308,
    "start_time": "2022-11-13T18:49:31.648Z"
   },
   {
    "duration": 209,
    "start_time": "2022-11-13T18:49:31.958Z"
   },
   {
    "duration": 273,
    "start_time": "2022-11-13T18:49:32.169Z"
   },
   {
    "duration": 469,
    "start_time": "2022-11-13T18:49:32.443Z"
   },
   {
    "duration": 63,
    "start_time": "2022-11-13T18:49:32.914Z"
   },
   {
    "duration": 153,
    "start_time": "2022-11-13T18:49:32.979Z"
   },
   {
    "duration": 23,
    "start_time": "2022-11-13T18:49:33.134Z"
   },
   {
    "duration": 3961,
    "start_time": "2022-11-13T18:49:33.158Z"
   },
   {
    "duration": 310,
    "start_time": "2022-11-13T18:49:37.121Z"
   },
   {
    "duration": 142,
    "start_time": "2022-11-13T18:49:37.433Z"
   },
   {
    "duration": 154,
    "start_time": "2022-11-13T18:49:37.576Z"
   },
   {
    "duration": 263,
    "start_time": "2022-11-13T18:49:37.732Z"
   },
   {
    "duration": 162,
    "start_time": "2022-11-13T18:49:37.996Z"
   },
   {
    "duration": 13,
    "start_time": "2022-11-13T18:49:38.160Z"
   },
   {
    "duration": 11,
    "start_time": "2022-11-13T18:49:38.175Z"
   },
   {
    "duration": 11,
    "start_time": "2022-11-13T18:49:38.187Z"
   },
   {
    "duration": 11,
    "start_time": "2022-11-13T18:49:38.201Z"
   },
   {
    "duration": 36,
    "start_time": "2022-11-13T18:49:38.214Z"
   },
   {
    "duration": 14,
    "start_time": "2022-11-13T18:49:38.251Z"
   },
   {
    "duration": 511,
    "start_time": "2022-11-13T18:49:38.267Z"
   },
   {
    "duration": 6,
    "start_time": "2022-11-13T18:49:38.779Z"
   },
   {
    "duration": 7,
    "start_time": "2022-11-13T18:49:38.786Z"
   },
   {
    "duration": 16,
    "start_time": "2022-11-13T18:49:38.795Z"
   },
   {
    "duration": 6,
    "start_time": "2022-11-13T18:49:38.812Z"
   },
   {
    "duration": 16,
    "start_time": "2022-11-13T18:49:38.819Z"
   },
   {
    "duration": 147,
    "start_time": "2022-11-13T18:49:38.836Z"
   },
   {
    "duration": 4,
    "start_time": "2022-11-13T18:49:38.985Z"
   },
   {
    "duration": 22132,
    "start_time": "2022-11-13T18:49:38.991Z"
   },
   {
    "duration": 8,
    "start_time": "2022-11-13T18:50:01.125Z"
   },
   {
    "duration": 19,
    "start_time": "2022-11-13T18:50:01.134Z"
   },
   {
    "duration": 8,
    "start_time": "2022-11-13T18:50:01.155Z"
   },
   {
    "duration": 5,
    "start_time": "2022-11-13T18:50:01.164Z"
   },
   {
    "duration": 81,
    "start_time": "2022-11-13T18:50:01.170Z"
   },
   {
    "duration": 17,
    "start_time": "2022-11-13T18:50:01.253Z"
   },
   {
    "duration": 9,
    "start_time": "2022-11-13T18:50:01.272Z"
   },
   {
    "duration": 28,
    "start_time": "2022-11-13T18:50:01.282Z"
   },
   {
    "duration": 13,
    "start_time": "2022-11-13T18:50:01.312Z"
   },
   {
    "duration": 15,
    "start_time": "2022-11-13T18:50:01.348Z"
   },
   {
    "duration": 34,
    "start_time": "2022-11-13T18:50:01.364Z"
   },
   {
    "duration": 21,
    "start_time": "2022-11-13T18:50:01.400Z"
   },
   {
    "duration": 19,
    "start_time": "2022-11-13T18:50:01.423Z"
   },
   {
    "duration": 5,
    "start_time": "2022-11-13T18:50:01.444Z"
   },
   {
    "duration": 13,
    "start_time": "2022-11-13T18:50:26.800Z"
   },
   {
    "duration": 11,
    "start_time": "2022-11-13T18:50:34.033Z"
   },
   {
    "duration": 117,
    "start_time": "2022-11-13T18:50:40.588Z"
   },
   {
    "duration": 10,
    "start_time": "2022-11-13T18:50:43.428Z"
   },
   {
    "duration": 11,
    "start_time": "2022-11-13T18:50:57.932Z"
   },
   {
    "duration": 12,
    "start_time": "2022-11-13T18:51:20.144Z"
   },
   {
    "duration": 18,
    "start_time": "2022-11-13T18:51:44.020Z"
   },
   {
    "duration": 12,
    "start_time": "2022-11-13T18:52:19.915Z"
   },
   {
    "duration": 15,
    "start_time": "2022-11-13T18:52:31.707Z"
   },
   {
    "duration": 11,
    "start_time": "2022-11-13T18:52:36.775Z"
   },
   {
    "duration": 15,
    "start_time": "2022-11-13T18:53:42.148Z"
   },
   {
    "duration": 18,
    "start_time": "2022-11-13T18:54:13.467Z"
   },
   {
    "duration": 14,
    "start_time": "2022-11-13T18:55:24.575Z"
   },
   {
    "duration": 27,
    "start_time": "2022-11-13T18:56:21.507Z"
   },
   {
    "duration": 11,
    "start_time": "2022-11-13T18:57:13.063Z"
   },
   {
    "duration": 27,
    "start_time": "2022-11-13T18:57:27.755Z"
   },
   {
    "duration": 21,
    "start_time": "2022-11-13T18:58:11.043Z"
   },
   {
    "duration": 18,
    "start_time": "2022-11-13T19:02:08.415Z"
   },
   {
    "duration": 4,
    "start_time": "2022-11-13T19:04:04.775Z"
   },
   {
    "duration": 9,
    "start_time": "2022-11-13T19:04:08.355Z"
   },
   {
    "duration": 8,
    "start_time": "2022-11-13T19:04:33.375Z"
   },
   {
    "duration": 1319,
    "start_time": "2022-11-13T19:04:59.761Z"
   },
   {
    "duration": 88,
    "start_time": "2022-11-13T19:05:01.082Z"
   },
   {
    "duration": 12,
    "start_time": "2022-11-13T19:05:01.171Z"
   },
   {
    "duration": 11,
    "start_time": "2022-11-13T19:05:01.185Z"
   },
   {
    "duration": 10,
    "start_time": "2022-11-13T19:05:01.198Z"
   },
   {
    "duration": 13,
    "start_time": "2022-11-13T19:05:01.209Z"
   },
   {
    "duration": 28,
    "start_time": "2022-11-13T19:05:01.223Z"
   },
   {
    "duration": 9,
    "start_time": "2022-11-13T19:05:01.253Z"
   },
   {
    "duration": 19,
    "start_time": "2022-11-13T19:05:01.263Z"
   },
   {
    "duration": 11,
    "start_time": "2022-11-13T19:05:01.286Z"
   },
   {
    "duration": 20,
    "start_time": "2022-11-13T19:05:01.299Z"
   },
   {
    "duration": 32,
    "start_time": "2022-11-13T19:05:01.321Z"
   },
   {
    "duration": 18,
    "start_time": "2022-11-13T19:05:01.355Z"
   },
   {
    "duration": 29,
    "start_time": "2022-11-13T19:05:01.375Z"
   },
   {
    "duration": 4,
    "start_time": "2022-11-13T19:05:01.405Z"
   },
   {
    "duration": 14,
    "start_time": "2022-11-13T19:05:01.411Z"
   },
   {
    "duration": 19,
    "start_time": "2022-11-13T19:05:01.427Z"
   },
   {
    "duration": 33,
    "start_time": "2022-11-13T19:05:01.447Z"
   },
   {
    "duration": 31,
    "start_time": "2022-11-13T19:05:01.482Z"
   },
   {
    "duration": 35,
    "start_time": "2022-11-13T19:05:01.515Z"
   },
   {
    "duration": 32,
    "start_time": "2022-11-13T19:05:01.552Z"
   },
   {
    "duration": 25,
    "start_time": "2022-11-13T19:05:01.587Z"
   },
   {
    "duration": 38,
    "start_time": "2022-11-13T19:05:01.614Z"
   },
   {
    "duration": 20,
    "start_time": "2022-11-13T19:05:01.654Z"
   },
   {
    "duration": 338,
    "start_time": "2022-11-13T19:05:01.675Z"
   },
   {
    "duration": 218,
    "start_time": "2022-11-13T19:05:02.015Z"
   },
   {
    "duration": 273,
    "start_time": "2022-11-13T19:05:02.235Z"
   },
   {
    "duration": 501,
    "start_time": "2022-11-13T19:05:02.512Z"
   },
   {
    "duration": 66,
    "start_time": "2022-11-13T19:05:03.015Z"
   },
   {
    "duration": 185,
    "start_time": "2022-11-13T19:05:03.082Z"
   },
   {
    "duration": 18,
    "start_time": "2022-11-13T19:05:03.269Z"
   },
   {
    "duration": 4165,
    "start_time": "2022-11-13T19:05:03.290Z"
   },
   {
    "duration": 295,
    "start_time": "2022-11-13T19:05:07.456Z"
   },
   {
    "duration": 143,
    "start_time": "2022-11-13T19:05:07.753Z"
   },
   {
    "duration": 153,
    "start_time": "2022-11-13T19:05:07.897Z"
   },
   {
    "duration": 263,
    "start_time": "2022-11-13T19:05:08.051Z"
   },
   {
    "duration": 184,
    "start_time": "2022-11-13T19:05:08.316Z"
   },
   {
    "duration": 15,
    "start_time": "2022-11-13T19:05:08.502Z"
   },
   {
    "duration": 12,
    "start_time": "2022-11-13T19:05:08.518Z"
   },
   {
    "duration": 19,
    "start_time": "2022-11-13T19:05:08.547Z"
   },
   {
    "duration": 13,
    "start_time": "2022-11-13T19:05:08.568Z"
   },
   {
    "duration": 11,
    "start_time": "2022-11-13T19:05:08.583Z"
   },
   {
    "duration": 18,
    "start_time": "2022-11-13T19:05:08.596Z"
   },
   {
    "duration": 659,
    "start_time": "2022-11-13T19:05:08.649Z"
   },
   {
    "duration": 14,
    "start_time": "2022-11-13T19:05:09.310Z"
   },
   {
    "duration": 9,
    "start_time": "2022-11-13T19:05:09.326Z"
   },
   {
    "duration": 12,
    "start_time": "2022-11-13T19:05:09.337Z"
   },
   {
    "duration": 4,
    "start_time": "2022-11-13T19:05:09.351Z"
   },
   {
    "duration": 19,
    "start_time": "2022-11-13T19:05:09.356Z"
   },
   {
    "duration": 27,
    "start_time": "2022-11-13T19:05:09.376Z"
   },
   {
    "duration": 5,
    "start_time": "2022-11-13T19:05:09.405Z"
   },
   {
    "duration": 23131,
    "start_time": "2022-11-13T19:05:09.412Z"
   },
   {
    "duration": 10,
    "start_time": "2022-11-13T19:05:32.545Z"
   },
   {
    "duration": 10,
    "start_time": "2022-11-13T19:05:32.557Z"
   },
   {
    "duration": 9,
    "start_time": "2022-11-13T19:05:32.568Z"
   },
   {
    "duration": 3,
    "start_time": "2022-11-13T19:05:32.579Z"
   },
   {
    "duration": 106,
    "start_time": "2022-11-13T19:05:32.584Z"
   },
   {
    "duration": 3,
    "start_time": "2022-11-13T19:05:32.692Z"
   },
   {
    "duration": 7,
    "start_time": "2022-11-13T19:05:32.697Z"
   },
   {
    "duration": 20,
    "start_time": "2022-11-13T19:05:32.705Z"
   },
   {
    "duration": 10,
    "start_time": "2022-11-13T19:05:32.726Z"
   },
   {
    "duration": 18,
    "start_time": "2022-11-13T19:05:32.748Z"
   },
   {
    "duration": 19,
    "start_time": "2022-11-13T19:05:32.767Z"
   },
   {
    "duration": 15,
    "start_time": "2022-11-13T19:05:32.787Z"
   },
   {
    "duration": 10,
    "start_time": "2022-11-13T19:05:32.803Z"
   },
   {
    "duration": 37,
    "start_time": "2022-11-13T19:05:32.814Z"
   },
   {
    "duration": 19,
    "start_time": "2022-11-13T19:05:32.852Z"
   },
   {
    "duration": 5,
    "start_time": "2022-11-13T19:05:32.873Z"
   },
   {
    "duration": 21,
    "start_time": "2022-11-13T19:06:07.727Z"
   },
   {
    "duration": 5,
    "start_time": "2022-11-13T19:06:20.218Z"
   },
   {
    "duration": 115,
    "start_time": "2022-11-13T19:06:27.491Z"
   },
   {
    "duration": 1377,
    "start_time": "2022-11-13T19:06:44.551Z"
   },
   {
    "duration": 87,
    "start_time": "2022-11-13T19:06:45.930Z"
   },
   {
    "duration": 10,
    "start_time": "2022-11-13T19:06:46.018Z"
   },
   {
    "duration": 9,
    "start_time": "2022-11-13T19:06:46.030Z"
   },
   {
    "duration": 10,
    "start_time": "2022-11-13T19:06:46.040Z"
   },
   {
    "duration": 9,
    "start_time": "2022-11-13T19:06:46.052Z"
   },
   {
    "duration": 8,
    "start_time": "2022-11-13T19:06:46.062Z"
   },
   {
    "duration": 8,
    "start_time": "2022-11-13T19:06:46.072Z"
   },
   {
    "duration": 17,
    "start_time": "2022-11-13T19:06:46.081Z"
   },
   {
    "duration": 14,
    "start_time": "2022-11-13T19:06:46.099Z"
   },
   {
    "duration": 8,
    "start_time": "2022-11-13T19:06:46.115Z"
   },
   {
    "duration": 38,
    "start_time": "2022-11-13T19:06:46.124Z"
   },
   {
    "duration": 14,
    "start_time": "2022-11-13T19:06:46.164Z"
   },
   {
    "duration": 23,
    "start_time": "2022-11-13T19:06:46.181Z"
   },
   {
    "duration": 16,
    "start_time": "2022-11-13T19:06:46.206Z"
   },
   {
    "duration": 8,
    "start_time": "2022-11-13T19:06:46.224Z"
   },
   {
    "duration": 10,
    "start_time": "2022-11-13T19:06:46.234Z"
   },
   {
    "duration": 13,
    "start_time": "2022-11-13T19:06:46.245Z"
   },
   {
    "duration": 11,
    "start_time": "2022-11-13T19:06:46.260Z"
   },
   {
    "duration": 60,
    "start_time": "2022-11-13T19:06:46.272Z"
   },
   {
    "duration": 21,
    "start_time": "2022-11-13T19:06:46.334Z"
   },
   {
    "duration": 13,
    "start_time": "2022-11-13T19:06:46.356Z"
   },
   {
    "duration": 13,
    "start_time": "2022-11-13T19:06:46.370Z"
   },
   {
    "duration": 7,
    "start_time": "2022-11-13T19:06:46.384Z"
   },
   {
    "duration": 301,
    "start_time": "2022-11-13T19:06:46.392Z"
   },
   {
    "duration": 199,
    "start_time": "2022-11-13T19:06:46.694Z"
   },
   {
    "duration": 282,
    "start_time": "2022-11-13T19:06:46.895Z"
   },
   {
    "duration": 501,
    "start_time": "2022-11-13T19:06:47.179Z"
   },
   {
    "duration": 66,
    "start_time": "2022-11-13T19:06:47.682Z"
   },
   {
    "duration": 151,
    "start_time": "2022-11-13T19:06:47.750Z"
   },
   {
    "duration": 16,
    "start_time": "2022-11-13T19:06:47.903Z"
   },
   {
    "duration": 3938,
    "start_time": "2022-11-13T19:06:47.921Z"
   },
   {
    "duration": 292,
    "start_time": "2022-11-13T19:06:51.861Z"
   },
   {
    "duration": 151,
    "start_time": "2022-11-13T19:06:52.155Z"
   },
   {
    "duration": 153,
    "start_time": "2022-11-13T19:06:52.308Z"
   },
   {
    "duration": 260,
    "start_time": "2022-11-13T19:06:52.463Z"
   },
   {
    "duration": 166,
    "start_time": "2022-11-13T19:06:52.725Z"
   },
   {
    "duration": 14,
    "start_time": "2022-11-13T19:06:52.893Z"
   },
   {
    "duration": 12,
    "start_time": "2022-11-13T19:06:52.908Z"
   },
   {
    "duration": 31,
    "start_time": "2022-11-13T19:06:52.921Z"
   },
   {
    "duration": 12,
    "start_time": "2022-11-13T19:06:52.956Z"
   },
   {
    "duration": 13,
    "start_time": "2022-11-13T19:06:52.970Z"
   },
   {
    "duration": 15,
    "start_time": "2022-11-13T19:06:52.985Z"
   },
   {
    "duration": 516,
    "start_time": "2022-11-13T19:06:53.002Z"
   },
   {
    "duration": 5,
    "start_time": "2022-11-13T19:06:53.520Z"
   },
   {
    "duration": 13,
    "start_time": "2022-11-13T19:06:53.526Z"
   },
   {
    "duration": 9,
    "start_time": "2022-11-13T19:06:53.541Z"
   },
   {
    "duration": 4,
    "start_time": "2022-11-13T19:06:53.551Z"
   },
   {
    "duration": 13,
    "start_time": "2022-11-13T19:06:53.557Z"
   },
   {
    "duration": 159,
    "start_time": "2022-11-13T19:06:53.571Z"
   },
   {
    "duration": 5,
    "start_time": "2022-11-13T19:06:53.732Z"
   },
   {
    "duration": 22532,
    "start_time": "2022-11-13T19:06:53.738Z"
   },
   {
    "duration": 9,
    "start_time": "2022-11-13T19:07:16.271Z"
   },
   {
    "duration": 9,
    "start_time": "2022-11-13T19:07:16.281Z"
   },
   {
    "duration": 8,
    "start_time": "2022-11-13T19:07:16.292Z"
   },
   {
    "duration": 4,
    "start_time": "2022-11-13T19:07:16.301Z"
   },
   {
    "duration": 95,
    "start_time": "2022-11-13T19:07:16.306Z"
   },
   {
    "duration": 21,
    "start_time": "2022-11-13T19:07:16.403Z"
   },
   {
    "duration": 2,
    "start_time": "2022-11-13T19:07:16.426Z"
   },
   {
    "duration": 33,
    "start_time": "2022-11-13T19:07:16.430Z"
   },
   {
    "duration": 9,
    "start_time": "2022-11-13T19:07:16.465Z"
   },
   {
    "duration": 19,
    "start_time": "2022-11-13T19:07:16.475Z"
   },
   {
    "duration": 16,
    "start_time": "2022-11-13T19:07:16.495Z"
   },
   {
    "duration": 12,
    "start_time": "2022-11-13T19:07:16.512Z"
   },
   {
    "duration": 29,
    "start_time": "2022-11-13T19:07:16.525Z"
   },
   {
    "duration": 7,
    "start_time": "2022-11-13T19:07:16.555Z"
   },
   {
    "duration": 19,
    "start_time": "2022-11-13T19:07:16.563Z"
   },
   {
    "duration": 4,
    "start_time": "2022-11-13T19:07:16.584Z"
   },
   {
    "duration": 5,
    "start_time": "2022-11-13T19:07:48.235Z"
   },
   {
    "duration": 20,
    "start_time": "2022-11-13T19:07:53.546Z"
   },
   {
    "duration": 17,
    "start_time": "2022-11-13T19:07:54.378Z"
   },
   {
    "duration": 9,
    "start_time": "2022-11-13T19:12:20.891Z"
   },
   {
    "duration": 109,
    "start_time": "2022-11-13T19:13:49.818Z"
   },
   {
    "duration": 8,
    "start_time": "2022-11-13T19:14:26.074Z"
   },
   {
    "duration": 8,
    "start_time": "2022-11-13T19:14:34.067Z"
   },
   {
    "duration": 4,
    "start_time": "2022-11-13T19:15:25.843Z"
   },
   {
    "duration": 8,
    "start_time": "2022-11-13T19:15:34.786Z"
   },
   {
    "duration": 7,
    "start_time": "2022-11-13T19:15:44.819Z"
   },
   {
    "duration": 47,
    "start_time": "2022-11-13T19:16:01.495Z"
   },
   {
    "duration": 48,
    "start_time": "2022-11-13T19:16:08.146Z"
   },
   {
    "duration": 53,
    "start_time": "2022-11-13T19:16:30.466Z"
   },
   {
    "duration": 7,
    "start_time": "2022-11-13T19:16:36.988Z"
   },
   {
    "duration": 7,
    "start_time": "2022-11-13T19:16:59.957Z"
   },
   {
    "duration": 42,
    "start_time": "2022-11-13T19:17:22.644Z"
   },
   {
    "duration": 8,
    "start_time": "2022-11-13T19:17:31.275Z"
   },
   {
    "duration": 8,
    "start_time": "2022-11-13T19:17:50.136Z"
   },
   {
    "duration": 19,
    "start_time": "2022-11-13T19:31:45.621Z"
   },
   {
    "duration": 19,
    "start_time": "2022-11-13T19:31:51.069Z"
   },
   {
    "duration": 22,
    "start_time": "2022-11-13T19:32:12.068Z"
   },
   {
    "duration": 17,
    "start_time": "2022-11-13T19:32:22.657Z"
   },
   {
    "duration": 21,
    "start_time": "2022-11-13T19:32:28.048Z"
   },
   {
    "duration": 12,
    "start_time": "2022-11-13T19:34:50.609Z"
   },
   {
    "duration": 17,
    "start_time": "2022-11-13T19:34:56.289Z"
   },
   {
    "duration": 16,
    "start_time": "2022-11-13T19:35:07.409Z"
   },
   {
    "duration": 19,
    "start_time": "2022-11-13T19:35:32.877Z"
   },
   {
    "duration": 15,
    "start_time": "2022-11-13T19:37:05.905Z"
   },
   {
    "duration": 15,
    "start_time": "2022-11-13T19:37:11.249Z"
   },
   {
    "duration": 18,
    "start_time": "2022-11-13T19:37:18.156Z"
   },
   {
    "duration": 16,
    "start_time": "2022-11-13T19:38:00.970Z"
   },
   {
    "duration": 17,
    "start_time": "2022-11-13T19:38:12.557Z"
   },
   {
    "duration": 16,
    "start_time": "2022-11-13T19:38:16.777Z"
   },
   {
    "duration": 1462,
    "start_time": "2022-11-13T20:07:23.894Z"
   },
   {
    "duration": 248,
    "start_time": "2022-11-13T20:07:25.358Z"
   },
   {
    "duration": 12,
    "start_time": "2022-11-13T20:07:25.608Z"
   },
   {
    "duration": 36,
    "start_time": "2022-11-13T20:07:25.622Z"
   },
   {
    "duration": 12,
    "start_time": "2022-11-13T20:07:25.660Z"
   },
   {
    "duration": 14,
    "start_time": "2022-11-13T20:07:25.674Z"
   },
   {
    "duration": 11,
    "start_time": "2022-11-13T20:07:25.690Z"
   },
   {
    "duration": 17,
    "start_time": "2022-11-13T20:07:25.702Z"
   },
   {
    "duration": 31,
    "start_time": "2022-11-13T20:07:25.725Z"
   },
   {
    "duration": 9,
    "start_time": "2022-11-13T20:07:25.758Z"
   },
   {
    "duration": 12,
    "start_time": "2022-11-13T20:07:25.769Z"
   },
   {
    "duration": 12,
    "start_time": "2022-11-13T20:07:25.782Z"
   },
   {
    "duration": 8,
    "start_time": "2022-11-13T20:07:25.795Z"
   },
   {
    "duration": 56,
    "start_time": "2022-11-13T20:07:25.806Z"
   },
   {
    "duration": 4,
    "start_time": "2022-11-13T20:07:25.864Z"
   },
   {
    "duration": 17,
    "start_time": "2022-11-13T20:07:25.869Z"
   },
   {
    "duration": 8,
    "start_time": "2022-11-13T20:07:25.888Z"
   },
   {
    "duration": 6,
    "start_time": "2022-11-13T20:07:25.897Z"
   },
   {
    "duration": 7,
    "start_time": "2022-11-13T20:07:25.905Z"
   },
   {
    "duration": 17,
    "start_time": "2022-11-13T20:07:25.913Z"
   },
   {
    "duration": 26,
    "start_time": "2022-11-13T20:07:25.931Z"
   },
   {
    "duration": 12,
    "start_time": "2022-11-13T20:07:25.958Z"
   },
   {
    "duration": 11,
    "start_time": "2022-11-13T20:07:25.972Z"
   },
   {
    "duration": 16,
    "start_time": "2022-11-13T20:07:25.985Z"
   },
   {
    "duration": 332,
    "start_time": "2022-11-13T20:07:26.004Z"
   },
   {
    "duration": 222,
    "start_time": "2022-11-13T20:07:26.337Z"
   },
   {
    "duration": 277,
    "start_time": "2022-11-13T20:07:26.561Z"
   },
   {
    "duration": 475,
    "start_time": "2022-11-13T20:07:26.840Z"
   },
   {
    "duration": 64,
    "start_time": "2022-11-13T20:07:27.317Z"
   },
   {
    "duration": 162,
    "start_time": "2022-11-13T20:07:27.382Z"
   },
   {
    "duration": 18,
    "start_time": "2022-11-13T20:07:27.545Z"
   },
   {
    "duration": 3966,
    "start_time": "2022-11-13T20:07:27.565Z"
   },
   {
    "duration": 303,
    "start_time": "2022-11-13T20:07:31.532Z"
   },
   {
    "duration": 144,
    "start_time": "2022-11-13T20:07:31.837Z"
   },
   {
    "duration": 153,
    "start_time": "2022-11-13T20:07:31.983Z"
   },
   {
    "duration": 273,
    "start_time": "2022-11-13T20:07:32.138Z"
   },
   {
    "duration": 175,
    "start_time": "2022-11-13T20:07:32.413Z"
   },
   {
    "duration": 13,
    "start_time": "2022-11-13T20:07:32.590Z"
   },
   {
    "duration": 19,
    "start_time": "2022-11-13T20:07:32.604Z"
   },
   {
    "duration": 25,
    "start_time": "2022-11-13T20:07:32.624Z"
   },
   {
    "duration": 11,
    "start_time": "2022-11-13T20:07:32.652Z"
   },
   {
    "duration": 38,
    "start_time": "2022-11-13T20:07:32.664Z"
   },
   {
    "duration": 27,
    "start_time": "2022-11-13T20:07:32.703Z"
   },
   {
    "duration": 517,
    "start_time": "2022-11-13T20:07:32.732Z"
   },
   {
    "duration": 5,
    "start_time": "2022-11-13T20:07:33.251Z"
   },
   {
    "duration": 12,
    "start_time": "2022-11-13T20:07:33.258Z"
   },
   {
    "duration": 14,
    "start_time": "2022-11-13T20:07:33.271Z"
   },
   {
    "duration": 11,
    "start_time": "2022-11-13T20:07:33.286Z"
   },
   {
    "duration": 36,
    "start_time": "2022-11-13T20:07:33.298Z"
   },
   {
    "duration": 149,
    "start_time": "2022-11-13T20:07:33.335Z"
   },
   {
    "duration": 5,
    "start_time": "2022-11-13T20:07:33.485Z"
   },
   {
    "duration": 22297,
    "start_time": "2022-11-13T20:07:33.492Z"
   },
   {
    "duration": 9,
    "start_time": "2022-11-13T20:07:55.790Z"
   },
   {
    "duration": 8,
    "start_time": "2022-11-13T20:07:55.800Z"
   },
   {
    "duration": 11,
    "start_time": "2022-11-13T20:07:55.809Z"
   },
   {
    "duration": 4,
    "start_time": "2022-11-13T20:07:55.821Z"
   },
   {
    "duration": 88,
    "start_time": "2022-11-13T20:07:55.827Z"
   },
   {
    "duration": 6,
    "start_time": "2022-11-13T20:07:55.916Z"
   },
   {
    "duration": 34,
    "start_time": "2022-11-13T20:07:55.923Z"
   },
   {
    "duration": 6,
    "start_time": "2022-11-13T20:07:55.958Z"
   },
   {
    "duration": 19,
    "start_time": "2022-11-13T20:07:55.966Z"
   },
   {
    "duration": 7,
    "start_time": "2022-11-13T20:07:55.986Z"
   },
   {
    "duration": 27,
    "start_time": "2022-11-13T20:07:55.994Z"
   },
   {
    "duration": 5,
    "start_time": "2022-11-13T20:07:56.022Z"
   },
   {
    "duration": 25,
    "start_time": "2022-11-13T20:07:56.028Z"
   },
   {
    "duration": 24,
    "start_time": "2022-11-13T20:07:56.054Z"
   },
   {
    "duration": 1586,
    "start_time": "2022-11-14T19:52:44.282Z"
   },
   {
    "duration": 179,
    "start_time": "2022-11-14T19:52:45.870Z"
   },
   {
    "duration": 11,
    "start_time": "2022-11-14T19:52:46.050Z"
   },
   {
    "duration": 13,
    "start_time": "2022-11-14T19:52:46.062Z"
   },
   {
    "duration": 11,
    "start_time": "2022-11-14T19:52:46.076Z"
   },
   {
    "duration": 10,
    "start_time": "2022-11-14T19:52:46.088Z"
   },
   {
    "duration": 9,
    "start_time": "2022-11-14T19:52:46.099Z"
   },
   {
    "duration": 7,
    "start_time": "2022-11-14T19:52:46.110Z"
   },
   {
    "duration": 13,
    "start_time": "2022-11-14T19:52:46.119Z"
   },
   {
    "duration": 9,
    "start_time": "2022-11-14T19:52:46.134Z"
   },
   {
    "duration": 8,
    "start_time": "2022-11-14T19:52:46.144Z"
   },
   {
    "duration": 11,
    "start_time": "2022-11-14T19:52:46.153Z"
   },
   {
    "duration": 31,
    "start_time": "2022-11-14T19:52:46.166Z"
   },
   {
    "duration": 25,
    "start_time": "2022-11-14T19:52:46.199Z"
   },
   {
    "duration": 4,
    "start_time": "2022-11-14T19:52:46.225Z"
   },
   {
    "duration": 5,
    "start_time": "2022-11-14T19:52:46.231Z"
   },
   {
    "duration": 7,
    "start_time": "2022-11-14T19:52:46.237Z"
   },
   {
    "duration": 6,
    "start_time": "2022-11-14T19:52:46.245Z"
   },
   {
    "duration": 7,
    "start_time": "2022-11-14T19:52:46.252Z"
   },
   {
    "duration": 42,
    "start_time": "2022-11-14T19:52:46.260Z"
   },
   {
    "duration": 12,
    "start_time": "2022-11-14T19:52:46.304Z"
   },
   {
    "duration": 12,
    "start_time": "2022-11-14T19:52:46.318Z"
   },
   {
    "duration": 5,
    "start_time": "2022-11-14T19:52:46.332Z"
   },
   {
    "duration": 5,
    "start_time": "2022-11-14T19:52:46.338Z"
   },
   {
    "duration": 298,
    "start_time": "2022-11-14T19:52:46.345Z"
   },
   {
    "duration": 193,
    "start_time": "2022-11-14T19:52:46.645Z"
   },
   {
    "duration": 270,
    "start_time": "2022-11-14T19:52:46.839Z"
   },
   {
    "duration": 456,
    "start_time": "2022-11-14T19:52:47.114Z"
   },
   {
    "duration": 64,
    "start_time": "2022-11-14T19:52:47.572Z"
   },
   {
    "duration": 161,
    "start_time": "2022-11-14T19:52:47.638Z"
   },
   {
    "duration": 16,
    "start_time": "2022-11-14T19:52:47.800Z"
   },
   {
    "duration": 3884,
    "start_time": "2022-11-14T19:52:47.818Z"
   },
   {
    "duration": 288,
    "start_time": "2022-11-14T19:52:51.703Z"
   },
   {
    "duration": 139,
    "start_time": "2022-11-14T19:52:51.997Z"
   },
   {
    "duration": 151,
    "start_time": "2022-11-14T19:52:52.137Z"
   },
   {
    "duration": 253,
    "start_time": "2022-11-14T19:52:52.289Z"
   },
   {
    "duration": 160,
    "start_time": "2022-11-14T19:52:52.544Z"
   },
   {
    "duration": 12,
    "start_time": "2022-11-14T19:52:52.706Z"
   },
   {
    "duration": 12,
    "start_time": "2022-11-14T19:52:52.720Z"
   },
   {
    "duration": 20,
    "start_time": "2022-11-14T19:52:52.733Z"
   },
   {
    "duration": 13,
    "start_time": "2022-11-14T19:52:52.754Z"
   },
   {
    "duration": 29,
    "start_time": "2022-11-14T19:52:52.768Z"
   },
   {
    "duration": 13,
    "start_time": "2022-11-14T19:52:52.799Z"
   },
   {
    "duration": 598,
    "start_time": "2022-11-14T19:52:52.813Z"
   },
   {
    "duration": 5,
    "start_time": "2022-11-14T19:52:53.413Z"
   },
   {
    "duration": 13,
    "start_time": "2022-11-14T19:52:53.419Z"
   },
   {
    "duration": 19,
    "start_time": "2022-11-14T19:52:53.433Z"
   },
   {
    "duration": 11,
    "start_time": "2022-11-14T19:52:53.455Z"
   },
   {
    "duration": 26,
    "start_time": "2022-11-14T19:52:53.468Z"
   },
   {
    "duration": 38,
    "start_time": "2022-11-14T19:52:53.495Z"
   },
   {
    "duration": 4,
    "start_time": "2022-11-14T19:52:53.535Z"
   },
   {
    "duration": 22288,
    "start_time": "2022-11-14T19:52:53.541Z"
   },
   {
    "duration": 9,
    "start_time": "2022-11-14T19:53:15.831Z"
   },
   {
    "duration": 10,
    "start_time": "2022-11-14T19:53:15.841Z"
   },
   {
    "duration": 20,
    "start_time": "2022-11-14T19:53:15.853Z"
   },
   {
    "duration": 3,
    "start_time": "2022-11-14T19:53:15.875Z"
   },
   {
    "duration": 86,
    "start_time": "2022-11-14T19:53:15.879Z"
   },
   {
    "duration": 5,
    "start_time": "2022-11-14T19:53:15.966Z"
   },
   {
    "duration": 27,
    "start_time": "2022-11-14T19:53:15.972Z"
   },
   {
    "duration": 5,
    "start_time": "2022-11-14T19:53:16.001Z"
   },
   {
    "duration": 21,
    "start_time": "2022-11-14T19:57:15.588Z"
   },
   {
    "duration": 25,
    "start_time": "2022-11-14T19:57:30.262Z"
   },
   {
    "duration": 21,
    "start_time": "2022-11-14T19:57:34.167Z"
   },
   {
    "duration": 20,
    "start_time": "2022-11-14T19:57:53.227Z"
   },
   {
    "duration": 10,
    "start_time": "2022-11-14T20:02:34.905Z"
   },
   {
    "duration": 9,
    "start_time": "2022-11-14T20:02:45.345Z"
   },
   {
    "duration": 1831,
    "start_time": "2022-11-14T20:36:44.969Z"
   },
   {
    "duration": 190,
    "start_time": "2022-11-14T20:36:46.802Z"
   },
   {
    "duration": 16,
    "start_time": "2022-11-14T20:36:46.994Z"
   },
   {
    "duration": 20,
    "start_time": "2022-11-14T20:36:47.012Z"
   },
   {
    "duration": 28,
    "start_time": "2022-11-14T20:36:47.035Z"
   },
   {
    "duration": 14,
    "start_time": "2022-11-14T20:36:47.065Z"
   },
   {
    "duration": 13,
    "start_time": "2022-11-14T20:36:47.080Z"
   },
   {
    "duration": 10,
    "start_time": "2022-11-14T20:36:47.094Z"
   },
   {
    "duration": 49,
    "start_time": "2022-11-14T20:36:47.106Z"
   },
   {
    "duration": 25,
    "start_time": "2022-11-14T20:36:47.157Z"
   },
   {
    "duration": 24,
    "start_time": "2022-11-14T20:36:47.185Z"
   },
   {
    "duration": 12,
    "start_time": "2022-11-14T20:36:47.211Z"
   },
   {
    "duration": 9,
    "start_time": "2022-11-14T20:36:47.225Z"
   },
   {
    "duration": 29,
    "start_time": "2022-11-14T20:36:47.252Z"
   },
   {
    "duration": 4,
    "start_time": "2022-11-14T20:36:47.283Z"
   },
   {
    "duration": 7,
    "start_time": "2022-11-14T20:36:47.289Z"
   },
   {
    "duration": 6,
    "start_time": "2022-11-14T20:36:47.297Z"
   },
   {
    "duration": 8,
    "start_time": "2022-11-14T20:36:47.305Z"
   },
   {
    "duration": 5,
    "start_time": "2022-11-14T20:36:47.351Z"
   },
   {
    "duration": 18,
    "start_time": "2022-11-14T20:36:47.358Z"
   },
   {
    "duration": 15,
    "start_time": "2022-11-14T20:36:47.378Z"
   },
   {
    "duration": 16,
    "start_time": "2022-11-14T20:36:47.395Z"
   },
   {
    "duration": 7,
    "start_time": "2022-11-14T20:36:47.413Z"
   },
   {
    "duration": 34,
    "start_time": "2022-11-14T20:36:47.422Z"
   },
   {
    "duration": 384,
    "start_time": "2022-11-14T20:36:47.458Z"
   },
   {
    "duration": 263,
    "start_time": "2022-11-14T20:36:47.844Z"
   },
   {
    "duration": 344,
    "start_time": "2022-11-14T20:36:48.109Z"
   },
   {
    "duration": 596,
    "start_time": "2022-11-14T20:36:48.455Z"
   },
   {
    "duration": 82,
    "start_time": "2022-11-14T20:36:49.053Z"
   },
   {
    "duration": 237,
    "start_time": "2022-11-14T20:36:49.137Z"
   },
   {
    "duration": 45,
    "start_time": "2022-11-14T20:36:49.376Z"
   },
   {
    "duration": 4941,
    "start_time": "2022-11-14T20:36:49.423Z"
   },
   {
    "duration": 393,
    "start_time": "2022-11-14T20:36:54.366Z"
   },
   {
    "duration": 181,
    "start_time": "2022-11-14T20:36:54.761Z"
   },
   {
    "duration": 202,
    "start_time": "2022-11-14T20:36:54.944Z"
   },
   {
    "duration": 348,
    "start_time": "2022-11-14T20:36:55.150Z"
   },
   {
    "duration": 202,
    "start_time": "2022-11-14T20:36:55.499Z"
   },
   {
    "duration": 20,
    "start_time": "2022-11-14T20:36:55.702Z"
   },
   {
    "duration": 38,
    "start_time": "2022-11-14T20:36:55.724Z"
   },
   {
    "duration": 20,
    "start_time": "2022-11-14T20:36:55.764Z"
   },
   {
    "duration": 17,
    "start_time": "2022-11-14T20:36:55.789Z"
   },
   {
    "duration": 44,
    "start_time": "2022-11-14T20:36:55.809Z"
   },
   {
    "duration": 22,
    "start_time": "2022-11-14T20:36:55.855Z"
   },
   {
    "duration": 672,
    "start_time": "2022-11-14T20:36:55.879Z"
   },
   {
    "duration": 7,
    "start_time": "2022-11-14T20:36:56.555Z"
   },
   {
    "duration": 18,
    "start_time": "2022-11-14T20:36:56.564Z"
   },
   {
    "duration": 10,
    "start_time": "2022-11-14T20:36:56.585Z"
   },
   {
    "duration": 5,
    "start_time": "2022-11-14T20:36:56.598Z"
   },
   {
    "duration": 23,
    "start_time": "2022-11-14T20:36:56.605Z"
   },
   {
    "duration": 202,
    "start_time": "2022-11-14T20:36:56.630Z"
   },
   {
    "duration": 7,
    "start_time": "2022-11-14T20:36:56.833Z"
   },
   {
    "duration": 27370,
    "start_time": "2022-11-14T20:36:56.842Z"
   },
   {
    "duration": 10,
    "start_time": "2022-11-14T20:37:24.214Z"
   },
   {
    "duration": 28,
    "start_time": "2022-11-14T20:37:24.226Z"
   },
   {
    "duration": 10,
    "start_time": "2022-11-14T20:37:24.256Z"
   },
   {
    "duration": 4,
    "start_time": "2022-11-14T20:37:24.268Z"
   },
   {
    "duration": 97,
    "start_time": "2022-11-14T20:37:24.274Z"
   },
   {
    "duration": 6,
    "start_time": "2022-11-14T20:37:24.373Z"
   },
   {
    "duration": 24,
    "start_time": "2022-11-14T20:37:24.380Z"
   },
   {
    "duration": 7,
    "start_time": "2022-11-14T20:37:24.405Z"
   },
   {
    "duration": 39,
    "start_time": "2022-11-14T20:37:24.414Z"
   },
   {
    "duration": 9,
    "start_time": "2022-11-14T20:37:24.455Z"
   },
   {
    "duration": 13,
    "start_time": "2022-11-14T20:37:24.466Z"
   },
   {
    "duration": 5,
    "start_time": "2022-11-14T20:37:24.481Z"
   },
   {
    "duration": 18,
    "start_time": "2022-11-14T20:37:24.487Z"
   },
   {
    "duration": 5,
    "start_time": "2022-11-14T20:37:24.506Z"
   },
   {
    "duration": 20,
    "start_time": "2022-11-14T20:39:18.796Z"
   },
   {
    "duration": 25,
    "start_time": "2022-11-14T20:39:30.681Z"
   },
   {
    "duration": 133,
    "start_time": "2022-11-14T20:40:51.526Z"
   },
   {
    "duration": 15,
    "start_time": "2022-11-14T20:40:57.988Z"
   },
   {
    "duration": 12,
    "start_time": "2022-11-14T20:41:10.026Z"
   },
   {
    "duration": 19,
    "start_time": "2022-11-14T20:41:17.973Z"
   },
   {
    "duration": 21,
    "start_time": "2022-11-14T20:42:17.054Z"
   },
   {
    "duration": 72,
    "start_time": "2022-11-14T20:42:40.308Z"
   },
   {
    "duration": 21,
    "start_time": "2022-11-14T20:42:46.228Z"
   },
   {
    "duration": 14,
    "start_time": "2022-11-14T20:42:56.128Z"
   },
   {
    "duration": 18,
    "start_time": "2022-11-14T20:43:01.127Z"
   },
   {
    "duration": 20,
    "start_time": "2022-11-14T20:43:35.161Z"
   },
   {
    "duration": 18,
    "start_time": "2022-11-14T20:45:09.226Z"
   },
   {
    "duration": 18,
    "start_time": "2022-11-14T20:45:26.745Z"
   },
   {
    "duration": 17,
    "start_time": "2022-11-14T20:45:54.669Z"
   },
   {
    "duration": 13,
    "start_time": "2022-11-14T20:48:11.309Z"
   },
   {
    "duration": 13,
    "start_time": "2022-11-14T20:48:21.888Z"
   },
   {
    "duration": 6,
    "start_time": "2022-11-14T20:48:49.828Z"
   },
   {
    "duration": 6,
    "start_time": "2022-11-14T20:48:58.948Z"
   },
   {
    "duration": 7,
    "start_time": "2022-11-14T20:49:33.570Z"
   },
   {
    "duration": 21,
    "start_time": "2022-11-14T20:51:13.847Z"
   },
   {
    "duration": 13,
    "start_time": "2022-11-14T20:51:26.569Z"
   },
   {
    "duration": 23,
    "start_time": "2022-11-14T20:52:29.648Z"
   },
   {
    "duration": 20,
    "start_time": "2022-11-14T20:53:08.760Z"
   },
   {
    "duration": 24,
    "start_time": "2022-11-14T20:53:15.029Z"
   },
   {
    "duration": 24,
    "start_time": "2022-11-14T20:55:44.044Z"
   },
   {
    "duration": 26,
    "start_time": "2022-11-14T20:55:53.374Z"
   },
   {
    "duration": 19,
    "start_time": "2022-11-14T20:56:13.392Z"
   },
   {
    "duration": 18,
    "start_time": "2022-11-14T20:57:06.308Z"
   },
   {
    "duration": 18,
    "start_time": "2022-11-14T20:57:29.508Z"
   },
   {
    "duration": 17,
    "start_time": "2022-11-14T20:58:26.101Z"
   },
   {
    "duration": 21,
    "start_time": "2022-11-14T21:01:10.148Z"
   },
   {
    "duration": 14,
    "start_time": "2022-11-14T21:02:59.950Z"
   },
   {
    "duration": 19,
    "start_time": "2022-11-14T21:04:44.101Z"
   },
   {
    "duration": 18,
    "start_time": "2022-11-14T21:06:30.697Z"
   },
   {
    "duration": 19,
    "start_time": "2022-11-14T21:06:43.595Z"
   },
   {
    "duration": 75,
    "start_time": "2022-11-14T21:09:35.634Z"
   }
  ],
  "kernelspec": {
   "display_name": "Python 3 (ipykernel)",
   "language": "python",
   "name": "python3"
  },
  "language_info": {
   "codemirror_mode": {
    "name": "ipython",
    "version": 3
   },
   "file_extension": ".py",
   "mimetype": "text/x-python",
   "name": "python",
   "nbconvert_exporter": "python",
   "pygments_lexer": "ipython3",
   "version": "3.9.7"
  },
  "toc": {
   "base_numbering": 1,
   "nav_menu": {},
   "number_sections": false,
   "sideBar": true,
   "skip_h1_title": true,
   "title_cell": "Table of Contents",
   "title_sidebar": "Contents",
   "toc_cell": false,
   "toc_position": {
    "height": "calc(100% - 180px)",
    "left": "10px",
    "top": "150px",
    "width": "323.556px"
   },
   "toc_section_display": true,
   "toc_window_display": true
  }
 },
 "nbformat": 4,
 "nbformat_minor": 2
}
