{
 "cells": [
  {
   "cell_type": "markdown",
   "metadata": {},
   "source": [
    "# Исследование надёжности заёмщиков\n",
    "\n",
    "Заказчик — кредитный отдел банка. Нужно разобраться, влияет ли семейное положение и количество детей клиента на факт погашения кредита в срок. Входные данные от банка — статистика о платёжеспособности клиентов.\n",
    "\n",
    "Результаты исследования будут учтены при построении модели **кредитного скоринга** — специальной системы, которая оценивает способность потенциального заёмщика вернуть кредит банку."
   ]
  },
  {
   "cell_type": "markdown",
   "metadata": {},
   "source": [
    "## Шаг 1. Откройте файл с данными и изучите общую информацию"
   ]
  },
  {
   "cell_type": "code",
   "execution_count": 1,
   "metadata": {},
   "outputs": [
    {
     "name": "stdout",
     "output_type": "stream",
     "text": [
      "<class 'pandas.core.frame.DataFrame'>\n",
      "RangeIndex: 21525 entries, 0 to 21524\n",
      "Data columns (total 12 columns):\n",
      "children            21525 non-null int64\n",
      "days_employed       19351 non-null float64\n",
      "dob_years           21525 non-null int64\n",
      "education           21525 non-null object\n",
      "education_id        21525 non-null int64\n",
      "family_status       21525 non-null object\n",
      "family_status_id    21525 non-null int64\n",
      "gender              21525 non-null object\n",
      "income_type         21525 non-null object\n",
      "debt                21525 non-null int64\n",
      "total_income        19351 non-null float64\n",
      "purpose             21525 non-null object\n",
      "dtypes: float64(2), int64(5), object(5)\n",
      "memory usage: 2.0+ MB\n"
     ]
    }
   ],
   "source": [
    "import pandas as pd\n",
    "from pymystem3 import Mystem\n",
    "m = Mystem()\n",
    "data = pd.read_csv('/datasets/data.csv')\n",
    "data.info()"
   ]
  },
  {
   "cell_type": "markdown",
   "metadata": {},
   "source": [
    "\n",
    "**Вывод**"
   ]
  },
  {
   "cell_type": "markdown",
   "metadata": {},
   "source": [
    "В столбцах days_employed и total_income меньше значений, чем в остальных. Вероятно, там имеются пропуски"
   ]
  },
  {
   "cell_type": "markdown",
   "metadata": {},
   "source": [
    "## Шаг 2. Предобработка данных"
   ]
  },
  {
   "cell_type": "markdown",
   "metadata": {},
   "source": [
    "### Обработка пропусков"
   ]
  },
  {
   "cell_type": "code",
   "execution_count": 2,
   "metadata": {},
   "outputs": [
    {
     "name": "stdout",
     "output_type": "stream",
     "text": [
      " 0     14149\n",
      " 1      4818\n",
      " 2      2055\n",
      " 3       330\n",
      " 20       76\n",
      "-1        47\n",
      " 4        41\n",
      " 5         9\n",
      "Name: children, dtype: int64\n",
      " NaN            2174\n",
      "-1645.463049       1\n",
      "-6620.396473       1\n",
      "-1238.560080       1\n",
      "-3047.519891       1\n",
      "                ... \n",
      "-2849.351119       1\n",
      "-5619.328204       1\n",
      "-448.829898        1\n",
      "-1687.038672       1\n",
      "-206.107342        1\n",
      "Name: days_employed, Length: 19352, dtype: int64\n",
      "35    617\n",
      "40    609\n",
      "41    607\n",
      "34    603\n",
      "38    598\n",
      "42    597\n",
      "33    581\n",
      "39    573\n",
      "31    560\n",
      "36    555\n",
      "44    547\n",
      "29    545\n",
      "30    540\n",
      "48    538\n",
      "37    537\n",
      "50    514\n",
      "43    513\n",
      "32    510\n",
      "49    508\n",
      "28    503\n",
      "45    497\n",
      "27    493\n",
      "56    487\n",
      "52    484\n",
      "47    480\n",
      "54    479\n",
      "46    475\n",
      "58    461\n",
      "57    460\n",
      "53    459\n",
      "51    448\n",
      "59    444\n",
      "55    443\n",
      "26    408\n",
      "60    377\n",
      "25    357\n",
      "61    355\n",
      "62    352\n",
      "63    269\n",
      "64    265\n",
      "24    264\n",
      "23    254\n",
      "65    194\n",
      "66    183\n",
      "22    183\n",
      "67    167\n",
      "21    111\n",
      "0     101\n",
      "68     99\n",
      "69     85\n",
      "70     65\n",
      "71     58\n",
      "20     51\n",
      "72     33\n",
      "19     14\n",
      "73      8\n",
      "74      6\n",
      "75      1\n",
      "Name: dob_years, dtype: int64\n",
      "среднее                13750\n",
      "высшее                  4718\n",
      "СРЕДНЕЕ                  772\n",
      "Среднее                  711\n",
      "неоконченное высшее      668\n",
      "ВЫСШЕЕ                   274\n",
      "Высшее                   268\n",
      "начальное                250\n",
      "Неоконченное высшее       47\n",
      "НЕОКОНЧЕННОЕ ВЫСШЕЕ       29\n",
      "НАЧАЛЬНОЕ                 17\n",
      "Начальное                 15\n",
      "ученая степень             4\n",
      "Ученая степень             1\n",
      "УЧЕНАЯ СТЕПЕНЬ             1\n",
      "Name: education, dtype: int64\n",
      "1    15233\n",
      "0     5260\n",
      "2      744\n",
      "3      282\n",
      "4        6\n",
      "Name: education_id, dtype: int64\n",
      "женат / замужем          12380\n",
      "гражданский брак          4177\n",
      "Не женат / не замужем     2813\n",
      "в разводе                 1195\n",
      "вдовец / вдова             960\n",
      "Name: family_status, dtype: int64\n",
      "0    12380\n",
      "1     4177\n",
      "4     2813\n",
      "3     1195\n",
      "2      960\n",
      "Name: family_status_id, dtype: int64\n",
      "F      14236\n",
      "M       7288\n",
      "XNA        1\n",
      "Name: gender, dtype: int64\n",
      "сотрудник          11119\n",
      "компаньон           5085\n",
      "пенсионер           3856\n",
      "госслужащий         1459\n",
      "безработный            2\n",
      "предприниматель        2\n",
      "в декрете              1\n",
      "студент                1\n",
      "Name: income_type, dtype: int64\n",
      "0    19784\n",
      "1     1741\n",
      "Name: debt, dtype: int64\n",
      "NaN              2174\n",
      "133912.272223       1\n",
      "182036.676828       1\n",
      "122421.963500       1\n",
      "198271.837248       1\n",
      "                 ... \n",
      "133299.194693       1\n",
      "115080.782380       1\n",
      "84896.781597        1\n",
      "153838.839212       1\n",
      "220857.484722       1\n",
      "Name: total_income, Length: 19352, dtype: int64\n",
      "свадьба                                   797\n",
      "на проведение свадьбы                     777\n",
      "сыграть свадьбу                           774\n",
      "операции с недвижимостью                  676\n",
      "покупка коммерческой недвижимости         664\n",
      "операции с жильем                         653\n",
      "покупка жилья для сдачи                   653\n",
      "операции с коммерческой недвижимостью     651\n",
      "жилье                                     647\n",
      "покупка жилья                             647\n",
      "покупка жилья для семьи                   641\n",
      "строительство собственной недвижимости    635\n",
      "недвижимость                              634\n",
      "операции со своей недвижимостью           630\n",
      "строительство жилой недвижимости          626\n",
      "покупка недвижимости                      624\n",
      "покупка своего жилья                      620\n",
      "строительство недвижимости                620\n",
      "ремонт жилью                              612\n",
      "покупка жилой недвижимости                607\n",
      "на покупку своего автомобиля              505\n",
      "заняться высшим образованием              496\n",
      "автомобиль                                495\n",
      "сделка с подержанным автомобилем          489\n",
      "свой автомобиль                           480\n",
      "на покупку подержанного автомобиля        479\n",
      "автомобили                                478\n",
      "на покупку автомобиля                     472\n",
      "дополнительное образование                462\n",
      "приобретение автомобиля                   462\n",
      "сделка с автомобилем                      455\n",
      "высшее образование                        453\n",
      "получение дополнительного образования     447\n",
      "образование                               447\n",
      "получение образования                     443\n",
      "профильное образование                    436\n",
      "получение высшего образования             426\n",
      "заняться образованием                     412\n",
      "Name: purpose, dtype: int64\n",
      "<class 'pandas.core.frame.DataFrame'>\n",
      "RangeIndex: 21525 entries, 0 to 21524\n",
      "Data columns (total 12 columns):\n",
      "children            21525 non-null int64\n",
      "days_employed       21525 non-null float64\n",
      "dob_years           21525 non-null int64\n",
      "education           21525 non-null object\n",
      "education_id        21525 non-null int64\n",
      "family_status       21525 non-null object\n",
      "family_status_id    21525 non-null int64\n",
      "gender              21525 non-null object\n",
      "income_type         21525 non-null object\n",
      "debt                21525 non-null int64\n",
      "total_income        21525 non-null float64\n",
      "purpose             21525 non-null object\n",
      "dtypes: float64(2), int64(5), object(5)\n",
      "memory usage: 2.0+ MB\n"
     ]
    }
   ],
   "source": [
    "print(data['children'].value_counts())\n",
    "print(data['days_employed'].value_counts(dropna=False))\n",
    "print(data['dob_years'].value_counts())\n",
    "print(data['education'].value_counts())\n",
    "print(data['education_id'].value_counts())\n",
    "print(data['family_status'].value_counts())\n",
    "print(data['family_status_id'].value_counts())\n",
    "print(data['gender'].value_counts())\n",
    "print(data['income_type'].value_counts())\n",
    "print(data['debt'].value_counts())\n",
    "print(data['total_income'].value_counts(dropna=False))\n",
    "print(data['purpose'].value_counts())\n",
    "\n",
    "data['days_employed'] = data['days_employed'].fillna(data['days_employed'].median())\n",
    "data['total_income'] = data['total_income'].fillna(data['total_income'].mean())\n",
    "data.info()\n",
    "\n",
    "\n",
    "\n"
   ]
  },
  {
   "cell_type": "markdown",
   "metadata": {},
   "source": [
    "**Вывод**"
   ]
  },
  {
   "cell_type": "markdown",
   "metadata": {},
   "source": [
    "Обнаружены пропуски в двух столбцах: days_employed и total_income.Количество пропусков одинаковое в обоих столбцах: 2174, что составляет 10% от общего объёма данных в этих столбцах. Это значительная доля, поэтому пропущенные значения необходимо заменить.\n",
    "В столбце days_employed есть явно выделающиеся отрицательные значения-артефакты. Поэтому чтобы избежать искажения данных заменим пропуски медианным значением с помощью метода median().\n",
    "В столбце total_income распределение значений кажется более равномерным, поэтому здесь пропуски можно заменить на среднее значение методом mean().\n"
   ]
  },
  {
   "cell_type": "markdown",
   "metadata": {},
   "source": [
    "### Замена типа данных"
   ]
  },
  {
   "cell_type": "code",
   "execution_count": 3,
   "metadata": {
    "scrolled": true
   },
   "outputs": [
    {
     "data": {
      "text/html": [
       "<div>\n",
       "<style scoped>\n",
       "    .dataframe tbody tr th:only-of-type {\n",
       "        vertical-align: middle;\n",
       "    }\n",
       "\n",
       "    .dataframe tbody tr th {\n",
       "        vertical-align: top;\n",
       "    }\n",
       "\n",
       "    .dataframe thead th {\n",
       "        text-align: right;\n",
       "    }\n",
       "</style>\n",
       "<table border=\"1\" class=\"dataframe\">\n",
       "  <thead>\n",
       "    <tr style=\"text-align: right;\">\n",
       "      <th></th>\n",
       "      <th>children</th>\n",
       "      <th>days_employed</th>\n",
       "      <th>dob_years</th>\n",
       "      <th>education</th>\n",
       "      <th>education_id</th>\n",
       "      <th>family_status</th>\n",
       "      <th>family_status_id</th>\n",
       "      <th>gender</th>\n",
       "      <th>income_type</th>\n",
       "      <th>debt</th>\n",
       "      <th>total_income</th>\n",
       "      <th>purpose</th>\n",
       "    </tr>\n",
       "  </thead>\n",
       "  <tbody>\n",
       "    <tr>\n",
       "      <td>0</td>\n",
       "      <td>1</td>\n",
       "      <td>-8437</td>\n",
       "      <td>42</td>\n",
       "      <td>высшее</td>\n",
       "      <td>0</td>\n",
       "      <td>женат / замужем</td>\n",
       "      <td>0</td>\n",
       "      <td>F</td>\n",
       "      <td>сотрудник</td>\n",
       "      <td>0</td>\n",
       "      <td>253875</td>\n",
       "      <td>покупка жилья</td>\n",
       "    </tr>\n",
       "    <tr>\n",
       "      <td>1</td>\n",
       "      <td>1</td>\n",
       "      <td>-4024</td>\n",
       "      <td>36</td>\n",
       "      <td>среднее</td>\n",
       "      <td>1</td>\n",
       "      <td>женат / замужем</td>\n",
       "      <td>0</td>\n",
       "      <td>F</td>\n",
       "      <td>сотрудник</td>\n",
       "      <td>0</td>\n",
       "      <td>112080</td>\n",
       "      <td>приобретение автомобиля</td>\n",
       "    </tr>\n",
       "    <tr>\n",
       "      <td>2</td>\n",
       "      <td>0</td>\n",
       "      <td>-5623</td>\n",
       "      <td>33</td>\n",
       "      <td>Среднее</td>\n",
       "      <td>1</td>\n",
       "      <td>женат / замужем</td>\n",
       "      <td>0</td>\n",
       "      <td>M</td>\n",
       "      <td>сотрудник</td>\n",
       "      <td>0</td>\n",
       "      <td>145885</td>\n",
       "      <td>покупка жилья</td>\n",
       "    </tr>\n",
       "    <tr>\n",
       "      <td>3</td>\n",
       "      <td>3</td>\n",
       "      <td>-4124</td>\n",
       "      <td>32</td>\n",
       "      <td>среднее</td>\n",
       "      <td>1</td>\n",
       "      <td>женат / замужем</td>\n",
       "      <td>0</td>\n",
       "      <td>M</td>\n",
       "      <td>сотрудник</td>\n",
       "      <td>0</td>\n",
       "      <td>267628</td>\n",
       "      <td>дополнительное образование</td>\n",
       "    </tr>\n",
       "    <tr>\n",
       "      <td>4</td>\n",
       "      <td>0</td>\n",
       "      <td>340266</td>\n",
       "      <td>53</td>\n",
       "      <td>среднее</td>\n",
       "      <td>1</td>\n",
       "      <td>гражданский брак</td>\n",
       "      <td>1</td>\n",
       "      <td>F</td>\n",
       "      <td>пенсионер</td>\n",
       "      <td>0</td>\n",
       "      <td>158616</td>\n",
       "      <td>сыграть свадьбу</td>\n",
       "    </tr>\n",
       "    <tr>\n",
       "      <td>5</td>\n",
       "      <td>0</td>\n",
       "      <td>-926</td>\n",
       "      <td>27</td>\n",
       "      <td>высшее</td>\n",
       "      <td>0</td>\n",
       "      <td>гражданский брак</td>\n",
       "      <td>1</td>\n",
       "      <td>M</td>\n",
       "      <td>компаньон</td>\n",
       "      <td>0</td>\n",
       "      <td>255763</td>\n",
       "      <td>покупка жилья</td>\n",
       "    </tr>\n",
       "    <tr>\n",
       "      <td>6</td>\n",
       "      <td>0</td>\n",
       "      <td>-2879</td>\n",
       "      <td>43</td>\n",
       "      <td>высшее</td>\n",
       "      <td>0</td>\n",
       "      <td>женат / замужем</td>\n",
       "      <td>0</td>\n",
       "      <td>F</td>\n",
       "      <td>компаньон</td>\n",
       "      <td>0</td>\n",
       "      <td>240525</td>\n",
       "      <td>операции с жильем</td>\n",
       "    </tr>\n",
       "    <tr>\n",
       "      <td>7</td>\n",
       "      <td>0</td>\n",
       "      <td>-152</td>\n",
       "      <td>50</td>\n",
       "      <td>СРЕДНЕЕ</td>\n",
       "      <td>1</td>\n",
       "      <td>женат / замужем</td>\n",
       "      <td>0</td>\n",
       "      <td>M</td>\n",
       "      <td>сотрудник</td>\n",
       "      <td>0</td>\n",
       "      <td>135823</td>\n",
       "      <td>образование</td>\n",
       "    </tr>\n",
       "    <tr>\n",
       "      <td>8</td>\n",
       "      <td>2</td>\n",
       "      <td>-6929</td>\n",
       "      <td>35</td>\n",
       "      <td>ВЫСШЕЕ</td>\n",
       "      <td>0</td>\n",
       "      <td>гражданский брак</td>\n",
       "      <td>1</td>\n",
       "      <td>F</td>\n",
       "      <td>сотрудник</td>\n",
       "      <td>0</td>\n",
       "      <td>95856</td>\n",
       "      <td>на проведение свадьбы</td>\n",
       "    </tr>\n",
       "    <tr>\n",
       "      <td>9</td>\n",
       "      <td>0</td>\n",
       "      <td>-2188</td>\n",
       "      <td>41</td>\n",
       "      <td>среднее</td>\n",
       "      <td>1</td>\n",
       "      <td>женат / замужем</td>\n",
       "      <td>0</td>\n",
       "      <td>M</td>\n",
       "      <td>сотрудник</td>\n",
       "      <td>0</td>\n",
       "      <td>144425</td>\n",
       "      <td>покупка жилья для семьи</td>\n",
       "    </tr>\n",
       "  </tbody>\n",
       "</table>\n",
       "</div>"
      ],
      "text/plain": [
       "   children  days_employed  dob_years education  education_id  \\\n",
       "0         1          -8437         42    высшее             0   \n",
       "1         1          -4024         36   среднее             1   \n",
       "2         0          -5623         33   Среднее             1   \n",
       "3         3          -4124         32   среднее             1   \n",
       "4         0         340266         53   среднее             1   \n",
       "5         0           -926         27    высшее             0   \n",
       "6         0          -2879         43    высшее             0   \n",
       "7         0           -152         50   СРЕДНЕЕ             1   \n",
       "8         2          -6929         35    ВЫСШЕЕ             0   \n",
       "9         0          -2188         41   среднее             1   \n",
       "\n",
       "      family_status  family_status_id gender income_type  debt  total_income  \\\n",
       "0   женат / замужем                 0      F   сотрудник     0        253875   \n",
       "1   женат / замужем                 0      F   сотрудник     0        112080   \n",
       "2   женат / замужем                 0      M   сотрудник     0        145885   \n",
       "3   женат / замужем                 0      M   сотрудник     0        267628   \n",
       "4  гражданский брак                 1      F   пенсионер     0        158616   \n",
       "5  гражданский брак                 1      M   компаньон     0        255763   \n",
       "6   женат / замужем                 0      F   компаньон     0        240525   \n",
       "7   женат / замужем                 0      M   сотрудник     0        135823   \n",
       "8  гражданский брак                 1      F   сотрудник     0         95856   \n",
       "9   женат / замужем                 0      M   сотрудник     0        144425   \n",
       "\n",
       "                      purpose  \n",
       "0               покупка жилья  \n",
       "1     приобретение автомобиля  \n",
       "2               покупка жилья  \n",
       "3  дополнительное образование  \n",
       "4             сыграть свадьбу  \n",
       "5               покупка жилья  \n",
       "6           операции с жильем  \n",
       "7                 образование  \n",
       "8       на проведение свадьбы  \n",
       "9     покупка жилья для семьи  "
      ]
     },
     "execution_count": 3,
     "metadata": {},
     "output_type": "execute_result"
    }
   ],
   "source": [
    "data['days_employed'] = data['days_employed'].astype('int')\n",
    "data['total_income'] = data['total_income'].astype('int')\n",
    "\n",
    "data.head(10)"
   ]
  },
  {
   "cell_type": "markdown",
   "metadata": {},
   "source": [
    "**Вывод**"
   ]
  },
  {
   "cell_type": "markdown",
   "metadata": {},
   "source": [
    "Тип данных в столбцах days_employed и total_income заменили на целочисленный с помощью метода astype(), т.к. именно он позволяет позволяет переводить данные в нужный тип. "
   ]
  },
  {
   "cell_type": "markdown",
   "metadata": {},
   "source": [
    "### Обработка дубликатов"
   ]
  },
  {
   "cell_type": "code",
   "execution_count": 4,
   "metadata": {},
   "outputs": [
    {
     "name": "stdout",
     "output_type": "stream",
     "text": [
      "71\n",
      "0\n"
     ]
    }
   ],
   "source": [
    "data['education'] = data['education'].str.lower()\n",
    "data['family_status'] = data['family_status'].str.lower()\n",
    "data['income_type'] = data['income_type'].str.lower()\n",
    "data['purpose'] = data['purpose'].str.lower()\n",
    "print(data.duplicated().sum())\n",
    "data = data.drop_duplicates()\n",
    "print(data.duplicated().sum())\n"
   ]
  },
  {
   "cell_type": "markdown",
   "metadata": {},
   "source": [
    "**Вывод**"
   ]
  },
  {
   "cell_type": "markdown",
   "metadata": {},
   "source": [
    "Для корректного поиска дубликатов все строковые значения были приведены в нижнему регистру методом str.lower().\n",
    "Затем методами duplicated() и sum() было посчитано суммарное количество дубликатов - 71, что составляет 0.3% от общего объёма данных.\n",
    "Основные причины возникновения дубликатов — повторные представления, неправильное соединение данных из разных источников, ошибки пользователя при занесении информации."
   ]
  },
  {
   "cell_type": "markdown",
   "metadata": {},
   "source": [
    "### Лемматизация"
   ]
  },
  {
   "cell_type": "code",
   "execution_count": 5,
   "metadata": {},
   "outputs": [
    {
     "data": {
      "text/html": [
       "<div>\n",
       "<style scoped>\n",
       "    .dataframe tbody tr th:only-of-type {\n",
       "        vertical-align: middle;\n",
       "    }\n",
       "\n",
       "    .dataframe tbody tr th {\n",
       "        vertical-align: top;\n",
       "    }\n",
       "\n",
       "    .dataframe thead th {\n",
       "        text-align: right;\n",
       "    }\n",
       "</style>\n",
       "<table border=\"1\" class=\"dataframe\">\n",
       "  <thead>\n",
       "    <tr style=\"text-align: right;\">\n",
       "      <th></th>\n",
       "      <th>children</th>\n",
       "      <th>days_employed</th>\n",
       "      <th>dob_years</th>\n",
       "      <th>education</th>\n",
       "      <th>education_id</th>\n",
       "      <th>family_status</th>\n",
       "      <th>family_status_id</th>\n",
       "      <th>gender</th>\n",
       "      <th>income_type</th>\n",
       "      <th>debt</th>\n",
       "      <th>total_income</th>\n",
       "      <th>purpose</th>\n",
       "    </tr>\n",
       "  </thead>\n",
       "  <tbody>\n",
       "    <tr>\n",
       "      <td>0</td>\n",
       "      <td>1</td>\n",
       "      <td>-8437</td>\n",
       "      <td>42</td>\n",
       "      <td>высшее</td>\n",
       "      <td>0</td>\n",
       "      <td>женат / замужем</td>\n",
       "      <td>0</td>\n",
       "      <td>F</td>\n",
       "      <td>сотрудник</td>\n",
       "      <td>0</td>\n",
       "      <td>253875</td>\n",
       "      <td>[покупка,  , жилье, \\n]</td>\n",
       "    </tr>\n",
       "    <tr>\n",
       "      <td>1</td>\n",
       "      <td>1</td>\n",
       "      <td>-4024</td>\n",
       "      <td>36</td>\n",
       "      <td>среднее</td>\n",
       "      <td>1</td>\n",
       "      <td>женат / замужем</td>\n",
       "      <td>0</td>\n",
       "      <td>F</td>\n",
       "      <td>сотрудник</td>\n",
       "      <td>0</td>\n",
       "      <td>112080</td>\n",
       "      <td>[приобретение,  , автомобиль, \\n]</td>\n",
       "    </tr>\n",
       "    <tr>\n",
       "      <td>2</td>\n",
       "      <td>0</td>\n",
       "      <td>-5623</td>\n",
       "      <td>33</td>\n",
       "      <td>среднее</td>\n",
       "      <td>1</td>\n",
       "      <td>женат / замужем</td>\n",
       "      <td>0</td>\n",
       "      <td>M</td>\n",
       "      <td>сотрудник</td>\n",
       "      <td>0</td>\n",
       "      <td>145885</td>\n",
       "      <td>[покупка,  , жилье, \\n]</td>\n",
       "    </tr>\n",
       "    <tr>\n",
       "      <td>3</td>\n",
       "      <td>3</td>\n",
       "      <td>-4124</td>\n",
       "      <td>32</td>\n",
       "      <td>среднее</td>\n",
       "      <td>1</td>\n",
       "      <td>женат / замужем</td>\n",
       "      <td>0</td>\n",
       "      <td>M</td>\n",
       "      <td>сотрудник</td>\n",
       "      <td>0</td>\n",
       "      <td>267628</td>\n",
       "      <td>[дополнительный,  , образование, \\n]</td>\n",
       "    </tr>\n",
       "    <tr>\n",
       "      <td>4</td>\n",
       "      <td>0</td>\n",
       "      <td>340266</td>\n",
       "      <td>53</td>\n",
       "      <td>среднее</td>\n",
       "      <td>1</td>\n",
       "      <td>гражданский брак</td>\n",
       "      <td>1</td>\n",
       "      <td>F</td>\n",
       "      <td>пенсионер</td>\n",
       "      <td>0</td>\n",
       "      <td>158616</td>\n",
       "      <td>[сыграть,  , свадьба, \\n]</td>\n",
       "    </tr>\n",
       "  </tbody>\n",
       "</table>\n",
       "</div>"
      ],
      "text/plain": [
       "   children  days_employed  dob_years education  education_id  \\\n",
       "0         1          -8437         42    высшее             0   \n",
       "1         1          -4024         36   среднее             1   \n",
       "2         0          -5623         33   среднее             1   \n",
       "3         3          -4124         32   среднее             1   \n",
       "4         0         340266         53   среднее             1   \n",
       "\n",
       "      family_status  family_status_id gender income_type  debt  total_income  \\\n",
       "0   женат / замужем                 0      F   сотрудник     0        253875   \n",
       "1   женат / замужем                 0      F   сотрудник     0        112080   \n",
       "2   женат / замужем                 0      M   сотрудник     0        145885   \n",
       "3   женат / замужем                 0      M   сотрудник     0        267628   \n",
       "4  гражданский брак                 1      F   пенсионер     0        158616   \n",
       "\n",
       "                                purpose  \n",
       "0               [покупка,  , жилье, \\n]  \n",
       "1     [приобретение,  , автомобиль, \\n]  \n",
       "2               [покупка,  , жилье, \\n]  \n",
       "3  [дополнительный,  , образование, \\n]  \n",
       "4             [сыграть,  , свадьба, \\n]  "
      ]
     },
     "execution_count": 5,
     "metadata": {},
     "output_type": "execute_result"
    }
   ],
   "source": [
    "data['purpose'] = data['purpose'].apply(m.lemmatize)\n",
    "data.head()"
   ]
  },
  {
   "cell_type": "markdown",
   "metadata": {},
   "source": [
    "**Вывод**"
   ]
  },
  {
   "cell_type": "markdown",
   "metadata": {},
   "source": [
    "С помощью функции лемматизации библиотеки pymystem3 проведена лемматизация значений в столбце purpose, методом apply() функция применена к столбцу, значения которого перезаписаны."
   ]
  },
  {
   "cell_type": "markdown",
   "metadata": {},
   "source": [
    "### Категоризация данных"
   ]
  },
  {
   "cell_type": "code",
   "execution_count": 6,
   "metadata": {},
   "outputs": [
    {
     "data": {
      "text/plain": [
       "высокий          15509\n",
       "средний           4338\n",
       "очень высокий     1482\n",
       "низкий             125\n",
       "Name: total_income_level, dtype: int64"
      ]
     },
     "execution_count": 6,
     "metadata": {},
     "output_type": "execute_result"
    }
   ],
   "source": [
    "#data.total_income.sort_values()\n",
    "\n",
    "def total_income_level(total_income):\n",
    "    \n",
    "    if total_income <= 40000:\n",
    "        return 'низкий'\n",
    "    if total_income <= 100000:\n",
    "        return 'средний'\n",
    "    if total_income <=300000:\n",
    "        return 'высокий'\n",
    "    return 'очень высокий'\n",
    "\n",
    "data['total_income_level'] = data['total_income'].apply(total_income_level)\n",
    "\n",
    "data.total_income_level.value_counts()"
   ]
  },
  {
   "cell_type": "markdown",
   "metadata": {},
   "source": [
    "**Вывод**"
   ]
  },
  {
   "cell_type": "markdown",
   "metadata": {},
   "source": [
    "Проведена категоризация данных по размеру ежемесячного дохода (столбец total_income). Все клиенты поделены на 4 категории по уровню дохода: низкий, средний, высокий и очень высокий доход."
   ]
  },
  {
   "cell_type": "markdown",
   "metadata": {},
   "source": [
    "## Шаг 3. Ответьте на вопросы"
   ]
  },
  {
   "cell_type": "markdown",
   "metadata": {},
   "source": [
    "- Есть ли зависимость между наличием детей и возвратом кредита в срок?"
   ]
  },
  {
   "cell_type": "code",
   "execution_count": 7,
   "metadata": {},
   "outputs": [
    {
     "data": {
      "text/html": [
       "<div>\n",
       "<style scoped>\n",
       "    .dataframe tbody tr th:only-of-type {\n",
       "        vertical-align: middle;\n",
       "    }\n",
       "\n",
       "    .dataframe tbody tr th {\n",
       "        vertical-align: top;\n",
       "    }\n",
       "\n",
       "    .dataframe thead th {\n",
       "        text-align: right;\n",
       "    }\n",
       "</style>\n",
       "<table border=\"1\" class=\"dataframe\">\n",
       "  <thead>\n",
       "    <tr style=\"text-align: right;\">\n",
       "      <th></th>\n",
       "      <th>debt</th>\n",
       "    </tr>\n",
       "    <tr>\n",
       "      <th>children</th>\n",
       "      <th></th>\n",
       "    </tr>\n",
       "  </thead>\n",
       "  <tbody>\n",
       "    <tr>\n",
       "      <td>4.0</td>\n",
       "      <td>0.097561</td>\n",
       "    </tr>\n",
       "    <tr>\n",
       "      <td>2.0</td>\n",
       "      <td>0.094542</td>\n",
       "    </tr>\n",
       "    <tr>\n",
       "      <td>1.0</td>\n",
       "      <td>0.092346</td>\n",
       "    </tr>\n",
       "    <tr>\n",
       "      <td>3.0</td>\n",
       "      <td>0.081818</td>\n",
       "    </tr>\n",
       "    <tr>\n",
       "      <td>0.0</td>\n",
       "      <td>0.075371</td>\n",
       "    </tr>\n",
       "  </tbody>\n",
       "</table>\n",
       "</div>"
      ],
      "text/plain": [
       "              debt\n",
       "children          \n",
       "4.0       0.097561\n",
       "2.0       0.094542\n",
       "1.0       0.092346\n",
       "3.0       0.081818\n",
       "0.0       0.075371"
      ]
     },
     "execution_count": 7,
     "metadata": {},
     "output_type": "execute_result"
    }
   ],
   "source": [
    "data.loc[data['children'] == 20, 'children'] = data['children'].median()\n",
    "data.loc[data['children'] == -1, 'children'] = data['children'].median()\n",
    "data.loc[data['children'] == 5, 'children'] = data['children'].median()\n",
    "data_log = data[['children','debt']]\n",
    "data_log.groupby('children').mean().sort_values('debt',ascending=False).head(10)"
   ]
  },
  {
   "cell_type": "markdown",
   "metadata": {},
   "source": [
    "**Вывод**"
   ]
  },
  {
   "cell_type": "markdown",
   "metadata": {},
   "source": [
    "Для чистоты выборки выпадающие значения заменены медианой.\n",
    "По результатам группировки можно сделать вывод, что зависимоcть между наличием детей и возвратом кредита в срок не значительна. Среди заёмщиков без детей возвратов в срок больше, но в целом значения для всех групп примерно равны."
   ]
  },
  {
   "cell_type": "markdown",
   "metadata": {},
   "source": [
    "- Есть ли зависимость между семейным положением и возвратом кредита в срок?"
   ]
  },
  {
   "cell_type": "code",
   "execution_count": 8,
   "metadata": {},
   "outputs": [
    {
     "data": {
      "text/html": [
       "<div>\n",
       "<style scoped>\n",
       "    .dataframe tbody tr th:only-of-type {\n",
       "        vertical-align: middle;\n",
       "    }\n",
       "\n",
       "    .dataframe tbody tr th {\n",
       "        vertical-align: top;\n",
       "    }\n",
       "\n",
       "    .dataframe thead th {\n",
       "        text-align: right;\n",
       "    }\n",
       "</style>\n",
       "<table border=\"1\" class=\"dataframe\">\n",
       "  <thead>\n",
       "    <tr style=\"text-align: right;\">\n",
       "      <th></th>\n",
       "      <th>debt</th>\n",
       "    </tr>\n",
       "    <tr>\n",
       "      <th>family_status</th>\n",
       "      <th></th>\n",
       "    </tr>\n",
       "  </thead>\n",
       "  <tbody>\n",
       "    <tr>\n",
       "      <td>не женат / не замужем</td>\n",
       "      <td>0.097509</td>\n",
       "    </tr>\n",
       "    <tr>\n",
       "      <td>гражданский брак</td>\n",
       "      <td>0.093471</td>\n",
       "    </tr>\n",
       "    <tr>\n",
       "      <td>женат / замужем</td>\n",
       "      <td>0.075452</td>\n",
       "    </tr>\n",
       "    <tr>\n",
       "      <td>в разводе</td>\n",
       "      <td>0.071130</td>\n",
       "    </tr>\n",
       "    <tr>\n",
       "      <td>вдовец / вдова</td>\n",
       "      <td>0.065693</td>\n",
       "    </tr>\n",
       "  </tbody>\n",
       "</table>\n",
       "</div>"
      ],
      "text/plain": [
       "                           debt\n",
       "family_status                  \n",
       "не женат / не замужем  0.097509\n",
       "гражданский брак       0.093471\n",
       "женат / замужем        0.075452\n",
       "в разводе              0.071130\n",
       "вдовец / вдова         0.065693"
      ]
     },
     "execution_count": 8,
     "metadata": {},
     "output_type": "execute_result"
    }
   ],
   "source": [
    "data_log_family_status = data[['family_status','debt']]\n",
    "data_log_family_status.groupby('family_status').mean().sort_values('debt',ascending=False).head(10)"
   ]
  },
  {
   "cell_type": "markdown",
   "metadata": {},
   "source": [
    "**Вывод**"
   ]
  },
  {
   "cell_type": "markdown",
   "metadata": {},
   "source": [
    "Группировка клиентов по семейному положению демонстрирует нам, что максимальная доля должников приходится на холостых клиентов (9.7%) и  тех, кто проживает в гражданском браке (9.3%). Несколько ниже доля должников среди женатых и разведённых клиентов (7.5% и 7.1% соответственно). Наименьшая доля должников среди вдов/вдовцов - 6.5%."
   ]
  },
  {
   "cell_type": "markdown",
   "metadata": {},
   "source": [
    "- Есть ли зависимость между уровнем дохода и возвратом кредита в срок?"
   ]
  },
  {
   "cell_type": "code",
   "execution_count": 9,
   "metadata": {},
   "outputs": [
    {
     "data": {
      "text/html": [
       "<div>\n",
       "<style scoped>\n",
       "    .dataframe tbody tr th:only-of-type {\n",
       "        vertical-align: middle;\n",
       "    }\n",
       "\n",
       "    .dataframe tbody tr th {\n",
       "        vertical-align: top;\n",
       "    }\n",
       "\n",
       "    .dataframe thead th {\n",
       "        text-align: right;\n",
       "    }\n",
       "</style>\n",
       "<table border=\"1\" class=\"dataframe\">\n",
       "  <thead>\n",
       "    <tr style=\"text-align: right;\">\n",
       "      <th></th>\n",
       "      <th>debt</th>\n",
       "    </tr>\n",
       "    <tr>\n",
       "      <th>total_income_level</th>\n",
       "      <th></th>\n",
       "    </tr>\n",
       "  </thead>\n",
       "  <tbody>\n",
       "    <tr>\n",
       "      <td>высокий</td>\n",
       "      <td>0.082597</td>\n",
       "    </tr>\n",
       "    <tr>\n",
       "      <td>низкий</td>\n",
       "      <td>0.080000</td>\n",
       "    </tr>\n",
       "    <tr>\n",
       "      <td>средний</td>\n",
       "      <td>0.079299</td>\n",
       "    </tr>\n",
       "    <tr>\n",
       "      <td>очень высокий</td>\n",
       "      <td>0.071525</td>\n",
       "    </tr>\n",
       "  </tbody>\n",
       "</table>\n",
       "</div>"
      ],
      "text/plain": [
       "                        debt\n",
       "total_income_level          \n",
       "высокий             0.082597\n",
       "низкий              0.080000\n",
       "средний             0.079299\n",
       "очень высокий       0.071525"
      ]
     },
     "execution_count": 9,
     "metadata": {},
     "output_type": "execute_result"
    }
   ],
   "source": [
    "data_log_income = data[['total_income_level','debt']]\n",
    "data_log_income.groupby('total_income_level').mean().sort_values('debt',ascending=False).head(10)"
   ]
  },
  {
   "cell_type": "markdown",
   "metadata": {},
   "source": [
    "**Вывод**"
   ]
  },
  {
   "cell_type": "markdown",
   "metadata": {},
   "source": [
    "Различия по данному критерию не выглядят значительными. Интересно, что наибольшая доля должников приходится на клиентов с высоким уровнем дохода (8.2%), 8% и 7.9% соответственно приходятся на клиентов с низким и средним доходом. Наименьшая доля должников среди клиентов с очень высоким доходом - 7.1%."
   ]
  },
  {
   "cell_type": "markdown",
   "metadata": {},
   "source": [
    "- Как разные цели кредита влияют на его возврат в срок?"
   ]
  },
  {
   "cell_type": "code",
   "execution_count": 12,
   "metadata": {},
   "outputs": [
    {
     "data": {
      "text/html": [
       "<div>\n",
       "<style scoped>\n",
       "    .dataframe tbody tr th:only-of-type {\n",
       "        vertical-align: middle;\n",
       "    }\n",
       "\n",
       "    .dataframe tbody tr th {\n",
       "        vertical-align: top;\n",
       "    }\n",
       "\n",
       "    .dataframe thead th {\n",
       "        text-align: right;\n",
       "    }\n",
       "</style>\n",
       "<table border=\"1\" class=\"dataframe\">\n",
       "  <thead>\n",
       "    <tr style=\"text-align: right;\">\n",
       "      <th></th>\n",
       "      <th>debt</th>\n",
       "    </tr>\n",
       "    <tr>\n",
       "      <th>dept_purpose_general</th>\n",
       "      <th></th>\n",
       "    </tr>\n",
       "  </thead>\n",
       "  <tbody>\n",
       "    <tr>\n",
       "      <td>автомобиль</td>\n",
       "      <td>0.093590</td>\n",
       "    </tr>\n",
       "    <tr>\n",
       "      <td>образование</td>\n",
       "      <td>0.092200</td>\n",
       "    </tr>\n",
       "    <tr>\n",
       "      <td>свадьба</td>\n",
       "      <td>0.080034</td>\n",
       "    </tr>\n",
       "    <tr>\n",
       "      <td>недвижимость</td>\n",
       "      <td>0.072334</td>\n",
       "    </tr>\n",
       "  </tbody>\n",
       "</table>\n",
       "</div>"
      ],
      "text/plain": [
       "                          debt\n",
       "dept_purpose_general          \n",
       "автомобиль            0.093590\n",
       "образование           0.092200\n",
       "свадьба               0.080034\n",
       "недвижимость          0.072334"
      ]
     },
     "execution_count": 12,
     "metadata": {},
     "output_type": "execute_result"
    }
   ],
   "source": [
    "def dept_purpose(purpose):\n",
    "    \n",
    "    if 'свадьба' in purpose:\n",
    "        return 'свадьба'\n",
    "    if 'недвижимость' in purpose or 'жилье' in purpose:\n",
    "        return 'недвижимость'\n",
    "    if 'автомобиль' in purpose:\n",
    "        return 'автомобиль'\n",
    "    if 'образование' in purpose:\n",
    "        return 'образование'\n",
    "    return 'другое'\n",
    "\n",
    "data['dept_purpose_general'] = data['purpose'].apply(dept_purpose)\n",
    "\n",
    "data['dept_purpose_general'].value_counts()\n",
    "\n",
    "data_log_purpose_debt = data[['dept_purpose_general','debt']]\n",
    "data_log_purpose_debt.groupby('dept_purpose_general').mean().sort_values('debt',ascending=False).head(10)"
   ]
  },
  {
   "cell_type": "markdown",
   "metadata": {},
   "source": [
    "**Вывод**"
   ]
  },
  {
   "cell_type": "markdown",
   "metadata": {},
   "source": [
    "Цели кредита всех кредиторов объединены в 4 укрупнённые группы по категории трат: автомобиль, образование, свадьба и недвижимость. Результаты группировки по цели показывают нам, что реже всего возвращают в срок кредиты, взятые на совершение операций с автомобилем (9.3%). Почти такой же процент должников среди взявших кредит на образование (9.2%). Доля должников среди тех, кто брал кредит на свадьбу - 8% и ещё меньше - 7.2% - среди тех, кто брал кредит на операции с недвижимостью. "
   ]
  },
  {
   "cell_type": "markdown",
   "metadata": {},
   "source": [
    "## Шаг 4. Общий вывод"
   ]
  },
  {
   "cell_type": "markdown",
   "metadata": {},
   "source": [
    "По результатам анализа представленных данных можно сделать вывод о том, что зависимоcть между наличием детей и возвратом кредита в срок не значительна. Среди заёмщиков без детей возвратов в срок больше, но в целом значения для всех групп примерно равны. Объяснить это можно тем, что заёмщикам без детей проще планировать свой бюджет, т.к. как правило в таких случаях количество непредвиденных трат несколько сокращается по сравнению с теми, у кого есть дети.\n",
    "Группировка клиентов по семейному положению демонстрирует нам, что максимальная доля должников приходится на холостых клиентов (9.7%) и  тех, кто проживает в гражданском браке (9.3%). Несколько ниже доля должников среди женатых и разведённых клиентов (7.5% и 7.1% соответственно). Наименьшая доля должников среди вдов/вдовцов - 6.5%.\n",
    "Что касается влияния уровня дохода на своевременный возврат кредита, выявлено, что наибольшая доля должников приходится на клиентов с высоким уровнем дохода (8.2%), 8% и 7.9% соответственно приходятся на клиентов с низким и средним доходом. Наименьшая доля должников среди клиентов с очень высоким доходом - 7.1%. Такое распределение может быть связано с тем, что обладатели высокого дохода не всегда расчитывают свои силы и берут слишком большие кредиты, не думая о последствиях, или же не сильно беспокоятся о начислении процентов, в то время как клиенты с низким и средним доходам относятся более аккуратно к данному вопросу: тщательнее рассчитывают размер кредита и внимательнее следят за его погашением, чтобы избежать начисления процентов.\n",
    "\n"
   ]
  },
  {
   "cell_type": "code",
   "execution_count": null,
   "metadata": {},
   "outputs": [],
   "source": []
  }
 ],
 "metadata": {
  "ExecuteTimeLog": [
   {
    "duration": 966,
    "start_time": "2022-01-16T19:10:19.783Z"
   },
   {
    "duration": 376,
    "start_time": "2022-01-16T19:15:35.503Z"
   },
   {
    "duration": 13,
    "start_time": "2022-01-16T19:18:50.586Z"
   },
   {
    "duration": 9,
    "start_time": "2022-01-16T19:29:28.658Z"
   },
   {
    "duration": 9,
    "start_time": "2022-01-16T19:31:11.372Z"
   },
   {
    "duration": 328,
    "start_time": "2022-01-16T19:37:49.884Z"
   },
   {
    "duration": 7245,
    "start_time": "2022-01-16T19:38:02.093Z"
   },
   {
    "duration": 313,
    "start_time": "2022-01-16T19:39:48.682Z"
   },
   {
    "duration": 288,
    "start_time": "2022-01-16T19:40:13.141Z"
   },
   {
    "duration": 3,
    "start_time": "2022-01-16T19:40:21.245Z"
   },
   {
    "duration": 9,
    "start_time": "2022-01-16T19:52:35.372Z"
   },
   {
    "duration": 6,
    "start_time": "2022-01-16T19:53:05.116Z"
   },
   {
    "duration": 12,
    "start_time": "2022-01-16T19:53:43.197Z"
   },
   {
    "duration": 48,
    "start_time": "2022-01-16T19:57:19.882Z"
   },
   {
    "duration": 326,
    "start_time": "2022-01-16T20:05:51.079Z"
   },
   {
    "duration": 18,
    "start_time": "2022-01-16T20:06:16.324Z"
   },
   {
    "duration": 48,
    "start_time": "2022-01-16T20:06:39.115Z"
   },
   {
    "duration": 58,
    "start_time": "2022-01-16T20:22:31.376Z"
   },
   {
    "duration": 60,
    "start_time": "2022-01-16T20:23:41.522Z"
   },
   {
    "duration": 62,
    "start_time": "2022-01-16T20:24:52.446Z"
   },
   {
    "duration": 82,
    "start_time": "2022-01-16T20:28:22.260Z"
   },
   {
    "duration": 71,
    "start_time": "2022-01-16T20:28:55.090Z"
   },
   {
    "duration": 105,
    "start_time": "2022-01-16T20:29:20.275Z"
   },
   {
    "duration": 343,
    "start_time": "2022-01-16T20:33:04.116Z"
   },
   {
    "duration": 878,
    "start_time": "2022-01-16T20:33:16.714Z"
   },
   {
    "duration": 64,
    "start_time": "2022-01-16T20:33:25.016Z"
   },
   {
    "duration": 338,
    "start_time": "2022-01-16T20:39:15.953Z"
   },
   {
    "duration": 57,
    "start_time": "2022-01-16T20:39:29.561Z"
   },
   {
    "duration": 65,
    "start_time": "2022-01-16T20:40:31.089Z"
   },
   {
    "duration": 73,
    "start_time": "2022-01-16T20:42:48.363Z"
   },
   {
    "duration": 58,
    "start_time": "2022-01-16T20:42:52.138Z"
   },
   {
    "duration": 60,
    "start_time": "2022-01-16T20:43:22.789Z"
   },
   {
    "duration": 72,
    "start_time": "2022-01-16T20:43:40.537Z"
   },
   {
    "duration": 46,
    "start_time": "2022-01-16T20:43:42.680Z"
   },
   {
    "duration": 72,
    "start_time": "2022-01-16T20:47:05.203Z"
   },
   {
    "duration": 121,
    "start_time": "2022-01-16T20:47:10.316Z"
   },
   {
    "duration": 62,
    "start_time": "2022-01-16T20:47:19.838Z"
   },
   {
    "duration": 69,
    "start_time": "2022-01-16T20:48:46.909Z"
   },
   {
    "duration": 57,
    "start_time": "2022-01-16T20:48:58.128Z"
   },
   {
    "duration": 58,
    "start_time": "2022-01-16T20:49:17.342Z"
   },
   {
    "duration": 99,
    "start_time": "2022-01-16T20:49:37.801Z"
   },
   {
    "duration": 56,
    "start_time": "2022-01-16T20:49:41.182Z"
   },
   {
    "duration": 61,
    "start_time": "2022-01-16T20:50:09.039Z"
   },
   {
    "duration": 62,
    "start_time": "2022-01-16T20:50:21.116Z"
   },
   {
    "duration": 364,
    "start_time": "2022-01-18T19:03:49.449Z"
   },
   {
    "duration": 728,
    "start_time": "2022-01-18T19:04:02.918Z"
   },
   {
    "duration": 60,
    "start_time": "2022-01-18T19:04:11.141Z"
   },
   {
    "duration": 300,
    "start_time": "2022-01-18T19:04:13.512Z"
   },
   {
    "duration": 7,
    "start_time": "2022-01-18T19:04:24.964Z"
   },
   {
    "duration": 9,
    "start_time": "2022-01-18T19:11:36.986Z"
   },
   {
    "duration": 9,
    "start_time": "2022-01-18T19:11:49.998Z"
   },
   {
    "duration": 4,
    "start_time": "2022-01-18T19:16:19.009Z"
   },
   {
    "duration": 7,
    "start_time": "2022-01-18T19:17:37.668Z"
   },
   {
    "duration": 6,
    "start_time": "2022-01-18T19:23:21.709Z"
   },
   {
    "duration": 7,
    "start_time": "2022-01-18T19:32:17.958Z"
   },
   {
    "duration": 350,
    "start_time": "2022-01-18T19:34:44.752Z"
   },
   {
    "duration": 1382,
    "start_time": "2022-01-18T19:35:11.186Z"
   },
   {
    "duration": 283,
    "start_time": "2022-01-18T19:38:20.606Z"
   },
   {
    "duration": 275,
    "start_time": "2022-01-18T19:38:56.243Z"
   },
   {
    "duration": 275,
    "start_time": "2022-01-18T19:40:44.023Z"
   },
   {
    "duration": 17,
    "start_time": "2022-01-18T20:06:44.643Z"
   },
   {
    "duration": 394,
    "start_time": "2022-01-18T20:07:01.357Z"
   },
   {
    "duration": 13,
    "start_time": "2022-01-18T20:07:41.337Z"
   },
   {
    "duration": 14,
    "start_time": "2022-01-18T20:07:55.816Z"
   },
   {
    "duration": 46,
    "start_time": "2022-01-18T20:12:04.318Z"
   },
   {
    "duration": 77,
    "start_time": "2022-01-18T20:12:15.000Z"
   },
   {
    "duration": 60,
    "start_time": "2022-01-18T20:13:08.507Z"
   },
   {
    "duration": 594,
    "start_time": "2022-01-18T20:13:26.979Z"
   },
   {
    "duration": 622,
    "start_time": "2022-01-18T20:13:45.482Z"
   },
   {
    "duration": 611,
    "start_time": "2022-01-18T20:13:57.588Z"
   },
   {
    "duration": 302,
    "start_time": "2022-01-18T20:14:24.410Z"
   },
   {
    "duration": 341,
    "start_time": "2022-01-18T20:14:43.542Z"
   },
   {
    "duration": 3643,
    "start_time": "2022-01-18T20:26:05.196Z"
   },
   {
    "duration": 7638,
    "start_time": "2022-01-18T20:27:13.305Z"
   },
   {
    "duration": 9939,
    "start_time": "2022-01-18T20:28:29.305Z"
   },
   {
    "duration": 311,
    "start_time": "2022-01-18T20:29:19.836Z"
   },
   {
    "duration": 279,
    "start_time": "2022-01-18T20:29:31.730Z"
   },
   {
    "duration": 9938,
    "start_time": "2022-01-18T20:29:36.350Z"
   },
   {
    "duration": 19,
    "start_time": "2022-01-18T20:32:40.386Z"
   },
   {
    "duration": 10144,
    "start_time": "2022-01-18T20:35:28.361Z"
   },
   {
    "duration": 702,
    "start_time": "2022-01-18T20:35:56.207Z"
   },
   {
    "duration": 6873,
    "start_time": "2022-01-18T20:35:59.109Z"
   },
   {
    "duration": 5836,
    "start_time": "2022-01-18T20:36:09.759Z"
   },
   {
    "duration": 594,
    "start_time": "2022-01-18T20:37:04.964Z"
   },
   {
    "duration": 39,
    "start_time": "2022-01-18T20:37:24.175Z"
   },
   {
    "duration": 10,
    "start_time": "2022-01-18T20:37:30.740Z"
   },
   {
    "duration": 19,
    "start_time": "2022-01-18T20:37:41.811Z"
   },
   {
    "duration": 58,
    "start_time": "2022-01-18T20:37:46.912Z"
   },
   {
    "duration": 10378,
    "start_time": "2022-01-18T20:37:53.695Z"
   },
   {
    "duration": 10538,
    "start_time": "2022-01-18T20:47:30.192Z"
   },
   {
    "duration": 53,
    "start_time": "2022-01-18T20:48:51.763Z"
   },
   {
    "duration": 53,
    "start_time": "2022-01-18T20:49:02.801Z"
   },
   {
    "duration": 41,
    "start_time": "2022-01-18T20:49:04.288Z"
   },
   {
    "duration": 12,
    "start_time": "2022-01-18T20:49:05.423Z"
   },
   {
    "duration": 55,
    "start_time": "2022-01-18T20:49:07.323Z"
   },
   {
    "duration": 10462,
    "start_time": "2022-01-18T20:49:09.119Z"
   },
   {
    "duration": 370,
    "start_time": "2022-01-18T21:12:32.924Z"
   },
   {
    "duration": 8,
    "start_time": "2022-01-18T21:12:37.997Z"
   },
   {
    "duration": 12,
    "start_time": "2022-01-18T21:13:03.664Z"
   },
   {
    "duration": 13,
    "start_time": "2022-01-18T21:13:36.215Z"
   },
   {
    "duration": 7,
    "start_time": "2022-01-18T21:14:05.269Z"
   },
   {
    "duration": 598,
    "start_time": "2022-01-19T18:52:59.524Z"
   },
   {
    "duration": 40,
    "start_time": "2022-01-19T18:53:01.949Z"
   },
   {
    "duration": 19,
    "start_time": "2022-01-19T18:53:03.363Z"
   },
   {
    "duration": 59,
    "start_time": "2022-01-19T18:53:05.351Z"
   },
   {
    "duration": 3859,
    "start_time": "2022-01-19T18:53:46.827Z"
   },
   {
    "duration": 363,
    "start_time": "2022-01-19T18:54:03.811Z"
   },
   {
    "duration": 82,
    "start_time": "2022-01-19T18:54:31.952Z"
   },
   {
    "duration": 264,
    "start_time": "2022-01-19T18:54:42.953Z"
   },
   {
    "duration": 262,
    "start_time": "2022-01-19T18:54:55.879Z"
   },
   {
    "duration": 4264,
    "start_time": "2022-01-19T18:55:07.120Z"
   },
   {
    "duration": 3409,
    "start_time": "2022-01-19T18:55:28.810Z"
   },
   {
    "duration": 7,
    "start_time": "2022-01-19T18:56:59.794Z"
   },
   {
    "duration": 9,
    "start_time": "2022-01-19T18:58:29.783Z"
   },
   {
    "duration": 8,
    "start_time": "2022-01-19T18:58:45.939Z"
   },
   {
    "duration": 6,
    "start_time": "2022-01-19T18:58:53.893Z"
   },
   {
    "duration": 7,
    "start_time": "2022-01-19T18:59:19.131Z"
   },
   {
    "duration": 7,
    "start_time": "2022-01-19T19:03:56.400Z"
   },
   {
    "duration": 266,
    "start_time": "2022-01-19T19:12:09.577Z"
   },
   {
    "duration": 8,
    "start_time": "2022-01-19T19:13:40.098Z"
   },
   {
    "duration": 1526,
    "start_time": "2022-01-19T19:37:01.555Z"
   },
   {
    "duration": 256,
    "start_time": "2022-01-19T19:38:08.004Z"
   },
   {
    "duration": 9,
    "start_time": "2022-01-19T19:39:23.262Z"
   },
   {
    "duration": 22,
    "start_time": "2022-01-19T19:39:38.579Z"
   },
   {
    "duration": 13,
    "start_time": "2022-01-19T19:40:52.868Z"
   },
   {
    "duration": 16,
    "start_time": "2022-01-19T19:49:20.114Z"
   },
   {
    "duration": 415,
    "start_time": "2022-01-19T19:49:51.565Z"
   },
   {
    "duration": 277,
    "start_time": "2022-01-19T19:51:12.583Z"
   },
   {
    "duration": 5,
    "start_time": "2022-01-19T19:51:20.939Z"
   },
   {
    "duration": 272,
    "start_time": "2022-01-19T19:53:30.028Z"
   },
   {
    "duration": 7,
    "start_time": "2022-01-19T19:54:05.422Z"
   },
   {
    "duration": 270,
    "start_time": "2022-01-19T19:56:13.695Z"
   },
   {
    "duration": 10,
    "start_time": "2022-01-19T19:56:31.813Z"
   },
   {
    "duration": 303,
    "start_time": "2022-01-19T19:56:40.845Z"
   },
   {
    "duration": 10,
    "start_time": "2022-01-19T19:56:49.447Z"
   },
   {
    "duration": 10,
    "start_time": "2022-01-19T19:57:36.701Z"
   },
   {
    "duration": 10,
    "start_time": "2022-01-19T19:58:09.254Z"
   },
   {
    "duration": 6,
    "start_time": "2022-01-19T19:58:51.694Z"
   },
   {
    "duration": 6,
    "start_time": "2022-01-19T20:06:16.030Z"
   },
   {
    "duration": 5,
    "start_time": "2022-01-19T20:06:30.472Z"
   },
   {
    "duration": 9,
    "start_time": "2022-01-19T20:06:35.214Z"
   },
   {
    "duration": 8,
    "start_time": "2022-01-19T20:07:57.128Z"
   },
   {
    "duration": 11,
    "start_time": "2022-01-19T20:08:00.644Z"
   },
   {
    "duration": 8,
    "start_time": "2022-01-19T20:08:31.263Z"
   },
   {
    "duration": 22,
    "start_time": "2022-01-19T20:15:37.935Z"
   },
   {
    "duration": 13,
    "start_time": "2022-01-19T20:15:51.849Z"
   },
   {
    "duration": 681,
    "start_time": "2022-01-19T20:16:11.325Z"
   },
   {
    "duration": 18,
    "start_time": "2022-01-19T20:16:23.645Z"
   },
   {
    "duration": 27,
    "start_time": "2022-01-19T20:16:37.991Z"
   },
   {
    "duration": 6,
    "start_time": "2022-01-19T20:17:11.635Z"
   },
   {
    "duration": 5,
    "start_time": "2022-01-19T20:17:19.753Z"
   },
   {
    "duration": 622,
    "start_time": "2022-01-19T20:18:11.547Z"
   },
   {
    "duration": 39,
    "start_time": "2022-01-19T20:18:24.282Z"
   },
   {
    "duration": 18,
    "start_time": "2022-01-19T20:18:28.187Z"
   },
   {
    "duration": 58,
    "start_time": "2022-01-19T20:18:32.897Z"
   },
   {
    "duration": 3384,
    "start_time": "2022-01-19T20:18:35.804Z"
   },
   {
    "duration": 13,
    "start_time": "2022-01-19T20:18:43.925Z"
   },
   {
    "duration": 5,
    "start_time": "2022-01-19T20:18:53.608Z"
   },
   {
    "duration": 18,
    "start_time": "2022-01-19T20:18:58.224Z"
   },
   {
    "duration": 18,
    "start_time": "2022-01-19T20:21:36.880Z"
   },
   {
    "duration": 12,
    "start_time": "2022-01-19T20:21:38.167Z"
   },
   {
    "duration": 33,
    "start_time": "2022-01-19T20:22:24.178Z"
   },
   {
    "duration": 11,
    "start_time": "2022-01-19T20:22:29.103Z"
   },
   {
    "duration": 14,
    "start_time": "2022-01-19T20:28:02.971Z"
   },
   {
    "duration": 13,
    "start_time": "2022-01-19T20:29:34.674Z"
   },
   {
    "duration": 15,
    "start_time": "2022-01-19T20:30:20.503Z"
   },
   {
    "duration": 11,
    "start_time": "2022-01-19T20:31:53.798Z"
   },
   {
    "duration": 14,
    "start_time": "2022-01-19T20:32:03.924Z"
   },
   {
    "duration": 612,
    "start_time": "2022-01-19T20:32:51.075Z"
   },
   {
    "duration": 41,
    "start_time": "2022-01-19T20:32:57.014Z"
   },
   {
    "duration": 20,
    "start_time": "2022-01-19T20:32:59.702Z"
   },
   {
    "duration": 57,
    "start_time": "2022-01-19T20:33:03.420Z"
   },
   {
    "duration": 3381,
    "start_time": "2022-01-19T20:33:07.343Z"
   },
   {
    "duration": 13,
    "start_time": "2022-01-19T20:33:15.555Z"
   },
   {
    "duration": 49,
    "start_time": "2022-01-19T20:33:27.733Z"
   },
   {
    "duration": 5,
    "start_time": "2022-01-19T20:33:59.053Z"
   },
   {
    "duration": 10,
    "start_time": "2022-01-19T20:34:06.453Z"
   },
   {
    "duration": 573,
    "start_time": "2022-01-19T20:34:45.426Z"
   },
   {
    "duration": 39,
    "start_time": "2022-01-19T20:34:49.646Z"
   },
   {
    "duration": 18,
    "start_time": "2022-01-19T20:35:14.923Z"
   },
   {
    "duration": 7,
    "start_time": "2022-01-19T20:35:34.626Z"
   },
   {
    "duration": 59,
    "start_time": "2022-01-19T20:35:37.847Z"
   },
   {
    "duration": 8,
    "start_time": "2022-01-19T20:35:41.166Z"
   },
   {
    "duration": 3449,
    "start_time": "2022-01-19T20:36:01.203Z"
   },
   {
    "duration": 9,
    "start_time": "2022-01-19T20:36:16.916Z"
   },
   {
    "duration": 2117,
    "start_time": "2022-01-19T20:36:24.460Z"
   },
   {
    "duration": 1016,
    "start_time": "2022-01-19T20:36:45.369Z"
   },
   {
    "duration": 634,
    "start_time": "2022-01-19T20:37:02.636Z"
   },
   {
    "duration": 39,
    "start_time": "2022-01-19T20:37:04.199Z"
   },
   {
    "duration": 19,
    "start_time": "2022-01-19T20:37:06.665Z"
   },
   {
    "duration": 58,
    "start_time": "2022-01-19T20:37:09.288Z"
   },
   {
    "duration": 3519,
    "start_time": "2022-01-19T20:37:11.696Z"
   },
   {
    "duration": 10,
    "start_time": "2022-01-19T20:37:26.211Z"
   },
   {
    "duration": 13,
    "start_time": "2022-01-19T20:37:28.537Z"
   },
   {
    "duration": 7,
    "start_time": "2022-01-19T20:37:32.331Z"
   },
   {
    "duration": 7,
    "start_time": "2022-01-19T20:37:58.479Z"
   },
   {
    "duration": 52,
    "start_time": "2022-01-19T20:38:01.213Z"
   },
   {
    "duration": 8,
    "start_time": "2022-01-19T20:38:03.718Z"
   },
   {
    "duration": 13,
    "start_time": "2022-01-19T20:38:45.527Z"
   },
   {
    "duration": 8,
    "start_time": "2022-01-19T20:40:04.426Z"
   },
   {
    "duration": 356,
    "start_time": "2022-01-19T20:41:28.292Z"
   },
   {
    "duration": 81,
    "start_time": "2022-01-19T20:41:52.341Z"
   },
   {
    "duration": 41,
    "start_time": "2022-01-19T20:42:04.916Z"
   },
   {
    "duration": 7,
    "start_time": "2022-01-19T20:42:15.859Z"
   },
   {
    "duration": 43,
    "start_time": "2022-01-19T20:52:10.968Z"
   },
   {
    "duration": 7,
    "start_time": "2022-01-19T20:52:23.380Z"
   },
   {
    "duration": 56,
    "start_time": "2022-01-19T20:52:27.823Z"
   },
   {
    "duration": 37,
    "start_time": "2022-01-19T20:52:34.123Z"
   },
   {
    "duration": 7,
    "start_time": "2022-01-19T20:52:38.814Z"
   },
   {
    "duration": 27,
    "start_time": "2022-01-19T20:53:22.871Z"
   },
   {
    "duration": 54,
    "start_time": "2022-01-19T20:53:33.475Z"
   },
   {
    "duration": 19,
    "start_time": "2022-01-19T20:53:38.776Z"
   },
   {
    "duration": 7,
    "start_time": "2022-01-19T20:53:41.247Z"
   },
   {
    "duration": 597,
    "start_time": "2022-01-19T20:55:10.487Z"
   },
   {
    "duration": 41,
    "start_time": "2022-01-19T20:55:11.310Z"
   },
   {
    "duration": 20,
    "start_time": "2022-01-19T20:55:11.988Z"
   },
   {
    "duration": 57,
    "start_time": "2022-01-19T20:55:12.680Z"
   },
   {
    "duration": 3397,
    "start_time": "2022-01-19T20:55:13.424Z"
   },
   {
    "duration": 13,
    "start_time": "2022-01-19T20:55:16.824Z"
   },
   {
    "duration": 16,
    "start_time": "2022-01-19T20:55:16.839Z"
   },
   {
    "duration": 25,
    "start_time": "2022-01-19T20:55:35.662Z"
   },
   {
    "duration": 13,
    "start_time": "2022-01-19T20:55:42.371Z"
   },
   {
    "duration": 15,
    "start_time": "2022-01-19T20:56:03.044Z"
   },
   {
    "duration": 11,
    "start_time": "2022-01-19T20:56:09.110Z"
   },
   {
    "duration": 400,
    "start_time": "2022-01-20T19:20:28.698Z"
   },
   {
    "duration": 631,
    "start_time": "2022-01-20T19:20:58.223Z"
   },
   {
    "duration": 40,
    "start_time": "2022-01-20T19:21:02.614Z"
   },
   {
    "duration": 19,
    "start_time": "2022-01-20T19:21:04.865Z"
   },
   {
    "duration": 55,
    "start_time": "2022-01-20T19:21:14.626Z"
   },
   {
    "duration": 3656,
    "start_time": "2022-01-20T19:21:18.002Z"
   },
   {
    "duration": 20,
    "start_time": "2022-01-20T19:21:27.811Z"
   },
   {
    "duration": 34,
    "start_time": "2022-01-20T19:21:32.113Z"
   },
   {
    "duration": 12,
    "start_time": "2022-01-20T19:21:39.296Z"
   },
   {
    "duration": 11,
    "start_time": "2022-01-20T19:21:45.379Z"
   },
   {
    "duration": 6848,
    "start_time": "2022-01-20T19:23:57.667Z"
   },
   {
    "duration": 12,
    "start_time": "2022-01-20T19:27:29.764Z"
   },
   {
    "duration": 8,
    "start_time": "2022-01-20T19:28:33.391Z"
   },
   {
    "duration": 2013,
    "start_time": "2022-01-20T19:29:51.830Z"
   },
   {
    "duration": 310,
    "start_time": "2022-01-20T19:30:20.917Z"
   },
   {
    "duration": 6,
    "start_time": "2022-01-20T19:33:19.419Z"
   },
   {
    "duration": 117,
    "start_time": "2022-01-20T19:38:30.082Z"
   },
   {
    "duration": 97,
    "start_time": "2022-01-20T19:38:38.795Z"
   },
   {
    "duration": 12,
    "start_time": "2022-01-20T19:38:52.005Z"
   },
   {
    "duration": 293,
    "start_time": "2022-01-20T19:39:18.494Z"
   },
   {
    "duration": 6,
    "start_time": "2022-01-20T19:39:23.693Z"
   },
   {
    "duration": 6,
    "start_time": "2022-01-20T19:39:55.498Z"
   },
   {
    "duration": 5,
    "start_time": "2022-01-20T19:40:09.417Z"
   },
   {
    "duration": 10,
    "start_time": "2022-01-20T19:40:24.179Z"
   },
   {
    "duration": 3,
    "start_time": "2022-01-20T19:40:44.948Z"
   },
   {
    "duration": 357,
    "start_time": "2022-01-20T19:40:59.995Z"
   },
   {
    "duration": 6,
    "start_time": "2022-01-20T19:41:15.371Z"
   },
   {
    "duration": 11,
    "start_time": "2022-01-20T19:46:26.348Z"
   },
   {
    "duration": 14,
    "start_time": "2022-01-20T19:47:33.458Z"
   },
   {
    "duration": 278,
    "start_time": "2022-01-20T19:51:10.559Z"
   },
   {
    "duration": 1074,
    "start_time": "2022-01-20T19:52:00.583Z"
   },
   {
    "duration": 9,
    "start_time": "2022-01-20T19:52:17.338Z"
   },
   {
    "duration": 56,
    "start_time": "2022-01-20T19:57:14.714Z"
   },
   {
    "duration": 37,
    "start_time": "2022-01-20T19:57:16.329Z"
   },
   {
    "duration": 13,
    "start_time": "2022-01-20T19:57:18.374Z"
   },
   {
    "duration": 56,
    "start_time": "2022-01-20T19:57:20.840Z"
   },
   {
    "duration": 333,
    "start_time": "2022-01-20T19:57:23.589Z"
   },
   {
    "duration": 268,
    "start_time": "2022-01-20T19:58:38.594Z"
   },
   {
    "duration": 87,
    "start_time": "2022-01-20T19:58:52.594Z"
   },
   {
    "duration": 93,
    "start_time": "2022-01-20T19:59:10.485Z"
   },
   {
    "duration": 282,
    "start_time": "2022-01-20T19:59:19.059Z"
   },
   {
    "duration": 93,
    "start_time": "2022-01-20T19:59:31.578Z"
   },
   {
    "duration": 267,
    "start_time": "2022-01-20T19:59:36.295Z"
   },
   {
    "duration": 306,
    "start_time": "2022-01-20T20:00:19.396Z"
   },
   {
    "duration": 46,
    "start_time": "2022-01-20T20:00:29.351Z"
   },
   {
    "duration": 51,
    "start_time": "2022-01-20T20:01:05.429Z"
   },
   {
    "duration": 37,
    "start_time": "2022-01-20T20:01:06.427Z"
   },
   {
    "duration": 13,
    "start_time": "2022-01-20T20:01:08.212Z"
   },
   {
    "duration": 56,
    "start_time": "2022-01-20T20:01:10.240Z"
   },
   {
    "duration": 11,
    "start_time": "2022-01-20T20:01:12.522Z"
   },
   {
    "duration": 282,
    "start_time": "2022-01-20T20:03:06.961Z"
   },
   {
    "duration": 116,
    "start_time": "2022-01-20T20:03:13.527Z"
   },
   {
    "duration": 287,
    "start_time": "2022-01-20T20:03:18.805Z"
   },
   {
    "duration": 3543,
    "start_time": "2022-01-20T20:06:13.656Z"
   },
   {
    "duration": 3279,
    "start_time": "2022-01-20T20:07:00.624Z"
   },
   {
    "duration": 14,
    "start_time": "2022-01-20T20:07:51.967Z"
   },
   {
    "duration": 26,
    "start_time": "2022-01-20T20:07:53.202Z"
   },
   {
    "duration": 17,
    "start_time": "2022-01-20T20:07:54.197Z"
   },
   {
    "duration": 11,
    "start_time": "2022-01-20T20:07:55.171Z"
   },
   {
    "duration": 9,
    "start_time": "2022-01-20T20:07:56.245Z"
   },
   {
    "duration": 7,
    "start_time": "2022-01-20T20:08:10.672Z"
   },
   {
    "duration": 4583,
    "start_time": "2022-01-20T20:08:43.299Z"
   },
   {
    "duration": 8,
    "start_time": "2022-01-20T20:08:51.912Z"
   },
   {
    "duration": 3606,
    "start_time": "2022-01-20T20:09:24.146Z"
   },
   {
    "duration": 8,
    "start_time": "2022-01-20T20:09:35.532Z"
   },
   {
    "duration": 8,
    "start_time": "2022-01-20T20:09:39.200Z"
   },
   {
    "duration": 9,
    "start_time": "2022-01-20T20:11:25.261Z"
   },
   {
    "duration": 8,
    "start_time": "2022-01-20T20:13:19.256Z"
   },
   {
    "duration": 9,
    "start_time": "2022-01-20T20:13:56.411Z"
   },
   {
    "duration": 23,
    "start_time": "2022-01-20T20:15:47.735Z"
   },
   {
    "duration": 8,
    "start_time": "2022-01-20T20:16:17.648Z"
   },
   {
    "duration": 422,
    "start_time": "2022-01-20T20:17:45.932Z"
   },
   {
    "duration": 274,
    "start_time": "2022-01-20T20:17:51.659Z"
   },
   {
    "duration": 291,
    "start_time": "2022-01-20T20:17:57.740Z"
   },
   {
    "duration": 4393,
    "start_time": "2022-01-20T20:18:22.893Z"
   },
   {
    "duration": 7954,
    "start_time": "2022-01-20T20:18:38.978Z"
   },
   {
    "duration": 4690,
    "start_time": "2022-01-20T20:18:54.716Z"
   },
   {
    "duration": 5,
    "start_time": "2022-01-20T20:19:06.099Z"
   },
   {
    "duration": 5,
    "start_time": "2022-01-20T20:19:14.131Z"
   },
   {
    "duration": 4,
    "start_time": "2022-01-20T20:19:29.774Z"
   },
   {
    "duration": 5,
    "start_time": "2022-01-20T20:19:38.084Z"
   },
   {
    "duration": 53,
    "start_time": "2022-01-20T20:22:03.442Z"
   },
   {
    "duration": 38,
    "start_time": "2022-01-20T20:22:04.339Z"
   },
   {
    "duration": 13,
    "start_time": "2022-01-20T20:22:05.046Z"
   },
   {
    "duration": 60,
    "start_time": "2022-01-20T20:22:05.740Z"
   },
   {
    "duration": 3350,
    "start_time": "2022-01-20T20:22:06.529Z"
   },
   {
    "duration": 13,
    "start_time": "2022-01-20T20:22:09.880Z"
   },
   {
    "duration": 41,
    "start_time": "2022-01-20T20:22:09.894Z"
   },
   {
    "duration": 13,
    "start_time": "2022-01-20T20:22:11.839Z"
   },
   {
    "duration": 11,
    "start_time": "2022-01-20T20:22:14.040Z"
   },
   {
    "duration": 5,
    "start_time": "2022-01-20T20:22:18.943Z"
   },
   {
    "duration": 6,
    "start_time": "2022-01-20T20:22:38.730Z"
   },
   {
    "duration": 4,
    "start_time": "2022-01-20T20:23:33.295Z"
   },
   {
    "duration": 5,
    "start_time": "2022-01-20T20:23:45.615Z"
   },
   {
    "duration": 6,
    "start_time": "2022-01-20T20:23:57.065Z"
   },
   {
    "duration": 9,
    "start_time": "2022-01-20T20:24:14.410Z"
   },
   {
    "duration": 9,
    "start_time": "2022-01-20T20:24:19.425Z"
   },
   {
    "duration": 8,
    "start_time": "2022-01-20T20:24:43.590Z"
   },
   {
    "duration": 8,
    "start_time": "2022-01-20T20:26:34.660Z"
   },
   {
    "duration": 281,
    "start_time": "2022-01-20T20:33:30.501Z"
   },
   {
    "duration": 90,
    "start_time": "2022-01-20T20:34:36.281Z"
   },
   {
    "duration": 94,
    "start_time": "2022-01-20T20:34:54.207Z"
   },
   {
    "duration": 57,
    "start_time": "2022-01-20T20:36:18.338Z"
   },
   {
    "duration": 40,
    "start_time": "2022-01-20T20:36:19.413Z"
   },
   {
    "duration": 13,
    "start_time": "2022-01-20T20:36:20.141Z"
   },
   {
    "duration": 58,
    "start_time": "2022-01-20T20:36:20.887Z"
   },
   {
    "duration": 3576,
    "start_time": "2022-01-20T20:36:21.684Z"
   },
   {
    "duration": 13,
    "start_time": "2022-01-20T20:36:25.262Z"
   },
   {
    "duration": 27,
    "start_time": "2022-01-20T20:36:30.819Z"
   },
   {
    "duration": 13,
    "start_time": "2022-01-20T20:36:35.750Z"
   },
   {
    "duration": 12,
    "start_time": "2022-01-20T20:36:37.648Z"
   },
   {
    "duration": 92,
    "start_time": "2022-01-20T20:36:44.488Z"
   },
   {
    "duration": 134,
    "start_time": "2022-01-20T20:37:15.046Z"
   },
   {
    "duration": 264,
    "start_time": "2022-01-20T20:37:33.188Z"
   },
   {
    "duration": 261,
    "start_time": "2022-01-20T20:38:22.794Z"
   },
   {
    "duration": 4338,
    "start_time": "2022-01-20T20:38:40.309Z"
   },
   {
    "duration": 4436,
    "start_time": "2022-01-20T20:39:50.424Z"
   },
   {
    "duration": 5564,
    "start_time": "2022-01-20T20:41:16.134Z"
   },
   {
    "duration": 4632,
    "start_time": "2022-01-20T20:41:38.282Z"
   },
   {
    "duration": 5,
    "start_time": "2022-01-20T20:47:36.223Z"
   },
   {
    "duration": 8,
    "start_time": "2022-01-20T20:54:10.094Z"
   },
   {
    "duration": 9,
    "start_time": "2022-01-20T20:54:28.360Z"
   },
   {
    "duration": 12,
    "start_time": "2022-01-20T20:55:38.953Z"
   },
   {
    "duration": 95,
    "start_time": "2022-01-20T20:56:16.434Z"
   },
   {
    "duration": 87,
    "start_time": "2022-01-20T20:56:41.624Z"
   },
   {
    "duration": 10,
    "start_time": "2022-01-20T20:56:49.950Z"
   },
   {
    "duration": 10,
    "start_time": "2022-01-20T21:00:28.693Z"
   },
   {
    "duration": 10,
    "start_time": "2022-01-20T21:04:29.337Z"
   },
   {
    "duration": 40,
    "start_time": "2022-01-20T21:04:30.181Z"
   },
   {
    "duration": 61,
    "start_time": "2022-01-20T21:14:04.955Z"
   },
   {
    "duration": 620,
    "start_time": "2022-01-25T15:01:46.745Z"
   },
   {
    "duration": 41,
    "start_time": "2022-01-25T15:01:47.367Z"
   },
   {
    "duration": 23,
    "start_time": "2022-01-25T15:01:47.410Z"
   },
   {
    "duration": 57,
    "start_time": "2022-01-25T15:01:47.434Z"
   },
   {
    "duration": 3375,
    "start_time": "2022-01-25T15:01:47.512Z"
   },
   {
    "duration": 25,
    "start_time": "2022-01-25T15:01:50.889Z"
   },
   {
    "duration": 29,
    "start_time": "2022-01-25T15:01:50.916Z"
   },
   {
    "duration": 12,
    "start_time": "2022-01-25T15:01:50.947Z"
   },
   {
    "duration": 11,
    "start_time": "2022-01-25T15:01:50.960Z"
   },
   {
    "duration": 40,
    "start_time": "2022-01-25T15:01:50.972Z"
   },
   {
    "duration": 45,
    "start_time": "2022-01-25T15:01:51.014Z"
   },
   {
    "duration": 1993,
    "start_time": "2022-01-25T15:05:27.606Z"
   },
   {
    "duration": 2039,
    "start_time": "2022-01-25T15:06:17.475Z"
   },
   {
    "duration": 15,
    "start_time": "2022-01-25T15:06:23.834Z"
   },
   {
    "duration": 2016,
    "start_time": "2022-01-25T15:06:31.375Z"
   },
   {
    "duration": 849,
    "start_time": "2022-01-25T18:42:34.497Z"
   },
   {
    "duration": 61,
    "start_time": "2022-01-25T18:42:36.997Z"
   },
   {
    "duration": 33,
    "start_time": "2022-01-25T18:42:38.620Z"
   },
   {
    "duration": 87,
    "start_time": "2022-01-25T18:42:39.656Z"
   },
   {
    "duration": 4912,
    "start_time": "2022-01-25T18:42:40.667Z"
   },
   {
    "duration": 22,
    "start_time": "2022-01-25T18:42:45.583Z"
   },
   {
    "duration": 61,
    "start_time": "2022-01-25T18:42:45.608Z"
   },
   {
    "duration": 17,
    "start_time": "2022-01-25T18:42:45.672Z"
   },
   {
    "duration": 18,
    "start_time": "2022-01-25T18:42:47.256Z"
   },
   {
    "duration": 40,
    "start_time": "2022-01-25T18:42:49.164Z"
   },
   {
    "duration": 119,
    "start_time": "2022-01-25T18:47:59.879Z"
   },
   {
    "duration": 813,
    "start_time": "2022-01-25T18:48:41.550Z"
   },
   {
    "duration": 61,
    "start_time": "2022-01-25T18:48:42.367Z"
   },
   {
    "duration": 57,
    "start_time": "2022-01-25T18:48:42.432Z"
   },
   {
    "duration": 123,
    "start_time": "2022-01-25T18:48:42.493Z"
   },
   {
    "duration": 4829,
    "start_time": "2022-01-25T18:48:42.618Z"
   },
   {
    "duration": 28,
    "start_time": "2022-01-25T18:48:47.449Z"
   },
   {
    "duration": 40,
    "start_time": "2022-01-25T18:48:47.480Z"
   },
   {
    "duration": 17,
    "start_time": "2022-01-25T18:48:47.524Z"
   },
   {
    "duration": 18,
    "start_time": "2022-01-25T18:48:47.564Z"
   },
   {
    "duration": 16,
    "start_time": "2022-01-25T18:48:47.585Z"
   },
   {
    "duration": 89,
    "start_time": "2022-01-25T18:48:47.604Z"
   },
   {
    "duration": 126,
    "start_time": "2022-01-25T18:49:34.660Z"
   },
   {
    "duration": 85,
    "start_time": "2022-01-25T18:51:48.650Z"
   },
   {
    "duration": 78,
    "start_time": "2022-01-25T18:51:57.254Z"
   },
   {
    "duration": 89,
    "start_time": "2022-01-25T18:53:38.299Z"
   },
   {
    "duration": 88,
    "start_time": "2022-01-25T18:55:18.072Z"
   },
   {
    "duration": 85,
    "start_time": "2022-01-25T18:55:32.247Z"
   },
   {
    "duration": 12,
    "start_time": "2022-01-25T18:58:29.566Z"
   },
   {
    "duration": 9,
    "start_time": "2022-01-25T18:58:50.134Z"
   },
   {
    "duration": 8,
    "start_time": "2022-01-25T18:58:55.345Z"
   },
   {
    "duration": 76,
    "start_time": "2022-01-25T18:59:10.918Z"
   },
   {
    "duration": 65,
    "start_time": "2022-01-25T18:59:15.774Z"
   },
   {
    "duration": 21,
    "start_time": "2022-01-25T18:59:17.534Z"
   },
   {
    "duration": 109,
    "start_time": "2022-01-25T18:59:21.030Z"
   },
   {
    "duration": 4871,
    "start_time": "2022-01-25T18:59:22.746Z"
   },
   {
    "duration": 21,
    "start_time": "2022-01-25T18:59:27.620Z"
   },
   {
    "duration": 51,
    "start_time": "2022-01-25T18:59:27.645Z"
   },
   {
    "duration": 20,
    "start_time": "2022-01-25T18:59:27.700Z"
   },
   {
    "duration": 19,
    "start_time": "2022-01-25T18:59:28.634Z"
   },
   {
    "duration": 35,
    "start_time": "2022-01-25T18:59:30.445Z"
   },
   {
    "duration": 80,
    "start_time": "2022-01-25T19:14:00.432Z"
   },
   {
    "duration": 26,
    "start_time": "2022-01-25T19:14:22.019Z"
   },
   {
    "duration": 51,
    "start_time": "2022-01-25T19:16:01.129Z"
   },
   {
    "duration": 35,
    "start_time": "2022-01-25T19:20:35.714Z"
   },
   {
    "duration": 32,
    "start_time": "2022-01-25T19:22:31.891Z"
   },
   {
    "duration": 38,
    "start_time": "2022-01-25T19:23:26.607Z"
   },
   {
    "duration": 892,
    "start_time": "2022-01-25T19:32:26.876Z"
   },
   {
    "duration": 60,
    "start_time": "2022-01-25T19:32:27.771Z"
   },
   {
    "duration": 54,
    "start_time": "2022-01-25T19:32:27.835Z"
   },
   {
    "duration": 137,
    "start_time": "2022-01-25T19:32:27.892Z"
   },
   {
    "duration": 5134,
    "start_time": "2022-01-25T19:32:28.031Z"
   },
   {
    "duration": 23,
    "start_time": "2022-01-25T19:32:33.168Z"
   },
   {
    "duration": 55,
    "start_time": "2022-01-25T19:32:33.194Z"
   },
   {
    "duration": 20,
    "start_time": "2022-01-25T19:32:33.266Z"
   },
   {
    "duration": 19,
    "start_time": "2022-01-25T19:32:33.289Z"
   },
   {
    "duration": 79,
    "start_time": "2022-01-25T19:32:33.311Z"
   },
   {
    "duration": 4,
    "start_time": "2022-01-25T19:32:33.394Z"
   },
   {
    "duration": 6,
    "start_time": "2022-01-25T19:32:33.400Z"
   },
   {
    "duration": 81,
    "start_time": "2022-01-25T19:32:33.409Z"
   },
   {
    "duration": 144,
    "start_time": "2022-01-25T19:33:31.726Z"
   },
   {
    "duration": 782,
    "start_time": "2022-01-25T19:33:43.577Z"
   },
   {
    "duration": 58,
    "start_time": "2022-01-25T19:33:44.362Z"
   },
   {
    "duration": 45,
    "start_time": "2022-01-25T19:33:44.422Z"
   },
   {
    "duration": 143,
    "start_time": "2022-01-25T19:33:44.471Z"
   },
   {
    "duration": 4895,
    "start_time": "2022-01-25T19:33:44.617Z"
   },
   {
    "duration": 20,
    "start_time": "2022-01-25T19:33:49.515Z"
   },
   {
    "duration": 55,
    "start_time": "2022-01-25T19:33:49.537Z"
   },
   {
    "duration": 16,
    "start_time": "2022-01-25T19:33:49.596Z"
   },
   {
    "duration": 17,
    "start_time": "2022-01-25T19:33:49.615Z"
   },
   {
    "duration": 67,
    "start_time": "2022-01-25T19:33:49.634Z"
   },
   {
    "duration": 5,
    "start_time": "2022-01-25T19:33:49.704Z"
   },
   {
    "duration": 6,
    "start_time": "2022-01-25T19:33:49.711Z"
   },
   {
    "duration": 70,
    "start_time": "2022-01-25T19:33:49.719Z"
   },
   {
    "duration": 829,
    "start_time": "2022-01-25T19:52:27.931Z"
   },
   {
    "duration": 75,
    "start_time": "2022-01-25T19:52:28.763Z"
   },
   {
    "duration": 46,
    "start_time": "2022-01-25T19:52:28.842Z"
   },
   {
    "duration": 139,
    "start_time": "2022-01-25T19:52:28.892Z"
   },
   {
    "duration": 5192,
    "start_time": "2022-01-25T19:52:29.035Z"
   },
   {
    "duration": 44,
    "start_time": "2022-01-25T19:52:34.231Z"
   },
   {
    "duration": 55,
    "start_time": "2022-01-25T19:52:34.278Z"
   },
   {
    "duration": 46,
    "start_time": "2022-01-25T19:52:34.338Z"
   },
   {
    "duration": 19,
    "start_time": "2022-01-25T19:52:34.387Z"
   },
   {
    "duration": 3,
    "start_time": "2022-01-25T19:52:34.409Z"
   },
   {
    "duration": 5,
    "start_time": "2022-01-25T19:52:34.415Z"
   },
   {
    "duration": 77,
    "start_time": "2022-01-25T19:52:34.423Z"
   },
   {
    "duration": 1192,
    "start_time": "2022-01-25T19:59:47.744Z"
   },
   {
    "duration": 87,
    "start_time": "2022-01-25T19:59:48.940Z"
   },
   {
    "duration": 65,
    "start_time": "2022-01-25T19:59:49.032Z"
   },
   {
    "duration": 171,
    "start_time": "2022-01-25T19:59:49.101Z"
   },
   {
    "duration": 6033,
    "start_time": "2022-01-25T19:59:49.275Z"
   },
   {
    "duration": 28,
    "start_time": "2022-01-25T19:59:55.312Z"
   },
   {
    "duration": 76,
    "start_time": "2022-01-25T19:59:55.343Z"
   },
   {
    "duration": 23,
    "start_time": "2022-01-25T19:59:55.422Z"
   },
   {
    "duration": 31,
    "start_time": "2022-01-25T19:59:55.448Z"
   },
   {
    "duration": 4,
    "start_time": "2022-01-25T19:59:55.482Z"
   },
   {
    "duration": 4,
    "start_time": "2022-01-25T19:59:55.489Z"
   },
   {
    "duration": 100,
    "start_time": "2022-01-25T19:59:55.497Z"
   },
   {
    "duration": 608,
    "start_time": "2022-01-25T20:09:17.713Z"
   },
   {
    "duration": 42,
    "start_time": "2022-01-25T20:09:24.275Z"
   },
   {
    "duration": 890,
    "start_time": "2022-01-25T20:09:54.360Z"
   },
   {
    "duration": 63,
    "start_time": "2022-01-25T20:09:55.253Z"
   },
   {
    "duration": 52,
    "start_time": "2022-01-25T20:09:55.319Z"
   },
   {
    "duration": 141,
    "start_time": "2022-01-25T20:09:55.375Z"
   },
   {
    "duration": 5735,
    "start_time": "2022-01-25T20:09:55.519Z"
   },
   {
    "duration": 23,
    "start_time": "2022-01-25T20:10:01.256Z"
   },
   {
    "duration": 42,
    "start_time": "2022-01-25T20:10:01.282Z"
   },
   {
    "duration": 19,
    "start_time": "2022-01-25T20:10:01.348Z"
   },
   {
    "duration": 23,
    "start_time": "2022-01-25T20:10:01.370Z"
   },
   {
    "duration": 5,
    "start_time": "2022-01-25T20:10:01.396Z"
   },
   {
    "duration": 9,
    "start_time": "2022-01-25T20:10:01.404Z"
   },
   {
    "duration": 75,
    "start_time": "2022-01-25T20:10:01.416Z"
   },
   {
    "duration": 823,
    "start_time": "2022-01-25T21:14:53.905Z"
   },
   {
    "duration": 60,
    "start_time": "2022-01-25T21:14:54.731Z"
   },
   {
    "duration": 30,
    "start_time": "2022-01-25T21:14:54.794Z"
   },
   {
    "duration": 136,
    "start_time": "2022-01-25T21:14:54.848Z"
   },
   {
    "duration": 4996,
    "start_time": "2022-01-25T21:14:54.986Z"
   },
   {
    "duration": 21,
    "start_time": "2022-01-25T21:14:59.985Z"
   },
   {
    "duration": 62,
    "start_time": "2022-01-25T21:15:00.008Z"
   },
   {
    "duration": 19,
    "start_time": "2022-01-25T21:15:00.075Z"
   },
   {
    "duration": 19,
    "start_time": "2022-01-25T21:15:00.098Z"
   },
   {
    "duration": 3,
    "start_time": "2022-01-25T21:15:00.149Z"
   },
   {
    "duration": 22,
    "start_time": "2022-01-25T21:15:00.156Z"
   },
   {
    "duration": 54,
    "start_time": "2022-01-25T21:15:00.181Z"
   }
  ],
  "kernelspec": {
   "display_name": "Python 3 (ipykernel)",
   "language": "python",
   "name": "python3"
  },
  "language_info": {
   "codemirror_mode": {
    "name": "ipython",
    "version": 3
   },
   "file_extension": ".py",
   "mimetype": "text/x-python",
   "name": "python",
   "nbconvert_exporter": "python",
   "pygments_lexer": "ipython3",
   "version": "3.9.7"
  },
  "toc": {
   "base_numbering": 1,
   "nav_menu": {},
   "number_sections": true,
   "sideBar": true,
   "skip_h1_title": true,
   "title_cell": "Table of Contents",
   "title_sidebar": "Contents",
   "toc_cell": false,
   "toc_position": {
    "height": "calc(100% - 180px)",
    "left": "10px",
    "top": "150px",
    "width": "341px"
   },
   "toc_section_display": true,
   "toc_window_display": true
  }
 },
 "nbformat": 4,
 "nbformat_minor": 2
}
