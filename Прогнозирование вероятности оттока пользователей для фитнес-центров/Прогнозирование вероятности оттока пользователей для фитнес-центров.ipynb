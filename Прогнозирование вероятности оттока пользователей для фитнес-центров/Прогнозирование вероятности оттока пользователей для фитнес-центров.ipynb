{
 "cells": [
  {
   "cell_type": "markdown",
   "metadata": {},
   "source": [
    "### Описание проекта\n",
    "Цель проекта — провести анализ анкет клиентов фитнес-центра «Культурист-датасаентист» и подготовить план действий по удержанию клиентов.<br><br>\n",
    "Задачи:<br>\n",
    "* научиться прогнозировать вероятность оттока (на уровне следующего месяца) для каждого клиента;\n",
    "* сформировать типичные портреты клиентов: выделить несколько наиболее ярких групп и охарактеризовать их основные свойства;\n",
    "* проанализировать основные признаки, наиболее сильно влияющие на отток;\n",
    "* сформулировать основные выводы и разработать рекомендации по повышению качества работы с клиентами:<br>\n",
    "1) выделить целевые группы клиентов;<br>\n",
    "2) предложить меры по снижению оттока;<br>\n",
    "3) определить другие особенности взаимодействия с клиентами.<br>"
   ]
  },
  {
   "cell_type": "markdown",
   "metadata": {},
   "source": [
    "### Описание данных\n",
    "Данные клиента за предыдущий до проверки факта оттока месяц:<br>\n",
    "* 'gender' — пол;<br>\n",
    "* 'Near_Location' — проживание или работа в районе, где находится фитнес-центр;<br>\n",
    "* 'Partner' — сотрудник компании-партнёра клуба (сотрудничество с компаниями, чьи сотрудники могут получать скидки на абонемент — в таком случае фитнес-центр хранит информацию о работодателе клиента);<br>\n",
    "* Promo_friends — факт первоначальной записи в рамках акции «приведи друга» (использовал промо-код от знакомого при оплате первого абонемента);<br>\n",
    "* 'Phone' — наличие контактного телефона;<br>\n",
    "* 'Age' — возраст;<br>\n",
    "* 'Lifetime' — время с момента первого обращения в фитнес-центр (в месяцах).<br><br>\n",
    "Информация на основе журнала посещений, покупок и информация о текущем статусе абонемента клиента:<br>\n",
    "* 'Contract_period' — длительность текущего действующего абонемента (месяц, 6 месяцев, год);<br>\n",
    "* 'Month_to_end_contract' — срок до окончания текущего действующего абонемента (в месяцах);<br>\n",
    "* 'Group_visits' — факт посещения групповых занятий;<br>\n",
    "* 'Avg_class_frequency_total' — средняя частота посещений в неделю за все время с начала действия абонемента;<br>\n",
    "* 'Avg_class_frequency_current_month' — средняя частота посещений в неделю за предыдущий месяц;<br>\n",
    "* 'Avg_additional_charges_total' — суммарная выручка от других услуг фитнес-центра: кафе, спорттовары, косметический и массажный салон.<br>\n",
    "* 'Churn' — факт оттока в текущем месяце."
   ]
  },
  {
   "cell_type": "markdown",
   "metadata": {},
   "source": [
    "### Шаг 1. Загрузка данных"
   ]
  },
  {
   "cell_type": "code",
   "execution_count": 1,
   "metadata": {},
   "outputs": [],
   "source": [
    "# Импорт библиотек\n",
    "import pandas as pd\n",
    "import matplotlib.pyplot as plt\n",
    "import seaborn as sns\n",
    "from sklearn.model_selection import train_test_split\n",
    "from sklearn.metrics import accuracy_score, precision_score, recall_score, f1_score\n",
    "from sklearn.metrics import roc_auc_score\n",
    "from sklearn.linear_model import LogisticRegression\n",
    "from sklearn.ensemble import RandomForestRegressor\n",
    "from sklearn.ensemble import RandomForestClassifier\n",
    "from sklearn.preprocessing import StandardScaler\n",
    "from sklearn.tree import DecisionTreeClassifier\n",
    "from scipy.cluster.hierarchy import dendrogram, linkage\n",
    "from sklearn.cluster import KMeans\n",
    "import itertools\n",
    "import warnings; warnings.filterwarnings(action = 'ignore')\n",
    "pd.set_option('chained_assignment', 'warn')\n",
    "warnings.simplefilter(action='ignore', category=FutureWarning)"
   ]
  },
  {
   "cell_type": "code",
   "execution_count": 2,
   "metadata": {},
   "outputs": [],
   "source": [
    "#Загружаем датафрейм\n",
    "df = pd.read_csv('/datasets/gym_churn.csv')"
   ]
  },
  {
   "cell_type": "markdown",
   "metadata": {},
   "source": [
    "### Шаг 2. Исследовательский анализ данных"
   ]
  },
  {
   "cell_type": "code",
   "execution_count": 3,
   "metadata": {},
   "outputs": [
    {
     "name": "stdout",
     "output_type": "stream",
     "text": [
      "<class 'pandas.core.frame.DataFrame'>\n",
      "RangeIndex: 4000 entries, 0 to 3999\n",
      "Data columns (total 14 columns):\n",
      " #   Column                             Non-Null Count  Dtype  \n",
      "---  ------                             --------------  -----  \n",
      " 0   gender                             4000 non-null   int64  \n",
      " 1   Near_Location                      4000 non-null   int64  \n",
      " 2   Partner                            4000 non-null   int64  \n",
      " 3   Promo_friends                      4000 non-null   int64  \n",
      " 4   Phone                              4000 non-null   int64  \n",
      " 5   Contract_period                    4000 non-null   int64  \n",
      " 6   Group_visits                       4000 non-null   int64  \n",
      " 7   Age                                4000 non-null   int64  \n",
      " 8   Avg_additional_charges_total       4000 non-null   float64\n",
      " 9   Month_to_end_contract              4000 non-null   float64\n",
      " 10  Lifetime                           4000 non-null   int64  \n",
      " 11  Avg_class_frequency_total          4000 non-null   float64\n",
      " 12  Avg_class_frequency_current_month  4000 non-null   float64\n",
      " 13  Churn                              4000 non-null   int64  \n",
      "dtypes: float64(4), int64(10)\n",
      "memory usage: 437.6 KB\n"
     ]
    }
   ],
   "source": [
    "#Получаем информацию\n",
    "df.info()"
   ]
  },
  {
   "cell_type": "code",
   "execution_count": 4,
   "metadata": {},
   "outputs": [
    {
     "name": "stdout",
     "output_type": "stream",
     "text": [
      "Количество дубликатов в таблице data:  0\n",
      "Количество пропусков в таблице data:  0\n"
     ]
    }
   ],
   "source": [
    "print('Количество дубликатов в таблице data: ', df.duplicated().sum())\n",
    "print('Количество пропусков в таблице data: ', df.isnull().sum().sum())"
   ]
  },
  {
   "cell_type": "code",
   "execution_count": 5,
   "metadata": {},
   "outputs": [
    {
     "data": {
      "text/html": [
       "<div>\n",
       "<style scoped>\n",
       "    .dataframe tbody tr th:only-of-type {\n",
       "        vertical-align: middle;\n",
       "    }\n",
       "\n",
       "    .dataframe tbody tr th {\n",
       "        vertical-align: top;\n",
       "    }\n",
       "\n",
       "    .dataframe thead th {\n",
       "        text-align: right;\n",
       "    }\n",
       "</style>\n",
       "<table border=\"1\" class=\"dataframe\">\n",
       "  <thead>\n",
       "    <tr style=\"text-align: right;\">\n",
       "      <th></th>\n",
       "      <th>count</th>\n",
       "      <th>mean</th>\n",
       "      <th>std</th>\n",
       "      <th>min</th>\n",
       "      <th>25%</th>\n",
       "      <th>50%</th>\n",
       "      <th>75%</th>\n",
       "      <th>max</th>\n",
       "    </tr>\n",
       "  </thead>\n",
       "  <tbody>\n",
       "    <tr>\n",
       "      <th>gender</th>\n",
       "      <td>4000.0</td>\n",
       "      <td>0.510250</td>\n",
       "      <td>0.499957</td>\n",
       "      <td>0.000000</td>\n",
       "      <td>0.000000</td>\n",
       "      <td>1.000000</td>\n",
       "      <td>1.000000</td>\n",
       "      <td>1.000000</td>\n",
       "    </tr>\n",
       "    <tr>\n",
       "      <th>Near_Location</th>\n",
       "      <td>4000.0</td>\n",
       "      <td>0.845250</td>\n",
       "      <td>0.361711</td>\n",
       "      <td>0.000000</td>\n",
       "      <td>1.000000</td>\n",
       "      <td>1.000000</td>\n",
       "      <td>1.000000</td>\n",
       "      <td>1.000000</td>\n",
       "    </tr>\n",
       "    <tr>\n",
       "      <th>Partner</th>\n",
       "      <td>4000.0</td>\n",
       "      <td>0.486750</td>\n",
       "      <td>0.499887</td>\n",
       "      <td>0.000000</td>\n",
       "      <td>0.000000</td>\n",
       "      <td>0.000000</td>\n",
       "      <td>1.000000</td>\n",
       "      <td>1.000000</td>\n",
       "    </tr>\n",
       "    <tr>\n",
       "      <th>Promo_friends</th>\n",
       "      <td>4000.0</td>\n",
       "      <td>0.308500</td>\n",
       "      <td>0.461932</td>\n",
       "      <td>0.000000</td>\n",
       "      <td>0.000000</td>\n",
       "      <td>0.000000</td>\n",
       "      <td>1.000000</td>\n",
       "      <td>1.000000</td>\n",
       "    </tr>\n",
       "    <tr>\n",
       "      <th>Phone</th>\n",
       "      <td>4000.0</td>\n",
       "      <td>0.903500</td>\n",
       "      <td>0.295313</td>\n",
       "      <td>0.000000</td>\n",
       "      <td>1.000000</td>\n",
       "      <td>1.000000</td>\n",
       "      <td>1.000000</td>\n",
       "      <td>1.000000</td>\n",
       "    </tr>\n",
       "    <tr>\n",
       "      <th>Contract_period</th>\n",
       "      <td>4000.0</td>\n",
       "      <td>4.681250</td>\n",
       "      <td>4.549706</td>\n",
       "      <td>1.000000</td>\n",
       "      <td>1.000000</td>\n",
       "      <td>1.000000</td>\n",
       "      <td>6.000000</td>\n",
       "      <td>12.000000</td>\n",
       "    </tr>\n",
       "    <tr>\n",
       "      <th>Group_visits</th>\n",
       "      <td>4000.0</td>\n",
       "      <td>0.412250</td>\n",
       "      <td>0.492301</td>\n",
       "      <td>0.000000</td>\n",
       "      <td>0.000000</td>\n",
       "      <td>0.000000</td>\n",
       "      <td>1.000000</td>\n",
       "      <td>1.000000</td>\n",
       "    </tr>\n",
       "    <tr>\n",
       "      <th>Age</th>\n",
       "      <td>4000.0</td>\n",
       "      <td>29.184250</td>\n",
       "      <td>3.258367</td>\n",
       "      <td>18.000000</td>\n",
       "      <td>27.000000</td>\n",
       "      <td>29.000000</td>\n",
       "      <td>31.000000</td>\n",
       "      <td>41.000000</td>\n",
       "    </tr>\n",
       "    <tr>\n",
       "      <th>Avg_additional_charges_total</th>\n",
       "      <td>4000.0</td>\n",
       "      <td>146.943728</td>\n",
       "      <td>96.355602</td>\n",
       "      <td>0.148205</td>\n",
       "      <td>68.868830</td>\n",
       "      <td>136.220159</td>\n",
       "      <td>210.949625</td>\n",
       "      <td>552.590740</td>\n",
       "    </tr>\n",
       "    <tr>\n",
       "      <th>Month_to_end_contract</th>\n",
       "      <td>4000.0</td>\n",
       "      <td>4.322750</td>\n",
       "      <td>4.191297</td>\n",
       "      <td>1.000000</td>\n",
       "      <td>1.000000</td>\n",
       "      <td>1.000000</td>\n",
       "      <td>6.000000</td>\n",
       "      <td>12.000000</td>\n",
       "    </tr>\n",
       "    <tr>\n",
       "      <th>Lifetime</th>\n",
       "      <td>4000.0</td>\n",
       "      <td>3.724750</td>\n",
       "      <td>3.749267</td>\n",
       "      <td>0.000000</td>\n",
       "      <td>1.000000</td>\n",
       "      <td>3.000000</td>\n",
       "      <td>5.000000</td>\n",
       "      <td>31.000000</td>\n",
       "    </tr>\n",
       "    <tr>\n",
       "      <th>Avg_class_frequency_total</th>\n",
       "      <td>4000.0</td>\n",
       "      <td>1.879020</td>\n",
       "      <td>0.972245</td>\n",
       "      <td>0.000000</td>\n",
       "      <td>1.180875</td>\n",
       "      <td>1.832768</td>\n",
       "      <td>2.536078</td>\n",
       "      <td>6.023668</td>\n",
       "    </tr>\n",
       "    <tr>\n",
       "      <th>Avg_class_frequency_current_month</th>\n",
       "      <td>4000.0</td>\n",
       "      <td>1.767052</td>\n",
       "      <td>1.052906</td>\n",
       "      <td>0.000000</td>\n",
       "      <td>0.963003</td>\n",
       "      <td>1.719574</td>\n",
       "      <td>2.510336</td>\n",
       "      <td>6.146783</td>\n",
       "    </tr>\n",
       "    <tr>\n",
       "      <th>Churn</th>\n",
       "      <td>4000.0</td>\n",
       "      <td>0.265250</td>\n",
       "      <td>0.441521</td>\n",
       "      <td>0.000000</td>\n",
       "      <td>0.000000</td>\n",
       "      <td>0.000000</td>\n",
       "      <td>1.000000</td>\n",
       "      <td>1.000000</td>\n",
       "    </tr>\n",
       "  </tbody>\n",
       "</table>\n",
       "</div>"
      ],
      "text/plain": [
       "                                    count        mean        std        min  \\\n",
       "gender                             4000.0    0.510250   0.499957   0.000000   \n",
       "Near_Location                      4000.0    0.845250   0.361711   0.000000   \n",
       "Partner                            4000.0    0.486750   0.499887   0.000000   \n",
       "Promo_friends                      4000.0    0.308500   0.461932   0.000000   \n",
       "Phone                              4000.0    0.903500   0.295313   0.000000   \n",
       "Contract_period                    4000.0    4.681250   4.549706   1.000000   \n",
       "Group_visits                       4000.0    0.412250   0.492301   0.000000   \n",
       "Age                                4000.0   29.184250   3.258367  18.000000   \n",
       "Avg_additional_charges_total       4000.0  146.943728  96.355602   0.148205   \n",
       "Month_to_end_contract              4000.0    4.322750   4.191297   1.000000   \n",
       "Lifetime                           4000.0    3.724750   3.749267   0.000000   \n",
       "Avg_class_frequency_total          4000.0    1.879020   0.972245   0.000000   \n",
       "Avg_class_frequency_current_month  4000.0    1.767052   1.052906   0.000000   \n",
       "Churn                              4000.0    0.265250   0.441521   0.000000   \n",
       "\n",
       "                                         25%         50%         75%  \\\n",
       "gender                              0.000000    1.000000    1.000000   \n",
       "Near_Location                       1.000000    1.000000    1.000000   \n",
       "Partner                             0.000000    0.000000    1.000000   \n",
       "Promo_friends                       0.000000    0.000000    1.000000   \n",
       "Phone                               1.000000    1.000000    1.000000   \n",
       "Contract_period                     1.000000    1.000000    6.000000   \n",
       "Group_visits                        0.000000    0.000000    1.000000   \n",
       "Age                                27.000000   29.000000   31.000000   \n",
       "Avg_additional_charges_total       68.868830  136.220159  210.949625   \n",
       "Month_to_end_contract               1.000000    1.000000    6.000000   \n",
       "Lifetime                            1.000000    3.000000    5.000000   \n",
       "Avg_class_frequency_total           1.180875    1.832768    2.536078   \n",
       "Avg_class_frequency_current_month   0.963003    1.719574    2.510336   \n",
       "Churn                               0.000000    0.000000    1.000000   \n",
       "\n",
       "                                          max  \n",
       "gender                               1.000000  \n",
       "Near_Location                        1.000000  \n",
       "Partner                              1.000000  \n",
       "Promo_friends                        1.000000  \n",
       "Phone                                1.000000  \n",
       "Contract_period                     12.000000  \n",
       "Group_visits                         1.000000  \n",
       "Age                                 41.000000  \n",
       "Avg_additional_charges_total       552.590740  \n",
       "Month_to_end_contract               12.000000  \n",
       "Lifetime                            31.000000  \n",
       "Avg_class_frequency_total            6.023668  \n",
       "Avg_class_frequency_current_month    6.146783  \n",
       "Churn                                1.000000  "
      ]
     },
     "execution_count": 5,
     "metadata": {},
     "output_type": "execute_result"
    }
   ],
   "source": [
    "df.describe().T"
   ]
  },
  {
   "cell_type": "markdown",
   "metadata": {},
   "source": [
    "Исходная таблица содержит данные о 4000 клиентов фитнес-клуба. <br>\n",
    "Распределение мужчин и женщин - примерно 50 на 50.<br>\n",
    "Почти 85% клиентов живут или работают рядом с фитнес-клубом.<br>\n",
    "49% клиентов - сотрудники компаний-партнёров клуба.<br>\n",
    "30% пришли в клуб по акции \"приведи друга\".<br>\n",
    "Клиенты клуб - люди в возрасте от 18 до 41 года. Средний возраст клиентов - 29 лет.<br>\n",
    "41% клиентов посещает групповые занятия.<br>\n",
    "Уровень оттока клиентов составляет 27%."
   ]
  },
  {
   "cell_type": "markdown",
   "metadata": {},
   "source": [
    "Посмотрим на средние значения признаков в двух группах — тех, кто ушел в отток и тех, кто остался"
   ]
  },
  {
   "cell_type": "code",
   "execution_count": 6,
   "metadata": {},
   "outputs": [
    {
     "data": {
      "text/html": [
       "<div>\n",
       "<style scoped>\n",
       "    .dataframe tbody tr th:only-of-type {\n",
       "        vertical-align: middle;\n",
       "    }\n",
       "\n",
       "    .dataframe tbody tr th {\n",
       "        vertical-align: top;\n",
       "    }\n",
       "\n",
       "    .dataframe thead th {\n",
       "        text-align: right;\n",
       "    }\n",
       "</style>\n",
       "<table border=\"1\" class=\"dataframe\">\n",
       "  <thead>\n",
       "    <tr style=\"text-align: right;\">\n",
       "      <th>Churn</th>\n",
       "      <th>0</th>\n",
       "      <th>1</th>\n",
       "    </tr>\n",
       "  </thead>\n",
       "  <tbody>\n",
       "    <tr>\n",
       "      <th>gender</th>\n",
       "      <td>0.510037</td>\n",
       "      <td>0.510839</td>\n",
       "    </tr>\n",
       "    <tr>\n",
       "      <th>Near_Location</th>\n",
       "      <td>0.873086</td>\n",
       "      <td>0.768143</td>\n",
       "    </tr>\n",
       "    <tr>\n",
       "      <th>Partner</th>\n",
       "      <td>0.534195</td>\n",
       "      <td>0.355325</td>\n",
       "    </tr>\n",
       "    <tr>\n",
       "      <th>Promo_friends</th>\n",
       "      <td>0.353522</td>\n",
       "      <td>0.183789</td>\n",
       "    </tr>\n",
       "    <tr>\n",
       "      <th>Phone</th>\n",
       "      <td>0.903709</td>\n",
       "      <td>0.902922</td>\n",
       "    </tr>\n",
       "    <tr>\n",
       "      <th>Contract_period</th>\n",
       "      <td>5.747193</td>\n",
       "      <td>1.728558</td>\n",
       "    </tr>\n",
       "    <tr>\n",
       "      <th>Group_visits</th>\n",
       "      <td>0.464103</td>\n",
       "      <td>0.268615</td>\n",
       "    </tr>\n",
       "    <tr>\n",
       "      <th>Age</th>\n",
       "      <td>29.976523</td>\n",
       "      <td>26.989632</td>\n",
       "    </tr>\n",
       "    <tr>\n",
       "      <th>Avg_additional_charges_total</th>\n",
       "      <td>158.445715</td>\n",
       "      <td>115.082899</td>\n",
       "    </tr>\n",
       "    <tr>\n",
       "      <th>Month_to_end_contract</th>\n",
       "      <td>5.283089</td>\n",
       "      <td>1.662582</td>\n",
       "    </tr>\n",
       "    <tr>\n",
       "      <th>Lifetime</th>\n",
       "      <td>4.711807</td>\n",
       "      <td>0.990575</td>\n",
       "    </tr>\n",
       "    <tr>\n",
       "      <th>Avg_class_frequency_total</th>\n",
       "      <td>2.024876</td>\n",
       "      <td>1.474995</td>\n",
       "    </tr>\n",
       "    <tr>\n",
       "      <th>Avg_class_frequency_current_month</th>\n",
       "      <td>2.027882</td>\n",
       "      <td>1.044546</td>\n",
       "    </tr>\n",
       "  </tbody>\n",
       "</table>\n",
       "</div>"
      ],
      "text/plain": [
       "Churn                                       0           1\n",
       "gender                               0.510037    0.510839\n",
       "Near_Location                        0.873086    0.768143\n",
       "Partner                              0.534195    0.355325\n",
       "Promo_friends                        0.353522    0.183789\n",
       "Phone                                0.903709    0.902922\n",
       "Contract_period                      5.747193    1.728558\n",
       "Group_visits                         0.464103    0.268615\n",
       "Age                                 29.976523   26.989632\n",
       "Avg_additional_charges_total       158.445715  115.082899\n",
       "Month_to_end_contract                5.283089    1.662582\n",
       "Lifetime                             4.711807    0.990575\n",
       "Avg_class_frequency_total            2.024876    1.474995\n",
       "Avg_class_frequency_current_month    2.027882    1.044546"
      ]
     },
     "metadata": {},
     "output_type": "display_data"
    }
   ],
   "source": [
    "#Выведем среднее значение по оттокам каждого признака\n",
    "display(df.groupby('Churn').agg('mean').T)"
   ]
  },
  {
   "cell_type": "markdown",
   "metadata": {},
   "source": [
    "Построим столбчатые гистограммы и распределения признаков для тех, кто ушёл (отток) и тех, кто остался (не попали в отток)"
   ]
  },
  {
   "cell_type": "code",
   "execution_count": 7,
   "metadata": {},
   "outputs": [],
   "source": [
    "#Получаем список названия колонок \n",
    "columns_name = list(df.columns)"
   ]
  },
  {
   "cell_type": "code",
   "execution_count": 8,
   "metadata": {
    "scrolled": false
   },
   "outputs": [
    {
     "data": {
      "image/png": "[encoded data removed]",
      "text/plain": [
       "<Figure size 1080x432 with 1 Axes>"
      ]
     },
     "metadata": {
      "needs_background": "light"
     },
     "output_type": "display_data"
    },
    {
     "data": {
      "image/png": "[encoded data removed]",
      "text/plain": [
       "<Figure size 1080x432 with 1 Axes>"
      ]
     },
     "metadata": {
      "needs_background": "light"
     },
     "output_type": "display_data"
    },
    {
     "data": {
      "image/png": "[encoded data removed]",
      "text/plain": [
       "<Figure size 1080x432 with 1 Axes>"
      ]
     },
     "metadata": {
      "needs_background": "light"
     },
     "output_type": "display_data"
    },
    {
     "data": {
      "image/png": "[encoded data removed]",
      "text/plain": [
       "<Figure size 1080x432 with 1 Axes>"
      ]
     },
     "metadata": {
      "needs_background": "light"
     },
     "output_type": "display_data"
    },
    {
     "data": {
      "image/png": "[encoded data removed]",
      "text/plain": [
       "<Figure size 1080x432 with 1 Axes>"
      ]
     },
     "metadata": {
      "needs_background": "light"
     },
     "output_type": "display_data"
    },
    {
     "data": {
      "image/png": "[encoded data removed]",
      "text/plain": [
       "<Figure size 1080x432 with 1 Axes>"
      ]
     },
     "metadata": {
      "needs_background": "light"
     },
     "output_type": "display_data"
    },
    {
     "data": {
      "image/png": "[encoded data removed]",
      "text/plain": [
       "<Figure size 1080x432 with 1 Axes>"
      ]
     },
     "metadata": {
      "needs_background": "light"
     },
     "output_type": "display_data"
    },
    {
     "data": {
      "image/png": "[encoded data removed]",
      "text/plain": [
       "<Figure size 1080x432 with 1 Axes>"
      ]
     },
     "metadata": {
      "needs_background": "light"
     },
     "output_type": "display_data"
    },
    {
     "data": {
      "image/png": "[encoded data removed]",
      "text/plain": [
       "<Figure size 1080x432 with 1 Axes>"
      ]
     },
     "metadata": {
      "needs_background": "light"
     },
     "output_type": "display_data"
    },
    {
     "data": {
      "image/png": "[encoded data removed]",
      "text/plain": [
       "<Figure size 1080x432 with 1 Axes>"
      ]
     },
     "metadata": {
      "needs_background": "light"
     },
     "output_type": "display_data"
    },
    {
     "data": {
      "image/png": "[encoded data removed]",
      "text/plain": [
       "<Figure size 1080x432 with 1 Axes>"
      ]
     },
     "metadata": {
      "needs_background": "light"
     },
     "output_type": "display_data"
    },
    {
     "data": {
      "image/png": "[encoded data removed]",
      "text/plain": [
       "<Figure size 1080x432 with 1 Axes>"
      ]
     },
     "metadata": {
      "needs_background": "light"
     },
     "output_type": "display_data"
    },
    {
     "data": {
      "image/png": "[encoded data removed]",
      "text/plain": [
       "<Figure size 1080x432 with 1 Axes>"
      ]
     },
     "metadata": {
      "needs_background": "light"
     },
     "output_type": "display_data"
    },
    {
     "data": {
      "image/png": "[encoded data removed]",
      "text/plain": [
       "<Figure size 1080x432 with 1 Axes>"
      ]
     },
     "metadata": {
      "needs_background": "light"
     },
     "output_type": "display_data"
    }
   ],
   "source": [
    "for column in columns_name:\n",
    "    fig, ax = plt.subplots(figsize = (15, 6))\n",
    "    sns.histplot(df[df['Churn']==0][column], label = 'Не попали в отток', ax = plt.subplot(1, 2, 1), color = 'Red')\n",
    "    sns.histplot(df[df['Churn']==1][column], label = 'Отток', ax = plt.subplot(1, 2, 1))\n",
    "    plt.xlabel(column)\n",
    "    plt.ylabel('')\n",
    "    plt.legend()"
   ]
  },
  {
   "cell_type": "markdown",
   "metadata": {},
   "source": [
    "По характеру распределения значений признаков в двух группах (\"отток\" и \"не отток\"), можно выявить следующие закономерности: <br>\n",
    "* уровень оттока меньше среди тех, кто живёт или работает рядом с клубом (87% не попавших в отток против 77%)<br>\n",
    "* также больше оставшихся среди тех, кто работает в компаниях-партнёрах клуба (53% против 35%)<br>\n",
    "* те, кто пришли по акции \"приведи друга\" остаются чаще (35% против 18%)\n",
    "* те, кто ходит на групповые занятия, чаще не попадают в отток (46% против 27%)"
   ]
  },
  {
   "cell_type": "markdown",
   "metadata": {},
   "source": [
    "Постоим матрицу корреляции"
   ]
  },
  {
   "cell_type": "code",
   "execution_count": 9,
   "metadata": {},
   "outputs": [
    {
     "data": {
      "text/html": [
       "<div>\n",
       "<style scoped>\n",
       "    .dataframe tbody tr th:only-of-type {\n",
       "        vertical-align: middle;\n",
       "    }\n",
       "\n",
       "    .dataframe tbody tr th {\n",
       "        vertical-align: top;\n",
       "    }\n",
       "\n",
       "    .dataframe thead th {\n",
       "        text-align: right;\n",
       "    }\n",
       "</style>\n",
       "<table border=\"1\" class=\"dataframe\">\n",
       "  <thead>\n",
       "    <tr style=\"text-align: right;\">\n",
       "      <th></th>\n",
       "      <th>gender</th>\n",
       "      <th>Near_Location</th>\n",
       "      <th>Partner</th>\n",
       "      <th>Promo_friends</th>\n",
       "      <th>Phone</th>\n",
       "      <th>Contract_period</th>\n",
       "      <th>Group_visits</th>\n",
       "      <th>Age</th>\n",
       "      <th>Avg_additional_charges_total</th>\n",
       "      <th>Month_to_end_contract</th>\n",
       "      <th>Lifetime</th>\n",
       "      <th>Avg_class_frequency_total</th>\n",
       "      <th>Avg_class_frequency_current_month</th>\n",
       "      <th>Churn</th>\n",
       "    </tr>\n",
       "  </thead>\n",
       "  <tbody>\n",
       "    <tr>\n",
       "      <th>gender</th>\n",
       "      <td>1.000000</td>\n",
       "      <td>0.006699</td>\n",
       "      <td>-0.010463</td>\n",
       "      <td>-0.005033</td>\n",
       "      <td>-0.008542</td>\n",
       "      <td>0.000502</td>\n",
       "      <td>0.017879</td>\n",
       "      <td>0.013807</td>\n",
       "      <td>-0.009334</td>\n",
       "      <td>-0.001281</td>\n",
       "      <td>0.013579</td>\n",
       "      <td>0.014620</td>\n",
       "      <td>0.009156</td>\n",
       "      <td>0.000708</td>\n",
       "    </tr>\n",
       "    <tr>\n",
       "      <th>Near_Location</th>\n",
       "      <td>0.006699</td>\n",
       "      <td>1.000000</td>\n",
       "      <td>-0.005119</td>\n",
       "      <td>0.210964</td>\n",
       "      <td>-0.015763</td>\n",
       "      <td>0.150233</td>\n",
       "      <td>0.154728</td>\n",
       "      <td>0.058358</td>\n",
       "      <td>0.040761</td>\n",
       "      <td>0.143961</td>\n",
       "      <td>0.070921</td>\n",
       "      <td>0.043127</td>\n",
       "      <td>0.062664</td>\n",
       "      <td>-0.128098</td>\n",
       "    </tr>\n",
       "    <tr>\n",
       "      <th>Partner</th>\n",
       "      <td>-0.010463</td>\n",
       "      <td>-0.005119</td>\n",
       "      <td>1.000000</td>\n",
       "      <td>0.451960</td>\n",
       "      <td>0.009970</td>\n",
       "      <td>0.306166</td>\n",
       "      <td>0.022710</td>\n",
       "      <td>0.047480</td>\n",
       "      <td>0.022941</td>\n",
       "      <td>0.294632</td>\n",
       "      <td>0.061229</td>\n",
       "      <td>0.024938</td>\n",
       "      <td>0.045561</td>\n",
       "      <td>-0.157986</td>\n",
       "    </tr>\n",
       "    <tr>\n",
       "      <th>Promo_friends</th>\n",
       "      <td>-0.005033</td>\n",
       "      <td>0.210964</td>\n",
       "      <td>0.451960</td>\n",
       "      <td>1.000000</td>\n",
       "      <td>0.001982</td>\n",
       "      <td>0.244552</td>\n",
       "      <td>0.120170</td>\n",
       "      <td>0.050113</td>\n",
       "      <td>0.036898</td>\n",
       "      <td>0.239553</td>\n",
       "      <td>0.072721</td>\n",
       "      <td>0.028063</td>\n",
       "      <td>0.053768</td>\n",
       "      <td>-0.162233</td>\n",
       "    </tr>\n",
       "    <tr>\n",
       "      <th>Phone</th>\n",
       "      <td>-0.008542</td>\n",
       "      <td>-0.015763</td>\n",
       "      <td>0.009970</td>\n",
       "      <td>0.001982</td>\n",
       "      <td>1.000000</td>\n",
       "      <td>-0.006893</td>\n",
       "      <td>-0.010099</td>\n",
       "      <td>-0.011403</td>\n",
       "      <td>0.009279</td>\n",
       "      <td>-0.011196</td>\n",
       "      <td>-0.018801</td>\n",
       "      <td>0.008340</td>\n",
       "      <td>0.013375</td>\n",
       "      <td>-0.001177</td>\n",
       "    </tr>\n",
       "    <tr>\n",
       "      <th>Contract_period</th>\n",
       "      <td>0.000502</td>\n",
       "      <td>0.150233</td>\n",
       "      <td>0.306166</td>\n",
       "      <td>0.244552</td>\n",
       "      <td>-0.006893</td>\n",
       "      <td>1.000000</td>\n",
       "      <td>0.169991</td>\n",
       "      <td>0.138249</td>\n",
       "      <td>0.111445</td>\n",
       "      <td>0.973064</td>\n",
       "      <td>0.170725</td>\n",
       "      <td>0.096211</td>\n",
       "      <td>0.159407</td>\n",
       "      <td>-0.389984</td>\n",
       "    </tr>\n",
       "    <tr>\n",
       "      <th>Group_visits</th>\n",
       "      <td>0.017879</td>\n",
       "      <td>0.154728</td>\n",
       "      <td>0.022710</td>\n",
       "      <td>0.120170</td>\n",
       "      <td>-0.010099</td>\n",
       "      <td>0.169991</td>\n",
       "      <td>1.000000</td>\n",
       "      <td>0.080934</td>\n",
       "      <td>0.032079</td>\n",
       "      <td>0.163703</td>\n",
       "      <td>0.075853</td>\n",
       "      <td>0.056695</td>\n",
       "      <td>0.075923</td>\n",
       "      <td>-0.175325</td>\n",
       "    </tr>\n",
       "    <tr>\n",
       "      <th>Age</th>\n",
       "      <td>0.013807</td>\n",
       "      <td>0.058358</td>\n",
       "      <td>0.047480</td>\n",
       "      <td>0.050113</td>\n",
       "      <td>-0.011403</td>\n",
       "      <td>0.138249</td>\n",
       "      <td>0.080934</td>\n",
       "      <td>1.000000</td>\n",
       "      <td>0.080240</td>\n",
       "      <td>0.134511</td>\n",
       "      <td>0.164693</td>\n",
       "      <td>0.119953</td>\n",
       "      <td>0.183095</td>\n",
       "      <td>-0.404735</td>\n",
       "    </tr>\n",
       "    <tr>\n",
       "      <th>Avg_additional_charges_total</th>\n",
       "      <td>-0.009334</td>\n",
       "      <td>0.040761</td>\n",
       "      <td>0.022941</td>\n",
       "      <td>0.036898</td>\n",
       "      <td>0.009279</td>\n",
       "      <td>0.111445</td>\n",
       "      <td>0.032079</td>\n",
       "      <td>0.080240</td>\n",
       "      <td>1.000000</td>\n",
       "      <td>0.113958</td>\n",
       "      <td>0.079028</td>\n",
       "      <td>0.044426</td>\n",
       "      <td>0.079570</td>\n",
       "      <td>-0.198697</td>\n",
       "    </tr>\n",
       "    <tr>\n",
       "      <th>Month_to_end_contract</th>\n",
       "      <td>-0.001281</td>\n",
       "      <td>0.143961</td>\n",
       "      <td>0.294632</td>\n",
       "      <td>0.239553</td>\n",
       "      <td>-0.011196</td>\n",
       "      <td>0.973064</td>\n",
       "      <td>0.163703</td>\n",
       "      <td>0.134511</td>\n",
       "      <td>0.113958</td>\n",
       "      <td>1.000000</td>\n",
       "      <td>0.161078</td>\n",
       "      <td>0.085387</td>\n",
       "      <td>0.147605</td>\n",
       "      <td>-0.381393</td>\n",
       "    </tr>\n",
       "    <tr>\n",
       "      <th>Lifetime</th>\n",
       "      <td>0.013579</td>\n",
       "      <td>0.070921</td>\n",
       "      <td>0.061229</td>\n",
       "      <td>0.072721</td>\n",
       "      <td>-0.018801</td>\n",
       "      <td>0.170725</td>\n",
       "      <td>0.075853</td>\n",
       "      <td>0.164693</td>\n",
       "      <td>0.079028</td>\n",
       "      <td>0.161078</td>\n",
       "      <td>1.000000</td>\n",
       "      <td>0.112338</td>\n",
       "      <td>0.181975</td>\n",
       "      <td>-0.438220</td>\n",
       "    </tr>\n",
       "    <tr>\n",
       "      <th>Avg_class_frequency_total</th>\n",
       "      <td>0.014620</td>\n",
       "      <td>0.043127</td>\n",
       "      <td>0.024938</td>\n",
       "      <td>0.028063</td>\n",
       "      <td>0.008340</td>\n",
       "      <td>0.096211</td>\n",
       "      <td>0.056695</td>\n",
       "      <td>0.119953</td>\n",
       "      <td>0.044426</td>\n",
       "      <td>0.085387</td>\n",
       "      <td>0.112338</td>\n",
       "      <td>1.000000</td>\n",
       "      <td>0.952739</td>\n",
       "      <td>-0.249715</td>\n",
       "    </tr>\n",
       "    <tr>\n",
       "      <th>Avg_class_frequency_current_month</th>\n",
       "      <td>0.009156</td>\n",
       "      <td>0.062664</td>\n",
       "      <td>0.045561</td>\n",
       "      <td>0.053768</td>\n",
       "      <td>0.013375</td>\n",
       "      <td>0.159407</td>\n",
       "      <td>0.075923</td>\n",
       "      <td>0.183095</td>\n",
       "      <td>0.079570</td>\n",
       "      <td>0.147605</td>\n",
       "      <td>0.181975</td>\n",
       "      <td>0.952739</td>\n",
       "      <td>1.000000</td>\n",
       "      <td>-0.412348</td>\n",
       "    </tr>\n",
       "    <tr>\n",
       "      <th>Churn</th>\n",
       "      <td>0.000708</td>\n",
       "      <td>-0.128098</td>\n",
       "      <td>-0.157986</td>\n",
       "      <td>-0.162233</td>\n",
       "      <td>-0.001177</td>\n",
       "      <td>-0.389984</td>\n",
       "      <td>-0.175325</td>\n",
       "      <td>-0.404735</td>\n",
       "      <td>-0.198697</td>\n",
       "      <td>-0.381393</td>\n",
       "      <td>-0.438220</td>\n",
       "      <td>-0.249715</td>\n",
       "      <td>-0.412348</td>\n",
       "      <td>1.000000</td>\n",
       "    </tr>\n",
       "  </tbody>\n",
       "</table>\n",
       "</div>"
      ],
      "text/plain": [
       "                                     gender  Near_Location   Partner  \\\n",
       "gender                             1.000000       0.006699 -0.010463   \n",
       "Near_Location                      0.006699       1.000000 -0.005119   \n",
       "Partner                           -0.010463      -0.005119  1.000000   \n",
       "Promo_friends                     -0.005033       0.210964  0.451960   \n",
       "Phone                             -0.008542      -0.015763  0.009970   \n",
       "Contract_period                    0.000502       0.150233  0.306166   \n",
       "Group_visits                       0.017879       0.154728  0.022710   \n",
       "Age                                0.013807       0.058358  0.047480   \n",
       "Avg_additional_charges_total      -0.009334       0.040761  0.022941   \n",
       "Month_to_end_contract             -0.001281       0.143961  0.294632   \n",
       "Lifetime                           0.013579       0.070921  0.061229   \n",
       "Avg_class_frequency_total          0.014620       0.043127  0.024938   \n",
       "Avg_class_frequency_current_month  0.009156       0.062664  0.045561   \n",
       "Churn                              0.000708      -0.128098 -0.157986   \n",
       "\n",
       "                                   Promo_friends     Phone  Contract_period  \\\n",
       "gender                                 -0.005033 -0.008542         0.000502   \n",
       "Near_Location                           0.210964 -0.015763         0.150233   \n",
       "Partner                                 0.451960  0.009970         0.306166   \n",
       "Promo_friends                           1.000000  0.001982         0.244552   \n",
       "Phone                                   0.001982  1.000000        -0.006893   \n",
       "Contract_period                         0.244552 -0.006893         1.000000   \n",
       "Group_visits                            0.120170 -0.010099         0.169991   \n",
       "Age                                     0.050113 -0.011403         0.138249   \n",
       "Avg_additional_charges_total            0.036898  0.009279         0.111445   \n",
       "Month_to_end_contract                   0.239553 -0.011196         0.973064   \n",
       "Lifetime                                0.072721 -0.018801         0.170725   \n",
       "Avg_class_frequency_total               0.028063  0.008340         0.096211   \n",
       "Avg_class_frequency_current_month       0.053768  0.013375         0.159407   \n",
       "Churn                                  -0.162233 -0.001177        -0.389984   \n",
       "\n",
       "                                   Group_visits       Age  \\\n",
       "gender                                 0.017879  0.013807   \n",
       "Near_Location                          0.154728  0.058358   \n",
       "Partner                                0.022710  0.047480   \n",
       "Promo_friends                          0.120170  0.050113   \n",
       "Phone                                 -0.010099 -0.011403   \n",
       "Contract_period                        0.169991  0.138249   \n",
       "Group_visits                           1.000000  0.080934   \n",
       "Age                                    0.080934  1.000000   \n",
       "Avg_additional_charges_total           0.032079  0.080240   \n",
       "Month_to_end_contract                  0.163703  0.134511   \n",
       "Lifetime                               0.075853  0.164693   \n",
       "Avg_class_frequency_total              0.056695  0.119953   \n",
       "Avg_class_frequency_current_month      0.075923  0.183095   \n",
       "Churn                                 -0.175325 -0.404735   \n",
       "\n",
       "                                   Avg_additional_charges_total  \\\n",
       "gender                                                -0.009334   \n",
       "Near_Location                                          0.040761   \n",
       "Partner                                                0.022941   \n",
       "Promo_friends                                          0.036898   \n",
       "Phone                                                  0.009279   \n",
       "Contract_period                                        0.111445   \n",
       "Group_visits                                           0.032079   \n",
       "Age                                                    0.080240   \n",
       "Avg_additional_charges_total                           1.000000   \n",
       "Month_to_end_contract                                  0.113958   \n",
       "Lifetime                                               0.079028   \n",
       "Avg_class_frequency_total                              0.044426   \n",
       "Avg_class_frequency_current_month                      0.079570   \n",
       "Churn                                                 -0.198697   \n",
       "\n",
       "                                   Month_to_end_contract  Lifetime  \\\n",
       "gender                                         -0.001281  0.013579   \n",
       "Near_Location                                   0.143961  0.070921   \n",
       "Partner                                         0.294632  0.061229   \n",
       "Promo_friends                                   0.239553  0.072721   \n",
       "Phone                                          -0.011196 -0.018801   \n",
       "Contract_period                                 0.973064  0.170725   \n",
       "Group_visits                                    0.163703  0.075853   \n",
       "Age                                             0.134511  0.164693   \n",
       "Avg_additional_charges_total                    0.113958  0.079028   \n",
       "Month_to_end_contract                           1.000000  0.161078   \n",
       "Lifetime                                        0.161078  1.000000   \n",
       "Avg_class_frequency_total                       0.085387  0.112338   \n",
       "Avg_class_frequency_current_month               0.147605  0.181975   \n",
       "Churn                                          -0.381393 -0.438220   \n",
       "\n",
       "                                   Avg_class_frequency_total  \\\n",
       "gender                                              0.014620   \n",
       "Near_Location                                       0.043127   \n",
       "Partner                                             0.024938   \n",
       "Promo_friends                                       0.028063   \n",
       "Phone                                               0.008340   \n",
       "Contract_period                                     0.096211   \n",
       "Group_visits                                        0.056695   \n",
       "Age                                                 0.119953   \n",
       "Avg_additional_charges_total                        0.044426   \n",
       "Month_to_end_contract                               0.085387   \n",
       "Lifetime                                            0.112338   \n",
       "Avg_class_frequency_total                           1.000000   \n",
       "Avg_class_frequency_current_month                   0.952739   \n",
       "Churn                                              -0.249715   \n",
       "\n",
       "                                   Avg_class_frequency_current_month     Churn  \n",
       "gender                                                      0.009156  0.000708  \n",
       "Near_Location                                               0.062664 -0.128098  \n",
       "Partner                                                     0.045561 -0.157986  \n",
       "Promo_friends                                               0.053768 -0.162233  \n",
       "Phone                                                       0.013375 -0.001177  \n",
       "Contract_period                                             0.159407 -0.389984  \n",
       "Group_visits                                                0.075923 -0.175325  \n",
       "Age                                                         0.183095 -0.404735  \n",
       "Avg_additional_charges_total                                0.079570 -0.198697  \n",
       "Month_to_end_contract                                       0.147605 -0.381393  \n",
       "Lifetime                                                    0.181975 -0.438220  \n",
       "Avg_class_frequency_total                                   0.952739 -0.249715  \n",
       "Avg_class_frequency_current_month                           1.000000 -0.412348  \n",
       "Churn                                                      -0.412348  1.000000  "
      ]
     },
     "execution_count": 9,
     "metadata": {},
     "output_type": "execute_result"
    }
   ],
   "source": [
    "df.corr()"
   ]
  },
  {
   "cell_type": "code",
   "execution_count": 10,
   "metadata": {},
   "outputs": [
    {
     "data": {
      "image/png": "[encoded data removed]",
      "text/plain": [
       "<Figure size 792x576 with 2 Axes>"
      ]
     },
     "metadata": {
      "needs_background": "light"
     },
     "output_type": "display_data"
    }
   ],
   "source": [
    "plt.figure(figsize=(11,8))\n",
    "sns.heatmap(df.corr(), cmap=\"Greens\",annot=True)\n",
    "plt.show()"
   ]
  },
  {
   "cell_type": "markdown",
   "metadata": {},
   "source": [
    "Ярко выраженной коррелиции факта оттока с другими признаками не выявлено. Выделяется влияние лайфтама (времени с момента преводо посещения клаба). Чем оно выше, тем ниже отток. Также можно выделить влияние Продолжительности абонемента (чем оно выше, тем ниже отток) и времени до окончания действия абонемента (чем больше, тем ниже отток)."
   ]
  },
  {
   "cell_type": "markdown",
   "metadata": {},
   "source": [
    "### Шаг 3. Построение модели прогнозирования оттока клиентов"
   ]
  },
  {
   "cell_type": "code",
   "execution_count": 11,
   "metadata": {},
   "outputs": [],
   "source": [
    "# разделим наши данные на признаки (матрица X) и целевую переменную (y)\n",
    "X = df.drop(columns=['Churn'], axis=1)\n",
    "y = df['Churn']"
   ]
  },
  {
   "cell_type": "code",
   "execution_count": 12,
   "metadata": {},
   "outputs": [],
   "source": [
    "# разделяем модель на обучающую и валидационную выборку\n",
    "X_train, X_test, y_train, y_test = train_test_split(X, y, test_size=0.2, random_state=0)"
   ]
  },
  {
   "cell_type": "code",
   "execution_count": 26,
   "metadata": {},
   "outputs": [],
   "source": [
    "def print_all_metrics(y_true, y_pred, y_proba, mdoel, title='Метрики классификации - модель'):\n",
    "    print(title, mdoel)\n",
    "    print('\\tAccuracy: {:.2f}'.format(accuracy_score(y_true, y_pred)))\n",
    "    print('\\tPrecision: {:.2f}'.format(precision_score(y_true, y_pred)))\n",
    "    print('\\tRecall: {:.2f}'.format(recall_score(y_true, y_pred)))\n"
   ]
  },
  {
   "cell_type": "code",
   "execution_count": 14,
   "metadata": {},
   "outputs": [],
   "source": [
    "# обучите StandartScaler на обучающей выборке\n",
    "scaler = StandardScaler()\n",
    "scaler.fit(X_train)\n",
    "\n",
    "# Преобразуйте обучающий и валидационные наборы данных\n",
    "X_train_st = scaler.transform(X_train)\n",
    "X_test_st = scaler.transform(X_test)"
   ]
  },
  {
   "cell_type": "code",
   "execution_count": 23,
   "metadata": {},
   "outputs": [],
   "source": [
    "#Создадим функцию для рбучения моделей и вывода информации о точности\n",
    "def make_prediction(m, X_train, y_train, X_test, y_test):\n",
    "    model = m\n",
    "    model.fit(X_train, y_train)\n",
    "    y_pred = model.predict(X_test)\n",
    "    y_probabilities = model.predict_proba(X_test)[:, 1]\n",
    "    print_all_metrics(y_test, y_pred, y_probabilities, m)\n",
    "    print()"
   ]
  },
  {
   "cell_type": "code",
   "execution_count": 24,
   "metadata": {},
   "outputs": [],
   "source": [
    "#Создадим список\n",
    "models = [LogisticRegression(solver='liblinear', random_state=0),\n",
    "          RandomForestClassifier(n_estimators = 100, random_state = 0),\n",
    "         ]"
   ]
  },
  {
   "cell_type": "code",
   "execution_count": 27,
   "metadata": {},
   "outputs": [
    {
     "name": "stdout",
     "output_type": "stream",
     "text": [
      "Метрики классификации - модель LogisticRegression(random_state=0, solver='liblinear')\n",
      "\tAccuracy: 0.93\n",
      "\tPrecision: 0.86\n",
      "\tRecall: 0.83\n",
      "\n",
      "Метрики классификации - модель RandomForestClassifier(random_state=0)\n",
      "\tAccuracy: 0.92\n",
      "\tPrecision: 0.84\n",
      "\tRecall: 0.82\n",
      "\n"
     ]
    }
   ],
   "source": [
    "for model in models:\n",
    "    make_prediction(model, X_train, y_train, X_test, y_test)"
   ]
  },
  {
   "cell_type": "markdown",
   "metadata": {},
   "source": [
    "Обе модели показали высокий уровень точности. Логистическая регрессия оказалась чуть более точной."
   ]
  },
  {
   "cell_type": "markdown",
   "metadata": {},
   "source": [
    "### Шаг 4. Кластеризация клиентов"
   ]
  },
  {
   "cell_type": "code",
   "execution_count": 35,
   "metadata": {},
   "outputs": [],
   "source": [
    "# стандартизируем данные\n",
    "sc = StandardScaler()\n",
    "x_sc = sc.fit_transform(X)"
   ]
  },
  {
   "cell_type": "code",
   "execution_count": 36,
   "metadata": {},
   "outputs": [
    {
     "data": {
      "image/png": "[encoded data removed]",
      "text/plain": [
       "<Figure size 1080x720 with 1 Axes>"
      ]
     },
     "metadata": {
      "needs_background": "light"
     },
     "output_type": "display_data"
    }
   ],
   "source": [
    "linked = linkage(x_sc, method = 'ward')\n",
    "plt.figure(figsize=(15, 10))  \n",
    "dendrogram(linked, orientation='top')\n",
    "plt.title('Hierarchial clustering for GYM')\n",
    "plt.show()"
   ]
  },
  {
   "cell_type": "code",
   "execution_count": 37,
   "metadata": {},
   "outputs": [],
   "source": [
    "km =  KMeans(n_clusters=5, random_state=0)\n",
    "# прогнозируем кластеры для наблюдений (алгоритм присваивает им номера от 0 до 4)\n",
    "labels = km.fit_predict(x_sc)"
   ]
  },
  {
   "cell_type": "code",
   "execution_count": 38,
   "metadata": {},
   "outputs": [],
   "source": [
    "df['cluster'] = labels"
   ]
  },
  {
   "cell_type": "code",
   "execution_count": 56,
   "metadata": {},
   "outputs": [
    {
     "data": {
      "text/html": [
       "<div>\n",
       "<style scoped>\n",
       "    .dataframe tbody tr th:only-of-type {\n",
       "        vertical-align: middle;\n",
       "    }\n",
       "\n",
       "    .dataframe tbody tr th {\n",
       "        vertical-align: top;\n",
       "    }\n",
       "\n",
       "    .dataframe thead th {\n",
       "        text-align: right;\n",
       "    }\n",
       "</style>\n",
       "<table border=\"1\" class=\"dataframe\">\n",
       "  <thead>\n",
       "    <tr style=\"text-align: right;\">\n",
       "      <th>cluster</th>\n",
       "      <th>0</th>\n",
       "      <th>1</th>\n",
       "      <th>2</th>\n",
       "      <th>3</th>\n",
       "      <th>4</th>\n",
       "    </tr>\n",
       "  </thead>\n",
       "  <tbody>\n",
       "    <tr>\n",
       "      <th>gender</th>\n",
       "      <td>0.502970</td>\n",
       "      <td>0.522078</td>\n",
       "      <td>0.495050</td>\n",
       "      <td>0.485737</td>\n",
       "      <td>0.559666</td>\n",
       "    </tr>\n",
       "    <tr>\n",
       "      <th>Near_Location</th>\n",
       "      <td>0.959406</td>\n",
       "      <td>0.862338</td>\n",
       "      <td>0.000000</td>\n",
       "      <td>1.000000</td>\n",
       "      <td>0.976134</td>\n",
       "    </tr>\n",
       "    <tr>\n",
       "      <th>Partner</th>\n",
       "      <td>0.783168</td>\n",
       "      <td>0.470130</td>\n",
       "      <td>0.463366</td>\n",
       "      <td>0.350238</td>\n",
       "      <td>0.356802</td>\n",
       "    </tr>\n",
       "    <tr>\n",
       "      <th>Promo_friends</th>\n",
       "      <td>0.574257</td>\n",
       "      <td>0.306494</td>\n",
       "      <td>0.079208</td>\n",
       "      <td>0.240095</td>\n",
       "      <td>0.230310</td>\n",
       "    </tr>\n",
       "    <tr>\n",
       "      <th>Phone</th>\n",
       "      <td>1.000000</td>\n",
       "      <td>0.000000</td>\n",
       "      <td>1.000000</td>\n",
       "      <td>1.000000</td>\n",
       "      <td>0.998807</td>\n",
       "    </tr>\n",
       "    <tr>\n",
       "      <th>Contract_period</th>\n",
       "      <td>10.889109</td>\n",
       "      <td>4.787013</td>\n",
       "      <td>2.352475</td>\n",
       "      <td>1.948494</td>\n",
       "      <td>2.669451</td>\n",
       "    </tr>\n",
       "    <tr>\n",
       "      <th>Group_visits</th>\n",
       "      <td>0.542574</td>\n",
       "      <td>0.425974</td>\n",
       "      <td>0.215842</td>\n",
       "      <td>0.341521</td>\n",
       "      <td>0.473747</td>\n",
       "    </tr>\n",
       "    <tr>\n",
       "      <th>Age</th>\n",
       "      <td>29.982178</td>\n",
       "      <td>29.301299</td>\n",
       "      <td>28.477228</td>\n",
       "      <td>28.167987</td>\n",
       "      <td>30.125298</td>\n",
       "    </tr>\n",
       "    <tr>\n",
       "      <th>Avg_additional_charges_total</th>\n",
       "      <td>160.761016</td>\n",
       "      <td>143.957664</td>\n",
       "      <td>135.457501</td>\n",
       "      <td>131.622204</td>\n",
       "      <td>161.657905</td>\n",
       "    </tr>\n",
       "    <tr>\n",
       "      <th>Month_to_end_contract</th>\n",
       "      <td>9.954455</td>\n",
       "      <td>4.475325</td>\n",
       "      <td>2.198020</td>\n",
       "      <td>1.856577</td>\n",
       "      <td>2.459427</td>\n",
       "    </tr>\n",
       "    <tr>\n",
       "      <th>Lifetime</th>\n",
       "      <td>4.736634</td>\n",
       "      <td>3.924675</td>\n",
       "      <td>2.809901</td>\n",
       "      <td>2.440571</td>\n",
       "      <td>4.898568</td>\n",
       "    </tr>\n",
       "    <tr>\n",
       "      <th>Avg_class_frequency_total</th>\n",
       "      <td>1.982055</td>\n",
       "      <td>1.847220</td>\n",
       "      <td>1.660461</td>\n",
       "      <td>1.247634</td>\n",
       "      <td>2.852002</td>\n",
       "    </tr>\n",
       "    <tr>\n",
       "      <th>Avg_class_frequency_current_month</th>\n",
       "      <td>1.974789</td>\n",
       "      <td>1.716369</td>\n",
       "      <td>1.477324</td>\n",
       "      <td>1.012983</td>\n",
       "      <td>2.850161</td>\n",
       "    </tr>\n",
       "    <tr>\n",
       "      <th>Churn</th>\n",
       "      <td>0.027723</td>\n",
       "      <td>0.267532</td>\n",
       "      <td>0.443564</td>\n",
       "      <td>0.514263</td>\n",
       "      <td>0.068019</td>\n",
       "    </tr>\n",
       "  </tbody>\n",
       "</table>\n",
       "</div>"
      ],
      "text/plain": [
       "cluster                                     0           1           2  \\\n",
       "gender                               0.502970    0.522078    0.495050   \n",
       "Near_Location                        0.959406    0.862338    0.000000   \n",
       "Partner                              0.783168    0.470130    0.463366   \n",
       "Promo_friends                        0.574257    0.306494    0.079208   \n",
       "Phone                                1.000000    0.000000    1.000000   \n",
       "Contract_period                     10.889109    4.787013    2.352475   \n",
       "Group_visits                         0.542574    0.425974    0.215842   \n",
       "Age                                 29.982178   29.301299   28.477228   \n",
       "Avg_additional_charges_total       160.761016  143.957664  135.457501   \n",
       "Month_to_end_contract                9.954455    4.475325    2.198020   \n",
       "Lifetime                             4.736634    3.924675    2.809901   \n",
       "Avg_class_frequency_total            1.982055    1.847220    1.660461   \n",
       "Avg_class_frequency_current_month    1.974789    1.716369    1.477324   \n",
       "Churn                                0.027723    0.267532    0.443564   \n",
       "\n",
       "cluster                                     3           4  \n",
       "gender                               0.485737    0.559666  \n",
       "Near_Location                        1.000000    0.976134  \n",
       "Partner                              0.350238    0.356802  \n",
       "Promo_friends                        0.240095    0.230310  \n",
       "Phone                                1.000000    0.998807  \n",
       "Contract_period                      1.948494    2.669451  \n",
       "Group_visits                         0.341521    0.473747  \n",
       "Age                                 28.167987   30.125298  \n",
       "Avg_additional_charges_total       131.622204  161.657905  \n",
       "Month_to_end_contract                1.856577    2.459427  \n",
       "Lifetime                             2.440571    4.898568  \n",
       "Avg_class_frequency_total            1.247634    2.852002  \n",
       "Avg_class_frequency_current_month    1.012983    2.850161  \n",
       "Churn                                0.514263    0.068019  "
      ]
     },
     "execution_count": 56,
     "metadata": {},
     "output_type": "execute_result"
    }
   ],
   "source": [
    "clusters = df.groupby(['cluster']).mean().T\n",
    "clusters"
   ]
  },
  {
   "cell_type": "code",
   "execution_count": 46,
   "metadata": {},
   "outputs": [
    {
     "name": "stdout",
     "output_type": "stream",
     "text": [
      "Размеры кластеров:\n"
     ]
    },
    {
     "data": {
      "text/plain": [
       "3    1262\n",
       "0    1010\n",
       "4     838\n",
       "2     505\n",
       "1     385\n",
       "Name: cluster, dtype: int64"
      ]
     },
     "metadata": {},
     "output_type": "display_data"
    }
   ],
   "source": [
    "print('Размеры кластеров:')\n",
    "display(df['cluster'].value_counts())"
   ]
  },
  {
   "cell_type": "markdown",
   "metadata": {},
   "source": [
    "Мы поделили клиентов на 5 кластеров. Размеры кластеров значительно отличаются (от 385 до 1262 клиентов в кластере). <br>\n",
    "На основе средних значений признаков самым надёжным кажется кластер №0 (1010 клиентов) с долей оттока в 2%.<br>\n",
    "Характерные черты для клиентов этого кластера:<br>\n",
    "* 96% живут или работают рядом с клубом\n",
    "* 78% - сотрудники компаний-партнёров клуба (значительно выше, чем в других кластерах)\n",
    "* 57% пришли по акции \"приведи друга\" (минимум в 2 раза больше, чем в других кластерах)\n",
    "* 100% оставили свой телефон\n",
    "* 54% посещают групповые занятия (выше, чем в других кластерах)\n",
    "* средняя продолжительность абонемента = 10+ месяцев (в других кластерах - 4.7 и ниже!)<br><br>\n",
    "\n",
    "Вторым по уровню надёжности с долей оттока в 7% является кластер №4, в который входят 838 клиентов.<br>\n",
    "Характерные для этого кластера признаки:\n",
    "* также как и в кластере 0 высок процент тех, кто живет или работает рядом с клубом - 97%.\n",
    "* всего 36% клиентов пришли из компаний-партнёров (значительно меньше, чем в кластере 0)\n",
    "* только 23% пришли по акции \"приведи друга\" (значительно меньше, чем в кластере 0)\n",
    "* средняя продолжительность абонемента - 2.7 месяцев (значительно меньше, чем в кластере 0)\n",
    "* остальные показатели существенно не отличаются от самого надёжного кластера<br><br>\n",
    "\n",
    "В трёх оставшихся кластерах уровень оттока ощутимо выше, чем в двух упомянутых выше. Рассмотрим основные отличительные черты.<br>\n",
    "Кластер №1: уровень оттока 27%, включает в себя 385 клиентов:<br>\n",
    "* 86% клиентов живут или работают рядом с клубом\n",
    "* 47% клиентов - сотрудники компаний-партнёров\n",
    "* 30% пришли по акции \"приведи друга\"\n",
    "* никто из клиентов не указал своё номер телефона (в остальных кластерах указали все или почти все)\n",
    "* средняя продолжительность договора - 4.7 месяцев<br><br>\n",
    "Кластер №2: уровень оттока 44%, 505 клиентов:\n",
    "* никто из клиентов не живёт и не работает рядом с клубом (в остальных кластерах значение близко к 100%)\n",
    "* самый низкий процент пришедших по акции \"приведи друга\" - 7%\n",
    "* клиенты из этого кластера меньше остальных посещаются групповые занятия - 22%<br><br>\n",
    "Кластер №3: самый высокий уровень оттока - 51%, при этом самый многочисленный - 1262 клиента:\n",
    "* самая короткая средняя продолжительность приобретенных абонементов - 1.9 месяца\n",
    "* самая никзая доля тех, кто пришёл по акции приведи друга или работает в компании партнёре (24% и 35% соответственно)\n",
    "* низкая доля посещающих групповые занятий - 34%"
   ]
  },
  {
   "cell_type": "markdown",
   "metadata": {},
   "source": [
    "### Шаг 5. Выводы и базовые рекомендации по работе с клиентами"
   ]
  },
  {
   "cell_type": "markdown",
   "metadata": {},
   "source": [
    "Исследование проводилось на основе данных о 4000 клиентов фитнес-клуба \"Культурист-датасаентист\". <br>\n",
    "Что стало известно о клиентах?<br>\n",
    "Распределение мужчин и женщин - примерно 50 на 50.<br>\n",
    "Почти 85% клиентов живут или работают рядом с фитнес-клубом.<br>\n",
    "49% клиентов - сотрудники компаний-партнёров клуба.<br>\n",
    "30% пришли в клуб по акции \"приведи друга\".<br>\n",
    "Клиенты клуб - люди в возрасте от 18 до 41 года. Средний возраст клиентов - 29 лет.<br>\n",
    "41% клиентов посещает групповые занятия.<br><br>\n",
    "Уровень оттока клиентов составляет 27%.<br>\n",
    "Проведя анализ взаимосвязей признаков и их влияния на уровень оттока, удалось выявить, что гораздо чаще остаются те клиенты, которые:<br>\n",
    "* живут или работают рядом с клубом\n",
    "* работают в компаниях-партнёрах клуба\n",
    "* пришли по акции \"приведи друга\"\n",
    "* посещают групповые занятия\n",
    "* приобретаюь абонемент на длительный срок (более 6 месяцев)<br><br>\n",
    "\n",
    "Исходя из этого рекоммендации, которые можно предложить для снижения уровня оттока клиентов:<br>\n",
    "* привлечение тех клиентов, кто живёт или работает рядом с клубом (реклама, ориентированная именно на них)\n",
    "* более активное привлечение клиентов из компаний-партнёров и поиск новых компаний-партнёров\n",
    "* продвижение групповых занятий для привлечения туда большего количества клиентов (здесь может понадобиться доплнительное исследование: почему не ходят на занятия? что сделать, чтобы ходили? возможно, просто не хватает информационно продвижения или же нужно разнообразить программу групповых занятий с учётом потребностей клиентов)\n",
    "* продвигать акцию \"приведи друга\"\n",
    "* мотивировать клиентов приобретать абонементы на длительный срок (промо-акции, скидки на продление)\n"
   ]
  },
  {
   "cell_type": "code",
   "execution_count": null,
   "metadata": {},
   "outputs": [],
   "source": []
  }
 ],
 "metadata": {
  "ExecuteTimeLog": [
   {
    "duration": 400,
    "start_time": "2022-10-23T16:34:45.235Z"
   },
   {
    "duration": 242,
    "start_time": "2022-10-23T16:35:39.995Z"
   },
   {
    "duration": 12,
    "start_time": "2022-10-23T16:35:51.837Z"
   },
   {
    "duration": 9,
    "start_time": "2022-10-23T16:38:26.858Z"
   },
   {
    "duration": 9,
    "start_time": "2022-10-23T16:42:06.945Z"
   },
   {
    "duration": 40,
    "start_time": "2022-10-23T16:43:02.309Z"
   },
   {
    "duration": 52,
    "start_time": "2022-10-23T16:43:10.352Z"
   },
   {
    "duration": 5,
    "start_time": "2022-10-23T16:45:25.357Z"
   },
   {
    "duration": 4,
    "start_time": "2022-10-23T16:45:59.196Z"
   },
   {
    "duration": 7,
    "start_time": "2022-10-23T16:46:22.057Z"
   },
   {
    "duration": 8,
    "start_time": "2022-10-23T16:46:33.439Z"
   },
   {
    "duration": 9,
    "start_time": "2022-10-23T16:47:08.829Z"
   },
   {
    "duration": 7,
    "start_time": "2022-10-23T16:47:42.677Z"
   },
   {
    "duration": 5,
    "start_time": "2022-10-23T16:47:47.345Z"
   },
   {
    "duration": 14,
    "start_time": "2022-10-23T16:49:23.987Z"
   },
   {
    "duration": 9,
    "start_time": "2022-10-23T16:49:38.724Z"
   },
   {
    "duration": 11,
    "start_time": "2022-10-23T16:49:48.979Z"
   },
   {
    "duration": 68,
    "start_time": "2022-10-23T16:53:00.051Z"
   },
   {
    "duration": 10,
    "start_time": "2022-10-23T16:53:14.635Z"
   },
   {
    "duration": 11,
    "start_time": "2022-10-23T16:53:26.077Z"
   },
   {
    "duration": 8,
    "start_time": "2022-10-23T16:53:37.291Z"
   },
   {
    "duration": 46,
    "start_time": "2022-10-23T16:53:51.932Z"
   },
   {
    "duration": 61,
    "start_time": "2022-10-23T16:54:05.283Z"
   },
   {
    "duration": 89,
    "start_time": "2022-10-23T16:54:37.043Z"
   },
   {
    "duration": 2343,
    "start_time": "2022-10-23T16:59:38.442Z"
   },
   {
    "duration": 19,
    "start_time": "2022-10-23T17:01:04.799Z"
   },
   {
    "duration": 7168,
    "start_time": "2022-10-23T17:01:20.587Z"
   },
   {
    "duration": 3876,
    "start_time": "2022-10-23T17:03:16.539Z"
   },
   {
    "duration": 7022,
    "start_time": "2022-10-23T17:03:25.939Z"
   },
   {
    "duration": 2805,
    "start_time": "2022-10-23T17:04:28.793Z"
   },
   {
    "duration": 6767,
    "start_time": "2022-10-23T17:04:54.813Z"
   },
   {
    "duration": 75,
    "start_time": "2022-10-23T17:06:01.151Z"
   },
   {
    "duration": 2914,
    "start_time": "2022-10-23T17:06:05.745Z"
   },
   {
    "duration": 6857,
    "start_time": "2022-10-23T17:06:25.091Z"
   },
   {
    "duration": 6847,
    "start_time": "2022-10-23T17:07:09.018Z"
   },
   {
    "duration": 7171,
    "start_time": "2022-10-23T17:07:44.859Z"
   },
   {
    "duration": 7131,
    "start_time": "2022-10-23T17:08:17.776Z"
   },
   {
    "duration": 511,
    "start_time": "2022-10-23T17:09:09.058Z"
   },
   {
    "duration": 194,
    "start_time": "2022-10-23T17:09:47.164Z"
   },
   {
    "duration": 190,
    "start_time": "2022-10-23T17:10:05.269Z"
   },
   {
    "duration": 1311,
    "start_time": "2022-10-23T17:10:12.517Z"
   },
   {
    "duration": 167,
    "start_time": "2022-10-23T17:10:32.134Z"
   },
   {
    "duration": 147,
    "start_time": "2022-10-23T17:11:09.250Z"
   },
   {
    "duration": 4,
    "start_time": "2022-10-23T17:11:37.906Z"
   },
   {
    "duration": 159,
    "start_time": "2022-10-23T17:11:41.938Z"
   },
   {
    "duration": 978,
    "start_time": "2022-10-23T17:12:13.348Z"
   },
   {
    "duration": 4493,
    "start_time": "2022-10-23T17:15:03.387Z"
   },
   {
    "duration": 4167,
    "start_time": "2022-10-23T17:15:09.240Z"
   },
   {
    "duration": 3015,
    "start_time": "2022-10-23T17:15:57.260Z"
   },
   {
    "duration": 25,
    "start_time": "2022-10-23T17:16:59.131Z"
   },
   {
    "duration": 2,
    "start_time": "2022-10-23T17:17:40.834Z"
   },
   {
    "duration": 352,
    "start_time": "2022-10-23T17:18:05.965Z"
   },
   {
    "duration": 423,
    "start_time": "2022-10-23T17:19:12.331Z"
   },
   {
    "duration": 1643,
    "start_time": "2022-10-23T17:19:16.052Z"
   },
   {
    "duration": 49,
    "start_time": "2022-10-23T17:19:35.973Z"
   },
   {
    "duration": 1396,
    "start_time": "2022-10-23T17:19:51.801Z"
   },
   {
    "duration": 1487,
    "start_time": "2022-10-23T17:19:58.673Z"
   },
   {
    "duration": 1375,
    "start_time": "2022-10-23T17:20:12.541Z"
   },
   {
    "duration": 1528,
    "start_time": "2022-10-23T17:20:22.115Z"
   },
   {
    "duration": 18,
    "start_time": "2022-10-23T17:23:08.040Z"
   },
   {
    "duration": 135,
    "start_time": "2022-10-23T17:23:25.408Z"
   },
   {
    "duration": 13,
    "start_time": "2022-10-23T17:23:50.478Z"
   },
   {
    "duration": 13,
    "start_time": "2022-10-23T17:24:01.289Z"
   },
   {
    "duration": 135,
    "start_time": "2022-10-23T17:24:10.049Z"
   },
   {
    "duration": 372,
    "start_time": "2022-10-23T17:24:39.050Z"
   },
   {
    "duration": 135,
    "start_time": "2022-10-23T17:24:43.649Z"
   },
   {
    "duration": 134,
    "start_time": "2022-10-23T17:25:00.631Z"
   },
   {
    "duration": 140,
    "start_time": "2022-10-23T17:25:28.827Z"
   },
   {
    "duration": 121,
    "start_time": "2022-10-23T17:26:12.808Z"
   },
   {
    "duration": 131,
    "start_time": "2022-10-23T17:26:49.470Z"
   },
   {
    "duration": 129,
    "start_time": "2022-10-23T17:27:07.832Z"
   },
   {
    "duration": 140,
    "start_time": "2022-10-23T17:27:22.655Z"
   },
   {
    "duration": 17,
    "start_time": "2022-10-23T17:28:05.953Z"
   },
   {
    "duration": 136,
    "start_time": "2022-10-23T17:28:10.236Z"
   },
   {
    "duration": 17,
    "start_time": "2022-10-23T17:28:25.669Z"
   },
   {
    "duration": 19,
    "start_time": "2022-10-23T17:28:53.371Z"
   },
   {
    "duration": 407,
    "start_time": "2022-10-23T17:29:15.868Z"
   },
   {
    "duration": 139,
    "start_time": "2022-10-23T17:29:24.613Z"
   },
   {
    "duration": 254,
    "start_time": "2022-10-23T17:29:55.365Z"
   },
   {
    "duration": 165,
    "start_time": "2022-10-23T17:30:19.505Z"
   },
   {
    "duration": 187,
    "start_time": "2022-10-23T17:30:39.105Z"
   },
   {
    "duration": 169,
    "start_time": "2022-10-23T17:30:44.961Z"
   },
   {
    "duration": 221,
    "start_time": "2022-10-23T17:31:06.736Z"
   },
   {
    "duration": 163,
    "start_time": "2022-10-23T17:31:14.909Z"
   },
   {
    "duration": 178,
    "start_time": "2022-10-23T17:31:33.429Z"
   },
   {
    "duration": 164,
    "start_time": "2022-10-23T17:31:39.826Z"
   },
   {
    "duration": 156,
    "start_time": "2022-10-23T17:32:02.527Z"
   },
   {
    "duration": 173,
    "start_time": "2022-10-23T17:32:18.377Z"
   },
   {
    "duration": 4,
    "start_time": "2022-10-23T17:34:37.147Z"
   },
   {
    "duration": 4,
    "start_time": "2022-10-23T17:34:52.983Z"
   },
   {
    "duration": 9,
    "start_time": "2022-10-23T17:35:01.627Z"
   },
   {
    "duration": 611,
    "start_time": "2022-10-23T17:35:16.647Z"
   },
   {
    "duration": 5,
    "start_time": "2022-10-23T17:35:20.873Z"
   },
   {
    "duration": 4,
    "start_time": "2022-10-23T17:41:36.131Z"
   },
   {
    "duration": 17,
    "start_time": "2022-10-23T17:41:42.941Z"
   },
   {
    "duration": 22,
    "start_time": "2022-10-23T17:41:56.278Z"
   },
   {
    "duration": 3,
    "start_time": "2022-10-23T17:42:00.190Z"
   },
   {
    "duration": 25,
    "start_time": "2022-10-23T17:42:01.262Z"
   },
   {
    "duration": 7,
    "start_time": "2022-10-23T17:42:03.002Z"
   },
   {
    "duration": 12,
    "start_time": "2022-10-23T17:42:04.132Z"
   },
   {
    "duration": 12,
    "start_time": "2022-10-23T17:42:41.378Z"
   },
   {
    "duration": 10,
    "start_time": "2022-10-23T17:43:27.489Z"
   },
   {
    "duration": 4,
    "start_time": "2022-10-23T17:49:42.161Z"
   },
   {
    "duration": 4,
    "start_time": "2022-10-23T17:51:01.573Z"
   },
   {
    "duration": 22,
    "start_time": "2022-10-23T17:51:21.627Z"
   },
   {
    "duration": 27,
    "start_time": "2022-10-23T17:52:25.092Z"
   },
   {
    "duration": 15,
    "start_time": "2022-10-23T17:52:30.510Z"
   },
   {
    "duration": 15,
    "start_time": "2022-10-23T19:08:35.417Z"
   },
   {
    "duration": 4,
    "start_time": "2022-10-23T19:10:02.222Z"
   },
   {
    "duration": 8,
    "start_time": "2022-10-23T19:10:05.945Z"
   },
   {
    "duration": 13,
    "start_time": "2022-10-23T19:10:59.837Z"
   },
   {
    "duration": 4,
    "start_time": "2022-10-23T19:11:16.842Z"
   },
   {
    "duration": 308,
    "start_time": "2022-10-23T19:11:51.852Z"
   },
   {
    "duration": 310,
    "start_time": "2022-10-23T19:12:14.254Z"
   },
   {
    "duration": 345,
    "start_time": "2022-10-23T19:12:42.974Z"
   },
   {
    "duration": 8,
    "start_time": "2022-10-23T19:13:08.948Z"
   },
   {
    "duration": 7,
    "start_time": "2022-10-23T19:14:01.555Z"
   },
   {
    "duration": 96,
    "start_time": "2022-10-23T19:14:53.803Z"
   },
   {
    "duration": 14,
    "start_time": "2022-10-23T19:14:56.848Z"
   },
   {
    "duration": 2,
    "start_time": "2022-10-23T19:14:58.401Z"
   },
   {
    "duration": 360,
    "start_time": "2022-10-23T19:14:59.306Z"
   },
   {
    "duration": 11,
    "start_time": "2022-10-23T19:15:00.114Z"
   },
   {
    "duration": 345,
    "start_time": "2022-10-23T19:15:53.906Z"
   },
   {
    "duration": 8,
    "start_time": "2022-10-23T19:15:58.387Z"
   },
   {
    "duration": 47,
    "start_time": "2022-10-23T19:16:09.199Z"
   },
   {
    "duration": 8,
    "start_time": "2022-10-23T19:16:09.727Z"
   },
   {
    "duration": 374,
    "start_time": "2022-10-23T19:16:27.874Z"
   },
   {
    "duration": 39,
    "start_time": "2022-10-23T19:16:30.959Z"
   },
   {
    "duration": 373,
    "start_time": "2022-10-23T19:16:44.101Z"
   },
   {
    "duration": 8,
    "start_time": "2022-10-23T19:16:46.246Z"
   },
   {
    "duration": 30,
    "start_time": "2022-10-23T19:16:56.714Z"
   },
   {
    "duration": 9,
    "start_time": "2022-10-23T19:18:46.635Z"
   },
   {
    "duration": 3,
    "start_time": "2022-10-23T19:19:01.254Z"
   },
   {
    "duration": 10,
    "start_time": "2022-10-23T19:19:30.203Z"
   },
   {
    "duration": 12,
    "start_time": "2022-10-23T19:20:21.587Z"
   },
   {
    "duration": 8,
    "start_time": "2022-10-23T19:20:22.326Z"
   },
   {
    "duration": 340,
    "start_time": "2022-10-23T19:20:39.447Z"
   },
   {
    "duration": 8,
    "start_time": "2022-10-23T19:20:40.742Z"
   },
   {
    "duration": 11,
    "start_time": "2022-10-23T19:21:38.667Z"
   },
   {
    "duration": 3,
    "start_time": "2022-10-23T19:22:04.474Z"
   },
   {
    "duration": 437,
    "start_time": "2022-10-23T19:22:08.135Z"
   },
   {
    "duration": 4,
    "start_time": "2022-10-23T19:22:27.446Z"
   },
   {
    "duration": 5,
    "start_time": "2022-10-23T19:24:07.187Z"
   },
   {
    "duration": 3,
    "start_time": "2022-10-23T19:24:07.943Z"
   },
   {
    "duration": 9,
    "start_time": "2022-10-23T19:24:08.614Z"
   },
   {
    "duration": 3,
    "start_time": "2022-10-23T19:24:09.067Z"
   },
   {
    "duration": 16,
    "start_time": "2022-10-23T19:24:09.526Z"
   },
   {
    "duration": 8,
    "start_time": "2022-10-23T19:24:10.134Z"
   },
   {
    "duration": 3,
    "start_time": "2022-10-23T19:24:11.215Z"
   },
   {
    "duration": 347,
    "start_time": "2022-10-23T19:24:11.735Z"
   },
   {
    "duration": 12,
    "start_time": "2022-10-23T19:24:12.084Z"
   },
   {
    "duration": 120,
    "start_time": "2022-10-23T19:24:58.184Z"
   },
   {
    "duration": 257,
    "start_time": "2022-10-23T19:25:16.843Z"
   },
   {
    "duration": 4,
    "start_time": "2022-10-23T19:25:31.704Z"
   },
   {
    "duration": 1163,
    "start_time": "2022-10-23T19:25:35.797Z"
   },
   {
    "duration": 4,
    "start_time": "2022-10-23T19:26:30.074Z"
   },
   {
    "duration": 5,
    "start_time": "2022-10-23T19:26:31.047Z"
   },
   {
    "duration": 4,
    "start_time": "2022-10-23T19:26:31.574Z"
   },
   {
    "duration": 10,
    "start_time": "2022-10-23T19:26:32.003Z"
   },
   {
    "duration": 3,
    "start_time": "2022-10-23T19:26:32.407Z"
   },
   {
    "duration": 20,
    "start_time": "2022-10-23T19:26:32.803Z"
   },
   {
    "duration": 8,
    "start_time": "2022-10-23T19:26:33.234Z"
   },
   {
    "duration": 3,
    "start_time": "2022-10-23T19:26:34.286Z"
   },
   {
    "duration": 353,
    "start_time": "2022-10-23T19:26:34.722Z"
   },
   {
    "duration": 10,
    "start_time": "2022-10-23T19:26:35.108Z"
   },
   {
    "duration": 1073,
    "start_time": "2022-10-23T19:26:37.826Z"
   },
   {
    "duration": 3,
    "start_time": "2022-10-23T19:27:51.849Z"
   },
   {
    "duration": 12,
    "start_time": "2022-10-23T19:27:52.335Z"
   },
   {
    "duration": 2,
    "start_time": "2022-10-23T19:27:52.682Z"
   },
   {
    "duration": 17,
    "start_time": "2022-10-23T19:27:53.046Z"
   },
   {
    "duration": 9,
    "start_time": "2022-10-23T19:27:53.546Z"
   },
   {
    "duration": 2,
    "start_time": "2022-10-23T19:27:55.646Z"
   },
   {
    "duration": 368,
    "start_time": "2022-10-23T19:27:55.954Z"
   },
   {
    "duration": 9,
    "start_time": "2022-10-23T19:27:56.429Z"
   },
   {
    "duration": 1105,
    "start_time": "2022-10-23T19:28:00.515Z"
   },
   {
    "duration": 4,
    "start_time": "2022-10-23T19:28:55.335Z"
   },
   {
    "duration": 15,
    "start_time": "2022-10-23T19:28:55.946Z"
   },
   {
    "duration": 3,
    "start_time": "2022-10-23T19:28:56.289Z"
   },
   {
    "duration": 28,
    "start_time": "2022-10-23T19:28:56.651Z"
   },
   {
    "duration": 7,
    "start_time": "2022-10-23T19:28:57.703Z"
   },
   {
    "duration": 2,
    "start_time": "2022-10-23T19:28:59.374Z"
   },
   {
    "duration": 353,
    "start_time": "2022-10-23T19:28:59.655Z"
   },
   {
    "duration": 7,
    "start_time": "2022-10-23T19:29:00.010Z"
   },
   {
    "duration": 31,
    "start_time": "2022-10-23T19:31:35.402Z"
   },
   {
    "duration": 9,
    "start_time": "2022-10-23T19:31:36.074Z"
   },
   {
    "duration": 3,
    "start_time": "2022-10-23T19:31:36.931Z"
   },
   {
    "duration": 343,
    "start_time": "2022-10-23T19:31:37.292Z"
   },
   {
    "duration": 7,
    "start_time": "2022-10-23T19:31:37.666Z"
   },
   {
    "duration": 7,
    "start_time": "2022-10-23T19:34:10.411Z"
   },
   {
    "duration": 5,
    "start_time": "2022-10-23T19:34:14.102Z"
   },
   {
    "duration": 4,
    "start_time": "2022-10-23T19:36:00.571Z"
   },
   {
    "duration": 9,
    "start_time": "2022-10-23T19:36:04.023Z"
   },
   {
    "duration": 110905,
    "start_time": "2022-10-23T19:36:11.193Z"
   },
   {
    "duration": 11,
    "start_time": "2022-10-23T19:40:32.178Z"
   },
   {
    "duration": 19,
    "start_time": "2022-10-23T19:40:47.480Z"
   },
   {
    "duration": 1465,
    "start_time": "2022-10-23T19:40:51.530Z"
   },
   {
    "duration": 4,
    "start_time": "2022-10-23T19:41:12.710Z"
   },
   {
    "duration": 12,
    "start_time": "2022-10-23T19:41:24.576Z"
   },
   {
    "duration": 12,
    "start_time": "2022-10-23T19:41:28.371Z"
   },
   {
    "duration": 18,
    "start_time": "2022-10-23T19:41:35.473Z"
   },
   {
    "duration": 4,
    "start_time": "2022-10-23T19:43:04.371Z"
   },
   {
    "duration": 4,
    "start_time": "2022-10-23T19:43:08.871Z"
   },
   {
    "duration": 3,
    "start_time": "2022-10-23T19:43:44.870Z"
   },
   {
    "duration": 33471,
    "start_time": "2022-10-23T19:43:49.166Z"
   },
   {
    "duration": 4,
    "start_time": "2022-10-23T19:44:54.302Z"
   },
   {
    "duration": 35865,
    "start_time": "2022-10-23T19:44:54.862Z"
   },
   {
    "duration": 106,
    "start_time": "2022-10-23T19:46:40.910Z"
   },
   {
    "duration": 99,
    "start_time": "2022-10-23T19:47:12.751Z"
   },
   {
    "duration": 126,
    "start_time": "2022-10-23T19:47:50.551Z"
   },
   {
    "duration": 152,
    "start_time": "2022-10-23T19:48:28.549Z"
   },
   {
    "duration": 218,
    "start_time": "2022-10-23T19:51:50.330Z"
   },
   {
    "duration": 473,
    "start_time": "2022-10-23T19:52:31.650Z"
   },
   {
    "duration": 255,
    "start_time": "2022-10-23T19:52:52.532Z"
   },
   {
    "duration": 4174,
    "start_time": "2022-10-23T19:53:05.801Z"
   },
   {
    "duration": 249,
    "start_time": "2022-10-23T19:54:17.740Z"
   },
   {
    "duration": 360,
    "start_time": "2022-10-23T19:54:46.763Z"
   },
   {
    "duration": 1126,
    "start_time": "2022-10-23T19:55:49.809Z"
   },
   {
    "duration": 256,
    "start_time": "2022-10-23T19:56:06.090Z"
   },
   {
    "duration": 1207,
    "start_time": "2022-10-23T19:56:13.294Z"
   },
   {
    "duration": 21,
    "start_time": "2022-10-23T19:56:23.266Z"
   },
   {
    "duration": 20,
    "start_time": "2022-10-23T19:56:35.570Z"
   },
   {
    "duration": 12,
    "start_time": "2022-10-23T19:56:41.210Z"
   },
   {
    "duration": 30,
    "start_time": "2022-10-23T19:56:45.643Z"
   },
   {
    "duration": 245,
    "start_time": "2022-10-23T19:56:48.051Z"
   },
   {
    "duration": 14,
    "start_time": "2022-10-23T19:56:58.149Z"
   },
   {
    "duration": 15,
    "start_time": "2022-10-23T19:57:06.970Z"
   },
   {
    "duration": 313,
    "start_time": "2022-10-23T19:57:16.682Z"
   },
   {
    "duration": 1220,
    "start_time": "2022-10-23T19:57:29.477Z"
   },
   {
    "duration": 19,
    "start_time": "2022-10-23T19:57:35.978Z"
   },
   {
    "duration": 385,
    "start_time": "2022-10-23T19:58:54.122Z"
   },
   {
    "duration": 128,
    "start_time": "2022-10-23T19:59:08.050Z"
   },
   {
    "duration": 167,
    "start_time": "2022-10-23T19:59:31.529Z"
   },
   {
    "duration": 148,
    "start_time": "2022-10-23T19:59:44.650Z"
   },
   {
    "duration": 11,
    "start_time": "2022-10-23T19:59:59.050Z"
   },
   {
    "duration": 209,
    "start_time": "2022-10-23T20:00:26.793Z"
   },
   {
    "duration": 23334,
    "start_time": "2022-10-23T20:00:42.338Z"
   },
   {
    "duration": 144,
    "start_time": "2022-10-23T20:01:06.909Z"
   },
   {
    "duration": 171,
    "start_time": "2022-10-23T20:01:18.099Z"
   },
   {
    "duration": 153,
    "start_time": "2022-10-23T20:01:22.611Z"
   },
   {
    "duration": 142,
    "start_time": "2022-10-23T20:01:27.474Z"
   },
   {
    "duration": 106,
    "start_time": "2022-10-23T20:01:47.762Z"
   },
   {
    "duration": 96,
    "start_time": "2022-10-23T20:01:59.450Z"
   },
   {
    "duration": 163,
    "start_time": "2022-10-23T20:02:18.042Z"
   },
   {
    "duration": 99,
    "start_time": "2022-10-23T20:02:24.210Z"
   },
   {
    "duration": 12,
    "start_time": "2022-10-23T20:02:37.733Z"
   },
   {
    "duration": 14,
    "start_time": "2022-10-23T20:02:41.238Z"
   },
   {
    "duration": 102,
    "start_time": "2022-10-23T20:02:48.516Z"
   },
   {
    "duration": 119,
    "start_time": "2022-10-23T20:03:03.990Z"
   },
   {
    "duration": 104,
    "start_time": "2022-10-23T20:03:18.663Z"
   },
   {
    "duration": 101,
    "start_time": "2022-10-23T20:03:33.062Z"
   },
   {
    "duration": 102,
    "start_time": "2022-10-23T20:03:41.910Z"
   },
   {
    "duration": 150,
    "start_time": "2022-10-23T20:04:19.866Z"
   },
   {
    "duration": 11,
    "start_time": "2022-10-23T20:11:07.338Z"
   },
   {
    "duration": 70,
    "start_time": "2022-10-23T20:11:27.265Z"
   },
   {
    "duration": 68,
    "start_time": "2022-10-23T20:11:34.842Z"
   },
   {
    "duration": 6,
    "start_time": "2022-10-23T20:11:38.587Z"
   },
   {
    "duration": 12,
    "start_time": "2022-10-23T20:14:06.647Z"
   },
   {
    "duration": 106440,
    "start_time": "2022-10-23T20:14:07.428Z"
   },
   {
    "duration": 15,
    "start_time": "2022-10-23T20:15:53.870Z"
   },
   {
    "duration": 12,
    "start_time": "2022-10-23T20:17:01.818Z"
   },
   {
    "duration": 109678,
    "start_time": "2022-10-23T20:17:04.820Z"
   },
   {
    "duration": 1169,
    "start_time": "2022-10-23T20:19:07.730Z"
   },
   {
    "duration": 7,
    "start_time": "2022-10-23T20:19:08.902Z"
   },
   {
    "duration": 19,
    "start_time": "2022-10-23T20:19:09.158Z"
   },
   {
    "duration": 6,
    "start_time": "2022-10-23T20:19:12.282Z"
   },
   {
    "duration": 13,
    "start_time": "2022-10-23T20:21:47.990Z"
   },
   {
    "duration": 19,
    "start_time": "2022-10-23T20:21:54.357Z"
   },
   {
    "duration": 13,
    "start_time": "2022-10-23T20:22:05.102Z"
   },
   {
    "duration": 103,
    "start_time": "2022-10-23T20:23:49.146Z"
   },
   {
    "duration": 106,
    "start_time": "2022-10-23T20:23:56.019Z"
   },
   {
    "duration": 99,
    "start_time": "2022-10-23T20:24:09.270Z"
   },
   {
    "duration": 109,
    "start_time": "2022-10-23T20:24:26.666Z"
   },
   {
    "duration": 116,
    "start_time": "2022-10-23T20:24:44.890Z"
   },
   {
    "duration": 133,
    "start_time": "2022-10-23T20:25:17.982Z"
   },
   {
    "duration": 111,
    "start_time": "2022-10-23T20:26:03.630Z"
   },
   {
    "duration": 147,
    "start_time": "2022-10-23T20:26:16.829Z"
   },
   {
    "duration": 136,
    "start_time": "2022-10-23T20:26:36.789Z"
   },
   {
    "duration": 8,
    "start_time": "2022-10-23T20:40:11.169Z"
   },
   {
    "duration": 107521,
    "start_time": "2022-10-23T20:40:12.709Z"
   },
   {
    "duration": 1270,
    "start_time": "2022-10-23T20:42:00.232Z"
   },
   {
    "duration": 93,
    "start_time": "2022-10-23T20:42:01.504Z"
   },
   {
    "duration": 49,
    "start_time": "2022-10-23T20:42:01.599Z"
   },
   {
    "duration": 11,
    "start_time": "2022-10-23T20:42:01.650Z"
   },
   {
    "duration": 8,
    "start_time": "2022-10-23T20:42:01.663Z"
   },
   {
    "duration": 16,
    "start_time": "2022-10-23T20:42:01.672Z"
   },
   {
    "duration": 4,
    "start_time": "2022-10-23T20:44:57.169Z"
   },
   {
    "duration": 1827,
    "start_time": "2022-10-23T20:45:55.649Z"
   },
   {
    "duration": 124,
    "start_time": "2022-10-23T20:50:55.281Z"
   },
   {
    "duration": 119,
    "start_time": "2022-10-23T20:51:51.209Z"
   },
   {
    "duration": 128,
    "start_time": "2022-10-23T20:51:59.268Z"
   },
   {
    "duration": 0,
    "start_time": "2022-10-23T20:53:25.839Z"
   },
   {
    "duration": 4,
    "start_time": "2022-10-23T20:53:31.329Z"
   },
   {
    "duration": 1308,
    "start_time": "2022-10-23T20:53:42.354Z"
   },
   {
    "duration": 31,
    "start_time": "2022-10-23T20:53:44.608Z"
   },
   {
    "duration": 12,
    "start_time": "2022-10-23T20:53:45.060Z"
   },
   {
    "duration": 8,
    "start_time": "2022-10-23T20:53:45.788Z"
   },
   {
    "duration": 45,
    "start_time": "2022-10-23T20:53:46.481Z"
   },
   {
    "duration": 10,
    "start_time": "2022-10-23T20:53:47.136Z"
   },
   {
    "duration": 3,
    "start_time": "2022-10-23T20:53:47.901Z"
   },
   {
    "duration": 2,
    "start_time": "2022-10-23T20:53:49.076Z"
   },
   {
    "duration": 233,
    "start_time": "2022-10-23T20:53:49.948Z"
   },
   {
    "duration": 124545,
    "start_time": "2022-10-23T20:54:16.456Z"
   },
   {
    "duration": 0,
    "start_time": "2022-10-23T20:56:21.003Z"
   },
   {
    "duration": 1157,
    "start_time": "2022-10-23T20:56:24.771Z"
   },
   {
    "duration": 123,
    "start_time": "2022-10-23T20:56:56.008Z"
   },
   {
    "duration": 2845,
    "start_time": "2022-10-23T20:57:06.696Z"
   },
   {
    "duration": 70,
    "start_time": "2022-10-23T20:58:27.382Z"
   },
   {
    "duration": 4838,
    "start_time": "2022-10-23T20:58:34.039Z"
   },
   {
    "duration": 69,
    "start_time": "2022-10-23T21:01:58.223Z"
   },
   {
    "duration": 3002,
    "start_time": "2022-10-23T21:02:06.965Z"
   },
   {
    "duration": 4,
    "start_time": "2022-10-23T21:03:06.908Z"
   },
   {
    "duration": 3467,
    "start_time": "2022-10-23T21:03:40.417Z"
   },
   {
    "duration": 175064,
    "start_time": "2022-10-23T21:05:03.547Z"
   },
   {
    "duration": 0,
    "start_time": "2022-10-23T21:07:58.612Z"
   },
   {
    "duration": 9,
    "start_time": "2022-10-23T21:08:04.767Z"
   },
   {
    "duration": 21,
    "start_time": "2022-10-23T21:08:23.947Z"
   },
   {
    "duration": 1367,
    "start_time": "2022-10-23T21:08:24.279Z"
   },
   {
    "duration": 5,
    "start_time": "2022-10-23T21:08:25.648Z"
   },
   {
    "duration": 8,
    "start_time": "2022-10-23T21:08:25.654Z"
   },
   {
    "duration": 4,
    "start_time": "2022-10-23T21:08:25.664Z"
   },
   {
    "duration": 8,
    "start_time": "2022-10-23T21:08:25.693Z"
   },
   {
    "duration": 2,
    "start_time": "2022-10-23T21:08:26.008Z"
   },
   {
    "duration": 32,
    "start_time": "2022-10-23T21:08:27.076Z"
   },
   {
    "duration": 9,
    "start_time": "2022-10-23T21:08:27.457Z"
   },
   {
    "duration": 3,
    "start_time": "2022-10-23T21:08:28.167Z"
   },
   {
    "duration": 353,
    "start_time": "2022-10-23T21:08:28.546Z"
   },
   {
    "duration": 7,
    "start_time": "2022-10-23T21:08:28.900Z"
   },
   {
    "duration": 3,
    "start_time": "2022-10-23T21:08:29.579Z"
   },
   {
    "duration": 10,
    "start_time": "2022-10-23T21:08:30.058Z"
   },
   {
    "duration": 104986,
    "start_time": "2022-10-23T21:08:30.433Z"
   },
   {
    "duration": 1178,
    "start_time": "2022-10-23T21:10:15.421Z"
   },
   {
    "duration": 4,
    "start_time": "2022-10-23T21:10:16.601Z"
   },
   {
    "duration": 32,
    "start_time": "2022-10-23T21:10:16.694Z"
   },
   {
    "duration": 16,
    "start_time": "2022-10-23T21:10:16.729Z"
   },
   {
    "duration": 8,
    "start_time": "2022-10-23T21:10:16.747Z"
   },
   {
    "duration": 11,
    "start_time": "2022-10-23T21:10:16.756Z"
   },
   {
    "duration": 20,
    "start_time": "2022-10-23T21:10:16.769Z"
   },
   {
    "duration": 0,
    "start_time": "2022-10-23T21:10:16.790Z"
   },
   {
    "duration": 19,
    "start_time": "2022-10-23T21:10:46.833Z"
   },
   {
    "duration": 18,
    "start_time": "2022-10-23T21:11:00.568Z"
   },
   {
    "duration": 6,
    "start_time": "2022-10-23T21:11:03.526Z"
   },
   {
    "duration": 17,
    "start_time": "2022-10-23T21:11:11.887Z"
   },
   {
    "duration": 13,
    "start_time": "2022-10-23T21:11:23.616Z"
   },
   {
    "duration": 3017,
    "start_time": "2022-10-23T21:26:30.064Z"
   },
   {
    "duration": 3190,
    "start_time": "2022-10-23T21:27:39.019Z"
   },
   {
    "duration": 9,
    "start_time": "2022-10-23T21:33:38.315Z"
   },
   {
    "duration": 2961,
    "start_time": "2022-10-23T21:33:39.591Z"
   },
   {
    "duration": 4,
    "start_time": "2022-10-23T21:34:12.011Z"
   },
   {
    "duration": 2890,
    "start_time": "2022-10-23T21:34:12.696Z"
   },
   {
    "duration": 40,
    "start_time": "2022-10-23T21:37:51.914Z"
   },
   {
    "duration": 14,
    "start_time": "2022-10-23T22:11:41.871Z"
   },
   {
    "duration": 1612,
    "start_time": "2022-10-24T20:42:59.087Z"
   },
   {
    "duration": 74,
    "start_time": "2022-10-24T20:43:02.217Z"
   },
   {
    "duration": 12,
    "start_time": "2022-10-24T20:43:03.200Z"
   },
   {
    "duration": 8,
    "start_time": "2022-10-24T20:43:04.249Z"
   },
   {
    "duration": 45,
    "start_time": "2022-10-24T20:43:04.664Z"
   },
   {
    "duration": 13,
    "start_time": "2022-10-24T20:43:06.376Z"
   },
   {
    "duration": 3,
    "start_time": "2022-10-24T20:43:07.448Z"
   },
   {
    "duration": 3295,
    "start_time": "2022-10-24T20:43:07.788Z"
   },
   {
    "duration": 20,
    "start_time": "2022-10-24T20:43:11.085Z"
   },
   {
    "duration": 1493,
    "start_time": "2022-10-24T20:43:11.106Z"
   },
   {
    "duration": 5,
    "start_time": "2022-10-24T20:43:12.601Z"
   },
   {
    "duration": 6,
    "start_time": "2022-10-24T20:43:13.096Z"
   },
   {
    "duration": 3,
    "start_time": "2022-10-24T20:43:18.608Z"
   },
   {
    "duration": 10,
    "start_time": "2022-10-24T20:43:23.110Z"
   },
   {
    "duration": 4,
    "start_time": "2022-10-24T20:43:47.238Z"
   },
   {
    "duration": 2,
    "start_time": "2022-10-24T20:44:19.367Z"
   },
   {
    "duration": 565,
    "start_time": "2022-10-24T20:45:46.328Z"
   },
   {
    "duration": 565,
    "start_time": "2022-10-24T20:46:11.248Z"
   },
   {
    "duration": 4,
    "start_time": "2022-10-24T20:46:14.512Z"
   },
   {
    "duration": 570,
    "start_time": "2022-10-24T20:46:16.097Z"
   },
   {
    "duration": 548,
    "start_time": "2022-10-24T20:47:15.140Z"
   },
   {
    "duration": 3,
    "start_time": "2022-10-24T20:49:03.756Z"
   },
   {
    "duration": 4,
    "start_time": "2022-10-24T20:49:10.199Z"
   },
   {
    "duration": 3,
    "start_time": "2022-10-24T20:49:10.602Z"
   },
   {
    "duration": 646,
    "start_time": "2022-10-24T20:49:11.180Z"
   },
   {
    "duration": 3,
    "start_time": "2022-10-24T20:49:23.560Z"
   },
   {
    "duration": 559,
    "start_time": "2022-10-24T20:49:29.528Z"
   },
   {
    "duration": 3,
    "start_time": "2022-10-24T21:02:04.047Z"
   },
   {
    "duration": 869,
    "start_time": "2022-10-24T21:08:47.987Z"
   },
   {
    "duration": 18,
    "start_time": "2022-10-24T21:08:57.142Z"
   },
   {
    "duration": 65,
    "start_time": "2022-10-24T21:40:53.987Z"
   }
  ],
  "kernelspec": {
   "display_name": "Python 3 (ipykernel)",
   "language": "python",
   "name": "python3"
  },
  "language_info": {
   "codemirror_mode": {
    "name": "ipython",
    "version": 3
   },
   "file_extension": ".py",
   "mimetype": "text/x-python",
   "name": "python",
   "nbconvert_exporter": "python",
   "pygments_lexer": "ipython3",
   "version": "3.9.7"
  },
  "toc": {
   "base_numbering": 1,
   "nav_menu": {},
   "number_sections": false,
   "sideBar": true,
   "skip_h1_title": true,
   "title_cell": "Table of Contents",
   "title_sidebar": "Contents",
   "toc_cell": false,
   "toc_position": {},
   "toc_section_display": true,
   "toc_window_display": true
  }
 },
 "nbformat": 4,
 "nbformat_minor": 2
}
