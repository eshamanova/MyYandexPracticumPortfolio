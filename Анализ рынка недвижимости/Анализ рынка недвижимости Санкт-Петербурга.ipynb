{
 "cells": [
  {
   "cell_type": "markdown",
   "metadata": {
    "toc": true
   },
   "source": [
    "<h1>Содержание<span class=\"tocSkip\"></span></h1>\n",
    "<div class=\"toc\"><ul class=\"toc-item\"><li><span><a href=\"#Изучение-данных-из-файла\" data-toc-modified-id=\"Изучение-данных-из-файла-1\"><span class=\"toc-item-num\">1&nbsp;&nbsp;</span>Изучение данных из файла</a></span><ul class=\"toc-item\"><li><span><a href=\"#Вывод\" data-toc-modified-id=\"Вывод-1.1\"><span class=\"toc-item-num\">1.1&nbsp;&nbsp;</span>Вывод</a></span></li></ul></li><li><span><a href=\"#Предобработка-данных\" data-toc-modified-id=\"Предобработка-данных-2\"><span class=\"toc-item-num\">2&nbsp;&nbsp;</span>Предобработка данных</a></span></li><li><span><a href=\"#Расчёты-и-добавление-результатов-в-таблицу\" data-toc-modified-id=\"Расчёты-и-добавление-результатов-в-таблицу-3\"><span class=\"toc-item-num\">3&nbsp;&nbsp;</span>Расчёты и добавление результатов в таблицу</a></span></li><li><span><a href=\"#Исследовательский-анализ-данных\" data-toc-modified-id=\"Исследовательский-анализ-данных-4\"><span class=\"toc-item-num\">4&nbsp;&nbsp;</span>Исследовательский анализ данных</a></span></li><li><span><a href=\"#Общий-вывод\" data-toc-modified-id=\"Общий-вывод-5\"><span class=\"toc-item-num\">5&nbsp;&nbsp;</span>Общий вывод</a></span>"
   ]
  },
  {
   "cell_type": "markdown",
   "metadata": {},
   "source": [
    "# Исследование объявлений о продаже квартир\n",
    "\n",
    "В вашем распоряжении данные сервиса Яндекс.Недвижимость — архив объявлений о продаже квартир в Санкт-Петербурге и соседних населённых пунктах за несколько лет. Нужно научиться определять рыночную стоимость объектов недвижимости. Ваша задача — установить параметры. Это позволит построить автоматизированную систему: она отследит аномалии и мошенническую деятельность. \n",
    "\n",
    "По каждой квартире на продажу доступны два вида данных. Первые вписаны пользователем, вторые получены автоматически на основе картографических данных. Например, расстояние до центра, аэропорта, ближайшего парка и водоёма. "
   ]
  },
  {
   "cell_type": "markdown",
   "metadata": {},
   "source": [
    "## Изучение данных из файла"
   ]
  },
  {
   "cell_type": "code",
   "execution_count": 1,
   "metadata": {},
   "outputs": [
    {
     "name": "stdout",
     "output_type": "stream",
     "text": [
      "<class 'pandas.core.frame.DataFrame'>\n",
      "RangeIndex: 23699 entries, 0 to 23698\n",
      "Data columns (total 22 columns):\n",
      "total_images            23699 non-null int64\n",
      "last_price              23699 non-null float64\n",
      "total_area              23699 non-null float64\n",
      "first_day_exposition    23699 non-null object\n",
      "rooms                   23699 non-null int64\n",
      "ceiling_height          14504 non-null float64\n",
      "floors_total            23613 non-null float64\n",
      "living_area             21796 non-null float64\n",
      "floor                   23699 non-null int64\n",
      "is_apartment            2775 non-null object\n",
      "studio                  23699 non-null bool\n",
      "open_plan               23699 non-null bool\n",
      "kitchen_area            21421 non-null float64\n",
      "balcony                 12180 non-null float64\n",
      "locality_name           23650 non-null object\n",
      "airports_nearest        18157 non-null float64\n",
      "cityCenters_nearest     18180 non-null float64\n",
      "parks_around3000        18181 non-null float64\n",
      "parks_nearest           8079 non-null float64\n",
      "ponds_around3000        18181 non-null float64\n",
      "ponds_nearest           9110 non-null float64\n",
      "days_exposition         20518 non-null float64\n",
      "dtypes: bool(2), float64(14), int64(3), object(3)\n",
      "memory usage: 3.7+ MB\n",
      "Количество дубликатов:  0\n"
     ]
    },
    {
     "data": {
      "text/html": [
       "<div>\n",
       "<style scoped>\n",
       "    .dataframe tbody tr th:only-of-type {\n",
       "        vertical-align: middle;\n",
       "    }\n",
       "\n",
       "    .dataframe tbody tr th {\n",
       "        vertical-align: top;\n",
       "    }\n",
       "\n",
       "    .dataframe thead th {\n",
       "        text-align: right;\n",
       "    }\n",
       "</style>\n",
       "<table border=\"1\" class=\"dataframe\">\n",
       "  <thead>\n",
       "    <tr style=\"text-align: right;\">\n",
       "      <th></th>\n",
       "      <th>total_images</th>\n",
       "      <th>last_price</th>\n",
       "      <th>total_area</th>\n",
       "      <th>first_day_exposition</th>\n",
       "      <th>rooms</th>\n",
       "      <th>ceiling_height</th>\n",
       "      <th>floors_total</th>\n",
       "      <th>living_area</th>\n",
       "      <th>floor</th>\n",
       "      <th>is_apartment</th>\n",
       "      <th>...</th>\n",
       "      <th>kitchen_area</th>\n",
       "      <th>balcony</th>\n",
       "      <th>locality_name</th>\n",
       "      <th>airports_nearest</th>\n",
       "      <th>cityCenters_nearest</th>\n",
       "      <th>parks_around3000</th>\n",
       "      <th>parks_nearest</th>\n",
       "      <th>ponds_around3000</th>\n",
       "      <th>ponds_nearest</th>\n",
       "      <th>days_exposition</th>\n",
       "    </tr>\n",
       "  </thead>\n",
       "  <tbody>\n",
       "    <tr>\n",
       "      <td>0</td>\n",
       "      <td>20</td>\n",
       "      <td>13000000.0</td>\n",
       "      <td>108.00</td>\n",
       "      <td>2019-03-07T00:00:00</td>\n",
       "      <td>3</td>\n",
       "      <td>2.70</td>\n",
       "      <td>16.0</td>\n",
       "      <td>51.00</td>\n",
       "      <td>8</td>\n",
       "      <td>NaN</td>\n",
       "      <td>...</td>\n",
       "      <td>25.00</td>\n",
       "      <td>NaN</td>\n",
       "      <td>Санкт-Петербург</td>\n",
       "      <td>18863.0</td>\n",
       "      <td>16028.0</td>\n",
       "      <td>1.0</td>\n",
       "      <td>482.0</td>\n",
       "      <td>2.0</td>\n",
       "      <td>755.0</td>\n",
       "      <td>NaN</td>\n",
       "    </tr>\n",
       "    <tr>\n",
       "      <td>1</td>\n",
       "      <td>7</td>\n",
       "      <td>3350000.0</td>\n",
       "      <td>40.40</td>\n",
       "      <td>2018-12-04T00:00:00</td>\n",
       "      <td>1</td>\n",
       "      <td>NaN</td>\n",
       "      <td>11.0</td>\n",
       "      <td>18.60</td>\n",
       "      <td>1</td>\n",
       "      <td>NaN</td>\n",
       "      <td>...</td>\n",
       "      <td>11.00</td>\n",
       "      <td>2.0</td>\n",
       "      <td>посёлок Шушары</td>\n",
       "      <td>12817.0</td>\n",
       "      <td>18603.0</td>\n",
       "      <td>0.0</td>\n",
       "      <td>NaN</td>\n",
       "      <td>0.0</td>\n",
       "      <td>NaN</td>\n",
       "      <td>81.0</td>\n",
       "    </tr>\n",
       "    <tr>\n",
       "      <td>2</td>\n",
       "      <td>10</td>\n",
       "      <td>5196000.0</td>\n",
       "      <td>56.00</td>\n",
       "      <td>2015-08-20T00:00:00</td>\n",
       "      <td>2</td>\n",
       "      <td>NaN</td>\n",
       "      <td>5.0</td>\n",
       "      <td>34.30</td>\n",
       "      <td>4</td>\n",
       "      <td>NaN</td>\n",
       "      <td>...</td>\n",
       "      <td>8.30</td>\n",
       "      <td>0.0</td>\n",
       "      <td>Санкт-Петербург</td>\n",
       "      <td>21741.0</td>\n",
       "      <td>13933.0</td>\n",
       "      <td>1.0</td>\n",
       "      <td>90.0</td>\n",
       "      <td>2.0</td>\n",
       "      <td>574.0</td>\n",
       "      <td>558.0</td>\n",
       "    </tr>\n",
       "    <tr>\n",
       "      <td>3</td>\n",
       "      <td>0</td>\n",
       "      <td>64900000.0</td>\n",
       "      <td>159.00</td>\n",
       "      <td>2015-07-24T00:00:00</td>\n",
       "      <td>3</td>\n",
       "      <td>NaN</td>\n",
       "      <td>14.0</td>\n",
       "      <td>NaN</td>\n",
       "      <td>9</td>\n",
       "      <td>NaN</td>\n",
       "      <td>...</td>\n",
       "      <td>NaN</td>\n",
       "      <td>0.0</td>\n",
       "      <td>Санкт-Петербург</td>\n",
       "      <td>28098.0</td>\n",
       "      <td>6800.0</td>\n",
       "      <td>2.0</td>\n",
       "      <td>84.0</td>\n",
       "      <td>3.0</td>\n",
       "      <td>234.0</td>\n",
       "      <td>424.0</td>\n",
       "    </tr>\n",
       "    <tr>\n",
       "      <td>4</td>\n",
       "      <td>2</td>\n",
       "      <td>10000000.0</td>\n",
       "      <td>100.00</td>\n",
       "      <td>2018-06-19T00:00:00</td>\n",
       "      <td>2</td>\n",
       "      <td>3.03</td>\n",
       "      <td>14.0</td>\n",
       "      <td>32.00</td>\n",
       "      <td>13</td>\n",
       "      <td>NaN</td>\n",
       "      <td>...</td>\n",
       "      <td>41.00</td>\n",
       "      <td>NaN</td>\n",
       "      <td>Санкт-Петербург</td>\n",
       "      <td>31856.0</td>\n",
       "      <td>8098.0</td>\n",
       "      <td>2.0</td>\n",
       "      <td>112.0</td>\n",
       "      <td>1.0</td>\n",
       "      <td>48.0</td>\n",
       "      <td>121.0</td>\n",
       "    </tr>\n",
       "    <tr>\n",
       "      <td>5</td>\n",
       "      <td>10</td>\n",
       "      <td>2890000.0</td>\n",
       "      <td>30.40</td>\n",
       "      <td>2018-09-10T00:00:00</td>\n",
       "      <td>1</td>\n",
       "      <td>NaN</td>\n",
       "      <td>12.0</td>\n",
       "      <td>14.40</td>\n",
       "      <td>5</td>\n",
       "      <td>NaN</td>\n",
       "      <td>...</td>\n",
       "      <td>9.10</td>\n",
       "      <td>NaN</td>\n",
       "      <td>городской посёлок Янино-1</td>\n",
       "      <td>NaN</td>\n",
       "      <td>NaN</td>\n",
       "      <td>NaN</td>\n",
       "      <td>NaN</td>\n",
       "      <td>NaN</td>\n",
       "      <td>NaN</td>\n",
       "      <td>55.0</td>\n",
       "    </tr>\n",
       "    <tr>\n",
       "      <td>6</td>\n",
       "      <td>6</td>\n",
       "      <td>3700000.0</td>\n",
       "      <td>37.30</td>\n",
       "      <td>2017-11-02T00:00:00</td>\n",
       "      <td>1</td>\n",
       "      <td>NaN</td>\n",
       "      <td>26.0</td>\n",
       "      <td>10.60</td>\n",
       "      <td>6</td>\n",
       "      <td>NaN</td>\n",
       "      <td>...</td>\n",
       "      <td>14.40</td>\n",
       "      <td>1.0</td>\n",
       "      <td>посёлок Парголово</td>\n",
       "      <td>52996.0</td>\n",
       "      <td>19143.0</td>\n",
       "      <td>0.0</td>\n",
       "      <td>NaN</td>\n",
       "      <td>0.0</td>\n",
       "      <td>NaN</td>\n",
       "      <td>155.0</td>\n",
       "    </tr>\n",
       "    <tr>\n",
       "      <td>7</td>\n",
       "      <td>5</td>\n",
       "      <td>7915000.0</td>\n",
       "      <td>71.60</td>\n",
       "      <td>2019-04-18T00:00:00</td>\n",
       "      <td>2</td>\n",
       "      <td>NaN</td>\n",
       "      <td>24.0</td>\n",
       "      <td>NaN</td>\n",
       "      <td>22</td>\n",
       "      <td>NaN</td>\n",
       "      <td>...</td>\n",
       "      <td>18.90</td>\n",
       "      <td>2.0</td>\n",
       "      <td>Санкт-Петербург</td>\n",
       "      <td>23982.0</td>\n",
       "      <td>11634.0</td>\n",
       "      <td>0.0</td>\n",
       "      <td>NaN</td>\n",
       "      <td>0.0</td>\n",
       "      <td>NaN</td>\n",
       "      <td>NaN</td>\n",
       "    </tr>\n",
       "    <tr>\n",
       "      <td>8</td>\n",
       "      <td>20</td>\n",
       "      <td>2900000.0</td>\n",
       "      <td>33.16</td>\n",
       "      <td>2018-05-23T00:00:00</td>\n",
       "      <td>1</td>\n",
       "      <td>NaN</td>\n",
       "      <td>27.0</td>\n",
       "      <td>15.43</td>\n",
       "      <td>26</td>\n",
       "      <td>NaN</td>\n",
       "      <td>...</td>\n",
       "      <td>8.81</td>\n",
       "      <td>NaN</td>\n",
       "      <td>посёлок Мурино</td>\n",
       "      <td>NaN</td>\n",
       "      <td>NaN</td>\n",
       "      <td>NaN</td>\n",
       "      <td>NaN</td>\n",
       "      <td>NaN</td>\n",
       "      <td>NaN</td>\n",
       "      <td>189.0</td>\n",
       "    </tr>\n",
       "    <tr>\n",
       "      <td>9</td>\n",
       "      <td>18</td>\n",
       "      <td>5400000.0</td>\n",
       "      <td>61.00</td>\n",
       "      <td>2017-02-26T00:00:00</td>\n",
       "      <td>3</td>\n",
       "      <td>2.50</td>\n",
       "      <td>9.0</td>\n",
       "      <td>43.60</td>\n",
       "      <td>7</td>\n",
       "      <td>NaN</td>\n",
       "      <td>...</td>\n",
       "      <td>6.50</td>\n",
       "      <td>2.0</td>\n",
       "      <td>Санкт-Петербург</td>\n",
       "      <td>50898.0</td>\n",
       "      <td>15008.0</td>\n",
       "      <td>0.0</td>\n",
       "      <td>NaN</td>\n",
       "      <td>0.0</td>\n",
       "      <td>NaN</td>\n",
       "      <td>289.0</td>\n",
       "    </tr>\n",
       "    <tr>\n",
       "      <td>10</td>\n",
       "      <td>5</td>\n",
       "      <td>5050000.0</td>\n",
       "      <td>39.60</td>\n",
       "      <td>2017-11-16T00:00:00</td>\n",
       "      <td>1</td>\n",
       "      <td>2.67</td>\n",
       "      <td>12.0</td>\n",
       "      <td>20.30</td>\n",
       "      <td>3</td>\n",
       "      <td>NaN</td>\n",
       "      <td>...</td>\n",
       "      <td>8.50</td>\n",
       "      <td>NaN</td>\n",
       "      <td>Санкт-Петербург</td>\n",
       "      <td>38357.0</td>\n",
       "      <td>13878.0</td>\n",
       "      <td>1.0</td>\n",
       "      <td>310.0</td>\n",
       "      <td>2.0</td>\n",
       "      <td>553.0</td>\n",
       "      <td>137.0</td>\n",
       "    </tr>\n",
       "    <tr>\n",
       "      <td>11</td>\n",
       "      <td>9</td>\n",
       "      <td>3300000.0</td>\n",
       "      <td>44.00</td>\n",
       "      <td>2018-08-27T00:00:00</td>\n",
       "      <td>2</td>\n",
       "      <td>NaN</td>\n",
       "      <td>5.0</td>\n",
       "      <td>31.00</td>\n",
       "      <td>4</td>\n",
       "      <td>False</td>\n",
       "      <td>...</td>\n",
       "      <td>6.00</td>\n",
       "      <td>1.0</td>\n",
       "      <td>Ломоносов</td>\n",
       "      <td>48252.0</td>\n",
       "      <td>51677.0</td>\n",
       "      <td>0.0</td>\n",
       "      <td>NaN</td>\n",
       "      <td>0.0</td>\n",
       "      <td>NaN</td>\n",
       "      <td>7.0</td>\n",
       "    </tr>\n",
       "    <tr>\n",
       "      <td>12</td>\n",
       "      <td>10</td>\n",
       "      <td>3890000.0</td>\n",
       "      <td>54.00</td>\n",
       "      <td>2016-06-30T00:00:00</td>\n",
       "      <td>2</td>\n",
       "      <td>NaN</td>\n",
       "      <td>5.0</td>\n",
       "      <td>30.00</td>\n",
       "      <td>5</td>\n",
       "      <td>NaN</td>\n",
       "      <td>...</td>\n",
       "      <td>9.00</td>\n",
       "      <td>0.0</td>\n",
       "      <td>Сертолово</td>\n",
       "      <td>NaN</td>\n",
       "      <td>NaN</td>\n",
       "      <td>NaN</td>\n",
       "      <td>NaN</td>\n",
       "      <td>NaN</td>\n",
       "      <td>NaN</td>\n",
       "      <td>90.0</td>\n",
       "    </tr>\n",
       "    <tr>\n",
       "      <td>13</td>\n",
       "      <td>20</td>\n",
       "      <td>3550000.0</td>\n",
       "      <td>42.80</td>\n",
       "      <td>2017-07-01T00:00:00</td>\n",
       "      <td>2</td>\n",
       "      <td>2.56</td>\n",
       "      <td>5.0</td>\n",
       "      <td>27.00</td>\n",
       "      <td>5</td>\n",
       "      <td>NaN</td>\n",
       "      <td>...</td>\n",
       "      <td>5.20</td>\n",
       "      <td>1.0</td>\n",
       "      <td>Петергоф</td>\n",
       "      <td>37868.0</td>\n",
       "      <td>33058.0</td>\n",
       "      <td>1.0</td>\n",
       "      <td>294.0</td>\n",
       "      <td>3.0</td>\n",
       "      <td>298.0</td>\n",
       "      <td>366.0</td>\n",
       "    </tr>\n",
       "    <tr>\n",
       "      <td>14</td>\n",
       "      <td>1</td>\n",
       "      <td>4400000.0</td>\n",
       "      <td>36.00</td>\n",
       "      <td>2016-06-23T00:00:00</td>\n",
       "      <td>1</td>\n",
       "      <td>NaN</td>\n",
       "      <td>6.0</td>\n",
       "      <td>17.00</td>\n",
       "      <td>1</td>\n",
       "      <td>NaN</td>\n",
       "      <td>...</td>\n",
       "      <td>8.00</td>\n",
       "      <td>0.0</td>\n",
       "      <td>Пушкин</td>\n",
       "      <td>20782.0</td>\n",
       "      <td>30759.0</td>\n",
       "      <td>0.0</td>\n",
       "      <td>NaN</td>\n",
       "      <td>1.0</td>\n",
       "      <td>96.0</td>\n",
       "      <td>203.0</td>\n",
       "    </tr>\n",
       "  </tbody>\n",
       "</table>\n",
       "<p>15 rows × 22 columns</p>\n",
       "</div>"
      ],
      "text/plain": [
       "    total_images  last_price  total_area first_day_exposition  rooms  \\\n",
       "0             20  13000000.0      108.00  2019-03-07T00:00:00      3   \n",
       "1              7   3350000.0       40.40  2018-12-04T00:00:00      1   \n",
       "2             10   5196000.0       56.00  2015-08-20T00:00:00      2   \n",
       "3              0  64900000.0      159.00  2015-07-24T00:00:00      3   \n",
       "4              2  10000000.0      100.00  2018-06-19T00:00:00      2   \n",
       "5             10   2890000.0       30.40  2018-09-10T00:00:00      1   \n",
       "6              6   3700000.0       37.30  2017-11-02T00:00:00      1   \n",
       "7              5   7915000.0       71.60  2019-04-18T00:00:00      2   \n",
       "8             20   2900000.0       33.16  2018-05-23T00:00:00      1   \n",
       "9             18   5400000.0       61.00  2017-02-26T00:00:00      3   \n",
       "10             5   5050000.0       39.60  2017-11-16T00:00:00      1   \n",
       "11             9   3300000.0       44.00  2018-08-27T00:00:00      2   \n",
       "12            10   3890000.0       54.00  2016-06-30T00:00:00      2   \n",
       "13            20   3550000.0       42.80  2017-07-01T00:00:00      2   \n",
       "14             1   4400000.0       36.00  2016-06-23T00:00:00      1   \n",
       "\n",
       "    ceiling_height  floors_total  living_area  floor is_apartment  ...  \\\n",
       "0             2.70          16.0        51.00      8          NaN  ...   \n",
       "1              NaN          11.0        18.60      1          NaN  ...   \n",
       "2              NaN           5.0        34.30      4          NaN  ...   \n",
       "3              NaN          14.0          NaN      9          NaN  ...   \n",
       "4             3.03          14.0        32.00     13          NaN  ...   \n",
       "5              NaN          12.0        14.40      5          NaN  ...   \n",
       "6              NaN          26.0        10.60      6          NaN  ...   \n",
       "7              NaN          24.0          NaN     22          NaN  ...   \n",
       "8              NaN          27.0        15.43     26          NaN  ...   \n",
       "9             2.50           9.0        43.60      7          NaN  ...   \n",
       "10            2.67          12.0        20.30      3          NaN  ...   \n",
       "11             NaN           5.0        31.00      4        False  ...   \n",
       "12             NaN           5.0        30.00      5          NaN  ...   \n",
       "13            2.56           5.0        27.00      5          NaN  ...   \n",
       "14             NaN           6.0        17.00      1          NaN  ...   \n",
       "\n",
       "    kitchen_area  balcony              locality_name  airports_nearest  \\\n",
       "0          25.00      NaN            Санкт-Петербург           18863.0   \n",
       "1          11.00      2.0             посёлок Шушары           12817.0   \n",
       "2           8.30      0.0            Санкт-Петербург           21741.0   \n",
       "3            NaN      0.0            Санкт-Петербург           28098.0   \n",
       "4          41.00      NaN            Санкт-Петербург           31856.0   \n",
       "5           9.10      NaN  городской посёлок Янино-1               NaN   \n",
       "6          14.40      1.0          посёлок Парголово           52996.0   \n",
       "7          18.90      2.0            Санкт-Петербург           23982.0   \n",
       "8           8.81      NaN             посёлок Мурино               NaN   \n",
       "9           6.50      2.0            Санкт-Петербург           50898.0   \n",
       "10          8.50      NaN            Санкт-Петербург           38357.0   \n",
       "11          6.00      1.0                  Ломоносов           48252.0   \n",
       "12          9.00      0.0                  Сертолово               NaN   \n",
       "13          5.20      1.0                   Петергоф           37868.0   \n",
       "14          8.00      0.0                     Пушкин           20782.0   \n",
       "\n",
       "   cityCenters_nearest  parks_around3000  parks_nearest  ponds_around3000  \\\n",
       "0              16028.0               1.0          482.0               2.0   \n",
       "1              18603.0               0.0            NaN               0.0   \n",
       "2              13933.0               1.0           90.0               2.0   \n",
       "3               6800.0               2.0           84.0               3.0   \n",
       "4               8098.0               2.0          112.0               1.0   \n",
       "5                  NaN               NaN            NaN               NaN   \n",
       "6              19143.0               0.0            NaN               0.0   \n",
       "7              11634.0               0.0            NaN               0.0   \n",
       "8                  NaN               NaN            NaN               NaN   \n",
       "9              15008.0               0.0            NaN               0.0   \n",
       "10             13878.0               1.0          310.0               2.0   \n",
       "11             51677.0               0.0            NaN               0.0   \n",
       "12                 NaN               NaN            NaN               NaN   \n",
       "13             33058.0               1.0          294.0               3.0   \n",
       "14             30759.0               0.0            NaN               1.0   \n",
       "\n",
       "    ponds_nearest  days_exposition  \n",
       "0           755.0              NaN  \n",
       "1             NaN             81.0  \n",
       "2           574.0            558.0  \n",
       "3           234.0            424.0  \n",
       "4            48.0            121.0  \n",
       "5             NaN             55.0  \n",
       "6             NaN            155.0  \n",
       "7             NaN              NaN  \n",
       "8             NaN            189.0  \n",
       "9             NaN            289.0  \n",
       "10          553.0            137.0  \n",
       "11            NaN              7.0  \n",
       "12            NaN             90.0  \n",
       "13          298.0            366.0  \n",
       "14           96.0            203.0  \n",
       "\n",
       "[15 rows x 22 columns]"
      ]
     },
     "execution_count": 1,
     "metadata": {},
     "output_type": "execute_result"
    }
   ],
   "source": [
    "import pandas as pd\n",
    "import matplotlib.pyplot as plt\n",
    "data = pd.read_csv('/datasets/real_estate_data.csv', sep = '\\t')\n",
    "data.info()\n",
    "print('Количество дубликатов: ', data.duplicated().sum())\n",
    "data.head(15)\n"
   ]
  },
  {
   "cell_type": "markdown",
   "metadata": {},
   "source": [
    "### Вывод"
   ]
  },
  {
   "cell_type": "markdown",
   "metadata": {},
   "source": [
    "При открытии файла пропущенные значения обнаружены в следующих столбцах: ceiling_height, floors_total, living_area, is_apartment, kitchen_area, balcony, locality_name, airports_nearest, cityCenters_nearest, parks_around3000, parks_nearest, ponds_around3000, ponds_nearest, days_exposition. \n",
    "\n",
    "Дублирующиеся строки не обнаружены."
   ]
  },
  {
   "cell_type": "markdown",
   "metadata": {},
   "source": [
    "## Предобработка данных"
   ]
  },
  {
   "cell_type": "code",
   "execution_count": 2,
   "metadata": {
    "scrolled": false
   },
   "outputs": [
    {
     "name": "stdout",
     "output_type": "stream",
     "text": [
      "10    1798\n",
      "9     1725\n",
      "20    1694\n",
      "8     1585\n",
      "7     1521\n",
      "6     1482\n",
      "11    1362\n",
      "5     1301\n",
      "12    1225\n",
      "0     1059\n",
      "13    1015\n",
      "14     986\n",
      "4      986\n",
      "15     948\n",
      "1      872\n",
      "3      769\n",
      "16     761\n",
      "17     650\n",
      "18     642\n",
      "2      640\n",
      "19     603\n",
      "23      16\n",
      "21      12\n",
      "24       8\n",
      "22       8\n",
      "26       5\n",
      "28       4\n",
      "32       4\n",
      "50       3\n",
      "29       3\n",
      "31       2\n",
      "35       2\n",
      "30       2\n",
      "27       2\n",
      "37       1\n",
      "39       1\n",
      "25       1\n",
      "42       1\n",
      "Name: total_images, dtype: int64\n",
      "4500000.0     342\n",
      "3500000.0     291\n",
      "4000000.0     260\n",
      "4300000.0     260\n",
      "4200000.0     259\n",
      "             ... \n",
      "4412094.0       1\n",
      "6416000.0       1\n",
      "4581000.0       1\n",
      "34551000.0      1\n",
      "6029433.0       1\n",
      "Name: last_price, Length: 2978, dtype: int64\n",
      "45.00     419\n",
      "42.00     383\n",
      "60.00     347\n",
      "31.00     346\n",
      "44.00     345\n",
      "         ... \n",
      "45.85       1\n",
      "44.18       1\n",
      "59.83       1\n",
      "127.20      1\n",
      "23.55       1\n",
      "Name: total_area, Length: 2182, dtype: int64\n",
      "2018-02-01T00:00:00    368\n",
      "2017-11-10T00:00:00    240\n",
      "2017-10-13T00:00:00    124\n",
      "2017-09-27T00:00:00    111\n",
      "2018-03-26T00:00:00     97\n",
      "                      ... \n",
      "2015-02-24T00:00:00      1\n",
      "2016-01-06T00:00:00      1\n",
      "2015-07-28T00:00:00      1\n",
      "2014-12-23T00:00:00      1\n",
      "2015-04-19T00:00:00      1\n",
      "Name: first_day_exposition, Length: 1491, dtype: int64\n",
      "1     8047\n",
      "2     7940\n",
      "3     5814\n",
      "4     1180\n",
      "5      326\n",
      "0      197\n",
      "6      105\n",
      "7       59\n",
      "8       12\n",
      "9        8\n",
      "10       3\n",
      "14       2\n",
      "11       2\n",
      "19       1\n",
      "12       1\n",
      "16       1\n",
      "15       1\n",
      "Name: rooms, dtype: int64\n",
      "NaN      9195\n",
      "2.50     3515\n",
      "2.60     1646\n",
      "2.70     1574\n",
      "3.00     1112\n",
      "         ... \n",
      "26.00       1\n",
      "3.88        1\n",
      "3.29        1\n",
      "3.83        1\n",
      "3.58        1\n",
      "Name: ceiling_height, Length: 184, dtype: int64\n",
      "5.0     5788\n",
      "9.0     3761\n",
      "16.0    1376\n",
      "12.0    1362\n",
      "4.0     1200\n",
      "10.0    1174\n",
      "25.0    1075\n",
      "6.0      914\n",
      "17.0     833\n",
      "3.0      668\n",
      "7.0      592\n",
      "14.0     553\n",
      "18.0     505\n",
      "24.0     469\n",
      "8.0      390\n",
      "2.0      383\n",
      "15.0     365\n",
      "23.0     352\n",
      "19.0     339\n",
      "22.0     286\n",
      "20.0     271\n",
      "13.0     229\n",
      "11.0     203\n",
      "27.0     164\n",
      "21.0     158\n",
      "26.0     124\n",
      "NaN       86\n",
      "1.0       25\n",
      "35.0      24\n",
      "28.0      21\n",
      "36.0       3\n",
      "29.0       1\n",
      "60.0       1\n",
      "33.0       1\n",
      "52.0       1\n",
      "37.0       1\n",
      "34.0       1\n",
      "Name: floors_total, dtype: int64\n",
      "NaN      1903\n",
      "18.00     882\n",
      "17.00     675\n",
      "30.00     598\n",
      "16.00     486\n",
      "         ... \n",
      "10.55       1\n",
      "24.83       1\n",
      "20.03       1\n",
      "20.97       1\n",
      "15.55       1\n",
      "Name: living_area, Length: 1783, dtype: int64\n",
      "2     3368\n",
      "3     3073\n",
      "1     2917\n",
      "4     2804\n",
      "5     2621\n",
      "6     1305\n",
      "7     1218\n",
      "8     1083\n",
      "9     1051\n",
      "10     687\n",
      "12     526\n",
      "11     523\n",
      "13     379\n",
      "15     343\n",
      "14     337\n",
      "16     315\n",
      "17     227\n",
      "18     178\n",
      "19     147\n",
      "21     125\n",
      "22     113\n",
      "20     110\n",
      "23     100\n",
      "24      63\n",
      "25      46\n",
      "26      24\n",
      "27      10\n",
      "28       1\n",
      "33       1\n",
      "29       1\n",
      "30       1\n",
      "32       1\n",
      "31       1\n",
      "Name: floor, dtype: int64\n",
      "NaN      20924\n",
      "False     2725\n",
      "True        50\n",
      "Name: is_apartment, dtype: int64\n",
      "False    23550\n",
      "True       149\n",
      "Name: studio, dtype: int64\n",
      "False    23632\n",
      "True        67\n",
      "Name: open_plan, dtype: int64\n",
      "NaN      2278\n",
      "6.00     1300\n",
      "10.00    1262\n",
      "8.00     1110\n",
      "9.00     1101\n",
      "         ... \n",
      "28.20       1\n",
      "37.90       1\n",
      "9.51        1\n",
      "5.14        1\n",
      "35.40       1\n",
      "Name: kitchen_area, Length: 972, dtype: int64\n",
      "NaN    11519\n",
      "1.0     4195\n",
      "0.0     3758\n",
      "2.0     3659\n",
      "5.0      304\n",
      "4.0      183\n",
      "3.0       81\n",
      "Name: balcony, dtype: int64\n",
      "Санкт-Петербург             15721\n",
      "посёлок Мурино                522\n",
      "посёлок Шушары                440\n",
      "Всеволожск                    398\n",
      "Пушкин                        369\n",
      "                            ...  \n",
      "поселок Коммунары               1\n",
      "посёлок Белоостров              1\n",
      "деревня Чудской Бор             1\n",
      "деревня Старое Хинколово        1\n",
      "деревня Иссад                   1\n",
      "Name: locality_name, Length: 365, dtype: int64\n",
      "NaN        5542\n",
      "37434.0      61\n",
      "21928.0      32\n",
      "39946.0      30\n",
      "44870.0      30\n",
      "           ... \n",
      "25122.0       1\n",
      "26768.0       1\n",
      "22248.0       1\n",
      "20475.0       1\n",
      "14579.0       1\n",
      "Name: airports_nearest, Length: 8276, dtype: int64\n",
      "NaN        5519\n",
      "8460.0       61\n",
      "20802.0      32\n",
      "10720.0      30\n",
      "8434.0       27\n",
      "           ... \n",
      "4340.0        1\n",
      "2468.0        1\n",
      "32182.0       1\n",
      "7887.0        1\n",
      "4287.0        1\n",
      "Name: cityCenters_nearest, Length: 7643, dtype: int64\n",
      "0.0    10106\n",
      "1.0     5681\n",
      "NaN     5518\n",
      "2.0     1747\n",
      "3.0      647\n",
      "Name: parks_around3000, dtype: int64\n",
      "NaN       15620\n",
      "441.0        67\n",
      "392.0        41\n",
      "173.0        41\n",
      "456.0        40\n",
      "          ...  \n",
      "1809.0        1\n",
      "2209.0        1\n",
      "81.0          1\n",
      "861.0         1\n",
      "775.0         1\n",
      "Name: parks_nearest, Length: 996, dtype: int64\n",
      "0.0    9071\n",
      "1.0    5717\n",
      "NaN    5518\n",
      "2.0    1892\n",
      "3.0    1501\n",
      "Name: ponds_around3000, dtype: int64\n",
      "NaN       14589\n",
      "427.0        70\n",
      "454.0        41\n",
      "153.0        40\n",
      "433.0        39\n",
      "          ...  \n",
      "600.0         1\n",
      "258.0         1\n",
      "37.0          1\n",
      "1041.0        1\n",
      "867.0         1\n",
      "Name: ponds_nearest, Length: 1097, dtype: int64\n",
      "NaN       3181\n",
      "45.0       880\n",
      "60.0       538\n",
      "7.0        234\n",
      "30.0       208\n",
      "          ... \n",
      "1355.0       1\n",
      "873.0        1\n",
      "730.0        1\n",
      "976.0        1\n",
      "773.0        1\n",
      "Name: days_exposition, Length: 1142, dtype: int64\n"
     ]
    },
    {
     "data": {
      "text/html": [
       "<div>\n",
       "<style scoped>\n",
       "    .dataframe tbody tr th:only-of-type {\n",
       "        vertical-align: middle;\n",
       "    }\n",
       "\n",
       "    .dataframe tbody tr th {\n",
       "        vertical-align: top;\n",
       "    }\n",
       "\n",
       "    .dataframe thead th {\n",
       "        text-align: right;\n",
       "    }\n",
       "</style>\n",
       "<table border=\"1\" class=\"dataframe\">\n",
       "  <thead>\n",
       "    <tr style=\"text-align: right;\">\n",
       "      <th></th>\n",
       "      <th>total_images</th>\n",
       "      <th>last_price</th>\n",
       "      <th>total_area</th>\n",
       "      <th>first_day_exposition</th>\n",
       "      <th>rooms</th>\n",
       "      <th>ceiling_height</th>\n",
       "      <th>floors_total</th>\n",
       "      <th>living_area</th>\n",
       "      <th>floor</th>\n",
       "      <th>is_apartment</th>\n",
       "      <th>...</th>\n",
       "      <th>kitchen_area</th>\n",
       "      <th>balcony</th>\n",
       "      <th>locality_name</th>\n",
       "      <th>airports_nearest</th>\n",
       "      <th>cityCenters_nearest</th>\n",
       "      <th>parks_around3000</th>\n",
       "      <th>parks_nearest</th>\n",
       "      <th>ponds_around3000</th>\n",
       "      <th>ponds_nearest</th>\n",
       "      <th>days_exposition</th>\n",
       "    </tr>\n",
       "  </thead>\n",
       "  <tbody>\n",
       "    <tr>\n",
       "      <td>0</td>\n",
       "      <td>20</td>\n",
       "      <td>13000000.0</td>\n",
       "      <td>108.00</td>\n",
       "      <td>2019-03-07T00:00:00</td>\n",
       "      <td>3</td>\n",
       "      <td>2.70</td>\n",
       "      <td>16.0</td>\n",
       "      <td>51.0</td>\n",
       "      <td>8</td>\n",
       "      <td>False</td>\n",
       "      <td>...</td>\n",
       "      <td>25.00</td>\n",
       "      <td>0</td>\n",
       "      <td>Санкт-Петербург</td>\n",
       "      <td>18863.0</td>\n",
       "      <td>16028.0</td>\n",
       "      <td>1.0</td>\n",
       "      <td>482.0</td>\n",
       "      <td>2.0</td>\n",
       "      <td>755.0</td>\n",
       "      <td>NaN</td>\n",
       "    </tr>\n",
       "    <tr>\n",
       "      <td>1</td>\n",
       "      <td>7</td>\n",
       "      <td>3350000.0</td>\n",
       "      <td>40.40</td>\n",
       "      <td>2018-12-04T00:00:00</td>\n",
       "      <td>1</td>\n",
       "      <td>2.65</td>\n",
       "      <td>11.0</td>\n",
       "      <td>18.6</td>\n",
       "      <td>1</td>\n",
       "      <td>False</td>\n",
       "      <td>...</td>\n",
       "      <td>11.00</td>\n",
       "      <td>2</td>\n",
       "      <td>посёлок Шушары</td>\n",
       "      <td>12817.0</td>\n",
       "      <td>18603.0</td>\n",
       "      <td>0.0</td>\n",
       "      <td>NaN</td>\n",
       "      <td>0.0</td>\n",
       "      <td>NaN</td>\n",
       "      <td>81.0</td>\n",
       "    </tr>\n",
       "    <tr>\n",
       "      <td>2</td>\n",
       "      <td>10</td>\n",
       "      <td>5196000.0</td>\n",
       "      <td>56.00</td>\n",
       "      <td>2015-08-20T00:00:00</td>\n",
       "      <td>2</td>\n",
       "      <td>2.65</td>\n",
       "      <td>5.0</td>\n",
       "      <td>34.3</td>\n",
       "      <td>4</td>\n",
       "      <td>False</td>\n",
       "      <td>...</td>\n",
       "      <td>8.30</td>\n",
       "      <td>0</td>\n",
       "      <td>Санкт-Петербург</td>\n",
       "      <td>21741.0</td>\n",
       "      <td>13933.0</td>\n",
       "      <td>1.0</td>\n",
       "      <td>90.0</td>\n",
       "      <td>2.0</td>\n",
       "      <td>574.0</td>\n",
       "      <td>558.0</td>\n",
       "    </tr>\n",
       "    <tr>\n",
       "      <td>3</td>\n",
       "      <td>0</td>\n",
       "      <td>64900000.0</td>\n",
       "      <td>159.00</td>\n",
       "      <td>2015-07-24T00:00:00</td>\n",
       "      <td>3</td>\n",
       "      <td>2.65</td>\n",
       "      <td>14.0</td>\n",
       "      <td>NaN</td>\n",
       "      <td>9</td>\n",
       "      <td>False</td>\n",
       "      <td>...</td>\n",
       "      <td>NaN</td>\n",
       "      <td>0</td>\n",
       "      <td>Санкт-Петербург</td>\n",
       "      <td>28098.0</td>\n",
       "      <td>6800.0</td>\n",
       "      <td>2.0</td>\n",
       "      <td>84.0</td>\n",
       "      <td>3.0</td>\n",
       "      <td>234.0</td>\n",
       "      <td>424.0</td>\n",
       "    </tr>\n",
       "    <tr>\n",
       "      <td>4</td>\n",
       "      <td>2</td>\n",
       "      <td>10000000.0</td>\n",
       "      <td>100.00</td>\n",
       "      <td>2018-06-19T00:00:00</td>\n",
       "      <td>2</td>\n",
       "      <td>3.03</td>\n",
       "      <td>14.0</td>\n",
       "      <td>32.0</td>\n",
       "      <td>13</td>\n",
       "      <td>False</td>\n",
       "      <td>...</td>\n",
       "      <td>41.00</td>\n",
       "      <td>0</td>\n",
       "      <td>Санкт-Петербург</td>\n",
       "      <td>31856.0</td>\n",
       "      <td>8098.0</td>\n",
       "      <td>2.0</td>\n",
       "      <td>112.0</td>\n",
       "      <td>1.0</td>\n",
       "      <td>48.0</td>\n",
       "      <td>121.0</td>\n",
       "    </tr>\n",
       "    <tr>\n",
       "      <td>...</td>\n",
       "      <td>...</td>\n",
       "      <td>...</td>\n",
       "      <td>...</td>\n",
       "      <td>...</td>\n",
       "      <td>...</td>\n",
       "      <td>...</td>\n",
       "      <td>...</td>\n",
       "      <td>...</td>\n",
       "      <td>...</td>\n",
       "      <td>...</td>\n",
       "      <td>...</td>\n",
       "      <td>...</td>\n",
       "      <td>...</td>\n",
       "      <td>...</td>\n",
       "      <td>...</td>\n",
       "      <td>...</td>\n",
       "      <td>...</td>\n",
       "      <td>...</td>\n",
       "      <td>...</td>\n",
       "      <td>...</td>\n",
       "      <td>...</td>\n",
       "    </tr>\n",
       "    <tr>\n",
       "      <td>23694</td>\n",
       "      <td>9</td>\n",
       "      <td>9700000.0</td>\n",
       "      <td>133.81</td>\n",
       "      <td>2017-03-21T00:00:00</td>\n",
       "      <td>3</td>\n",
       "      <td>3.70</td>\n",
       "      <td>5.0</td>\n",
       "      <td>73.3</td>\n",
       "      <td>3</td>\n",
       "      <td>False</td>\n",
       "      <td>...</td>\n",
       "      <td>13.83</td>\n",
       "      <td>0</td>\n",
       "      <td>Санкт-Петербург</td>\n",
       "      <td>24665.0</td>\n",
       "      <td>4232.0</td>\n",
       "      <td>1.0</td>\n",
       "      <td>796.0</td>\n",
       "      <td>3.0</td>\n",
       "      <td>381.0</td>\n",
       "      <td>NaN</td>\n",
       "    </tr>\n",
       "    <tr>\n",
       "      <td>23695</td>\n",
       "      <td>14</td>\n",
       "      <td>3100000.0</td>\n",
       "      <td>59.00</td>\n",
       "      <td>2018-01-15T00:00:00</td>\n",
       "      <td>3</td>\n",
       "      <td>2.65</td>\n",
       "      <td>5.0</td>\n",
       "      <td>38.0</td>\n",
       "      <td>4</td>\n",
       "      <td>False</td>\n",
       "      <td>...</td>\n",
       "      <td>8.50</td>\n",
       "      <td>0</td>\n",
       "      <td>Тосно</td>\n",
       "      <td>NaN</td>\n",
       "      <td>NaN</td>\n",
       "      <td>0.0</td>\n",
       "      <td>NaN</td>\n",
       "      <td>0.0</td>\n",
       "      <td>NaN</td>\n",
       "      <td>45.0</td>\n",
       "    </tr>\n",
       "    <tr>\n",
       "      <td>23696</td>\n",
       "      <td>18</td>\n",
       "      <td>2500000.0</td>\n",
       "      <td>56.70</td>\n",
       "      <td>2018-02-11T00:00:00</td>\n",
       "      <td>2</td>\n",
       "      <td>2.65</td>\n",
       "      <td>3.0</td>\n",
       "      <td>29.7</td>\n",
       "      <td>1</td>\n",
       "      <td>False</td>\n",
       "      <td>...</td>\n",
       "      <td>NaN</td>\n",
       "      <td>0</td>\n",
       "      <td>село Рождествено</td>\n",
       "      <td>NaN</td>\n",
       "      <td>NaN</td>\n",
       "      <td>0.0</td>\n",
       "      <td>NaN</td>\n",
       "      <td>0.0</td>\n",
       "      <td>NaN</td>\n",
       "      <td>NaN</td>\n",
       "    </tr>\n",
       "    <tr>\n",
       "      <td>23697</td>\n",
       "      <td>13</td>\n",
       "      <td>11475000.0</td>\n",
       "      <td>76.75</td>\n",
       "      <td>2017-03-28T00:00:00</td>\n",
       "      <td>2</td>\n",
       "      <td>3.00</td>\n",
       "      <td>17.0</td>\n",
       "      <td>NaN</td>\n",
       "      <td>12</td>\n",
       "      <td>False</td>\n",
       "      <td>...</td>\n",
       "      <td>23.30</td>\n",
       "      <td>2</td>\n",
       "      <td>Санкт-Петербург</td>\n",
       "      <td>39140.0</td>\n",
       "      <td>10364.0</td>\n",
       "      <td>2.0</td>\n",
       "      <td>173.0</td>\n",
       "      <td>3.0</td>\n",
       "      <td>196.0</td>\n",
       "      <td>602.0</td>\n",
       "    </tr>\n",
       "    <tr>\n",
       "      <td>23698</td>\n",
       "      <td>4</td>\n",
       "      <td>1350000.0</td>\n",
       "      <td>32.30</td>\n",
       "      <td>2017-07-21T00:00:00</td>\n",
       "      <td>1</td>\n",
       "      <td>2.50</td>\n",
       "      <td>5.0</td>\n",
       "      <td>12.3</td>\n",
       "      <td>1</td>\n",
       "      <td>False</td>\n",
       "      <td>...</td>\n",
       "      <td>9.00</td>\n",
       "      <td>0</td>\n",
       "      <td>поселок Новый Учхоз</td>\n",
       "      <td>NaN</td>\n",
       "      <td>NaN</td>\n",
       "      <td>0.0</td>\n",
       "      <td>NaN</td>\n",
       "      <td>0.0</td>\n",
       "      <td>NaN</td>\n",
       "      <td>NaN</td>\n",
       "    </tr>\n",
       "  </tbody>\n",
       "</table>\n",
       "<p>23699 rows × 22 columns</p>\n",
       "</div>"
      ],
      "text/plain": [
       "       total_images  last_price  total_area first_day_exposition  rooms  \\\n",
       "0                20  13000000.0      108.00  2019-03-07T00:00:00      3   \n",
       "1                 7   3350000.0       40.40  2018-12-04T00:00:00      1   \n",
       "2                10   5196000.0       56.00  2015-08-20T00:00:00      2   \n",
       "3                 0  64900000.0      159.00  2015-07-24T00:00:00      3   \n",
       "4                 2  10000000.0      100.00  2018-06-19T00:00:00      2   \n",
       "...             ...         ...         ...                  ...    ...   \n",
       "23694             9   9700000.0      133.81  2017-03-21T00:00:00      3   \n",
       "23695            14   3100000.0       59.00  2018-01-15T00:00:00      3   \n",
       "23696            18   2500000.0       56.70  2018-02-11T00:00:00      2   \n",
       "23697            13  11475000.0       76.75  2017-03-28T00:00:00      2   \n",
       "23698             4   1350000.0       32.30  2017-07-21T00:00:00      1   \n",
       "\n",
       "       ceiling_height  floors_total  living_area  floor  is_apartment  ...  \\\n",
       "0                2.70          16.0         51.0      8         False  ...   \n",
       "1                2.65          11.0         18.6      1         False  ...   \n",
       "2                2.65           5.0         34.3      4         False  ...   \n",
       "3                2.65          14.0          NaN      9         False  ...   \n",
       "4                3.03          14.0         32.0     13         False  ...   \n",
       "...               ...           ...          ...    ...           ...  ...   \n",
       "23694            3.70           5.0         73.3      3         False  ...   \n",
       "23695            2.65           5.0         38.0      4         False  ...   \n",
       "23696            2.65           3.0         29.7      1         False  ...   \n",
       "23697            3.00          17.0          NaN     12         False  ...   \n",
       "23698            2.50           5.0         12.3      1         False  ...   \n",
       "\n",
       "       kitchen_area  balcony        locality_name  airports_nearest  \\\n",
       "0             25.00        0      Санкт-Петербург           18863.0   \n",
       "1             11.00        2       посёлок Шушары           12817.0   \n",
       "2              8.30        0      Санкт-Петербург           21741.0   \n",
       "3               NaN        0      Санкт-Петербург           28098.0   \n",
       "4             41.00        0      Санкт-Петербург           31856.0   \n",
       "...             ...      ...                  ...               ...   \n",
       "23694         13.83        0      Санкт-Петербург           24665.0   \n",
       "23695          8.50        0                Тосно               NaN   \n",
       "23696           NaN        0     село Рождествено               NaN   \n",
       "23697         23.30        2      Санкт-Петербург           39140.0   \n",
       "23698          9.00        0  поселок Новый Учхоз               NaN   \n",
       "\n",
       "      cityCenters_nearest  parks_around3000  parks_nearest  ponds_around3000  \\\n",
       "0                 16028.0               1.0          482.0               2.0   \n",
       "1                 18603.0               0.0            NaN               0.0   \n",
       "2                 13933.0               1.0           90.0               2.0   \n",
       "3                  6800.0               2.0           84.0               3.0   \n",
       "4                  8098.0               2.0          112.0               1.0   \n",
       "...                   ...               ...            ...               ...   \n",
       "23694              4232.0               1.0          796.0               3.0   \n",
       "23695                 NaN               0.0            NaN               0.0   \n",
       "23696                 NaN               0.0            NaN               0.0   \n",
       "23697             10364.0               2.0          173.0               3.0   \n",
       "23698                 NaN               0.0            NaN               0.0   \n",
       "\n",
       "       ponds_nearest  days_exposition  \n",
       "0              755.0              NaN  \n",
       "1                NaN             81.0  \n",
       "2              574.0            558.0  \n",
       "3              234.0            424.0  \n",
       "4               48.0            121.0  \n",
       "...              ...              ...  \n",
       "23694          381.0              NaN  \n",
       "23695            NaN             45.0  \n",
       "23696            NaN              NaN  \n",
       "23697          196.0            602.0  \n",
       "23698            NaN              NaN  \n",
       "\n",
       "[23699 rows x 22 columns]"
      ]
     },
     "execution_count": 2,
     "metadata": {},
     "output_type": "execute_result"
    }
   ],
   "source": [
    "for c in data.columns:\n",
    "    print(data[c].value_counts(dropna=False))\n",
    "\n",
    "\n",
    "data['balcony'] = data['balcony'].fillna(0)\n",
    "data['parks_around3000'] = data['parks_around3000'].fillna(0)\n",
    "data['ponds_around3000'] = data['ponds_around3000'].fillna(0)\n",
    "data['is_apartment'] = data['is_apartment'].fillna(False)\n",
    "data['ceiling_height'] = data['ceiling_height'].fillna(data['ceiling_height'].median())\n",
    "data['floors_total'] = data['floors_total'].fillna(data['floors_total'].median())\n",
    "\n",
    "\n",
    "data.astype({'is_apartment': bool, 'balcony': int})"
   ]
  },
  {
   "cell_type": "markdown",
   "metadata": {},
   "source": [
    "Предполагаю, что в столбцах balcony, parks_around3000, ponds_around3000 пропуски значений означают их отсутствие (нет балкона, нет парка и водоёма в радиусе 3 км), поэтому пропуски заменяем на 0.\n",
    "\n",
    "В столбце is_apartment пропуск приравниваем к значению False, производим соостветствующую замену.\n",
    "\n",
    "Пропуски в столбцах ceiling_height и floors_total заменяем медианными значениями.\n",
    "\n",
    "Меняем тип данных в двух столбцах в соответствии с содержимым: is_apartment на bool и balcony на int.\n"
   ]
  },
  {
   "cell_type": "markdown",
   "metadata": {},
   "source": [
    "## Расчёты и добавление результатов в таблицу"
   ]
  },
  {
   "cell_type": "code",
   "execution_count": 3,
   "metadata": {},
   "outputs": [
    {
     "data": {
      "text/html": [
       "<div>\n",
       "<style scoped>\n",
       "    .dataframe tbody tr th:only-of-type {\n",
       "        vertical-align: middle;\n",
       "    }\n",
       "\n",
       "    .dataframe tbody tr th {\n",
       "        vertical-align: top;\n",
       "    }\n",
       "\n",
       "    .dataframe thead th {\n",
       "        text-align: right;\n",
       "    }\n",
       "</style>\n",
       "<table border=\"1\" class=\"dataframe\">\n",
       "  <thead>\n",
       "    <tr style=\"text-align: right;\">\n",
       "      <th></th>\n",
       "      <th>total_images</th>\n",
       "      <th>last_price</th>\n",
       "      <th>total_area</th>\n",
       "      <th>first_day_exposition</th>\n",
       "      <th>rooms</th>\n",
       "      <th>ceiling_height</th>\n",
       "      <th>floors_total</th>\n",
       "      <th>living_area</th>\n",
       "      <th>floor</th>\n",
       "      <th>is_apartment</th>\n",
       "      <th>...</th>\n",
       "      <th>days_exposition</th>\n",
       "      <th>square_meter_price</th>\n",
       "      <th>first_exposition_day_of_week</th>\n",
       "      <th>first_exposition_month</th>\n",
       "      <th>first_exposition_year</th>\n",
       "      <th>floor_category</th>\n",
       "      <th>living_area_ratio</th>\n",
       "      <th>kitchen_area_ratio</th>\n",
       "      <th>cityCenters_nearest_km</th>\n",
       "      <th>last_price_mln</th>\n",
       "    </tr>\n",
       "  </thead>\n",
       "  <tbody>\n",
       "    <tr>\n",
       "      <td>0</td>\n",
       "      <td>20</td>\n",
       "      <td>13000000.0</td>\n",
       "      <td>108.0</td>\n",
       "      <td>2019-03-07</td>\n",
       "      <td>3</td>\n",
       "      <td>2.70</td>\n",
       "      <td>16.0</td>\n",
       "      <td>51.0</td>\n",
       "      <td>8</td>\n",
       "      <td>False</td>\n",
       "      <td>...</td>\n",
       "      <td>NaN</td>\n",
       "      <td>120370.370370</td>\n",
       "      <td>3</td>\n",
       "      <td>3</td>\n",
       "      <td>2019</td>\n",
       "      <td>другой</td>\n",
       "      <td>0.472222</td>\n",
       "      <td>0.231481</td>\n",
       "      <td>16.0</td>\n",
       "      <td>13.000</td>\n",
       "    </tr>\n",
       "    <tr>\n",
       "      <td>1</td>\n",
       "      <td>7</td>\n",
       "      <td>3350000.0</td>\n",
       "      <td>40.4</td>\n",
       "      <td>2018-12-04</td>\n",
       "      <td>1</td>\n",
       "      <td>2.65</td>\n",
       "      <td>11.0</td>\n",
       "      <td>18.6</td>\n",
       "      <td>1</td>\n",
       "      <td>False</td>\n",
       "      <td>...</td>\n",
       "      <td>81.0</td>\n",
       "      <td>82920.792079</td>\n",
       "      <td>1</td>\n",
       "      <td>12</td>\n",
       "      <td>2018</td>\n",
       "      <td>первый</td>\n",
       "      <td>0.460396</td>\n",
       "      <td>0.272277</td>\n",
       "      <td>19.0</td>\n",
       "      <td>3.350</td>\n",
       "    </tr>\n",
       "    <tr>\n",
       "      <td>2</td>\n",
       "      <td>10</td>\n",
       "      <td>5196000.0</td>\n",
       "      <td>56.0</td>\n",
       "      <td>2015-08-20</td>\n",
       "      <td>2</td>\n",
       "      <td>2.65</td>\n",
       "      <td>5.0</td>\n",
       "      <td>34.3</td>\n",
       "      <td>4</td>\n",
       "      <td>False</td>\n",
       "      <td>...</td>\n",
       "      <td>558.0</td>\n",
       "      <td>92785.714286</td>\n",
       "      <td>3</td>\n",
       "      <td>8</td>\n",
       "      <td>2015</td>\n",
       "      <td>другой</td>\n",
       "      <td>0.612500</td>\n",
       "      <td>0.148214</td>\n",
       "      <td>14.0</td>\n",
       "      <td>5.196</td>\n",
       "    </tr>\n",
       "    <tr>\n",
       "      <td>3</td>\n",
       "      <td>0</td>\n",
       "      <td>64900000.0</td>\n",
       "      <td>159.0</td>\n",
       "      <td>2015-07-24</td>\n",
       "      <td>3</td>\n",
       "      <td>2.65</td>\n",
       "      <td>14.0</td>\n",
       "      <td>NaN</td>\n",
       "      <td>9</td>\n",
       "      <td>False</td>\n",
       "      <td>...</td>\n",
       "      <td>424.0</td>\n",
       "      <td>408176.100629</td>\n",
       "      <td>4</td>\n",
       "      <td>7</td>\n",
       "      <td>2015</td>\n",
       "      <td>другой</td>\n",
       "      <td>NaN</td>\n",
       "      <td>NaN</td>\n",
       "      <td>7.0</td>\n",
       "      <td>64.900</td>\n",
       "    </tr>\n",
       "    <tr>\n",
       "      <td>4</td>\n",
       "      <td>2</td>\n",
       "      <td>10000000.0</td>\n",
       "      <td>100.0</td>\n",
       "      <td>2018-06-19</td>\n",
       "      <td>2</td>\n",
       "      <td>3.03</td>\n",
       "      <td>14.0</td>\n",
       "      <td>32.0</td>\n",
       "      <td>13</td>\n",
       "      <td>False</td>\n",
       "      <td>...</td>\n",
       "      <td>121.0</td>\n",
       "      <td>100000.000000</td>\n",
       "      <td>1</td>\n",
       "      <td>6</td>\n",
       "      <td>2018</td>\n",
       "      <td>другой</td>\n",
       "      <td>0.320000</td>\n",
       "      <td>0.410000</td>\n",
       "      <td>8.0</td>\n",
       "      <td>10.000</td>\n",
       "    </tr>\n",
       "  </tbody>\n",
       "</table>\n",
       "<p>5 rows × 31 columns</p>\n",
       "</div>"
      ],
      "text/plain": [
       "   total_images  last_price  total_area first_day_exposition  rooms  \\\n",
       "0            20  13000000.0       108.0           2019-03-07      3   \n",
       "1             7   3350000.0        40.4           2018-12-04      1   \n",
       "2            10   5196000.0        56.0           2015-08-20      2   \n",
       "3             0  64900000.0       159.0           2015-07-24      3   \n",
       "4             2  10000000.0       100.0           2018-06-19      2   \n",
       "\n",
       "   ceiling_height  floors_total  living_area  floor  is_apartment  ...  \\\n",
       "0            2.70          16.0         51.0      8         False  ...   \n",
       "1            2.65          11.0         18.6      1         False  ...   \n",
       "2            2.65           5.0         34.3      4         False  ...   \n",
       "3            2.65          14.0          NaN      9         False  ...   \n",
       "4            3.03          14.0         32.0     13         False  ...   \n",
       "\n",
       "   days_exposition  square_meter_price  first_exposition_day_of_week  \\\n",
       "0              NaN       120370.370370                             3   \n",
       "1             81.0        82920.792079                             1   \n",
       "2            558.0        92785.714286                             3   \n",
       "3            424.0       408176.100629                             4   \n",
       "4            121.0       100000.000000                             1   \n",
       "\n",
       "   first_exposition_month first_exposition_year  floor_category  \\\n",
       "0                       3                  2019          другой   \n",
       "1                      12                  2018          первый   \n",
       "2                       8                  2015          другой   \n",
       "3                       7                  2015          другой   \n",
       "4                       6                  2018          другой   \n",
       "\n",
       "   living_area_ratio  kitchen_area_ratio  cityCenters_nearest_km  \\\n",
       "0           0.472222            0.231481                    16.0   \n",
       "1           0.460396            0.272277                    19.0   \n",
       "2           0.612500            0.148214                    14.0   \n",
       "3                NaN                 NaN                     7.0   \n",
       "4           0.320000            0.410000                     8.0   \n",
       "\n",
       "   last_price_mln  \n",
       "0          13.000  \n",
       "1           3.350  \n",
       "2           5.196  \n",
       "3          64.900  \n",
       "4          10.000  \n",
       "\n",
       "[5 rows x 31 columns]"
      ]
     },
     "execution_count": 3,
     "metadata": {},
     "output_type": "execute_result"
    }
   ],
   "source": [
    "data['square_meter_price'] = data['last_price'] / data['total_area']\n",
    "data['first_day_exposition'] = pd.to_datetime(data['first_day_exposition'], format=\"%Y-%m-%dT%H:%M:%S\")\n",
    "data['first_exposition_day_of_week'] = data['first_day_exposition'].dt.weekday\n",
    "data['first_exposition_month'] = data['first_day_exposition'].dt.month\n",
    "data['first_exposition_year'] = data['first_day_exposition'].dt.year\n",
    "\n",
    "def floor_category(column):\n",
    "    if column['floor'] == 1:\n",
    "        return 'первый'\n",
    "    if column['floor'] == column['floors_total']:\n",
    "        return 'последний'\n",
    "    return 'другой'\n",
    "\n",
    "data['floor_category'] = data.apply(floor_category, axis=1)\n",
    "\n",
    "data['living_area_ratio'] = data['living_area'] / data['total_area']\n",
    "data['kitchen_area_ratio'] = data['kitchen_area'] / data['total_area']\n",
    "data['cityCenters_nearest_km'] = (data['cityCenters_nearest'] / 1000).round()\n",
    "data['last_price_mln'] = data['last_price'] / 1000000\n",
    "\n",
    "data.head()"
   ]
  },
  {
   "cell_type": "markdown",
   "metadata": {},
   "source": [
    "## Исследовательский анализ данных"
   ]
  },
  {
   "cell_type": "code",
   "execution_count": 4,
   "metadata": {},
   "outputs": [
    {
     "data": {
      "text/html": [
       "<div>\n",
       "<style scoped>\n",
       "    .dataframe tbody tr th:only-of-type {\n",
       "        vertical-align: middle;\n",
       "    }\n",
       "\n",
       "    .dataframe tbody tr th {\n",
       "        vertical-align: top;\n",
       "    }\n",
       "\n",
       "    .dataframe thead th {\n",
       "        text-align: right;\n",
       "    }\n",
       "</style>\n",
       "<table border=\"1\" class=\"dataframe\">\n",
       "  <thead>\n",
       "    <tr style=\"text-align: right;\">\n",
       "      <th></th>\n",
       "      <th>total_area</th>\n",
       "      <th>last_price_mln</th>\n",
       "      <th>rooms</th>\n",
       "      <th>ceiling_height</th>\n",
       "    </tr>\n",
       "  </thead>\n",
       "  <tbody>\n",
       "    <tr>\n",
       "      <td>total_area</td>\n",
       "      <td>1.000000</td>\n",
       "      <td>0.653675</td>\n",
       "      <td>0.758344</td>\n",
       "      <td>0.080613</td>\n",
       "    </tr>\n",
       "    <tr>\n",
       "      <td>last_price_mln</td>\n",
       "      <td>0.653675</td>\n",
       "      <td>1.000000</td>\n",
       "      <td>0.363343</td>\n",
       "      <td>0.064425</td>\n",
       "    </tr>\n",
       "    <tr>\n",
       "      <td>rooms</td>\n",
       "      <td>0.758344</td>\n",
       "      <td>0.363343</td>\n",
       "      <td>1.000000</td>\n",
       "      <td>0.047991</td>\n",
       "    </tr>\n",
       "    <tr>\n",
       "      <td>ceiling_height</td>\n",
       "      <td>0.080613</td>\n",
       "      <td>0.064425</td>\n",
       "      <td>0.047991</td>\n",
       "      <td>1.000000</td>\n",
       "    </tr>\n",
       "  </tbody>\n",
       "</table>\n",
       "</div>"
      ],
      "text/plain": [
       "                total_area  last_price_mln     rooms  ceiling_height\n",
       "total_area        1.000000        0.653675  0.758344        0.080613\n",
       "last_price_mln    0.653675        1.000000  0.363343        0.064425\n",
       "rooms             0.758344        0.363343  1.000000        0.047991\n",
       "ceiling_height    0.080613        0.064425  0.047991        1.000000"
      ]
     },
     "execution_count": 4,
     "metadata": {},
     "output_type": "execute_result"
    },
    {
     "data": {
      "image/png": "[encoded data removed]",
      "text/plain": [
       "<Figure size 864x864 with 16 Axes>"
      ]
     },
     "metadata": {
      "needs_background": "light"
     },
     "output_type": "display_data"
    }
   ],
   "source": [
    "pd.plotting.scatter_matrix(data[['total_area', 'last_price_mln', 'rooms', 'ceiling_height']], figsize=(12, 12))\n",
    "data[['total_area', 'last_price_mln', 'rooms', 'ceiling_height']].corr()\n"
   ]
  },
  {
   "cell_type": "markdown",
   "metadata": {},
   "source": [
    "Проведена оценка корреляции следующих показателей: площадь, цена, число комнат, высота потолков. Установлено, что наиболее сильное влияние на стоимость квартир оказывает общая площадь квартиры. Также на цену влияет число комнат, однако корреляция не так сильна. Высота потолка на цену практически не влияет."
   ]
  },
  {
   "cell_type": "code",
   "execution_count": 5,
   "metadata": {},
   "outputs": [
    {
     "data": {
      "text/plain": [
       "count    20518.000000\n",
       "mean       180.888634\n",
       "std        219.727988\n",
       "min          1.000000\n",
       "25%         45.000000\n",
       "50%         95.000000\n",
       "75%        232.000000\n",
       "max       1580.000000\n",
       "Name: days_exposition, dtype: float64"
      ]
     },
     "execution_count": 5,
     "metadata": {},
     "output_type": "execute_result"
    },
    {
     "data": {
      "image/png": "[encoded data removed]",
      "text/plain": [
       "<Figure size 432x288 with 1 Axes>"
      ]
     },
     "metadata": {
      "needs_background": "light"
     },
     "output_type": "display_data"
    }
   ],
   "source": [
    "data['days_exposition'].hist()\n",
    "data['days_exposition'].describe()"
   ]
  },
  {
   "cell_type": "code",
   "execution_count": 6,
   "metadata": {},
   "outputs": [
    {
     "data": {
      "text/plain": [
       "<matplotlib.axes._subplots.AxesSubplot at 0x7f67d84f5b50>"
      ]
     },
     "execution_count": 6,
     "metadata": {},
     "output_type": "execute_result"
    },
    {
     "data": {
      "image/png": "[encoded data removed]",
      "text/plain": [
       "<Figure size 432x288 with 1 Axes>"
      ]
     },
     "metadata": {
      "needs_background": "light"
     },
     "output_type": "display_data"
    }
   ],
   "source": [
    "data[['days_exposition']].boxplot()"
   ]
  },
  {
   "cell_type": "code",
   "execution_count": 7,
   "metadata": {},
   "outputs": [],
   "source": [
    "good_data = data.query('days_exposition < 1000')\n",
    "good_data = good_data.query('last_price_mln < 200')"
   ]
  },
  {
   "cell_type": "markdown",
   "metadata": {},
   "source": [
    "Удалены явные выбросы: объявления со сроком продажи более 1000 дней и стоимостью более 200 млн."
   ]
  },
  {
   "cell_type": "code",
   "execution_count": 8,
   "metadata": {},
   "outputs": [
    {
     "data": {
      "text/plain": [
       "count    20232.000000\n",
       "mean       167.327847\n",
       "std        187.449705\n",
       "min          1.000000\n",
       "25%         44.000000\n",
       "50%         93.000000\n",
       "75%        222.000000\n",
       "max        999.000000\n",
       "Name: days_exposition, dtype: float64"
      ]
     },
     "execution_count": 8,
     "metadata": {},
     "output_type": "execute_result"
    },
    {
     "data": {
      "image/png": "[encoded data removed]",
      "text/plain": [
       "<Figure size 432x288 with 1 Axes>"
      ]
     },
     "metadata": {
      "needs_background": "light"
     },
     "output_type": "display_data"
    }
   ],
   "source": [
    "good_data[['days_exposition']].boxplot()\n",
    "good_data['days_exposition'].describe()"
   ]
  },
  {
   "cell_type": "markdown",
   "metadata": {},
   "source": [
    "Среднее время продажи - 93 дня. Необычайно быстрыми можно считать продажи быстрее 44 дней, долгими - дольше 222 дней."
   ]
  },
  {
   "cell_type": "code",
   "execution_count": 9,
   "metadata": {},
   "outputs": [
    {
     "data": {
      "text/plain": [
       "<matplotlib.axes._subplots.AxesSubplot at 0x7f67d0383190>"
      ]
     },
     "execution_count": 9,
     "metadata": {},
     "output_type": "execute_result"
    },
    {
     "data": {
      "image/png": "[encoded data removed]",
      "text/plain": [
       "<Figure size 432x288 with 1 Axes>"
      ]
     },
     "metadata": {
      "needs_background": "light"
     },
     "output_type": "display_data"
    }
   ],
   "source": [
    "good_data[['last_price_mln', 'total_area']].plot(x='total_area', y='last_price_mln', kind='scatter', alpha=0.03)"
   ]
  },
  {
   "cell_type": "markdown",
   "metadata": {},
   "source": [
    "Стоимость квартиры сильно зависит от общей площади: чем она больше, тем выше стоимость квартиры."
   ]
  },
  {
   "cell_type": "code",
   "execution_count": 10,
   "metadata": {},
   "outputs": [
    {
     "data": {
      "text/plain": [
       "(0, 8)"
      ]
     },
     "execution_count": 10,
     "metadata": {},
     "output_type": "execute_result"
    },
    {
     "data": {
      "image/png": "[encoded data removed]",
      "text/plain": [
       "<Figure size 432x288 with 1 Axes>"
      ]
     },
     "metadata": {
      "needs_background": "light"
     },
     "output_type": "display_data"
    }
   ],
   "source": [
    "good_data[['last_price_mln', 'rooms']].plot(x='rooms', y='last_price_mln', kind='scatter', alpha=0.03)\n",
    "\n",
    "plt.xlim(0, 8)"
   ]
  },
  {
   "cell_type": "markdown",
   "metadata": {},
   "source": [
    "Количество комнат также влияет на стоимость жилья, но корреляция не так очевидна: в целом минимальная стоимость повышается с увеличением количества комнат, но при этом максимальная стоимость может быть одинакова как у квартиры с 3мя комнатами, так и с 7ю."
   ]
  },
  {
   "cell_type": "code",
   "execution_count": 11,
   "metadata": {},
   "outputs": [
    {
     "data": {
      "text/plain": [
       "<matplotlib.axes._subplots.AxesSubplot at 0x7f67d0284f50>"
      ]
     },
     "execution_count": 11,
     "metadata": {},
     "output_type": "execute_result"
    },
    {
     "data": {
      "image/png": "[encoded data removed]",
      "text/plain": [
       "<Figure size 432x288 with 1 Axes>"
      ]
     },
     "metadata": {
      "needs_background": "light"
     },
     "output_type": "display_data"
    }
   ],
   "source": [
    "good_data[['last_price_mln', 'cityCenters_nearest_km']].plot(x='cityCenters_nearest_km', y='last_price_mln', kind='scatter', alpha=0.03)"
   ]
  },
  {
   "cell_type": "markdown",
   "metadata": {},
   "source": [
    "Удалённость квартиры от центра города влияет на её стоимость, чем квартира дальше, тем дешевле."
   ]
  },
  {
   "cell_type": "code",
   "execution_count": 12,
   "metadata": {},
   "outputs": [
    {
     "data": {
      "text/plain": [
       "<matplotlib.axes._subplots.AxesSubplot at 0x7f67d01ee710>"
      ]
     },
     "execution_count": 12,
     "metadata": {},
     "output_type": "execute_result"
    },
    {
     "data": {
      "image/png": "[encoded data removed]",
      "text/plain": [
       "<Figure size 432x288 with 1 Axes>"
      ]
     },
     "metadata": {
      "needs_background": "light"
     },
     "output_type": "display_data"
    }
   ],
   "source": [
    "good_data[['last_price_mln', 'first_exposition_day_of_week']].plot(x='first_exposition_day_of_week', y='last_price_mln', kind='scatter', alpha=0.03)"
   ]
  },
  {
   "cell_type": "markdown",
   "metadata": {},
   "source": [
    "День размещения объявления влияет на стоимость квартиры: цена на квартиры, объявления о продаже которых были размещены в субботу и воскресенье несколько ниже, а в четверг - выше всего."
   ]
  },
  {
   "cell_type": "code",
   "execution_count": 13,
   "metadata": {},
   "outputs": [
    {
     "data": {
      "text/plain": [
       "<matplotlib.axes._subplots.AxesSubplot at 0x7f67d03b2390>"
      ]
     },
     "execution_count": 13,
     "metadata": {},
     "output_type": "execute_result"
    },
    {
     "data": {
      "image/png": "[encoded data removed]",
      "text/plain": [
       "<Figure size 432x288 with 1 Axes>"
      ]
     },
     "metadata": {
      "needs_background": "light"
     },
     "output_type": "display_data"
    }
   ],
   "source": [
    "good_data[['last_price_mln', 'first_exposition_month']].plot(x='first_exposition_month', y='last_price_mln', kind='scatter', alpha=0.05)"
   ]
  },
  {
   "cell_type": "markdown",
   "metadata": {},
   "source": [
    "В стоимости квартир прослеживается некая сезонность: цены на квартиры, выставленные на продажу в фервале и сентябре максимальны, а в летние месяцы и в январе наблюдается спад."
   ]
  },
  {
   "cell_type": "code",
   "execution_count": 14,
   "metadata": {},
   "outputs": [
    {
     "data": {
      "text/plain": [
       "<matplotlib.axes._subplots.AxesSubplot at 0x7f67d854c710>"
      ]
     },
     "execution_count": 14,
     "metadata": {},
     "output_type": "execute_result"
    },
    {
     "data": {
      "image/png": "[encoded data removed]",
      "text/plain": [
       "<Figure size 432x288 with 1 Axes>"
      ]
     },
     "metadata": {
      "needs_background": "light"
     },
     "output_type": "display_data"
    }
   ],
   "source": [
    "good_data[['last_price_mln', 'first_exposition_year']].plot(x='first_exposition_year', y='last_price_mln', kind='scatter', alpha=0.03)"
   ]
  },
  {
   "cell_type": "markdown",
   "metadata": {},
   "source": [
    "Средняя стоимость менялась и по годам: постепенно росла, достигла пика в 2017, далее пошла на спад. При этом минимальная граница стоимости в 2019 была выше, чем в предыдущие годы."
   ]
  },
  {
   "cell_type": "code",
   "execution_count": 15,
   "metadata": {},
   "outputs": [
    {
     "data": {
      "text/plain": [
       "<matplotlib.axes._subplots.AxesSubplot at 0x7f67d851f690>"
      ]
     },
     "execution_count": 15,
     "metadata": {},
     "output_type": "execute_result"
    },
    {
     "data": {
      "image/png": "[encoded data removed]",
      "text/plain": [
       "<Figure size 432x288 with 1 Axes>"
      ]
     },
     "metadata": {
      "needs_background": "light"
     },
     "output_type": "display_data"
    }
   ],
   "source": [
    "good_data.query('floor_category == \"первый\"')[['last_price_mln']].boxplot()"
   ]
  },
  {
   "cell_type": "code",
   "execution_count": 16,
   "metadata": {
    "scrolled": true
   },
   "outputs": [
    {
     "data": {
      "text/plain": [
       "<matplotlib.axes._subplots.AxesSubplot at 0x7f67d95da0d0>"
      ]
     },
     "execution_count": 16,
     "metadata": {},
     "output_type": "execute_result"
    },
    {
     "data": {
      "image/png": "[encoded data removed]",
      "text/plain": [
       "<Figure size 432x288 with 1 Axes>"
      ]
     },
     "metadata": {
      "needs_background": "light"
     },
     "output_type": "display_data"
    }
   ],
   "source": [
    "good_data.query('floor_category == \"последний\"')[['last_price_mln']].boxplot()"
   ]
  },
  {
   "cell_type": "code",
   "execution_count": 17,
   "metadata": {},
   "outputs": [
    {
     "data": {
      "text/plain": [
       "<matplotlib.axes._subplots.AxesSubplot at 0x7f67d02f5690>"
      ]
     },
     "execution_count": 17,
     "metadata": {},
     "output_type": "execute_result"
    },
    {
     "data": {
      "image/png": "[encoded data removed]",
      "text/plain": [
       "<Figure size 432x288 with 1 Axes>"
      ]
     },
     "metadata": {
      "needs_background": "light"
     },
     "output_type": "display_data"
    }
   ],
   "source": [
    "good_data.query('floor_category == \"другой\"')[['last_price_mln']].boxplot()"
   ]
  },
  {
   "cell_type": "markdown",
   "metadata": {},
   "source": [
    "На стоимость квартиры также влияет и этаж: средняя стоимость на квартиры на первом этаже ниже, чем на последнем или других."
   ]
  },
  {
   "cell_type": "code",
   "execution_count": 18,
   "metadata": {},
   "outputs": [
    {
     "data": {
      "text/plain": [
       "Санкт-Петербург      15721\n",
       "посёлок Мурино         522\n",
       "посёлок Шушары         440\n",
       "Всеволожск             398\n",
       "Пушкин                 369\n",
       "Колпино                338\n",
       "посёлок Парголово      327\n",
       "Гатчина                307\n",
       "деревня Кудрово        299\n",
       "Выборг                 237\n",
       "Name: locality_name, dtype: int64"
      ]
     },
     "execution_count": 18,
     "metadata": {},
     "output_type": "execute_result"
    }
   ],
   "source": [
    "ten_cities = data['locality_name'].value_counts().head(10)\n",
    "ten_cities"
   ]
  },
  {
   "cell_type": "code",
   "execution_count": 19,
   "metadata": {},
   "outputs": [
    {
     "data": {
      "text/html": [
       "<div>\n",
       "<style scoped>\n",
       "    .dataframe tbody tr th:only-of-type {\n",
       "        vertical-align: middle;\n",
       "    }\n",
       "\n",
       "    .dataframe tbody tr th {\n",
       "        vertical-align: top;\n",
       "    }\n",
       "\n",
       "    .dataframe thead th {\n",
       "        text-align: right;\n",
       "    }\n",
       "</style>\n",
       "<table border=\"1\" class=\"dataframe\">\n",
       "  <thead>\n",
       "    <tr style=\"text-align: right;\">\n",
       "      <th></th>\n",
       "      <th>square_meter_price</th>\n",
       "    </tr>\n",
       "    <tr>\n",
       "      <th>locality_name</th>\n",
       "      <th></th>\n",
       "    </tr>\n",
       "  </thead>\n",
       "  <tbody>\n",
       "    <tr>\n",
       "      <td>Выборг</td>\n",
       "      <td>58141.909153</td>\n",
       "    </tr>\n",
       "    <tr>\n",
       "      <td>Всеволожск</td>\n",
       "      <td>68654.473986</td>\n",
       "    </tr>\n",
       "    <tr>\n",
       "      <td>Гатчина</td>\n",
       "      <td>68746.146763</td>\n",
       "    </tr>\n",
       "    <tr>\n",
       "      <td>Колпино</td>\n",
       "      <td>75424.579098</td>\n",
       "    </tr>\n",
       "    <tr>\n",
       "      <td>посёлок Шушары</td>\n",
       "      <td>78677.364217</td>\n",
       "    </tr>\n",
       "    <tr>\n",
       "      <td>посёлок Мурино</td>\n",
       "      <td>85752.189195</td>\n",
       "    </tr>\n",
       "    <tr>\n",
       "      <td>посёлок Парголово</td>\n",
       "      <td>90175.913458</td>\n",
       "    </tr>\n",
       "    <tr>\n",
       "      <td>деревня Кудрово</td>\n",
       "      <td>92473.547576</td>\n",
       "    </tr>\n",
       "    <tr>\n",
       "      <td>Пушкин</td>\n",
       "      <td>103125.819291</td>\n",
       "    </tr>\n",
       "    <tr>\n",
       "      <td>Санкт-Петербург</td>\n",
       "      <td>114849.008794</td>\n",
       "    </tr>\n",
       "  </tbody>\n",
       "</table>\n",
       "</div>"
      ],
      "text/plain": [
       "                   square_meter_price\n",
       "locality_name                        \n",
       "Выборг                   58141.909153\n",
       "Всеволожск               68654.473986\n",
       "Гатчина                  68746.146763\n",
       "Колпино                  75424.579098\n",
       "посёлок Шушары           78677.364217\n",
       "посёлок Мурино           85752.189195\n",
       "посёлок Парголово        90175.913458\n",
       "деревня Кудрово          92473.547576\n",
       "Пушкин                  103125.819291\n",
       "Санкт-Петербург         114849.008794"
      ]
     },
     "execution_count": 19,
     "metadata": {},
     "output_type": "execute_result"
    }
   ],
   "source": [
    "data_pivot = data[data['locality_name'].isin(ten_cities.index)].pivot_table(index ='locality_name', values='square_meter_price', aggfunc = 'mean')\n",
    "data_pivot.sort_values(by='square_meter_price')"
   ]
  },
  {
   "cell_type": "code",
   "execution_count": 20,
   "metadata": {},
   "outputs": [
    {
     "data": {
      "text/plain": [
       "<matplotlib.axes._subplots.AxesSubplot at 0x7f67d02ab110>"
      ]
     },
     "execution_count": 20,
     "metadata": {},
     "output_type": "execute_result"
    },
    {
     "data": {
      "image/png": "[encoded data removed]",
      "text/plain": [
       "<Figure size 1080x360 with 1 Axes>"
      ]
     },
     "metadata": {
      "needs_background": "light"
     },
     "output_type": "display_data"
    }
   ],
   "source": [
    "(data\n",
    "     .query('locality_name == \"Санкт-Петербург\"')\n",
    "     .pivot_table(index='cityCenters_nearest_km', values='square_meter_price')\n",
    "     .plot(grid=True, figsize=(15,5))\n",
    ")"
   ]
  },
  {
   "cell_type": "markdown",
   "metadata": {},
   "source": [
    "Основываясь на графике изменения цены в зависимости от удаления от центра выделим границу центра: 8 км. "
   ]
  },
  {
   "cell_type": "code",
   "execution_count": 21,
   "metadata": {},
   "outputs": [],
   "source": [
    "data_spb_center = data.query('locality_name == \"Санкт-Петербург\" and cityCenters_nearest_km <=8')\n",
    "data_spb_center = data_spb_center.query('last_price_mln < 200')"
   ]
  },
  {
   "cell_type": "code",
   "execution_count": 22,
   "metadata": {},
   "outputs": [
    {
     "data": {
      "text/html": [
       "<div>\n",
       "<style scoped>\n",
       "    .dataframe tbody tr th:only-of-type {\n",
       "        vertical-align: middle;\n",
       "    }\n",
       "\n",
       "    .dataframe tbody tr th {\n",
       "        vertical-align: top;\n",
       "    }\n",
       "\n",
       "    .dataframe thead th {\n",
       "        text-align: right;\n",
       "    }\n",
       "</style>\n",
       "<table border=\"1\" class=\"dataframe\">\n",
       "  <thead>\n",
       "    <tr style=\"text-align: right;\">\n",
       "      <th></th>\n",
       "      <th>total_area</th>\n",
       "      <th>last_price_mln</th>\n",
       "      <th>rooms</th>\n",
       "      <th>ceiling_height</th>\n",
       "    </tr>\n",
       "  </thead>\n",
       "  <tbody>\n",
       "    <tr>\n",
       "      <td>total_area</td>\n",
       "      <td>1.000000</td>\n",
       "      <td>0.711890</td>\n",
       "      <td>0.746305</td>\n",
       "      <td>0.036557</td>\n",
       "    </tr>\n",
       "    <tr>\n",
       "      <td>last_price_mln</td>\n",
       "      <td>0.711890</td>\n",
       "      <td>1.000000</td>\n",
       "      <td>0.397107</td>\n",
       "      <td>0.042156</td>\n",
       "    </tr>\n",
       "    <tr>\n",
       "      <td>rooms</td>\n",
       "      <td>0.746305</td>\n",
       "      <td>0.397107</td>\n",
       "      <td>1.000000</td>\n",
       "      <td>0.022476</td>\n",
       "    </tr>\n",
       "    <tr>\n",
       "      <td>ceiling_height</td>\n",
       "      <td>0.036557</td>\n",
       "      <td>0.042156</td>\n",
       "      <td>0.022476</td>\n",
       "      <td>1.000000</td>\n",
       "    </tr>\n",
       "  </tbody>\n",
       "</table>\n",
       "</div>"
      ],
      "text/plain": [
       "                total_area  last_price_mln     rooms  ceiling_height\n",
       "total_area        1.000000        0.711890  0.746305        0.036557\n",
       "last_price_mln    0.711890        1.000000  0.397107        0.042156\n",
       "rooms             0.746305        0.397107  1.000000        0.022476\n",
       "ceiling_height    0.036557        0.042156  0.022476        1.000000"
      ]
     },
     "execution_count": 22,
     "metadata": {},
     "output_type": "execute_result"
    },
    {
     "data": {
      "image/png": "[encoded data removed]",
      "text/plain": [
       "<Figure size 864x864 with 16 Axes>"
      ]
     },
     "metadata": {
      "needs_background": "light"
     },
     "output_type": "display_data"
    }
   ],
   "source": [
    "pd.plotting.scatter_matrix(data_spb_center[['total_area', 'last_price_mln', 'rooms', 'ceiling_height']], figsize=(12, 12))\n",
    "data_spb_center[['total_area', 'last_price_mln', 'rooms', 'ceiling_height']].corr()"
   ]
  },
  {
   "cell_type": "markdown",
   "metadata": {},
   "source": [
    "На стоимость квартир в центре Петербурга сильно влияет общая площадь. Количество комнат также влияет, но не так сильно. Высота потолков практически не влияет на стоимость - по этим показателям картина не отличается от общей по городу."
   ]
  },
  {
   "cell_type": "code",
   "execution_count": 23,
   "metadata": {},
   "outputs": [
    {
     "data": {
      "text/plain": [
       "<matplotlib.axes._subplots.AxesSubplot at 0x7f67d02e8cd0>"
      ]
     },
     "execution_count": 23,
     "metadata": {},
     "output_type": "execute_result"
    },
    {
     "data": {
      "image/png": "[encoded data removed]",
      "text/plain": [
       "<Figure size 432x288 with 1 Axes>"
      ]
     },
     "metadata": {
      "needs_background": "light"
     },
     "output_type": "display_data"
    }
   ],
   "source": [
    "data_spb_center[['last_price_mln', 'total_area']].plot(x='total_area', y='last_price_mln', kind='scatter', alpha=0.03)"
   ]
  },
  {
   "cell_type": "markdown",
   "metadata": {},
   "source": [
    "Стоимость квартиры зависит от общей площади: чем она больше, тем выше стоимость квартиры. Однако в центре города влияние площади на цену не столь велико, как в общем по городу."
   ]
  },
  {
   "cell_type": "code",
   "execution_count": 24,
   "metadata": {},
   "outputs": [
    {
     "data": {
      "text/plain": [
       "<matplotlib.axes._subplots.AxesSubplot at 0x7f67caf5d4d0>"
      ]
     },
     "execution_count": 24,
     "metadata": {},
     "output_type": "execute_result"
    },
    {
     "data": {
      "image/png": "[encoded data removed]",
      "text/plain": [
       "<Figure size 432x288 with 1 Axes>"
      ]
     },
     "metadata": {
      "needs_background": "light"
     },
     "output_type": "display_data"
    }
   ],
   "source": [
    "data_spb_center[['last_price_mln', 'rooms']].plot(x='rooms', y='last_price_mln', kind='scatter', alpha=0.03)"
   ]
  },
  {
   "cell_type": "markdown",
   "metadata": {},
   "source": [
    "Как и в целом по городу, в центре количество комнат влияет на стоимость жилья, но корреляция не так очевидна: в целом минимальная стоимость повышается с увеличением количества комнат, но при этом максимальная стоимость может быть одинакова как у квартиры с 2мя комнатами, так и с 7ю."
   ]
  },
  {
   "cell_type": "code",
   "execution_count": 25,
   "metadata": {},
   "outputs": [
    {
     "data": {
      "text/plain": [
       "<matplotlib.axes._subplots.AxesSubplot at 0x7f67caf18b90>"
      ]
     },
     "execution_count": 25,
     "metadata": {},
     "output_type": "execute_result"
    },
    {
     "data": {
      "image/png": "[encoded data removed]",
      "text/plain": [
       "<Figure size 432x288 with 1 Axes>"
      ]
     },
     "metadata": {
      "needs_background": "light"
     },
     "output_type": "display_data"
    }
   ],
   "source": [
    "data_spb_center[['last_price_mln', 'cityCenters_nearest_km']].plot(x='cityCenters_nearest_km', y='last_price_mln', kind='scatter', alpha=0.03)"
   ]
  },
  {
   "cell_type": "markdown",
   "metadata": {},
   "source": [
    "Стоимость квартир в центре Петербурга плавно уменьшается с удалением от центра - как в целом по городу."
   ]
  },
  {
   "cell_type": "code",
   "execution_count": 26,
   "metadata": {},
   "outputs": [
    {
     "data": {
      "text/plain": [
       "<matplotlib.axes._subplots.AxesSubplot at 0x7f67cae44b10>"
      ]
     },
     "execution_count": 26,
     "metadata": {},
     "output_type": "execute_result"
    },
    {
     "data": {
      "image/png": "[encoded data removed]",
      "text/plain": [
       "<Figure size 432x288 with 1 Axes>"
      ]
     },
     "metadata": {
      "needs_background": "light"
     },
     "output_type": "display_data"
    }
   ],
   "source": [
    "data_spb_center[['last_price_mln', 'first_exposition_day_of_week']].plot(x='first_exposition_day_of_week', y='last_price_mln', kind='scatter', alpha=0.03)"
   ]
  },
  {
   "cell_type": "markdown",
   "metadata": {},
   "source": [
    "В целом распределение стоимости в зависимости от дня публикации выглядит примерно равномерным, однако днём с наибольшей средней ценой кажется четверг (как и в целом по городу), а в субботу и воскресенье публикаций было значительно меньше, чем в другие дни недели."
   ]
  },
  {
   "cell_type": "code",
   "execution_count": 27,
   "metadata": {},
   "outputs": [
    {
     "data": {
      "text/plain": [
       "<matplotlib.axes._subplots.AxesSubplot at 0x7f67cae0ba90>"
      ]
     },
     "execution_count": 27,
     "metadata": {},
     "output_type": "execute_result"
    },
    {
     "data": {
      "image/png": "[encoded data removed]",
      "text/plain": [
       "<Figure size 432x288 with 1 Axes>"
      ]
     },
     "metadata": {
      "needs_background": "light"
     },
     "output_type": "display_data"
    }
   ],
   "source": [
    "data_spb_center[['last_price_mln', 'first_exposition_month']].plot(x='first_exposition_month', y='last_price_mln', kind='scatter', alpha=0.03)"
   ]
  },
  {
   "cell_type": "markdown",
   "metadata": {},
   "source": [
    "В стоимости квартир в центре Петербурга прослеживается та же сезонная закономерность, как в целом по городу: цены на квартиры, выставленные на продажу в фервале и сентябре максимальны, а в летние месяцы и в январе наблюдается спад."
   ]
  },
  {
   "cell_type": "code",
   "execution_count": 28,
   "metadata": {},
   "outputs": [
    {
     "data": {
      "text/plain": [
       "<matplotlib.axes._subplots.AxesSubplot at 0x7f67cad823d0>"
      ]
     },
     "execution_count": 28,
     "metadata": {},
     "output_type": "execute_result"
    },
    {
     "data": {
      "image/png": "[encoded data removed]",
      "text/plain": [
       "<Figure size 432x288 with 1 Axes>"
      ]
     },
     "metadata": {
      "needs_background": "light"
     },
     "output_type": "display_data"
    }
   ],
   "source": [
    "data_spb_center[['last_price_mln', 'first_exposition_year']].plot(x='first_exposition_year', y='last_price_mln', kind='scatter', alpha=0.03)"
   ]
  },
  {
   "cell_type": "markdown",
   "metadata": {},
   "source": [
    "Пик продаж квартир в центре Петербурга пришёлся на 2017 год, однако, в отличие от динамики по городу в целом, их стоимость не менялась так кардинально."
   ]
  },
  {
   "cell_type": "code",
   "execution_count": 29,
   "metadata": {},
   "outputs": [
    {
     "data": {
      "text/plain": [
       "<matplotlib.axes._subplots.AxesSubplot at 0x7f67cad009d0>"
      ]
     },
     "execution_count": 29,
     "metadata": {},
     "output_type": "execute_result"
    },
    {
     "data": {
      "image/png": "[encoded data removed]",
      "text/plain": [
       "<Figure size 432x288 with 1 Axes>"
      ]
     },
     "metadata": {
      "needs_background": "light"
     },
     "output_type": "display_data"
    }
   ],
   "source": [
    "data_spb_center.query('floor_category == \"первый\"')[['last_price_mln']].boxplot()"
   ]
  },
  {
   "cell_type": "code",
   "execution_count": 30,
   "metadata": {},
   "outputs": [
    {
     "data": {
      "text/plain": [
       "<matplotlib.axes._subplots.AxesSubplot at 0x7f67cadb11d0>"
      ]
     },
     "execution_count": 30,
     "metadata": {},
     "output_type": "execute_result"
    },
    {
     "data": {
      "image/png": "[encoded data removed]",
      "text/plain": [
       "<Figure size 432x288 with 1 Axes>"
      ]
     },
     "metadata": {
      "needs_background": "light"
     },
     "output_type": "display_data"
    }
   ],
   "source": [
    "data_spb_center.query('floor_category == \"последний\"')[['last_price_mln']].boxplot()"
   ]
  },
  {
   "cell_type": "code",
   "execution_count": 31,
   "metadata": {},
   "outputs": [
    {
     "data": {
      "text/plain": [
       "<matplotlib.axes._subplots.AxesSubplot at 0x7f67cabfef90>"
      ]
     },
     "execution_count": 31,
     "metadata": {},
     "output_type": "execute_result"
    },
    {
     "data": {
      "image/png": "[encoded data removed]",
      "text/plain": [
       "<Figure size 432x288 with 1 Axes>"
      ]
     },
     "metadata": {
      "needs_background": "light"
     },
     "output_type": "display_data"
    }
   ],
   "source": [
    "data_spb_center.query('floor_category == \"другой\"')[['last_price_mln']].boxplot()"
   ]
  },
  {
   "cell_type": "markdown",
   "metadata": {},
   "source": [
    "В центре Петербурга зависимоть стоимость от этажа следующая: наибольшая средняя цена у квартир на других этажах (не первом и не последнем), наименьшая - на первом, в отличие от города в целом, где стоимость квартир на последнем и других этажах примерно одинакова и выше, чем на первом."
   ]
  },
  {
   "cell_type": "markdown",
   "metadata": {},
   "source": [
    "## Общий вывод"
   ]
  },
  {
   "cell_type": "markdown",
   "metadata": {},
   "source": [
    "В ходе исследования было проанализировано влияние различных факторов на стоимость квартир в Санкт-Петербурге (и его ближайших пригородах) в целом и отдельно в центре города (в радиусе 3 км от центра). Ниже представлены характерные особенности, которые удалось выявить.\n",
    "\n",
    "Среднее время продажи квартиры в Петербурге - 93 дня. Необычайно быстрыми можно считать продажи быстрее 44 дней, долгими - дольше 220 дней.\n",
    "\n",
    "Фактором, наиболее сильно влияющим на стоимость жилья в Петербурге является площадь квартиры: чем она больше, тем квартира дороже. При этом в центре города влияние площади на цену не столь велико, как в общем по городу.\n",
    "\n",
    "Количество комнат влияет на стоимость жилья, но корреляция не так очевидна, как с площадью: в целом минимальная стоимость повышается с увеличением количества комнат, но при этом максимальная стоимость может быть одинакова как у квартиры с 2мя комнатами, так и с 7ю. Высота потолка на цену практически не влияет.\n",
    "\n",
    "На стоимость квартиры также влияет и этаж: средняя стоимость на квартиры на первом этаже ниже, чем на последнем или других. В центре Петербурга зависимоть стоимости от этажа следующая: наибольшая средняя цена у квартир на других этажах (не первом и не последнем), ниже - на последнем, наименьшая - на первом.\n",
    "\n",
    "Стоимость квартир в Петербурге уменьшается с удалением от центра.\n",
    "\n",
    "На стоимость квартир также влияет временя публикации объявления о продаже. В стоимости квартир прослеживается некая сезонность: цены на квартиры, выставленные на продажу в фервале и сентябре максимальны, а в летние месяцы и в январе наблюдается спад. Распределение стоимости в зависимости от дня публикации выглядит примерно равномерным, однако днём с наибольшей средней ценой кажется четверг, а в субботу и воскресенье публикаций было значительно меньше, чем в другие дни недели.\n",
    "\n",
    "Средняя стоимость квартир в Петербурге менялась по годам (период наблюдения с 2014 по 2019): достигла пика в 2017, далее пошла на спад. При этом минимальная граница стоимости в 2019 была выше, чем в предыдущие годы.\n",
    "Пик продаж квартир в центре Петербурга пришёлся на 2017 год, однако, в отличие от динамики по городу в целом, их стоимость не менялась так кардинально.\n",
    "\n"
   ]
  },
  {
   "cell_type": "code",
   "execution_count": null,
   "metadata": {},
   "outputs": [],
   "source": []
  }
 ],
 "metadata": {
  "ExecuteTimeLog": [
   {
    "duration": 839,
    "start_time": "2022-02-04T17:16:47.179Z"
   },
   {
    "duration": 81,
    "start_time": "2022-02-04T17:16:59.553Z"
   },
   {
    "duration": 4687,
    "start_time": "2022-02-04T17:18:27.071Z"
   },
   {
    "duration": 5532,
    "start_time": "2022-02-04T17:19:58.103Z"
   },
   {
    "duration": 103,
    "start_time": "2022-02-04T17:20:11.048Z"
   },
   {
    "duration": 77,
    "start_time": "2022-02-04T17:20:22.917Z"
   },
   {
    "duration": 118,
    "start_time": "2022-02-04T17:20:52.790Z"
   },
   {
    "duration": 79,
    "start_time": "2022-02-04T17:24:48.790Z"
   },
   {
    "duration": 78,
    "start_time": "2022-02-04T17:25:02.046Z"
   },
   {
    "duration": 95,
    "start_time": "2022-02-04T17:27:32.202Z"
   },
   {
    "duration": 42,
    "start_time": "2022-02-04T18:39:08.691Z"
   },
   {
    "duration": 94,
    "start_time": "2022-02-04T18:40:31.785Z"
   },
   {
    "duration": 40,
    "start_time": "2022-02-04T18:40:37.991Z"
   },
   {
    "duration": 42,
    "start_time": "2022-02-04T18:41:48.685Z"
   },
   {
    "duration": 46,
    "start_time": "2022-02-04T19:16:49.625Z"
   },
   {
    "duration": 49,
    "start_time": "2022-02-04T19:24:50.248Z"
   },
   {
    "duration": 58,
    "start_time": "2022-02-04T19:28:47.926Z"
   },
   {
    "duration": 52,
    "start_time": "2022-02-04T19:29:27.908Z"
   },
   {
    "duration": 369,
    "start_time": "2022-02-04T19:32:11.122Z"
   },
   {
    "duration": 331,
    "start_time": "2022-02-04T19:32:35.406Z"
   },
   {
    "duration": 742,
    "start_time": "2022-02-04T19:33:22.144Z"
   },
   {
    "duration": 196,
    "start_time": "2022-02-04T19:34:11.760Z"
   },
   {
    "duration": 131,
    "start_time": "2022-02-04T19:35:58.842Z"
   },
   {
    "duration": 407,
    "start_time": "2022-02-04T19:54:54.722Z"
   },
   {
    "duration": 883,
    "start_time": "2022-02-04T19:55:38.421Z"
   },
   {
    "duration": 486,
    "start_time": "2022-02-04T19:55:51.535Z"
   },
   {
    "duration": 392,
    "start_time": "2022-02-04T19:59:23.483Z"
   },
   {
    "duration": 158,
    "start_time": "2022-02-04T19:59:33.534Z"
   },
   {
    "duration": 146,
    "start_time": "2022-02-04T20:06:39.880Z"
   },
   {
    "duration": 940,
    "start_time": "2022-02-04T20:08:25.205Z"
   },
   {
    "duration": 175,
    "start_time": "2022-02-04T20:08:26.148Z"
   },
   {
    "duration": 201,
    "start_time": "2022-02-04T20:19:07.583Z"
   },
   {
    "duration": 5,
    "start_time": "2022-02-04T20:24:50.329Z"
   },
   {
    "duration": 96,
    "start_time": "2022-02-04T20:35:19.459Z"
   },
   {
    "duration": 3198,
    "start_time": "2022-02-04T20:35:29.572Z"
   },
   {
    "duration": 310,
    "start_time": "2022-02-04T20:36:15.104Z"
   },
   {
    "duration": 853,
    "start_time": "2022-02-04T20:44:27.708Z"
   },
   {
    "duration": 979,
    "start_time": "2022-02-04T20:44:56.625Z"
   },
   {
    "duration": 978,
    "start_time": "2022-02-04T20:45:04.525Z"
   },
   {
    "duration": 2833,
    "start_time": "2022-02-04T20:53:46.791Z"
   },
   {
    "duration": 1982,
    "start_time": "2022-02-04T20:55:42.788Z"
   },
   {
    "duration": 1985,
    "start_time": "2022-02-04T21:07:15.258Z"
   },
   {
    "duration": 2922,
    "start_time": "2022-02-04T21:07:24.740Z"
   },
   {
    "duration": 2851,
    "start_time": "2022-02-04T21:08:40.697Z"
   },
   {
    "duration": 2319,
    "start_time": "2022-02-04T21:08:48.925Z"
   },
   {
    "duration": 2897,
    "start_time": "2022-02-04T21:10:23.142Z"
   },
   {
    "duration": 11,
    "start_time": "2022-02-04T21:12:39.014Z"
   },
   {
    "duration": 2088,
    "start_time": "2022-02-04T21:17:34.627Z"
   },
   {
    "duration": 4328,
    "start_time": "2022-02-04T21:17:47.955Z"
   },
   {
    "duration": 6234,
    "start_time": "2022-02-04T21:19:28.495Z"
   },
   {
    "duration": 2821,
    "start_time": "2022-02-04T21:20:53.762Z"
   },
   {
    "duration": 307,
    "start_time": "2022-02-04T21:21:53.279Z"
   },
   {
    "duration": 892,
    "start_time": "2022-02-04T21:22:36.423Z"
   },
   {
    "duration": 144,
    "start_time": "2022-02-04T21:22:37.318Z"
   },
   {
    "duration": 393,
    "start_time": "2022-02-04T21:22:55.381Z"
   },
   {
    "duration": 867,
    "start_time": "2022-02-04T21:23:29.964Z"
   },
   {
    "duration": 133,
    "start_time": "2022-02-04T21:23:32.100Z"
   },
   {
    "duration": 366,
    "start_time": "2022-02-04T21:24:06.166Z"
   },
   {
    "duration": 289,
    "start_time": "2022-02-04T21:24:24.700Z"
   },
   {
    "duration": 15,
    "start_time": "2022-02-04T21:24:29.648Z"
   },
   {
    "duration": 3039,
    "start_time": "2022-02-04T21:25:41.233Z"
   },
   {
    "duration": 16,
    "start_time": "2022-02-04T21:25:52.981Z"
   },
   {
    "duration": 13,
    "start_time": "2022-02-04T21:26:28.141Z"
   },
   {
    "duration": 943,
    "start_time": "2022-02-04T21:26:59.733Z"
   },
   {
    "duration": 175,
    "start_time": "2022-02-04T21:27:01.579Z"
   },
   {
    "duration": 22,
    "start_time": "2022-02-04T21:27:03.667Z"
   },
   {
    "duration": 3255,
    "start_time": "2022-02-04T21:27:16.790Z"
   },
   {
    "duration": 319,
    "start_time": "2022-02-04T21:29:07.010Z"
   },
   {
    "duration": 136,
    "start_time": "2022-02-04T21:29:33.042Z"
   },
   {
    "duration": 2768,
    "start_time": "2022-02-04T21:29:40.556Z"
   },
   {
    "duration": 156,
    "start_time": "2022-02-04T21:29:56.988Z"
   },
   {
    "duration": 133,
    "start_time": "2022-02-04T21:30:10.792Z"
   },
   {
    "duration": 14,
    "start_time": "2022-02-04T21:30:12.417Z"
   },
   {
    "duration": 5191,
    "start_time": "2022-02-04T21:31:09.033Z"
   },
   {
    "duration": 988,
    "start_time": "2022-02-04T21:36:06.556Z"
   },
   {
    "duration": 281,
    "start_time": "2022-02-05T18:30:09.870Z"
   },
   {
    "duration": 1148,
    "start_time": "2022-02-05T18:30:25.929Z"
   },
   {
    "duration": 123,
    "start_time": "2022-02-05T18:30:27.080Z"
   },
   {
    "duration": 13,
    "start_time": "2022-02-05T18:30:27.206Z"
   },
   {
    "duration": 719,
    "start_time": "2022-02-05T18:30:27.222Z"
   },
   {
    "duration": 758,
    "start_time": "2022-02-05T18:37:14.946Z"
   },
   {
    "duration": 279,
    "start_time": "2022-02-05T20:33:15.849Z"
   },
   {
    "duration": 6112,
    "start_time": "2022-02-05T20:33:41.438Z"
   },
   {
    "duration": 4750,
    "start_time": "2022-02-05T20:46:59.431Z"
   },
   {
    "duration": 4746,
    "start_time": "2022-02-05T20:47:17.437Z"
   },
   {
    "duration": 5003,
    "start_time": "2022-02-05T20:50:12.298Z"
   },
   {
    "duration": 5425,
    "start_time": "2022-02-05T21:20:00.074Z"
   },
   {
    "duration": 728,
    "start_time": "2022-02-05T21:20:27.702Z"
   },
   {
    "duration": 112,
    "start_time": "2022-02-05T21:20:28.432Z"
   },
   {
    "duration": 13,
    "start_time": "2022-02-05T21:20:28.547Z"
   },
   {
    "duration": 657,
    "start_time": "2022-02-05T21:20:28.562Z"
   },
   {
    "duration": 5066,
    "start_time": "2022-02-05T21:20:29.221Z"
   },
   {
    "duration": 5039,
    "start_time": "2022-02-05T21:20:43.282Z"
   },
   {
    "duration": 282,
    "start_time": "2022-02-05T21:21:05.877Z"
   },
   {
    "duration": 4906,
    "start_time": "2022-02-05T21:21:29.854Z"
   },
   {
    "duration": 197,
    "start_time": "2022-02-05T21:21:37.230Z"
   },
   {
    "duration": 192,
    "start_time": "2022-02-05T21:22:06.046Z"
   },
   {
    "duration": 198,
    "start_time": "2022-02-05T21:22:12.156Z"
   },
   {
    "duration": 196,
    "start_time": "2022-02-05T21:22:20.332Z"
   },
   {
    "duration": 324,
    "start_time": "2022-02-05T21:23:45.924Z"
   },
   {
    "duration": 369,
    "start_time": "2022-02-06T15:23:55.903Z"
   },
   {
    "duration": 880,
    "start_time": "2022-02-06T15:24:08.171Z"
   },
   {
    "duration": 145,
    "start_time": "2022-02-06T15:24:09.054Z"
   },
   {
    "duration": 15,
    "start_time": "2022-02-06T15:24:09.203Z"
   },
   {
    "duration": 1104,
    "start_time": "2022-02-06T15:24:09.233Z"
   },
   {
    "duration": 8185,
    "start_time": "2022-02-06T15:24:10.339Z"
   },
   {
    "duration": 362,
    "start_time": "2022-02-06T15:24:18.526Z"
   },
   {
    "duration": 388,
    "start_time": "2022-02-06T15:24:18.890Z"
   },
   {
    "duration": 89,
    "start_time": "2022-02-06T15:24:39.577Z"
   },
   {
    "duration": 252,
    "start_time": "2022-02-06T15:25:00.685Z"
   },
   {
    "duration": 8303,
    "start_time": "2022-02-06T15:31:53.315Z"
   },
   {
    "duration": 13,
    "start_time": "2022-02-06T15:35:09.456Z"
   },
   {
    "duration": 252,
    "start_time": "2022-02-06T15:35:25.463Z"
   },
   {
    "duration": 249,
    "start_time": "2022-02-06T15:37:26.671Z"
   },
   {
    "duration": 899,
    "start_time": "2022-02-06T15:37:49.242Z"
   },
   {
    "duration": 140,
    "start_time": "2022-02-06T15:37:50.144Z"
   },
   {
    "duration": 14,
    "start_time": "2022-02-06T15:37:50.288Z"
   },
   {
    "duration": 1026,
    "start_time": "2022-02-06T15:37:50.305Z"
   },
   {
    "duration": 7605,
    "start_time": "2022-02-06T15:37:51.333Z"
   },
   {
    "duration": 322,
    "start_time": "2022-02-06T15:37:58.940Z"
   },
   {
    "duration": 245,
    "start_time": "2022-02-06T15:37:59.265Z"
   },
   {
    "duration": 261,
    "start_time": "2022-02-06T15:37:59.515Z"
   },
   {
    "duration": 216,
    "start_time": "2022-02-06T15:38:16.577Z"
   },
   {
    "duration": 499,
    "start_time": "2022-02-06T16:16:35.052Z"
   },
   {
    "duration": 479,
    "start_time": "2022-02-06T16:17:08.127Z"
   },
   {
    "duration": 476,
    "start_time": "2022-02-06T16:17:27.500Z"
   },
   {
    "duration": 661,
    "start_time": "2022-02-06T16:19:12.081Z"
   },
   {
    "duration": 665,
    "start_time": "2022-02-06T16:22:02.507Z"
   },
   {
    "duration": 691,
    "start_time": "2022-02-06T16:23:07.082Z"
   },
   {
    "duration": 1015,
    "start_time": "2022-02-06T16:24:41.934Z"
   },
   {
    "duration": 1347,
    "start_time": "2022-02-06T16:25:04.089Z"
   },
   {
    "duration": 1374,
    "start_time": "2022-02-06T16:25:45.469Z"
   },
   {
    "duration": 108,
    "start_time": "2022-02-06T16:29:38.017Z"
   },
   {
    "duration": 983,
    "start_time": "2022-02-06T16:29:45.879Z"
   },
   {
    "duration": 911,
    "start_time": "2022-02-06T16:30:00.802Z"
   },
   {
    "duration": 149,
    "start_time": "2022-02-06T16:30:01.716Z"
   },
   {
    "duration": 15,
    "start_time": "2022-02-06T16:30:01.868Z"
   },
   {
    "duration": 1063,
    "start_time": "2022-02-06T16:30:01.886Z"
   },
   {
    "duration": 7791,
    "start_time": "2022-02-06T16:30:02.952Z"
   },
   {
    "duration": 319,
    "start_time": "2022-02-06T16:30:10.746Z"
   },
   {
    "duration": 244,
    "start_time": "2022-02-06T16:30:11.067Z"
   },
   {
    "duration": 230,
    "start_time": "2022-02-06T16:30:11.314Z"
   },
   {
    "duration": 415,
    "start_time": "2022-02-06T16:30:11.547Z"
   },
   {
    "duration": 693,
    "start_time": "2022-02-06T16:30:11.965Z"
   },
   {
    "duration": 782,
    "start_time": "2022-02-06T16:30:12.660Z"
   },
   {
    "duration": 665,
    "start_time": "2022-02-06T16:30:13.445Z"
   },
   {
    "duration": 622,
    "start_time": "2022-02-06T16:30:14.113Z"
   },
   {
    "duration": 681,
    "start_time": "2022-02-06T16:30:14.738Z"
   },
   {
    "duration": 639,
    "start_time": "2022-02-06T16:30:55.795Z"
   },
   {
    "duration": 781,
    "start_time": "2022-02-06T16:32:35.455Z"
   },
   {
    "duration": 694,
    "start_time": "2022-02-06T16:33:59.185Z"
   },
   {
    "duration": 101,
    "start_time": "2022-02-06T16:34:45.252Z"
   },
   {
    "duration": 633,
    "start_time": "2022-02-06T16:34:51.879Z"
   },
   {
    "duration": 667,
    "start_time": "2022-02-06T16:34:57.901Z"
   },
   {
    "duration": 202,
    "start_time": "2022-02-06T16:39:27.526Z"
   },
   {
    "duration": 669,
    "start_time": "2022-02-06T16:40:40.615Z"
   },
   {
    "duration": 682,
    "start_time": "2022-02-06T16:41:35.132Z"
   },
   {
    "duration": 758,
    "start_time": "2022-02-06T16:42:29.929Z"
   },
   {
    "duration": 657,
    "start_time": "2022-02-06T16:43:34.191Z"
   },
   {
    "duration": 657,
    "start_time": "2022-02-06T16:53:33.140Z"
   },
   {
    "duration": 732,
    "start_time": "2022-02-06T17:09:05.310Z"
   },
   {
    "duration": 658,
    "start_time": "2022-02-06T17:09:43.925Z"
   },
   {
    "duration": 900,
    "start_time": "2022-02-06T17:10:07.473Z"
   },
   {
    "duration": 968,
    "start_time": "2022-02-06T17:10:27.610Z"
   },
   {
    "duration": 197,
    "start_time": "2022-02-06T17:10:28.581Z"
   },
   {
    "duration": 24,
    "start_time": "2022-02-06T17:10:28.783Z"
   },
   {
    "duration": 1098,
    "start_time": "2022-02-06T17:10:28.810Z"
   },
   {
    "duration": 7850,
    "start_time": "2022-02-06T17:10:29.911Z"
   },
   {
    "duration": 379,
    "start_time": "2022-02-06T17:10:37.764Z"
   },
   {
    "duration": 360,
    "start_time": "2022-02-06T17:10:38.147Z"
   },
   {
    "duration": 364,
    "start_time": "2022-02-06T17:10:38.512Z"
   },
   {
    "duration": 1017,
    "start_time": "2022-02-06T17:10:38.879Z"
   },
   {
    "duration": 686,
    "start_time": "2022-02-06T17:10:39.899Z"
   },
   {
    "duration": 764,
    "start_time": "2022-02-06T17:10:40.587Z"
   },
   {
    "duration": 695,
    "start_time": "2022-02-06T17:10:41.354Z"
   },
   {
    "duration": 863,
    "start_time": "2022-02-06T17:10:42.052Z"
   },
   {
    "duration": 693,
    "start_time": "2022-02-06T17:10:42.918Z"
   },
   {
    "duration": 690,
    "start_time": "2022-02-06T17:11:35.477Z"
   },
   {
    "duration": 694,
    "start_time": "2022-02-06T17:11:57.983Z"
   },
   {
    "duration": 923,
    "start_time": "2022-02-06T17:12:51.424Z"
   },
   {
    "duration": 100,
    "start_time": "2022-02-06T17:22:28.621Z"
   },
   {
    "duration": 92,
    "start_time": "2022-02-06T17:22:33.218Z"
   },
   {
    "duration": 568,
    "start_time": "2022-02-06T17:22:48.516Z"
   },
   {
    "duration": 211,
    "start_time": "2022-02-06T17:23:17.074Z"
   },
   {
    "duration": 216,
    "start_time": "2022-02-06T17:23:47.502Z"
   },
   {
    "duration": 216,
    "start_time": "2022-02-06T17:24:17.344Z"
   },
   {
    "duration": 319,
    "start_time": "2022-02-06T17:24:19.245Z"
   },
   {
    "duration": 282,
    "start_time": "2022-02-06T17:24:21.456Z"
   },
   {
    "duration": 1151,
    "start_time": "2022-02-06T17:26:32.707Z"
   },
   {
    "duration": 1031,
    "start_time": "2022-02-06T17:26:48.724Z"
   },
   {
    "duration": 878,
    "start_time": "2022-02-06T17:27:05.545Z"
   },
   {
    "duration": 142,
    "start_time": "2022-02-06T17:27:06.426Z"
   },
   {
    "duration": 16,
    "start_time": "2022-02-06T17:27:06.575Z"
   },
   {
    "duration": 1043,
    "start_time": "2022-02-06T17:27:06.593Z"
   },
   {
    "duration": 7858,
    "start_time": "2022-02-06T17:27:07.639Z"
   },
   {
    "duration": 332,
    "start_time": "2022-02-06T17:27:15.500Z"
   },
   {
    "duration": 267,
    "start_time": "2022-02-06T17:27:15.836Z"
   },
   {
    "duration": 229,
    "start_time": "2022-02-06T17:27:16.106Z"
   },
   {
    "duration": 698,
    "start_time": "2022-02-06T17:27:16.337Z"
   },
   {
    "duration": 637,
    "start_time": "2022-02-06T17:27:17.037Z"
   },
   {
    "duration": 745,
    "start_time": "2022-02-06T17:27:17.677Z"
   },
   {
    "duration": 677,
    "start_time": "2022-02-06T17:27:18.425Z"
   },
   {
    "duration": 668,
    "start_time": "2022-02-06T17:27:19.104Z"
   },
   {
    "duration": 690,
    "start_time": "2022-02-06T17:27:19.774Z"
   },
   {
    "duration": 233,
    "start_time": "2022-02-06T17:27:20.466Z"
   },
   {
    "duration": 242,
    "start_time": "2022-02-06T17:27:20.702Z"
   },
   {
    "duration": 244,
    "start_time": "2022-02-06T17:27:20.946Z"
   },
   {
    "duration": 26,
    "start_time": "2022-02-06T17:43:57.538Z"
   },
   {
    "duration": 83,
    "start_time": "2022-02-06T17:46:21.945Z"
   },
   {
    "duration": 12,
    "start_time": "2022-02-06T17:46:26.237Z"
   },
   {
    "duration": 852,
    "start_time": "2022-02-06T17:46:57.463Z"
   },
   {
    "duration": 148,
    "start_time": "2022-02-06T17:46:58.318Z"
   },
   {
    "duration": 21,
    "start_time": "2022-02-06T17:46:58.469Z"
   },
   {
    "duration": 1076,
    "start_time": "2022-02-06T17:46:58.493Z"
   },
   {
    "duration": 8197,
    "start_time": "2022-02-06T17:46:59.572Z"
   },
   {
    "duration": 334,
    "start_time": "2022-02-06T17:47:07.772Z"
   },
   {
    "duration": 264,
    "start_time": "2022-02-06T17:47:08.109Z"
   },
   {
    "duration": 17,
    "start_time": "2022-02-06T17:47:08.376Z"
   },
   {
    "duration": 689,
    "start_time": "2022-02-06T17:47:08.399Z"
   },
   {
    "duration": 675,
    "start_time": "2022-02-06T17:47:09.092Z"
   },
   {
    "duration": 665,
    "start_time": "2022-02-06T17:47:09.770Z"
   },
   {
    "duration": 729,
    "start_time": "2022-02-06T17:47:10.437Z"
   },
   {
    "duration": 694,
    "start_time": "2022-02-06T17:47:11.169Z"
   },
   {
    "duration": 726,
    "start_time": "2022-02-06T17:47:11.865Z"
   },
   {
    "duration": 247,
    "start_time": "2022-02-06T17:47:12.594Z"
   },
   {
    "duration": 281,
    "start_time": "2022-02-06T17:47:12.843Z"
   },
   {
    "duration": 242,
    "start_time": "2022-02-06T17:47:13.127Z"
   },
   {
    "duration": 14,
    "start_time": "2022-02-06T17:48:18.534Z"
   },
   {
    "duration": 1095,
    "start_time": "2022-02-06T17:48:59.042Z"
   },
   {
    "duration": 1129,
    "start_time": "2022-02-06T17:49:11.767Z"
   },
   {
    "duration": 8485,
    "start_time": "2022-02-06T17:49:51.628Z"
   },
   {
    "duration": 14,
    "start_time": "2022-02-06T17:50:13.265Z"
   },
   {
    "duration": 7217,
    "start_time": "2022-02-06T17:50:20.270Z"
   },
   {
    "duration": 871,
    "start_time": "2022-02-06T17:50:53.348Z"
   },
   {
    "duration": 158,
    "start_time": "2022-02-06T17:50:54.222Z"
   },
   {
    "duration": 19,
    "start_time": "2022-02-06T17:50:54.383Z"
   },
   {
    "duration": 1115,
    "start_time": "2022-02-06T17:50:54.405Z"
   },
   {
    "duration": 8322,
    "start_time": "2022-02-06T17:50:55.523Z"
   },
   {
    "duration": 358,
    "start_time": "2022-02-06T17:51:03.848Z"
   },
   {
    "duration": 288,
    "start_time": "2022-02-06T17:51:04.209Z"
   },
   {
    "duration": 16,
    "start_time": "2022-02-06T17:51:04.501Z"
   },
   {
    "duration": 7850,
    "start_time": "2022-02-06T17:51:04.533Z"
   },
   {
    "duration": 1418,
    "start_time": "2022-02-06T17:51:10.968Z"
   },
   {
    "duration": 1419,
    "start_time": "2022-02-06T17:51:10.969Z"
   },
   {
    "duration": 1415,
    "start_time": "2022-02-06T17:51:10.975Z"
   },
   {
    "duration": 1415,
    "start_time": "2022-02-06T17:51:10.977Z"
   },
   {
    "duration": 1415,
    "start_time": "2022-02-06T17:51:10.979Z"
   },
   {
    "duration": 1409,
    "start_time": "2022-02-06T17:51:10.987Z"
   },
   {
    "duration": 1408,
    "start_time": "2022-02-06T17:51:10.990Z"
   },
   {
    "duration": 1407,
    "start_time": "2022-02-06T17:51:10.992Z"
   },
   {
    "duration": 676,
    "start_time": "2022-02-06T17:51:28.672Z"
   },
   {
    "duration": 1182,
    "start_time": "2022-02-06T17:52:29.910Z"
   },
   {
    "duration": 1050,
    "start_time": "2022-02-06T17:52:47.040Z"
   },
   {
    "duration": 1148,
    "start_time": "2022-02-06T17:52:56.999Z"
   },
   {
    "duration": 27,
    "start_time": "2022-02-06T17:53:56.553Z"
   },
   {
    "duration": 715,
    "start_time": "2022-02-06T17:53:59.634Z"
   },
   {
    "duration": 17,
    "start_time": "2022-02-06T17:54:49.355Z"
   },
   {
    "duration": 722,
    "start_time": "2022-02-06T17:54:50.673Z"
   },
   {
    "duration": 640,
    "start_time": "2022-02-06T17:55:56.802Z"
   },
   {
    "duration": 657,
    "start_time": "2022-02-06T17:55:59.171Z"
   },
   {
    "duration": 707,
    "start_time": "2022-02-06T17:56:01.054Z"
   },
   {
    "duration": 645,
    "start_time": "2022-02-06T17:56:02.925Z"
   },
   {
    "duration": 645,
    "start_time": "2022-02-06T17:56:04.496Z"
   },
   {
    "duration": 221,
    "start_time": "2022-02-06T17:56:06.002Z"
   },
   {
    "duration": 215,
    "start_time": "2022-02-06T17:56:08.335Z"
   },
   {
    "duration": 311,
    "start_time": "2022-02-06T17:56:11.550Z"
   },
   {
    "duration": 268,
    "start_time": "2022-02-06T17:58:55.874Z"
   },
   {
    "duration": 15,
    "start_time": "2022-02-06T17:59:02.256Z"
   },
   {
    "duration": 14,
    "start_time": "2022-02-06T17:59:17.552Z"
   },
   {
    "duration": 14,
    "start_time": "2022-02-06T17:59:47.638Z"
   },
   {
    "duration": 21,
    "start_time": "2022-02-06T18:02:38.263Z"
   },
   {
    "duration": 15,
    "start_time": "2022-02-06T18:12:27.374Z"
   },
   {
    "duration": 1565,
    "start_time": "2022-02-06T18:29:47.202Z"
   },
   {
    "duration": 15,
    "start_time": "2022-02-06T18:33:14.718Z"
   },
   {
    "duration": 24,
    "start_time": "2022-02-06T18:33:39.396Z"
   },
   {
    "duration": 304,
    "start_time": "2022-02-06T18:34:15.412Z"
   },
   {
    "duration": 30,
    "start_time": "2022-02-06T18:34:23.580Z"
   },
   {
    "duration": 23,
    "start_time": "2022-02-06T18:34:39.051Z"
   },
   {
    "duration": 22,
    "start_time": "2022-02-06T18:34:48.700Z"
   },
   {
    "duration": 919,
    "start_time": "2022-02-06T18:37:31.001Z"
   },
   {
    "duration": 139,
    "start_time": "2022-02-06T18:37:31.923Z"
   },
   {
    "duration": 15,
    "start_time": "2022-02-06T18:37:32.065Z"
   },
   {
    "duration": 1103,
    "start_time": "2022-02-06T18:37:32.082Z"
   },
   {
    "duration": 7827,
    "start_time": "2022-02-06T18:37:33.187Z"
   },
   {
    "duration": 341,
    "start_time": "2022-02-06T18:37:41.017Z"
   },
   {
    "duration": 255,
    "start_time": "2022-02-06T18:37:41.360Z"
   },
   {
    "duration": 31,
    "start_time": "2022-02-06T18:37:41.617Z"
   },
   {
    "duration": 836,
    "start_time": "2022-02-06T18:37:41.652Z"
   },
   {
    "duration": 686,
    "start_time": "2022-02-06T18:37:42.492Z"
   },
   {
    "duration": 639,
    "start_time": "2022-02-06T18:37:43.180Z"
   },
   {
    "duration": 740,
    "start_time": "2022-02-06T18:37:43.821Z"
   },
   {
    "duration": 681,
    "start_time": "2022-02-06T18:37:44.563Z"
   },
   {
    "duration": 702,
    "start_time": "2022-02-06T18:37:45.247Z"
   },
   {
    "duration": 227,
    "start_time": "2022-02-06T18:37:45.952Z"
   },
   {
    "duration": 240,
    "start_time": "2022-02-06T18:37:46.182Z"
   },
   {
    "duration": 265,
    "start_time": "2022-02-06T18:37:46.424Z"
   },
   {
    "duration": 9,
    "start_time": "2022-02-06T18:37:46.692Z"
   },
   {
    "duration": 43,
    "start_time": "2022-02-06T18:37:46.704Z"
   },
   {
    "duration": 21,
    "start_time": "2022-02-06T18:38:03.984Z"
   },
   {
    "duration": 477,
    "start_time": "2022-02-06T18:40:52.194Z"
   },
   {
    "duration": 90,
    "start_time": "2022-02-06T18:41:23.991Z"
   },
   {
    "duration": 297,
    "start_time": "2022-02-06T18:41:39.828Z"
   },
   {
    "duration": 270,
    "start_time": "2022-02-06T18:42:06.290Z"
   },
   {
    "duration": 297,
    "start_time": "2022-02-06T18:42:18.900Z"
   },
   {
    "duration": 346,
    "start_time": "2022-02-06T18:44:30.345Z"
   },
   {
    "duration": 332,
    "start_time": "2022-02-06T18:44:42.794Z"
   },
   {
    "duration": 316,
    "start_time": "2022-02-06T18:44:52.845Z"
   },
   {
    "duration": 323,
    "start_time": "2022-02-06T18:45:21.110Z"
   },
   {
    "duration": 285,
    "start_time": "2022-02-06T18:45:34.049Z"
   },
   {
    "duration": 322,
    "start_time": "2022-02-06T18:45:57.015Z"
   },
   {
    "duration": 276,
    "start_time": "2022-02-06T18:46:17.005Z"
   },
   {
    "duration": 102,
    "start_time": "2022-02-06T18:47:19.304Z"
   },
   {
    "duration": 31,
    "start_time": "2022-02-06T18:47:28.309Z"
   },
   {
    "duration": 31,
    "start_time": "2022-02-06T18:48:21.785Z"
   },
   {
    "duration": 29,
    "start_time": "2022-02-06T18:48:48.639Z"
   },
   {
    "duration": 28,
    "start_time": "2022-02-06T18:48:56.894Z"
   },
   {
    "duration": 28,
    "start_time": "2022-02-06T18:49:23.149Z"
   },
   {
    "duration": 303,
    "start_time": "2022-02-06T18:50:07.639Z"
   },
   {
    "duration": 28,
    "start_time": "2022-02-06T18:50:35.261Z"
   },
   {
    "duration": 39,
    "start_time": "2022-02-06T18:51:59.328Z"
   },
   {
    "duration": 28,
    "start_time": "2022-02-06T18:52:53.611Z"
   },
   {
    "duration": 406,
    "start_time": "2022-02-06T18:53:24.838Z"
   },
   {
    "duration": 28,
    "start_time": "2022-02-06T18:53:35.868Z"
   },
   {
    "duration": 33,
    "start_time": "2022-02-06T18:53:52.752Z"
   },
   {
    "duration": 425,
    "start_time": "2022-02-06T18:57:04.925Z"
   },
   {
    "duration": 7,
    "start_time": "2022-02-06T18:57:10.678Z"
   },
   {
    "duration": 244,
    "start_time": "2022-02-06T18:57:13.855Z"
   },
   {
    "duration": 11,
    "start_time": "2022-02-06T18:57:59.898Z"
   },
   {
    "duration": 247,
    "start_time": "2022-02-06T18:58:28.708Z"
   },
   {
    "duration": 303,
    "start_time": "2022-02-06T19:00:03.608Z"
   },
   {
    "duration": 23,
    "start_time": "2022-02-06T19:00:18.505Z"
   },
   {
    "duration": 67,
    "start_time": "2022-02-06T19:00:54.714Z"
   },
   {
    "duration": 7660,
    "start_time": "2022-02-06T19:01:47.724Z"
   },
   {
    "duration": 293,
    "start_time": "2022-02-06T19:02:11.770Z"
   },
   {
    "duration": 298,
    "start_time": "2022-02-06T19:02:23.379Z"
   },
   {
    "duration": 10,
    "start_time": "2022-02-06T19:02:30.386Z"
   },
   {
    "duration": 9282,
    "start_time": "2022-02-06T19:03:18.389Z"
   },
   {
    "duration": 11,
    "start_time": "2022-02-06T19:04:12.894Z"
   },
   {
    "duration": 281,
    "start_time": "2022-02-06T19:05:10.762Z"
   },
   {
    "duration": 276,
    "start_time": "2022-02-06T19:05:20.873Z"
   },
   {
    "duration": 18,
    "start_time": "2022-02-06T19:05:30.498Z"
   },
   {
    "duration": 28,
    "start_time": "2022-02-06T19:05:54.351Z"
   },
   {
    "duration": 340,
    "start_time": "2022-02-06T19:08:06.524Z"
   },
   {
    "duration": 27,
    "start_time": "2022-02-06T19:08:29.253Z"
   },
   {
    "duration": 361,
    "start_time": "2022-02-06T20:02:20.339Z"
   },
   {
    "duration": 14,
    "start_time": "2022-02-06T20:03:29.248Z"
   },
   {
    "duration": 57,
    "start_time": "2022-02-06T20:03:40.711Z"
   },
   {
    "duration": 902,
    "start_time": "2022-02-06T20:04:24.834Z"
   },
   {
    "duration": 148,
    "start_time": "2022-02-06T20:04:25.738Z"
   },
   {
    "duration": 15,
    "start_time": "2022-02-06T20:04:25.890Z"
   },
   {
    "duration": 1040,
    "start_time": "2022-02-06T20:04:25.907Z"
   },
   {
    "duration": 7739,
    "start_time": "2022-02-06T20:04:26.950Z"
   },
   {
    "duration": 325,
    "start_time": "2022-02-06T20:04:34.691Z"
   },
   {
    "duration": 255,
    "start_time": "2022-02-06T20:04:35.018Z"
   },
   {
    "duration": 23,
    "start_time": "2022-02-06T20:04:35.276Z"
   },
   {
    "duration": 634,
    "start_time": "2022-02-06T20:04:35.301Z"
   },
   {
    "duration": 647,
    "start_time": "2022-02-06T20:04:35.938Z"
   },
   {
    "duration": 427,
    "start_time": "2022-02-06T20:04:36.587Z"
   },
   {
    "duration": -70,
    "start_time": "2022-02-06T20:04:37.087Z"
   },
   {
    "duration": -71,
    "start_time": "2022-02-06T20:04:37.089Z"
   },
   {
    "duration": -71,
    "start_time": "2022-02-06T20:04:37.091Z"
   },
   {
    "duration": -71,
    "start_time": "2022-02-06T20:04:37.092Z"
   },
   {
    "duration": -71,
    "start_time": "2022-02-06T20:04:37.094Z"
   },
   {
    "duration": -71,
    "start_time": "2022-02-06T20:04:37.095Z"
   },
   {
    "duration": -71,
    "start_time": "2022-02-06T20:04:37.097Z"
   },
   {
    "duration": -70,
    "start_time": "2022-02-06T20:04:37.098Z"
   },
   {
    "duration": -71,
    "start_time": "2022-02-06T20:04:37.100Z"
   },
   {
    "duration": 891,
    "start_time": "2022-02-06T20:06:24.428Z"
   },
   {
    "duration": 143,
    "start_time": "2022-02-06T20:06:25.323Z"
   },
   {
    "duration": 15,
    "start_time": "2022-02-06T20:06:25.469Z"
   },
   {
    "duration": 1050,
    "start_time": "2022-02-06T20:06:25.487Z"
   },
   {
    "duration": 7682,
    "start_time": "2022-02-06T20:06:26.539Z"
   },
   {
    "duration": 323,
    "start_time": "2022-02-06T20:06:34.223Z"
   },
   {
    "duration": 257,
    "start_time": "2022-02-06T20:06:34.550Z"
   },
   {
    "duration": 31,
    "start_time": "2022-02-06T20:06:34.813Z"
   },
   {
    "duration": 687,
    "start_time": "2022-02-06T20:06:34.848Z"
   },
   {
    "duration": 688,
    "start_time": "2022-02-06T20:06:35.539Z"
   },
   {
    "duration": 645,
    "start_time": "2022-02-06T20:06:36.233Z"
   },
   {
    "duration": 741,
    "start_time": "2022-02-06T20:06:36.880Z"
   },
   {
    "duration": 661,
    "start_time": "2022-02-06T20:06:37.624Z"
   },
   {
    "duration": 648,
    "start_time": "2022-02-06T20:06:38.287Z"
   },
   {
    "duration": 224,
    "start_time": "2022-02-06T20:06:38.937Z"
   },
   {
    "duration": 235,
    "start_time": "2022-02-06T20:06:39.164Z"
   },
   {
    "duration": 231,
    "start_time": "2022-02-06T20:06:39.401Z"
   },
   {
    "duration": 10,
    "start_time": "2022-02-06T20:06:39.634Z"
   },
   {
    "duration": 24,
    "start_time": "2022-02-06T20:06:39.646Z"
   },
   {
    "duration": 83,
    "start_time": "2022-02-06T20:06:39.672Z"
   },
   {
    "duration": 57,
    "start_time": "2022-02-06T20:08:19.154Z"
   },
   {
    "duration": 11,
    "start_time": "2022-02-06T20:08:39.602Z"
   },
   {
    "duration": 25,
    "start_time": "2022-02-06T20:08:50.716Z"
   },
   {
    "duration": 24,
    "start_time": "2022-02-06T20:09:00.927Z"
   },
   {
    "duration": 25,
    "start_time": "2022-02-06T20:09:20.485Z"
   },
   {
    "duration": 375,
    "start_time": "2022-02-06T20:20:27.892Z"
   },
   {
    "duration": 433,
    "start_time": "2022-02-06T20:21:46.623Z"
   },
   {
    "duration": 393,
    "start_time": "2022-02-06T20:22:33.387Z"
   },
   {
    "duration": 10,
    "start_time": "2022-02-06T20:32:05.085Z"
   },
   {
    "duration": 57,
    "start_time": "2022-02-06T20:32:15.702Z"
   },
   {
    "duration": 138,
    "start_time": "2022-02-06T20:42:35.528Z"
   },
   {
    "duration": 142,
    "start_time": "2022-02-06T20:42:35.669Z"
   },
   {
    "duration": 26,
    "start_time": "2022-02-06T20:42:35.815Z"
   },
   {
    "duration": 1121,
    "start_time": "2022-02-06T20:42:35.844Z"
   },
   {
    "duration": 7684,
    "start_time": "2022-02-06T20:42:36.968Z"
   },
   {
    "duration": 324,
    "start_time": "2022-02-06T20:42:44.656Z"
   },
   {
    "duration": 257,
    "start_time": "2022-02-06T20:42:44.982Z"
   },
   {
    "duration": 19,
    "start_time": "2022-02-06T20:42:45.242Z"
   },
   {
    "duration": 668,
    "start_time": "2022-02-06T20:42:45.265Z"
   },
   {
    "duration": 710,
    "start_time": "2022-02-06T20:42:45.937Z"
   },
   {
    "duration": 786,
    "start_time": "2022-02-06T20:42:46.649Z"
   },
   {
    "duration": 670,
    "start_time": "2022-02-06T20:42:47.437Z"
   },
   {
    "duration": 642,
    "start_time": "2022-02-06T20:42:48.109Z"
   },
   {
    "duration": 698,
    "start_time": "2022-02-06T20:42:48.753Z"
   },
   {
    "duration": 232,
    "start_time": "2022-02-06T20:42:49.453Z"
   },
   {
    "duration": 222,
    "start_time": "2022-02-06T20:42:49.688Z"
   },
   {
    "duration": 227,
    "start_time": "2022-02-06T20:42:49.912Z"
   },
   {
    "duration": 12,
    "start_time": "2022-02-06T20:42:50.141Z"
   },
   {
    "duration": 28,
    "start_time": "2022-02-06T20:42:50.155Z"
   },
   {
    "duration": 422,
    "start_time": "2022-02-06T20:42:50.186Z"
   },
   {
    "duration": 73,
    "start_time": "2022-02-06T20:42:50.611Z"
   },
   {
    "duration": 2425,
    "start_time": "2022-02-06T20:47:29.411Z"
   },
   {
    "duration": 414,
    "start_time": "2022-02-06T21:00:45.150Z"
   },
   {
    "duration": 477,
    "start_time": "2022-02-06T21:00:53.590Z"
   },
   {
    "duration": 420,
    "start_time": "2022-02-06T21:01:03.877Z"
   },
   {
    "duration": 451,
    "start_time": "2022-02-06T21:01:35.905Z"
   },
   {
    "duration": 389,
    "start_time": "2022-02-06T21:01:49.647Z"
   },
   {
    "duration": 406,
    "start_time": "2022-02-06T21:02:04.580Z"
   },
   {
    "duration": 223,
    "start_time": "2022-02-06T21:02:12.917Z"
   },
   {
    "duration": 231,
    "start_time": "2022-02-06T21:02:22.209Z"
   },
   {
    "duration": 218,
    "start_time": "2022-02-06T21:02:29.869Z"
   },
   {
    "duration": 914,
    "start_time": "2022-02-06T21:04:28.418Z"
   },
   {
    "duration": 142,
    "start_time": "2022-02-06T21:04:29.335Z"
   },
   {
    "duration": 16,
    "start_time": "2022-02-06T21:04:29.481Z"
   },
   {
    "duration": 1065,
    "start_time": "2022-02-06T21:04:29.501Z"
   },
   {
    "duration": 8234,
    "start_time": "2022-02-06T21:04:30.569Z"
   },
   {
    "duration": 340,
    "start_time": "2022-02-06T21:04:38.805Z"
   },
   {
    "duration": 264,
    "start_time": "2022-02-06T21:04:39.148Z"
   },
   {
    "duration": 31,
    "start_time": "2022-02-06T21:04:39.414Z"
   },
   {
    "duration": 672,
    "start_time": "2022-02-06T21:04:39.449Z"
   },
   {
    "duration": 646,
    "start_time": "2022-02-06T21:04:40.124Z"
   },
   {
    "duration": 670,
    "start_time": "2022-02-06T21:04:40.773Z"
   },
   {
    "duration": 805,
    "start_time": "2022-02-06T21:04:41.446Z"
   },
   {
    "duration": 717,
    "start_time": "2022-02-06T21:04:42.254Z"
   },
   {
    "duration": 658,
    "start_time": "2022-02-06T21:04:42.974Z"
   },
   {
    "duration": 229,
    "start_time": "2022-02-06T21:04:43.634Z"
   },
   {
    "duration": 244,
    "start_time": "2022-02-06T21:04:43.866Z"
   },
   {
    "duration": 235,
    "start_time": "2022-02-06T21:04:44.113Z"
   },
   {
    "duration": 11,
    "start_time": "2022-02-06T21:04:44.351Z"
   },
   {
    "duration": 28,
    "start_time": "2022-02-06T21:04:44.365Z"
   },
   {
    "duration": 439,
    "start_time": "2022-02-06T21:04:44.396Z"
   },
   {
    "duration": 15,
    "start_time": "2022-02-06T21:04:44.838Z"
   },
   {
    "duration": 2414,
    "start_time": "2022-02-06T21:04:44.855Z"
   },
   {
    "duration": 389,
    "start_time": "2022-02-06T21:04:47.271Z"
   },
   {
    "duration": 417,
    "start_time": "2022-02-06T21:04:47.663Z"
   },
   {
    "duration": 417,
    "start_time": "2022-02-06T21:04:48.083Z"
   },
   {
    "duration": 445,
    "start_time": "2022-02-06T21:04:48.503Z"
   },
   {
    "duration": 518,
    "start_time": "2022-02-06T21:04:48.955Z"
   },
   {
    "duration": 425,
    "start_time": "2022-02-06T21:04:49.476Z"
   },
   {
    "duration": 228,
    "start_time": "2022-02-06T21:04:49.904Z"
   },
   {
    "duration": 238,
    "start_time": "2022-02-06T21:04:50.135Z"
   },
   {
    "duration": 251,
    "start_time": "2022-02-06T21:04:50.375Z"
   },
   {
    "duration": 3159,
    "start_time": "2022-02-06T21:07:47.858Z"
   },
   {
    "duration": 861,
    "start_time": "2022-02-07T16:43:43.808Z"
   },
   {
    "duration": 225,
    "start_time": "2022-02-07T16:43:51.569Z"
   },
   {
    "duration": 165,
    "start_time": "2022-02-07T16:45:06.807Z"
   },
   {
    "duration": 415,
    "start_time": "2022-02-07T16:51:46.788Z"
   },
   {
    "duration": 436,
    "start_time": "2022-02-07T19:28:24.450Z"
   },
   {
    "duration": 344,
    "start_time": "2022-02-07T19:33:12.240Z"
   },
   {
    "duration": 936,
    "start_time": "2022-02-07T19:49:31.567Z"
   },
   {
    "duration": 524,
    "start_time": "2022-02-07T19:49:32.506Z"
   },
   {
    "duration": -537,
    "start_time": "2022-02-07T19:49:33.571Z"
   },
   {
    "duration": -540,
    "start_time": "2022-02-07T19:49:33.576Z"
   },
   {
    "duration": -547,
    "start_time": "2022-02-07T19:49:33.585Z"
   },
   {
    "duration": -549,
    "start_time": "2022-02-07T19:49:33.588Z"
   },
   {
    "duration": -551,
    "start_time": "2022-02-07T19:49:33.592Z"
   },
   {
    "duration": -553,
    "start_time": "2022-02-07T19:49:33.595Z"
   },
   {
    "duration": -555,
    "start_time": "2022-02-07T19:49:33.599Z"
   },
   {
    "duration": -557,
    "start_time": "2022-02-07T19:49:33.602Z"
   },
   {
    "duration": -560,
    "start_time": "2022-02-07T19:49:33.607Z"
   },
   {
    "duration": -562,
    "start_time": "2022-02-07T19:49:33.611Z"
   },
   {
    "duration": -565,
    "start_time": "2022-02-07T19:49:33.615Z"
   },
   {
    "duration": -566,
    "start_time": "2022-02-07T19:49:33.618Z"
   },
   {
    "duration": -570,
    "start_time": "2022-02-07T19:49:33.623Z"
   },
   {
    "duration": -572,
    "start_time": "2022-02-07T19:49:33.627Z"
   },
   {
    "duration": -574,
    "start_time": "2022-02-07T19:49:33.630Z"
   },
   {
    "duration": -583,
    "start_time": "2022-02-07T19:49:33.641Z"
   },
   {
    "duration": -586,
    "start_time": "2022-02-07T19:49:33.645Z"
   },
   {
    "duration": -588,
    "start_time": "2022-02-07T19:49:33.649Z"
   },
   {
    "duration": -589,
    "start_time": "2022-02-07T19:49:33.652Z"
   },
   {
    "duration": -591,
    "start_time": "2022-02-07T19:49:33.655Z"
   },
   {
    "duration": -593,
    "start_time": "2022-02-07T19:49:33.658Z"
   },
   {
    "duration": -594,
    "start_time": "2022-02-07T19:49:33.661Z"
   },
   {
    "duration": -597,
    "start_time": "2022-02-07T19:49:33.665Z"
   },
   {
    "duration": -598,
    "start_time": "2022-02-07T19:49:33.668Z"
   },
   {
    "duration": -550,
    "start_time": "2022-02-07T19:49:33.673Z"
   },
   {
    "duration": -551,
    "start_time": "2022-02-07T19:49:33.676Z"
   },
   {
    "duration": -557,
    "start_time": "2022-02-07T19:49:33.683Z"
   },
   {
    "duration": -558,
    "start_time": "2022-02-07T19:49:33.686Z"
   },
   {
    "duration": -560,
    "start_time": "2022-02-07T19:49:33.690Z"
   },
   {
    "duration": 1003,
    "start_time": "2022-02-07T19:50:17.494Z"
   },
   {
    "duration": 531,
    "start_time": "2022-02-07T19:50:18.499Z"
   },
   {
    "duration": -510,
    "start_time": "2022-02-07T19:50:19.544Z"
   },
   {
    "duration": -514,
    "start_time": "2022-02-07T19:50:19.549Z"
   },
   {
    "duration": -517,
    "start_time": "2022-02-07T19:50:19.553Z"
   },
   {
    "duration": -519,
    "start_time": "2022-02-07T19:50:19.557Z"
   },
   {
    "duration": -528,
    "start_time": "2022-02-07T19:50:19.567Z"
   },
   {
    "duration": -530,
    "start_time": "2022-02-07T19:50:19.570Z"
   },
   {
    "duration": -533,
    "start_time": "2022-02-07T19:50:19.575Z"
   },
   {
    "duration": -535,
    "start_time": "2022-02-07T19:50:19.578Z"
   },
   {
    "duration": -538,
    "start_time": "2022-02-07T19:50:19.583Z"
   },
   {
    "duration": -540,
    "start_time": "2022-02-07T19:50:19.586Z"
   },
   {
    "duration": -544,
    "start_time": "2022-02-07T19:50:19.591Z"
   },
   {
    "duration": -545,
    "start_time": "2022-02-07T19:50:19.594Z"
   },
   {
    "duration": -547,
    "start_time": "2022-02-07T19:50:19.597Z"
   },
   {
    "duration": -549,
    "start_time": "2022-02-07T19:50:19.601Z"
   },
   {
    "duration": -551,
    "start_time": "2022-02-07T19:50:19.604Z"
   },
   {
    "duration": -553,
    "start_time": "2022-02-07T19:50:19.607Z"
   },
   {
    "duration": -562,
    "start_time": "2022-02-07T19:50:19.618Z"
   },
   {
    "duration": -563,
    "start_time": "2022-02-07T19:50:19.620Z"
   },
   {
    "duration": -565,
    "start_time": "2022-02-07T19:50:19.624Z"
   },
   {
    "duration": -566,
    "start_time": "2022-02-07T19:50:19.626Z"
   },
   {
    "duration": -569,
    "start_time": "2022-02-07T19:50:19.630Z"
   },
   {
    "duration": -570,
    "start_time": "2022-02-07T19:50:19.633Z"
   },
   {
    "duration": -572,
    "start_time": "2022-02-07T19:50:19.636Z"
   },
   {
    "duration": -574,
    "start_time": "2022-02-07T19:50:19.640Z"
   },
   {
    "duration": -577,
    "start_time": "2022-02-07T19:50:19.644Z"
   },
   {
    "duration": -579,
    "start_time": "2022-02-07T19:50:19.647Z"
   },
   {
    "duration": -580,
    "start_time": "2022-02-07T19:50:19.650Z"
   },
   {
    "duration": -530,
    "start_time": "2022-02-07T19:50:19.653Z"
   },
   {
    "duration": -532,
    "start_time": "2022-02-07T19:50:19.657Z"
   },
   {
    "duration": 1045,
    "start_time": "2022-02-07T19:50:53.920Z"
   },
   {
    "duration": 8612,
    "start_time": "2022-02-07T19:50:54.967Z"
   },
   {
    "duration": 347,
    "start_time": "2022-02-07T19:51:03.582Z"
   },
   {
    "duration": 253,
    "start_time": "2022-02-07T19:51:03.932Z"
   },
   {
    "duration": 36,
    "start_time": "2022-02-07T19:51:04.187Z"
   },
   {
    "duration": 471,
    "start_time": "2022-02-07T19:51:04.226Z"
   },
   {
    "duration": 796,
    "start_time": "2022-02-07T19:51:04.700Z"
   },
   {
    "duration": 642,
    "start_time": "2022-02-07T19:51:05.498Z"
   },
   {
    "duration": 702,
    "start_time": "2022-02-07T19:51:06.143Z"
   },
   {
    "duration": 704,
    "start_time": "2022-02-07T19:51:06.848Z"
   },
   {
    "duration": 675,
    "start_time": "2022-02-07T19:51:07.554Z"
   },
   {
    "duration": 699,
    "start_time": "2022-02-07T19:51:08.232Z"
   },
   {
    "duration": 237,
    "start_time": "2022-02-07T19:51:08.934Z"
   },
   {
    "duration": 240,
    "start_time": "2022-02-07T19:51:09.174Z"
   },
   {
    "duration": 234,
    "start_time": "2022-02-07T19:51:09.416Z"
   },
   {
    "duration": 12,
    "start_time": "2022-02-07T19:51:09.653Z"
   },
   {
    "duration": 209,
    "start_time": "2022-02-07T19:51:09.668Z"
   },
   {
    "duration": 528,
    "start_time": "2022-02-07T19:51:09.880Z"
   },
   {
    "duration": 26,
    "start_time": "2022-02-07T19:51:10.412Z"
   },
   {
    "duration": 3869,
    "start_time": "2022-02-07T19:51:10.440Z"
   },
   {
    "duration": 448,
    "start_time": "2022-02-07T19:51:14.312Z"
   },
   {
    "duration": 452,
    "start_time": "2022-02-07T19:51:14.763Z"
   },
   {
    "duration": 439,
    "start_time": "2022-02-07T19:51:15.217Z"
   },
   {
    "duration": 437,
    "start_time": "2022-02-07T19:51:15.658Z"
   },
   {
    "duration": 472,
    "start_time": "2022-02-07T19:51:16.098Z"
   },
   {
    "duration": 466,
    "start_time": "2022-02-07T19:51:16.573Z"
   },
   {
    "duration": 253,
    "start_time": "2022-02-07T19:51:17.045Z"
   },
   {
    "duration": 450,
    "start_time": "2022-02-07T19:51:17.301Z"
   },
   {
    "duration": 272,
    "start_time": "2022-02-07T19:51:17.755Z"
   },
   {
    "duration": 308,
    "start_time": "2022-02-07T20:06:30.298Z"
   },
   {
    "duration": 702,
    "start_time": "2022-02-07T20:15:21.878Z"
   },
   {
    "duration": 836,
    "start_time": "2022-02-07T20:16:07.950Z"
   },
   {
    "duration": 965,
    "start_time": "2022-02-07T20:16:44.625Z"
   },
   {
    "duration": 689,
    "start_time": "2022-02-07T20:16:51.060Z"
   },
   {
    "duration": 633,
    "start_time": "2022-02-07T20:32:22.222Z"
   },
   {
    "duration": 2590,
    "start_time": "2022-02-07T20:54:30.669Z"
   },
   {
    "duration": 109,
    "start_time": "2022-02-07T21:38:01.966Z"
   },
   {
    "duration": 1055,
    "start_time": "2022-02-07T22:07:33.119Z"
   },
   {
    "duration": 512,
    "start_time": "2022-02-07T22:07:34.176Z"
   },
   {
    "duration": -716,
    "start_time": "2022-02-07T22:07:35.409Z"
   },
   {
    "duration": -783,
    "start_time": "2022-02-07T22:07:35.478Z"
   },
   {
    "duration": -785,
    "start_time": "2022-02-07T22:07:35.481Z"
   },
   {
    "duration": -786,
    "start_time": "2022-02-07T22:07:35.484Z"
   },
   {
    "duration": -788,
    "start_time": "2022-02-07T22:07:35.487Z"
   },
   {
    "duration": -789,
    "start_time": "2022-02-07T22:07:35.490Z"
   },
   {
    "duration": -791,
    "start_time": "2022-02-07T22:07:35.493Z"
   },
   {
    "duration": -793,
    "start_time": "2022-02-07T22:07:35.496Z"
   },
   {
    "duration": -795,
    "start_time": "2022-02-07T22:07:35.500Z"
   },
   {
    "duration": -798,
    "start_time": "2022-02-07T22:07:35.504Z"
   },
   {
    "duration": -800,
    "start_time": "2022-02-07T22:07:35.507Z"
   },
   {
    "duration": -802,
    "start_time": "2022-02-07T22:07:35.511Z"
   },
   {
    "duration": -805,
    "start_time": "2022-02-07T22:07:35.515Z"
   },
   {
    "duration": -806,
    "start_time": "2022-02-07T22:07:35.518Z"
   },
   {
    "duration": -808,
    "start_time": "2022-02-07T22:07:35.521Z"
   },
   {
    "duration": -810,
    "start_time": "2022-02-07T22:07:35.524Z"
   },
   {
    "duration": -811,
    "start_time": "2022-02-07T22:07:35.527Z"
   },
   {
    "duration": -821,
    "start_time": "2022-02-07T22:07:35.538Z"
   },
   {
    "duration": -823,
    "start_time": "2022-02-07T22:07:35.541Z"
   },
   {
    "duration": -825,
    "start_time": "2022-02-07T22:07:35.545Z"
   },
   {
    "duration": -828,
    "start_time": "2022-02-07T22:07:35.549Z"
   },
   {
    "duration": -832,
    "start_time": "2022-02-07T22:07:35.555Z"
   },
   {
    "duration": -833,
    "start_time": "2022-02-07T22:07:35.557Z"
   },
   {
    "duration": -835,
    "start_time": "2022-02-07T22:07:35.560Z"
   },
   {
    "duration": -836,
    "start_time": "2022-02-07T22:07:35.563Z"
   },
   {
    "duration": -839,
    "start_time": "2022-02-07T22:07:35.567Z"
   },
   {
    "duration": -841,
    "start_time": "2022-02-07T22:07:35.570Z"
   },
   {
    "duration": -842,
    "start_time": "2022-02-07T22:07:35.573Z"
   },
   {
    "duration": -843,
    "start_time": "2022-02-07T22:07:35.576Z"
   },
   {
    "duration": 423,
    "start_time": "2022-02-07T22:08:57.900Z"
   },
   {
    "duration": 1045,
    "start_time": "2022-02-07T22:09:21.043Z"
   },
   {
    "duration": 581,
    "start_time": "2022-02-07T22:09:22.090Z"
   },
   {
    "duration": -579,
    "start_time": "2022-02-07T22:09:23.255Z"
   },
   {
    "duration": -589,
    "start_time": "2022-02-07T22:09:23.267Z"
   },
   {
    "duration": -595,
    "start_time": "2022-02-07T22:09:23.275Z"
   },
   {
    "duration": -597,
    "start_time": "2022-02-07T22:09:23.279Z"
   },
   {
    "duration": -601,
    "start_time": "2022-02-07T22:09:23.285Z"
   },
   {
    "duration": -602,
    "start_time": "2022-02-07T22:09:23.288Z"
   },
   {
    "duration": -605,
    "start_time": "2022-02-07T22:09:23.293Z"
   },
   {
    "duration": -606,
    "start_time": "2022-02-07T22:09:23.296Z"
   },
   {
    "duration": -616,
    "start_time": "2022-02-07T22:09:23.309Z"
   },
   {
    "duration": -620,
    "start_time": "2022-02-07T22:09:23.315Z"
   },
   {
    "duration": -623,
    "start_time": "2022-02-07T22:09:23.320Z"
   },
   {
    "duration": -628,
    "start_time": "2022-02-07T22:09:23.327Z"
   },
   {
    "duration": -631,
    "start_time": "2022-02-07T22:09:23.332Z"
   },
   {
    "duration": -632,
    "start_time": "2022-02-07T22:09:23.335Z"
   },
   {
    "duration": -634,
    "start_time": "2022-02-07T22:09:23.339Z"
   },
   {
    "duration": -636,
    "start_time": "2022-02-07T22:09:23.343Z"
   },
   {
    "duration": -637,
    "start_time": "2022-02-07T22:09:23.346Z"
   },
   {
    "duration": -638,
    "start_time": "2022-02-07T22:09:23.350Z"
   },
   {
    "duration": -637,
    "start_time": "2022-02-07T22:09:23.360Z"
   },
   {
    "duration": -638,
    "start_time": "2022-02-07T22:09:23.363Z"
   },
   {
    "duration": -640,
    "start_time": "2022-02-07T22:09:23.367Z"
   },
   {
    "duration": -640,
    "start_time": "2022-02-07T22:09:23.370Z"
   },
   {
    "duration": -641,
    "start_time": "2022-02-07T22:09:23.373Z"
   },
   {
    "duration": -643,
    "start_time": "2022-02-07T22:09:23.377Z"
   },
   {
    "duration": -644,
    "start_time": "2022-02-07T22:09:23.380Z"
   },
   {
    "duration": -645,
    "start_time": "2022-02-07T22:09:23.384Z"
   },
   {
    "duration": -647,
    "start_time": "2022-02-07T22:09:23.388Z"
   },
   {
    "duration": -649,
    "start_time": "2022-02-07T22:09:23.392Z"
   },
   {
    "duration": -650,
    "start_time": "2022-02-07T22:09:23.395Z"
   },
   {
    "duration": 399,
    "start_time": "2022-02-07T22:11:37.198Z"
   },
   {
    "duration": 153,
    "start_time": "2022-02-07T22:13:32.854Z"
   },
   {
    "duration": 984,
    "start_time": "2022-02-07T22:13:46.258Z"
   },
   {
    "duration": 181,
    "start_time": "2022-02-07T22:13:47.245Z"
   },
   {
    "duration": 185,
    "start_time": "2022-02-07T22:13:47.429Z"
   },
   {
    "duration": -622,
    "start_time": "2022-02-07T22:13:48.240Z"
   },
   {
    "duration": -624,
    "start_time": "2022-02-07T22:13:48.243Z"
   },
   {
    "duration": -625,
    "start_time": "2022-02-07T22:13:48.246Z"
   },
   {
    "duration": -627,
    "start_time": "2022-02-07T22:13:48.250Z"
   },
   {
    "duration": -628,
    "start_time": "2022-02-07T22:13:48.252Z"
   },
   {
    "duration": -633,
    "start_time": "2022-02-07T22:13:48.258Z"
   },
   {
    "duration": -634,
    "start_time": "2022-02-07T22:13:48.261Z"
   },
   {
    "duration": -637,
    "start_time": "2022-02-07T22:13:48.265Z"
   },
   {
    "duration": -639,
    "start_time": "2022-02-07T22:13:48.268Z"
   },
   {
    "duration": -641,
    "start_time": "2022-02-07T22:13:48.272Z"
   },
   {
    "duration": -643,
    "start_time": "2022-02-07T22:13:48.275Z"
   },
   {
    "duration": -645,
    "start_time": "2022-02-07T22:13:48.279Z"
   },
   {
    "duration": -647,
    "start_time": "2022-02-07T22:13:48.282Z"
   },
   {
    "duration": -648,
    "start_time": "2022-02-07T22:13:48.285Z"
   },
   {
    "duration": -650,
    "start_time": "2022-02-07T22:13:48.288Z"
   },
   {
    "duration": -652,
    "start_time": "2022-02-07T22:13:48.291Z"
   },
   {
    "duration": -662,
    "start_time": "2022-02-07T22:13:48.302Z"
   },
   {
    "duration": -667,
    "start_time": "2022-02-07T22:13:48.309Z"
   },
   {
    "duration": -669,
    "start_time": "2022-02-07T22:13:48.312Z"
   },
   {
    "duration": -671,
    "start_time": "2022-02-07T22:13:48.315Z"
   },
   {
    "duration": -672,
    "start_time": "2022-02-07T22:13:48.318Z"
   },
   {
    "duration": -675,
    "start_time": "2022-02-07T22:13:48.322Z"
   },
   {
    "duration": -684,
    "start_time": "2022-02-07T22:13:48.332Z"
   },
   {
    "duration": -687,
    "start_time": "2022-02-07T22:13:48.337Z"
   },
   {
    "duration": -690,
    "start_time": "2022-02-07T22:13:48.341Z"
   },
   {
    "duration": -692,
    "start_time": "2022-02-07T22:13:48.344Z"
   },
   {
    "duration": -693,
    "start_time": "2022-02-07T22:13:48.347Z"
   },
   {
    "duration": -696,
    "start_time": "2022-02-07T22:13:48.351Z"
   },
   {
    "duration": -699,
    "start_time": "2022-02-07T22:13:48.355Z"
   },
   {
    "duration": 1010,
    "start_time": "2022-02-07T22:14:11.958Z"
   },
   {
    "duration": 236,
    "start_time": "2022-02-07T22:14:12.971Z"
   },
   {
    "duration": 1100,
    "start_time": "2022-02-07T22:14:13.210Z"
   },
   {
    "duration": 8862,
    "start_time": "2022-02-07T22:14:14.313Z"
   },
   {
    "duration": 335,
    "start_time": "2022-02-07T22:14:23.178Z"
   },
   {
    "duration": 247,
    "start_time": "2022-02-07T22:14:23.515Z"
   },
   {
    "duration": 22,
    "start_time": "2022-02-07T22:14:23.765Z"
   },
   {
    "duration": 388,
    "start_time": "2022-02-07T22:14:23.790Z"
   },
   {
    "duration": 632,
    "start_time": "2022-02-07T22:14:24.181Z"
   },
   {
    "duration": 646,
    "start_time": "2022-02-07T22:14:24.824Z"
   },
   {
    "duration": 653,
    "start_time": "2022-02-07T22:14:25.473Z"
   },
   {
    "duration": 702,
    "start_time": "2022-02-07T22:14:26.128Z"
   },
   {
    "duration": 668,
    "start_time": "2022-02-07T22:14:26.833Z"
   },
   {
    "duration": 630,
    "start_time": "2022-02-07T22:14:27.503Z"
   },
   {
    "duration": 280,
    "start_time": "2022-02-07T22:14:28.136Z"
   },
   {
    "duration": 233,
    "start_time": "2022-02-07T22:14:28.419Z"
   },
   {
    "duration": 226,
    "start_time": "2022-02-07T22:14:28.654Z"
   },
   {
    "duration": 11,
    "start_time": "2022-02-07T22:14:28.883Z"
   },
   {
    "duration": 226,
    "start_time": "2022-02-07T22:14:28.897Z"
   },
   {
    "duration": 580,
    "start_time": "2022-02-07T22:14:29.126Z"
   },
   {
    "duration": 22,
    "start_time": "2022-02-07T22:14:29.709Z"
   },
   {
    "duration": 2644,
    "start_time": "2022-02-07T22:14:29.734Z"
   },
   {
    "duration": 463,
    "start_time": "2022-02-07T22:14:32.383Z"
   },
   {
    "duration": 426,
    "start_time": "2022-02-07T22:14:32.848Z"
   },
   {
    "duration": 447,
    "start_time": "2022-02-07T22:14:33.276Z"
   },
   {
    "duration": 419,
    "start_time": "2022-02-07T22:14:33.726Z"
   },
   {
    "duration": 390,
    "start_time": "2022-02-07T22:14:34.147Z"
   },
   {
    "duration": 416,
    "start_time": "2022-02-07T22:14:34.540Z"
   },
   {
    "duration": 233,
    "start_time": "2022-02-07T22:14:34.959Z"
   },
   {
    "duration": 242,
    "start_time": "2022-02-07T22:14:35.194Z"
   },
   {
    "duration": 371,
    "start_time": "2022-02-07T22:14:35.440Z"
   },
   {
    "duration": 799,
    "start_time": "2022-02-13T12:13:10.812Z"
   },
   {
    "duration": 125,
    "start_time": "2022-02-13T12:13:11.613Z"
   },
   {
    "duration": 696,
    "start_time": "2022-02-13T12:13:11.739Z"
   },
   {
    "duration": 7065,
    "start_time": "2022-02-13T12:13:14.659Z"
   },
   {
    "duration": 7317,
    "start_time": "2022-02-13T12:13:38.195Z"
   },
   {
    "duration": 6943,
    "start_time": "2022-02-13T12:22:26.487Z"
   },
   {
    "duration": 365,
    "start_time": "2022-02-13T12:28:26.190Z"
   },
   {
    "duration": 151,
    "start_time": "2022-02-13T12:28:29.553Z"
   },
   {
    "duration": 151,
    "start_time": "2022-02-13T12:28:29.707Z"
   },
   {
    "duration": 745,
    "start_time": "2022-02-13T12:28:29.860Z"
   },
   {
    "duration": 7095,
    "start_time": "2022-02-13T12:28:30.607Z"
   },
   {
    "duration": 264,
    "start_time": "2022-02-13T12:28:37.705Z"
   },
   {
    "duration": 191,
    "start_time": "2022-02-13T12:28:37.972Z"
   },
   {
    "duration": 13,
    "start_time": "2022-02-13T12:28:38.165Z"
   },
   {
    "duration": 183,
    "start_time": "2022-02-13T12:28:38.181Z"
   },
   {
    "duration": 528,
    "start_time": "2022-02-13T12:28:38.366Z"
   },
   {
    "duration": 80560,
    "start_time": "2022-02-13T12:28:38.896Z"
   },
   {
    "duration": 527,
    "start_time": "2022-02-13T12:29:59.458Z"
   },
   {
    "duration": 561,
    "start_time": "2022-02-13T12:29:59.987Z"
   },
   {
    "duration": 564,
    "start_time": "2022-02-13T12:30:00.550Z"
   },
   {
    "duration": 537,
    "start_time": "2022-02-13T12:30:01.116Z"
   },
   {
    "duration": 187,
    "start_time": "2022-02-13T12:30:01.656Z"
   },
   {
    "duration": 192,
    "start_time": "2022-02-13T12:30:01.846Z"
   },
   {
    "duration": 192,
    "start_time": "2022-02-13T12:30:02.041Z"
   },
   {
    "duration": 9,
    "start_time": "2022-02-13T12:30:02.235Z"
   },
   {
    "duration": 46,
    "start_time": "2022-02-13T12:30:02.246Z"
   },
   {
    "duration": 329,
    "start_time": "2022-02-13T12:30:02.294Z"
   },
   {
    "duration": 11,
    "start_time": "2022-02-13T12:30:02.625Z"
   },
   {
    "duration": 2080,
    "start_time": "2022-02-13T12:30:02.639Z"
   },
   {
    "duration": 359,
    "start_time": "2022-02-13T12:30:04.724Z"
   },
   {
    "duration": 382,
    "start_time": "2022-02-13T12:30:05.086Z"
   },
   {
    "duration": 397,
    "start_time": "2022-02-13T12:30:05.470Z"
   },
   {
    "duration": 386,
    "start_time": "2022-02-13T12:30:05.869Z"
   },
   {
    "duration": 386,
    "start_time": "2022-02-13T12:30:06.257Z"
   },
   {
    "duration": 334,
    "start_time": "2022-02-13T12:30:06.646Z"
   },
   {
    "duration": 183,
    "start_time": "2022-02-13T12:30:06.983Z"
   },
   {
    "duration": 190,
    "start_time": "2022-02-13T12:30:07.168Z"
   },
   {
    "duration": 190,
    "start_time": "2022-02-13T12:30:07.360Z"
   },
   {
    "duration": 583,
    "start_time": "2022-02-13T12:30:12.775Z"
   },
   {
    "duration": 847,
    "start_time": "2022-02-13T16:09:58.741Z"
   },
   {
    "duration": 109,
    "start_time": "2022-02-13T16:09:59.589Z"
   },
   {
    "duration": 781,
    "start_time": "2022-02-13T16:09:59.700Z"
   },
   {
    "duration": 6065,
    "start_time": "2022-02-13T16:10:00.483Z"
   },
   {
    "duration": 284,
    "start_time": "2022-02-13T16:10:06.550Z"
   },
   {
    "duration": 197,
    "start_time": "2022-02-13T16:10:06.837Z"
   },
   {
    "duration": 20,
    "start_time": "2022-02-13T16:10:07.036Z"
   },
   {
    "duration": 197,
    "start_time": "2022-02-13T16:10:07.058Z"
   },
   {
    "duration": 549,
    "start_time": "2022-02-13T16:10:07.257Z"
   },
   {
    "duration": 453,
    "start_time": "2022-02-13T16:10:07.809Z"
   },
   {
    "duration": 440,
    "start_time": "2022-02-13T16:10:08.264Z"
   },
   {
    "duration": 655,
    "start_time": "2022-02-13T16:10:08.706Z"
   },
   {
    "duration": 445,
    "start_time": "2022-02-13T16:10:09.363Z"
   },
   {
    "duration": 455,
    "start_time": "2022-02-13T16:10:09.809Z"
   },
   {
    "duration": 129,
    "start_time": "2022-02-13T16:10:10.265Z"
   },
   {
    "duration": 132,
    "start_time": "2022-02-13T16:10:10.396Z"
   },
   {
    "duration": 150,
    "start_time": "2022-02-13T16:10:10.530Z"
   },
   {
    "duration": 7,
    "start_time": "2022-02-13T16:10:10.682Z"
   },
   {
    "duration": 18,
    "start_time": "2022-02-13T16:10:10.691Z"
   },
   {
    "duration": 248,
    "start_time": "2022-02-13T16:10:10.710Z"
   },
   {
    "duration": 11,
    "start_time": "2022-02-13T16:10:10.960Z"
   },
   {
    "duration": 2244,
    "start_time": "2022-02-13T16:10:10.972Z"
   },
   {
    "duration": 390,
    "start_time": "2022-02-13T16:10:13.218Z"
   },
   {
    "duration": 377,
    "start_time": "2022-02-13T16:10:13.610Z"
   },
   {
    "duration": 374,
    "start_time": "2022-02-13T16:10:13.988Z"
   },
   {
    "duration": 316,
    "start_time": "2022-02-13T16:10:14.364Z"
   },
   {
    "duration": 327,
    "start_time": "2022-02-13T16:10:14.684Z"
   },
   {
    "duration": 367,
    "start_time": "2022-02-13T16:10:15.012Z"
   },
   {
    "duration": 140,
    "start_time": "2022-02-13T16:10:15.381Z"
   },
   {
    "duration": 156,
    "start_time": "2022-02-13T16:10:15.522Z"
   },
   {
    "duration": 141,
    "start_time": "2022-02-13T16:10:15.680Z"
   },
   {
    "duration": 773,
    "start_time": "2022-02-13T16:13:51.786Z"
   },
   {
    "duration": 106,
    "start_time": "2022-02-13T16:13:52.563Z"
   },
   {
    "duration": 613,
    "start_time": "2022-02-13T16:13:52.671Z"
   },
   {
    "duration": 5631,
    "start_time": "2022-02-13T16:13:53.286Z"
   },
   {
    "duration": 232,
    "start_time": "2022-02-13T16:13:58.927Z"
   },
   {
    "duration": 154,
    "start_time": "2022-02-13T16:13:59.161Z"
   },
   {
    "duration": 17,
    "start_time": "2022-02-13T16:13:59.318Z"
   },
   {
    "duration": 139,
    "start_time": "2022-02-13T16:13:59.337Z"
   },
   {
    "duration": 470,
    "start_time": "2022-02-13T16:13:59.478Z"
   },
   {
    "duration": 445,
    "start_time": "2022-02-13T16:13:59.950Z"
   },
   {
    "duration": 461,
    "start_time": "2022-02-13T16:14:00.397Z"
   },
   {
    "duration": 508,
    "start_time": "2022-02-13T16:14:00.860Z"
   },
   {
    "duration": 446,
    "start_time": "2022-02-13T16:14:01.370Z"
   },
   {
    "duration": 441,
    "start_time": "2022-02-13T16:14:01.818Z"
   },
   {
    "duration": 125,
    "start_time": "2022-02-13T16:14:02.261Z"
   },
   {
    "duration": 131,
    "start_time": "2022-02-13T16:14:02.388Z"
   },
   {
    "duration": 148,
    "start_time": "2022-02-13T16:14:02.520Z"
   },
   {
    "duration": 7,
    "start_time": "2022-02-13T16:14:02.670Z"
   },
   {
    "duration": 17,
    "start_time": "2022-02-13T16:14:02.678Z"
   },
   {
    "duration": 234,
    "start_time": "2022-02-13T16:14:02.697Z"
   },
   {
    "duration": 13,
    "start_time": "2022-02-13T16:14:02.933Z"
   },
   {
    "duration": 2402,
    "start_time": "2022-02-13T16:14:02.949Z"
   },
   {
    "duration": 320,
    "start_time": "2022-02-13T16:14:05.354Z"
   },
   {
    "duration": 325,
    "start_time": "2022-02-13T16:14:05.675Z"
   },
   {
    "duration": 349,
    "start_time": "2022-02-13T16:14:06.002Z"
   },
   {
    "duration": 305,
    "start_time": "2022-02-13T16:14:06.353Z"
   },
   {
    "duration": 320,
    "start_time": "2022-02-13T16:14:06.660Z"
   },
   {
    "duration": 330,
    "start_time": "2022-02-13T16:14:06.981Z"
   },
   {
    "duration": 134,
    "start_time": "2022-02-13T16:14:07.312Z"
   },
   {
    "duration": 142,
    "start_time": "2022-02-13T16:14:07.448Z"
   },
   {
    "duration": 143,
    "start_time": "2022-02-13T16:14:07.591Z"
   },
   {
    "duration": 2717,
    "start_time": "2022-02-13T16:26:42.139Z"
   },
   {
    "duration": 2538,
    "start_time": "2022-02-13T16:26:56.342Z"
   },
   {
    "duration": 2297,
    "start_time": "2022-02-13T16:27:10.350Z"
   },
   {
    "duration": 985,
    "start_time": "2022-02-13T16:32:59.890Z"
   },
   {
    "duration": 120,
    "start_time": "2022-02-13T16:33:00.876Z"
   },
   {
    "duration": 799,
    "start_time": "2022-02-13T16:33:00.998Z"
   },
   {
    "duration": 7741,
    "start_time": "2022-02-13T16:33:01.799Z"
   },
   {
    "duration": 214,
    "start_time": "2022-02-13T16:33:09.544Z"
   },
   {
    "duration": 172,
    "start_time": "2022-02-13T16:33:09.760Z"
   },
   {
    "duration": 19,
    "start_time": "2022-02-13T16:33:09.935Z"
   },
   {
    "duration": 211,
    "start_time": "2022-02-13T16:33:09.957Z"
   },
   {
    "duration": 568,
    "start_time": "2022-02-13T16:33:10.171Z"
   },
   {
    "duration": 525,
    "start_time": "2022-02-13T16:33:10.743Z"
   },
   {
    "duration": 534,
    "start_time": "2022-02-13T16:33:11.270Z"
   },
   {
    "duration": 704,
    "start_time": "2022-02-13T16:33:11.806Z"
   },
   {
    "duration": 598,
    "start_time": "2022-02-13T16:33:12.513Z"
   },
   {
    "duration": 592,
    "start_time": "2022-02-13T16:33:13.113Z"
   },
   {
    "duration": 196,
    "start_time": "2022-02-13T16:33:13.707Z"
   },
   {
    "duration": 180,
    "start_time": "2022-02-13T16:33:13.905Z"
   },
   {
    "duration": 205,
    "start_time": "2022-02-13T16:33:14.088Z"
   },
   {
    "duration": 7,
    "start_time": "2022-02-13T16:33:14.295Z"
   },
   {
    "duration": 20,
    "start_time": "2022-02-13T16:33:14.304Z"
   },
   {
    "duration": 350,
    "start_time": "2022-02-13T16:33:14.326Z"
   },
   {
    "duration": 11,
    "start_time": "2022-02-13T16:33:14.682Z"
   },
   {
    "duration": 2645,
    "start_time": "2022-02-13T16:33:14.695Z"
   },
   {
    "duration": 417,
    "start_time": "2022-02-13T16:33:17.344Z"
   },
   {
    "duration": 384,
    "start_time": "2022-02-13T16:33:17.763Z"
   },
   {
    "duration": 352,
    "start_time": "2022-02-13T16:33:18.149Z"
   },
   {
    "duration": 416,
    "start_time": "2022-02-13T16:33:18.503Z"
   },
   {
    "duration": 372,
    "start_time": "2022-02-13T16:33:18.921Z"
   },
   {
    "duration": 303,
    "start_time": "2022-02-13T16:33:19.296Z"
   },
   {
    "duration": 164,
    "start_time": "2022-02-13T16:33:19.601Z"
   },
   {
    "duration": 149,
    "start_time": "2022-02-13T16:33:19.767Z"
   },
   {
    "duration": 159,
    "start_time": "2022-02-13T16:33:19.917Z"
   }
  ],
  "kernelspec": {
   "display_name": "Python 3 (ipykernel)",
   "language": "python",
   "name": "python3"
  },
  "language_info": {
   "codemirror_mode": {
    "name": "ipython",
    "version": 3
   },
   "file_extension": ".py",
   "mimetype": "text/x-python",
   "name": "python",
   "nbconvert_exporter": "python",
   "pygments_lexer": "ipython3",
   "version": "3.9.7"
  },
  "toc": {
   "base_numbering": 1,
   "nav_menu": {},
   "number_sections": true,
   "sideBar": true,
   "skip_h1_title": true,
   "title_cell": "Содержание",
   "title_sidebar": "Contents",
   "toc_cell": true,
   "toc_position": {},
   "toc_section_display": true,
   "toc_window_display": true
  }
 },
 "nbformat": 4,
 "nbformat_minor": 2
}
